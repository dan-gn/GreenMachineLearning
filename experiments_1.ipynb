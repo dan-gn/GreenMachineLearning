{
 "cells": [
  {
   "cell_type": "code",
   "execution_count": 1,
   "metadata": {},
   "outputs": [],
   "source": [
    "# Machine Learning models\n",
    "from sklearn.linear_model import LogisticRegression\n",
    "from sklearn.svm import SVC\n",
    "from sklearn.ensemble import RandomForestClassifier, GradientBoostingClassifier \n",
    "     \n",
    "\n",
    "# Experiment library\n",
    "from experiment import Experiment"
   ]
  },
  {
   "cell_type": "code",
   "execution_count": 2,
   "metadata": {},
   "outputs": [],
   "source": [
    "# Testing dataset\n",
    "from sklearn.datasets import make_classification\n",
    "X, y = make_classification(n_samples=1000, n_features=4,\n",
    "                           n_informative=2, n_redundant=0,\n",
    "                           random_state=0, shuffle=False)"
   ]
  },
  {
   "cell_type": "code",
   "execution_count": 3,
   "metadata": {},
   "outputs": [
    {
     "name": "stdout",
     "output_type": "stream",
     "text": [
      "ML model not supported\n"
     ]
    },
    {
     "ename": "AttributeError",
     "evalue": "'NoneType' object has no attribute 'fit'",
     "output_type": "error",
     "traceback": [
      "\u001b[1;31m---------------------------------------------------------------------------\u001b[0m",
      "\u001b[1;31mAttributeError\u001b[0m                            Traceback (most recent call last)",
      "\u001b[1;32mc:\\Users\\23250023\\OneDrive - Maynooth University\\Documents\\GitHub\\GreenMachineLearning\\experiments_1.ipynb Cell 3\u001b[0m line \u001b[0;36m5\n\u001b[0;32m      <a href='vscode-notebook-cell:/c%3A/Users/23250023/OneDrive%20-%20Maynooth%20University/Documents/GitHub/GreenMachineLearning/experiments_1.ipynb#W2sZmlsZQ%3D%3D?line=0'>1</a>\u001b[0m model \u001b[39m=\u001b[39m RandomForestClassifier(max_depth\u001b[39m=\u001b[39m\u001b[39m2\u001b[39m, random_state\u001b[39m=\u001b[39m\u001b[39m0\u001b[39m)\n\u001b[0;32m      <a href='vscode-notebook-cell:/c%3A/Users/23250023/OneDrive%20-%20Maynooth%20University/Documents/GitHub/GreenMachineLearning/experiments_1.ipynb#W2sZmlsZQ%3D%3D?line=2'>3</a>\u001b[0m exp \u001b[39m=\u001b[39m Experiment(model, X, y)\n\u001b[1;32m----> <a href='vscode-notebook-cell:/c%3A/Users/23250023/OneDrive%20-%20Maynooth%20University/Documents/GitHub/GreenMachineLearning/experiments_1.ipynb#W2sZmlsZQ%3D%3D?line=4'>5</a>\u001b[0m results \u001b[39m=\u001b[39m exp\u001b[39m.\u001b[39;49mrun()\n",
      "File \u001b[1;32mc:\\Users\\23250023\\OneDrive - Maynooth University\\Documents\\GitHub\\GreenMachineLearning\\experiment.py:94\u001b[0m, in \u001b[0;36mExperiment.run\u001b[1;34m(self)\u001b[0m\n\u001b[0;32m     92\u001b[0m \u001b[39m# Train model\u001b[39;00m\n\u001b[0;32m     93\u001b[0m start \u001b[39m=\u001b[39m time\u001b[39m.\u001b[39mtime()\n\u001b[1;32m---> 94\u001b[0m \u001b[39mself\u001b[39;49m\u001b[39m.\u001b[39;49mmodel\u001b[39m.\u001b[39;49mfit(X_train_scaled, y_train)\n\u001b[0;32m     95\u001b[0m training_time \u001b[39m=\u001b[39m time\u001b[39m.\u001b[39mtime() \u001b[39m-\u001b[39m start\n\u001b[0;32m     97\u001b[0m \u001b[39m# Evaluate model\u001b[39;00m\n",
      "\u001b[1;31mAttributeError\u001b[0m: 'NoneType' object has no attribute 'fit'"
     ]
    }
   ],
   "source": [
    "model = RandomForestClassifier(max_depth=2, random_state=0)\n",
    "\n",
    "exp = Experiment(model, X, y)\n",
    "\n",
    "results = exp.run()"
   ]
  },
  {
   "cell_type": "code",
   "execution_count": 4,
   "metadata": {},
   "outputs": [
    {
     "data": {
      "text/plain": [
       "[]"
      ]
     },
     "execution_count": 4,
     "metadata": {},
     "output_type": "execute_result"
    }
   ],
   "source": [
    "exp.get_mesaure('tpr')"
   ]
  },
  {
   "cell_type": "code",
   "execution_count": 5,
   "metadata": {},
   "outputs": [
    {
     "ename": "IndexError",
     "evalue": "list index out of range",
     "output_type": "error",
     "traceback": [
      "\u001b[1;31m---------------------------------------------------------------------------\u001b[0m",
      "\u001b[1;31mIndexError\u001b[0m                                Traceback (most recent call last)",
      "\u001b[1;32mc:\\Users\\23250023\\OneDrive - Maynooth University\\Documents\\GitHub\\GreenMachineLearning\\experiments_1.ipynb Cell 5\u001b[0m line \u001b[0;36m4\n\u001b[0;32m      <a href='vscode-notebook-cell:/c%3A/Users/23250023/OneDrive%20-%20Maynooth%20University/Documents/GitHub/GreenMachineLearning/experiments_1.ipynb#W4sZmlsZQ%3D%3D?line=0'>1</a>\u001b[0m \u001b[39mimport\u001b[39;00m \u001b[39mmatplotlib\u001b[39;00m\u001b[39m.\u001b[39;00m\u001b[39mpyplot\u001b[39;00m \u001b[39mas\u001b[39;00m \u001b[39mplt\u001b[39;00m\n\u001b[0;32m      <a href='vscode-notebook-cell:/c%3A/Users/23250023/OneDrive%20-%20Maynooth%20University/Documents/GitHub/GreenMachineLearning/experiments_1.ipynb#W4sZmlsZQ%3D%3D?line=2'>3</a>\u001b[0m \u001b[39mfor\u001b[39;00m x \u001b[39min\u001b[39;00m \u001b[39mrange\u001b[39m(\u001b[39m20\u001b[39m):\n\u001b[1;32m----> <a href='vscode-notebook-cell:/c%3A/Users/23250023/OneDrive%20-%20Maynooth%20University/Documents/GitHub/GreenMachineLearning/experiments_1.ipynb#W4sZmlsZQ%3D%3D?line=3'>4</a>\u001b[0m     plt\u001b[39m.\u001b[39mplot(exp\u001b[39m.\u001b[39;49mget_mesaure(\u001b[39m'\u001b[39;49m\u001b[39mfpr\u001b[39;49m\u001b[39m'\u001b[39;49m)[x],exp\u001b[39m.\u001b[39mget_mesaure(\u001b[39m'\u001b[39m\u001b[39mtpr\u001b[39m\u001b[39m'\u001b[39m)[x])\n\u001b[0;32m      <a href='vscode-notebook-cell:/c%3A/Users/23250023/OneDrive%20-%20Maynooth%20University/Documents/GitHub/GreenMachineLearning/experiments_1.ipynb#W4sZmlsZQ%3D%3D?line=5'>6</a>\u001b[0m plt\u001b[39m.\u001b[39mshow()\n",
      "\u001b[1;31mIndexError\u001b[0m: list index out of range"
     ]
    }
   ],
   "source": [
    "import matplotlib.pyplot as plt\n",
    "\n",
    "for x in range(20):\n",
    "    plt.plot(exp.get_mesaure('fpr')[x],exp.get_mesaure('tpr')[x])\n",
    "\n",
    "plt.show()"
   ]
  },
  {
   "cell_type": "code",
   "execution_count": null,
   "metadata": {},
   "outputs": [],
   "source": []
  }
 ],
 "metadata": {
  "kernelspec": {
   "display_name": "base",
   "language": "python",
   "name": "python3"
  },
  "language_info": {
   "codemirror_mode": {
    "name": "ipython",
    "version": 3
   },
   "file_extension": ".py",
   "mimetype": "text/x-python",
   "name": "python",
   "nbconvert_exporter": "python",
   "pygments_lexer": "ipython3",
   "version": "3.11.5"
  },
  "orig_nbformat": 4
 },
 "nbformat": 4,
 "nbformat_minor": 2
}
