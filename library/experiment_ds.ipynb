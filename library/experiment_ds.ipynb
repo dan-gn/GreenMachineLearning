{
 "cells": [
  {
   "cell_type": "code",
   "execution_count": 48,
   "metadata": {},
   "outputs": [],
   "source": [
    "import pandas as pd"
   ]
  },
  {
   "cell_type": "code",
   "execution_count": 62,
   "metadata": {},
   "outputs": [],
   "source": [
    "class Dataset:\n",
    "\n",
    "\tdef __init__(self, path) -> None:\n",
    "\t\tself.filename = path\n",
    "\t\tself.read_dataset()\n",
    "\t\tself.clean_dataset()\n",
    "\n",
    "\tdef read_dataset(self):\n",
    "\t\tself.df = pd.read_csv(self.filename)\n",
    "\n",
    "\tdef clean_dataset(self):\n",
    "\t\tself.df = self.df.dropna()\n",
    "\n",
    "\tdef get_dataframe(self):\n",
    "\t\treturn self.df\n",
    "\t\n",
    "\tdef get_subsampled_dataframe(self, frac):\n",
    "\t\treturn self.df.groupby('Label', group_keys=False).apply(lambda x: x.sample(frac=frac, random_state=0))\n",
    "\t\n",
    "\tdef describe(self, label):\n",
    "\t\tprint(f'Shape: {self.df.shape}')\n",
    "\t\tn_instances = self.df.shape[0]\n",
    "\t\tcount1 = self.df[label].sum()\n",
    "\t\tcount0 = n_instances - count1\n",
    "\t\tprint(f\"Class proportion: {count0/n_instances:.2f} / {count1/n_instances:.2f}\")\n",
    "\n",
    "\t"
   ]
  },
  {
   "cell_type": "markdown",
   "metadata": {},
   "source": [
    "# Dataset 1\n",
    "(Small instances / Small features)"
   ]
  },
  {
   "cell_type": "code",
   "execution_count": 71,
   "metadata": {},
   "outputs": [
    {
     "name": "stdout",
     "output_type": "stream",
     "text": [
      "Shape: (839, 24)\n",
      "Class proportion: 0.58 / 0.42\n"
     ]
    }
   ],
   "source": [
    "# Glioma Grading Clinical and Mutation Features\n",
    "ds_glicoma = Dataset('datasets/TCGA_InfoWithGrade.csv')\n",
    "df_glicoma = ds_glicoma.get_dataframe()\n",
    "ds_glicoma.describe('Grade')\n"
   ]
  },
  {
   "cell_type": "markdown",
   "metadata": {},
   "source": [
    "# Dataset 5 \n",
    "(Large Instances/Large Features)"
   ]
  },
  {
   "cell_type": "code",
   "execution_count": 68,
   "metadata": {},
   "outputs": [
    {
     "name": "stdout",
     "output_type": "stream",
     "text": [
      "Shape: (4464, 242)\n",
      "Class proportion: 0.20 / 0.80\n"
     ]
    }
   ],
   "source": [
    "# TUNADROMD (Malware)\n",
    "ds_malware = Dataset(path = 'datasets/TUANDROMD.csv')\n",
    "df_malware = ds_malware.get_dataframe()\n",
    "ds_malware.describe('Label')"
   ]
  }
 ],
 "metadata": {
  "kernelspec": {
   "display_name": "base",
   "language": "python",
   "name": "python3"
  },
  "language_info": {
   "codemirror_mode": {
    "name": "ipython",
    "version": 3
   },
   "file_extension": ".py",
   "mimetype": "text/x-python",
   "name": "python",
   "nbconvert_exporter": "python",
   "pygments_lexer": "ipython3",
   "version": "3.9.12"
  },
  "orig_nbformat": 4
 },
 "nbformat": 4,
 "nbformat_minor": 2
}
