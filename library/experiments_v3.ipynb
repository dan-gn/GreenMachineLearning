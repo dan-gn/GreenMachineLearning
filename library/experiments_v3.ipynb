{
 "cells": [
  {
   "cell_type": "markdown",
   "metadata": {},
   "source": [
    "# File to run all experiments "
   ]
  },
  {
   "cell_type": "markdown",
   "metadata": {},
   "source": [
    "Libraries"
   ]
  },
  {
   "cell_type": "code",
   "execution_count": 1,
   "metadata": {},
   "outputs": [],
   "source": [
    "import numpy as np\n",
    "from ucimlrepo import fetch_ucirepo \n",
    "from experiment import Experiment\n",
    "\n",
    "import warnings\n",
    "warnings.simplefilter(action='ignore', category=FutureWarning)\n",
    "warnings.simplefilter(action='ignore', category=UserWarning)\n"
   ]
  },
  {
   "cell_type": "markdown",
   "metadata": {},
   "source": [
    "Datasets"
   ]
  },
  {
   "cell_type": "code",
   "execution_count": 2,
   "metadata": {},
   "outputs": [],
   "source": [
    "# Datasets\n",
    "dataset = {}\n",
    "\n",
    "# AIDS Clinical trials group study\n",
    "aids_clinical_trials_group_study_175 = fetch_ucirepo(id=890) \n",
    "X = aids_clinical_trials_group_study_175.data.features.to_numpy() \n",
    "y = aids_clinical_trials_group_study_175.data.targets.to_numpy()\n",
    "dataset['aids'] = {'X': X, 'y': y}\n",
    "\n",
    "# Studnets dropout and academic success\n",
    "predict_students_dropout_and_academic_success = fetch_ucirepo(id=697) \n",
    "X = predict_students_dropout_and_academic_success.data.features.to_numpy() \n",
    "y = predict_students_dropout_and_academic_success.data.targets.to_numpy()\n",
    "y = np.array([0 if yi == 'Dropout' else 1 for yi in y])\n",
    "y = np.expand_dims(y, axis=1)  \n",
    "dataset['students'] = {'X': X, 'y': y}\n",
    "\n",
    "# Diabetes health indicators\n",
    "cdc_diabetes_health_indicators = fetch_ucirepo(id=891) \n",
    "X = cdc_diabetes_health_indicators.data.features.to_numpy()\n",
    "y = cdc_diabetes_health_indicators.data.targets.to_numpy() \n",
    "dataset['diabetes'] = {'X': X, 'y': y}"
   ]
  },
  {
   "cell_type": "markdown",
   "metadata": {},
   "source": [
    "Machine learning models and other experiment setup"
   ]
  },
  {
   "cell_type": "code",
   "execution_count": 3,
   "metadata": {},
   "outputs": [],
   "source": [
    "# Machine Learning models\n",
    "models = ['LogisticRegression', 'SVC', 'RandomForestClassifier', 'GradientBoostingClassifier','DeepNeuralNetwork']\n",
    "\n",
    "# Experiment options\n",
    "subsampling_options = ['False', 'True']\n",
    "feature_reduction_options = ['False', 'True']"
   ]
  },
  {
   "cell_type": "code",
   "execution_count": 4,
   "metadata": {},
   "outputs": [],
   "source": [
    "np.random.seed(0)"
   ]
  },
  {
   "cell_type": "markdown",
   "metadata": {},
   "source": [
    "Execute experiment"
   ]
  },
  {
   "cell_type": "code",
   "execution_count": 5,
   "metadata": {},
   "outputs": [
    {
     "name": "stdout",
     "output_type": "stream",
     "text": [
      "aids, LogisticRegression, False, False, 0.8204795752709402\n",
      "aids, LogisticRegression, False, True, 0.8181442235970339\n",
      "aids, LogisticRegression, True, False, 0.8188451581764731\n",
      "aids, LogisticRegression, True, True, 0.8188473520249222\n",
      "aids, SVC, False, False, 0.8352134614540828\n",
      "aids, SVC, False, True, 0.8305438550304945\n",
      "aids, SVC, True, False, 0.8218946075205125\n",
      "aids, SVC, True, True, 0.8298352419814841\n",
      "aids, RandomForestClassifier, False, False, 0.8370738449387914\n",
      "aids, RandomForestClassifier, False, True, 0.8284344697468299\n",
      "aids, RandomForestClassifier, True, False, 0.8300754683866438\n",
      "aids, RandomForestClassifier, True, True, 0.8307709183449609\n",
      "aids, GradientBoostingClassifier, False, False, 0.8246851827475759\n",
      "aids, GradientBoostingClassifier, False, True, 0.8221227677592031\n",
      "aids, GradientBoostingClassifier, True, False, 0.831941336492475\n",
      "aids, GradientBoostingClassifier, True, True, 0.8368478785485498\n",
      "aids, DeepNeuralNetwork, False, False, 0.777937563073143\n",
      "aids, DeepNeuralNetwork, False, True, 0.7823888815760608\n",
      "aids, DeepNeuralNetwork, True, False, 0.7800381729630118\n",
      "aids, DeepNeuralNetwork, True, True, 0.7760640164977404\n",
      "students, LogisticRegression, False, False, 0.6773301124582494\n",
      "students, LogisticRegression, False, True, 0.6787973810812742\n",
      "students, LogisticRegression, True, False, 0.6772136706740344\n",
      "students, LogisticRegression, True, True, 0.6787973810812742\n",
      "students, SVC, False, False, 0.679250380478637\n",
      "students, SVC, False, True, 0.6787973810812742\n",
      "students, SVC, True, False, 0.6783451477482814\n",
      "students, SVC, True, True, 0.6787973810812742\n",
      "students, RandomForestClassifier, False, False, 0.6013740641246949\n",
      "students, RandomForestClassifier, False, True, 0.61233721132141\n",
      "students, RandomForestClassifier, True, False, 0.6235245600236968\n",
      "students, RandomForestClassifier, True, True, 0.6159504815991338\n",
      "students, GradientBoostingClassifier, False, False, 0.6671570329816247\n",
      "students, GradientBoostingClassifier, False, True, 0.6664752356924709\n",
      "students, GradientBoostingClassifier, True, False, 0.6704260850025023\n",
      "students, GradientBoostingClassifier, True, True, 0.6638780221239389\n",
      "students, DeepNeuralNetwork, False, False, 0.6771008038568787\n",
      "students, DeepNeuralNetwork, False, True, 0.6787973810812742\n",
      "students, DeepNeuralNetwork, True, False, 0.6782317702215457\n",
      "students, DeepNeuralNetwork, True, True, 0.6776687129097166\n",
      "diabetes, LogisticRegression, False, False, 0.8591512929675182\n",
      "diabetes, LogisticRegression, False, True, 0.8591552349416588\n",
      "diabetes, LogisticRegression, True, False, 0.8591355250709556\n",
      "diabetes, LogisticRegression, True, True, 0.8591296121097445\n",
      "diabetes, SVC, False, False, 0.8611242510249133\n"
     ]
    }
   ],
   "source": [
    "for ds_name in dataset:\n",
    "    X = dataset[ds_name]['X']\n",
    "    y = dataset[ds_name]['y']\n",
    "    for model in models:\n",
    "        for ss_opt in subsampling_options:\n",
    "            for fr_opt in feature_reduction_options:\n",
    "                exp = Experiment(model, X, y, subsampling=ss_opt, feature_reduction=fr_opt)\n",
    "                exp.run()\n",
    "                acc = np.mean(exp.get_mesaure('accuracy'))\n",
    "                print(f'{ds_name}, {model}, {ss_opt}, {fr_opt}, {acc}')\n",
    "                # Export results as CSV\n",
    "\n"
   ]
  }
 ],
 "metadata": {
  "kernelspec": {
   "display_name": "tf",
   "language": "python",
   "name": "python3"
  },
  "language_info": {
   "codemirror_mode": {
    "name": "ipython",
    "version": 3
   },
   "file_extension": ".py",
   "mimetype": "text/x-python",
   "name": "python",
   "nbconvert_exporter": "python",
   "pygments_lexer": "ipython3",
   "version": "3.11.5"
  }
 },
 "nbformat": 4,
 "nbformat_minor": 2
}
