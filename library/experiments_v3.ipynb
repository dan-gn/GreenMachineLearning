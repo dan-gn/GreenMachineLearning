{
 "cells": [
  {
   "cell_type": "markdown",
   "metadata": {},
   "source": [
    "# File to run all experiments "
   ]
  },
  {
   "cell_type": "markdown",
   "metadata": {},
   "source": [
    "Libraries"
   ]
  },
  {
   "cell_type": "code",
   "execution_count": null,
   "metadata": {},
   "outputs": [],
   "source": [
    "import numpy as np\n",
    "from ucimlrepo import fetch_ucirepo \n",
    "from experiment import Experiment\n",
    "\n",
    "import warnings\n",
    "warnings.simplefilter(action='ignore', category=FutureWarning)\n",
    "warnings.simplefilter(action='ignore', category=UserWarning)\n"
   ]
  },
  {
   "cell_type": "markdown",
   "metadata": {},
   "source": [
    "Datasets"
   ]
  },
  {
   "cell_type": "code",
   "execution_count": null,
   "metadata": {},
   "outputs": [],
   "source": [
    "# Datasets\n",
    "dataset = {}\n",
    "\n",
    "# AIDS Clinical trials group study\n",
    "aids_clinical_trials_group_study_175 = fetch_ucirepo(id=890) \n",
    "X = aids_clinical_trials_group_study_175.data.features.to_numpy() \n",
    "y = aids_clinical_trials_group_study_175.data.targets.to_numpy()\n",
    "dataset['aids'] = {'X': X, 'y': y}\n",
    "\n",
    "# Studnets dropout and academic success\n",
    "predict_students_dropout_and_academic_success = fetch_ucirepo(id=697) \n",
    "X = predict_students_dropout_and_academic_success.data.features.to_numpy() \n",
    "y = predict_students_dropout_and_academic_success.data.targets.to_numpy()\n",
    "y = np.array([0 if yi == 'Dropout' else 1 for yi in y])\n",
    "y = np.expand_dims(y, axis=1)  \n",
    "dataset['students'] = {'X': X, 'y': y}\n",
    "\n",
    "# Diabetes health indicators\n",
    "cdc_diabetes_health_indicators = fetch_ucirepo(id=891) \n",
    "X = cdc_diabetes_health_indicators.data.features.to_numpy()\n",
    "y = cdc_diabetes_health_indicators.data.targets.to_numpy() \n",
    "dataset['diabetes'] = {'X': X, 'y': y}"
   ]
  },
  {
   "cell_type": "markdown",
   "metadata": {},
   "source": [
    "Machine learning models and other experiment setup"
   ]
  },
  {
   "cell_type": "code",
   "execution_count": null,
   "metadata": {},
   "outputs": [],
   "source": [
    "# Machine Learning models\n",
    "models = ['LogisticRegression', 'SVC', 'RandomForestClassifier', 'GradientBoostingClassifier','DeepNeuralNetwork']\n",
    "\n",
    "# Experiment options\n",
    "subsampling_options = ['False', 'True']\n",
    "feature_reduction_options = ['False', 'True']"
   ]
  },
  {
   "cell_type": "code",
   "execution_count": null,
   "metadata": {},
   "outputs": [],
   "source": [
    "np.random.seed(0)"
   ]
  },
  {
   "cell_type": "markdown",
   "metadata": {},
   "source": [
    "Execute experiment"
   ]
  },
  {
   "cell_type": "code",
   "execution_count": null,
   "metadata": {},
   "outputs": [],
   "source": [
    "for ds_name in dataset:\n",
    "    X = dataset[ds_name]['X']\n",
    "    y = dataset[ds_name]['y']\n",
    "    for model in models:\n",
    "        for ss_opt in subsampling_options:\n",
    "            for fr_opt in feature_reduction_options:\n",
    "                exp = Experiment(model, X, y, subsampling=ss_opt, feature_reduction=fr_opt)\n",
    "                exp.run()\n",
    "                acc = np.mean(exp.get_mesaure('accuracy'))\n",
    "                print(f'{ds_name}, {model}, {ss_opt}, {fr_opt}, {acc}')\n",
    "                # Export results as CSV\n",
    "\n"
   ]
  }
 ],
 "metadata": {
  "kernelspec": {
   "display_name": "tf",
   "language": "python",
   "name": "python3"
  },
  "language_info": {
   "codemirror_mode": {
    "name": "ipython",
    "version": 3
   },
   "file_extension": ".py",
   "mimetype": "text/x-python",
   "name": "python",
   "nbconvert_exporter": "python",
   "pygments_lexer": "ipython3",
   "version": "3.11.4"
  }
 },
 "nbformat": 4,
 "nbformat_minor": 2
}
