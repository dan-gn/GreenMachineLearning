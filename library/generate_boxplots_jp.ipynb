{
 "cells": [
  {
   "cell_type": "code",
   "execution_count": 1,
   "metadata": {},
   "outputs": [],
   "source": [
    "# Libraries\n",
    "import numpy as np\n",
    "import pandas as pd\n",
    "import plotly.express as px\n",
    "import plotly.graph_objects as go\n",
    "import matplotlib.pyplot as plt"
   ]
  },
  {
   "cell_type": "code",
   "execution_count": 2,
   "metadata": {},
   "outputs": [],
   "source": [
    "def get_experiment_name(ss_opt, fr_opt):\n",
    "\tif ss_opt == 'True' and fr_opt == 'True':\n",
    "\t\treturn 'SS & FR'\n",
    "\telif ss_opt == 'True':\n",
    "\t\treturn 'SS'\n",
    "\telif fr_opt == 'True':\n",
    "\t\treturn 'FR'\n",
    "\telse:\n",
    "\t\treturn 'Full'"
   ]
  },
  {
   "cell_type": "code",
   "execution_count": 3,
   "metadata": {},
   "outputs": [],
   "source": [
    "# Datasets\n",
    "datasets = ['aids', 'students', 'malware']\n",
    "\n",
    "# Machine Learning models\n",
    "models = ['LogisticRegression', 'SVC', 'RandomForestClassifier', 'GradientBoostingClassifier','DeepNeuralNetwork']\n",
    "\n",
    "# Experiment options\n",
    "subsampling_options = ['False', 'True']\n",
    "feature_reduction_options = ['False', 'True']\n",
    "\n",
    "# Inputs\n",
    "DATASET = datasets[1]\n"
   ]
  },
  {
   "cell_type": "markdown",
   "metadata": {},
   "source": [
    "Function to generate plots"
   ]
  },
  {
   "cell_type": "code",
   "execution_count": 4,
   "metadata": {},
   "outputs": [],
   "source": [
    "def make_plots(metric):\n",
    "    results = {}\n",
    "    for model in models:\n",
    "        for ss_opt in subsampling_options:\n",
    "            for fr_opt in feature_reduction_options:\n",
    "                filename = f'{DATASET}_{ss_opt}_{fr_opt}_{model}'\n",
    "                path = f'../results/{filename}.csv'\n",
    "                df = pd.read_csv(path)\n",
    "                results[filename] = df[metric].transpose()\n",
    "\n",
    "    n_experiments = len(results[filename])\n",
    "\n",
    "    fig = go.Figure()\n",
    "\n",
    "    for ss_opt in subsampling_options:\n",
    "        for fr_opt in feature_reduction_options:\n",
    "            x, y = [], []\n",
    "            for model in models:\n",
    "                filename = f'{DATASET}_{ss_opt}_{fr_opt}_{model}'\n",
    "                x.extend([model for _ in range(n_experiments)])\n",
    "                y.extend(list(results[filename]))\n",
    "            fig.add_trace(go.Box(y=y, x=x, name=get_experiment_name(ss_opt, fr_opt)))\n",
    "            \n",
    "\n",
    "    fig.update_layout(\n",
    "        title=metric,\n",
    "        yaxis_title=metric,\n",
    "        boxmode='group'\n",
    "    )\n",
    "    fig.show()\n"
   ]
  },
  {
   "cell_type": "code",
   "execution_count": 5,
   "metadata": {},
   "outputs": [
    {
     "data": {
      "application/vnd.plotly.v1+json": {
       "config": {
        "plotlyServerURL": "https://plot.ly"
       },
       "data": [
        {
         "name": "Full",
         "type": "box",
         "x": [
          "LogisticRegression",
          "LogisticRegression",
          "LogisticRegression",
          "LogisticRegression",
          "LogisticRegression",
          "LogisticRegression",
          "LogisticRegression",
          "LogisticRegression",
          "LogisticRegression",
          "LogisticRegression",
          "LogisticRegression",
          "LogisticRegression",
          "LogisticRegression",
          "LogisticRegression",
          "LogisticRegression",
          "LogisticRegression",
          "LogisticRegression",
          "LogisticRegression",
          "LogisticRegression",
          "LogisticRegression",
          "SVC",
          "SVC",
          "SVC",
          "SVC",
          "SVC",
          "SVC",
          "SVC",
          "SVC",
          "SVC",
          "SVC",
          "SVC",
          "SVC",
          "SVC",
          "SVC",
          "SVC",
          "SVC",
          "SVC",
          "SVC",
          "SVC",
          "SVC",
          "RandomForestClassifier",
          "RandomForestClassifier",
          "RandomForestClassifier",
          "RandomForestClassifier",
          "RandomForestClassifier",
          "RandomForestClassifier",
          "RandomForestClassifier",
          "RandomForestClassifier",
          "RandomForestClassifier",
          "RandomForestClassifier",
          "RandomForestClassifier",
          "RandomForestClassifier",
          "RandomForestClassifier",
          "RandomForestClassifier",
          "RandomForestClassifier",
          "RandomForestClassifier",
          "RandomForestClassifier",
          "RandomForestClassifier",
          "RandomForestClassifier",
          "RandomForestClassifier",
          "GradientBoostingClassifier",
          "GradientBoostingClassifier",
          "GradientBoostingClassifier",
          "GradientBoostingClassifier",
          "GradientBoostingClassifier",
          "GradientBoostingClassifier",
          "GradientBoostingClassifier",
          "GradientBoostingClassifier",
          "GradientBoostingClassifier",
          "GradientBoostingClassifier",
          "GradientBoostingClassifier",
          "GradientBoostingClassifier",
          "GradientBoostingClassifier",
          "GradientBoostingClassifier",
          "GradientBoostingClassifier",
          "GradientBoostingClassifier",
          "GradientBoostingClassifier",
          "GradientBoostingClassifier",
          "GradientBoostingClassifier",
          "GradientBoostingClassifier",
          "DeepNeuralNetwork",
          "DeepNeuralNetwork",
          "DeepNeuralNetwork",
          "DeepNeuralNetwork",
          "DeepNeuralNetwork",
          "DeepNeuralNetwork",
          "DeepNeuralNetwork",
          "DeepNeuralNetwork",
          "DeepNeuralNetwork",
          "DeepNeuralNetwork",
          "DeepNeuralNetwork",
          "DeepNeuralNetwork",
          "DeepNeuralNetwork",
          "DeepNeuralNetwork",
          "DeepNeuralNetwork",
          "DeepNeuralNetwork",
          "DeepNeuralNetwork",
          "DeepNeuralNetwork",
          "DeepNeuralNetwork",
          "DeepNeuralNetwork"
         ],
         "y": [
          0.6772009029345373,
          0.6794582392776524,
          0.6794582392776524,
          0.6794582392776524,
          0.6787330316742082,
          0.6787330316742082,
          0.6787330316742082,
          0.6787330316742082,
          0.6787330316742082,
          0.6787330316742082,
          0.6772009029345373,
          0.6794582392776524,
          0.6772009029345373,
          0.6794582392776524,
          0.6787330316742082,
          0.6787330316742082,
          0.6787330316742082,
          0.6470588235294118,
          0.6787330316742082,
          0.6787330316742082,
          0.6772009029345373,
          0.6794582392776524,
          0.6794582392776524,
          0.6794582392776524,
          0.6787330316742082,
          0.6787330316742082,
          0.6787330316742082,
          0.6787330316742082,
          0.6787330316742082,
          0.6787330316742082,
          0.6772009029345373,
          0.6794582392776524,
          0.6794582392776524,
          0.6568848758465011,
          0.6787330316742082,
          0.6787330316742082,
          0.6787330316742082,
          0.6787330316742082,
          0.6787330316742082,
          0.6787330316742082,
          0.5846501128668171,
          0.6072234762979684,
          0.6252821670428894,
          0.6139954853273137,
          0.6108597285067874,
          0.6153846153846154,
          0.579185520361991,
          0.6266968325791855,
          0.5995475113122172,
          0.6040723981900452,
          0.6207674943566591,
          0.618510158013544,
          0.5711060948081265,
          0.6117381489841986,
          0.5723981900452488,
          0.5904977375565611,
          0.5995475113122172,
          0.579185520361991,
          0.5701357466063348,
          0.6266968325791855,
          0.6591422121896162,
          0.6591422121896162,
          0.6591422121896162,
          0.6839729119638827,
          0.6108597285067874,
          0.6447963800904978,
          0.665158371040724,
          0.6606334841628959,
          0.669683257918552,
          0.6719457013574661,
          0.6749435665914221,
          0.6704288939051919,
          0.6455981941309256,
          0.6839729119638827,
          0.6719457013574661,
          0.6561085972850679,
          0.667420814479638,
          0.6719457013574661,
          0.6990950226244343,
          0.6628959276018099,
          0.6772009029345373,
          0.6613995485327314,
          0.6794582392776524,
          0.6794582392776524,
          0.6787330316742082,
          0.6787330316742082,
          0.6787330316742082,
          0.6787330316742082,
          0.6787330316742082,
          0.6787330316742082,
          0.6772009029345373,
          0.6794582392776524,
          0.6794582392776524,
          0.6794582392776524,
          0.6787330316742082,
          0.6787330316742082,
          0.6787330316742082,
          0.6787330316742082,
          0.6787330316742082,
          0.6787330316742082
         ]
        },
        {
         "name": "FR",
         "type": "box",
         "x": [
          "LogisticRegression",
          "LogisticRegression",
          "LogisticRegression",
          "LogisticRegression",
          "LogisticRegression",
          "LogisticRegression",
          "LogisticRegression",
          "LogisticRegression",
          "LogisticRegression",
          "LogisticRegression",
          "LogisticRegression",
          "LogisticRegression",
          "LogisticRegression",
          "LogisticRegression",
          "LogisticRegression",
          "LogisticRegression",
          "LogisticRegression",
          "LogisticRegression",
          "LogisticRegression",
          "LogisticRegression",
          "SVC",
          "SVC",
          "SVC",
          "SVC",
          "SVC",
          "SVC",
          "SVC",
          "SVC",
          "SVC",
          "SVC",
          "SVC",
          "SVC",
          "SVC",
          "SVC",
          "SVC",
          "SVC",
          "SVC",
          "SVC",
          "SVC",
          "SVC",
          "RandomForestClassifier",
          "RandomForestClassifier",
          "RandomForestClassifier",
          "RandomForestClassifier",
          "RandomForestClassifier",
          "RandomForestClassifier",
          "RandomForestClassifier",
          "RandomForestClassifier",
          "RandomForestClassifier",
          "RandomForestClassifier",
          "RandomForestClassifier",
          "RandomForestClassifier",
          "RandomForestClassifier",
          "RandomForestClassifier",
          "RandomForestClassifier",
          "RandomForestClassifier",
          "RandomForestClassifier",
          "RandomForestClassifier",
          "RandomForestClassifier",
          "RandomForestClassifier",
          "GradientBoostingClassifier",
          "GradientBoostingClassifier",
          "GradientBoostingClassifier",
          "GradientBoostingClassifier",
          "GradientBoostingClassifier",
          "GradientBoostingClassifier",
          "GradientBoostingClassifier",
          "GradientBoostingClassifier",
          "GradientBoostingClassifier",
          "GradientBoostingClassifier",
          "GradientBoostingClassifier",
          "GradientBoostingClassifier",
          "GradientBoostingClassifier",
          "GradientBoostingClassifier",
          "GradientBoostingClassifier",
          "GradientBoostingClassifier",
          "GradientBoostingClassifier",
          "GradientBoostingClassifier",
          "GradientBoostingClassifier",
          "GradientBoostingClassifier",
          "DeepNeuralNetwork",
          "DeepNeuralNetwork",
          "DeepNeuralNetwork",
          "DeepNeuralNetwork",
          "DeepNeuralNetwork",
          "DeepNeuralNetwork",
          "DeepNeuralNetwork",
          "DeepNeuralNetwork",
          "DeepNeuralNetwork",
          "DeepNeuralNetwork",
          "DeepNeuralNetwork",
          "DeepNeuralNetwork",
          "DeepNeuralNetwork",
          "DeepNeuralNetwork",
          "DeepNeuralNetwork",
          "DeepNeuralNetwork",
          "DeepNeuralNetwork",
          "DeepNeuralNetwork",
          "DeepNeuralNetwork",
          "DeepNeuralNetwork"
         ],
         "y": [
          0.6772009029345373,
          0.6794582392776524,
          0.6794582392776524,
          0.6794582392776524,
          0.6787330316742082,
          0.6787330316742082,
          0.6787330316742082,
          0.6787330316742082,
          0.6787330316742082,
          0.6787330316742082,
          0.6772009029345373,
          0.6794582392776524,
          0.6794582392776524,
          0.6794582392776524,
          0.6787330316742082,
          0.6787330316742082,
          0.6787330316742082,
          0.6787330316742082,
          0.6787330316742082,
          0.6787330316742082,
          0.6772009029345373,
          0.6794582392776524,
          0.6794582392776524,
          0.6794582392776524,
          0.6787330316742082,
          0.6787330316742082,
          0.6787330316742082,
          0.6787330316742082,
          0.6787330316742082,
          0.6787330316742082,
          0.6772009029345373,
          0.6794582392776524,
          0.6794582392776524,
          0.6794582392776524,
          0.6787330316742082,
          0.6787330316742082,
          0.6787330316742082,
          0.6787330316742082,
          0.6787330316742082,
          0.6787330316742082,
          0.6343115124153499,
          0.6343115124153499,
          0.6139954853273137,
          0.6027088036117382,
          0.5904977375565611,
          0.6334841628959276,
          0.6266968325791855,
          0.6221719457013575,
          0.583710407239819,
          0.6221719457013575,
          0.5959367945823928,
          0.6207674943566591,
          0.618510158013544,
          0.618510158013544,
          0.5859728506787331,
          0.6153846153846154,
          0.6108597285067874,
          0.5882352941176471,
          0.6131221719457014,
          0.6153846153846154,
          0.6772009029345373,
          0.690744920993228,
          0.6749435665914221,
          0.7065462753950339,
          0.6402714932126696,
          0.7194570135746606,
          0.6832579185520362,
          0.6538461538461539,
          0.6742081447963801,
          0.6583710407239819,
          0.6952595936794582,
          0.6772009029345373,
          0.636568848758465,
          0.6591422121896162,
          0.6832579185520362,
          0.6832579185520362,
          0.6923076923076923,
          0.6719457013574661,
          0.667420814479638,
          0.6583710407239819,
          0.6772009029345373,
          0.6794582392776524,
          0.6794582392776524,
          0.6794582392776524,
          0.6787330316742082,
          0.6787330316742082,
          0.6787330316742082,
          0.6787330316742082,
          0.6787330316742082,
          0.6787330316742082,
          0.6772009029345373,
          0.6794582392776524,
          0.6794582392776524,
          0.6794582392776524,
          0.6787330316742082,
          0.6787330316742082,
          0.6787330316742082,
          0.6787330316742082,
          0.6787330316742082,
          0.6787330316742082
         ]
        },
        {
         "name": "SS",
         "type": "box",
         "x": [
          "LogisticRegression",
          "LogisticRegression",
          "LogisticRegression",
          "LogisticRegression",
          "LogisticRegression",
          "LogisticRegression",
          "LogisticRegression",
          "LogisticRegression",
          "LogisticRegression",
          "LogisticRegression",
          "LogisticRegression",
          "LogisticRegression",
          "LogisticRegression",
          "LogisticRegression",
          "LogisticRegression",
          "LogisticRegression",
          "LogisticRegression",
          "LogisticRegression",
          "LogisticRegression",
          "LogisticRegression",
          "SVC",
          "SVC",
          "SVC",
          "SVC",
          "SVC",
          "SVC",
          "SVC",
          "SVC",
          "SVC",
          "SVC",
          "SVC",
          "SVC",
          "SVC",
          "SVC",
          "SVC",
          "SVC",
          "SVC",
          "SVC",
          "SVC",
          "SVC",
          "RandomForestClassifier",
          "RandomForestClassifier",
          "RandomForestClassifier",
          "RandomForestClassifier",
          "RandomForestClassifier",
          "RandomForestClassifier",
          "RandomForestClassifier",
          "RandomForestClassifier",
          "RandomForestClassifier",
          "RandomForestClassifier",
          "RandomForestClassifier",
          "RandomForestClassifier",
          "RandomForestClassifier",
          "RandomForestClassifier",
          "RandomForestClassifier",
          "RandomForestClassifier",
          "RandomForestClassifier",
          "RandomForestClassifier",
          "RandomForestClassifier",
          "RandomForestClassifier",
          "GradientBoostingClassifier",
          "GradientBoostingClassifier",
          "GradientBoostingClassifier",
          "GradientBoostingClassifier",
          "GradientBoostingClassifier",
          "GradientBoostingClassifier",
          "GradientBoostingClassifier",
          "GradientBoostingClassifier",
          "GradientBoostingClassifier",
          "GradientBoostingClassifier",
          "GradientBoostingClassifier",
          "GradientBoostingClassifier",
          "GradientBoostingClassifier",
          "GradientBoostingClassifier",
          "GradientBoostingClassifier",
          "GradientBoostingClassifier",
          "GradientBoostingClassifier",
          "GradientBoostingClassifier",
          "GradientBoostingClassifier",
          "GradientBoostingClassifier",
          "DeepNeuralNetwork",
          "DeepNeuralNetwork",
          "DeepNeuralNetwork",
          "DeepNeuralNetwork",
          "DeepNeuralNetwork",
          "DeepNeuralNetwork",
          "DeepNeuralNetwork",
          "DeepNeuralNetwork",
          "DeepNeuralNetwork",
          "DeepNeuralNetwork",
          "DeepNeuralNetwork",
          "DeepNeuralNetwork",
          "DeepNeuralNetwork",
          "DeepNeuralNetwork",
          "DeepNeuralNetwork",
          "DeepNeuralNetwork",
          "DeepNeuralNetwork",
          "DeepNeuralNetwork",
          "DeepNeuralNetwork",
          "DeepNeuralNetwork"
         ],
         "y": [
          0.6636568848758465,
          0.6794582392776524,
          0.6794582392776524,
          0.6794582392776524,
          0.6787330316742082,
          0.6787330316742082,
          0.6787330316742082,
          0.6787330316742082,
          0.6742081447963801,
          0.6787330316742082,
          0.6772009029345373,
          0.6794582392776524,
          0.6772009029345373,
          0.6794582392776524,
          0.6787330316742082,
          0.6719457013574661,
          0.6787330316742082,
          0.6787330316742082,
          0.6787330316742082,
          0.6787330316742082,
          0.6772009029345373,
          0.6794582392776524,
          0.6794582392776524,
          0.6659142212189616,
          0.6787330316742082,
          0.6787330316742082,
          0.6787330316742082,
          0.6787330316742082,
          0.6787330316742082,
          0.6787330316742082,
          0.6772009029345373,
          0.6794582392776524,
          0.6794582392776524,
          0.6794582392776524,
          0.6787330316742082,
          0.6787330316742082,
          0.6787330316742082,
          0.6787330316742082,
          0.6787330316742082,
          0.6787330316742082,
          0.6343115124153499,
          0.6388261851015802,
          0.6320541760722348,
          0.6794582392776524,
          0.5972850678733032,
          0.6199095022624435,
          0.6018099547511312,
          0.5995475113122172,
          0.5927601809954751,
          0.6063348416289592,
          0.6049661399548533,
          0.6094808126410836,
          0.5914221218961625,
          0.6523702031602708,
          0.6742081447963801,
          0.6199095022624435,
          0.6606334841628959,
          0.6018099547511312,
          0.6018099547511312,
          0.6515837104072398,
          0.6794582392776524,
          0.6659142212189616,
          0.6523702031602708,
          0.7110609480812641,
          0.6764705882352942,
          0.6447963800904978,
          0.6244343891402715,
          0.6583710407239819,
          0.6470588235294118,
          0.667420814479638,
          0.6681715575620768,
          0.6659142212189616,
          0.6704288939051919,
          0.6681715575620768,
          0.667420814479638,
          0.6877828054298643,
          0.667420814479638,
          0.6425339366515838,
          0.667420814479638,
          0.6787330316742082,
          0.6772009029345373,
          0.6794582392776524,
          0.6794582392776524,
          0.6794582392776524,
          0.6787330316742082,
          0.6787330316742082,
          0.6787330316742082,
          0.6787330316742082,
          0.6787330316742082,
          0.6787330316742082,
          0.6772009029345373,
          0.6794582392776524,
          0.6794582392776524,
          0.6794582392776524,
          0.6787330316742082,
          0.6787330316742082,
          0.6787330316742082,
          0.6787330316742082,
          0.6787330316742082,
          0.6787330316742082
         ]
        },
        {
         "name": "SS & FR",
         "type": "box",
         "x": [
          "LogisticRegression",
          "LogisticRegression",
          "LogisticRegression",
          "LogisticRegression",
          "LogisticRegression",
          "LogisticRegression",
          "LogisticRegression",
          "LogisticRegression",
          "LogisticRegression",
          "LogisticRegression",
          "LogisticRegression",
          "LogisticRegression",
          "LogisticRegression",
          "LogisticRegression",
          "LogisticRegression",
          "LogisticRegression",
          "LogisticRegression",
          "LogisticRegression",
          "LogisticRegression",
          "LogisticRegression",
          "SVC",
          "SVC",
          "SVC",
          "SVC",
          "SVC",
          "SVC",
          "SVC",
          "SVC",
          "SVC",
          "SVC",
          "SVC",
          "SVC",
          "SVC",
          "SVC",
          "SVC",
          "SVC",
          "SVC",
          "SVC",
          "SVC",
          "SVC",
          "RandomForestClassifier",
          "RandomForestClassifier",
          "RandomForestClassifier",
          "RandomForestClassifier",
          "RandomForestClassifier",
          "RandomForestClassifier",
          "RandomForestClassifier",
          "RandomForestClassifier",
          "RandomForestClassifier",
          "RandomForestClassifier",
          "RandomForestClassifier",
          "RandomForestClassifier",
          "RandomForestClassifier",
          "RandomForestClassifier",
          "RandomForestClassifier",
          "RandomForestClassifier",
          "RandomForestClassifier",
          "RandomForestClassifier",
          "RandomForestClassifier",
          "RandomForestClassifier",
          "GradientBoostingClassifier",
          "GradientBoostingClassifier",
          "GradientBoostingClassifier",
          "GradientBoostingClassifier",
          "GradientBoostingClassifier",
          "GradientBoostingClassifier",
          "GradientBoostingClassifier",
          "GradientBoostingClassifier",
          "GradientBoostingClassifier",
          "GradientBoostingClassifier",
          "GradientBoostingClassifier",
          "GradientBoostingClassifier",
          "GradientBoostingClassifier",
          "GradientBoostingClassifier",
          "GradientBoostingClassifier",
          "GradientBoostingClassifier",
          "GradientBoostingClassifier",
          "GradientBoostingClassifier",
          "GradientBoostingClassifier",
          "GradientBoostingClassifier",
          "DeepNeuralNetwork",
          "DeepNeuralNetwork",
          "DeepNeuralNetwork",
          "DeepNeuralNetwork",
          "DeepNeuralNetwork",
          "DeepNeuralNetwork",
          "DeepNeuralNetwork",
          "DeepNeuralNetwork",
          "DeepNeuralNetwork",
          "DeepNeuralNetwork",
          "DeepNeuralNetwork",
          "DeepNeuralNetwork",
          "DeepNeuralNetwork",
          "DeepNeuralNetwork",
          "DeepNeuralNetwork",
          "DeepNeuralNetwork",
          "DeepNeuralNetwork",
          "DeepNeuralNetwork",
          "DeepNeuralNetwork",
          "DeepNeuralNetwork"
         ],
         "y": [
          0.6772009029345373,
          0.6794582392776524,
          0.6794582392776524,
          0.6794582392776524,
          0.6787330316742082,
          0.6742081447963801,
          0.6787330316742082,
          0.6787330316742082,
          0.6787330316742082,
          0.6787330316742082,
          0.6772009029345373,
          0.6794582392776524,
          0.6794582392776524,
          0.6568848758465011,
          0.6923076923076923,
          0.6787330316742082,
          0.6787330316742082,
          0.6787330316742082,
          0.6787330316742082,
          0.6787330316742082,
          0.6772009029345373,
          0.6794582392776524,
          0.6794582392776524,
          0.6794582392776524,
          0.6787330316742082,
          0.6787330316742082,
          0.6787330316742082,
          0.6787330316742082,
          0.6787330316742082,
          0.6787330316742082,
          0.6772009029345373,
          0.6794582392776524,
          0.6794582392776524,
          0.6568848758465011,
          0.6787330316742082,
          0.6787330316742082,
          0.6787330316742082,
          0.6787330316742082,
          0.6764705882352942,
          0.6787330316742082,
          0.6094808126410836,
          0.6410835214446953,
          0.6139954853273137,
          0.618510158013544,
          0.5859728506787331,
          0.6628959276018099,
          0.5995475113122172,
          0.6063348416289592,
          0.5746606334841629,
          0.6538461538461539,
          0.6275395033860045,
          0.6410835214446953,
          0.6139954853273137,
          0.6320541760722348,
          0.6040723981900452,
          0.6334841628959276,
          0.5769230769230769,
          0.5995475113122172,
          0.6153846153846154,
          0.6085972850678733,
          0.6817155756207675,
          0.7381489841986456,
          0.6817155756207675,
          0.6591422121896162,
          0.6470588235294118,
          0.6538461538461539,
          0.6493212669683258,
          0.667420814479638,
          0.6583710407239819,
          0.665158371040724,
          0.6523702031602708,
          0.6952595936794582,
          0.654627539503386,
          0.654627539503386,
          0.6561085972850679,
          0.6719457013574661,
          0.6583710407239819,
          0.6470588235294118,
          0.6877828054298643,
          0.7149321266968326,
          0.6772009029345373,
          0.6794582392776524,
          0.6794582392776524,
          0.6794582392776524,
          0.6787330316742082,
          0.6787330316742082,
          0.6787330316742082,
          0.6787330316742082,
          0.6787330316742082,
          0.6787330316742082,
          0.6772009029345373,
          0.6794582392776524,
          0.6794582392776524,
          0.6794582392776524,
          0.6787330316742082,
          0.6787330316742082,
          0.6787330316742082,
          0.6787330316742082,
          0.6787330316742082,
          0.6787330316742082
         ]
        }
       ],
       "layout": {
        "boxmode": "group",
        "template": {
         "data": {
          "bar": [
           {
            "error_x": {
             "color": "#2a3f5f"
            },
            "error_y": {
             "color": "#2a3f5f"
            },
            "marker": {
             "line": {
              "color": "#E5ECF6",
              "width": 0.5
             },
             "pattern": {
              "fillmode": "overlay",
              "size": 10,
              "solidity": 0.2
             }
            },
            "type": "bar"
           }
          ],
          "barpolar": [
           {
            "marker": {
             "line": {
              "color": "#E5ECF6",
              "width": 0.5
             },
             "pattern": {
              "fillmode": "overlay",
              "size": 10,
              "solidity": 0.2
             }
            },
            "type": "barpolar"
           }
          ],
          "carpet": [
           {
            "aaxis": {
             "endlinecolor": "#2a3f5f",
             "gridcolor": "white",
             "linecolor": "white",
             "minorgridcolor": "white",
             "startlinecolor": "#2a3f5f"
            },
            "baxis": {
             "endlinecolor": "#2a3f5f",
             "gridcolor": "white",
             "linecolor": "white",
             "minorgridcolor": "white",
             "startlinecolor": "#2a3f5f"
            },
            "type": "carpet"
           }
          ],
          "choropleth": [
           {
            "colorbar": {
             "outlinewidth": 0,
             "ticks": ""
            },
            "type": "choropleth"
           }
          ],
          "contour": [
           {
            "colorbar": {
             "outlinewidth": 0,
             "ticks": ""
            },
            "colorscale": [
             [
              0,
              "#0d0887"
             ],
             [
              0.1111111111111111,
              "#46039f"
             ],
             [
              0.2222222222222222,
              "#7201a8"
             ],
             [
              0.3333333333333333,
              "#9c179e"
             ],
             [
              0.4444444444444444,
              "#bd3786"
             ],
             [
              0.5555555555555556,
              "#d8576b"
             ],
             [
              0.6666666666666666,
              "#ed7953"
             ],
             [
              0.7777777777777778,
              "#fb9f3a"
             ],
             [
              0.8888888888888888,
              "#fdca26"
             ],
             [
              1,
              "#f0f921"
             ]
            ],
            "type": "contour"
           }
          ],
          "contourcarpet": [
           {
            "colorbar": {
             "outlinewidth": 0,
             "ticks": ""
            },
            "type": "contourcarpet"
           }
          ],
          "heatmap": [
           {
            "colorbar": {
             "outlinewidth": 0,
             "ticks": ""
            },
            "colorscale": [
             [
              0,
              "#0d0887"
             ],
             [
              0.1111111111111111,
              "#46039f"
             ],
             [
              0.2222222222222222,
              "#7201a8"
             ],
             [
              0.3333333333333333,
              "#9c179e"
             ],
             [
              0.4444444444444444,
              "#bd3786"
             ],
             [
              0.5555555555555556,
              "#d8576b"
             ],
             [
              0.6666666666666666,
              "#ed7953"
             ],
             [
              0.7777777777777778,
              "#fb9f3a"
             ],
             [
              0.8888888888888888,
              "#fdca26"
             ],
             [
              1,
              "#f0f921"
             ]
            ],
            "type": "heatmap"
           }
          ],
          "heatmapgl": [
           {
            "colorbar": {
             "outlinewidth": 0,
             "ticks": ""
            },
            "colorscale": [
             [
              0,
              "#0d0887"
             ],
             [
              0.1111111111111111,
              "#46039f"
             ],
             [
              0.2222222222222222,
              "#7201a8"
             ],
             [
              0.3333333333333333,
              "#9c179e"
             ],
             [
              0.4444444444444444,
              "#bd3786"
             ],
             [
              0.5555555555555556,
              "#d8576b"
             ],
             [
              0.6666666666666666,
              "#ed7953"
             ],
             [
              0.7777777777777778,
              "#fb9f3a"
             ],
             [
              0.8888888888888888,
              "#fdca26"
             ],
             [
              1,
              "#f0f921"
             ]
            ],
            "type": "heatmapgl"
           }
          ],
          "histogram": [
           {
            "marker": {
             "pattern": {
              "fillmode": "overlay",
              "size": 10,
              "solidity": 0.2
             }
            },
            "type": "histogram"
           }
          ],
          "histogram2d": [
           {
            "colorbar": {
             "outlinewidth": 0,
             "ticks": ""
            },
            "colorscale": [
             [
              0,
              "#0d0887"
             ],
             [
              0.1111111111111111,
              "#46039f"
             ],
             [
              0.2222222222222222,
              "#7201a8"
             ],
             [
              0.3333333333333333,
              "#9c179e"
             ],
             [
              0.4444444444444444,
              "#bd3786"
             ],
             [
              0.5555555555555556,
              "#d8576b"
             ],
             [
              0.6666666666666666,
              "#ed7953"
             ],
             [
              0.7777777777777778,
              "#fb9f3a"
             ],
             [
              0.8888888888888888,
              "#fdca26"
             ],
             [
              1,
              "#f0f921"
             ]
            ],
            "type": "histogram2d"
           }
          ],
          "histogram2dcontour": [
           {
            "colorbar": {
             "outlinewidth": 0,
             "ticks": ""
            },
            "colorscale": [
             [
              0,
              "#0d0887"
             ],
             [
              0.1111111111111111,
              "#46039f"
             ],
             [
              0.2222222222222222,
              "#7201a8"
             ],
             [
              0.3333333333333333,
              "#9c179e"
             ],
             [
              0.4444444444444444,
              "#bd3786"
             ],
             [
              0.5555555555555556,
              "#d8576b"
             ],
             [
              0.6666666666666666,
              "#ed7953"
             ],
             [
              0.7777777777777778,
              "#fb9f3a"
             ],
             [
              0.8888888888888888,
              "#fdca26"
             ],
             [
              1,
              "#f0f921"
             ]
            ],
            "type": "histogram2dcontour"
           }
          ],
          "mesh3d": [
           {
            "colorbar": {
             "outlinewidth": 0,
             "ticks": ""
            },
            "type": "mesh3d"
           }
          ],
          "parcoords": [
           {
            "line": {
             "colorbar": {
              "outlinewidth": 0,
              "ticks": ""
             }
            },
            "type": "parcoords"
           }
          ],
          "pie": [
           {
            "automargin": true,
            "type": "pie"
           }
          ],
          "scatter": [
           {
            "fillpattern": {
             "fillmode": "overlay",
             "size": 10,
             "solidity": 0.2
            },
            "type": "scatter"
           }
          ],
          "scatter3d": [
           {
            "line": {
             "colorbar": {
              "outlinewidth": 0,
              "ticks": ""
             }
            },
            "marker": {
             "colorbar": {
              "outlinewidth": 0,
              "ticks": ""
             }
            },
            "type": "scatter3d"
           }
          ],
          "scattercarpet": [
           {
            "marker": {
             "colorbar": {
              "outlinewidth": 0,
              "ticks": ""
             }
            },
            "type": "scattercarpet"
           }
          ],
          "scattergeo": [
           {
            "marker": {
             "colorbar": {
              "outlinewidth": 0,
              "ticks": ""
             }
            },
            "type": "scattergeo"
           }
          ],
          "scattergl": [
           {
            "marker": {
             "colorbar": {
              "outlinewidth": 0,
              "ticks": ""
             }
            },
            "type": "scattergl"
           }
          ],
          "scattermapbox": [
           {
            "marker": {
             "colorbar": {
              "outlinewidth": 0,
              "ticks": ""
             }
            },
            "type": "scattermapbox"
           }
          ],
          "scatterpolar": [
           {
            "marker": {
             "colorbar": {
              "outlinewidth": 0,
              "ticks": ""
             }
            },
            "type": "scatterpolar"
           }
          ],
          "scatterpolargl": [
           {
            "marker": {
             "colorbar": {
              "outlinewidth": 0,
              "ticks": ""
             }
            },
            "type": "scatterpolargl"
           }
          ],
          "scatterternary": [
           {
            "marker": {
             "colorbar": {
              "outlinewidth": 0,
              "ticks": ""
             }
            },
            "type": "scatterternary"
           }
          ],
          "surface": [
           {
            "colorbar": {
             "outlinewidth": 0,
             "ticks": ""
            },
            "colorscale": [
             [
              0,
              "#0d0887"
             ],
             [
              0.1111111111111111,
              "#46039f"
             ],
             [
              0.2222222222222222,
              "#7201a8"
             ],
             [
              0.3333333333333333,
              "#9c179e"
             ],
             [
              0.4444444444444444,
              "#bd3786"
             ],
             [
              0.5555555555555556,
              "#d8576b"
             ],
             [
              0.6666666666666666,
              "#ed7953"
             ],
             [
              0.7777777777777778,
              "#fb9f3a"
             ],
             [
              0.8888888888888888,
              "#fdca26"
             ],
             [
              1,
              "#f0f921"
             ]
            ],
            "type": "surface"
           }
          ],
          "table": [
           {
            "cells": {
             "fill": {
              "color": "#EBF0F8"
             },
             "line": {
              "color": "white"
             }
            },
            "header": {
             "fill": {
              "color": "#C8D4E3"
             },
             "line": {
              "color": "white"
             }
            },
            "type": "table"
           }
          ]
         },
         "layout": {
          "annotationdefaults": {
           "arrowcolor": "#2a3f5f",
           "arrowhead": 0,
           "arrowwidth": 1
          },
          "autotypenumbers": "strict",
          "coloraxis": {
           "colorbar": {
            "outlinewidth": 0,
            "ticks": ""
           }
          },
          "colorscale": {
           "diverging": [
            [
             0,
             "#8e0152"
            ],
            [
             0.1,
             "#c51b7d"
            ],
            [
             0.2,
             "#de77ae"
            ],
            [
             0.3,
             "#f1b6da"
            ],
            [
             0.4,
             "#fde0ef"
            ],
            [
             0.5,
             "#f7f7f7"
            ],
            [
             0.6,
             "#e6f5d0"
            ],
            [
             0.7,
             "#b8e186"
            ],
            [
             0.8,
             "#7fbc41"
            ],
            [
             0.9,
             "#4d9221"
            ],
            [
             1,
             "#276419"
            ]
           ],
           "sequential": [
            [
             0,
             "#0d0887"
            ],
            [
             0.1111111111111111,
             "#46039f"
            ],
            [
             0.2222222222222222,
             "#7201a8"
            ],
            [
             0.3333333333333333,
             "#9c179e"
            ],
            [
             0.4444444444444444,
             "#bd3786"
            ],
            [
             0.5555555555555556,
             "#d8576b"
            ],
            [
             0.6666666666666666,
             "#ed7953"
            ],
            [
             0.7777777777777778,
             "#fb9f3a"
            ],
            [
             0.8888888888888888,
             "#fdca26"
            ],
            [
             1,
             "#f0f921"
            ]
           ],
           "sequentialminus": [
            [
             0,
             "#0d0887"
            ],
            [
             0.1111111111111111,
             "#46039f"
            ],
            [
             0.2222222222222222,
             "#7201a8"
            ],
            [
             0.3333333333333333,
             "#9c179e"
            ],
            [
             0.4444444444444444,
             "#bd3786"
            ],
            [
             0.5555555555555556,
             "#d8576b"
            ],
            [
             0.6666666666666666,
             "#ed7953"
            ],
            [
             0.7777777777777778,
             "#fb9f3a"
            ],
            [
             0.8888888888888888,
             "#fdca26"
            ],
            [
             1,
             "#f0f921"
            ]
           ]
          },
          "colorway": [
           "#636efa",
           "#EF553B",
           "#00cc96",
           "#ab63fa",
           "#FFA15A",
           "#19d3f3",
           "#FF6692",
           "#B6E880",
           "#FF97FF",
           "#FECB52"
          ],
          "font": {
           "color": "#2a3f5f"
          },
          "geo": {
           "bgcolor": "white",
           "lakecolor": "white",
           "landcolor": "#E5ECF6",
           "showlakes": true,
           "showland": true,
           "subunitcolor": "white"
          },
          "hoverlabel": {
           "align": "left"
          },
          "hovermode": "closest",
          "mapbox": {
           "style": "light"
          },
          "paper_bgcolor": "white",
          "plot_bgcolor": "#E5ECF6",
          "polar": {
           "angularaxis": {
            "gridcolor": "white",
            "linecolor": "white",
            "ticks": ""
           },
           "bgcolor": "#E5ECF6",
           "radialaxis": {
            "gridcolor": "white",
            "linecolor": "white",
            "ticks": ""
           }
          },
          "scene": {
           "xaxis": {
            "backgroundcolor": "#E5ECF6",
            "gridcolor": "white",
            "gridwidth": 2,
            "linecolor": "white",
            "showbackground": true,
            "ticks": "",
            "zerolinecolor": "white"
           },
           "yaxis": {
            "backgroundcolor": "#E5ECF6",
            "gridcolor": "white",
            "gridwidth": 2,
            "linecolor": "white",
            "showbackground": true,
            "ticks": "",
            "zerolinecolor": "white"
           },
           "zaxis": {
            "backgroundcolor": "#E5ECF6",
            "gridcolor": "white",
            "gridwidth": 2,
            "linecolor": "white",
            "showbackground": true,
            "ticks": "",
            "zerolinecolor": "white"
           }
          },
          "shapedefaults": {
           "line": {
            "color": "#2a3f5f"
           }
          },
          "ternary": {
           "aaxis": {
            "gridcolor": "white",
            "linecolor": "white",
            "ticks": ""
           },
           "baxis": {
            "gridcolor": "white",
            "linecolor": "white",
            "ticks": ""
           },
           "bgcolor": "#E5ECF6",
           "caxis": {
            "gridcolor": "white",
            "linecolor": "white",
            "ticks": ""
           }
          },
          "title": {
           "x": 0.05
          },
          "xaxis": {
           "automargin": true,
           "gridcolor": "white",
           "linecolor": "white",
           "ticks": "",
           "title": {
            "standoff": 15
           },
           "zerolinecolor": "white",
           "zerolinewidth": 2
          },
          "yaxis": {
           "automargin": true,
           "gridcolor": "white",
           "linecolor": "white",
           "ticks": "",
           "title": {
            "standoff": 15
           },
           "zerolinecolor": "white",
           "zerolinewidth": 2
          }
         }
        },
        "title": {
         "text": "accuracy"
        },
        "yaxis": {
         "title": {
          "text": "accuracy"
         }
        }
       }
      }
     },
     "metadata": {},
     "output_type": "display_data"
    },
    {
     "data": {
      "application/vnd.plotly.v1+json": {
       "config": {
        "plotlyServerURL": "https://plot.ly"
       },
       "data": [
        {
         "name": "Full",
         "type": "box",
         "x": [
          "LogisticRegression",
          "LogisticRegression",
          "LogisticRegression",
          "LogisticRegression",
          "LogisticRegression",
          "LogisticRegression",
          "LogisticRegression",
          "LogisticRegression",
          "LogisticRegression",
          "LogisticRegression",
          "LogisticRegression",
          "LogisticRegression",
          "LogisticRegression",
          "LogisticRegression",
          "LogisticRegression",
          "LogisticRegression",
          "LogisticRegression",
          "LogisticRegression",
          "LogisticRegression",
          "LogisticRegression",
          "SVC",
          "SVC",
          "SVC",
          "SVC",
          "SVC",
          "SVC",
          "SVC",
          "SVC",
          "SVC",
          "SVC",
          "SVC",
          "SVC",
          "SVC",
          "SVC",
          "SVC",
          "SVC",
          "SVC",
          "SVC",
          "SVC",
          "SVC",
          "RandomForestClassifier",
          "RandomForestClassifier",
          "RandomForestClassifier",
          "RandomForestClassifier",
          "RandomForestClassifier",
          "RandomForestClassifier",
          "RandomForestClassifier",
          "RandomForestClassifier",
          "RandomForestClassifier",
          "RandomForestClassifier",
          "RandomForestClassifier",
          "RandomForestClassifier",
          "RandomForestClassifier",
          "RandomForestClassifier",
          "RandomForestClassifier",
          "RandomForestClassifier",
          "RandomForestClassifier",
          "RandomForestClassifier",
          "RandomForestClassifier",
          "RandomForestClassifier",
          "GradientBoostingClassifier",
          "GradientBoostingClassifier",
          "GradientBoostingClassifier",
          "GradientBoostingClassifier",
          "GradientBoostingClassifier",
          "GradientBoostingClassifier",
          "GradientBoostingClassifier",
          "GradientBoostingClassifier",
          "GradientBoostingClassifier",
          "GradientBoostingClassifier",
          "GradientBoostingClassifier",
          "GradientBoostingClassifier",
          "GradientBoostingClassifier",
          "GradientBoostingClassifier",
          "GradientBoostingClassifier",
          "GradientBoostingClassifier",
          "GradientBoostingClassifier",
          "GradientBoostingClassifier",
          "GradientBoostingClassifier",
          "GradientBoostingClassifier",
          "DeepNeuralNetwork",
          "DeepNeuralNetwork",
          "DeepNeuralNetwork",
          "DeepNeuralNetwork",
          "DeepNeuralNetwork",
          "DeepNeuralNetwork",
          "DeepNeuralNetwork",
          "DeepNeuralNetwork",
          "DeepNeuralNetwork",
          "DeepNeuralNetwork",
          "DeepNeuralNetwork",
          "DeepNeuralNetwork",
          "DeepNeuralNetwork",
          "DeepNeuralNetwork",
          "DeepNeuralNetwork",
          "DeepNeuralNetwork",
          "DeepNeuralNetwork",
          "DeepNeuralNetwork",
          "DeepNeuralNetwork",
          "DeepNeuralNetwork"
         ],
         "y": [
          0.5,
          0.5,
          0.5,
          0.5,
          0.5,
          0.5,
          0.5,
          0.5,
          0.5,
          0.5,
          0.5,
          0.5,
          0.5150788451640074,
          0.5,
          0.5,
          0.5,
          0.5,
          0.4859389671361502,
          0.5,
          0.5,
          0.5,
          0.5,
          0.5,
          0.5,
          0.5,
          0.5,
          0.5,
          0.5,
          0.5,
          0.5,
          0.5,
          0.5,
          0.5,
          0.4926886902812222,
          0.5,
          0.5,
          0.5,
          0.5,
          0.5,
          0.5,
          0.5012004662004662,
          0.5398437134434514,
          0.5531327499883019,
          0.567147068457255,
          0.5575586854460094,
          0.5553286384976526,
          0.5305164319248825,
          0.5766431924882629,
          0.5343896713615024,
          0.535868544600939,
          0.5626340326340327,
          0.5425693697066118,
          0.5095456459688363,
          0.5487459641570352,
          0.5051173708920188,
          0.5110328638497652,
          0.5399530516431924,
          0.5453521126760563,
          0.5053051643192488,
          0.5618075117370892,
          0.5397319347319347,
          0.5315497636984698,
          0.5352697580833841,
          0.5851621356043236,
          0.4963615023474178,
          0.5306338028169014,
          0.5641784037558686,
          0.5460093896713616,
          0.5471126760563381,
          0.5543427230046949,
          0.5422494172494172,
          0.5417154087314585,
          0.5346029666370316,
          0.5758621496420382,
          0.5747417840375587,
          0.5148591549295775,
          0.5547183098591549,
          0.5617605633802817,
          0.5724882629107981,
          0.5439671361502347,
          0.4980652680652681,
          0.5128562070094989,
          0.4781362594169669,
          0.4479902671845023,
          0.4705281690140844,
          0.4756572769953052,
          0.5020305164319249,
          0.5150821596244131,
          0.4866079812206572,
          0.5339084507042253,
          0.4432867132867133,
          0.5256773197323475,
          0.4933086893453746,
          0.487635113003603,
          0.4446596244131455,
          0.5066197183098591,
          0.4923826291079812,
          0.5133215962441314,
          0.4951643192488263,
          0.4838497652582159
         ]
        },
        {
         "name": "FR",
         "type": "box",
         "x": [
          "LogisticRegression",
          "LogisticRegression",
          "LogisticRegression",
          "LogisticRegression",
          "LogisticRegression",
          "LogisticRegression",
          "LogisticRegression",
          "LogisticRegression",
          "LogisticRegression",
          "LogisticRegression",
          "LogisticRegression",
          "LogisticRegression",
          "LogisticRegression",
          "LogisticRegression",
          "LogisticRegression",
          "LogisticRegression",
          "LogisticRegression",
          "LogisticRegression",
          "LogisticRegression",
          "LogisticRegression",
          "SVC",
          "SVC",
          "SVC",
          "SVC",
          "SVC",
          "SVC",
          "SVC",
          "SVC",
          "SVC",
          "SVC",
          "SVC",
          "SVC",
          "SVC",
          "SVC",
          "SVC",
          "SVC",
          "SVC",
          "SVC",
          "SVC",
          "SVC",
          "RandomForestClassifier",
          "RandomForestClassifier",
          "RandomForestClassifier",
          "RandomForestClassifier",
          "RandomForestClassifier",
          "RandomForestClassifier",
          "RandomForestClassifier",
          "RandomForestClassifier",
          "RandomForestClassifier",
          "RandomForestClassifier",
          "RandomForestClassifier",
          "RandomForestClassifier",
          "RandomForestClassifier",
          "RandomForestClassifier",
          "RandomForestClassifier",
          "RandomForestClassifier",
          "RandomForestClassifier",
          "RandomForestClassifier",
          "RandomForestClassifier",
          "RandomForestClassifier",
          "GradientBoostingClassifier",
          "GradientBoostingClassifier",
          "GradientBoostingClassifier",
          "GradientBoostingClassifier",
          "GradientBoostingClassifier",
          "GradientBoostingClassifier",
          "GradientBoostingClassifier",
          "GradientBoostingClassifier",
          "GradientBoostingClassifier",
          "GradientBoostingClassifier",
          "GradientBoostingClassifier",
          "GradientBoostingClassifier",
          "GradientBoostingClassifier",
          "GradientBoostingClassifier",
          "GradientBoostingClassifier",
          "GradientBoostingClassifier",
          "GradientBoostingClassifier",
          "GradientBoostingClassifier",
          "GradientBoostingClassifier",
          "GradientBoostingClassifier",
          "DeepNeuralNetwork",
          "DeepNeuralNetwork",
          "DeepNeuralNetwork",
          "DeepNeuralNetwork",
          "DeepNeuralNetwork",
          "DeepNeuralNetwork",
          "DeepNeuralNetwork",
          "DeepNeuralNetwork",
          "DeepNeuralNetwork",
          "DeepNeuralNetwork",
          "DeepNeuralNetwork",
          "DeepNeuralNetwork",
          "DeepNeuralNetwork",
          "DeepNeuralNetwork",
          "DeepNeuralNetwork",
          "DeepNeuralNetwork",
          "DeepNeuralNetwork",
          "DeepNeuralNetwork",
          "DeepNeuralNetwork",
          "DeepNeuralNetwork"
         ],
         "y": [
          0.5,
          0.5,
          0.5,
          0.5,
          0.5,
          0.5,
          0.5,
          0.5,
          0.5,
          0.5,
          0.5,
          0.5,
          0.5,
          0.5,
          0.5,
          0.5,
          0.5,
          0.5,
          0.5,
          0.5,
          0.5,
          0.5,
          0.5,
          0.5,
          0.5,
          0.5,
          0.5,
          0.5,
          0.5,
          0.5,
          0.5,
          0.5,
          0.5,
          0.5,
          0.5,
          0.5,
          0.5,
          0.5,
          0.5,
          0.5,
          0.5744638694638695,
          0.5690772542230125,
          0.5466870993402274,
          0.5551214262318095,
          0.5277230046948357,
          0.568661971830986,
          0.5747887323943661,
          0.5677464788732395,
          0.5041784037558685,
          0.5547652582159623,
          0.5461305361305361,
          0.5609704740068318,
          0.546289364091526,
          0.5667493332085536,
          0.5262441314553991,
          0.533075117370892,
          0.5390140845070422,
          0.5279107981220658,
          0.5629342723004696,
          0.5534741784037559,
          0.5530652680652681,
          0.5975855130784709,
          0.5282976931355575,
          0.5906134481306444,
          0.521737089201878,
          0.5874882629107981,
          0.583075117370892,
          0.5373004694835681,
          0.5485915492957746,
          0.5295070422535212,
          0.581037296037296,
          0.5727387581301764,
          0.5000584904777502,
          0.5185297833512704,
          0.5719483568075117,
          0.5719483568075117,
          0.5507981220657276,
          0.5636150234741784,
          0.5565727699530517,
          0.5313615023474179,
          0.4936713286713287,
          0.5016962238547564,
          0.4777268260727153,
          0.4649759019231669,
          0.4675,
          0.5030633802816901,
          0.4509154929577464,
          0.5242018779342723,
          0.4834624413145539,
          0.5319483568075117,
          0.4416666666666666,
          0.4970286837302887,
          0.4973094380234898,
          0.4867109634551494,
          0.4400352112676056,
          0.5093075117370891,
          0.4925352112676056,
          0.5125821596244131,
          0.5243075117370891,
          0.48268779342723
         ]
        },
        {
         "name": "SS",
         "type": "box",
         "x": [
          "LogisticRegression",
          "LogisticRegression",
          "LogisticRegression",
          "LogisticRegression",
          "LogisticRegression",
          "LogisticRegression",
          "LogisticRegression",
          "LogisticRegression",
          "LogisticRegression",
          "LogisticRegression",
          "LogisticRegression",
          "LogisticRegression",
          "LogisticRegression",
          "LogisticRegression",
          "LogisticRegression",
          "LogisticRegression",
          "LogisticRegression",
          "LogisticRegression",
          "LogisticRegression",
          "LogisticRegression",
          "SVC",
          "SVC",
          "SVC",
          "SVC",
          "SVC",
          "SVC",
          "SVC",
          "SVC",
          "SVC",
          "SVC",
          "SVC",
          "SVC",
          "SVC",
          "SVC",
          "SVC",
          "SVC",
          "SVC",
          "SVC",
          "SVC",
          "SVC",
          "RandomForestClassifier",
          "RandomForestClassifier",
          "RandomForestClassifier",
          "RandomForestClassifier",
          "RandomForestClassifier",
          "RandomForestClassifier",
          "RandomForestClassifier",
          "RandomForestClassifier",
          "RandomForestClassifier",
          "RandomForestClassifier",
          "RandomForestClassifier",
          "RandomForestClassifier",
          "RandomForestClassifier",
          "RandomForestClassifier",
          "RandomForestClassifier",
          "RandomForestClassifier",
          "RandomForestClassifier",
          "RandomForestClassifier",
          "RandomForestClassifier",
          "RandomForestClassifier",
          "GradientBoostingClassifier",
          "GradientBoostingClassifier",
          "GradientBoostingClassifier",
          "GradientBoostingClassifier",
          "GradientBoostingClassifier",
          "GradientBoostingClassifier",
          "GradientBoostingClassifier",
          "GradientBoostingClassifier",
          "GradientBoostingClassifier",
          "GradientBoostingClassifier",
          "GradientBoostingClassifier",
          "GradientBoostingClassifier",
          "GradientBoostingClassifier",
          "GradientBoostingClassifier",
          "GradientBoostingClassifier",
          "GradientBoostingClassifier",
          "GradientBoostingClassifier",
          "GradientBoostingClassifier",
          "GradientBoostingClassifier",
          "GradientBoostingClassifier",
          "DeepNeuralNetwork",
          "DeepNeuralNetwork",
          "DeepNeuralNetwork",
          "DeepNeuralNetwork",
          "DeepNeuralNetwork",
          "DeepNeuralNetwork",
          "DeepNeuralNetwork",
          "DeepNeuralNetwork",
          "DeepNeuralNetwork",
          "DeepNeuralNetwork",
          "DeepNeuralNetwork",
          "DeepNeuralNetwork",
          "DeepNeuralNetwork",
          "DeepNeuralNetwork",
          "DeepNeuralNetwork",
          "DeepNeuralNetwork",
          "DeepNeuralNetwork",
          "DeepNeuralNetwork",
          "DeepNeuralNetwork",
          "DeepNeuralNetwork"
         ],
         "y": [
          0.500979020979021,
          0.5,
          0.5,
          0.5,
          0.5,
          0.5,
          0.5,
          0.5,
          0.5170657276995305,
          0.5,
          0.5,
          0.5,
          0.5150788451640074,
          0.5,
          0.5,
          0.5098356807511737,
          0.5,
          0.5,
          0.5,
          0.5,
          0.5,
          0.5,
          0.5,
          0.5049132001310187,
          0.5,
          0.5,
          0.5,
          0.5,
          0.5,
          0.5,
          0.5,
          0.5,
          0.5,
          0.5,
          0.5,
          0.5,
          0.5,
          0.5,
          0.5,
          0.5,
          0.5561655011655011,
          0.5668195217818539,
          0.5748561134247345,
          0.6208998175097095,
          0.5382863849765258,
          0.5549530516431925,
          0.5434741784037559,
          0.5418075117370893,
          0.518262910798122,
          0.5523708920187794,
          0.539988344988345,
          0.5563848205512143,
          0.5319358008516213,
          0.6065462542698049,
          0.6060798122065727,
          0.525281690140845,
          0.5997887323943663,
          0.5434741784037559,
          0.5230751173708921,
          0.5857042253521128,
          0.5510722610722611,
          0.5365331524027888,
          0.5395863553413505,
          0.5734757381498292,
          0.5632394366197183,
          0.513943661971831,
          0.4915258215962441,
          0.5332159624413145,
          0.5285915492957746,
          0.5435915492957746,
          0.5482284382284383,
          0.5700131018670161,
          0.5510153946937439,
          0.5735342286275795,
          0.5398826291079811,
          0.5660093896713615,
          0.5306103286384977,
          0.5326760563380282,
          0.5435915492957746,
          0.5556338028169014,
          0.4961421911421912,
          0.5067381030368256,
          0.4854709653268448,
          0.454237050208226,
          0.4709154929577465,
          0.4789788732394366,
          0.4511619718309859,
          0.5298356807511737,
          0.4870774647887324,
          0.532218309859155,
          0.4441958041958042,
          0.4904192597445136,
          0.5008656590707034,
          0.4912381264330167,
          0.4513732394366197,
          0.5154577464788732,
          0.4894718309859155,
          0.4856103286384976,
          0.4987558685446009,
          0.4808802816901408
         ]
        },
        {
         "name": "SS & FR",
         "type": "box",
         "x": [
          "LogisticRegression",
          "LogisticRegression",
          "LogisticRegression",
          "LogisticRegression",
          "LogisticRegression",
          "LogisticRegression",
          "LogisticRegression",
          "LogisticRegression",
          "LogisticRegression",
          "LogisticRegression",
          "LogisticRegression",
          "LogisticRegression",
          "LogisticRegression",
          "LogisticRegression",
          "LogisticRegression",
          "LogisticRegression",
          "LogisticRegression",
          "LogisticRegression",
          "LogisticRegression",
          "LogisticRegression",
          "SVC",
          "SVC",
          "SVC",
          "SVC",
          "SVC",
          "SVC",
          "SVC",
          "SVC",
          "SVC",
          "SVC",
          "SVC",
          "SVC",
          "SVC",
          "SVC",
          "SVC",
          "SVC",
          "SVC",
          "SVC",
          "SVC",
          "SVC",
          "RandomForestClassifier",
          "RandomForestClassifier",
          "RandomForestClassifier",
          "RandomForestClassifier",
          "RandomForestClassifier",
          "RandomForestClassifier",
          "RandomForestClassifier",
          "RandomForestClassifier",
          "RandomForestClassifier",
          "RandomForestClassifier",
          "RandomForestClassifier",
          "RandomForestClassifier",
          "RandomForestClassifier",
          "RandomForestClassifier",
          "RandomForestClassifier",
          "RandomForestClassifier",
          "RandomForestClassifier",
          "RandomForestClassifier",
          "RandomForestClassifier",
          "RandomForestClassifier",
          "GradientBoostingClassifier",
          "GradientBoostingClassifier",
          "GradientBoostingClassifier",
          "GradientBoostingClassifier",
          "GradientBoostingClassifier",
          "GradientBoostingClassifier",
          "GradientBoostingClassifier",
          "GradientBoostingClassifier",
          "GradientBoostingClassifier",
          "GradientBoostingClassifier",
          "GradientBoostingClassifier",
          "GradientBoostingClassifier",
          "GradientBoostingClassifier",
          "GradientBoostingClassifier",
          "GradientBoostingClassifier",
          "GradientBoostingClassifier",
          "GradientBoostingClassifier",
          "GradientBoostingClassifier",
          "GradientBoostingClassifier",
          "GradientBoostingClassifier",
          "DeepNeuralNetwork",
          "DeepNeuralNetwork",
          "DeepNeuralNetwork",
          "DeepNeuralNetwork",
          "DeepNeuralNetwork",
          "DeepNeuralNetwork",
          "DeepNeuralNetwork",
          "DeepNeuralNetwork",
          "DeepNeuralNetwork",
          "DeepNeuralNetwork",
          "DeepNeuralNetwork",
          "DeepNeuralNetwork",
          "DeepNeuralNetwork",
          "DeepNeuralNetwork",
          "DeepNeuralNetwork",
          "DeepNeuralNetwork",
          "DeepNeuralNetwork",
          "DeepNeuralNetwork",
          "DeepNeuralNetwork",
          "DeepNeuralNetwork"
         ],
         "y": [
          0.5,
          0.5,
          0.5,
          0.5,
          0.5,
          0.520774647887324,
          0.5,
          0.5,
          0.5,
          0.5,
          0.5,
          0.5,
          0.5,
          0.4926886902812222,
          0.535962441314554,
          0.5,
          0.5,
          0.5,
          0.5,
          0.5,
          0.5,
          0.5,
          0.5,
          0.5,
          0.5,
          0.5,
          0.5,
          0.5,
          0.5,
          0.5,
          0.5,
          0.5,
          0.5,
          0.4926886902812222,
          0.5,
          0.5,
          0.5,
          0.5,
          0.5131690140845071,
          0.5,
          0.5506410256410257,
          0.5982406064292733,
          0.5522670909175986,
          0.5555893500538113,
          0.5429342723004694,
          0.5940375586854459,
          0.5288262910798122,
          0.5468075117370893,
          0.5179107981220658,
          0.5947887323943661,
          0.5603146853146853,
          0.592660614851902,
          0.5652870712647982,
          0.5748561134247345,
          0.5544131455399061,
          0.561244131455399,
          0.5177230046948357,
          0.5232629107981221,
          0.5608920187793427,
          0.5614553990610329,
          0.5472494172494172,
          0.6417692199709887,
          0.5649010341116466,
          0.5352697580833841,
          0.5285915492957746,
          0.5354460093896714,
          0.5098591549295775,
          0.5417370892018779,
          0.5202347417840376,
          0.5530516431924883,
          0.553030303030303,
          0.5841677974825699,
          0.5412474849094567,
          0.5412474849094567,
          0.5334037558685446,
          0.5580516431924882,
          0.549906103286385,
          0.5211737089201878,
          0.5437558685446009,
          0.6045539906103287,
          0.4958624708624709,
          0.5064339525525244,
          0.4825581395348838,
          0.4603668522764493,
          0.4964201877934272,
          0.4477582159624413,
          0.4491784037558685,
          0.5140845070422535,
          0.4843427230046948,
          0.533368544600939,
          0.4432867132867133,
          0.4994735857002479,
          0.5195943100463245,
          0.4843011557718404,
          0.4991901408450703,
          0.531349765258216,
          0.4956103286384976,
          0.5162323943661972,
          0.4982276995305164,
          0.4935680751173709
         ]
        }
       ],
       "layout": {
        "boxmode": "group",
        "template": {
         "data": {
          "bar": [
           {
            "error_x": {
             "color": "#2a3f5f"
            },
            "error_y": {
             "color": "#2a3f5f"
            },
            "marker": {
             "line": {
              "color": "#E5ECF6",
              "width": 0.5
             },
             "pattern": {
              "fillmode": "overlay",
              "size": 10,
              "solidity": 0.2
             }
            },
            "type": "bar"
           }
          ],
          "barpolar": [
           {
            "marker": {
             "line": {
              "color": "#E5ECF6",
              "width": 0.5
             },
             "pattern": {
              "fillmode": "overlay",
              "size": 10,
              "solidity": 0.2
             }
            },
            "type": "barpolar"
           }
          ],
          "carpet": [
           {
            "aaxis": {
             "endlinecolor": "#2a3f5f",
             "gridcolor": "white",
             "linecolor": "white",
             "minorgridcolor": "white",
             "startlinecolor": "#2a3f5f"
            },
            "baxis": {
             "endlinecolor": "#2a3f5f",
             "gridcolor": "white",
             "linecolor": "white",
             "minorgridcolor": "white",
             "startlinecolor": "#2a3f5f"
            },
            "type": "carpet"
           }
          ],
          "choropleth": [
           {
            "colorbar": {
             "outlinewidth": 0,
             "ticks": ""
            },
            "type": "choropleth"
           }
          ],
          "contour": [
           {
            "colorbar": {
             "outlinewidth": 0,
             "ticks": ""
            },
            "colorscale": [
             [
              0,
              "#0d0887"
             ],
             [
              0.1111111111111111,
              "#46039f"
             ],
             [
              0.2222222222222222,
              "#7201a8"
             ],
             [
              0.3333333333333333,
              "#9c179e"
             ],
             [
              0.4444444444444444,
              "#bd3786"
             ],
             [
              0.5555555555555556,
              "#d8576b"
             ],
             [
              0.6666666666666666,
              "#ed7953"
             ],
             [
              0.7777777777777778,
              "#fb9f3a"
             ],
             [
              0.8888888888888888,
              "#fdca26"
             ],
             [
              1,
              "#f0f921"
             ]
            ],
            "type": "contour"
           }
          ],
          "contourcarpet": [
           {
            "colorbar": {
             "outlinewidth": 0,
             "ticks": ""
            },
            "type": "contourcarpet"
           }
          ],
          "heatmap": [
           {
            "colorbar": {
             "outlinewidth": 0,
             "ticks": ""
            },
            "colorscale": [
             [
              0,
              "#0d0887"
             ],
             [
              0.1111111111111111,
              "#46039f"
             ],
             [
              0.2222222222222222,
              "#7201a8"
             ],
             [
              0.3333333333333333,
              "#9c179e"
             ],
             [
              0.4444444444444444,
              "#bd3786"
             ],
             [
              0.5555555555555556,
              "#d8576b"
             ],
             [
              0.6666666666666666,
              "#ed7953"
             ],
             [
              0.7777777777777778,
              "#fb9f3a"
             ],
             [
              0.8888888888888888,
              "#fdca26"
             ],
             [
              1,
              "#f0f921"
             ]
            ],
            "type": "heatmap"
           }
          ],
          "heatmapgl": [
           {
            "colorbar": {
             "outlinewidth": 0,
             "ticks": ""
            },
            "colorscale": [
             [
              0,
              "#0d0887"
             ],
             [
              0.1111111111111111,
              "#46039f"
             ],
             [
              0.2222222222222222,
              "#7201a8"
             ],
             [
              0.3333333333333333,
              "#9c179e"
             ],
             [
              0.4444444444444444,
              "#bd3786"
             ],
             [
              0.5555555555555556,
              "#d8576b"
             ],
             [
              0.6666666666666666,
              "#ed7953"
             ],
             [
              0.7777777777777778,
              "#fb9f3a"
             ],
             [
              0.8888888888888888,
              "#fdca26"
             ],
             [
              1,
              "#f0f921"
             ]
            ],
            "type": "heatmapgl"
           }
          ],
          "histogram": [
           {
            "marker": {
             "pattern": {
              "fillmode": "overlay",
              "size": 10,
              "solidity": 0.2
             }
            },
            "type": "histogram"
           }
          ],
          "histogram2d": [
           {
            "colorbar": {
             "outlinewidth": 0,
             "ticks": ""
            },
            "colorscale": [
             [
              0,
              "#0d0887"
             ],
             [
              0.1111111111111111,
              "#46039f"
             ],
             [
              0.2222222222222222,
              "#7201a8"
             ],
             [
              0.3333333333333333,
              "#9c179e"
             ],
             [
              0.4444444444444444,
              "#bd3786"
             ],
             [
              0.5555555555555556,
              "#d8576b"
             ],
             [
              0.6666666666666666,
              "#ed7953"
             ],
             [
              0.7777777777777778,
              "#fb9f3a"
             ],
             [
              0.8888888888888888,
              "#fdca26"
             ],
             [
              1,
              "#f0f921"
             ]
            ],
            "type": "histogram2d"
           }
          ],
          "histogram2dcontour": [
           {
            "colorbar": {
             "outlinewidth": 0,
             "ticks": ""
            },
            "colorscale": [
             [
              0,
              "#0d0887"
             ],
             [
              0.1111111111111111,
              "#46039f"
             ],
             [
              0.2222222222222222,
              "#7201a8"
             ],
             [
              0.3333333333333333,
              "#9c179e"
             ],
             [
              0.4444444444444444,
              "#bd3786"
             ],
             [
              0.5555555555555556,
              "#d8576b"
             ],
             [
              0.6666666666666666,
              "#ed7953"
             ],
             [
              0.7777777777777778,
              "#fb9f3a"
             ],
             [
              0.8888888888888888,
              "#fdca26"
             ],
             [
              1,
              "#f0f921"
             ]
            ],
            "type": "histogram2dcontour"
           }
          ],
          "mesh3d": [
           {
            "colorbar": {
             "outlinewidth": 0,
             "ticks": ""
            },
            "type": "mesh3d"
           }
          ],
          "parcoords": [
           {
            "line": {
             "colorbar": {
              "outlinewidth": 0,
              "ticks": ""
             }
            },
            "type": "parcoords"
           }
          ],
          "pie": [
           {
            "automargin": true,
            "type": "pie"
           }
          ],
          "scatter": [
           {
            "fillpattern": {
             "fillmode": "overlay",
             "size": 10,
             "solidity": 0.2
            },
            "type": "scatter"
           }
          ],
          "scatter3d": [
           {
            "line": {
             "colorbar": {
              "outlinewidth": 0,
              "ticks": ""
             }
            },
            "marker": {
             "colorbar": {
              "outlinewidth": 0,
              "ticks": ""
             }
            },
            "type": "scatter3d"
           }
          ],
          "scattercarpet": [
           {
            "marker": {
             "colorbar": {
              "outlinewidth": 0,
              "ticks": ""
             }
            },
            "type": "scattercarpet"
           }
          ],
          "scattergeo": [
           {
            "marker": {
             "colorbar": {
              "outlinewidth": 0,
              "ticks": ""
             }
            },
            "type": "scattergeo"
           }
          ],
          "scattergl": [
           {
            "marker": {
             "colorbar": {
              "outlinewidth": 0,
              "ticks": ""
             }
            },
            "type": "scattergl"
           }
          ],
          "scattermapbox": [
           {
            "marker": {
             "colorbar": {
              "outlinewidth": 0,
              "ticks": ""
             }
            },
            "type": "scattermapbox"
           }
          ],
          "scatterpolar": [
           {
            "marker": {
             "colorbar": {
              "outlinewidth": 0,
              "ticks": ""
             }
            },
            "type": "scatterpolar"
           }
          ],
          "scatterpolargl": [
           {
            "marker": {
             "colorbar": {
              "outlinewidth": 0,
              "ticks": ""
             }
            },
            "type": "scatterpolargl"
           }
          ],
          "scatterternary": [
           {
            "marker": {
             "colorbar": {
              "outlinewidth": 0,
              "ticks": ""
             }
            },
            "type": "scatterternary"
           }
          ],
          "surface": [
           {
            "colorbar": {
             "outlinewidth": 0,
             "ticks": ""
            },
            "colorscale": [
             [
              0,
              "#0d0887"
             ],
             [
              0.1111111111111111,
              "#46039f"
             ],
             [
              0.2222222222222222,
              "#7201a8"
             ],
             [
              0.3333333333333333,
              "#9c179e"
             ],
             [
              0.4444444444444444,
              "#bd3786"
             ],
             [
              0.5555555555555556,
              "#d8576b"
             ],
             [
              0.6666666666666666,
              "#ed7953"
             ],
             [
              0.7777777777777778,
              "#fb9f3a"
             ],
             [
              0.8888888888888888,
              "#fdca26"
             ],
             [
              1,
              "#f0f921"
             ]
            ],
            "type": "surface"
           }
          ],
          "table": [
           {
            "cells": {
             "fill": {
              "color": "#EBF0F8"
             },
             "line": {
              "color": "white"
             }
            },
            "header": {
             "fill": {
              "color": "#C8D4E3"
             },
             "line": {
              "color": "white"
             }
            },
            "type": "table"
           }
          ]
         },
         "layout": {
          "annotationdefaults": {
           "arrowcolor": "#2a3f5f",
           "arrowhead": 0,
           "arrowwidth": 1
          },
          "autotypenumbers": "strict",
          "coloraxis": {
           "colorbar": {
            "outlinewidth": 0,
            "ticks": ""
           }
          },
          "colorscale": {
           "diverging": [
            [
             0,
             "#8e0152"
            ],
            [
             0.1,
             "#c51b7d"
            ],
            [
             0.2,
             "#de77ae"
            ],
            [
             0.3,
             "#f1b6da"
            ],
            [
             0.4,
             "#fde0ef"
            ],
            [
             0.5,
             "#f7f7f7"
            ],
            [
             0.6,
             "#e6f5d0"
            ],
            [
             0.7,
             "#b8e186"
            ],
            [
             0.8,
             "#7fbc41"
            ],
            [
             0.9,
             "#4d9221"
            ],
            [
             1,
             "#276419"
            ]
           ],
           "sequential": [
            [
             0,
             "#0d0887"
            ],
            [
             0.1111111111111111,
             "#46039f"
            ],
            [
             0.2222222222222222,
             "#7201a8"
            ],
            [
             0.3333333333333333,
             "#9c179e"
            ],
            [
             0.4444444444444444,
             "#bd3786"
            ],
            [
             0.5555555555555556,
             "#d8576b"
            ],
            [
             0.6666666666666666,
             "#ed7953"
            ],
            [
             0.7777777777777778,
             "#fb9f3a"
            ],
            [
             0.8888888888888888,
             "#fdca26"
            ],
            [
             1,
             "#f0f921"
            ]
           ],
           "sequentialminus": [
            [
             0,
             "#0d0887"
            ],
            [
             0.1111111111111111,
             "#46039f"
            ],
            [
             0.2222222222222222,
             "#7201a8"
            ],
            [
             0.3333333333333333,
             "#9c179e"
            ],
            [
             0.4444444444444444,
             "#bd3786"
            ],
            [
             0.5555555555555556,
             "#d8576b"
            ],
            [
             0.6666666666666666,
             "#ed7953"
            ],
            [
             0.7777777777777778,
             "#fb9f3a"
            ],
            [
             0.8888888888888888,
             "#fdca26"
            ],
            [
             1,
             "#f0f921"
            ]
           ]
          },
          "colorway": [
           "#636efa",
           "#EF553B",
           "#00cc96",
           "#ab63fa",
           "#FFA15A",
           "#19d3f3",
           "#FF6692",
           "#B6E880",
           "#FF97FF",
           "#FECB52"
          ],
          "font": {
           "color": "#2a3f5f"
          },
          "geo": {
           "bgcolor": "white",
           "lakecolor": "white",
           "landcolor": "#E5ECF6",
           "showlakes": true,
           "showland": true,
           "subunitcolor": "white"
          },
          "hoverlabel": {
           "align": "left"
          },
          "hovermode": "closest",
          "mapbox": {
           "style": "light"
          },
          "paper_bgcolor": "white",
          "plot_bgcolor": "#E5ECF6",
          "polar": {
           "angularaxis": {
            "gridcolor": "white",
            "linecolor": "white",
            "ticks": ""
           },
           "bgcolor": "#E5ECF6",
           "radialaxis": {
            "gridcolor": "white",
            "linecolor": "white",
            "ticks": ""
           }
          },
          "scene": {
           "xaxis": {
            "backgroundcolor": "#E5ECF6",
            "gridcolor": "white",
            "gridwidth": 2,
            "linecolor": "white",
            "showbackground": true,
            "ticks": "",
            "zerolinecolor": "white"
           },
           "yaxis": {
            "backgroundcolor": "#E5ECF6",
            "gridcolor": "white",
            "gridwidth": 2,
            "linecolor": "white",
            "showbackground": true,
            "ticks": "",
            "zerolinecolor": "white"
           },
           "zaxis": {
            "backgroundcolor": "#E5ECF6",
            "gridcolor": "white",
            "gridwidth": 2,
            "linecolor": "white",
            "showbackground": true,
            "ticks": "",
            "zerolinecolor": "white"
           }
          },
          "shapedefaults": {
           "line": {
            "color": "#2a3f5f"
           }
          },
          "ternary": {
           "aaxis": {
            "gridcolor": "white",
            "linecolor": "white",
            "ticks": ""
           },
           "baxis": {
            "gridcolor": "white",
            "linecolor": "white",
            "ticks": ""
           },
           "bgcolor": "#E5ECF6",
           "caxis": {
            "gridcolor": "white",
            "linecolor": "white",
            "ticks": ""
           }
          },
          "title": {
           "x": 0.05
          },
          "xaxis": {
           "automargin": true,
           "gridcolor": "white",
           "linecolor": "white",
           "ticks": "",
           "title": {
            "standoff": 15
           },
           "zerolinecolor": "white",
           "zerolinewidth": 2
          },
          "yaxis": {
           "automargin": true,
           "gridcolor": "white",
           "linecolor": "white",
           "ticks": "",
           "title": {
            "standoff": 15
           },
           "zerolinecolor": "white",
           "zerolinewidth": 2
          }
         }
        },
        "title": {
         "text": "auc"
        },
        "yaxis": {
         "title": {
          "text": "auc"
         }
        }
       }
      }
     },
     "metadata": {},
     "output_type": "display_data"
    },
    {
     "data": {
      "application/vnd.plotly.v1+json": {
       "config": {
        "plotlyServerURL": "https://plot.ly"
       },
       "data": [
        {
         "name": "Full",
         "type": "box",
         "x": [
          "LogisticRegression",
          "LogisticRegression",
          "LogisticRegression",
          "LogisticRegression",
          "LogisticRegression",
          "LogisticRegression",
          "LogisticRegression",
          "LogisticRegression",
          "LogisticRegression",
          "LogisticRegression",
          "LogisticRegression",
          "LogisticRegression",
          "LogisticRegression",
          "LogisticRegression",
          "LogisticRegression",
          "LogisticRegression",
          "LogisticRegression",
          "LogisticRegression",
          "LogisticRegression",
          "LogisticRegression",
          "SVC",
          "SVC",
          "SVC",
          "SVC",
          "SVC",
          "SVC",
          "SVC",
          "SVC",
          "SVC",
          "SVC",
          "SVC",
          "SVC",
          "SVC",
          "SVC",
          "SVC",
          "SVC",
          "SVC",
          "SVC",
          "SVC",
          "SVC",
          "RandomForestClassifier",
          "RandomForestClassifier",
          "RandomForestClassifier",
          "RandomForestClassifier",
          "RandomForestClassifier",
          "RandomForestClassifier",
          "RandomForestClassifier",
          "RandomForestClassifier",
          "RandomForestClassifier",
          "RandomForestClassifier",
          "RandomForestClassifier",
          "RandomForestClassifier",
          "RandomForestClassifier",
          "RandomForestClassifier",
          "RandomForestClassifier",
          "RandomForestClassifier",
          "RandomForestClassifier",
          "RandomForestClassifier",
          "RandomForestClassifier",
          "RandomForestClassifier",
          "GradientBoostingClassifier",
          "GradientBoostingClassifier",
          "GradientBoostingClassifier",
          "GradientBoostingClassifier",
          "GradientBoostingClassifier",
          "GradientBoostingClassifier",
          "GradientBoostingClassifier",
          "GradientBoostingClassifier",
          "GradientBoostingClassifier",
          "GradientBoostingClassifier",
          "GradientBoostingClassifier",
          "GradientBoostingClassifier",
          "GradientBoostingClassifier",
          "GradientBoostingClassifier",
          "GradientBoostingClassifier",
          "GradientBoostingClassifier",
          "GradientBoostingClassifier",
          "GradientBoostingClassifier",
          "GradientBoostingClassifier",
          "GradientBoostingClassifier",
          "DeepNeuralNetwork",
          "DeepNeuralNetwork",
          "DeepNeuralNetwork",
          "DeepNeuralNetwork",
          "DeepNeuralNetwork",
          "DeepNeuralNetwork",
          "DeepNeuralNetwork",
          "DeepNeuralNetwork",
          "DeepNeuralNetwork",
          "DeepNeuralNetwork",
          "DeepNeuralNetwork",
          "DeepNeuralNetwork",
          "DeepNeuralNetwork",
          "DeepNeuralNetwork",
          "DeepNeuralNetwork",
          "DeepNeuralNetwork",
          "DeepNeuralNetwork",
          "DeepNeuralNetwork",
          "DeepNeuralNetwork",
          "DeepNeuralNetwork"
         ],
         "y": [
          11.634858768947524,
          11.553496120213625,
          11.553496120213625,
          11.553496120213625,
          11.57963525170732,
          11.57963525170732,
          11.57963525170732,
          11.57963525170732,
          11.57963525170732,
          11.57963525170732,
          11.634858768947524,
          11.553496120213625,
          11.634858768947524,
          11.553496120213625,
          11.57963525170732,
          11.57963525170732,
          11.57963525170732,
          12.721289431453112,
          11.57963525170732,
          11.57963525170732,
          11.634858768947524,
          11.553496120213625,
          11.553496120213625,
          11.553496120213625,
          11.57963525170732,
          11.57963525170732,
          11.57963525170732,
          11.57963525170732,
          11.57963525170732,
          11.57963525170732,
          11.634858768947524,
          11.553496120213625,
          11.553496120213625,
          12.367122607552613,
          11.57963525170732,
          11.57963525170732,
          11.57963525170732,
          11.57963525170732,
          11.57963525170732,
          11.57963525170732,
          14.970727367037371,
          14.157100879698383,
          13.506199689827197,
          13.913012933496688,
          14.026037065448303,
          13.862943611198904,
          15.167691245194096,
          13.455209975575404,
          14.4337707010718,
          14.270677246822402,
          13.668924987294991,
          13.750287636028892,
          15.458903259440763,
          13.994375582230589,
          15.412331426568194,
          14.759957609570597,
          14.4337707010718,
          15.167691245194094,
          15.493878153692892,
          13.455209975575404,
          12.285759958818712,
          12.285759958818712,
          12.285759958818712,
          11.390770822745829,
          14.026037065448302,
          12.80283615857781,
          12.068915614455516,
          12.232009068704912,
          11.905822160206116,
          11.824275433081418,
          11.71622141768142,
          11.87894671514922,
          12.773935851222106,
          11.390770822745829,
          11.824275433081418,
          12.395102522954314,
          11.987368887330817,
          11.824275433081418,
          10.845714707585024,
          12.150462341580216,
          0.6463284600433116,
          0.6413978996533249,
          0.6385700824779803,
          0.6413658638031248,
          0.6390254297541047,
          0.6431068192623135,
          0.6344714696627755,
          0.6386273016667788,
          0.657183316657652,
          0.6296968965552778,
          0.6490623498536995,
          0.6447821393612392,
          0.6384376374219325,
          0.6389835824745232,
          0.6539949762846399,
          0.6334775805636172,
          0.6434689456235139,
          0.6333730885655185,
          0.6438380808189696,
          0.6402688831572876
         ]
        },
        {
         "name": "FR",
         "type": "box",
         "x": [
          "LogisticRegression",
          "LogisticRegression",
          "LogisticRegression",
          "LogisticRegression",
          "LogisticRegression",
          "LogisticRegression",
          "LogisticRegression",
          "LogisticRegression",
          "LogisticRegression",
          "LogisticRegression",
          "LogisticRegression",
          "LogisticRegression",
          "LogisticRegression",
          "LogisticRegression",
          "LogisticRegression",
          "LogisticRegression",
          "LogisticRegression",
          "LogisticRegression",
          "LogisticRegression",
          "LogisticRegression",
          "SVC",
          "SVC",
          "SVC",
          "SVC",
          "SVC",
          "SVC",
          "SVC",
          "SVC",
          "SVC",
          "SVC",
          "SVC",
          "SVC",
          "SVC",
          "SVC",
          "SVC",
          "SVC",
          "SVC",
          "SVC",
          "SVC",
          "SVC",
          "RandomForestClassifier",
          "RandomForestClassifier",
          "RandomForestClassifier",
          "RandomForestClassifier",
          "RandomForestClassifier",
          "RandomForestClassifier",
          "RandomForestClassifier",
          "RandomForestClassifier",
          "RandomForestClassifier",
          "RandomForestClassifier",
          "RandomForestClassifier",
          "RandomForestClassifier",
          "RandomForestClassifier",
          "RandomForestClassifier",
          "RandomForestClassifier",
          "RandomForestClassifier",
          "RandomForestClassifier",
          "RandomForestClassifier",
          "RandomForestClassifier",
          "RandomForestClassifier",
          "GradientBoostingClassifier",
          "GradientBoostingClassifier",
          "GradientBoostingClassifier",
          "GradientBoostingClassifier",
          "GradientBoostingClassifier",
          "GradientBoostingClassifier",
          "GradientBoostingClassifier",
          "GradientBoostingClassifier",
          "GradientBoostingClassifier",
          "GradientBoostingClassifier",
          "GradientBoostingClassifier",
          "GradientBoostingClassifier",
          "GradientBoostingClassifier",
          "GradientBoostingClassifier",
          "GradientBoostingClassifier",
          "GradientBoostingClassifier",
          "GradientBoostingClassifier",
          "GradientBoostingClassifier",
          "GradientBoostingClassifier",
          "GradientBoostingClassifier",
          "DeepNeuralNetwork",
          "DeepNeuralNetwork",
          "DeepNeuralNetwork",
          "DeepNeuralNetwork",
          "DeepNeuralNetwork",
          "DeepNeuralNetwork",
          "DeepNeuralNetwork",
          "DeepNeuralNetwork",
          "DeepNeuralNetwork",
          "DeepNeuralNetwork",
          "DeepNeuralNetwork",
          "DeepNeuralNetwork",
          "DeepNeuralNetwork",
          "DeepNeuralNetwork",
          "DeepNeuralNetwork",
          "DeepNeuralNetwork",
          "DeepNeuralNetwork",
          "DeepNeuralNetwork",
          "DeepNeuralNetwork",
          "DeepNeuralNetwork"
         ],
         "y": [
          11.634858768947524,
          11.553496120213625,
          11.553496120213625,
          11.553496120213625,
          11.57963525170732,
          11.57963525170732,
          11.57963525170732,
          11.57963525170732,
          11.57963525170732,
          11.57963525170732,
          11.634858768947524,
          11.553496120213625,
          11.553496120213625,
          11.553496120213625,
          11.57963525170732,
          11.57963525170732,
          11.57963525170732,
          11.57963525170732,
          11.57963525170732,
          11.57963525170732,
          11.634858768947524,
          11.553496120213625,
          11.553496120213625,
          11.553496120213625,
          11.57963525170732,
          11.57963525170732,
          11.57963525170732,
          11.57963525170732,
          11.57963525170732,
          11.57963525170732,
          11.634858768947524,
          11.553496120213625,
          11.553496120213625,
          11.553496120213625,
          11.57963525170732,
          11.57963525170732,
          11.57963525170732,
          11.57963525170732,
          11.57963525170732,
          11.57963525170732,
          13.1807490948916,
          13.1807490948916,
          13.913012933496688,
          14.31982617716618,
          14.759957609570597,
          13.210569794201309,
          13.455209975575409,
          13.618303429824806,
          15.004597790944697,
          13.618303429824806,
          14.563914123367876,
          13.668924987294991,
          13.75028763602889,
          13.75028763602889,
          14.923051063819996,
          13.862943611198904,
          14.026037065448303,
          14.841504336695296,
          13.944490338323602,
          13.862943611198904,
          11.634858768947524,
          11.146682876544132,
          11.71622141768142,
          10.57714433540684,
          12.96592961282721,
          10.11179416346273,
          11.41654179745792,
          12.476649250079014,
          11.742728705956718,
          12.313555795829616,
          10.983957579076334,
          11.634858768947524,
          13.0993864461577,
          12.285759958818714,
          11.41654179745792,
          11.416541797457922,
          11.090354888959125,
          11.824275433081418,
          11.987368887330817,
          12.313555795829616,
          0.6368175338055537,
          0.6338377860023916,
          0.6440918954562488,
          0.6408724285328309,
          0.6438188172741522,
          0.6442010250560318,
          0.6448360240430363,
          0.6396364199338752,
          0.6423314279227449,
          0.6288534580441982,
          0.6605133418272685,
          0.6368759718653383,
          0.6368854533670442,
          0.6414921102244053,
          0.6551742528618668,
          0.6341205874285376,
          0.6373931387956003,
          0.638546097858171,
          0.6316227391557762,
          0.6409256205521766
         ]
        },
        {
         "name": "SS",
         "type": "box",
         "x": [
          "LogisticRegression",
          "LogisticRegression",
          "LogisticRegression",
          "LogisticRegression",
          "LogisticRegression",
          "LogisticRegression",
          "LogisticRegression",
          "LogisticRegression",
          "LogisticRegression",
          "LogisticRegression",
          "LogisticRegression",
          "LogisticRegression",
          "LogisticRegression",
          "LogisticRegression",
          "LogisticRegression",
          "LogisticRegression",
          "LogisticRegression",
          "LogisticRegression",
          "LogisticRegression",
          "LogisticRegression",
          "SVC",
          "SVC",
          "SVC",
          "SVC",
          "SVC",
          "SVC",
          "SVC",
          "SVC",
          "SVC",
          "SVC",
          "SVC",
          "SVC",
          "SVC",
          "SVC",
          "SVC",
          "SVC",
          "SVC",
          "SVC",
          "SVC",
          "SVC",
          "RandomForestClassifier",
          "RandomForestClassifier",
          "RandomForestClassifier",
          "RandomForestClassifier",
          "RandomForestClassifier",
          "RandomForestClassifier",
          "RandomForestClassifier",
          "RandomForestClassifier",
          "RandomForestClassifier",
          "RandomForestClassifier",
          "RandomForestClassifier",
          "RandomForestClassifier",
          "RandomForestClassifier",
          "RandomForestClassifier",
          "RandomForestClassifier",
          "RandomForestClassifier",
          "RandomForestClassifier",
          "RandomForestClassifier",
          "RandomForestClassifier",
          "RandomForestClassifier",
          "GradientBoostingClassifier",
          "GradientBoostingClassifier",
          "GradientBoostingClassifier",
          "GradientBoostingClassifier",
          "GradientBoostingClassifier",
          "GradientBoostingClassifier",
          "GradientBoostingClassifier",
          "GradientBoostingClassifier",
          "GradientBoostingClassifier",
          "GradientBoostingClassifier",
          "GradientBoostingClassifier",
          "GradientBoostingClassifier",
          "GradientBoostingClassifier",
          "GradientBoostingClassifier",
          "GradientBoostingClassifier",
          "GradientBoostingClassifier",
          "GradientBoostingClassifier",
          "GradientBoostingClassifier",
          "GradientBoostingClassifier",
          "GradientBoostingClassifier",
          "DeepNeuralNetwork",
          "DeepNeuralNetwork",
          "DeepNeuralNetwork",
          "DeepNeuralNetwork",
          "DeepNeuralNetwork",
          "DeepNeuralNetwork",
          "DeepNeuralNetwork",
          "DeepNeuralNetwork",
          "DeepNeuralNetwork",
          "DeepNeuralNetwork",
          "DeepNeuralNetwork",
          "DeepNeuralNetwork",
          "DeepNeuralNetwork",
          "DeepNeuralNetwork",
          "DeepNeuralNetwork",
          "DeepNeuralNetwork",
          "DeepNeuralNetwork",
          "DeepNeuralNetwork",
          "DeepNeuralNetwork",
          "DeepNeuralNetwork"
         ],
         "y": [
          12.123034661350914,
          11.553496120213625,
          11.553496120213625,
          11.553496120213625,
          11.57963525170732,
          11.57963525170732,
          11.57963525170732,
          11.57963525170732,
          11.742728705956718,
          11.57963525170732,
          11.634858768947524,
          11.553496120213625,
          11.634858768947524,
          11.553496120213625,
          11.57963525170732,
          11.824275433081418,
          11.57963525170732,
          11.57963525170732,
          11.57963525170732,
          11.57963525170732,
          11.634858768947524,
          11.553496120213625,
          11.553496120213625,
          12.04167201261702,
          11.57963525170732,
          11.57963525170732,
          11.57963525170732,
          11.57963525170732,
          11.57963525170732,
          11.57963525170732,
          11.634858768947524,
          11.553496120213625,
          11.553496120213625,
          11.553496120213625,
          11.57963525170732,
          11.57963525170732,
          11.57963525170732,
          11.57963525170732,
          11.57963525170732,
          11.57963525170732,
          13.1807490948916,
          13.0180237974238,
          13.2621117436255,
          11.553496120213625,
          14.515317428196498,
          13.699850156949504,
          14.352223973947105,
          14.4337707010718,
          14.678410882445895,
          14.189130519697702,
          14.238463528432282,
          14.075738230964484,
          14.726639420835674,
          12.52984790502041,
          11.742728705956718,
          13.699850156949504,
          12.232009068704912,
          14.3522239739471,
          14.3522239739471,
          12.558195977203711,
          11.553496120213625,
          12.041672012617015,
          12.52984790502041,
          10.414419037939044,
          11.66118197883202,
          12.802836158577811,
          13.536756702700105,
          12.313555795829616,
          12.721289431453114,
          11.987368887330817,
          11.960309363883118,
          12.04167201261702,
          11.87894671514922,
          11.960309363883118,
          11.987368887330817,
          11.253448343208522,
          11.987368887330817,
          12.884382885702513,
          11.987368887330817,
          11.57963525170732,
          0.6484674476081899,
          0.6422021262070052,
          0.639779929875323,
          0.6423597969238666,
          0.639592932544392,
          0.6408396966222458,
          0.6432938959828177,
          0.6362393363762181,
          0.6358601888616495,
          0.6322492079324883,
          0.6536218632391411,
          0.641353246903052,
          0.6344751342476188,
          0.6400523536588182,
          0.6554222358609354,
          0.6349491082729257,
          0.6385594730616535,
          0.6384714841580246,
          0.6551891631019009,
          0.6377226060550826
         ]
        },
        {
         "name": "SS & FR",
         "type": "box",
         "x": [
          "LogisticRegression",
          "LogisticRegression",
          "LogisticRegression",
          "LogisticRegression",
          "LogisticRegression",
          "LogisticRegression",
          "LogisticRegression",
          "LogisticRegression",
          "LogisticRegression",
          "LogisticRegression",
          "LogisticRegression",
          "LogisticRegression",
          "LogisticRegression",
          "LogisticRegression",
          "LogisticRegression",
          "LogisticRegression",
          "LogisticRegression",
          "LogisticRegression",
          "LogisticRegression",
          "LogisticRegression",
          "SVC",
          "SVC",
          "SVC",
          "SVC",
          "SVC",
          "SVC",
          "SVC",
          "SVC",
          "SVC",
          "SVC",
          "SVC",
          "SVC",
          "SVC",
          "SVC",
          "SVC",
          "SVC",
          "SVC",
          "SVC",
          "SVC",
          "SVC",
          "RandomForestClassifier",
          "RandomForestClassifier",
          "RandomForestClassifier",
          "RandomForestClassifier",
          "RandomForestClassifier",
          "RandomForestClassifier",
          "RandomForestClassifier",
          "RandomForestClassifier",
          "RandomForestClassifier",
          "RandomForestClassifier",
          "RandomForestClassifier",
          "RandomForestClassifier",
          "RandomForestClassifier",
          "RandomForestClassifier",
          "RandomForestClassifier",
          "RandomForestClassifier",
          "RandomForestClassifier",
          "RandomForestClassifier",
          "RandomForestClassifier",
          "RandomForestClassifier",
          "GradientBoostingClassifier",
          "GradientBoostingClassifier",
          "GradientBoostingClassifier",
          "GradientBoostingClassifier",
          "GradientBoostingClassifier",
          "GradientBoostingClassifier",
          "GradientBoostingClassifier",
          "GradientBoostingClassifier",
          "GradientBoostingClassifier",
          "GradientBoostingClassifier",
          "GradientBoostingClassifier",
          "GradientBoostingClassifier",
          "GradientBoostingClassifier",
          "GradientBoostingClassifier",
          "GradientBoostingClassifier",
          "GradientBoostingClassifier",
          "GradientBoostingClassifier",
          "GradientBoostingClassifier",
          "GradientBoostingClassifier",
          "GradientBoostingClassifier",
          "DeepNeuralNetwork",
          "DeepNeuralNetwork",
          "DeepNeuralNetwork",
          "DeepNeuralNetwork",
          "DeepNeuralNetwork",
          "DeepNeuralNetwork",
          "DeepNeuralNetwork",
          "DeepNeuralNetwork",
          "DeepNeuralNetwork",
          "DeepNeuralNetwork",
          "DeepNeuralNetwork",
          "DeepNeuralNetwork",
          "DeepNeuralNetwork",
          "DeepNeuralNetwork",
          "DeepNeuralNetwork",
          "DeepNeuralNetwork",
          "DeepNeuralNetwork",
          "DeepNeuralNetwork",
          "DeepNeuralNetwork",
          "DeepNeuralNetwork"
         ],
         "y": [
          11.634858768947524,
          11.553496120213625,
          11.553496120213625,
          11.553496120213625,
          11.57963525170732,
          11.742728705956718,
          11.57963525170732,
          11.57963525170732,
          11.57963525170732,
          11.57963525170732,
          11.634858768947524,
          11.553496120213625,
          11.553496120213625,
          12.367122607552613,
          11.090354888959125,
          11.57963525170732,
          11.57963525170732,
          11.57963525170732,
          11.57963525170732,
          11.57963525170732,
          11.634858768947524,
          11.553496120213625,
          11.553496120213625,
          11.553496120213625,
          11.57963525170732,
          11.57963525170732,
          11.57963525170732,
          11.57963525170732,
          11.57963525170732,
          11.57963525170732,
          11.634858768947524,
          11.553496120213625,
          11.553496120213625,
          12.367122607552613,
          11.57963525170732,
          11.57963525170732,
          11.57963525170732,
          11.57963525170732,
          11.66118197883202,
          11.57963525170732,
          14.075738230964486,
          12.936661148689904,
          13.913012933496688,
          13.75028763602889,
          14.923051063819994,
          12.150462341580216,
          14.4337707010718,
          14.189130519697702,
          15.330784699443496,
          12.476649250079014,
          13.424837041093296,
          12.936661148689904,
          13.913012933496688,
          13.262111743625496,
          14.270677246822402,
          13.21056979420131,
          15.249237972318792,
          14.4337707010718,
          13.862943611198906,
          14.107583792573005,
          11.472133471479726,
          9.438067253132257,
          11.472133471479726,
          12.285759958818714,
          12.721289431453114,
          12.476649250079014,
          12.639742704328413,
          11.987368887330817,
          12.313555795829611,
          12.068915614455516,
          12.529847905020407,
          10.983957579076332,
          12.44848525628651,
          12.44848525628651,
          12.395102522954314,
          11.824275433081418,
          12.313555795829616,
          12.721289431453114,
          11.253448343208522,
          10.27488761771213,
          0.6434244628546559,
          0.6392323147122928,
          0.6428583820189273,
          0.6409225604084081,
          0.6368198763771913,
          0.6686935282979389,
          0.6512233187677753,
          0.6399791271777631,
          0.6422338861160972,
          0.6325346652117484,
          0.6517522826370511,
          0.6436196957984778,
          0.6321467899206413,
          0.6367249806875795,
          0.6356545517578458,
          0.6329781254468323,
          0.6379744830996871,
          0.6309030160034594,
          0.640724857334998,
          0.6367416929190148
         ]
        }
       ],
       "layout": {
        "boxmode": "group",
        "template": {
         "data": {
          "bar": [
           {
            "error_x": {
             "color": "#2a3f5f"
            },
            "error_y": {
             "color": "#2a3f5f"
            },
            "marker": {
             "line": {
              "color": "#E5ECF6",
              "width": 0.5
             },
             "pattern": {
              "fillmode": "overlay",
              "size": 10,
              "solidity": 0.2
             }
            },
            "type": "bar"
           }
          ],
          "barpolar": [
           {
            "marker": {
             "line": {
              "color": "#E5ECF6",
              "width": 0.5
             },
             "pattern": {
              "fillmode": "overlay",
              "size": 10,
              "solidity": 0.2
             }
            },
            "type": "barpolar"
           }
          ],
          "carpet": [
           {
            "aaxis": {
             "endlinecolor": "#2a3f5f",
             "gridcolor": "white",
             "linecolor": "white",
             "minorgridcolor": "white",
             "startlinecolor": "#2a3f5f"
            },
            "baxis": {
             "endlinecolor": "#2a3f5f",
             "gridcolor": "white",
             "linecolor": "white",
             "minorgridcolor": "white",
             "startlinecolor": "#2a3f5f"
            },
            "type": "carpet"
           }
          ],
          "choropleth": [
           {
            "colorbar": {
             "outlinewidth": 0,
             "ticks": ""
            },
            "type": "choropleth"
           }
          ],
          "contour": [
           {
            "colorbar": {
             "outlinewidth": 0,
             "ticks": ""
            },
            "colorscale": [
             [
              0,
              "#0d0887"
             ],
             [
              0.1111111111111111,
              "#46039f"
             ],
             [
              0.2222222222222222,
              "#7201a8"
             ],
             [
              0.3333333333333333,
              "#9c179e"
             ],
             [
              0.4444444444444444,
              "#bd3786"
             ],
             [
              0.5555555555555556,
              "#d8576b"
             ],
             [
              0.6666666666666666,
              "#ed7953"
             ],
             [
              0.7777777777777778,
              "#fb9f3a"
             ],
             [
              0.8888888888888888,
              "#fdca26"
             ],
             [
              1,
              "#f0f921"
             ]
            ],
            "type": "contour"
           }
          ],
          "contourcarpet": [
           {
            "colorbar": {
             "outlinewidth": 0,
             "ticks": ""
            },
            "type": "contourcarpet"
           }
          ],
          "heatmap": [
           {
            "colorbar": {
             "outlinewidth": 0,
             "ticks": ""
            },
            "colorscale": [
             [
              0,
              "#0d0887"
             ],
             [
              0.1111111111111111,
              "#46039f"
             ],
             [
              0.2222222222222222,
              "#7201a8"
             ],
             [
              0.3333333333333333,
              "#9c179e"
             ],
             [
              0.4444444444444444,
              "#bd3786"
             ],
             [
              0.5555555555555556,
              "#d8576b"
             ],
             [
              0.6666666666666666,
              "#ed7953"
             ],
             [
              0.7777777777777778,
              "#fb9f3a"
             ],
             [
              0.8888888888888888,
              "#fdca26"
             ],
             [
              1,
              "#f0f921"
             ]
            ],
            "type": "heatmap"
           }
          ],
          "heatmapgl": [
           {
            "colorbar": {
             "outlinewidth": 0,
             "ticks": ""
            },
            "colorscale": [
             [
              0,
              "#0d0887"
             ],
             [
              0.1111111111111111,
              "#46039f"
             ],
             [
              0.2222222222222222,
              "#7201a8"
             ],
             [
              0.3333333333333333,
              "#9c179e"
             ],
             [
              0.4444444444444444,
              "#bd3786"
             ],
             [
              0.5555555555555556,
              "#d8576b"
             ],
             [
              0.6666666666666666,
              "#ed7953"
             ],
             [
              0.7777777777777778,
              "#fb9f3a"
             ],
             [
              0.8888888888888888,
              "#fdca26"
             ],
             [
              1,
              "#f0f921"
             ]
            ],
            "type": "heatmapgl"
           }
          ],
          "histogram": [
           {
            "marker": {
             "pattern": {
              "fillmode": "overlay",
              "size": 10,
              "solidity": 0.2
             }
            },
            "type": "histogram"
           }
          ],
          "histogram2d": [
           {
            "colorbar": {
             "outlinewidth": 0,
             "ticks": ""
            },
            "colorscale": [
             [
              0,
              "#0d0887"
             ],
             [
              0.1111111111111111,
              "#46039f"
             ],
             [
              0.2222222222222222,
              "#7201a8"
             ],
             [
              0.3333333333333333,
              "#9c179e"
             ],
             [
              0.4444444444444444,
              "#bd3786"
             ],
             [
              0.5555555555555556,
              "#d8576b"
             ],
             [
              0.6666666666666666,
              "#ed7953"
             ],
             [
              0.7777777777777778,
              "#fb9f3a"
             ],
             [
              0.8888888888888888,
              "#fdca26"
             ],
             [
              1,
              "#f0f921"
             ]
            ],
            "type": "histogram2d"
           }
          ],
          "histogram2dcontour": [
           {
            "colorbar": {
             "outlinewidth": 0,
             "ticks": ""
            },
            "colorscale": [
             [
              0,
              "#0d0887"
             ],
             [
              0.1111111111111111,
              "#46039f"
             ],
             [
              0.2222222222222222,
              "#7201a8"
             ],
             [
              0.3333333333333333,
              "#9c179e"
             ],
             [
              0.4444444444444444,
              "#bd3786"
             ],
             [
              0.5555555555555556,
              "#d8576b"
             ],
             [
              0.6666666666666666,
              "#ed7953"
             ],
             [
              0.7777777777777778,
              "#fb9f3a"
             ],
             [
              0.8888888888888888,
              "#fdca26"
             ],
             [
              1,
              "#f0f921"
             ]
            ],
            "type": "histogram2dcontour"
           }
          ],
          "mesh3d": [
           {
            "colorbar": {
             "outlinewidth": 0,
             "ticks": ""
            },
            "type": "mesh3d"
           }
          ],
          "parcoords": [
           {
            "line": {
             "colorbar": {
              "outlinewidth": 0,
              "ticks": ""
             }
            },
            "type": "parcoords"
           }
          ],
          "pie": [
           {
            "automargin": true,
            "type": "pie"
           }
          ],
          "scatter": [
           {
            "fillpattern": {
             "fillmode": "overlay",
             "size": 10,
             "solidity": 0.2
            },
            "type": "scatter"
           }
          ],
          "scatter3d": [
           {
            "line": {
             "colorbar": {
              "outlinewidth": 0,
              "ticks": ""
             }
            },
            "marker": {
             "colorbar": {
              "outlinewidth": 0,
              "ticks": ""
             }
            },
            "type": "scatter3d"
           }
          ],
          "scattercarpet": [
           {
            "marker": {
             "colorbar": {
              "outlinewidth": 0,
              "ticks": ""
             }
            },
            "type": "scattercarpet"
           }
          ],
          "scattergeo": [
           {
            "marker": {
             "colorbar": {
              "outlinewidth": 0,
              "ticks": ""
             }
            },
            "type": "scattergeo"
           }
          ],
          "scattergl": [
           {
            "marker": {
             "colorbar": {
              "outlinewidth": 0,
              "ticks": ""
             }
            },
            "type": "scattergl"
           }
          ],
          "scattermapbox": [
           {
            "marker": {
             "colorbar": {
              "outlinewidth": 0,
              "ticks": ""
             }
            },
            "type": "scattermapbox"
           }
          ],
          "scatterpolar": [
           {
            "marker": {
             "colorbar": {
              "outlinewidth": 0,
              "ticks": ""
             }
            },
            "type": "scatterpolar"
           }
          ],
          "scatterpolargl": [
           {
            "marker": {
             "colorbar": {
              "outlinewidth": 0,
              "ticks": ""
             }
            },
            "type": "scatterpolargl"
           }
          ],
          "scatterternary": [
           {
            "marker": {
             "colorbar": {
              "outlinewidth": 0,
              "ticks": ""
             }
            },
            "type": "scatterternary"
           }
          ],
          "surface": [
           {
            "colorbar": {
             "outlinewidth": 0,
             "ticks": ""
            },
            "colorscale": [
             [
              0,
              "#0d0887"
             ],
             [
              0.1111111111111111,
              "#46039f"
             ],
             [
              0.2222222222222222,
              "#7201a8"
             ],
             [
              0.3333333333333333,
              "#9c179e"
             ],
             [
              0.4444444444444444,
              "#bd3786"
             ],
             [
              0.5555555555555556,
              "#d8576b"
             ],
             [
              0.6666666666666666,
              "#ed7953"
             ],
             [
              0.7777777777777778,
              "#fb9f3a"
             ],
             [
              0.8888888888888888,
              "#fdca26"
             ],
             [
              1,
              "#f0f921"
             ]
            ],
            "type": "surface"
           }
          ],
          "table": [
           {
            "cells": {
             "fill": {
              "color": "#EBF0F8"
             },
             "line": {
              "color": "white"
             }
            },
            "header": {
             "fill": {
              "color": "#C8D4E3"
             },
             "line": {
              "color": "white"
             }
            },
            "type": "table"
           }
          ]
         },
         "layout": {
          "annotationdefaults": {
           "arrowcolor": "#2a3f5f",
           "arrowhead": 0,
           "arrowwidth": 1
          },
          "autotypenumbers": "strict",
          "coloraxis": {
           "colorbar": {
            "outlinewidth": 0,
            "ticks": ""
           }
          },
          "colorscale": {
           "diverging": [
            [
             0,
             "#8e0152"
            ],
            [
             0.1,
             "#c51b7d"
            ],
            [
             0.2,
             "#de77ae"
            ],
            [
             0.3,
             "#f1b6da"
            ],
            [
             0.4,
             "#fde0ef"
            ],
            [
             0.5,
             "#f7f7f7"
            ],
            [
             0.6,
             "#e6f5d0"
            ],
            [
             0.7,
             "#b8e186"
            ],
            [
             0.8,
             "#7fbc41"
            ],
            [
             0.9,
             "#4d9221"
            ],
            [
             1,
             "#276419"
            ]
           ],
           "sequential": [
            [
             0,
             "#0d0887"
            ],
            [
             0.1111111111111111,
             "#46039f"
            ],
            [
             0.2222222222222222,
             "#7201a8"
            ],
            [
             0.3333333333333333,
             "#9c179e"
            ],
            [
             0.4444444444444444,
             "#bd3786"
            ],
            [
             0.5555555555555556,
             "#d8576b"
            ],
            [
             0.6666666666666666,
             "#ed7953"
            ],
            [
             0.7777777777777778,
             "#fb9f3a"
            ],
            [
             0.8888888888888888,
             "#fdca26"
            ],
            [
             1,
             "#f0f921"
            ]
           ],
           "sequentialminus": [
            [
             0,
             "#0d0887"
            ],
            [
             0.1111111111111111,
             "#46039f"
            ],
            [
             0.2222222222222222,
             "#7201a8"
            ],
            [
             0.3333333333333333,
             "#9c179e"
            ],
            [
             0.4444444444444444,
             "#bd3786"
            ],
            [
             0.5555555555555556,
             "#d8576b"
            ],
            [
             0.6666666666666666,
             "#ed7953"
            ],
            [
             0.7777777777777778,
             "#fb9f3a"
            ],
            [
             0.8888888888888888,
             "#fdca26"
            ],
            [
             1,
             "#f0f921"
            ]
           ]
          },
          "colorway": [
           "#636efa",
           "#EF553B",
           "#00cc96",
           "#ab63fa",
           "#FFA15A",
           "#19d3f3",
           "#FF6692",
           "#B6E880",
           "#FF97FF",
           "#FECB52"
          ],
          "font": {
           "color": "#2a3f5f"
          },
          "geo": {
           "bgcolor": "white",
           "lakecolor": "white",
           "landcolor": "#E5ECF6",
           "showlakes": true,
           "showland": true,
           "subunitcolor": "white"
          },
          "hoverlabel": {
           "align": "left"
          },
          "hovermode": "closest",
          "mapbox": {
           "style": "light"
          },
          "paper_bgcolor": "white",
          "plot_bgcolor": "#E5ECF6",
          "polar": {
           "angularaxis": {
            "gridcolor": "white",
            "linecolor": "white",
            "ticks": ""
           },
           "bgcolor": "#E5ECF6",
           "radialaxis": {
            "gridcolor": "white",
            "linecolor": "white",
            "ticks": ""
           }
          },
          "scene": {
           "xaxis": {
            "backgroundcolor": "#E5ECF6",
            "gridcolor": "white",
            "gridwidth": 2,
            "linecolor": "white",
            "showbackground": true,
            "ticks": "",
            "zerolinecolor": "white"
           },
           "yaxis": {
            "backgroundcolor": "#E5ECF6",
            "gridcolor": "white",
            "gridwidth": 2,
            "linecolor": "white",
            "showbackground": true,
            "ticks": "",
            "zerolinecolor": "white"
           },
           "zaxis": {
            "backgroundcolor": "#E5ECF6",
            "gridcolor": "white",
            "gridwidth": 2,
            "linecolor": "white",
            "showbackground": true,
            "ticks": "",
            "zerolinecolor": "white"
           }
          },
          "shapedefaults": {
           "line": {
            "color": "#2a3f5f"
           }
          },
          "ternary": {
           "aaxis": {
            "gridcolor": "white",
            "linecolor": "white",
            "ticks": ""
           },
           "baxis": {
            "gridcolor": "white",
            "linecolor": "white",
            "ticks": ""
           },
           "bgcolor": "#E5ECF6",
           "caxis": {
            "gridcolor": "white",
            "linecolor": "white",
            "ticks": ""
           }
          },
          "title": {
           "x": 0.05
          },
          "xaxis": {
           "automargin": true,
           "gridcolor": "white",
           "linecolor": "white",
           "ticks": "",
           "title": {
            "standoff": 15
           },
           "zerolinecolor": "white",
           "zerolinewidth": 2
          },
          "yaxis": {
           "automargin": true,
           "gridcolor": "white",
           "linecolor": "white",
           "ticks": "",
           "title": {
            "standoff": 15
           },
           "zerolinecolor": "white",
           "zerolinewidth": 2
          }
         }
        },
        "title": {
         "text": "log_loss"
        },
        "yaxis": {
         "title": {
          "text": "log_loss"
         }
        }
       }
      }
     },
     "metadata": {},
     "output_type": "display_data"
    }
   ],
   "source": [
    "make_plots('accuracy')\n",
    "make_plots('auc')\n",
    "make_plots('log_loss')"
   ]
  },
  {
   "cell_type": "code",
   "execution_count": 6,
   "metadata": {},
   "outputs": [
    {
     "data": {
      "application/vnd.plotly.v1+json": {
       "config": {
        "plotlyServerURL": "https://plot.ly"
       },
       "data": [
        {
         "name": "Full",
         "type": "box",
         "x": [
          "LogisticRegression",
          "LogisticRegression",
          "LogisticRegression",
          "LogisticRegression",
          "LogisticRegression",
          "LogisticRegression",
          "LogisticRegression",
          "LogisticRegression",
          "LogisticRegression",
          "LogisticRegression",
          "LogisticRegression",
          "LogisticRegression",
          "LogisticRegression",
          "LogisticRegression",
          "LogisticRegression",
          "LogisticRegression",
          "LogisticRegression",
          "LogisticRegression",
          "LogisticRegression",
          "LogisticRegression",
          "SVC",
          "SVC",
          "SVC",
          "SVC",
          "SVC",
          "SVC",
          "SVC",
          "SVC",
          "SVC",
          "SVC",
          "SVC",
          "SVC",
          "SVC",
          "SVC",
          "SVC",
          "SVC",
          "SVC",
          "SVC",
          "SVC",
          "SVC",
          "RandomForestClassifier",
          "RandomForestClassifier",
          "RandomForestClassifier",
          "RandomForestClassifier",
          "RandomForestClassifier",
          "RandomForestClassifier",
          "RandomForestClassifier",
          "RandomForestClassifier",
          "RandomForestClassifier",
          "RandomForestClassifier",
          "RandomForestClassifier",
          "RandomForestClassifier",
          "RandomForestClassifier",
          "RandomForestClassifier",
          "RandomForestClassifier",
          "RandomForestClassifier",
          "RandomForestClassifier",
          "RandomForestClassifier",
          "RandomForestClassifier",
          "RandomForestClassifier",
          "GradientBoostingClassifier",
          "GradientBoostingClassifier",
          "GradientBoostingClassifier",
          "GradientBoostingClassifier",
          "GradientBoostingClassifier",
          "GradientBoostingClassifier",
          "GradientBoostingClassifier",
          "GradientBoostingClassifier",
          "GradientBoostingClassifier",
          "GradientBoostingClassifier",
          "GradientBoostingClassifier",
          "GradientBoostingClassifier",
          "GradientBoostingClassifier",
          "GradientBoostingClassifier",
          "GradientBoostingClassifier",
          "GradientBoostingClassifier",
          "GradientBoostingClassifier",
          "GradientBoostingClassifier",
          "GradientBoostingClassifier",
          "GradientBoostingClassifier",
          "DeepNeuralNetwork",
          "DeepNeuralNetwork",
          "DeepNeuralNetwork",
          "DeepNeuralNetwork",
          "DeepNeuralNetwork",
          "DeepNeuralNetwork",
          "DeepNeuralNetwork",
          "DeepNeuralNetwork",
          "DeepNeuralNetwork",
          "DeepNeuralNetwork",
          "DeepNeuralNetwork",
          "DeepNeuralNetwork",
          "DeepNeuralNetwork",
          "DeepNeuralNetwork",
          "DeepNeuralNetwork",
          "DeepNeuralNetwork",
          "DeepNeuralNetwork",
          "DeepNeuralNetwork",
          "DeepNeuralNetwork",
          "DeepNeuralNetwork"
         ],
         "y": [
          0.2274966239929199,
          0.3027586936950683,
          0.2577009201049804,
          0.1787309646606445,
          0.2544281482696533,
          0.1701540946960449,
          0.2730140686035156,
          0.1961874961853027,
          0.2048084735870361,
          0.1650280952453613,
          0.3643081188201904,
          0.2582159042358398,
          0.1687977313995361,
          0.24493408203125,
          0.1740097999572754,
          0.2318003177642822,
          0.2848541736602783,
          0.2523977756500244,
          0.236281156539917,
          0.1259312629699707,
          0.3047070503234863,
          0.0929703712463378,
          0.2102539539337158,
          0.098353624343872,
          0.1114516258239746,
          0.2068915367126464,
          0.2397806644439697,
          0.0875766277313232,
          0.335529088973999,
          0.1242785453796386,
          0.2045683860778808,
          0.0986714363098144,
          0.1240708827972412,
          0.2075214385986328,
          0.2975971698760986,
          0.1097466945648193,
          0.1520521640777588,
          0.0958940982818603,
          0.2673604488372803,
          0.1268532276153564,
          0.2555282115936279,
          0.1386427879333496,
          0.1731321811676025,
          0.1282827854156494,
          0.2233800888061523,
          0.213083267211914,
          0.1647591590881347,
          0.1159029006958007,
          0.1733009815216064,
          0.1759247779846191,
          0.1684200763702392,
          0.0737473964691162,
          0.2757294178009033,
          0.1423134803771972,
          0.1999726295471191,
          0.2069859504699707,
          0.2053160667419433,
          0.3569667339324951,
          0.0902798175811767,
          0.2008347511291504,
          0.0788350105285644,
          0.2117695808410644,
          0.181614875793457,
          0.236886978149414,
          0.2230808734893798,
          0.1810700893402099,
          0.1291728019714355,
          0.2539267539978027,
          0.2362093925476074,
          0.1790683269500732,
          0.1847703456878662,
          0.2096188068389892,
          0.2652084827423095,
          0.2506430149078369,
          0.2700221538543701,
          0.1748712062835693,
          0.2128496170043945,
          0.2273776531219482,
          0.1770551204681396,
          0.083064317703247,
          0.0984466075897216,
          0.1401455402374267,
          0.1231811046600341,
          0.1135706901550293,
          0.1757645606994629,
          0.1698725223541259,
          0.2998759746551513,
          0.119680643081665,
          0.1286561489105224,
          0.1077096462249755,
          0.1677489280700683,
          0.1353609561920166,
          0.4232778549194336,
          0.1805956363677978,
          0.1362495422363281,
          0.1107041835784912,
          0.1861135959625244,
          0.1409821510314941,
          0.1930093765258789,
          0.303725004196167
         ]
        },
        {
         "name": "FR",
         "type": "box",
         "x": [
          "LogisticRegression",
          "LogisticRegression",
          "LogisticRegression",
          "LogisticRegression",
          "LogisticRegression",
          "LogisticRegression",
          "LogisticRegression",
          "LogisticRegression",
          "LogisticRegression",
          "LogisticRegression",
          "LogisticRegression",
          "LogisticRegression",
          "LogisticRegression",
          "LogisticRegression",
          "LogisticRegression",
          "LogisticRegression",
          "LogisticRegression",
          "LogisticRegression",
          "LogisticRegression",
          "LogisticRegression",
          "SVC",
          "SVC",
          "SVC",
          "SVC",
          "SVC",
          "SVC",
          "SVC",
          "SVC",
          "SVC",
          "SVC",
          "SVC",
          "SVC",
          "SVC",
          "SVC",
          "SVC",
          "SVC",
          "SVC",
          "SVC",
          "SVC",
          "SVC",
          "RandomForestClassifier",
          "RandomForestClassifier",
          "RandomForestClassifier",
          "RandomForestClassifier",
          "RandomForestClassifier",
          "RandomForestClassifier",
          "RandomForestClassifier",
          "RandomForestClassifier",
          "RandomForestClassifier",
          "RandomForestClassifier",
          "RandomForestClassifier",
          "RandomForestClassifier",
          "RandomForestClassifier",
          "RandomForestClassifier",
          "RandomForestClassifier",
          "RandomForestClassifier",
          "RandomForestClassifier",
          "RandomForestClassifier",
          "RandomForestClassifier",
          "RandomForestClassifier",
          "GradientBoostingClassifier",
          "GradientBoostingClassifier",
          "GradientBoostingClassifier",
          "GradientBoostingClassifier",
          "GradientBoostingClassifier",
          "GradientBoostingClassifier",
          "GradientBoostingClassifier",
          "GradientBoostingClassifier",
          "GradientBoostingClassifier",
          "GradientBoostingClassifier",
          "GradientBoostingClassifier",
          "GradientBoostingClassifier",
          "GradientBoostingClassifier",
          "GradientBoostingClassifier",
          "GradientBoostingClassifier",
          "GradientBoostingClassifier",
          "GradientBoostingClassifier",
          "GradientBoostingClassifier",
          "GradientBoostingClassifier",
          "GradientBoostingClassifier",
          "DeepNeuralNetwork",
          "DeepNeuralNetwork",
          "DeepNeuralNetwork",
          "DeepNeuralNetwork",
          "DeepNeuralNetwork",
          "DeepNeuralNetwork",
          "DeepNeuralNetwork",
          "DeepNeuralNetwork",
          "DeepNeuralNetwork",
          "DeepNeuralNetwork",
          "DeepNeuralNetwork",
          "DeepNeuralNetwork",
          "DeepNeuralNetwork",
          "DeepNeuralNetwork",
          "DeepNeuralNetwork",
          "DeepNeuralNetwork",
          "DeepNeuralNetwork",
          "DeepNeuralNetwork",
          "DeepNeuralNetwork",
          "DeepNeuralNetwork"
         ],
         "y": [
          0.1631834506988525,
          0.2746980190277099,
          0.2269213199615478,
          0.2715370655059814,
          0.0807247161865234,
          0.2528643608093261,
          0.1781911849975586,
          0.4003999233245849,
          0.155064582824707,
          0.2740139961242676,
          0.230480670928955,
          0.3238599300384521,
          0.229719877243042,
          0.15391206741333,
          0.249340534210205,
          0.129535436630249,
          0.1843976974487304,
          0.246561050415039,
          0.2404160499572754,
          0.1834526062011718,
          0.2683737277984619,
          0.2588284015655517,
          0.1139955520629882,
          0.188326358795166,
          0.0973556041717529,
          0.1372623443603515,
          0.136023998260498,
          0.1236722469329834,
          0.1133992671966552,
          0.119448184967041,
          0.2008018493652343,
          0.0913398265838623,
          0.3176684379577636,
          0.1120643615722656,
          0.1235897541046142,
          0.1786460876464843,
          0.1093902587890625,
          0.2284281253814697,
          0.1782422065734863,
          0.2490828037261963,
          0.2802352905273437,
          0.125723123550415,
          0.1539375782012939,
          0.2368679046630859,
          0.1403658390045166,
          0.1852126121520996,
          0.2326667308807373,
          0.1406314373016357,
          0.129512071609497,
          0.1820132732391357,
          0.2043366432189941,
          0.2185616493225097,
          0.1439366340637207,
          0.1109333038330078,
          0.2893218994140625,
          0.2795360088348388,
          0.0985982418060302,
          0.2458465099334716,
          0.1665632724761963,
          0.2124087810516357,
          0.1430606842041015,
          0.0940539836883544,
          0.1846039295196533,
          0.1251561641693115,
          0.1881318092346191,
          0.215494155883789,
          0.1027283668518066,
          0.105309247970581,
          0.1836280822753906,
          0.2318670749664306,
          0.1540784835815429,
          0.2118005752563476,
          0.1239173412322998,
          0.1949937343597412,
          0.2504541873931885,
          0.1237671375274658,
          0.1442980766296386,
          0.1858546733856201,
          0.1841599941253662,
          0.1696727275848388,
          0.2185344696044922,
          0.1777729988098144,
          0.1770985126495361,
          0.187497854232788,
          0.1372716426849365,
          0.158740758895874,
          0.1525278091430664,
          0.2680604457855224,
          0.1947860717773437,
          0.1012868881225586,
          0.2944080829620361,
          0.1601519584655761,
          0.1589865684509277,
          0.3093609809875488,
          0.1750702857971191,
          0.4849233627319336,
          0.2097418308258056,
          0.1800568103790283,
          0.2230691909790039,
          0.3435535430908203
         ]
        },
        {
         "name": "SS",
         "type": "box",
         "x": [
          "LogisticRegression",
          "LogisticRegression",
          "LogisticRegression",
          "LogisticRegression",
          "LogisticRegression",
          "LogisticRegression",
          "LogisticRegression",
          "LogisticRegression",
          "LogisticRegression",
          "LogisticRegression",
          "LogisticRegression",
          "LogisticRegression",
          "LogisticRegression",
          "LogisticRegression",
          "LogisticRegression",
          "LogisticRegression",
          "LogisticRegression",
          "LogisticRegression",
          "LogisticRegression",
          "LogisticRegression",
          "SVC",
          "SVC",
          "SVC",
          "SVC",
          "SVC",
          "SVC",
          "SVC",
          "SVC",
          "SVC",
          "SVC",
          "SVC",
          "SVC",
          "SVC",
          "SVC",
          "SVC",
          "SVC",
          "SVC",
          "SVC",
          "SVC",
          "SVC",
          "RandomForestClassifier",
          "RandomForestClassifier",
          "RandomForestClassifier",
          "RandomForestClassifier",
          "RandomForestClassifier",
          "RandomForestClassifier",
          "RandomForestClassifier",
          "RandomForestClassifier",
          "RandomForestClassifier",
          "RandomForestClassifier",
          "RandomForestClassifier",
          "RandomForestClassifier",
          "RandomForestClassifier",
          "RandomForestClassifier",
          "RandomForestClassifier",
          "RandomForestClassifier",
          "RandomForestClassifier",
          "RandomForestClassifier",
          "RandomForestClassifier",
          "RandomForestClassifier",
          "GradientBoostingClassifier",
          "GradientBoostingClassifier",
          "GradientBoostingClassifier",
          "GradientBoostingClassifier",
          "GradientBoostingClassifier",
          "GradientBoostingClassifier",
          "GradientBoostingClassifier",
          "GradientBoostingClassifier",
          "GradientBoostingClassifier",
          "GradientBoostingClassifier",
          "GradientBoostingClassifier",
          "GradientBoostingClassifier",
          "GradientBoostingClassifier",
          "GradientBoostingClassifier",
          "GradientBoostingClassifier",
          "GradientBoostingClassifier",
          "GradientBoostingClassifier",
          "GradientBoostingClassifier",
          "GradientBoostingClassifier",
          "GradientBoostingClassifier",
          "DeepNeuralNetwork",
          "DeepNeuralNetwork",
          "DeepNeuralNetwork",
          "DeepNeuralNetwork",
          "DeepNeuralNetwork",
          "DeepNeuralNetwork",
          "DeepNeuralNetwork",
          "DeepNeuralNetwork",
          "DeepNeuralNetwork",
          "DeepNeuralNetwork",
          "DeepNeuralNetwork",
          "DeepNeuralNetwork",
          "DeepNeuralNetwork",
          "DeepNeuralNetwork",
          "DeepNeuralNetwork",
          "DeepNeuralNetwork",
          "DeepNeuralNetwork",
          "DeepNeuralNetwork",
          "DeepNeuralNetwork",
          "DeepNeuralNetwork"
         ],
         "y": [
          0.238800048828125,
          0.1665232181549072,
          0.1445329189300537,
          0.1747064590454101,
          0.1777472496032714,
          0.2082910537719726,
          0.237281322479248,
          0.2463557720184326,
          0.1225934028625488,
          0.2008047103881836,
          0.2217698097229004,
          0.1423757076263427,
          0.1195440292358398,
          0.285607099533081,
          0.1210618019104003,
          0.2255258560180664,
          0.2729182243347168,
          0.1091129779815673,
          0.161893606185913,
          0.2104074954986572,
          0.2462873458862304,
          0.0889606475830078,
          0.327312707901001,
          0.1025390625,
          0.2499868869781494,
          0.2319562435150146,
          0.2054471969604492,
          0.1087400913238525,
          0.1824240684509277,
          0.3101584911346435,
          0.0700743198394775,
          0.2317802906036377,
          0.1375503540039062,
          0.2950751781463623,
          0.2953305244445801,
          0.1120195388793945,
          0.196146011352539,
          0.2195072174072265,
          0.1429696083068847,
          0.3229095935821533,
          0.1594648361206054,
          0.2214949131011963,
          0.1929895877838134,
          0.3716788291931152,
          0.1822316646575927,
          0.2245943546295166,
          0.1737656593322754,
          0.1456711292266845,
          0.0781276226043701,
          0.2467312812805175,
          0.1938679218292236,
          0.1974446773529052,
          0.2679407596588135,
          0.2384014129638672,
          0.1170499324798584,
          0.3326702117919922,
          0.2056765556335449,
          0.2397308349609375,
          0.0814247131347656,
          0.1529326438903808,
          0.1889503002166748,
          0.2000532150268554,
          0.2308149337768554,
          0.1899263858795166,
          0.2309584617614746,
          0.2174186706542968,
          0.2253425121307373,
          0.2033495903015136,
          0.2515699863433838,
          0.254070520401001,
          0.1363470554351806,
          0.1676156520843505,
          0.1153595447540283,
          0.1811347007751464,
          0.1895573139190673,
          0.1887428760528564,
          0.1962106227874755,
          0.2357633113861084,
          0.2271292209625244,
          0.2446575164794922,
          0.1939568519592285,
          0.3072829246520996,
          0.4646055698394775,
          0.1772980690002441,
          0.1291835308074951,
          0.3068828582763672,
          0.3262166976928711,
          0.3626787662506103,
          0.1604180335998535,
          0.150944709777832,
          0.1859087944030761,
          0.2634763717651367,
          0.2185287475585937,
          0.3944845199584961,
          0.1955378055572509,
          0.1745085716247558,
          0.1274783611297607,
          0.30572509765625,
          0.1622917652130127,
          0.1591711044311523
         ]
        },
        {
         "name": "SS & FR",
         "type": "box",
         "x": [
          "LogisticRegression",
          "LogisticRegression",
          "LogisticRegression",
          "LogisticRegression",
          "LogisticRegression",
          "LogisticRegression",
          "LogisticRegression",
          "LogisticRegression",
          "LogisticRegression",
          "LogisticRegression",
          "LogisticRegression",
          "LogisticRegression",
          "LogisticRegression",
          "LogisticRegression",
          "LogisticRegression",
          "LogisticRegression",
          "LogisticRegression",
          "LogisticRegression",
          "LogisticRegression",
          "LogisticRegression",
          "SVC",
          "SVC",
          "SVC",
          "SVC",
          "SVC",
          "SVC",
          "SVC",
          "SVC",
          "SVC",
          "SVC",
          "SVC",
          "SVC",
          "SVC",
          "SVC",
          "SVC",
          "SVC",
          "SVC",
          "SVC",
          "SVC",
          "SVC",
          "RandomForestClassifier",
          "RandomForestClassifier",
          "RandomForestClassifier",
          "RandomForestClassifier",
          "RandomForestClassifier",
          "RandomForestClassifier",
          "RandomForestClassifier",
          "RandomForestClassifier",
          "RandomForestClassifier",
          "RandomForestClassifier",
          "RandomForestClassifier",
          "RandomForestClassifier",
          "RandomForestClassifier",
          "RandomForestClassifier",
          "RandomForestClassifier",
          "RandomForestClassifier",
          "RandomForestClassifier",
          "RandomForestClassifier",
          "RandomForestClassifier",
          "RandomForestClassifier",
          "GradientBoostingClassifier",
          "GradientBoostingClassifier",
          "GradientBoostingClassifier",
          "GradientBoostingClassifier",
          "GradientBoostingClassifier",
          "GradientBoostingClassifier",
          "GradientBoostingClassifier",
          "GradientBoostingClassifier",
          "GradientBoostingClassifier",
          "GradientBoostingClassifier",
          "GradientBoostingClassifier",
          "GradientBoostingClassifier",
          "GradientBoostingClassifier",
          "GradientBoostingClassifier",
          "GradientBoostingClassifier",
          "GradientBoostingClassifier",
          "GradientBoostingClassifier",
          "GradientBoostingClassifier",
          "GradientBoostingClassifier",
          "GradientBoostingClassifier",
          "DeepNeuralNetwork",
          "DeepNeuralNetwork",
          "DeepNeuralNetwork",
          "DeepNeuralNetwork",
          "DeepNeuralNetwork",
          "DeepNeuralNetwork",
          "DeepNeuralNetwork",
          "DeepNeuralNetwork",
          "DeepNeuralNetwork",
          "DeepNeuralNetwork",
          "DeepNeuralNetwork",
          "DeepNeuralNetwork",
          "DeepNeuralNetwork",
          "DeepNeuralNetwork",
          "DeepNeuralNetwork",
          "DeepNeuralNetwork",
          "DeepNeuralNetwork",
          "DeepNeuralNetwork",
          "DeepNeuralNetwork",
          "DeepNeuralNetwork"
         ],
         "y": [
          0.1551325321197509,
          0.1020762920379638,
          0.1340932846069336,
          0.2331464290618896,
          0.1328041553497314,
          0.1010732650756836,
          0.1444940567016601,
          0.3178625106811523,
          0.1942529678344726,
          0.2625205516815185,
          0.2021493911743164,
          0.1495363712310791,
          0.1572601795196533,
          0.1339824199676513,
          0.1675770282745361,
          0.1403088569641113,
          0.2289419174194336,
          0.1327571868896484,
          0.1116859912872314,
          0.1081578731536865,
          0.1907081604003906,
          0.2876632213592529,
          0.2201159000396728,
          0.1908371448516845,
          0.134230375289917,
          0.2511312961578369,
          0.2006101608276367,
          0.2173933982849121,
          0.2744278907775879,
          0.1453545093536377,
          0.2628777027130127,
          0.1850075721740722,
          0.3370554447174072,
          0.0733075141906738,
          0.1409275531768798,
          0.2142689228057861,
          0.0782105922698974,
          0.3169090747833252,
          0.1487936973571777,
          0.2952041625976562,
          0.2322473526000976,
          0.2203247547149658,
          0.1846539974212646,
          0.2037169933319091,
          0.1900522708892822,
          0.0737624168395996,
          0.2909901142120361,
          0.164555549621582,
          0.1681807041168213,
          0.1586687564849853,
          0.2738394737243652,
          0.191878080368042,
          0.3117928504943847,
          0.207348346710205,
          0.180783987045288,
          0.2519698143005371,
          0.154092788696289,
          0.1452283859252929,
          0.2308180332183838,
          0.1945698261260986,
          0.2114839553833007,
          0.2348678112030029,
          0.2708220481872558,
          0.1658375263214111,
          0.2252454757690429,
          0.2538528442382812,
          0.2077128887176513,
          0.2002372741699218,
          0.1640534400939941,
          0.1497724056243896,
          0.2240333557128906,
          0.1650173664093017,
          0.2534182071685791,
          0.2252464294433593,
          0.1595907211303711,
          0.2132177352905273,
          0.1962745189666748,
          0.2449407577514648,
          0.2187569141387939,
          0.2047860622406005,
          0.1834871768951416,
          0.1711742877960205,
          0.1959791183471679,
          0.3239829540252685,
          0.1837446689605713,
          0.187920331954956,
          0.1747326850891113,
          0.1682109832763672,
          0.1395792961120605,
          0.2477927207946777,
          0.2062163352966308,
          0.2282307147979736,
          0.3146350383758545,
          0.2396070957183838,
          0.1004951000213623,
          0.1204044818878173,
          0.1393337249755859,
          0.1314294338226318,
          0.1241378784179687,
          0.2115538120269775
         ]
        }
       ],
       "layout": {
        "boxmode": "group",
        "template": {
         "data": {
          "bar": [
           {
            "error_x": {
             "color": "#2a3f5f"
            },
            "error_y": {
             "color": "#2a3f5f"
            },
            "marker": {
             "line": {
              "color": "#E5ECF6",
              "width": 0.5
             },
             "pattern": {
              "fillmode": "overlay",
              "size": 10,
              "solidity": 0.2
             }
            },
            "type": "bar"
           }
          ],
          "barpolar": [
           {
            "marker": {
             "line": {
              "color": "#E5ECF6",
              "width": 0.5
             },
             "pattern": {
              "fillmode": "overlay",
              "size": 10,
              "solidity": 0.2
             }
            },
            "type": "barpolar"
           }
          ],
          "carpet": [
           {
            "aaxis": {
             "endlinecolor": "#2a3f5f",
             "gridcolor": "white",
             "linecolor": "white",
             "minorgridcolor": "white",
             "startlinecolor": "#2a3f5f"
            },
            "baxis": {
             "endlinecolor": "#2a3f5f",
             "gridcolor": "white",
             "linecolor": "white",
             "minorgridcolor": "white",
             "startlinecolor": "#2a3f5f"
            },
            "type": "carpet"
           }
          ],
          "choropleth": [
           {
            "colorbar": {
             "outlinewidth": 0,
             "ticks": ""
            },
            "type": "choropleth"
           }
          ],
          "contour": [
           {
            "colorbar": {
             "outlinewidth": 0,
             "ticks": ""
            },
            "colorscale": [
             [
              0,
              "#0d0887"
             ],
             [
              0.1111111111111111,
              "#46039f"
             ],
             [
              0.2222222222222222,
              "#7201a8"
             ],
             [
              0.3333333333333333,
              "#9c179e"
             ],
             [
              0.4444444444444444,
              "#bd3786"
             ],
             [
              0.5555555555555556,
              "#d8576b"
             ],
             [
              0.6666666666666666,
              "#ed7953"
             ],
             [
              0.7777777777777778,
              "#fb9f3a"
             ],
             [
              0.8888888888888888,
              "#fdca26"
             ],
             [
              1,
              "#f0f921"
             ]
            ],
            "type": "contour"
           }
          ],
          "contourcarpet": [
           {
            "colorbar": {
             "outlinewidth": 0,
             "ticks": ""
            },
            "type": "contourcarpet"
           }
          ],
          "heatmap": [
           {
            "colorbar": {
             "outlinewidth": 0,
             "ticks": ""
            },
            "colorscale": [
             [
              0,
              "#0d0887"
             ],
             [
              0.1111111111111111,
              "#46039f"
             ],
             [
              0.2222222222222222,
              "#7201a8"
             ],
             [
              0.3333333333333333,
              "#9c179e"
             ],
             [
              0.4444444444444444,
              "#bd3786"
             ],
             [
              0.5555555555555556,
              "#d8576b"
             ],
             [
              0.6666666666666666,
              "#ed7953"
             ],
             [
              0.7777777777777778,
              "#fb9f3a"
             ],
             [
              0.8888888888888888,
              "#fdca26"
             ],
             [
              1,
              "#f0f921"
             ]
            ],
            "type": "heatmap"
           }
          ],
          "heatmapgl": [
           {
            "colorbar": {
             "outlinewidth": 0,
             "ticks": ""
            },
            "colorscale": [
             [
              0,
              "#0d0887"
             ],
             [
              0.1111111111111111,
              "#46039f"
             ],
             [
              0.2222222222222222,
              "#7201a8"
             ],
             [
              0.3333333333333333,
              "#9c179e"
             ],
             [
              0.4444444444444444,
              "#bd3786"
             ],
             [
              0.5555555555555556,
              "#d8576b"
             ],
             [
              0.6666666666666666,
              "#ed7953"
             ],
             [
              0.7777777777777778,
              "#fb9f3a"
             ],
             [
              0.8888888888888888,
              "#fdca26"
             ],
             [
              1,
              "#f0f921"
             ]
            ],
            "type": "heatmapgl"
           }
          ],
          "histogram": [
           {
            "marker": {
             "pattern": {
              "fillmode": "overlay",
              "size": 10,
              "solidity": 0.2
             }
            },
            "type": "histogram"
           }
          ],
          "histogram2d": [
           {
            "colorbar": {
             "outlinewidth": 0,
             "ticks": ""
            },
            "colorscale": [
             [
              0,
              "#0d0887"
             ],
             [
              0.1111111111111111,
              "#46039f"
             ],
             [
              0.2222222222222222,
              "#7201a8"
             ],
             [
              0.3333333333333333,
              "#9c179e"
             ],
             [
              0.4444444444444444,
              "#bd3786"
             ],
             [
              0.5555555555555556,
              "#d8576b"
             ],
             [
              0.6666666666666666,
              "#ed7953"
             ],
             [
              0.7777777777777778,
              "#fb9f3a"
             ],
             [
              0.8888888888888888,
              "#fdca26"
             ],
             [
              1,
              "#f0f921"
             ]
            ],
            "type": "histogram2d"
           }
          ],
          "histogram2dcontour": [
           {
            "colorbar": {
             "outlinewidth": 0,
             "ticks": ""
            },
            "colorscale": [
             [
              0,
              "#0d0887"
             ],
             [
              0.1111111111111111,
              "#46039f"
             ],
             [
              0.2222222222222222,
              "#7201a8"
             ],
             [
              0.3333333333333333,
              "#9c179e"
             ],
             [
              0.4444444444444444,
              "#bd3786"
             ],
             [
              0.5555555555555556,
              "#d8576b"
             ],
             [
              0.6666666666666666,
              "#ed7953"
             ],
             [
              0.7777777777777778,
              "#fb9f3a"
             ],
             [
              0.8888888888888888,
              "#fdca26"
             ],
             [
              1,
              "#f0f921"
             ]
            ],
            "type": "histogram2dcontour"
           }
          ],
          "mesh3d": [
           {
            "colorbar": {
             "outlinewidth": 0,
             "ticks": ""
            },
            "type": "mesh3d"
           }
          ],
          "parcoords": [
           {
            "line": {
             "colorbar": {
              "outlinewidth": 0,
              "ticks": ""
             }
            },
            "type": "parcoords"
           }
          ],
          "pie": [
           {
            "automargin": true,
            "type": "pie"
           }
          ],
          "scatter": [
           {
            "fillpattern": {
             "fillmode": "overlay",
             "size": 10,
             "solidity": 0.2
            },
            "type": "scatter"
           }
          ],
          "scatter3d": [
           {
            "line": {
             "colorbar": {
              "outlinewidth": 0,
              "ticks": ""
             }
            },
            "marker": {
             "colorbar": {
              "outlinewidth": 0,
              "ticks": ""
             }
            },
            "type": "scatter3d"
           }
          ],
          "scattercarpet": [
           {
            "marker": {
             "colorbar": {
              "outlinewidth": 0,
              "ticks": ""
             }
            },
            "type": "scattercarpet"
           }
          ],
          "scattergeo": [
           {
            "marker": {
             "colorbar": {
              "outlinewidth": 0,
              "ticks": ""
             }
            },
            "type": "scattergeo"
           }
          ],
          "scattergl": [
           {
            "marker": {
             "colorbar": {
              "outlinewidth": 0,
              "ticks": ""
             }
            },
            "type": "scattergl"
           }
          ],
          "scattermapbox": [
           {
            "marker": {
             "colorbar": {
              "outlinewidth": 0,
              "ticks": ""
             }
            },
            "type": "scattermapbox"
           }
          ],
          "scatterpolar": [
           {
            "marker": {
             "colorbar": {
              "outlinewidth": 0,
              "ticks": ""
             }
            },
            "type": "scatterpolar"
           }
          ],
          "scatterpolargl": [
           {
            "marker": {
             "colorbar": {
              "outlinewidth": 0,
              "ticks": ""
             }
            },
            "type": "scatterpolargl"
           }
          ],
          "scatterternary": [
           {
            "marker": {
             "colorbar": {
              "outlinewidth": 0,
              "ticks": ""
             }
            },
            "type": "scatterternary"
           }
          ],
          "surface": [
           {
            "colorbar": {
             "outlinewidth": 0,
             "ticks": ""
            },
            "colorscale": [
             [
              0,
              "#0d0887"
             ],
             [
              0.1111111111111111,
              "#46039f"
             ],
             [
              0.2222222222222222,
              "#7201a8"
             ],
             [
              0.3333333333333333,
              "#9c179e"
             ],
             [
              0.4444444444444444,
              "#bd3786"
             ],
             [
              0.5555555555555556,
              "#d8576b"
             ],
             [
              0.6666666666666666,
              "#ed7953"
             ],
             [
              0.7777777777777778,
              "#fb9f3a"
             ],
             [
              0.8888888888888888,
              "#fdca26"
             ],
             [
              1,
              "#f0f921"
             ]
            ],
            "type": "surface"
           }
          ],
          "table": [
           {
            "cells": {
             "fill": {
              "color": "#EBF0F8"
             },
             "line": {
              "color": "white"
             }
            },
            "header": {
             "fill": {
              "color": "#C8D4E3"
             },
             "line": {
              "color": "white"
             }
            },
            "type": "table"
           }
          ]
         },
         "layout": {
          "annotationdefaults": {
           "arrowcolor": "#2a3f5f",
           "arrowhead": 0,
           "arrowwidth": 1
          },
          "autotypenumbers": "strict",
          "coloraxis": {
           "colorbar": {
            "outlinewidth": 0,
            "ticks": ""
           }
          },
          "colorscale": {
           "diverging": [
            [
             0,
             "#8e0152"
            ],
            [
             0.1,
             "#c51b7d"
            ],
            [
             0.2,
             "#de77ae"
            ],
            [
             0.3,
             "#f1b6da"
            ],
            [
             0.4,
             "#fde0ef"
            ],
            [
             0.5,
             "#f7f7f7"
            ],
            [
             0.6,
             "#e6f5d0"
            ],
            [
             0.7,
             "#b8e186"
            ],
            [
             0.8,
             "#7fbc41"
            ],
            [
             0.9,
             "#4d9221"
            ],
            [
             1,
             "#276419"
            ]
           ],
           "sequential": [
            [
             0,
             "#0d0887"
            ],
            [
             0.1111111111111111,
             "#46039f"
            ],
            [
             0.2222222222222222,
             "#7201a8"
            ],
            [
             0.3333333333333333,
             "#9c179e"
            ],
            [
             0.4444444444444444,
             "#bd3786"
            ],
            [
             0.5555555555555556,
             "#d8576b"
            ],
            [
             0.6666666666666666,
             "#ed7953"
            ],
            [
             0.7777777777777778,
             "#fb9f3a"
            ],
            [
             0.8888888888888888,
             "#fdca26"
            ],
            [
             1,
             "#f0f921"
            ]
           ],
           "sequentialminus": [
            [
             0,
             "#0d0887"
            ],
            [
             0.1111111111111111,
             "#46039f"
            ],
            [
             0.2222222222222222,
             "#7201a8"
            ],
            [
             0.3333333333333333,
             "#9c179e"
            ],
            [
             0.4444444444444444,
             "#bd3786"
            ],
            [
             0.5555555555555556,
             "#d8576b"
            ],
            [
             0.6666666666666666,
             "#ed7953"
            ],
            [
             0.7777777777777778,
             "#fb9f3a"
            ],
            [
             0.8888888888888888,
             "#fdca26"
            ],
            [
             1,
             "#f0f921"
            ]
           ]
          },
          "colorway": [
           "#636efa",
           "#EF553B",
           "#00cc96",
           "#ab63fa",
           "#FFA15A",
           "#19d3f3",
           "#FF6692",
           "#B6E880",
           "#FF97FF",
           "#FECB52"
          ],
          "font": {
           "color": "#2a3f5f"
          },
          "geo": {
           "bgcolor": "white",
           "lakecolor": "white",
           "landcolor": "#E5ECF6",
           "showlakes": true,
           "showland": true,
           "subunitcolor": "white"
          },
          "hoverlabel": {
           "align": "left"
          },
          "hovermode": "closest",
          "mapbox": {
           "style": "light"
          },
          "paper_bgcolor": "white",
          "plot_bgcolor": "#E5ECF6",
          "polar": {
           "angularaxis": {
            "gridcolor": "white",
            "linecolor": "white",
            "ticks": ""
           },
           "bgcolor": "#E5ECF6",
           "radialaxis": {
            "gridcolor": "white",
            "linecolor": "white",
            "ticks": ""
           }
          },
          "scene": {
           "xaxis": {
            "backgroundcolor": "#E5ECF6",
            "gridcolor": "white",
            "gridwidth": 2,
            "linecolor": "white",
            "showbackground": true,
            "ticks": "",
            "zerolinecolor": "white"
           },
           "yaxis": {
            "backgroundcolor": "#E5ECF6",
            "gridcolor": "white",
            "gridwidth": 2,
            "linecolor": "white",
            "showbackground": true,
            "ticks": "",
            "zerolinecolor": "white"
           },
           "zaxis": {
            "backgroundcolor": "#E5ECF6",
            "gridcolor": "white",
            "gridwidth": 2,
            "linecolor": "white",
            "showbackground": true,
            "ticks": "",
            "zerolinecolor": "white"
           }
          },
          "shapedefaults": {
           "line": {
            "color": "#2a3f5f"
           }
          },
          "ternary": {
           "aaxis": {
            "gridcolor": "white",
            "linecolor": "white",
            "ticks": ""
           },
           "baxis": {
            "gridcolor": "white",
            "linecolor": "white",
            "ticks": ""
           },
           "bgcolor": "#E5ECF6",
           "caxis": {
            "gridcolor": "white",
            "linecolor": "white",
            "ticks": ""
           }
          },
          "title": {
           "x": 0.05
          },
          "xaxis": {
           "automargin": true,
           "gridcolor": "white",
           "linecolor": "white",
           "ticks": "",
           "title": {
            "standoff": 15
           },
           "zerolinecolor": "white",
           "zerolinewidth": 2
          },
          "yaxis": {
           "automargin": true,
           "gridcolor": "white",
           "linecolor": "white",
           "ticks": "",
           "title": {
            "standoff": 15
           },
           "zerolinecolor": "white",
           "zerolinewidth": 2
          }
         }
        },
        "title": {
         "text": "preprocess_time"
        },
        "yaxis": {
         "title": {
          "text": "preprocess_time"
         }
        }
       }
      }
     },
     "metadata": {},
     "output_type": "display_data"
    },
    {
     "data": {
      "application/vnd.plotly.v1+json": {
       "config": {
        "plotlyServerURL": "https://plot.ly"
       },
       "data": [
        {
         "name": "Full",
         "type": "box",
         "x": [
          "LogisticRegression",
          "LogisticRegression",
          "LogisticRegression",
          "LogisticRegression",
          "LogisticRegression",
          "LogisticRegression",
          "LogisticRegression",
          "LogisticRegression",
          "LogisticRegression",
          "LogisticRegression",
          "LogisticRegression",
          "LogisticRegression",
          "LogisticRegression",
          "LogisticRegression",
          "LogisticRegression",
          "LogisticRegression",
          "LogisticRegression",
          "LogisticRegression",
          "LogisticRegression",
          "LogisticRegression",
          "SVC",
          "SVC",
          "SVC",
          "SVC",
          "SVC",
          "SVC",
          "SVC",
          "SVC",
          "SVC",
          "SVC",
          "SVC",
          "SVC",
          "SVC",
          "SVC",
          "SVC",
          "SVC",
          "SVC",
          "SVC",
          "SVC",
          "SVC",
          "RandomForestClassifier",
          "RandomForestClassifier",
          "RandomForestClassifier",
          "RandomForestClassifier",
          "RandomForestClassifier",
          "RandomForestClassifier",
          "RandomForestClassifier",
          "RandomForestClassifier",
          "RandomForestClassifier",
          "RandomForestClassifier",
          "RandomForestClassifier",
          "RandomForestClassifier",
          "RandomForestClassifier",
          "RandomForestClassifier",
          "RandomForestClassifier",
          "RandomForestClassifier",
          "RandomForestClassifier",
          "RandomForestClassifier",
          "RandomForestClassifier",
          "RandomForestClassifier",
          "GradientBoostingClassifier",
          "GradientBoostingClassifier",
          "GradientBoostingClassifier",
          "GradientBoostingClassifier",
          "GradientBoostingClassifier",
          "GradientBoostingClassifier",
          "GradientBoostingClassifier",
          "GradientBoostingClassifier",
          "GradientBoostingClassifier",
          "GradientBoostingClassifier",
          "GradientBoostingClassifier",
          "GradientBoostingClassifier",
          "GradientBoostingClassifier",
          "GradientBoostingClassifier",
          "GradientBoostingClassifier",
          "GradientBoostingClassifier",
          "GradientBoostingClassifier",
          "GradientBoostingClassifier",
          "GradientBoostingClassifier",
          "GradientBoostingClassifier",
          "DeepNeuralNetwork",
          "DeepNeuralNetwork",
          "DeepNeuralNetwork",
          "DeepNeuralNetwork",
          "DeepNeuralNetwork",
          "DeepNeuralNetwork",
          "DeepNeuralNetwork",
          "DeepNeuralNetwork",
          "DeepNeuralNetwork",
          "DeepNeuralNetwork",
          "DeepNeuralNetwork",
          "DeepNeuralNetwork",
          "DeepNeuralNetwork",
          "DeepNeuralNetwork",
          "DeepNeuralNetwork",
          "DeepNeuralNetwork",
          "DeepNeuralNetwork",
          "DeepNeuralNetwork",
          "DeepNeuralNetwork",
          "DeepNeuralNetwork"
         ],
         "y": [
          0.0444386005401611,
          0.038917064666748,
          0.1062831878662109,
          0.0756311416625976,
          0.0739247798919677,
          0.1241991519927978,
          0.0755565166473388,
          0.0962238311767578,
          0.0264453887939453,
          0.0680980682373046,
          0.034761905670166,
          0.0403101444244384,
          0.0454828739166259,
          0.0853352546691894,
          0.0409629344940185,
          0.0725479125976562,
          0.0346577167510986,
          0.0519397258758544,
          0.0409803390502929,
          0.033076524734497,
          0.0927493572235107,
          0.1672091484069824,
          0.0866069793701171,
          0.0682330131530761,
          0.1155147552490234,
          0.1105237007141113,
          0.1101522445678711,
          0.2311377525329589,
          0.1280939579010009,
          0.1236772537231445,
          0.1013619899749755,
          0.1687624454498291,
          0.1705856323242187,
          0.1116483211517334,
          0.0785131454467773,
          0.0927197933197021,
          0.1682775020599365,
          0.2713077068328857,
          0.1289761066436767,
          0.2107312679290771,
          0.6955361366271973,
          1.0327911376953125,
          0.703665018081665,
          1.0124809741973877,
          0.6952924728393555,
          0.7847328186035156,
          0.7936747074127197,
          0.7821869850158691,
          0.7897391319274902,
          0.8317825794219971,
          0.7414190769195557,
          1.0517890453338623,
          0.9650957584381104,
          0.8631551265716553,
          0.94655179977417,
          0.8992519378662109,
          0.9671449661254884,
          0.9017915725708008,
          0.9617912769317628,
          0.952141284942627,
          0.4956257343292236,
          0.470414400100708,
          0.4790499210357666,
          0.4654314517974853,
          0.6598086357116699,
          0.4749982357025146,
          0.5545496940612793,
          0.3944706916809082,
          0.3809554576873779,
          0.3965580463409424,
          0.4618206024169922,
          0.405170202255249,
          0.3954493999481201,
          0.493161678314209,
          0.4891397953033447,
          0.5062129497528076,
          0.4865162372589111,
          0.3521194458007812,
          0.3342094421386719,
          0.4452013969421386,
          2.510276556015014,
          2.455185651779175,
          2.793772459030152,
          2.558051347732544,
          2.544661521911621,
          2.5985569953918457,
          2.8518691062927246,
          2.943309545516968,
          1.6272270679473877,
          2.608537435531616,
          4.250152587890625,
          3.78167986869812,
          3.5438199043273926,
          3.442028522491455,
          3.201265811920166,
          3.30277156829834,
          3.282710075378418,
          3.263618230819702,
          4.05858039855957,
          3.8153600692749023
         ]
        },
        {
         "name": "FR",
         "type": "box",
         "x": [
          "LogisticRegression",
          "LogisticRegression",
          "LogisticRegression",
          "LogisticRegression",
          "LogisticRegression",
          "LogisticRegression",
          "LogisticRegression",
          "LogisticRegression",
          "LogisticRegression",
          "LogisticRegression",
          "LogisticRegression",
          "LogisticRegression",
          "LogisticRegression",
          "LogisticRegression",
          "LogisticRegression",
          "LogisticRegression",
          "LogisticRegression",
          "LogisticRegression",
          "LogisticRegression",
          "LogisticRegression",
          "SVC",
          "SVC",
          "SVC",
          "SVC",
          "SVC",
          "SVC",
          "SVC",
          "SVC",
          "SVC",
          "SVC",
          "SVC",
          "SVC",
          "SVC",
          "SVC",
          "SVC",
          "SVC",
          "SVC",
          "SVC",
          "SVC",
          "SVC",
          "RandomForestClassifier",
          "RandomForestClassifier",
          "RandomForestClassifier",
          "RandomForestClassifier",
          "RandomForestClassifier",
          "RandomForestClassifier",
          "RandomForestClassifier",
          "RandomForestClassifier",
          "RandomForestClassifier",
          "RandomForestClassifier",
          "RandomForestClassifier",
          "RandomForestClassifier",
          "RandomForestClassifier",
          "RandomForestClassifier",
          "RandomForestClassifier",
          "RandomForestClassifier",
          "RandomForestClassifier",
          "RandomForestClassifier",
          "RandomForestClassifier",
          "RandomForestClassifier",
          "GradientBoostingClassifier",
          "GradientBoostingClassifier",
          "GradientBoostingClassifier",
          "GradientBoostingClassifier",
          "GradientBoostingClassifier",
          "GradientBoostingClassifier",
          "GradientBoostingClassifier",
          "GradientBoostingClassifier",
          "GradientBoostingClassifier",
          "GradientBoostingClassifier",
          "GradientBoostingClassifier",
          "GradientBoostingClassifier",
          "GradientBoostingClassifier",
          "GradientBoostingClassifier",
          "GradientBoostingClassifier",
          "GradientBoostingClassifier",
          "GradientBoostingClassifier",
          "GradientBoostingClassifier",
          "GradientBoostingClassifier",
          "GradientBoostingClassifier",
          "DeepNeuralNetwork",
          "DeepNeuralNetwork",
          "DeepNeuralNetwork",
          "DeepNeuralNetwork",
          "DeepNeuralNetwork",
          "DeepNeuralNetwork",
          "DeepNeuralNetwork",
          "DeepNeuralNetwork",
          "DeepNeuralNetwork",
          "DeepNeuralNetwork",
          "DeepNeuralNetwork",
          "DeepNeuralNetwork",
          "DeepNeuralNetwork",
          "DeepNeuralNetwork",
          "DeepNeuralNetwork",
          "DeepNeuralNetwork",
          "DeepNeuralNetwork",
          "DeepNeuralNetwork",
          "DeepNeuralNetwork",
          "DeepNeuralNetwork"
         ],
         "y": [
          0.0478720664978027,
          0.0249373912811279,
          0.0318243503570556,
          0.0574557781219482,
          0.0636484622955322,
          0.0467417240142822,
          0.0438930988311767,
          0.0728497505187988,
          0.0822925567626953,
          0.0721418857574462,
          0.039405345916748,
          0.1097579002380371,
          0.0477678775787353,
          0.0648639202117919,
          0.0380558967590332,
          0.1006286144256591,
          0.0281007289886474,
          0.071967601776123,
          0.1418538093566894,
          0.0430574417114257,
          0.1321198940277099,
          0.0667695999145507,
          0.0928516387939453,
          0.0764868259429931,
          0.2181761264801025,
          0.085533857345581,
          0.0791404247283935,
          0.0989992618560791,
          0.154909610748291,
          0.1126315593719482,
          0.1138117313385009,
          0.2191214561462402,
          0.0963814258575439,
          0.2458865642547607,
          0.1096227169036865,
          0.0528576374053955,
          0.167335033416748,
          0.110095739364624,
          0.0726146697998046,
          0.1751327514648437,
          0.8542869091033936,
          0.9003005027770996,
          0.9950251579284668,
          0.7398128509521484,
          0.8856089115142822,
          0.9170465469360352,
          0.7400693893432617,
          0.7692456245422363,
          0.7603943347930908,
          0.7638096809387207,
          0.800696849822998,
          0.8181319236755371,
          0.8581395149230957,
          0.9738399982452391,
          0.9142501354217528,
          0.8887801170349121,
          0.8499855995178223,
          0.7155435085296631,
          0.8196766376495361,
          0.8481712341308594,
          0.4030518531799316,
          0.4493734836578369,
          0.5861141681671143,
          0.533186674118042,
          0.4599199295043945,
          0.3843312263488769,
          0.3941452503204345,
          0.5048809051513672,
          0.3788661956787109,
          0.4175148010253906,
          0.4601533412933349,
          0.3904843330383301,
          0.4853167533874511,
          0.3876738548278808,
          0.4284219741821289,
          0.3517203330993652,
          0.3739700317382812,
          0.4937770366668701,
          0.4605770111083984,
          0.4525446891784668,
          3.5987038612365723,
          3.7131192684173584,
          2.802065849304199,
          3.1824820041656494,
          3.746280670166016,
          3.630387544631958,
          2.66338324546814,
          2.7069499492645264,
          2.726991415023804,
          2.806349754333496,
          2.5752267837524414,
          2.8331427574157715,
          3.0699594020843506,
          2.8143413066864014,
          3.189277648925781,
          2.821418285369873,
          4.331408977508545,
          3.1592373847961426,
          2.9620296955108643,
          2.9641849994659424
         ]
        },
        {
         "name": "SS",
         "type": "box",
         "x": [
          "LogisticRegression",
          "LogisticRegression",
          "LogisticRegression",
          "LogisticRegression",
          "LogisticRegression",
          "LogisticRegression",
          "LogisticRegression",
          "LogisticRegression",
          "LogisticRegression",
          "LogisticRegression",
          "LogisticRegression",
          "LogisticRegression",
          "LogisticRegression",
          "LogisticRegression",
          "LogisticRegression",
          "LogisticRegression",
          "LogisticRegression",
          "LogisticRegression",
          "LogisticRegression",
          "LogisticRegression",
          "SVC",
          "SVC",
          "SVC",
          "SVC",
          "SVC",
          "SVC",
          "SVC",
          "SVC",
          "SVC",
          "SVC",
          "SVC",
          "SVC",
          "SVC",
          "SVC",
          "SVC",
          "SVC",
          "SVC",
          "SVC",
          "SVC",
          "SVC",
          "RandomForestClassifier",
          "RandomForestClassifier",
          "RandomForestClassifier",
          "RandomForestClassifier",
          "RandomForestClassifier",
          "RandomForestClassifier",
          "RandomForestClassifier",
          "RandomForestClassifier",
          "RandomForestClassifier",
          "RandomForestClassifier",
          "RandomForestClassifier",
          "RandomForestClassifier",
          "RandomForestClassifier",
          "RandomForestClassifier",
          "RandomForestClassifier",
          "RandomForestClassifier",
          "RandomForestClassifier",
          "RandomForestClassifier",
          "RandomForestClassifier",
          "RandomForestClassifier",
          "GradientBoostingClassifier",
          "GradientBoostingClassifier",
          "GradientBoostingClassifier",
          "GradientBoostingClassifier",
          "GradientBoostingClassifier",
          "GradientBoostingClassifier",
          "GradientBoostingClassifier",
          "GradientBoostingClassifier",
          "GradientBoostingClassifier",
          "GradientBoostingClassifier",
          "GradientBoostingClassifier",
          "GradientBoostingClassifier",
          "GradientBoostingClassifier",
          "GradientBoostingClassifier",
          "GradientBoostingClassifier",
          "GradientBoostingClassifier",
          "GradientBoostingClassifier",
          "GradientBoostingClassifier",
          "GradientBoostingClassifier",
          "GradientBoostingClassifier",
          "DeepNeuralNetwork",
          "DeepNeuralNetwork",
          "DeepNeuralNetwork",
          "DeepNeuralNetwork",
          "DeepNeuralNetwork",
          "DeepNeuralNetwork",
          "DeepNeuralNetwork",
          "DeepNeuralNetwork",
          "DeepNeuralNetwork",
          "DeepNeuralNetwork",
          "DeepNeuralNetwork",
          "DeepNeuralNetwork",
          "DeepNeuralNetwork",
          "DeepNeuralNetwork",
          "DeepNeuralNetwork",
          "DeepNeuralNetwork",
          "DeepNeuralNetwork",
          "DeepNeuralNetwork",
          "DeepNeuralNetwork",
          "DeepNeuralNetwork"
         ],
         "y": [
          0.0927331447601318,
          0.0426182746887207,
          0.0411667823791503,
          0.0354931354522705,
          0.1438562870025634,
          0.0498669147491455,
          0.040377140045166,
          0.1050746440887451,
          0.0434679985046386,
          0.0347938537597656,
          0.1267869472503662,
          0.0332312583923339,
          0.0569984912872314,
          0.0483222007751464,
          0.0938818454742431,
          0.0359237194061279,
          0.0808534622192382,
          0.0251984596252441,
          0.0433971881866455,
          0.0339064598083496,
          0.0625295639038086,
          0.2445240020751953,
          0.0791308879852294,
          0.1392662525177002,
          0.141664981842041,
          0.1442518234252929,
          0.1082899570465087,
          0.1164445877075195,
          0.1081666946411132,
          0.0746448040008544,
          0.104055643081665,
          0.0950942039489746,
          0.1256959438323974,
          0.0751571655273437,
          0.1097919940948486,
          0.0916857719421386,
          0.1013286113739013,
          0.1150097846984863,
          0.1723051071166992,
          0.0648338794708252,
          0.8303565979003906,
          0.8656203746795654,
          0.8790068626403809,
          0.7211508750915527,
          0.829782247543335,
          0.7631165981292725,
          0.7651331424713135,
          0.6950845718383789,
          0.866448163986206,
          0.9175286293029784,
          0.7616376876831055,
          0.8543753623962402,
          0.7198235988616943,
          0.9366159439086914,
          0.9313552379608154,
          0.6949007511138916,
          0.8788318634033203,
          0.7202298641204834,
          0.9031760692596436,
          0.7501564025878906,
          0.355130672454834,
          0.4322993755340576,
          0.4420239925384521,
          0.4228014945983886,
          0.548753023147583,
          0.4411594867706299,
          0.3552217483520508,
          0.398625373840332,
          0.3919515609741211,
          0.4449293613433838,
          0.5589373111724854,
          0.50954270362854,
          0.5788679122924805,
          0.4847605228424072,
          0.4556217193603515,
          0.4819114208221435,
          0.5544755458831787,
          0.4928088188171386,
          0.4258556365966797,
          0.3270330429077148,
          2.868948459625244,
          3.082312822341919,
          3.18289852142334,
          2.90348744392395,
          2.788770198822021,
          2.73189115524292,
          2.777721881866455,
          2.639856338500977,
          2.7984044551849365,
          3.4568936824798584,
          3.3732829093933105,
          2.9436347484588623,
          3.3660171031951904,
          3.229961395263672,
          2.9622116088867188,
          3.105658531188965,
          3.503946542739868,
          3.2622876167297363,
          3.2336461544036865,
          3.4685120582580566
         ]
        },
        {
         "name": "SS & FR",
         "type": "box",
         "x": [
          "LogisticRegression",
          "LogisticRegression",
          "LogisticRegression",
          "LogisticRegression",
          "LogisticRegression",
          "LogisticRegression",
          "LogisticRegression",
          "LogisticRegression",
          "LogisticRegression",
          "LogisticRegression",
          "LogisticRegression",
          "LogisticRegression",
          "LogisticRegression",
          "LogisticRegression",
          "LogisticRegression",
          "LogisticRegression",
          "LogisticRegression",
          "LogisticRegression",
          "LogisticRegression",
          "LogisticRegression",
          "SVC",
          "SVC",
          "SVC",
          "SVC",
          "SVC",
          "SVC",
          "SVC",
          "SVC",
          "SVC",
          "SVC",
          "SVC",
          "SVC",
          "SVC",
          "SVC",
          "SVC",
          "SVC",
          "SVC",
          "SVC",
          "SVC",
          "SVC",
          "RandomForestClassifier",
          "RandomForestClassifier",
          "RandomForestClassifier",
          "RandomForestClassifier",
          "RandomForestClassifier",
          "RandomForestClassifier",
          "RandomForestClassifier",
          "RandomForestClassifier",
          "RandomForestClassifier",
          "RandomForestClassifier",
          "RandomForestClassifier",
          "RandomForestClassifier",
          "RandomForestClassifier",
          "RandomForestClassifier",
          "RandomForestClassifier",
          "RandomForestClassifier",
          "RandomForestClassifier",
          "RandomForestClassifier",
          "RandomForestClassifier",
          "RandomForestClassifier",
          "GradientBoostingClassifier",
          "GradientBoostingClassifier",
          "GradientBoostingClassifier",
          "GradientBoostingClassifier",
          "GradientBoostingClassifier",
          "GradientBoostingClassifier",
          "GradientBoostingClassifier",
          "GradientBoostingClassifier",
          "GradientBoostingClassifier",
          "GradientBoostingClassifier",
          "GradientBoostingClassifier",
          "GradientBoostingClassifier",
          "GradientBoostingClassifier",
          "GradientBoostingClassifier",
          "GradientBoostingClassifier",
          "GradientBoostingClassifier",
          "GradientBoostingClassifier",
          "GradientBoostingClassifier",
          "GradientBoostingClassifier",
          "GradientBoostingClassifier",
          "DeepNeuralNetwork",
          "DeepNeuralNetwork",
          "DeepNeuralNetwork",
          "DeepNeuralNetwork",
          "DeepNeuralNetwork",
          "DeepNeuralNetwork",
          "DeepNeuralNetwork",
          "DeepNeuralNetwork",
          "DeepNeuralNetwork",
          "DeepNeuralNetwork",
          "DeepNeuralNetwork",
          "DeepNeuralNetwork",
          "DeepNeuralNetwork",
          "DeepNeuralNetwork",
          "DeepNeuralNetwork",
          "DeepNeuralNetwork",
          "DeepNeuralNetwork",
          "DeepNeuralNetwork",
          "DeepNeuralNetwork",
          "DeepNeuralNetwork"
         ],
         "y": [
          0.0303683280944824,
          0.0699429512023925,
          0.0534381866455078,
          0.0320873260498046,
          0.0381844043731689,
          0.0294628143310546,
          0.0532886981964111,
          0.1068856716156005,
          0.0581221580505371,
          0.0340654850006103,
          0.0539679527282714,
          0.0816771984100341,
          0.0793156623840332,
          0.0349605083465576,
          0.0940408706665039,
          0.0715870857238769,
          0.0371692180633544,
          0.0422310829162597,
          0.0312700271606445,
          0.0558831691741943,
          0.0939738750457763,
          0.2088973522186279,
          0.1049134731292724,
          0.0868585109710693,
          0.1652991771697998,
          0.2341246604919433,
          0.1251909732818603,
          0.1314563751220703,
          0.1122515201568603,
          0.0918242931365966,
          0.0608363151550293,
          0.1457972526550293,
          0.068310260772705,
          0.1531450748443603,
          0.0688416957855224,
          0.0972430706024169,
          0.1051626205444336,
          0.0716748237609863,
          0.1823015213012695,
          0.0674448013305664,
          0.991687536239624,
          0.8521769046783447,
          0.7074635028839111,
          0.7258360385894775,
          0.8612799644470215,
          0.8309273719787598,
          0.832496166229248,
          0.7769627571105957,
          1.0898141860961914,
          0.8927762508392334,
          0.8328056335449219,
          0.9534099102020264,
          0.8154380321502686,
          0.7113282680511475,
          0.8358778953552246,
          0.8039150238037109,
          0.7148029804229736,
          0.978445529937744,
          0.9227092266082764,
          0.8997080326080322,
          0.5092225074768066,
          0.3729820251464844,
          0.5603604316711426,
          0.4783942699432373,
          0.3404350280761719,
          0.40509033203125,
          0.4168882369995117,
          0.4529049396514892,
          0.3178384304046631,
          0.5496189594268799,
          0.4730465412139892,
          0.512890100479126,
          0.5198500156402588,
          0.5805017948150635,
          0.553443431854248,
          0.4302759170532226,
          0.4062259197235107,
          0.4481205940246582,
          0.3740842342376709,
          0.4092915058135986,
          3.465750932693481,
          3.35272479057312,
          3.416812896728516,
          3.429629325866699,
          3.600853681564331,
          3.4881069660186768,
          3.733487129211426,
          3.7748095989227295,
          3.2337660789489746,
          3.7263588905334473,
          4.064914703369141,
          3.825380563735962,
          3.3345961570739746,
          2.793262243270874,
          2.9531095027923584,
          2.2481274604797363,
          2.4793620109558105,
          2.233109712600708,
          2.469632625579834,
          2.488189697265625
         ]
        }
       ],
       "layout": {
        "boxmode": "group",
        "template": {
         "data": {
          "bar": [
           {
            "error_x": {
             "color": "#2a3f5f"
            },
            "error_y": {
             "color": "#2a3f5f"
            },
            "marker": {
             "line": {
              "color": "#E5ECF6",
              "width": 0.5
             },
             "pattern": {
              "fillmode": "overlay",
              "size": 10,
              "solidity": 0.2
             }
            },
            "type": "bar"
           }
          ],
          "barpolar": [
           {
            "marker": {
             "line": {
              "color": "#E5ECF6",
              "width": 0.5
             },
             "pattern": {
              "fillmode": "overlay",
              "size": 10,
              "solidity": 0.2
             }
            },
            "type": "barpolar"
           }
          ],
          "carpet": [
           {
            "aaxis": {
             "endlinecolor": "#2a3f5f",
             "gridcolor": "white",
             "linecolor": "white",
             "minorgridcolor": "white",
             "startlinecolor": "#2a3f5f"
            },
            "baxis": {
             "endlinecolor": "#2a3f5f",
             "gridcolor": "white",
             "linecolor": "white",
             "minorgridcolor": "white",
             "startlinecolor": "#2a3f5f"
            },
            "type": "carpet"
           }
          ],
          "choropleth": [
           {
            "colorbar": {
             "outlinewidth": 0,
             "ticks": ""
            },
            "type": "choropleth"
           }
          ],
          "contour": [
           {
            "colorbar": {
             "outlinewidth": 0,
             "ticks": ""
            },
            "colorscale": [
             [
              0,
              "#0d0887"
             ],
             [
              0.1111111111111111,
              "#46039f"
             ],
             [
              0.2222222222222222,
              "#7201a8"
             ],
             [
              0.3333333333333333,
              "#9c179e"
             ],
             [
              0.4444444444444444,
              "#bd3786"
             ],
             [
              0.5555555555555556,
              "#d8576b"
             ],
             [
              0.6666666666666666,
              "#ed7953"
             ],
             [
              0.7777777777777778,
              "#fb9f3a"
             ],
             [
              0.8888888888888888,
              "#fdca26"
             ],
             [
              1,
              "#f0f921"
             ]
            ],
            "type": "contour"
           }
          ],
          "contourcarpet": [
           {
            "colorbar": {
             "outlinewidth": 0,
             "ticks": ""
            },
            "type": "contourcarpet"
           }
          ],
          "heatmap": [
           {
            "colorbar": {
             "outlinewidth": 0,
             "ticks": ""
            },
            "colorscale": [
             [
              0,
              "#0d0887"
             ],
             [
              0.1111111111111111,
              "#46039f"
             ],
             [
              0.2222222222222222,
              "#7201a8"
             ],
             [
              0.3333333333333333,
              "#9c179e"
             ],
             [
              0.4444444444444444,
              "#bd3786"
             ],
             [
              0.5555555555555556,
              "#d8576b"
             ],
             [
              0.6666666666666666,
              "#ed7953"
             ],
             [
              0.7777777777777778,
              "#fb9f3a"
             ],
             [
              0.8888888888888888,
              "#fdca26"
             ],
             [
              1,
              "#f0f921"
             ]
            ],
            "type": "heatmap"
           }
          ],
          "heatmapgl": [
           {
            "colorbar": {
             "outlinewidth": 0,
             "ticks": ""
            },
            "colorscale": [
             [
              0,
              "#0d0887"
             ],
             [
              0.1111111111111111,
              "#46039f"
             ],
             [
              0.2222222222222222,
              "#7201a8"
             ],
             [
              0.3333333333333333,
              "#9c179e"
             ],
             [
              0.4444444444444444,
              "#bd3786"
             ],
             [
              0.5555555555555556,
              "#d8576b"
             ],
             [
              0.6666666666666666,
              "#ed7953"
             ],
             [
              0.7777777777777778,
              "#fb9f3a"
             ],
             [
              0.8888888888888888,
              "#fdca26"
             ],
             [
              1,
              "#f0f921"
             ]
            ],
            "type": "heatmapgl"
           }
          ],
          "histogram": [
           {
            "marker": {
             "pattern": {
              "fillmode": "overlay",
              "size": 10,
              "solidity": 0.2
             }
            },
            "type": "histogram"
           }
          ],
          "histogram2d": [
           {
            "colorbar": {
             "outlinewidth": 0,
             "ticks": ""
            },
            "colorscale": [
             [
              0,
              "#0d0887"
             ],
             [
              0.1111111111111111,
              "#46039f"
             ],
             [
              0.2222222222222222,
              "#7201a8"
             ],
             [
              0.3333333333333333,
              "#9c179e"
             ],
             [
              0.4444444444444444,
              "#bd3786"
             ],
             [
              0.5555555555555556,
              "#d8576b"
             ],
             [
              0.6666666666666666,
              "#ed7953"
             ],
             [
              0.7777777777777778,
              "#fb9f3a"
             ],
             [
              0.8888888888888888,
              "#fdca26"
             ],
             [
              1,
              "#f0f921"
             ]
            ],
            "type": "histogram2d"
           }
          ],
          "histogram2dcontour": [
           {
            "colorbar": {
             "outlinewidth": 0,
             "ticks": ""
            },
            "colorscale": [
             [
              0,
              "#0d0887"
             ],
             [
              0.1111111111111111,
              "#46039f"
             ],
             [
              0.2222222222222222,
              "#7201a8"
             ],
             [
              0.3333333333333333,
              "#9c179e"
             ],
             [
              0.4444444444444444,
              "#bd3786"
             ],
             [
              0.5555555555555556,
              "#d8576b"
             ],
             [
              0.6666666666666666,
              "#ed7953"
             ],
             [
              0.7777777777777778,
              "#fb9f3a"
             ],
             [
              0.8888888888888888,
              "#fdca26"
             ],
             [
              1,
              "#f0f921"
             ]
            ],
            "type": "histogram2dcontour"
           }
          ],
          "mesh3d": [
           {
            "colorbar": {
             "outlinewidth": 0,
             "ticks": ""
            },
            "type": "mesh3d"
           }
          ],
          "parcoords": [
           {
            "line": {
             "colorbar": {
              "outlinewidth": 0,
              "ticks": ""
             }
            },
            "type": "parcoords"
           }
          ],
          "pie": [
           {
            "automargin": true,
            "type": "pie"
           }
          ],
          "scatter": [
           {
            "fillpattern": {
             "fillmode": "overlay",
             "size": 10,
             "solidity": 0.2
            },
            "type": "scatter"
           }
          ],
          "scatter3d": [
           {
            "line": {
             "colorbar": {
              "outlinewidth": 0,
              "ticks": ""
             }
            },
            "marker": {
             "colorbar": {
              "outlinewidth": 0,
              "ticks": ""
             }
            },
            "type": "scatter3d"
           }
          ],
          "scattercarpet": [
           {
            "marker": {
             "colorbar": {
              "outlinewidth": 0,
              "ticks": ""
             }
            },
            "type": "scattercarpet"
           }
          ],
          "scattergeo": [
           {
            "marker": {
             "colorbar": {
              "outlinewidth": 0,
              "ticks": ""
             }
            },
            "type": "scattergeo"
           }
          ],
          "scattergl": [
           {
            "marker": {
             "colorbar": {
              "outlinewidth": 0,
              "ticks": ""
             }
            },
            "type": "scattergl"
           }
          ],
          "scattermapbox": [
           {
            "marker": {
             "colorbar": {
              "outlinewidth": 0,
              "ticks": ""
             }
            },
            "type": "scattermapbox"
           }
          ],
          "scatterpolar": [
           {
            "marker": {
             "colorbar": {
              "outlinewidth": 0,
              "ticks": ""
             }
            },
            "type": "scatterpolar"
           }
          ],
          "scatterpolargl": [
           {
            "marker": {
             "colorbar": {
              "outlinewidth": 0,
              "ticks": ""
             }
            },
            "type": "scatterpolargl"
           }
          ],
          "scatterternary": [
           {
            "marker": {
             "colorbar": {
              "outlinewidth": 0,
              "ticks": ""
             }
            },
            "type": "scatterternary"
           }
          ],
          "surface": [
           {
            "colorbar": {
             "outlinewidth": 0,
             "ticks": ""
            },
            "colorscale": [
             [
              0,
              "#0d0887"
             ],
             [
              0.1111111111111111,
              "#46039f"
             ],
             [
              0.2222222222222222,
              "#7201a8"
             ],
             [
              0.3333333333333333,
              "#9c179e"
             ],
             [
              0.4444444444444444,
              "#bd3786"
             ],
             [
              0.5555555555555556,
              "#d8576b"
             ],
             [
              0.6666666666666666,
              "#ed7953"
             ],
             [
              0.7777777777777778,
              "#fb9f3a"
             ],
             [
              0.8888888888888888,
              "#fdca26"
             ],
             [
              1,
              "#f0f921"
             ]
            ],
            "type": "surface"
           }
          ],
          "table": [
           {
            "cells": {
             "fill": {
              "color": "#EBF0F8"
             },
             "line": {
              "color": "white"
             }
            },
            "header": {
             "fill": {
              "color": "#C8D4E3"
             },
             "line": {
              "color": "white"
             }
            },
            "type": "table"
           }
          ]
         },
         "layout": {
          "annotationdefaults": {
           "arrowcolor": "#2a3f5f",
           "arrowhead": 0,
           "arrowwidth": 1
          },
          "autotypenumbers": "strict",
          "coloraxis": {
           "colorbar": {
            "outlinewidth": 0,
            "ticks": ""
           }
          },
          "colorscale": {
           "diverging": [
            [
             0,
             "#8e0152"
            ],
            [
             0.1,
             "#c51b7d"
            ],
            [
             0.2,
             "#de77ae"
            ],
            [
             0.3,
             "#f1b6da"
            ],
            [
             0.4,
             "#fde0ef"
            ],
            [
             0.5,
             "#f7f7f7"
            ],
            [
             0.6,
             "#e6f5d0"
            ],
            [
             0.7,
             "#b8e186"
            ],
            [
             0.8,
             "#7fbc41"
            ],
            [
             0.9,
             "#4d9221"
            ],
            [
             1,
             "#276419"
            ]
           ],
           "sequential": [
            [
             0,
             "#0d0887"
            ],
            [
             0.1111111111111111,
             "#46039f"
            ],
            [
             0.2222222222222222,
             "#7201a8"
            ],
            [
             0.3333333333333333,
             "#9c179e"
            ],
            [
             0.4444444444444444,
             "#bd3786"
            ],
            [
             0.5555555555555556,
             "#d8576b"
            ],
            [
             0.6666666666666666,
             "#ed7953"
            ],
            [
             0.7777777777777778,
             "#fb9f3a"
            ],
            [
             0.8888888888888888,
             "#fdca26"
            ],
            [
             1,
             "#f0f921"
            ]
           ],
           "sequentialminus": [
            [
             0,
             "#0d0887"
            ],
            [
             0.1111111111111111,
             "#46039f"
            ],
            [
             0.2222222222222222,
             "#7201a8"
            ],
            [
             0.3333333333333333,
             "#9c179e"
            ],
            [
             0.4444444444444444,
             "#bd3786"
            ],
            [
             0.5555555555555556,
             "#d8576b"
            ],
            [
             0.6666666666666666,
             "#ed7953"
            ],
            [
             0.7777777777777778,
             "#fb9f3a"
            ],
            [
             0.8888888888888888,
             "#fdca26"
            ],
            [
             1,
             "#f0f921"
            ]
           ]
          },
          "colorway": [
           "#636efa",
           "#EF553B",
           "#00cc96",
           "#ab63fa",
           "#FFA15A",
           "#19d3f3",
           "#FF6692",
           "#B6E880",
           "#FF97FF",
           "#FECB52"
          ],
          "font": {
           "color": "#2a3f5f"
          },
          "geo": {
           "bgcolor": "white",
           "lakecolor": "white",
           "landcolor": "#E5ECF6",
           "showlakes": true,
           "showland": true,
           "subunitcolor": "white"
          },
          "hoverlabel": {
           "align": "left"
          },
          "hovermode": "closest",
          "mapbox": {
           "style": "light"
          },
          "paper_bgcolor": "white",
          "plot_bgcolor": "#E5ECF6",
          "polar": {
           "angularaxis": {
            "gridcolor": "white",
            "linecolor": "white",
            "ticks": ""
           },
           "bgcolor": "#E5ECF6",
           "radialaxis": {
            "gridcolor": "white",
            "linecolor": "white",
            "ticks": ""
           }
          },
          "scene": {
           "xaxis": {
            "backgroundcolor": "#E5ECF6",
            "gridcolor": "white",
            "gridwidth": 2,
            "linecolor": "white",
            "showbackground": true,
            "ticks": "",
            "zerolinecolor": "white"
           },
           "yaxis": {
            "backgroundcolor": "#E5ECF6",
            "gridcolor": "white",
            "gridwidth": 2,
            "linecolor": "white",
            "showbackground": true,
            "ticks": "",
            "zerolinecolor": "white"
           },
           "zaxis": {
            "backgroundcolor": "#E5ECF6",
            "gridcolor": "white",
            "gridwidth": 2,
            "linecolor": "white",
            "showbackground": true,
            "ticks": "",
            "zerolinecolor": "white"
           }
          },
          "shapedefaults": {
           "line": {
            "color": "#2a3f5f"
           }
          },
          "ternary": {
           "aaxis": {
            "gridcolor": "white",
            "linecolor": "white",
            "ticks": ""
           },
           "baxis": {
            "gridcolor": "white",
            "linecolor": "white",
            "ticks": ""
           },
           "bgcolor": "#E5ECF6",
           "caxis": {
            "gridcolor": "white",
            "linecolor": "white",
            "ticks": ""
           }
          },
          "title": {
           "x": 0.05
          },
          "xaxis": {
           "automargin": true,
           "gridcolor": "white",
           "linecolor": "white",
           "ticks": "",
           "title": {
            "standoff": 15
           },
           "zerolinecolor": "white",
           "zerolinewidth": 2
          },
          "yaxis": {
           "automargin": true,
           "gridcolor": "white",
           "linecolor": "white",
           "ticks": "",
           "title": {
            "standoff": 15
           },
           "zerolinecolor": "white",
           "zerolinewidth": 2
          }
         }
        },
        "title": {
         "text": "training_time"
        },
        "yaxis": {
         "title": {
          "text": "training_time"
         }
        }
       }
      }
     },
     "metadata": {},
     "output_type": "display_data"
    },
    {
     "data": {
      "application/vnd.plotly.v1+json": {
       "config": {
        "plotlyServerURL": "https://plot.ly"
       },
       "data": [
        {
         "name": "Full",
         "type": "box",
         "x": [
          "LogisticRegression",
          "LogisticRegression",
          "LogisticRegression",
          "LogisticRegression",
          "LogisticRegression",
          "LogisticRegression",
          "LogisticRegression",
          "LogisticRegression",
          "LogisticRegression",
          "LogisticRegression",
          "LogisticRegression",
          "LogisticRegression",
          "LogisticRegression",
          "LogisticRegression",
          "LogisticRegression",
          "LogisticRegression",
          "LogisticRegression",
          "LogisticRegression",
          "LogisticRegression",
          "LogisticRegression",
          "SVC",
          "SVC",
          "SVC",
          "SVC",
          "SVC",
          "SVC",
          "SVC",
          "SVC",
          "SVC",
          "SVC",
          "SVC",
          "SVC",
          "SVC",
          "SVC",
          "SVC",
          "SVC",
          "SVC",
          "SVC",
          "SVC",
          "SVC",
          "RandomForestClassifier",
          "RandomForestClassifier",
          "RandomForestClassifier",
          "RandomForestClassifier",
          "RandomForestClassifier",
          "RandomForestClassifier",
          "RandomForestClassifier",
          "RandomForestClassifier",
          "RandomForestClassifier",
          "RandomForestClassifier",
          "RandomForestClassifier",
          "RandomForestClassifier",
          "RandomForestClassifier",
          "RandomForestClassifier",
          "RandomForestClassifier",
          "RandomForestClassifier",
          "RandomForestClassifier",
          "RandomForestClassifier",
          "RandomForestClassifier",
          "RandomForestClassifier",
          "GradientBoostingClassifier",
          "GradientBoostingClassifier",
          "GradientBoostingClassifier",
          "GradientBoostingClassifier",
          "GradientBoostingClassifier",
          "GradientBoostingClassifier",
          "GradientBoostingClassifier",
          "GradientBoostingClassifier",
          "GradientBoostingClassifier",
          "GradientBoostingClassifier",
          "GradientBoostingClassifier",
          "GradientBoostingClassifier",
          "GradientBoostingClassifier",
          "GradientBoostingClassifier",
          "GradientBoostingClassifier",
          "GradientBoostingClassifier",
          "GradientBoostingClassifier",
          "GradientBoostingClassifier",
          "GradientBoostingClassifier",
          "GradientBoostingClassifier",
          "DeepNeuralNetwork",
          "DeepNeuralNetwork",
          "DeepNeuralNetwork",
          "DeepNeuralNetwork",
          "DeepNeuralNetwork",
          "DeepNeuralNetwork",
          "DeepNeuralNetwork",
          "DeepNeuralNetwork",
          "DeepNeuralNetwork",
          "DeepNeuralNetwork",
          "DeepNeuralNetwork",
          "DeepNeuralNetwork",
          "DeepNeuralNetwork",
          "DeepNeuralNetwork",
          "DeepNeuralNetwork",
          "DeepNeuralNetwork",
          "DeepNeuralNetwork",
          "DeepNeuralNetwork",
          "DeepNeuralNetwork",
          "DeepNeuralNetwork"
         ],
         "y": [
          0.0199482440948486,
          0.051415205001831,
          0.1141571998596191,
          0.0800569057464599,
          0.0718836784362793,
          0.1855816841125488,
          0.0354413986206054,
          0.065176248550415,
          0.0842688083648681,
          0.0189154148101806,
          0.0623567104339599,
          0.0248558521270751,
          0.0761480331420898,
          0.0311479568481445,
          0.0292017459869384,
          0.0269293785095214,
          0.0231339931488037,
          0.0535831451416015,
          0.0319156646728515,
          0.0273957252502441,
          0.3258039951324463,
          0.2995738983154297,
          0.2470149993896484,
          0.340501070022583,
          0.2682976722717285,
          0.3044235706329345,
          0.2890820503234863,
          0.1782400608062744,
          0.3651759624481201,
          0.184213638305664,
          0.2634584903717041,
          0.1615252494812011,
          0.2566640377044678,
          0.2260193824768066,
          0.3039553165435791,
          0.260791540145874,
          0.269721508026123,
          0.1996388435363769,
          0.3419187068939209,
          0.212747573852539,
          0.1506452560424804,
          0.0942168235778808,
          0.1511006355285644,
          0.0598793029785156,
          0.115361213684082,
          0.1211004257202148,
          0.1224668025970459,
          0.1094634532928466,
          0.0942058563232421,
          0.1357340812683105,
          0.2202892303466797,
          0.1052803993225097,
          0.1275115013122558,
          0.1240115165710449,
          0.0628883838653564,
          0.1328158378601074,
          0.1006145477294921,
          0.2060515880584716,
          0.0611524581909179,
          0.1122238636016845,
          0.0218269824981689,
          0.028022289276123,
          0.028543472290039,
          0.0294198989868164,
          0.0288896560668945,
          0.0326292514801025,
          0.0248973369598388,
          0.0360682010650634,
          0.0454225540161132,
          0.0218877792358398,
          0.0242502689361572,
          0.0241804122924804,
          0.0234837532043457,
          0.0228607654571533,
          0.031614065170288,
          0.0310821533203125,
          0.0320587158203125,
          0.0255732536315917,
          0.0223340988159179,
          0.0213973522186279,
          0.2554628849029541,
          0.2571320533752441,
          0.3371789455413818,
          0.2510309219360351,
          0.2518467903137207,
          0.3365600109100342,
          0.1454017162322998,
          0.579077959060669,
          0.1568865776062011,
          0.3271245956420898,
          0.3035249710083008,
          0.7227330207824707,
          0.3043086528778076,
          0.3262338638305664,
          0.588266134262085,
          0.3818058967590332,
          0.3852345943450928,
          0.3870718479156494,
          0.4360437393188476,
          0.4475557804107666
         ]
        },
        {
         "name": "FR",
         "type": "box",
         "x": [
          "LogisticRegression",
          "LogisticRegression",
          "LogisticRegression",
          "LogisticRegression",
          "LogisticRegression",
          "LogisticRegression",
          "LogisticRegression",
          "LogisticRegression",
          "LogisticRegression",
          "LogisticRegression",
          "LogisticRegression",
          "LogisticRegression",
          "LogisticRegression",
          "LogisticRegression",
          "LogisticRegression",
          "LogisticRegression",
          "LogisticRegression",
          "LogisticRegression",
          "LogisticRegression",
          "LogisticRegression",
          "SVC",
          "SVC",
          "SVC",
          "SVC",
          "SVC",
          "SVC",
          "SVC",
          "SVC",
          "SVC",
          "SVC",
          "SVC",
          "SVC",
          "SVC",
          "SVC",
          "SVC",
          "SVC",
          "SVC",
          "SVC",
          "SVC",
          "SVC",
          "RandomForestClassifier",
          "RandomForestClassifier",
          "RandomForestClassifier",
          "RandomForestClassifier",
          "RandomForestClassifier",
          "RandomForestClassifier",
          "RandomForestClassifier",
          "RandomForestClassifier",
          "RandomForestClassifier",
          "RandomForestClassifier",
          "RandomForestClassifier",
          "RandomForestClassifier",
          "RandomForestClassifier",
          "RandomForestClassifier",
          "RandomForestClassifier",
          "RandomForestClassifier",
          "RandomForestClassifier",
          "RandomForestClassifier",
          "RandomForestClassifier",
          "RandomForestClassifier",
          "GradientBoostingClassifier",
          "GradientBoostingClassifier",
          "GradientBoostingClassifier",
          "GradientBoostingClassifier",
          "GradientBoostingClassifier",
          "GradientBoostingClassifier",
          "GradientBoostingClassifier",
          "GradientBoostingClassifier",
          "GradientBoostingClassifier",
          "GradientBoostingClassifier",
          "GradientBoostingClassifier",
          "GradientBoostingClassifier",
          "GradientBoostingClassifier",
          "GradientBoostingClassifier",
          "GradientBoostingClassifier",
          "GradientBoostingClassifier",
          "GradientBoostingClassifier",
          "GradientBoostingClassifier",
          "GradientBoostingClassifier",
          "GradientBoostingClassifier",
          "DeepNeuralNetwork",
          "DeepNeuralNetwork",
          "DeepNeuralNetwork",
          "DeepNeuralNetwork",
          "DeepNeuralNetwork",
          "DeepNeuralNetwork",
          "DeepNeuralNetwork",
          "DeepNeuralNetwork",
          "DeepNeuralNetwork",
          "DeepNeuralNetwork",
          "DeepNeuralNetwork",
          "DeepNeuralNetwork",
          "DeepNeuralNetwork",
          "DeepNeuralNetwork",
          "DeepNeuralNetwork",
          "DeepNeuralNetwork",
          "DeepNeuralNetwork",
          "DeepNeuralNetwork",
          "DeepNeuralNetwork",
          "DeepNeuralNetwork"
         ],
         "y": [
          0.0179519653320312,
          0.0224950313568115,
          0.0224525928497314,
          0.0179085731506347,
          0.087369680404663,
          0.0558443069458007,
          0.0197246074676513,
          0.07552170753479,
          0.0870163440704345,
          0.0692892074584961,
          0.035628318786621,
          0.076122760772705,
          0.0760073661804199,
          0.099985122680664,
          0.0289504528045654,
          0.101287841796875,
          0.0403733253479003,
          0.0248584747314453,
          0.0543348789215087,
          0.0316302776336669,
          0.2604916095733642,
          0.2446084022521972,
          0.1907627582550048,
          0.3213531970977783,
          0.1887788772583007,
          0.281503677368164,
          0.3213295936584472,
          0.2398607730865478,
          0.1435689926147461,
          0.1983962059020996,
          0.2529773712158203,
          0.1701712608337402,
          0.3177938461303711,
          0.1850247383117675,
          0.2884981632232666,
          0.1966419219970703,
          0.124298095703125,
          0.3512628078460693,
          0.2662298679351806,
          0.2935287952423095,
          0.1482350826263427,
          0.1844604015350341,
          0.0820457935333252,
          0.0923998355865478,
          0.1533749103546142,
          0.0600488185882568,
          0.155872106552124,
          0.1022689342498779,
          0.0679850578308105,
          0.132699966430664,
          0.0778889656066894,
          0.1108901500701904,
          0.221569538116455,
          0.0596706867218017,
          0.0618410110473632,
          0.2500534057617187,
          0.108457326889038,
          0.131460428237915,
          0.0960016250610351,
          0.0698885917663574,
          0.0222532749176025,
          0.0299022197723388,
          0.0219340324401855,
          0.0265042781829834,
          0.0261261463165283,
          0.0210733413696289,
          0.0227117538452148,
          0.0252342224121093,
          0.02286958694458,
          0.0329344272613525,
          0.033339500427246,
          0.0255284309387207,
          0.025989294052124,
          0.0233337879180908,
          0.0228888988494873,
          0.0229122638702392,
          0.0221974849700927,
          0.0242426395416259,
          0.0248382091522216,
          0.0208158493041992,
          0.4927411079406738,
          0.3854413032531738,
          0.390446662902832,
          0.4637269973754883,
          0.510991096496582,
          0.3316183090209961,
          0.383843183517456,
          0.4640159606933594,
          0.271186351776123,
          0.3553872108459472,
          0.5235366821289062,
          0.3754010200500488,
          0.3761329650878906,
          0.3252437114715576,
          0.378673791885376,
          0.4398424625396728,
          0.4013733863830566,
          0.5330657958984375,
          0.4294643402099609,
          0.3445703983306885
         ]
        },
        {
         "name": "SS",
         "type": "box",
         "x": [
          "LogisticRegression",
          "LogisticRegression",
          "LogisticRegression",
          "LogisticRegression",
          "LogisticRegression",
          "LogisticRegression",
          "LogisticRegression",
          "LogisticRegression",
          "LogisticRegression",
          "LogisticRegression",
          "LogisticRegression",
          "LogisticRegression",
          "LogisticRegression",
          "LogisticRegression",
          "LogisticRegression",
          "LogisticRegression",
          "LogisticRegression",
          "LogisticRegression",
          "LogisticRegression",
          "LogisticRegression",
          "SVC",
          "SVC",
          "SVC",
          "SVC",
          "SVC",
          "SVC",
          "SVC",
          "SVC",
          "SVC",
          "SVC",
          "SVC",
          "SVC",
          "SVC",
          "SVC",
          "SVC",
          "SVC",
          "SVC",
          "SVC",
          "SVC",
          "SVC",
          "RandomForestClassifier",
          "RandomForestClassifier",
          "RandomForestClassifier",
          "RandomForestClassifier",
          "RandomForestClassifier",
          "RandomForestClassifier",
          "RandomForestClassifier",
          "RandomForestClassifier",
          "RandomForestClassifier",
          "RandomForestClassifier",
          "RandomForestClassifier",
          "RandomForestClassifier",
          "RandomForestClassifier",
          "RandomForestClassifier",
          "RandomForestClassifier",
          "RandomForestClassifier",
          "RandomForestClassifier",
          "RandomForestClassifier",
          "RandomForestClassifier",
          "RandomForestClassifier",
          "GradientBoostingClassifier",
          "GradientBoostingClassifier",
          "GradientBoostingClassifier",
          "GradientBoostingClassifier",
          "GradientBoostingClassifier",
          "GradientBoostingClassifier",
          "GradientBoostingClassifier",
          "GradientBoostingClassifier",
          "GradientBoostingClassifier",
          "GradientBoostingClassifier",
          "GradientBoostingClassifier",
          "GradientBoostingClassifier",
          "GradientBoostingClassifier",
          "GradientBoostingClassifier",
          "GradientBoostingClassifier",
          "GradientBoostingClassifier",
          "GradientBoostingClassifier",
          "GradientBoostingClassifier",
          "GradientBoostingClassifier",
          "GradientBoostingClassifier",
          "DeepNeuralNetwork",
          "DeepNeuralNetwork",
          "DeepNeuralNetwork",
          "DeepNeuralNetwork",
          "DeepNeuralNetwork",
          "DeepNeuralNetwork",
          "DeepNeuralNetwork",
          "DeepNeuralNetwork",
          "DeepNeuralNetwork",
          "DeepNeuralNetwork",
          "DeepNeuralNetwork",
          "DeepNeuralNetwork",
          "DeepNeuralNetwork",
          "DeepNeuralNetwork",
          "DeepNeuralNetwork",
          "DeepNeuralNetwork",
          "DeepNeuralNetwork",
          "DeepNeuralNetwork",
          "DeepNeuralNetwork",
          "DeepNeuralNetwork"
         ],
         "y": [
          0.0208034515380859,
          0.0289928913116455,
          0.0714242458343505,
          0.0202665328979492,
          0.0641608238220214,
          0.0331161022186279,
          0.0684528350830078,
          0.0258340835571289,
          0.0253961086273193,
          0.0550220012664794,
          0.0503778457641601,
          0.0307984352111816,
          0.0645163059234619,
          0.0199475288391113,
          0.0199463367462158,
          0.0219087600708007,
          0.0375945568084716,
          0.0551440715789794,
          0.0468242168426513,
          0.0200774669647216,
          0.3334269523620605,
          0.1704049110412597,
          0.2003059387207031,
          0.2273793220520019,
          0.2010107040405273,
          0.2292542457580566,
          0.2114205360412597,
          0.2067348957061767,
          0.1297345161437988,
          0.3976349830627441,
          0.2517671585083008,
          0.1969759464263916,
          0.1843900680541992,
          0.2024123668670654,
          0.291945219039917,
          0.1762566566467285,
          0.2766859531402588,
          0.2949104309082031,
          0.1951005458831787,
          0.2915358543395996,
          0.1788728237152099,
          0.1200752258300781,
          0.0917057991027832,
          0.1811473369598388,
          0.1174800395965576,
          0.0995142459869384,
          0.1839675903320312,
          0.1745812892913818,
          0.0972719192504882,
          0.0908150672912597,
          0.1949970722198486,
          0.1649835109710693,
          0.0698680877685546,
          0.1713786125183105,
          0.1094343662261962,
          0.1223378181457519,
          0.0585644245147705,
          0.1057801246643066,
          0.1420474052429199,
          0.1142172813415527,
          0.0250806808471679,
          0.025158405303955,
          0.028881549835205,
          0.0263185501098632,
          0.0306398868560791,
          0.0238194465637207,
          0.0245933532714843,
          0.035459280014038,
          0.0224940776824951,
          0.0340528488159179,
          0.0368156433105468,
          0.0250604152679443,
          0.0344128608703613,
          0.0246925354003906,
          0.0250113010406494,
          0.0295445919036865,
          0.0328040122985839,
          0.0352845191955566,
          0.0242793560028076,
          0.0230288505554199,
          0.4513227939605713,
          0.3523316383361816,
          0.4091904163360595,
          0.4084644317626953,
          0.360255479812622,
          0.2648408412933349,
          0.428901195526123,
          0.2856626510620117,
          0.3747880458831787,
          0.4124116897583008,
          0.3610954284667969,
          0.3071796894073486,
          0.3271856307983398,
          0.4215571880340576,
          0.3244292736053467,
          0.3659799098968506,
          0.3940656185150146,
          0.442446231842041,
          0.3350944519042969,
          0.6295843124389648
         ]
        },
        {
         "name": "SS & FR",
         "type": "box",
         "x": [
          "LogisticRegression",
          "LogisticRegression",
          "LogisticRegression",
          "LogisticRegression",
          "LogisticRegression",
          "LogisticRegression",
          "LogisticRegression",
          "LogisticRegression",
          "LogisticRegression",
          "LogisticRegression",
          "LogisticRegression",
          "LogisticRegression",
          "LogisticRegression",
          "LogisticRegression",
          "LogisticRegression",
          "LogisticRegression",
          "LogisticRegression",
          "LogisticRegression",
          "LogisticRegression",
          "LogisticRegression",
          "SVC",
          "SVC",
          "SVC",
          "SVC",
          "SVC",
          "SVC",
          "SVC",
          "SVC",
          "SVC",
          "SVC",
          "SVC",
          "SVC",
          "SVC",
          "SVC",
          "SVC",
          "SVC",
          "SVC",
          "SVC",
          "SVC",
          "SVC",
          "RandomForestClassifier",
          "RandomForestClassifier",
          "RandomForestClassifier",
          "RandomForestClassifier",
          "RandomForestClassifier",
          "RandomForestClassifier",
          "RandomForestClassifier",
          "RandomForestClassifier",
          "RandomForestClassifier",
          "RandomForestClassifier",
          "RandomForestClassifier",
          "RandomForestClassifier",
          "RandomForestClassifier",
          "RandomForestClassifier",
          "RandomForestClassifier",
          "RandomForestClassifier",
          "RandomForestClassifier",
          "RandomForestClassifier",
          "RandomForestClassifier",
          "RandomForestClassifier",
          "GradientBoostingClassifier",
          "GradientBoostingClassifier",
          "GradientBoostingClassifier",
          "GradientBoostingClassifier",
          "GradientBoostingClassifier",
          "GradientBoostingClassifier",
          "GradientBoostingClassifier",
          "GradientBoostingClassifier",
          "GradientBoostingClassifier",
          "GradientBoostingClassifier",
          "GradientBoostingClassifier",
          "GradientBoostingClassifier",
          "GradientBoostingClassifier",
          "GradientBoostingClassifier",
          "GradientBoostingClassifier",
          "GradientBoostingClassifier",
          "GradientBoostingClassifier",
          "GradientBoostingClassifier",
          "GradientBoostingClassifier",
          "GradientBoostingClassifier",
          "DeepNeuralNetwork",
          "DeepNeuralNetwork",
          "DeepNeuralNetwork",
          "DeepNeuralNetwork",
          "DeepNeuralNetwork",
          "DeepNeuralNetwork",
          "DeepNeuralNetwork",
          "DeepNeuralNetwork",
          "DeepNeuralNetwork",
          "DeepNeuralNetwork",
          "DeepNeuralNetwork",
          "DeepNeuralNetwork",
          "DeepNeuralNetwork",
          "DeepNeuralNetwork",
          "DeepNeuralNetwork",
          "DeepNeuralNetwork",
          "DeepNeuralNetwork",
          "DeepNeuralNetwork",
          "DeepNeuralNetwork",
          "DeepNeuralNetwork"
         ],
         "y": [
          0.0662436485290527,
          0.032912254333496,
          0.021458625793457,
          0.0913259983062744,
          0.039905309677124,
          0.0693986415863037,
          0.0806689262390136,
          0.0310068130493164,
          0.0447988510131835,
          0.0239813327789306,
          0.0440201759338378,
          0.0339093208312988,
          0.0364196300506591,
          0.0404102802276611,
          0.0434014797210693,
          0.0486812591552734,
          0.0189483165740966,
          0.0429167747497558,
          0.0213763713836669,
          0.0474245548248291,
          0.3544039726257324,
          0.2171754837036132,
          0.1885890960693359,
          0.246899127960205,
          0.2530500888824463,
          0.212517499923706,
          0.2368009090423584,
          0.2272846698760986,
          0.2796206474304199,
          0.1658186912536621,
          0.2612314224243164,
          0.1914641857147216,
          0.3483657836914062,
          0.2016911506652832,
          0.2867422103881836,
          0.3086221218109131,
          0.2107791900634765,
          0.4227323532104492,
          0.1688551902770996,
          0.2861416339874267,
          0.0643813610076904,
          0.1189587116241455,
          0.116459846496582,
          0.1153042316436767,
          0.0840611457824707,
          0.0573019981384277,
          0.1334095001220703,
          0.1360504627227783,
          0.0650751590728759,
          0.0664997100830078,
          0.232738971710205,
          0.139204740524292,
          0.1021699905395507,
          0.1166009902954101,
          0.0907638072967529,
          0.1636683940887451,
          0.1542267799377441,
          0.1593410968780517,
          0.1995589733123779,
          0.0777263641357421,
          0.0280830860137939,
          0.0245420932769775,
          0.0264322757720947,
          0.0222415924072265,
          0.022172212600708,
          0.0237884521484375,
          0.0221827030181884,
          0.0207006931304931,
          0.0209617614746093,
          0.0328814983367919,
          0.02325439453125,
          0.0300972461700439,
          0.0310475826263427,
          0.0278787612915039,
          0.0252468585968017,
          0.0257754325866699,
          0.0229196548461914,
          0.0229415893554687,
          0.0209991931915283,
          0.0314602851867675,
          0.332038402557373,
          0.3360095024108886,
          0.4087166786193847,
          0.4263203144073486,
          0.7474596500396729,
          1.971302509307861,
          0.4589681625366211,
          0.5828442573547363,
          0.5966346263885498,
          0.356320858001709,
          0.3488812446594238,
          0.3986711502075195,
          0.389890193939209,
          0.2638158798217773,
          0.4298715591430664,
          0.3720393180847168,
          0.3567554950714111,
          0.3480198383331299,
          0.3684098720550537,
          0.2550232410430908
         ]
        }
       ],
       "layout": {
        "boxmode": "group",
        "template": {
         "data": {
          "bar": [
           {
            "error_x": {
             "color": "#2a3f5f"
            },
            "error_y": {
             "color": "#2a3f5f"
            },
            "marker": {
             "line": {
              "color": "#E5ECF6",
              "width": 0.5
             },
             "pattern": {
              "fillmode": "overlay",
              "size": 10,
              "solidity": 0.2
             }
            },
            "type": "bar"
           }
          ],
          "barpolar": [
           {
            "marker": {
             "line": {
              "color": "#E5ECF6",
              "width": 0.5
             },
             "pattern": {
              "fillmode": "overlay",
              "size": 10,
              "solidity": 0.2
             }
            },
            "type": "barpolar"
           }
          ],
          "carpet": [
           {
            "aaxis": {
             "endlinecolor": "#2a3f5f",
             "gridcolor": "white",
             "linecolor": "white",
             "minorgridcolor": "white",
             "startlinecolor": "#2a3f5f"
            },
            "baxis": {
             "endlinecolor": "#2a3f5f",
             "gridcolor": "white",
             "linecolor": "white",
             "minorgridcolor": "white",
             "startlinecolor": "#2a3f5f"
            },
            "type": "carpet"
           }
          ],
          "choropleth": [
           {
            "colorbar": {
             "outlinewidth": 0,
             "ticks": ""
            },
            "type": "choropleth"
           }
          ],
          "contour": [
           {
            "colorbar": {
             "outlinewidth": 0,
             "ticks": ""
            },
            "colorscale": [
             [
              0,
              "#0d0887"
             ],
             [
              0.1111111111111111,
              "#46039f"
             ],
             [
              0.2222222222222222,
              "#7201a8"
             ],
             [
              0.3333333333333333,
              "#9c179e"
             ],
             [
              0.4444444444444444,
              "#bd3786"
             ],
             [
              0.5555555555555556,
              "#d8576b"
             ],
             [
              0.6666666666666666,
              "#ed7953"
             ],
             [
              0.7777777777777778,
              "#fb9f3a"
             ],
             [
              0.8888888888888888,
              "#fdca26"
             ],
             [
              1,
              "#f0f921"
             ]
            ],
            "type": "contour"
           }
          ],
          "contourcarpet": [
           {
            "colorbar": {
             "outlinewidth": 0,
             "ticks": ""
            },
            "type": "contourcarpet"
           }
          ],
          "heatmap": [
           {
            "colorbar": {
             "outlinewidth": 0,
             "ticks": ""
            },
            "colorscale": [
             [
              0,
              "#0d0887"
             ],
             [
              0.1111111111111111,
              "#46039f"
             ],
             [
              0.2222222222222222,
              "#7201a8"
             ],
             [
              0.3333333333333333,
              "#9c179e"
             ],
             [
              0.4444444444444444,
              "#bd3786"
             ],
             [
              0.5555555555555556,
              "#d8576b"
             ],
             [
              0.6666666666666666,
              "#ed7953"
             ],
             [
              0.7777777777777778,
              "#fb9f3a"
             ],
             [
              0.8888888888888888,
              "#fdca26"
             ],
             [
              1,
              "#f0f921"
             ]
            ],
            "type": "heatmap"
           }
          ],
          "heatmapgl": [
           {
            "colorbar": {
             "outlinewidth": 0,
             "ticks": ""
            },
            "colorscale": [
             [
              0,
              "#0d0887"
             ],
             [
              0.1111111111111111,
              "#46039f"
             ],
             [
              0.2222222222222222,
              "#7201a8"
             ],
             [
              0.3333333333333333,
              "#9c179e"
             ],
             [
              0.4444444444444444,
              "#bd3786"
             ],
             [
              0.5555555555555556,
              "#d8576b"
             ],
             [
              0.6666666666666666,
              "#ed7953"
             ],
             [
              0.7777777777777778,
              "#fb9f3a"
             ],
             [
              0.8888888888888888,
              "#fdca26"
             ],
             [
              1,
              "#f0f921"
             ]
            ],
            "type": "heatmapgl"
           }
          ],
          "histogram": [
           {
            "marker": {
             "pattern": {
              "fillmode": "overlay",
              "size": 10,
              "solidity": 0.2
             }
            },
            "type": "histogram"
           }
          ],
          "histogram2d": [
           {
            "colorbar": {
             "outlinewidth": 0,
             "ticks": ""
            },
            "colorscale": [
             [
              0,
              "#0d0887"
             ],
             [
              0.1111111111111111,
              "#46039f"
             ],
             [
              0.2222222222222222,
              "#7201a8"
             ],
             [
              0.3333333333333333,
              "#9c179e"
             ],
             [
              0.4444444444444444,
              "#bd3786"
             ],
             [
              0.5555555555555556,
              "#d8576b"
             ],
             [
              0.6666666666666666,
              "#ed7953"
             ],
             [
              0.7777777777777778,
              "#fb9f3a"
             ],
             [
              0.8888888888888888,
              "#fdca26"
             ],
             [
              1,
              "#f0f921"
             ]
            ],
            "type": "histogram2d"
           }
          ],
          "histogram2dcontour": [
           {
            "colorbar": {
             "outlinewidth": 0,
             "ticks": ""
            },
            "colorscale": [
             [
              0,
              "#0d0887"
             ],
             [
              0.1111111111111111,
              "#46039f"
             ],
             [
              0.2222222222222222,
              "#7201a8"
             ],
             [
              0.3333333333333333,
              "#9c179e"
             ],
             [
              0.4444444444444444,
              "#bd3786"
             ],
             [
              0.5555555555555556,
              "#d8576b"
             ],
             [
              0.6666666666666666,
              "#ed7953"
             ],
             [
              0.7777777777777778,
              "#fb9f3a"
             ],
             [
              0.8888888888888888,
              "#fdca26"
             ],
             [
              1,
              "#f0f921"
             ]
            ],
            "type": "histogram2dcontour"
           }
          ],
          "mesh3d": [
           {
            "colorbar": {
             "outlinewidth": 0,
             "ticks": ""
            },
            "type": "mesh3d"
           }
          ],
          "parcoords": [
           {
            "line": {
             "colorbar": {
              "outlinewidth": 0,
              "ticks": ""
             }
            },
            "type": "parcoords"
           }
          ],
          "pie": [
           {
            "automargin": true,
            "type": "pie"
           }
          ],
          "scatter": [
           {
            "fillpattern": {
             "fillmode": "overlay",
             "size": 10,
             "solidity": 0.2
            },
            "type": "scatter"
           }
          ],
          "scatter3d": [
           {
            "line": {
             "colorbar": {
              "outlinewidth": 0,
              "ticks": ""
             }
            },
            "marker": {
             "colorbar": {
              "outlinewidth": 0,
              "ticks": ""
             }
            },
            "type": "scatter3d"
           }
          ],
          "scattercarpet": [
           {
            "marker": {
             "colorbar": {
              "outlinewidth": 0,
              "ticks": ""
             }
            },
            "type": "scattercarpet"
           }
          ],
          "scattergeo": [
           {
            "marker": {
             "colorbar": {
              "outlinewidth": 0,
              "ticks": ""
             }
            },
            "type": "scattergeo"
           }
          ],
          "scattergl": [
           {
            "marker": {
             "colorbar": {
              "outlinewidth": 0,
              "ticks": ""
             }
            },
            "type": "scattergl"
           }
          ],
          "scattermapbox": [
           {
            "marker": {
             "colorbar": {
              "outlinewidth": 0,
              "ticks": ""
             }
            },
            "type": "scattermapbox"
           }
          ],
          "scatterpolar": [
           {
            "marker": {
             "colorbar": {
              "outlinewidth": 0,
              "ticks": ""
             }
            },
            "type": "scatterpolar"
           }
          ],
          "scatterpolargl": [
           {
            "marker": {
             "colorbar": {
              "outlinewidth": 0,
              "ticks": ""
             }
            },
            "type": "scatterpolargl"
           }
          ],
          "scatterternary": [
           {
            "marker": {
             "colorbar": {
              "outlinewidth": 0,
              "ticks": ""
             }
            },
            "type": "scatterternary"
           }
          ],
          "surface": [
           {
            "colorbar": {
             "outlinewidth": 0,
             "ticks": ""
            },
            "colorscale": [
             [
              0,
              "#0d0887"
             ],
             [
              0.1111111111111111,
              "#46039f"
             ],
             [
              0.2222222222222222,
              "#7201a8"
             ],
             [
              0.3333333333333333,
              "#9c179e"
             ],
             [
              0.4444444444444444,
              "#bd3786"
             ],
             [
              0.5555555555555556,
              "#d8576b"
             ],
             [
              0.6666666666666666,
              "#ed7953"
             ],
             [
              0.7777777777777778,
              "#fb9f3a"
             ],
             [
              0.8888888888888888,
              "#fdca26"
             ],
             [
              1,
              "#f0f921"
             ]
            ],
            "type": "surface"
           }
          ],
          "table": [
           {
            "cells": {
             "fill": {
              "color": "#EBF0F8"
             },
             "line": {
              "color": "white"
             }
            },
            "header": {
             "fill": {
              "color": "#C8D4E3"
             },
             "line": {
              "color": "white"
             }
            },
            "type": "table"
           }
          ]
         },
         "layout": {
          "annotationdefaults": {
           "arrowcolor": "#2a3f5f",
           "arrowhead": 0,
           "arrowwidth": 1
          },
          "autotypenumbers": "strict",
          "coloraxis": {
           "colorbar": {
            "outlinewidth": 0,
            "ticks": ""
           }
          },
          "colorscale": {
           "diverging": [
            [
             0,
             "#8e0152"
            ],
            [
             0.1,
             "#c51b7d"
            ],
            [
             0.2,
             "#de77ae"
            ],
            [
             0.3,
             "#f1b6da"
            ],
            [
             0.4,
             "#fde0ef"
            ],
            [
             0.5,
             "#f7f7f7"
            ],
            [
             0.6,
             "#e6f5d0"
            ],
            [
             0.7,
             "#b8e186"
            ],
            [
             0.8,
             "#7fbc41"
            ],
            [
             0.9,
             "#4d9221"
            ],
            [
             1,
             "#276419"
            ]
           ],
           "sequential": [
            [
             0,
             "#0d0887"
            ],
            [
             0.1111111111111111,
             "#46039f"
            ],
            [
             0.2222222222222222,
             "#7201a8"
            ],
            [
             0.3333333333333333,
             "#9c179e"
            ],
            [
             0.4444444444444444,
             "#bd3786"
            ],
            [
             0.5555555555555556,
             "#d8576b"
            ],
            [
             0.6666666666666666,
             "#ed7953"
            ],
            [
             0.7777777777777778,
             "#fb9f3a"
            ],
            [
             0.8888888888888888,
             "#fdca26"
            ],
            [
             1,
             "#f0f921"
            ]
           ],
           "sequentialminus": [
            [
             0,
             "#0d0887"
            ],
            [
             0.1111111111111111,
             "#46039f"
            ],
            [
             0.2222222222222222,
             "#7201a8"
            ],
            [
             0.3333333333333333,
             "#9c179e"
            ],
            [
             0.4444444444444444,
             "#bd3786"
            ],
            [
             0.5555555555555556,
             "#d8576b"
            ],
            [
             0.6666666666666666,
             "#ed7953"
            ],
            [
             0.7777777777777778,
             "#fb9f3a"
            ],
            [
             0.8888888888888888,
             "#fdca26"
            ],
            [
             1,
             "#f0f921"
            ]
           ]
          },
          "colorway": [
           "#636efa",
           "#EF553B",
           "#00cc96",
           "#ab63fa",
           "#FFA15A",
           "#19d3f3",
           "#FF6692",
           "#B6E880",
           "#FF97FF",
           "#FECB52"
          ],
          "font": {
           "color": "#2a3f5f"
          },
          "geo": {
           "bgcolor": "white",
           "lakecolor": "white",
           "landcolor": "#E5ECF6",
           "showlakes": true,
           "showland": true,
           "subunitcolor": "white"
          },
          "hoverlabel": {
           "align": "left"
          },
          "hovermode": "closest",
          "mapbox": {
           "style": "light"
          },
          "paper_bgcolor": "white",
          "plot_bgcolor": "#E5ECF6",
          "polar": {
           "angularaxis": {
            "gridcolor": "white",
            "linecolor": "white",
            "ticks": ""
           },
           "bgcolor": "#E5ECF6",
           "radialaxis": {
            "gridcolor": "white",
            "linecolor": "white",
            "ticks": ""
           }
          },
          "scene": {
           "xaxis": {
            "backgroundcolor": "#E5ECF6",
            "gridcolor": "white",
            "gridwidth": 2,
            "linecolor": "white",
            "showbackground": true,
            "ticks": "",
            "zerolinecolor": "white"
           },
           "yaxis": {
            "backgroundcolor": "#E5ECF6",
            "gridcolor": "white",
            "gridwidth": 2,
            "linecolor": "white",
            "showbackground": true,
            "ticks": "",
            "zerolinecolor": "white"
           },
           "zaxis": {
            "backgroundcolor": "#E5ECF6",
            "gridcolor": "white",
            "gridwidth": 2,
            "linecolor": "white",
            "showbackground": true,
            "ticks": "",
            "zerolinecolor": "white"
           }
          },
          "shapedefaults": {
           "line": {
            "color": "#2a3f5f"
           }
          },
          "ternary": {
           "aaxis": {
            "gridcolor": "white",
            "linecolor": "white",
            "ticks": ""
           },
           "baxis": {
            "gridcolor": "white",
            "linecolor": "white",
            "ticks": ""
           },
           "bgcolor": "#E5ECF6",
           "caxis": {
            "gridcolor": "white",
            "linecolor": "white",
            "ticks": ""
           }
          },
          "title": {
           "x": 0.05
          },
          "xaxis": {
           "automargin": true,
           "gridcolor": "white",
           "linecolor": "white",
           "ticks": "",
           "title": {
            "standoff": 15
           },
           "zerolinecolor": "white",
           "zerolinewidth": 2
          },
          "yaxis": {
           "automargin": true,
           "gridcolor": "white",
           "linecolor": "white",
           "ticks": "",
           "title": {
            "standoff": 15
           },
           "zerolinecolor": "white",
           "zerolinewidth": 2
          }
         }
        },
        "title": {
         "text": "prediction_time"
        },
        "yaxis": {
         "title": {
          "text": "prediction_time"
         }
        }
       }
      }
     },
     "metadata": {},
     "output_type": "display_data"
    }
   ],
   "source": [
    "make_plots('preprocess_time')\n",
    "make_plots('training_time')\n",
    "make_plots('prediction_time')"
   ]
  },
  {
   "cell_type": "code",
   "execution_count": 7,
   "metadata": {},
   "outputs": [
    {
     "data": {
      "application/vnd.plotly.v1+json": {
       "config": {
        "plotlyServerURL": "https://plot.ly"
       },
       "data": [
        {
         "name": "Full",
         "type": "box",
         "x": [
          "LogisticRegression",
          "LogisticRegression",
          "LogisticRegression",
          "LogisticRegression",
          "LogisticRegression",
          "LogisticRegression",
          "LogisticRegression",
          "LogisticRegression",
          "LogisticRegression",
          "LogisticRegression",
          "LogisticRegression",
          "LogisticRegression",
          "LogisticRegression",
          "LogisticRegression",
          "LogisticRegression",
          "LogisticRegression",
          "LogisticRegression",
          "LogisticRegression",
          "LogisticRegression",
          "LogisticRegression",
          "SVC",
          "SVC",
          "SVC",
          "SVC",
          "SVC",
          "SVC",
          "SVC",
          "SVC",
          "SVC",
          "SVC",
          "SVC",
          "SVC",
          "SVC",
          "SVC",
          "SVC",
          "SVC",
          "SVC",
          "SVC",
          "SVC",
          "SVC",
          "RandomForestClassifier",
          "RandomForestClassifier",
          "RandomForestClassifier",
          "RandomForestClassifier",
          "RandomForestClassifier",
          "RandomForestClassifier",
          "RandomForestClassifier",
          "RandomForestClassifier",
          "RandomForestClassifier",
          "RandomForestClassifier",
          "RandomForestClassifier",
          "RandomForestClassifier",
          "RandomForestClassifier",
          "RandomForestClassifier",
          "RandomForestClassifier",
          "RandomForestClassifier",
          "RandomForestClassifier",
          "RandomForestClassifier",
          "RandomForestClassifier",
          "RandomForestClassifier",
          "GradientBoostingClassifier",
          "GradientBoostingClassifier",
          "GradientBoostingClassifier",
          "GradientBoostingClassifier",
          "GradientBoostingClassifier",
          "GradientBoostingClassifier",
          "GradientBoostingClassifier",
          "GradientBoostingClassifier",
          "GradientBoostingClassifier",
          "GradientBoostingClassifier",
          "GradientBoostingClassifier",
          "GradientBoostingClassifier",
          "GradientBoostingClassifier",
          "GradientBoostingClassifier",
          "GradientBoostingClassifier",
          "GradientBoostingClassifier",
          "GradientBoostingClassifier",
          "GradientBoostingClassifier",
          "GradientBoostingClassifier",
          "GradientBoostingClassifier",
          "DeepNeuralNetwork",
          "DeepNeuralNetwork",
          "DeepNeuralNetwork",
          "DeepNeuralNetwork",
          "DeepNeuralNetwork",
          "DeepNeuralNetwork",
          "DeepNeuralNetwork",
          "DeepNeuralNetwork",
          "DeepNeuralNetwork",
          "DeepNeuralNetwork",
          "DeepNeuralNetwork",
          "DeepNeuralNetwork",
          "DeepNeuralNetwork",
          "DeepNeuralNetwork",
          "DeepNeuralNetwork",
          "DeepNeuralNetwork",
          "DeepNeuralNetwork",
          "DeepNeuralNetwork",
          "DeepNeuralNetwork",
          "DeepNeuralNetwork"
         ],
         "y": [
          1617,
          1617,
          1617,
          1617,
          1617,
          1617,
          1617,
          1617,
          1617,
          1617,
          1617,
          1617,
          1617,
          1617,
          1617,
          1617,
          1617,
          1617,
          1617,
          1617,
          17598,
          17682,
          17598,
          17570,
          17654,
          17654,
          17682,
          17598,
          17682,
          17598,
          17626,
          17654,
          17598,
          17766,
          17626,
          17542,
          17710,
          17682,
          17710,
          17542,
          2508,
          2508,
          2508,
          2508,
          2508,
          2508,
          2508,
          2508,
          2508,
          2508,
          2508,
          2508,
          2508,
          2508,
          2508,
          2508,
          2508,
          2508,
          2508,
          2508,
          3733,
          3733,
          3733,
          3733,
          3733,
          3733,
          3733,
          3733,
          3733,
          3733,
          3733,
          3733,
          3733,
          3733,
          3733,
          3733,
          3733,
          3733,
          3733,
          3733,
          6521,
          6521,
          6521,
          6521,
          6521,
          6521,
          6521,
          6521,
          6521,
          6521,
          6521,
          6521,
          6521,
          6521,
          6521,
          6521,
          6521,
          6521,
          6521,
          6521
         ]
        },
        {
         "name": "FR",
         "type": "box",
         "x": [
          "LogisticRegression",
          "LogisticRegression",
          "LogisticRegression",
          "LogisticRegression",
          "LogisticRegression",
          "LogisticRegression",
          "LogisticRegression",
          "LogisticRegression",
          "LogisticRegression",
          "LogisticRegression",
          "LogisticRegression",
          "LogisticRegression",
          "LogisticRegression",
          "LogisticRegression",
          "LogisticRegression",
          "LogisticRegression",
          "LogisticRegression",
          "LogisticRegression",
          "LogisticRegression",
          "LogisticRegression",
          "SVC",
          "SVC",
          "SVC",
          "SVC",
          "SVC",
          "SVC",
          "SVC",
          "SVC",
          "SVC",
          "SVC",
          "SVC",
          "SVC",
          "SVC",
          "SVC",
          "SVC",
          "SVC",
          "SVC",
          "SVC",
          "SVC",
          "SVC",
          "RandomForestClassifier",
          "RandomForestClassifier",
          "RandomForestClassifier",
          "RandomForestClassifier",
          "RandomForestClassifier",
          "RandomForestClassifier",
          "RandomForestClassifier",
          "RandomForestClassifier",
          "RandomForestClassifier",
          "RandomForestClassifier",
          "RandomForestClassifier",
          "RandomForestClassifier",
          "RandomForestClassifier",
          "RandomForestClassifier",
          "RandomForestClassifier",
          "RandomForestClassifier",
          "RandomForestClassifier",
          "RandomForestClassifier",
          "RandomForestClassifier",
          "RandomForestClassifier",
          "GradientBoostingClassifier",
          "GradientBoostingClassifier",
          "GradientBoostingClassifier",
          "GradientBoostingClassifier",
          "GradientBoostingClassifier",
          "GradientBoostingClassifier",
          "GradientBoostingClassifier",
          "GradientBoostingClassifier",
          "GradientBoostingClassifier",
          "GradientBoostingClassifier",
          "GradientBoostingClassifier",
          "GradientBoostingClassifier",
          "GradientBoostingClassifier",
          "GradientBoostingClassifier",
          "GradientBoostingClassifier",
          "GradientBoostingClassifier",
          "GradientBoostingClassifier",
          "GradientBoostingClassifier",
          "GradientBoostingClassifier",
          "GradientBoostingClassifier",
          "DeepNeuralNetwork",
          "DeepNeuralNetwork",
          "DeepNeuralNetwork",
          "DeepNeuralNetwork",
          "DeepNeuralNetwork",
          "DeepNeuralNetwork",
          "DeepNeuralNetwork",
          "DeepNeuralNetwork",
          "DeepNeuralNetwork",
          "DeepNeuralNetwork",
          "DeepNeuralNetwork",
          "DeepNeuralNetwork",
          "DeepNeuralNetwork",
          "DeepNeuralNetwork",
          "DeepNeuralNetwork",
          "DeepNeuralNetwork",
          "DeepNeuralNetwork",
          "DeepNeuralNetwork",
          "DeepNeuralNetwork",
          "DeepNeuralNetwork"
         ],
         "y": [
          1617,
          1617,
          1617,
          1617,
          1617,
          1617,
          1617,
          1617,
          1617,
          1617,
          1617,
          1617,
          1617,
          1617,
          1617,
          1617,
          1617,
          1617,
          1617,
          1617,
          17598,
          17626,
          17626,
          17598,
          17598,
          17570,
          17598,
          17598,
          17682,
          17626,
          17598,
          17654,
          17598,
          17654,
          17654,
          17598,
          17626,
          17682,
          17626,
          17626,
          2508,
          2508,
          2508,
          2508,
          2508,
          2508,
          2508,
          2508,
          2508,
          2508,
          2508,
          2508,
          2508,
          2508,
          2508,
          2508,
          2508,
          2508,
          2508,
          2508,
          3733,
          3733,
          3733,
          3733,
          3733,
          3733,
          3733,
          3733,
          3733,
          3733,
          3733,
          3733,
          3733,
          3733,
          3733,
          3733,
          3733,
          3733,
          3733,
          3733,
          6522,
          6522,
          6522,
          6522,
          6522,
          6522,
          6522,
          6522,
          6522,
          6522,
          6522,
          6522,
          6522,
          6522,
          6522,
          6522,
          6522,
          6522,
          6522,
          6522
         ]
        },
        {
         "name": "SS",
         "type": "box",
         "x": [
          "LogisticRegression",
          "LogisticRegression",
          "LogisticRegression",
          "LogisticRegression",
          "LogisticRegression",
          "LogisticRegression",
          "LogisticRegression",
          "LogisticRegression",
          "LogisticRegression",
          "LogisticRegression",
          "LogisticRegression",
          "LogisticRegression",
          "LogisticRegression",
          "LogisticRegression",
          "LogisticRegression",
          "LogisticRegression",
          "LogisticRegression",
          "LogisticRegression",
          "LogisticRegression",
          "LogisticRegression",
          "SVC",
          "SVC",
          "SVC",
          "SVC",
          "SVC",
          "SVC",
          "SVC",
          "SVC",
          "SVC",
          "SVC",
          "SVC",
          "SVC",
          "SVC",
          "SVC",
          "SVC",
          "SVC",
          "SVC",
          "SVC",
          "SVC",
          "SVC",
          "RandomForestClassifier",
          "RandomForestClassifier",
          "RandomForestClassifier",
          "RandomForestClassifier",
          "RandomForestClassifier",
          "RandomForestClassifier",
          "RandomForestClassifier",
          "RandomForestClassifier",
          "RandomForestClassifier",
          "RandomForestClassifier",
          "RandomForestClassifier",
          "RandomForestClassifier",
          "RandomForestClassifier",
          "RandomForestClassifier",
          "RandomForestClassifier",
          "RandomForestClassifier",
          "RandomForestClassifier",
          "RandomForestClassifier",
          "RandomForestClassifier",
          "RandomForestClassifier",
          "GradientBoostingClassifier",
          "GradientBoostingClassifier",
          "GradientBoostingClassifier",
          "GradientBoostingClassifier",
          "GradientBoostingClassifier",
          "GradientBoostingClassifier",
          "GradientBoostingClassifier",
          "GradientBoostingClassifier",
          "GradientBoostingClassifier",
          "GradientBoostingClassifier",
          "GradientBoostingClassifier",
          "GradientBoostingClassifier",
          "GradientBoostingClassifier",
          "GradientBoostingClassifier",
          "GradientBoostingClassifier",
          "GradientBoostingClassifier",
          "GradientBoostingClassifier",
          "GradientBoostingClassifier",
          "GradientBoostingClassifier",
          "GradientBoostingClassifier",
          "DeepNeuralNetwork",
          "DeepNeuralNetwork",
          "DeepNeuralNetwork",
          "DeepNeuralNetwork",
          "DeepNeuralNetwork",
          "DeepNeuralNetwork",
          "DeepNeuralNetwork",
          "DeepNeuralNetwork",
          "DeepNeuralNetwork",
          "DeepNeuralNetwork",
          "DeepNeuralNetwork",
          "DeepNeuralNetwork",
          "DeepNeuralNetwork",
          "DeepNeuralNetwork",
          "DeepNeuralNetwork",
          "DeepNeuralNetwork",
          "DeepNeuralNetwork",
          "DeepNeuralNetwork",
          "DeepNeuralNetwork",
          "DeepNeuralNetwork"
         ],
         "y": [
          1617,
          1617,
          1617,
          1617,
          1617,
          1617,
          1617,
          1617,
          1617,
          1617,
          1617,
          1617,
          1617,
          1617,
          1617,
          1617,
          1617,
          1617,
          1617,
          1617,
          17598,
          17570,
          17710,
          17458,
          17626,
          17598,
          17654,
          17598,
          17626,
          17542,
          17598,
          17570,
          17654,
          17570,
          17710,
          17626,
          17654,
          17654,
          17598,
          17598,
          2508,
          2508,
          2508,
          2508,
          2508,
          2508,
          2508,
          2508,
          2508,
          2508,
          2508,
          2508,
          2508,
          2508,
          2508,
          2508,
          2508,
          2508,
          2508,
          2508,
          3733,
          3733,
          3733,
          3733,
          3733,
          3733,
          3733,
          3733,
          3733,
          3733,
          3733,
          3733,
          3733,
          3733,
          3733,
          3733,
          3733,
          3733,
          3733,
          3733,
          6522,
          6522,
          6522,
          6522,
          6522,
          6522,
          6522,
          6522,
          6522,
          6522,
          6522,
          6522,
          6522,
          6522,
          6522,
          6522,
          6522,
          6522,
          6522,
          6522
         ]
        },
        {
         "name": "SS & FR",
         "type": "box",
         "x": [
          "LogisticRegression",
          "LogisticRegression",
          "LogisticRegression",
          "LogisticRegression",
          "LogisticRegression",
          "LogisticRegression",
          "LogisticRegression",
          "LogisticRegression",
          "LogisticRegression",
          "LogisticRegression",
          "LogisticRegression",
          "LogisticRegression",
          "LogisticRegression",
          "LogisticRegression",
          "LogisticRegression",
          "LogisticRegression",
          "LogisticRegression",
          "LogisticRegression",
          "LogisticRegression",
          "LogisticRegression",
          "SVC",
          "SVC",
          "SVC",
          "SVC",
          "SVC",
          "SVC",
          "SVC",
          "SVC",
          "SVC",
          "SVC",
          "SVC",
          "SVC",
          "SVC",
          "SVC",
          "SVC",
          "SVC",
          "SVC",
          "SVC",
          "SVC",
          "SVC",
          "RandomForestClassifier",
          "RandomForestClassifier",
          "RandomForestClassifier",
          "RandomForestClassifier",
          "RandomForestClassifier",
          "RandomForestClassifier",
          "RandomForestClassifier",
          "RandomForestClassifier",
          "RandomForestClassifier",
          "RandomForestClassifier",
          "RandomForestClassifier",
          "RandomForestClassifier",
          "RandomForestClassifier",
          "RandomForestClassifier",
          "RandomForestClassifier",
          "RandomForestClassifier",
          "RandomForestClassifier",
          "RandomForestClassifier",
          "RandomForestClassifier",
          "RandomForestClassifier",
          "GradientBoostingClassifier",
          "GradientBoostingClassifier",
          "GradientBoostingClassifier",
          "GradientBoostingClassifier",
          "GradientBoostingClassifier",
          "GradientBoostingClassifier",
          "GradientBoostingClassifier",
          "GradientBoostingClassifier",
          "GradientBoostingClassifier",
          "GradientBoostingClassifier",
          "GradientBoostingClassifier",
          "GradientBoostingClassifier",
          "GradientBoostingClassifier",
          "GradientBoostingClassifier",
          "GradientBoostingClassifier",
          "GradientBoostingClassifier",
          "GradientBoostingClassifier",
          "GradientBoostingClassifier",
          "GradientBoostingClassifier",
          "GradientBoostingClassifier",
          "DeepNeuralNetwork",
          "DeepNeuralNetwork",
          "DeepNeuralNetwork",
          "DeepNeuralNetwork",
          "DeepNeuralNetwork",
          "DeepNeuralNetwork",
          "DeepNeuralNetwork",
          "DeepNeuralNetwork",
          "DeepNeuralNetwork",
          "DeepNeuralNetwork",
          "DeepNeuralNetwork",
          "DeepNeuralNetwork",
          "DeepNeuralNetwork",
          "DeepNeuralNetwork",
          "DeepNeuralNetwork",
          "DeepNeuralNetwork",
          "DeepNeuralNetwork",
          "DeepNeuralNetwork",
          "DeepNeuralNetwork",
          "DeepNeuralNetwork"
         ],
         "y": [
          1617,
          1617,
          1617,
          1617,
          1617,
          1617,
          1617,
          1617,
          1617,
          1617,
          1617,
          1617,
          1617,
          1617,
          1617,
          1617,
          1617,
          1617,
          1617,
          1617,
          17654,
          17570,
          17654,
          17486,
          17654,
          17626,
          17570,
          17654,
          17542,
          17542,
          17626,
          17654,
          17570,
          17682,
          17570,
          17598,
          17598,
          17598,
          17738,
          17682,
          2508,
          2508,
          2508,
          2508,
          2508,
          2508,
          2508,
          2508,
          2508,
          2508,
          2508,
          2508,
          2508,
          2508,
          2508,
          2508,
          2508,
          2508,
          2508,
          2508,
          3733,
          3733,
          3733,
          3733,
          3733,
          3733,
          3733,
          3733,
          3733,
          3733,
          3733,
          3733,
          3733,
          3733,
          3733,
          3733,
          3733,
          3733,
          3733,
          3733,
          6522,
          6522,
          6522,
          6522,
          6522,
          6522,
          6522,
          6522,
          6522,
          6522,
          6522,
          6522,
          6522,
          6522,
          6522,
          6522,
          6522,
          6522,
          6522,
          6522
         ]
        }
       ],
       "layout": {
        "boxmode": "group",
        "template": {
         "data": {
          "bar": [
           {
            "error_x": {
             "color": "#2a3f5f"
            },
            "error_y": {
             "color": "#2a3f5f"
            },
            "marker": {
             "line": {
              "color": "#E5ECF6",
              "width": 0.5
             },
             "pattern": {
              "fillmode": "overlay",
              "size": 10,
              "solidity": 0.2
             }
            },
            "type": "bar"
           }
          ],
          "barpolar": [
           {
            "marker": {
             "line": {
              "color": "#E5ECF6",
              "width": 0.5
             },
             "pattern": {
              "fillmode": "overlay",
              "size": 10,
              "solidity": 0.2
             }
            },
            "type": "barpolar"
           }
          ],
          "carpet": [
           {
            "aaxis": {
             "endlinecolor": "#2a3f5f",
             "gridcolor": "white",
             "linecolor": "white",
             "minorgridcolor": "white",
             "startlinecolor": "#2a3f5f"
            },
            "baxis": {
             "endlinecolor": "#2a3f5f",
             "gridcolor": "white",
             "linecolor": "white",
             "minorgridcolor": "white",
             "startlinecolor": "#2a3f5f"
            },
            "type": "carpet"
           }
          ],
          "choropleth": [
           {
            "colorbar": {
             "outlinewidth": 0,
             "ticks": ""
            },
            "type": "choropleth"
           }
          ],
          "contour": [
           {
            "colorbar": {
             "outlinewidth": 0,
             "ticks": ""
            },
            "colorscale": [
             [
              0,
              "#0d0887"
             ],
             [
              0.1111111111111111,
              "#46039f"
             ],
             [
              0.2222222222222222,
              "#7201a8"
             ],
             [
              0.3333333333333333,
              "#9c179e"
             ],
             [
              0.4444444444444444,
              "#bd3786"
             ],
             [
              0.5555555555555556,
              "#d8576b"
             ],
             [
              0.6666666666666666,
              "#ed7953"
             ],
             [
              0.7777777777777778,
              "#fb9f3a"
             ],
             [
              0.8888888888888888,
              "#fdca26"
             ],
             [
              1,
              "#f0f921"
             ]
            ],
            "type": "contour"
           }
          ],
          "contourcarpet": [
           {
            "colorbar": {
             "outlinewidth": 0,
             "ticks": ""
            },
            "type": "contourcarpet"
           }
          ],
          "heatmap": [
           {
            "colorbar": {
             "outlinewidth": 0,
             "ticks": ""
            },
            "colorscale": [
             [
              0,
              "#0d0887"
             ],
             [
              0.1111111111111111,
              "#46039f"
             ],
             [
              0.2222222222222222,
              "#7201a8"
             ],
             [
              0.3333333333333333,
              "#9c179e"
             ],
             [
              0.4444444444444444,
              "#bd3786"
             ],
             [
              0.5555555555555556,
              "#d8576b"
             ],
             [
              0.6666666666666666,
              "#ed7953"
             ],
             [
              0.7777777777777778,
              "#fb9f3a"
             ],
             [
              0.8888888888888888,
              "#fdca26"
             ],
             [
              1,
              "#f0f921"
             ]
            ],
            "type": "heatmap"
           }
          ],
          "heatmapgl": [
           {
            "colorbar": {
             "outlinewidth": 0,
             "ticks": ""
            },
            "colorscale": [
             [
              0,
              "#0d0887"
             ],
             [
              0.1111111111111111,
              "#46039f"
             ],
             [
              0.2222222222222222,
              "#7201a8"
             ],
             [
              0.3333333333333333,
              "#9c179e"
             ],
             [
              0.4444444444444444,
              "#bd3786"
             ],
             [
              0.5555555555555556,
              "#d8576b"
             ],
             [
              0.6666666666666666,
              "#ed7953"
             ],
             [
              0.7777777777777778,
              "#fb9f3a"
             ],
             [
              0.8888888888888888,
              "#fdca26"
             ],
             [
              1,
              "#f0f921"
             ]
            ],
            "type": "heatmapgl"
           }
          ],
          "histogram": [
           {
            "marker": {
             "pattern": {
              "fillmode": "overlay",
              "size": 10,
              "solidity": 0.2
             }
            },
            "type": "histogram"
           }
          ],
          "histogram2d": [
           {
            "colorbar": {
             "outlinewidth": 0,
             "ticks": ""
            },
            "colorscale": [
             [
              0,
              "#0d0887"
             ],
             [
              0.1111111111111111,
              "#46039f"
             ],
             [
              0.2222222222222222,
              "#7201a8"
             ],
             [
              0.3333333333333333,
              "#9c179e"
             ],
             [
              0.4444444444444444,
              "#bd3786"
             ],
             [
              0.5555555555555556,
              "#d8576b"
             ],
             [
              0.6666666666666666,
              "#ed7953"
             ],
             [
              0.7777777777777778,
              "#fb9f3a"
             ],
             [
              0.8888888888888888,
              "#fdca26"
             ],
             [
              1,
              "#f0f921"
             ]
            ],
            "type": "histogram2d"
           }
          ],
          "histogram2dcontour": [
           {
            "colorbar": {
             "outlinewidth": 0,
             "ticks": ""
            },
            "colorscale": [
             [
              0,
              "#0d0887"
             ],
             [
              0.1111111111111111,
              "#46039f"
             ],
             [
              0.2222222222222222,
              "#7201a8"
             ],
             [
              0.3333333333333333,
              "#9c179e"
             ],
             [
              0.4444444444444444,
              "#bd3786"
             ],
             [
              0.5555555555555556,
              "#d8576b"
             ],
             [
              0.6666666666666666,
              "#ed7953"
             ],
             [
              0.7777777777777778,
              "#fb9f3a"
             ],
             [
              0.8888888888888888,
              "#fdca26"
             ],
             [
              1,
              "#f0f921"
             ]
            ],
            "type": "histogram2dcontour"
           }
          ],
          "mesh3d": [
           {
            "colorbar": {
             "outlinewidth": 0,
             "ticks": ""
            },
            "type": "mesh3d"
           }
          ],
          "parcoords": [
           {
            "line": {
             "colorbar": {
              "outlinewidth": 0,
              "ticks": ""
             }
            },
            "type": "parcoords"
           }
          ],
          "pie": [
           {
            "automargin": true,
            "type": "pie"
           }
          ],
          "scatter": [
           {
            "fillpattern": {
             "fillmode": "overlay",
             "size": 10,
             "solidity": 0.2
            },
            "type": "scatter"
           }
          ],
          "scatter3d": [
           {
            "line": {
             "colorbar": {
              "outlinewidth": 0,
              "ticks": ""
             }
            },
            "marker": {
             "colorbar": {
              "outlinewidth": 0,
              "ticks": ""
             }
            },
            "type": "scatter3d"
           }
          ],
          "scattercarpet": [
           {
            "marker": {
             "colorbar": {
              "outlinewidth": 0,
              "ticks": ""
             }
            },
            "type": "scattercarpet"
           }
          ],
          "scattergeo": [
           {
            "marker": {
             "colorbar": {
              "outlinewidth": 0,
              "ticks": ""
             }
            },
            "type": "scattergeo"
           }
          ],
          "scattergl": [
           {
            "marker": {
             "colorbar": {
              "outlinewidth": 0,
              "ticks": ""
             }
            },
            "type": "scattergl"
           }
          ],
          "scattermapbox": [
           {
            "marker": {
             "colorbar": {
              "outlinewidth": 0,
              "ticks": ""
             }
            },
            "type": "scattermapbox"
           }
          ],
          "scatterpolar": [
           {
            "marker": {
             "colorbar": {
              "outlinewidth": 0,
              "ticks": ""
             }
            },
            "type": "scatterpolar"
           }
          ],
          "scatterpolargl": [
           {
            "marker": {
             "colorbar": {
              "outlinewidth": 0,
              "ticks": ""
             }
            },
            "type": "scatterpolargl"
           }
          ],
          "scatterternary": [
           {
            "marker": {
             "colorbar": {
              "outlinewidth": 0,
              "ticks": ""
             }
            },
            "type": "scatterternary"
           }
          ],
          "surface": [
           {
            "colorbar": {
             "outlinewidth": 0,
             "ticks": ""
            },
            "colorscale": [
             [
              0,
              "#0d0887"
             ],
             [
              0.1111111111111111,
              "#46039f"
             ],
             [
              0.2222222222222222,
              "#7201a8"
             ],
             [
              0.3333333333333333,
              "#9c179e"
             ],
             [
              0.4444444444444444,
              "#bd3786"
             ],
             [
              0.5555555555555556,
              "#d8576b"
             ],
             [
              0.6666666666666666,
              "#ed7953"
             ],
             [
              0.7777777777777778,
              "#fb9f3a"
             ],
             [
              0.8888888888888888,
              "#fdca26"
             ],
             [
              1,
              "#f0f921"
             ]
            ],
            "type": "surface"
           }
          ],
          "table": [
           {
            "cells": {
             "fill": {
              "color": "#EBF0F8"
             },
             "line": {
              "color": "white"
             }
            },
            "header": {
             "fill": {
              "color": "#C8D4E3"
             },
             "line": {
              "color": "white"
             }
            },
            "type": "table"
           }
          ]
         },
         "layout": {
          "annotationdefaults": {
           "arrowcolor": "#2a3f5f",
           "arrowhead": 0,
           "arrowwidth": 1
          },
          "autotypenumbers": "strict",
          "coloraxis": {
           "colorbar": {
            "outlinewidth": 0,
            "ticks": ""
           }
          },
          "colorscale": {
           "diverging": [
            [
             0,
             "#8e0152"
            ],
            [
             0.1,
             "#c51b7d"
            ],
            [
             0.2,
             "#de77ae"
            ],
            [
             0.3,
             "#f1b6da"
            ],
            [
             0.4,
             "#fde0ef"
            ],
            [
             0.5,
             "#f7f7f7"
            ],
            [
             0.6,
             "#e6f5d0"
            ],
            [
             0.7,
             "#b8e186"
            ],
            [
             0.8,
             "#7fbc41"
            ],
            [
             0.9,
             "#4d9221"
            ],
            [
             1,
             "#276419"
            ]
           ],
           "sequential": [
            [
             0,
             "#0d0887"
            ],
            [
             0.1111111111111111,
             "#46039f"
            ],
            [
             0.2222222222222222,
             "#7201a8"
            ],
            [
             0.3333333333333333,
             "#9c179e"
            ],
            [
             0.4444444444444444,
             "#bd3786"
            ],
            [
             0.5555555555555556,
             "#d8576b"
            ],
            [
             0.6666666666666666,
             "#ed7953"
            ],
            [
             0.7777777777777778,
             "#fb9f3a"
            ],
            [
             0.8888888888888888,
             "#fdca26"
            ],
            [
             1,
             "#f0f921"
            ]
           ],
           "sequentialminus": [
            [
             0,
             "#0d0887"
            ],
            [
             0.1111111111111111,
             "#46039f"
            ],
            [
             0.2222222222222222,
             "#7201a8"
            ],
            [
             0.3333333333333333,
             "#9c179e"
            ],
            [
             0.4444444444444444,
             "#bd3786"
            ],
            [
             0.5555555555555556,
             "#d8576b"
            ],
            [
             0.6666666666666666,
             "#ed7953"
            ],
            [
             0.7777777777777778,
             "#fb9f3a"
            ],
            [
             0.8888888888888888,
             "#fdca26"
            ],
            [
             1,
             "#f0f921"
            ]
           ]
          },
          "colorway": [
           "#636efa",
           "#EF553B",
           "#00cc96",
           "#ab63fa",
           "#FFA15A",
           "#19d3f3",
           "#FF6692",
           "#B6E880",
           "#FF97FF",
           "#FECB52"
          ],
          "font": {
           "color": "#2a3f5f"
          },
          "geo": {
           "bgcolor": "white",
           "lakecolor": "white",
           "landcolor": "#E5ECF6",
           "showlakes": true,
           "showland": true,
           "subunitcolor": "white"
          },
          "hoverlabel": {
           "align": "left"
          },
          "hovermode": "closest",
          "mapbox": {
           "style": "light"
          },
          "paper_bgcolor": "white",
          "plot_bgcolor": "#E5ECF6",
          "polar": {
           "angularaxis": {
            "gridcolor": "white",
            "linecolor": "white",
            "ticks": ""
           },
           "bgcolor": "#E5ECF6",
           "radialaxis": {
            "gridcolor": "white",
            "linecolor": "white",
            "ticks": ""
           }
          },
          "scene": {
           "xaxis": {
            "backgroundcolor": "#E5ECF6",
            "gridcolor": "white",
            "gridwidth": 2,
            "linecolor": "white",
            "showbackground": true,
            "ticks": "",
            "zerolinecolor": "white"
           },
           "yaxis": {
            "backgroundcolor": "#E5ECF6",
            "gridcolor": "white",
            "gridwidth": 2,
            "linecolor": "white",
            "showbackground": true,
            "ticks": "",
            "zerolinecolor": "white"
           },
           "zaxis": {
            "backgroundcolor": "#E5ECF6",
            "gridcolor": "white",
            "gridwidth": 2,
            "linecolor": "white",
            "showbackground": true,
            "ticks": "",
            "zerolinecolor": "white"
           }
          },
          "shapedefaults": {
           "line": {
            "color": "#2a3f5f"
           }
          },
          "ternary": {
           "aaxis": {
            "gridcolor": "white",
            "linecolor": "white",
            "ticks": ""
           },
           "baxis": {
            "gridcolor": "white",
            "linecolor": "white",
            "ticks": ""
           },
           "bgcolor": "#E5ECF6",
           "caxis": {
            "gridcolor": "white",
            "linecolor": "white",
            "ticks": ""
           }
          },
          "title": {
           "x": 0.05
          },
          "xaxis": {
           "automargin": true,
           "gridcolor": "white",
           "linecolor": "white",
           "ticks": "",
           "title": {
            "standoff": 15
           },
           "zerolinecolor": "white",
           "zerolinewidth": 2
          },
          "yaxis": {
           "automargin": true,
           "gridcolor": "white",
           "linecolor": "white",
           "ticks": "",
           "title": {
            "standoff": 15
           },
           "zerolinecolor": "white",
           "zerolinewidth": 2
          }
         }
        },
        "title": {
         "text": "model_size"
        },
        "yaxis": {
         "title": {
          "text": "model_size"
         }
        }
       }
      }
     },
     "metadata": {},
     "output_type": "display_data"
    }
   ],
   "source": [
    "make_plots('model_size')"
   ]
  },
  {
   "cell_type": "code",
   "execution_count": 8,
   "metadata": {},
   "outputs": [
    {
     "data": {
      "application/vnd.plotly.v1+json": {
       "config": {
        "plotlyServerURL": "https://plot.ly"
       },
       "data": [
        {
         "name": "Full",
         "type": "box",
         "x": [
          "LogisticRegression",
          "LogisticRegression",
          "LogisticRegression",
          "LogisticRegression",
          "LogisticRegression",
          "LogisticRegression",
          "LogisticRegression",
          "LogisticRegression",
          "LogisticRegression",
          "LogisticRegression",
          "LogisticRegression",
          "LogisticRegression",
          "LogisticRegression",
          "LogisticRegression",
          "LogisticRegression",
          "LogisticRegression",
          "LogisticRegression",
          "LogisticRegression",
          "LogisticRegression",
          "LogisticRegression",
          "SVC",
          "SVC",
          "SVC",
          "SVC",
          "SVC",
          "SVC",
          "SVC",
          "SVC",
          "SVC",
          "SVC",
          "SVC",
          "SVC",
          "SVC",
          "SVC",
          "SVC",
          "SVC",
          "SVC",
          "SVC",
          "SVC",
          "SVC",
          "RandomForestClassifier",
          "RandomForestClassifier",
          "RandomForestClassifier",
          "RandomForestClassifier",
          "RandomForestClassifier",
          "RandomForestClassifier",
          "RandomForestClassifier",
          "RandomForestClassifier",
          "RandomForestClassifier",
          "RandomForestClassifier",
          "RandomForestClassifier",
          "RandomForestClassifier",
          "RandomForestClassifier",
          "RandomForestClassifier",
          "RandomForestClassifier",
          "RandomForestClassifier",
          "RandomForestClassifier",
          "RandomForestClassifier",
          "RandomForestClassifier",
          "RandomForestClassifier",
          "GradientBoostingClassifier",
          "GradientBoostingClassifier",
          "GradientBoostingClassifier",
          "GradientBoostingClassifier",
          "GradientBoostingClassifier",
          "GradientBoostingClassifier",
          "GradientBoostingClassifier",
          "GradientBoostingClassifier",
          "GradientBoostingClassifier",
          "GradientBoostingClassifier",
          "GradientBoostingClassifier",
          "GradientBoostingClassifier",
          "GradientBoostingClassifier",
          "GradientBoostingClassifier",
          "GradientBoostingClassifier",
          "GradientBoostingClassifier",
          "GradientBoostingClassifier",
          "GradientBoostingClassifier",
          "GradientBoostingClassifier",
          "GradientBoostingClassifier",
          "DeepNeuralNetwork",
          "DeepNeuralNetwork",
          "DeepNeuralNetwork",
          "DeepNeuralNetwork",
          "DeepNeuralNetwork",
          "DeepNeuralNetwork",
          "DeepNeuralNetwork",
          "DeepNeuralNetwork",
          "DeepNeuralNetwork",
          "DeepNeuralNetwork",
          "DeepNeuralNetwork",
          "DeepNeuralNetwork",
          "DeepNeuralNetwork",
          "DeepNeuralNetwork",
          "DeepNeuralNetwork",
          "DeepNeuralNetwork",
          "DeepNeuralNetwork",
          "DeepNeuralNetwork",
          "DeepNeuralNetwork",
          "DeepNeuralNetwork"
         ],
         "y": [
          0.0000010179771420390155,
          0.0000014685780834362838,
          0.0000010627893026792304,
          5.640905216429057e-7,
          8.747177757447572e-7,
          8.139912651763948e-7,
          0.0000011675959626930923,
          9.131988248367584e-7,
          9.890345936437728e-7,
          5.324241549144529e-7,
          0.0000017563430638337443,
          9.393493034196704e-7,
          5.709334044284864e-7,
          0.000001087260539241533,
          5.05179551689959e-7,
          0.000001084605603892709,
          0.000001162233199730224,
          0.000001036879104450092,
          0.0000011930587394985356,
          4.4860373267941605e-7,
          0.0000014466212540226175,
          3.6939669161017996e-7,
          0.0000010041553969199202,
          4.664510426600002e-7,
          5.120173547298879e-7,
          0.0000010014787405251274,
          0.0000011361385326433618,
          4.044389113454922e-7,
          0.000001614850047967388,
          5.800217105023445e-7,
          9.80076535705976e-7,
          4.4640741289365276e-7,
          5.836112902954729e-7,
          9.682472885902751e-7,
          0.0000014314383965643648,
          3.834149679251067e-7,
          7.26823726465882e-7,
          4.253017833492565e-7,
          0.000001246640259205782,
          6.671762450196489e-7,
          8.122524502848436e-7,
          6.759622084087646e-7,
          8.241184208633567e-7,
          4.561130254312693e-7,
          0.0000010654301967095992,
          9.739714498793392e-7,
          7.919433459586261e-7,
          4.972650470376136e-7,
          8.266698060628228e-7,
          8.701263148796004e-7,
          8.002837026625104e-7,
          3.272719694838791e-7,
          0.0000011757779870263246,
          6.848171451717677e-7,
          8.915094151023747e-7,
          9.8913055918224e-7,
          9.457720053394557e-7,
          0.000001718745108207284,
          4.117028370061171e-7,
          9.578268470936124e-7,
          3.64478225706958e-7,
          0.0000010050359776745015,
          8.222641364641521e-7,
          9.12393411298812e-7,
          9.21719578790732e-7,
          8.439305601067731e-7,
          6.080284280672241e-7,
          0.0000012012963774548496,
          0.000001129633805904348,
          8.425454978769342e-7,
          8.326229477785205e-7,
          7.489116278557376e-7,
          0.0000012558898619249512,
          0.00000112157923781199,
          0.0000011077546366779906,
          8.220303387663705e-7,
          9.007938762675348e-7,
          0.0000010602282094996848,
          8.498646157893697e-7,
          3.473954148210459e-7,
          4.2060132835093633e-7,
          6.578235448241772e-7,
          5.611204094558946e-7,
          5.182161934924948e-7,
          8.16454679078947e-7,
          6.990544763620619e-7,
          0.0000011780966296106796,
          5.758588428185323e-7,
          6.410439027950375e-7,
          5.348821857302337e-7,
          7.64482167282983e-7,
          5.363158646614491e-7,
          0.000002043760976842921,
          8.755967141702709e-7,
          5.197656859339678e-7,
          5.036685628671822e-7,
          8.630727541367351e-7,
          6.213998203080662e-7,
          9.130413918399978e-7,
          0.000001350350372583166
         ]
        },
        {
         "name": "FR",
         "type": "box",
         "x": [
          "LogisticRegression",
          "LogisticRegression",
          "LogisticRegression",
          "LogisticRegression",
          "LogisticRegression",
          "LogisticRegression",
          "LogisticRegression",
          "LogisticRegression",
          "LogisticRegression",
          "LogisticRegression",
          "LogisticRegression",
          "LogisticRegression",
          "LogisticRegression",
          "LogisticRegression",
          "LogisticRegression",
          "LogisticRegression",
          "LogisticRegression",
          "LogisticRegression",
          "LogisticRegression",
          "LogisticRegression",
          "SVC",
          "SVC",
          "SVC",
          "SVC",
          "SVC",
          "SVC",
          "SVC",
          "SVC",
          "SVC",
          "SVC",
          "SVC",
          "SVC",
          "SVC",
          "SVC",
          "SVC",
          "SVC",
          "SVC",
          "SVC",
          "SVC",
          "SVC",
          "RandomForestClassifier",
          "RandomForestClassifier",
          "RandomForestClassifier",
          "RandomForestClassifier",
          "RandomForestClassifier",
          "RandomForestClassifier",
          "RandomForestClassifier",
          "RandomForestClassifier",
          "RandomForestClassifier",
          "RandomForestClassifier",
          "RandomForestClassifier",
          "RandomForestClassifier",
          "RandomForestClassifier",
          "RandomForestClassifier",
          "RandomForestClassifier",
          "RandomForestClassifier",
          "RandomForestClassifier",
          "RandomForestClassifier",
          "RandomForestClassifier",
          "RandomForestClassifier",
          "GradientBoostingClassifier",
          "GradientBoostingClassifier",
          "GradientBoostingClassifier",
          "GradientBoostingClassifier",
          "GradientBoostingClassifier",
          "GradientBoostingClassifier",
          "GradientBoostingClassifier",
          "GradientBoostingClassifier",
          "GradientBoostingClassifier",
          "GradientBoostingClassifier",
          "GradientBoostingClassifier",
          "GradientBoostingClassifier",
          "GradientBoostingClassifier",
          "GradientBoostingClassifier",
          "GradientBoostingClassifier",
          "GradientBoostingClassifier",
          "GradientBoostingClassifier",
          "GradientBoostingClassifier",
          "GradientBoostingClassifier",
          "GradientBoostingClassifier",
          "DeepNeuralNetwork",
          "DeepNeuralNetwork",
          "DeepNeuralNetwork",
          "DeepNeuralNetwork",
          "DeepNeuralNetwork",
          "DeepNeuralNetwork",
          "DeepNeuralNetwork",
          "DeepNeuralNetwork",
          "DeepNeuralNetwork",
          "DeepNeuralNetwork",
          "DeepNeuralNetwork",
          "DeepNeuralNetwork",
          "DeepNeuralNetwork",
          "DeepNeuralNetwork",
          "DeepNeuralNetwork",
          "DeepNeuralNetwork",
          "DeepNeuralNetwork",
          "DeepNeuralNetwork",
          "DeepNeuralNetwork",
          "DeepNeuralNetwork"
         ],
         "y": [
          7.747477272900677e-7,
          0.00000131777007880262,
          8.976753203132626e-7,
          0.0000011631165444721953,
          3.7435872253695213e-7,
          0.000001215485983924701,
          5.858382662359343e-7,
          0.000001935666682844131,
          6.47854373701448e-7,
          0.0000010500008190469229,
          0.000001103636843634813,
          0.000001431214512533259,
          9.35908398551344e-7,
          6.885212961863299e-7,
          0.0000011166562960728335,
          6.00895334876457e-7,
          7.144253352329294e-7,
          0.0000010696731827979436,
          0.0000011680858482453552,
          8.038635520091555e-7,
          0.0000012693274798573906,
          0.000001171533722479738,
          5.097154643718751e-7,
          8.991220070237935e-7,
          4.4944562319678565e-7,
          6.488671955929073e-7,
          6.259011224949568e-7,
          5.71209696761249e-7,
          4.7327087845678434e-7,
          5.743502904734243e-7,
          9.5901743933733e-7,
          4.227702497311067e-7,
          0.0000010268507200893171,
          5.112249813225486e-7,
          5.859455857746068e-7,
          8.881947937654233e-7,
          5.237816966220318e-7,
          0.000001119157782449379,
          8.37176137706043e-7,
          0.0000012013097645813264,
          0.0000013271246616904445,
          6.025946483259603e-7,
          5.182989020156847e-7,
          0.000001137353504171261,
          6.387957256380125e-7,
          8.782123084175378e-7,
          0.0000011214150100044215,
          7.00457706489209e-7,
          6.208783109636767e-7,
          8.437373034183432e-7,
          9.73013579335172e-7,
          0.0000010501697851276331,
          4.920005617506731e-7,
          4.905192605465791e-7,
          0.000001385557548502607,
          0.0000013029885431673632,
          4.501038607150967e-7,
          0.0000011716360420448851,
          6.208078395719338e-7,
          0.0000010120357109531797,
          7.930553688213077e-7,
          4.670280714571401e-7,
          6.868478564289043e-7,
          5.800333986952927e-7,
          8.804687911864034e-7,
          8.893989084345078e-7,
          4.661764540303884e-7,
          4.6633356766672556e-7,
          7.283290309190171e-7,
          0.0000011001224066798168,
          7.218032265828705e-7,
          0.0000010075983433869076,
          5.844424786584021e-7,
          8.900622834231292e-7,
          9.559269899175188e-7,
          5.879877456359608e-7,
          6.898087108048179e-7,
          8.864822084097765e-7,
          8.733305067298164e-7,
          7.837358516763274e-7,
          0.0000010379546621181945,
          6.267926191175742e-7,
          8.420309099898757e-7,
          9.100992953044174e-7,
          6.070013508479438e-7,
          7.231699170034273e-7,
          7.058299907611656e-7,
          0.0000010077321341917314,
          9.506970482615548e-7,
          4.6863856151616045e-7,
          0.0000014038299482313152,
          7.55265848313702e-7,
          7.655125782864668e-7,
          0.0000014535342430853186,
          7.49425347024938e-7,
          0.0000023243544991775715,
          9.68191837483895e-7,
          8.660942076694177e-7,
          0.0000010782130238501386,
          0.000001619109411043606
         ]
        },
        {
         "name": "SS",
         "type": "box",
         "x": [
          "LogisticRegression",
          "LogisticRegression",
          "LogisticRegression",
          "LogisticRegression",
          "LogisticRegression",
          "LogisticRegression",
          "LogisticRegression",
          "LogisticRegression",
          "LogisticRegression",
          "LogisticRegression",
          "LogisticRegression",
          "LogisticRegression",
          "LogisticRegression",
          "LogisticRegression",
          "LogisticRegression",
          "LogisticRegression",
          "LogisticRegression",
          "LogisticRegression",
          "LogisticRegression",
          "LogisticRegression",
          "SVC",
          "SVC",
          "SVC",
          "SVC",
          "SVC",
          "SVC",
          "SVC",
          "SVC",
          "SVC",
          "SVC",
          "SVC",
          "SVC",
          "SVC",
          "SVC",
          "SVC",
          "SVC",
          "SVC",
          "SVC",
          "SVC",
          "SVC",
          "RandomForestClassifier",
          "RandomForestClassifier",
          "RandomForestClassifier",
          "RandomForestClassifier",
          "RandomForestClassifier",
          "RandomForestClassifier",
          "RandomForestClassifier",
          "RandomForestClassifier",
          "RandomForestClassifier",
          "RandomForestClassifier",
          "RandomForestClassifier",
          "RandomForestClassifier",
          "RandomForestClassifier",
          "RandomForestClassifier",
          "RandomForestClassifier",
          "RandomForestClassifier",
          "RandomForestClassifier",
          "RandomForestClassifier",
          "RandomForestClassifier",
          "RandomForestClassifier",
          "GradientBoostingClassifier",
          "GradientBoostingClassifier",
          "GradientBoostingClassifier",
          "GradientBoostingClassifier",
          "GradientBoostingClassifier",
          "GradientBoostingClassifier",
          "GradientBoostingClassifier",
          "GradientBoostingClassifier",
          "GradientBoostingClassifier",
          "GradientBoostingClassifier",
          "GradientBoostingClassifier",
          "GradientBoostingClassifier",
          "GradientBoostingClassifier",
          "GradientBoostingClassifier",
          "GradientBoostingClassifier",
          "GradientBoostingClassifier",
          "GradientBoostingClassifier",
          "GradientBoostingClassifier",
          "GradientBoostingClassifier",
          "GradientBoostingClassifier",
          "DeepNeuralNetwork",
          "DeepNeuralNetwork",
          "DeepNeuralNetwork",
          "DeepNeuralNetwork",
          "DeepNeuralNetwork",
          "DeepNeuralNetwork",
          "DeepNeuralNetwork",
          "DeepNeuralNetwork",
          "DeepNeuralNetwork",
          "DeepNeuralNetwork",
          "DeepNeuralNetwork",
          "DeepNeuralNetwork",
          "DeepNeuralNetwork",
          "DeepNeuralNetwork",
          "DeepNeuralNetwork",
          "DeepNeuralNetwork",
          "DeepNeuralNetwork",
          "DeepNeuralNetwork",
          "DeepNeuralNetwork",
          "DeepNeuralNetwork"
         ],
         "y": [
          0.000001188363873620528,
          5.579863256712989e-7,
          6.454034302159559e-7,
          5.028099090932311e-7,
          8.460108080875911e-7,
          8.701824186149731e-7,
          0.0000011163238268505418,
          9.84031297220772e-7,
          5.662902867603625e-7,
          8.703059104914201e-7,
          6.800107189208413e-7,
          6.830426840902237e-7,
          5.538653651262701e-7,
          0.000001187386184741887,
          6.040082056076035e-7,
          0.0000010742174902491144,
          0.0000011987906418818237,
          4.977053243860469e-7,
          5.116967332413278e-7,
          8.90697838312228e-7,
          0.0000012189276801704077,
          4.058499683060046e-7,
          0.0000015555161743041263,
          4.899157012494201e-7,
          0.0000011951769194017137,
          9.593275751788172e-7,
          9.661095141302173e-7,
          4.958154177035073e-7,
          8.506226245675111e-7,
          0.0000013601911686596246,
          3.206921018652359e-7,
          0.000001071517116302094,
          6.405159987087072e-7,
          0.0000012484775567924225,
          0.0000014153547346767992,
          5.173204825825381e-7,
          9.36836074507362e-7,
          0.0000010194802586641072,
          6.641736521005581e-7,
          0.0000015495734084769452,
          7.28587321001048e-7,
          8.340943545908849e-7,
          9.075639575330946e-7,
          0.00000177203409386633,
          8.582958196858698e-7,
          0.000001057790650065872,
          8.322766222894004e-7,
          4.675340971775979e-7,
          3.608214345189598e-7,
          0.0000011870626237062837,
          9.246957906362818e-7,
          9.741886618933396e-7,
          0.000001163897250054842,
          0.000001160865934982623,
          6.239477092686435e-7,
          0.0000016269636446642965,
          9.489209279031284e-7,
          0.000001202669219870986,
          3.71932747802485e-7,
          5.875787061912843e-7,
          8.978006989313406e-7,
          8.628892049404938e-7,
          7.79111732065671e-7,
          9.015307012409656e-7,
          0.0000011058323766428152,
          0.0000010201607008762312,
          0.0000010706706858468545,
          7.359544246252417e-7,
          0.0000011955187427968236,
          0.0000011491127014633812,
          6.382801895849291e-7,
          8.101561497757953e-7,
          5.373821097475959e-7,
          8.383739231810142e-7,
          8.944016948661537e-7,
          9.118516560817358e-7,
          8.548745133183169e-7,
          0.0000010371612134685293,
          9.611575988955831e-7,
          0.000001172784013334094,
          9.289100449598292e-7,
          0.0000014901422668266162,
          0.0000022300344239929368,
          8.041180035583961e-7,
          6.272510064868689e-7,
          0.0000014751062127060788,
          0.000001563547063144783,
          0.0000014646396120695376,
          7.517524816666107e-7,
          7.341357239685868e-7,
          6.72891835566073e-7,
          0.000001231282954496614,
          0.0000010161048125427103,
          0.000001900672509979988,
          9.270684717989364e-7,
          8.242511783090184e-7,
          5.978178290269066e-7,
          0.0000014587203599689125,
          7.201664011854264e-7,
          7.393737266915557e-7
         ]
        },
        {
         "name": "SS & FR",
         "type": "box",
         "x": [
          "LogisticRegression",
          "LogisticRegression",
          "LogisticRegression",
          "LogisticRegression",
          "LogisticRegression",
          "LogisticRegression",
          "LogisticRegression",
          "LogisticRegression",
          "LogisticRegression",
          "LogisticRegression",
          "LogisticRegression",
          "LogisticRegression",
          "LogisticRegression",
          "LogisticRegression",
          "LogisticRegression",
          "LogisticRegression",
          "LogisticRegression",
          "LogisticRegression",
          "LogisticRegression",
          "LogisticRegression",
          "SVC",
          "SVC",
          "SVC",
          "SVC",
          "SVC",
          "SVC",
          "SVC",
          "SVC",
          "SVC",
          "SVC",
          "SVC",
          "SVC",
          "SVC",
          "SVC",
          "SVC",
          "SVC",
          "SVC",
          "SVC",
          "SVC",
          "SVC",
          "RandomForestClassifier",
          "RandomForestClassifier",
          "RandomForestClassifier",
          "RandomForestClassifier",
          "RandomForestClassifier",
          "RandomForestClassifier",
          "RandomForestClassifier",
          "RandomForestClassifier",
          "RandomForestClassifier",
          "RandomForestClassifier",
          "RandomForestClassifier",
          "RandomForestClassifier",
          "RandomForestClassifier",
          "RandomForestClassifier",
          "RandomForestClassifier",
          "RandomForestClassifier",
          "RandomForestClassifier",
          "RandomForestClassifier",
          "RandomForestClassifier",
          "RandomForestClassifier",
          "GradientBoostingClassifier",
          "GradientBoostingClassifier",
          "GradientBoostingClassifier",
          "GradientBoostingClassifier",
          "GradientBoostingClassifier",
          "GradientBoostingClassifier",
          "GradientBoostingClassifier",
          "GradientBoostingClassifier",
          "GradientBoostingClassifier",
          "GradientBoostingClassifier",
          "GradientBoostingClassifier",
          "GradientBoostingClassifier",
          "GradientBoostingClassifier",
          "GradientBoostingClassifier",
          "GradientBoostingClassifier",
          "GradientBoostingClassifier",
          "GradientBoostingClassifier",
          "GradientBoostingClassifier",
          "GradientBoostingClassifier",
          "GradientBoostingClassifier",
          "DeepNeuralNetwork",
          "DeepNeuralNetwork",
          "DeepNeuralNetwork",
          "DeepNeuralNetwork",
          "DeepNeuralNetwork",
          "DeepNeuralNetwork",
          "DeepNeuralNetwork",
          "DeepNeuralNetwork",
          "DeepNeuralNetwork",
          "DeepNeuralNetwork",
          "DeepNeuralNetwork",
          "DeepNeuralNetwork",
          "DeepNeuralNetwork",
          "DeepNeuralNetwork",
          "DeepNeuralNetwork",
          "DeepNeuralNetwork",
          "DeepNeuralNetwork",
          "DeepNeuralNetwork",
          "DeepNeuralNetwork",
          "DeepNeuralNetwork"
         ],
         "y": [
          7.408115002965898e-7,
          4.844893047098453e-7,
          5.457363048671365e-7,
          0.0000011117392318743188,
          3.9392114936816214e-7,
          4.16908047196074e-7,
          6.768117801576531e-7,
          0.0000015358526795220331,
          9.395092392949778e-7,
          0.0000011244751790375276,
          8.434515058157455e-7,
          8.269574261685064e-7,
          6.903496472688425e-7,
          6.033566560701906e-7,
          6.960387663752093e-7,
          5.207917751458291e-7,
          9.53472056271394e-7,
          6.234634528845193e-7,
          5.337407651927195e-7,
          4.063961505287178e-7,
          8.996827456485973e-7,
          0.000001370267901428142,
          0.0000010656678817028142,
          9.093634353038796e-7,
          6.276613203929846e-7,
          0.000001096971500555259,
          0.0000010030418570380897,
          0.0000010329716998947957,
          0.000001269726375803179,
          6.925995718349426e-7,
          0.000001218178852051971,
          8.68677561157577e-7,
          0.000001615301786012796,
          3.281105049254829e-7,
          6.659345770420114e-7,
          0.0000010328757444506842,
          3.616926982441884e-7,
          0.0000014912103953124492,
          6.829008829924502e-7,
          0.000001392648826630677,
          8.668591929038641e-7,
          0.0000010551398476792498,
          8.778488613621002e-7,
          9.692664098585532e-7,
          9.068492649484672e-7,
          3.390205424048248e-7,
          0.0000012928561734298558,
          7.810425239028473e-7,
          6.324723674693347e-7,
          7.557687242264882e-7,
          0.0000013837205309870718,
          7.159217833381179e-7,
          0.0000013646035467692122,
          8.277097437257158e-7,
          7.838265717345291e-7,
          0.0000012803127314407747,
          7.519885108246346e-7,
          7.017914200610834e-7,
          0.0000010573226249211906,
          7.260395795500793e-7,
          0.0000010361206918291926,
          0.0000011448352012846663,
          0.0000011919682305480336,
          7.215860176558106e-7,
          0.0000010603219773534095,
          0.0000011049082044691308,
          8.283456946001425e-7,
          9.423517327794908e-7,
          7.749746656010928e-7,
          7.129766452437791e-7,
          0.0000010616483638497057,
          7.609985506751293e-7,
          0.0000012138229836117231,
          9.647149847935924e-7,
          7.385114896190162e-7,
          9.338220279863156e-7,
          9.367125442414844e-7,
          0.0000010910414360290263,
          0.0000010463439245331566,
          9.820145495855609e-7,
          8.927215949467229e-7,
          7.724690281808895e-7,
          9.65057167527563e-7,
          0.0000015687428005085706,
          8.038508334195192e-7,
          8.991337134885841e-7,
          8.053758836106852e-7,
          7.576883920877922e-7,
          6.599672066833102e-7,
          0.0000011538511682095303,
          9.85810555276332e-7,
          0.0000010663617772380292,
          0.0000014320174122274716,
          0.000001138317578664675,
          4.6692679691413483e-7,
          5.712452853675297e-7,
          6.365890722228977e-7,
          5.512379737679721e-7,
          5.90822956430398e-7,
          0.0000010186966466238338
         ]
        }
       ],
       "layout": {
        "boxmode": "group",
        "template": {
         "data": {
          "bar": [
           {
            "error_x": {
             "color": "#2a3f5f"
            },
            "error_y": {
             "color": "#2a3f5f"
            },
            "marker": {
             "line": {
              "color": "#E5ECF6",
              "width": 0.5
             },
             "pattern": {
              "fillmode": "overlay",
              "size": 10,
              "solidity": 0.2
             }
            },
            "type": "bar"
           }
          ],
          "barpolar": [
           {
            "marker": {
             "line": {
              "color": "#E5ECF6",
              "width": 0.5
             },
             "pattern": {
              "fillmode": "overlay",
              "size": 10,
              "solidity": 0.2
             }
            },
            "type": "barpolar"
           }
          ],
          "carpet": [
           {
            "aaxis": {
             "endlinecolor": "#2a3f5f",
             "gridcolor": "white",
             "linecolor": "white",
             "minorgridcolor": "white",
             "startlinecolor": "#2a3f5f"
            },
            "baxis": {
             "endlinecolor": "#2a3f5f",
             "gridcolor": "white",
             "linecolor": "white",
             "minorgridcolor": "white",
             "startlinecolor": "#2a3f5f"
            },
            "type": "carpet"
           }
          ],
          "choropleth": [
           {
            "colorbar": {
             "outlinewidth": 0,
             "ticks": ""
            },
            "type": "choropleth"
           }
          ],
          "contour": [
           {
            "colorbar": {
             "outlinewidth": 0,
             "ticks": ""
            },
            "colorscale": [
             [
              0,
              "#0d0887"
             ],
             [
              0.1111111111111111,
              "#46039f"
             ],
             [
              0.2222222222222222,
              "#7201a8"
             ],
             [
              0.3333333333333333,
              "#9c179e"
             ],
             [
              0.4444444444444444,
              "#bd3786"
             ],
             [
              0.5555555555555556,
              "#d8576b"
             ],
             [
              0.6666666666666666,
              "#ed7953"
             ],
             [
              0.7777777777777778,
              "#fb9f3a"
             ],
             [
              0.8888888888888888,
              "#fdca26"
             ],
             [
              1,
              "#f0f921"
             ]
            ],
            "type": "contour"
           }
          ],
          "contourcarpet": [
           {
            "colorbar": {
             "outlinewidth": 0,
             "ticks": ""
            },
            "type": "contourcarpet"
           }
          ],
          "heatmap": [
           {
            "colorbar": {
             "outlinewidth": 0,
             "ticks": ""
            },
            "colorscale": [
             [
              0,
              "#0d0887"
             ],
             [
              0.1111111111111111,
              "#46039f"
             ],
             [
              0.2222222222222222,
              "#7201a8"
             ],
             [
              0.3333333333333333,
              "#9c179e"
             ],
             [
              0.4444444444444444,
              "#bd3786"
             ],
             [
              0.5555555555555556,
              "#d8576b"
             ],
             [
              0.6666666666666666,
              "#ed7953"
             ],
             [
              0.7777777777777778,
              "#fb9f3a"
             ],
             [
              0.8888888888888888,
              "#fdca26"
             ],
             [
              1,
              "#f0f921"
             ]
            ],
            "type": "heatmap"
           }
          ],
          "heatmapgl": [
           {
            "colorbar": {
             "outlinewidth": 0,
             "ticks": ""
            },
            "colorscale": [
             [
              0,
              "#0d0887"
             ],
             [
              0.1111111111111111,
              "#46039f"
             ],
             [
              0.2222222222222222,
              "#7201a8"
             ],
             [
              0.3333333333333333,
              "#9c179e"
             ],
             [
              0.4444444444444444,
              "#bd3786"
             ],
             [
              0.5555555555555556,
              "#d8576b"
             ],
             [
              0.6666666666666666,
              "#ed7953"
             ],
             [
              0.7777777777777778,
              "#fb9f3a"
             ],
             [
              0.8888888888888888,
              "#fdca26"
             ],
             [
              1,
              "#f0f921"
             ]
            ],
            "type": "heatmapgl"
           }
          ],
          "histogram": [
           {
            "marker": {
             "pattern": {
              "fillmode": "overlay",
              "size": 10,
              "solidity": 0.2
             }
            },
            "type": "histogram"
           }
          ],
          "histogram2d": [
           {
            "colorbar": {
             "outlinewidth": 0,
             "ticks": ""
            },
            "colorscale": [
             [
              0,
              "#0d0887"
             ],
             [
              0.1111111111111111,
              "#46039f"
             ],
             [
              0.2222222222222222,
              "#7201a8"
             ],
             [
              0.3333333333333333,
              "#9c179e"
             ],
             [
              0.4444444444444444,
              "#bd3786"
             ],
             [
              0.5555555555555556,
              "#d8576b"
             ],
             [
              0.6666666666666666,
              "#ed7953"
             ],
             [
              0.7777777777777778,
              "#fb9f3a"
             ],
             [
              0.8888888888888888,
              "#fdca26"
             ],
             [
              1,
              "#f0f921"
             ]
            ],
            "type": "histogram2d"
           }
          ],
          "histogram2dcontour": [
           {
            "colorbar": {
             "outlinewidth": 0,
             "ticks": ""
            },
            "colorscale": [
             [
              0,
              "#0d0887"
             ],
             [
              0.1111111111111111,
              "#46039f"
             ],
             [
              0.2222222222222222,
              "#7201a8"
             ],
             [
              0.3333333333333333,
              "#9c179e"
             ],
             [
              0.4444444444444444,
              "#bd3786"
             ],
             [
              0.5555555555555556,
              "#d8576b"
             ],
             [
              0.6666666666666666,
              "#ed7953"
             ],
             [
              0.7777777777777778,
              "#fb9f3a"
             ],
             [
              0.8888888888888888,
              "#fdca26"
             ],
             [
              1,
              "#f0f921"
             ]
            ],
            "type": "histogram2dcontour"
           }
          ],
          "mesh3d": [
           {
            "colorbar": {
             "outlinewidth": 0,
             "ticks": ""
            },
            "type": "mesh3d"
           }
          ],
          "parcoords": [
           {
            "line": {
             "colorbar": {
              "outlinewidth": 0,
              "ticks": ""
             }
            },
            "type": "parcoords"
           }
          ],
          "pie": [
           {
            "automargin": true,
            "type": "pie"
           }
          ],
          "scatter": [
           {
            "fillpattern": {
             "fillmode": "overlay",
             "size": 10,
             "solidity": 0.2
            },
            "type": "scatter"
           }
          ],
          "scatter3d": [
           {
            "line": {
             "colorbar": {
              "outlinewidth": 0,
              "ticks": ""
             }
            },
            "marker": {
             "colorbar": {
              "outlinewidth": 0,
              "ticks": ""
             }
            },
            "type": "scatter3d"
           }
          ],
          "scattercarpet": [
           {
            "marker": {
             "colorbar": {
              "outlinewidth": 0,
              "ticks": ""
             }
            },
            "type": "scattercarpet"
           }
          ],
          "scattergeo": [
           {
            "marker": {
             "colorbar": {
              "outlinewidth": 0,
              "ticks": ""
             }
            },
            "type": "scattergeo"
           }
          ],
          "scattergl": [
           {
            "marker": {
             "colorbar": {
              "outlinewidth": 0,
              "ticks": ""
             }
            },
            "type": "scattergl"
           }
          ],
          "scattermapbox": [
           {
            "marker": {
             "colorbar": {
              "outlinewidth": 0,
              "ticks": ""
             }
            },
            "type": "scattermapbox"
           }
          ],
          "scatterpolar": [
           {
            "marker": {
             "colorbar": {
              "outlinewidth": 0,
              "ticks": ""
             }
            },
            "type": "scatterpolar"
           }
          ],
          "scatterpolargl": [
           {
            "marker": {
             "colorbar": {
              "outlinewidth": 0,
              "ticks": ""
             }
            },
            "type": "scatterpolargl"
           }
          ],
          "scatterternary": [
           {
            "marker": {
             "colorbar": {
              "outlinewidth": 0,
              "ticks": ""
             }
            },
            "type": "scatterternary"
           }
          ],
          "surface": [
           {
            "colorbar": {
             "outlinewidth": 0,
             "ticks": ""
            },
            "colorscale": [
             [
              0,
              "#0d0887"
             ],
             [
              0.1111111111111111,
              "#46039f"
             ],
             [
              0.2222222222222222,
              "#7201a8"
             ],
             [
              0.3333333333333333,
              "#9c179e"
             ],
             [
              0.4444444444444444,
              "#bd3786"
             ],
             [
              0.5555555555555556,
              "#d8576b"
             ],
             [
              0.6666666666666666,
              "#ed7953"
             ],
             [
              0.7777777777777778,
              "#fb9f3a"
             ],
             [
              0.8888888888888888,
              "#fdca26"
             ],
             [
              1,
              "#f0f921"
             ]
            ],
            "type": "surface"
           }
          ],
          "table": [
           {
            "cells": {
             "fill": {
              "color": "#EBF0F8"
             },
             "line": {
              "color": "white"
             }
            },
            "header": {
             "fill": {
              "color": "#C8D4E3"
             },
             "line": {
              "color": "white"
             }
            },
            "type": "table"
           }
          ]
         },
         "layout": {
          "annotationdefaults": {
           "arrowcolor": "#2a3f5f",
           "arrowhead": 0,
           "arrowwidth": 1
          },
          "autotypenumbers": "strict",
          "coloraxis": {
           "colorbar": {
            "outlinewidth": 0,
            "ticks": ""
           }
          },
          "colorscale": {
           "diverging": [
            [
             0,
             "#8e0152"
            ],
            [
             0.1,
             "#c51b7d"
            ],
            [
             0.2,
             "#de77ae"
            ],
            [
             0.3,
             "#f1b6da"
            ],
            [
             0.4,
             "#fde0ef"
            ],
            [
             0.5,
             "#f7f7f7"
            ],
            [
             0.6,
             "#e6f5d0"
            ],
            [
             0.7,
             "#b8e186"
            ],
            [
             0.8,
             "#7fbc41"
            ],
            [
             0.9,
             "#4d9221"
            ],
            [
             1,
             "#276419"
            ]
           ],
           "sequential": [
            [
             0,
             "#0d0887"
            ],
            [
             0.1111111111111111,
             "#46039f"
            ],
            [
             0.2222222222222222,
             "#7201a8"
            ],
            [
             0.3333333333333333,
             "#9c179e"
            ],
            [
             0.4444444444444444,
             "#bd3786"
            ],
            [
             0.5555555555555556,
             "#d8576b"
            ],
            [
             0.6666666666666666,
             "#ed7953"
            ],
            [
             0.7777777777777778,
             "#fb9f3a"
            ],
            [
             0.8888888888888888,
             "#fdca26"
            ],
            [
             1,
             "#f0f921"
            ]
           ],
           "sequentialminus": [
            [
             0,
             "#0d0887"
            ],
            [
             0.1111111111111111,
             "#46039f"
            ],
            [
             0.2222222222222222,
             "#7201a8"
            ],
            [
             0.3333333333333333,
             "#9c179e"
            ],
            [
             0.4444444444444444,
             "#bd3786"
            ],
            [
             0.5555555555555556,
             "#d8576b"
            ],
            [
             0.6666666666666666,
             "#ed7953"
            ],
            [
             0.7777777777777778,
             "#fb9f3a"
            ],
            [
             0.8888888888888888,
             "#fdca26"
            ],
            [
             1,
             "#f0f921"
            ]
           ]
          },
          "colorway": [
           "#636efa",
           "#EF553B",
           "#00cc96",
           "#ab63fa",
           "#FFA15A",
           "#19d3f3",
           "#FF6692",
           "#B6E880",
           "#FF97FF",
           "#FECB52"
          ],
          "font": {
           "color": "#2a3f5f"
          },
          "geo": {
           "bgcolor": "white",
           "lakecolor": "white",
           "landcolor": "#E5ECF6",
           "showlakes": true,
           "showland": true,
           "subunitcolor": "white"
          },
          "hoverlabel": {
           "align": "left"
          },
          "hovermode": "closest",
          "mapbox": {
           "style": "light"
          },
          "paper_bgcolor": "white",
          "plot_bgcolor": "#E5ECF6",
          "polar": {
           "angularaxis": {
            "gridcolor": "white",
            "linecolor": "white",
            "ticks": ""
           },
           "bgcolor": "#E5ECF6",
           "radialaxis": {
            "gridcolor": "white",
            "linecolor": "white",
            "ticks": ""
           }
          },
          "scene": {
           "xaxis": {
            "backgroundcolor": "#E5ECF6",
            "gridcolor": "white",
            "gridwidth": 2,
            "linecolor": "white",
            "showbackground": true,
            "ticks": "",
            "zerolinecolor": "white"
           },
           "yaxis": {
            "backgroundcolor": "#E5ECF6",
            "gridcolor": "white",
            "gridwidth": 2,
            "linecolor": "white",
            "showbackground": true,
            "ticks": "",
            "zerolinecolor": "white"
           },
           "zaxis": {
            "backgroundcolor": "#E5ECF6",
            "gridcolor": "white",
            "gridwidth": 2,
            "linecolor": "white",
            "showbackground": true,
            "ticks": "",
            "zerolinecolor": "white"
           }
          },
          "shapedefaults": {
           "line": {
            "color": "#2a3f5f"
           }
          },
          "ternary": {
           "aaxis": {
            "gridcolor": "white",
            "linecolor": "white",
            "ticks": ""
           },
           "baxis": {
            "gridcolor": "white",
            "linecolor": "white",
            "ticks": ""
           },
           "bgcolor": "#E5ECF6",
           "caxis": {
            "gridcolor": "white",
            "linecolor": "white",
            "ticks": ""
           }
          },
          "title": {
           "x": 0.05
          },
          "xaxis": {
           "automargin": true,
           "gridcolor": "white",
           "linecolor": "white",
           "ticks": "",
           "title": {
            "standoff": 15
           },
           "zerolinecolor": "white",
           "zerolinewidth": 2
          },
          "yaxis": {
           "automargin": true,
           "gridcolor": "white",
           "linecolor": "white",
           "ticks": "",
           "title": {
            "standoff": 15
           },
           "zerolinecolor": "white",
           "zerolinewidth": 2
          }
         }
        },
        "title": {
         "text": "emissions_prep"
        },
        "yaxis": {
         "title": {
          "text": "emissions_prep"
         }
        }
       }
      }
     },
     "metadata": {},
     "output_type": "display_data"
    },
    {
     "data": {
      "application/vnd.plotly.v1+json": {
       "config": {
        "plotlyServerURL": "https://plot.ly"
       },
       "data": [
        {
         "name": "Full",
         "type": "box",
         "x": [
          "LogisticRegression",
          "LogisticRegression",
          "LogisticRegression",
          "LogisticRegression",
          "LogisticRegression",
          "LogisticRegression",
          "LogisticRegression",
          "LogisticRegression",
          "LogisticRegression",
          "LogisticRegression",
          "LogisticRegression",
          "LogisticRegression",
          "LogisticRegression",
          "LogisticRegression",
          "LogisticRegression",
          "LogisticRegression",
          "LogisticRegression",
          "LogisticRegression",
          "LogisticRegression",
          "LogisticRegression",
          "SVC",
          "SVC",
          "SVC",
          "SVC",
          "SVC",
          "SVC",
          "SVC",
          "SVC",
          "SVC",
          "SVC",
          "SVC",
          "SVC",
          "SVC",
          "SVC",
          "SVC",
          "SVC",
          "SVC",
          "SVC",
          "SVC",
          "SVC",
          "RandomForestClassifier",
          "RandomForestClassifier",
          "RandomForestClassifier",
          "RandomForestClassifier",
          "RandomForestClassifier",
          "RandomForestClassifier",
          "RandomForestClassifier",
          "RandomForestClassifier",
          "RandomForestClassifier",
          "RandomForestClassifier",
          "RandomForestClassifier",
          "RandomForestClassifier",
          "RandomForestClassifier",
          "RandomForestClassifier",
          "RandomForestClassifier",
          "RandomForestClassifier",
          "RandomForestClassifier",
          "RandomForestClassifier",
          "RandomForestClassifier",
          "RandomForestClassifier",
          "GradientBoostingClassifier",
          "GradientBoostingClassifier",
          "GradientBoostingClassifier",
          "GradientBoostingClassifier",
          "GradientBoostingClassifier",
          "GradientBoostingClassifier",
          "GradientBoostingClassifier",
          "GradientBoostingClassifier",
          "GradientBoostingClassifier",
          "GradientBoostingClassifier",
          "GradientBoostingClassifier",
          "GradientBoostingClassifier",
          "GradientBoostingClassifier",
          "GradientBoostingClassifier",
          "GradientBoostingClassifier",
          "GradientBoostingClassifier",
          "GradientBoostingClassifier",
          "GradientBoostingClassifier",
          "GradientBoostingClassifier",
          "GradientBoostingClassifier",
          "DeepNeuralNetwork",
          "DeepNeuralNetwork",
          "DeepNeuralNetwork",
          "DeepNeuralNetwork",
          "DeepNeuralNetwork",
          "DeepNeuralNetwork",
          "DeepNeuralNetwork",
          "DeepNeuralNetwork",
          "DeepNeuralNetwork",
          "DeepNeuralNetwork",
          "DeepNeuralNetwork",
          "DeepNeuralNetwork",
          "DeepNeuralNetwork",
          "DeepNeuralNetwork",
          "DeepNeuralNetwork",
          "DeepNeuralNetwork",
          "DeepNeuralNetwork",
          "DeepNeuralNetwork",
          "DeepNeuralNetwork",
          "DeepNeuralNetwork"
         ],
         "y": [
          1.8385714698268554e-7,
          2.525606611035458e-7,
          4.6241661808173195e-7,
          3.41102354523351e-7,
          3.367318409655193e-7,
          5.760950288757893e-7,
          3.181699961673362e-7,
          4.439552120736462e-7,
          1.1252104609865698e-7,
          3.010961929896319e-7,
          1.1702981195845646e-7,
          1.426679214922705e-7,
          1.931538768876889e-7,
          3.971572125121768e-7,
          1.506984317828711e-7,
          1.750650617804439e-7,
          1.5503040878394464e-7,
          2.2493960380107206e-7,
          1.702843570343046e-7,
          1.15802203414124e-7,
          3.884546631235941e-7,
          7.886146526116244e-7,
          5.009108162840059e-7,
          3.997834164748068e-7,
          7.523273408650485e-7,
          5.046848678648061e-7,
          5.063640104996381e-7,
          0.000001110460721262703,
          6.092646991700743e-7,
          7.917603837247211e-7,
          5.645642051164274e-7,
          9.563452595317751e-7,
          8.064781385772393e-7,
          5.348111854893908e-7,
          3.551223306140147e-7,
          6.338039808670079e-7,
          7.73364072007704e-7,
          0.0000012881729968090491,
          5.725653375665898e-7,
          9.576494990918769e-7,
          0.0000033646552907856675,
          0.000004774578676160733,
          0.000003420252207087318,
          0.000004908002158660919,
          0.000003385332796679817,
          0.0000038075805308453855,
          0.0000038450797091183625,
          0.000003767853215760203,
          0.000003800776161155296,
          0.0000040463255084662725,
          0.000003573146275597308,
          0.000005124636929287538,
          0.000004567364943481277,
          0.000004184474304945104,
          0.000004582578617040069,
          0.000004393242687736332,
          0.000004701635968138579,
          0.000004377443431728689,
          0.000004653434821854166,
          0.000004620218005457755,
          0.00000238982705908072,
          0.000002263092590770732,
          0.000002272802827951899,
          0.000002224116656852036,
          0.0000030301240897187558,
          0.0000022949553312558504,
          0.000002501692714831916,
          0.000001924016357264871,
          0.0000018206634998952503,
          0.0000019019706662638451,
          0.000002241941122047529,
          0.000001956084472741308,
          0.0000018318104635754728,
          0.0000023340243826943177,
          0.000002378994348211337,
          0.000002450657570992644,
          0.0000023520613507002977,
          0.000001752050878102776,
          0.000001620907002814788,
          0.0000021269223733962755,
          0.00001220576817228397,
          0.000011970151543525594,
          0.000013605799158656652,
          0.000012446565612484525,
          0.000012373816488270208,
          0.000012579499518781349,
          0.000013826857195977597,
          0.000014177225660143547,
          0.000007901938352622428,
          0.000012554064947421263,
          0.00002068739985639076,
          0.00001840941551082068,
          0.000017234418895884646,
          0.00001664712289371241,
          0.00001533801447473667,
          0.0000160767160263804,
          0.000015977788524983508,
          0.000015890812214909653,
          0.000019565766721767276,
          0.00001834372439630432
         ]
        },
        {
         "name": "FR",
         "type": "box",
         "x": [
          "LogisticRegression",
          "LogisticRegression",
          "LogisticRegression",
          "LogisticRegression",
          "LogisticRegression",
          "LogisticRegression",
          "LogisticRegression",
          "LogisticRegression",
          "LogisticRegression",
          "LogisticRegression",
          "LogisticRegression",
          "LogisticRegression",
          "LogisticRegression",
          "LogisticRegression",
          "LogisticRegression",
          "LogisticRegression",
          "LogisticRegression",
          "LogisticRegression",
          "LogisticRegression",
          "LogisticRegression",
          "SVC",
          "SVC",
          "SVC",
          "SVC",
          "SVC",
          "SVC",
          "SVC",
          "SVC",
          "SVC",
          "SVC",
          "SVC",
          "SVC",
          "SVC",
          "SVC",
          "SVC",
          "SVC",
          "SVC",
          "SVC",
          "SVC",
          "SVC",
          "RandomForestClassifier",
          "RandomForestClassifier",
          "RandomForestClassifier",
          "RandomForestClassifier",
          "RandomForestClassifier",
          "RandomForestClassifier",
          "RandomForestClassifier",
          "RandomForestClassifier",
          "RandomForestClassifier",
          "RandomForestClassifier",
          "RandomForestClassifier",
          "RandomForestClassifier",
          "RandomForestClassifier",
          "RandomForestClassifier",
          "RandomForestClassifier",
          "RandomForestClassifier",
          "RandomForestClassifier",
          "RandomForestClassifier",
          "RandomForestClassifier",
          "RandomForestClassifier",
          "GradientBoostingClassifier",
          "GradientBoostingClassifier",
          "GradientBoostingClassifier",
          "GradientBoostingClassifier",
          "GradientBoostingClassifier",
          "GradientBoostingClassifier",
          "GradientBoostingClassifier",
          "GradientBoostingClassifier",
          "GradientBoostingClassifier",
          "GradientBoostingClassifier",
          "GradientBoostingClassifier",
          "GradientBoostingClassifier",
          "GradientBoostingClassifier",
          "GradientBoostingClassifier",
          "GradientBoostingClassifier",
          "GradientBoostingClassifier",
          "GradientBoostingClassifier",
          "GradientBoostingClassifier",
          "GradientBoostingClassifier",
          "GradientBoostingClassifier",
          "DeepNeuralNetwork",
          "DeepNeuralNetwork",
          "DeepNeuralNetwork",
          "DeepNeuralNetwork",
          "DeepNeuralNetwork",
          "DeepNeuralNetwork",
          "DeepNeuralNetwork",
          "DeepNeuralNetwork",
          "DeepNeuralNetwork",
          "DeepNeuralNetwork",
          "DeepNeuralNetwork",
          "DeepNeuralNetwork",
          "DeepNeuralNetwork",
          "DeepNeuralNetwork",
          "DeepNeuralNetwork",
          "DeepNeuralNetwork",
          "DeepNeuralNetwork",
          "DeepNeuralNetwork",
          "DeepNeuralNetwork",
          "DeepNeuralNetwork"
         ],
         "y": [
          1.6011494377490137e-7,
          1.1614046143380853e-7,
          1.0458676113610926e-7,
          2.527275395087375e-7,
          2.909421688091288e-7,
          2.1425840855335282e-7,
          1.741257680360972e-7,
          3.389448347754232e-7,
          3.889654016991581e-7,
          3.452145634491588e-7,
          1.6731365655529157e-7,
          5.200575336058652e-7,
          2.170296294380647e-7,
          2.8130078280706045e-7,
          1.3090412002373516e-7,
          4.58548330042885e-7,
          1.249146400518486e-7,
          3.4432638865676546e-7,
          6.886500833920561e-7,
          1.535212580394685e-7,
          5.996144905266038e-7,
          2.960161600510519e-7,
          6.825888846937259e-7,
          3.785465750852021e-7,
          0.000001121780199129889,
          4.485564361750294e-7,
          3.455691873870126e-7,
          6.149664262874305e-7,
          6.901742593198867e-7,
          6.903271200699862e-7,
          5.204889802472995e-7,
          0.0000010608206399845624,
          4.940548636242492e-7,
          0.0000011060456243496344,
          5.085116243112517e-7,
          2.690713124834862e-7,
          7.961538876699245e-7,
          5.630440202963882e-7,
          4.0802936383983756e-7,
          8.415703899701879e-7,
          0.000004118156435297012,
          0.0000043802617369368205,
          0.000004814142326134072,
          0.000003584252393449075,
          0.000004283792286434267,
          0.000004448912261036456,
          0.000003588552501545932,
          0.000003720514122403096,
          0.0000036915936775161126,
          0.0000036957604358763343,
          0.000003890637709711743,
          0.000004001008771061139,
          0.000004168990679059327,
          0.000004707305622071549,
          0.0000044404455080684566,
          0.000004282856782387642,
          0.0000042280832171243815,
          0.0000034605826412974564,
          0.000003972336085104715,
          0.000004101883145439869,
          0.000001942435532373624,
          0.000002152155118660161,
          0.0000027549741740658454,
          0.000002573694788580473,
          0.00000210054586934072,
          0.0000018546402939844176,
          0.0000018957532704842045,
          0.000002421783834968133,
          0.0000018212552196656543,
          0.0000020118716438045567,
          0.000002213857105074456,
          0.0000018831303163517265,
          0.000002326726411958774,
          0.000001866684080474232,
          0.000002051327224306121,
          0.0000017020556245823245,
          0.0000018035977477470072,
          0.000002397369910904328,
          0.000002221463073660314,
          0.000002119762716236602,
          0.00001753838593027265,
          0.000018015759411366388,
          0.000013636584549849094,
          0.00001546303182833799,
          0.00001803069001828951,
          0.000017332044393770455,
          0.000012936475535981536,
          0.000013154704402832968,
          0.000013262051709989151,
          0.00001318219584616441,
          0.000012521013635921532,
          0.000013766597485035533,
          0.000014942742655107977,
          0.000013681836089260088,
          0.000015499680988034607,
          0.000013652468376168427,
          0.00002108745138104098,
          0.000015356647006078278,
          0.000014389715188129709,
          0.000014349986089097835
         ]
        },
        {
         "name": "SS",
         "type": "box",
         "x": [
          "LogisticRegression",
          "LogisticRegression",
          "LogisticRegression",
          "LogisticRegression",
          "LogisticRegression",
          "LogisticRegression",
          "LogisticRegression",
          "LogisticRegression",
          "LogisticRegression",
          "LogisticRegression",
          "LogisticRegression",
          "LogisticRegression",
          "LogisticRegression",
          "LogisticRegression",
          "LogisticRegression",
          "LogisticRegression",
          "LogisticRegression",
          "LogisticRegression",
          "LogisticRegression",
          "LogisticRegression",
          "SVC",
          "SVC",
          "SVC",
          "SVC",
          "SVC",
          "SVC",
          "SVC",
          "SVC",
          "SVC",
          "SVC",
          "SVC",
          "SVC",
          "SVC",
          "SVC",
          "SVC",
          "SVC",
          "SVC",
          "SVC",
          "SVC",
          "SVC",
          "RandomForestClassifier",
          "RandomForestClassifier",
          "RandomForestClassifier",
          "RandomForestClassifier",
          "RandomForestClassifier",
          "RandomForestClassifier",
          "RandomForestClassifier",
          "RandomForestClassifier",
          "RandomForestClassifier",
          "RandomForestClassifier",
          "RandomForestClassifier",
          "RandomForestClassifier",
          "RandomForestClassifier",
          "RandomForestClassifier",
          "RandomForestClassifier",
          "RandomForestClassifier",
          "RandomForestClassifier",
          "RandomForestClassifier",
          "RandomForestClassifier",
          "RandomForestClassifier",
          "GradientBoostingClassifier",
          "GradientBoostingClassifier",
          "GradientBoostingClassifier",
          "GradientBoostingClassifier",
          "GradientBoostingClassifier",
          "GradientBoostingClassifier",
          "GradientBoostingClassifier",
          "GradientBoostingClassifier",
          "GradientBoostingClassifier",
          "GradientBoostingClassifier",
          "GradientBoostingClassifier",
          "GradientBoostingClassifier",
          "GradientBoostingClassifier",
          "GradientBoostingClassifier",
          "GradientBoostingClassifier",
          "GradientBoostingClassifier",
          "GradientBoostingClassifier",
          "GradientBoostingClassifier",
          "GradientBoostingClassifier",
          "GradientBoostingClassifier",
          "DeepNeuralNetwork",
          "DeepNeuralNetwork",
          "DeepNeuralNetwork",
          "DeepNeuralNetwork",
          "DeepNeuralNetwork",
          "DeepNeuralNetwork",
          "DeepNeuralNetwork",
          "DeepNeuralNetwork",
          "DeepNeuralNetwork",
          "DeepNeuralNetwork",
          "DeepNeuralNetwork",
          "DeepNeuralNetwork",
          "DeepNeuralNetwork",
          "DeepNeuralNetwork",
          "DeepNeuralNetwork",
          "DeepNeuralNetwork",
          "DeepNeuralNetwork",
          "DeepNeuralNetwork",
          "DeepNeuralNetwork",
          "DeepNeuralNetwork"
         ],
         "y": [
          4.108016762854189e-7,
          1.839373382087409e-7,
          2.739844512170131e-7,
          1.6001747238109792e-7,
          6.719974839459672e-7,
          2.390135954155604e-7,
          1.867247038612671e-7,
          3.184918137277837e-7,
          2.063955585824076e-7,
          1.1869075451469149e-7,
          5.4235709530219e-7,
          1.225165305708889e-7,
          2.543009112680045e-7,
          1.87212642823939e-7,
          4.324698247380049e-7,
          1.1637897607066905e-7,
          3.235732892780188e-7,
          1.3333043802268157e-7,
          1.5995797399484537e-7,
          1.595474203881092e-7,
          4.513802112013354e-7,
          0.0000011633011469096982,
          3.724793530314463e-7,
          6.61670387883985e-7,
          6.704482001839221e-7,
          6.188023585762537e-7,
          5.475018275925489e-7,
          7.82730939976467e-7,
          5.151670986920653e-7,
          3.068941791658717e-7,
          9.165960188819294e-7,
          5.133562733482255e-7,
          7.653361909212494e-7,
          4.550463824958343e-7,
          6.574172250559812e-7,
          5.730959434123092e-7,
          4.584277573755832e-7,
          5.529057618561609e-7,
          8.116119310412964e-7,
          2.882621417529471e-7,
          0.0000040354722553506,
          0.000004210511671261068,
          0.000004288768927080723,
          0.000003483903257723263,
          0.000004026049642832236,
          0.000003701695289047742,
          0.000003706164122084001,
          0.0000033548620925628182,
          0.000004201477734199106,
          0.000004443179438880229,
          0.000003709197642948192,
          0.000004138488719366076,
          0.0000034009495857127703,
          0.000004524370002020016,
          0.000004477457866576377,
          0.0000033526029649859693,
          0.000004250956221768347,
          0.0000034917793304460945,
          0.000004263072417095767,
          0.0000036330690121634535,
          0.0000017138892550319989,
          0.0000020961394617676973,
          0.000002148071043531728,
          0.000002058094127160154,
          0.000002678556464570485,
          0.000002133305267348374,
          0.0000017092948026422791,
          0.0000019330280296410776,
          0.0000018719160719644565,
          0.0000021471167906779096,
          0.0000026968579915024465,
          0.000002437591628076489,
          0.0000027829125961043727,
          0.000002331406037784506,
          0.0000022135902972833174,
          0.0000023345855002182905,
          0.000002692603975272892,
          0.00000236959234473956,
          0.0000020168516074014348,
          0.0000015800269274638889,
          0.0000139643669733896,
          0.000014989800612006788,
          0.00001540952334501541,
          0.0000139316733843561,
          0.000013082903855408685,
          0.00001317413444773671,
          0.000013513055239547465,
          0.000012735799229860942,
          0.00001327565174280218,
          0.000016826033808574163,
          0.000016070380885483716,
          0.000014309424359610062,
          0.0000161886176291569,
          0.000015600539030788917,
          0.000014413377560122068,
          0.000015102083935117448,
          0.000017054201328629837,
          0.00001583538375837584,
          0.000015653051197137696,
          0.00001668704013995043
         ]
        },
        {
         "name": "SS & FR",
         "type": "box",
         "x": [
          "LogisticRegression",
          "LogisticRegression",
          "LogisticRegression",
          "LogisticRegression",
          "LogisticRegression",
          "LogisticRegression",
          "LogisticRegression",
          "LogisticRegression",
          "LogisticRegression",
          "LogisticRegression",
          "LogisticRegression",
          "LogisticRegression",
          "LogisticRegression",
          "LogisticRegression",
          "LogisticRegression",
          "LogisticRegression",
          "LogisticRegression",
          "LogisticRegression",
          "LogisticRegression",
          "LogisticRegression",
          "SVC",
          "SVC",
          "SVC",
          "SVC",
          "SVC",
          "SVC",
          "SVC",
          "SVC",
          "SVC",
          "SVC",
          "SVC",
          "SVC",
          "SVC",
          "SVC",
          "SVC",
          "SVC",
          "SVC",
          "SVC",
          "SVC",
          "SVC",
          "RandomForestClassifier",
          "RandomForestClassifier",
          "RandomForestClassifier",
          "RandomForestClassifier",
          "RandomForestClassifier",
          "RandomForestClassifier",
          "RandomForestClassifier",
          "RandomForestClassifier",
          "RandomForestClassifier",
          "RandomForestClassifier",
          "RandomForestClassifier",
          "RandomForestClassifier",
          "RandomForestClassifier",
          "RandomForestClassifier",
          "RandomForestClassifier",
          "RandomForestClassifier",
          "RandomForestClassifier",
          "RandomForestClassifier",
          "RandomForestClassifier",
          "RandomForestClassifier",
          "GradientBoostingClassifier",
          "GradientBoostingClassifier",
          "GradientBoostingClassifier",
          "GradientBoostingClassifier",
          "GradientBoostingClassifier",
          "GradientBoostingClassifier",
          "GradientBoostingClassifier",
          "GradientBoostingClassifier",
          "GradientBoostingClassifier",
          "GradientBoostingClassifier",
          "GradientBoostingClassifier",
          "GradientBoostingClassifier",
          "GradientBoostingClassifier",
          "GradientBoostingClassifier",
          "GradientBoostingClassifier",
          "GradientBoostingClassifier",
          "GradientBoostingClassifier",
          "GradientBoostingClassifier",
          "GradientBoostingClassifier",
          "GradientBoostingClassifier",
          "DeepNeuralNetwork",
          "DeepNeuralNetwork",
          "DeepNeuralNetwork",
          "DeepNeuralNetwork",
          "DeepNeuralNetwork",
          "DeepNeuralNetwork",
          "DeepNeuralNetwork",
          "DeepNeuralNetwork",
          "DeepNeuralNetwork",
          "DeepNeuralNetwork",
          "DeepNeuralNetwork",
          "DeepNeuralNetwork",
          "DeepNeuralNetwork",
          "DeepNeuralNetwork",
          "DeepNeuralNetwork",
          "DeepNeuralNetwork",
          "DeepNeuralNetwork",
          "DeepNeuralNetwork",
          "DeepNeuralNetwork",
          "DeepNeuralNetwork"
         ],
         "y": [
          1.3392588552041398e-7,
          3.098870975364737e-7,
          2.3058587962816735e-7,
          1.2191643649749756e-7,
          1.3542656731885957e-7,
          1.2000848203380654e-7,
          2.0948439345084419e-7,
          3.9181979795410726e-7,
          2.098332239734713e-7,
          1.1264241132121629e-7,
          2.302428623104924e-7,
          3.8506884035820893e-7,
          3.571371918432639e-7,
          1.6231035003793498e-7,
          3.781657234181585e-7,
          2.7204828872886416e-7,
          1.458211987747857e-7,
          1.6896402333429345e-7,
          1.5607550163214412e-7,
          2.526739811149065e-7,
          5.34676221015766e-7,
          0.0000010016658733855502,
          4.730376651652241e-7,
          4.056868673271014e-7,
          8.003912093388146e-7,
          0.0000010246220558118857,
          7.181140565699906e-7,
          6.293654260204271e-7,
          5.293404341149069e-7,
          5.845932112506086e-7,
          2.8224141388009244e-7,
          6.716567627048156e-7,
          3.1001688613387784e-7,
          7.31662346572029e-7,
          3.437447516976833e-7,
          4.537958437286771e-7,
          8.142495916971595e-7,
          3.715341352185722e-7,
          8.612349392776719e-7,
          3.097226814871221e-7,
          0.000004795419888284878,
          0.000004154868142488589,
          0.0000034110060224508063,
          0.0000035148653911775893,
          0.000004143554150749448,
          0.000003925811500089457,
          0.000004041432145062557,
          0.000003763788128988664,
          0.000005287856063839261,
          0.000004342477692310248,
          0.000004016520197742436,
          0.000004602477996817726,
          0.000003951446687243052,
          0.0000034533943964239894,
          0.0000040697388611057525,
          0.000003860585741024755,
          0.0000034592181339812918,
          0.000004742103340066826,
          0.0000044787725506064205,
          0.000004339402881961205,
          0.0000022682652082830004,
          0.000001790173829578981,
          0.0000027179525480987288,
          0.000002274716757833667,
          0.0000016362454129314682,
          0.000001945741162918957,
          0.000002003533821633152,
          0.000002174850136003013,
          0.000001530165384598832,
          0.00000267669440811441,
          0.000002261383876271845,
          0.000002475465663269276,
          0.00000251802420624548,
          0.000002796656799778849,
          0.000002663857371043056,
          0.000002085442391079259,
          0.0000019417324625993493,
          0.0000021464183065696835,
          0.0000017535321072577326,
          0.000001978038811617684,
          0.00001687555219426597,
          0.00001627404525379782,
          0.00001664137937871157,
          0.00001669434101497563,
          0.000017343109247218002,
          0.000016730054714525835,
          0.00001818356748136199,
          0.00001838331860545047,
          0.000015428890373338916,
          0.00001816983168304032,
          0.00001969284584411651,
          0.000018559286766898445,
          0.000015896979917321818,
          0.000013582686654843492,
          0.0000142576456831499,
          0.000010956062718605384,
          0.000012061461062772004,
          0.000010870222599878264,
          0.000011996475170531625,
          0.00001198427854786797
         ]
        }
       ],
       "layout": {
        "boxmode": "group",
        "template": {
         "data": {
          "bar": [
           {
            "error_x": {
             "color": "#2a3f5f"
            },
            "error_y": {
             "color": "#2a3f5f"
            },
            "marker": {
             "line": {
              "color": "#E5ECF6",
              "width": 0.5
             },
             "pattern": {
              "fillmode": "overlay",
              "size": 10,
              "solidity": 0.2
             }
            },
            "type": "bar"
           }
          ],
          "barpolar": [
           {
            "marker": {
             "line": {
              "color": "#E5ECF6",
              "width": 0.5
             },
             "pattern": {
              "fillmode": "overlay",
              "size": 10,
              "solidity": 0.2
             }
            },
            "type": "barpolar"
           }
          ],
          "carpet": [
           {
            "aaxis": {
             "endlinecolor": "#2a3f5f",
             "gridcolor": "white",
             "linecolor": "white",
             "minorgridcolor": "white",
             "startlinecolor": "#2a3f5f"
            },
            "baxis": {
             "endlinecolor": "#2a3f5f",
             "gridcolor": "white",
             "linecolor": "white",
             "minorgridcolor": "white",
             "startlinecolor": "#2a3f5f"
            },
            "type": "carpet"
           }
          ],
          "choropleth": [
           {
            "colorbar": {
             "outlinewidth": 0,
             "ticks": ""
            },
            "type": "choropleth"
           }
          ],
          "contour": [
           {
            "colorbar": {
             "outlinewidth": 0,
             "ticks": ""
            },
            "colorscale": [
             [
              0,
              "#0d0887"
             ],
             [
              0.1111111111111111,
              "#46039f"
             ],
             [
              0.2222222222222222,
              "#7201a8"
             ],
             [
              0.3333333333333333,
              "#9c179e"
             ],
             [
              0.4444444444444444,
              "#bd3786"
             ],
             [
              0.5555555555555556,
              "#d8576b"
             ],
             [
              0.6666666666666666,
              "#ed7953"
             ],
             [
              0.7777777777777778,
              "#fb9f3a"
             ],
             [
              0.8888888888888888,
              "#fdca26"
             ],
             [
              1,
              "#f0f921"
             ]
            ],
            "type": "contour"
           }
          ],
          "contourcarpet": [
           {
            "colorbar": {
             "outlinewidth": 0,
             "ticks": ""
            },
            "type": "contourcarpet"
           }
          ],
          "heatmap": [
           {
            "colorbar": {
             "outlinewidth": 0,
             "ticks": ""
            },
            "colorscale": [
             [
              0,
              "#0d0887"
             ],
             [
              0.1111111111111111,
              "#46039f"
             ],
             [
              0.2222222222222222,
              "#7201a8"
             ],
             [
              0.3333333333333333,
              "#9c179e"
             ],
             [
              0.4444444444444444,
              "#bd3786"
             ],
             [
              0.5555555555555556,
              "#d8576b"
             ],
             [
              0.6666666666666666,
              "#ed7953"
             ],
             [
              0.7777777777777778,
              "#fb9f3a"
             ],
             [
              0.8888888888888888,
              "#fdca26"
             ],
             [
              1,
              "#f0f921"
             ]
            ],
            "type": "heatmap"
           }
          ],
          "heatmapgl": [
           {
            "colorbar": {
             "outlinewidth": 0,
             "ticks": ""
            },
            "colorscale": [
             [
              0,
              "#0d0887"
             ],
             [
              0.1111111111111111,
              "#46039f"
             ],
             [
              0.2222222222222222,
              "#7201a8"
             ],
             [
              0.3333333333333333,
              "#9c179e"
             ],
             [
              0.4444444444444444,
              "#bd3786"
             ],
             [
              0.5555555555555556,
              "#d8576b"
             ],
             [
              0.6666666666666666,
              "#ed7953"
             ],
             [
              0.7777777777777778,
              "#fb9f3a"
             ],
             [
              0.8888888888888888,
              "#fdca26"
             ],
             [
              1,
              "#f0f921"
             ]
            ],
            "type": "heatmapgl"
           }
          ],
          "histogram": [
           {
            "marker": {
             "pattern": {
              "fillmode": "overlay",
              "size": 10,
              "solidity": 0.2
             }
            },
            "type": "histogram"
           }
          ],
          "histogram2d": [
           {
            "colorbar": {
             "outlinewidth": 0,
             "ticks": ""
            },
            "colorscale": [
             [
              0,
              "#0d0887"
             ],
             [
              0.1111111111111111,
              "#46039f"
             ],
             [
              0.2222222222222222,
              "#7201a8"
             ],
             [
              0.3333333333333333,
              "#9c179e"
             ],
             [
              0.4444444444444444,
              "#bd3786"
             ],
             [
              0.5555555555555556,
              "#d8576b"
             ],
             [
              0.6666666666666666,
              "#ed7953"
             ],
             [
              0.7777777777777778,
              "#fb9f3a"
             ],
             [
              0.8888888888888888,
              "#fdca26"
             ],
             [
              1,
              "#f0f921"
             ]
            ],
            "type": "histogram2d"
           }
          ],
          "histogram2dcontour": [
           {
            "colorbar": {
             "outlinewidth": 0,
             "ticks": ""
            },
            "colorscale": [
             [
              0,
              "#0d0887"
             ],
             [
              0.1111111111111111,
              "#46039f"
             ],
             [
              0.2222222222222222,
              "#7201a8"
             ],
             [
              0.3333333333333333,
              "#9c179e"
             ],
             [
              0.4444444444444444,
              "#bd3786"
             ],
             [
              0.5555555555555556,
              "#d8576b"
             ],
             [
              0.6666666666666666,
              "#ed7953"
             ],
             [
              0.7777777777777778,
              "#fb9f3a"
             ],
             [
              0.8888888888888888,
              "#fdca26"
             ],
             [
              1,
              "#f0f921"
             ]
            ],
            "type": "histogram2dcontour"
           }
          ],
          "mesh3d": [
           {
            "colorbar": {
             "outlinewidth": 0,
             "ticks": ""
            },
            "type": "mesh3d"
           }
          ],
          "parcoords": [
           {
            "line": {
             "colorbar": {
              "outlinewidth": 0,
              "ticks": ""
             }
            },
            "type": "parcoords"
           }
          ],
          "pie": [
           {
            "automargin": true,
            "type": "pie"
           }
          ],
          "scatter": [
           {
            "fillpattern": {
             "fillmode": "overlay",
             "size": 10,
             "solidity": 0.2
            },
            "type": "scatter"
           }
          ],
          "scatter3d": [
           {
            "line": {
             "colorbar": {
              "outlinewidth": 0,
              "ticks": ""
             }
            },
            "marker": {
             "colorbar": {
              "outlinewidth": 0,
              "ticks": ""
             }
            },
            "type": "scatter3d"
           }
          ],
          "scattercarpet": [
           {
            "marker": {
             "colorbar": {
              "outlinewidth": 0,
              "ticks": ""
             }
            },
            "type": "scattercarpet"
           }
          ],
          "scattergeo": [
           {
            "marker": {
             "colorbar": {
              "outlinewidth": 0,
              "ticks": ""
             }
            },
            "type": "scattergeo"
           }
          ],
          "scattergl": [
           {
            "marker": {
             "colorbar": {
              "outlinewidth": 0,
              "ticks": ""
             }
            },
            "type": "scattergl"
           }
          ],
          "scattermapbox": [
           {
            "marker": {
             "colorbar": {
              "outlinewidth": 0,
              "ticks": ""
             }
            },
            "type": "scattermapbox"
           }
          ],
          "scatterpolar": [
           {
            "marker": {
             "colorbar": {
              "outlinewidth": 0,
              "ticks": ""
             }
            },
            "type": "scatterpolar"
           }
          ],
          "scatterpolargl": [
           {
            "marker": {
             "colorbar": {
              "outlinewidth": 0,
              "ticks": ""
             }
            },
            "type": "scatterpolargl"
           }
          ],
          "scatterternary": [
           {
            "marker": {
             "colorbar": {
              "outlinewidth": 0,
              "ticks": ""
             }
            },
            "type": "scatterternary"
           }
          ],
          "surface": [
           {
            "colorbar": {
             "outlinewidth": 0,
             "ticks": ""
            },
            "colorscale": [
             [
              0,
              "#0d0887"
             ],
             [
              0.1111111111111111,
              "#46039f"
             ],
             [
              0.2222222222222222,
              "#7201a8"
             ],
             [
              0.3333333333333333,
              "#9c179e"
             ],
             [
              0.4444444444444444,
              "#bd3786"
             ],
             [
              0.5555555555555556,
              "#d8576b"
             ],
             [
              0.6666666666666666,
              "#ed7953"
             ],
             [
              0.7777777777777778,
              "#fb9f3a"
             ],
             [
              0.8888888888888888,
              "#fdca26"
             ],
             [
              1,
              "#f0f921"
             ]
            ],
            "type": "surface"
           }
          ],
          "table": [
           {
            "cells": {
             "fill": {
              "color": "#EBF0F8"
             },
             "line": {
              "color": "white"
             }
            },
            "header": {
             "fill": {
              "color": "#C8D4E3"
             },
             "line": {
              "color": "white"
             }
            },
            "type": "table"
           }
          ]
         },
         "layout": {
          "annotationdefaults": {
           "arrowcolor": "#2a3f5f",
           "arrowhead": 0,
           "arrowwidth": 1
          },
          "autotypenumbers": "strict",
          "coloraxis": {
           "colorbar": {
            "outlinewidth": 0,
            "ticks": ""
           }
          },
          "colorscale": {
           "diverging": [
            [
             0,
             "#8e0152"
            ],
            [
             0.1,
             "#c51b7d"
            ],
            [
             0.2,
             "#de77ae"
            ],
            [
             0.3,
             "#f1b6da"
            ],
            [
             0.4,
             "#fde0ef"
            ],
            [
             0.5,
             "#f7f7f7"
            ],
            [
             0.6,
             "#e6f5d0"
            ],
            [
             0.7,
             "#b8e186"
            ],
            [
             0.8,
             "#7fbc41"
            ],
            [
             0.9,
             "#4d9221"
            ],
            [
             1,
             "#276419"
            ]
           ],
           "sequential": [
            [
             0,
             "#0d0887"
            ],
            [
             0.1111111111111111,
             "#46039f"
            ],
            [
             0.2222222222222222,
             "#7201a8"
            ],
            [
             0.3333333333333333,
             "#9c179e"
            ],
            [
             0.4444444444444444,
             "#bd3786"
            ],
            [
             0.5555555555555556,
             "#d8576b"
            ],
            [
             0.6666666666666666,
             "#ed7953"
            ],
            [
             0.7777777777777778,
             "#fb9f3a"
            ],
            [
             0.8888888888888888,
             "#fdca26"
            ],
            [
             1,
             "#f0f921"
            ]
           ],
           "sequentialminus": [
            [
             0,
             "#0d0887"
            ],
            [
             0.1111111111111111,
             "#46039f"
            ],
            [
             0.2222222222222222,
             "#7201a8"
            ],
            [
             0.3333333333333333,
             "#9c179e"
            ],
            [
             0.4444444444444444,
             "#bd3786"
            ],
            [
             0.5555555555555556,
             "#d8576b"
            ],
            [
             0.6666666666666666,
             "#ed7953"
            ],
            [
             0.7777777777777778,
             "#fb9f3a"
            ],
            [
             0.8888888888888888,
             "#fdca26"
            ],
            [
             1,
             "#f0f921"
            ]
           ]
          },
          "colorway": [
           "#636efa",
           "#EF553B",
           "#00cc96",
           "#ab63fa",
           "#FFA15A",
           "#19d3f3",
           "#FF6692",
           "#B6E880",
           "#FF97FF",
           "#FECB52"
          ],
          "font": {
           "color": "#2a3f5f"
          },
          "geo": {
           "bgcolor": "white",
           "lakecolor": "white",
           "landcolor": "#E5ECF6",
           "showlakes": true,
           "showland": true,
           "subunitcolor": "white"
          },
          "hoverlabel": {
           "align": "left"
          },
          "hovermode": "closest",
          "mapbox": {
           "style": "light"
          },
          "paper_bgcolor": "white",
          "plot_bgcolor": "#E5ECF6",
          "polar": {
           "angularaxis": {
            "gridcolor": "white",
            "linecolor": "white",
            "ticks": ""
           },
           "bgcolor": "#E5ECF6",
           "radialaxis": {
            "gridcolor": "white",
            "linecolor": "white",
            "ticks": ""
           }
          },
          "scene": {
           "xaxis": {
            "backgroundcolor": "#E5ECF6",
            "gridcolor": "white",
            "gridwidth": 2,
            "linecolor": "white",
            "showbackground": true,
            "ticks": "",
            "zerolinecolor": "white"
           },
           "yaxis": {
            "backgroundcolor": "#E5ECF6",
            "gridcolor": "white",
            "gridwidth": 2,
            "linecolor": "white",
            "showbackground": true,
            "ticks": "",
            "zerolinecolor": "white"
           },
           "zaxis": {
            "backgroundcolor": "#E5ECF6",
            "gridcolor": "white",
            "gridwidth": 2,
            "linecolor": "white",
            "showbackground": true,
            "ticks": "",
            "zerolinecolor": "white"
           }
          },
          "shapedefaults": {
           "line": {
            "color": "#2a3f5f"
           }
          },
          "ternary": {
           "aaxis": {
            "gridcolor": "white",
            "linecolor": "white",
            "ticks": ""
           },
           "baxis": {
            "gridcolor": "white",
            "linecolor": "white",
            "ticks": ""
           },
           "bgcolor": "#E5ECF6",
           "caxis": {
            "gridcolor": "white",
            "linecolor": "white",
            "ticks": ""
           }
          },
          "title": {
           "x": 0.05
          },
          "xaxis": {
           "automargin": true,
           "gridcolor": "white",
           "linecolor": "white",
           "ticks": "",
           "title": {
            "standoff": 15
           },
           "zerolinecolor": "white",
           "zerolinewidth": 2
          },
          "yaxis": {
           "automargin": true,
           "gridcolor": "white",
           "linecolor": "white",
           "ticks": "",
           "title": {
            "standoff": 15
           },
           "zerolinecolor": "white",
           "zerolinewidth": 2
          }
         }
        },
        "title": {
         "text": "emissions_train"
        },
        "yaxis": {
         "title": {
          "text": "emissions_train"
         }
        }
       }
      }
     },
     "metadata": {},
     "output_type": "display_data"
    },
    {
     "data": {
      "application/vnd.plotly.v1+json": {
       "config": {
        "plotlyServerURL": "https://plot.ly"
       },
       "data": [
        {
         "name": "Full",
         "type": "box",
         "x": [
          "LogisticRegression",
          "LogisticRegression",
          "LogisticRegression",
          "LogisticRegression",
          "LogisticRegression",
          "LogisticRegression",
          "LogisticRegression",
          "LogisticRegression",
          "LogisticRegression",
          "LogisticRegression",
          "LogisticRegression",
          "LogisticRegression",
          "LogisticRegression",
          "LogisticRegression",
          "LogisticRegression",
          "LogisticRegression",
          "LogisticRegression",
          "LogisticRegression",
          "LogisticRegression",
          "LogisticRegression",
          "SVC",
          "SVC",
          "SVC",
          "SVC",
          "SVC",
          "SVC",
          "SVC",
          "SVC",
          "SVC",
          "SVC",
          "SVC",
          "SVC",
          "SVC",
          "SVC",
          "SVC",
          "SVC",
          "SVC",
          "SVC",
          "SVC",
          "SVC",
          "RandomForestClassifier",
          "RandomForestClassifier",
          "RandomForestClassifier",
          "RandomForestClassifier",
          "RandomForestClassifier",
          "RandomForestClassifier",
          "RandomForestClassifier",
          "RandomForestClassifier",
          "RandomForestClassifier",
          "RandomForestClassifier",
          "RandomForestClassifier",
          "RandomForestClassifier",
          "RandomForestClassifier",
          "RandomForestClassifier",
          "RandomForestClassifier",
          "RandomForestClassifier",
          "RandomForestClassifier",
          "RandomForestClassifier",
          "RandomForestClassifier",
          "RandomForestClassifier",
          "GradientBoostingClassifier",
          "GradientBoostingClassifier",
          "GradientBoostingClassifier",
          "GradientBoostingClassifier",
          "GradientBoostingClassifier",
          "GradientBoostingClassifier",
          "GradientBoostingClassifier",
          "GradientBoostingClassifier",
          "GradientBoostingClassifier",
          "GradientBoostingClassifier",
          "GradientBoostingClassifier",
          "GradientBoostingClassifier",
          "GradientBoostingClassifier",
          "GradientBoostingClassifier",
          "GradientBoostingClassifier",
          "GradientBoostingClassifier",
          "GradientBoostingClassifier",
          "GradientBoostingClassifier",
          "GradientBoostingClassifier",
          "GradientBoostingClassifier",
          "DeepNeuralNetwork",
          "DeepNeuralNetwork",
          "DeepNeuralNetwork",
          "DeepNeuralNetwork",
          "DeepNeuralNetwork",
          "DeepNeuralNetwork",
          "DeepNeuralNetwork",
          "DeepNeuralNetwork",
          "DeepNeuralNetwork",
          "DeepNeuralNetwork",
          "DeepNeuralNetwork",
          "DeepNeuralNetwork",
          "DeepNeuralNetwork",
          "DeepNeuralNetwork",
          "DeepNeuralNetwork",
          "DeepNeuralNetwork",
          "DeepNeuralNetwork",
          "DeepNeuralNetwork",
          "DeepNeuralNetwork",
          "DeepNeuralNetwork"
         ],
         "y": [
          2.001166136949423e-7,
          8.365437517525444e-8,
          5.297375907506105e-7,
          8.596638593951629e-8,
          3.067119677445732e-7,
          5.373814272761554e-7,
          1.4943764144355334e-7,
          3.335029523862665e-7,
          3.8211977597922553e-7,
          3.3615441237880295e-7,
          2.881601084301841e-7,
          9.188965537608452e-8,
          8.578599117702036e-8,
          1.191539709816114e-7,
          1.0585901579363705e-7,
          1.2614074940478506e-7,
          9.070778710269789e-8,
          2.2686724961921287e-7,
          1.3622975223327033e-7,
          8.716087413363632e-8,
          0.0000015564963642342169,
          0.000001197171898279989,
          0.0000011758449196732496,
          0.0000013531296660807685,
          0.0000011712291825014334,
          0.0000012950206617077034,
          0.0000012272531665557735,
          7.076890712366668e-7,
          0.0000017595062825909865,
          8.249606908254659e-7,
          0.0000012748835557518934,
          7.574958311440394e-7,
          0.0000011846761376931372,
          9.944844460169772e-7,
          0.0000010718784625241354,
          0.0000010490083044122078,
          0.000001294311504577983,
          0.000001015025620418157,
          0.0000016620119570962685,
          8.888728750058861e-7,
          7.414367287801593e-7,
          6.671884898463293e-7,
          7.196059197247043e-7,
          2.7121282817569453e-7,
          5.061147866757681e-7,
          5.695046891157629e-7,
          5.545063936065672e-7,
          3.498366723435689e-7,
          4.307692542627681e-7,
          6.954946772325457e-7,
          0.0000010493183118746169,
          5.267343453924794e-7,
          0.0000010051867878838744,
          7.560850174516062e-7,
          2.805530386253835e-7,
          6.172998268331314e-7,
          5.099434543381909e-7,
          7.211592603162745e-7,
          2.711035250414426e-7,
          5.830098165175712e-7,
          1.0186266623506829e-7,
          9.659934047893255e-8,
          1.1292123281662209e-7,
          1.570410194063829e-7,
          1.1725091804762333e-7,
          1.881033141193367e-7,
          1.220198663645991e-7,
          1.3768398616012536e-7,
          3.845483348245693e-7,
          9.687198766240857e-8,
          1.0792151917526221e-7,
          1.0867711008367976e-7,
          1.805396272524032e-7,
          9.393895098169097e-8,
          1.438176553654816e-7,
          1.0750859463174585e-7,
          1.1968481288936877e-7,
          2.33792885321292e-7,
          2.556027756785498e-7,
          9.21440199011872e-8,
          0.0000012296095367996668,
          0.000001222607065371438,
          0.000001608268659912624,
          0.0000011897670281466911,
          0.0000011759972872787611,
          0.0000016007859037002296,
          7.063342023520477e-7,
          0.000002797146692502025,
          7.560923863808577e-7,
          0.00000154410273017205,
          0.000001447280585868682,
          0.0000034771072461746086,
          0.0000014628263585694974,
          0.000001574146421325865,
          0.0000028479316385439206,
          0.000001842143924020868,
          0.0000018455344048687664,
          0.0000018472977375860213,
          0.000002098124106220383,
          0.0000021446633772870607
         ]
        },
        {
         "name": "FR",
         "type": "box",
         "x": [
          "LogisticRegression",
          "LogisticRegression",
          "LogisticRegression",
          "LogisticRegression",
          "LogisticRegression",
          "LogisticRegression",
          "LogisticRegression",
          "LogisticRegression",
          "LogisticRegression",
          "LogisticRegression",
          "LogisticRegression",
          "LogisticRegression",
          "LogisticRegression",
          "LogisticRegression",
          "LogisticRegression",
          "LogisticRegression",
          "LogisticRegression",
          "LogisticRegression",
          "LogisticRegression",
          "LogisticRegression",
          "SVC",
          "SVC",
          "SVC",
          "SVC",
          "SVC",
          "SVC",
          "SVC",
          "SVC",
          "SVC",
          "SVC",
          "SVC",
          "SVC",
          "SVC",
          "SVC",
          "SVC",
          "SVC",
          "SVC",
          "SVC",
          "SVC",
          "SVC",
          "RandomForestClassifier",
          "RandomForestClassifier",
          "RandomForestClassifier",
          "RandomForestClassifier",
          "RandomForestClassifier",
          "RandomForestClassifier",
          "RandomForestClassifier",
          "RandomForestClassifier",
          "RandomForestClassifier",
          "RandomForestClassifier",
          "RandomForestClassifier",
          "RandomForestClassifier",
          "RandomForestClassifier",
          "RandomForestClassifier",
          "RandomForestClassifier",
          "RandomForestClassifier",
          "RandomForestClassifier",
          "RandomForestClassifier",
          "RandomForestClassifier",
          "RandomForestClassifier",
          "GradientBoostingClassifier",
          "GradientBoostingClassifier",
          "GradientBoostingClassifier",
          "GradientBoostingClassifier",
          "GradientBoostingClassifier",
          "GradientBoostingClassifier",
          "GradientBoostingClassifier",
          "GradientBoostingClassifier",
          "GradientBoostingClassifier",
          "GradientBoostingClassifier",
          "GradientBoostingClassifier",
          "GradientBoostingClassifier",
          "GradientBoostingClassifier",
          "GradientBoostingClassifier",
          "GradientBoostingClassifier",
          "GradientBoostingClassifier",
          "GradientBoostingClassifier",
          "GradientBoostingClassifier",
          "GradientBoostingClassifier",
          "GradientBoostingClassifier",
          "DeepNeuralNetwork",
          "DeepNeuralNetwork",
          "DeepNeuralNetwork",
          "DeepNeuralNetwork",
          "DeepNeuralNetwork",
          "DeepNeuralNetwork",
          "DeepNeuralNetwork",
          "DeepNeuralNetwork",
          "DeepNeuralNetwork",
          "DeepNeuralNetwork",
          "DeepNeuralNetwork",
          "DeepNeuralNetwork",
          "DeepNeuralNetwork",
          "DeepNeuralNetwork",
          "DeepNeuralNetwork",
          "DeepNeuralNetwork",
          "DeepNeuralNetwork",
          "DeepNeuralNetwork",
          "DeepNeuralNetwork",
          "DeepNeuralNetwork"
         ],
         "y": [
          1.0349135903028189e-7,
          9.705306418771042e-8,
          1.386274574655469e-7,
          2.3246084677238518e-7,
          4.0862583007821723e-7,
          2.684153124913116e-7,
          1.512438130880922e-7,
          3.384666789211025e-7,
          4.071425243638502e-7,
          2.3680970237961038e-7,
          9.62246373666445e-8,
          9.950408797441969e-8,
          3.708892370567901e-7,
          7.62094888558454e-8,
          1.0239726533876893e-7,
          4.5541961200996905e-7,
          1.5215488292572021e-7,
          1.0188635417903574e-7,
          2.480698998424264e-7,
          9.228429295477653e-8,
          0.0000012291431153868895,
          8.646884106181668e-7,
          7.138134977859034e-7,
          0.0000015630358332560657,
          8.709799167424051e-7,
          0.0000012246335840526007,
          0.000001169202255115083,
          0.0000011630762016719145,
          6.230987147073583e-7,
          7.285566070817928e-7,
          9.852137634047686e-7,
          7.218718740863508e-7,
          0.0000014121476244310233,
          8.791429376075674e-7,
          0.0000012534889411944944,
          7.094217062669078e-7,
          5.767274791693144e-7,
          0.000001645999167418713,
          0.000001314885772512285,
          0.0000014178797760064712,
          6.959717207145194e-7,
          8.471789793807957e-7,
          3.652316379297582e-7,
          4.372693560780738e-7,
          7.11650669282804e-7,
          2.61221883263163e-7,
          6.650316335477316e-7,
          4.740634542681893e-7,
          3.7665933526071643e-7,
          4.763472642426575e-7,
          3.484880459767373e-7,
          5.013628974186862e-7,
          0.0000010523887469856411,
          2.68505499552256e-7,
          2.731025541937229e-7,
          0.000001180078060791269,
          4.943260574737443e-7,
          8.333901012000378e-7,
          4.396233773051525e-7,
          4.165139276743335e-7,
          2.522361411986737e-7,
          1.1759646028047105e-7,
          9.768491939475544e-8,
          9.563081451464257e-8,
          9.75091714048096e-8,
          9.251682799547857e-8,
          9.57606676984038e-8,
          1.0863643852988133e-7,
          1.0504709326356054e-7,
          8.841252765751789e-8,
          1.5180045771345102e-7,
          9.472218164864601e-8,
          1.1198071361157025e-7,
          1.0844455256616565e-7,
          9.657423763204805e-8,
          1.0526957104368269e-7,
          9.899709777459743e-8,
          9.245734322507054e-8,
          1.0505225413702525e-7,
          9.079818226714192e-8,
          0.000002377671205817944,
          0.0000018458369701024845,
          0.0000018629440786295528,
          0.0000022483284806396574,
          0.00000245078490918732,
          0.0000015961184882634476,
          0.0000018513560698474145,
          0.000002237933792971318,
          0.0000012931753154972296,
          0.0000017168826871257791,
          0.000002544258224687016,
          0.0000018025828988381047,
          0.0000017909850862688446,
          0.0000015443230108841237,
          0.0000018006700554960497,
          0.0000021551138144094983,
          0.0000019192160212060973,
          0.000002567238223912145,
          0.000002087105815238091,
          0.0000016592670978761437
         ]
        },
        {
         "name": "SS",
         "type": "box",
         "x": [
          "LogisticRegression",
          "LogisticRegression",
          "LogisticRegression",
          "LogisticRegression",
          "LogisticRegression",
          "LogisticRegression",
          "LogisticRegression",
          "LogisticRegression",
          "LogisticRegression",
          "LogisticRegression",
          "LogisticRegression",
          "LogisticRegression",
          "LogisticRegression",
          "LogisticRegression",
          "LogisticRegression",
          "LogisticRegression",
          "LogisticRegression",
          "LogisticRegression",
          "LogisticRegression",
          "LogisticRegression",
          "SVC",
          "SVC",
          "SVC",
          "SVC",
          "SVC",
          "SVC",
          "SVC",
          "SVC",
          "SVC",
          "SVC",
          "SVC",
          "SVC",
          "SVC",
          "SVC",
          "SVC",
          "SVC",
          "SVC",
          "SVC",
          "SVC",
          "SVC",
          "RandomForestClassifier",
          "RandomForestClassifier",
          "RandomForestClassifier",
          "RandomForestClassifier",
          "RandomForestClassifier",
          "RandomForestClassifier",
          "RandomForestClassifier",
          "RandomForestClassifier",
          "RandomForestClassifier",
          "RandomForestClassifier",
          "RandomForestClassifier",
          "RandomForestClassifier",
          "RandomForestClassifier",
          "RandomForestClassifier",
          "RandomForestClassifier",
          "RandomForestClassifier",
          "RandomForestClassifier",
          "RandomForestClassifier",
          "RandomForestClassifier",
          "RandomForestClassifier",
          "GradientBoostingClassifier",
          "GradientBoostingClassifier",
          "GradientBoostingClassifier",
          "GradientBoostingClassifier",
          "GradientBoostingClassifier",
          "GradientBoostingClassifier",
          "GradientBoostingClassifier",
          "GradientBoostingClassifier",
          "GradientBoostingClassifier",
          "GradientBoostingClassifier",
          "GradientBoostingClassifier",
          "GradientBoostingClassifier",
          "GradientBoostingClassifier",
          "GradientBoostingClassifier",
          "GradientBoostingClassifier",
          "GradientBoostingClassifier",
          "GradientBoostingClassifier",
          "GradientBoostingClassifier",
          "GradientBoostingClassifier",
          "GradientBoostingClassifier",
          "DeepNeuralNetwork",
          "DeepNeuralNetwork",
          "DeepNeuralNetwork",
          "DeepNeuralNetwork",
          "DeepNeuralNetwork",
          "DeepNeuralNetwork",
          "DeepNeuralNetwork",
          "DeepNeuralNetwork",
          "DeepNeuralNetwork",
          "DeepNeuralNetwork",
          "DeepNeuralNetwork",
          "DeepNeuralNetwork",
          "DeepNeuralNetwork",
          "DeepNeuralNetwork",
          "DeepNeuralNetwork",
          "DeepNeuralNetwork",
          "DeepNeuralNetwork",
          "DeepNeuralNetwork",
          "DeepNeuralNetwork",
          "DeepNeuralNetwork"
         ],
         "y": [
          1.5267991911819406e-7,
          8.230701186318774e-8,
          3.295478904720081e-7,
          1.981323654058273e-7,
          2.92678518577956e-7,
          1.408965493911868e-7,
          2.994083060838676e-7,
          1.2474662161848088e-7,
          1.0104433679526681e-7,
          7.685461951827817e-8,
          2.2031298460654242e-7,
          1.1485741932808909e-7,
          2.455640424050762e-7,
          4.1259469666255627e-7,
          4.245101232220466e-7,
          7.895172383486777e-8,
          1.408349230794942e-7,
          2.482181947639079e-7,
          2.036485807063379e-7,
          7.575691740764613e-8,
          0.0000011235988193929528,
          7.815793851805031e-7,
          9.553558189528272e-7,
          9.889017223716282e-7,
          9.324523492556386e-7,
          0.0000010891262840293653,
          0.0000010111046300134011,
          9.705000415909104e-7,
          6.051741880674921e-7,
          0.00000154996936508299,
          0.0000011638175407046106,
          9.089942747458544e-7,
          8.689593959864891e-7,
          9.503382935680676e-7,
          0.0000012071185833770898,
          7.287130432609076e-7,
          9.404355239481244e-7,
          0.0000014036785076967234,
          7.574459582283463e-7,
          0.0000010301754413254843,
          7.020033638950943e-7,
          5.55510543603227e-7,
          3.501134495558292e-7,
          0.0000010956456089946526,
          5.598191509708153e-7,
          4.826441967874934e-7,
          6.496049327888928e-7,
          6.319711371976372e-7,
          4.328882493385283e-7,
          6.106570855880442e-7,
          7.435322036198136e-7,
          7.507938030500844e-7,
          3.654913154670439e-7,
          8.076399148964838e-7,
          5.422428312057415e-7,
          5.801655262151553e-7,
          2.637554209145368e-7,
          4.896311725987798e-7,
          6.174258935188678e-7,
          5.260092798813759e-7,
          2.0023071802596082e-7,
          1.0810283494148283e-7,
          1.006777273103096e-7,
          1.214428123055486e-7,
          1.2247715006855758e-7,
          9.707138230122953e-8,
          1.071373565333239e-7,
          1.5061498233239629e-7,
          1.0948452741632587e-7,
          1.2815579183197284e-7,
          1.672866274992149e-7,
          1.2009722432683445e-7,
          1.6129584173678324e-7,
          1.0833611150794925e-7,
          1.0442904721345848e-7,
          1.131320117222362e-7,
          1.2886106590288826e-7,
          1.153564227664855e-7,
          9.842265972278413e-8,
          1.206399380540915e-7,
          0.00000224946147784396,
          0.000001550659579822953,
          0.000001975010550408184,
          0.000001985243048652739,
          0.0000017266317620472614,
          0.0000012717542008317331,
          0.0000020740681359377768,
          0.0000015318266477614556,
          0.0000017968917050844267,
          0.000001971070809904732,
          0.0000017482119780113,
          0.000001472187267199769,
          0.0000015745051373783868,
          0.000002023798265894227,
          0.0000015653476133918771,
          0.0000017351341822318363,
          0.000001889517009243287,
          0.000002096409157030781,
          0.00000164654330214644,
          0.0000030360688885603185
         ]
        },
        {
         "name": "SS & FR",
         "type": "box",
         "x": [
          "LogisticRegression",
          "LogisticRegression",
          "LogisticRegression",
          "LogisticRegression",
          "LogisticRegression",
          "LogisticRegression",
          "LogisticRegression",
          "LogisticRegression",
          "LogisticRegression",
          "LogisticRegression",
          "LogisticRegression",
          "LogisticRegression",
          "LogisticRegression",
          "LogisticRegression",
          "LogisticRegression",
          "LogisticRegression",
          "LogisticRegression",
          "LogisticRegression",
          "LogisticRegression",
          "LogisticRegression",
          "SVC",
          "SVC",
          "SVC",
          "SVC",
          "SVC",
          "SVC",
          "SVC",
          "SVC",
          "SVC",
          "SVC",
          "SVC",
          "SVC",
          "SVC",
          "SVC",
          "SVC",
          "SVC",
          "SVC",
          "SVC",
          "SVC",
          "SVC",
          "RandomForestClassifier",
          "RandomForestClassifier",
          "RandomForestClassifier",
          "RandomForestClassifier",
          "RandomForestClassifier",
          "RandomForestClassifier",
          "RandomForestClassifier",
          "RandomForestClassifier",
          "RandomForestClassifier",
          "RandomForestClassifier",
          "RandomForestClassifier",
          "RandomForestClassifier",
          "RandomForestClassifier",
          "RandomForestClassifier",
          "RandomForestClassifier",
          "RandomForestClassifier",
          "RandomForestClassifier",
          "RandomForestClassifier",
          "RandomForestClassifier",
          "RandomForestClassifier",
          "GradientBoostingClassifier",
          "GradientBoostingClassifier",
          "GradientBoostingClassifier",
          "GradientBoostingClassifier",
          "GradientBoostingClassifier",
          "GradientBoostingClassifier",
          "GradientBoostingClassifier",
          "GradientBoostingClassifier",
          "GradientBoostingClassifier",
          "GradientBoostingClassifier",
          "GradientBoostingClassifier",
          "GradientBoostingClassifier",
          "GradientBoostingClassifier",
          "GradientBoostingClassifier",
          "GradientBoostingClassifier",
          "GradientBoostingClassifier",
          "GradientBoostingClassifier",
          "GradientBoostingClassifier",
          "GradientBoostingClassifier",
          "GradientBoostingClassifier",
          "DeepNeuralNetwork",
          "DeepNeuralNetwork",
          "DeepNeuralNetwork",
          "DeepNeuralNetwork",
          "DeepNeuralNetwork",
          "DeepNeuralNetwork",
          "DeepNeuralNetwork",
          "DeepNeuralNetwork",
          "DeepNeuralNetwork",
          "DeepNeuralNetwork",
          "DeepNeuralNetwork",
          "DeepNeuralNetwork",
          "DeepNeuralNetwork",
          "DeepNeuralNetwork",
          "DeepNeuralNetwork",
          "DeepNeuralNetwork",
          "DeepNeuralNetwork",
          "DeepNeuralNetwork",
          "DeepNeuralNetwork",
          "DeepNeuralNetwork"
         ],
         "y": [
          2.639764317448335e-7,
          8.323045433671766e-8,
          1.5953439414049394e-7,
          4.161670645822652e-7,
          1.3738907236361678e-7,
          2.4300924874199464e-7,
          4.100223948864598e-7,
          9.21296765257415e-8,
          1.1037679373878535e-7,
          4.167865535016288e-7,
          2.5715189526983456e-7,
          1.47489666934425e-7,
          8.52274493427091e-8,
          8.658339480105416e-8,
          1.820768963742975e-7,
          2.1505345544278745e-7,
          1.1759479486873893e-7,
          2.022866050985228e-7,
          8.082082891130994e-8,
          2.1145933867469657e-7,
          0.0000011699657742657646,
          0.0000010145447416004883,
          8.932271463001074e-7,
          0.0000011764076664989506,
          0.0000012024174674309107,
          0.0000010089549010283,
          9.53194502373994e-7,
          0.00000100028949756234,
          0.0000012570470619630014,
          7.971520681751901e-7,
          0.0000010100168239849869,
          9.160428625790488e-7,
          0.0000011926967370817776,
          6.89159919058796e-7,
          9.933338247763296e-7,
          0.0000010823524524885414,
          9.637600559640053e-7,
          0.0000018272697001383423,
          8.012767729881354e-7,
          0.0000010749905373060378,
          3.189917467637249e-7,
          5.56857988391786e-7,
          5.560262279968517e-7,
          5.438973466106306e-7,
          3.8261503193613017e-7,
          2.548965021735919e-7,
          5.840999983547368e-7,
          6.507532622889584e-7,
          2.893417692679396e-7,
          2.991553866875038e-7,
          0.000001105568296308826,
          5.888376618922581e-7,
          4.917088117844734e-7,
          4.132962530311105e-7,
          4.0626953015134026e-7,
          5.081325787715044e-7,
          6.831707608069906e-7,
          7.387063309148914e-7,
          9.29318459122995e-7,
          4.181902066692847e-7,
          1.2002583927184926e-7,
          1.2876395582249456e-7,
          1.0851949158903473e-7,
          8.806461556428585e-8,
          9.816968973321016e-8,
          1.139392072774248e-7,
          9.458700919642157e-8,
          8.754153891891991e-8,
          8.733829481768347e-8,
          1.3358758932120046e-7,
          1.0446097405050064e-7,
          1.398535175159074e-7,
          1.1271077284946003e-7,
          1.0182171821231797e-7,
          1.0176588469829052e-7,
          1.145288663255764e-7,
          9.11929692081273e-8,
          1.9727961061456745e-7,
          9.523546040408198e-8,
          1.0567209143136359e-7,
          0.0000015944501559612791,
          0.000001631056249397269,
          0.0000019826459554763733,
          0.000002061476355161729,
          0.000003599054861206253,
          0.000009598564015975836,
          0.0000022447237041454265,
          0.000002812578036802057,
          0.000002883872580861698,
          0.000001708670325565459,
          0.0000016663939952131848,
          0.000001912981101320592,
          0.0000018738607585706488,
          0.0000012721881662205309,
          0.0000020638276431732445,
          0.000001793508173251676,
          0.0000017226249657770543,
          0.0000016804193756644011,
          0.0000017759142216691552,
          0.0000012255764607468564
         ]
        }
       ],
       "layout": {
        "boxmode": "group",
        "template": {
         "data": {
          "bar": [
           {
            "error_x": {
             "color": "#2a3f5f"
            },
            "error_y": {
             "color": "#2a3f5f"
            },
            "marker": {
             "line": {
              "color": "#E5ECF6",
              "width": 0.5
             },
             "pattern": {
              "fillmode": "overlay",
              "size": 10,
              "solidity": 0.2
             }
            },
            "type": "bar"
           }
          ],
          "barpolar": [
           {
            "marker": {
             "line": {
              "color": "#E5ECF6",
              "width": 0.5
             },
             "pattern": {
              "fillmode": "overlay",
              "size": 10,
              "solidity": 0.2
             }
            },
            "type": "barpolar"
           }
          ],
          "carpet": [
           {
            "aaxis": {
             "endlinecolor": "#2a3f5f",
             "gridcolor": "white",
             "linecolor": "white",
             "minorgridcolor": "white",
             "startlinecolor": "#2a3f5f"
            },
            "baxis": {
             "endlinecolor": "#2a3f5f",
             "gridcolor": "white",
             "linecolor": "white",
             "minorgridcolor": "white",
             "startlinecolor": "#2a3f5f"
            },
            "type": "carpet"
           }
          ],
          "choropleth": [
           {
            "colorbar": {
             "outlinewidth": 0,
             "ticks": ""
            },
            "type": "choropleth"
           }
          ],
          "contour": [
           {
            "colorbar": {
             "outlinewidth": 0,
             "ticks": ""
            },
            "colorscale": [
             [
              0,
              "#0d0887"
             ],
             [
              0.1111111111111111,
              "#46039f"
             ],
             [
              0.2222222222222222,
              "#7201a8"
             ],
             [
              0.3333333333333333,
              "#9c179e"
             ],
             [
              0.4444444444444444,
              "#bd3786"
             ],
             [
              0.5555555555555556,
              "#d8576b"
             ],
             [
              0.6666666666666666,
              "#ed7953"
             ],
             [
              0.7777777777777778,
              "#fb9f3a"
             ],
             [
              0.8888888888888888,
              "#fdca26"
             ],
             [
              1,
              "#f0f921"
             ]
            ],
            "type": "contour"
           }
          ],
          "contourcarpet": [
           {
            "colorbar": {
             "outlinewidth": 0,
             "ticks": ""
            },
            "type": "contourcarpet"
           }
          ],
          "heatmap": [
           {
            "colorbar": {
             "outlinewidth": 0,
             "ticks": ""
            },
            "colorscale": [
             [
              0,
              "#0d0887"
             ],
             [
              0.1111111111111111,
              "#46039f"
             ],
             [
              0.2222222222222222,
              "#7201a8"
             ],
             [
              0.3333333333333333,
              "#9c179e"
             ],
             [
              0.4444444444444444,
              "#bd3786"
             ],
             [
              0.5555555555555556,
              "#d8576b"
             ],
             [
              0.6666666666666666,
              "#ed7953"
             ],
             [
              0.7777777777777778,
              "#fb9f3a"
             ],
             [
              0.8888888888888888,
              "#fdca26"
             ],
             [
              1,
              "#f0f921"
             ]
            ],
            "type": "heatmap"
           }
          ],
          "heatmapgl": [
           {
            "colorbar": {
             "outlinewidth": 0,
             "ticks": ""
            },
            "colorscale": [
             [
              0,
              "#0d0887"
             ],
             [
              0.1111111111111111,
              "#46039f"
             ],
             [
              0.2222222222222222,
              "#7201a8"
             ],
             [
              0.3333333333333333,
              "#9c179e"
             ],
             [
              0.4444444444444444,
              "#bd3786"
             ],
             [
              0.5555555555555556,
              "#d8576b"
             ],
             [
              0.6666666666666666,
              "#ed7953"
             ],
             [
              0.7777777777777778,
              "#fb9f3a"
             ],
             [
              0.8888888888888888,
              "#fdca26"
             ],
             [
              1,
              "#f0f921"
             ]
            ],
            "type": "heatmapgl"
           }
          ],
          "histogram": [
           {
            "marker": {
             "pattern": {
              "fillmode": "overlay",
              "size": 10,
              "solidity": 0.2
             }
            },
            "type": "histogram"
           }
          ],
          "histogram2d": [
           {
            "colorbar": {
             "outlinewidth": 0,
             "ticks": ""
            },
            "colorscale": [
             [
              0,
              "#0d0887"
             ],
             [
              0.1111111111111111,
              "#46039f"
             ],
             [
              0.2222222222222222,
              "#7201a8"
             ],
             [
              0.3333333333333333,
              "#9c179e"
             ],
             [
              0.4444444444444444,
              "#bd3786"
             ],
             [
              0.5555555555555556,
              "#d8576b"
             ],
             [
              0.6666666666666666,
              "#ed7953"
             ],
             [
              0.7777777777777778,
              "#fb9f3a"
             ],
             [
              0.8888888888888888,
              "#fdca26"
             ],
             [
              1,
              "#f0f921"
             ]
            ],
            "type": "histogram2d"
           }
          ],
          "histogram2dcontour": [
           {
            "colorbar": {
             "outlinewidth": 0,
             "ticks": ""
            },
            "colorscale": [
             [
              0,
              "#0d0887"
             ],
             [
              0.1111111111111111,
              "#46039f"
             ],
             [
              0.2222222222222222,
              "#7201a8"
             ],
             [
              0.3333333333333333,
              "#9c179e"
             ],
             [
              0.4444444444444444,
              "#bd3786"
             ],
             [
              0.5555555555555556,
              "#d8576b"
             ],
             [
              0.6666666666666666,
              "#ed7953"
             ],
             [
              0.7777777777777778,
              "#fb9f3a"
             ],
             [
              0.8888888888888888,
              "#fdca26"
             ],
             [
              1,
              "#f0f921"
             ]
            ],
            "type": "histogram2dcontour"
           }
          ],
          "mesh3d": [
           {
            "colorbar": {
             "outlinewidth": 0,
             "ticks": ""
            },
            "type": "mesh3d"
           }
          ],
          "parcoords": [
           {
            "line": {
             "colorbar": {
              "outlinewidth": 0,
              "ticks": ""
             }
            },
            "type": "parcoords"
           }
          ],
          "pie": [
           {
            "automargin": true,
            "type": "pie"
           }
          ],
          "scatter": [
           {
            "fillpattern": {
             "fillmode": "overlay",
             "size": 10,
             "solidity": 0.2
            },
            "type": "scatter"
           }
          ],
          "scatter3d": [
           {
            "line": {
             "colorbar": {
              "outlinewidth": 0,
              "ticks": ""
             }
            },
            "marker": {
             "colorbar": {
              "outlinewidth": 0,
              "ticks": ""
             }
            },
            "type": "scatter3d"
           }
          ],
          "scattercarpet": [
           {
            "marker": {
             "colorbar": {
              "outlinewidth": 0,
              "ticks": ""
             }
            },
            "type": "scattercarpet"
           }
          ],
          "scattergeo": [
           {
            "marker": {
             "colorbar": {
              "outlinewidth": 0,
              "ticks": ""
             }
            },
            "type": "scattergeo"
           }
          ],
          "scattergl": [
           {
            "marker": {
             "colorbar": {
              "outlinewidth": 0,
              "ticks": ""
             }
            },
            "type": "scattergl"
           }
          ],
          "scattermapbox": [
           {
            "marker": {
             "colorbar": {
              "outlinewidth": 0,
              "ticks": ""
             }
            },
            "type": "scattermapbox"
           }
          ],
          "scatterpolar": [
           {
            "marker": {
             "colorbar": {
              "outlinewidth": 0,
              "ticks": ""
             }
            },
            "type": "scatterpolar"
           }
          ],
          "scatterpolargl": [
           {
            "marker": {
             "colorbar": {
              "outlinewidth": 0,
              "ticks": ""
             }
            },
            "type": "scatterpolargl"
           }
          ],
          "scatterternary": [
           {
            "marker": {
             "colorbar": {
              "outlinewidth": 0,
              "ticks": ""
             }
            },
            "type": "scatterternary"
           }
          ],
          "surface": [
           {
            "colorbar": {
             "outlinewidth": 0,
             "ticks": ""
            },
            "colorscale": [
             [
              0,
              "#0d0887"
             ],
             [
              0.1111111111111111,
              "#46039f"
             ],
             [
              0.2222222222222222,
              "#7201a8"
             ],
             [
              0.3333333333333333,
              "#9c179e"
             ],
             [
              0.4444444444444444,
              "#bd3786"
             ],
             [
              0.5555555555555556,
              "#d8576b"
             ],
             [
              0.6666666666666666,
              "#ed7953"
             ],
             [
              0.7777777777777778,
              "#fb9f3a"
             ],
             [
              0.8888888888888888,
              "#fdca26"
             ],
             [
              1,
              "#f0f921"
             ]
            ],
            "type": "surface"
           }
          ],
          "table": [
           {
            "cells": {
             "fill": {
              "color": "#EBF0F8"
             },
             "line": {
              "color": "white"
             }
            },
            "header": {
             "fill": {
              "color": "#C8D4E3"
             },
             "line": {
              "color": "white"
             }
            },
            "type": "table"
           }
          ]
         },
         "layout": {
          "annotationdefaults": {
           "arrowcolor": "#2a3f5f",
           "arrowhead": 0,
           "arrowwidth": 1
          },
          "autotypenumbers": "strict",
          "coloraxis": {
           "colorbar": {
            "outlinewidth": 0,
            "ticks": ""
           }
          },
          "colorscale": {
           "diverging": [
            [
             0,
             "#8e0152"
            ],
            [
             0.1,
             "#c51b7d"
            ],
            [
             0.2,
             "#de77ae"
            ],
            [
             0.3,
             "#f1b6da"
            ],
            [
             0.4,
             "#fde0ef"
            ],
            [
             0.5,
             "#f7f7f7"
            ],
            [
             0.6,
             "#e6f5d0"
            ],
            [
             0.7,
             "#b8e186"
            ],
            [
             0.8,
             "#7fbc41"
            ],
            [
             0.9,
             "#4d9221"
            ],
            [
             1,
             "#276419"
            ]
           ],
           "sequential": [
            [
             0,
             "#0d0887"
            ],
            [
             0.1111111111111111,
             "#46039f"
            ],
            [
             0.2222222222222222,
             "#7201a8"
            ],
            [
             0.3333333333333333,
             "#9c179e"
            ],
            [
             0.4444444444444444,
             "#bd3786"
            ],
            [
             0.5555555555555556,
             "#d8576b"
            ],
            [
             0.6666666666666666,
             "#ed7953"
            ],
            [
             0.7777777777777778,
             "#fb9f3a"
            ],
            [
             0.8888888888888888,
             "#fdca26"
            ],
            [
             1,
             "#f0f921"
            ]
           ],
           "sequentialminus": [
            [
             0,
             "#0d0887"
            ],
            [
             0.1111111111111111,
             "#46039f"
            ],
            [
             0.2222222222222222,
             "#7201a8"
            ],
            [
             0.3333333333333333,
             "#9c179e"
            ],
            [
             0.4444444444444444,
             "#bd3786"
            ],
            [
             0.5555555555555556,
             "#d8576b"
            ],
            [
             0.6666666666666666,
             "#ed7953"
            ],
            [
             0.7777777777777778,
             "#fb9f3a"
            ],
            [
             0.8888888888888888,
             "#fdca26"
            ],
            [
             1,
             "#f0f921"
            ]
           ]
          },
          "colorway": [
           "#636efa",
           "#EF553B",
           "#00cc96",
           "#ab63fa",
           "#FFA15A",
           "#19d3f3",
           "#FF6692",
           "#B6E880",
           "#FF97FF",
           "#FECB52"
          ],
          "font": {
           "color": "#2a3f5f"
          },
          "geo": {
           "bgcolor": "white",
           "lakecolor": "white",
           "landcolor": "#E5ECF6",
           "showlakes": true,
           "showland": true,
           "subunitcolor": "white"
          },
          "hoverlabel": {
           "align": "left"
          },
          "hovermode": "closest",
          "mapbox": {
           "style": "light"
          },
          "paper_bgcolor": "white",
          "plot_bgcolor": "#E5ECF6",
          "polar": {
           "angularaxis": {
            "gridcolor": "white",
            "linecolor": "white",
            "ticks": ""
           },
           "bgcolor": "#E5ECF6",
           "radialaxis": {
            "gridcolor": "white",
            "linecolor": "white",
            "ticks": ""
           }
          },
          "scene": {
           "xaxis": {
            "backgroundcolor": "#E5ECF6",
            "gridcolor": "white",
            "gridwidth": 2,
            "linecolor": "white",
            "showbackground": true,
            "ticks": "",
            "zerolinecolor": "white"
           },
           "yaxis": {
            "backgroundcolor": "#E5ECF6",
            "gridcolor": "white",
            "gridwidth": 2,
            "linecolor": "white",
            "showbackground": true,
            "ticks": "",
            "zerolinecolor": "white"
           },
           "zaxis": {
            "backgroundcolor": "#E5ECF6",
            "gridcolor": "white",
            "gridwidth": 2,
            "linecolor": "white",
            "showbackground": true,
            "ticks": "",
            "zerolinecolor": "white"
           }
          },
          "shapedefaults": {
           "line": {
            "color": "#2a3f5f"
           }
          },
          "ternary": {
           "aaxis": {
            "gridcolor": "white",
            "linecolor": "white",
            "ticks": ""
           },
           "baxis": {
            "gridcolor": "white",
            "linecolor": "white",
            "ticks": ""
           },
           "bgcolor": "#E5ECF6",
           "caxis": {
            "gridcolor": "white",
            "linecolor": "white",
            "ticks": ""
           }
          },
          "title": {
           "x": 0.05
          },
          "xaxis": {
           "automargin": true,
           "gridcolor": "white",
           "linecolor": "white",
           "ticks": "",
           "title": {
            "standoff": 15
           },
           "zerolinecolor": "white",
           "zerolinewidth": 2
          },
          "yaxis": {
           "automargin": true,
           "gridcolor": "white",
           "linecolor": "white",
           "ticks": "",
           "title": {
            "standoff": 15
           },
           "zerolinecolor": "white",
           "zerolinewidth": 2
          }
         }
        },
        "title": {
         "text": "emissions_pred"
        },
        "yaxis": {
         "title": {
          "text": "emissions_pred"
         }
        }
       }
      }
     },
     "metadata": {},
     "output_type": "display_data"
    }
   ],
   "source": [
    "make_plots('emissions_prep')\n",
    "make_plots('emissions_train')\n",
    "make_plots('emissions_pred')"
   ]
  },
  {
   "cell_type": "markdown",
   "metadata": {},
   "source": [
    "# Combined measures"
   ]
  },
  {
   "cell_type": "code",
   "execution_count": 9,
   "metadata": {},
   "outputs": [
    {
     "data": {
      "application/vnd.plotly.v1+json": {
       "config": {
        "plotlyServerURL": "https://plot.ly"
       },
       "data": [
        {
         "name": "Full",
         "type": "box",
         "x": [
          "LogisticRegression",
          "LogisticRegression",
          "LogisticRegression",
          "LogisticRegression",
          "LogisticRegression",
          "LogisticRegression",
          "LogisticRegression",
          "LogisticRegression",
          "LogisticRegression",
          "LogisticRegression",
          "LogisticRegression",
          "LogisticRegression",
          "LogisticRegression",
          "LogisticRegression",
          "LogisticRegression",
          "LogisticRegression",
          "LogisticRegression",
          "LogisticRegression",
          "LogisticRegression",
          "LogisticRegression",
          "SVC",
          "SVC",
          "SVC",
          "SVC",
          "SVC",
          "SVC",
          "SVC",
          "SVC",
          "SVC",
          "SVC",
          "SVC",
          "SVC",
          "SVC",
          "SVC",
          "SVC",
          "SVC",
          "SVC",
          "SVC",
          "SVC",
          "SVC",
          "RandomForestClassifier",
          "RandomForestClassifier",
          "RandomForestClassifier",
          "RandomForestClassifier",
          "RandomForestClassifier",
          "RandomForestClassifier",
          "RandomForestClassifier",
          "RandomForestClassifier",
          "RandomForestClassifier",
          "RandomForestClassifier",
          "RandomForestClassifier",
          "RandomForestClassifier",
          "RandomForestClassifier",
          "RandomForestClassifier",
          "RandomForestClassifier",
          "RandomForestClassifier",
          "RandomForestClassifier",
          "RandomForestClassifier",
          "RandomForestClassifier",
          "RandomForestClassifier",
          "GradientBoostingClassifier",
          "GradientBoostingClassifier",
          "GradientBoostingClassifier",
          "GradientBoostingClassifier",
          "GradientBoostingClassifier",
          "GradientBoostingClassifier",
          "GradientBoostingClassifier",
          "GradientBoostingClassifier",
          "GradientBoostingClassifier",
          "GradientBoostingClassifier",
          "GradientBoostingClassifier",
          "GradientBoostingClassifier",
          "GradientBoostingClassifier",
          "GradientBoostingClassifier",
          "GradientBoostingClassifier",
          "GradientBoostingClassifier",
          "GradientBoostingClassifier",
          "GradientBoostingClassifier",
          "GradientBoostingClassifier",
          "GradientBoostingClassifier",
          "DeepNeuralNetwork",
          "DeepNeuralNetwork",
          "DeepNeuralNetwork",
          "DeepNeuralNetwork",
          "DeepNeuralNetwork",
          "DeepNeuralNetwork",
          "DeepNeuralNetwork",
          "DeepNeuralNetwork",
          "DeepNeuralNetwork",
          "DeepNeuralNetwork",
          "DeepNeuralNetwork",
          "DeepNeuralNetwork",
          "DeepNeuralNetwork",
          "DeepNeuralNetwork",
          "DeepNeuralNetwork",
          "DeepNeuralNetwork",
          "DeepNeuralNetwork",
          "DeepNeuralNetwork",
          "DeepNeuralNetwork",
          "DeepNeuralNetwork"
         ],
         "y": [
          0.2918834686279296,
          0.3930909633636473,
          0.4781413078308104,
          0.334419012069702,
          0.40023660659790034,
          0.4799349308013915,
          0.38401198387145985,
          0.3575875759124755,
          0.3155226707458495,
          0.2520415782928465,
          0.4614267349243163,
          0.3233819007873533,
          0.2904286384582518,
          0.3614172935485839,
          0.24417448043823228,
          0.33127760887145974,
          0.3426458835601806,
          0.3579206466674803,
          0.3091771602630614,
          0.1864035129547118,
          0.7232604026794432,
          0.5597534179687499,
          0.5438759326934813,
          0.5070877075195311,
          0.4952640533447265,
          0.6218388080596922,
          0.6390149593353271,
          0.49695444107055653,
          0.82879900932312,
          0.4321694374084471,
          0.5693888664245604,
          0.4289591312408446,
          0.5513205528259277,
          0.5451891422271729,
          0.680065631866455,
          0.4632580280303954,
          0.5900511741638184,
          0.5668406486511228,
          0.7382552623748779,
          0.5503320693969724,
          1.1017096042633057,
          1.265650749206543,
          1.027897834777832,
          1.2006430625915527,
          1.0340337753295898,
          1.1189165115356445,
          1.0809006690979004,
          1.0075533390045164,
          1.0572459697723389,
          1.1434414386749268,
          1.1301283836364746,
          1.2308168411254883,
          1.3683366775512695,
          1.1294801235198975,
          1.2094128131866455,
          1.239053726196289,
          1.2730755805969238,
          1.4648098945617676,
          1.1132235527038574,
          1.265199899673462,
          0.5962877273559569,
          0.7102062702178955,
          0.6892082691192626,
          0.7317383289337157,
          0.9117791652679442,
          0.688697576522827,
          0.7086198329925536,
          0.6844656467437743,
          0.6625874042510984,
          0.5975141525268555,
          0.6708412170410156,
          0.6389694213867186,
          0.6841416358947754,
          0.7666654586791992,
          0.7907760143280028,
          0.7121663093566895,
          0.731424570083618,
          0.6050703525543211,
          0.5335986614227294,
          0.5496630668640136,
          2.86418604850769,
          2.8524632453918457,
          3.254132509231568,
          2.9226529598236084,
          2.9722728729248047,
          3.104989528656006,
          3.297146797180176,
          3.642068147659302,
          1.9127697944641113,
          3.0433716773986816,
          4.721426486968994,
          4.639773845672607,
          4.271406412124634,
          3.9488580226898193,
          3.925781488418579,
          3.7952816486358643,
          3.854058265686035,
          3.7916722297668457,
          4.687633514404297,
          4.566640853881836
         ]
        },
        {
         "name": "FR",
         "type": "box",
         "x": [
          "LogisticRegression",
          "LogisticRegression",
          "LogisticRegression",
          "LogisticRegression",
          "LogisticRegression",
          "LogisticRegression",
          "LogisticRegression",
          "LogisticRegression",
          "LogisticRegression",
          "LogisticRegression",
          "LogisticRegression",
          "LogisticRegression",
          "LogisticRegression",
          "LogisticRegression",
          "LogisticRegression",
          "LogisticRegression",
          "LogisticRegression",
          "LogisticRegression",
          "LogisticRegression",
          "LogisticRegression",
          "SVC",
          "SVC",
          "SVC",
          "SVC",
          "SVC",
          "SVC",
          "SVC",
          "SVC",
          "SVC",
          "SVC",
          "SVC",
          "SVC",
          "SVC",
          "SVC",
          "SVC",
          "SVC",
          "SVC",
          "SVC",
          "SVC",
          "SVC",
          "RandomForestClassifier",
          "RandomForestClassifier",
          "RandomForestClassifier",
          "RandomForestClassifier",
          "RandomForestClassifier",
          "RandomForestClassifier",
          "RandomForestClassifier",
          "RandomForestClassifier",
          "RandomForestClassifier",
          "RandomForestClassifier",
          "RandomForestClassifier",
          "RandomForestClassifier",
          "RandomForestClassifier",
          "RandomForestClassifier",
          "RandomForestClassifier",
          "RandomForestClassifier",
          "RandomForestClassifier",
          "RandomForestClassifier",
          "RandomForestClassifier",
          "RandomForestClassifier",
          "GradientBoostingClassifier",
          "GradientBoostingClassifier",
          "GradientBoostingClassifier",
          "GradientBoostingClassifier",
          "GradientBoostingClassifier",
          "GradientBoostingClassifier",
          "GradientBoostingClassifier",
          "GradientBoostingClassifier",
          "GradientBoostingClassifier",
          "GradientBoostingClassifier",
          "GradientBoostingClassifier",
          "GradientBoostingClassifier",
          "GradientBoostingClassifier",
          "GradientBoostingClassifier",
          "GradientBoostingClassifier",
          "GradientBoostingClassifier",
          "GradientBoostingClassifier",
          "GradientBoostingClassifier",
          "GradientBoostingClassifier",
          "GradientBoostingClassifier",
          "DeepNeuralNetwork",
          "DeepNeuralNetwork",
          "DeepNeuralNetwork",
          "DeepNeuralNetwork",
          "DeepNeuralNetwork",
          "DeepNeuralNetwork",
          "DeepNeuralNetwork",
          "DeepNeuralNetwork",
          "DeepNeuralNetwork",
          "DeepNeuralNetwork",
          "DeepNeuralNetwork",
          "DeepNeuralNetwork",
          "DeepNeuralNetwork",
          "DeepNeuralNetwork",
          "DeepNeuralNetwork",
          "DeepNeuralNetwork",
          "DeepNeuralNetwork",
          "DeepNeuralNetwork",
          "DeepNeuralNetwork",
          "DeepNeuralNetwork"
         ],
         "y": [
          0.2290074825286864,
          0.3221304416656493,
          0.2811982631683348,
          0.3469014167785643,
          0.2317428588867186,
          0.35545039176940896,
          0.2418088912963866,
          0.5487713813781737,
          0.3243734836578368,
          0.41544508934020985,
          0.305514335632324,
          0.5097405910491942,
          0.35349512100219715,
          0.3187611103057859,
          0.31634688377380354,
          0.3314518928527831,
          0.2528717517852781,
          0.3433871269226073,
          0.43660473823547347,
          0.25814032554626437,
          0.660985231399536,
          0.5702064037322996,
          0.39760994911193825,
          0.5861663818359374,
          0.5043106079101561,
          0.5042998790740965,
          0.5364940166473386,
          0.4625322818756103,
          0.41187787055969227,
          0.4304759502410888,
          0.5675909519195554,
          0.4806325435638428,
          0.7318437099456786,
          0.5429756641387937,
          0.5217106342315673,
          0.4281456470489501,
          0.4010233879089355,
          0.689786672592163,
          0.5170867443084715,
          0.7177443504333495,
          1.28275728225708,
          1.2104840278625488,
          1.231008529663086,
          1.0690805912017822,
          1.179349660873413,
          1.1623079776763916,
          1.128608226776123,
          1.01214599609375,
          0.9578914642333983,
          1.0785229206085205,
          1.0829224586486816,
          1.1475837230682373,
          1.2236456871032715,
          1.1444439888000486,
          1.2654130458831787,
          1.4183695316314697,
          1.0570411682128904,
          1.0928504467010496,
          1.0822415351867676,
          1.1304686069488525,
          0.5683658123016356,
          0.57332968711853,
          0.7926521301269531,
          0.6848471164703369,
          0.6741778850555419,
          0.6208987236022948,
          0.5195853710174559,
          0.6354243755340575,
          0.5853638648986814,
          0.6823163032531738,
          0.6475713253021238,
          0.6278133392333984,
          0.635223388671875,
          0.6060013771057129,
          0.7017650604248047,
          0.4983997344970702,
          0.5404655933380125,
          0.7038743495941161,
          0.6695752143859862,
          0.6430332660675049,
          4.309979438781738,
          4.276333570480347,
          3.3696110248565674,
          3.833706855773926,
          4.394543409347534,
          4.120746612548828,
          3.1997542381286626,
          3.439026355743408,
          3.192963838577271,
          3.263023853302002,
          3.393171548843384,
          3.3686957359313965,
          3.605078935623169,
          3.448945999145508,
          3.743021726608276,
          3.7461841106414795,
          4.942524194717407,
          3.8723599910736084,
          3.614563226699829,
          3.652308940887451
         ]
        },
        {
         "name": "SS",
         "type": "box",
         "x": [
          "LogisticRegression",
          "LogisticRegression",
          "LogisticRegression",
          "LogisticRegression",
          "LogisticRegression",
          "LogisticRegression",
          "LogisticRegression",
          "LogisticRegression",
          "LogisticRegression",
          "LogisticRegression",
          "LogisticRegression",
          "LogisticRegression",
          "LogisticRegression",
          "LogisticRegression",
          "LogisticRegression",
          "LogisticRegression",
          "LogisticRegression",
          "LogisticRegression",
          "LogisticRegression",
          "LogisticRegression",
          "SVC",
          "SVC",
          "SVC",
          "SVC",
          "SVC",
          "SVC",
          "SVC",
          "SVC",
          "SVC",
          "SVC",
          "SVC",
          "SVC",
          "SVC",
          "SVC",
          "SVC",
          "SVC",
          "SVC",
          "SVC",
          "SVC",
          "SVC",
          "RandomForestClassifier",
          "RandomForestClassifier",
          "RandomForestClassifier",
          "RandomForestClassifier",
          "RandomForestClassifier",
          "RandomForestClassifier",
          "RandomForestClassifier",
          "RandomForestClassifier",
          "RandomForestClassifier",
          "RandomForestClassifier",
          "RandomForestClassifier",
          "RandomForestClassifier",
          "RandomForestClassifier",
          "RandomForestClassifier",
          "RandomForestClassifier",
          "RandomForestClassifier",
          "RandomForestClassifier",
          "RandomForestClassifier",
          "RandomForestClassifier",
          "RandomForestClassifier",
          "GradientBoostingClassifier",
          "GradientBoostingClassifier",
          "GradientBoostingClassifier",
          "GradientBoostingClassifier",
          "GradientBoostingClassifier",
          "GradientBoostingClassifier",
          "GradientBoostingClassifier",
          "GradientBoostingClassifier",
          "GradientBoostingClassifier",
          "GradientBoostingClassifier",
          "GradientBoostingClassifier",
          "GradientBoostingClassifier",
          "GradientBoostingClassifier",
          "GradientBoostingClassifier",
          "GradientBoostingClassifier",
          "GradientBoostingClassifier",
          "GradientBoostingClassifier",
          "GradientBoostingClassifier",
          "GradientBoostingClassifier",
          "GradientBoostingClassifier",
          "DeepNeuralNetwork",
          "DeepNeuralNetwork",
          "DeepNeuralNetwork",
          "DeepNeuralNetwork",
          "DeepNeuralNetwork",
          "DeepNeuralNetwork",
          "DeepNeuralNetwork",
          "DeepNeuralNetwork",
          "DeepNeuralNetwork",
          "DeepNeuralNetwork",
          "DeepNeuralNetwork",
          "DeepNeuralNetwork",
          "DeepNeuralNetwork",
          "DeepNeuralNetwork",
          "DeepNeuralNetwork",
          "DeepNeuralNetwork",
          "DeepNeuralNetwork",
          "DeepNeuralNetwork",
          "DeepNeuralNetwork",
          "DeepNeuralNetwork"
         ],
         "y": [
          0.35233664512634266,
          0.2381343841552734,
          0.2571239471435545,
          0.2304661273956298,
          0.3857643604278562,
          0.291274070739746,
          0.3461112976074218,
          0.3772644996643066,
          0.1914575099945067,
          0.2906205654144286,
          0.3989346027374267,
          0.20640540122985818,
          0.2410588264465331,
          0.35387682914733876,
          0.23488998413085918,
          0.28335833549499506,
          0.3913662433624266,
          0.18945550918579082,
          0.2521150112152098,
          0.2643914222717284,
          0.6422438621520995,
          0.5038895606994629,
          0.6067495346069335,
          0.4691846370697021,
          0.5926625728607177,
          0.6054623126983641,
          0.5251576900482176,
          0.4319195747375487,
          0.42032527923583973,
          0.782438278198242,
          0.42589712142944325,
          0.5238504409790039,
          0.4476363658905028,
          0.5726447105407714,
          0.6970677375793457,
          0.3799619674682616,
          0.5741605758666991,
          0.6294274330139159,
          0.5103752613067626,
          0.6792793273925781,
          1.168694257736206,
          1.2071905136108398,
          1.1637022495269775,
          1.2739770412445068,
          1.1294939517974854,
          1.0872251987457275,
          1.1228663921356201,
          1.015336990356445,
          1.0418477058410645,
          1.2550749778747556,
          1.1505026817321777,
          1.2168035507202148,
          1.0576324462890625,
          1.3463959693908691,
          1.1578395366668701,
          1.1499087810516357,
          1.1430728435516357,
          1.0657408237457275,
          1.126648187637329,
          1.0173063278198242,
          0.5691616535186766,
          0.657510995864868,
          0.7017204761505125,
          0.6390464305877684,
          0.8103513717651367,
          0.6823976039886473,
          0.6051576137542723,
          0.6374342441558836,
          0.666015625,
          0.7330527305603026,
          0.7321000099182128,
          0.7022187709808348,
          0.7286403179168701,
          0.6905877590179442,
          0.6701903343200682,
          0.7001988887786864,
          0.7834901809692381,
          0.7638566493988037,
          0.6772642135620117,
          0.594719409942627,
          3.514228105545044,
          3.7419273853302,
          4.056694507598877,
          3.4892499446868896,
          3.2782092094421382,
          3.303614854812622,
          3.532839775085449,
          3.288197755813599,
          3.3336105346679688,
          4.020250082015991,
          3.9202871322631836,
          3.5142908096313477,
          3.911731481552124,
          4.046003103256226,
          3.4821786880493164,
          3.6461470127105713,
          4.0254905223846436,
          4.010458946228027,
          3.731032371520996,
          4.257267475128174
         ]
        },
        {
         "name": "SS & FR",
         "type": "box",
         "x": [
          "LogisticRegression",
          "LogisticRegression",
          "LogisticRegression",
          "LogisticRegression",
          "LogisticRegression",
          "LogisticRegression",
          "LogisticRegression",
          "LogisticRegression",
          "LogisticRegression",
          "LogisticRegression",
          "LogisticRegression",
          "LogisticRegression",
          "LogisticRegression",
          "LogisticRegression",
          "LogisticRegression",
          "LogisticRegression",
          "LogisticRegression",
          "LogisticRegression",
          "LogisticRegression",
          "LogisticRegression",
          "SVC",
          "SVC",
          "SVC",
          "SVC",
          "SVC",
          "SVC",
          "SVC",
          "SVC",
          "SVC",
          "SVC",
          "SVC",
          "SVC",
          "SVC",
          "SVC",
          "SVC",
          "SVC",
          "SVC",
          "SVC",
          "SVC",
          "SVC",
          "RandomForestClassifier",
          "RandomForestClassifier",
          "RandomForestClassifier",
          "RandomForestClassifier",
          "RandomForestClassifier",
          "RandomForestClassifier",
          "RandomForestClassifier",
          "RandomForestClassifier",
          "RandomForestClassifier",
          "RandomForestClassifier",
          "RandomForestClassifier",
          "RandomForestClassifier",
          "RandomForestClassifier",
          "RandomForestClassifier",
          "RandomForestClassifier",
          "RandomForestClassifier",
          "RandomForestClassifier",
          "RandomForestClassifier",
          "RandomForestClassifier",
          "RandomForestClassifier",
          "GradientBoostingClassifier",
          "GradientBoostingClassifier",
          "GradientBoostingClassifier",
          "GradientBoostingClassifier",
          "GradientBoostingClassifier",
          "GradientBoostingClassifier",
          "GradientBoostingClassifier",
          "GradientBoostingClassifier",
          "GradientBoostingClassifier",
          "GradientBoostingClassifier",
          "GradientBoostingClassifier",
          "GradientBoostingClassifier",
          "GradientBoostingClassifier",
          "GradientBoostingClassifier",
          "GradientBoostingClassifier",
          "GradientBoostingClassifier",
          "GradientBoostingClassifier",
          "GradientBoostingClassifier",
          "GradientBoostingClassifier",
          "GradientBoostingClassifier",
          "DeepNeuralNetwork",
          "DeepNeuralNetwork",
          "DeepNeuralNetwork",
          "DeepNeuralNetwork",
          "DeepNeuralNetwork",
          "DeepNeuralNetwork",
          "DeepNeuralNetwork",
          "DeepNeuralNetwork",
          "DeepNeuralNetwork",
          "DeepNeuralNetwork",
          "DeepNeuralNetwork",
          "DeepNeuralNetwork",
          "DeepNeuralNetwork",
          "DeepNeuralNetwork",
          "DeepNeuralNetwork",
          "DeepNeuralNetwork",
          "DeepNeuralNetwork",
          "DeepNeuralNetwork",
          "DeepNeuralNetwork",
          "DeepNeuralNetwork"
         ],
         "y": [
          0.251744508743286,
          0.20493149757385226,
          0.2089900970458984,
          0.3565597534179686,
          0.21089386940002428,
          0.19993472099304188,
          0.2784516811370848,
          0.4557549953460692,
          0.2971739768981932,
          0.3205673694610594,
          0.30013751983642556,
          0.265122890472412,
          0.2729954719543456,
          0.20935320854187003,
          0.3050193786621093,
          0.2605772018432616,
          0.2850594520568846,
          0.21790504455566392,
          0.1643323898315428,
          0.2114655971527099,
          0.6390860080718993,
          0.7137360572814939,
          0.5136184692382811,
          0.5245947837829588,
          0.5525796413421631,
          0.6977734565734862,
          0.5626020431518554,
          0.576134443283081,
          0.6663000583648682,
          0.4029974937438964,
          0.5849454402923584,
          0.5222690105438231,
          0.7537314891815183,
          0.42814373970031727,
          0.4965114593505858,
          0.6201341152191161,
          0.3941524028778075,
          0.8113162517547607,
          0.4999504089355468,
          0.6487905979156493,
          1.288316249847412,
          1.191460371017456,
          1.0085773468017578,
          1.0448572635650633,
          1.1353933811187744,
          0.9619917869567871,
          1.2568957805633545,
          1.077568769454956,
          1.3230700492858887,
          1.1179447174072266,
          1.3393840789794922,
          1.2844927310943604,
          1.229400873184204,
          1.0352776050567625,
          1.1074256896972656,
          1.2195532321929932,
          1.0231225490570068,
          1.2830150127410886,
          1.353086233139038,
          1.172004222869873,
          0.7487895488739013,
          0.6323919296264648,
          0.8576147556304932,
          0.6664733886718749,
          0.5878527164459229,
          0.6827316284179688,
          0.6467838287353515,
          0.6738429069519041,
          0.5028536319732665,
          0.7322728633880614,
          0.7203342914581298,
          0.7080047130584717,
          0.8043158054351806,
          0.8336269855499266,
          0.7382810115814208,
          0.6692690849304198,
          0.625420093536377,
          0.7160029411315918,
          0.6138403415679932,
          0.6455378532409666,
          3.9812765121459956,
          3.8599085807800293,
          4.021508693695068,
          4.179932594299316,
          4.532058000564575,
          5.647329807281494,
          4.367187976837158,
          4.525864839553833,
          3.969980001449585,
          4.330472469329834,
          4.620012283325195,
          4.452282428741455,
          4.039121389389038,
          3.296685218811035,
          3.483476161956787,
          2.7405712604522705,
          2.9754512310028076,
          2.7125589847564697,
          2.9621803760528564,
          2.9547667503356934
         ]
        }
       ],
       "layout": {
        "boxmode": "group",
        "template": {
         "data": {
          "bar": [
           {
            "error_x": {
             "color": "#2a3f5f"
            },
            "error_y": {
             "color": "#2a3f5f"
            },
            "marker": {
             "line": {
              "color": "#E5ECF6",
              "width": 0.5
             },
             "pattern": {
              "fillmode": "overlay",
              "size": 10,
              "solidity": 0.2
             }
            },
            "type": "bar"
           }
          ],
          "barpolar": [
           {
            "marker": {
             "line": {
              "color": "#E5ECF6",
              "width": 0.5
             },
             "pattern": {
              "fillmode": "overlay",
              "size": 10,
              "solidity": 0.2
             }
            },
            "type": "barpolar"
           }
          ],
          "carpet": [
           {
            "aaxis": {
             "endlinecolor": "#2a3f5f",
             "gridcolor": "white",
             "linecolor": "white",
             "minorgridcolor": "white",
             "startlinecolor": "#2a3f5f"
            },
            "baxis": {
             "endlinecolor": "#2a3f5f",
             "gridcolor": "white",
             "linecolor": "white",
             "minorgridcolor": "white",
             "startlinecolor": "#2a3f5f"
            },
            "type": "carpet"
           }
          ],
          "choropleth": [
           {
            "colorbar": {
             "outlinewidth": 0,
             "ticks": ""
            },
            "type": "choropleth"
           }
          ],
          "contour": [
           {
            "colorbar": {
             "outlinewidth": 0,
             "ticks": ""
            },
            "colorscale": [
             [
              0,
              "#0d0887"
             ],
             [
              0.1111111111111111,
              "#46039f"
             ],
             [
              0.2222222222222222,
              "#7201a8"
             ],
             [
              0.3333333333333333,
              "#9c179e"
             ],
             [
              0.4444444444444444,
              "#bd3786"
             ],
             [
              0.5555555555555556,
              "#d8576b"
             ],
             [
              0.6666666666666666,
              "#ed7953"
             ],
             [
              0.7777777777777778,
              "#fb9f3a"
             ],
             [
              0.8888888888888888,
              "#fdca26"
             ],
             [
              1,
              "#f0f921"
             ]
            ],
            "type": "contour"
           }
          ],
          "contourcarpet": [
           {
            "colorbar": {
             "outlinewidth": 0,
             "ticks": ""
            },
            "type": "contourcarpet"
           }
          ],
          "heatmap": [
           {
            "colorbar": {
             "outlinewidth": 0,
             "ticks": ""
            },
            "colorscale": [
             [
              0,
              "#0d0887"
             ],
             [
              0.1111111111111111,
              "#46039f"
             ],
             [
              0.2222222222222222,
              "#7201a8"
             ],
             [
              0.3333333333333333,
              "#9c179e"
             ],
             [
              0.4444444444444444,
              "#bd3786"
             ],
             [
              0.5555555555555556,
              "#d8576b"
             ],
             [
              0.6666666666666666,
              "#ed7953"
             ],
             [
              0.7777777777777778,
              "#fb9f3a"
             ],
             [
              0.8888888888888888,
              "#fdca26"
             ],
             [
              1,
              "#f0f921"
             ]
            ],
            "type": "heatmap"
           }
          ],
          "heatmapgl": [
           {
            "colorbar": {
             "outlinewidth": 0,
             "ticks": ""
            },
            "colorscale": [
             [
              0,
              "#0d0887"
             ],
             [
              0.1111111111111111,
              "#46039f"
             ],
             [
              0.2222222222222222,
              "#7201a8"
             ],
             [
              0.3333333333333333,
              "#9c179e"
             ],
             [
              0.4444444444444444,
              "#bd3786"
             ],
             [
              0.5555555555555556,
              "#d8576b"
             ],
             [
              0.6666666666666666,
              "#ed7953"
             ],
             [
              0.7777777777777778,
              "#fb9f3a"
             ],
             [
              0.8888888888888888,
              "#fdca26"
             ],
             [
              1,
              "#f0f921"
             ]
            ],
            "type": "heatmapgl"
           }
          ],
          "histogram": [
           {
            "marker": {
             "pattern": {
              "fillmode": "overlay",
              "size": 10,
              "solidity": 0.2
             }
            },
            "type": "histogram"
           }
          ],
          "histogram2d": [
           {
            "colorbar": {
             "outlinewidth": 0,
             "ticks": ""
            },
            "colorscale": [
             [
              0,
              "#0d0887"
             ],
             [
              0.1111111111111111,
              "#46039f"
             ],
             [
              0.2222222222222222,
              "#7201a8"
             ],
             [
              0.3333333333333333,
              "#9c179e"
             ],
             [
              0.4444444444444444,
              "#bd3786"
             ],
             [
              0.5555555555555556,
              "#d8576b"
             ],
             [
              0.6666666666666666,
              "#ed7953"
             ],
             [
              0.7777777777777778,
              "#fb9f3a"
             ],
             [
              0.8888888888888888,
              "#fdca26"
             ],
             [
              1,
              "#f0f921"
             ]
            ],
            "type": "histogram2d"
           }
          ],
          "histogram2dcontour": [
           {
            "colorbar": {
             "outlinewidth": 0,
             "ticks": ""
            },
            "colorscale": [
             [
              0,
              "#0d0887"
             ],
             [
              0.1111111111111111,
              "#46039f"
             ],
             [
              0.2222222222222222,
              "#7201a8"
             ],
             [
              0.3333333333333333,
              "#9c179e"
             ],
             [
              0.4444444444444444,
              "#bd3786"
             ],
             [
              0.5555555555555556,
              "#d8576b"
             ],
             [
              0.6666666666666666,
              "#ed7953"
             ],
             [
              0.7777777777777778,
              "#fb9f3a"
             ],
             [
              0.8888888888888888,
              "#fdca26"
             ],
             [
              1,
              "#f0f921"
             ]
            ],
            "type": "histogram2dcontour"
           }
          ],
          "mesh3d": [
           {
            "colorbar": {
             "outlinewidth": 0,
             "ticks": ""
            },
            "type": "mesh3d"
           }
          ],
          "parcoords": [
           {
            "line": {
             "colorbar": {
              "outlinewidth": 0,
              "ticks": ""
             }
            },
            "type": "parcoords"
           }
          ],
          "pie": [
           {
            "automargin": true,
            "type": "pie"
           }
          ],
          "scatter": [
           {
            "fillpattern": {
             "fillmode": "overlay",
             "size": 10,
             "solidity": 0.2
            },
            "type": "scatter"
           }
          ],
          "scatter3d": [
           {
            "line": {
             "colorbar": {
              "outlinewidth": 0,
              "ticks": ""
             }
            },
            "marker": {
             "colorbar": {
              "outlinewidth": 0,
              "ticks": ""
             }
            },
            "type": "scatter3d"
           }
          ],
          "scattercarpet": [
           {
            "marker": {
             "colorbar": {
              "outlinewidth": 0,
              "ticks": ""
             }
            },
            "type": "scattercarpet"
           }
          ],
          "scattergeo": [
           {
            "marker": {
             "colorbar": {
              "outlinewidth": 0,
              "ticks": ""
             }
            },
            "type": "scattergeo"
           }
          ],
          "scattergl": [
           {
            "marker": {
             "colorbar": {
              "outlinewidth": 0,
              "ticks": ""
             }
            },
            "type": "scattergl"
           }
          ],
          "scattermapbox": [
           {
            "marker": {
             "colorbar": {
              "outlinewidth": 0,
              "ticks": ""
             }
            },
            "type": "scattermapbox"
           }
          ],
          "scatterpolar": [
           {
            "marker": {
             "colorbar": {
              "outlinewidth": 0,
              "ticks": ""
             }
            },
            "type": "scatterpolar"
           }
          ],
          "scatterpolargl": [
           {
            "marker": {
             "colorbar": {
              "outlinewidth": 0,
              "ticks": ""
             }
            },
            "type": "scatterpolargl"
           }
          ],
          "scatterternary": [
           {
            "marker": {
             "colorbar": {
              "outlinewidth": 0,
              "ticks": ""
             }
            },
            "type": "scatterternary"
           }
          ],
          "surface": [
           {
            "colorbar": {
             "outlinewidth": 0,
             "ticks": ""
            },
            "colorscale": [
             [
              0,
              "#0d0887"
             ],
             [
              0.1111111111111111,
              "#46039f"
             ],
             [
              0.2222222222222222,
              "#7201a8"
             ],
             [
              0.3333333333333333,
              "#9c179e"
             ],
             [
              0.4444444444444444,
              "#bd3786"
             ],
             [
              0.5555555555555556,
              "#d8576b"
             ],
             [
              0.6666666666666666,
              "#ed7953"
             ],
             [
              0.7777777777777778,
              "#fb9f3a"
             ],
             [
              0.8888888888888888,
              "#fdca26"
             ],
             [
              1,
              "#f0f921"
             ]
            ],
            "type": "surface"
           }
          ],
          "table": [
           {
            "cells": {
             "fill": {
              "color": "#EBF0F8"
             },
             "line": {
              "color": "white"
             }
            },
            "header": {
             "fill": {
              "color": "#C8D4E3"
             },
             "line": {
              "color": "white"
             }
            },
            "type": "table"
           }
          ]
         },
         "layout": {
          "annotationdefaults": {
           "arrowcolor": "#2a3f5f",
           "arrowhead": 0,
           "arrowwidth": 1
          },
          "autotypenumbers": "strict",
          "coloraxis": {
           "colorbar": {
            "outlinewidth": 0,
            "ticks": ""
           }
          },
          "colorscale": {
           "diverging": [
            [
             0,
             "#8e0152"
            ],
            [
             0.1,
             "#c51b7d"
            ],
            [
             0.2,
             "#de77ae"
            ],
            [
             0.3,
             "#f1b6da"
            ],
            [
             0.4,
             "#fde0ef"
            ],
            [
             0.5,
             "#f7f7f7"
            ],
            [
             0.6,
             "#e6f5d0"
            ],
            [
             0.7,
             "#b8e186"
            ],
            [
             0.8,
             "#7fbc41"
            ],
            [
             0.9,
             "#4d9221"
            ],
            [
             1,
             "#276419"
            ]
           ],
           "sequential": [
            [
             0,
             "#0d0887"
            ],
            [
             0.1111111111111111,
             "#46039f"
            ],
            [
             0.2222222222222222,
             "#7201a8"
            ],
            [
             0.3333333333333333,
             "#9c179e"
            ],
            [
             0.4444444444444444,
             "#bd3786"
            ],
            [
             0.5555555555555556,
             "#d8576b"
            ],
            [
             0.6666666666666666,
             "#ed7953"
            ],
            [
             0.7777777777777778,
             "#fb9f3a"
            ],
            [
             0.8888888888888888,
             "#fdca26"
            ],
            [
             1,
             "#f0f921"
            ]
           ],
           "sequentialminus": [
            [
             0,
             "#0d0887"
            ],
            [
             0.1111111111111111,
             "#46039f"
            ],
            [
             0.2222222222222222,
             "#7201a8"
            ],
            [
             0.3333333333333333,
             "#9c179e"
            ],
            [
             0.4444444444444444,
             "#bd3786"
            ],
            [
             0.5555555555555556,
             "#d8576b"
            ],
            [
             0.6666666666666666,
             "#ed7953"
            ],
            [
             0.7777777777777778,
             "#fb9f3a"
            ],
            [
             0.8888888888888888,
             "#fdca26"
            ],
            [
             1,
             "#f0f921"
            ]
           ]
          },
          "colorway": [
           "#636efa",
           "#EF553B",
           "#00cc96",
           "#ab63fa",
           "#FFA15A",
           "#19d3f3",
           "#FF6692",
           "#B6E880",
           "#FF97FF",
           "#FECB52"
          ],
          "font": {
           "color": "#2a3f5f"
          },
          "geo": {
           "bgcolor": "white",
           "lakecolor": "white",
           "landcolor": "#E5ECF6",
           "showlakes": true,
           "showland": true,
           "subunitcolor": "white"
          },
          "hoverlabel": {
           "align": "left"
          },
          "hovermode": "closest",
          "mapbox": {
           "style": "light"
          },
          "paper_bgcolor": "white",
          "plot_bgcolor": "#E5ECF6",
          "polar": {
           "angularaxis": {
            "gridcolor": "white",
            "linecolor": "white",
            "ticks": ""
           },
           "bgcolor": "#E5ECF6",
           "radialaxis": {
            "gridcolor": "white",
            "linecolor": "white",
            "ticks": ""
           }
          },
          "scene": {
           "xaxis": {
            "backgroundcolor": "#E5ECF6",
            "gridcolor": "white",
            "gridwidth": 2,
            "linecolor": "white",
            "showbackground": true,
            "ticks": "",
            "zerolinecolor": "white"
           },
           "yaxis": {
            "backgroundcolor": "#E5ECF6",
            "gridcolor": "white",
            "gridwidth": 2,
            "linecolor": "white",
            "showbackground": true,
            "ticks": "",
            "zerolinecolor": "white"
           },
           "zaxis": {
            "backgroundcolor": "#E5ECF6",
            "gridcolor": "white",
            "gridwidth": 2,
            "linecolor": "white",
            "showbackground": true,
            "ticks": "",
            "zerolinecolor": "white"
           }
          },
          "shapedefaults": {
           "line": {
            "color": "#2a3f5f"
           }
          },
          "ternary": {
           "aaxis": {
            "gridcolor": "white",
            "linecolor": "white",
            "ticks": ""
           },
           "baxis": {
            "gridcolor": "white",
            "linecolor": "white",
            "ticks": ""
           },
           "bgcolor": "#E5ECF6",
           "caxis": {
            "gridcolor": "white",
            "linecolor": "white",
            "ticks": ""
           }
          },
          "title": {
           "x": 0.05
          },
          "xaxis": {
           "automargin": true,
           "gridcolor": "white",
           "linecolor": "white",
           "ticks": "",
           "title": {
            "standoff": 15
           },
           "zerolinecolor": "white",
           "zerolinewidth": 2
          },
          "yaxis": {
           "automargin": true,
           "gridcolor": "white",
           "linecolor": "white",
           "ticks": "",
           "title": {
            "standoff": 15
           },
           "zerolinecolor": "white",
           "zerolinewidth": 2
          }
         }
        },
        "title": {
         "text": "total_time"
        },
        "yaxis": {
         "title": {
          "text": "total_time"
         }
        }
       }
      }
     },
     "metadata": {},
     "output_type": "display_data"
    }
   ],
   "source": [
    "results = {}\n",
    "for model in models:\n",
    "\tfor ss_opt in subsampling_options:\n",
    "\t\tfor fr_opt in feature_reduction_options:\n",
    "\t\t\tfilename = f'{DATASET}_{ss_opt}_{fr_opt}_{model}'\n",
    "\t\t\tpath = f'../results/{filename}.csv'\n",
    "\t\t\tdf = pd.read_csv(path)\n",
    "\t\t\tpreprocess_time =  df['preprocess_time'].transpose()\n",
    "\t\t\ttraining_time =  df['training_time'].transpose()\n",
    "\t\t\tprediction_time =  df['prediction_time'].transpose()\n",
    "\t\t\tresults[filename] = preprocess_time.to_numpy() + training_time.to_numpy() + prediction_time.to_numpy()\n",
    "\n",
    "n_experiments = len(results[filename])\n",
    "\n",
    "fig = go.Figure()\n",
    "\n",
    "for ss_opt in subsampling_options:\n",
    "\tfor fr_opt in feature_reduction_options:\n",
    "\t\tx, y = [], []\n",
    "\t\tfor model in models:\n",
    "\t\t\tfilename = f'{DATASET}_{ss_opt}_{fr_opt}_{model}'\n",
    "\t\t\tx.extend([model for _ in range(n_experiments)])\n",
    "\t\t\ty.extend(list(results[filename]))\n",
    "\t\tfig.add_trace(go.Box(y=y, x=x, name=get_experiment_name(ss_opt, fr_opt)))\n",
    "\t\t\n",
    "\n",
    "fig.update_layout(\n",
    "\ttitle='total_time',\n",
    "\tyaxis_title='total_time',\n",
    "\tboxmode='group'\n",
    ")\n",
    "fig.show()\n"
   ]
  },
  {
   "cell_type": "code",
   "execution_count": 10,
   "metadata": {},
   "outputs": [
    {
     "data": {
      "application/vnd.plotly.v1+json": {
       "config": {
        "plotlyServerURL": "https://plot.ly"
       },
       "data": [
        {
         "name": "Full",
         "type": "box",
         "x": [
          "LogisticRegression",
          "LogisticRegression",
          "LogisticRegression",
          "LogisticRegression",
          "LogisticRegression",
          "LogisticRegression",
          "LogisticRegression",
          "LogisticRegression",
          "LogisticRegression",
          "LogisticRegression",
          "LogisticRegression",
          "LogisticRegression",
          "LogisticRegression",
          "LogisticRegression",
          "LogisticRegression",
          "LogisticRegression",
          "LogisticRegression",
          "LogisticRegression",
          "LogisticRegression",
          "LogisticRegression",
          "SVC",
          "SVC",
          "SVC",
          "SVC",
          "SVC",
          "SVC",
          "SVC",
          "SVC",
          "SVC",
          "SVC",
          "SVC",
          "SVC",
          "SVC",
          "SVC",
          "SVC",
          "SVC",
          "SVC",
          "SVC",
          "SVC",
          "SVC",
          "RandomForestClassifier",
          "RandomForestClassifier",
          "RandomForestClassifier",
          "RandomForestClassifier",
          "RandomForestClassifier",
          "RandomForestClassifier",
          "RandomForestClassifier",
          "RandomForestClassifier",
          "RandomForestClassifier",
          "RandomForestClassifier",
          "RandomForestClassifier",
          "RandomForestClassifier",
          "RandomForestClassifier",
          "RandomForestClassifier",
          "RandomForestClassifier",
          "RandomForestClassifier",
          "RandomForestClassifier",
          "RandomForestClassifier",
          "RandomForestClassifier",
          "RandomForestClassifier",
          "GradientBoostingClassifier",
          "GradientBoostingClassifier",
          "GradientBoostingClassifier",
          "GradientBoostingClassifier",
          "GradientBoostingClassifier",
          "GradientBoostingClassifier",
          "GradientBoostingClassifier",
          "GradientBoostingClassifier",
          "GradientBoostingClassifier",
          "GradientBoostingClassifier",
          "GradientBoostingClassifier",
          "GradientBoostingClassifier",
          "GradientBoostingClassifier",
          "GradientBoostingClassifier",
          "GradientBoostingClassifier",
          "GradientBoostingClassifier",
          "GradientBoostingClassifier",
          "GradientBoostingClassifier",
          "GradientBoostingClassifier",
          "GradientBoostingClassifier",
          "DeepNeuralNetwork",
          "DeepNeuralNetwork",
          "DeepNeuralNetwork",
          "DeepNeuralNetwork",
          "DeepNeuralNetwork",
          "DeepNeuralNetwork",
          "DeepNeuralNetwork",
          "DeepNeuralNetwork",
          "DeepNeuralNetwork",
          "DeepNeuralNetwork",
          "DeepNeuralNetwork",
          "DeepNeuralNetwork",
          "DeepNeuralNetwork",
          "DeepNeuralNetwork",
          "DeepNeuralNetwork",
          "DeepNeuralNetwork",
          "DeepNeuralNetwork",
          "DeepNeuralNetwork",
          "DeepNeuralNetwork",
          "DeepNeuralNetwork"
         ],
         "y": [
          471.97556877136213,
          635.6280877590177,
          773.1544947624204,
          540.7555425167081,
          647.1825928688048,
          776.05478310585,
          620.9473779201505,
          578.2191102504728,
          510.20015859603865,
          407.5512320995328,
          746.1270303726194,
          522.9085335731503,
          469.6231083869931,
          584.4117636680601,
          394.8301348686216,
          535.6758935451504,
          554.058393716812,
          578.7576856613157,
          499.9394681453703,
          301.414480447769,
          12727.936566352842,
          9897.559936523436,
          9571.128663539885,
          8909.531021118162,
          8743.391597747801,
          10977.942317485806,
          11299.062510967255,
          8745.404253959654,
          14654.824082851408,
          7605.317759513852,
          10036.048159599302,
          7572.844502925871,
          9702.139088630676,
          9685.830300807953,
          11986.836827278135,
          8126.472327709196,
          10449.806294441223,
          10022.876349449154,
          13074.500696659088,
          9653.92516136169,
          2763.0876874923706,
          3174.2520790100098,
          2577.9677696228027,
          3011.2128009796143,
          2593.3567085266113,
          2806.2426109313965,
          2710.898878097534,
          2526.943774223327,
          2651.572892189026,
          2867.7511281967163,
          2834.3619861602783,
          3086.8886375427246,
          3431.788387298584,
          2832.736149787903,
          3033.207335472107,
          3107.546745300293,
          3192.873556137085,
          3673.743215560913,
          2791.9646701812744,
          3173.1213483810425,
          2225.942086219787,
          2651.200006723404,
          2572.814468622207,
          2731.5791819095607,
          3403.6716239452358,
          2570.9080531597133,
          2645.2778365612025,
          2555.1102592945094,
          2473.4387800693503,
          2230.5203313827515,
          2504.2502632141113,
          2385.2728500366206,
          2553.9007267951965,
          2861.9621572494507,
          2951.9668614864345,
          2658.5168328285217,
          2730.407920122146,
          2258.7276260852805,
          1991.9238030910487,
          2051.8922286033626,
          18677.357222318646,
          18600.912823200226,
          21220.198092699055,
          19058.61995100975,
          19382.19140434265,
          20247.636716365814,
          21500.694264411926,
          23749.92639088631,
          12473.17182970047,
          19845.826708316803,
          30788.42212152481,
          30255.965247631073,
          27853.841213464737,
          25750.503165960312,
          25600.021085977554,
          24749.03163075447,
          25132.313950538635,
          24725.4946103096,
          30568.05814743042,
          29779.065008163452
         ]
        },
        {
         "name": "FR",
         "type": "box",
         "x": [
          "LogisticRegression",
          "LogisticRegression",
          "LogisticRegression",
          "LogisticRegression",
          "LogisticRegression",
          "LogisticRegression",
          "LogisticRegression",
          "LogisticRegression",
          "LogisticRegression",
          "LogisticRegression",
          "LogisticRegression",
          "LogisticRegression",
          "LogisticRegression",
          "LogisticRegression",
          "LogisticRegression",
          "LogisticRegression",
          "LogisticRegression",
          "LogisticRegression",
          "LogisticRegression",
          "LogisticRegression",
          "SVC",
          "SVC",
          "SVC",
          "SVC",
          "SVC",
          "SVC",
          "SVC",
          "SVC",
          "SVC",
          "SVC",
          "SVC",
          "SVC",
          "SVC",
          "SVC",
          "SVC",
          "SVC",
          "SVC",
          "SVC",
          "SVC",
          "SVC",
          "RandomForestClassifier",
          "RandomForestClassifier",
          "RandomForestClassifier",
          "RandomForestClassifier",
          "RandomForestClassifier",
          "RandomForestClassifier",
          "RandomForestClassifier",
          "RandomForestClassifier",
          "RandomForestClassifier",
          "RandomForestClassifier",
          "RandomForestClassifier",
          "RandomForestClassifier",
          "RandomForestClassifier",
          "RandomForestClassifier",
          "RandomForestClassifier",
          "RandomForestClassifier",
          "RandomForestClassifier",
          "RandomForestClassifier",
          "RandomForestClassifier",
          "RandomForestClassifier",
          "GradientBoostingClassifier",
          "GradientBoostingClassifier",
          "GradientBoostingClassifier",
          "GradientBoostingClassifier",
          "GradientBoostingClassifier",
          "GradientBoostingClassifier",
          "GradientBoostingClassifier",
          "GradientBoostingClassifier",
          "GradientBoostingClassifier",
          "GradientBoostingClassifier",
          "GradientBoostingClassifier",
          "GradientBoostingClassifier",
          "GradientBoostingClassifier",
          "GradientBoostingClassifier",
          "GradientBoostingClassifier",
          "GradientBoostingClassifier",
          "GradientBoostingClassifier",
          "GradientBoostingClassifier",
          "GradientBoostingClassifier",
          "GradientBoostingClassifier",
          "DeepNeuralNetwork",
          "DeepNeuralNetwork",
          "DeepNeuralNetwork",
          "DeepNeuralNetwork",
          "DeepNeuralNetwork",
          "DeepNeuralNetwork",
          "DeepNeuralNetwork",
          "DeepNeuralNetwork",
          "DeepNeuralNetwork",
          "DeepNeuralNetwork",
          "DeepNeuralNetwork",
          "DeepNeuralNetwork",
          "DeepNeuralNetwork",
          "DeepNeuralNetwork",
          "DeepNeuralNetwork",
          "DeepNeuralNetwork",
          "DeepNeuralNetwork",
          "DeepNeuralNetwork",
          "DeepNeuralNetwork",
          "DeepNeuralNetwork"
         ],
         "y": [
          370.30509924888594,
          520.8849241733549,
          454.69759154319735,
          560.9395909309385,
          374.728202819824,
          574.7632834911343,
          391.00497722625715,
          887.3633236885069,
          524.5119230747221,
          671.7747094631193,
          494.0166807174679,
          824.250535726547,
          571.6016106605528,
          515.4367153644558,
          511.5329110622403,
          535.9577107429502,
          408.8936226367947,
          555.256984233856,
          705.9898617267606,
          417.4129064083095,
          11632.018102169035,
          10050.458072185513,
          7008.272963047024,
          10315.355987548826,
          8874.858078002928,
          8860.548875331875,
          9441.221704959866,
          8139.64309644699,
          7282.824507236479,
          7587.5690989494315,
          9988.465571880337,
          8485.08692407608,
          12878.985607624052,
          9585.692374706265,
          9210.279536724089,
          7534.507096767424,
          7068.438235282897,
          12196.807944774626,
          9114.170955181118,
          12650.961920738218,
          3217.155263900757,
          3035.8939418792725,
          3087.3693923950195,
          2681.25412273407,
          2957.80894947052,
          2915.06840801239,
          2830.5494327545166,
          2538.462158203125,
          2402.391792297363,
          2704.9354848861694,
          2715.9695262908936,
          2878.139977455139,
          3068.903383255005,
          2870.265523910522,
          3173.655919075012,
          3557.270785331726,
          2651.0592498779292,
          2740.8689203262325,
          2714.261770248413,
          2835.215266227722,
          2121.7095773220058,
          2140.2397220134726,
          2958.970401763916,
          2556.5342857837677,
          2516.706044912338,
          2317.8149352073665,
          1939.612190008163,
          2372.0391938686366,
          2185.1633076667777,
          2547.086760044098,
          2417.383757352828,
          2343.6271953582764,
          2371.2889099121094,
          2262.203140735626,
          2619.688970565796,
          1860.526208877563,
          2017.5580599308005,
          2627.5629470348354,
          2499.5242753028865,
          2400.4431822299957,
          28109.685899734497,
          27890.24754667282,
          21976.603104114532,
          25003.436113357544,
          28661.212115764618,
          26875.509407043457,
          20868.797141075138,
          22429.32989215851,
          20824.510155200962,
          21281.441571235657,
          22130.26484155655,
          21970.633589744568,
          23512.324818134308,
          22494.025806427002,
          24411.987700939175,
          24432.61276960373,
          32235.14279794693,
          25255.531861782074,
          23574.181364536285,
          23820.358912467957
         ]
        },
        {
         "name": "SS",
         "type": "box",
         "x": [
          "LogisticRegression",
          "LogisticRegression",
          "LogisticRegression",
          "LogisticRegression",
          "LogisticRegression",
          "LogisticRegression",
          "LogisticRegression",
          "LogisticRegression",
          "LogisticRegression",
          "LogisticRegression",
          "LogisticRegression",
          "LogisticRegression",
          "LogisticRegression",
          "LogisticRegression",
          "LogisticRegression",
          "LogisticRegression",
          "LogisticRegression",
          "LogisticRegression",
          "LogisticRegression",
          "LogisticRegression",
          "SVC",
          "SVC",
          "SVC",
          "SVC",
          "SVC",
          "SVC",
          "SVC",
          "SVC",
          "SVC",
          "SVC",
          "SVC",
          "SVC",
          "SVC",
          "SVC",
          "SVC",
          "SVC",
          "SVC",
          "SVC",
          "SVC",
          "SVC",
          "RandomForestClassifier",
          "RandomForestClassifier",
          "RandomForestClassifier",
          "RandomForestClassifier",
          "RandomForestClassifier",
          "RandomForestClassifier",
          "RandomForestClassifier",
          "RandomForestClassifier",
          "RandomForestClassifier",
          "RandomForestClassifier",
          "RandomForestClassifier",
          "RandomForestClassifier",
          "RandomForestClassifier",
          "RandomForestClassifier",
          "RandomForestClassifier",
          "RandomForestClassifier",
          "RandomForestClassifier",
          "RandomForestClassifier",
          "RandomForestClassifier",
          "RandomForestClassifier",
          "GradientBoostingClassifier",
          "GradientBoostingClassifier",
          "GradientBoostingClassifier",
          "GradientBoostingClassifier",
          "GradientBoostingClassifier",
          "GradientBoostingClassifier",
          "GradientBoostingClassifier",
          "GradientBoostingClassifier",
          "GradientBoostingClassifier",
          "GradientBoostingClassifier",
          "GradientBoostingClassifier",
          "GradientBoostingClassifier",
          "GradientBoostingClassifier",
          "GradientBoostingClassifier",
          "GradientBoostingClassifier",
          "GradientBoostingClassifier",
          "GradientBoostingClassifier",
          "GradientBoostingClassifier",
          "GradientBoostingClassifier",
          "GradientBoostingClassifier",
          "DeepNeuralNetwork",
          "DeepNeuralNetwork",
          "DeepNeuralNetwork",
          "DeepNeuralNetwork",
          "DeepNeuralNetwork",
          "DeepNeuralNetwork",
          "DeepNeuralNetwork",
          "DeepNeuralNetwork",
          "DeepNeuralNetwork",
          "DeepNeuralNetwork",
          "DeepNeuralNetwork",
          "DeepNeuralNetwork",
          "DeepNeuralNetwork",
          "DeepNeuralNetwork",
          "DeepNeuralNetwork",
          "DeepNeuralNetwork",
          "DeepNeuralNetwork",
          "DeepNeuralNetwork",
          "DeepNeuralNetwork",
          "DeepNeuralNetwork"
         ],
         "y": [
          569.728355169296,
          385.0632991790771,
          415.76942253112765,
          372.6637279987334,
          623.7809708118435,
          470.99017238616926,
          559.6619682312011,
          610.0366959571837,
          309.5867936611173,
          469.93345427513106,
          645.077252626419,
          333.7575337886807,
          389.792122364044,
          572.2188327312467,
          379.81710433959927,
          458.190428495407,
          632.8392155170438,
          306.34955835342373,
          407.6699731349942,
          427.52092981338484,
          11302.207486152647,
          8853.339581489563,
          10745.534257888792,
          8191.025393962859,
          10446.27050924301,
          10654.925778865812,
          9271.133860111233,
          7600.9206762313825,
          7408.653371810911,
          13725.53227615356,
          7494.937542915342,
          9204.052248001099,
          7902.572403430937,
          10061.367564201353,
          12345.069632530212,
          6697.209638595579,
          10136.230806350706,
          11111.911902427672,
          8981.583848476408,
          11953.95760345459,
          2931.085198402405,
          3027.6338081359863,
          2918.5652418136597,
          3195.134419441223,
          2832.7708311080933,
          2726.7607984542847,
          2816.1489114761353,
          2546.4651718139644,
          2612.9540462493896,
          3147.7280445098872,
          2885.4607257843018,
          3051.743305206299,
          2652.5421752929688,
          3376.7610912323,
          2903.8615579605103,
          2883.9712228775024,
          2866.8266916275024,
          2672.8779859542847,
          2825.6336545944214,
          2551.404270172119,
          2124.68045258522,
          2454.4885475635524,
          2619.522537469863,
          2385.5603253841396,
          3025.0416707992554,
          2547.3902556896205,
          2259.0533721446986,
          2379.5420334339133,
          2486.236328125,
          2736.4858431816097,
          2732.9293370246883,
          2621.3826720714565,
          2720.014306783676,
          2577.9641044139858,
          2501.8205180168147,
          2613.8424518108363,
          2924.7688455581656,
          2851.4768722057343,
          2528.2273092269897,
          2220.0875573158264,
          22919.795704364777,
          24404.850407123566,
          26457.761578559875,
          22756.888139247894,
          21380.480463981625,
          21546.17608308792,
          23041.1810131073,
          21445.625763416294,
          21741.807907104492,
          26220.071034908295,
          25568.112676620483,
          22920.20466041565,
          25512.312722682953,
          26388.032239437103,
          22710.76940345764,
          23780.170816898346,
          26254.249186992645,
          26156.213247299194,
          24333.793127059937,
          27765.89847278595
         ]
        },
        {
         "name": "SS & FR",
         "type": "box",
         "x": [
          "LogisticRegression",
          "LogisticRegression",
          "LogisticRegression",
          "LogisticRegression",
          "LogisticRegression",
          "LogisticRegression",
          "LogisticRegression",
          "LogisticRegression",
          "LogisticRegression",
          "LogisticRegression",
          "LogisticRegression",
          "LogisticRegression",
          "LogisticRegression",
          "LogisticRegression",
          "LogisticRegression",
          "LogisticRegression",
          "LogisticRegression",
          "LogisticRegression",
          "LogisticRegression",
          "LogisticRegression",
          "SVC",
          "SVC",
          "SVC",
          "SVC",
          "SVC",
          "SVC",
          "SVC",
          "SVC",
          "SVC",
          "SVC",
          "SVC",
          "SVC",
          "SVC",
          "SVC",
          "SVC",
          "SVC",
          "SVC",
          "SVC",
          "SVC",
          "SVC",
          "RandomForestClassifier",
          "RandomForestClassifier",
          "RandomForestClassifier",
          "RandomForestClassifier",
          "RandomForestClassifier",
          "RandomForestClassifier",
          "RandomForestClassifier",
          "RandomForestClassifier",
          "RandomForestClassifier",
          "RandomForestClassifier",
          "RandomForestClassifier",
          "RandomForestClassifier",
          "RandomForestClassifier",
          "RandomForestClassifier",
          "RandomForestClassifier",
          "RandomForestClassifier",
          "RandomForestClassifier",
          "RandomForestClassifier",
          "RandomForestClassifier",
          "RandomForestClassifier",
          "GradientBoostingClassifier",
          "GradientBoostingClassifier",
          "GradientBoostingClassifier",
          "GradientBoostingClassifier",
          "GradientBoostingClassifier",
          "GradientBoostingClassifier",
          "GradientBoostingClassifier",
          "GradientBoostingClassifier",
          "GradientBoostingClassifier",
          "GradientBoostingClassifier",
          "GradientBoostingClassifier",
          "GradientBoostingClassifier",
          "GradientBoostingClassifier",
          "GradientBoostingClassifier",
          "GradientBoostingClassifier",
          "GradientBoostingClassifier",
          "GradientBoostingClassifier",
          "GradientBoostingClassifier",
          "GradientBoostingClassifier",
          "GradientBoostingClassifier",
          "DeepNeuralNetwork",
          "DeepNeuralNetwork",
          "DeepNeuralNetwork",
          "DeepNeuralNetwork",
          "DeepNeuralNetwork",
          "DeepNeuralNetwork",
          "DeepNeuralNetwork",
          "DeepNeuralNetwork",
          "DeepNeuralNetwork",
          "DeepNeuralNetwork",
          "DeepNeuralNetwork",
          "DeepNeuralNetwork",
          "DeepNeuralNetwork",
          "DeepNeuralNetwork",
          "DeepNeuralNetwork",
          "DeepNeuralNetwork",
          "DeepNeuralNetwork",
          "DeepNeuralNetwork",
          "DeepNeuralNetwork",
          "DeepNeuralNetwork"
         ],
         "y": [
          407.0708706378935,
          331.3742315769191,
          337.9369869232177,
          576.5571212768552,
          341.01538681983925,
          323.29444384574873,
          450.2563683986661,
          736.9558274745939,
          480.5303206443784,
          518.3574364185331,
          485.32236957550015,
          428.7037138938902,
          441.43367815017683,
          338.52413821220387,
          493.21633529663075,
          421.35333538055403,
          460.9411339759824,
          352.35245704650856,
          265.7254743576047,
          341.9398705959319,
          11282.42438650131,
          12540.342526435848,
          9067.420455932615,
          9173.064389228817,
          9755.240988254547,
          12298.954945564268,
          9884.917898178099,
          10171.077461719513,
          11688.235623836517,
          7069.38203525543,
          10310.24833059311,
          9220.137112140654,
          13243.062264919277,
          7570.43760538101,
          8723.706340789793,
          10913.120159626005,
          6936.293985843657,
          14277.54339838028,
          8868.120353698729,
          11471.915352344511,
          3231.0971546173096,
          2988.18261051178,
          2529.5119857788086,
          2620.5020170211787,
          2847.5665998458862,
          2412.675401687622,
          3152.294617652893,
          2702.54247379303,
          3318.259683609009,
          2803.805351257324,
          3359.1752700805664,
          3221.5077695846558,
          3083.337389945984,
          2596.4762334823604,
          2777.423629760742,
          3058.639506340027,
          2565.991353034973,
          3217.8016519546504,
          3393.5402727127075,
          2939.3865909576416,
          2795.2313859462733,
          2360.7190732955933,
          3201.475882768631,
          2487.945159912109,
          2194.45419049263,
          2548.6371688842773,
          2414.444032669067,
          2515.455571651458,
          1877.1526081562038,
          2733.574599027633,
          2689.0079100131984,
          2642.981593847275,
          3002.510901689529,
          3111.929537057876,
          2756.0030162334438,
          2498.381494045257,
          2334.693209171295,
          2672.838979244232,
          2291.4659950733185,
          2409.792806148528,
          25965.885412216183,
          25174.32376384735,
          26228.279700279236,
          27261.52038002014,
          29558.08227968216,
          36831.885003089905,
          28482.799984931946,
          29517.6904835701,
          25892.209569454193,
          28243.341444969177,
          30131.720111846924,
          29037.78600025177,
          26343.149701595306,
          21500.98099708557,
          22719.231528282166,
          17874.00576066971,
          19405.89292860031,
          17691.309698581696,
          19319.34041261673,
          19270.988745689392
         ]
        }
       ],
       "layout": {
        "boxmode": "group",
        "template": {
         "data": {
          "bar": [
           {
            "error_x": {
             "color": "#2a3f5f"
            },
            "error_y": {
             "color": "#2a3f5f"
            },
            "marker": {
             "line": {
              "color": "#E5ECF6",
              "width": 0.5
             },
             "pattern": {
              "fillmode": "overlay",
              "size": 10,
              "solidity": 0.2
             }
            },
            "type": "bar"
           }
          ],
          "barpolar": [
           {
            "marker": {
             "line": {
              "color": "#E5ECF6",
              "width": 0.5
             },
             "pattern": {
              "fillmode": "overlay",
              "size": 10,
              "solidity": 0.2
             }
            },
            "type": "barpolar"
           }
          ],
          "carpet": [
           {
            "aaxis": {
             "endlinecolor": "#2a3f5f",
             "gridcolor": "white",
             "linecolor": "white",
             "minorgridcolor": "white",
             "startlinecolor": "#2a3f5f"
            },
            "baxis": {
             "endlinecolor": "#2a3f5f",
             "gridcolor": "white",
             "linecolor": "white",
             "minorgridcolor": "white",
             "startlinecolor": "#2a3f5f"
            },
            "type": "carpet"
           }
          ],
          "choropleth": [
           {
            "colorbar": {
             "outlinewidth": 0,
             "ticks": ""
            },
            "type": "choropleth"
           }
          ],
          "contour": [
           {
            "colorbar": {
             "outlinewidth": 0,
             "ticks": ""
            },
            "colorscale": [
             [
              0,
              "#0d0887"
             ],
             [
              0.1111111111111111,
              "#46039f"
             ],
             [
              0.2222222222222222,
              "#7201a8"
             ],
             [
              0.3333333333333333,
              "#9c179e"
             ],
             [
              0.4444444444444444,
              "#bd3786"
             ],
             [
              0.5555555555555556,
              "#d8576b"
             ],
             [
              0.6666666666666666,
              "#ed7953"
             ],
             [
              0.7777777777777778,
              "#fb9f3a"
             ],
             [
              0.8888888888888888,
              "#fdca26"
             ],
             [
              1,
              "#f0f921"
             ]
            ],
            "type": "contour"
           }
          ],
          "contourcarpet": [
           {
            "colorbar": {
             "outlinewidth": 0,
             "ticks": ""
            },
            "type": "contourcarpet"
           }
          ],
          "heatmap": [
           {
            "colorbar": {
             "outlinewidth": 0,
             "ticks": ""
            },
            "colorscale": [
             [
              0,
              "#0d0887"
             ],
             [
              0.1111111111111111,
              "#46039f"
             ],
             [
              0.2222222222222222,
              "#7201a8"
             ],
             [
              0.3333333333333333,
              "#9c179e"
             ],
             [
              0.4444444444444444,
              "#bd3786"
             ],
             [
              0.5555555555555556,
              "#d8576b"
             ],
             [
              0.6666666666666666,
              "#ed7953"
             ],
             [
              0.7777777777777778,
              "#fb9f3a"
             ],
             [
              0.8888888888888888,
              "#fdca26"
             ],
             [
              1,
              "#f0f921"
             ]
            ],
            "type": "heatmap"
           }
          ],
          "heatmapgl": [
           {
            "colorbar": {
             "outlinewidth": 0,
             "ticks": ""
            },
            "colorscale": [
             [
              0,
              "#0d0887"
             ],
             [
              0.1111111111111111,
              "#46039f"
             ],
             [
              0.2222222222222222,
              "#7201a8"
             ],
             [
              0.3333333333333333,
              "#9c179e"
             ],
             [
              0.4444444444444444,
              "#bd3786"
             ],
             [
              0.5555555555555556,
              "#d8576b"
             ],
             [
              0.6666666666666666,
              "#ed7953"
             ],
             [
              0.7777777777777778,
              "#fb9f3a"
             ],
             [
              0.8888888888888888,
              "#fdca26"
             ],
             [
              1,
              "#f0f921"
             ]
            ],
            "type": "heatmapgl"
           }
          ],
          "histogram": [
           {
            "marker": {
             "pattern": {
              "fillmode": "overlay",
              "size": 10,
              "solidity": 0.2
             }
            },
            "type": "histogram"
           }
          ],
          "histogram2d": [
           {
            "colorbar": {
             "outlinewidth": 0,
             "ticks": ""
            },
            "colorscale": [
             [
              0,
              "#0d0887"
             ],
             [
              0.1111111111111111,
              "#46039f"
             ],
             [
              0.2222222222222222,
              "#7201a8"
             ],
             [
              0.3333333333333333,
              "#9c179e"
             ],
             [
              0.4444444444444444,
              "#bd3786"
             ],
             [
              0.5555555555555556,
              "#d8576b"
             ],
             [
              0.6666666666666666,
              "#ed7953"
             ],
             [
              0.7777777777777778,
              "#fb9f3a"
             ],
             [
              0.8888888888888888,
              "#fdca26"
             ],
             [
              1,
              "#f0f921"
             ]
            ],
            "type": "histogram2d"
           }
          ],
          "histogram2dcontour": [
           {
            "colorbar": {
             "outlinewidth": 0,
             "ticks": ""
            },
            "colorscale": [
             [
              0,
              "#0d0887"
             ],
             [
              0.1111111111111111,
              "#46039f"
             ],
             [
              0.2222222222222222,
              "#7201a8"
             ],
             [
              0.3333333333333333,
              "#9c179e"
             ],
             [
              0.4444444444444444,
              "#bd3786"
             ],
             [
              0.5555555555555556,
              "#d8576b"
             ],
             [
              0.6666666666666666,
              "#ed7953"
             ],
             [
              0.7777777777777778,
              "#fb9f3a"
             ],
             [
              0.8888888888888888,
              "#fdca26"
             ],
             [
              1,
              "#f0f921"
             ]
            ],
            "type": "histogram2dcontour"
           }
          ],
          "mesh3d": [
           {
            "colorbar": {
             "outlinewidth": 0,
             "ticks": ""
            },
            "type": "mesh3d"
           }
          ],
          "parcoords": [
           {
            "line": {
             "colorbar": {
              "outlinewidth": 0,
              "ticks": ""
             }
            },
            "type": "parcoords"
           }
          ],
          "pie": [
           {
            "automargin": true,
            "type": "pie"
           }
          ],
          "scatter": [
           {
            "fillpattern": {
             "fillmode": "overlay",
             "size": 10,
             "solidity": 0.2
            },
            "type": "scatter"
           }
          ],
          "scatter3d": [
           {
            "line": {
             "colorbar": {
              "outlinewidth": 0,
              "ticks": ""
             }
            },
            "marker": {
             "colorbar": {
              "outlinewidth": 0,
              "ticks": ""
             }
            },
            "type": "scatter3d"
           }
          ],
          "scattercarpet": [
           {
            "marker": {
             "colorbar": {
              "outlinewidth": 0,
              "ticks": ""
             }
            },
            "type": "scattercarpet"
           }
          ],
          "scattergeo": [
           {
            "marker": {
             "colorbar": {
              "outlinewidth": 0,
              "ticks": ""
             }
            },
            "type": "scattergeo"
           }
          ],
          "scattergl": [
           {
            "marker": {
             "colorbar": {
              "outlinewidth": 0,
              "ticks": ""
             }
            },
            "type": "scattergl"
           }
          ],
          "scattermapbox": [
           {
            "marker": {
             "colorbar": {
              "outlinewidth": 0,
              "ticks": ""
             }
            },
            "type": "scattermapbox"
           }
          ],
          "scatterpolar": [
           {
            "marker": {
             "colorbar": {
              "outlinewidth": 0,
              "ticks": ""
             }
            },
            "type": "scatterpolar"
           }
          ],
          "scatterpolargl": [
           {
            "marker": {
             "colorbar": {
              "outlinewidth": 0,
              "ticks": ""
             }
            },
            "type": "scatterpolargl"
           }
          ],
          "scatterternary": [
           {
            "marker": {
             "colorbar": {
              "outlinewidth": 0,
              "ticks": ""
             }
            },
            "type": "scatterternary"
           }
          ],
          "surface": [
           {
            "colorbar": {
             "outlinewidth": 0,
             "ticks": ""
            },
            "colorscale": [
             [
              0,
              "#0d0887"
             ],
             [
              0.1111111111111111,
              "#46039f"
             ],
             [
              0.2222222222222222,
              "#7201a8"
             ],
             [
              0.3333333333333333,
              "#9c179e"
             ],
             [
              0.4444444444444444,
              "#bd3786"
             ],
             [
              0.5555555555555556,
              "#d8576b"
             ],
             [
              0.6666666666666666,
              "#ed7953"
             ],
             [
              0.7777777777777778,
              "#fb9f3a"
             ],
             [
              0.8888888888888888,
              "#fdca26"
             ],
             [
              1,
              "#f0f921"
             ]
            ],
            "type": "surface"
           }
          ],
          "table": [
           {
            "cells": {
             "fill": {
              "color": "#EBF0F8"
             },
             "line": {
              "color": "white"
             }
            },
            "header": {
             "fill": {
              "color": "#C8D4E3"
             },
             "line": {
              "color": "white"
             }
            },
            "type": "table"
           }
          ]
         },
         "layout": {
          "annotationdefaults": {
           "arrowcolor": "#2a3f5f",
           "arrowhead": 0,
           "arrowwidth": 1
          },
          "autotypenumbers": "strict",
          "coloraxis": {
           "colorbar": {
            "outlinewidth": 0,
            "ticks": ""
           }
          },
          "colorscale": {
           "diverging": [
            [
             0,
             "#8e0152"
            ],
            [
             0.1,
             "#c51b7d"
            ],
            [
             0.2,
             "#de77ae"
            ],
            [
             0.3,
             "#f1b6da"
            ],
            [
             0.4,
             "#fde0ef"
            ],
            [
             0.5,
             "#f7f7f7"
            ],
            [
             0.6,
             "#e6f5d0"
            ],
            [
             0.7,
             "#b8e186"
            ],
            [
             0.8,
             "#7fbc41"
            ],
            [
             0.9,
             "#4d9221"
            ],
            [
             1,
             "#276419"
            ]
           ],
           "sequential": [
            [
             0,
             "#0d0887"
            ],
            [
             0.1111111111111111,
             "#46039f"
            ],
            [
             0.2222222222222222,
             "#7201a8"
            ],
            [
             0.3333333333333333,
             "#9c179e"
            ],
            [
             0.4444444444444444,
             "#bd3786"
            ],
            [
             0.5555555555555556,
             "#d8576b"
            ],
            [
             0.6666666666666666,
             "#ed7953"
            ],
            [
             0.7777777777777778,
             "#fb9f3a"
            ],
            [
             0.8888888888888888,
             "#fdca26"
            ],
            [
             1,
             "#f0f921"
            ]
           ],
           "sequentialminus": [
            [
             0,
             "#0d0887"
            ],
            [
             0.1111111111111111,
             "#46039f"
            ],
            [
             0.2222222222222222,
             "#7201a8"
            ],
            [
             0.3333333333333333,
             "#9c179e"
            ],
            [
             0.4444444444444444,
             "#bd3786"
            ],
            [
             0.5555555555555556,
             "#d8576b"
            ],
            [
             0.6666666666666666,
             "#ed7953"
            ],
            [
             0.7777777777777778,
             "#fb9f3a"
            ],
            [
             0.8888888888888888,
             "#fdca26"
            ],
            [
             1,
             "#f0f921"
            ]
           ]
          },
          "colorway": [
           "#636efa",
           "#EF553B",
           "#00cc96",
           "#ab63fa",
           "#FFA15A",
           "#19d3f3",
           "#FF6692",
           "#B6E880",
           "#FF97FF",
           "#FECB52"
          ],
          "font": {
           "color": "#2a3f5f"
          },
          "geo": {
           "bgcolor": "white",
           "lakecolor": "white",
           "landcolor": "#E5ECF6",
           "showlakes": true,
           "showland": true,
           "subunitcolor": "white"
          },
          "hoverlabel": {
           "align": "left"
          },
          "hovermode": "closest",
          "mapbox": {
           "style": "light"
          },
          "paper_bgcolor": "white",
          "plot_bgcolor": "#E5ECF6",
          "polar": {
           "angularaxis": {
            "gridcolor": "white",
            "linecolor": "white",
            "ticks": ""
           },
           "bgcolor": "#E5ECF6",
           "radialaxis": {
            "gridcolor": "white",
            "linecolor": "white",
            "ticks": ""
           }
          },
          "scene": {
           "xaxis": {
            "backgroundcolor": "#E5ECF6",
            "gridcolor": "white",
            "gridwidth": 2,
            "linecolor": "white",
            "showbackground": true,
            "ticks": "",
            "zerolinecolor": "white"
           },
           "yaxis": {
            "backgroundcolor": "#E5ECF6",
            "gridcolor": "white",
            "gridwidth": 2,
            "linecolor": "white",
            "showbackground": true,
            "ticks": "",
            "zerolinecolor": "white"
           },
           "zaxis": {
            "backgroundcolor": "#E5ECF6",
            "gridcolor": "white",
            "gridwidth": 2,
            "linecolor": "white",
            "showbackground": true,
            "ticks": "",
            "zerolinecolor": "white"
           }
          },
          "shapedefaults": {
           "line": {
            "color": "#2a3f5f"
           }
          },
          "ternary": {
           "aaxis": {
            "gridcolor": "white",
            "linecolor": "white",
            "ticks": ""
           },
           "baxis": {
            "gridcolor": "white",
            "linecolor": "white",
            "ticks": ""
           },
           "bgcolor": "#E5ECF6",
           "caxis": {
            "gridcolor": "white",
            "linecolor": "white",
            "ticks": ""
           }
          },
          "title": {
           "x": 0.05
          },
          "xaxis": {
           "automargin": true,
           "gridcolor": "white",
           "linecolor": "white",
           "ticks": "",
           "title": {
            "standoff": 15
           },
           "zerolinecolor": "white",
           "zerolinewidth": 2
          },
          "yaxis": {
           "automargin": true,
           "gridcolor": "white",
           "linecolor": "white",
           "ticks": "",
           "title": {
            "standoff": 15
           },
           "zerolinecolor": "white",
           "zerolinewidth": 2
          }
         }
        },
        "title": {
         "text": "total_time * model_size"
        },
        "yaxis": {
         "title": {
          "text": "total_time * model_size"
         }
        }
       }
      }
     },
     "metadata": {},
     "output_type": "display_data"
    }
   ],
   "source": [
    "results = {}\n",
    "for model in models:\n",
    "\tfor ss_opt in subsampling_options:\n",
    "\t\tfor fr_opt in feature_reduction_options:\n",
    "\t\t\tfilename = f'{DATASET}_{ss_opt}_{fr_opt}_{model}'\n",
    "\t\t\tpath = f'../results/{filename}.csv'\n",
    "\t\t\tdf = pd.read_csv(path)\n",
    "\t\t\tpreprocess_time =  df['preprocess_time'].transpose()\n",
    "\t\t\ttraining_time =  df['training_time'].transpose()\n",
    "\t\t\tprediction_time =  df['prediction_time'].transpose()\n",
    "\t\t\tmodel_size =  df['model_size'].transpose()\n",
    "\t\t\ttotal_time = preprocess_time.to_numpy() + training_time.to_numpy() + prediction_time.to_numpy()\n",
    "\t\t\tresults[filename] = total_time * model_size.to_numpy()\n",
    "\n",
    "n_experiments = len(results[filename])\n",
    "\n",
    "fig = go.Figure()\n",
    "\n",
    "for ss_opt in subsampling_options:\n",
    "\tfor fr_opt in feature_reduction_options:\n",
    "\t\tx, y = [], []\n",
    "\t\tfor model in models:\n",
    "\t\t\tfilename = f'{DATASET}_{ss_opt}_{fr_opt}_{model}'\n",
    "\t\t\tx.extend([model for _ in range(n_experiments)])\n",
    "\t\t\ty.extend(list(results[filename]))\n",
    "\t\tfig.add_trace(go.Box(y=y, x=x, name=get_experiment_name(ss_opt, fr_opt)))\n",
    "\t\t\n",
    "\n",
    "fig.update_layout(\n",
    "\ttitle='total_time * model_size',\n",
    "\tyaxis_title='total_time * model_size',\n",
    "\tboxmode='group'\n",
    ")\n",
    "fig.show()\n"
   ]
  }
 ],
 "metadata": {
  "kernelspec": {
   "display_name": "tf",
   "language": "python",
   "name": "python3"
  },
  "language_info": {
   "codemirror_mode": {
    "name": "ipython",
    "version": 3
   },
   "file_extension": ".py",
   "mimetype": "text/x-python",
   "name": "python",
   "nbconvert_exporter": "python",
   "pygments_lexer": "ipython3",
   "version": "3.9.0"
  }
 },
 "nbformat": 4,
 "nbformat_minor": 2
}
