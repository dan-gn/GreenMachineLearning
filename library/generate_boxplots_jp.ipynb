{
 "cells": [
  {
   "cell_type": "code",
   "execution_count": 1,
   "metadata": {},
   "outputs": [],
   "source": [
    "# Libraries\n",
    "import numpy as np\n",
    "import pandas as pd\n",
    "import plotly.express as px\n",
    "import plotly.graph_objects as go\n",
    "import matplotlib.pyplot as plt"
   ]
  },
  {
   "cell_type": "code",
   "execution_count": 50,
   "metadata": {},
   "outputs": [],
   "source": [
    "# Datasets\n",
    "datasets = ['aids', 'students', 'malware']\n",
    "\n",
    "# Machine Learning models\n",
    "models = ['LogisticRegression', 'SVC', 'RandomForestClassifier', 'GradientBoostingClassifier','DeepNeuralNetwork']\n",
    "\n",
    "# Experiment options\n",
    "subsampling_options = ['False', 'True']\n",
    "feature_reduction_options = ['False', 'True']\n",
    "\n",
    "# Inputs\n",
    "DATASET = datasets[0]\n",
    "METRIC = 'log_loss'\n"
   ]
  },
  {
   "cell_type": "code",
   "execution_count": 47,
   "metadata": {},
   "outputs": [],
   "source": [
    "def get_experiment_name(ss_opt, fr_opt):\n",
    "\tif ss_opt == 'True' and fr_opt == 'True':\n",
    "\t\treturn 'SS & FR'\n",
    "\telif ss_opt == 'True':\n",
    "\t\treturn 'SS'\n",
    "\telif fr_opt == 'True':\n",
    "\t\treturn 'FR'\n",
    "\telse:\n",
    "\t\treturn 'Full'"
   ]
  },
  {
   "cell_type": "markdown",
   "metadata": {},
   "source": [
    "Read CSVs"
   ]
  },
  {
   "cell_type": "code",
   "execution_count": 52,
   "metadata": {},
   "outputs": [],
   "source": [
    "results = {}\n",
    "for model in models:\n",
    "    for ss_opt in subsampling_options:\n",
    "        for fr_opt in feature_reduction_options:\n",
    "            filename = f'{DATASET}_{ss_opt}_{fr_opt}_{model}'\n",
    "            path = f'../results/{filename}.csv'\n",
    "            df = pd.read_csv(path)\n",
    "            results[filename] = df[METRIC].transpose()\n"
   ]
  },
  {
   "cell_type": "markdown",
   "metadata": {},
   "source": [
    "Plot"
   ]
  },
  {
   "cell_type": "code",
   "execution_count": 55,
   "metadata": {},
   "outputs": [
    {
     "data": {
      "application/vnd.plotly.v1+json": {
       "config": {
        "plotlyServerURL": "https://plot.ly"
       },
       "data": [
        {
         "name": "Full",
         "type": "box",
         "x": [
          "LogisticRegression",
          "LogisticRegression",
          "LogisticRegression",
          "LogisticRegression",
          "LogisticRegression",
          "LogisticRegression",
          "LogisticRegression",
          "LogisticRegression",
          "LogisticRegression",
          "LogisticRegression",
          "LogisticRegression",
          "LogisticRegression",
          "LogisticRegression",
          "LogisticRegression",
          "LogisticRegression",
          "LogisticRegression",
          "LogisticRegression",
          "LogisticRegression",
          "LogisticRegression",
          "LogisticRegression",
          "SVC",
          "SVC",
          "SVC",
          "SVC",
          "SVC",
          "SVC",
          "SVC",
          "SVC",
          "SVC",
          "SVC",
          "SVC",
          "SVC",
          "SVC",
          "SVC",
          "SVC",
          "SVC",
          "SVC",
          "SVC",
          "SVC",
          "SVC",
          "RandomForestClassifier",
          "RandomForestClassifier",
          "RandomForestClassifier",
          "RandomForestClassifier",
          "RandomForestClassifier",
          "RandomForestClassifier",
          "RandomForestClassifier",
          "RandomForestClassifier",
          "RandomForestClassifier",
          "RandomForestClassifier",
          "RandomForestClassifier",
          "RandomForestClassifier",
          "RandomForestClassifier",
          "RandomForestClassifier",
          "RandomForestClassifier",
          "RandomForestClassifier",
          "RandomForestClassifier",
          "RandomForestClassifier",
          "RandomForestClassifier",
          "RandomForestClassifier",
          "GradientBoostingClassifier",
          "GradientBoostingClassifier",
          "GradientBoostingClassifier",
          "GradientBoostingClassifier",
          "GradientBoostingClassifier",
          "GradientBoostingClassifier",
          "GradientBoostingClassifier",
          "GradientBoostingClassifier",
          "GradientBoostingClassifier",
          "GradientBoostingClassifier",
          "GradientBoostingClassifier",
          "GradientBoostingClassifier",
          "GradientBoostingClassifier",
          "GradientBoostingClassifier",
          "GradientBoostingClassifier",
          "GradientBoostingClassifier",
          "GradientBoostingClassifier",
          "GradientBoostingClassifier",
          "GradientBoostingClassifier",
          "GradientBoostingClassifier",
          "DeepNeuralNetwork",
          "DeepNeuralNetwork",
          "DeepNeuralNetwork",
          "DeepNeuralNetwork",
          "DeepNeuralNetwork",
          "DeepNeuralNetwork",
          "DeepNeuralNetwork",
          "DeepNeuralNetwork",
          "DeepNeuralNetwork",
          "DeepNeuralNetwork",
          "DeepNeuralNetwork",
          "DeepNeuralNetwork",
          "DeepNeuralNetwork",
          "DeepNeuralNetwork",
          "DeepNeuralNetwork",
          "DeepNeuralNetwork",
          "DeepNeuralNetwork",
          "DeepNeuralNetwork",
          "DeepNeuralNetwork",
          "DeepNeuralNetwork"
         ],
         "y": [
          5.389705179681069,
          7.242416335196437,
          5.89499004027617,
          6.737131474601337,
          7.073988048331405,
          5.389705179681069,
          6.905559761466369,
          7.073988048331405,
          6.063418327141203,
          6.768761199834207,
          6.231846614006237,
          5.221276892816036,
          7.242416335196437,
          6.905559761466369,
          6.40027490087127,
          7.242416335196437,
          8.421414343251671,
          6.40027490087127,
          5.052848605951003,
          5.753447019859076,
          5.389705179681069,
          6.568703187736304,
          5.726561753411136,
          6.063418327141203,
          5.89499004027617,
          4.210707171625836,
          5.052848605951003,
          7.242416335196437,
          6.063418327141203,
          6.261104109846641,
          6.231846614006236,
          5.726561753411136,
          6.905559761466369,
          6.905559761466369,
          5.894990040276169,
          6.231846614006236,
          7.073988048331405,
          6.063418327141203,
          5.221276892816036,
          4.061256719900523,
          4.547563745355903,
          5.389705179681069,
          4.210707171625836,
          5.221276892816036,
          5.726561753411136,
          4.379135458490869,
          6.231846614006236,
          7.579272908926504,
          5.726561753411136,
          6.091885079850786,
          5.558133466546103,
          6.737131474601337,
          5.89499004027617,
          7.073988048331405,
          5.221276892816037,
          7.242416335196437,
          6.90555976146637,
          7.41084462206147,
          4.715992032220936,
          5.58422798986322,
          4.715992032220936,
          7.579272908926505,
          6.568703187736304,
          7.579272908926505,
          6.400274900871271,
          5.052848605951002,
          5.389705179681069,
          6.90555976146637,
          6.400274900871269,
          7.276418289821772,
          6.231846614006236,
          5.726561753411136,
          5.221276892816036,
          7.91612948265657,
          6.063418327141203,
          6.40027490087127,
          7.242416335196437,
          6.40027490087127,
          6.063418327141203,
          5.245789929871512,
          0.5534579783383666,
          0.5137846674373061,
          0.5362273840807781,
          0.476752424130306,
          0.5329459922757235,
          0.5498119600041123,
          0.5033544525060173,
          0.5236542135832764,
          0.5137417451876545,
          0.522652625048149,
          0.55506816640847,
          0.4526000822049149,
          0.4895432623648683,
          0.5491426788439986,
          0.4652639987679865,
          0.5200276464622166,
          0.5314804658231999,
          0.4930577369284833,
          0.5063260411717092,
          0.5087196902696118
         ]
        },
        {
         "name": "FR",
         "type": "box",
         "x": [
          "LogisticRegression",
          "LogisticRegression",
          "LogisticRegression",
          "LogisticRegression",
          "LogisticRegression",
          "LogisticRegression",
          "LogisticRegression",
          "LogisticRegression",
          "LogisticRegression",
          "LogisticRegression",
          "LogisticRegression",
          "LogisticRegression",
          "LogisticRegression",
          "LogisticRegression",
          "LogisticRegression",
          "LogisticRegression",
          "LogisticRegression",
          "LogisticRegression",
          "LogisticRegression",
          "LogisticRegression",
          "SVC",
          "SVC",
          "SVC",
          "SVC",
          "SVC",
          "SVC",
          "SVC",
          "SVC",
          "SVC",
          "SVC",
          "SVC",
          "SVC",
          "SVC",
          "SVC",
          "SVC",
          "SVC",
          "SVC",
          "SVC",
          "SVC",
          "SVC",
          "RandomForestClassifier",
          "RandomForestClassifier",
          "RandomForestClassifier",
          "RandomForestClassifier",
          "RandomForestClassifier",
          "RandomForestClassifier",
          "RandomForestClassifier",
          "RandomForestClassifier",
          "RandomForestClassifier",
          "RandomForestClassifier",
          "RandomForestClassifier",
          "RandomForestClassifier",
          "RandomForestClassifier",
          "RandomForestClassifier",
          "RandomForestClassifier",
          "RandomForestClassifier",
          "RandomForestClassifier",
          "RandomForestClassifier",
          "RandomForestClassifier",
          "RandomForestClassifier",
          "GradientBoostingClassifier",
          "GradientBoostingClassifier",
          "GradientBoostingClassifier",
          "GradientBoostingClassifier",
          "GradientBoostingClassifier",
          "GradientBoostingClassifier",
          "GradientBoostingClassifier",
          "GradientBoostingClassifier",
          "GradientBoostingClassifier",
          "GradientBoostingClassifier",
          "GradientBoostingClassifier",
          "GradientBoostingClassifier",
          "GradientBoostingClassifier",
          "GradientBoostingClassifier",
          "GradientBoostingClassifier",
          "GradientBoostingClassifier",
          "GradientBoostingClassifier",
          "GradientBoostingClassifier",
          "GradientBoostingClassifier",
          "GradientBoostingClassifier",
          "DeepNeuralNetwork",
          "DeepNeuralNetwork",
          "DeepNeuralNetwork",
          "DeepNeuralNetwork",
          "DeepNeuralNetwork",
          "DeepNeuralNetwork",
          "DeepNeuralNetwork",
          "DeepNeuralNetwork",
          "DeepNeuralNetwork",
          "DeepNeuralNetwork",
          "DeepNeuralNetwork",
          "DeepNeuralNetwork",
          "DeepNeuralNetwork",
          "DeepNeuralNetwork",
          "DeepNeuralNetwork",
          "DeepNeuralNetwork",
          "DeepNeuralNetwork",
          "DeepNeuralNetwork",
          "DeepNeuralNetwork",
          "DeepNeuralNetwork"
         ],
         "y": [
          6.40027490087127,
          7.242416335196437,
          5.89499004027617,
          7.073988048331405,
          7.41084462206147,
          5.052848605951003,
          7.579272908926504,
          6.905559761466369,
          6.40027490087127,
          6.768761199834207,
          6.231846614006236,
          5.726561753411136,
          6.905559761466369,
          7.073988048331404,
          5.894990040276169,
          7.242416335196437,
          8.421414343251671,
          6.231846614006236,
          5.052848605951003,
          5.58422798986322,
          6.568703187736304,
          7.41084462206147,
          6.40027490087127,
          5.726561753411136,
          6.737131474601337,
          5.052848605951003,
          6.063418327141203,
          7.242416335196437,
          5.894990040276169,
          5.58422798986322,
          5.89499004027617,
          7.073988048331405,
          6.568703187736304,
          6.231846614006236,
          5.894990040276169,
          5.726561753411136,
          7.242416335196437,
          5.894990040276169,
          4.715992032220936,
          4.23047574989638,
          4.379135458490868,
          7.91612948265657,
          5.726561753411136,
          6.40027490087127,
          6.737131474601337,
          4.884420319085969,
          6.568703187736304,
          6.737131474601337,
          6.231846614006237,
          6.091885079850786,
          6.063418327141203,
          5.389705179681069,
          6.40027490087127,
          6.40027490087127,
          5.89499004027617,
          6.737131474601337,
          9.431984064441872,
          5.726561753411136,
          5.221276892816036,
          4.738132839883944,
          5.221276892816037,
          7.41084462206147,
          7.41084462206147,
          5.89499004027617,
          6.40027490087127,
          5.894990040276169,
          6.063418327141203,
          7.747701195791538,
          5.89499004027617,
          5.92266604985493,
          7.073988048331405,
          7.579272908926504,
          4.547563745355903,
          7.747701195791538,
          6.063418327141203,
          7.073988048331405,
          7.242416335196437,
          6.568703187736304,
          5.052848605951003,
          5.415008959867365,
          0.5445608778649285,
          0.5215792161985786,
          0.4829209970486991,
          0.4983169151933249,
          0.5206505090484296,
          0.4979517686851723,
          0.5610596886724024,
          0.483429102157944,
          0.4880544913713761,
          0.4866373112835337,
          0.4969671316624002,
          0.4983564714408682,
          0.4885611441111115,
          0.5081816380444579,
          0.5351689497909373,
          0.5453703471455227,
          0.5073460830381687,
          0.4401675804570978,
          0.4912589394258448,
          0.4646136097522859
         ]
        },
        {
         "name": "SS",
         "type": "box",
         "x": [
          "LogisticRegression",
          "LogisticRegression",
          "LogisticRegression",
          "LogisticRegression",
          "LogisticRegression",
          "LogisticRegression",
          "LogisticRegression",
          "LogisticRegression",
          "LogisticRegression",
          "LogisticRegression",
          "LogisticRegression",
          "LogisticRegression",
          "LogisticRegression",
          "LogisticRegression",
          "LogisticRegression",
          "LogisticRegression",
          "LogisticRegression",
          "LogisticRegression",
          "LogisticRegression",
          "LogisticRegression",
          "SVC",
          "SVC",
          "SVC",
          "SVC",
          "SVC",
          "SVC",
          "SVC",
          "SVC",
          "SVC",
          "SVC",
          "SVC",
          "SVC",
          "SVC",
          "SVC",
          "SVC",
          "SVC",
          "SVC",
          "SVC",
          "SVC",
          "SVC",
          "RandomForestClassifier",
          "RandomForestClassifier",
          "RandomForestClassifier",
          "RandomForestClassifier",
          "RandomForestClassifier",
          "RandomForestClassifier",
          "RandomForestClassifier",
          "RandomForestClassifier",
          "RandomForestClassifier",
          "RandomForestClassifier",
          "RandomForestClassifier",
          "RandomForestClassifier",
          "RandomForestClassifier",
          "RandomForestClassifier",
          "RandomForestClassifier",
          "RandomForestClassifier",
          "RandomForestClassifier",
          "RandomForestClassifier",
          "RandomForestClassifier",
          "RandomForestClassifier",
          "GradientBoostingClassifier",
          "GradientBoostingClassifier",
          "GradientBoostingClassifier",
          "GradientBoostingClassifier",
          "GradientBoostingClassifier",
          "GradientBoostingClassifier",
          "GradientBoostingClassifier",
          "GradientBoostingClassifier",
          "GradientBoostingClassifier",
          "GradientBoostingClassifier",
          "GradientBoostingClassifier",
          "GradientBoostingClassifier",
          "GradientBoostingClassifier",
          "GradientBoostingClassifier",
          "GradientBoostingClassifier",
          "GradientBoostingClassifier",
          "GradientBoostingClassifier",
          "GradientBoostingClassifier",
          "GradientBoostingClassifier",
          "GradientBoostingClassifier",
          "DeepNeuralNetwork",
          "DeepNeuralNetwork",
          "DeepNeuralNetwork",
          "DeepNeuralNetwork",
          "DeepNeuralNetwork",
          "DeepNeuralNetwork",
          "DeepNeuralNetwork",
          "DeepNeuralNetwork",
          "DeepNeuralNetwork",
          "DeepNeuralNetwork",
          "DeepNeuralNetwork",
          "DeepNeuralNetwork",
          "DeepNeuralNetwork",
          "DeepNeuralNetwork",
          "DeepNeuralNetwork",
          "DeepNeuralNetwork",
          "DeepNeuralNetwork",
          "DeepNeuralNetwork",
          "DeepNeuralNetwork",
          "DeepNeuralNetwork"
         ],
         "y": [
          6.737131474601337,
          6.905559761466369,
          6.231846614006236,
          6.737131474601337,
          7.073988048331405,
          5.894990040276169,
          6.905559761466369,
          6.40027490087127,
          6.40027490087127,
          6.768761199834207,
          6.400274900871271,
          4.884420319085969,
          6.90555976146637,
          7.242416335196437,
          6.063418327141203,
          7.579272908926504,
          8.421414343251671,
          6.40027490087127,
          5.052848605951003,
          5.58422798986322,
          4.042278884760802,
          6.905559761466369,
          5.726561753411136,
          6.568703187736304,
          8.75827091698174,
          5.052848605951002,
          6.568703187736304,
          7.41084462206147,
          6.063418327141203,
          6.091885079850786,
          5.89499004027617,
          6.737131474601337,
          7.579272908926504,
          7.5792729089265025,
          5.726561753411136,
          6.568703187736304,
          8.25298605638664,
          6.905559761466372,
          5.558133466546103,
          4.399694779892236,
          5.052848605951002,
          7.242416335196437,
          5.89499004027617,
          5.221276892816036,
          7.747701195791538,
          5.052848605951002,
          6.231846614006236,
          7.747701195791538,
          7.242416335196437,
          5.415008959867365,
          6.063418327141203,
          5.052848605951003,
          5.389705179681069,
          7.41084462206147,
          5.89499004027617,
          7.242416335196437,
          8.25298605638664,
          4.884420319085969,
          4.884420319085969,
          4.568913809888089,
          4.042278884760802,
          6.568703187736304,
          5.726561753411136,
          5.389705179681069,
          6.40027490087127,
          6.231846614006236,
          6.905559761466369,
          7.747701195791538,
          5.389705179681069,
          5.922666049854931,
          5.726561753411136,
          6.40027490087127,
          5.052848605951003,
          7.747701195791537,
          4.884420319085969,
          6.568703187736303,
          6.737131474601337,
          7.579272908926505,
          5.558133466546103,
          4.568913809888089,
          0.4782414101754467,
          0.5062249024288087,
          0.5045701685337823,
          0.5016551396663306,
          0.4910514975858417,
          0.4858845107835851,
          0.4970024975401674,
          0.5409966699507965,
          0.5035913309178595,
          0.4944303314529901,
          0.539687036102852,
          0.5077275309454424,
          0.4488816218966873,
          0.5100615891734783,
          0.4794421676560133,
          0.5446841459679023,
          0.5180790162749893,
          0.5123808762623467,
          0.494535136553802,
          0.4946070171829915
         ]
        },
        {
         "name": "SS & FR",
         "type": "box",
         "x": [
          "LogisticRegression",
          "LogisticRegression",
          "LogisticRegression",
          "LogisticRegression",
          "LogisticRegression",
          "LogisticRegression",
          "LogisticRegression",
          "LogisticRegression",
          "LogisticRegression",
          "LogisticRegression",
          "LogisticRegression",
          "LogisticRegression",
          "LogisticRegression",
          "LogisticRegression",
          "LogisticRegression",
          "LogisticRegression",
          "LogisticRegression",
          "LogisticRegression",
          "LogisticRegression",
          "LogisticRegression",
          "SVC",
          "SVC",
          "SVC",
          "SVC",
          "SVC",
          "SVC",
          "SVC",
          "SVC",
          "SVC",
          "SVC",
          "SVC",
          "SVC",
          "SVC",
          "SVC",
          "SVC",
          "SVC",
          "SVC",
          "SVC",
          "SVC",
          "SVC",
          "RandomForestClassifier",
          "RandomForestClassifier",
          "RandomForestClassifier",
          "RandomForestClassifier",
          "RandomForestClassifier",
          "RandomForestClassifier",
          "RandomForestClassifier",
          "RandomForestClassifier",
          "RandomForestClassifier",
          "RandomForestClassifier",
          "RandomForestClassifier",
          "RandomForestClassifier",
          "RandomForestClassifier",
          "RandomForestClassifier",
          "RandomForestClassifier",
          "RandomForestClassifier",
          "RandomForestClassifier",
          "RandomForestClassifier",
          "RandomForestClassifier",
          "RandomForestClassifier",
          "GradientBoostingClassifier",
          "GradientBoostingClassifier",
          "GradientBoostingClassifier",
          "GradientBoostingClassifier",
          "GradientBoostingClassifier",
          "GradientBoostingClassifier",
          "GradientBoostingClassifier",
          "GradientBoostingClassifier",
          "GradientBoostingClassifier",
          "GradientBoostingClassifier",
          "GradientBoostingClassifier",
          "GradientBoostingClassifier",
          "GradientBoostingClassifier",
          "GradientBoostingClassifier",
          "GradientBoostingClassifier",
          "GradientBoostingClassifier",
          "GradientBoostingClassifier",
          "GradientBoostingClassifier",
          "GradientBoostingClassifier",
          "GradientBoostingClassifier",
          "DeepNeuralNetwork",
          "DeepNeuralNetwork",
          "DeepNeuralNetwork",
          "DeepNeuralNetwork",
          "DeepNeuralNetwork",
          "DeepNeuralNetwork",
          "DeepNeuralNetwork",
          "DeepNeuralNetwork",
          "DeepNeuralNetwork",
          "DeepNeuralNetwork",
          "DeepNeuralNetwork",
          "DeepNeuralNetwork",
          "DeepNeuralNetwork",
          "DeepNeuralNetwork",
          "DeepNeuralNetwork",
          "DeepNeuralNetwork",
          "DeepNeuralNetwork",
          "DeepNeuralNetwork",
          "DeepNeuralNetwork",
          "DeepNeuralNetwork"
         ],
         "y": [
          5.89499004027617,
          7.5792729089265025,
          6.063418327141203,
          6.231846614006237,
          8.25298605638664,
          5.221276892816036,
          6.905559761466372,
          6.568703187736304,
          6.231846614006236,
          6.768761199834207,
          6.063418327141203,
          5.558133466546103,
          7.242416335196437,
          7.747701195791538,
          6.737131474601337,
          7.579272908926504,
          7.91612948265657,
          6.231846614006236,
          4.547563745355902,
          5.24578992987151,
          6.400274900871271,
          6.40027490087127,
          6.737131474601337,
          6.063418327141203,
          7.073988048331405,
          4.379135458490869,
          6.231846614006236,
          7.073988048331404,
          5.726561753411136,
          6.091885079850786,
          6.231846614006236,
          6.737131474601337,
          6.231846614006236,
          6.40027490087127,
          5.052848605951002,
          6.063418327141203,
          6.40027490087127,
          6.231846614006236,
          6.231846614006236,
          4.9073518698798,
          5.052848605951003,
          7.242416335196437,
          5.221276892816037,
          5.894990040276169,
          6.90555976146637,
          4.210707171625836,
          7.41084462206147,
          7.41084462206147,
          5.894990040276169,
          6.091885079850786,
          6.063418327141203,
          6.063418327141203,
          5.89499004027617,
          7.41084462206147,
          5.558133466546103,
          6.737131474601337,
          7.242416335196437,
          6.40027490087127,
          4.547563745355903,
          4.738132839883945,
          3.873850597895769,
          6.905559761466369,
          6.40027490087127,
          6.568703187736304,
          6.905559761466369,
          4.210707171625836,
          5.558133466546103,
          7.579272908926504,
          5.389705179681069,
          5.922666049854931,
          6.063418327141203,
          7.41084462206147,
          6.568703187736304,
          7.5792729089265025,
          3.705422311030735,
          5.389705179681069,
          7.747701195791538,
          5.389705179681069,
          3.873850597895769,
          4.568913809888089,
          0.5060956980828066,
          0.4836339527596475,
          0.5394831262302762,
          0.5717751763878124,
          0.5291896201275722,
          0.4760335373258678,
          0.4722759171245816,
          0.5230450871620088,
          0.5212208200110912,
          0.5434854675458581,
          0.5075247453317369,
          0.5564495480419013,
          0.5288661127437533,
          0.5136848144520981,
          0.5228183996604099,
          0.4899439471491207,
          0.5456927212939047,
          0.5408488843742059,
          0.5284061491942952,
          0.4397816805887037
         ]
        }
       ],
       "layout": {
        "boxmode": "group",
        "template": {
         "data": {
          "bar": [
           {
            "error_x": {
             "color": "#2a3f5f"
            },
            "error_y": {
             "color": "#2a3f5f"
            },
            "marker": {
             "line": {
              "color": "#E5ECF6",
              "width": 0.5
             },
             "pattern": {
              "fillmode": "overlay",
              "size": 10,
              "solidity": 0.2
             }
            },
            "type": "bar"
           }
          ],
          "barpolar": [
           {
            "marker": {
             "line": {
              "color": "#E5ECF6",
              "width": 0.5
             },
             "pattern": {
              "fillmode": "overlay",
              "size": 10,
              "solidity": 0.2
             }
            },
            "type": "barpolar"
           }
          ],
          "carpet": [
           {
            "aaxis": {
             "endlinecolor": "#2a3f5f",
             "gridcolor": "white",
             "linecolor": "white",
             "minorgridcolor": "white",
             "startlinecolor": "#2a3f5f"
            },
            "baxis": {
             "endlinecolor": "#2a3f5f",
             "gridcolor": "white",
             "linecolor": "white",
             "minorgridcolor": "white",
             "startlinecolor": "#2a3f5f"
            },
            "type": "carpet"
           }
          ],
          "choropleth": [
           {
            "colorbar": {
             "outlinewidth": 0,
             "ticks": ""
            },
            "type": "choropleth"
           }
          ],
          "contour": [
           {
            "colorbar": {
             "outlinewidth": 0,
             "ticks": ""
            },
            "colorscale": [
             [
              0,
              "#0d0887"
             ],
             [
              0.1111111111111111,
              "#46039f"
             ],
             [
              0.2222222222222222,
              "#7201a8"
             ],
             [
              0.3333333333333333,
              "#9c179e"
             ],
             [
              0.4444444444444444,
              "#bd3786"
             ],
             [
              0.5555555555555556,
              "#d8576b"
             ],
             [
              0.6666666666666666,
              "#ed7953"
             ],
             [
              0.7777777777777778,
              "#fb9f3a"
             ],
             [
              0.8888888888888888,
              "#fdca26"
             ],
             [
              1,
              "#f0f921"
             ]
            ],
            "type": "contour"
           }
          ],
          "contourcarpet": [
           {
            "colorbar": {
             "outlinewidth": 0,
             "ticks": ""
            },
            "type": "contourcarpet"
           }
          ],
          "heatmap": [
           {
            "colorbar": {
             "outlinewidth": 0,
             "ticks": ""
            },
            "colorscale": [
             [
              0,
              "#0d0887"
             ],
             [
              0.1111111111111111,
              "#46039f"
             ],
             [
              0.2222222222222222,
              "#7201a8"
             ],
             [
              0.3333333333333333,
              "#9c179e"
             ],
             [
              0.4444444444444444,
              "#bd3786"
             ],
             [
              0.5555555555555556,
              "#d8576b"
             ],
             [
              0.6666666666666666,
              "#ed7953"
             ],
             [
              0.7777777777777778,
              "#fb9f3a"
             ],
             [
              0.8888888888888888,
              "#fdca26"
             ],
             [
              1,
              "#f0f921"
             ]
            ],
            "type": "heatmap"
           }
          ],
          "heatmapgl": [
           {
            "colorbar": {
             "outlinewidth": 0,
             "ticks": ""
            },
            "colorscale": [
             [
              0,
              "#0d0887"
             ],
             [
              0.1111111111111111,
              "#46039f"
             ],
             [
              0.2222222222222222,
              "#7201a8"
             ],
             [
              0.3333333333333333,
              "#9c179e"
             ],
             [
              0.4444444444444444,
              "#bd3786"
             ],
             [
              0.5555555555555556,
              "#d8576b"
             ],
             [
              0.6666666666666666,
              "#ed7953"
             ],
             [
              0.7777777777777778,
              "#fb9f3a"
             ],
             [
              0.8888888888888888,
              "#fdca26"
             ],
             [
              1,
              "#f0f921"
             ]
            ],
            "type": "heatmapgl"
           }
          ],
          "histogram": [
           {
            "marker": {
             "pattern": {
              "fillmode": "overlay",
              "size": 10,
              "solidity": 0.2
             }
            },
            "type": "histogram"
           }
          ],
          "histogram2d": [
           {
            "colorbar": {
             "outlinewidth": 0,
             "ticks": ""
            },
            "colorscale": [
             [
              0,
              "#0d0887"
             ],
             [
              0.1111111111111111,
              "#46039f"
             ],
             [
              0.2222222222222222,
              "#7201a8"
             ],
             [
              0.3333333333333333,
              "#9c179e"
             ],
             [
              0.4444444444444444,
              "#bd3786"
             ],
             [
              0.5555555555555556,
              "#d8576b"
             ],
             [
              0.6666666666666666,
              "#ed7953"
             ],
             [
              0.7777777777777778,
              "#fb9f3a"
             ],
             [
              0.8888888888888888,
              "#fdca26"
             ],
             [
              1,
              "#f0f921"
             ]
            ],
            "type": "histogram2d"
           }
          ],
          "histogram2dcontour": [
           {
            "colorbar": {
             "outlinewidth": 0,
             "ticks": ""
            },
            "colorscale": [
             [
              0,
              "#0d0887"
             ],
             [
              0.1111111111111111,
              "#46039f"
             ],
             [
              0.2222222222222222,
              "#7201a8"
             ],
             [
              0.3333333333333333,
              "#9c179e"
             ],
             [
              0.4444444444444444,
              "#bd3786"
             ],
             [
              0.5555555555555556,
              "#d8576b"
             ],
             [
              0.6666666666666666,
              "#ed7953"
             ],
             [
              0.7777777777777778,
              "#fb9f3a"
             ],
             [
              0.8888888888888888,
              "#fdca26"
             ],
             [
              1,
              "#f0f921"
             ]
            ],
            "type": "histogram2dcontour"
           }
          ],
          "mesh3d": [
           {
            "colorbar": {
             "outlinewidth": 0,
             "ticks": ""
            },
            "type": "mesh3d"
           }
          ],
          "parcoords": [
           {
            "line": {
             "colorbar": {
              "outlinewidth": 0,
              "ticks": ""
             }
            },
            "type": "parcoords"
           }
          ],
          "pie": [
           {
            "automargin": true,
            "type": "pie"
           }
          ],
          "scatter": [
           {
            "fillpattern": {
             "fillmode": "overlay",
             "size": 10,
             "solidity": 0.2
            },
            "type": "scatter"
           }
          ],
          "scatter3d": [
           {
            "line": {
             "colorbar": {
              "outlinewidth": 0,
              "ticks": ""
             }
            },
            "marker": {
             "colorbar": {
              "outlinewidth": 0,
              "ticks": ""
             }
            },
            "type": "scatter3d"
           }
          ],
          "scattercarpet": [
           {
            "marker": {
             "colorbar": {
              "outlinewidth": 0,
              "ticks": ""
             }
            },
            "type": "scattercarpet"
           }
          ],
          "scattergeo": [
           {
            "marker": {
             "colorbar": {
              "outlinewidth": 0,
              "ticks": ""
             }
            },
            "type": "scattergeo"
           }
          ],
          "scattergl": [
           {
            "marker": {
             "colorbar": {
              "outlinewidth": 0,
              "ticks": ""
             }
            },
            "type": "scattergl"
           }
          ],
          "scattermapbox": [
           {
            "marker": {
             "colorbar": {
              "outlinewidth": 0,
              "ticks": ""
             }
            },
            "type": "scattermapbox"
           }
          ],
          "scatterpolar": [
           {
            "marker": {
             "colorbar": {
              "outlinewidth": 0,
              "ticks": ""
             }
            },
            "type": "scatterpolar"
           }
          ],
          "scatterpolargl": [
           {
            "marker": {
             "colorbar": {
              "outlinewidth": 0,
              "ticks": ""
             }
            },
            "type": "scatterpolargl"
           }
          ],
          "scatterternary": [
           {
            "marker": {
             "colorbar": {
              "outlinewidth": 0,
              "ticks": ""
             }
            },
            "type": "scatterternary"
           }
          ],
          "surface": [
           {
            "colorbar": {
             "outlinewidth": 0,
             "ticks": ""
            },
            "colorscale": [
             [
              0,
              "#0d0887"
             ],
             [
              0.1111111111111111,
              "#46039f"
             ],
             [
              0.2222222222222222,
              "#7201a8"
             ],
             [
              0.3333333333333333,
              "#9c179e"
             ],
             [
              0.4444444444444444,
              "#bd3786"
             ],
             [
              0.5555555555555556,
              "#d8576b"
             ],
             [
              0.6666666666666666,
              "#ed7953"
             ],
             [
              0.7777777777777778,
              "#fb9f3a"
             ],
             [
              0.8888888888888888,
              "#fdca26"
             ],
             [
              1,
              "#f0f921"
             ]
            ],
            "type": "surface"
           }
          ],
          "table": [
           {
            "cells": {
             "fill": {
              "color": "#EBF0F8"
             },
             "line": {
              "color": "white"
             }
            },
            "header": {
             "fill": {
              "color": "#C8D4E3"
             },
             "line": {
              "color": "white"
             }
            },
            "type": "table"
           }
          ]
         },
         "layout": {
          "annotationdefaults": {
           "arrowcolor": "#2a3f5f",
           "arrowhead": 0,
           "arrowwidth": 1
          },
          "autotypenumbers": "strict",
          "coloraxis": {
           "colorbar": {
            "outlinewidth": 0,
            "ticks": ""
           }
          },
          "colorscale": {
           "diverging": [
            [
             0,
             "#8e0152"
            ],
            [
             0.1,
             "#c51b7d"
            ],
            [
             0.2,
             "#de77ae"
            ],
            [
             0.3,
             "#f1b6da"
            ],
            [
             0.4,
             "#fde0ef"
            ],
            [
             0.5,
             "#f7f7f7"
            ],
            [
             0.6,
             "#e6f5d0"
            ],
            [
             0.7,
             "#b8e186"
            ],
            [
             0.8,
             "#7fbc41"
            ],
            [
             0.9,
             "#4d9221"
            ],
            [
             1,
             "#276419"
            ]
           ],
           "sequential": [
            [
             0,
             "#0d0887"
            ],
            [
             0.1111111111111111,
             "#46039f"
            ],
            [
             0.2222222222222222,
             "#7201a8"
            ],
            [
             0.3333333333333333,
             "#9c179e"
            ],
            [
             0.4444444444444444,
             "#bd3786"
            ],
            [
             0.5555555555555556,
             "#d8576b"
            ],
            [
             0.6666666666666666,
             "#ed7953"
            ],
            [
             0.7777777777777778,
             "#fb9f3a"
            ],
            [
             0.8888888888888888,
             "#fdca26"
            ],
            [
             1,
             "#f0f921"
            ]
           ],
           "sequentialminus": [
            [
             0,
             "#0d0887"
            ],
            [
             0.1111111111111111,
             "#46039f"
            ],
            [
             0.2222222222222222,
             "#7201a8"
            ],
            [
             0.3333333333333333,
             "#9c179e"
            ],
            [
             0.4444444444444444,
             "#bd3786"
            ],
            [
             0.5555555555555556,
             "#d8576b"
            ],
            [
             0.6666666666666666,
             "#ed7953"
            ],
            [
             0.7777777777777778,
             "#fb9f3a"
            ],
            [
             0.8888888888888888,
             "#fdca26"
            ],
            [
             1,
             "#f0f921"
            ]
           ]
          },
          "colorway": [
           "#636efa",
           "#EF553B",
           "#00cc96",
           "#ab63fa",
           "#FFA15A",
           "#19d3f3",
           "#FF6692",
           "#B6E880",
           "#FF97FF",
           "#FECB52"
          ],
          "font": {
           "color": "#2a3f5f"
          },
          "geo": {
           "bgcolor": "white",
           "lakecolor": "white",
           "landcolor": "#E5ECF6",
           "showlakes": true,
           "showland": true,
           "subunitcolor": "white"
          },
          "hoverlabel": {
           "align": "left"
          },
          "hovermode": "closest",
          "mapbox": {
           "style": "light"
          },
          "paper_bgcolor": "white",
          "plot_bgcolor": "#E5ECF6",
          "polar": {
           "angularaxis": {
            "gridcolor": "white",
            "linecolor": "white",
            "ticks": ""
           },
           "bgcolor": "#E5ECF6",
           "radialaxis": {
            "gridcolor": "white",
            "linecolor": "white",
            "ticks": ""
           }
          },
          "scene": {
           "xaxis": {
            "backgroundcolor": "#E5ECF6",
            "gridcolor": "white",
            "gridwidth": 2,
            "linecolor": "white",
            "showbackground": true,
            "ticks": "",
            "zerolinecolor": "white"
           },
           "yaxis": {
            "backgroundcolor": "#E5ECF6",
            "gridcolor": "white",
            "gridwidth": 2,
            "linecolor": "white",
            "showbackground": true,
            "ticks": "",
            "zerolinecolor": "white"
           },
           "zaxis": {
            "backgroundcolor": "#E5ECF6",
            "gridcolor": "white",
            "gridwidth": 2,
            "linecolor": "white",
            "showbackground": true,
            "ticks": "",
            "zerolinecolor": "white"
           }
          },
          "shapedefaults": {
           "line": {
            "color": "#2a3f5f"
           }
          },
          "ternary": {
           "aaxis": {
            "gridcolor": "white",
            "linecolor": "white",
            "ticks": ""
           },
           "baxis": {
            "gridcolor": "white",
            "linecolor": "white",
            "ticks": ""
           },
           "bgcolor": "#E5ECF6",
           "caxis": {
            "gridcolor": "white",
            "linecolor": "white",
            "ticks": ""
           }
          },
          "title": {
           "x": 0.05
          },
          "xaxis": {
           "automargin": true,
           "gridcolor": "white",
           "linecolor": "white",
           "ticks": "",
           "title": {
            "standoff": 15
           },
           "zerolinecolor": "white",
           "zerolinewidth": 2
          },
          "yaxis": {
           "automargin": true,
           "gridcolor": "white",
           "linecolor": "white",
           "ticks": "",
           "title": {
            "standoff": 15
           },
           "zerolinecolor": "white",
           "zerolinewidth": 2
          }
         }
        },
        "title": {
         "text": "log_loss"
        },
        "yaxis": {
         "title": {
          "text": "log_loss"
         }
        }
       }
      }
     },
     "metadata": {},
     "output_type": "display_data"
    }
   ],
   "source": [
    "n_experiments = len(results[filename])\n",
    "\n",
    "fig = go.Figure()\n",
    "\n",
    "for ss_opt in subsampling_options:\n",
    "    for fr_opt in feature_reduction_options:\n",
    "        x, y = [], []\n",
    "        for model in models:\n",
    "            filename = f'{DATASET}_{ss_opt}_{fr_opt}_{model}'\n",
    "            x.extend([model for _ in range(n_experiments)])\n",
    "            y.extend(list(results[filename]))\n",
    "        fig.add_trace(go.Box(y=y, x=x, name=get_experiment_name(ss_opt, fr_opt)))\n",
    "        \n",
    "\n",
    "fig.update_layout(\n",
    "    title=METRIC,\n",
    "    yaxis_title=METRIC,\n",
    "    boxmode='group'\n",
    ")\n",
    "fig.show()"
   ]
  },
  {
   "cell_type": "code",
   "execution_count": null,
   "metadata": {},
   "outputs": [],
   "source": []
  }
 ],
 "metadata": {
  "kernelspec": {
   "display_name": "tf",
   "language": "python",
   "name": "python3"
  },
  "language_info": {
   "codemirror_mode": {
    "name": "ipython",
    "version": 3
   },
   "file_extension": ".py",
   "mimetype": "text/x-python",
   "name": "python",
   "nbconvert_exporter": "python",
   "pygments_lexer": "ipython3",
   "version": "3.9.0"
  }
 },
 "nbformat": 4,
 "nbformat_minor": 2
}
