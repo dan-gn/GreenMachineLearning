{
 "cells": [
  {
   "cell_type": "code",
   "execution_count": 1,
   "metadata": {},
   "outputs": [],
   "source": [
    "# Libraries\n",
    "import numpy as np\n",
    "import pandas as pd\n",
    "import plotly.express as px\n",
    "import plotly.graph_objects as go\n",
    "import matplotlib.pyplot as plt"
   ]
  },
  {
   "cell_type": "code",
   "execution_count": 2,
   "metadata": {},
   "outputs": [],
   "source": [
    "def get_experiment_name(ss_opt, fr_opt):\n",
    "\tif ss_opt == 'True' and fr_opt == 'True':\n",
    "\t\treturn 'SS & FR'\n",
    "\telif ss_opt == 'True':\n",
    "\t\treturn 'SS'\n",
    "\telif fr_opt == 'True':\n",
    "\t\treturn 'FR'\n",
    "\telse:\n",
    "\t\treturn 'Full'"
   ]
  },
  {
   "cell_type": "code",
   "execution_count": 3,
   "metadata": {},
   "outputs": [],
   "source": [
    "# Datasets\n",
    "datasets = ['aids', 'students', 'malware']\n",
    "\n",
    "# Machine Learning models\n",
    "models = ['LogisticRegression', 'SVC', 'RandomForestClassifier', 'GradientBoostingClassifier','DeepNeuralNetwork']\n",
    "\n",
    "# Experiment options\n",
    "subsampling_options = ['False', 'True']\n",
    "feature_reduction_options = ['False', 'True']\n",
    "\n",
    "# Inputs\n",
    "DATASET = datasets[1]\n"
   ]
  },
  {
   "cell_type": "markdown",
   "metadata": {},
   "source": [
    "Function to generate plots"
   ]
  },
  {
   "cell_type": "code",
   "execution_count": 4,
   "metadata": {},
   "outputs": [],
   "source": [
    "def make_plots(metric):\n",
    "    results = {}\n",
    "    for model in models:\n",
    "        for ss_opt in subsampling_options:\n",
    "            for fr_opt in feature_reduction_options:\n",
    "                filename = f'{DATASET}_{ss_opt}_{fr_opt}_{model}'\n",
    "                path = f'../results/{filename}.csv'\n",
    "                df = pd.read_csv(path)\n",
    "                results[filename] = df[metric].transpose()\n",
    "\n",
    "    n_experiments = len(results[filename])\n",
    "\n",
    "    fig = go.Figure()\n",
    "\n",
    "    for ss_opt in subsampling_options:\n",
    "        for fr_opt in feature_reduction_options:\n",
    "            x, y = [], []\n",
    "            for model in models:\n",
    "                filename = f'{DATASET}_{ss_opt}_{fr_opt}_{model}'\n",
    "                x.extend([model for _ in range(n_experiments)])\n",
    "                y.extend(list(results[filename]))\n",
    "            fig.add_trace(go.Box(y=y, x=x, name=get_experiment_name(ss_opt, fr_opt)))\n",
    "            \n",
    "\n",
    "    fig.update_layout(\n",
    "        title=metric,\n",
    "        yaxis_title=metric,\n",
    "        boxmode='group'\n",
    "    )\n",
    "    fig.show()\n"
   ]
  },
  {
   "cell_type": "code",
   "execution_count": 5,
   "metadata": {},
   "outputs": [
    {
     "data": {
      "application/vnd.plotly.v1+json": {
       "config": {
        "plotlyServerURL": "https://plot.ly"
       },
       "data": [
        {
         "name": "Full",
         "type": "box",
         "x": [
          "LogisticRegression",
          "LogisticRegression",
          "LogisticRegression",
          "LogisticRegression",
          "LogisticRegression",
          "LogisticRegression",
          "LogisticRegression",
          "LogisticRegression",
          "LogisticRegression",
          "LogisticRegression",
          "LogisticRegression",
          "LogisticRegression",
          "LogisticRegression",
          "LogisticRegression",
          "LogisticRegression",
          "LogisticRegression",
          "LogisticRegression",
          "LogisticRegression",
          "LogisticRegression",
          "LogisticRegression",
          "SVC",
          "SVC",
          "SVC",
          "SVC",
          "SVC",
          "SVC",
          "SVC",
          "SVC",
          "SVC",
          "SVC",
          "SVC",
          "SVC",
          "SVC",
          "SVC",
          "SVC",
          "SVC",
          "SVC",
          "SVC",
          "SVC",
          "SVC",
          "RandomForestClassifier",
          "RandomForestClassifier",
          "RandomForestClassifier",
          "RandomForestClassifier",
          "RandomForestClassifier",
          "RandomForestClassifier",
          "RandomForestClassifier",
          "RandomForestClassifier",
          "RandomForestClassifier",
          "RandomForestClassifier",
          "RandomForestClassifier",
          "RandomForestClassifier",
          "RandomForestClassifier",
          "RandomForestClassifier",
          "RandomForestClassifier",
          "RandomForestClassifier",
          "RandomForestClassifier",
          "RandomForestClassifier",
          "RandomForestClassifier",
          "RandomForestClassifier",
          "GradientBoostingClassifier",
          "GradientBoostingClassifier",
          "GradientBoostingClassifier",
          "GradientBoostingClassifier",
          "GradientBoostingClassifier",
          "GradientBoostingClassifier",
          "GradientBoostingClassifier",
          "GradientBoostingClassifier",
          "GradientBoostingClassifier",
          "GradientBoostingClassifier",
          "GradientBoostingClassifier",
          "GradientBoostingClassifier",
          "GradientBoostingClassifier",
          "GradientBoostingClassifier",
          "GradientBoostingClassifier",
          "GradientBoostingClassifier",
          "GradientBoostingClassifier",
          "GradientBoostingClassifier",
          "GradientBoostingClassifier",
          "GradientBoostingClassifier",
          "DeepNeuralNetwork",
          "DeepNeuralNetwork",
          "DeepNeuralNetwork",
          "DeepNeuralNetwork",
          "DeepNeuralNetwork",
          "DeepNeuralNetwork",
          "DeepNeuralNetwork",
          "DeepNeuralNetwork",
          "DeepNeuralNetwork",
          "DeepNeuralNetwork",
          "DeepNeuralNetwork",
          "DeepNeuralNetwork",
          "DeepNeuralNetwork",
          "DeepNeuralNetwork",
          "DeepNeuralNetwork",
          "DeepNeuralNetwork",
          "DeepNeuralNetwork",
          "DeepNeuralNetwork",
          "DeepNeuralNetwork",
          "DeepNeuralNetwork"
         ],
         "y": [
          0.6772009029345373,
          0.6794582392776524,
          0.6794582392776524,
          0.6794582392776524,
          0.6787330316742082,
          0.6787330316742082,
          0.6787330316742082,
          0.6787330316742082,
          0.6787330316742082,
          0.6787330316742082,
          0.6772009029345373,
          0.6794582392776524,
          0.6772009029345373,
          0.6794582392776524,
          0.6787330316742082,
          0.6787330316742082,
          0.6787330316742082,
          0.6470588235294118,
          0.6787330316742082,
          0.6787330316742082,
          0.6772009029345373,
          0.6794582392776524,
          0.6794582392776524,
          0.6794582392776524,
          0.6787330316742082,
          0.6787330316742082,
          0.6787330316742082,
          0.6787330316742082,
          0.6787330316742082,
          0.6787330316742082,
          0.6772009029345373,
          0.6794582392776524,
          0.6794582392776524,
          0.6568848758465011,
          0.6787330316742082,
          0.6787330316742082,
          0.6787330316742082,
          0.6787330316742082,
          0.6787330316742082,
          0.6787330316742082,
          0.5846501128668171,
          0.6072234762979684,
          0.6252821670428894,
          0.6139954853273137,
          0.6108597285067874,
          0.6153846153846154,
          0.579185520361991,
          0.6266968325791855,
          0.5995475113122172,
          0.6040723981900452,
          0.6207674943566591,
          0.618510158013544,
          0.5711060948081265,
          0.6117381489841986,
          0.5723981900452488,
          0.5904977375565611,
          0.5995475113122172,
          0.579185520361991,
          0.5701357466063348,
          0.6266968325791855,
          0.6591422121896162,
          0.6591422121896162,
          0.6591422121896162,
          0.6839729119638827,
          0.6108597285067874,
          0.6447963800904978,
          0.665158371040724,
          0.6606334841628959,
          0.669683257918552,
          0.6719457013574661,
          0.6749435665914221,
          0.6704288939051919,
          0.6455981941309256,
          0.6839729119638827,
          0.6719457013574661,
          0.6561085972850679,
          0.667420814479638,
          0.6719457013574661,
          0.6990950226244343,
          0.6628959276018099,
          0.6772009029345373,
          0.6794582392776524,
          0.6794582392776524,
          0.6794582392776524,
          0.6787330316742082,
          0.6787330316742082,
          0.6787330316742082,
          0.6787330316742082,
          0.6787330316742082,
          0.6787330316742082,
          0.6772009029345373,
          0.6794582392776524,
          0.6794582392776524,
          0.6794582392776524,
          0.6787330316742082,
          0.6787330316742082,
          0.6787330316742082,
          0.6787330316742082,
          0.6787330316742082,
          0.6787330316742082
         ]
        },
        {
         "name": "FR",
         "type": "box",
         "x": [
          "LogisticRegression",
          "LogisticRegression",
          "LogisticRegression",
          "LogisticRegression",
          "LogisticRegression",
          "LogisticRegression",
          "LogisticRegression",
          "LogisticRegression",
          "LogisticRegression",
          "LogisticRegression",
          "LogisticRegression",
          "LogisticRegression",
          "LogisticRegression",
          "LogisticRegression",
          "LogisticRegression",
          "LogisticRegression",
          "LogisticRegression",
          "LogisticRegression",
          "LogisticRegression",
          "LogisticRegression",
          "SVC",
          "SVC",
          "SVC",
          "SVC",
          "SVC",
          "SVC",
          "SVC",
          "SVC",
          "SVC",
          "SVC",
          "SVC",
          "SVC",
          "SVC",
          "SVC",
          "SVC",
          "SVC",
          "SVC",
          "SVC",
          "SVC",
          "SVC",
          "RandomForestClassifier",
          "RandomForestClassifier",
          "RandomForestClassifier",
          "RandomForestClassifier",
          "RandomForestClassifier",
          "RandomForestClassifier",
          "RandomForestClassifier",
          "RandomForestClassifier",
          "RandomForestClassifier",
          "RandomForestClassifier",
          "RandomForestClassifier",
          "RandomForestClassifier",
          "RandomForestClassifier",
          "RandomForestClassifier",
          "RandomForestClassifier",
          "RandomForestClassifier",
          "RandomForestClassifier",
          "RandomForestClassifier",
          "RandomForestClassifier",
          "RandomForestClassifier",
          "GradientBoostingClassifier",
          "GradientBoostingClassifier",
          "GradientBoostingClassifier",
          "GradientBoostingClassifier",
          "GradientBoostingClassifier",
          "GradientBoostingClassifier",
          "GradientBoostingClassifier",
          "GradientBoostingClassifier",
          "GradientBoostingClassifier",
          "GradientBoostingClassifier",
          "GradientBoostingClassifier",
          "GradientBoostingClassifier",
          "GradientBoostingClassifier",
          "GradientBoostingClassifier",
          "GradientBoostingClassifier",
          "GradientBoostingClassifier",
          "GradientBoostingClassifier",
          "GradientBoostingClassifier",
          "GradientBoostingClassifier",
          "GradientBoostingClassifier",
          "DeepNeuralNetwork",
          "DeepNeuralNetwork",
          "DeepNeuralNetwork",
          "DeepNeuralNetwork",
          "DeepNeuralNetwork",
          "DeepNeuralNetwork",
          "DeepNeuralNetwork",
          "DeepNeuralNetwork",
          "DeepNeuralNetwork",
          "DeepNeuralNetwork",
          "DeepNeuralNetwork",
          "DeepNeuralNetwork",
          "DeepNeuralNetwork",
          "DeepNeuralNetwork",
          "DeepNeuralNetwork",
          "DeepNeuralNetwork",
          "DeepNeuralNetwork",
          "DeepNeuralNetwork",
          "DeepNeuralNetwork",
          "DeepNeuralNetwork"
         ],
         "y": [
          0.6772009029345373,
          0.6794582392776524,
          0.6794582392776524,
          0.6794582392776524,
          0.6787330316742082,
          0.6787330316742082,
          0.6787330316742082,
          0.6787330316742082,
          0.6787330316742082,
          0.6787330316742082,
          0.6772009029345373,
          0.6794582392776524,
          0.6794582392776524,
          0.6794582392776524,
          0.6787330316742082,
          0.6787330316742082,
          0.6787330316742082,
          0.6787330316742082,
          0.6787330316742082,
          0.6787330316742082,
          0.6772009029345373,
          0.6794582392776524,
          0.6794582392776524,
          0.6794582392776524,
          0.6787330316742082,
          0.6787330316742082,
          0.6787330316742082,
          0.6787330316742082,
          0.6787330316742082,
          0.6787330316742082,
          0.6772009029345373,
          0.6794582392776524,
          0.6794582392776524,
          0.6794582392776524,
          0.6787330316742082,
          0.6787330316742082,
          0.6787330316742082,
          0.6787330316742082,
          0.6787330316742082,
          0.6787330316742082,
          0.6343115124153499,
          0.6343115124153499,
          0.6139954853273137,
          0.6027088036117382,
          0.5904977375565611,
          0.6334841628959276,
          0.6266968325791855,
          0.6221719457013575,
          0.583710407239819,
          0.6221719457013575,
          0.5959367945823928,
          0.6207674943566591,
          0.618510158013544,
          0.618510158013544,
          0.5859728506787331,
          0.6153846153846154,
          0.6108597285067874,
          0.5882352941176471,
          0.6131221719457014,
          0.6153846153846154,
          0.6772009029345373,
          0.690744920993228,
          0.6749435665914221,
          0.7065462753950339,
          0.6402714932126696,
          0.7194570135746606,
          0.6832579185520362,
          0.6538461538461539,
          0.6742081447963801,
          0.6583710407239819,
          0.6952595936794582,
          0.6772009029345373,
          0.636568848758465,
          0.6591422121896162,
          0.6832579185520362,
          0.6832579185520362,
          0.6900452488687783,
          0.6719457013574661,
          0.667420814479638,
          0.6583710407239819,
          0.6772009029345373,
          0.6794582392776524,
          0.6794582392776524,
          0.6794582392776524,
          0.6787330316742082,
          0.6787330316742082,
          0.6787330316742082,
          0.6787330316742082,
          0.6787330316742082,
          0.6787330316742082,
          0.6772009029345373,
          0.6794582392776524,
          0.6794582392776524,
          0.6794582392776524,
          0.6787330316742082,
          0.6787330316742082,
          0.6787330316742082,
          0.6787330316742082,
          0.6787330316742082,
          0.6787330316742082
         ]
        },
        {
         "name": "SS",
         "type": "box",
         "x": [
          "LogisticRegression",
          "LogisticRegression",
          "LogisticRegression",
          "LogisticRegression",
          "LogisticRegression",
          "LogisticRegression",
          "LogisticRegression",
          "LogisticRegression",
          "LogisticRegression",
          "LogisticRegression",
          "LogisticRegression",
          "LogisticRegression",
          "LogisticRegression",
          "LogisticRegression",
          "LogisticRegression",
          "LogisticRegression",
          "LogisticRegression",
          "LogisticRegression",
          "LogisticRegression",
          "LogisticRegression",
          "SVC",
          "SVC",
          "SVC",
          "SVC",
          "SVC",
          "SVC",
          "SVC",
          "SVC",
          "SVC",
          "SVC",
          "SVC",
          "SVC",
          "SVC",
          "SVC",
          "SVC",
          "SVC",
          "SVC",
          "SVC",
          "SVC",
          "SVC",
          "RandomForestClassifier",
          "RandomForestClassifier",
          "RandomForestClassifier",
          "RandomForestClassifier",
          "RandomForestClassifier",
          "RandomForestClassifier",
          "RandomForestClassifier",
          "RandomForestClassifier",
          "RandomForestClassifier",
          "RandomForestClassifier",
          "RandomForestClassifier",
          "RandomForestClassifier",
          "RandomForestClassifier",
          "RandomForestClassifier",
          "RandomForestClassifier",
          "RandomForestClassifier",
          "RandomForestClassifier",
          "RandomForestClassifier",
          "RandomForestClassifier",
          "RandomForestClassifier",
          "GradientBoostingClassifier",
          "GradientBoostingClassifier",
          "GradientBoostingClassifier",
          "GradientBoostingClassifier",
          "GradientBoostingClassifier",
          "GradientBoostingClassifier",
          "GradientBoostingClassifier",
          "GradientBoostingClassifier",
          "GradientBoostingClassifier",
          "GradientBoostingClassifier",
          "GradientBoostingClassifier",
          "GradientBoostingClassifier",
          "GradientBoostingClassifier",
          "GradientBoostingClassifier",
          "GradientBoostingClassifier",
          "GradientBoostingClassifier",
          "GradientBoostingClassifier",
          "GradientBoostingClassifier",
          "GradientBoostingClassifier",
          "GradientBoostingClassifier",
          "DeepNeuralNetwork",
          "DeepNeuralNetwork",
          "DeepNeuralNetwork",
          "DeepNeuralNetwork",
          "DeepNeuralNetwork",
          "DeepNeuralNetwork",
          "DeepNeuralNetwork",
          "DeepNeuralNetwork",
          "DeepNeuralNetwork",
          "DeepNeuralNetwork",
          "DeepNeuralNetwork",
          "DeepNeuralNetwork",
          "DeepNeuralNetwork",
          "DeepNeuralNetwork",
          "DeepNeuralNetwork",
          "DeepNeuralNetwork",
          "DeepNeuralNetwork",
          "DeepNeuralNetwork",
          "DeepNeuralNetwork",
          "DeepNeuralNetwork"
         ],
         "y": [
          0.6636568848758465,
          0.6794582392776524,
          0.6794582392776524,
          0.6794582392776524,
          0.6787330316742082,
          0.6787330316742082,
          0.6787330316742082,
          0.6787330316742082,
          0.6742081447963801,
          0.6787330316742082,
          0.6772009029345373,
          0.6794582392776524,
          0.6772009029345373,
          0.6794582392776524,
          0.6787330316742082,
          0.6719457013574661,
          0.6787330316742082,
          0.6787330316742082,
          0.6787330316742082,
          0.6787330316742082,
          0.6772009029345373,
          0.6794582392776524,
          0.6794582392776524,
          0.6659142212189616,
          0.6787330316742082,
          0.6787330316742082,
          0.6787330316742082,
          0.6787330316742082,
          0.6787330316742082,
          0.6787330316742082,
          0.6772009029345373,
          0.6794582392776524,
          0.6794582392776524,
          0.6794582392776524,
          0.6787330316742082,
          0.6787330316742082,
          0.6787330316742082,
          0.6787330316742082,
          0.6787330316742082,
          0.6787330316742082,
          0.6343115124153499,
          0.6388261851015802,
          0.6320541760722348,
          0.6794582392776524,
          0.5972850678733032,
          0.6199095022624435,
          0.6018099547511312,
          0.5995475113122172,
          0.5927601809954751,
          0.6063348416289592,
          0.6049661399548533,
          0.6094808126410836,
          0.5914221218961625,
          0.6523702031602708,
          0.6742081447963801,
          0.6199095022624435,
          0.6606334841628959,
          0.6018099547511312,
          0.6018099547511312,
          0.6515837104072398,
          0.6794582392776524,
          0.6659142212189616,
          0.6523702031602708,
          0.7110609480812641,
          0.6764705882352942,
          0.6447963800904978,
          0.6244343891402715,
          0.6583710407239819,
          0.6470588235294118,
          0.667420814479638,
          0.6681715575620768,
          0.6659142212189616,
          0.6704288939051919,
          0.6681715575620768,
          0.667420814479638,
          0.6877828054298643,
          0.667420814479638,
          0.6425339366515838,
          0.667420814479638,
          0.6787330316742082,
          0.6772009029345373,
          0.6794582392776524,
          0.6794582392776524,
          0.6794582392776524,
          0.6787330316742082,
          0.6787330316742082,
          0.6787330316742082,
          0.6787330316742082,
          0.6787330316742082,
          0.6787330316742082,
          0.6772009029345373,
          0.6794582392776524,
          0.6794582392776524,
          0.6794582392776524,
          0.6787330316742082,
          0.6787330316742082,
          0.6787330316742082,
          0.6787330316742082,
          0.6787330316742082,
          0.6787330316742082
         ]
        },
        {
         "name": "SS & FR",
         "type": "box",
         "x": [
          "LogisticRegression",
          "LogisticRegression",
          "LogisticRegression",
          "LogisticRegression",
          "LogisticRegression",
          "LogisticRegression",
          "LogisticRegression",
          "LogisticRegression",
          "LogisticRegression",
          "LogisticRegression",
          "LogisticRegression",
          "LogisticRegression",
          "LogisticRegression",
          "LogisticRegression",
          "LogisticRegression",
          "LogisticRegression",
          "LogisticRegression",
          "LogisticRegression",
          "LogisticRegression",
          "LogisticRegression",
          "SVC",
          "SVC",
          "SVC",
          "SVC",
          "SVC",
          "SVC",
          "SVC",
          "SVC",
          "SVC",
          "SVC",
          "SVC",
          "SVC",
          "SVC",
          "SVC",
          "SVC",
          "SVC",
          "SVC",
          "SVC",
          "SVC",
          "SVC",
          "RandomForestClassifier",
          "RandomForestClassifier",
          "RandomForestClassifier",
          "RandomForestClassifier",
          "RandomForestClassifier",
          "RandomForestClassifier",
          "RandomForestClassifier",
          "RandomForestClassifier",
          "RandomForestClassifier",
          "RandomForestClassifier",
          "RandomForestClassifier",
          "RandomForestClassifier",
          "RandomForestClassifier",
          "RandomForestClassifier",
          "RandomForestClassifier",
          "RandomForestClassifier",
          "RandomForestClassifier",
          "RandomForestClassifier",
          "RandomForestClassifier",
          "RandomForestClassifier",
          "GradientBoostingClassifier",
          "GradientBoostingClassifier",
          "GradientBoostingClassifier",
          "GradientBoostingClassifier",
          "GradientBoostingClassifier",
          "GradientBoostingClassifier",
          "GradientBoostingClassifier",
          "GradientBoostingClassifier",
          "GradientBoostingClassifier",
          "GradientBoostingClassifier",
          "GradientBoostingClassifier",
          "GradientBoostingClassifier",
          "GradientBoostingClassifier",
          "GradientBoostingClassifier",
          "GradientBoostingClassifier",
          "GradientBoostingClassifier",
          "GradientBoostingClassifier",
          "GradientBoostingClassifier",
          "GradientBoostingClassifier",
          "GradientBoostingClassifier",
          "DeepNeuralNetwork",
          "DeepNeuralNetwork",
          "DeepNeuralNetwork",
          "DeepNeuralNetwork",
          "DeepNeuralNetwork",
          "DeepNeuralNetwork",
          "DeepNeuralNetwork",
          "DeepNeuralNetwork",
          "DeepNeuralNetwork",
          "DeepNeuralNetwork",
          "DeepNeuralNetwork",
          "DeepNeuralNetwork",
          "DeepNeuralNetwork",
          "DeepNeuralNetwork",
          "DeepNeuralNetwork",
          "DeepNeuralNetwork",
          "DeepNeuralNetwork",
          "DeepNeuralNetwork",
          "DeepNeuralNetwork",
          "DeepNeuralNetwork"
         ],
         "y": [
          0.6772009029345373,
          0.6794582392776524,
          0.6794582392776524,
          0.6794582392776524,
          0.6787330316742082,
          0.6742081447963801,
          0.6787330316742082,
          0.6787330316742082,
          0.6787330316742082,
          0.6787330316742082,
          0.6772009029345373,
          0.6794582392776524,
          0.6794582392776524,
          0.6568848758465011,
          0.6923076923076923,
          0.6787330316742082,
          0.6787330316742082,
          0.6787330316742082,
          0.6787330316742082,
          0.6787330316742082,
          0.6772009029345373,
          0.6794582392776524,
          0.6794582392776524,
          0.6794582392776524,
          0.6787330316742082,
          0.6787330316742082,
          0.6787330316742082,
          0.6787330316742082,
          0.6787330316742082,
          0.6787330316742082,
          0.6772009029345373,
          0.6794582392776524,
          0.6794582392776524,
          0.6568848758465011,
          0.6787330316742082,
          0.6787330316742082,
          0.6787330316742082,
          0.6787330316742082,
          0.6764705882352942,
          0.6787330316742082,
          0.6094808126410836,
          0.6410835214446953,
          0.6139954853273137,
          0.618510158013544,
          0.5859728506787331,
          0.6628959276018099,
          0.5995475113122172,
          0.6063348416289592,
          0.5746606334841629,
          0.6538461538461539,
          0.6275395033860045,
          0.6410835214446953,
          0.6139954853273137,
          0.6320541760722348,
          0.6040723981900452,
          0.6334841628959276,
          0.5769230769230769,
          0.5995475113122172,
          0.6153846153846154,
          0.6085972850678733,
          0.6817155756207675,
          0.7381489841986456,
          0.6817155756207675,
          0.6568848758465011,
          0.6470588235294118,
          0.6538461538461539,
          0.6493212669683258,
          0.667420814479638,
          0.6583710407239819,
          0.665158371040724,
          0.6523702031602708,
          0.6952595936794582,
          0.654627539503386,
          0.654627539503386,
          0.6561085972850679,
          0.6719457013574661,
          0.6583710407239819,
          0.6470588235294118,
          0.6877828054298643,
          0.7149321266968326,
          0.6772009029345373,
          0.6794582392776524,
          0.6794582392776524,
          0.6794582392776524,
          0.6787330316742082,
          0.6787330316742082,
          0.6787330316742082,
          0.6787330316742082,
          0.6787330316742082,
          0.6787330316742082,
          0.6772009029345373,
          0.6794582392776524,
          0.6794582392776524,
          0.6794582392776524,
          0.6787330316742082,
          0.6787330316742082,
          0.6787330316742082,
          0.6787330316742082,
          0.6787330316742082,
          0.6787330316742082
         ]
        }
       ],
       "layout": {
        "boxmode": "group",
        "template": {
         "data": {
          "bar": [
           {
            "error_x": {
             "color": "#2a3f5f"
            },
            "error_y": {
             "color": "#2a3f5f"
            },
            "marker": {
             "line": {
              "color": "#E5ECF6",
              "width": 0.5
             },
             "pattern": {
              "fillmode": "overlay",
              "size": 10,
              "solidity": 0.2
             }
            },
            "type": "bar"
           }
          ],
          "barpolar": [
           {
            "marker": {
             "line": {
              "color": "#E5ECF6",
              "width": 0.5
             },
             "pattern": {
              "fillmode": "overlay",
              "size": 10,
              "solidity": 0.2
             }
            },
            "type": "barpolar"
           }
          ],
          "carpet": [
           {
            "aaxis": {
             "endlinecolor": "#2a3f5f",
             "gridcolor": "white",
             "linecolor": "white",
             "minorgridcolor": "white",
             "startlinecolor": "#2a3f5f"
            },
            "baxis": {
             "endlinecolor": "#2a3f5f",
             "gridcolor": "white",
             "linecolor": "white",
             "minorgridcolor": "white",
             "startlinecolor": "#2a3f5f"
            },
            "type": "carpet"
           }
          ],
          "choropleth": [
           {
            "colorbar": {
             "outlinewidth": 0,
             "ticks": ""
            },
            "type": "choropleth"
           }
          ],
          "contour": [
           {
            "colorbar": {
             "outlinewidth": 0,
             "ticks": ""
            },
            "colorscale": [
             [
              0,
              "#0d0887"
             ],
             [
              0.1111111111111111,
              "#46039f"
             ],
             [
              0.2222222222222222,
              "#7201a8"
             ],
             [
              0.3333333333333333,
              "#9c179e"
             ],
             [
              0.4444444444444444,
              "#bd3786"
             ],
             [
              0.5555555555555556,
              "#d8576b"
             ],
             [
              0.6666666666666666,
              "#ed7953"
             ],
             [
              0.7777777777777778,
              "#fb9f3a"
             ],
             [
              0.8888888888888888,
              "#fdca26"
             ],
             [
              1,
              "#f0f921"
             ]
            ],
            "type": "contour"
           }
          ],
          "contourcarpet": [
           {
            "colorbar": {
             "outlinewidth": 0,
             "ticks": ""
            },
            "type": "contourcarpet"
           }
          ],
          "heatmap": [
           {
            "colorbar": {
             "outlinewidth": 0,
             "ticks": ""
            },
            "colorscale": [
             [
              0,
              "#0d0887"
             ],
             [
              0.1111111111111111,
              "#46039f"
             ],
             [
              0.2222222222222222,
              "#7201a8"
             ],
             [
              0.3333333333333333,
              "#9c179e"
             ],
             [
              0.4444444444444444,
              "#bd3786"
             ],
             [
              0.5555555555555556,
              "#d8576b"
             ],
             [
              0.6666666666666666,
              "#ed7953"
             ],
             [
              0.7777777777777778,
              "#fb9f3a"
             ],
             [
              0.8888888888888888,
              "#fdca26"
             ],
             [
              1,
              "#f0f921"
             ]
            ],
            "type": "heatmap"
           }
          ],
          "heatmapgl": [
           {
            "colorbar": {
             "outlinewidth": 0,
             "ticks": ""
            },
            "colorscale": [
             [
              0,
              "#0d0887"
             ],
             [
              0.1111111111111111,
              "#46039f"
             ],
             [
              0.2222222222222222,
              "#7201a8"
             ],
             [
              0.3333333333333333,
              "#9c179e"
             ],
             [
              0.4444444444444444,
              "#bd3786"
             ],
             [
              0.5555555555555556,
              "#d8576b"
             ],
             [
              0.6666666666666666,
              "#ed7953"
             ],
             [
              0.7777777777777778,
              "#fb9f3a"
             ],
             [
              0.8888888888888888,
              "#fdca26"
             ],
             [
              1,
              "#f0f921"
             ]
            ],
            "type": "heatmapgl"
           }
          ],
          "histogram": [
           {
            "marker": {
             "pattern": {
              "fillmode": "overlay",
              "size": 10,
              "solidity": 0.2
             }
            },
            "type": "histogram"
           }
          ],
          "histogram2d": [
           {
            "colorbar": {
             "outlinewidth": 0,
             "ticks": ""
            },
            "colorscale": [
             [
              0,
              "#0d0887"
             ],
             [
              0.1111111111111111,
              "#46039f"
             ],
             [
              0.2222222222222222,
              "#7201a8"
             ],
             [
              0.3333333333333333,
              "#9c179e"
             ],
             [
              0.4444444444444444,
              "#bd3786"
             ],
             [
              0.5555555555555556,
              "#d8576b"
             ],
             [
              0.6666666666666666,
              "#ed7953"
             ],
             [
              0.7777777777777778,
              "#fb9f3a"
             ],
             [
              0.8888888888888888,
              "#fdca26"
             ],
             [
              1,
              "#f0f921"
             ]
            ],
            "type": "histogram2d"
           }
          ],
          "histogram2dcontour": [
           {
            "colorbar": {
             "outlinewidth": 0,
             "ticks": ""
            },
            "colorscale": [
             [
              0,
              "#0d0887"
             ],
             [
              0.1111111111111111,
              "#46039f"
             ],
             [
              0.2222222222222222,
              "#7201a8"
             ],
             [
              0.3333333333333333,
              "#9c179e"
             ],
             [
              0.4444444444444444,
              "#bd3786"
             ],
             [
              0.5555555555555556,
              "#d8576b"
             ],
             [
              0.6666666666666666,
              "#ed7953"
             ],
             [
              0.7777777777777778,
              "#fb9f3a"
             ],
             [
              0.8888888888888888,
              "#fdca26"
             ],
             [
              1,
              "#f0f921"
             ]
            ],
            "type": "histogram2dcontour"
           }
          ],
          "mesh3d": [
           {
            "colorbar": {
             "outlinewidth": 0,
             "ticks": ""
            },
            "type": "mesh3d"
           }
          ],
          "parcoords": [
           {
            "line": {
             "colorbar": {
              "outlinewidth": 0,
              "ticks": ""
             }
            },
            "type": "parcoords"
           }
          ],
          "pie": [
           {
            "automargin": true,
            "type": "pie"
           }
          ],
          "scatter": [
           {
            "fillpattern": {
             "fillmode": "overlay",
             "size": 10,
             "solidity": 0.2
            },
            "type": "scatter"
           }
          ],
          "scatter3d": [
           {
            "line": {
             "colorbar": {
              "outlinewidth": 0,
              "ticks": ""
             }
            },
            "marker": {
             "colorbar": {
              "outlinewidth": 0,
              "ticks": ""
             }
            },
            "type": "scatter3d"
           }
          ],
          "scattercarpet": [
           {
            "marker": {
             "colorbar": {
              "outlinewidth": 0,
              "ticks": ""
             }
            },
            "type": "scattercarpet"
           }
          ],
          "scattergeo": [
           {
            "marker": {
             "colorbar": {
              "outlinewidth": 0,
              "ticks": ""
             }
            },
            "type": "scattergeo"
           }
          ],
          "scattergl": [
           {
            "marker": {
             "colorbar": {
              "outlinewidth": 0,
              "ticks": ""
             }
            },
            "type": "scattergl"
           }
          ],
          "scattermapbox": [
           {
            "marker": {
             "colorbar": {
              "outlinewidth": 0,
              "ticks": ""
             }
            },
            "type": "scattermapbox"
           }
          ],
          "scatterpolar": [
           {
            "marker": {
             "colorbar": {
              "outlinewidth": 0,
              "ticks": ""
             }
            },
            "type": "scatterpolar"
           }
          ],
          "scatterpolargl": [
           {
            "marker": {
             "colorbar": {
              "outlinewidth": 0,
              "ticks": ""
             }
            },
            "type": "scatterpolargl"
           }
          ],
          "scatterternary": [
           {
            "marker": {
             "colorbar": {
              "outlinewidth": 0,
              "ticks": ""
             }
            },
            "type": "scatterternary"
           }
          ],
          "surface": [
           {
            "colorbar": {
             "outlinewidth": 0,
             "ticks": ""
            },
            "colorscale": [
             [
              0,
              "#0d0887"
             ],
             [
              0.1111111111111111,
              "#46039f"
             ],
             [
              0.2222222222222222,
              "#7201a8"
             ],
             [
              0.3333333333333333,
              "#9c179e"
             ],
             [
              0.4444444444444444,
              "#bd3786"
             ],
             [
              0.5555555555555556,
              "#d8576b"
             ],
             [
              0.6666666666666666,
              "#ed7953"
             ],
             [
              0.7777777777777778,
              "#fb9f3a"
             ],
             [
              0.8888888888888888,
              "#fdca26"
             ],
             [
              1,
              "#f0f921"
             ]
            ],
            "type": "surface"
           }
          ],
          "table": [
           {
            "cells": {
             "fill": {
              "color": "#EBF0F8"
             },
             "line": {
              "color": "white"
             }
            },
            "header": {
             "fill": {
              "color": "#C8D4E3"
             },
             "line": {
              "color": "white"
             }
            },
            "type": "table"
           }
          ]
         },
         "layout": {
          "annotationdefaults": {
           "arrowcolor": "#2a3f5f",
           "arrowhead": 0,
           "arrowwidth": 1
          },
          "autotypenumbers": "strict",
          "coloraxis": {
           "colorbar": {
            "outlinewidth": 0,
            "ticks": ""
           }
          },
          "colorscale": {
           "diverging": [
            [
             0,
             "#8e0152"
            ],
            [
             0.1,
             "#c51b7d"
            ],
            [
             0.2,
             "#de77ae"
            ],
            [
             0.3,
             "#f1b6da"
            ],
            [
             0.4,
             "#fde0ef"
            ],
            [
             0.5,
             "#f7f7f7"
            ],
            [
             0.6,
             "#e6f5d0"
            ],
            [
             0.7,
             "#b8e186"
            ],
            [
             0.8,
             "#7fbc41"
            ],
            [
             0.9,
             "#4d9221"
            ],
            [
             1,
             "#276419"
            ]
           ],
           "sequential": [
            [
             0,
             "#0d0887"
            ],
            [
             0.1111111111111111,
             "#46039f"
            ],
            [
             0.2222222222222222,
             "#7201a8"
            ],
            [
             0.3333333333333333,
             "#9c179e"
            ],
            [
             0.4444444444444444,
             "#bd3786"
            ],
            [
             0.5555555555555556,
             "#d8576b"
            ],
            [
             0.6666666666666666,
             "#ed7953"
            ],
            [
             0.7777777777777778,
             "#fb9f3a"
            ],
            [
             0.8888888888888888,
             "#fdca26"
            ],
            [
             1,
             "#f0f921"
            ]
           ],
           "sequentialminus": [
            [
             0,
             "#0d0887"
            ],
            [
             0.1111111111111111,
             "#46039f"
            ],
            [
             0.2222222222222222,
             "#7201a8"
            ],
            [
             0.3333333333333333,
             "#9c179e"
            ],
            [
             0.4444444444444444,
             "#bd3786"
            ],
            [
             0.5555555555555556,
             "#d8576b"
            ],
            [
             0.6666666666666666,
             "#ed7953"
            ],
            [
             0.7777777777777778,
             "#fb9f3a"
            ],
            [
             0.8888888888888888,
             "#fdca26"
            ],
            [
             1,
             "#f0f921"
            ]
           ]
          },
          "colorway": [
           "#636efa",
           "#EF553B",
           "#00cc96",
           "#ab63fa",
           "#FFA15A",
           "#19d3f3",
           "#FF6692",
           "#B6E880",
           "#FF97FF",
           "#FECB52"
          ],
          "font": {
           "color": "#2a3f5f"
          },
          "geo": {
           "bgcolor": "white",
           "lakecolor": "white",
           "landcolor": "#E5ECF6",
           "showlakes": true,
           "showland": true,
           "subunitcolor": "white"
          },
          "hoverlabel": {
           "align": "left"
          },
          "hovermode": "closest",
          "mapbox": {
           "style": "light"
          },
          "paper_bgcolor": "white",
          "plot_bgcolor": "#E5ECF6",
          "polar": {
           "angularaxis": {
            "gridcolor": "white",
            "linecolor": "white",
            "ticks": ""
           },
           "bgcolor": "#E5ECF6",
           "radialaxis": {
            "gridcolor": "white",
            "linecolor": "white",
            "ticks": ""
           }
          },
          "scene": {
           "xaxis": {
            "backgroundcolor": "#E5ECF6",
            "gridcolor": "white",
            "gridwidth": 2,
            "linecolor": "white",
            "showbackground": true,
            "ticks": "",
            "zerolinecolor": "white"
           },
           "yaxis": {
            "backgroundcolor": "#E5ECF6",
            "gridcolor": "white",
            "gridwidth": 2,
            "linecolor": "white",
            "showbackground": true,
            "ticks": "",
            "zerolinecolor": "white"
           },
           "zaxis": {
            "backgroundcolor": "#E5ECF6",
            "gridcolor": "white",
            "gridwidth": 2,
            "linecolor": "white",
            "showbackground": true,
            "ticks": "",
            "zerolinecolor": "white"
           }
          },
          "shapedefaults": {
           "line": {
            "color": "#2a3f5f"
           }
          },
          "ternary": {
           "aaxis": {
            "gridcolor": "white",
            "linecolor": "white",
            "ticks": ""
           },
           "baxis": {
            "gridcolor": "white",
            "linecolor": "white",
            "ticks": ""
           },
           "bgcolor": "#E5ECF6",
           "caxis": {
            "gridcolor": "white",
            "linecolor": "white",
            "ticks": ""
           }
          },
          "title": {
           "x": 0.05
          },
          "xaxis": {
           "automargin": true,
           "gridcolor": "white",
           "linecolor": "white",
           "ticks": "",
           "title": {
            "standoff": 15
           },
           "zerolinecolor": "white",
           "zerolinewidth": 2
          },
          "yaxis": {
           "automargin": true,
           "gridcolor": "white",
           "linecolor": "white",
           "ticks": "",
           "title": {
            "standoff": 15
           },
           "zerolinecolor": "white",
           "zerolinewidth": 2
          }
         }
        },
        "title": {
         "text": "accuracy"
        },
        "yaxis": {
         "title": {
          "text": "accuracy"
         }
        }
       }
      }
     },
     "metadata": {},
     "output_type": "display_data"
    },
    {
     "data": {
      "application/vnd.plotly.v1+json": {
       "config": {
        "plotlyServerURL": "https://plot.ly"
       },
       "data": [
        {
         "name": "Full",
         "type": "box",
         "x": [
          "LogisticRegression",
          "LogisticRegression",
          "LogisticRegression",
          "LogisticRegression",
          "LogisticRegression",
          "LogisticRegression",
          "LogisticRegression",
          "LogisticRegression",
          "LogisticRegression",
          "LogisticRegression",
          "LogisticRegression",
          "LogisticRegression",
          "LogisticRegression",
          "LogisticRegression",
          "LogisticRegression",
          "LogisticRegression",
          "LogisticRegression",
          "LogisticRegression",
          "LogisticRegression",
          "LogisticRegression",
          "SVC",
          "SVC",
          "SVC",
          "SVC",
          "SVC",
          "SVC",
          "SVC",
          "SVC",
          "SVC",
          "SVC",
          "SVC",
          "SVC",
          "SVC",
          "SVC",
          "SVC",
          "SVC",
          "SVC",
          "SVC",
          "SVC",
          "SVC",
          "RandomForestClassifier",
          "RandomForestClassifier",
          "RandomForestClassifier",
          "RandomForestClassifier",
          "RandomForestClassifier",
          "RandomForestClassifier",
          "RandomForestClassifier",
          "RandomForestClassifier",
          "RandomForestClassifier",
          "RandomForestClassifier",
          "RandomForestClassifier",
          "RandomForestClassifier",
          "RandomForestClassifier",
          "RandomForestClassifier",
          "RandomForestClassifier",
          "RandomForestClassifier",
          "RandomForestClassifier",
          "RandomForestClassifier",
          "RandomForestClassifier",
          "RandomForestClassifier",
          "GradientBoostingClassifier",
          "GradientBoostingClassifier",
          "GradientBoostingClassifier",
          "GradientBoostingClassifier",
          "GradientBoostingClassifier",
          "GradientBoostingClassifier",
          "GradientBoostingClassifier",
          "GradientBoostingClassifier",
          "GradientBoostingClassifier",
          "GradientBoostingClassifier",
          "GradientBoostingClassifier",
          "GradientBoostingClassifier",
          "GradientBoostingClassifier",
          "GradientBoostingClassifier",
          "GradientBoostingClassifier",
          "GradientBoostingClassifier",
          "GradientBoostingClassifier",
          "GradientBoostingClassifier",
          "GradientBoostingClassifier",
          "GradientBoostingClassifier",
          "DeepNeuralNetwork",
          "DeepNeuralNetwork",
          "DeepNeuralNetwork",
          "DeepNeuralNetwork",
          "DeepNeuralNetwork",
          "DeepNeuralNetwork",
          "DeepNeuralNetwork",
          "DeepNeuralNetwork",
          "DeepNeuralNetwork",
          "DeepNeuralNetwork",
          "DeepNeuralNetwork",
          "DeepNeuralNetwork",
          "DeepNeuralNetwork",
          "DeepNeuralNetwork",
          "DeepNeuralNetwork",
          "DeepNeuralNetwork",
          "DeepNeuralNetwork",
          "DeepNeuralNetwork",
          "DeepNeuralNetwork",
          "DeepNeuralNetwork"
         ],
         "y": [
          0.5,
          0.5,
          0.5,
          0.5,
          0.5,
          0.5,
          0.5,
          0.5,
          0.5,
          0.5,
          0.5,
          0.5,
          0.5150788451640074,
          0.5,
          0.5,
          0.5,
          0.5,
          0.4859389671361502,
          0.5,
          0.5,
          0.5,
          0.5,
          0.5,
          0.5,
          0.5,
          0.5,
          0.5,
          0.5,
          0.5,
          0.5,
          0.5,
          0.5,
          0.5,
          0.4926886902812222,
          0.5,
          0.5,
          0.5,
          0.5,
          0.5,
          0.5,
          0.5012004662004662,
          0.5398437134434514,
          0.5531327499883019,
          0.567147068457255,
          0.5575586854460094,
          0.5553286384976526,
          0.5305164319248825,
          0.5766431924882629,
          0.5343896713615024,
          0.535868544600939,
          0.5626340326340327,
          0.5425693697066118,
          0.5095456459688363,
          0.5487459641570352,
          0.5051173708920188,
          0.5110328638497652,
          0.5399530516431924,
          0.5453521126760563,
          0.5053051643192488,
          0.5618075117370892,
          0.5397319347319347,
          0.5315497636984698,
          0.5352697580833841,
          0.5851621356043236,
          0.4963615023474178,
          0.5306338028169014,
          0.5641784037558686,
          0.5460093896713616,
          0.5471126760563381,
          0.5543427230046949,
          0.5422494172494172,
          0.5417154087314585,
          0.5346029666370316,
          0.5758621496420382,
          0.5747417840375587,
          0.5148591549295775,
          0.5547183098591549,
          0.5617605633802817,
          0.5724882629107981,
          0.5439671361502347,
          0.5,
          0.5,
          0.5,
          0.5,
          0.520774647887324,
          0.5,
          0.5,
          0.5,
          0.5,
          0.5,
          0.4998368298368298,
          0.5,
          0.5015324505170558,
          0.4998011323756492,
          0.5,
          0.5,
          0.5,
          0.5,
          0.5,
          0.5
         ]
        },
        {
         "name": "FR",
         "type": "box",
         "x": [
          "LogisticRegression",
          "LogisticRegression",
          "LogisticRegression",
          "LogisticRegression",
          "LogisticRegression",
          "LogisticRegression",
          "LogisticRegression",
          "LogisticRegression",
          "LogisticRegression",
          "LogisticRegression",
          "LogisticRegression",
          "LogisticRegression",
          "LogisticRegression",
          "LogisticRegression",
          "LogisticRegression",
          "LogisticRegression",
          "LogisticRegression",
          "LogisticRegression",
          "LogisticRegression",
          "LogisticRegression",
          "SVC",
          "SVC",
          "SVC",
          "SVC",
          "SVC",
          "SVC",
          "SVC",
          "SVC",
          "SVC",
          "SVC",
          "SVC",
          "SVC",
          "SVC",
          "SVC",
          "SVC",
          "SVC",
          "SVC",
          "SVC",
          "SVC",
          "SVC",
          "RandomForestClassifier",
          "RandomForestClassifier",
          "RandomForestClassifier",
          "RandomForestClassifier",
          "RandomForestClassifier",
          "RandomForestClassifier",
          "RandomForestClassifier",
          "RandomForestClassifier",
          "RandomForestClassifier",
          "RandomForestClassifier",
          "RandomForestClassifier",
          "RandomForestClassifier",
          "RandomForestClassifier",
          "RandomForestClassifier",
          "RandomForestClassifier",
          "RandomForestClassifier",
          "RandomForestClassifier",
          "RandomForestClassifier",
          "RandomForestClassifier",
          "RandomForestClassifier",
          "GradientBoostingClassifier",
          "GradientBoostingClassifier",
          "GradientBoostingClassifier",
          "GradientBoostingClassifier",
          "GradientBoostingClassifier",
          "GradientBoostingClassifier",
          "GradientBoostingClassifier",
          "GradientBoostingClassifier",
          "GradientBoostingClassifier",
          "GradientBoostingClassifier",
          "GradientBoostingClassifier",
          "GradientBoostingClassifier",
          "GradientBoostingClassifier",
          "GradientBoostingClassifier",
          "GradientBoostingClassifier",
          "GradientBoostingClassifier",
          "GradientBoostingClassifier",
          "GradientBoostingClassifier",
          "GradientBoostingClassifier",
          "GradientBoostingClassifier",
          "DeepNeuralNetwork",
          "DeepNeuralNetwork",
          "DeepNeuralNetwork",
          "DeepNeuralNetwork",
          "DeepNeuralNetwork",
          "DeepNeuralNetwork",
          "DeepNeuralNetwork",
          "DeepNeuralNetwork",
          "DeepNeuralNetwork",
          "DeepNeuralNetwork",
          "DeepNeuralNetwork",
          "DeepNeuralNetwork",
          "DeepNeuralNetwork",
          "DeepNeuralNetwork",
          "DeepNeuralNetwork",
          "DeepNeuralNetwork",
          "DeepNeuralNetwork",
          "DeepNeuralNetwork",
          "DeepNeuralNetwork",
          "DeepNeuralNetwork"
         ],
         "y": [
          0.5,
          0.5,
          0.5,
          0.5,
          0.5,
          0.5,
          0.5,
          0.5,
          0.5,
          0.5,
          0.5,
          0.5,
          0.5,
          0.5,
          0.5,
          0.5,
          0.5,
          0.5,
          0.5,
          0.5,
          0.5,
          0.5,
          0.5,
          0.5,
          0.5,
          0.5,
          0.5,
          0.5,
          0.5,
          0.5,
          0.5,
          0.5,
          0.5,
          0.5,
          0.5,
          0.5,
          0.5,
          0.5,
          0.5,
          0.5,
          0.5744638694638695,
          0.5690772542230125,
          0.5466870993402274,
          0.5551214262318095,
          0.5277230046948357,
          0.568661971830986,
          0.5747887323943661,
          0.5677464788732395,
          0.5041784037558685,
          0.5547652582159623,
          0.5461305361305361,
          0.5609704740068318,
          0.546289364091526,
          0.5667493332085536,
          0.5262441314553991,
          0.533075117370892,
          0.5390140845070422,
          0.5279107981220658,
          0.5629342723004696,
          0.5534741784037559,
          0.5530652680652681,
          0.5975855130784709,
          0.5282976931355575,
          0.5906134481306444,
          0.521737089201878,
          0.5874882629107981,
          0.583075117370892,
          0.5373004694835681,
          0.5485915492957746,
          0.5295070422535212,
          0.581037296037296,
          0.5727387581301764,
          0.5000584904777502,
          0.5185297833512704,
          0.5719483568075117,
          0.5719483568075117,
          0.5509859154929577,
          0.5636150234741784,
          0.5565727699530517,
          0.5313615023474179,
          0.5,
          0.5,
          0.5,
          0.5,
          0.5,
          0.5,
          0.5,
          0.5,
          0.5,
          0.5018544600938968,
          0.5,
          0.5015324505170558,
          0.5,
          0.5,
          0.4966666666666666,
          0.5,
          0.5,
          0.5,
          0.5018544600938968,
          0.4896478873239437
         ]
        },
        {
         "name": "SS",
         "type": "box",
         "x": [
          "LogisticRegression",
          "LogisticRegression",
          "LogisticRegression",
          "LogisticRegression",
          "LogisticRegression",
          "LogisticRegression",
          "LogisticRegression",
          "LogisticRegression",
          "LogisticRegression",
          "LogisticRegression",
          "LogisticRegression",
          "LogisticRegression",
          "LogisticRegression",
          "LogisticRegression",
          "LogisticRegression",
          "LogisticRegression",
          "LogisticRegression",
          "LogisticRegression",
          "LogisticRegression",
          "LogisticRegression",
          "SVC",
          "SVC",
          "SVC",
          "SVC",
          "SVC",
          "SVC",
          "SVC",
          "SVC",
          "SVC",
          "SVC",
          "SVC",
          "SVC",
          "SVC",
          "SVC",
          "SVC",
          "SVC",
          "SVC",
          "SVC",
          "SVC",
          "SVC",
          "RandomForestClassifier",
          "RandomForestClassifier",
          "RandomForestClassifier",
          "RandomForestClassifier",
          "RandomForestClassifier",
          "RandomForestClassifier",
          "RandomForestClassifier",
          "RandomForestClassifier",
          "RandomForestClassifier",
          "RandomForestClassifier",
          "RandomForestClassifier",
          "RandomForestClassifier",
          "RandomForestClassifier",
          "RandomForestClassifier",
          "RandomForestClassifier",
          "RandomForestClassifier",
          "RandomForestClassifier",
          "RandomForestClassifier",
          "RandomForestClassifier",
          "RandomForestClassifier",
          "GradientBoostingClassifier",
          "GradientBoostingClassifier",
          "GradientBoostingClassifier",
          "GradientBoostingClassifier",
          "GradientBoostingClassifier",
          "GradientBoostingClassifier",
          "GradientBoostingClassifier",
          "GradientBoostingClassifier",
          "GradientBoostingClassifier",
          "GradientBoostingClassifier",
          "GradientBoostingClassifier",
          "GradientBoostingClassifier",
          "GradientBoostingClassifier",
          "GradientBoostingClassifier",
          "GradientBoostingClassifier",
          "GradientBoostingClassifier",
          "GradientBoostingClassifier",
          "GradientBoostingClassifier",
          "GradientBoostingClassifier",
          "GradientBoostingClassifier",
          "DeepNeuralNetwork",
          "DeepNeuralNetwork",
          "DeepNeuralNetwork",
          "DeepNeuralNetwork",
          "DeepNeuralNetwork",
          "DeepNeuralNetwork",
          "DeepNeuralNetwork",
          "DeepNeuralNetwork",
          "DeepNeuralNetwork",
          "DeepNeuralNetwork",
          "DeepNeuralNetwork",
          "DeepNeuralNetwork",
          "DeepNeuralNetwork",
          "DeepNeuralNetwork",
          "DeepNeuralNetwork",
          "DeepNeuralNetwork",
          "DeepNeuralNetwork",
          "DeepNeuralNetwork",
          "DeepNeuralNetwork",
          "DeepNeuralNetwork"
         ],
         "y": [
          0.500979020979021,
          0.5,
          0.5,
          0.5,
          0.5,
          0.5,
          0.5,
          0.5,
          0.5170657276995305,
          0.5,
          0.5,
          0.5,
          0.5150788451640074,
          0.5,
          0.5,
          0.5098356807511737,
          0.5,
          0.5,
          0.5,
          0.5,
          0.5,
          0.5,
          0.5,
          0.5049132001310187,
          0.5,
          0.5,
          0.5,
          0.5,
          0.5,
          0.5,
          0.5,
          0.5,
          0.5,
          0.5,
          0.5,
          0.5,
          0.5,
          0.5,
          0.5,
          0.5,
          0.5561655011655011,
          0.5668195217818539,
          0.5748561134247345,
          0.6208998175097095,
          0.5382863849765258,
          0.5549530516431925,
          0.5434741784037559,
          0.5418075117370893,
          0.518262910798122,
          0.5523708920187794,
          0.539988344988345,
          0.5563848205512143,
          0.5319358008516213,
          0.6065462542698049,
          0.6060798122065727,
          0.525281690140845,
          0.5997887323943663,
          0.5434741784037559,
          0.5230751173708921,
          0.5857042253521128,
          0.5510722610722611,
          0.5365331524027888,
          0.5395863553413505,
          0.5734757381498292,
          0.5632394366197183,
          0.513943661971831,
          0.4915258215962441,
          0.5332159624413145,
          0.5285915492957746,
          0.5435915492957746,
          0.5482284382284383,
          0.5700131018670161,
          0.5510153946937439,
          0.5735342286275795,
          0.5398826291079811,
          0.5660093896713615,
          0.5306103286384977,
          0.5326760563380282,
          0.5435915492957746,
          0.5556338028169014,
          0.5,
          0.5,
          0.5,
          0.5,
          0.5,
          0.5,
          0.5,
          0.5,
          0.5,
          0.5,
          0.5,
          0.5001988676243507,
          0.5001988676243507,
          0.5,
          0.5,
          0.5,
          0.5,
          0.5,
          0.5,
          0.5
         ]
        },
        {
         "name": "SS & FR",
         "type": "box",
         "x": [
          "LogisticRegression",
          "LogisticRegression",
          "LogisticRegression",
          "LogisticRegression",
          "LogisticRegression",
          "LogisticRegression",
          "LogisticRegression",
          "LogisticRegression",
          "LogisticRegression",
          "LogisticRegression",
          "LogisticRegression",
          "LogisticRegression",
          "LogisticRegression",
          "LogisticRegression",
          "LogisticRegression",
          "LogisticRegression",
          "LogisticRegression",
          "LogisticRegression",
          "LogisticRegression",
          "LogisticRegression",
          "SVC",
          "SVC",
          "SVC",
          "SVC",
          "SVC",
          "SVC",
          "SVC",
          "SVC",
          "SVC",
          "SVC",
          "SVC",
          "SVC",
          "SVC",
          "SVC",
          "SVC",
          "SVC",
          "SVC",
          "SVC",
          "SVC",
          "SVC",
          "RandomForestClassifier",
          "RandomForestClassifier",
          "RandomForestClassifier",
          "RandomForestClassifier",
          "RandomForestClassifier",
          "RandomForestClassifier",
          "RandomForestClassifier",
          "RandomForestClassifier",
          "RandomForestClassifier",
          "RandomForestClassifier",
          "RandomForestClassifier",
          "RandomForestClassifier",
          "RandomForestClassifier",
          "RandomForestClassifier",
          "RandomForestClassifier",
          "RandomForestClassifier",
          "RandomForestClassifier",
          "RandomForestClassifier",
          "RandomForestClassifier",
          "RandomForestClassifier",
          "GradientBoostingClassifier",
          "GradientBoostingClassifier",
          "GradientBoostingClassifier",
          "GradientBoostingClassifier",
          "GradientBoostingClassifier",
          "GradientBoostingClassifier",
          "GradientBoostingClassifier",
          "GradientBoostingClassifier",
          "GradientBoostingClassifier",
          "GradientBoostingClassifier",
          "GradientBoostingClassifier",
          "GradientBoostingClassifier",
          "GradientBoostingClassifier",
          "GradientBoostingClassifier",
          "GradientBoostingClassifier",
          "GradientBoostingClassifier",
          "GradientBoostingClassifier",
          "GradientBoostingClassifier",
          "GradientBoostingClassifier",
          "GradientBoostingClassifier",
          "DeepNeuralNetwork",
          "DeepNeuralNetwork",
          "DeepNeuralNetwork",
          "DeepNeuralNetwork",
          "DeepNeuralNetwork",
          "DeepNeuralNetwork",
          "DeepNeuralNetwork",
          "DeepNeuralNetwork",
          "DeepNeuralNetwork",
          "DeepNeuralNetwork",
          "DeepNeuralNetwork",
          "DeepNeuralNetwork",
          "DeepNeuralNetwork",
          "DeepNeuralNetwork",
          "DeepNeuralNetwork",
          "DeepNeuralNetwork",
          "DeepNeuralNetwork",
          "DeepNeuralNetwork",
          "DeepNeuralNetwork",
          "DeepNeuralNetwork"
         ],
         "y": [
          0.5,
          0.5,
          0.5,
          0.5,
          0.5,
          0.520774647887324,
          0.5,
          0.5,
          0.5,
          0.5,
          0.5,
          0.5,
          0.5,
          0.4926886902812222,
          0.535962441314554,
          0.5,
          0.5,
          0.5,
          0.5,
          0.5,
          0.5,
          0.5,
          0.5,
          0.5,
          0.5,
          0.5,
          0.5,
          0.5,
          0.5,
          0.5,
          0.5,
          0.5,
          0.5,
          0.4926886902812222,
          0.5,
          0.5,
          0.5,
          0.5,
          0.5131690140845071,
          0.5,
          0.5506410256410257,
          0.5982406064292733,
          0.5522670909175986,
          0.5555893500538113,
          0.5429342723004694,
          0.5940375586854459,
          0.5288262910798122,
          0.5468075117370893,
          0.5179107981220658,
          0.5947887323943661,
          0.5603146853146853,
          0.592660614851902,
          0.5652870712647982,
          0.5748561134247345,
          0.5544131455399061,
          0.561244131455399,
          0.5177230046948357,
          0.5232629107981221,
          0.5608920187793427,
          0.5614553990610329,
          0.5472494172494172,
          0.6417692199709887,
          0.5649010341116466,
          0.5373286229001919,
          0.5285915492957746,
          0.5354460093896714,
          0.5098591549295775,
          0.5417370892018779,
          0.5202347417840376,
          0.5530516431924883,
          0.553030303030303,
          0.5841677974825699,
          0.5412474849094567,
          0.5412474849094567,
          0.5334037558685446,
          0.5580516431924882,
          0.549906103286385,
          0.5211737089201878,
          0.5437558685446009,
          0.6045539906103287,
          0.5,
          0.5,
          0.5,
          0.5,
          0.5,
          0.5,
          0.4810798122065727,
          0.5,
          0.5,
          0.5,
          0.5,
          0.5,
          0.4998011323756492,
          0.5,
          0.5,
          0.5,
          0.5,
          0.5,
          0.5,
          0.5
         ]
        }
       ],
       "layout": {
        "boxmode": "group",
        "template": {
         "data": {
          "bar": [
           {
            "error_x": {
             "color": "#2a3f5f"
            },
            "error_y": {
             "color": "#2a3f5f"
            },
            "marker": {
             "line": {
              "color": "#E5ECF6",
              "width": 0.5
             },
             "pattern": {
              "fillmode": "overlay",
              "size": 10,
              "solidity": 0.2
             }
            },
            "type": "bar"
           }
          ],
          "barpolar": [
           {
            "marker": {
             "line": {
              "color": "#E5ECF6",
              "width": 0.5
             },
             "pattern": {
              "fillmode": "overlay",
              "size": 10,
              "solidity": 0.2
             }
            },
            "type": "barpolar"
           }
          ],
          "carpet": [
           {
            "aaxis": {
             "endlinecolor": "#2a3f5f",
             "gridcolor": "white",
             "linecolor": "white",
             "minorgridcolor": "white",
             "startlinecolor": "#2a3f5f"
            },
            "baxis": {
             "endlinecolor": "#2a3f5f",
             "gridcolor": "white",
             "linecolor": "white",
             "minorgridcolor": "white",
             "startlinecolor": "#2a3f5f"
            },
            "type": "carpet"
           }
          ],
          "choropleth": [
           {
            "colorbar": {
             "outlinewidth": 0,
             "ticks": ""
            },
            "type": "choropleth"
           }
          ],
          "contour": [
           {
            "colorbar": {
             "outlinewidth": 0,
             "ticks": ""
            },
            "colorscale": [
             [
              0,
              "#0d0887"
             ],
             [
              0.1111111111111111,
              "#46039f"
             ],
             [
              0.2222222222222222,
              "#7201a8"
             ],
             [
              0.3333333333333333,
              "#9c179e"
             ],
             [
              0.4444444444444444,
              "#bd3786"
             ],
             [
              0.5555555555555556,
              "#d8576b"
             ],
             [
              0.6666666666666666,
              "#ed7953"
             ],
             [
              0.7777777777777778,
              "#fb9f3a"
             ],
             [
              0.8888888888888888,
              "#fdca26"
             ],
             [
              1,
              "#f0f921"
             ]
            ],
            "type": "contour"
           }
          ],
          "contourcarpet": [
           {
            "colorbar": {
             "outlinewidth": 0,
             "ticks": ""
            },
            "type": "contourcarpet"
           }
          ],
          "heatmap": [
           {
            "colorbar": {
             "outlinewidth": 0,
             "ticks": ""
            },
            "colorscale": [
             [
              0,
              "#0d0887"
             ],
             [
              0.1111111111111111,
              "#46039f"
             ],
             [
              0.2222222222222222,
              "#7201a8"
             ],
             [
              0.3333333333333333,
              "#9c179e"
             ],
             [
              0.4444444444444444,
              "#bd3786"
             ],
             [
              0.5555555555555556,
              "#d8576b"
             ],
             [
              0.6666666666666666,
              "#ed7953"
             ],
             [
              0.7777777777777778,
              "#fb9f3a"
             ],
             [
              0.8888888888888888,
              "#fdca26"
             ],
             [
              1,
              "#f0f921"
             ]
            ],
            "type": "heatmap"
           }
          ],
          "heatmapgl": [
           {
            "colorbar": {
             "outlinewidth": 0,
             "ticks": ""
            },
            "colorscale": [
             [
              0,
              "#0d0887"
             ],
             [
              0.1111111111111111,
              "#46039f"
             ],
             [
              0.2222222222222222,
              "#7201a8"
             ],
             [
              0.3333333333333333,
              "#9c179e"
             ],
             [
              0.4444444444444444,
              "#bd3786"
             ],
             [
              0.5555555555555556,
              "#d8576b"
             ],
             [
              0.6666666666666666,
              "#ed7953"
             ],
             [
              0.7777777777777778,
              "#fb9f3a"
             ],
             [
              0.8888888888888888,
              "#fdca26"
             ],
             [
              1,
              "#f0f921"
             ]
            ],
            "type": "heatmapgl"
           }
          ],
          "histogram": [
           {
            "marker": {
             "pattern": {
              "fillmode": "overlay",
              "size": 10,
              "solidity": 0.2
             }
            },
            "type": "histogram"
           }
          ],
          "histogram2d": [
           {
            "colorbar": {
             "outlinewidth": 0,
             "ticks": ""
            },
            "colorscale": [
             [
              0,
              "#0d0887"
             ],
             [
              0.1111111111111111,
              "#46039f"
             ],
             [
              0.2222222222222222,
              "#7201a8"
             ],
             [
              0.3333333333333333,
              "#9c179e"
             ],
             [
              0.4444444444444444,
              "#bd3786"
             ],
             [
              0.5555555555555556,
              "#d8576b"
             ],
             [
              0.6666666666666666,
              "#ed7953"
             ],
             [
              0.7777777777777778,
              "#fb9f3a"
             ],
             [
              0.8888888888888888,
              "#fdca26"
             ],
             [
              1,
              "#f0f921"
             ]
            ],
            "type": "histogram2d"
           }
          ],
          "histogram2dcontour": [
           {
            "colorbar": {
             "outlinewidth": 0,
             "ticks": ""
            },
            "colorscale": [
             [
              0,
              "#0d0887"
             ],
             [
              0.1111111111111111,
              "#46039f"
             ],
             [
              0.2222222222222222,
              "#7201a8"
             ],
             [
              0.3333333333333333,
              "#9c179e"
             ],
             [
              0.4444444444444444,
              "#bd3786"
             ],
             [
              0.5555555555555556,
              "#d8576b"
             ],
             [
              0.6666666666666666,
              "#ed7953"
             ],
             [
              0.7777777777777778,
              "#fb9f3a"
             ],
             [
              0.8888888888888888,
              "#fdca26"
             ],
             [
              1,
              "#f0f921"
             ]
            ],
            "type": "histogram2dcontour"
           }
          ],
          "mesh3d": [
           {
            "colorbar": {
             "outlinewidth": 0,
             "ticks": ""
            },
            "type": "mesh3d"
           }
          ],
          "parcoords": [
           {
            "line": {
             "colorbar": {
              "outlinewidth": 0,
              "ticks": ""
             }
            },
            "type": "parcoords"
           }
          ],
          "pie": [
           {
            "automargin": true,
            "type": "pie"
           }
          ],
          "scatter": [
           {
            "fillpattern": {
             "fillmode": "overlay",
             "size": 10,
             "solidity": 0.2
            },
            "type": "scatter"
           }
          ],
          "scatter3d": [
           {
            "line": {
             "colorbar": {
              "outlinewidth": 0,
              "ticks": ""
             }
            },
            "marker": {
             "colorbar": {
              "outlinewidth": 0,
              "ticks": ""
             }
            },
            "type": "scatter3d"
           }
          ],
          "scattercarpet": [
           {
            "marker": {
             "colorbar": {
              "outlinewidth": 0,
              "ticks": ""
             }
            },
            "type": "scattercarpet"
           }
          ],
          "scattergeo": [
           {
            "marker": {
             "colorbar": {
              "outlinewidth": 0,
              "ticks": ""
             }
            },
            "type": "scattergeo"
           }
          ],
          "scattergl": [
           {
            "marker": {
             "colorbar": {
              "outlinewidth": 0,
              "ticks": ""
             }
            },
            "type": "scattergl"
           }
          ],
          "scattermapbox": [
           {
            "marker": {
             "colorbar": {
              "outlinewidth": 0,
              "ticks": ""
             }
            },
            "type": "scattermapbox"
           }
          ],
          "scatterpolar": [
           {
            "marker": {
             "colorbar": {
              "outlinewidth": 0,
              "ticks": ""
             }
            },
            "type": "scatterpolar"
           }
          ],
          "scatterpolargl": [
           {
            "marker": {
             "colorbar": {
              "outlinewidth": 0,
              "ticks": ""
             }
            },
            "type": "scatterpolargl"
           }
          ],
          "scatterternary": [
           {
            "marker": {
             "colorbar": {
              "outlinewidth": 0,
              "ticks": ""
             }
            },
            "type": "scatterternary"
           }
          ],
          "surface": [
           {
            "colorbar": {
             "outlinewidth": 0,
             "ticks": ""
            },
            "colorscale": [
             [
              0,
              "#0d0887"
             ],
             [
              0.1111111111111111,
              "#46039f"
             ],
             [
              0.2222222222222222,
              "#7201a8"
             ],
             [
              0.3333333333333333,
              "#9c179e"
             ],
             [
              0.4444444444444444,
              "#bd3786"
             ],
             [
              0.5555555555555556,
              "#d8576b"
             ],
             [
              0.6666666666666666,
              "#ed7953"
             ],
             [
              0.7777777777777778,
              "#fb9f3a"
             ],
             [
              0.8888888888888888,
              "#fdca26"
             ],
             [
              1,
              "#f0f921"
             ]
            ],
            "type": "surface"
           }
          ],
          "table": [
           {
            "cells": {
             "fill": {
              "color": "#EBF0F8"
             },
             "line": {
              "color": "white"
             }
            },
            "header": {
             "fill": {
              "color": "#C8D4E3"
             },
             "line": {
              "color": "white"
             }
            },
            "type": "table"
           }
          ]
         },
         "layout": {
          "annotationdefaults": {
           "arrowcolor": "#2a3f5f",
           "arrowhead": 0,
           "arrowwidth": 1
          },
          "autotypenumbers": "strict",
          "coloraxis": {
           "colorbar": {
            "outlinewidth": 0,
            "ticks": ""
           }
          },
          "colorscale": {
           "diverging": [
            [
             0,
             "#8e0152"
            ],
            [
             0.1,
             "#c51b7d"
            ],
            [
             0.2,
             "#de77ae"
            ],
            [
             0.3,
             "#f1b6da"
            ],
            [
             0.4,
             "#fde0ef"
            ],
            [
             0.5,
             "#f7f7f7"
            ],
            [
             0.6,
             "#e6f5d0"
            ],
            [
             0.7,
             "#b8e186"
            ],
            [
             0.8,
             "#7fbc41"
            ],
            [
             0.9,
             "#4d9221"
            ],
            [
             1,
             "#276419"
            ]
           ],
           "sequential": [
            [
             0,
             "#0d0887"
            ],
            [
             0.1111111111111111,
             "#46039f"
            ],
            [
             0.2222222222222222,
             "#7201a8"
            ],
            [
             0.3333333333333333,
             "#9c179e"
            ],
            [
             0.4444444444444444,
             "#bd3786"
            ],
            [
             0.5555555555555556,
             "#d8576b"
            ],
            [
             0.6666666666666666,
             "#ed7953"
            ],
            [
             0.7777777777777778,
             "#fb9f3a"
            ],
            [
             0.8888888888888888,
             "#fdca26"
            ],
            [
             1,
             "#f0f921"
            ]
           ],
           "sequentialminus": [
            [
             0,
             "#0d0887"
            ],
            [
             0.1111111111111111,
             "#46039f"
            ],
            [
             0.2222222222222222,
             "#7201a8"
            ],
            [
             0.3333333333333333,
             "#9c179e"
            ],
            [
             0.4444444444444444,
             "#bd3786"
            ],
            [
             0.5555555555555556,
             "#d8576b"
            ],
            [
             0.6666666666666666,
             "#ed7953"
            ],
            [
             0.7777777777777778,
             "#fb9f3a"
            ],
            [
             0.8888888888888888,
             "#fdca26"
            ],
            [
             1,
             "#f0f921"
            ]
           ]
          },
          "colorway": [
           "#636efa",
           "#EF553B",
           "#00cc96",
           "#ab63fa",
           "#FFA15A",
           "#19d3f3",
           "#FF6692",
           "#B6E880",
           "#FF97FF",
           "#FECB52"
          ],
          "font": {
           "color": "#2a3f5f"
          },
          "geo": {
           "bgcolor": "white",
           "lakecolor": "white",
           "landcolor": "#E5ECF6",
           "showlakes": true,
           "showland": true,
           "subunitcolor": "white"
          },
          "hoverlabel": {
           "align": "left"
          },
          "hovermode": "closest",
          "mapbox": {
           "style": "light"
          },
          "paper_bgcolor": "white",
          "plot_bgcolor": "#E5ECF6",
          "polar": {
           "angularaxis": {
            "gridcolor": "white",
            "linecolor": "white",
            "ticks": ""
           },
           "bgcolor": "#E5ECF6",
           "radialaxis": {
            "gridcolor": "white",
            "linecolor": "white",
            "ticks": ""
           }
          },
          "scene": {
           "xaxis": {
            "backgroundcolor": "#E5ECF6",
            "gridcolor": "white",
            "gridwidth": 2,
            "linecolor": "white",
            "showbackground": true,
            "ticks": "",
            "zerolinecolor": "white"
           },
           "yaxis": {
            "backgroundcolor": "#E5ECF6",
            "gridcolor": "white",
            "gridwidth": 2,
            "linecolor": "white",
            "showbackground": true,
            "ticks": "",
            "zerolinecolor": "white"
           },
           "zaxis": {
            "backgroundcolor": "#E5ECF6",
            "gridcolor": "white",
            "gridwidth": 2,
            "linecolor": "white",
            "showbackground": true,
            "ticks": "",
            "zerolinecolor": "white"
           }
          },
          "shapedefaults": {
           "line": {
            "color": "#2a3f5f"
           }
          },
          "ternary": {
           "aaxis": {
            "gridcolor": "white",
            "linecolor": "white",
            "ticks": ""
           },
           "baxis": {
            "gridcolor": "white",
            "linecolor": "white",
            "ticks": ""
           },
           "bgcolor": "#E5ECF6",
           "caxis": {
            "gridcolor": "white",
            "linecolor": "white",
            "ticks": ""
           }
          },
          "title": {
           "x": 0.05
          },
          "xaxis": {
           "automargin": true,
           "gridcolor": "white",
           "linecolor": "white",
           "ticks": "",
           "title": {
            "standoff": 15
           },
           "zerolinecolor": "white",
           "zerolinewidth": 2
          },
          "yaxis": {
           "automargin": true,
           "gridcolor": "white",
           "linecolor": "white",
           "ticks": "",
           "title": {
            "standoff": 15
           },
           "zerolinecolor": "white",
           "zerolinewidth": 2
          }
         }
        },
        "title": {
         "text": "auc"
        },
        "yaxis": {
         "title": {
          "text": "auc"
         }
        }
       }
      }
     },
     "metadata": {},
     "output_type": "display_data"
    },
    {
     "data": {
      "application/vnd.plotly.v1+json": {
       "config": {
        "plotlyServerURL": "https://plot.ly"
       },
       "data": [
        {
         "name": "Full",
         "type": "box",
         "x": [
          "LogisticRegression",
          "LogisticRegression",
          "LogisticRegression",
          "LogisticRegression",
          "LogisticRegression",
          "LogisticRegression",
          "LogisticRegression",
          "LogisticRegression",
          "LogisticRegression",
          "LogisticRegression",
          "LogisticRegression",
          "LogisticRegression",
          "LogisticRegression",
          "LogisticRegression",
          "LogisticRegression",
          "LogisticRegression",
          "LogisticRegression",
          "LogisticRegression",
          "LogisticRegression",
          "LogisticRegression",
          "SVC",
          "SVC",
          "SVC",
          "SVC",
          "SVC",
          "SVC",
          "SVC",
          "SVC",
          "SVC",
          "SVC",
          "SVC",
          "SVC",
          "SVC",
          "SVC",
          "SVC",
          "SVC",
          "SVC",
          "SVC",
          "SVC",
          "SVC",
          "RandomForestClassifier",
          "RandomForestClassifier",
          "RandomForestClassifier",
          "RandomForestClassifier",
          "RandomForestClassifier",
          "RandomForestClassifier",
          "RandomForestClassifier",
          "RandomForestClassifier",
          "RandomForestClassifier",
          "RandomForestClassifier",
          "RandomForestClassifier",
          "RandomForestClassifier",
          "RandomForestClassifier",
          "RandomForestClassifier",
          "RandomForestClassifier",
          "RandomForestClassifier",
          "RandomForestClassifier",
          "RandomForestClassifier",
          "RandomForestClassifier",
          "RandomForestClassifier",
          "GradientBoostingClassifier",
          "GradientBoostingClassifier",
          "GradientBoostingClassifier",
          "GradientBoostingClassifier",
          "GradientBoostingClassifier",
          "GradientBoostingClassifier",
          "GradientBoostingClassifier",
          "GradientBoostingClassifier",
          "GradientBoostingClassifier",
          "GradientBoostingClassifier",
          "GradientBoostingClassifier",
          "GradientBoostingClassifier",
          "GradientBoostingClassifier",
          "GradientBoostingClassifier",
          "GradientBoostingClassifier",
          "GradientBoostingClassifier",
          "GradientBoostingClassifier",
          "GradientBoostingClassifier",
          "GradientBoostingClassifier",
          "GradientBoostingClassifier",
          "DeepNeuralNetwork",
          "DeepNeuralNetwork",
          "DeepNeuralNetwork",
          "DeepNeuralNetwork",
          "DeepNeuralNetwork",
          "DeepNeuralNetwork",
          "DeepNeuralNetwork",
          "DeepNeuralNetwork",
          "DeepNeuralNetwork",
          "DeepNeuralNetwork",
          "DeepNeuralNetwork",
          "DeepNeuralNetwork",
          "DeepNeuralNetwork",
          "DeepNeuralNetwork",
          "DeepNeuralNetwork",
          "DeepNeuralNetwork",
          "DeepNeuralNetwork",
          "DeepNeuralNetwork",
          "DeepNeuralNetwork",
          "DeepNeuralNetwork"
         ],
         "y": [
          11.634858768947524,
          11.553496120213625,
          11.553496120213625,
          11.553496120213625,
          11.57963525170732,
          11.57963525170732,
          11.57963525170732,
          11.57963525170732,
          11.57963525170732,
          11.57963525170732,
          11.634858768947524,
          11.553496120213625,
          11.634858768947524,
          11.553496120213625,
          11.57963525170732,
          11.57963525170732,
          11.57963525170732,
          12.721289431453112,
          11.57963525170732,
          11.57963525170732,
          11.634858768947524,
          11.553496120213625,
          11.553496120213625,
          11.553496120213625,
          11.57963525170732,
          11.57963525170732,
          11.57963525170732,
          11.57963525170732,
          11.57963525170732,
          11.57963525170732,
          11.634858768947524,
          11.553496120213625,
          11.553496120213625,
          12.367122607552613,
          11.57963525170732,
          11.57963525170732,
          11.57963525170732,
          11.57963525170732,
          11.57963525170732,
          11.57963525170732,
          14.970727367037371,
          14.157100879698383,
          13.506199689827197,
          13.913012933496688,
          14.026037065448303,
          13.862943611198904,
          15.167691245194096,
          13.455209975575404,
          14.4337707010718,
          14.270677246822402,
          13.668924987294991,
          13.750287636028892,
          15.458903259440763,
          13.994375582230589,
          15.412331426568194,
          14.759957609570597,
          14.4337707010718,
          15.167691245194094,
          15.493878153692892,
          13.455209975575404,
          12.285759958818712,
          12.285759958818712,
          12.285759958818712,
          11.390770822745829,
          14.026037065448302,
          12.80283615857781,
          12.068915614455516,
          12.232009068704912,
          11.905822160206116,
          11.824275433081418,
          11.71622141768142,
          11.87894671514922,
          12.773935851222106,
          11.390770822745829,
          11.824275433081418,
          12.395102522954314,
          11.987368887330817,
          11.824275433081418,
          10.845714707585024,
          12.150462341580216,
          0.640212747571794,
          0.6326767141602713,
          0.6333243343249474,
          0.6272810209821739,
          0.6490985404078843,
          0.6289879445924932,
          0.6278507491788763,
          0.6538822933254909,
          0.6404295665261248,
          0.6299645640453004,
          0.6666750754601298,
          0.642989257251716,
          0.628421262424646,
          0.6330582270028111,
          0.6390161447545141,
          0.6394113143604517,
          0.6677572022111846,
          0.6290099132781679,
          0.6379120351092665,
          0.6280167743018295
         ]
        },
        {
         "name": "FR",
         "type": "box",
         "x": [
          "LogisticRegression",
          "LogisticRegression",
          "LogisticRegression",
          "LogisticRegression",
          "LogisticRegression",
          "LogisticRegression",
          "LogisticRegression",
          "LogisticRegression",
          "LogisticRegression",
          "LogisticRegression",
          "LogisticRegression",
          "LogisticRegression",
          "LogisticRegression",
          "LogisticRegression",
          "LogisticRegression",
          "LogisticRegression",
          "LogisticRegression",
          "LogisticRegression",
          "LogisticRegression",
          "LogisticRegression",
          "SVC",
          "SVC",
          "SVC",
          "SVC",
          "SVC",
          "SVC",
          "SVC",
          "SVC",
          "SVC",
          "SVC",
          "SVC",
          "SVC",
          "SVC",
          "SVC",
          "SVC",
          "SVC",
          "SVC",
          "SVC",
          "SVC",
          "SVC",
          "RandomForestClassifier",
          "RandomForestClassifier",
          "RandomForestClassifier",
          "RandomForestClassifier",
          "RandomForestClassifier",
          "RandomForestClassifier",
          "RandomForestClassifier",
          "RandomForestClassifier",
          "RandomForestClassifier",
          "RandomForestClassifier",
          "RandomForestClassifier",
          "RandomForestClassifier",
          "RandomForestClassifier",
          "RandomForestClassifier",
          "RandomForestClassifier",
          "RandomForestClassifier",
          "RandomForestClassifier",
          "RandomForestClassifier",
          "RandomForestClassifier",
          "RandomForestClassifier",
          "GradientBoostingClassifier",
          "GradientBoostingClassifier",
          "GradientBoostingClassifier",
          "GradientBoostingClassifier",
          "GradientBoostingClassifier",
          "GradientBoostingClassifier",
          "GradientBoostingClassifier",
          "GradientBoostingClassifier",
          "GradientBoostingClassifier",
          "GradientBoostingClassifier",
          "GradientBoostingClassifier",
          "GradientBoostingClassifier",
          "GradientBoostingClassifier",
          "GradientBoostingClassifier",
          "GradientBoostingClassifier",
          "GradientBoostingClassifier",
          "GradientBoostingClassifier",
          "GradientBoostingClassifier",
          "GradientBoostingClassifier",
          "GradientBoostingClassifier",
          "DeepNeuralNetwork",
          "DeepNeuralNetwork",
          "DeepNeuralNetwork",
          "DeepNeuralNetwork",
          "DeepNeuralNetwork",
          "DeepNeuralNetwork",
          "DeepNeuralNetwork",
          "DeepNeuralNetwork",
          "DeepNeuralNetwork",
          "DeepNeuralNetwork",
          "DeepNeuralNetwork",
          "DeepNeuralNetwork",
          "DeepNeuralNetwork",
          "DeepNeuralNetwork",
          "DeepNeuralNetwork",
          "DeepNeuralNetwork",
          "DeepNeuralNetwork",
          "DeepNeuralNetwork",
          "DeepNeuralNetwork",
          "DeepNeuralNetwork"
         ],
         "y": [
          11.634858768947524,
          11.553496120213625,
          11.553496120213625,
          11.553496120213625,
          11.57963525170732,
          11.57963525170732,
          11.57963525170732,
          11.57963525170732,
          11.57963525170732,
          11.57963525170732,
          11.634858768947524,
          11.553496120213625,
          11.553496120213625,
          11.553496120213625,
          11.57963525170732,
          11.57963525170732,
          11.57963525170732,
          11.57963525170732,
          11.57963525170732,
          11.57963525170732,
          11.634858768947524,
          11.553496120213625,
          11.553496120213625,
          11.553496120213625,
          11.57963525170732,
          11.57963525170732,
          11.57963525170732,
          11.57963525170732,
          11.57963525170732,
          11.57963525170732,
          11.634858768947524,
          11.553496120213625,
          11.553496120213625,
          11.553496120213625,
          11.57963525170732,
          11.57963525170732,
          11.57963525170732,
          11.57963525170732,
          11.57963525170732,
          11.57963525170732,
          13.1807490948916,
          13.1807490948916,
          13.913012933496688,
          14.31982617716618,
          14.759957609570597,
          13.210569794201309,
          13.455209975575409,
          13.618303429824806,
          15.004597790944697,
          13.618303429824806,
          14.563914123367876,
          13.668924987294991,
          13.75028763602889,
          13.75028763602889,
          14.923051063819996,
          13.862943611198904,
          14.026037065448303,
          14.841504336695296,
          13.944490338323602,
          13.862943611198904,
          11.634858768947524,
          11.146682876544132,
          11.71622141768142,
          10.57714433540684,
          12.96592961282721,
          10.11179416346273,
          11.41654179745792,
          12.476649250079014,
          11.742728705956718,
          12.313555795829616,
          10.983957579076334,
          11.634858768947524,
          13.0993864461577,
          12.285759958818714,
          11.41654179745792,
          11.416541797457922,
          11.171901616083822,
          11.824275433081418,
          11.987368887330817,
          12.313555795829616,
          0.6334605520290011,
          0.6342495375350046,
          0.629587516008325,
          0.629436880075842,
          0.6656069252682155,
          0.6539811331218286,
          0.6301161846410719,
          0.6350452296445287,
          0.6305631337060172,
          0.6286864598597198,
          0.6487933125244055,
          0.6437756453032285,
          0.6617884283174369,
          0.6409126448320546,
          0.6295760086394154,
          0.6337354816760707,
          0.6517493232090917,
          0.6530444112234227,
          0.6654380680550775,
          0.640223463941761
         ]
        },
        {
         "name": "SS",
         "type": "box",
         "x": [
          "LogisticRegression",
          "LogisticRegression",
          "LogisticRegression",
          "LogisticRegression",
          "LogisticRegression",
          "LogisticRegression",
          "LogisticRegression",
          "LogisticRegression",
          "LogisticRegression",
          "LogisticRegression",
          "LogisticRegression",
          "LogisticRegression",
          "LogisticRegression",
          "LogisticRegression",
          "LogisticRegression",
          "LogisticRegression",
          "LogisticRegression",
          "LogisticRegression",
          "LogisticRegression",
          "LogisticRegression",
          "SVC",
          "SVC",
          "SVC",
          "SVC",
          "SVC",
          "SVC",
          "SVC",
          "SVC",
          "SVC",
          "SVC",
          "SVC",
          "SVC",
          "SVC",
          "SVC",
          "SVC",
          "SVC",
          "SVC",
          "SVC",
          "SVC",
          "SVC",
          "RandomForestClassifier",
          "RandomForestClassifier",
          "RandomForestClassifier",
          "RandomForestClassifier",
          "RandomForestClassifier",
          "RandomForestClassifier",
          "RandomForestClassifier",
          "RandomForestClassifier",
          "RandomForestClassifier",
          "RandomForestClassifier",
          "RandomForestClassifier",
          "RandomForestClassifier",
          "RandomForestClassifier",
          "RandomForestClassifier",
          "RandomForestClassifier",
          "RandomForestClassifier",
          "RandomForestClassifier",
          "RandomForestClassifier",
          "RandomForestClassifier",
          "RandomForestClassifier",
          "GradientBoostingClassifier",
          "GradientBoostingClassifier",
          "GradientBoostingClassifier",
          "GradientBoostingClassifier",
          "GradientBoostingClassifier",
          "GradientBoostingClassifier",
          "GradientBoostingClassifier",
          "GradientBoostingClassifier",
          "GradientBoostingClassifier",
          "GradientBoostingClassifier",
          "GradientBoostingClassifier",
          "GradientBoostingClassifier",
          "GradientBoostingClassifier",
          "GradientBoostingClassifier",
          "GradientBoostingClassifier",
          "GradientBoostingClassifier",
          "GradientBoostingClassifier",
          "GradientBoostingClassifier",
          "GradientBoostingClassifier",
          "GradientBoostingClassifier",
          "DeepNeuralNetwork",
          "DeepNeuralNetwork",
          "DeepNeuralNetwork",
          "DeepNeuralNetwork",
          "DeepNeuralNetwork",
          "DeepNeuralNetwork",
          "DeepNeuralNetwork",
          "DeepNeuralNetwork",
          "DeepNeuralNetwork",
          "DeepNeuralNetwork",
          "DeepNeuralNetwork",
          "DeepNeuralNetwork",
          "DeepNeuralNetwork",
          "DeepNeuralNetwork",
          "DeepNeuralNetwork",
          "DeepNeuralNetwork",
          "DeepNeuralNetwork",
          "DeepNeuralNetwork",
          "DeepNeuralNetwork",
          "DeepNeuralNetwork"
         ],
         "y": [
          12.123034661350914,
          11.553496120213625,
          11.553496120213625,
          11.553496120213625,
          11.57963525170732,
          11.57963525170732,
          11.57963525170732,
          11.57963525170732,
          11.742728705956718,
          11.57963525170732,
          11.634858768947524,
          11.553496120213625,
          11.634858768947524,
          11.553496120213625,
          11.57963525170732,
          11.824275433081418,
          11.57963525170732,
          11.57963525170732,
          11.57963525170732,
          11.57963525170732,
          11.634858768947524,
          11.553496120213625,
          11.553496120213625,
          12.04167201261702,
          11.57963525170732,
          11.57963525170732,
          11.57963525170732,
          11.57963525170732,
          11.57963525170732,
          11.57963525170732,
          11.634858768947524,
          11.553496120213625,
          11.553496120213625,
          11.553496120213625,
          11.57963525170732,
          11.57963525170732,
          11.57963525170732,
          11.57963525170732,
          11.57963525170732,
          11.57963525170732,
          13.1807490948916,
          13.0180237974238,
          13.2621117436255,
          11.553496120213625,
          14.515317428196498,
          13.699850156949504,
          14.352223973947105,
          14.4337707010718,
          14.678410882445895,
          14.189130519697702,
          14.238463528432282,
          14.075738230964484,
          14.726639420835674,
          12.52984790502041,
          11.742728705956718,
          13.699850156949504,
          12.232009068704912,
          14.3522239739471,
          14.3522239739471,
          12.558195977203711,
          11.553496120213625,
          12.041672012617015,
          12.52984790502041,
          10.414419037939044,
          11.66118197883202,
          12.802836158577811,
          13.536756702700105,
          12.313555795829616,
          12.721289431453114,
          11.987368887330817,
          11.960309363883118,
          12.04167201261702,
          11.87894671514922,
          11.960309363883118,
          11.987368887330817,
          11.253448343208522,
          11.987368887330817,
          12.884382885702513,
          11.987368887330817,
          11.57963525170732,
          0.6291421783091823,
          0.6272772107766086,
          0.6288644494318825,
          0.6278009690424582,
          0.6397072202296524,
          0.6286756869970153,
          0.6700942776546706,
          0.6307970465833062,
          0.6301843133632582,
          0.6513041054683258,
          0.6302701524263908,
          0.6395834719499514,
          0.6285810085644442,
          0.6333830259423974,
          0.6709759985541338,
          0.630832805816676,
          0.6450606875931593,
          0.6453759755753727,
          0.6748743225950793,
          0.645481226208321
         ]
        },
        {
         "name": "SS & FR",
         "type": "box",
         "x": [
          "LogisticRegression",
          "LogisticRegression",
          "LogisticRegression",
          "LogisticRegression",
          "LogisticRegression",
          "LogisticRegression",
          "LogisticRegression",
          "LogisticRegression",
          "LogisticRegression",
          "LogisticRegression",
          "LogisticRegression",
          "LogisticRegression",
          "LogisticRegression",
          "LogisticRegression",
          "LogisticRegression",
          "LogisticRegression",
          "LogisticRegression",
          "LogisticRegression",
          "LogisticRegression",
          "LogisticRegression",
          "SVC",
          "SVC",
          "SVC",
          "SVC",
          "SVC",
          "SVC",
          "SVC",
          "SVC",
          "SVC",
          "SVC",
          "SVC",
          "SVC",
          "SVC",
          "SVC",
          "SVC",
          "SVC",
          "SVC",
          "SVC",
          "SVC",
          "SVC",
          "RandomForestClassifier",
          "RandomForestClassifier",
          "RandomForestClassifier",
          "RandomForestClassifier",
          "RandomForestClassifier",
          "RandomForestClassifier",
          "RandomForestClassifier",
          "RandomForestClassifier",
          "RandomForestClassifier",
          "RandomForestClassifier",
          "RandomForestClassifier",
          "RandomForestClassifier",
          "RandomForestClassifier",
          "RandomForestClassifier",
          "RandomForestClassifier",
          "RandomForestClassifier",
          "RandomForestClassifier",
          "RandomForestClassifier",
          "RandomForestClassifier",
          "RandomForestClassifier",
          "GradientBoostingClassifier",
          "GradientBoostingClassifier",
          "GradientBoostingClassifier",
          "GradientBoostingClassifier",
          "GradientBoostingClassifier",
          "GradientBoostingClassifier",
          "GradientBoostingClassifier",
          "GradientBoostingClassifier",
          "GradientBoostingClassifier",
          "GradientBoostingClassifier",
          "GradientBoostingClassifier",
          "GradientBoostingClassifier",
          "GradientBoostingClassifier",
          "GradientBoostingClassifier",
          "GradientBoostingClassifier",
          "GradientBoostingClassifier",
          "GradientBoostingClassifier",
          "GradientBoostingClassifier",
          "GradientBoostingClassifier",
          "GradientBoostingClassifier",
          "DeepNeuralNetwork",
          "DeepNeuralNetwork",
          "DeepNeuralNetwork",
          "DeepNeuralNetwork",
          "DeepNeuralNetwork",
          "DeepNeuralNetwork",
          "DeepNeuralNetwork",
          "DeepNeuralNetwork",
          "DeepNeuralNetwork",
          "DeepNeuralNetwork",
          "DeepNeuralNetwork",
          "DeepNeuralNetwork",
          "DeepNeuralNetwork",
          "DeepNeuralNetwork",
          "DeepNeuralNetwork",
          "DeepNeuralNetwork",
          "DeepNeuralNetwork",
          "DeepNeuralNetwork",
          "DeepNeuralNetwork",
          "DeepNeuralNetwork"
         ],
         "y": [
          11.634858768947524,
          11.553496120213625,
          11.553496120213625,
          11.553496120213625,
          11.57963525170732,
          11.742728705956718,
          11.57963525170732,
          11.57963525170732,
          11.57963525170732,
          11.57963525170732,
          11.634858768947524,
          11.553496120213625,
          11.553496120213625,
          12.367122607552613,
          11.090354888959125,
          11.57963525170732,
          11.57963525170732,
          11.57963525170732,
          11.57963525170732,
          11.57963525170732,
          11.634858768947524,
          11.553496120213625,
          11.553496120213625,
          11.553496120213625,
          11.57963525170732,
          11.57963525170732,
          11.57963525170732,
          11.57963525170732,
          11.57963525170732,
          11.57963525170732,
          11.634858768947524,
          11.553496120213625,
          11.553496120213625,
          12.367122607552613,
          11.57963525170732,
          11.57963525170732,
          11.57963525170732,
          11.57963525170732,
          11.66118197883202,
          11.57963525170732,
          14.075738230964486,
          12.936661148689904,
          13.913012933496688,
          13.75028763602889,
          14.923051063819994,
          12.150462341580216,
          14.4337707010718,
          14.189130519697702,
          15.330784699443496,
          12.476649250079014,
          13.424837041093296,
          12.936661148689904,
          13.913012933496688,
          13.262111743625496,
          14.270677246822402,
          13.21056979420131,
          15.249237972318792,
          14.4337707010718,
          13.862943611198906,
          14.107583792573005,
          11.472133471479726,
          9.438067253132257,
          11.472133471479726,
          12.367122607552613,
          12.721289431453114,
          12.476649250079014,
          12.639742704328413,
          11.987368887330817,
          12.313555795829611,
          12.068915614455516,
          12.529847905020407,
          10.983957579076332,
          12.44848525628651,
          12.44848525628651,
          12.395102522954314,
          11.824275433081418,
          12.313555795829616,
          12.721289431453114,
          11.253448343208522,
          10.27488761771213,
          0.6290506917522586,
          0.6274295840396446,
          0.6308468609180452,
          0.6406436753241039,
          0.6348668248227016,
          0.6608981572422176,
          0.6705183958516241,
          0.6278544483922109,
          0.6458724650908574,
          0.6278833970640437,
          0.6297479256763512,
          0.632622004598242,
          0.6460294432841894,
          0.6292358600171737,
          0.6310999517382316,
          0.6352747707631159,
          0.6413508092167272,
          0.648665341217023,
          0.62792491982809,
          0.633964838953751
         ]
        }
       ],
       "layout": {
        "boxmode": "group",
        "template": {
         "data": {
          "bar": [
           {
            "error_x": {
             "color": "#2a3f5f"
            },
            "error_y": {
             "color": "#2a3f5f"
            },
            "marker": {
             "line": {
              "color": "#E5ECF6",
              "width": 0.5
             },
             "pattern": {
              "fillmode": "overlay",
              "size": 10,
              "solidity": 0.2
             }
            },
            "type": "bar"
           }
          ],
          "barpolar": [
           {
            "marker": {
             "line": {
              "color": "#E5ECF6",
              "width": 0.5
             },
             "pattern": {
              "fillmode": "overlay",
              "size": 10,
              "solidity": 0.2
             }
            },
            "type": "barpolar"
           }
          ],
          "carpet": [
           {
            "aaxis": {
             "endlinecolor": "#2a3f5f",
             "gridcolor": "white",
             "linecolor": "white",
             "minorgridcolor": "white",
             "startlinecolor": "#2a3f5f"
            },
            "baxis": {
             "endlinecolor": "#2a3f5f",
             "gridcolor": "white",
             "linecolor": "white",
             "minorgridcolor": "white",
             "startlinecolor": "#2a3f5f"
            },
            "type": "carpet"
           }
          ],
          "choropleth": [
           {
            "colorbar": {
             "outlinewidth": 0,
             "ticks": ""
            },
            "type": "choropleth"
           }
          ],
          "contour": [
           {
            "colorbar": {
             "outlinewidth": 0,
             "ticks": ""
            },
            "colorscale": [
             [
              0,
              "#0d0887"
             ],
             [
              0.1111111111111111,
              "#46039f"
             ],
             [
              0.2222222222222222,
              "#7201a8"
             ],
             [
              0.3333333333333333,
              "#9c179e"
             ],
             [
              0.4444444444444444,
              "#bd3786"
             ],
             [
              0.5555555555555556,
              "#d8576b"
             ],
             [
              0.6666666666666666,
              "#ed7953"
             ],
             [
              0.7777777777777778,
              "#fb9f3a"
             ],
             [
              0.8888888888888888,
              "#fdca26"
             ],
             [
              1,
              "#f0f921"
             ]
            ],
            "type": "contour"
           }
          ],
          "contourcarpet": [
           {
            "colorbar": {
             "outlinewidth": 0,
             "ticks": ""
            },
            "type": "contourcarpet"
           }
          ],
          "heatmap": [
           {
            "colorbar": {
             "outlinewidth": 0,
             "ticks": ""
            },
            "colorscale": [
             [
              0,
              "#0d0887"
             ],
             [
              0.1111111111111111,
              "#46039f"
             ],
             [
              0.2222222222222222,
              "#7201a8"
             ],
             [
              0.3333333333333333,
              "#9c179e"
             ],
             [
              0.4444444444444444,
              "#bd3786"
             ],
             [
              0.5555555555555556,
              "#d8576b"
             ],
             [
              0.6666666666666666,
              "#ed7953"
             ],
             [
              0.7777777777777778,
              "#fb9f3a"
             ],
             [
              0.8888888888888888,
              "#fdca26"
             ],
             [
              1,
              "#f0f921"
             ]
            ],
            "type": "heatmap"
           }
          ],
          "heatmapgl": [
           {
            "colorbar": {
             "outlinewidth": 0,
             "ticks": ""
            },
            "colorscale": [
             [
              0,
              "#0d0887"
             ],
             [
              0.1111111111111111,
              "#46039f"
             ],
             [
              0.2222222222222222,
              "#7201a8"
             ],
             [
              0.3333333333333333,
              "#9c179e"
             ],
             [
              0.4444444444444444,
              "#bd3786"
             ],
             [
              0.5555555555555556,
              "#d8576b"
             ],
             [
              0.6666666666666666,
              "#ed7953"
             ],
             [
              0.7777777777777778,
              "#fb9f3a"
             ],
             [
              0.8888888888888888,
              "#fdca26"
             ],
             [
              1,
              "#f0f921"
             ]
            ],
            "type": "heatmapgl"
           }
          ],
          "histogram": [
           {
            "marker": {
             "pattern": {
              "fillmode": "overlay",
              "size": 10,
              "solidity": 0.2
             }
            },
            "type": "histogram"
           }
          ],
          "histogram2d": [
           {
            "colorbar": {
             "outlinewidth": 0,
             "ticks": ""
            },
            "colorscale": [
             [
              0,
              "#0d0887"
             ],
             [
              0.1111111111111111,
              "#46039f"
             ],
             [
              0.2222222222222222,
              "#7201a8"
             ],
             [
              0.3333333333333333,
              "#9c179e"
             ],
             [
              0.4444444444444444,
              "#bd3786"
             ],
             [
              0.5555555555555556,
              "#d8576b"
             ],
             [
              0.6666666666666666,
              "#ed7953"
             ],
             [
              0.7777777777777778,
              "#fb9f3a"
             ],
             [
              0.8888888888888888,
              "#fdca26"
             ],
             [
              1,
              "#f0f921"
             ]
            ],
            "type": "histogram2d"
           }
          ],
          "histogram2dcontour": [
           {
            "colorbar": {
             "outlinewidth": 0,
             "ticks": ""
            },
            "colorscale": [
             [
              0,
              "#0d0887"
             ],
             [
              0.1111111111111111,
              "#46039f"
             ],
             [
              0.2222222222222222,
              "#7201a8"
             ],
             [
              0.3333333333333333,
              "#9c179e"
             ],
             [
              0.4444444444444444,
              "#bd3786"
             ],
             [
              0.5555555555555556,
              "#d8576b"
             ],
             [
              0.6666666666666666,
              "#ed7953"
             ],
             [
              0.7777777777777778,
              "#fb9f3a"
             ],
             [
              0.8888888888888888,
              "#fdca26"
             ],
             [
              1,
              "#f0f921"
             ]
            ],
            "type": "histogram2dcontour"
           }
          ],
          "mesh3d": [
           {
            "colorbar": {
             "outlinewidth": 0,
             "ticks": ""
            },
            "type": "mesh3d"
           }
          ],
          "parcoords": [
           {
            "line": {
             "colorbar": {
              "outlinewidth": 0,
              "ticks": ""
             }
            },
            "type": "parcoords"
           }
          ],
          "pie": [
           {
            "automargin": true,
            "type": "pie"
           }
          ],
          "scatter": [
           {
            "fillpattern": {
             "fillmode": "overlay",
             "size": 10,
             "solidity": 0.2
            },
            "type": "scatter"
           }
          ],
          "scatter3d": [
           {
            "line": {
             "colorbar": {
              "outlinewidth": 0,
              "ticks": ""
             }
            },
            "marker": {
             "colorbar": {
              "outlinewidth": 0,
              "ticks": ""
             }
            },
            "type": "scatter3d"
           }
          ],
          "scattercarpet": [
           {
            "marker": {
             "colorbar": {
              "outlinewidth": 0,
              "ticks": ""
             }
            },
            "type": "scattercarpet"
           }
          ],
          "scattergeo": [
           {
            "marker": {
             "colorbar": {
              "outlinewidth": 0,
              "ticks": ""
             }
            },
            "type": "scattergeo"
           }
          ],
          "scattergl": [
           {
            "marker": {
             "colorbar": {
              "outlinewidth": 0,
              "ticks": ""
             }
            },
            "type": "scattergl"
           }
          ],
          "scattermapbox": [
           {
            "marker": {
             "colorbar": {
              "outlinewidth": 0,
              "ticks": ""
             }
            },
            "type": "scattermapbox"
           }
          ],
          "scatterpolar": [
           {
            "marker": {
             "colorbar": {
              "outlinewidth": 0,
              "ticks": ""
             }
            },
            "type": "scatterpolar"
           }
          ],
          "scatterpolargl": [
           {
            "marker": {
             "colorbar": {
              "outlinewidth": 0,
              "ticks": ""
             }
            },
            "type": "scatterpolargl"
           }
          ],
          "scatterternary": [
           {
            "marker": {
             "colorbar": {
              "outlinewidth": 0,
              "ticks": ""
             }
            },
            "type": "scatterternary"
           }
          ],
          "surface": [
           {
            "colorbar": {
             "outlinewidth": 0,
             "ticks": ""
            },
            "colorscale": [
             [
              0,
              "#0d0887"
             ],
             [
              0.1111111111111111,
              "#46039f"
             ],
             [
              0.2222222222222222,
              "#7201a8"
             ],
             [
              0.3333333333333333,
              "#9c179e"
             ],
             [
              0.4444444444444444,
              "#bd3786"
             ],
             [
              0.5555555555555556,
              "#d8576b"
             ],
             [
              0.6666666666666666,
              "#ed7953"
             ],
             [
              0.7777777777777778,
              "#fb9f3a"
             ],
             [
              0.8888888888888888,
              "#fdca26"
             ],
             [
              1,
              "#f0f921"
             ]
            ],
            "type": "surface"
           }
          ],
          "table": [
           {
            "cells": {
             "fill": {
              "color": "#EBF0F8"
             },
             "line": {
              "color": "white"
             }
            },
            "header": {
             "fill": {
              "color": "#C8D4E3"
             },
             "line": {
              "color": "white"
             }
            },
            "type": "table"
           }
          ]
         },
         "layout": {
          "annotationdefaults": {
           "arrowcolor": "#2a3f5f",
           "arrowhead": 0,
           "arrowwidth": 1
          },
          "autotypenumbers": "strict",
          "coloraxis": {
           "colorbar": {
            "outlinewidth": 0,
            "ticks": ""
           }
          },
          "colorscale": {
           "diverging": [
            [
             0,
             "#8e0152"
            ],
            [
             0.1,
             "#c51b7d"
            ],
            [
             0.2,
             "#de77ae"
            ],
            [
             0.3,
             "#f1b6da"
            ],
            [
             0.4,
             "#fde0ef"
            ],
            [
             0.5,
             "#f7f7f7"
            ],
            [
             0.6,
             "#e6f5d0"
            ],
            [
             0.7,
             "#b8e186"
            ],
            [
             0.8,
             "#7fbc41"
            ],
            [
             0.9,
             "#4d9221"
            ],
            [
             1,
             "#276419"
            ]
           ],
           "sequential": [
            [
             0,
             "#0d0887"
            ],
            [
             0.1111111111111111,
             "#46039f"
            ],
            [
             0.2222222222222222,
             "#7201a8"
            ],
            [
             0.3333333333333333,
             "#9c179e"
            ],
            [
             0.4444444444444444,
             "#bd3786"
            ],
            [
             0.5555555555555556,
             "#d8576b"
            ],
            [
             0.6666666666666666,
             "#ed7953"
            ],
            [
             0.7777777777777778,
             "#fb9f3a"
            ],
            [
             0.8888888888888888,
             "#fdca26"
            ],
            [
             1,
             "#f0f921"
            ]
           ],
           "sequentialminus": [
            [
             0,
             "#0d0887"
            ],
            [
             0.1111111111111111,
             "#46039f"
            ],
            [
             0.2222222222222222,
             "#7201a8"
            ],
            [
             0.3333333333333333,
             "#9c179e"
            ],
            [
             0.4444444444444444,
             "#bd3786"
            ],
            [
             0.5555555555555556,
             "#d8576b"
            ],
            [
             0.6666666666666666,
             "#ed7953"
            ],
            [
             0.7777777777777778,
             "#fb9f3a"
            ],
            [
             0.8888888888888888,
             "#fdca26"
            ],
            [
             1,
             "#f0f921"
            ]
           ]
          },
          "colorway": [
           "#636efa",
           "#EF553B",
           "#00cc96",
           "#ab63fa",
           "#FFA15A",
           "#19d3f3",
           "#FF6692",
           "#B6E880",
           "#FF97FF",
           "#FECB52"
          ],
          "font": {
           "color": "#2a3f5f"
          },
          "geo": {
           "bgcolor": "white",
           "lakecolor": "white",
           "landcolor": "#E5ECF6",
           "showlakes": true,
           "showland": true,
           "subunitcolor": "white"
          },
          "hoverlabel": {
           "align": "left"
          },
          "hovermode": "closest",
          "mapbox": {
           "style": "light"
          },
          "paper_bgcolor": "white",
          "plot_bgcolor": "#E5ECF6",
          "polar": {
           "angularaxis": {
            "gridcolor": "white",
            "linecolor": "white",
            "ticks": ""
           },
           "bgcolor": "#E5ECF6",
           "radialaxis": {
            "gridcolor": "white",
            "linecolor": "white",
            "ticks": ""
           }
          },
          "scene": {
           "xaxis": {
            "backgroundcolor": "#E5ECF6",
            "gridcolor": "white",
            "gridwidth": 2,
            "linecolor": "white",
            "showbackground": true,
            "ticks": "",
            "zerolinecolor": "white"
           },
           "yaxis": {
            "backgroundcolor": "#E5ECF6",
            "gridcolor": "white",
            "gridwidth": 2,
            "linecolor": "white",
            "showbackground": true,
            "ticks": "",
            "zerolinecolor": "white"
           },
           "zaxis": {
            "backgroundcolor": "#E5ECF6",
            "gridcolor": "white",
            "gridwidth": 2,
            "linecolor": "white",
            "showbackground": true,
            "ticks": "",
            "zerolinecolor": "white"
           }
          },
          "shapedefaults": {
           "line": {
            "color": "#2a3f5f"
           }
          },
          "ternary": {
           "aaxis": {
            "gridcolor": "white",
            "linecolor": "white",
            "ticks": ""
           },
           "baxis": {
            "gridcolor": "white",
            "linecolor": "white",
            "ticks": ""
           },
           "bgcolor": "#E5ECF6",
           "caxis": {
            "gridcolor": "white",
            "linecolor": "white",
            "ticks": ""
           }
          },
          "title": {
           "x": 0.05
          },
          "xaxis": {
           "automargin": true,
           "gridcolor": "white",
           "linecolor": "white",
           "ticks": "",
           "title": {
            "standoff": 15
           },
           "zerolinecolor": "white",
           "zerolinewidth": 2
          },
          "yaxis": {
           "automargin": true,
           "gridcolor": "white",
           "linecolor": "white",
           "ticks": "",
           "title": {
            "standoff": 15
           },
           "zerolinecolor": "white",
           "zerolinewidth": 2
          }
         }
        },
        "title": {
         "text": "log_loss"
        },
        "yaxis": {
         "title": {
          "text": "log_loss"
         }
        }
       }
      }
     },
     "metadata": {},
     "output_type": "display_data"
    }
   ],
   "source": [
    "make_plots('accuracy')\n",
    "make_plots('auc')\n",
    "make_plots('log_loss')"
   ]
  },
  {
   "cell_type": "code",
   "execution_count": 6,
   "metadata": {},
   "outputs": [
    {
     "data": {
      "application/vnd.plotly.v1+json": {
       "config": {
        "plotlyServerURL": "https://plot.ly"
       },
       "data": [
        {
         "name": "Full",
         "type": "box",
         "x": [
          "LogisticRegression",
          "LogisticRegression",
          "LogisticRegression",
          "LogisticRegression",
          "LogisticRegression",
          "LogisticRegression",
          "LogisticRegression",
          "LogisticRegression",
          "LogisticRegression",
          "LogisticRegression",
          "LogisticRegression",
          "LogisticRegression",
          "LogisticRegression",
          "LogisticRegression",
          "LogisticRegression",
          "LogisticRegression",
          "LogisticRegression",
          "LogisticRegression",
          "LogisticRegression",
          "LogisticRegression",
          "SVC",
          "SVC",
          "SVC",
          "SVC",
          "SVC",
          "SVC",
          "SVC",
          "SVC",
          "SVC",
          "SVC",
          "SVC",
          "SVC",
          "SVC",
          "SVC",
          "SVC",
          "SVC",
          "SVC",
          "SVC",
          "SVC",
          "SVC",
          "RandomForestClassifier",
          "RandomForestClassifier",
          "RandomForestClassifier",
          "RandomForestClassifier",
          "RandomForestClassifier",
          "RandomForestClassifier",
          "RandomForestClassifier",
          "RandomForestClassifier",
          "RandomForestClassifier",
          "RandomForestClassifier",
          "RandomForestClassifier",
          "RandomForestClassifier",
          "RandomForestClassifier",
          "RandomForestClassifier",
          "RandomForestClassifier",
          "RandomForestClassifier",
          "RandomForestClassifier",
          "RandomForestClassifier",
          "RandomForestClassifier",
          "RandomForestClassifier",
          "GradientBoostingClassifier",
          "GradientBoostingClassifier",
          "GradientBoostingClassifier",
          "GradientBoostingClassifier",
          "GradientBoostingClassifier",
          "GradientBoostingClassifier",
          "GradientBoostingClassifier",
          "GradientBoostingClassifier",
          "GradientBoostingClassifier",
          "GradientBoostingClassifier",
          "GradientBoostingClassifier",
          "GradientBoostingClassifier",
          "GradientBoostingClassifier",
          "GradientBoostingClassifier",
          "GradientBoostingClassifier",
          "GradientBoostingClassifier",
          "GradientBoostingClassifier",
          "GradientBoostingClassifier",
          "GradientBoostingClassifier",
          "GradientBoostingClassifier",
          "DeepNeuralNetwork",
          "DeepNeuralNetwork",
          "DeepNeuralNetwork",
          "DeepNeuralNetwork",
          "DeepNeuralNetwork",
          "DeepNeuralNetwork",
          "DeepNeuralNetwork",
          "DeepNeuralNetwork",
          "DeepNeuralNetwork",
          "DeepNeuralNetwork",
          "DeepNeuralNetwork",
          "DeepNeuralNetwork",
          "DeepNeuralNetwork",
          "DeepNeuralNetwork",
          "DeepNeuralNetwork",
          "DeepNeuralNetwork",
          "DeepNeuralNetwork",
          "DeepNeuralNetwork",
          "DeepNeuralNetwork",
          "DeepNeuralNetwork"
         ],
         "y": [
          0.0311050415039062,
          0.0271265506744384,
          0.0408060550689697,
          0.0291559696197509,
          0.0273149013519287,
          0.0330824851989746,
          0.0352625846862793,
          0.0203773975372314,
          0.0301649570465087,
          0.0499176979064941,
          0.0240082740783691,
          0.0242557525634765,
          0.0321969985961914,
          0.0410289764404296,
          0.0301043987274169,
          0.034536600112915,
          0.0413103103637695,
          0.0277485847473144,
          0.0331547260284423,
          0.0392050743103027,
          0.0231385231018066,
          0.0269279479980468,
          0.0241186618804931,
          0.0387458801269531,
          0.02840256690979,
          0.0246462821960449,
          0.0292267799377441,
          0.0245139598846435,
          0.0235311985015869,
          0.0290479660034179,
          0.0425357818603515,
          0.0588023662567138,
          0.0233170986175537,
          0.0328261852264404,
          0.0360989570617675,
          0.0517191886901855,
          0.0271046161651611,
          0.0280025005340576,
          0.0378227233886718,
          0.0340642929077148,
          0.0347809791564941,
          0.0290000438690185,
          0.0288605690002441,
          0.0190989971160888,
          0.0358045101165771,
          0.0243060588836669,
          0.0366580486297607,
          0.0289716720581054,
          0.0321817398071289,
          0.0275232791900634,
          0.0402464866638183,
          0.0524535179138183,
          0.0250954627990722,
          0.02968430519104,
          0.0357494354248046,
          0.0342605113983154,
          0.0439133644104003,
          0.022249698638916,
          0.0511491298675537,
          0.0264909267425537,
          0.0455083847045898,
          0.0330278873443603,
          0.0663530826568603,
          0.0499258041381835,
          0.0439867973327636,
          0.0242426395416259,
          0.0520389080047607,
          0.0887849330902099,
          0.0224473476409912,
          0.0433688163757324,
          0.0704944133758544,
          0.0221915245056152,
          0.0212147235870361,
          0.0211627483367919,
          0.0270471572875976,
          0.043532371520996,
          0.0362343788146972,
          0.0593822002410888,
          0.0431725978851318,
          0.068533182144165,
          0.0666108131408691,
          0.0580012798309326,
          0.045466661453247,
          0.0231215953826904,
          0.0410387516021728,
          0.0191621780395507,
          0.02712082862854,
          0.0274279117584228,
          0.0161681175231933,
          0.0508229732513427,
          0.0191595554351806,
          0.0460941791534423,
          0.0321488380432128,
          0.0448224544525146,
          0.0558509826660156,
          0.035118818283081,
          0.0230977535247802,
          0.0195269584655761,
          0.0200319290161132,
          0.036527395248413
         ]
        },
        {
         "name": "FR",
         "type": "box",
         "x": [
          "LogisticRegression",
          "LogisticRegression",
          "LogisticRegression",
          "LogisticRegression",
          "LogisticRegression",
          "LogisticRegression",
          "LogisticRegression",
          "LogisticRegression",
          "LogisticRegression",
          "LogisticRegression",
          "LogisticRegression",
          "LogisticRegression",
          "LogisticRegression",
          "LogisticRegression",
          "LogisticRegression",
          "LogisticRegression",
          "LogisticRegression",
          "LogisticRegression",
          "LogisticRegression",
          "LogisticRegression",
          "SVC",
          "SVC",
          "SVC",
          "SVC",
          "SVC",
          "SVC",
          "SVC",
          "SVC",
          "SVC",
          "SVC",
          "SVC",
          "SVC",
          "SVC",
          "SVC",
          "SVC",
          "SVC",
          "SVC",
          "SVC",
          "SVC",
          "SVC",
          "RandomForestClassifier",
          "RandomForestClassifier",
          "RandomForestClassifier",
          "RandomForestClassifier",
          "RandomForestClassifier",
          "RandomForestClassifier",
          "RandomForestClassifier",
          "RandomForestClassifier",
          "RandomForestClassifier",
          "RandomForestClassifier",
          "RandomForestClassifier",
          "RandomForestClassifier",
          "RandomForestClassifier",
          "RandomForestClassifier",
          "RandomForestClassifier",
          "RandomForestClassifier",
          "RandomForestClassifier",
          "RandomForestClassifier",
          "RandomForestClassifier",
          "RandomForestClassifier",
          "GradientBoostingClassifier",
          "GradientBoostingClassifier",
          "GradientBoostingClassifier",
          "GradientBoostingClassifier",
          "GradientBoostingClassifier",
          "GradientBoostingClassifier",
          "GradientBoostingClassifier",
          "GradientBoostingClassifier",
          "GradientBoostingClassifier",
          "GradientBoostingClassifier",
          "GradientBoostingClassifier",
          "GradientBoostingClassifier",
          "GradientBoostingClassifier",
          "GradientBoostingClassifier",
          "GradientBoostingClassifier",
          "GradientBoostingClassifier",
          "GradientBoostingClassifier",
          "GradientBoostingClassifier",
          "GradientBoostingClassifier",
          "GradientBoostingClassifier",
          "DeepNeuralNetwork",
          "DeepNeuralNetwork",
          "DeepNeuralNetwork",
          "DeepNeuralNetwork",
          "DeepNeuralNetwork",
          "DeepNeuralNetwork",
          "DeepNeuralNetwork",
          "DeepNeuralNetwork",
          "DeepNeuralNetwork",
          "DeepNeuralNetwork",
          "DeepNeuralNetwork",
          "DeepNeuralNetwork",
          "DeepNeuralNetwork",
          "DeepNeuralNetwork",
          "DeepNeuralNetwork",
          "DeepNeuralNetwork",
          "DeepNeuralNetwork",
          "DeepNeuralNetwork",
          "DeepNeuralNetwork",
          "DeepNeuralNetwork"
         ],
         "y": [
          0.0494847297668457,
          0.0281517505645751,
          0.0327816009521484,
          0.0210475921630859,
          0.0511958599090576,
          0.026707649230957,
          0.0221924781799316,
          0.0231721401214599,
          0.0247859954833984,
          0.0438857078552246,
          0.0453355312347412,
          0.0310852527618408,
          0.0352668762207031,
          0.0425128936767578,
          0.03934907913208,
          0.0386428833007812,
          0.0584299564361572,
          0.0261337757110595,
          0.0415141582489013,
          0.0356695652008056,
          0.0371372699737548,
          0.0360982418060302,
          0.0377485752105712,
          0.0573182106018066,
          0.0393266677856445,
          0.0260772705078125,
          0.0319981575012207,
          0.0292580127716064,
          0.0271522998809814,
          0.0378167629241943,
          0.0384788513183593,
          0.0470001697540283,
          0.0288634300231933,
          0.0262477397918701,
          0.0517239570617675,
          0.0492382049560546,
          0.0221900939941406,
          0.0223019123077392,
          0.0454745292663574,
          0.0589218139648437,
          0.0412657260894775,
          0.0260963439941406,
          0.0516121387481689,
          0.0357489585876464,
          0.0392482280731201,
          0.0332729816436767,
          0.0321345329284668,
          0.0332236289978027,
          0.0429034233093261,
          0.0195343494415283,
          0.0338273048400878,
          0.0535099506378173,
          0.0257081985473632,
          0.0204055309295654,
          0.0322866439819335,
          0.0582246780395507,
          0.060840368270874,
          0.025202989578247,
          0.0262038707733154,
          0.0295264720916748,
          0.0383296012878418,
          0.054429292678833,
          0.026585578918457,
          0.0695114135742187,
          0.0262277126312255,
          0.0390450954437255,
          0.0235679149627685,
          0.0451815128326416,
          0.0555415153503418,
          0.0610659122467041,
          0.0265002250671386,
          0.0522680282592773,
          0.023299217224121,
          0.0408539772033691,
          0.0509352684020996,
          0.0210654735565185,
          0.0283522605895996,
          0.0289638042449951,
          0.0232009887695312,
          0.0281848907470703,
          0.0378692150115966,
          0.0210824012756347,
          0.0261487960815429,
          0.0294263362884521,
          0.0455608367919921,
          0.0205256938934326,
          0.0242278575897216,
          0.0282669067382812,
          0.0249896049499511,
          0.0191156864166259,
          0.0321028232574462,
          0.0293059349060058,
          0.0255625247955322,
          0.056037425994873,
          0.0261833667755126,
          0.0259578227996826,
          0.0493261814117431,
          0.0241584777832031,
          0.0207448005676269,
          0.044154405593872
         ]
        },
        {
         "name": "SS",
         "type": "box",
         "x": [
          "LogisticRegression",
          "LogisticRegression",
          "LogisticRegression",
          "LogisticRegression",
          "LogisticRegression",
          "LogisticRegression",
          "LogisticRegression",
          "LogisticRegression",
          "LogisticRegression",
          "LogisticRegression",
          "LogisticRegression",
          "LogisticRegression",
          "LogisticRegression",
          "LogisticRegression",
          "LogisticRegression",
          "LogisticRegression",
          "LogisticRegression",
          "LogisticRegression",
          "LogisticRegression",
          "LogisticRegression",
          "SVC",
          "SVC",
          "SVC",
          "SVC",
          "SVC",
          "SVC",
          "SVC",
          "SVC",
          "SVC",
          "SVC",
          "SVC",
          "SVC",
          "SVC",
          "SVC",
          "SVC",
          "SVC",
          "SVC",
          "SVC",
          "SVC",
          "SVC",
          "RandomForestClassifier",
          "RandomForestClassifier",
          "RandomForestClassifier",
          "RandomForestClassifier",
          "RandomForestClassifier",
          "RandomForestClassifier",
          "RandomForestClassifier",
          "RandomForestClassifier",
          "RandomForestClassifier",
          "RandomForestClassifier",
          "RandomForestClassifier",
          "RandomForestClassifier",
          "RandomForestClassifier",
          "RandomForestClassifier",
          "RandomForestClassifier",
          "RandomForestClassifier",
          "RandomForestClassifier",
          "RandomForestClassifier",
          "RandomForestClassifier",
          "RandomForestClassifier",
          "GradientBoostingClassifier",
          "GradientBoostingClassifier",
          "GradientBoostingClassifier",
          "GradientBoostingClassifier",
          "GradientBoostingClassifier",
          "GradientBoostingClassifier",
          "GradientBoostingClassifier",
          "GradientBoostingClassifier",
          "GradientBoostingClassifier",
          "GradientBoostingClassifier",
          "GradientBoostingClassifier",
          "GradientBoostingClassifier",
          "GradientBoostingClassifier",
          "GradientBoostingClassifier",
          "GradientBoostingClassifier",
          "GradientBoostingClassifier",
          "GradientBoostingClassifier",
          "GradientBoostingClassifier",
          "GradientBoostingClassifier",
          "GradientBoostingClassifier",
          "DeepNeuralNetwork",
          "DeepNeuralNetwork",
          "DeepNeuralNetwork",
          "DeepNeuralNetwork",
          "DeepNeuralNetwork",
          "DeepNeuralNetwork",
          "DeepNeuralNetwork",
          "DeepNeuralNetwork",
          "DeepNeuralNetwork",
          "DeepNeuralNetwork",
          "DeepNeuralNetwork",
          "DeepNeuralNetwork",
          "DeepNeuralNetwork",
          "DeepNeuralNetwork",
          "DeepNeuralNetwork",
          "DeepNeuralNetwork",
          "DeepNeuralNetwork",
          "DeepNeuralNetwork",
          "DeepNeuralNetwork",
          "DeepNeuralNetwork"
         ],
         "y": [
          0.0201523303985595,
          0.0351066589355468,
          0.0207414627075195,
          0.021996259689331,
          0.0341162681579589,
          0.0347676277160644,
          0.0456001758575439,
          0.0353636741638183,
          0.0363211631774902,
          0.0346136093139648,
          0.0341758728027343,
          0.0432727336883544,
          0.0364129543304443,
          0.0351748466491699,
          0.0275449752807617,
          0.0361700057983398,
          0.0313079357147216,
          0.0276331901550292,
          0.0270633697509765,
          0.0321748256683349,
          0.0506691932678222,
          0.0472998619079589,
          0.0404829978942871,
          0.0526959896087646,
          0.0553746223449707,
          0.0308015346527099,
          0.0353040695190429,
          0.0323488712310791,
          0.0517377853393554,
          0.024080753326416,
          0.039708137512207,
          0.0292084217071533,
          0.0281558036804199,
          0.0250906944274902,
          0.0617311000823974,
          0.0221254825592041,
          0.0271458625793457,
          0.0296144485473632,
          0.0401439666748046,
          0.0407383441925048,
          0.0241985321044921,
          0.0301401615142822,
          0.0326056480407714,
          0.02122163772583,
          0.0255930423736572,
          0.0347294807434082,
          0.0326340198516845,
          0.0302474498748779,
          0.0392930507659912,
          0.0279076099395751,
          0.025137186050415,
          0.0266618728637695,
          0.0342469215393066,
          0.0291986465454101,
          0.0317323207855224,
          0.0291414260864257,
          0.0286486148834228,
          0.0311760902404785,
          0.0327422618865966,
          0.0231490135192871,
          0.0312154293060302,
          0.0250689983367919,
          0.026235818862915,
          0.0464050769805908,
          0.0422635078430175,
          0.0728261470794677,
          0.0212564468383789,
          0.0303835868835449,
          0.0260188579559326,
          0.0353353023529052,
          0.0396206378936767,
          0.0462040901184082,
          0.0181398391723632,
          0.0239827632904052,
          0.0250220298767089,
          0.020125389099121,
          0.0211308002471923,
          0.0658290386199951,
          0.0266635417938232,
          0.0510241985321044,
          0.0433719158172607,
          0.0268557071685791,
          0.0482003688812255,
          0.0397007465362548,
          0.0228493213653564,
          0.048152208328247,
          0.0171115398406982,
          0.0225532054901123,
          0.0504624843597412,
          0.0229725837707519,
          0.0271589756011962,
          0.0467786788940429,
          0.0302991867065429,
          0.0180943012237548,
          0.0164225101470947,
          0.0484225749969482,
          0.0372557640075683,
          0.0214881896972656,
          0.0160884857177734,
          0.0240201950073242
         ]
        },
        {
         "name": "SS & FR",
         "type": "box",
         "x": [
          "LogisticRegression",
          "LogisticRegression",
          "LogisticRegression",
          "LogisticRegression",
          "LogisticRegression",
          "LogisticRegression",
          "LogisticRegression",
          "LogisticRegression",
          "LogisticRegression",
          "LogisticRegression",
          "LogisticRegression",
          "LogisticRegression",
          "LogisticRegression",
          "LogisticRegression",
          "LogisticRegression",
          "LogisticRegression",
          "LogisticRegression",
          "LogisticRegression",
          "LogisticRegression",
          "LogisticRegression",
          "SVC",
          "SVC",
          "SVC",
          "SVC",
          "SVC",
          "SVC",
          "SVC",
          "SVC",
          "SVC",
          "SVC",
          "SVC",
          "SVC",
          "SVC",
          "SVC",
          "SVC",
          "SVC",
          "SVC",
          "SVC",
          "SVC",
          "SVC",
          "RandomForestClassifier",
          "RandomForestClassifier",
          "RandomForestClassifier",
          "RandomForestClassifier",
          "RandomForestClassifier",
          "RandomForestClassifier",
          "RandomForestClassifier",
          "RandomForestClassifier",
          "RandomForestClassifier",
          "RandomForestClassifier",
          "RandomForestClassifier",
          "RandomForestClassifier",
          "RandomForestClassifier",
          "RandomForestClassifier",
          "RandomForestClassifier",
          "RandomForestClassifier",
          "RandomForestClassifier",
          "RandomForestClassifier",
          "RandomForestClassifier",
          "RandomForestClassifier",
          "GradientBoostingClassifier",
          "GradientBoostingClassifier",
          "GradientBoostingClassifier",
          "GradientBoostingClassifier",
          "GradientBoostingClassifier",
          "GradientBoostingClassifier",
          "GradientBoostingClassifier",
          "GradientBoostingClassifier",
          "GradientBoostingClassifier",
          "GradientBoostingClassifier",
          "GradientBoostingClassifier",
          "GradientBoostingClassifier",
          "GradientBoostingClassifier",
          "GradientBoostingClassifier",
          "GradientBoostingClassifier",
          "GradientBoostingClassifier",
          "GradientBoostingClassifier",
          "GradientBoostingClassifier",
          "GradientBoostingClassifier",
          "GradientBoostingClassifier",
          "DeepNeuralNetwork",
          "DeepNeuralNetwork",
          "DeepNeuralNetwork",
          "DeepNeuralNetwork",
          "DeepNeuralNetwork",
          "DeepNeuralNetwork",
          "DeepNeuralNetwork",
          "DeepNeuralNetwork",
          "DeepNeuralNetwork",
          "DeepNeuralNetwork",
          "DeepNeuralNetwork",
          "DeepNeuralNetwork",
          "DeepNeuralNetwork",
          "DeepNeuralNetwork",
          "DeepNeuralNetwork",
          "DeepNeuralNetwork",
          "DeepNeuralNetwork",
          "DeepNeuralNetwork",
          "DeepNeuralNetwork",
          "DeepNeuralNetwork"
         ],
         "y": [
          0.0451326370239257,
          0.0310840606689453,
          0.0467185974121093,
          0.0376288890838623,
          0.0302140712738037,
          0.0322496891021728,
          0.0423762798309326,
          0.0296919345855712,
          0.0336935520172119,
          0.0303363800048828,
          0.0371417999267578,
          0.0298027992248535,
          0.0221993923187255,
          0.0360982418060302,
          0.0371592044830322,
          0.0220959186553955,
          0.0434217453002929,
          0.0271441936492919,
          0.0415906906127929,
          0.0347380638122558,
          0.0312151908874511,
          0.0326368808746337,
          0.0271039009094238,
          0.0250079631805419,
          0.039224624633789,
          0.0357720851898193,
          0.0272243022918701,
          0.0263247489929199,
          0.0291755199432373,
          0.0302114486694335,
          0.0322825908660888,
          0.0293457508087158,
          0.0306057929992675,
          0.0291321277618408,
          0.0327916145324707,
          0.0280168056488037,
          0.0255529880523681,
          0.0239968299865722,
          0.0507340431213378,
          0.0382328033447265,
          0.0473387241363525,
          0.0388715267181396,
          0.0308687686920166,
          0.0241611003875732,
          0.0229873657226562,
          0.0223157405853271,
          0.0372672080993652,
          0.0287740230560302,
          0.0190889835357666,
          0.0434293746948242,
          0.0337615013122558,
          0.0281274318695068,
          0.0282306671142578,
          0.0243055820465087,
          0.0330972671508789,
          0.0272018909454345,
          0.0202445983886718,
          0.0386052131652832,
          0.0213093757629394,
          0.0206499099731445,
          0.0521125793457031,
          0.0523760318756103,
          0.0201632976531982,
          0.0307726860046386,
          0.0428223609924316,
          0.0231552124023437,
          0.0424396991729736,
          0.0191717147827148,
          0.0281741619110107,
          0.037844181060791,
          0.0241167545318603,
          0.050187349319458,
          0.0301384925842285,
          0.0478439331054687,
          0.0681843757629394,
          0.0570707321166992,
          0.0191483497619628,
          0.0505237579345703,
          0.0403988361358642,
          0.0443062782287597,
          0.0484359264373779,
          0.0568907260894775,
          0.0495045185089111,
          0.0224380493164062,
          0.0361561775207519,
          0.0463237762451171,
          0.0232257843017578,
          0.0200977325439453,
          0.0291709899902343,
          0.0216140747070312,
          0.0514235496520996,
          0.0312845706939697,
          0.0241329669952392,
          0.0149807929992675,
          0.0617825984954834,
          0.0249814987182617,
          0.0474650859832763,
          0.0297398567199707,
          0.0211367607116699,
          0.0318074226379394
         ]
        }
       ],
       "layout": {
        "boxmode": "group",
        "template": {
         "data": {
          "bar": [
           {
            "error_x": {
             "color": "#2a3f5f"
            },
            "error_y": {
             "color": "#2a3f5f"
            },
            "marker": {
             "line": {
              "color": "#E5ECF6",
              "width": 0.5
             },
             "pattern": {
              "fillmode": "overlay",
              "size": 10,
              "solidity": 0.2
             }
            },
            "type": "bar"
           }
          ],
          "barpolar": [
           {
            "marker": {
             "line": {
              "color": "#E5ECF6",
              "width": 0.5
             },
             "pattern": {
              "fillmode": "overlay",
              "size": 10,
              "solidity": 0.2
             }
            },
            "type": "barpolar"
           }
          ],
          "carpet": [
           {
            "aaxis": {
             "endlinecolor": "#2a3f5f",
             "gridcolor": "white",
             "linecolor": "white",
             "minorgridcolor": "white",
             "startlinecolor": "#2a3f5f"
            },
            "baxis": {
             "endlinecolor": "#2a3f5f",
             "gridcolor": "white",
             "linecolor": "white",
             "minorgridcolor": "white",
             "startlinecolor": "#2a3f5f"
            },
            "type": "carpet"
           }
          ],
          "choropleth": [
           {
            "colorbar": {
             "outlinewidth": 0,
             "ticks": ""
            },
            "type": "choropleth"
           }
          ],
          "contour": [
           {
            "colorbar": {
             "outlinewidth": 0,
             "ticks": ""
            },
            "colorscale": [
             [
              0,
              "#0d0887"
             ],
             [
              0.1111111111111111,
              "#46039f"
             ],
             [
              0.2222222222222222,
              "#7201a8"
             ],
             [
              0.3333333333333333,
              "#9c179e"
             ],
             [
              0.4444444444444444,
              "#bd3786"
             ],
             [
              0.5555555555555556,
              "#d8576b"
             ],
             [
              0.6666666666666666,
              "#ed7953"
             ],
             [
              0.7777777777777778,
              "#fb9f3a"
             ],
             [
              0.8888888888888888,
              "#fdca26"
             ],
             [
              1,
              "#f0f921"
             ]
            ],
            "type": "contour"
           }
          ],
          "contourcarpet": [
           {
            "colorbar": {
             "outlinewidth": 0,
             "ticks": ""
            },
            "type": "contourcarpet"
           }
          ],
          "heatmap": [
           {
            "colorbar": {
             "outlinewidth": 0,
             "ticks": ""
            },
            "colorscale": [
             [
              0,
              "#0d0887"
             ],
             [
              0.1111111111111111,
              "#46039f"
             ],
             [
              0.2222222222222222,
              "#7201a8"
             ],
             [
              0.3333333333333333,
              "#9c179e"
             ],
             [
              0.4444444444444444,
              "#bd3786"
             ],
             [
              0.5555555555555556,
              "#d8576b"
             ],
             [
              0.6666666666666666,
              "#ed7953"
             ],
             [
              0.7777777777777778,
              "#fb9f3a"
             ],
             [
              0.8888888888888888,
              "#fdca26"
             ],
             [
              1,
              "#f0f921"
             ]
            ],
            "type": "heatmap"
           }
          ],
          "heatmapgl": [
           {
            "colorbar": {
             "outlinewidth": 0,
             "ticks": ""
            },
            "colorscale": [
             [
              0,
              "#0d0887"
             ],
             [
              0.1111111111111111,
              "#46039f"
             ],
             [
              0.2222222222222222,
              "#7201a8"
             ],
             [
              0.3333333333333333,
              "#9c179e"
             ],
             [
              0.4444444444444444,
              "#bd3786"
             ],
             [
              0.5555555555555556,
              "#d8576b"
             ],
             [
              0.6666666666666666,
              "#ed7953"
             ],
             [
              0.7777777777777778,
              "#fb9f3a"
             ],
             [
              0.8888888888888888,
              "#fdca26"
             ],
             [
              1,
              "#f0f921"
             ]
            ],
            "type": "heatmapgl"
           }
          ],
          "histogram": [
           {
            "marker": {
             "pattern": {
              "fillmode": "overlay",
              "size": 10,
              "solidity": 0.2
             }
            },
            "type": "histogram"
           }
          ],
          "histogram2d": [
           {
            "colorbar": {
             "outlinewidth": 0,
             "ticks": ""
            },
            "colorscale": [
             [
              0,
              "#0d0887"
             ],
             [
              0.1111111111111111,
              "#46039f"
             ],
             [
              0.2222222222222222,
              "#7201a8"
             ],
             [
              0.3333333333333333,
              "#9c179e"
             ],
             [
              0.4444444444444444,
              "#bd3786"
             ],
             [
              0.5555555555555556,
              "#d8576b"
             ],
             [
              0.6666666666666666,
              "#ed7953"
             ],
             [
              0.7777777777777778,
              "#fb9f3a"
             ],
             [
              0.8888888888888888,
              "#fdca26"
             ],
             [
              1,
              "#f0f921"
             ]
            ],
            "type": "histogram2d"
           }
          ],
          "histogram2dcontour": [
           {
            "colorbar": {
             "outlinewidth": 0,
             "ticks": ""
            },
            "colorscale": [
             [
              0,
              "#0d0887"
             ],
             [
              0.1111111111111111,
              "#46039f"
             ],
             [
              0.2222222222222222,
              "#7201a8"
             ],
             [
              0.3333333333333333,
              "#9c179e"
             ],
             [
              0.4444444444444444,
              "#bd3786"
             ],
             [
              0.5555555555555556,
              "#d8576b"
             ],
             [
              0.6666666666666666,
              "#ed7953"
             ],
             [
              0.7777777777777778,
              "#fb9f3a"
             ],
             [
              0.8888888888888888,
              "#fdca26"
             ],
             [
              1,
              "#f0f921"
             ]
            ],
            "type": "histogram2dcontour"
           }
          ],
          "mesh3d": [
           {
            "colorbar": {
             "outlinewidth": 0,
             "ticks": ""
            },
            "type": "mesh3d"
           }
          ],
          "parcoords": [
           {
            "line": {
             "colorbar": {
              "outlinewidth": 0,
              "ticks": ""
             }
            },
            "type": "parcoords"
           }
          ],
          "pie": [
           {
            "automargin": true,
            "type": "pie"
           }
          ],
          "scatter": [
           {
            "fillpattern": {
             "fillmode": "overlay",
             "size": 10,
             "solidity": 0.2
            },
            "type": "scatter"
           }
          ],
          "scatter3d": [
           {
            "line": {
             "colorbar": {
              "outlinewidth": 0,
              "ticks": ""
             }
            },
            "marker": {
             "colorbar": {
              "outlinewidth": 0,
              "ticks": ""
             }
            },
            "type": "scatter3d"
           }
          ],
          "scattercarpet": [
           {
            "marker": {
             "colorbar": {
              "outlinewidth": 0,
              "ticks": ""
             }
            },
            "type": "scattercarpet"
           }
          ],
          "scattergeo": [
           {
            "marker": {
             "colorbar": {
              "outlinewidth": 0,
              "ticks": ""
             }
            },
            "type": "scattergeo"
           }
          ],
          "scattergl": [
           {
            "marker": {
             "colorbar": {
              "outlinewidth": 0,
              "ticks": ""
             }
            },
            "type": "scattergl"
           }
          ],
          "scattermapbox": [
           {
            "marker": {
             "colorbar": {
              "outlinewidth": 0,
              "ticks": ""
             }
            },
            "type": "scattermapbox"
           }
          ],
          "scatterpolar": [
           {
            "marker": {
             "colorbar": {
              "outlinewidth": 0,
              "ticks": ""
             }
            },
            "type": "scatterpolar"
           }
          ],
          "scatterpolargl": [
           {
            "marker": {
             "colorbar": {
              "outlinewidth": 0,
              "ticks": ""
             }
            },
            "type": "scatterpolargl"
           }
          ],
          "scatterternary": [
           {
            "marker": {
             "colorbar": {
              "outlinewidth": 0,
              "ticks": ""
             }
            },
            "type": "scatterternary"
           }
          ],
          "surface": [
           {
            "colorbar": {
             "outlinewidth": 0,
             "ticks": ""
            },
            "colorscale": [
             [
              0,
              "#0d0887"
             ],
             [
              0.1111111111111111,
              "#46039f"
             ],
             [
              0.2222222222222222,
              "#7201a8"
             ],
             [
              0.3333333333333333,
              "#9c179e"
             ],
             [
              0.4444444444444444,
              "#bd3786"
             ],
             [
              0.5555555555555556,
              "#d8576b"
             ],
             [
              0.6666666666666666,
              "#ed7953"
             ],
             [
              0.7777777777777778,
              "#fb9f3a"
             ],
             [
              0.8888888888888888,
              "#fdca26"
             ],
             [
              1,
              "#f0f921"
             ]
            ],
            "type": "surface"
           }
          ],
          "table": [
           {
            "cells": {
             "fill": {
              "color": "#EBF0F8"
             },
             "line": {
              "color": "white"
             }
            },
            "header": {
             "fill": {
              "color": "#C8D4E3"
             },
             "line": {
              "color": "white"
             }
            },
            "type": "table"
           }
          ]
         },
         "layout": {
          "annotationdefaults": {
           "arrowcolor": "#2a3f5f",
           "arrowhead": 0,
           "arrowwidth": 1
          },
          "autotypenumbers": "strict",
          "coloraxis": {
           "colorbar": {
            "outlinewidth": 0,
            "ticks": ""
           }
          },
          "colorscale": {
           "diverging": [
            [
             0,
             "#8e0152"
            ],
            [
             0.1,
             "#c51b7d"
            ],
            [
             0.2,
             "#de77ae"
            ],
            [
             0.3,
             "#f1b6da"
            ],
            [
             0.4,
             "#fde0ef"
            ],
            [
             0.5,
             "#f7f7f7"
            ],
            [
             0.6,
             "#e6f5d0"
            ],
            [
             0.7,
             "#b8e186"
            ],
            [
             0.8,
             "#7fbc41"
            ],
            [
             0.9,
             "#4d9221"
            ],
            [
             1,
             "#276419"
            ]
           ],
           "sequential": [
            [
             0,
             "#0d0887"
            ],
            [
             0.1111111111111111,
             "#46039f"
            ],
            [
             0.2222222222222222,
             "#7201a8"
            ],
            [
             0.3333333333333333,
             "#9c179e"
            ],
            [
             0.4444444444444444,
             "#bd3786"
            ],
            [
             0.5555555555555556,
             "#d8576b"
            ],
            [
             0.6666666666666666,
             "#ed7953"
            ],
            [
             0.7777777777777778,
             "#fb9f3a"
            ],
            [
             0.8888888888888888,
             "#fdca26"
            ],
            [
             1,
             "#f0f921"
            ]
           ],
           "sequentialminus": [
            [
             0,
             "#0d0887"
            ],
            [
             0.1111111111111111,
             "#46039f"
            ],
            [
             0.2222222222222222,
             "#7201a8"
            ],
            [
             0.3333333333333333,
             "#9c179e"
            ],
            [
             0.4444444444444444,
             "#bd3786"
            ],
            [
             0.5555555555555556,
             "#d8576b"
            ],
            [
             0.6666666666666666,
             "#ed7953"
            ],
            [
             0.7777777777777778,
             "#fb9f3a"
            ],
            [
             0.8888888888888888,
             "#fdca26"
            ],
            [
             1,
             "#f0f921"
            ]
           ]
          },
          "colorway": [
           "#636efa",
           "#EF553B",
           "#00cc96",
           "#ab63fa",
           "#FFA15A",
           "#19d3f3",
           "#FF6692",
           "#B6E880",
           "#FF97FF",
           "#FECB52"
          ],
          "font": {
           "color": "#2a3f5f"
          },
          "geo": {
           "bgcolor": "white",
           "lakecolor": "white",
           "landcolor": "#E5ECF6",
           "showlakes": true,
           "showland": true,
           "subunitcolor": "white"
          },
          "hoverlabel": {
           "align": "left"
          },
          "hovermode": "closest",
          "mapbox": {
           "style": "light"
          },
          "paper_bgcolor": "white",
          "plot_bgcolor": "#E5ECF6",
          "polar": {
           "angularaxis": {
            "gridcolor": "white",
            "linecolor": "white",
            "ticks": ""
           },
           "bgcolor": "#E5ECF6",
           "radialaxis": {
            "gridcolor": "white",
            "linecolor": "white",
            "ticks": ""
           }
          },
          "scene": {
           "xaxis": {
            "backgroundcolor": "#E5ECF6",
            "gridcolor": "white",
            "gridwidth": 2,
            "linecolor": "white",
            "showbackground": true,
            "ticks": "",
            "zerolinecolor": "white"
           },
           "yaxis": {
            "backgroundcolor": "#E5ECF6",
            "gridcolor": "white",
            "gridwidth": 2,
            "linecolor": "white",
            "showbackground": true,
            "ticks": "",
            "zerolinecolor": "white"
           },
           "zaxis": {
            "backgroundcolor": "#E5ECF6",
            "gridcolor": "white",
            "gridwidth": 2,
            "linecolor": "white",
            "showbackground": true,
            "ticks": "",
            "zerolinecolor": "white"
           }
          },
          "shapedefaults": {
           "line": {
            "color": "#2a3f5f"
           }
          },
          "ternary": {
           "aaxis": {
            "gridcolor": "white",
            "linecolor": "white",
            "ticks": ""
           },
           "baxis": {
            "gridcolor": "white",
            "linecolor": "white",
            "ticks": ""
           },
           "bgcolor": "#E5ECF6",
           "caxis": {
            "gridcolor": "white",
            "linecolor": "white",
            "ticks": ""
           }
          },
          "title": {
           "x": 0.05
          },
          "xaxis": {
           "automargin": true,
           "gridcolor": "white",
           "linecolor": "white",
           "ticks": "",
           "title": {
            "standoff": 15
           },
           "zerolinecolor": "white",
           "zerolinewidth": 2
          },
          "yaxis": {
           "automargin": true,
           "gridcolor": "white",
           "linecolor": "white",
           "ticks": "",
           "title": {
            "standoff": 15
           },
           "zerolinecolor": "white",
           "zerolinewidth": 2
          }
         }
        },
        "title": {
         "text": "preprocess_time"
        },
        "yaxis": {
         "title": {
          "text": "preprocess_time"
         }
        }
       }
      }
     },
     "metadata": {},
     "output_type": "display_data"
    },
    {
     "data": {
      "application/vnd.plotly.v1+json": {
       "config": {
        "plotlyServerURL": "https://plot.ly"
       },
       "data": [
        {
         "name": "Full",
         "type": "box",
         "x": [
          "LogisticRegression",
          "LogisticRegression",
          "LogisticRegression",
          "LogisticRegression",
          "LogisticRegression",
          "LogisticRegression",
          "LogisticRegression",
          "LogisticRegression",
          "LogisticRegression",
          "LogisticRegression",
          "LogisticRegression",
          "LogisticRegression",
          "LogisticRegression",
          "LogisticRegression",
          "LogisticRegression",
          "LogisticRegression",
          "LogisticRegression",
          "LogisticRegression",
          "LogisticRegression",
          "LogisticRegression",
          "SVC",
          "SVC",
          "SVC",
          "SVC",
          "SVC",
          "SVC",
          "SVC",
          "SVC",
          "SVC",
          "SVC",
          "SVC",
          "SVC",
          "SVC",
          "SVC",
          "SVC",
          "SVC",
          "SVC",
          "SVC",
          "SVC",
          "SVC",
          "RandomForestClassifier",
          "RandomForestClassifier",
          "RandomForestClassifier",
          "RandomForestClassifier",
          "RandomForestClassifier",
          "RandomForestClassifier",
          "RandomForestClassifier",
          "RandomForestClassifier",
          "RandomForestClassifier",
          "RandomForestClassifier",
          "RandomForestClassifier",
          "RandomForestClassifier",
          "RandomForestClassifier",
          "RandomForestClassifier",
          "RandomForestClassifier",
          "RandomForestClassifier",
          "RandomForestClassifier",
          "RandomForestClassifier",
          "RandomForestClassifier",
          "RandomForestClassifier",
          "GradientBoostingClassifier",
          "GradientBoostingClassifier",
          "GradientBoostingClassifier",
          "GradientBoostingClassifier",
          "GradientBoostingClassifier",
          "GradientBoostingClassifier",
          "GradientBoostingClassifier",
          "GradientBoostingClassifier",
          "GradientBoostingClassifier",
          "GradientBoostingClassifier",
          "GradientBoostingClassifier",
          "GradientBoostingClassifier",
          "GradientBoostingClassifier",
          "GradientBoostingClassifier",
          "GradientBoostingClassifier",
          "GradientBoostingClassifier",
          "GradientBoostingClassifier",
          "GradientBoostingClassifier",
          "GradientBoostingClassifier",
          "GradientBoostingClassifier",
          "DeepNeuralNetwork",
          "DeepNeuralNetwork",
          "DeepNeuralNetwork",
          "DeepNeuralNetwork",
          "DeepNeuralNetwork",
          "DeepNeuralNetwork",
          "DeepNeuralNetwork",
          "DeepNeuralNetwork",
          "DeepNeuralNetwork",
          "DeepNeuralNetwork",
          "DeepNeuralNetwork",
          "DeepNeuralNetwork",
          "DeepNeuralNetwork",
          "DeepNeuralNetwork",
          "DeepNeuralNetwork",
          "DeepNeuralNetwork",
          "DeepNeuralNetwork",
          "DeepNeuralNetwork",
          "DeepNeuralNetwork",
          "DeepNeuralNetwork"
         ],
         "y": [
          0.0150003433227539,
          0.0109992027282714,
          0.0109989643096923,
          0.0094766616821289,
          0.0099987983703613,
          0.0111522674560546,
          0.010009765625,
          0.0081512928009033,
          0.0090003013610839,
          0.0089993476867675,
          0.0080635547637939,
          0.0081312656402587,
          0.0091018676757812,
          0.0070002079010009,
          0.0135071277618408,
          0.0070025920867919,
          0.0090892314910888,
          0.0111613273620605,
          0.0095269680023193,
          0.0100073814392089,
          0.0271494388580322,
          0.0342888832092285,
          0.0197319984436035,
          0.0212290287017822,
          0.0225100517272949,
          0.0271172523498535,
          0.0191638469696044,
          0.0272483825683593,
          0.0211198329925537,
          0.0201823711395263,
          0.0221855640411376,
          0.0332190990447998,
          0.0270061492919921,
          0.0283112525939941,
          0.0291886329650878,
          0.0292282104492187,
          0.025592565536499,
          0.0292816162109375,
          0.0320804119110107,
          0.0240046977996826,
          0.2484145164489746,
          0.2368884086608886,
          0.2625136375427246,
          0.249849796295166,
          0.2254164218902588,
          0.2513761520385742,
          0.2532176971435547,
          0.2457861900329589,
          0.2479381561279297,
          0.2309932708740234,
          0.2335298061370849,
          0.2577574253082275,
          0.2403490543365478,
          0.2013435363769531,
          0.2360529899597168,
          0.2471370697021484,
          0.2448384761810302,
          0.2441658973693847,
          0.2505772113800049,
          0.2764873504638672,
          0.1237814426422119,
          0.1446208953857422,
          0.1136305332183837,
          0.1305370330810547,
          0.1392574310302734,
          0.1284739971160888,
          0.1428475379943847,
          0.1638991832733154,
          0.1266713142395019,
          0.129953384399414,
          0.1365156173706054,
          0.1471893787384033,
          0.1444520950317382,
          0.1277456283569336,
          0.1645152568817138,
          0.1624882221221923,
          0.1402993202209472,
          0.1275556087493896,
          0.1338369846343994,
          0.1248624324798584,
          1.603266716003418,
          1.2388761043548584,
          1.2264947891235352,
          1.029162883758545,
          0.7350766658782959,
          0.7269723415374756,
          0.7562627792358398,
          0.7447524070739746,
          0.7507157325744629,
          0.7527074813842773,
          1.2100450992584229,
          0.7587950229644775,
          0.7613472938537598,
          0.7698428630828857,
          0.7467103004455566,
          0.7709112167358398,
          0.768775463104248,
          0.785097599029541,
          0.8048985004425049,
          0.7565226554870605
         ]
        },
        {
         "name": "FR",
         "type": "box",
         "x": [
          "LogisticRegression",
          "LogisticRegression",
          "LogisticRegression",
          "LogisticRegression",
          "LogisticRegression",
          "LogisticRegression",
          "LogisticRegression",
          "LogisticRegression",
          "LogisticRegression",
          "LogisticRegression",
          "LogisticRegression",
          "LogisticRegression",
          "LogisticRegression",
          "LogisticRegression",
          "LogisticRegression",
          "LogisticRegression",
          "LogisticRegression",
          "LogisticRegression",
          "LogisticRegression",
          "LogisticRegression",
          "SVC",
          "SVC",
          "SVC",
          "SVC",
          "SVC",
          "SVC",
          "SVC",
          "SVC",
          "SVC",
          "SVC",
          "SVC",
          "SVC",
          "SVC",
          "SVC",
          "SVC",
          "SVC",
          "SVC",
          "SVC",
          "SVC",
          "SVC",
          "RandomForestClassifier",
          "RandomForestClassifier",
          "RandomForestClassifier",
          "RandomForestClassifier",
          "RandomForestClassifier",
          "RandomForestClassifier",
          "RandomForestClassifier",
          "RandomForestClassifier",
          "RandomForestClassifier",
          "RandomForestClassifier",
          "RandomForestClassifier",
          "RandomForestClassifier",
          "RandomForestClassifier",
          "RandomForestClassifier",
          "RandomForestClassifier",
          "RandomForestClassifier",
          "RandomForestClassifier",
          "RandomForestClassifier",
          "RandomForestClassifier",
          "RandomForestClassifier",
          "GradientBoostingClassifier",
          "GradientBoostingClassifier",
          "GradientBoostingClassifier",
          "GradientBoostingClassifier",
          "GradientBoostingClassifier",
          "GradientBoostingClassifier",
          "GradientBoostingClassifier",
          "GradientBoostingClassifier",
          "GradientBoostingClassifier",
          "GradientBoostingClassifier",
          "GradientBoostingClassifier",
          "GradientBoostingClassifier",
          "GradientBoostingClassifier",
          "GradientBoostingClassifier",
          "GradientBoostingClassifier",
          "GradientBoostingClassifier",
          "GradientBoostingClassifier",
          "GradientBoostingClassifier",
          "GradientBoostingClassifier",
          "GradientBoostingClassifier",
          "DeepNeuralNetwork",
          "DeepNeuralNetwork",
          "DeepNeuralNetwork",
          "DeepNeuralNetwork",
          "DeepNeuralNetwork",
          "DeepNeuralNetwork",
          "DeepNeuralNetwork",
          "DeepNeuralNetwork",
          "DeepNeuralNetwork",
          "DeepNeuralNetwork",
          "DeepNeuralNetwork",
          "DeepNeuralNetwork",
          "DeepNeuralNetwork",
          "DeepNeuralNetwork",
          "DeepNeuralNetwork",
          "DeepNeuralNetwork",
          "DeepNeuralNetwork",
          "DeepNeuralNetwork",
          "DeepNeuralNetwork",
          "DeepNeuralNetwork"
         ],
         "y": [
          0.0081284046173095,
          0.0070023536682128,
          0.0090117454528808,
          0.0079994201660156,
          0.0080001354217529,
          0.0110805034637451,
          0.007512092590332,
          0.0090916156768798,
          0.0080873966217041,
          0.0101008415222167,
          0.0160067081451416,
          0.0100085735321044,
          0.0090677738189697,
          0.0079998970031738,
          0.0100002288818359,
          0.0105111598968505,
          0.010413646697998,
          0.0060005187988281,
          0.0091176033020019,
          0.009127140045166,
          0.0261611938476562,
          0.0381298065185546,
          0.0200955867767334,
          0.0221905708312988,
          0.0230767726898193,
          0.0216383934020996,
          0.0220918655395507,
          0.0366315841674804,
          0.0241048336029052,
          0.0261075496673584,
          0.0251300334930419,
          0.0402970314025878,
          0.0181820392608642,
          0.037900686264038,
          0.0260751247406005,
          0.0200855731964111,
          0.0323760509490966,
          0.0220961570739746,
          0.0242755413055419,
          0.0265796184539794,
          0.2445673942565918,
          0.2614221572875976,
          0.2458703517913818,
          0.263756513595581,
          0.265559434890747,
          0.2413387298583984,
          0.2532234191894531,
          0.2365500926971435,
          0.2950723171234131,
          0.2775981426239013,
          0.2283923625946045,
          0.2632925510406494,
          0.2776947021484375,
          0.2494206428527832,
          0.2195863723754882,
          0.2894172668457031,
          0.2737598419189453,
          0.2494544982910156,
          0.248694896697998,
          0.2506730556488037,
          0.1557133197784423,
          0.1369929313659668,
          0.1433758735656738,
          0.14215087890625,
          0.1402361392974853,
          0.1360020637512207,
          0.1420564651489257,
          0.1293432712554931,
          0.1331112384796142,
          0.1437368392944336,
          0.1525542736053466,
          0.1527447700500488,
          0.1442632675170898,
          0.1360425949096679,
          0.1418240070343017,
          0.1547868251800537,
          0.1462633609771728,
          0.1449193954467773,
          0.1432116031646728,
          0.1297166347503662,
          0.7804644107818604,
          0.7590587139129639,
          0.7616288661956787,
          0.7414286136627197,
          0.7473011016845703,
          0.7549567222595215,
          0.7483878135681152,
          0.732295036315918,
          0.7425997257232666,
          0.7699370384216309,
          0.75,
          0.7675347328186035,
          0.7421956062316895,
          0.7489142417907715,
          1.3400123119354248,
          0.7856996059417725,
          0.772104024887085,
          0.7327291965484619,
          0.767585039138794,
          0.7520620822906494
         ]
        },
        {
         "name": "SS",
         "type": "box",
         "x": [
          "LogisticRegression",
          "LogisticRegression",
          "LogisticRegression",
          "LogisticRegression",
          "LogisticRegression",
          "LogisticRegression",
          "LogisticRegression",
          "LogisticRegression",
          "LogisticRegression",
          "LogisticRegression",
          "LogisticRegression",
          "LogisticRegression",
          "LogisticRegression",
          "LogisticRegression",
          "LogisticRegression",
          "LogisticRegression",
          "LogisticRegression",
          "LogisticRegression",
          "LogisticRegression",
          "LogisticRegression",
          "SVC",
          "SVC",
          "SVC",
          "SVC",
          "SVC",
          "SVC",
          "SVC",
          "SVC",
          "SVC",
          "SVC",
          "SVC",
          "SVC",
          "SVC",
          "SVC",
          "SVC",
          "SVC",
          "SVC",
          "SVC",
          "SVC",
          "SVC",
          "RandomForestClassifier",
          "RandomForestClassifier",
          "RandomForestClassifier",
          "RandomForestClassifier",
          "RandomForestClassifier",
          "RandomForestClassifier",
          "RandomForestClassifier",
          "RandomForestClassifier",
          "RandomForestClassifier",
          "RandomForestClassifier",
          "RandomForestClassifier",
          "RandomForestClassifier",
          "RandomForestClassifier",
          "RandomForestClassifier",
          "RandomForestClassifier",
          "RandomForestClassifier",
          "RandomForestClassifier",
          "RandomForestClassifier",
          "RandomForestClassifier",
          "RandomForestClassifier",
          "GradientBoostingClassifier",
          "GradientBoostingClassifier",
          "GradientBoostingClassifier",
          "GradientBoostingClassifier",
          "GradientBoostingClassifier",
          "GradientBoostingClassifier",
          "GradientBoostingClassifier",
          "GradientBoostingClassifier",
          "GradientBoostingClassifier",
          "GradientBoostingClassifier",
          "GradientBoostingClassifier",
          "GradientBoostingClassifier",
          "GradientBoostingClassifier",
          "GradientBoostingClassifier",
          "GradientBoostingClassifier",
          "GradientBoostingClassifier",
          "GradientBoostingClassifier",
          "GradientBoostingClassifier",
          "GradientBoostingClassifier",
          "GradientBoostingClassifier",
          "DeepNeuralNetwork",
          "DeepNeuralNetwork",
          "DeepNeuralNetwork",
          "DeepNeuralNetwork",
          "DeepNeuralNetwork",
          "DeepNeuralNetwork",
          "DeepNeuralNetwork",
          "DeepNeuralNetwork",
          "DeepNeuralNetwork",
          "DeepNeuralNetwork",
          "DeepNeuralNetwork",
          "DeepNeuralNetwork",
          "DeepNeuralNetwork",
          "DeepNeuralNetwork",
          "DeepNeuralNetwork",
          "DeepNeuralNetwork",
          "DeepNeuralNetwork",
          "DeepNeuralNetwork",
          "DeepNeuralNetwork",
          "DeepNeuralNetwork"
         ],
         "y": [
          0.0081393718719482,
          0.0099978446960449,
          0.0079982280731201,
          0.010160207748413,
          0.0089986324310302,
          0.0100040435791015,
          0.0090229511260986,
          0.0079996585845947,
          0.0080800056457519,
          0.0079991817474365,
          0.0111122131347656,
          0.0101077556610107,
          0.008105993270874,
          0.0079724788665771,
          0.0090334415435791,
          0.0071568489074707,
          0.0100815296173095,
          0.006974458694458,
          0.0100400447845458,
          0.0129971504211425,
          0.0301976203918457,
          0.0261332988739013,
          0.023993968963623,
          0.0292961597442626,
          0.0233750343322753,
          0.0270764827728271,
          0.0239982604980468,
          0.0209956169128417,
          0.0251340866088867,
          0.018773078918457,
          0.0241501331329345,
          0.028186559677124,
          0.0260927677154541,
          0.0322704315185546,
          0.025073766708374,
          0.0301289558410644,
          0.0241353511810302,
          0.0333216190338134,
          0.0256481170654296,
          0.0211296081542968,
          0.2533919811248779,
          0.2485065460205078,
          0.2527589797973633,
          0.2526242733001709,
          0.267263650894165,
          0.2396962642669677,
          0.2404878139495849,
          0.2369482517242431,
          0.2750623226165771,
          0.230478286743164,
          0.2730982303619385,
          0.2425570487976074,
          0.2429687976837158,
          0.23763108253479,
          0.251497745513916,
          0.24222993850708,
          0.2258896827697754,
          0.2589812278747558,
          0.245535135269165,
          0.2511329650878906,
          0.1640944480895996,
          0.1445949077606201,
          0.1452362537384033,
          0.1111550331115722,
          0.1364936828613281,
          0.1378428936004638,
          0.1428074836730957,
          0.1492743492126464,
          0.1296019554138183,
          0.1446068286895752,
          0.1244375705718994,
          0.118927001953125,
          0.1550269126892089,
          0.127608060836792,
          0.1619031429290771,
          0.1691536903381347,
          0.1641924381256103,
          0.1300387382507324,
          0.1463992595672607,
          0.1387128829956054,
          0.7746503353118896,
          0.766963005065918,
          0.7806577682495117,
          0.7498180866241455,
          0.7573482990264893,
          0.7402999401092529,
          0.7385678291320801,
          0.7666652202606201,
          0.7742137908935547,
          0.795724630355835,
          0.7657480239868164,
          0.8060386180877686,
          0.7750294208526611,
          0.7718160152435303,
          0.7538797855377197,
          0.7358057498931885,
          0.7705581188201904,
          0.7232353687286377,
          0.7825117111206055,
          0.7870051860809326
         ]
        },
        {
         "name": "SS & FR",
         "type": "box",
         "x": [
          "LogisticRegression",
          "LogisticRegression",
          "LogisticRegression",
          "LogisticRegression",
          "LogisticRegression",
          "LogisticRegression",
          "LogisticRegression",
          "LogisticRegression",
          "LogisticRegression",
          "LogisticRegression",
          "LogisticRegression",
          "LogisticRegression",
          "LogisticRegression",
          "LogisticRegression",
          "LogisticRegression",
          "LogisticRegression",
          "LogisticRegression",
          "LogisticRegression",
          "LogisticRegression",
          "LogisticRegression",
          "SVC",
          "SVC",
          "SVC",
          "SVC",
          "SVC",
          "SVC",
          "SVC",
          "SVC",
          "SVC",
          "SVC",
          "SVC",
          "SVC",
          "SVC",
          "SVC",
          "SVC",
          "SVC",
          "SVC",
          "SVC",
          "SVC",
          "SVC",
          "RandomForestClassifier",
          "RandomForestClassifier",
          "RandomForestClassifier",
          "RandomForestClassifier",
          "RandomForestClassifier",
          "RandomForestClassifier",
          "RandomForestClassifier",
          "RandomForestClassifier",
          "RandomForestClassifier",
          "RandomForestClassifier",
          "RandomForestClassifier",
          "RandomForestClassifier",
          "RandomForestClassifier",
          "RandomForestClassifier",
          "RandomForestClassifier",
          "RandomForestClassifier",
          "RandomForestClassifier",
          "RandomForestClassifier",
          "RandomForestClassifier",
          "RandomForestClassifier",
          "GradientBoostingClassifier",
          "GradientBoostingClassifier",
          "GradientBoostingClassifier",
          "GradientBoostingClassifier",
          "GradientBoostingClassifier",
          "GradientBoostingClassifier",
          "GradientBoostingClassifier",
          "GradientBoostingClassifier",
          "GradientBoostingClassifier",
          "GradientBoostingClassifier",
          "GradientBoostingClassifier",
          "GradientBoostingClassifier",
          "GradientBoostingClassifier",
          "GradientBoostingClassifier",
          "GradientBoostingClassifier",
          "GradientBoostingClassifier",
          "GradientBoostingClassifier",
          "GradientBoostingClassifier",
          "GradientBoostingClassifier",
          "GradientBoostingClassifier",
          "DeepNeuralNetwork",
          "DeepNeuralNetwork",
          "DeepNeuralNetwork",
          "DeepNeuralNetwork",
          "DeepNeuralNetwork",
          "DeepNeuralNetwork",
          "DeepNeuralNetwork",
          "DeepNeuralNetwork",
          "DeepNeuralNetwork",
          "DeepNeuralNetwork",
          "DeepNeuralNetwork",
          "DeepNeuralNetwork",
          "DeepNeuralNetwork",
          "DeepNeuralNetwork",
          "DeepNeuralNetwork",
          "DeepNeuralNetwork",
          "DeepNeuralNetwork",
          "DeepNeuralNetwork",
          "DeepNeuralNetwork",
          "DeepNeuralNetwork"
         ],
         "y": [
          0.0109922885894775,
          0.0110878944396972,
          0.0080010890960693,
          0.012261152267456,
          0.0089998245239257,
          0.010972261428833,
          0.010134220123291,
          0.0091032981872558,
          0.0089993476867675,
          0.0091216564178466,
          0.0111024379730224,
          0.0091290473937988,
          0.0096852779388427,
          0.006110668182373,
          0.0091099739074707,
          0.0080015659332275,
          0.0110173225402832,
          0.007997989654541,
          0.0114686489105224,
          0.0101015567779541,
          0.0210123062133789,
          0.0233440399169921,
          0.0308246612548828,
          0.0259962081909179,
          0.0291199684143066,
          0.0332050323486328,
          0.0254778861999511,
          0.0347931385040283,
          0.0229988098144531,
          0.0242307186126709,
          0.0221366882324218,
          0.0312802791595459,
          0.0251257419586181,
          0.0276646614074707,
          0.0222675800323486,
          0.0181572437286376,
          0.027078628540039,
          0.0299973487854003,
          0.0371308326721191,
          0.0225095748901367,
          0.251800537109375,
          0.2797591686248779,
          0.2571773529052734,
          0.2682423591613769,
          0.248847484588623,
          0.2679424285888672,
          0.2468283176422119,
          0.2310006618499755,
          0.2783558368682861,
          0.2533738613128662,
          0.2439363002777099,
          0.265979528427124,
          0.2403419017791748,
          0.2571814060211181,
          0.2486333847045898,
          0.2526302337646484,
          0.2492372989654541,
          0.2724571228027344,
          0.2404673099517822,
          0.2292039394378662,
          0.1518077850341797,
          0.1421601772308349,
          0.1435103416442871,
          0.1474769115447998,
          0.1690349578857422,
          0.1488051414489746,
          0.1586611270904541,
          0.1584696769714355,
          0.1522586345672607,
          0.1510977745056152,
          0.1337628364562988,
          0.1157946586608886,
          0.1449205875396728,
          0.1498951911926269,
          0.1552681922912597,
          0.1270008087158203,
          0.1352131366729736,
          0.1342310905456543,
          0.1433141231536865,
          0.1380927562713623,
          0.7740333080291748,
          0.779547929763794,
          0.7545464038848877,
          1.494696855545044,
          0.7980649471282959,
          0.7964046001434326,
          0.7855775356292725,
          0.73740553855896,
          0.778266191482544,
          0.7659695148468018,
          0.7462756633758545,
          0.7375106811523438,
          0.7700545787811279,
          0.7736396789550781,
          0.7706165313720703,
          0.7512588500976562,
          0.7875919342041016,
          0.7710723876953125,
          0.7867856025695801,
          0.7906467914581299
         ]
        }
       ],
       "layout": {
        "boxmode": "group",
        "template": {
         "data": {
          "bar": [
           {
            "error_x": {
             "color": "#2a3f5f"
            },
            "error_y": {
             "color": "#2a3f5f"
            },
            "marker": {
             "line": {
              "color": "#E5ECF6",
              "width": 0.5
             },
             "pattern": {
              "fillmode": "overlay",
              "size": 10,
              "solidity": 0.2
             }
            },
            "type": "bar"
           }
          ],
          "barpolar": [
           {
            "marker": {
             "line": {
              "color": "#E5ECF6",
              "width": 0.5
             },
             "pattern": {
              "fillmode": "overlay",
              "size": 10,
              "solidity": 0.2
             }
            },
            "type": "barpolar"
           }
          ],
          "carpet": [
           {
            "aaxis": {
             "endlinecolor": "#2a3f5f",
             "gridcolor": "white",
             "linecolor": "white",
             "minorgridcolor": "white",
             "startlinecolor": "#2a3f5f"
            },
            "baxis": {
             "endlinecolor": "#2a3f5f",
             "gridcolor": "white",
             "linecolor": "white",
             "minorgridcolor": "white",
             "startlinecolor": "#2a3f5f"
            },
            "type": "carpet"
           }
          ],
          "choropleth": [
           {
            "colorbar": {
             "outlinewidth": 0,
             "ticks": ""
            },
            "type": "choropleth"
           }
          ],
          "contour": [
           {
            "colorbar": {
             "outlinewidth": 0,
             "ticks": ""
            },
            "colorscale": [
             [
              0,
              "#0d0887"
             ],
             [
              0.1111111111111111,
              "#46039f"
             ],
             [
              0.2222222222222222,
              "#7201a8"
             ],
             [
              0.3333333333333333,
              "#9c179e"
             ],
             [
              0.4444444444444444,
              "#bd3786"
             ],
             [
              0.5555555555555556,
              "#d8576b"
             ],
             [
              0.6666666666666666,
              "#ed7953"
             ],
             [
              0.7777777777777778,
              "#fb9f3a"
             ],
             [
              0.8888888888888888,
              "#fdca26"
             ],
             [
              1,
              "#f0f921"
             ]
            ],
            "type": "contour"
           }
          ],
          "contourcarpet": [
           {
            "colorbar": {
             "outlinewidth": 0,
             "ticks": ""
            },
            "type": "contourcarpet"
           }
          ],
          "heatmap": [
           {
            "colorbar": {
             "outlinewidth": 0,
             "ticks": ""
            },
            "colorscale": [
             [
              0,
              "#0d0887"
             ],
             [
              0.1111111111111111,
              "#46039f"
             ],
             [
              0.2222222222222222,
              "#7201a8"
             ],
             [
              0.3333333333333333,
              "#9c179e"
             ],
             [
              0.4444444444444444,
              "#bd3786"
             ],
             [
              0.5555555555555556,
              "#d8576b"
             ],
             [
              0.6666666666666666,
              "#ed7953"
             ],
             [
              0.7777777777777778,
              "#fb9f3a"
             ],
             [
              0.8888888888888888,
              "#fdca26"
             ],
             [
              1,
              "#f0f921"
             ]
            ],
            "type": "heatmap"
           }
          ],
          "heatmapgl": [
           {
            "colorbar": {
             "outlinewidth": 0,
             "ticks": ""
            },
            "colorscale": [
             [
              0,
              "#0d0887"
             ],
             [
              0.1111111111111111,
              "#46039f"
             ],
             [
              0.2222222222222222,
              "#7201a8"
             ],
             [
              0.3333333333333333,
              "#9c179e"
             ],
             [
              0.4444444444444444,
              "#bd3786"
             ],
             [
              0.5555555555555556,
              "#d8576b"
             ],
             [
              0.6666666666666666,
              "#ed7953"
             ],
             [
              0.7777777777777778,
              "#fb9f3a"
             ],
             [
              0.8888888888888888,
              "#fdca26"
             ],
             [
              1,
              "#f0f921"
             ]
            ],
            "type": "heatmapgl"
           }
          ],
          "histogram": [
           {
            "marker": {
             "pattern": {
              "fillmode": "overlay",
              "size": 10,
              "solidity": 0.2
             }
            },
            "type": "histogram"
           }
          ],
          "histogram2d": [
           {
            "colorbar": {
             "outlinewidth": 0,
             "ticks": ""
            },
            "colorscale": [
             [
              0,
              "#0d0887"
             ],
             [
              0.1111111111111111,
              "#46039f"
             ],
             [
              0.2222222222222222,
              "#7201a8"
             ],
             [
              0.3333333333333333,
              "#9c179e"
             ],
             [
              0.4444444444444444,
              "#bd3786"
             ],
             [
              0.5555555555555556,
              "#d8576b"
             ],
             [
              0.6666666666666666,
              "#ed7953"
             ],
             [
              0.7777777777777778,
              "#fb9f3a"
             ],
             [
              0.8888888888888888,
              "#fdca26"
             ],
             [
              1,
              "#f0f921"
             ]
            ],
            "type": "histogram2d"
           }
          ],
          "histogram2dcontour": [
           {
            "colorbar": {
             "outlinewidth": 0,
             "ticks": ""
            },
            "colorscale": [
             [
              0,
              "#0d0887"
             ],
             [
              0.1111111111111111,
              "#46039f"
             ],
             [
              0.2222222222222222,
              "#7201a8"
             ],
             [
              0.3333333333333333,
              "#9c179e"
             ],
             [
              0.4444444444444444,
              "#bd3786"
             ],
             [
              0.5555555555555556,
              "#d8576b"
             ],
             [
              0.6666666666666666,
              "#ed7953"
             ],
             [
              0.7777777777777778,
              "#fb9f3a"
             ],
             [
              0.8888888888888888,
              "#fdca26"
             ],
             [
              1,
              "#f0f921"
             ]
            ],
            "type": "histogram2dcontour"
           }
          ],
          "mesh3d": [
           {
            "colorbar": {
             "outlinewidth": 0,
             "ticks": ""
            },
            "type": "mesh3d"
           }
          ],
          "parcoords": [
           {
            "line": {
             "colorbar": {
              "outlinewidth": 0,
              "ticks": ""
             }
            },
            "type": "parcoords"
           }
          ],
          "pie": [
           {
            "automargin": true,
            "type": "pie"
           }
          ],
          "scatter": [
           {
            "fillpattern": {
             "fillmode": "overlay",
             "size": 10,
             "solidity": 0.2
            },
            "type": "scatter"
           }
          ],
          "scatter3d": [
           {
            "line": {
             "colorbar": {
              "outlinewidth": 0,
              "ticks": ""
             }
            },
            "marker": {
             "colorbar": {
              "outlinewidth": 0,
              "ticks": ""
             }
            },
            "type": "scatter3d"
           }
          ],
          "scattercarpet": [
           {
            "marker": {
             "colorbar": {
              "outlinewidth": 0,
              "ticks": ""
             }
            },
            "type": "scattercarpet"
           }
          ],
          "scattergeo": [
           {
            "marker": {
             "colorbar": {
              "outlinewidth": 0,
              "ticks": ""
             }
            },
            "type": "scattergeo"
           }
          ],
          "scattergl": [
           {
            "marker": {
             "colorbar": {
              "outlinewidth": 0,
              "ticks": ""
             }
            },
            "type": "scattergl"
           }
          ],
          "scattermapbox": [
           {
            "marker": {
             "colorbar": {
              "outlinewidth": 0,
              "ticks": ""
             }
            },
            "type": "scattermapbox"
           }
          ],
          "scatterpolar": [
           {
            "marker": {
             "colorbar": {
              "outlinewidth": 0,
              "ticks": ""
             }
            },
            "type": "scatterpolar"
           }
          ],
          "scatterpolargl": [
           {
            "marker": {
             "colorbar": {
              "outlinewidth": 0,
              "ticks": ""
             }
            },
            "type": "scatterpolargl"
           }
          ],
          "scatterternary": [
           {
            "marker": {
             "colorbar": {
              "outlinewidth": 0,
              "ticks": ""
             }
            },
            "type": "scatterternary"
           }
          ],
          "surface": [
           {
            "colorbar": {
             "outlinewidth": 0,
             "ticks": ""
            },
            "colorscale": [
             [
              0,
              "#0d0887"
             ],
             [
              0.1111111111111111,
              "#46039f"
             ],
             [
              0.2222222222222222,
              "#7201a8"
             ],
             [
              0.3333333333333333,
              "#9c179e"
             ],
             [
              0.4444444444444444,
              "#bd3786"
             ],
             [
              0.5555555555555556,
              "#d8576b"
             ],
             [
              0.6666666666666666,
              "#ed7953"
             ],
             [
              0.7777777777777778,
              "#fb9f3a"
             ],
             [
              0.8888888888888888,
              "#fdca26"
             ],
             [
              1,
              "#f0f921"
             ]
            ],
            "type": "surface"
           }
          ],
          "table": [
           {
            "cells": {
             "fill": {
              "color": "#EBF0F8"
             },
             "line": {
              "color": "white"
             }
            },
            "header": {
             "fill": {
              "color": "#C8D4E3"
             },
             "line": {
              "color": "white"
             }
            },
            "type": "table"
           }
          ]
         },
         "layout": {
          "annotationdefaults": {
           "arrowcolor": "#2a3f5f",
           "arrowhead": 0,
           "arrowwidth": 1
          },
          "autotypenumbers": "strict",
          "coloraxis": {
           "colorbar": {
            "outlinewidth": 0,
            "ticks": ""
           }
          },
          "colorscale": {
           "diverging": [
            [
             0,
             "#8e0152"
            ],
            [
             0.1,
             "#c51b7d"
            ],
            [
             0.2,
             "#de77ae"
            ],
            [
             0.3,
             "#f1b6da"
            ],
            [
             0.4,
             "#fde0ef"
            ],
            [
             0.5,
             "#f7f7f7"
            ],
            [
             0.6,
             "#e6f5d0"
            ],
            [
             0.7,
             "#b8e186"
            ],
            [
             0.8,
             "#7fbc41"
            ],
            [
             0.9,
             "#4d9221"
            ],
            [
             1,
             "#276419"
            ]
           ],
           "sequential": [
            [
             0,
             "#0d0887"
            ],
            [
             0.1111111111111111,
             "#46039f"
            ],
            [
             0.2222222222222222,
             "#7201a8"
            ],
            [
             0.3333333333333333,
             "#9c179e"
            ],
            [
             0.4444444444444444,
             "#bd3786"
            ],
            [
             0.5555555555555556,
             "#d8576b"
            ],
            [
             0.6666666666666666,
             "#ed7953"
            ],
            [
             0.7777777777777778,
             "#fb9f3a"
            ],
            [
             0.8888888888888888,
             "#fdca26"
            ],
            [
             1,
             "#f0f921"
            ]
           ],
           "sequentialminus": [
            [
             0,
             "#0d0887"
            ],
            [
             0.1111111111111111,
             "#46039f"
            ],
            [
             0.2222222222222222,
             "#7201a8"
            ],
            [
             0.3333333333333333,
             "#9c179e"
            ],
            [
             0.4444444444444444,
             "#bd3786"
            ],
            [
             0.5555555555555556,
             "#d8576b"
            ],
            [
             0.6666666666666666,
             "#ed7953"
            ],
            [
             0.7777777777777778,
             "#fb9f3a"
            ],
            [
             0.8888888888888888,
             "#fdca26"
            ],
            [
             1,
             "#f0f921"
            ]
           ]
          },
          "colorway": [
           "#636efa",
           "#EF553B",
           "#00cc96",
           "#ab63fa",
           "#FFA15A",
           "#19d3f3",
           "#FF6692",
           "#B6E880",
           "#FF97FF",
           "#FECB52"
          ],
          "font": {
           "color": "#2a3f5f"
          },
          "geo": {
           "bgcolor": "white",
           "lakecolor": "white",
           "landcolor": "#E5ECF6",
           "showlakes": true,
           "showland": true,
           "subunitcolor": "white"
          },
          "hoverlabel": {
           "align": "left"
          },
          "hovermode": "closest",
          "mapbox": {
           "style": "light"
          },
          "paper_bgcolor": "white",
          "plot_bgcolor": "#E5ECF6",
          "polar": {
           "angularaxis": {
            "gridcolor": "white",
            "linecolor": "white",
            "ticks": ""
           },
           "bgcolor": "#E5ECF6",
           "radialaxis": {
            "gridcolor": "white",
            "linecolor": "white",
            "ticks": ""
           }
          },
          "scene": {
           "xaxis": {
            "backgroundcolor": "#E5ECF6",
            "gridcolor": "white",
            "gridwidth": 2,
            "linecolor": "white",
            "showbackground": true,
            "ticks": "",
            "zerolinecolor": "white"
           },
           "yaxis": {
            "backgroundcolor": "#E5ECF6",
            "gridcolor": "white",
            "gridwidth": 2,
            "linecolor": "white",
            "showbackground": true,
            "ticks": "",
            "zerolinecolor": "white"
           },
           "zaxis": {
            "backgroundcolor": "#E5ECF6",
            "gridcolor": "white",
            "gridwidth": 2,
            "linecolor": "white",
            "showbackground": true,
            "ticks": "",
            "zerolinecolor": "white"
           }
          },
          "shapedefaults": {
           "line": {
            "color": "#2a3f5f"
           }
          },
          "ternary": {
           "aaxis": {
            "gridcolor": "white",
            "linecolor": "white",
            "ticks": ""
           },
           "baxis": {
            "gridcolor": "white",
            "linecolor": "white",
            "ticks": ""
           },
           "bgcolor": "#E5ECF6",
           "caxis": {
            "gridcolor": "white",
            "linecolor": "white",
            "ticks": ""
           }
          },
          "title": {
           "x": 0.05
          },
          "xaxis": {
           "automargin": true,
           "gridcolor": "white",
           "linecolor": "white",
           "ticks": "",
           "title": {
            "standoff": 15
           },
           "zerolinecolor": "white",
           "zerolinewidth": 2
          },
          "yaxis": {
           "automargin": true,
           "gridcolor": "white",
           "linecolor": "white",
           "ticks": "",
           "title": {
            "standoff": 15
           },
           "zerolinecolor": "white",
           "zerolinewidth": 2
          }
         }
        },
        "title": {
         "text": "training_time"
        },
        "yaxis": {
         "title": {
          "text": "training_time"
         }
        }
       }
      }
     },
     "metadata": {},
     "output_type": "display_data"
    },
    {
     "data": {
      "application/vnd.plotly.v1+json": {
       "config": {
        "plotlyServerURL": "https://plot.ly"
       },
       "data": [
        {
         "name": "Full",
         "type": "box",
         "x": [
          "LogisticRegression",
          "LogisticRegression",
          "LogisticRegression",
          "LogisticRegression",
          "LogisticRegression",
          "LogisticRegression",
          "LogisticRegression",
          "LogisticRegression",
          "LogisticRegression",
          "LogisticRegression",
          "LogisticRegression",
          "LogisticRegression",
          "LogisticRegression",
          "LogisticRegression",
          "LogisticRegression",
          "LogisticRegression",
          "LogisticRegression",
          "LogisticRegression",
          "LogisticRegression",
          "LogisticRegression",
          "SVC",
          "SVC",
          "SVC",
          "SVC",
          "SVC",
          "SVC",
          "SVC",
          "SVC",
          "SVC",
          "SVC",
          "SVC",
          "SVC",
          "SVC",
          "SVC",
          "SVC",
          "SVC",
          "SVC",
          "SVC",
          "SVC",
          "SVC",
          "RandomForestClassifier",
          "RandomForestClassifier",
          "RandomForestClassifier",
          "RandomForestClassifier",
          "RandomForestClassifier",
          "RandomForestClassifier",
          "RandomForestClassifier",
          "RandomForestClassifier",
          "RandomForestClassifier",
          "RandomForestClassifier",
          "RandomForestClassifier",
          "RandomForestClassifier",
          "RandomForestClassifier",
          "RandomForestClassifier",
          "RandomForestClassifier",
          "RandomForestClassifier",
          "RandomForestClassifier",
          "RandomForestClassifier",
          "RandomForestClassifier",
          "RandomForestClassifier",
          "GradientBoostingClassifier",
          "GradientBoostingClassifier",
          "GradientBoostingClassifier",
          "GradientBoostingClassifier",
          "GradientBoostingClassifier",
          "GradientBoostingClassifier",
          "GradientBoostingClassifier",
          "GradientBoostingClassifier",
          "GradientBoostingClassifier",
          "GradientBoostingClassifier",
          "GradientBoostingClassifier",
          "GradientBoostingClassifier",
          "GradientBoostingClassifier",
          "GradientBoostingClassifier",
          "GradientBoostingClassifier",
          "GradientBoostingClassifier",
          "GradientBoostingClassifier",
          "GradientBoostingClassifier",
          "GradientBoostingClassifier",
          "GradientBoostingClassifier",
          "DeepNeuralNetwork",
          "DeepNeuralNetwork",
          "DeepNeuralNetwork",
          "DeepNeuralNetwork",
          "DeepNeuralNetwork",
          "DeepNeuralNetwork",
          "DeepNeuralNetwork",
          "DeepNeuralNetwork",
          "DeepNeuralNetwork",
          "DeepNeuralNetwork",
          "DeepNeuralNetwork",
          "DeepNeuralNetwork",
          "DeepNeuralNetwork",
          "DeepNeuralNetwork",
          "DeepNeuralNetwork",
          "DeepNeuralNetwork",
          "DeepNeuralNetwork",
          "DeepNeuralNetwork",
          "DeepNeuralNetwork",
          "DeepNeuralNetwork"
         ],
         "y": [
          0.0069975852966308,
          0.0089867115020751,
          0.0079970359802246,
          0.0059995651245117,
          0.0060076713562011,
          0.0069968700408935,
          0.0071005821228027,
          0.006509780883789,
          0.0070002079010009,
          0.0060017108917236,
          0.0069859027862548,
          0.0070013999938964,
          0.0071511268615722,
          0.0059993267059326,
          0.0071058273315429,
          0.007112979888916,
          0.005002737045288,
          0.0090017318725585,
          0.0062284469604492,
          0.0060009956359863,
          0.0460898876190185,
          0.0528697967529296,
          0.043501853942871,
          0.0506610870361328,
          0.0401918888092041,
          0.0475893020629882,
          0.0392994880676269,
          0.0447707176208496,
          0.0376539230346679,
          0.0451838970184326,
          0.0567545890808105,
          0.052821397781372,
          0.0441594123840332,
          0.0478229522705078,
          0.0496959686279296,
          0.0462870597839355,
          0.0452094078063964,
          0.0638556480407714,
          0.0578911304473876,
          0.0734651088714599,
          0.0187404155731201,
          0.0281205177307128,
          0.0408110618591308,
          0.0243785381317138,
          0.0259695053100585,
          0.0320346355438232,
          0.0291688442230224,
          0.0242209434509277,
          0.0361502170562744,
          0.0292661190032959,
          0.0166449546813964,
          0.0270037651062011,
          0.0171098709106445,
          0.0172135829925537,
          0.0212926864624023,
          0.026414155960083,
          0.0241296291351318,
          0.0394051074981689,
          0.0263111591339111,
          0.0197381973266601,
          0.0069975852966308,
          0.0071043968200683,
          0.0070030689239501,
          0.006965160369873,
          0.0060000419616699,
          0.0101776123046875,
          0.0059974193572998,
          0.007167100906372,
          0.0061690807342529,
          0.0049974918365478,
          0.0070321559906005,
          0.0080964565277099,
          0.0072271823883056,
          0.0080389976501464,
          0.0089998245239257,
          0.0056221485137939,
          0.0066020488739013,
          0.0060851573944091,
          0.0059576034545898,
          0.0091035366058349,
          0.1495132446289062,
          0.1472389698028564,
          0.1072750091552734,
          0.0834383964538574,
          0.0783479213714599,
          0.1143279075622558,
          0.1060950756072998,
          0.0960278511047363,
          0.092350959777832,
          0.0823972225189209,
          0.0741412639617919,
          0.0984435081481933,
          0.1003007888793945,
          0.0972387790679931,
          0.0942754745483398,
          0.1008002758026123,
          0.0888769626617431,
          0.1023285388946533,
          0.0690741539001464,
          0.1006643772125244
         ]
        },
        {
         "name": "FR",
         "type": "box",
         "x": [
          "LogisticRegression",
          "LogisticRegression",
          "LogisticRegression",
          "LogisticRegression",
          "LogisticRegression",
          "LogisticRegression",
          "LogisticRegression",
          "LogisticRegression",
          "LogisticRegression",
          "LogisticRegression",
          "LogisticRegression",
          "LogisticRegression",
          "LogisticRegression",
          "LogisticRegression",
          "LogisticRegression",
          "LogisticRegression",
          "LogisticRegression",
          "LogisticRegression",
          "LogisticRegression",
          "LogisticRegression",
          "SVC",
          "SVC",
          "SVC",
          "SVC",
          "SVC",
          "SVC",
          "SVC",
          "SVC",
          "SVC",
          "SVC",
          "SVC",
          "SVC",
          "SVC",
          "SVC",
          "SVC",
          "SVC",
          "SVC",
          "SVC",
          "SVC",
          "SVC",
          "RandomForestClassifier",
          "RandomForestClassifier",
          "RandomForestClassifier",
          "RandomForestClassifier",
          "RandomForestClassifier",
          "RandomForestClassifier",
          "RandomForestClassifier",
          "RandomForestClassifier",
          "RandomForestClassifier",
          "RandomForestClassifier",
          "RandomForestClassifier",
          "RandomForestClassifier",
          "RandomForestClassifier",
          "RandomForestClassifier",
          "RandomForestClassifier",
          "RandomForestClassifier",
          "RandomForestClassifier",
          "RandomForestClassifier",
          "RandomForestClassifier",
          "RandomForestClassifier",
          "GradientBoostingClassifier",
          "GradientBoostingClassifier",
          "GradientBoostingClassifier",
          "GradientBoostingClassifier",
          "GradientBoostingClassifier",
          "GradientBoostingClassifier",
          "GradientBoostingClassifier",
          "GradientBoostingClassifier",
          "GradientBoostingClassifier",
          "GradientBoostingClassifier",
          "GradientBoostingClassifier",
          "GradientBoostingClassifier",
          "GradientBoostingClassifier",
          "GradientBoostingClassifier",
          "GradientBoostingClassifier",
          "GradientBoostingClassifier",
          "GradientBoostingClassifier",
          "GradientBoostingClassifier",
          "GradientBoostingClassifier",
          "GradientBoostingClassifier",
          "DeepNeuralNetwork",
          "DeepNeuralNetwork",
          "DeepNeuralNetwork",
          "DeepNeuralNetwork",
          "DeepNeuralNetwork",
          "DeepNeuralNetwork",
          "DeepNeuralNetwork",
          "DeepNeuralNetwork",
          "DeepNeuralNetwork",
          "DeepNeuralNetwork",
          "DeepNeuralNetwork",
          "DeepNeuralNetwork",
          "DeepNeuralNetwork",
          "DeepNeuralNetwork",
          "DeepNeuralNetwork",
          "DeepNeuralNetwork",
          "DeepNeuralNetwork",
          "DeepNeuralNetwork",
          "DeepNeuralNetwork",
          "DeepNeuralNetwork"
         ],
         "y": [
          0.0080072879791259,
          0.0059974193572998,
          0.0070009231567382,
          0.0080897808074951,
          0.0081651210784912,
          0.0071079730987548,
          0.0059988498687744,
          0.0069971084594726,
          0.0071132183074951,
          0.0060019493103027,
          0.0059983730316162,
          0.00700044631958,
          0.0060000419616699,
          0.0070002079010009,
          0.0069968700408935,
          0.0069985389709472,
          0.0060296058654785,
          0.0039803981781005,
          0.0060698986053466,
          0.0070016384124755,
          0.0573484897613525,
          0.0482618808746337,
          0.0553171634674072,
          0.0478620529174804,
          0.0451993942260742,
          0.0493502616882324,
          0.0508606433868408,
          0.0688657760620117,
          0.0523276329040527,
          0.0438239574432373,
          0.0351927280426025,
          0.0719656944274902,
          0.0679171085357666,
          0.0401732921600341,
          0.0427587032318115,
          0.0544180870056152,
          0.0658431053161621,
          0.053027868270874,
          0.0463373661041259,
          0.0524349212646484,
          0.0322198867797851,
          0.0271813869476318,
          0.0310049057006835,
          0.0210978984832763,
          0.025221824645996,
          0.0292391777038574,
          0.0191578865051269,
          0.0219995975494384,
          0.0281383991241455,
          0.0250079631805419,
          0.0179543495178222,
          0.0291051864624023,
          0.029252290725708,
          0.0276737213134765,
          0.0391755104064941,
          0.0266382694244384,
          0.0221529006958007,
          0.0281732082366943,
          0.0361742973327636,
          0.0175933837890625,
          0.0079684257507324,
          0.006119966506958,
          0.0071678161621093,
          0.0090024471282958,
          0.0061895847320556,
          0.0061626434326171,
          0.0071198940277099,
          0.0069622993469238,
          0.0051290988922119,
          0.005997896194458,
          0.0080022811889648,
          0.0081675052642822,
          0.0071134567260742,
          0.0071070194244384,
          0.0059187412261962,
          0.0052492618560791,
          0.0049991607666015,
          0.0074789524078369,
          0.0060467720031738,
          0.0071654319763183,
          0.1104140281677246,
          0.0857954025268554,
          0.0845146179199218,
          0.0957345962524414,
          0.0952975749969482,
          0.0874891281127929,
          0.093447208404541,
          0.099576711654663,
          0.0926876068115234,
          0.0914888381958007,
          0.0991017818450927,
          0.1041262149810791,
          0.0840194225311279,
          0.0975813865661621,
          0.0806338787078857,
          0.0979623794555664,
          0.101536750793457,
          0.0799026489257812,
          0.0940053462982177,
          0.094611644744873
         ]
        },
        {
         "name": "SS",
         "type": "box",
         "x": [
          "LogisticRegression",
          "LogisticRegression",
          "LogisticRegression",
          "LogisticRegression",
          "LogisticRegression",
          "LogisticRegression",
          "LogisticRegression",
          "LogisticRegression",
          "LogisticRegression",
          "LogisticRegression",
          "LogisticRegression",
          "LogisticRegression",
          "LogisticRegression",
          "LogisticRegression",
          "LogisticRegression",
          "LogisticRegression",
          "LogisticRegression",
          "LogisticRegression",
          "LogisticRegression",
          "LogisticRegression",
          "SVC",
          "SVC",
          "SVC",
          "SVC",
          "SVC",
          "SVC",
          "SVC",
          "SVC",
          "SVC",
          "SVC",
          "SVC",
          "SVC",
          "SVC",
          "SVC",
          "SVC",
          "SVC",
          "SVC",
          "SVC",
          "SVC",
          "SVC",
          "RandomForestClassifier",
          "RandomForestClassifier",
          "RandomForestClassifier",
          "RandomForestClassifier",
          "RandomForestClassifier",
          "RandomForestClassifier",
          "RandomForestClassifier",
          "RandomForestClassifier",
          "RandomForestClassifier",
          "RandomForestClassifier",
          "RandomForestClassifier",
          "RandomForestClassifier",
          "RandomForestClassifier",
          "RandomForestClassifier",
          "RandomForestClassifier",
          "RandomForestClassifier",
          "RandomForestClassifier",
          "RandomForestClassifier",
          "RandomForestClassifier",
          "RandomForestClassifier",
          "GradientBoostingClassifier",
          "GradientBoostingClassifier",
          "GradientBoostingClassifier",
          "GradientBoostingClassifier",
          "GradientBoostingClassifier",
          "GradientBoostingClassifier",
          "GradientBoostingClassifier",
          "GradientBoostingClassifier",
          "GradientBoostingClassifier",
          "GradientBoostingClassifier",
          "GradientBoostingClassifier",
          "GradientBoostingClassifier",
          "GradientBoostingClassifier",
          "GradientBoostingClassifier",
          "GradientBoostingClassifier",
          "GradientBoostingClassifier",
          "GradientBoostingClassifier",
          "GradientBoostingClassifier",
          "GradientBoostingClassifier",
          "GradientBoostingClassifier",
          "DeepNeuralNetwork",
          "DeepNeuralNetwork",
          "DeepNeuralNetwork",
          "DeepNeuralNetwork",
          "DeepNeuralNetwork",
          "DeepNeuralNetwork",
          "DeepNeuralNetwork",
          "DeepNeuralNetwork",
          "DeepNeuralNetwork",
          "DeepNeuralNetwork",
          "DeepNeuralNetwork",
          "DeepNeuralNetwork",
          "DeepNeuralNetwork",
          "DeepNeuralNetwork",
          "DeepNeuralNetwork",
          "DeepNeuralNetwork",
          "DeepNeuralNetwork",
          "DeepNeuralNetwork",
          "DeepNeuralNetwork",
          "DeepNeuralNetwork"
         ],
         "y": [
          0.0060794353485107,
          0.0071108341217041,
          0.0059983730316162,
          0.0066304206848144,
          0.0060296058654785,
          0.0069963932037353,
          0.0059840679168701,
          0.0079991817474365,
          0.0060007572174072,
          0.0059998035430908,
          0.0071432590484619,
          0.0059988498687744,
          0.0060961246490478,
          0.0080001354217529,
          0.0051198005676269,
          0.0066614151000976,
          0.0071439743041992,
          0.0059981346130371,
          0.0065114498138427,
          0.0059993267059326,
          0.0420649051666259,
          0.0497927665710449,
          0.0481619834899902,
          0.0366678237915039,
          0.0593879222869873,
          0.055981159210205,
          0.0527596473693847,
          0.0501637458801269,
          0.0719287395477294,
          0.0404350757598876,
          0.0460100173950195,
          0.0442886352539062,
          0.0424787998199462,
          0.0604074001312255,
          0.0533971786499023,
          0.0557763576507568,
          0.0431773662567138,
          0.0484058856964111,
          0.0564396381378173,
          0.0477697849273681,
          0.0326113700866699,
          0.0251202583312988,
          0.0236427783966064,
          0.0251469612121582,
          0.0309886932373046,
          0.018012523651123,
          0.0291135311126709,
          0.0313127040863037,
          0.0291581153869628,
          0.0231459140777587,
          0.0251188278198242,
          0.0217702388763427,
          0.0323092937469482,
          0.0361154079437255,
          0.0240795612335205,
          0.0331559181213378,
          0.0201680660247802,
          0.0334208011627197,
          0.0287814140319824,
          0.0543937683105468,
          0.0089914798736572,
          0.0069870948791503,
          0.0061695575714111,
          0.009561538696289,
          0.0059971809387207,
          0.005995750427246,
          0.0069937705993652,
          0.0080001354217529,
          0.006054401397705,
          0.0049960613250732,
          0.0050010681152343,
          0.009063720703125,
          0.0070009231567382,
          0.0054929256439208,
          0.0070807933807373,
          0.0050809383392333,
          0.0060837268829345,
          0.0050013065338134,
          0.0060672760009765,
          0.0069999694824218,
          0.1048507690429687,
          0.0812675952911377,
          0.1044580936431884,
          0.0984947681427002,
          0.0980331897735595,
          0.0951125621795654,
          0.1179420948028564,
          0.0759012699127197,
          0.0945959091186523,
          0.0993971824645996,
          0.0802431106567382,
          0.0834121704101562,
          0.1144609451293945,
          0.0830814838409423,
          0.0999231338500976,
          0.0924468040466308,
          0.0949907302856445,
          0.1271440982818603,
          0.0995347499847412,
          0.0915436744689941
         ]
        },
        {
         "name": "SS & FR",
         "type": "box",
         "x": [
          "LogisticRegression",
          "LogisticRegression",
          "LogisticRegression",
          "LogisticRegression",
          "LogisticRegression",
          "LogisticRegression",
          "LogisticRegression",
          "LogisticRegression",
          "LogisticRegression",
          "LogisticRegression",
          "LogisticRegression",
          "LogisticRegression",
          "LogisticRegression",
          "LogisticRegression",
          "LogisticRegression",
          "LogisticRegression",
          "LogisticRegression",
          "LogisticRegression",
          "LogisticRegression",
          "LogisticRegression",
          "SVC",
          "SVC",
          "SVC",
          "SVC",
          "SVC",
          "SVC",
          "SVC",
          "SVC",
          "SVC",
          "SVC",
          "SVC",
          "SVC",
          "SVC",
          "SVC",
          "SVC",
          "SVC",
          "SVC",
          "SVC",
          "SVC",
          "SVC",
          "RandomForestClassifier",
          "RandomForestClassifier",
          "RandomForestClassifier",
          "RandomForestClassifier",
          "RandomForestClassifier",
          "RandomForestClassifier",
          "RandomForestClassifier",
          "RandomForestClassifier",
          "RandomForestClassifier",
          "RandomForestClassifier",
          "RandomForestClassifier",
          "RandomForestClassifier",
          "RandomForestClassifier",
          "RandomForestClassifier",
          "RandomForestClassifier",
          "RandomForestClassifier",
          "RandomForestClassifier",
          "RandomForestClassifier",
          "RandomForestClassifier",
          "RandomForestClassifier",
          "GradientBoostingClassifier",
          "GradientBoostingClassifier",
          "GradientBoostingClassifier",
          "GradientBoostingClassifier",
          "GradientBoostingClassifier",
          "GradientBoostingClassifier",
          "GradientBoostingClassifier",
          "GradientBoostingClassifier",
          "GradientBoostingClassifier",
          "GradientBoostingClassifier",
          "GradientBoostingClassifier",
          "GradientBoostingClassifier",
          "GradientBoostingClassifier",
          "GradientBoostingClassifier",
          "GradientBoostingClassifier",
          "GradientBoostingClassifier",
          "GradientBoostingClassifier",
          "GradientBoostingClassifier",
          "GradientBoostingClassifier",
          "GradientBoostingClassifier",
          "DeepNeuralNetwork",
          "DeepNeuralNetwork",
          "DeepNeuralNetwork",
          "DeepNeuralNetwork",
          "DeepNeuralNetwork",
          "DeepNeuralNetwork",
          "DeepNeuralNetwork",
          "DeepNeuralNetwork",
          "DeepNeuralNetwork",
          "DeepNeuralNetwork",
          "DeepNeuralNetwork",
          "DeepNeuralNetwork",
          "DeepNeuralNetwork",
          "DeepNeuralNetwork",
          "DeepNeuralNetwork",
          "DeepNeuralNetwork",
          "DeepNeuralNetwork",
          "DeepNeuralNetwork",
          "DeepNeuralNetwork",
          "DeepNeuralNetwork"
         ],
         "y": [
          0.0089950561523437,
          0.0080041885375976,
          0.0069992542266845,
          0.0071260929107666,
          0.0070059299468994,
          0.0070137977600097,
          0.0070807933807373,
          0.0071568489074707,
          0.0090291500091552,
          0.0070116519927978,
          0.0060408115386962,
          0.0069935321807861,
          0.00700044631958,
          0.0050015449523925,
          0.0060975551605224,
          0.0050015449523925,
          0.0051324367523193,
          0.0059998035430908,
          0.0071556568145751,
          0.0060048103332519,
          0.0423147678375244,
          0.0407516956329345,
          0.0404942035675048,
          0.0527071952819824,
          0.03829026222229,
          0.0407323837280273,
          0.0391976833343505,
          0.0557796955108642,
          0.0523943901062011,
          0.0488810539245605,
          0.0476183891296386,
          0.0382671356201171,
          0.0435264110565185,
          0.0372347831726074,
          0.0678834915161132,
          0.0404064655303955,
          0.0498998165130615,
          0.0512349605560302,
          0.0497758388519287,
          0.0527634620666503,
          0.0211577415466308,
          0.0252041816711425,
          0.0209996700286865,
          0.0193753242492675,
          0.0220634937286376,
          0.0319442749023437,
          0.0191473960876464,
          0.0417530536651611,
          0.0201842784881591,
          0.0289082527160644,
          0.0263669490814209,
          0.0240046977996826,
          0.0286653041839599,
          0.0262866020202636,
          0.0221278667449951,
          0.0389044284820556,
          0.0261330604553222,
          0.0191574096679687,
          0.019050121307373,
          0.0328178405761718,
          0.0070881843566894,
          0.0070791244506835,
          0.006000280380249,
          0.0061252117156982,
          0.0076143741607666,
          0.0060014724731445,
          0.0069923400878906,
          0.0062308311462402,
          0.0061063766479492,
          0.0072040557861328,
          0.0059113502502441,
          0.0039975643157958,
          0.005126953125,
          0.0069997310638427,
          0.0070042610168457,
          0.0042572021484375,
          0.0050082206726074,
          0.0069994926452636,
          0.003932237625122,
          0.0061337947845458,
          0.0989918708801269,
          0.1029386520385742,
          0.1048500537872314,
          0.0786719322204589,
          0.1034469604492187,
          0.1223134994506836,
          0.1023964881896972,
          0.0853257179260253,
          0.0999414920806884,
          0.1005351543426513,
          0.1017749309539794,
          0.079066514968872,
          0.0965485572814941,
          0.0981204509735107,
          0.0992100238800048,
          0.0945587158203125,
          0.0992050170898437,
          0.0960135459899902,
          0.0875084400177002,
          0.1077828407287597
         ]
        }
       ],
       "layout": {
        "boxmode": "group",
        "template": {
         "data": {
          "bar": [
           {
            "error_x": {
             "color": "#2a3f5f"
            },
            "error_y": {
             "color": "#2a3f5f"
            },
            "marker": {
             "line": {
              "color": "#E5ECF6",
              "width": 0.5
             },
             "pattern": {
              "fillmode": "overlay",
              "size": 10,
              "solidity": 0.2
             }
            },
            "type": "bar"
           }
          ],
          "barpolar": [
           {
            "marker": {
             "line": {
              "color": "#E5ECF6",
              "width": 0.5
             },
             "pattern": {
              "fillmode": "overlay",
              "size": 10,
              "solidity": 0.2
             }
            },
            "type": "barpolar"
           }
          ],
          "carpet": [
           {
            "aaxis": {
             "endlinecolor": "#2a3f5f",
             "gridcolor": "white",
             "linecolor": "white",
             "minorgridcolor": "white",
             "startlinecolor": "#2a3f5f"
            },
            "baxis": {
             "endlinecolor": "#2a3f5f",
             "gridcolor": "white",
             "linecolor": "white",
             "minorgridcolor": "white",
             "startlinecolor": "#2a3f5f"
            },
            "type": "carpet"
           }
          ],
          "choropleth": [
           {
            "colorbar": {
             "outlinewidth": 0,
             "ticks": ""
            },
            "type": "choropleth"
           }
          ],
          "contour": [
           {
            "colorbar": {
             "outlinewidth": 0,
             "ticks": ""
            },
            "colorscale": [
             [
              0,
              "#0d0887"
             ],
             [
              0.1111111111111111,
              "#46039f"
             ],
             [
              0.2222222222222222,
              "#7201a8"
             ],
             [
              0.3333333333333333,
              "#9c179e"
             ],
             [
              0.4444444444444444,
              "#bd3786"
             ],
             [
              0.5555555555555556,
              "#d8576b"
             ],
             [
              0.6666666666666666,
              "#ed7953"
             ],
             [
              0.7777777777777778,
              "#fb9f3a"
             ],
             [
              0.8888888888888888,
              "#fdca26"
             ],
             [
              1,
              "#f0f921"
             ]
            ],
            "type": "contour"
           }
          ],
          "contourcarpet": [
           {
            "colorbar": {
             "outlinewidth": 0,
             "ticks": ""
            },
            "type": "contourcarpet"
           }
          ],
          "heatmap": [
           {
            "colorbar": {
             "outlinewidth": 0,
             "ticks": ""
            },
            "colorscale": [
             [
              0,
              "#0d0887"
             ],
             [
              0.1111111111111111,
              "#46039f"
             ],
             [
              0.2222222222222222,
              "#7201a8"
             ],
             [
              0.3333333333333333,
              "#9c179e"
             ],
             [
              0.4444444444444444,
              "#bd3786"
             ],
             [
              0.5555555555555556,
              "#d8576b"
             ],
             [
              0.6666666666666666,
              "#ed7953"
             ],
             [
              0.7777777777777778,
              "#fb9f3a"
             ],
             [
              0.8888888888888888,
              "#fdca26"
             ],
             [
              1,
              "#f0f921"
             ]
            ],
            "type": "heatmap"
           }
          ],
          "heatmapgl": [
           {
            "colorbar": {
             "outlinewidth": 0,
             "ticks": ""
            },
            "colorscale": [
             [
              0,
              "#0d0887"
             ],
             [
              0.1111111111111111,
              "#46039f"
             ],
             [
              0.2222222222222222,
              "#7201a8"
             ],
             [
              0.3333333333333333,
              "#9c179e"
             ],
             [
              0.4444444444444444,
              "#bd3786"
             ],
             [
              0.5555555555555556,
              "#d8576b"
             ],
             [
              0.6666666666666666,
              "#ed7953"
             ],
             [
              0.7777777777777778,
              "#fb9f3a"
             ],
             [
              0.8888888888888888,
              "#fdca26"
             ],
             [
              1,
              "#f0f921"
             ]
            ],
            "type": "heatmapgl"
           }
          ],
          "histogram": [
           {
            "marker": {
             "pattern": {
              "fillmode": "overlay",
              "size": 10,
              "solidity": 0.2
             }
            },
            "type": "histogram"
           }
          ],
          "histogram2d": [
           {
            "colorbar": {
             "outlinewidth": 0,
             "ticks": ""
            },
            "colorscale": [
             [
              0,
              "#0d0887"
             ],
             [
              0.1111111111111111,
              "#46039f"
             ],
             [
              0.2222222222222222,
              "#7201a8"
             ],
             [
              0.3333333333333333,
              "#9c179e"
             ],
             [
              0.4444444444444444,
              "#bd3786"
             ],
             [
              0.5555555555555556,
              "#d8576b"
             ],
             [
              0.6666666666666666,
              "#ed7953"
             ],
             [
              0.7777777777777778,
              "#fb9f3a"
             ],
             [
              0.8888888888888888,
              "#fdca26"
             ],
             [
              1,
              "#f0f921"
             ]
            ],
            "type": "histogram2d"
           }
          ],
          "histogram2dcontour": [
           {
            "colorbar": {
             "outlinewidth": 0,
             "ticks": ""
            },
            "colorscale": [
             [
              0,
              "#0d0887"
             ],
             [
              0.1111111111111111,
              "#46039f"
             ],
             [
              0.2222222222222222,
              "#7201a8"
             ],
             [
              0.3333333333333333,
              "#9c179e"
             ],
             [
              0.4444444444444444,
              "#bd3786"
             ],
             [
              0.5555555555555556,
              "#d8576b"
             ],
             [
              0.6666666666666666,
              "#ed7953"
             ],
             [
              0.7777777777777778,
              "#fb9f3a"
             ],
             [
              0.8888888888888888,
              "#fdca26"
             ],
             [
              1,
              "#f0f921"
             ]
            ],
            "type": "histogram2dcontour"
           }
          ],
          "mesh3d": [
           {
            "colorbar": {
             "outlinewidth": 0,
             "ticks": ""
            },
            "type": "mesh3d"
           }
          ],
          "parcoords": [
           {
            "line": {
             "colorbar": {
              "outlinewidth": 0,
              "ticks": ""
             }
            },
            "type": "parcoords"
           }
          ],
          "pie": [
           {
            "automargin": true,
            "type": "pie"
           }
          ],
          "scatter": [
           {
            "fillpattern": {
             "fillmode": "overlay",
             "size": 10,
             "solidity": 0.2
            },
            "type": "scatter"
           }
          ],
          "scatter3d": [
           {
            "line": {
             "colorbar": {
              "outlinewidth": 0,
              "ticks": ""
             }
            },
            "marker": {
             "colorbar": {
              "outlinewidth": 0,
              "ticks": ""
             }
            },
            "type": "scatter3d"
           }
          ],
          "scattercarpet": [
           {
            "marker": {
             "colorbar": {
              "outlinewidth": 0,
              "ticks": ""
             }
            },
            "type": "scattercarpet"
           }
          ],
          "scattergeo": [
           {
            "marker": {
             "colorbar": {
              "outlinewidth": 0,
              "ticks": ""
             }
            },
            "type": "scattergeo"
           }
          ],
          "scattergl": [
           {
            "marker": {
             "colorbar": {
              "outlinewidth": 0,
              "ticks": ""
             }
            },
            "type": "scattergl"
           }
          ],
          "scattermapbox": [
           {
            "marker": {
             "colorbar": {
              "outlinewidth": 0,
              "ticks": ""
             }
            },
            "type": "scattermapbox"
           }
          ],
          "scatterpolar": [
           {
            "marker": {
             "colorbar": {
              "outlinewidth": 0,
              "ticks": ""
             }
            },
            "type": "scatterpolar"
           }
          ],
          "scatterpolargl": [
           {
            "marker": {
             "colorbar": {
              "outlinewidth": 0,
              "ticks": ""
             }
            },
            "type": "scatterpolargl"
           }
          ],
          "scatterternary": [
           {
            "marker": {
             "colorbar": {
              "outlinewidth": 0,
              "ticks": ""
             }
            },
            "type": "scatterternary"
           }
          ],
          "surface": [
           {
            "colorbar": {
             "outlinewidth": 0,
             "ticks": ""
            },
            "colorscale": [
             [
              0,
              "#0d0887"
             ],
             [
              0.1111111111111111,
              "#46039f"
             ],
             [
              0.2222222222222222,
              "#7201a8"
             ],
             [
              0.3333333333333333,
              "#9c179e"
             ],
             [
              0.4444444444444444,
              "#bd3786"
             ],
             [
              0.5555555555555556,
              "#d8576b"
             ],
             [
              0.6666666666666666,
              "#ed7953"
             ],
             [
              0.7777777777777778,
              "#fb9f3a"
             ],
             [
              0.8888888888888888,
              "#fdca26"
             ],
             [
              1,
              "#f0f921"
             ]
            ],
            "type": "surface"
           }
          ],
          "table": [
           {
            "cells": {
             "fill": {
              "color": "#EBF0F8"
             },
             "line": {
              "color": "white"
             }
            },
            "header": {
             "fill": {
              "color": "#C8D4E3"
             },
             "line": {
              "color": "white"
             }
            },
            "type": "table"
           }
          ]
         },
         "layout": {
          "annotationdefaults": {
           "arrowcolor": "#2a3f5f",
           "arrowhead": 0,
           "arrowwidth": 1
          },
          "autotypenumbers": "strict",
          "coloraxis": {
           "colorbar": {
            "outlinewidth": 0,
            "ticks": ""
           }
          },
          "colorscale": {
           "diverging": [
            [
             0,
             "#8e0152"
            ],
            [
             0.1,
             "#c51b7d"
            ],
            [
             0.2,
             "#de77ae"
            ],
            [
             0.3,
             "#f1b6da"
            ],
            [
             0.4,
             "#fde0ef"
            ],
            [
             0.5,
             "#f7f7f7"
            ],
            [
             0.6,
             "#e6f5d0"
            ],
            [
             0.7,
             "#b8e186"
            ],
            [
             0.8,
             "#7fbc41"
            ],
            [
             0.9,
             "#4d9221"
            ],
            [
             1,
             "#276419"
            ]
           ],
           "sequential": [
            [
             0,
             "#0d0887"
            ],
            [
             0.1111111111111111,
             "#46039f"
            ],
            [
             0.2222222222222222,
             "#7201a8"
            ],
            [
             0.3333333333333333,
             "#9c179e"
            ],
            [
             0.4444444444444444,
             "#bd3786"
            ],
            [
             0.5555555555555556,
             "#d8576b"
            ],
            [
             0.6666666666666666,
             "#ed7953"
            ],
            [
             0.7777777777777778,
             "#fb9f3a"
            ],
            [
             0.8888888888888888,
             "#fdca26"
            ],
            [
             1,
             "#f0f921"
            ]
           ],
           "sequentialminus": [
            [
             0,
             "#0d0887"
            ],
            [
             0.1111111111111111,
             "#46039f"
            ],
            [
             0.2222222222222222,
             "#7201a8"
            ],
            [
             0.3333333333333333,
             "#9c179e"
            ],
            [
             0.4444444444444444,
             "#bd3786"
            ],
            [
             0.5555555555555556,
             "#d8576b"
            ],
            [
             0.6666666666666666,
             "#ed7953"
            ],
            [
             0.7777777777777778,
             "#fb9f3a"
            ],
            [
             0.8888888888888888,
             "#fdca26"
            ],
            [
             1,
             "#f0f921"
            ]
           ]
          },
          "colorway": [
           "#636efa",
           "#EF553B",
           "#00cc96",
           "#ab63fa",
           "#FFA15A",
           "#19d3f3",
           "#FF6692",
           "#B6E880",
           "#FF97FF",
           "#FECB52"
          ],
          "font": {
           "color": "#2a3f5f"
          },
          "geo": {
           "bgcolor": "white",
           "lakecolor": "white",
           "landcolor": "#E5ECF6",
           "showlakes": true,
           "showland": true,
           "subunitcolor": "white"
          },
          "hoverlabel": {
           "align": "left"
          },
          "hovermode": "closest",
          "mapbox": {
           "style": "light"
          },
          "paper_bgcolor": "white",
          "plot_bgcolor": "#E5ECF6",
          "polar": {
           "angularaxis": {
            "gridcolor": "white",
            "linecolor": "white",
            "ticks": ""
           },
           "bgcolor": "#E5ECF6",
           "radialaxis": {
            "gridcolor": "white",
            "linecolor": "white",
            "ticks": ""
           }
          },
          "scene": {
           "xaxis": {
            "backgroundcolor": "#E5ECF6",
            "gridcolor": "white",
            "gridwidth": 2,
            "linecolor": "white",
            "showbackground": true,
            "ticks": "",
            "zerolinecolor": "white"
           },
           "yaxis": {
            "backgroundcolor": "#E5ECF6",
            "gridcolor": "white",
            "gridwidth": 2,
            "linecolor": "white",
            "showbackground": true,
            "ticks": "",
            "zerolinecolor": "white"
           },
           "zaxis": {
            "backgroundcolor": "#E5ECF6",
            "gridcolor": "white",
            "gridwidth": 2,
            "linecolor": "white",
            "showbackground": true,
            "ticks": "",
            "zerolinecolor": "white"
           }
          },
          "shapedefaults": {
           "line": {
            "color": "#2a3f5f"
           }
          },
          "ternary": {
           "aaxis": {
            "gridcolor": "white",
            "linecolor": "white",
            "ticks": ""
           },
           "baxis": {
            "gridcolor": "white",
            "linecolor": "white",
            "ticks": ""
           },
           "bgcolor": "#E5ECF6",
           "caxis": {
            "gridcolor": "white",
            "linecolor": "white",
            "ticks": ""
           }
          },
          "title": {
           "x": 0.05
          },
          "xaxis": {
           "automargin": true,
           "gridcolor": "white",
           "linecolor": "white",
           "ticks": "",
           "title": {
            "standoff": 15
           },
           "zerolinecolor": "white",
           "zerolinewidth": 2
          },
          "yaxis": {
           "automargin": true,
           "gridcolor": "white",
           "linecolor": "white",
           "ticks": "",
           "title": {
            "standoff": 15
           },
           "zerolinecolor": "white",
           "zerolinewidth": 2
          }
         }
        },
        "title": {
         "text": "prediction_time"
        },
        "yaxis": {
         "title": {
          "text": "prediction_time"
         }
        }
       }
      }
     },
     "metadata": {},
     "output_type": "display_data"
    }
   ],
   "source": [
    "make_plots('preprocess_time')\n",
    "make_plots('training_time')\n",
    "make_plots('prediction_time')"
   ]
  },
  {
   "cell_type": "code",
   "execution_count": 7,
   "metadata": {},
   "outputs": [
    {
     "data": {
      "application/vnd.plotly.v1+json": {
       "config": {
        "plotlyServerURL": "https://plot.ly"
       },
       "data": [
        {
         "name": "Full",
         "type": "box",
         "x": [
          "LogisticRegression",
          "LogisticRegression",
          "LogisticRegression",
          "LogisticRegression",
          "LogisticRegression",
          "LogisticRegression",
          "LogisticRegression",
          "LogisticRegression",
          "LogisticRegression",
          "LogisticRegression",
          "LogisticRegression",
          "LogisticRegression",
          "LogisticRegression",
          "LogisticRegression",
          "LogisticRegression",
          "LogisticRegression",
          "LogisticRegression",
          "LogisticRegression",
          "LogisticRegression",
          "LogisticRegression",
          "SVC",
          "SVC",
          "SVC",
          "SVC",
          "SVC",
          "SVC",
          "SVC",
          "SVC",
          "SVC",
          "SVC",
          "SVC",
          "SVC",
          "SVC",
          "SVC",
          "SVC",
          "SVC",
          "SVC",
          "SVC",
          "SVC",
          "SVC",
          "RandomForestClassifier",
          "RandomForestClassifier",
          "RandomForestClassifier",
          "RandomForestClassifier",
          "RandomForestClassifier",
          "RandomForestClassifier",
          "RandomForestClassifier",
          "RandomForestClassifier",
          "RandomForestClassifier",
          "RandomForestClassifier",
          "RandomForestClassifier",
          "RandomForestClassifier",
          "RandomForestClassifier",
          "RandomForestClassifier",
          "RandomForestClassifier",
          "RandomForestClassifier",
          "RandomForestClassifier",
          "RandomForestClassifier",
          "RandomForestClassifier",
          "RandomForestClassifier",
          "GradientBoostingClassifier",
          "GradientBoostingClassifier",
          "GradientBoostingClassifier",
          "GradientBoostingClassifier",
          "GradientBoostingClassifier",
          "GradientBoostingClassifier",
          "GradientBoostingClassifier",
          "GradientBoostingClassifier",
          "GradientBoostingClassifier",
          "GradientBoostingClassifier",
          "GradientBoostingClassifier",
          "GradientBoostingClassifier",
          "GradientBoostingClassifier",
          "GradientBoostingClassifier",
          "GradientBoostingClassifier",
          "GradientBoostingClassifier",
          "GradientBoostingClassifier",
          "GradientBoostingClassifier",
          "GradientBoostingClassifier",
          "GradientBoostingClassifier",
          "DeepNeuralNetwork",
          "DeepNeuralNetwork",
          "DeepNeuralNetwork",
          "DeepNeuralNetwork",
          "DeepNeuralNetwork",
          "DeepNeuralNetwork",
          "DeepNeuralNetwork",
          "DeepNeuralNetwork",
          "DeepNeuralNetwork",
          "DeepNeuralNetwork",
          "DeepNeuralNetwork",
          "DeepNeuralNetwork",
          "DeepNeuralNetwork",
          "DeepNeuralNetwork",
          "DeepNeuralNetwork",
          "DeepNeuralNetwork",
          "DeepNeuralNetwork",
          "DeepNeuralNetwork",
          "DeepNeuralNetwork",
          "DeepNeuralNetwork"
         ],
         "y": [
          1457,
          1457,
          1457,
          1457,
          1457,
          1457,
          1457,
          1457,
          1457,
          1457,
          1457,
          1457,
          1457,
          1457,
          1457,
          1457,
          1457,
          1457,
          1457,
          1457,
          17430,
          17514,
          17430,
          17402,
          17486,
          17486,
          17514,
          17430,
          17514,
          17430,
          17458,
          17486,
          17430,
          17598,
          17458,
          17374,
          17542,
          17514,
          17542,
          17374,
          2332,
          2332,
          2332,
          2332,
          2332,
          2332,
          2332,
          2332,
          2332,
          2332,
          2332,
          2332,
          2332,
          2332,
          2332,
          2332,
          2332,
          2332,
          2332,
          2332,
          3553,
          3553,
          3553,
          3553,
          3553,
          3553,
          3553,
          3553,
          3553,
          3553,
          3553,
          3553,
          3553,
          3553,
          3553,
          3553,
          3553,
          3553,
          3553,
          3553,
          7133,
          7133,
          7133,
          7133,
          7133,
          7133,
          7133,
          7133,
          7133,
          7133,
          7133,
          7133,
          7133,
          7133,
          7133,
          7133,
          7133,
          7133,
          7133,
          7133
         ]
        },
        {
         "name": "FR",
         "type": "box",
         "x": [
          "LogisticRegression",
          "LogisticRegression",
          "LogisticRegression",
          "LogisticRegression",
          "LogisticRegression",
          "LogisticRegression",
          "LogisticRegression",
          "LogisticRegression",
          "LogisticRegression",
          "LogisticRegression",
          "LogisticRegression",
          "LogisticRegression",
          "LogisticRegression",
          "LogisticRegression",
          "LogisticRegression",
          "LogisticRegression",
          "LogisticRegression",
          "LogisticRegression",
          "LogisticRegression",
          "LogisticRegression",
          "SVC",
          "SVC",
          "SVC",
          "SVC",
          "SVC",
          "SVC",
          "SVC",
          "SVC",
          "SVC",
          "SVC",
          "SVC",
          "SVC",
          "SVC",
          "SVC",
          "SVC",
          "SVC",
          "SVC",
          "SVC",
          "SVC",
          "SVC",
          "RandomForestClassifier",
          "RandomForestClassifier",
          "RandomForestClassifier",
          "RandomForestClassifier",
          "RandomForestClassifier",
          "RandomForestClassifier",
          "RandomForestClassifier",
          "RandomForestClassifier",
          "RandomForestClassifier",
          "RandomForestClassifier",
          "RandomForestClassifier",
          "RandomForestClassifier",
          "RandomForestClassifier",
          "RandomForestClassifier",
          "RandomForestClassifier",
          "RandomForestClassifier",
          "RandomForestClassifier",
          "RandomForestClassifier",
          "RandomForestClassifier",
          "RandomForestClassifier",
          "GradientBoostingClassifier",
          "GradientBoostingClassifier",
          "GradientBoostingClassifier",
          "GradientBoostingClassifier",
          "GradientBoostingClassifier",
          "GradientBoostingClassifier",
          "GradientBoostingClassifier",
          "GradientBoostingClassifier",
          "GradientBoostingClassifier",
          "GradientBoostingClassifier",
          "GradientBoostingClassifier",
          "GradientBoostingClassifier",
          "GradientBoostingClassifier",
          "GradientBoostingClassifier",
          "GradientBoostingClassifier",
          "GradientBoostingClassifier",
          "GradientBoostingClassifier",
          "GradientBoostingClassifier",
          "GradientBoostingClassifier",
          "GradientBoostingClassifier",
          "DeepNeuralNetwork",
          "DeepNeuralNetwork",
          "DeepNeuralNetwork",
          "DeepNeuralNetwork",
          "DeepNeuralNetwork",
          "DeepNeuralNetwork",
          "DeepNeuralNetwork",
          "DeepNeuralNetwork",
          "DeepNeuralNetwork",
          "DeepNeuralNetwork",
          "DeepNeuralNetwork",
          "DeepNeuralNetwork",
          "DeepNeuralNetwork",
          "DeepNeuralNetwork",
          "DeepNeuralNetwork",
          "DeepNeuralNetwork",
          "DeepNeuralNetwork",
          "DeepNeuralNetwork",
          "DeepNeuralNetwork",
          "DeepNeuralNetwork"
         ],
         "y": [
          1457,
          1457,
          1457,
          1457,
          1457,
          1457,
          1457,
          1457,
          1457,
          1457,
          1457,
          1457,
          1457,
          1457,
          1457,
          1457,
          1457,
          1457,
          1457,
          1457,
          17430,
          17458,
          17458,
          17430,
          17430,
          17402,
          17430,
          17430,
          17514,
          17458,
          17430,
          17486,
          17430,
          17486,
          17486,
          17430,
          17458,
          17514,
          17458,
          17458,
          2332,
          2332,
          2332,
          2332,
          2332,
          2332,
          2332,
          2332,
          2332,
          2332,
          2332,
          2332,
          2332,
          2332,
          2332,
          2332,
          2332,
          2332,
          2332,
          2332,
          3553,
          3553,
          3553,
          3553,
          3553,
          3553,
          3553,
          3553,
          3553,
          3553,
          3553,
          3553,
          3553,
          3553,
          3553,
          3553,
          3553,
          3553,
          3553,
          3553,
          7134,
          7134,
          7134,
          7134,
          7134,
          7134,
          7134,
          7134,
          7134,
          7134,
          7134,
          7134,
          7134,
          7134,
          7134,
          7134,
          7134,
          7134,
          7134,
          7134
         ]
        },
        {
         "name": "SS",
         "type": "box",
         "x": [
          "LogisticRegression",
          "LogisticRegression",
          "LogisticRegression",
          "LogisticRegression",
          "LogisticRegression",
          "LogisticRegression",
          "LogisticRegression",
          "LogisticRegression",
          "LogisticRegression",
          "LogisticRegression",
          "LogisticRegression",
          "LogisticRegression",
          "LogisticRegression",
          "LogisticRegression",
          "LogisticRegression",
          "LogisticRegression",
          "LogisticRegression",
          "LogisticRegression",
          "LogisticRegression",
          "LogisticRegression",
          "SVC",
          "SVC",
          "SVC",
          "SVC",
          "SVC",
          "SVC",
          "SVC",
          "SVC",
          "SVC",
          "SVC",
          "SVC",
          "SVC",
          "SVC",
          "SVC",
          "SVC",
          "SVC",
          "SVC",
          "SVC",
          "SVC",
          "SVC",
          "RandomForestClassifier",
          "RandomForestClassifier",
          "RandomForestClassifier",
          "RandomForestClassifier",
          "RandomForestClassifier",
          "RandomForestClassifier",
          "RandomForestClassifier",
          "RandomForestClassifier",
          "RandomForestClassifier",
          "RandomForestClassifier",
          "RandomForestClassifier",
          "RandomForestClassifier",
          "RandomForestClassifier",
          "RandomForestClassifier",
          "RandomForestClassifier",
          "RandomForestClassifier",
          "RandomForestClassifier",
          "RandomForestClassifier",
          "RandomForestClassifier",
          "RandomForestClassifier",
          "GradientBoostingClassifier",
          "GradientBoostingClassifier",
          "GradientBoostingClassifier",
          "GradientBoostingClassifier",
          "GradientBoostingClassifier",
          "GradientBoostingClassifier",
          "GradientBoostingClassifier",
          "GradientBoostingClassifier",
          "GradientBoostingClassifier",
          "GradientBoostingClassifier",
          "GradientBoostingClassifier",
          "GradientBoostingClassifier",
          "GradientBoostingClassifier",
          "GradientBoostingClassifier",
          "GradientBoostingClassifier",
          "GradientBoostingClassifier",
          "GradientBoostingClassifier",
          "GradientBoostingClassifier",
          "GradientBoostingClassifier",
          "GradientBoostingClassifier",
          "DeepNeuralNetwork",
          "DeepNeuralNetwork",
          "DeepNeuralNetwork",
          "DeepNeuralNetwork",
          "DeepNeuralNetwork",
          "DeepNeuralNetwork",
          "DeepNeuralNetwork",
          "DeepNeuralNetwork",
          "DeepNeuralNetwork",
          "DeepNeuralNetwork",
          "DeepNeuralNetwork",
          "DeepNeuralNetwork",
          "DeepNeuralNetwork",
          "DeepNeuralNetwork",
          "DeepNeuralNetwork",
          "DeepNeuralNetwork",
          "DeepNeuralNetwork",
          "DeepNeuralNetwork",
          "DeepNeuralNetwork",
          "DeepNeuralNetwork"
         ],
         "y": [
          1457,
          1457,
          1457,
          1457,
          1457,
          1457,
          1457,
          1457,
          1457,
          1457,
          1457,
          1457,
          1457,
          1457,
          1457,
          1457,
          1457,
          1457,
          1457,
          1457,
          17430,
          17402,
          17542,
          17290,
          17458,
          17430,
          17486,
          17430,
          17458,
          17374,
          17430,
          17402,
          17486,
          17402,
          17542,
          17458,
          17486,
          17486,
          17430,
          17430,
          2332,
          2332,
          2332,
          2332,
          2332,
          2332,
          2332,
          2332,
          2332,
          2332,
          2332,
          2332,
          2332,
          2332,
          2332,
          2332,
          2332,
          2332,
          2332,
          2332,
          3553,
          3553,
          3553,
          3553,
          3553,
          3553,
          3553,
          3553,
          3553,
          3553,
          3553,
          3553,
          3553,
          3553,
          3553,
          3553,
          3553,
          3553,
          3553,
          3553,
          7134,
          7134,
          7134,
          7134,
          7134,
          7134,
          7134,
          7134,
          7134,
          7134,
          7134,
          7134,
          7134,
          7134,
          7134,
          7134,
          7134,
          7134,
          7134,
          7134
         ]
        },
        {
         "name": "SS & FR",
         "type": "box",
         "x": [
          "LogisticRegression",
          "LogisticRegression",
          "LogisticRegression",
          "LogisticRegression",
          "LogisticRegression",
          "LogisticRegression",
          "LogisticRegression",
          "LogisticRegression",
          "LogisticRegression",
          "LogisticRegression",
          "LogisticRegression",
          "LogisticRegression",
          "LogisticRegression",
          "LogisticRegression",
          "LogisticRegression",
          "LogisticRegression",
          "LogisticRegression",
          "LogisticRegression",
          "LogisticRegression",
          "LogisticRegression",
          "SVC",
          "SVC",
          "SVC",
          "SVC",
          "SVC",
          "SVC",
          "SVC",
          "SVC",
          "SVC",
          "SVC",
          "SVC",
          "SVC",
          "SVC",
          "SVC",
          "SVC",
          "SVC",
          "SVC",
          "SVC",
          "SVC",
          "SVC",
          "RandomForestClassifier",
          "RandomForestClassifier",
          "RandomForestClassifier",
          "RandomForestClassifier",
          "RandomForestClassifier",
          "RandomForestClassifier",
          "RandomForestClassifier",
          "RandomForestClassifier",
          "RandomForestClassifier",
          "RandomForestClassifier",
          "RandomForestClassifier",
          "RandomForestClassifier",
          "RandomForestClassifier",
          "RandomForestClassifier",
          "RandomForestClassifier",
          "RandomForestClassifier",
          "RandomForestClassifier",
          "RandomForestClassifier",
          "RandomForestClassifier",
          "RandomForestClassifier",
          "GradientBoostingClassifier",
          "GradientBoostingClassifier",
          "GradientBoostingClassifier",
          "GradientBoostingClassifier",
          "GradientBoostingClassifier",
          "GradientBoostingClassifier",
          "GradientBoostingClassifier",
          "GradientBoostingClassifier",
          "GradientBoostingClassifier",
          "GradientBoostingClassifier",
          "GradientBoostingClassifier",
          "GradientBoostingClassifier",
          "GradientBoostingClassifier",
          "GradientBoostingClassifier",
          "GradientBoostingClassifier",
          "GradientBoostingClassifier",
          "GradientBoostingClassifier",
          "GradientBoostingClassifier",
          "GradientBoostingClassifier",
          "GradientBoostingClassifier",
          "DeepNeuralNetwork",
          "DeepNeuralNetwork",
          "DeepNeuralNetwork",
          "DeepNeuralNetwork",
          "DeepNeuralNetwork",
          "DeepNeuralNetwork",
          "DeepNeuralNetwork",
          "DeepNeuralNetwork",
          "DeepNeuralNetwork",
          "DeepNeuralNetwork",
          "DeepNeuralNetwork",
          "DeepNeuralNetwork",
          "DeepNeuralNetwork",
          "DeepNeuralNetwork",
          "DeepNeuralNetwork",
          "DeepNeuralNetwork",
          "DeepNeuralNetwork",
          "DeepNeuralNetwork",
          "DeepNeuralNetwork",
          "DeepNeuralNetwork"
         ],
         "y": [
          1457,
          1457,
          1457,
          1457,
          1457,
          1457,
          1457,
          1457,
          1457,
          1457,
          1457,
          1457,
          1457,
          1457,
          1457,
          1457,
          1457,
          1457,
          1457,
          1457,
          17486,
          17402,
          17486,
          17318,
          17486,
          17458,
          17402,
          17486,
          17374,
          17374,
          17458,
          17486,
          17402,
          17514,
          17402,
          17430,
          17430,
          17430,
          17570,
          17514,
          2332,
          2332,
          2332,
          2332,
          2332,
          2332,
          2332,
          2332,
          2332,
          2332,
          2332,
          2332,
          2332,
          2332,
          2332,
          2332,
          2332,
          2332,
          2332,
          2332,
          3553,
          3553,
          3553,
          3553,
          3553,
          3553,
          3553,
          3553,
          3553,
          3553,
          3553,
          3553,
          3553,
          3553,
          3553,
          3553,
          3553,
          3553,
          3553,
          3553,
          7134,
          7134,
          7134,
          7134,
          7134,
          7134,
          7134,
          7134,
          7134,
          7134,
          7134,
          7134,
          7134,
          7134,
          7134,
          7134,
          7134,
          7134,
          7134,
          7134
         ]
        }
       ],
       "layout": {
        "boxmode": "group",
        "template": {
         "data": {
          "bar": [
           {
            "error_x": {
             "color": "#2a3f5f"
            },
            "error_y": {
             "color": "#2a3f5f"
            },
            "marker": {
             "line": {
              "color": "#E5ECF6",
              "width": 0.5
             },
             "pattern": {
              "fillmode": "overlay",
              "size": 10,
              "solidity": 0.2
             }
            },
            "type": "bar"
           }
          ],
          "barpolar": [
           {
            "marker": {
             "line": {
              "color": "#E5ECF6",
              "width": 0.5
             },
             "pattern": {
              "fillmode": "overlay",
              "size": 10,
              "solidity": 0.2
             }
            },
            "type": "barpolar"
           }
          ],
          "carpet": [
           {
            "aaxis": {
             "endlinecolor": "#2a3f5f",
             "gridcolor": "white",
             "linecolor": "white",
             "minorgridcolor": "white",
             "startlinecolor": "#2a3f5f"
            },
            "baxis": {
             "endlinecolor": "#2a3f5f",
             "gridcolor": "white",
             "linecolor": "white",
             "minorgridcolor": "white",
             "startlinecolor": "#2a3f5f"
            },
            "type": "carpet"
           }
          ],
          "choropleth": [
           {
            "colorbar": {
             "outlinewidth": 0,
             "ticks": ""
            },
            "type": "choropleth"
           }
          ],
          "contour": [
           {
            "colorbar": {
             "outlinewidth": 0,
             "ticks": ""
            },
            "colorscale": [
             [
              0,
              "#0d0887"
             ],
             [
              0.1111111111111111,
              "#46039f"
             ],
             [
              0.2222222222222222,
              "#7201a8"
             ],
             [
              0.3333333333333333,
              "#9c179e"
             ],
             [
              0.4444444444444444,
              "#bd3786"
             ],
             [
              0.5555555555555556,
              "#d8576b"
             ],
             [
              0.6666666666666666,
              "#ed7953"
             ],
             [
              0.7777777777777778,
              "#fb9f3a"
             ],
             [
              0.8888888888888888,
              "#fdca26"
             ],
             [
              1,
              "#f0f921"
             ]
            ],
            "type": "contour"
           }
          ],
          "contourcarpet": [
           {
            "colorbar": {
             "outlinewidth": 0,
             "ticks": ""
            },
            "type": "contourcarpet"
           }
          ],
          "heatmap": [
           {
            "colorbar": {
             "outlinewidth": 0,
             "ticks": ""
            },
            "colorscale": [
             [
              0,
              "#0d0887"
             ],
             [
              0.1111111111111111,
              "#46039f"
             ],
             [
              0.2222222222222222,
              "#7201a8"
             ],
             [
              0.3333333333333333,
              "#9c179e"
             ],
             [
              0.4444444444444444,
              "#bd3786"
             ],
             [
              0.5555555555555556,
              "#d8576b"
             ],
             [
              0.6666666666666666,
              "#ed7953"
             ],
             [
              0.7777777777777778,
              "#fb9f3a"
             ],
             [
              0.8888888888888888,
              "#fdca26"
             ],
             [
              1,
              "#f0f921"
             ]
            ],
            "type": "heatmap"
           }
          ],
          "heatmapgl": [
           {
            "colorbar": {
             "outlinewidth": 0,
             "ticks": ""
            },
            "colorscale": [
             [
              0,
              "#0d0887"
             ],
             [
              0.1111111111111111,
              "#46039f"
             ],
             [
              0.2222222222222222,
              "#7201a8"
             ],
             [
              0.3333333333333333,
              "#9c179e"
             ],
             [
              0.4444444444444444,
              "#bd3786"
             ],
             [
              0.5555555555555556,
              "#d8576b"
             ],
             [
              0.6666666666666666,
              "#ed7953"
             ],
             [
              0.7777777777777778,
              "#fb9f3a"
             ],
             [
              0.8888888888888888,
              "#fdca26"
             ],
             [
              1,
              "#f0f921"
             ]
            ],
            "type": "heatmapgl"
           }
          ],
          "histogram": [
           {
            "marker": {
             "pattern": {
              "fillmode": "overlay",
              "size": 10,
              "solidity": 0.2
             }
            },
            "type": "histogram"
           }
          ],
          "histogram2d": [
           {
            "colorbar": {
             "outlinewidth": 0,
             "ticks": ""
            },
            "colorscale": [
             [
              0,
              "#0d0887"
             ],
             [
              0.1111111111111111,
              "#46039f"
             ],
             [
              0.2222222222222222,
              "#7201a8"
             ],
             [
              0.3333333333333333,
              "#9c179e"
             ],
             [
              0.4444444444444444,
              "#bd3786"
             ],
             [
              0.5555555555555556,
              "#d8576b"
             ],
             [
              0.6666666666666666,
              "#ed7953"
             ],
             [
              0.7777777777777778,
              "#fb9f3a"
             ],
             [
              0.8888888888888888,
              "#fdca26"
             ],
             [
              1,
              "#f0f921"
             ]
            ],
            "type": "histogram2d"
           }
          ],
          "histogram2dcontour": [
           {
            "colorbar": {
             "outlinewidth": 0,
             "ticks": ""
            },
            "colorscale": [
             [
              0,
              "#0d0887"
             ],
             [
              0.1111111111111111,
              "#46039f"
             ],
             [
              0.2222222222222222,
              "#7201a8"
             ],
             [
              0.3333333333333333,
              "#9c179e"
             ],
             [
              0.4444444444444444,
              "#bd3786"
             ],
             [
              0.5555555555555556,
              "#d8576b"
             ],
             [
              0.6666666666666666,
              "#ed7953"
             ],
             [
              0.7777777777777778,
              "#fb9f3a"
             ],
             [
              0.8888888888888888,
              "#fdca26"
             ],
             [
              1,
              "#f0f921"
             ]
            ],
            "type": "histogram2dcontour"
           }
          ],
          "mesh3d": [
           {
            "colorbar": {
             "outlinewidth": 0,
             "ticks": ""
            },
            "type": "mesh3d"
           }
          ],
          "parcoords": [
           {
            "line": {
             "colorbar": {
              "outlinewidth": 0,
              "ticks": ""
             }
            },
            "type": "parcoords"
           }
          ],
          "pie": [
           {
            "automargin": true,
            "type": "pie"
           }
          ],
          "scatter": [
           {
            "fillpattern": {
             "fillmode": "overlay",
             "size": 10,
             "solidity": 0.2
            },
            "type": "scatter"
           }
          ],
          "scatter3d": [
           {
            "line": {
             "colorbar": {
              "outlinewidth": 0,
              "ticks": ""
             }
            },
            "marker": {
             "colorbar": {
              "outlinewidth": 0,
              "ticks": ""
             }
            },
            "type": "scatter3d"
           }
          ],
          "scattercarpet": [
           {
            "marker": {
             "colorbar": {
              "outlinewidth": 0,
              "ticks": ""
             }
            },
            "type": "scattercarpet"
           }
          ],
          "scattergeo": [
           {
            "marker": {
             "colorbar": {
              "outlinewidth": 0,
              "ticks": ""
             }
            },
            "type": "scattergeo"
           }
          ],
          "scattergl": [
           {
            "marker": {
             "colorbar": {
              "outlinewidth": 0,
              "ticks": ""
             }
            },
            "type": "scattergl"
           }
          ],
          "scattermapbox": [
           {
            "marker": {
             "colorbar": {
              "outlinewidth": 0,
              "ticks": ""
             }
            },
            "type": "scattermapbox"
           }
          ],
          "scatterpolar": [
           {
            "marker": {
             "colorbar": {
              "outlinewidth": 0,
              "ticks": ""
             }
            },
            "type": "scatterpolar"
           }
          ],
          "scatterpolargl": [
           {
            "marker": {
             "colorbar": {
              "outlinewidth": 0,
              "ticks": ""
             }
            },
            "type": "scatterpolargl"
           }
          ],
          "scatterternary": [
           {
            "marker": {
             "colorbar": {
              "outlinewidth": 0,
              "ticks": ""
             }
            },
            "type": "scatterternary"
           }
          ],
          "surface": [
           {
            "colorbar": {
             "outlinewidth": 0,
             "ticks": ""
            },
            "colorscale": [
             [
              0,
              "#0d0887"
             ],
             [
              0.1111111111111111,
              "#46039f"
             ],
             [
              0.2222222222222222,
              "#7201a8"
             ],
             [
              0.3333333333333333,
              "#9c179e"
             ],
             [
              0.4444444444444444,
              "#bd3786"
             ],
             [
              0.5555555555555556,
              "#d8576b"
             ],
             [
              0.6666666666666666,
              "#ed7953"
             ],
             [
              0.7777777777777778,
              "#fb9f3a"
             ],
             [
              0.8888888888888888,
              "#fdca26"
             ],
             [
              1,
              "#f0f921"
             ]
            ],
            "type": "surface"
           }
          ],
          "table": [
           {
            "cells": {
             "fill": {
              "color": "#EBF0F8"
             },
             "line": {
              "color": "white"
             }
            },
            "header": {
             "fill": {
              "color": "#C8D4E3"
             },
             "line": {
              "color": "white"
             }
            },
            "type": "table"
           }
          ]
         },
         "layout": {
          "annotationdefaults": {
           "arrowcolor": "#2a3f5f",
           "arrowhead": 0,
           "arrowwidth": 1
          },
          "autotypenumbers": "strict",
          "coloraxis": {
           "colorbar": {
            "outlinewidth": 0,
            "ticks": ""
           }
          },
          "colorscale": {
           "diverging": [
            [
             0,
             "#8e0152"
            ],
            [
             0.1,
             "#c51b7d"
            ],
            [
             0.2,
             "#de77ae"
            ],
            [
             0.3,
             "#f1b6da"
            ],
            [
             0.4,
             "#fde0ef"
            ],
            [
             0.5,
             "#f7f7f7"
            ],
            [
             0.6,
             "#e6f5d0"
            ],
            [
             0.7,
             "#b8e186"
            ],
            [
             0.8,
             "#7fbc41"
            ],
            [
             0.9,
             "#4d9221"
            ],
            [
             1,
             "#276419"
            ]
           ],
           "sequential": [
            [
             0,
             "#0d0887"
            ],
            [
             0.1111111111111111,
             "#46039f"
            ],
            [
             0.2222222222222222,
             "#7201a8"
            ],
            [
             0.3333333333333333,
             "#9c179e"
            ],
            [
             0.4444444444444444,
             "#bd3786"
            ],
            [
             0.5555555555555556,
             "#d8576b"
            ],
            [
             0.6666666666666666,
             "#ed7953"
            ],
            [
             0.7777777777777778,
             "#fb9f3a"
            ],
            [
             0.8888888888888888,
             "#fdca26"
            ],
            [
             1,
             "#f0f921"
            ]
           ],
           "sequentialminus": [
            [
             0,
             "#0d0887"
            ],
            [
             0.1111111111111111,
             "#46039f"
            ],
            [
             0.2222222222222222,
             "#7201a8"
            ],
            [
             0.3333333333333333,
             "#9c179e"
            ],
            [
             0.4444444444444444,
             "#bd3786"
            ],
            [
             0.5555555555555556,
             "#d8576b"
            ],
            [
             0.6666666666666666,
             "#ed7953"
            ],
            [
             0.7777777777777778,
             "#fb9f3a"
            ],
            [
             0.8888888888888888,
             "#fdca26"
            ],
            [
             1,
             "#f0f921"
            ]
           ]
          },
          "colorway": [
           "#636efa",
           "#EF553B",
           "#00cc96",
           "#ab63fa",
           "#FFA15A",
           "#19d3f3",
           "#FF6692",
           "#B6E880",
           "#FF97FF",
           "#FECB52"
          ],
          "font": {
           "color": "#2a3f5f"
          },
          "geo": {
           "bgcolor": "white",
           "lakecolor": "white",
           "landcolor": "#E5ECF6",
           "showlakes": true,
           "showland": true,
           "subunitcolor": "white"
          },
          "hoverlabel": {
           "align": "left"
          },
          "hovermode": "closest",
          "mapbox": {
           "style": "light"
          },
          "paper_bgcolor": "white",
          "plot_bgcolor": "#E5ECF6",
          "polar": {
           "angularaxis": {
            "gridcolor": "white",
            "linecolor": "white",
            "ticks": ""
           },
           "bgcolor": "#E5ECF6",
           "radialaxis": {
            "gridcolor": "white",
            "linecolor": "white",
            "ticks": ""
           }
          },
          "scene": {
           "xaxis": {
            "backgroundcolor": "#E5ECF6",
            "gridcolor": "white",
            "gridwidth": 2,
            "linecolor": "white",
            "showbackground": true,
            "ticks": "",
            "zerolinecolor": "white"
           },
           "yaxis": {
            "backgroundcolor": "#E5ECF6",
            "gridcolor": "white",
            "gridwidth": 2,
            "linecolor": "white",
            "showbackground": true,
            "ticks": "",
            "zerolinecolor": "white"
           },
           "zaxis": {
            "backgroundcolor": "#E5ECF6",
            "gridcolor": "white",
            "gridwidth": 2,
            "linecolor": "white",
            "showbackground": true,
            "ticks": "",
            "zerolinecolor": "white"
           }
          },
          "shapedefaults": {
           "line": {
            "color": "#2a3f5f"
           }
          },
          "ternary": {
           "aaxis": {
            "gridcolor": "white",
            "linecolor": "white",
            "ticks": ""
           },
           "baxis": {
            "gridcolor": "white",
            "linecolor": "white",
            "ticks": ""
           },
           "bgcolor": "#E5ECF6",
           "caxis": {
            "gridcolor": "white",
            "linecolor": "white",
            "ticks": ""
           }
          },
          "title": {
           "x": 0.05
          },
          "xaxis": {
           "automargin": true,
           "gridcolor": "white",
           "linecolor": "white",
           "ticks": "",
           "title": {
            "standoff": 15
           },
           "zerolinecolor": "white",
           "zerolinewidth": 2
          },
          "yaxis": {
           "automargin": true,
           "gridcolor": "white",
           "linecolor": "white",
           "ticks": "",
           "title": {
            "standoff": 15
           },
           "zerolinecolor": "white",
           "zerolinewidth": 2
          }
         }
        },
        "title": {
         "text": "model_size"
        },
        "yaxis": {
         "title": {
          "text": "model_size"
         }
        }
       }
      }
     },
     "metadata": {},
     "output_type": "display_data"
    }
   ],
   "source": [
    "make_plots('model_size')"
   ]
  },
  {
   "cell_type": "code",
   "execution_count": 8,
   "metadata": {},
   "outputs": [
    {
     "data": {
      "application/vnd.plotly.v1+json": {
       "config": {
        "plotlyServerURL": "https://plot.ly"
       },
       "data": [
        {
         "name": "Full",
         "type": "box",
         "x": [
          "LogisticRegression",
          "LogisticRegression",
          "LogisticRegression",
          "LogisticRegression",
          "LogisticRegression",
          "LogisticRegression",
          "LogisticRegression",
          "LogisticRegression",
          "LogisticRegression",
          "LogisticRegression",
          "LogisticRegression",
          "LogisticRegression",
          "LogisticRegression",
          "LogisticRegression",
          "LogisticRegression",
          "LogisticRegression",
          "LogisticRegression",
          "LogisticRegression",
          "LogisticRegression",
          "LogisticRegression",
          "SVC",
          "SVC",
          "SVC",
          "SVC",
          "SVC",
          "SVC",
          "SVC",
          "SVC",
          "SVC",
          "SVC",
          "SVC",
          "SVC",
          "SVC",
          "SVC",
          "SVC",
          "SVC",
          "SVC",
          "SVC",
          "SVC",
          "SVC",
          "RandomForestClassifier",
          "RandomForestClassifier",
          "RandomForestClassifier",
          "RandomForestClassifier",
          "RandomForestClassifier",
          "RandomForestClassifier",
          "RandomForestClassifier",
          "RandomForestClassifier",
          "RandomForestClassifier",
          "RandomForestClassifier",
          "RandomForestClassifier",
          "RandomForestClassifier",
          "RandomForestClassifier",
          "RandomForestClassifier",
          "RandomForestClassifier",
          "RandomForestClassifier",
          "RandomForestClassifier",
          "RandomForestClassifier",
          "RandomForestClassifier",
          "RandomForestClassifier",
          "GradientBoostingClassifier",
          "GradientBoostingClassifier",
          "GradientBoostingClassifier",
          "GradientBoostingClassifier",
          "GradientBoostingClassifier",
          "GradientBoostingClassifier",
          "GradientBoostingClassifier",
          "GradientBoostingClassifier",
          "GradientBoostingClassifier",
          "GradientBoostingClassifier",
          "GradientBoostingClassifier",
          "GradientBoostingClassifier",
          "GradientBoostingClassifier",
          "GradientBoostingClassifier",
          "GradientBoostingClassifier",
          "GradientBoostingClassifier",
          "GradientBoostingClassifier",
          "GradientBoostingClassifier",
          "GradientBoostingClassifier",
          "GradientBoostingClassifier",
          "DeepNeuralNetwork",
          "DeepNeuralNetwork",
          "DeepNeuralNetwork",
          "DeepNeuralNetwork",
          "DeepNeuralNetwork",
          "DeepNeuralNetwork",
          "DeepNeuralNetwork",
          "DeepNeuralNetwork",
          "DeepNeuralNetwork",
          "DeepNeuralNetwork",
          "DeepNeuralNetwork",
          "DeepNeuralNetwork",
          "DeepNeuralNetwork",
          "DeepNeuralNetwork",
          "DeepNeuralNetwork",
          "DeepNeuralNetwork",
          "DeepNeuralNetwork",
          "DeepNeuralNetwork",
          "DeepNeuralNetwork",
          "DeepNeuralNetwork"
         ],
         "y": [
          1.464767041734448e-7,
          1.2764729564128906e-7,
          1.8463467518574882e-7,
          1.2781736467783365e-7,
          1.280052596809925e-7,
          1.7022351134687516e-7,
          1.5696725962229506e-7,
          9.838903470118025e-8,
          1.473753038813263e-7,
          2.383690484873604e-7,
          1.0750809308675975e-7,
          1.1251306015211752e-7,
          1.5166875205817158e-7,
          1.8522551138797777e-7,
          1.4248177137503144e-7,
          1.584658306606063e-7,
          1.963170992679009e-7,
          1.3484864969581442e-7,
          1.5166684661210158e-7,
          1.8615330278290434e-7,
          9.783335720692753e-8,
          1.2611409855225325e-7,
          1.1235428237191433e-7,
          1.855847482274721e-7,
          1.3337334230697356e-7,
          1.246993636969465e-7,
          1.324810213086322e-7,
          1.0940426676186653e-7,
          1.0459845998177752e-7,
          1.3622321374433602e-7,
          1.9248279774794838e-7,
          2.818142069633319e-7,
          1.121488466943304e-7,
          1.500175513507573e-7,
          1.6663736955558305e-7,
          2.429040135986955e-7,
          1.2696482701692396e-7,
          1.317541018282936e-7,
          1.7504996258294397e-7,
          1.609431974104996e-7,
          1.6440777132536655e-7,
          1.41100642454383e-7,
          1.3513505890488074e-7,
          7.876992047821038e-8,
          1.6945145008559828e-7,
          1.127375945958898e-7,
          1.6875903069207485e-7,
          1.4140085908566878e-7,
          1.5089922875024912e-7,
          1.2885729442453297e-7,
          1.9055120143687996e-7,
          2.5533118468167894e-7,
          1.1712362880012157e-7,
          1.347430310437523e-7,
          1.697125904906883e-7,
          1.32624123746301e-7,
          2.090730845578665e-7,
          9.834801536156257e-8,
          2.488733778795681e-7,
          8.873866860249768e-8,
          2.164126185657655e-7,
          1.5177613141618108e-7,
          3.2385201455655335e-7,
          2.359783457044854e-7,
          2.0900319721954555e-7,
          1.0813573812621693e-7,
          2.487582279491786e-7,
          4.326435929589544e-7,
          1.0480213163510493e-7,
          2.1080074888673965e-7,
          3.341923589348251e-7,
          9.876934026317904e-8,
          9.814497722469492e-8,
          1.1121110380122799e-7,
          1.575021010100531e-7,
          2.021915371259314e-7,
          1.7160163360533005e-7,
          2.8964034500477374e-7,
          2.015772377161971e-7,
          3.304426526564916e-7,
          3.1567608839747855e-7,
          2.778449754698266e-7,
          2.0748888402105477e-7,
          1.074677431912429e-7,
          1.923108049367876e-7,
          9.312622438299722e-8,
          1.319802075140089e-7,
          1.333215604617773e-7,
          7.831382478563823e-8,
          2.426785594763104e-7,
          8.104716959730397e-8,
          2.245619719241313e-7,
          1.5626330770090928e-7,
          2.129147140551282e-7,
          2.763299215405085e-7,
          1.70665055568525e-7,
          1.0742532464047465e-7,
          8.991720889801706e-8,
          8.765375146210525e-8,
          1.770878319797215e-7
         ]
        },
        {
         "name": "FR",
         "type": "box",
         "x": [
          "LogisticRegression",
          "LogisticRegression",
          "LogisticRegression",
          "LogisticRegression",
          "LogisticRegression",
          "LogisticRegression",
          "LogisticRegression",
          "LogisticRegression",
          "LogisticRegression",
          "LogisticRegression",
          "LogisticRegression",
          "LogisticRegression",
          "LogisticRegression",
          "LogisticRegression",
          "LogisticRegression",
          "LogisticRegression",
          "LogisticRegression",
          "LogisticRegression",
          "LogisticRegression",
          "LogisticRegression",
          "SVC",
          "SVC",
          "SVC",
          "SVC",
          "SVC",
          "SVC",
          "SVC",
          "SVC",
          "SVC",
          "SVC",
          "SVC",
          "SVC",
          "SVC",
          "SVC",
          "SVC",
          "SVC",
          "SVC",
          "SVC",
          "SVC",
          "SVC",
          "RandomForestClassifier",
          "RandomForestClassifier",
          "RandomForestClassifier",
          "RandomForestClassifier",
          "RandomForestClassifier",
          "RandomForestClassifier",
          "RandomForestClassifier",
          "RandomForestClassifier",
          "RandomForestClassifier",
          "RandomForestClassifier",
          "RandomForestClassifier",
          "RandomForestClassifier",
          "RandomForestClassifier",
          "RandomForestClassifier",
          "RandomForestClassifier",
          "RandomForestClassifier",
          "RandomForestClassifier",
          "RandomForestClassifier",
          "RandomForestClassifier",
          "RandomForestClassifier",
          "GradientBoostingClassifier",
          "GradientBoostingClassifier",
          "GradientBoostingClassifier",
          "GradientBoostingClassifier",
          "GradientBoostingClassifier",
          "GradientBoostingClassifier",
          "GradientBoostingClassifier",
          "GradientBoostingClassifier",
          "GradientBoostingClassifier",
          "GradientBoostingClassifier",
          "GradientBoostingClassifier",
          "GradientBoostingClassifier",
          "GradientBoostingClassifier",
          "GradientBoostingClassifier",
          "GradientBoostingClassifier",
          "GradientBoostingClassifier",
          "GradientBoostingClassifier",
          "GradientBoostingClassifier",
          "GradientBoostingClassifier",
          "GradientBoostingClassifier",
          "DeepNeuralNetwork",
          "DeepNeuralNetwork",
          "DeepNeuralNetwork",
          "DeepNeuralNetwork",
          "DeepNeuralNetwork",
          "DeepNeuralNetwork",
          "DeepNeuralNetwork",
          "DeepNeuralNetwork",
          "DeepNeuralNetwork",
          "DeepNeuralNetwork",
          "DeepNeuralNetwork",
          "DeepNeuralNetwork",
          "DeepNeuralNetwork",
          "DeepNeuralNetwork",
          "DeepNeuralNetwork",
          "DeepNeuralNetwork",
          "DeepNeuralNetwork",
          "DeepNeuralNetwork",
          "DeepNeuralNetwork",
          "DeepNeuralNetwork"
         ],
         "y": [
          2.3625311105471454e-7,
          1.229226380228092e-7,
          1.547036272851656e-7,
          9.756279419526233e-8,
          2.403541429069328e-7,
          1.2404947425520565e-7,
          1.022415311881502e-7,
          1.0772775553666465e-7,
          1.23804179907221e-7,
          2.0890457116495668e-7,
          2.2057318723638439e-7,
          1.3738700169380925e-7,
          1.6252775612455794e-7,
          1.9764704838184585e-7,
          1.9165848866233189e-7,
          1.826414690730017e-7,
          2.80072039512665e-7,
          1.3210843869890246e-7,
          1.973639813560805e-7,
          1.687933062115635e-7,
          1.71043418017644e-7,
          1.708759280588928e-7,
          1.491981995456037e-7,
          2.702372526059305e-7,
          1.805615342459835e-7,
          1.319433038389061e-7,
          1.5086341200918309e-7,
          1.3257396796204426e-7,
          1.22278684124141e-7,
          1.7008883911257339e-7,
          1.762955137317099e-7,
          2.0856848584457566e-7,
          1.4044348853499422e-7,
          1.0870906005022372e-7,
          2.4237707004545056e-7,
          2.3511478946733333e-7,
          1.0243083290806601e-7,
          1.0097633311402165e-7,
          2.119968783461084e-7,
          2.775455329076093e-7,
          1.906711816475424e-7,
          1.1772038927470793e-7,
          2.558781090132405e-7,
          1.593466035321265e-7,
          1.86285039500576e-7,
          1.5727053559303798e-7,
          1.4664356148504957e-7,
          1.5239234045982472e-7,
          1.933920033881948e-7,
          8.505396684589489e-8,
          1.5056817531428244e-7,
          2.3641364535411e-7,
          1.204576562398828e-7,
          8.861761660833128e-8,
          1.3211356683379832e-7,
          2.8327821890885944e-7,
          2.917827653166772e-7,
          1.1339294769385085e-7,
          1.0749884451154677e-7,
          1.387293855810174e-7,
          1.914688589268066e-7,
          2.5090257563470733e-7,
          1.1737191811804667e-7,
          3.290243152887992e-7,
          1.2972941370171902e-7,
          1.8474202901730237e-7,
          1.1461117493559089e-7,
          2.1559303527629237e-7,
          2.616116076194653e-7,
          3.018604327034626e-7,
          1.2447278988970446e-7,
          2.495881009879561e-7,
          1.1754641017990529e-7,
          1.9296503329328118e-7,
          2.3259711799390566e-7,
          9.254067392483295e-8,
          1.3269672525574076e-7,
          1.3172662280576397e-7,
          1.0786566633945104e-7,
          1.320433926047405e-7,
          1.843054058667986e-7,
          1.0238861942004405e-7,
          1.1803955993216781e-7,
          1.323497238677222e-7,
          2.125825885547408e-7,
          9.542365256689014e-8,
          1.0820118265340158e-7,
          1.327106804290207e-7,
          1.2209085939712382e-7,
          7.883631729409864e-8,
          1.416134956004015e-7,
          1.338233643522098e-7,
          1.2448505322024649e-7,
          2.6858757869738584e-7,
          1.1766524604867653e-7,
          1.0687384882634988e-7,
          2.432251374636079e-7,
          1.1302019364118308e-7,
          1.0044790167457358e-7,
          2.1133407504612522e-7
         ]
        },
        {
         "name": "SS",
         "type": "box",
         "x": [
          "LogisticRegression",
          "LogisticRegression",
          "LogisticRegression",
          "LogisticRegression",
          "LogisticRegression",
          "LogisticRegression",
          "LogisticRegression",
          "LogisticRegression",
          "LogisticRegression",
          "LogisticRegression",
          "LogisticRegression",
          "LogisticRegression",
          "LogisticRegression",
          "LogisticRegression",
          "LogisticRegression",
          "LogisticRegression",
          "LogisticRegression",
          "LogisticRegression",
          "LogisticRegression",
          "LogisticRegression",
          "SVC",
          "SVC",
          "SVC",
          "SVC",
          "SVC",
          "SVC",
          "SVC",
          "SVC",
          "SVC",
          "SVC",
          "SVC",
          "SVC",
          "SVC",
          "SVC",
          "SVC",
          "SVC",
          "SVC",
          "SVC",
          "SVC",
          "SVC",
          "RandomForestClassifier",
          "RandomForestClassifier",
          "RandomForestClassifier",
          "RandomForestClassifier",
          "RandomForestClassifier",
          "RandomForestClassifier",
          "RandomForestClassifier",
          "RandomForestClassifier",
          "RandomForestClassifier",
          "RandomForestClassifier",
          "RandomForestClassifier",
          "RandomForestClassifier",
          "RandomForestClassifier",
          "RandomForestClassifier",
          "RandomForestClassifier",
          "RandomForestClassifier",
          "RandomForestClassifier",
          "RandomForestClassifier",
          "RandomForestClassifier",
          "RandomForestClassifier",
          "GradientBoostingClassifier",
          "GradientBoostingClassifier",
          "GradientBoostingClassifier",
          "GradientBoostingClassifier",
          "GradientBoostingClassifier",
          "GradientBoostingClassifier",
          "GradientBoostingClassifier",
          "GradientBoostingClassifier",
          "GradientBoostingClassifier",
          "GradientBoostingClassifier",
          "GradientBoostingClassifier",
          "GradientBoostingClassifier",
          "GradientBoostingClassifier",
          "GradientBoostingClassifier",
          "GradientBoostingClassifier",
          "GradientBoostingClassifier",
          "GradientBoostingClassifier",
          "GradientBoostingClassifier",
          "GradientBoostingClassifier",
          "GradientBoostingClassifier",
          "DeepNeuralNetwork",
          "DeepNeuralNetwork",
          "DeepNeuralNetwork",
          "DeepNeuralNetwork",
          "DeepNeuralNetwork",
          "DeepNeuralNetwork",
          "DeepNeuralNetwork",
          "DeepNeuralNetwork",
          "DeepNeuralNetwork",
          "DeepNeuralNetwork",
          "DeepNeuralNetwork",
          "DeepNeuralNetwork",
          "DeepNeuralNetwork",
          "DeepNeuralNetwork",
          "DeepNeuralNetwork",
          "DeepNeuralNetwork",
          "DeepNeuralNetwork",
          "DeepNeuralNetwork",
          "DeepNeuralNetwork",
          "DeepNeuralNetwork"
         ],
         "y": [
          9.786505769508216e-8,
          1.660669765124554e-7,
          9.1577516758614e-8,
          1.0201049883084257e-7,
          1.6610220504912308e-7,
          1.5543261570232297e-7,
          2.1253965958186426e-7,
          1.6708817230618077e-7,
          1.7198063620633457e-7,
          1.6363472283924786e-7,
          1.658003281491266e-7,
          2.0594446263448585e-7,
          1.724286816597205e-7,
          1.565819415143624e-7,
          1.2900895665461656e-7,
          1.7132923210553579e-7,
          1.474695861052814e-7,
          1.2030637051548346e-7,
          1.1276392522996045e-7,
          1.517511405400591e-7,
          2.371658187694595e-7,
          2.2566134701444349e-7,
          1.872832846507456e-7,
          2.471200490426328e-7,
          2.601549412512092e-7,
          1.2766360363096994e-7,
          1.5285711816919944e-7,
          1.5258164968458797e-7,
          2.421750586610507e-7,
          1.1217610032488932e-7,
          1.836464238352039e-7,
          1.3737268184793594e-7,
          1.2288652747401325e-7,
          1.0732528090600173e-7,
          2.814641508711458e-7,
          1.0566031030168933e-7,
          1.2754670741647357e-7,
          1.3431221657696918e-7,
          1.8126442579585213e-7,
          1.8920521444943173e-7,
          1.1274465069291593e-7,
          1.379388020656975e-7,
          1.488611133062569e-7,
          9.822249371314873e-8,
          1.1046449866739147e-7,
          1.63937269183562e-7,
          1.5886354196937086e-7,
          1.3689714090429038e-7,
          1.511563566579735e-7,
          1.3007322961994597e-7,
          1.123998197146911e-7,
          1.27094933627522e-7,
          1.5691335990383921e-7,
          1.32901962928084e-7,
          1.4527506776566316e-7,
          1.3233131993146965e-7,
          1.3450821781456172e-7,
          1.425493037551101e-7,
          1.46572717811674e-7,
          9.814236739762693e-8,
          1.5694534323627138e-7,
          1.2212255988517005e-7,
          1.227331530274066e-7,
          2.2118417043683235e-7,
          2.0092991970645585e-7,
          3.501773337116071e-7,
          1.028407988661658e-7,
          1.38663342755729e-7,
          1.215809351316592e-7,
          1.716678963634144e-7,
          1.8325573573202414e-7,
          2.1595855501273242e-7,
          8.272030170152107e-8,
          1.0689456687667209e-7,
          1.21576007872104e-7,
          9.77424649271138e-8,
          1.0754088942705604e-7,
          3.2032517508872975e-7,
          1.2089695271776633e-7,
          2.486964905592387e-7,
          2.1133558956477894e-7,
          1.2633217274897468e-7,
          2.300220782064941e-7,
          1.8371042397958079e-7,
          1.067451121349039e-7,
          2.3413519820636094e-7,
          6.898396173792096e-8,
          1.0320278377772084e-7,
          2.417519706045994e-7,
          1.1182306686239979e-7,
          1.272203958227339e-7,
          2.2367720862342174e-7,
          1.4183401077076142e-7,
          7.830325160387669e-8,
          7.759532426364693e-8,
          2.2708176891726286e-7,
          1.8157421527854704e-7,
          9.942130586523565e-8,
          7.784262016788737e-8,
          1.117811060573435e-7
         ]
        },
        {
         "name": "SS & FR",
         "type": "box",
         "x": [
          "LogisticRegression",
          "LogisticRegression",
          "LogisticRegression",
          "LogisticRegression",
          "LogisticRegression",
          "LogisticRegression",
          "LogisticRegression",
          "LogisticRegression",
          "LogisticRegression",
          "LogisticRegression",
          "LogisticRegression",
          "LogisticRegression",
          "LogisticRegression",
          "LogisticRegression",
          "LogisticRegression",
          "LogisticRegression",
          "LogisticRegression",
          "LogisticRegression",
          "LogisticRegression",
          "LogisticRegression",
          "SVC",
          "SVC",
          "SVC",
          "SVC",
          "SVC",
          "SVC",
          "SVC",
          "SVC",
          "SVC",
          "SVC",
          "SVC",
          "SVC",
          "SVC",
          "SVC",
          "SVC",
          "SVC",
          "SVC",
          "SVC",
          "SVC",
          "SVC",
          "RandomForestClassifier",
          "RandomForestClassifier",
          "RandomForestClassifier",
          "RandomForestClassifier",
          "RandomForestClassifier",
          "RandomForestClassifier",
          "RandomForestClassifier",
          "RandomForestClassifier",
          "RandomForestClassifier",
          "RandomForestClassifier",
          "RandomForestClassifier",
          "RandomForestClassifier",
          "RandomForestClassifier",
          "RandomForestClassifier",
          "RandomForestClassifier",
          "RandomForestClassifier",
          "RandomForestClassifier",
          "RandomForestClassifier",
          "RandomForestClassifier",
          "RandomForestClassifier",
          "GradientBoostingClassifier",
          "GradientBoostingClassifier",
          "GradientBoostingClassifier",
          "GradientBoostingClassifier",
          "GradientBoostingClassifier",
          "GradientBoostingClassifier",
          "GradientBoostingClassifier",
          "GradientBoostingClassifier",
          "GradientBoostingClassifier",
          "GradientBoostingClassifier",
          "GradientBoostingClassifier",
          "GradientBoostingClassifier",
          "GradientBoostingClassifier",
          "GradientBoostingClassifier",
          "GradientBoostingClassifier",
          "GradientBoostingClassifier",
          "GradientBoostingClassifier",
          "GradientBoostingClassifier",
          "GradientBoostingClassifier",
          "GradientBoostingClassifier",
          "DeepNeuralNetwork",
          "DeepNeuralNetwork",
          "DeepNeuralNetwork",
          "DeepNeuralNetwork",
          "DeepNeuralNetwork",
          "DeepNeuralNetwork",
          "DeepNeuralNetwork",
          "DeepNeuralNetwork",
          "DeepNeuralNetwork",
          "DeepNeuralNetwork",
          "DeepNeuralNetwork",
          "DeepNeuralNetwork",
          "DeepNeuralNetwork",
          "DeepNeuralNetwork",
          "DeepNeuralNetwork",
          "DeepNeuralNetwork",
          "DeepNeuralNetwork",
          "DeepNeuralNetwork",
          "DeepNeuralNetwork",
          "DeepNeuralNetwork"
         ],
         "y": [
          2.101680161084585e-7,
          1.4154396152333756e-7,
          2.1406566333881562e-7,
          1.7834661749749177e-7,
          1.415776302291817e-7,
          1.5143154561596608e-7,
          1.9671628770996825e-7,
          1.397373696617691e-7,
          1.445429011026449e-7,
          1.4279600726776337e-7,
          1.514941800285965e-7,
          1.2830543951575758e-7,
          9.71719346491446e-8,
          1.7087532889104202e-7,
          1.7118027190697604e-7,
          1.0547707053718165e-7,
          1.9187631349407158e-7,
          1.2714354877848937e-7,
          2.0201889232946899e-7,
          1.5962012890374973e-7,
          1.425818820682042e-7,
          1.472063997011875e-7,
          1.269697358077457e-7,
          1.284072648740156e-7,
          1.9106652571795722e-7,
          1.6404750627645358e-7,
          1.275355731810129e-7,
          1.1815117358007084e-7,
          1.3703286341629553e-7,
          1.4215487849421164e-7,
          1.4157791726086488e-7,
          1.3234494899397493e-7,
          1.1708024626861345e-7,
          1.2280265781214677e-7,
          1.4923857873279378e-7,
          1.2225284558449977e-7,
          1.1935924513063574e-7,
          1.1179645757145724e-7,
          2.4189867136713977e-7,
          1.814236024568535e-7,
          2.2139028047472346e-7,
          1.6697274357818997e-7,
          1.4533670053031025e-7,
          1.1242929092792135e-7,
          9.712370682680127e-8,
          9.86196018076032e-8,
          1.7666406610457493e-7,
          1.3507964857382634e-7,
          9.269772116007532e-8,
          1.6277364458367437e-7,
          1.6377916503464848e-7,
          1.1786832603954273e-7,
          1.3260422825479674e-7,
          1.1348683913036013e-7,
          1.6005360023007428e-7,
          1.226168053493869e-7,
          9.445283940699364e-8,
          1.7825836374921539e-7,
          9.77749394848789e-8,
          9.047827890292652e-8,
          2.442321950890496e-7,
          2.500579918220981e-7,
          9.349720012986377e-8,
          1.541324936517232e-7,
          2.0386926169696333e-7,
          1.175152657332916e-7,
          2.067484219411657e-7,
          9.318140094748649e-8,
          1.370848091988234e-7,
          1.8409164835066216e-7,
          1.0673328448211444e-7,
          2.3560968272955465e-7,
          1.3688919529007172e-7,
          2.283942750649741e-7,
          3.545928783745857e-7,
          2.780390822246931e-7,
          9.297049497814827e-8,
          2.405755243502748e-7,
          1.914563208451226e-7,
          2.115658814727181e-7,
          2.3136398874946522e-7,
          2.723794657132463e-7,
          2.412133750286918e-7,
          9.498821634086e-8,
          1.7548441217187828e-7,
          2.168508350262801e-7,
          1.1228216921705705e-7,
          9.329905203362548e-8,
          1.327085967634239e-7,
          1.050862184961282e-7,
          2.506622065454913e-7,
          1.5727813486320942e-7,
          1.1248806595812005e-7,
          6.840036867418117e-8,
          2.959271535854426e-7,
          1.2158813669739185e-7,
          2.303727450185967e-7,
          1.4072230597938706e-7,
          1.028143836740835e-7,
          1.4028207222347054e-7
         ]
        }
       ],
       "layout": {
        "boxmode": "group",
        "template": {
         "data": {
          "bar": [
           {
            "error_x": {
             "color": "#2a3f5f"
            },
            "error_y": {
             "color": "#2a3f5f"
            },
            "marker": {
             "line": {
              "color": "#E5ECF6",
              "width": 0.5
             },
             "pattern": {
              "fillmode": "overlay",
              "size": 10,
              "solidity": 0.2
             }
            },
            "type": "bar"
           }
          ],
          "barpolar": [
           {
            "marker": {
             "line": {
              "color": "#E5ECF6",
              "width": 0.5
             },
             "pattern": {
              "fillmode": "overlay",
              "size": 10,
              "solidity": 0.2
             }
            },
            "type": "barpolar"
           }
          ],
          "carpet": [
           {
            "aaxis": {
             "endlinecolor": "#2a3f5f",
             "gridcolor": "white",
             "linecolor": "white",
             "minorgridcolor": "white",
             "startlinecolor": "#2a3f5f"
            },
            "baxis": {
             "endlinecolor": "#2a3f5f",
             "gridcolor": "white",
             "linecolor": "white",
             "minorgridcolor": "white",
             "startlinecolor": "#2a3f5f"
            },
            "type": "carpet"
           }
          ],
          "choropleth": [
           {
            "colorbar": {
             "outlinewidth": 0,
             "ticks": ""
            },
            "type": "choropleth"
           }
          ],
          "contour": [
           {
            "colorbar": {
             "outlinewidth": 0,
             "ticks": ""
            },
            "colorscale": [
             [
              0,
              "#0d0887"
             ],
             [
              0.1111111111111111,
              "#46039f"
             ],
             [
              0.2222222222222222,
              "#7201a8"
             ],
             [
              0.3333333333333333,
              "#9c179e"
             ],
             [
              0.4444444444444444,
              "#bd3786"
             ],
             [
              0.5555555555555556,
              "#d8576b"
             ],
             [
              0.6666666666666666,
              "#ed7953"
             ],
             [
              0.7777777777777778,
              "#fb9f3a"
             ],
             [
              0.8888888888888888,
              "#fdca26"
             ],
             [
              1,
              "#f0f921"
             ]
            ],
            "type": "contour"
           }
          ],
          "contourcarpet": [
           {
            "colorbar": {
             "outlinewidth": 0,
             "ticks": ""
            },
            "type": "contourcarpet"
           }
          ],
          "heatmap": [
           {
            "colorbar": {
             "outlinewidth": 0,
             "ticks": ""
            },
            "colorscale": [
             [
              0,
              "#0d0887"
             ],
             [
              0.1111111111111111,
              "#46039f"
             ],
             [
              0.2222222222222222,
              "#7201a8"
             ],
             [
              0.3333333333333333,
              "#9c179e"
             ],
             [
              0.4444444444444444,
              "#bd3786"
             ],
             [
              0.5555555555555556,
              "#d8576b"
             ],
             [
              0.6666666666666666,
              "#ed7953"
             ],
             [
              0.7777777777777778,
              "#fb9f3a"
             ],
             [
              0.8888888888888888,
              "#fdca26"
             ],
             [
              1,
              "#f0f921"
             ]
            ],
            "type": "heatmap"
           }
          ],
          "heatmapgl": [
           {
            "colorbar": {
             "outlinewidth": 0,
             "ticks": ""
            },
            "colorscale": [
             [
              0,
              "#0d0887"
             ],
             [
              0.1111111111111111,
              "#46039f"
             ],
             [
              0.2222222222222222,
              "#7201a8"
             ],
             [
              0.3333333333333333,
              "#9c179e"
             ],
             [
              0.4444444444444444,
              "#bd3786"
             ],
             [
              0.5555555555555556,
              "#d8576b"
             ],
             [
              0.6666666666666666,
              "#ed7953"
             ],
             [
              0.7777777777777778,
              "#fb9f3a"
             ],
             [
              0.8888888888888888,
              "#fdca26"
             ],
             [
              1,
              "#f0f921"
             ]
            ],
            "type": "heatmapgl"
           }
          ],
          "histogram": [
           {
            "marker": {
             "pattern": {
              "fillmode": "overlay",
              "size": 10,
              "solidity": 0.2
             }
            },
            "type": "histogram"
           }
          ],
          "histogram2d": [
           {
            "colorbar": {
             "outlinewidth": 0,
             "ticks": ""
            },
            "colorscale": [
             [
              0,
              "#0d0887"
             ],
             [
              0.1111111111111111,
              "#46039f"
             ],
             [
              0.2222222222222222,
              "#7201a8"
             ],
             [
              0.3333333333333333,
              "#9c179e"
             ],
             [
              0.4444444444444444,
              "#bd3786"
             ],
             [
              0.5555555555555556,
              "#d8576b"
             ],
             [
              0.6666666666666666,
              "#ed7953"
             ],
             [
              0.7777777777777778,
              "#fb9f3a"
             ],
             [
              0.8888888888888888,
              "#fdca26"
             ],
             [
              1,
              "#f0f921"
             ]
            ],
            "type": "histogram2d"
           }
          ],
          "histogram2dcontour": [
           {
            "colorbar": {
             "outlinewidth": 0,
             "ticks": ""
            },
            "colorscale": [
             [
              0,
              "#0d0887"
             ],
             [
              0.1111111111111111,
              "#46039f"
             ],
             [
              0.2222222222222222,
              "#7201a8"
             ],
             [
              0.3333333333333333,
              "#9c179e"
             ],
             [
              0.4444444444444444,
              "#bd3786"
             ],
             [
              0.5555555555555556,
              "#d8576b"
             ],
             [
              0.6666666666666666,
              "#ed7953"
             ],
             [
              0.7777777777777778,
              "#fb9f3a"
             ],
             [
              0.8888888888888888,
              "#fdca26"
             ],
             [
              1,
              "#f0f921"
             ]
            ],
            "type": "histogram2dcontour"
           }
          ],
          "mesh3d": [
           {
            "colorbar": {
             "outlinewidth": 0,
             "ticks": ""
            },
            "type": "mesh3d"
           }
          ],
          "parcoords": [
           {
            "line": {
             "colorbar": {
              "outlinewidth": 0,
              "ticks": ""
             }
            },
            "type": "parcoords"
           }
          ],
          "pie": [
           {
            "automargin": true,
            "type": "pie"
           }
          ],
          "scatter": [
           {
            "fillpattern": {
             "fillmode": "overlay",
             "size": 10,
             "solidity": 0.2
            },
            "type": "scatter"
           }
          ],
          "scatter3d": [
           {
            "line": {
             "colorbar": {
              "outlinewidth": 0,
              "ticks": ""
             }
            },
            "marker": {
             "colorbar": {
              "outlinewidth": 0,
              "ticks": ""
             }
            },
            "type": "scatter3d"
           }
          ],
          "scattercarpet": [
           {
            "marker": {
             "colorbar": {
              "outlinewidth": 0,
              "ticks": ""
             }
            },
            "type": "scattercarpet"
           }
          ],
          "scattergeo": [
           {
            "marker": {
             "colorbar": {
              "outlinewidth": 0,
              "ticks": ""
             }
            },
            "type": "scattergeo"
           }
          ],
          "scattergl": [
           {
            "marker": {
             "colorbar": {
              "outlinewidth": 0,
              "ticks": ""
             }
            },
            "type": "scattergl"
           }
          ],
          "scattermapbox": [
           {
            "marker": {
             "colorbar": {
              "outlinewidth": 0,
              "ticks": ""
             }
            },
            "type": "scattermapbox"
           }
          ],
          "scatterpolar": [
           {
            "marker": {
             "colorbar": {
              "outlinewidth": 0,
              "ticks": ""
             }
            },
            "type": "scatterpolar"
           }
          ],
          "scatterpolargl": [
           {
            "marker": {
             "colorbar": {
              "outlinewidth": 0,
              "ticks": ""
             }
            },
            "type": "scatterpolargl"
           }
          ],
          "scatterternary": [
           {
            "marker": {
             "colorbar": {
              "outlinewidth": 0,
              "ticks": ""
             }
            },
            "type": "scatterternary"
           }
          ],
          "surface": [
           {
            "colorbar": {
             "outlinewidth": 0,
             "ticks": ""
            },
            "colorscale": [
             [
              0,
              "#0d0887"
             ],
             [
              0.1111111111111111,
              "#46039f"
             ],
             [
              0.2222222222222222,
              "#7201a8"
             ],
             [
              0.3333333333333333,
              "#9c179e"
             ],
             [
              0.4444444444444444,
              "#bd3786"
             ],
             [
              0.5555555555555556,
              "#d8576b"
             ],
             [
              0.6666666666666666,
              "#ed7953"
             ],
             [
              0.7777777777777778,
              "#fb9f3a"
             ],
             [
              0.8888888888888888,
              "#fdca26"
             ],
             [
              1,
              "#f0f921"
             ]
            ],
            "type": "surface"
           }
          ],
          "table": [
           {
            "cells": {
             "fill": {
              "color": "#EBF0F8"
             },
             "line": {
              "color": "white"
             }
            },
            "header": {
             "fill": {
              "color": "#C8D4E3"
             },
             "line": {
              "color": "white"
             }
            },
            "type": "table"
           }
          ]
         },
         "layout": {
          "annotationdefaults": {
           "arrowcolor": "#2a3f5f",
           "arrowhead": 0,
           "arrowwidth": 1
          },
          "autotypenumbers": "strict",
          "coloraxis": {
           "colorbar": {
            "outlinewidth": 0,
            "ticks": ""
           }
          },
          "colorscale": {
           "diverging": [
            [
             0,
             "#8e0152"
            ],
            [
             0.1,
             "#c51b7d"
            ],
            [
             0.2,
             "#de77ae"
            ],
            [
             0.3,
             "#f1b6da"
            ],
            [
             0.4,
             "#fde0ef"
            ],
            [
             0.5,
             "#f7f7f7"
            ],
            [
             0.6,
             "#e6f5d0"
            ],
            [
             0.7,
             "#b8e186"
            ],
            [
             0.8,
             "#7fbc41"
            ],
            [
             0.9,
             "#4d9221"
            ],
            [
             1,
             "#276419"
            ]
           ],
           "sequential": [
            [
             0,
             "#0d0887"
            ],
            [
             0.1111111111111111,
             "#46039f"
            ],
            [
             0.2222222222222222,
             "#7201a8"
            ],
            [
             0.3333333333333333,
             "#9c179e"
            ],
            [
             0.4444444444444444,
             "#bd3786"
            ],
            [
             0.5555555555555556,
             "#d8576b"
            ],
            [
             0.6666666666666666,
             "#ed7953"
            ],
            [
             0.7777777777777778,
             "#fb9f3a"
            ],
            [
             0.8888888888888888,
             "#fdca26"
            ],
            [
             1,
             "#f0f921"
            ]
           ],
           "sequentialminus": [
            [
             0,
             "#0d0887"
            ],
            [
             0.1111111111111111,
             "#46039f"
            ],
            [
             0.2222222222222222,
             "#7201a8"
            ],
            [
             0.3333333333333333,
             "#9c179e"
            ],
            [
             0.4444444444444444,
             "#bd3786"
            ],
            [
             0.5555555555555556,
             "#d8576b"
            ],
            [
             0.6666666666666666,
             "#ed7953"
            ],
            [
             0.7777777777777778,
             "#fb9f3a"
            ],
            [
             0.8888888888888888,
             "#fdca26"
            ],
            [
             1,
             "#f0f921"
            ]
           ]
          },
          "colorway": [
           "#636efa",
           "#EF553B",
           "#00cc96",
           "#ab63fa",
           "#FFA15A",
           "#19d3f3",
           "#FF6692",
           "#B6E880",
           "#FF97FF",
           "#FECB52"
          ],
          "font": {
           "color": "#2a3f5f"
          },
          "geo": {
           "bgcolor": "white",
           "lakecolor": "white",
           "landcolor": "#E5ECF6",
           "showlakes": true,
           "showland": true,
           "subunitcolor": "white"
          },
          "hoverlabel": {
           "align": "left"
          },
          "hovermode": "closest",
          "mapbox": {
           "style": "light"
          },
          "paper_bgcolor": "white",
          "plot_bgcolor": "#E5ECF6",
          "polar": {
           "angularaxis": {
            "gridcolor": "white",
            "linecolor": "white",
            "ticks": ""
           },
           "bgcolor": "#E5ECF6",
           "radialaxis": {
            "gridcolor": "white",
            "linecolor": "white",
            "ticks": ""
           }
          },
          "scene": {
           "xaxis": {
            "backgroundcolor": "#E5ECF6",
            "gridcolor": "white",
            "gridwidth": 2,
            "linecolor": "white",
            "showbackground": true,
            "ticks": "",
            "zerolinecolor": "white"
           },
           "yaxis": {
            "backgroundcolor": "#E5ECF6",
            "gridcolor": "white",
            "gridwidth": 2,
            "linecolor": "white",
            "showbackground": true,
            "ticks": "",
            "zerolinecolor": "white"
           },
           "zaxis": {
            "backgroundcolor": "#E5ECF6",
            "gridcolor": "white",
            "gridwidth": 2,
            "linecolor": "white",
            "showbackground": true,
            "ticks": "",
            "zerolinecolor": "white"
           }
          },
          "shapedefaults": {
           "line": {
            "color": "#2a3f5f"
           }
          },
          "ternary": {
           "aaxis": {
            "gridcolor": "white",
            "linecolor": "white",
            "ticks": ""
           },
           "baxis": {
            "gridcolor": "white",
            "linecolor": "white",
            "ticks": ""
           },
           "bgcolor": "#E5ECF6",
           "caxis": {
            "gridcolor": "white",
            "linecolor": "white",
            "ticks": ""
           }
          },
          "title": {
           "x": 0.05
          },
          "xaxis": {
           "automargin": true,
           "gridcolor": "white",
           "linecolor": "white",
           "ticks": "",
           "title": {
            "standoff": 15
           },
           "zerolinecolor": "white",
           "zerolinewidth": 2
          },
          "yaxis": {
           "automargin": true,
           "gridcolor": "white",
           "linecolor": "white",
           "ticks": "",
           "title": {
            "standoff": 15
           },
           "zerolinecolor": "white",
           "zerolinewidth": 2
          }
         }
        },
        "title": {
         "text": "emissions_prep"
        },
        "yaxis": {
         "title": {
          "text": "emissions_prep"
         }
        }
       }
      }
     },
     "metadata": {},
     "output_type": "display_data"
    },
    {
     "data": {
      "application/vnd.plotly.v1+json": {
       "config": {
        "plotlyServerURL": "https://plot.ly"
       },
       "data": [
        {
         "name": "Full",
         "type": "box",
         "x": [
          "LogisticRegression",
          "LogisticRegression",
          "LogisticRegression",
          "LogisticRegression",
          "LogisticRegression",
          "LogisticRegression",
          "LogisticRegression",
          "LogisticRegression",
          "LogisticRegression",
          "LogisticRegression",
          "LogisticRegression",
          "LogisticRegression",
          "LogisticRegression",
          "LogisticRegression",
          "LogisticRegression",
          "LogisticRegression",
          "LogisticRegression",
          "LogisticRegression",
          "LogisticRegression",
          "LogisticRegression",
          "SVC",
          "SVC",
          "SVC",
          "SVC",
          "SVC",
          "SVC",
          "SVC",
          "SVC",
          "SVC",
          "SVC",
          "SVC",
          "SVC",
          "SVC",
          "SVC",
          "SVC",
          "SVC",
          "SVC",
          "SVC",
          "SVC",
          "SVC",
          "RandomForestClassifier",
          "RandomForestClassifier",
          "RandomForestClassifier",
          "RandomForestClassifier",
          "RandomForestClassifier",
          "RandomForestClassifier",
          "RandomForestClassifier",
          "RandomForestClassifier",
          "RandomForestClassifier",
          "RandomForestClassifier",
          "RandomForestClassifier",
          "RandomForestClassifier",
          "RandomForestClassifier",
          "RandomForestClassifier",
          "RandomForestClassifier",
          "RandomForestClassifier",
          "RandomForestClassifier",
          "RandomForestClassifier",
          "RandomForestClassifier",
          "RandomForestClassifier",
          "GradientBoostingClassifier",
          "GradientBoostingClassifier",
          "GradientBoostingClassifier",
          "GradientBoostingClassifier",
          "GradientBoostingClassifier",
          "GradientBoostingClassifier",
          "GradientBoostingClassifier",
          "GradientBoostingClassifier",
          "GradientBoostingClassifier",
          "GradientBoostingClassifier",
          "GradientBoostingClassifier",
          "GradientBoostingClassifier",
          "GradientBoostingClassifier",
          "GradientBoostingClassifier",
          "GradientBoostingClassifier",
          "GradientBoostingClassifier",
          "GradientBoostingClassifier",
          "GradientBoostingClassifier",
          "GradientBoostingClassifier",
          "GradientBoostingClassifier",
          "DeepNeuralNetwork",
          "DeepNeuralNetwork",
          "DeepNeuralNetwork",
          "DeepNeuralNetwork",
          "DeepNeuralNetwork",
          "DeepNeuralNetwork",
          "DeepNeuralNetwork",
          "DeepNeuralNetwork",
          "DeepNeuralNetwork",
          "DeepNeuralNetwork",
          "DeepNeuralNetwork",
          "DeepNeuralNetwork",
          "DeepNeuralNetwork",
          "DeepNeuralNetwork",
          "DeepNeuralNetwork",
          "DeepNeuralNetwork",
          "DeepNeuralNetwork",
          "DeepNeuralNetwork",
          "DeepNeuralNetwork",
          "DeepNeuralNetwork"
         ],
         "y": [
          5.359736916809611e-8,
          4.3983813364676875e-8,
          4.405633791722957e-8,
          3.925678836690094e-8,
          3.4620697502828895e-8,
          3.8508176479577084e-8,
          4.825812510863246e-8,
          3.9173026648202734e-8,
          3.4734853431462466e-8,
          3.85082099588728e-8,
          3.4194360054844864e-8,
          3.4266052261269775e-8,
          4.819540108170518e-8,
          2.9328754810615396e-8,
          4.0990310597828136e-8,
          2.8723840341405432e-8,
          4.3978059358681244e-8,
          4.4198775404598676e-8,
          4.106902210389112e-8,
          3.8485344602129385e-8,
          1.7844127138118109e-7,
          2.0542115507270545e-7,
          9.068308525102264e-8,
          9.82352326701734e-8,
          1.0453365228914499e-7,
          1.2700828401230466e-7,
          9.304241071605297e-8,
          1.227906217787355e-7,
          1.0259846847603637e-7,
          8.79923004121555e-8,
          9.861790892934374e-8,
          1.519035283498952e-7,
          1.2213752479946045e-7,
          1.3190258640080436e-7,
          1.2956211791251802e-7,
          1.376743796594176e-7,
          1.18970454239661e-7,
          1.1375754775189499e-7,
          1.4636996164955378e-7,
          1.1958981510715866e-7,
          0.0000011984872485355704,
          0.0000011560624516022532,
          0.000001272039512897373,
          0.000001206017781022221,
          0.0000010952805759431236,
          0.0000012183722481573078,
          0.0000012307851478838422,
          0.000001190479481779456,
          0.0000012064417887573935,
          0.0000010991887992254509,
          0.000001125879752695647,
          0.0000012496917425805758,
          0.0000011640025749984871,
          9.73617995060974e-7,
          0.0000011429522421596734,
          0.0000012075180709125897,
          0.0000011912357531192793,
          0.0000011779744312555122,
          0.000001202962515479706,
          0.000001341056090614981,
          5.891213163496025e-7,
          6.723539577376415e-7,
          5.397701009076609e-7,
          6.284144089168178e-7,
          6.795119893018235e-7,
          6.123653593912738e-7,
          6.820121278877829e-7,
          7.90649026293725e-7,
          6.134227026719126e-7,
          6.24523825288768e-7,
          6.613152829391868e-7,
          7.094569642602643e-7,
          6.952130704475628e-7,
          6.142823708930704e-7,
          7.929580620570989e-7,
          7.787856448461614e-7,
          6.707977095675964e-7,
          6.121569205101013e-7,
          6.435547841420614e-7,
          5.9532899216873e-7,
          0.000007832596436792467,
          0.000006031971313077479,
          0.000005986872519556097,
          0.000005023387375504228,
          0.0000035812471173308352,
          0.0000035365801439704624,
          0.000003679131070327799,
          0.000003628949409970224,
          0.000003657452493281352,
          0.00000366793482445922,
          0.000005906506321523195,
          0.0000036975047045476736,
          0.000003695397479293468,
          0.0000037412171766439952,
          0.000003647447400113011,
          0.0000037513325588534735,
          0.0000037502559440471617,
          0.000003830614219569434,
          0.000003907983774985345,
          0.00000368877177600634
         ]
        },
        {
         "name": "FR",
         "type": "box",
         "x": [
          "LogisticRegression",
          "LogisticRegression",
          "LogisticRegression",
          "LogisticRegression",
          "LogisticRegression",
          "LogisticRegression",
          "LogisticRegression",
          "LogisticRegression",
          "LogisticRegression",
          "LogisticRegression",
          "LogisticRegression",
          "LogisticRegression",
          "LogisticRegression",
          "LogisticRegression",
          "LogisticRegression",
          "LogisticRegression",
          "LogisticRegression",
          "LogisticRegression",
          "LogisticRegression",
          "LogisticRegression",
          "SVC",
          "SVC",
          "SVC",
          "SVC",
          "SVC",
          "SVC",
          "SVC",
          "SVC",
          "SVC",
          "SVC",
          "SVC",
          "SVC",
          "SVC",
          "SVC",
          "SVC",
          "SVC",
          "SVC",
          "SVC",
          "SVC",
          "SVC",
          "RandomForestClassifier",
          "RandomForestClassifier",
          "RandomForestClassifier",
          "RandomForestClassifier",
          "RandomForestClassifier",
          "RandomForestClassifier",
          "RandomForestClassifier",
          "RandomForestClassifier",
          "RandomForestClassifier",
          "RandomForestClassifier",
          "RandomForestClassifier",
          "RandomForestClassifier",
          "RandomForestClassifier",
          "RandomForestClassifier",
          "RandomForestClassifier",
          "RandomForestClassifier",
          "RandomForestClassifier",
          "RandomForestClassifier",
          "RandomForestClassifier",
          "RandomForestClassifier",
          "GradientBoostingClassifier",
          "GradientBoostingClassifier",
          "GradientBoostingClassifier",
          "GradientBoostingClassifier",
          "GradientBoostingClassifier",
          "GradientBoostingClassifier",
          "GradientBoostingClassifier",
          "GradientBoostingClassifier",
          "GradientBoostingClassifier",
          "GradientBoostingClassifier",
          "GradientBoostingClassifier",
          "GradientBoostingClassifier",
          "GradientBoostingClassifier",
          "GradientBoostingClassifier",
          "GradientBoostingClassifier",
          "GradientBoostingClassifier",
          "GradientBoostingClassifier",
          "GradientBoostingClassifier",
          "GradientBoostingClassifier",
          "GradientBoostingClassifier",
          "DeepNeuralNetwork",
          "DeepNeuralNetwork",
          "DeepNeuralNetwork",
          "DeepNeuralNetwork",
          "DeepNeuralNetwork",
          "DeepNeuralNetwork",
          "DeepNeuralNetwork",
          "DeepNeuralNetwork",
          "DeepNeuralNetwork",
          "DeepNeuralNetwork",
          "DeepNeuralNetwork",
          "DeepNeuralNetwork",
          "DeepNeuralNetwork",
          "DeepNeuralNetwork",
          "DeepNeuralNetwork",
          "DeepNeuralNetwork",
          "DeepNeuralNetwork",
          "DeepNeuralNetwork",
          "DeepNeuralNetwork",
          "DeepNeuralNetwork"
         ],
         "y": [
          3.425256520929974e-8,
          3.3616270762697193e-8,
          3.937902728532415e-8,
          3.8494797370341664e-8,
          2.9282160554167453e-8,
          4.3388467111694924e-8,
          2.6325966671816164e-8,
          4.3389382603118906e-8,
          3.3051102833314e-8,
          3.899554420626512e-8,
          4.9011504364747736e-8,
          5.201048405910173e-8,
          3.359685899059425e-8,
          3.3607059854185585e-8,
          5.256714819034184e-8,
          3.8751180641291925e-8,
          4.337710139169781e-8,
          1.9477056558726835e-8,
          3.906324730069792e-8,
          3.849169358835329e-8,
          1.0769873456419057e-7,
          1.2163323403514836e-7,
          9.270124920858838e-8,
          9.763543955937892e-8,
          1.0239923704477052e-7,
          1.051277960190198e-7,
          9.818614012829277e-8,
          1.6384949379113885e-7,
          1.120521268146123e-7,
          1.171858239358819e-7,
          1.1983791164309546e-7,
          1.418241187258959e-7,
          8.343117293254168e-8,
          1.796793061687157e-7,
          1.219092162600688e-7,
          8.777976433530997e-8,
          1.4351696678489324e-7,
          1.073576475203817e-7,
          1.0826983803599589e-7,
          1.2506014954389094e-7,
          0.0000011891885161000471,
          0.000001267476770321031,
          0.0000011859715878920728,
          0.0000012787945152467357,
          0.000001285268787199704,
          0.000001168550174441554,
          0.0000012273905665200098,
          0.0000011407532058164624,
          0.0000014312877028022086,
          0.0000013406236984364953,
          0.0000011049996275858207,
          0.0000012805383911745124,
          0.000001341356474502016,
          0.000001182312952982068,
          0.0000010624678656067418,
          0.0000014035949018101866,
          0.0000013222163539380188,
          0.0000012139679260530188,
          0.0000012047031861519772,
          0.0000012046385910271552,
          7.517925217736914e-7,
          6.564662229800646e-7,
          6.853648449782826e-7,
          6.64762588482859e-7,
          6.753919032673281e-7,
          6.587393952071224e-7,
          6.889170510991117e-7,
          6.265052795294702e-7,
          6.196501330078558e-7,
          6.870568716550382e-7,
          7.349828159972701e-7,
          7.33957389231852e-7,
          6.903440002070313e-7,
          6.451254390429061e-7,
          6.776447723706204e-7,
          7.40338609906549e-7,
          7.006634631853952e-7,
          7.025449924574073e-7,
          6.887241419508208e-7,
          6.233868174848872e-7,
          0.000003802478070075838,
          0.00000369351757521254,
          0.0000037108921867544647,
          0.000003612798675779868,
          0.000003630974741285534,
          0.00000367904522494307,
          0.00000365095026477432,
          0.000003563187441075512,
          0.000003608616841250926,
          0.000003751953587942305,
          0.000003654529656838316,
          0.0000037096864189431296,
          0.0000035968611103131794,
          0.000003649237714146102,
          0.000006537204485847236,
          0.00000382837099300573,
          0.000003767409750069276,
          0.0000035598024386107683,
          0.000003730719420357888,
          0.000003664783887857414
         ]
        },
        {
         "name": "SS",
         "type": "box",
         "x": [
          "LogisticRegression",
          "LogisticRegression",
          "LogisticRegression",
          "LogisticRegression",
          "LogisticRegression",
          "LogisticRegression",
          "LogisticRegression",
          "LogisticRegression",
          "LogisticRegression",
          "LogisticRegression",
          "LogisticRegression",
          "LogisticRegression",
          "LogisticRegression",
          "LogisticRegression",
          "LogisticRegression",
          "LogisticRegression",
          "LogisticRegression",
          "LogisticRegression",
          "LogisticRegression",
          "LogisticRegression",
          "SVC",
          "SVC",
          "SVC",
          "SVC",
          "SVC",
          "SVC",
          "SVC",
          "SVC",
          "SVC",
          "SVC",
          "SVC",
          "SVC",
          "SVC",
          "SVC",
          "SVC",
          "SVC",
          "SVC",
          "SVC",
          "SVC",
          "SVC",
          "RandomForestClassifier",
          "RandomForestClassifier",
          "RandomForestClassifier",
          "RandomForestClassifier",
          "RandomForestClassifier",
          "RandomForestClassifier",
          "RandomForestClassifier",
          "RandomForestClassifier",
          "RandomForestClassifier",
          "RandomForestClassifier",
          "RandomForestClassifier",
          "RandomForestClassifier",
          "RandomForestClassifier",
          "RandomForestClassifier",
          "RandomForestClassifier",
          "RandomForestClassifier",
          "RandomForestClassifier",
          "RandomForestClassifier",
          "RandomForestClassifier",
          "RandomForestClassifier",
          "GradientBoostingClassifier",
          "GradientBoostingClassifier",
          "GradientBoostingClassifier",
          "GradientBoostingClassifier",
          "GradientBoostingClassifier",
          "GradientBoostingClassifier",
          "GradientBoostingClassifier",
          "GradientBoostingClassifier",
          "GradientBoostingClassifier",
          "GradientBoostingClassifier",
          "GradientBoostingClassifier",
          "GradientBoostingClassifier",
          "GradientBoostingClassifier",
          "GradientBoostingClassifier",
          "GradientBoostingClassifier",
          "GradientBoostingClassifier",
          "GradientBoostingClassifier",
          "GradientBoostingClassifier",
          "GradientBoostingClassifier",
          "GradientBoostingClassifier",
          "DeepNeuralNetwork",
          "DeepNeuralNetwork",
          "DeepNeuralNetwork",
          "DeepNeuralNetwork",
          "DeepNeuralNetwork",
          "DeepNeuralNetwork",
          "DeepNeuralNetwork",
          "DeepNeuralNetwork",
          "DeepNeuralNetwork",
          "DeepNeuralNetwork",
          "DeepNeuralNetwork",
          "DeepNeuralNetwork",
          "DeepNeuralNetwork",
          "DeepNeuralNetwork",
          "DeepNeuralNetwork",
          "DeepNeuralNetwork",
          "DeepNeuralNetwork",
          "DeepNeuralNetwork",
          "DeepNeuralNetwork",
          "DeepNeuralNetwork"
         ],
         "y": [
          4.7721654323519553e-8,
          3.846917052919771e-8,
          3.42780841072754e-8,
          3.3625697556678026e-8,
          3.849670281684536e-8,
          3.851650537574358e-8,
          3.361933010150378e-8,
          3.9309942272657e-8,
          3.399612189653421e-8,
          2.931011710790611e-8,
          4.8804833554507924e-8,
          3.904242130742426e-8,
          3.8499456795964774e-8,
          3.850545597931972e-8,
          2.9325260241398063e-8,
          2.9327589954209612e-8,
          3.4576432959192514e-8,
          3.361528080740063e-8,
          3.851608110943573e-8,
          5.8033324802165074e-8,
          1.3768924209014814e-7,
          1.1732165439105532e-7,
          1.2641996456424188e-7,
          1.3765701056887673e-7,
          1.080820133088703e-7,
          1.2681989359684086e-7,
          1.0198526277692757e-7,
          1.0236736106700173e-7,
          1.1244884412205461e-7,
          7.643043436946635e-8,
          1.1252562420759929e-7,
          1.2306708021842666e-7,
          1.2191408406609684e-7,
          1.516894701084938e-7,
          1.1214163835211732e-7,
          1.465861337178638e-7,
          1.1244849431940249e-7,
          1.811569465882436e-7,
          1.1980728307852374e-7,
          9.718693217320058e-8,
          0.0000012276502918339652,
          0.0000011989030832184472,
          0.0000012291969238862124,
          0.0000012196256336592486,
          0.0000012999490181671812,
          0.0000011656671548151368,
          0.0000011653992378400733,
          0.000001146658655380283,
          0.0000013379649454199182,
          0.0000011244556926599551,
          0.000001328842674862057,
          0.0000011750267761077677,
          0.0000011746959568859246,
          0.000001155505192630647,
          0.0000012184155930221143,
          0.0000011687726620170091,
          0.0000010883626237066703,
          0.0000012555369920696537,
          0.0000011893915428256869,
          0.0000012192272527656537,
          7.913687476669359e-7,
          6.870765779636717e-7,
          6.997735128842254e-7,
          5.326183287149722e-7,
          6.597502113302005e-7,
          6.569137859600144e-7,
          6.880142873774784e-7,
          7.190821728153638e-7,
          6.234462963077957e-7,
          6.860969337188234e-7,
          5.983704322674172e-7,
          5.654038308738028e-7,
          7.478022878318162e-7,
          6.175313486634845e-7,
          7.806445882878321e-7,
          8.155447099079689e-7,
          7.825784959834912e-7,
          6.25051468447534e-7,
          7.055407169938993e-7,
          6.679461410641352e-7,
          0.0000037798332613729656,
          0.0000037331283434234672,
          0.0000038092295778555498,
          0.000003648775266149322,
          0.000003680678353636547,
          0.000003612796346066948,
          0.000003592646871503156,
          0.000003730640566700885,
          0.000003772313018635836,
          0.00000385721583786127,
          0.000003731477741883904,
          0.000003923454233029523,
          0.00000377623741989715,
          0.000003751374654304188,
          0.0000036686535408670057,
          0.000003589735451999237,
          0.000003759362074740079,
          0.000003519155868597981,
          0.00000381282403771996,
          0.000003825395455179614
         ]
        },
        {
         "name": "SS & FR",
         "type": "box",
         "x": [
          "LogisticRegression",
          "LogisticRegression",
          "LogisticRegression",
          "LogisticRegression",
          "LogisticRegression",
          "LogisticRegression",
          "LogisticRegression",
          "LogisticRegression",
          "LogisticRegression",
          "LogisticRegression",
          "LogisticRegression",
          "LogisticRegression",
          "LogisticRegression",
          "LogisticRegression",
          "LogisticRegression",
          "LogisticRegression",
          "LogisticRegression",
          "LogisticRegression",
          "LogisticRegression",
          "LogisticRegression",
          "SVC",
          "SVC",
          "SVC",
          "SVC",
          "SVC",
          "SVC",
          "SVC",
          "SVC",
          "SVC",
          "SVC",
          "SVC",
          "SVC",
          "SVC",
          "SVC",
          "SVC",
          "SVC",
          "SVC",
          "SVC",
          "SVC",
          "SVC",
          "RandomForestClassifier",
          "RandomForestClassifier",
          "RandomForestClassifier",
          "RandomForestClassifier",
          "RandomForestClassifier",
          "RandomForestClassifier",
          "RandomForestClassifier",
          "RandomForestClassifier",
          "RandomForestClassifier",
          "RandomForestClassifier",
          "RandomForestClassifier",
          "RandomForestClassifier",
          "RandomForestClassifier",
          "RandomForestClassifier",
          "RandomForestClassifier",
          "RandomForestClassifier",
          "RandomForestClassifier",
          "RandomForestClassifier",
          "RandomForestClassifier",
          "RandomForestClassifier",
          "GradientBoostingClassifier",
          "GradientBoostingClassifier",
          "GradientBoostingClassifier",
          "GradientBoostingClassifier",
          "GradientBoostingClassifier",
          "GradientBoostingClassifier",
          "GradientBoostingClassifier",
          "GradientBoostingClassifier",
          "GradientBoostingClassifier",
          "GradientBoostingClassifier",
          "GradientBoostingClassifier",
          "GradientBoostingClassifier",
          "GradientBoostingClassifier",
          "GradientBoostingClassifier",
          "GradientBoostingClassifier",
          "GradientBoostingClassifier",
          "GradientBoostingClassifier",
          "GradientBoostingClassifier",
          "GradientBoostingClassifier",
          "GradientBoostingClassifier",
          "DeepNeuralNetwork",
          "DeepNeuralNetwork",
          "DeepNeuralNetwork",
          "DeepNeuralNetwork",
          "DeepNeuralNetwork",
          "DeepNeuralNetwork",
          "DeepNeuralNetwork",
          "DeepNeuralNetwork",
          "DeepNeuralNetwork",
          "DeepNeuralNetwork",
          "DeepNeuralNetwork",
          "DeepNeuralNetwork",
          "DeepNeuralNetwork",
          "DeepNeuralNetwork",
          "DeepNeuralNetwork",
          "DeepNeuralNetwork",
          "DeepNeuralNetwork",
          "DeepNeuralNetwork",
          "DeepNeuralNetwork",
          "DeepNeuralNetwork"
         ],
         "y": [
          4.767425251838223e-8,
          4.34025123471557e-8,
          3.361726071756006e-8,
          4.3998956497951984e-8,
          3.542866490826614e-8,
          5.3150737936314564e-8,
          4.4037467036026415e-8,
          4.816956585993946e-8,
          3.849917395168725e-8,
          3.9083008875236136e-8,
          5.255009210549874e-8,
          3.8491053436142536e-8,
          3.922226694081862e-8,
          2.8732102279197327e-8,
          3.418387634719286e-8,
          3.361097868971076e-8,
          5.2572049476099295e-8,
          3.3600952727445496e-8,
          4.33862788209137e-8,
          3.9003556779075236e-8,
          1.0204244117891469e-7,
          1.0719199936741823e-7,
          1.4513659459219726e-7,
          1.2156783886691817e-7,
          1.2997744923046693e-7,
          1.5682091198060757e-7,
          1.1911753915357093e-7,
          1.5970989959376326e-7,
          1.0262734470882148e-7,
          1.1721423404825217e-7,
          9.8388432215454e-8,
          1.4736619672857734e-7,
          1.1241598628255849e-7,
          1.345520355764806e-7,
          1.033196560190977e-7,
          9.028057302413149e-8,
          1.219471577917127e-7,
          1.4143993140656834e-7,
          1.7596507779224849e-7,
          1.0752729229040157e-7,
          0.000001190378418797688,
          0.0000013651154705423326,
          0.0000012513621466790376,
          0.000001300708958977114,
          0.000001209931475632366,
          0.000001298786945892836,
          0.0000011965125526780009,
          0.0000011181659361416026,
          0.0000013495326016772693,
          0.0000012234312195661971,
          0.0000011814575609043684,
          0.0000012842437135550302,
          0.0000011774369123788812,
          0.0000012410188432589002,
          0.0000012043955226364363,
          0.0000012246100542581684,
          0.0000012097441566931433,
          0.0000013110203382371043,
          0.0000011650777374692595,
          0.0000011100569095750558,
          7.31339037189074e-7,
          6.841634837689847e-7,
          6.913655792827045e-7,
          7.107371414601885e-7,
          8.158773410554213e-7,
          7.168213866609423e-7,
          7.691314753597526e-7,
          7.644032413440648e-7,
          7.387507733784895e-7,
          7.277625262448999e-7,
          6.439128235151675e-7,
          5.563365885414076e-7,
          6.928957571475467e-7,
          7.306775071358983e-7,
          7.439180764344175e-7,
          6.101645992795824e-7,
          6.546938113528768e-7,
          6.462169095033596e-7,
          6.70851292962479e-7,
          6.580172915847827e-7,
          0.0000037689067435361808,
          0.000003798919433728649,
          0.000003676192171072333,
          0.000007287477981213881,
          0.000003889386842323775,
          0.000003880867361163087,
          0.000003822999345534607,
          0.00000357994273574567,
          0.0000037944538174876016,
          0.0000037275766377508138,
          0.0000036455428598747112,
          0.000003588662850866108,
          0.0000037523857496723177,
          0.000003760285805877017,
          0.00000376001986462449,
          0.000003660657966436274,
          0.000003838374285352643,
          0.000003756920639450467,
          0.000003809876073165852,
          0.000003847766670823146
         ]
        }
       ],
       "layout": {
        "boxmode": "group",
        "template": {
         "data": {
          "bar": [
           {
            "error_x": {
             "color": "#2a3f5f"
            },
            "error_y": {
             "color": "#2a3f5f"
            },
            "marker": {
             "line": {
              "color": "#E5ECF6",
              "width": 0.5
             },
             "pattern": {
              "fillmode": "overlay",
              "size": 10,
              "solidity": 0.2
             }
            },
            "type": "bar"
           }
          ],
          "barpolar": [
           {
            "marker": {
             "line": {
              "color": "#E5ECF6",
              "width": 0.5
             },
             "pattern": {
              "fillmode": "overlay",
              "size": 10,
              "solidity": 0.2
             }
            },
            "type": "barpolar"
           }
          ],
          "carpet": [
           {
            "aaxis": {
             "endlinecolor": "#2a3f5f",
             "gridcolor": "white",
             "linecolor": "white",
             "minorgridcolor": "white",
             "startlinecolor": "#2a3f5f"
            },
            "baxis": {
             "endlinecolor": "#2a3f5f",
             "gridcolor": "white",
             "linecolor": "white",
             "minorgridcolor": "white",
             "startlinecolor": "#2a3f5f"
            },
            "type": "carpet"
           }
          ],
          "choropleth": [
           {
            "colorbar": {
             "outlinewidth": 0,
             "ticks": ""
            },
            "type": "choropleth"
           }
          ],
          "contour": [
           {
            "colorbar": {
             "outlinewidth": 0,
             "ticks": ""
            },
            "colorscale": [
             [
              0,
              "#0d0887"
             ],
             [
              0.1111111111111111,
              "#46039f"
             ],
             [
              0.2222222222222222,
              "#7201a8"
             ],
             [
              0.3333333333333333,
              "#9c179e"
             ],
             [
              0.4444444444444444,
              "#bd3786"
             ],
             [
              0.5555555555555556,
              "#d8576b"
             ],
             [
              0.6666666666666666,
              "#ed7953"
             ],
             [
              0.7777777777777778,
              "#fb9f3a"
             ],
             [
              0.8888888888888888,
              "#fdca26"
             ],
             [
              1,
              "#f0f921"
             ]
            ],
            "type": "contour"
           }
          ],
          "contourcarpet": [
           {
            "colorbar": {
             "outlinewidth": 0,
             "ticks": ""
            },
            "type": "contourcarpet"
           }
          ],
          "heatmap": [
           {
            "colorbar": {
             "outlinewidth": 0,
             "ticks": ""
            },
            "colorscale": [
             [
              0,
              "#0d0887"
             ],
             [
              0.1111111111111111,
              "#46039f"
             ],
             [
              0.2222222222222222,
              "#7201a8"
             ],
             [
              0.3333333333333333,
              "#9c179e"
             ],
             [
              0.4444444444444444,
              "#bd3786"
             ],
             [
              0.5555555555555556,
              "#d8576b"
             ],
             [
              0.6666666666666666,
              "#ed7953"
             ],
             [
              0.7777777777777778,
              "#fb9f3a"
             ],
             [
              0.8888888888888888,
              "#fdca26"
             ],
             [
              1,
              "#f0f921"
             ]
            ],
            "type": "heatmap"
           }
          ],
          "heatmapgl": [
           {
            "colorbar": {
             "outlinewidth": 0,
             "ticks": ""
            },
            "colorscale": [
             [
              0,
              "#0d0887"
             ],
             [
              0.1111111111111111,
              "#46039f"
             ],
             [
              0.2222222222222222,
              "#7201a8"
             ],
             [
              0.3333333333333333,
              "#9c179e"
             ],
             [
              0.4444444444444444,
              "#bd3786"
             ],
             [
              0.5555555555555556,
              "#d8576b"
             ],
             [
              0.6666666666666666,
              "#ed7953"
             ],
             [
              0.7777777777777778,
              "#fb9f3a"
             ],
             [
              0.8888888888888888,
              "#fdca26"
             ],
             [
              1,
              "#f0f921"
             ]
            ],
            "type": "heatmapgl"
           }
          ],
          "histogram": [
           {
            "marker": {
             "pattern": {
              "fillmode": "overlay",
              "size": 10,
              "solidity": 0.2
             }
            },
            "type": "histogram"
           }
          ],
          "histogram2d": [
           {
            "colorbar": {
             "outlinewidth": 0,
             "ticks": ""
            },
            "colorscale": [
             [
              0,
              "#0d0887"
             ],
             [
              0.1111111111111111,
              "#46039f"
             ],
             [
              0.2222222222222222,
              "#7201a8"
             ],
             [
              0.3333333333333333,
              "#9c179e"
             ],
             [
              0.4444444444444444,
              "#bd3786"
             ],
             [
              0.5555555555555556,
              "#d8576b"
             ],
             [
              0.6666666666666666,
              "#ed7953"
             ],
             [
              0.7777777777777778,
              "#fb9f3a"
             ],
             [
              0.8888888888888888,
              "#fdca26"
             ],
             [
              1,
              "#f0f921"
             ]
            ],
            "type": "histogram2d"
           }
          ],
          "histogram2dcontour": [
           {
            "colorbar": {
             "outlinewidth": 0,
             "ticks": ""
            },
            "colorscale": [
             [
              0,
              "#0d0887"
             ],
             [
              0.1111111111111111,
              "#46039f"
             ],
             [
              0.2222222222222222,
              "#7201a8"
             ],
             [
              0.3333333333333333,
              "#9c179e"
             ],
             [
              0.4444444444444444,
              "#bd3786"
             ],
             [
              0.5555555555555556,
              "#d8576b"
             ],
             [
              0.6666666666666666,
              "#ed7953"
             ],
             [
              0.7777777777777778,
              "#fb9f3a"
             ],
             [
              0.8888888888888888,
              "#fdca26"
             ],
             [
              1,
              "#f0f921"
             ]
            ],
            "type": "histogram2dcontour"
           }
          ],
          "mesh3d": [
           {
            "colorbar": {
             "outlinewidth": 0,
             "ticks": ""
            },
            "type": "mesh3d"
           }
          ],
          "parcoords": [
           {
            "line": {
             "colorbar": {
              "outlinewidth": 0,
              "ticks": ""
             }
            },
            "type": "parcoords"
           }
          ],
          "pie": [
           {
            "automargin": true,
            "type": "pie"
           }
          ],
          "scatter": [
           {
            "fillpattern": {
             "fillmode": "overlay",
             "size": 10,
             "solidity": 0.2
            },
            "type": "scatter"
           }
          ],
          "scatter3d": [
           {
            "line": {
             "colorbar": {
              "outlinewidth": 0,
              "ticks": ""
             }
            },
            "marker": {
             "colorbar": {
              "outlinewidth": 0,
              "ticks": ""
             }
            },
            "type": "scatter3d"
           }
          ],
          "scattercarpet": [
           {
            "marker": {
             "colorbar": {
              "outlinewidth": 0,
              "ticks": ""
             }
            },
            "type": "scattercarpet"
           }
          ],
          "scattergeo": [
           {
            "marker": {
             "colorbar": {
              "outlinewidth": 0,
              "ticks": ""
             }
            },
            "type": "scattergeo"
           }
          ],
          "scattergl": [
           {
            "marker": {
             "colorbar": {
              "outlinewidth": 0,
              "ticks": ""
             }
            },
            "type": "scattergl"
           }
          ],
          "scattermapbox": [
           {
            "marker": {
             "colorbar": {
              "outlinewidth": 0,
              "ticks": ""
             }
            },
            "type": "scattermapbox"
           }
          ],
          "scatterpolar": [
           {
            "marker": {
             "colorbar": {
              "outlinewidth": 0,
              "ticks": ""
             }
            },
            "type": "scatterpolar"
           }
          ],
          "scatterpolargl": [
           {
            "marker": {
             "colorbar": {
              "outlinewidth": 0,
              "ticks": ""
             }
            },
            "type": "scatterpolargl"
           }
          ],
          "scatterternary": [
           {
            "marker": {
             "colorbar": {
              "outlinewidth": 0,
              "ticks": ""
             }
            },
            "type": "scatterternary"
           }
          ],
          "surface": [
           {
            "colorbar": {
             "outlinewidth": 0,
             "ticks": ""
            },
            "colorscale": [
             [
              0,
              "#0d0887"
             ],
             [
              0.1111111111111111,
              "#46039f"
             ],
             [
              0.2222222222222222,
              "#7201a8"
             ],
             [
              0.3333333333333333,
              "#9c179e"
             ],
             [
              0.4444444444444444,
              "#bd3786"
             ],
             [
              0.5555555555555556,
              "#d8576b"
             ],
             [
              0.6666666666666666,
              "#ed7953"
             ],
             [
              0.7777777777777778,
              "#fb9f3a"
             ],
             [
              0.8888888888888888,
              "#fdca26"
             ],
             [
              1,
              "#f0f921"
             ]
            ],
            "type": "surface"
           }
          ],
          "table": [
           {
            "cells": {
             "fill": {
              "color": "#EBF0F8"
             },
             "line": {
              "color": "white"
             }
            },
            "header": {
             "fill": {
              "color": "#C8D4E3"
             },
             "line": {
              "color": "white"
             }
            },
            "type": "table"
           }
          ]
         },
         "layout": {
          "annotationdefaults": {
           "arrowcolor": "#2a3f5f",
           "arrowhead": 0,
           "arrowwidth": 1
          },
          "autotypenumbers": "strict",
          "coloraxis": {
           "colorbar": {
            "outlinewidth": 0,
            "ticks": ""
           }
          },
          "colorscale": {
           "diverging": [
            [
             0,
             "#8e0152"
            ],
            [
             0.1,
             "#c51b7d"
            ],
            [
             0.2,
             "#de77ae"
            ],
            [
             0.3,
             "#f1b6da"
            ],
            [
             0.4,
             "#fde0ef"
            ],
            [
             0.5,
             "#f7f7f7"
            ],
            [
             0.6,
             "#e6f5d0"
            ],
            [
             0.7,
             "#b8e186"
            ],
            [
             0.8,
             "#7fbc41"
            ],
            [
             0.9,
             "#4d9221"
            ],
            [
             1,
             "#276419"
            ]
           ],
           "sequential": [
            [
             0,
             "#0d0887"
            ],
            [
             0.1111111111111111,
             "#46039f"
            ],
            [
             0.2222222222222222,
             "#7201a8"
            ],
            [
             0.3333333333333333,
             "#9c179e"
            ],
            [
             0.4444444444444444,
             "#bd3786"
            ],
            [
             0.5555555555555556,
             "#d8576b"
            ],
            [
             0.6666666666666666,
             "#ed7953"
            ],
            [
             0.7777777777777778,
             "#fb9f3a"
            ],
            [
             0.8888888888888888,
             "#fdca26"
            ],
            [
             1,
             "#f0f921"
            ]
           ],
           "sequentialminus": [
            [
             0,
             "#0d0887"
            ],
            [
             0.1111111111111111,
             "#46039f"
            ],
            [
             0.2222222222222222,
             "#7201a8"
            ],
            [
             0.3333333333333333,
             "#9c179e"
            ],
            [
             0.4444444444444444,
             "#bd3786"
            ],
            [
             0.5555555555555556,
             "#d8576b"
            ],
            [
             0.6666666666666666,
             "#ed7953"
            ],
            [
             0.7777777777777778,
             "#fb9f3a"
            ],
            [
             0.8888888888888888,
             "#fdca26"
            ],
            [
             1,
             "#f0f921"
            ]
           ]
          },
          "colorway": [
           "#636efa",
           "#EF553B",
           "#00cc96",
           "#ab63fa",
           "#FFA15A",
           "#19d3f3",
           "#FF6692",
           "#B6E880",
           "#FF97FF",
           "#FECB52"
          ],
          "font": {
           "color": "#2a3f5f"
          },
          "geo": {
           "bgcolor": "white",
           "lakecolor": "white",
           "landcolor": "#E5ECF6",
           "showlakes": true,
           "showland": true,
           "subunitcolor": "white"
          },
          "hoverlabel": {
           "align": "left"
          },
          "hovermode": "closest",
          "mapbox": {
           "style": "light"
          },
          "paper_bgcolor": "white",
          "plot_bgcolor": "#E5ECF6",
          "polar": {
           "angularaxis": {
            "gridcolor": "white",
            "linecolor": "white",
            "ticks": ""
           },
           "bgcolor": "#E5ECF6",
           "radialaxis": {
            "gridcolor": "white",
            "linecolor": "white",
            "ticks": ""
           }
          },
          "scene": {
           "xaxis": {
            "backgroundcolor": "#E5ECF6",
            "gridcolor": "white",
            "gridwidth": 2,
            "linecolor": "white",
            "showbackground": true,
            "ticks": "",
            "zerolinecolor": "white"
           },
           "yaxis": {
            "backgroundcolor": "#E5ECF6",
            "gridcolor": "white",
            "gridwidth": 2,
            "linecolor": "white",
            "showbackground": true,
            "ticks": "",
            "zerolinecolor": "white"
           },
           "zaxis": {
            "backgroundcolor": "#E5ECF6",
            "gridcolor": "white",
            "gridwidth": 2,
            "linecolor": "white",
            "showbackground": true,
            "ticks": "",
            "zerolinecolor": "white"
           }
          },
          "shapedefaults": {
           "line": {
            "color": "#2a3f5f"
           }
          },
          "ternary": {
           "aaxis": {
            "gridcolor": "white",
            "linecolor": "white",
            "ticks": ""
           },
           "baxis": {
            "gridcolor": "white",
            "linecolor": "white",
            "ticks": ""
           },
           "bgcolor": "#E5ECF6",
           "caxis": {
            "gridcolor": "white",
            "linecolor": "white",
            "ticks": ""
           }
          },
          "title": {
           "x": 0.05
          },
          "xaxis": {
           "automargin": true,
           "gridcolor": "white",
           "linecolor": "white",
           "ticks": "",
           "title": {
            "standoff": 15
           },
           "zerolinecolor": "white",
           "zerolinewidth": 2
          },
          "yaxis": {
           "automargin": true,
           "gridcolor": "white",
           "linecolor": "white",
           "ticks": "",
           "title": {
            "standoff": 15
           },
           "zerolinecolor": "white",
           "zerolinewidth": 2
          }
         }
        },
        "title": {
         "text": "emissions_train"
        },
        "yaxis": {
         "title": {
          "text": "emissions_train"
         }
        }
       }
      }
     },
     "metadata": {},
     "output_type": "display_data"
    },
    {
     "data": {
      "application/vnd.plotly.v1+json": {
       "config": {
        "plotlyServerURL": "https://plot.ly"
       },
       "data": [
        {
         "name": "Full",
         "type": "box",
         "x": [
          "LogisticRegression",
          "LogisticRegression",
          "LogisticRegression",
          "LogisticRegression",
          "LogisticRegression",
          "LogisticRegression",
          "LogisticRegression",
          "LogisticRegression",
          "LogisticRegression",
          "LogisticRegression",
          "LogisticRegression",
          "LogisticRegression",
          "LogisticRegression",
          "LogisticRegression",
          "LogisticRegression",
          "LogisticRegression",
          "LogisticRegression",
          "LogisticRegression",
          "LogisticRegression",
          "LogisticRegression",
          "SVC",
          "SVC",
          "SVC",
          "SVC",
          "SVC",
          "SVC",
          "SVC",
          "SVC",
          "SVC",
          "SVC",
          "SVC",
          "SVC",
          "SVC",
          "SVC",
          "SVC",
          "SVC",
          "SVC",
          "SVC",
          "SVC",
          "SVC",
          "RandomForestClassifier",
          "RandomForestClassifier",
          "RandomForestClassifier",
          "RandomForestClassifier",
          "RandomForestClassifier",
          "RandomForestClassifier",
          "RandomForestClassifier",
          "RandomForestClassifier",
          "RandomForestClassifier",
          "RandomForestClassifier",
          "RandomForestClassifier",
          "RandomForestClassifier",
          "RandomForestClassifier",
          "RandomForestClassifier",
          "RandomForestClassifier",
          "RandomForestClassifier",
          "RandomForestClassifier",
          "RandomForestClassifier",
          "RandomForestClassifier",
          "RandomForestClassifier",
          "GradientBoostingClassifier",
          "GradientBoostingClassifier",
          "GradientBoostingClassifier",
          "GradientBoostingClassifier",
          "GradientBoostingClassifier",
          "GradientBoostingClassifier",
          "GradientBoostingClassifier",
          "GradientBoostingClassifier",
          "GradientBoostingClassifier",
          "GradientBoostingClassifier",
          "GradientBoostingClassifier",
          "GradientBoostingClassifier",
          "GradientBoostingClassifier",
          "GradientBoostingClassifier",
          "GradientBoostingClassifier",
          "GradientBoostingClassifier",
          "GradientBoostingClassifier",
          "GradientBoostingClassifier",
          "GradientBoostingClassifier",
          "GradientBoostingClassifier",
          "DeepNeuralNetwork",
          "DeepNeuralNetwork",
          "DeepNeuralNetwork",
          "DeepNeuralNetwork",
          "DeepNeuralNetwork",
          "DeepNeuralNetwork",
          "DeepNeuralNetwork",
          "DeepNeuralNetwork",
          "DeepNeuralNetwork",
          "DeepNeuralNetwork",
          "DeepNeuralNetwork",
          "DeepNeuralNetwork",
          "DeepNeuralNetwork",
          "DeepNeuralNetwork",
          "DeepNeuralNetwork",
          "DeepNeuralNetwork",
          "DeepNeuralNetwork",
          "DeepNeuralNetwork",
          "DeepNeuralNetwork",
          "DeepNeuralNetwork"
         ],
         "y": [
          2.3836244247062852e-8,
          2.927167684629861e-8,
          2.8703862880964312e-8,
          1.893759875673008e-8,
          2.384594638047376e-8,
          2.3842418332177543e-8,
          2.8712333199161152e-8,
          1.9536971788188667e-8,
          2.8685366600502207e-8,
          1.8960047352013093e-8,
          2.8724190144057558e-8,
          2.8783065611709752e-8,
          2.457405610316148e-8,
          1.953580693199973e-8,
          2.3830353006659352e-8,
          2.435499613876596e-8,
          1.893011839317928e-8,
          2.919283761146189e-8,
          2.0676201361712748e-8,
          1.895461385743001e-8,
          2.154297102006063e-7,
          2.459967073796705e-7,
          1.8714000731175079e-7,
          2.3711608725172746e-7,
          1.9091908017845533e-7,
          2.2706443330569245e-7,
          1.8164198878995938e-7,
          2.127093193620127e-7,
          1.7849574509274695e-7,
          2.2558199535616973e-7,
          2.717871564244991e-7,
          2.483031230811079e-7,
          2.108180729462443e-7,
          2.2772353365594494e-7,
          2.330062286426925e-7,
          2.206595615123885e-7,
          2.105303199325531e-7,
          3.0653019733009775e-7,
          2.626999701109585e-7,
          3.551000496003921e-7,
          8.60700756293801e-8,
          1.284906516857941e-7,
          1.938991367363141e-7,
          1.1363118088830727e-7,
          1.118879532060937e-7,
          1.560490364440302e-7,
          1.4798470200552e-7,
          1.172317520663213e-7,
          1.7600207035295588e-7,
          1.4257563351965062e-7,
          8.993033791346999e-8,
          1.3146741382140913e-7,
          7.870352366243055e-8,
          1.1704124231923761e-7,
          1.0246683970131613e-7,
          1.284757202507994e-7,
          1.12607509912847e-7,
          1.913661143370608e-7,
          1.2307851621445702e-7,
          9.572094782279475e-8,
          2.4427039017373146e-8,
          2.982731335597448e-8,
          3.3606036419810144e-8,
          3.3450436885251046e-8,
          2.3836244247279693e-8,
          3.4629762801904544e-8,
          1.897459131765429e-8,
          2.3654839511428813e-8,
          1.9134757345447284e-8,
          1.9018439100047108e-8,
          2.53554295799336e-8,
          2.9318271102963398e-8,
          2.8566581266719487e-8,
          2.953319966380631e-8,
          3.423173921602608e-8,
          1.7498473062248568e-8,
          1.9190830344338952e-8,
          1.4861238139401989e-8,
          2.85643964345432e-8,
          2.9324095384992286e-8,
          7.201678892702554e-7,
          7.211365920616313e-7,
          5.186521060998291e-7,
          4.0717439491974084e-7,
          3.779097072118768e-7,
          5.579991173021177e-7,
          5.137389543102312e-7,
          4.6384769559202406e-7,
          4.456746332901634e-7,
          3.927383996480587e-7,
          3.520673676506419e-7,
          4.706072869499218e-7,
          4.802470026733828e-7,
          4.64713254913398e-7,
          4.551360138518824e-7,
          4.870535893099345e-7,
          4.290447967687577e-7,
          4.992545857476077e-7,
          3.321329372363291e-7,
          4.820606841111647e-7
         ]
        },
        {
         "name": "FR",
         "type": "box",
         "x": [
          "LogisticRegression",
          "LogisticRegression",
          "LogisticRegression",
          "LogisticRegression",
          "LogisticRegression",
          "LogisticRegression",
          "LogisticRegression",
          "LogisticRegression",
          "LogisticRegression",
          "LogisticRegression",
          "LogisticRegression",
          "LogisticRegression",
          "LogisticRegression",
          "LogisticRegression",
          "LogisticRegression",
          "LogisticRegression",
          "LogisticRegression",
          "LogisticRegression",
          "LogisticRegression",
          "LogisticRegression",
          "SVC",
          "SVC",
          "SVC",
          "SVC",
          "SVC",
          "SVC",
          "SVC",
          "SVC",
          "SVC",
          "SVC",
          "SVC",
          "SVC",
          "SVC",
          "SVC",
          "SVC",
          "SVC",
          "SVC",
          "SVC",
          "SVC",
          "SVC",
          "RandomForestClassifier",
          "RandomForestClassifier",
          "RandomForestClassifier",
          "RandomForestClassifier",
          "RandomForestClassifier",
          "RandomForestClassifier",
          "RandomForestClassifier",
          "RandomForestClassifier",
          "RandomForestClassifier",
          "RandomForestClassifier",
          "RandomForestClassifier",
          "RandomForestClassifier",
          "RandomForestClassifier",
          "RandomForestClassifier",
          "RandomForestClassifier",
          "RandomForestClassifier",
          "RandomForestClassifier",
          "RandomForestClassifier",
          "RandomForestClassifier",
          "RandomForestClassifier",
          "GradientBoostingClassifier",
          "GradientBoostingClassifier",
          "GradientBoostingClassifier",
          "GradientBoostingClassifier",
          "GradientBoostingClassifier",
          "GradientBoostingClassifier",
          "GradientBoostingClassifier",
          "GradientBoostingClassifier",
          "GradientBoostingClassifier",
          "GradientBoostingClassifier",
          "GradientBoostingClassifier",
          "GradientBoostingClassifier",
          "GradientBoostingClassifier",
          "GradientBoostingClassifier",
          "GradientBoostingClassifier",
          "GradientBoostingClassifier",
          "GradientBoostingClassifier",
          "GradientBoostingClassifier",
          "GradientBoostingClassifier",
          "GradientBoostingClassifier",
          "DeepNeuralNetwork",
          "DeepNeuralNetwork",
          "DeepNeuralNetwork",
          "DeepNeuralNetwork",
          "DeepNeuralNetwork",
          "DeepNeuralNetwork",
          "DeepNeuralNetwork",
          "DeepNeuralNetwork",
          "DeepNeuralNetwork",
          "DeepNeuralNetwork",
          "DeepNeuralNetwork",
          "DeepNeuralNetwork",
          "DeepNeuralNetwork",
          "DeepNeuralNetwork",
          "DeepNeuralNetwork",
          "DeepNeuralNetwork",
          "DeepNeuralNetwork",
          "DeepNeuralNetwork",
          "DeepNeuralNetwork",
          "DeepNeuralNetwork"
         ],
         "y": [
          3.3605012985434696e-8,
          1.893717448998855e-8,
          2.8714912277171337e-8,
          1.9541631214028615e-8,
          2.9562603918228264e-8,
          2.4363924202783216e-8,
          2.44468415764882e-8,
          2.3832042567260157e-8,
          2.5162063415056644e-8,
          2.9298269809806963e-8,
          2.3830594866360025e-8,
          2.3832009087964432e-8,
          2.4397139350429423e-8,
          1.9538136644594445e-8,
          2.38363521900143e-8,
          3.3616095860937445e-8,
          2.3840587349329562e-8,
          1.8937457334482904e-8,
          1.9483346679928515e-8,
          1.9541631214028615e-8,
          2.796304175093755e-7,
          2.3030121947963285e-7,
          2.6673559842035205e-7,
          2.2359863566896385e-7,
          2.1047596246827685e-7,
          2.3030905715090005e-7,
          2.391318950744747e-7,
          3.309682857436779e-7,
          2.4588022173844225e-7,
          2.0774190304085306e-7,
          1.621282103741236e-7,
          3.511260138707763e-7,
          3.263278550954315e-7,
          1.95062727128539e-7,
          2.078732824505915e-7,
          2.6036990747853664e-7,
          3.0391873067042545e-7,
          2.529887738794614e-7,
          2.2396754866763765e-7,
          2.456775367221023e-7,
          1.5726963106528317e-7,
          1.278872560628308e-7,
          1.3621435263891021e-7,
          1.0731122816504297e-7,
          1.1747382631455487e-7,
          1.3748595157725245e-7,
          9.356366722189369e-8,
          9.772213434614507e-8,
          1.2710641479553482e-7,
          1.4483669341495457e-7,
          9.147260434825764e-8,
          1.5164692787595325e-7,
          1.3744984102823966e-7,
          1.257060374523691e-7,
          1.9020650769393038e-7,
          1.2523837257549277e-7,
          1.0754957348985648e-7,
          1.367919465189698e-7,
          1.669588699263966e-7,
          8.537507642904578e-8,
          3.3601060670613795e-8,
          2.3778425692864983e-8,
          4.267119826364616e-8,
          3.358828072922912e-8,
          2.9619789825496498e-8,
          1.9901779497837058e-8,
          2.4674091744824118e-8,
          3.358535184834997e-8,
          1.97547999378038e-8,
          1.8940910919340237e-8,
          3.419552491146748e-8,
          2.9575067536256536e-8,
          2.8727792656226342e-8,
          3.8338709928758756e-8,
          1.8904033806431755e-8,
          2.9456542531341653e-8,
          2.1820964139340066e-8,
          2.6509444250215692e-8,
          2.3660105610183796e-8,
          2.938763359614308e-8,
          5.388489523074471e-7,
          4.142031385263043e-7,
          4.080293995280867e-7,
          4.628556964011163e-7,
          4.650995069818134e-7,
          4.221105069695999e-7,
          4.46791161585222e-7,
          4.859212634474117e-7,
          4.431940849766421e-7,
          4.470031654525914e-7,
          4.739072691779377e-7,
          5.033626360298254e-7,
          4.055960144776607e-7,
          4.6677310852399553e-7,
          3.7876681395498674e-7,
          4.732498993728629e-7,
          4.812744060311933e-7,
          3.9037600056256876e-7,
          4.546038535590538e-7,
          4.574740597650074e-7
         ]
        },
        {
         "name": "SS",
         "type": "box",
         "x": [
          "LogisticRegression",
          "LogisticRegression",
          "LogisticRegression",
          "LogisticRegression",
          "LogisticRegression",
          "LogisticRegression",
          "LogisticRegression",
          "LogisticRegression",
          "LogisticRegression",
          "LogisticRegression",
          "LogisticRegression",
          "LogisticRegression",
          "LogisticRegression",
          "LogisticRegression",
          "LogisticRegression",
          "LogisticRegression",
          "LogisticRegression",
          "LogisticRegression",
          "LogisticRegression",
          "LogisticRegression",
          "SVC",
          "SVC",
          "SVC",
          "SVC",
          "SVC",
          "SVC",
          "SVC",
          "SVC",
          "SVC",
          "SVC",
          "SVC",
          "SVC",
          "SVC",
          "SVC",
          "SVC",
          "SVC",
          "SVC",
          "SVC",
          "SVC",
          "SVC",
          "RandomForestClassifier",
          "RandomForestClassifier",
          "RandomForestClassifier",
          "RandomForestClassifier",
          "RandomForestClassifier",
          "RandomForestClassifier",
          "RandomForestClassifier",
          "RandomForestClassifier",
          "RandomForestClassifier",
          "RandomForestClassifier",
          "RandomForestClassifier",
          "RandomForestClassifier",
          "RandomForestClassifier",
          "RandomForestClassifier",
          "RandomForestClassifier",
          "RandomForestClassifier",
          "RandomForestClassifier",
          "RandomForestClassifier",
          "RandomForestClassifier",
          "RandomForestClassifier",
          "GradientBoostingClassifier",
          "GradientBoostingClassifier",
          "GradientBoostingClassifier",
          "GradientBoostingClassifier",
          "GradientBoostingClassifier",
          "GradientBoostingClassifier",
          "GradientBoostingClassifier",
          "GradientBoostingClassifier",
          "GradientBoostingClassifier",
          "GradientBoostingClassifier",
          "GradientBoostingClassifier",
          "GradientBoostingClassifier",
          "GradientBoostingClassifier",
          "GradientBoostingClassifier",
          "GradientBoostingClassifier",
          "GradientBoostingClassifier",
          "GradientBoostingClassifier",
          "GradientBoostingClassifier",
          "GradientBoostingClassifier",
          "GradientBoostingClassifier",
          "DeepNeuralNetwork",
          "DeepNeuralNetwork",
          "DeepNeuralNetwork",
          "DeepNeuralNetwork",
          "DeepNeuralNetwork",
          "DeepNeuralNetwork",
          "DeepNeuralNetwork",
          "DeepNeuralNetwork",
          "DeepNeuralNetwork",
          "DeepNeuralNetwork",
          "DeepNeuralNetwork",
          "DeepNeuralNetwork",
          "DeepNeuralNetwork",
          "DeepNeuralNetwork",
          "DeepNeuralNetwork",
          "DeepNeuralNetwork",
          "DeepNeuralNetwork",
          "DeepNeuralNetwork",
          "DeepNeuralNetwork",
          "DeepNeuralNetwork"
         ],
         "y": [
          2.3845845942803423e-8,
          2.8719463759842998e-8,
          2.3846411631358453e-8,
          2.68926525779159e-8,
          1.958589575766501e-8,
          2.38393815081301e-8,
          2.8725005197594373e-8,
          2.3835961402785336e-8,
          1.896763565851535e-8,
          1.895288331225237e-8,
          2.946398191031561e-8,
          2.4361940246381275e-8,
          1.8960438139242062e-8,
          3.304873213614244e-8,
          2.450967267683679e-8,
          2.2755470062071903e-8,
          2.94322144633527e-8,
          1.8953199635608764e-8,
          2.203209422844618e-8,
          2.8748868014698628e-8,
          1.909584066393799e-7,
          2.421266702187092e-7,
          2.2004497507140466e-7,
          1.5958532882079553e-7,
          2.796985448698993e-7,
          2.767498723356757e-7,
          2.525623239947247e-7,
          2.245206697402361e-7,
          3.521261309883707e-7,
          1.8297681048562613e-7,
          2.193144686770971e-7,
          2.109038890389745e-7,
          2.037567133602106e-7,
          2.794964590216269e-7,
          2.553855203591294e-7,
          2.6703118910531044e-7,
          2.0065280278654986e-7,
          2.304359218753549e-7,
          2.646649414604369e-7,
          2.253447889141811e-7,
          1.5872823967721418e-7,
          1.6164221920212177e-7,
          1.1002848837810345e-7,
          1.368823475736674e-7,
          1.4320056179891428e-7,
          9.219004795668617e-8,
          1.4240875251627684e-7,
          1.4755690184694098e-7,
          1.418735079460401e-7,
          1.0816337835681605e-7,
          1.1724707010092249e-7,
          1.2486544275196881e-7,
          1.614774120771434e-7,
          1.7097366805511084e-7,
          1.1469711744022289e-7,
          1.6200124102502649e-7,
          1.0620907225206665e-7,
          1.6207822862187966e-7,
          1.4001256612525964e-7,
          2.566003953232126e-7,
          2.8674317204078346e-8,
          2.3816441688164633e-8,
          1.974544341985622e-8,
          3.1276536017555215e-8,
          2.8601850199675916e-8,
          1.891804556281365e-8,
          3.855080054032505e-8,
          2.8720770038495952e-8,
          1.941913815514673e-8,
          1.895948166345807e-8,
          2.3838890283447642e-8,
          3.361472262390988e-8,
          2.871494575646706e-8,
          2.19563785618538e-8,
          2.423914314446732e-8,
          2.4226329724003764e-8,
          2.8724406029743615e-8,
          1.9845658738104968e-8,
          2.4774166228896943e-8,
          2.383274967784552e-8,
          5.073881571370344e-7,
          3.867136208487261e-7,
          4.953538983757614e-7,
          4.764996595871566e-7,
          4.7366691796938396e-7,
          4.5404938522355085e-7,
          5.707565577979393e-7,
          3.659431372630582e-7,
          4.618534354360309e-7,
          4.801522953135897e-7,
          3.8671524690934034e-7,
          4.0204997898323283e-7,
          5.635946228559193e-7,
          4.057066758370769e-7,
          4.824415921587813e-7,
          4.559851982249841e-7,
          4.55365669654287e-7,
          6.162195271108405e-7,
          4.81077545297099e-7,
          4.398517614614657e-7
         ]
        },
        {
         "name": "SS & FR",
         "type": "box",
         "x": [
          "LogisticRegression",
          "LogisticRegression",
          "LogisticRegression",
          "LogisticRegression",
          "LogisticRegression",
          "LogisticRegression",
          "LogisticRegression",
          "LogisticRegression",
          "LogisticRegression",
          "LogisticRegression",
          "LogisticRegression",
          "LogisticRegression",
          "LogisticRegression",
          "LogisticRegression",
          "LogisticRegression",
          "LogisticRegression",
          "LogisticRegression",
          "LogisticRegression",
          "LogisticRegression",
          "LogisticRegression",
          "SVC",
          "SVC",
          "SVC",
          "SVC",
          "SVC",
          "SVC",
          "SVC",
          "SVC",
          "SVC",
          "SVC",
          "SVC",
          "SVC",
          "SVC",
          "SVC",
          "SVC",
          "SVC",
          "SVC",
          "SVC",
          "SVC",
          "SVC",
          "RandomForestClassifier",
          "RandomForestClassifier",
          "RandomForestClassifier",
          "RandomForestClassifier",
          "RandomForestClassifier",
          "RandomForestClassifier",
          "RandomForestClassifier",
          "RandomForestClassifier",
          "RandomForestClassifier",
          "RandomForestClassifier",
          "RandomForestClassifier",
          "RandomForestClassifier",
          "RandomForestClassifier",
          "RandomForestClassifier",
          "RandomForestClassifier",
          "RandomForestClassifier",
          "RandomForestClassifier",
          "RandomForestClassifier",
          "RandomForestClassifier",
          "RandomForestClassifier",
          "GradientBoostingClassifier",
          "GradientBoostingClassifier",
          "GradientBoostingClassifier",
          "GradientBoostingClassifier",
          "GradientBoostingClassifier",
          "GradientBoostingClassifier",
          "GradientBoostingClassifier",
          "GradientBoostingClassifier",
          "GradientBoostingClassifier",
          "GradientBoostingClassifier",
          "GradientBoostingClassifier",
          "GradientBoostingClassifier",
          "GradientBoostingClassifier",
          "GradientBoostingClassifier",
          "GradientBoostingClassifier",
          "GradientBoostingClassifier",
          "GradientBoostingClassifier",
          "GradientBoostingClassifier",
          "GradientBoostingClassifier",
          "GradientBoostingClassifier",
          "DeepNeuralNetwork",
          "DeepNeuralNetwork",
          "DeepNeuralNetwork",
          "DeepNeuralNetwork",
          "DeepNeuralNetwork",
          "DeepNeuralNetwork",
          "DeepNeuralNetwork",
          "DeepNeuralNetwork",
          "DeepNeuralNetwork",
          "DeepNeuralNetwork",
          "DeepNeuralNetwork",
          "DeepNeuralNetwork",
          "DeepNeuralNetwork",
          "DeepNeuralNetwork",
          "DeepNeuralNetwork",
          "DeepNeuralNetwork",
          "DeepNeuralNetwork",
          "DeepNeuralNetwork",
          "DeepNeuralNetwork",
          "DeepNeuralNetwork"
         ],
         "y": [
          2.875910235736884e-8,
          2.8715619387973543e-8,
          2.8717591792635014e-8,
          2.8722783427734263e-8,
          2.4436357868619363e-8,
          2.8732809389999534e-8,
          2.9182752784391242e-8,
          2.9490315862044925e-8,
          4.7093907976645054e-8,
          2.383427184218453e-8,
          1.8968041456089716e-8,
          1.9534642075377112e-8,
          2.9294916662836804e-8,
          1.9548620352246443e-8,
          2.430190396856581e-8,
          2.3835961403002176e-8,
          2.0163664539267493e-8,
          1.9552114921680616e-8,
          3.360685147334695e-8,
          2.3819794835134786e-8,
          1.963667638272583e-7,
          1.895233035364031e-7,
          1.9237173059095773e-7,
          2.52014250993679e-7,
          1.7667384270164156e-7,
          1.8326223710416446e-7,
          1.768659737336458e-7,
          2.664837768667251e-7,
          2.464610156511886e-7,
          2.2359736286982346e-7,
          2.271622477653494e-7,
          1.906857214259948e-7,
          2.114222794355556e-7,
          1.715252183327829e-7,
          3.212543731997628e-7,
          1.919774434342141e-7,
          2.328394416073378e-7,
          2.447953864261488e-7,
          2.37722270332889e-7,
          2.473865593020236e-7,
          9.774945406598215e-8,
          1.187531215023508e-7,
          1.0248392176060753e-7,
          9.272299069350288e-8,
          1.0307581442829845e-7,
          1.5543611013081086e-7,
          9.295109416993137e-8,
          2.034092773301778e-7,
          8.854423065455044e-8,
          1.3683218847175202e-7,
          1.281563152383779e-7,
          1.0690596607574809e-7,
          1.4104674273571034e-7,
          1.279760303278966e-7,
          1.1181209524750713e-7,
          1.803675321163014e-7,
          1.4644975126804245e-7,
          9.798478854097965e-8,
          9.737826993849385e-8,
          1.551872095052233e-7,
          3.3457779144213315e-8,
          2.9117245486020782e-8,
          3.298881690668061e-8,
          2.444313443924345e-8,
          3.357998877074643e-8,
          2.382950447382681e-8,
          2.4437522725025144e-8,
          2.4469702745825997e-8,
          2.9256146243453185e-8,
          3.3006198137250024e-8,
          1.893114182755472e-8,
          1.8988770470081132e-8,
          1.9542796070217555e-8,
          2.9350922703353866e-8,
          2.3833140465291322e-8,
          1.4604969728179361e-8,
          1.4616618292237137e-8,
          2.8724264607713282e-8,
          1.8913851387858397e-8,
          2.402208906424584e-8,
          4.73253249061445e-7,
          4.981170649320018e-7,
          5.07367189721622e-7,
          3.737707598022461e-7,
          4.999517137854129e-7,
          5.96695941207934e-7,
          4.95399454916506e-7,
          4.158717640380481e-7,
          4.728816155627307e-7,
          4.814064612141712e-7,
          4.918759869240903e-7,
          3.809833717743298e-7,
          4.668290216319066e-7,
          4.78836219992276e-7,
          4.752672415004114e-7,
          4.560994580498929e-7,
          4.831818040042669e-7,
          4.593285111772084e-7,
          4.136078968985067e-7,
          5.163874503279989e-7
         ]
        }
       ],
       "layout": {
        "boxmode": "group",
        "template": {
         "data": {
          "bar": [
           {
            "error_x": {
             "color": "#2a3f5f"
            },
            "error_y": {
             "color": "#2a3f5f"
            },
            "marker": {
             "line": {
              "color": "#E5ECF6",
              "width": 0.5
             },
             "pattern": {
              "fillmode": "overlay",
              "size": 10,
              "solidity": 0.2
             }
            },
            "type": "bar"
           }
          ],
          "barpolar": [
           {
            "marker": {
             "line": {
              "color": "#E5ECF6",
              "width": 0.5
             },
             "pattern": {
              "fillmode": "overlay",
              "size": 10,
              "solidity": 0.2
             }
            },
            "type": "barpolar"
           }
          ],
          "carpet": [
           {
            "aaxis": {
             "endlinecolor": "#2a3f5f",
             "gridcolor": "white",
             "linecolor": "white",
             "minorgridcolor": "white",
             "startlinecolor": "#2a3f5f"
            },
            "baxis": {
             "endlinecolor": "#2a3f5f",
             "gridcolor": "white",
             "linecolor": "white",
             "minorgridcolor": "white",
             "startlinecolor": "#2a3f5f"
            },
            "type": "carpet"
           }
          ],
          "choropleth": [
           {
            "colorbar": {
             "outlinewidth": 0,
             "ticks": ""
            },
            "type": "choropleth"
           }
          ],
          "contour": [
           {
            "colorbar": {
             "outlinewidth": 0,
             "ticks": ""
            },
            "colorscale": [
             [
              0,
              "#0d0887"
             ],
             [
              0.1111111111111111,
              "#46039f"
             ],
             [
              0.2222222222222222,
              "#7201a8"
             ],
             [
              0.3333333333333333,
              "#9c179e"
             ],
             [
              0.4444444444444444,
              "#bd3786"
             ],
             [
              0.5555555555555556,
              "#d8576b"
             ],
             [
              0.6666666666666666,
              "#ed7953"
             ],
             [
              0.7777777777777778,
              "#fb9f3a"
             ],
             [
              0.8888888888888888,
              "#fdca26"
             ],
             [
              1,
              "#f0f921"
             ]
            ],
            "type": "contour"
           }
          ],
          "contourcarpet": [
           {
            "colorbar": {
             "outlinewidth": 0,
             "ticks": ""
            },
            "type": "contourcarpet"
           }
          ],
          "heatmap": [
           {
            "colorbar": {
             "outlinewidth": 0,
             "ticks": ""
            },
            "colorscale": [
             [
              0,
              "#0d0887"
             ],
             [
              0.1111111111111111,
              "#46039f"
             ],
             [
              0.2222222222222222,
              "#7201a8"
             ],
             [
              0.3333333333333333,
              "#9c179e"
             ],
             [
              0.4444444444444444,
              "#bd3786"
             ],
             [
              0.5555555555555556,
              "#d8576b"
             ],
             [
              0.6666666666666666,
              "#ed7953"
             ],
             [
              0.7777777777777778,
              "#fb9f3a"
             ],
             [
              0.8888888888888888,
              "#fdca26"
             ],
             [
              1,
              "#f0f921"
             ]
            ],
            "type": "heatmap"
           }
          ],
          "heatmapgl": [
           {
            "colorbar": {
             "outlinewidth": 0,
             "ticks": ""
            },
            "colorscale": [
             [
              0,
              "#0d0887"
             ],
             [
              0.1111111111111111,
              "#46039f"
             ],
             [
              0.2222222222222222,
              "#7201a8"
             ],
             [
              0.3333333333333333,
              "#9c179e"
             ],
             [
              0.4444444444444444,
              "#bd3786"
             ],
             [
              0.5555555555555556,
              "#d8576b"
             ],
             [
              0.6666666666666666,
              "#ed7953"
             ],
             [
              0.7777777777777778,
              "#fb9f3a"
             ],
             [
              0.8888888888888888,
              "#fdca26"
             ],
             [
              1,
              "#f0f921"
             ]
            ],
            "type": "heatmapgl"
           }
          ],
          "histogram": [
           {
            "marker": {
             "pattern": {
              "fillmode": "overlay",
              "size": 10,
              "solidity": 0.2
             }
            },
            "type": "histogram"
           }
          ],
          "histogram2d": [
           {
            "colorbar": {
             "outlinewidth": 0,
             "ticks": ""
            },
            "colorscale": [
             [
              0,
              "#0d0887"
             ],
             [
              0.1111111111111111,
              "#46039f"
             ],
             [
              0.2222222222222222,
              "#7201a8"
             ],
             [
              0.3333333333333333,
              "#9c179e"
             ],
             [
              0.4444444444444444,
              "#bd3786"
             ],
             [
              0.5555555555555556,
              "#d8576b"
             ],
             [
              0.6666666666666666,
              "#ed7953"
             ],
             [
              0.7777777777777778,
              "#fb9f3a"
             ],
             [
              0.8888888888888888,
              "#fdca26"
             ],
             [
              1,
              "#f0f921"
             ]
            ],
            "type": "histogram2d"
           }
          ],
          "histogram2dcontour": [
           {
            "colorbar": {
             "outlinewidth": 0,
             "ticks": ""
            },
            "colorscale": [
             [
              0,
              "#0d0887"
             ],
             [
              0.1111111111111111,
              "#46039f"
             ],
             [
              0.2222222222222222,
              "#7201a8"
             ],
             [
              0.3333333333333333,
              "#9c179e"
             ],
             [
              0.4444444444444444,
              "#bd3786"
             ],
             [
              0.5555555555555556,
              "#d8576b"
             ],
             [
              0.6666666666666666,
              "#ed7953"
             ],
             [
              0.7777777777777778,
              "#fb9f3a"
             ],
             [
              0.8888888888888888,
              "#fdca26"
             ],
             [
              1,
              "#f0f921"
             ]
            ],
            "type": "histogram2dcontour"
           }
          ],
          "mesh3d": [
           {
            "colorbar": {
             "outlinewidth": 0,
             "ticks": ""
            },
            "type": "mesh3d"
           }
          ],
          "parcoords": [
           {
            "line": {
             "colorbar": {
              "outlinewidth": 0,
              "ticks": ""
             }
            },
            "type": "parcoords"
           }
          ],
          "pie": [
           {
            "automargin": true,
            "type": "pie"
           }
          ],
          "scatter": [
           {
            "fillpattern": {
             "fillmode": "overlay",
             "size": 10,
             "solidity": 0.2
            },
            "type": "scatter"
           }
          ],
          "scatter3d": [
           {
            "line": {
             "colorbar": {
              "outlinewidth": 0,
              "ticks": ""
             }
            },
            "marker": {
             "colorbar": {
              "outlinewidth": 0,
              "ticks": ""
             }
            },
            "type": "scatter3d"
           }
          ],
          "scattercarpet": [
           {
            "marker": {
             "colorbar": {
              "outlinewidth": 0,
              "ticks": ""
             }
            },
            "type": "scattercarpet"
           }
          ],
          "scattergeo": [
           {
            "marker": {
             "colorbar": {
              "outlinewidth": 0,
              "ticks": ""
             }
            },
            "type": "scattergeo"
           }
          ],
          "scattergl": [
           {
            "marker": {
             "colorbar": {
              "outlinewidth": 0,
              "ticks": ""
             }
            },
            "type": "scattergl"
           }
          ],
          "scattermapbox": [
           {
            "marker": {
             "colorbar": {
              "outlinewidth": 0,
              "ticks": ""
             }
            },
            "type": "scattermapbox"
           }
          ],
          "scatterpolar": [
           {
            "marker": {
             "colorbar": {
              "outlinewidth": 0,
              "ticks": ""
             }
            },
            "type": "scatterpolar"
           }
          ],
          "scatterpolargl": [
           {
            "marker": {
             "colorbar": {
              "outlinewidth": 0,
              "ticks": ""
             }
            },
            "type": "scatterpolargl"
           }
          ],
          "scatterternary": [
           {
            "marker": {
             "colorbar": {
              "outlinewidth": 0,
              "ticks": ""
             }
            },
            "type": "scatterternary"
           }
          ],
          "surface": [
           {
            "colorbar": {
             "outlinewidth": 0,
             "ticks": ""
            },
            "colorscale": [
             [
              0,
              "#0d0887"
             ],
             [
              0.1111111111111111,
              "#46039f"
             ],
             [
              0.2222222222222222,
              "#7201a8"
             ],
             [
              0.3333333333333333,
              "#9c179e"
             ],
             [
              0.4444444444444444,
              "#bd3786"
             ],
             [
              0.5555555555555556,
              "#d8576b"
             ],
             [
              0.6666666666666666,
              "#ed7953"
             ],
             [
              0.7777777777777778,
              "#fb9f3a"
             ],
             [
              0.8888888888888888,
              "#fdca26"
             ],
             [
              1,
              "#f0f921"
             ]
            ],
            "type": "surface"
           }
          ],
          "table": [
           {
            "cells": {
             "fill": {
              "color": "#EBF0F8"
             },
             "line": {
              "color": "white"
             }
            },
            "header": {
             "fill": {
              "color": "#C8D4E3"
             },
             "line": {
              "color": "white"
             }
            },
            "type": "table"
           }
          ]
         },
         "layout": {
          "annotationdefaults": {
           "arrowcolor": "#2a3f5f",
           "arrowhead": 0,
           "arrowwidth": 1
          },
          "autotypenumbers": "strict",
          "coloraxis": {
           "colorbar": {
            "outlinewidth": 0,
            "ticks": ""
           }
          },
          "colorscale": {
           "diverging": [
            [
             0,
             "#8e0152"
            ],
            [
             0.1,
             "#c51b7d"
            ],
            [
             0.2,
             "#de77ae"
            ],
            [
             0.3,
             "#f1b6da"
            ],
            [
             0.4,
             "#fde0ef"
            ],
            [
             0.5,
             "#f7f7f7"
            ],
            [
             0.6,
             "#e6f5d0"
            ],
            [
             0.7,
             "#b8e186"
            ],
            [
             0.8,
             "#7fbc41"
            ],
            [
             0.9,
             "#4d9221"
            ],
            [
             1,
             "#276419"
            ]
           ],
           "sequential": [
            [
             0,
             "#0d0887"
            ],
            [
             0.1111111111111111,
             "#46039f"
            ],
            [
             0.2222222222222222,
             "#7201a8"
            ],
            [
             0.3333333333333333,
             "#9c179e"
            ],
            [
             0.4444444444444444,
             "#bd3786"
            ],
            [
             0.5555555555555556,
             "#d8576b"
            ],
            [
             0.6666666666666666,
             "#ed7953"
            ],
            [
             0.7777777777777778,
             "#fb9f3a"
            ],
            [
             0.8888888888888888,
             "#fdca26"
            ],
            [
             1,
             "#f0f921"
            ]
           ],
           "sequentialminus": [
            [
             0,
             "#0d0887"
            ],
            [
             0.1111111111111111,
             "#46039f"
            ],
            [
             0.2222222222222222,
             "#7201a8"
            ],
            [
             0.3333333333333333,
             "#9c179e"
            ],
            [
             0.4444444444444444,
             "#bd3786"
            ],
            [
             0.5555555555555556,
             "#d8576b"
            ],
            [
             0.6666666666666666,
             "#ed7953"
            ],
            [
             0.7777777777777778,
             "#fb9f3a"
            ],
            [
             0.8888888888888888,
             "#fdca26"
            ],
            [
             1,
             "#f0f921"
            ]
           ]
          },
          "colorway": [
           "#636efa",
           "#EF553B",
           "#00cc96",
           "#ab63fa",
           "#FFA15A",
           "#19d3f3",
           "#FF6692",
           "#B6E880",
           "#FF97FF",
           "#FECB52"
          ],
          "font": {
           "color": "#2a3f5f"
          },
          "geo": {
           "bgcolor": "white",
           "lakecolor": "white",
           "landcolor": "#E5ECF6",
           "showlakes": true,
           "showland": true,
           "subunitcolor": "white"
          },
          "hoverlabel": {
           "align": "left"
          },
          "hovermode": "closest",
          "mapbox": {
           "style": "light"
          },
          "paper_bgcolor": "white",
          "plot_bgcolor": "#E5ECF6",
          "polar": {
           "angularaxis": {
            "gridcolor": "white",
            "linecolor": "white",
            "ticks": ""
           },
           "bgcolor": "#E5ECF6",
           "radialaxis": {
            "gridcolor": "white",
            "linecolor": "white",
            "ticks": ""
           }
          },
          "scene": {
           "xaxis": {
            "backgroundcolor": "#E5ECF6",
            "gridcolor": "white",
            "gridwidth": 2,
            "linecolor": "white",
            "showbackground": true,
            "ticks": "",
            "zerolinecolor": "white"
           },
           "yaxis": {
            "backgroundcolor": "#E5ECF6",
            "gridcolor": "white",
            "gridwidth": 2,
            "linecolor": "white",
            "showbackground": true,
            "ticks": "",
            "zerolinecolor": "white"
           },
           "zaxis": {
            "backgroundcolor": "#E5ECF6",
            "gridcolor": "white",
            "gridwidth": 2,
            "linecolor": "white",
            "showbackground": true,
            "ticks": "",
            "zerolinecolor": "white"
           }
          },
          "shapedefaults": {
           "line": {
            "color": "#2a3f5f"
           }
          },
          "ternary": {
           "aaxis": {
            "gridcolor": "white",
            "linecolor": "white",
            "ticks": ""
           },
           "baxis": {
            "gridcolor": "white",
            "linecolor": "white",
            "ticks": ""
           },
           "bgcolor": "#E5ECF6",
           "caxis": {
            "gridcolor": "white",
            "linecolor": "white",
            "ticks": ""
           }
          },
          "title": {
           "x": 0.05
          },
          "xaxis": {
           "automargin": true,
           "gridcolor": "white",
           "linecolor": "white",
           "ticks": "",
           "title": {
            "standoff": 15
           },
           "zerolinecolor": "white",
           "zerolinewidth": 2
          },
          "yaxis": {
           "automargin": true,
           "gridcolor": "white",
           "linecolor": "white",
           "ticks": "",
           "title": {
            "standoff": 15
           },
           "zerolinecolor": "white",
           "zerolinewidth": 2
          }
         }
        },
        "title": {
         "text": "emissions_pred"
        },
        "yaxis": {
         "title": {
          "text": "emissions_pred"
         }
        }
       }
      }
     },
     "metadata": {},
     "output_type": "display_data"
    }
   ],
   "source": [
    "make_plots('emissions_prep')\n",
    "make_plots('emissions_train')\n",
    "make_plots('emissions_pred')"
   ]
  },
  {
   "cell_type": "markdown",
   "metadata": {},
   "source": [
    "# Combined measures"
   ]
  },
  {
   "cell_type": "code",
   "execution_count": 9,
   "metadata": {},
   "outputs": [
    {
     "data": {
      "application/vnd.plotly.v1+json": {
       "config": {
        "plotlyServerURL": "https://plot.ly"
       },
       "data": [
        {
         "name": "Full",
         "type": "box",
         "x": [
          "LogisticRegression",
          "LogisticRegression",
          "LogisticRegression",
          "LogisticRegression",
          "LogisticRegression",
          "LogisticRegression",
          "LogisticRegression",
          "LogisticRegression",
          "LogisticRegression",
          "LogisticRegression",
          "LogisticRegression",
          "LogisticRegression",
          "LogisticRegression",
          "LogisticRegression",
          "LogisticRegression",
          "LogisticRegression",
          "LogisticRegression",
          "LogisticRegression",
          "LogisticRegression",
          "LogisticRegression",
          "SVC",
          "SVC",
          "SVC",
          "SVC",
          "SVC",
          "SVC",
          "SVC",
          "SVC",
          "SVC",
          "SVC",
          "SVC",
          "SVC",
          "SVC",
          "SVC",
          "SVC",
          "SVC",
          "SVC",
          "SVC",
          "SVC",
          "SVC",
          "RandomForestClassifier",
          "RandomForestClassifier",
          "RandomForestClassifier",
          "RandomForestClassifier",
          "RandomForestClassifier",
          "RandomForestClassifier",
          "RandomForestClassifier",
          "RandomForestClassifier",
          "RandomForestClassifier",
          "RandomForestClassifier",
          "RandomForestClassifier",
          "RandomForestClassifier",
          "RandomForestClassifier",
          "RandomForestClassifier",
          "RandomForestClassifier",
          "RandomForestClassifier",
          "RandomForestClassifier",
          "RandomForestClassifier",
          "RandomForestClassifier",
          "RandomForestClassifier",
          "GradientBoostingClassifier",
          "GradientBoostingClassifier",
          "GradientBoostingClassifier",
          "GradientBoostingClassifier",
          "GradientBoostingClassifier",
          "GradientBoostingClassifier",
          "GradientBoostingClassifier",
          "GradientBoostingClassifier",
          "GradientBoostingClassifier",
          "GradientBoostingClassifier",
          "GradientBoostingClassifier",
          "GradientBoostingClassifier",
          "GradientBoostingClassifier",
          "GradientBoostingClassifier",
          "GradientBoostingClassifier",
          "GradientBoostingClassifier",
          "GradientBoostingClassifier",
          "GradientBoostingClassifier",
          "GradientBoostingClassifier",
          "GradientBoostingClassifier",
          "DeepNeuralNetwork",
          "DeepNeuralNetwork",
          "DeepNeuralNetwork",
          "DeepNeuralNetwork",
          "DeepNeuralNetwork",
          "DeepNeuralNetwork",
          "DeepNeuralNetwork",
          "DeepNeuralNetwork",
          "DeepNeuralNetwork",
          "DeepNeuralNetwork",
          "DeepNeuralNetwork",
          "DeepNeuralNetwork",
          "DeepNeuralNetwork",
          "DeepNeuralNetwork",
          "DeepNeuralNetwork",
          "DeepNeuralNetwork",
          "DeepNeuralNetwork",
          "DeepNeuralNetwork",
          "DeepNeuralNetwork",
          "DeepNeuralNetwork"
         ],
         "y": [
          0.053102970123290905,
          0.0471124649047849,
          0.0598020553588866,
          0.0446321964263915,
          0.0433213710784911,
          0.0512316226959227,
          0.052372932434082,
          0.0350384712219237,
          0.0461654663085935,
          0.0649187564849852,
          0.0390577316284178,
          0.0393884181976316,
          0.0484499931335448,
          0.0540285110473631,
          0.0507173538208006,
          0.0486521720886229,
          0.0554022789001463,
          0.0479116439819334,
          0.0489101409912108,
          0.0552134513854979,
          0.0963778495788573,
          0.1140866279602049,
          0.08735251426696759,
          0.1106359958648681,
          0.09110450744628901,
          0.0993528366088866,
          0.08769011497497539,
          0.0965330600738524,
          0.0823049545288085,
          0.0944142341613768,
          0.12147593498229961,
          0.14484286308288558,
          0.094482660293579,
          0.1089603900909423,
          0.1149835586547849,
          0.1272344589233397,
          0.0979065895080565,
          0.1211397647857665,
          0.1277942657470701,
          0.1315340995788573,
          0.3019359111785888,
          0.2940089702606199,
          0.3321852684020995,
          0.2933273315429686,
          0.28719043731689436,
          0.3077168464660643,
          0.3190445899963378,
          0.29897880554199197,
          0.316270112991333,
          0.2877826690673827,
          0.2904212474822996,
          0.3372147083282469,
          0.2825543880462645,
          0.24824142456054682,
          0.29309511184692366,
          0.3078117370605468,
          0.3128814697265623,
          0.3058207035064696,
          0.32803750038146967,
          0.322716474533081,
          0.1762874126434325,
          0.1847531795501708,
          0.18698668479919411,
          0.18742799758911116,
          0.1892442703247069,
          0.1628942489624022,
          0.2008838653564452,
          0.2598512172698973,
          0.155287742614746,
          0.1783196926116942,
          0.2140421867370603,
          0.1774773597717284,
          0.1728940010070799,
          0.1569473743438719,
          0.2005622386932371,
          0.2116427421569822,
          0.18313574790954573,
          0.1930229663848875,
          0.18296718597412098,
          0.2024991512298583,
          1.8193907737731934,
          1.4441163539886475,
          1.3792364597320557,
          1.1357228755950928,
          0.8544633388519287,
          0.860462427139282,
          0.8894786834716797,
          0.8682081699371338,
          0.8592348098754882,
          0.8859276771545409,
          1.3033459186553955,
          0.9033327102661131,
          0.8937969207763671,
          0.9119040966033934,
          0.8968367576599121,
          0.9068303108215332,
          0.8807501792907713,
          0.9069530963897704,
          0.8940045833587644,
          0.8937144279479979
         ]
        },
        {
         "name": "FR",
         "type": "box",
         "x": [
          "LogisticRegression",
          "LogisticRegression",
          "LogisticRegression",
          "LogisticRegression",
          "LogisticRegression",
          "LogisticRegression",
          "LogisticRegression",
          "LogisticRegression",
          "LogisticRegression",
          "LogisticRegression",
          "LogisticRegression",
          "LogisticRegression",
          "LogisticRegression",
          "LogisticRegression",
          "LogisticRegression",
          "LogisticRegression",
          "LogisticRegression",
          "LogisticRegression",
          "LogisticRegression",
          "LogisticRegression",
          "SVC",
          "SVC",
          "SVC",
          "SVC",
          "SVC",
          "SVC",
          "SVC",
          "SVC",
          "SVC",
          "SVC",
          "SVC",
          "SVC",
          "SVC",
          "SVC",
          "SVC",
          "SVC",
          "SVC",
          "SVC",
          "SVC",
          "SVC",
          "RandomForestClassifier",
          "RandomForestClassifier",
          "RandomForestClassifier",
          "RandomForestClassifier",
          "RandomForestClassifier",
          "RandomForestClassifier",
          "RandomForestClassifier",
          "RandomForestClassifier",
          "RandomForestClassifier",
          "RandomForestClassifier",
          "RandomForestClassifier",
          "RandomForestClassifier",
          "RandomForestClassifier",
          "RandomForestClassifier",
          "RandomForestClassifier",
          "RandomForestClassifier",
          "RandomForestClassifier",
          "RandomForestClassifier",
          "RandomForestClassifier",
          "RandomForestClassifier",
          "GradientBoostingClassifier",
          "GradientBoostingClassifier",
          "GradientBoostingClassifier",
          "GradientBoostingClassifier",
          "GradientBoostingClassifier",
          "GradientBoostingClassifier",
          "GradientBoostingClassifier",
          "GradientBoostingClassifier",
          "GradientBoostingClassifier",
          "GradientBoostingClassifier",
          "GradientBoostingClassifier",
          "GradientBoostingClassifier",
          "GradientBoostingClassifier",
          "GradientBoostingClassifier",
          "GradientBoostingClassifier",
          "GradientBoostingClassifier",
          "GradientBoostingClassifier",
          "GradientBoostingClassifier",
          "GradientBoostingClassifier",
          "GradientBoostingClassifier",
          "DeepNeuralNetwork",
          "DeepNeuralNetwork",
          "DeepNeuralNetwork",
          "DeepNeuralNetwork",
          "DeepNeuralNetwork",
          "DeepNeuralNetwork",
          "DeepNeuralNetwork",
          "DeepNeuralNetwork",
          "DeepNeuralNetwork",
          "DeepNeuralNetwork",
          "DeepNeuralNetwork",
          "DeepNeuralNetwork",
          "DeepNeuralNetwork",
          "DeepNeuralNetwork",
          "DeepNeuralNetwork",
          "DeepNeuralNetwork",
          "DeepNeuralNetwork",
          "DeepNeuralNetwork",
          "DeepNeuralNetwork",
          "DeepNeuralNetwork"
         ],
         "y": [
          0.06562042236328111,
          0.0411515235900877,
          0.0487942695617674,
          0.037136793136596596,
          0.0673611164093017,
          0.0448961257934569,
          0.035703420639038,
          0.0392608642578123,
          0.0399866104125976,
          0.059988498687744,
          0.067340612411499,
          0.0480942726135252,
          0.0503346920013427,
          0.0575129985809325,
          0.056346178054809404,
          0.05615258216857889,
          0.0748732089996337,
          0.0361146926879881,
          0.05670166015624979,
          0.051798343658447106,
          0.12064695358276349,
          0.1224899291992185,
          0.1131613254547118,
          0.1273708343505858,
          0.107602834701538,
          0.0970659255981445,
          0.1049506664276122,
          0.13475537300109852,
          0.1035847663879393,
          0.10774827003479001,
          0.0988016128540037,
          0.1592628955841063,
          0.11496257781982411,
          0.10432171821594222,
          0.1205577850341795,
          0.12374186515808089,
          0.1204092502593993,
          0.09742593765258781,
          0.1160874366760252,
          0.1379363536834715,
          0.3180530071258544,
          0.31469988822937,
          0.3284873962402342,
          0.32060337066650374,
          0.3300294876098631,
          0.3038508892059325,
          0.3045158386230468,
          0.2917733192443846,
          0.3661141395568847,
          0.3221404552459715,
          0.2801740169525145,
          0.345907688140869,
          0.33265519142150873,
          0.2974998950958251,
          0.2910485267639158,
          0.3742802143096922,
          0.35675311088562006,
          0.30283069610595686,
          0.311073064804077,
          0.297792911529541,
          0.2020113468170165,
          0.1975421905517578,
          0.1771292686462401,
          0.22066473960876448,
          0.1726534366607664,
          0.1812098026275633,
          0.1727442741394041,
          0.1814870834350585,
          0.1937818527221679,
          0.2108006477355957,
          0.18705677986144997,
          0.21318030357360832,
          0.174675941467285,
          0.1840035915374754,
          0.19867801666259752,
          0.1811015605926513,
          0.1796147823333739,
          0.18136215209960926,
          0.1724593639373778,
          0.16506695747375483,
          0.9287476539611815,
          0.8659365177154539,
          0.8722922801971433,
          0.8665895462036133,
          0.8881595134735106,
          0.862971544265747,
          0.8660628795623778,
          0.8601386547088622,
          0.8602769374847411,
          0.8805415630340574,
          0.8812046051025388,
          0.9009668827056884,
          0.8517775535583496,
          0.9025330543518066,
          1.4468295574188232,
          0.9096198081970215,
          0.922966957092285,
          0.8367903232574463,
          0.8823351860046386,
          0.8908281326293944
         ]
        },
        {
         "name": "SS",
         "type": "box",
         "x": [
          "LogisticRegression",
          "LogisticRegression",
          "LogisticRegression",
          "LogisticRegression",
          "LogisticRegression",
          "LogisticRegression",
          "LogisticRegression",
          "LogisticRegression",
          "LogisticRegression",
          "LogisticRegression",
          "LogisticRegression",
          "LogisticRegression",
          "LogisticRegression",
          "LogisticRegression",
          "LogisticRegression",
          "LogisticRegression",
          "LogisticRegression",
          "LogisticRegression",
          "LogisticRegression",
          "LogisticRegression",
          "SVC",
          "SVC",
          "SVC",
          "SVC",
          "SVC",
          "SVC",
          "SVC",
          "SVC",
          "SVC",
          "SVC",
          "SVC",
          "SVC",
          "SVC",
          "SVC",
          "SVC",
          "SVC",
          "SVC",
          "SVC",
          "SVC",
          "SVC",
          "RandomForestClassifier",
          "RandomForestClassifier",
          "RandomForestClassifier",
          "RandomForestClassifier",
          "RandomForestClassifier",
          "RandomForestClassifier",
          "RandomForestClassifier",
          "RandomForestClassifier",
          "RandomForestClassifier",
          "RandomForestClassifier",
          "RandomForestClassifier",
          "RandomForestClassifier",
          "RandomForestClassifier",
          "RandomForestClassifier",
          "RandomForestClassifier",
          "RandomForestClassifier",
          "RandomForestClassifier",
          "RandomForestClassifier",
          "RandomForestClassifier",
          "RandomForestClassifier",
          "GradientBoostingClassifier",
          "GradientBoostingClassifier",
          "GradientBoostingClassifier",
          "GradientBoostingClassifier",
          "GradientBoostingClassifier",
          "GradientBoostingClassifier",
          "GradientBoostingClassifier",
          "GradientBoostingClassifier",
          "GradientBoostingClassifier",
          "GradientBoostingClassifier",
          "GradientBoostingClassifier",
          "GradientBoostingClassifier",
          "GradientBoostingClassifier",
          "GradientBoostingClassifier",
          "GradientBoostingClassifier",
          "GradientBoostingClassifier",
          "GradientBoostingClassifier",
          "GradientBoostingClassifier",
          "GradientBoostingClassifier",
          "GradientBoostingClassifier",
          "DeepNeuralNetwork",
          "DeepNeuralNetwork",
          "DeepNeuralNetwork",
          "DeepNeuralNetwork",
          "DeepNeuralNetwork",
          "DeepNeuralNetwork",
          "DeepNeuralNetwork",
          "DeepNeuralNetwork",
          "DeepNeuralNetwork",
          "DeepNeuralNetwork",
          "DeepNeuralNetwork",
          "DeepNeuralNetwork",
          "DeepNeuralNetwork",
          "DeepNeuralNetwork",
          "DeepNeuralNetwork",
          "DeepNeuralNetwork",
          "DeepNeuralNetwork",
          "DeepNeuralNetwork",
          "DeepNeuralNetwork",
          "DeepNeuralNetwork"
         ],
         "y": [
          0.0343711376190184,
          0.0522153377532958,
          0.0347380638122558,
          0.0387868881225584,
          0.04914450645446761,
          0.0517680644989012,
          0.0606071949005126,
          0.0513625144958495,
          0.050401926040649296,
          0.0486125946044921,
          0.0524313449859618,
          0.0593793392181395,
          0.05061507225036611,
          0.0511474609374999,
          0.0416982173919677,
          0.049988269805908106,
          0.0485334396362303,
          0.0406057834625243,
          0.043614864349365,
          0.051171302795410004,
          0.1229317188262938,
          0.1232259273529051,
          0.11263895034790031,
          0.11865997314453111,
          0.13813757896423332,
          0.113859176635742,
          0.1120619773864744,
          0.1035082340240477,
          0.1488006114959715,
          0.0832889080047606,
          0.109868288040161,
          0.10168361663818351,
          0.0967273712158202,
          0.1177685260772703,
          0.14020204544067372,
          0.10803079605102531,
          0.0944585800170897,
          0.1113419532775877,
          0.1222317218780515,
          0.1096377372741697,
          0.3102018833160399,
          0.30376696586608887,
          0.30900740623474104,
          0.2989928722381591,
          0.32384538650512673,
          0.29243826866149886,
          0.3022353649139403,
          0.2985084056854247,
          0.3435134887695311,
          0.28153181076049777,
          0.3233542442321777,
          0.2909891605377196,
          0.3095250129699706,
          0.30294513702392556,
          0.30730962753295893,
          0.3045272827148435,
          0.2747063636779784,
          0.323578119277954,
          0.30705881118774403,
          0.32867574691772455,
          0.204301357269287,
          0.1766510009765623,
          0.1776416301727294,
          0.167121648788452,
          0.1847543716430663,
          0.21666479110717754,
          0.17105770111083982,
          0.1876580715179442,
          0.1616752147674559,
          0.18493819236755357,
          0.1690592765808104,
          0.1741948127746582,
          0.1801676750183103,
          0.15708374977111797,
          0.1940059661865233,
          0.194360017776489,
          0.19140696525573708,
          0.20086908340454088,
          0.17913007736206038,
          0.19673705101013161,
          0.9228730201721191,
          0.8750863075256348,
          0.9333162307739256,
          0.8880136013031005,
          0.8782308101654052,
          0.8835647106170653,
          0.8736214637756348,
          0.8651196956634521,
          0.9192721843719482,
          0.9180943965911865,
          0.8731501102447508,
          0.9362294673919676,
          0.9197895526885985,
          0.8729918003082273,
          0.8702254295349121,
          0.8766751289367676,
          0.9028046131134032,
          0.8718676567077637,
          0.8981349468231201,
          0.902569055557251
         ]
        },
        {
         "name": "SS & FR",
         "type": "box",
         "x": [
          "LogisticRegression",
          "LogisticRegression",
          "LogisticRegression",
          "LogisticRegression",
          "LogisticRegression",
          "LogisticRegression",
          "LogisticRegression",
          "LogisticRegression",
          "LogisticRegression",
          "LogisticRegression",
          "LogisticRegression",
          "LogisticRegression",
          "LogisticRegression",
          "LogisticRegression",
          "LogisticRegression",
          "LogisticRegression",
          "LogisticRegression",
          "LogisticRegression",
          "LogisticRegression",
          "LogisticRegression",
          "SVC",
          "SVC",
          "SVC",
          "SVC",
          "SVC",
          "SVC",
          "SVC",
          "SVC",
          "SVC",
          "SVC",
          "SVC",
          "SVC",
          "SVC",
          "SVC",
          "SVC",
          "SVC",
          "SVC",
          "SVC",
          "SVC",
          "SVC",
          "RandomForestClassifier",
          "RandomForestClassifier",
          "RandomForestClassifier",
          "RandomForestClassifier",
          "RandomForestClassifier",
          "RandomForestClassifier",
          "RandomForestClassifier",
          "RandomForestClassifier",
          "RandomForestClassifier",
          "RandomForestClassifier",
          "RandomForestClassifier",
          "RandomForestClassifier",
          "RandomForestClassifier",
          "RandomForestClassifier",
          "RandomForestClassifier",
          "RandomForestClassifier",
          "RandomForestClassifier",
          "RandomForestClassifier",
          "RandomForestClassifier",
          "RandomForestClassifier",
          "GradientBoostingClassifier",
          "GradientBoostingClassifier",
          "GradientBoostingClassifier",
          "GradientBoostingClassifier",
          "GradientBoostingClassifier",
          "GradientBoostingClassifier",
          "GradientBoostingClassifier",
          "GradientBoostingClassifier",
          "GradientBoostingClassifier",
          "GradientBoostingClassifier",
          "GradientBoostingClassifier",
          "GradientBoostingClassifier",
          "GradientBoostingClassifier",
          "GradientBoostingClassifier",
          "GradientBoostingClassifier",
          "GradientBoostingClassifier",
          "GradientBoostingClassifier",
          "GradientBoostingClassifier",
          "GradientBoostingClassifier",
          "GradientBoostingClassifier",
          "DeepNeuralNetwork",
          "DeepNeuralNetwork",
          "DeepNeuralNetwork",
          "DeepNeuralNetwork",
          "DeepNeuralNetwork",
          "DeepNeuralNetwork",
          "DeepNeuralNetwork",
          "DeepNeuralNetwork",
          "DeepNeuralNetwork",
          "DeepNeuralNetwork",
          "DeepNeuralNetwork",
          "DeepNeuralNetwork",
          "DeepNeuralNetwork",
          "DeepNeuralNetwork",
          "DeepNeuralNetwork",
          "DeepNeuralNetwork",
          "DeepNeuralNetwork",
          "DeepNeuralNetwork",
          "DeepNeuralNetwork",
          "DeepNeuralNetwork"
         ],
         "y": [
          0.06511998176574689,
          0.050176143646240096,
          0.0617189407348631,
          0.0570161342620849,
          0.0462198257446288,
          0.0502357482910155,
          0.0595912933349609,
          0.0459520816802977,
          0.0517220497131346,
          0.0464696884155272,
          0.054285049438476396,
          0.0459253787994384,
          0.0388851165771482,
          0.0472104549407957,
          0.0523667335510253,
          0.0350990295410155,
          0.059571504592895404,
          0.041141986846923696,
          0.060214996337890396,
          0.050844430923461796,
          0.0945422649383544,
          0.0967326164245603,
          0.0984227657318114,
          0.10371136665344219,
          0.10663485527038559,
          0.1097095012664794,
          0.09189987182617171,
          0.1168975830078124,
          0.1045687198638915,
          0.1033232212066649,
          0.10203766822814919,
          0.0988931655883788,
          0.0992579460144041,
          0.09403157234191889,
          0.1229426860809325,
          0.0865805149078368,
          0.10253143310546861,
          0.10522913932800271,
          0.13764071464538558,
          0.1135058403015135,
          0.3202970027923583,
          0.34383487701416,
          0.3090457916259765,
          0.3117787837982176,
          0.29389834403991677,
          0.322202444076538,
          0.3032429218292235,
          0.30152773857116677,
          0.3176290988922118,
          0.3257114887237548,
          0.3040647506713866,
          0.3181116580963134,
          0.2972378730773925,
          0.3077735900878904,
          0.3038585186004638,
          0.3187365531921385,
          0.29561495780944813,
          0.3302197456359863,
          0.2808268070220946,
          0.2826716899871825,
          0.21100854873657218,
          0.2016153335571287,
          0.1696739196777343,
          0.18437480926513658,
          0.21947169303894037,
          0.1779618263244628,
          0.2080931663513183,
          0.1838722229003905,
          0.18653917312622056,
          0.196146011352539,
          0.1637909412384032,
          0.16997957229614238,
          0.18018603324890128,
          0.20473885536193828,
          0.2304568290710448,
          0.188328742980957,
          0.1593697071075438,
          0.1917543411254882,
          0.18764519691467269,
          0.1885328292846678,
          0.9214611053466797,
          0.9393773078918457,
          0.9089009761810303,
          1.5958068370819092,
          0.9376680850982666,
          0.9650418758392333,
          0.9111998081207274,
          0.8428289890289306,
          0.9073786735534666,
          0.8881187438964843,
          0.8994741439819335,
          0.8478617668151854,
          0.8907361030578612,
          0.8867409229278563,
          0.9316091537475585,
          0.8707990646362305,
          0.9342620372772215,
          0.8968257904052734,
          0.8954308032989502,
          0.930237054824829
         ]
        }
       ],
       "layout": {
        "boxmode": "group",
        "template": {
         "data": {
          "bar": [
           {
            "error_x": {
             "color": "#2a3f5f"
            },
            "error_y": {
             "color": "#2a3f5f"
            },
            "marker": {
             "line": {
              "color": "#E5ECF6",
              "width": 0.5
             },
             "pattern": {
              "fillmode": "overlay",
              "size": 10,
              "solidity": 0.2
             }
            },
            "type": "bar"
           }
          ],
          "barpolar": [
           {
            "marker": {
             "line": {
              "color": "#E5ECF6",
              "width": 0.5
             },
             "pattern": {
              "fillmode": "overlay",
              "size": 10,
              "solidity": 0.2
             }
            },
            "type": "barpolar"
           }
          ],
          "carpet": [
           {
            "aaxis": {
             "endlinecolor": "#2a3f5f",
             "gridcolor": "white",
             "linecolor": "white",
             "minorgridcolor": "white",
             "startlinecolor": "#2a3f5f"
            },
            "baxis": {
             "endlinecolor": "#2a3f5f",
             "gridcolor": "white",
             "linecolor": "white",
             "minorgridcolor": "white",
             "startlinecolor": "#2a3f5f"
            },
            "type": "carpet"
           }
          ],
          "choropleth": [
           {
            "colorbar": {
             "outlinewidth": 0,
             "ticks": ""
            },
            "type": "choropleth"
           }
          ],
          "contour": [
           {
            "colorbar": {
             "outlinewidth": 0,
             "ticks": ""
            },
            "colorscale": [
             [
              0,
              "#0d0887"
             ],
             [
              0.1111111111111111,
              "#46039f"
             ],
             [
              0.2222222222222222,
              "#7201a8"
             ],
             [
              0.3333333333333333,
              "#9c179e"
             ],
             [
              0.4444444444444444,
              "#bd3786"
             ],
             [
              0.5555555555555556,
              "#d8576b"
             ],
             [
              0.6666666666666666,
              "#ed7953"
             ],
             [
              0.7777777777777778,
              "#fb9f3a"
             ],
             [
              0.8888888888888888,
              "#fdca26"
             ],
             [
              1,
              "#f0f921"
             ]
            ],
            "type": "contour"
           }
          ],
          "contourcarpet": [
           {
            "colorbar": {
             "outlinewidth": 0,
             "ticks": ""
            },
            "type": "contourcarpet"
           }
          ],
          "heatmap": [
           {
            "colorbar": {
             "outlinewidth": 0,
             "ticks": ""
            },
            "colorscale": [
             [
              0,
              "#0d0887"
             ],
             [
              0.1111111111111111,
              "#46039f"
             ],
             [
              0.2222222222222222,
              "#7201a8"
             ],
             [
              0.3333333333333333,
              "#9c179e"
             ],
             [
              0.4444444444444444,
              "#bd3786"
             ],
             [
              0.5555555555555556,
              "#d8576b"
             ],
             [
              0.6666666666666666,
              "#ed7953"
             ],
             [
              0.7777777777777778,
              "#fb9f3a"
             ],
             [
              0.8888888888888888,
              "#fdca26"
             ],
             [
              1,
              "#f0f921"
             ]
            ],
            "type": "heatmap"
           }
          ],
          "heatmapgl": [
           {
            "colorbar": {
             "outlinewidth": 0,
             "ticks": ""
            },
            "colorscale": [
             [
              0,
              "#0d0887"
             ],
             [
              0.1111111111111111,
              "#46039f"
             ],
             [
              0.2222222222222222,
              "#7201a8"
             ],
             [
              0.3333333333333333,
              "#9c179e"
             ],
             [
              0.4444444444444444,
              "#bd3786"
             ],
             [
              0.5555555555555556,
              "#d8576b"
             ],
             [
              0.6666666666666666,
              "#ed7953"
             ],
             [
              0.7777777777777778,
              "#fb9f3a"
             ],
             [
              0.8888888888888888,
              "#fdca26"
             ],
             [
              1,
              "#f0f921"
             ]
            ],
            "type": "heatmapgl"
           }
          ],
          "histogram": [
           {
            "marker": {
             "pattern": {
              "fillmode": "overlay",
              "size": 10,
              "solidity": 0.2
             }
            },
            "type": "histogram"
           }
          ],
          "histogram2d": [
           {
            "colorbar": {
             "outlinewidth": 0,
             "ticks": ""
            },
            "colorscale": [
             [
              0,
              "#0d0887"
             ],
             [
              0.1111111111111111,
              "#46039f"
             ],
             [
              0.2222222222222222,
              "#7201a8"
             ],
             [
              0.3333333333333333,
              "#9c179e"
             ],
             [
              0.4444444444444444,
              "#bd3786"
             ],
             [
              0.5555555555555556,
              "#d8576b"
             ],
             [
              0.6666666666666666,
              "#ed7953"
             ],
             [
              0.7777777777777778,
              "#fb9f3a"
             ],
             [
              0.8888888888888888,
              "#fdca26"
             ],
             [
              1,
              "#f0f921"
             ]
            ],
            "type": "histogram2d"
           }
          ],
          "histogram2dcontour": [
           {
            "colorbar": {
             "outlinewidth": 0,
             "ticks": ""
            },
            "colorscale": [
             [
              0,
              "#0d0887"
             ],
             [
              0.1111111111111111,
              "#46039f"
             ],
             [
              0.2222222222222222,
              "#7201a8"
             ],
             [
              0.3333333333333333,
              "#9c179e"
             ],
             [
              0.4444444444444444,
              "#bd3786"
             ],
             [
              0.5555555555555556,
              "#d8576b"
             ],
             [
              0.6666666666666666,
              "#ed7953"
             ],
             [
              0.7777777777777778,
              "#fb9f3a"
             ],
             [
              0.8888888888888888,
              "#fdca26"
             ],
             [
              1,
              "#f0f921"
             ]
            ],
            "type": "histogram2dcontour"
           }
          ],
          "mesh3d": [
           {
            "colorbar": {
             "outlinewidth": 0,
             "ticks": ""
            },
            "type": "mesh3d"
           }
          ],
          "parcoords": [
           {
            "line": {
             "colorbar": {
              "outlinewidth": 0,
              "ticks": ""
             }
            },
            "type": "parcoords"
           }
          ],
          "pie": [
           {
            "automargin": true,
            "type": "pie"
           }
          ],
          "scatter": [
           {
            "fillpattern": {
             "fillmode": "overlay",
             "size": 10,
             "solidity": 0.2
            },
            "type": "scatter"
           }
          ],
          "scatter3d": [
           {
            "line": {
             "colorbar": {
              "outlinewidth": 0,
              "ticks": ""
             }
            },
            "marker": {
             "colorbar": {
              "outlinewidth": 0,
              "ticks": ""
             }
            },
            "type": "scatter3d"
           }
          ],
          "scattercarpet": [
           {
            "marker": {
             "colorbar": {
              "outlinewidth": 0,
              "ticks": ""
             }
            },
            "type": "scattercarpet"
           }
          ],
          "scattergeo": [
           {
            "marker": {
             "colorbar": {
              "outlinewidth": 0,
              "ticks": ""
             }
            },
            "type": "scattergeo"
           }
          ],
          "scattergl": [
           {
            "marker": {
             "colorbar": {
              "outlinewidth": 0,
              "ticks": ""
             }
            },
            "type": "scattergl"
           }
          ],
          "scattermapbox": [
           {
            "marker": {
             "colorbar": {
              "outlinewidth": 0,
              "ticks": ""
             }
            },
            "type": "scattermapbox"
           }
          ],
          "scatterpolar": [
           {
            "marker": {
             "colorbar": {
              "outlinewidth": 0,
              "ticks": ""
             }
            },
            "type": "scatterpolar"
           }
          ],
          "scatterpolargl": [
           {
            "marker": {
             "colorbar": {
              "outlinewidth": 0,
              "ticks": ""
             }
            },
            "type": "scatterpolargl"
           }
          ],
          "scatterternary": [
           {
            "marker": {
             "colorbar": {
              "outlinewidth": 0,
              "ticks": ""
             }
            },
            "type": "scatterternary"
           }
          ],
          "surface": [
           {
            "colorbar": {
             "outlinewidth": 0,
             "ticks": ""
            },
            "colorscale": [
             [
              0,
              "#0d0887"
             ],
             [
              0.1111111111111111,
              "#46039f"
             ],
             [
              0.2222222222222222,
              "#7201a8"
             ],
             [
              0.3333333333333333,
              "#9c179e"
             ],
             [
              0.4444444444444444,
              "#bd3786"
             ],
             [
              0.5555555555555556,
              "#d8576b"
             ],
             [
              0.6666666666666666,
              "#ed7953"
             ],
             [
              0.7777777777777778,
              "#fb9f3a"
             ],
             [
              0.8888888888888888,
              "#fdca26"
             ],
             [
              1,
              "#f0f921"
             ]
            ],
            "type": "surface"
           }
          ],
          "table": [
           {
            "cells": {
             "fill": {
              "color": "#EBF0F8"
             },
             "line": {
              "color": "white"
             }
            },
            "header": {
             "fill": {
              "color": "#C8D4E3"
             },
             "line": {
              "color": "white"
             }
            },
            "type": "table"
           }
          ]
         },
         "layout": {
          "annotationdefaults": {
           "arrowcolor": "#2a3f5f",
           "arrowhead": 0,
           "arrowwidth": 1
          },
          "autotypenumbers": "strict",
          "coloraxis": {
           "colorbar": {
            "outlinewidth": 0,
            "ticks": ""
           }
          },
          "colorscale": {
           "diverging": [
            [
             0,
             "#8e0152"
            ],
            [
             0.1,
             "#c51b7d"
            ],
            [
             0.2,
             "#de77ae"
            ],
            [
             0.3,
             "#f1b6da"
            ],
            [
             0.4,
             "#fde0ef"
            ],
            [
             0.5,
             "#f7f7f7"
            ],
            [
             0.6,
             "#e6f5d0"
            ],
            [
             0.7,
             "#b8e186"
            ],
            [
             0.8,
             "#7fbc41"
            ],
            [
             0.9,
             "#4d9221"
            ],
            [
             1,
             "#276419"
            ]
           ],
           "sequential": [
            [
             0,
             "#0d0887"
            ],
            [
             0.1111111111111111,
             "#46039f"
            ],
            [
             0.2222222222222222,
             "#7201a8"
            ],
            [
             0.3333333333333333,
             "#9c179e"
            ],
            [
             0.4444444444444444,
             "#bd3786"
            ],
            [
             0.5555555555555556,
             "#d8576b"
            ],
            [
             0.6666666666666666,
             "#ed7953"
            ],
            [
             0.7777777777777778,
             "#fb9f3a"
            ],
            [
             0.8888888888888888,
             "#fdca26"
            ],
            [
             1,
             "#f0f921"
            ]
           ],
           "sequentialminus": [
            [
             0,
             "#0d0887"
            ],
            [
             0.1111111111111111,
             "#46039f"
            ],
            [
             0.2222222222222222,
             "#7201a8"
            ],
            [
             0.3333333333333333,
             "#9c179e"
            ],
            [
             0.4444444444444444,
             "#bd3786"
            ],
            [
             0.5555555555555556,
             "#d8576b"
            ],
            [
             0.6666666666666666,
             "#ed7953"
            ],
            [
             0.7777777777777778,
             "#fb9f3a"
            ],
            [
             0.8888888888888888,
             "#fdca26"
            ],
            [
             1,
             "#f0f921"
            ]
           ]
          },
          "colorway": [
           "#636efa",
           "#EF553B",
           "#00cc96",
           "#ab63fa",
           "#FFA15A",
           "#19d3f3",
           "#FF6692",
           "#B6E880",
           "#FF97FF",
           "#FECB52"
          ],
          "font": {
           "color": "#2a3f5f"
          },
          "geo": {
           "bgcolor": "white",
           "lakecolor": "white",
           "landcolor": "#E5ECF6",
           "showlakes": true,
           "showland": true,
           "subunitcolor": "white"
          },
          "hoverlabel": {
           "align": "left"
          },
          "hovermode": "closest",
          "mapbox": {
           "style": "light"
          },
          "paper_bgcolor": "white",
          "plot_bgcolor": "#E5ECF6",
          "polar": {
           "angularaxis": {
            "gridcolor": "white",
            "linecolor": "white",
            "ticks": ""
           },
           "bgcolor": "#E5ECF6",
           "radialaxis": {
            "gridcolor": "white",
            "linecolor": "white",
            "ticks": ""
           }
          },
          "scene": {
           "xaxis": {
            "backgroundcolor": "#E5ECF6",
            "gridcolor": "white",
            "gridwidth": 2,
            "linecolor": "white",
            "showbackground": true,
            "ticks": "",
            "zerolinecolor": "white"
           },
           "yaxis": {
            "backgroundcolor": "#E5ECF6",
            "gridcolor": "white",
            "gridwidth": 2,
            "linecolor": "white",
            "showbackground": true,
            "ticks": "",
            "zerolinecolor": "white"
           },
           "zaxis": {
            "backgroundcolor": "#E5ECF6",
            "gridcolor": "white",
            "gridwidth": 2,
            "linecolor": "white",
            "showbackground": true,
            "ticks": "",
            "zerolinecolor": "white"
           }
          },
          "shapedefaults": {
           "line": {
            "color": "#2a3f5f"
           }
          },
          "ternary": {
           "aaxis": {
            "gridcolor": "white",
            "linecolor": "white",
            "ticks": ""
           },
           "baxis": {
            "gridcolor": "white",
            "linecolor": "white",
            "ticks": ""
           },
           "bgcolor": "#E5ECF6",
           "caxis": {
            "gridcolor": "white",
            "linecolor": "white",
            "ticks": ""
           }
          },
          "title": {
           "x": 0.05
          },
          "xaxis": {
           "automargin": true,
           "gridcolor": "white",
           "linecolor": "white",
           "ticks": "",
           "title": {
            "standoff": 15
           },
           "zerolinecolor": "white",
           "zerolinewidth": 2
          },
          "yaxis": {
           "automargin": true,
           "gridcolor": "white",
           "linecolor": "white",
           "ticks": "",
           "title": {
            "standoff": 15
           },
           "zerolinecolor": "white",
           "zerolinewidth": 2
          }
         }
        },
        "title": {
         "text": "total_time"
        },
        "yaxis": {
         "title": {
          "text": "total_time"
         }
        }
       }
      }
     },
     "metadata": {},
     "output_type": "display_data"
    }
   ],
   "source": [
    "results = {}\n",
    "for model in models:\n",
    "\tfor ss_opt in subsampling_options:\n",
    "\t\tfor fr_opt in feature_reduction_options:\n",
    "\t\t\tfilename = f'{DATASET}_{ss_opt}_{fr_opt}_{model}'\n",
    "\t\t\tpath = f'../results/{filename}.csv'\n",
    "\t\t\tdf = pd.read_csv(path)\n",
    "\t\t\tpreprocess_time =  df['preprocess_time'].transpose()\n",
    "\t\t\ttraining_time =  df['training_time'].transpose()\n",
    "\t\t\tprediction_time =  df['prediction_time'].transpose()\n",
    "\t\t\tresults[filename] = preprocess_time.to_numpy() + training_time.to_numpy() + prediction_time.to_numpy()\n",
    "\n",
    "n_experiments = len(results[filename])\n",
    "\n",
    "fig = go.Figure()\n",
    "\n",
    "for ss_opt in subsampling_options:\n",
    "\tfor fr_opt in feature_reduction_options:\n",
    "\t\tx, y = [], []\n",
    "\t\tfor model in models:\n",
    "\t\t\tfilename = f'{DATASET}_{ss_opt}_{fr_opt}_{model}'\n",
    "\t\t\tx.extend([model for _ in range(n_experiments)])\n",
    "\t\t\ty.extend(list(results[filename]))\n",
    "\t\tfig.add_trace(go.Box(y=y, x=x, name=get_experiment_name(ss_opt, fr_opt)))\n",
    "\t\t\n",
    "\n",
    "fig.update_layout(\n",
    "\ttitle='total_time',\n",
    "\tyaxis_title='total_time',\n",
    "\tboxmode='group'\n",
    ")\n",
    "fig.show()\n"
   ]
  },
  {
   "cell_type": "code",
   "execution_count": 10,
   "metadata": {},
   "outputs": [
    {
     "data": {
      "application/vnd.plotly.v1+json": {
       "config": {
        "plotlyServerURL": "https://plot.ly"
       },
       "data": [
        {
         "name": "Full",
         "type": "box",
         "x": [
          "LogisticRegression",
          "LogisticRegression",
          "LogisticRegression",
          "LogisticRegression",
          "LogisticRegression",
          "LogisticRegression",
          "LogisticRegression",
          "LogisticRegression",
          "LogisticRegression",
          "LogisticRegression",
          "LogisticRegression",
          "LogisticRegression",
          "LogisticRegression",
          "LogisticRegression",
          "LogisticRegression",
          "LogisticRegression",
          "LogisticRegression",
          "LogisticRegression",
          "LogisticRegression",
          "LogisticRegression",
          "SVC",
          "SVC",
          "SVC",
          "SVC",
          "SVC",
          "SVC",
          "SVC",
          "SVC",
          "SVC",
          "SVC",
          "SVC",
          "SVC",
          "SVC",
          "SVC",
          "SVC",
          "SVC",
          "SVC",
          "SVC",
          "SVC",
          "SVC",
          "RandomForestClassifier",
          "RandomForestClassifier",
          "RandomForestClassifier",
          "RandomForestClassifier",
          "RandomForestClassifier",
          "RandomForestClassifier",
          "RandomForestClassifier",
          "RandomForestClassifier",
          "RandomForestClassifier",
          "RandomForestClassifier",
          "RandomForestClassifier",
          "RandomForestClassifier",
          "RandomForestClassifier",
          "RandomForestClassifier",
          "RandomForestClassifier",
          "RandomForestClassifier",
          "RandomForestClassifier",
          "RandomForestClassifier",
          "RandomForestClassifier",
          "RandomForestClassifier",
          "GradientBoostingClassifier",
          "GradientBoostingClassifier",
          "GradientBoostingClassifier",
          "GradientBoostingClassifier",
          "GradientBoostingClassifier",
          "GradientBoostingClassifier",
          "GradientBoostingClassifier",
          "GradientBoostingClassifier",
          "GradientBoostingClassifier",
          "GradientBoostingClassifier",
          "GradientBoostingClassifier",
          "GradientBoostingClassifier",
          "GradientBoostingClassifier",
          "GradientBoostingClassifier",
          "GradientBoostingClassifier",
          "GradientBoostingClassifier",
          "GradientBoostingClassifier",
          "GradientBoostingClassifier",
          "GradientBoostingClassifier",
          "GradientBoostingClassifier",
          "DeepNeuralNetwork",
          "DeepNeuralNetwork",
          "DeepNeuralNetwork",
          "DeepNeuralNetwork",
          "DeepNeuralNetwork",
          "DeepNeuralNetwork",
          "DeepNeuralNetwork",
          "DeepNeuralNetwork",
          "DeepNeuralNetwork",
          "DeepNeuralNetwork",
          "DeepNeuralNetwork",
          "DeepNeuralNetwork",
          "DeepNeuralNetwork",
          "DeepNeuralNetwork",
          "DeepNeuralNetwork",
          "DeepNeuralNetwork",
          "DeepNeuralNetwork",
          "DeepNeuralNetwork",
          "DeepNeuralNetwork",
          "DeepNeuralNetwork"
         ],
         "y": [
          77.37102746963485,
          68.6428613662716,
          87.13159465789778,
          65.02911019325241,
          63.11923766136153,
          74.64447426795937,
          76.30736255645746,
          51.05105257034283,
          67.26308441162072,
          94.58662819862343,
          56.90711498260474,
          57.388925313949244,
          70.59163999557477,
          78.71954059600804,
          73.89518451690648,
          70.88621473312357,
          80.72112035751316,
          69.80726528167696,
          71.26207542419414,
          80.44599866867044,
          1679.8659181594826,
          1998.1132020950286,
          1522.554323673245,
          1925.2876000404347,
          1593.0534172058096,
          1737.283700942991,
          1535.804673671719,
          1682.5712370872473,
          1441.4889736175521,
          1645.6401014327976,
          2120.726872920987,
          2532.7223038673374,
          1646.8327689170821,
          1917.4849448204027,
          2007.382966995235,
          2210.571489334104,
          1717.477393150327,
          2121.6418404579144,
          2241.7670097351033,
          2285.273446083067,
          704.1145448684691,
          685.6289186477655,
          774.6560459136961,
          684.0393371582028,
          669.7280998229977,
          717.595685958862,
          744.0119838714597,
          697.2185745239252,
          737.5419034957886,
          671.1091842651365,
          677.2623491287226,
          786.3846998214718,
          658.9168329238888,
          578.8990020751952,
          683.497800827026,
          717.8169708251952,
          729.6395874023432,
          713.1738805770872,
          764.9834508895873,
          752.5748186111449,
          626.3491771221157,
          656.4280469417569,
          664.3636910915367,
          665.931675434112,
          672.3848924636836,
          578.7632665634151,
          713.7403736114499,
          923.2513749599451,
          551.7373495101925,
          633.5698678493495,
          760.4918894767752,
          630.5770592689511,
          614.292385578155,
          557.6340210437769,
          712.5976340770715,
          751.9666628837577,
          650.681312322616,
          685.8105995655053,
          650.0824117660519,
          719.4794843196865,
          12977.714389324188,
          10300.881953001022,
          9838.093667268753,
          8101.111271619797,
          6094.8869960308075,
          6137.678492784498,
          6344.651449203491,
          6192.928876161575,
          6128.921898841857,
          6319.32212114334,
          9296.766437768936,
          6443.472222328184,
          6375.453435897826,
          6504.611921072005,
          6397.136592388153,
          6468.420607089996,
          6282.391028881071,
          6469.296436548232,
          6376.934693098066,
          6374.865014553069
         ]
        },
        {
         "name": "FR",
         "type": "box",
         "x": [
          "LogisticRegression",
          "LogisticRegression",
          "LogisticRegression",
          "LogisticRegression",
          "LogisticRegression",
          "LogisticRegression",
          "LogisticRegression",
          "LogisticRegression",
          "LogisticRegression",
          "LogisticRegression",
          "LogisticRegression",
          "LogisticRegression",
          "LogisticRegression",
          "LogisticRegression",
          "LogisticRegression",
          "LogisticRegression",
          "LogisticRegression",
          "LogisticRegression",
          "LogisticRegression",
          "LogisticRegression",
          "SVC",
          "SVC",
          "SVC",
          "SVC",
          "SVC",
          "SVC",
          "SVC",
          "SVC",
          "SVC",
          "SVC",
          "SVC",
          "SVC",
          "SVC",
          "SVC",
          "SVC",
          "SVC",
          "SVC",
          "SVC",
          "SVC",
          "SVC",
          "RandomForestClassifier",
          "RandomForestClassifier",
          "RandomForestClassifier",
          "RandomForestClassifier",
          "RandomForestClassifier",
          "RandomForestClassifier",
          "RandomForestClassifier",
          "RandomForestClassifier",
          "RandomForestClassifier",
          "RandomForestClassifier",
          "RandomForestClassifier",
          "RandomForestClassifier",
          "RandomForestClassifier",
          "RandomForestClassifier",
          "RandomForestClassifier",
          "RandomForestClassifier",
          "RandomForestClassifier",
          "RandomForestClassifier",
          "RandomForestClassifier",
          "RandomForestClassifier",
          "GradientBoostingClassifier",
          "GradientBoostingClassifier",
          "GradientBoostingClassifier",
          "GradientBoostingClassifier",
          "GradientBoostingClassifier",
          "GradientBoostingClassifier",
          "GradientBoostingClassifier",
          "GradientBoostingClassifier",
          "GradientBoostingClassifier",
          "GradientBoostingClassifier",
          "GradientBoostingClassifier",
          "GradientBoostingClassifier",
          "GradientBoostingClassifier",
          "GradientBoostingClassifier",
          "GradientBoostingClassifier",
          "GradientBoostingClassifier",
          "GradientBoostingClassifier",
          "GradientBoostingClassifier",
          "GradientBoostingClassifier",
          "GradientBoostingClassifier",
          "DeepNeuralNetwork",
          "DeepNeuralNetwork",
          "DeepNeuralNetwork",
          "DeepNeuralNetwork",
          "DeepNeuralNetwork",
          "DeepNeuralNetwork",
          "DeepNeuralNetwork",
          "DeepNeuralNetwork",
          "DeepNeuralNetwork",
          "DeepNeuralNetwork",
          "DeepNeuralNetwork",
          "DeepNeuralNetwork",
          "DeepNeuralNetwork",
          "DeepNeuralNetwork",
          "DeepNeuralNetwork",
          "DeepNeuralNetwork",
          "DeepNeuralNetwork",
          "DeepNeuralNetwork",
          "DeepNeuralNetwork",
          "DeepNeuralNetwork"
         ],
         "y": [
          95.60895538330058,
          59.95776987075779,
          71.0932507514951,
          54.10830760002124,
          98.14514660835258,
          65.4136552810667,
          52.01988387107837,
          57.20307922363252,
          58.26049137115471,
          87.40324258804301,
          98.11527228355403,
          70.07335519790622,
          73.33764624595631,
          83.79643893241865,
          82.0963814258573,
          81.81431221961945,
          109.0902655124663,
          52.61910724639866,
          82.61431884765595,
          75.47018671035744,
          2102.8764009475676,
          2138.4291839599564,
          1975.5704197883585,
          2220.0736427307106,
          1875.5174088478075,
          1689.1412372589107,
          1829.2901158332804,
          2348.7861514091474,
          1814.1835985183689,
          1881.069298267364,
          1722.1121120452844,
          2784.870992183683,
          2003.797731399534,
          1824.1695647239656,
          2108.073429107663,
          2156.82070970535,
          2102.104691028593,
          1706.317872047423,
          2026.6544694900479,
          2408.092862606046,
          741.6996126174924,
          733.8801393508909,
          766.0326080322262,
          747.6470603942868,
          769.6287651062008,
          708.5802736282346,
          710.1309356689452,
          680.4153804779049,
          853.7781734466552,
          751.2315416336056,
          653.3658075332638,
          806.6567287445065,
          775.7519063949584,
          693.7697553634641,
          678.7251644134516,
          872.8214597702023,
          831.948254585266,
          706.2011833190915,
          725.4223871231076,
          694.4530696868896,
          717.7463152408596,
          701.8674030303955,
          629.3402915000911,
          784.0218198299402,
          613.437660455703,
          643.8384287357325,
          613.7604060173028,
          644.8236074447628,
          688.5069227218626,
          748.9747014045715,
          664.6127388477317,
          757.4296185970303,
          620.6236200332636,
          653.7647607326501,
          705.902993202209,
          643.4538447856901,
          638.1713216304776,
          644.3797264099118,
          612.7481200695033,
          586.4828999042509,
          6625.685763359069,
          6177.591117382048,
          6222.93312692642,
          6182.249822616577,
          6336.129969120025,
          6156.438996791839,
          6178.492582798003,
          6136.229162693023,
          6137.215672016143,
          6281.783510684965,
          6286.513652801512,
          6427.497741222381,
          6076.581067085266,
          6438.670809745789,
          10321.682062625885,
          6489.227711677551,
          6584.446271896361,
          5969.662166118622,
          6294.579216957091,
          6355.1678981781
         ]
        },
        {
         "name": "SS",
         "type": "box",
         "x": [
          "LogisticRegression",
          "LogisticRegression",
          "LogisticRegression",
          "LogisticRegression",
          "LogisticRegression",
          "LogisticRegression",
          "LogisticRegression",
          "LogisticRegression",
          "LogisticRegression",
          "LogisticRegression",
          "LogisticRegression",
          "LogisticRegression",
          "LogisticRegression",
          "LogisticRegression",
          "LogisticRegression",
          "LogisticRegression",
          "LogisticRegression",
          "LogisticRegression",
          "LogisticRegression",
          "LogisticRegression",
          "SVC",
          "SVC",
          "SVC",
          "SVC",
          "SVC",
          "SVC",
          "SVC",
          "SVC",
          "SVC",
          "SVC",
          "SVC",
          "SVC",
          "SVC",
          "SVC",
          "SVC",
          "SVC",
          "SVC",
          "SVC",
          "SVC",
          "SVC",
          "RandomForestClassifier",
          "RandomForestClassifier",
          "RandomForestClassifier",
          "RandomForestClassifier",
          "RandomForestClassifier",
          "RandomForestClassifier",
          "RandomForestClassifier",
          "RandomForestClassifier",
          "RandomForestClassifier",
          "RandomForestClassifier",
          "RandomForestClassifier",
          "RandomForestClassifier",
          "RandomForestClassifier",
          "RandomForestClassifier",
          "RandomForestClassifier",
          "RandomForestClassifier",
          "RandomForestClassifier",
          "RandomForestClassifier",
          "RandomForestClassifier",
          "RandomForestClassifier",
          "GradientBoostingClassifier",
          "GradientBoostingClassifier",
          "GradientBoostingClassifier",
          "GradientBoostingClassifier",
          "GradientBoostingClassifier",
          "GradientBoostingClassifier",
          "GradientBoostingClassifier",
          "GradientBoostingClassifier",
          "GradientBoostingClassifier",
          "GradientBoostingClassifier",
          "GradientBoostingClassifier",
          "GradientBoostingClassifier",
          "GradientBoostingClassifier",
          "GradientBoostingClassifier",
          "GradientBoostingClassifier",
          "GradientBoostingClassifier",
          "GradientBoostingClassifier",
          "GradientBoostingClassifier",
          "GradientBoostingClassifier",
          "GradientBoostingClassifier",
          "DeepNeuralNetwork",
          "DeepNeuralNetwork",
          "DeepNeuralNetwork",
          "DeepNeuralNetwork",
          "DeepNeuralNetwork",
          "DeepNeuralNetwork",
          "DeepNeuralNetwork",
          "DeepNeuralNetwork",
          "DeepNeuralNetwork",
          "DeepNeuralNetwork",
          "DeepNeuralNetwork",
          "DeepNeuralNetwork",
          "DeepNeuralNetwork",
          "DeepNeuralNetwork",
          "DeepNeuralNetwork",
          "DeepNeuralNetwork",
          "DeepNeuralNetwork",
          "DeepNeuralNetwork",
          "DeepNeuralNetwork",
          "DeepNeuralNetwork"
         ],
         "y": [
          50.078747510909814,
          76.07774710655198,
          50.613358974456695,
          56.51249599456759,
          71.6035459041593,
          75.42606997489905,
          88.30468297004685,
          74.83518362045272,
          73.43560624122603,
          70.82855033874499,
          76.39246964454635,
          86.51569724082925,
          73.74616026878341,
          74.52185058593736,
          60.75430274009693,
          72.83290910720811,
          70.71322154998755,
          59.16262650489791,
          63.546857357024805,
          74.55658817291237,
          2142.699859142301,
          2144.377587795255,
          1975.9124670028673,
          2051.630935668943,
          2411.6058535575853,
          1984.565448760983,
          1959.5157365798914,
          1804.1485190391513,
          2597.761075496671,
          1447.0614876747106,
          1915.004260540006,
          1769.4982967376695,
          1691.374813079832,
          2049.4078907966577,
          2459.4242811202985,
          1886.0016374588,
          1651.7027301788305,
          1946.9253950118984,
          2130.4989123344376,
          1910.9857606887779,
          723.390791893005,
          708.3845643997192,
          720.6052713394162,
          697.2513780593871,
          755.2074413299555,
          681.9660425186154,
          704.8128709793089,
          696.1216020584104,
          801.0734558105465,
          656.5321826934808,
          754.0620975494384,
          678.5867223739622,
          721.8123302459715,
          706.4680595397944,
          716.6460514068602,
          710.1576232910149,
          640.6152400970457,
          754.5841741561887,
          716.0611476898191,
          766.4718418121337,
          725.8827223777768,
          627.6410064697259,
          631.1607120037075,
          593.78321814537,
          656.4322824478146,
          769.8100028038018,
          607.7680120468139,
          666.7491281032558,
          574.4320380687708,
          657.0853974819179,
          600.6676096916194,
          618.9141697883606,
          640.1357493400565,
          558.1185629367822,
          689.3031978607173,
          690.5611431598654,
          680.0689475536338,
          713.6878533363338,
          636.4491648674006,
          699.0067422389976,
          6583.776125907898,
          6242.865717887878,
          6658.277990341185,
          6335.089031696319,
          6265.29859972,
          6303.350645542144,
          6232.415522575378,
          6171.763908863068,
          6558.087763309479,
          6549.685425281525,
          6229.052886486052,
          6679.061020374296,
          6561.778668880462,
          6227.923503398893,
          6208.188214302063,
          6254.2003698349,
          6440.608109951018,
          6219.903862953186,
          6407.294710636139,
          6438.9276423454285
         ]
        },
        {
         "name": "SS & FR",
         "type": "box",
         "x": [
          "LogisticRegression",
          "LogisticRegression",
          "LogisticRegression",
          "LogisticRegression",
          "LogisticRegression",
          "LogisticRegression",
          "LogisticRegression",
          "LogisticRegression",
          "LogisticRegression",
          "LogisticRegression",
          "LogisticRegression",
          "LogisticRegression",
          "LogisticRegression",
          "LogisticRegression",
          "LogisticRegression",
          "LogisticRegression",
          "LogisticRegression",
          "LogisticRegression",
          "LogisticRegression",
          "LogisticRegression",
          "SVC",
          "SVC",
          "SVC",
          "SVC",
          "SVC",
          "SVC",
          "SVC",
          "SVC",
          "SVC",
          "SVC",
          "SVC",
          "SVC",
          "SVC",
          "SVC",
          "SVC",
          "SVC",
          "SVC",
          "SVC",
          "SVC",
          "SVC",
          "RandomForestClassifier",
          "RandomForestClassifier",
          "RandomForestClassifier",
          "RandomForestClassifier",
          "RandomForestClassifier",
          "RandomForestClassifier",
          "RandomForestClassifier",
          "RandomForestClassifier",
          "RandomForestClassifier",
          "RandomForestClassifier",
          "RandomForestClassifier",
          "RandomForestClassifier",
          "RandomForestClassifier",
          "RandomForestClassifier",
          "RandomForestClassifier",
          "RandomForestClassifier",
          "RandomForestClassifier",
          "RandomForestClassifier",
          "RandomForestClassifier",
          "RandomForestClassifier",
          "GradientBoostingClassifier",
          "GradientBoostingClassifier",
          "GradientBoostingClassifier",
          "GradientBoostingClassifier",
          "GradientBoostingClassifier",
          "GradientBoostingClassifier",
          "GradientBoostingClassifier",
          "GradientBoostingClassifier",
          "GradientBoostingClassifier",
          "GradientBoostingClassifier",
          "GradientBoostingClassifier",
          "GradientBoostingClassifier",
          "GradientBoostingClassifier",
          "GradientBoostingClassifier",
          "GradientBoostingClassifier",
          "GradientBoostingClassifier",
          "GradientBoostingClassifier",
          "GradientBoostingClassifier",
          "GradientBoostingClassifier",
          "GradientBoostingClassifier",
          "DeepNeuralNetwork",
          "DeepNeuralNetwork",
          "DeepNeuralNetwork",
          "DeepNeuralNetwork",
          "DeepNeuralNetwork",
          "DeepNeuralNetwork",
          "DeepNeuralNetwork",
          "DeepNeuralNetwork",
          "DeepNeuralNetwork",
          "DeepNeuralNetwork",
          "DeepNeuralNetwork",
          "DeepNeuralNetwork",
          "DeepNeuralNetwork",
          "DeepNeuralNetwork",
          "DeepNeuralNetwork",
          "DeepNeuralNetwork",
          "DeepNeuralNetwork",
          "DeepNeuralNetwork",
          "DeepNeuralNetwork",
          "DeepNeuralNetwork"
         ],
         "y": [
          94.87981343269323,
          73.10664129257182,
          89.92449665069554,
          83.0725076198577,
          67.34228610992416,
          73.19348526000958,
          86.82451438903803,
          66.95218300819374,
          75.35902643203711,
          67.70633602142313,
          79.09331703186011,
          66.91327691078175,
          56.65561485290493,
          68.78563284873933,
          76.29833078384387,
          51.13928604125958,
          86.7956821918486,
          59.943874835967826,
          87.73324966430631,
          74.08033585548384,
          1653.166044712065,
          1683.3409910201983,
          1721.020481586454,
          1796.0734477043118,
          1864.6170792579624,
          1915.3084731101974,
          1599.24156951904,
          2044.0711364746078,
          1816.776938915251,
          1795.137645244596,
          1781.3736119270286,
          1729.2458934783915,
          1727.2867765426602,
          1646.8689579963675,
          2139.4486231803876,
          1509.0983748435954,
          1787.1228790283178,
          1834.1438984870872,
          2418.3473563194248,
          1987.9412870407075,
          746.9326105117796,
          801.8229331970211,
          720.6947860717772,
          727.0681238174435,
          685.3709383010859,
          751.3760995864866,
          707.1624937057493,
          703.1626863479609,
          740.711058616638,
          759.5591917037963,
          709.0789985656736,
          741.8363866806029,
          693.1587200164794,
          717.7280120849604,
          708.5980653762816,
          743.293642044067,
          689.3740816116331,
          770.07244682312,
          654.8881139755247,
          659.1903810501096,
          749.7133736610409,
          716.3392801284783,
          602.8514366149899,
          655.0836973190303,
          779.7829253673551,
          632.2983689308163,
          739.3550200462339,
          653.2980079650874,
          662.7736821174617,
          696.9067783355711,
          581.9492142200467,
          603.9374203681939,
          640.2009761333462,
          727.4371531009667,
          818.8131136894223,
          669.1320238113402,
          566.2405693531032,
          681.3031740188595,
          666.7033846378321,
          669.8571424484247,
          6573.703525543213,
          6701.517714500427,
          6484.09956407547,
          11384.48597574234,
          6689.324119091034,
          6884.60874223709,
          6500.499431133269,
          6012.74200773239,
          6473.23945713043,
          6335.839118957519,
          6416.848543167113,
          6048.645844459533,
          6354.511359214782,
          6326.009744167327,
          6646.099702835082,
          6212.280527114868,
          6665.025373935698,
          6397.955188751221,
          6388.003350734711,
          6636.31114912033
         ]
        }
       ],
       "layout": {
        "boxmode": "group",
        "template": {
         "data": {
          "bar": [
           {
            "error_x": {
             "color": "#2a3f5f"
            },
            "error_y": {
             "color": "#2a3f5f"
            },
            "marker": {
             "line": {
              "color": "#E5ECF6",
              "width": 0.5
             },
             "pattern": {
              "fillmode": "overlay",
              "size": 10,
              "solidity": 0.2
             }
            },
            "type": "bar"
           }
          ],
          "barpolar": [
           {
            "marker": {
             "line": {
              "color": "#E5ECF6",
              "width": 0.5
             },
             "pattern": {
              "fillmode": "overlay",
              "size": 10,
              "solidity": 0.2
             }
            },
            "type": "barpolar"
           }
          ],
          "carpet": [
           {
            "aaxis": {
             "endlinecolor": "#2a3f5f",
             "gridcolor": "white",
             "linecolor": "white",
             "minorgridcolor": "white",
             "startlinecolor": "#2a3f5f"
            },
            "baxis": {
             "endlinecolor": "#2a3f5f",
             "gridcolor": "white",
             "linecolor": "white",
             "minorgridcolor": "white",
             "startlinecolor": "#2a3f5f"
            },
            "type": "carpet"
           }
          ],
          "choropleth": [
           {
            "colorbar": {
             "outlinewidth": 0,
             "ticks": ""
            },
            "type": "choropleth"
           }
          ],
          "contour": [
           {
            "colorbar": {
             "outlinewidth": 0,
             "ticks": ""
            },
            "colorscale": [
             [
              0,
              "#0d0887"
             ],
             [
              0.1111111111111111,
              "#46039f"
             ],
             [
              0.2222222222222222,
              "#7201a8"
             ],
             [
              0.3333333333333333,
              "#9c179e"
             ],
             [
              0.4444444444444444,
              "#bd3786"
             ],
             [
              0.5555555555555556,
              "#d8576b"
             ],
             [
              0.6666666666666666,
              "#ed7953"
             ],
             [
              0.7777777777777778,
              "#fb9f3a"
             ],
             [
              0.8888888888888888,
              "#fdca26"
             ],
             [
              1,
              "#f0f921"
             ]
            ],
            "type": "contour"
           }
          ],
          "contourcarpet": [
           {
            "colorbar": {
             "outlinewidth": 0,
             "ticks": ""
            },
            "type": "contourcarpet"
           }
          ],
          "heatmap": [
           {
            "colorbar": {
             "outlinewidth": 0,
             "ticks": ""
            },
            "colorscale": [
             [
              0,
              "#0d0887"
             ],
             [
              0.1111111111111111,
              "#46039f"
             ],
             [
              0.2222222222222222,
              "#7201a8"
             ],
             [
              0.3333333333333333,
              "#9c179e"
             ],
             [
              0.4444444444444444,
              "#bd3786"
             ],
             [
              0.5555555555555556,
              "#d8576b"
             ],
             [
              0.6666666666666666,
              "#ed7953"
             ],
             [
              0.7777777777777778,
              "#fb9f3a"
             ],
             [
              0.8888888888888888,
              "#fdca26"
             ],
             [
              1,
              "#f0f921"
             ]
            ],
            "type": "heatmap"
           }
          ],
          "heatmapgl": [
           {
            "colorbar": {
             "outlinewidth": 0,
             "ticks": ""
            },
            "colorscale": [
             [
              0,
              "#0d0887"
             ],
             [
              0.1111111111111111,
              "#46039f"
             ],
             [
              0.2222222222222222,
              "#7201a8"
             ],
             [
              0.3333333333333333,
              "#9c179e"
             ],
             [
              0.4444444444444444,
              "#bd3786"
             ],
             [
              0.5555555555555556,
              "#d8576b"
             ],
             [
              0.6666666666666666,
              "#ed7953"
             ],
             [
              0.7777777777777778,
              "#fb9f3a"
             ],
             [
              0.8888888888888888,
              "#fdca26"
             ],
             [
              1,
              "#f0f921"
             ]
            ],
            "type": "heatmapgl"
           }
          ],
          "histogram": [
           {
            "marker": {
             "pattern": {
              "fillmode": "overlay",
              "size": 10,
              "solidity": 0.2
             }
            },
            "type": "histogram"
           }
          ],
          "histogram2d": [
           {
            "colorbar": {
             "outlinewidth": 0,
             "ticks": ""
            },
            "colorscale": [
             [
              0,
              "#0d0887"
             ],
             [
              0.1111111111111111,
              "#46039f"
             ],
             [
              0.2222222222222222,
              "#7201a8"
             ],
             [
              0.3333333333333333,
              "#9c179e"
             ],
             [
              0.4444444444444444,
              "#bd3786"
             ],
             [
              0.5555555555555556,
              "#d8576b"
             ],
             [
              0.6666666666666666,
              "#ed7953"
             ],
             [
              0.7777777777777778,
              "#fb9f3a"
             ],
             [
              0.8888888888888888,
              "#fdca26"
             ],
             [
              1,
              "#f0f921"
             ]
            ],
            "type": "histogram2d"
           }
          ],
          "histogram2dcontour": [
           {
            "colorbar": {
             "outlinewidth": 0,
             "ticks": ""
            },
            "colorscale": [
             [
              0,
              "#0d0887"
             ],
             [
              0.1111111111111111,
              "#46039f"
             ],
             [
              0.2222222222222222,
              "#7201a8"
             ],
             [
              0.3333333333333333,
              "#9c179e"
             ],
             [
              0.4444444444444444,
              "#bd3786"
             ],
             [
              0.5555555555555556,
              "#d8576b"
             ],
             [
              0.6666666666666666,
              "#ed7953"
             ],
             [
              0.7777777777777778,
              "#fb9f3a"
             ],
             [
              0.8888888888888888,
              "#fdca26"
             ],
             [
              1,
              "#f0f921"
             ]
            ],
            "type": "histogram2dcontour"
           }
          ],
          "mesh3d": [
           {
            "colorbar": {
             "outlinewidth": 0,
             "ticks": ""
            },
            "type": "mesh3d"
           }
          ],
          "parcoords": [
           {
            "line": {
             "colorbar": {
              "outlinewidth": 0,
              "ticks": ""
             }
            },
            "type": "parcoords"
           }
          ],
          "pie": [
           {
            "automargin": true,
            "type": "pie"
           }
          ],
          "scatter": [
           {
            "fillpattern": {
             "fillmode": "overlay",
             "size": 10,
             "solidity": 0.2
            },
            "type": "scatter"
           }
          ],
          "scatter3d": [
           {
            "line": {
             "colorbar": {
              "outlinewidth": 0,
              "ticks": ""
             }
            },
            "marker": {
             "colorbar": {
              "outlinewidth": 0,
              "ticks": ""
             }
            },
            "type": "scatter3d"
           }
          ],
          "scattercarpet": [
           {
            "marker": {
             "colorbar": {
              "outlinewidth": 0,
              "ticks": ""
             }
            },
            "type": "scattercarpet"
           }
          ],
          "scattergeo": [
           {
            "marker": {
             "colorbar": {
              "outlinewidth": 0,
              "ticks": ""
             }
            },
            "type": "scattergeo"
           }
          ],
          "scattergl": [
           {
            "marker": {
             "colorbar": {
              "outlinewidth": 0,
              "ticks": ""
             }
            },
            "type": "scattergl"
           }
          ],
          "scattermapbox": [
           {
            "marker": {
             "colorbar": {
              "outlinewidth": 0,
              "ticks": ""
             }
            },
            "type": "scattermapbox"
           }
          ],
          "scatterpolar": [
           {
            "marker": {
             "colorbar": {
              "outlinewidth": 0,
              "ticks": ""
             }
            },
            "type": "scatterpolar"
           }
          ],
          "scatterpolargl": [
           {
            "marker": {
             "colorbar": {
              "outlinewidth": 0,
              "ticks": ""
             }
            },
            "type": "scatterpolargl"
           }
          ],
          "scatterternary": [
           {
            "marker": {
             "colorbar": {
              "outlinewidth": 0,
              "ticks": ""
             }
            },
            "type": "scatterternary"
           }
          ],
          "surface": [
           {
            "colorbar": {
             "outlinewidth": 0,
             "ticks": ""
            },
            "colorscale": [
             [
              0,
              "#0d0887"
             ],
             [
              0.1111111111111111,
              "#46039f"
             ],
             [
              0.2222222222222222,
              "#7201a8"
             ],
             [
              0.3333333333333333,
              "#9c179e"
             ],
             [
              0.4444444444444444,
              "#bd3786"
             ],
             [
              0.5555555555555556,
              "#d8576b"
             ],
             [
              0.6666666666666666,
              "#ed7953"
             ],
             [
              0.7777777777777778,
              "#fb9f3a"
             ],
             [
              0.8888888888888888,
              "#fdca26"
             ],
             [
              1,
              "#f0f921"
             ]
            ],
            "type": "surface"
           }
          ],
          "table": [
           {
            "cells": {
             "fill": {
              "color": "#EBF0F8"
             },
             "line": {
              "color": "white"
             }
            },
            "header": {
             "fill": {
              "color": "#C8D4E3"
             },
             "line": {
              "color": "white"
             }
            },
            "type": "table"
           }
          ]
         },
         "layout": {
          "annotationdefaults": {
           "arrowcolor": "#2a3f5f",
           "arrowhead": 0,
           "arrowwidth": 1
          },
          "autotypenumbers": "strict",
          "coloraxis": {
           "colorbar": {
            "outlinewidth": 0,
            "ticks": ""
           }
          },
          "colorscale": {
           "diverging": [
            [
             0,
             "#8e0152"
            ],
            [
             0.1,
             "#c51b7d"
            ],
            [
             0.2,
             "#de77ae"
            ],
            [
             0.3,
             "#f1b6da"
            ],
            [
             0.4,
             "#fde0ef"
            ],
            [
             0.5,
             "#f7f7f7"
            ],
            [
             0.6,
             "#e6f5d0"
            ],
            [
             0.7,
             "#b8e186"
            ],
            [
             0.8,
             "#7fbc41"
            ],
            [
             0.9,
             "#4d9221"
            ],
            [
             1,
             "#276419"
            ]
           ],
           "sequential": [
            [
             0,
             "#0d0887"
            ],
            [
             0.1111111111111111,
             "#46039f"
            ],
            [
             0.2222222222222222,
             "#7201a8"
            ],
            [
             0.3333333333333333,
             "#9c179e"
            ],
            [
             0.4444444444444444,
             "#bd3786"
            ],
            [
             0.5555555555555556,
             "#d8576b"
            ],
            [
             0.6666666666666666,
             "#ed7953"
            ],
            [
             0.7777777777777778,
             "#fb9f3a"
            ],
            [
             0.8888888888888888,
             "#fdca26"
            ],
            [
             1,
             "#f0f921"
            ]
           ],
           "sequentialminus": [
            [
             0,
             "#0d0887"
            ],
            [
             0.1111111111111111,
             "#46039f"
            ],
            [
             0.2222222222222222,
             "#7201a8"
            ],
            [
             0.3333333333333333,
             "#9c179e"
            ],
            [
             0.4444444444444444,
             "#bd3786"
            ],
            [
             0.5555555555555556,
             "#d8576b"
            ],
            [
             0.6666666666666666,
             "#ed7953"
            ],
            [
             0.7777777777777778,
             "#fb9f3a"
            ],
            [
             0.8888888888888888,
             "#fdca26"
            ],
            [
             1,
             "#f0f921"
            ]
           ]
          },
          "colorway": [
           "#636efa",
           "#EF553B",
           "#00cc96",
           "#ab63fa",
           "#FFA15A",
           "#19d3f3",
           "#FF6692",
           "#B6E880",
           "#FF97FF",
           "#FECB52"
          ],
          "font": {
           "color": "#2a3f5f"
          },
          "geo": {
           "bgcolor": "white",
           "lakecolor": "white",
           "landcolor": "#E5ECF6",
           "showlakes": true,
           "showland": true,
           "subunitcolor": "white"
          },
          "hoverlabel": {
           "align": "left"
          },
          "hovermode": "closest",
          "mapbox": {
           "style": "light"
          },
          "paper_bgcolor": "white",
          "plot_bgcolor": "#E5ECF6",
          "polar": {
           "angularaxis": {
            "gridcolor": "white",
            "linecolor": "white",
            "ticks": ""
           },
           "bgcolor": "#E5ECF6",
           "radialaxis": {
            "gridcolor": "white",
            "linecolor": "white",
            "ticks": ""
           }
          },
          "scene": {
           "xaxis": {
            "backgroundcolor": "#E5ECF6",
            "gridcolor": "white",
            "gridwidth": 2,
            "linecolor": "white",
            "showbackground": true,
            "ticks": "",
            "zerolinecolor": "white"
           },
           "yaxis": {
            "backgroundcolor": "#E5ECF6",
            "gridcolor": "white",
            "gridwidth": 2,
            "linecolor": "white",
            "showbackground": true,
            "ticks": "",
            "zerolinecolor": "white"
           },
           "zaxis": {
            "backgroundcolor": "#E5ECF6",
            "gridcolor": "white",
            "gridwidth": 2,
            "linecolor": "white",
            "showbackground": true,
            "ticks": "",
            "zerolinecolor": "white"
           }
          },
          "shapedefaults": {
           "line": {
            "color": "#2a3f5f"
           }
          },
          "ternary": {
           "aaxis": {
            "gridcolor": "white",
            "linecolor": "white",
            "ticks": ""
           },
           "baxis": {
            "gridcolor": "white",
            "linecolor": "white",
            "ticks": ""
           },
           "bgcolor": "#E5ECF6",
           "caxis": {
            "gridcolor": "white",
            "linecolor": "white",
            "ticks": ""
           }
          },
          "title": {
           "x": 0.05
          },
          "xaxis": {
           "automargin": true,
           "gridcolor": "white",
           "linecolor": "white",
           "ticks": "",
           "title": {
            "standoff": 15
           },
           "zerolinecolor": "white",
           "zerolinewidth": 2
          },
          "yaxis": {
           "automargin": true,
           "gridcolor": "white",
           "linecolor": "white",
           "ticks": "",
           "title": {
            "standoff": 15
           },
           "zerolinecolor": "white",
           "zerolinewidth": 2
          }
         }
        },
        "title": {
         "text": "total_time * model_size"
        },
        "yaxis": {
         "title": {
          "text": "total_time * model_size"
         }
        }
       }
      }
     },
     "metadata": {},
     "output_type": "display_data"
    }
   ],
   "source": [
    "results = {}\n",
    "for model in models:\n",
    "\tfor ss_opt in subsampling_options:\n",
    "\t\tfor fr_opt in feature_reduction_options:\n",
    "\t\t\tfilename = f'{DATASET}_{ss_opt}_{fr_opt}_{model}'\n",
    "\t\t\tpath = f'../results/{filename}.csv'\n",
    "\t\t\tdf = pd.read_csv(path)\n",
    "\t\t\tpreprocess_time =  df['preprocess_time'].transpose()\n",
    "\t\t\ttraining_time =  df['training_time'].transpose()\n",
    "\t\t\tprediction_time =  df['prediction_time'].transpose()\n",
    "\t\t\tmodel_size =  df['model_size'].transpose()\n",
    "\t\t\ttotal_time = preprocess_time.to_numpy() + training_time.to_numpy() + prediction_time.to_numpy()\n",
    "\t\t\tresults[filename] = total_time * model_size.to_numpy()\n",
    "\n",
    "n_experiments = len(results[filename])\n",
    "\n",
    "fig = go.Figure()\n",
    "\n",
    "for ss_opt in subsampling_options:\n",
    "\tfor fr_opt in feature_reduction_options:\n",
    "\t\tx, y = [], []\n",
    "\t\tfor model in models:\n",
    "\t\t\tfilename = f'{DATASET}_{ss_opt}_{fr_opt}_{model}'\n",
    "\t\t\tx.extend([model for _ in range(n_experiments)])\n",
    "\t\t\ty.extend(list(results[filename]))\n",
    "\t\tfig.add_trace(go.Box(y=y, x=x, name=get_experiment_name(ss_opt, fr_opt)))\n",
    "\t\t\n",
    "\n",
    "fig.update_layout(\n",
    "\ttitle='total_time * model_size',\n",
    "\tyaxis_title='total_time * model_size',\n",
    "\tboxmode='group'\n",
    ")\n",
    "fig.show()\n"
   ]
  }
 ],
 "metadata": {
  "kernelspec": {
   "display_name": "tf",
   "language": "python",
   "name": "python3"
  },
  "language_info": {
   "codemirror_mode": {
    "name": "ipython",
    "version": 3
   },
   "file_extension": ".py",
   "mimetype": "text/x-python",
   "name": "python",
   "nbconvert_exporter": "python",
   "pygments_lexer": "ipython3",
   "version": "3.11.5"
  }
 },
 "nbformat": 4,
 "nbformat_minor": 2
}
