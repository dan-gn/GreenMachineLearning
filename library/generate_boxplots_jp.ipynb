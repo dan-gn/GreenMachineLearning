{
 "cells": [
  {
   "cell_type": "code",
   "execution_count": 1,
   "metadata": {},
   "outputs": [],
   "source": [
    "# Libraries\n",
    "import numpy as np\n",
    "import pandas as pd\n",
    "import plotly.express as px\n",
    "import plotly.graph_objects as go\n",
    "import matplotlib.pyplot as plt"
   ]
  },
  {
   "cell_type": "code",
   "execution_count": 2,
   "metadata": {},
   "outputs": [],
   "source": [
    "def get_experiment_name(ss_opt, fr_opt):\n",
    "\tif ss_opt == 'True' and fr_opt == 'True':\n",
    "\t\treturn 'SS & FR'\n",
    "\telif ss_opt == 'True':\n",
    "\t\treturn 'SS'\n",
    "\telif fr_opt == 'True':\n",
    "\t\treturn 'FR'\n",
    "\telse:\n",
    "\t\treturn 'Full'"
   ]
  },
  {
   "cell_type": "code",
   "execution_count": 3,
   "metadata": {},
   "outputs": [],
   "source": [
    "# Datasets\n",
    "datasets = ['aids', 'students', 'malware']\n",
    "\n",
    "# Machine Learning models\n",
    "models = ['LogisticRegression', 'SVC', 'RandomForestClassifier', 'GradientBoostingClassifier','DeepNeuralNetwork']\n",
    "\n",
    "# Experiment options\n",
    "subsampling_options = ['False', 'True']\n",
    "feature_reduction_options = ['False', 'True']\n",
    "\n",
    "# Inputs\n",
    "DATASET = datasets[0]\n"
   ]
  },
  {
   "cell_type": "markdown",
   "metadata": {},
   "source": [
    "Function to generate plots"
   ]
  },
  {
   "cell_type": "code",
   "execution_count": 4,
   "metadata": {},
   "outputs": [],
   "source": [
    "def make_plots(metric):\n",
    "    results = {}\n",
    "    for model in models:\n",
    "        for ss_opt in subsampling_options:\n",
    "            for fr_opt in feature_reduction_options:\n",
    "                filename = f'{DATASET}_{ss_opt}_{fr_opt}_{model}'\n",
    "                path = f'../results/{filename}.csv'\n",
    "                df = pd.read_csv(path)\n",
    "                results[filename] = df[metric].transpose()\n",
    "\n",
    "    n_experiments = len(results[filename])\n",
    "\n",
    "    fig = go.Figure()\n",
    "\n",
    "    for ss_opt in subsampling_options:\n",
    "        for fr_opt in feature_reduction_options:\n",
    "            x, y = [], []\n",
    "            for model in models:\n",
    "                filename = f'{DATASET}_{ss_opt}_{fr_opt}_{model}'\n",
    "                x.extend([model for _ in range(n_experiments)])\n",
    "                y.extend(list(results[filename]))\n",
    "            fig.add_trace(go.Box(y=y, x=x, name=get_experiment_name(ss_opt, fr_opt)))\n",
    "            \n",
    "\n",
    "    fig.update_layout(\n",
    "        title=metric,\n",
    "        yaxis_title=metric,\n",
    "        boxmode='group'\n",
    "    )\n",
    "    fig.show()\n"
   ]
  },
  {
   "cell_type": "code",
   "execution_count": 5,
   "metadata": {},
   "outputs": [
    {
     "data": {
      "application/vnd.plotly.v1+json": {
       "config": {
        "plotlyServerURL": "https://plot.ly"
       },
       "data": [
        {
         "name": "Full",
         "type": "box",
         "x": [
          "LogisticRegression",
          "LogisticRegression",
          "LogisticRegression",
          "LogisticRegression",
          "LogisticRegression",
          "LogisticRegression",
          "LogisticRegression",
          "LogisticRegression",
          "LogisticRegression",
          "LogisticRegression",
          "LogisticRegression",
          "LogisticRegression",
          "LogisticRegression",
          "LogisticRegression",
          "LogisticRegression",
          "LogisticRegression",
          "LogisticRegression",
          "LogisticRegression",
          "LogisticRegression",
          "LogisticRegression",
          "SVC",
          "SVC",
          "SVC",
          "SVC",
          "SVC",
          "SVC",
          "SVC",
          "SVC",
          "SVC",
          "SVC",
          "SVC",
          "SVC",
          "SVC",
          "SVC",
          "SVC",
          "SVC",
          "SVC",
          "SVC",
          "SVC",
          "SVC",
          "RandomForestClassifier",
          "RandomForestClassifier",
          "RandomForestClassifier",
          "RandomForestClassifier",
          "RandomForestClassifier",
          "RandomForestClassifier",
          "RandomForestClassifier",
          "RandomForestClassifier",
          "RandomForestClassifier",
          "RandomForestClassifier",
          "RandomForestClassifier",
          "RandomForestClassifier",
          "RandomForestClassifier",
          "RandomForestClassifier",
          "RandomForestClassifier",
          "RandomForestClassifier",
          "RandomForestClassifier",
          "RandomForestClassifier",
          "RandomForestClassifier",
          "RandomForestClassifier",
          "GradientBoostingClassifier",
          "GradientBoostingClassifier",
          "GradientBoostingClassifier",
          "GradientBoostingClassifier",
          "GradientBoostingClassifier",
          "GradientBoostingClassifier",
          "GradientBoostingClassifier",
          "GradientBoostingClassifier",
          "GradientBoostingClassifier",
          "GradientBoostingClassifier",
          "GradientBoostingClassifier",
          "GradientBoostingClassifier",
          "GradientBoostingClassifier",
          "GradientBoostingClassifier",
          "GradientBoostingClassifier",
          "GradientBoostingClassifier",
          "GradientBoostingClassifier",
          "GradientBoostingClassifier",
          "GradientBoostingClassifier",
          "GradientBoostingClassifier",
          "DeepNeuralNetwork",
          "DeepNeuralNetwork",
          "DeepNeuralNetwork",
          "DeepNeuralNetwork",
          "DeepNeuralNetwork",
          "DeepNeuralNetwork",
          "DeepNeuralNetwork",
          "DeepNeuralNetwork",
          "DeepNeuralNetwork",
          "DeepNeuralNetwork",
          "DeepNeuralNetwork",
          "DeepNeuralNetwork",
          "DeepNeuralNetwork",
          "DeepNeuralNetwork",
          "DeepNeuralNetwork",
          "DeepNeuralNetwork",
          "DeepNeuralNetwork",
          "DeepNeuralNetwork",
          "DeepNeuralNetwork",
          "DeepNeuralNetwork"
         ],
         "y": [
          0.822429906542056,
          0.7990654205607477,
          0.8364485981308412,
          0.7897196261682243,
          0.794392523364486,
          0.8457943925233645,
          0.8037383177570093,
          0.8084112149532711,
          0.822429906542056,
          0.812206572769953,
          0.8177570093457944,
          0.8504672897196262,
          0.8130841121495327,
          0.8037383177570093,
          0.8271028037383178,
          0.794392523364486,
          0.7570093457943925,
          0.8271028037383178,
          0.8644859813084113,
          0.8450704225352113,
          0.8317757009345794,
          0.8177570093457944,
          0.8271028037383178,
          0.8411214953271028,
          0.8084112149532711,
          0.883177570093458,
          0.8551401869158879,
          0.7897196261682243,
          0.8317757009345794,
          0.8169014084507042,
          0.8317757009345794,
          0.7990654205607477,
          0.8457943925233645,
          0.7990654205607477,
          0.8317757009345794,
          0.8317757009345794,
          0.8037383177570093,
          0.8364485981308412,
          0.8691588785046729,
          0.8403755868544601,
          0.8738317757009346,
          0.8504672897196262,
          0.883177570093458,
          0.8551401869158879,
          0.8411214953271028,
          0.8785046728971962,
          0.8271028037383178,
          0.7897196261682243,
          0.8411214953271028,
          0.8309859154929577,
          0.8457943925233645,
          0.8130841121495327,
          0.8364485981308412,
          0.8037383177570093,
          0.8551401869158879,
          0.7990654205607477,
          0.8084112149532711,
          0.794392523364486,
          0.8691588785046729,
          0.8450704225352113,
          0.8271028037383178,
          0.7850467289719626,
          0.8411214953271028,
          0.8130841121495327,
          0.822429906542056,
          0.8691588785046729,
          0.8457943925233645,
          0.8084112149532711,
          0.8364485981308412,
          0.8262910798122066,
          0.8317757009345794,
          0.8364485981308412,
          0.822429906542056,
          0.8177570093457944,
          0.8598130841121495,
          0.8084112149532711,
          0.8177570093457944,
          0.7850467289719626,
          0.8411214953271028,
          0.8591549295774648,
          0.7990654205607477,
          0.7710280373831776,
          0.7570093457943925,
          0.7990654205607477,
          0.7757009345794392,
          0.7570093457943925,
          0.7523364485981309,
          0.7757009345794392,
          0.7523364485981309,
          0.7652582159624414,
          0.7710280373831776,
          0.780373831775701,
          0.7990654205607477,
          0.7570093457943925,
          0.7663551401869159,
          0.7757009345794392,
          0.7570093457943925,
          0.780373831775701,
          0.7523364485981309,
          0.755868544600939
         ]
        },
        {
         "name": "FR",
         "type": "box",
         "x": [
          "LogisticRegression",
          "LogisticRegression",
          "LogisticRegression",
          "LogisticRegression",
          "LogisticRegression",
          "LogisticRegression",
          "LogisticRegression",
          "LogisticRegression",
          "LogisticRegression",
          "LogisticRegression",
          "LogisticRegression",
          "LogisticRegression",
          "LogisticRegression",
          "LogisticRegression",
          "LogisticRegression",
          "LogisticRegression",
          "LogisticRegression",
          "LogisticRegression",
          "LogisticRegression",
          "LogisticRegression",
          "SVC",
          "SVC",
          "SVC",
          "SVC",
          "SVC",
          "SVC",
          "SVC",
          "SVC",
          "SVC",
          "SVC",
          "SVC",
          "SVC",
          "SVC",
          "SVC",
          "SVC",
          "SVC",
          "SVC",
          "SVC",
          "SVC",
          "SVC",
          "RandomForestClassifier",
          "RandomForestClassifier",
          "RandomForestClassifier",
          "RandomForestClassifier",
          "RandomForestClassifier",
          "RandomForestClassifier",
          "RandomForestClassifier",
          "RandomForestClassifier",
          "RandomForestClassifier",
          "RandomForestClassifier",
          "RandomForestClassifier",
          "RandomForestClassifier",
          "RandomForestClassifier",
          "RandomForestClassifier",
          "RandomForestClassifier",
          "RandomForestClassifier",
          "RandomForestClassifier",
          "RandomForestClassifier",
          "RandomForestClassifier",
          "RandomForestClassifier",
          "GradientBoostingClassifier",
          "GradientBoostingClassifier",
          "GradientBoostingClassifier",
          "GradientBoostingClassifier",
          "GradientBoostingClassifier",
          "GradientBoostingClassifier",
          "GradientBoostingClassifier",
          "GradientBoostingClassifier",
          "GradientBoostingClassifier",
          "GradientBoostingClassifier",
          "GradientBoostingClassifier",
          "GradientBoostingClassifier",
          "GradientBoostingClassifier",
          "GradientBoostingClassifier",
          "GradientBoostingClassifier",
          "GradientBoostingClassifier",
          "GradientBoostingClassifier",
          "GradientBoostingClassifier",
          "GradientBoostingClassifier",
          "GradientBoostingClassifier",
          "DeepNeuralNetwork",
          "DeepNeuralNetwork",
          "DeepNeuralNetwork",
          "DeepNeuralNetwork",
          "DeepNeuralNetwork",
          "DeepNeuralNetwork",
          "DeepNeuralNetwork",
          "DeepNeuralNetwork",
          "DeepNeuralNetwork",
          "DeepNeuralNetwork",
          "DeepNeuralNetwork",
          "DeepNeuralNetwork",
          "DeepNeuralNetwork",
          "DeepNeuralNetwork",
          "DeepNeuralNetwork",
          "DeepNeuralNetwork",
          "DeepNeuralNetwork",
          "DeepNeuralNetwork",
          "DeepNeuralNetwork",
          "DeepNeuralNetwork"
         ],
         "y": [
          0.8084112149532711,
          0.7990654205607477,
          0.8457943925233645,
          0.8177570093457944,
          0.7757009345794392,
          0.8644859813084113,
          0.8037383177570093,
          0.8084112149532711,
          0.822429906542056,
          0.8262910798122066,
          0.822429906542056,
          0.8457943925233645,
          0.7990654205607477,
          0.7663551401869159,
          0.822429906542056,
          0.8037383177570093,
          0.7710280373831776,
          0.8271028037383178,
          0.8644859813084113,
          0.8450704225352113,
          0.8551401869158879,
          0.8271028037383178,
          0.8177570093457944,
          0.8177570093457944,
          0.822429906542056,
          0.8691588785046729,
          0.8271028037383178,
          0.8317757009345794,
          0.822429906542056,
          0.8309859154929577,
          0.8411214953271028,
          0.8411214953271028,
          0.8317757009345794,
          0.7990654205607477,
          0.8457943925233645,
          0.8130841121495327,
          0.794392523364486,
          0.8177570093457944,
          0.8457943925233645,
          0.8450704225352113,
          0.8785046728971962,
          0.780373831775701,
          0.8411214953271028,
          0.822429906542056,
          0.8130841121495327,
          0.8644859813084113,
          0.8177570093457944,
          0.8130841121495327,
          0.8271028037383178,
          0.8309859154929577,
          0.8317757009345794,
          0.8504672897196262,
          0.822429906542056,
          0.822429906542056,
          0.8364485981308412,
          0.8130841121495327,
          0.7383177570093458,
          0.8411214953271028,
          0.8551401869158879,
          0.8685446009389671,
          0.8644859813084113,
          0.7850467289719626,
          0.7850467289719626,
          0.8317757009345794,
          0.8364485981308412,
          0.8457943925233645,
          0.7990654205607477,
          0.7663551401869159,
          0.822429906542056,
          0.863849765258216,
          0.8457943925233645,
          0.8037383177570093,
          0.8364485981308412,
          0.8084112149532711,
          0.8457943925233645,
          0.8457943925233645,
          0.8084112149532711,
          0.8317757009345794,
          0.8738317757009346,
          0.863849765258216,
          0.7710280373831776,
          0.7570093457943925,
          0.780373831775701,
          0.7570093457943925,
          0.780373831775701,
          0.7616822429906542,
          0.7570093457943925,
          0.7616822429906542,
          0.7850467289719626,
          0.755868544600939,
          0.794392523364486,
          0.822429906542056,
          0.7663551401869159,
          0.7663551401869159,
          0.7570093457943925,
          0.7663551401869159,
          0.7570093457943925,
          0.7850467289719626,
          0.7523364485981309,
          0.7699530516431925
         ]
        },
        {
         "name": "SS",
         "type": "box",
         "x": [
          "LogisticRegression",
          "LogisticRegression",
          "LogisticRegression",
          "LogisticRegression",
          "LogisticRegression",
          "LogisticRegression",
          "LogisticRegression",
          "LogisticRegression",
          "LogisticRegression",
          "LogisticRegression",
          "LogisticRegression",
          "LogisticRegression",
          "LogisticRegression",
          "LogisticRegression",
          "LogisticRegression",
          "LogisticRegression",
          "LogisticRegression",
          "LogisticRegression",
          "LogisticRegression",
          "LogisticRegression",
          "SVC",
          "SVC",
          "SVC",
          "SVC",
          "SVC",
          "SVC",
          "SVC",
          "SVC",
          "SVC",
          "SVC",
          "SVC",
          "SVC",
          "SVC",
          "SVC",
          "SVC",
          "SVC",
          "SVC",
          "SVC",
          "SVC",
          "SVC",
          "RandomForestClassifier",
          "RandomForestClassifier",
          "RandomForestClassifier",
          "RandomForestClassifier",
          "RandomForestClassifier",
          "RandomForestClassifier",
          "RandomForestClassifier",
          "RandomForestClassifier",
          "RandomForestClassifier",
          "RandomForestClassifier",
          "RandomForestClassifier",
          "RandomForestClassifier",
          "RandomForestClassifier",
          "RandomForestClassifier",
          "RandomForestClassifier",
          "RandomForestClassifier",
          "RandomForestClassifier",
          "RandomForestClassifier",
          "RandomForestClassifier",
          "RandomForestClassifier",
          "GradientBoostingClassifier",
          "GradientBoostingClassifier",
          "GradientBoostingClassifier",
          "GradientBoostingClassifier",
          "GradientBoostingClassifier",
          "GradientBoostingClassifier",
          "GradientBoostingClassifier",
          "GradientBoostingClassifier",
          "GradientBoostingClassifier",
          "GradientBoostingClassifier",
          "GradientBoostingClassifier",
          "GradientBoostingClassifier",
          "GradientBoostingClassifier",
          "GradientBoostingClassifier",
          "GradientBoostingClassifier",
          "GradientBoostingClassifier",
          "GradientBoostingClassifier",
          "GradientBoostingClassifier",
          "GradientBoostingClassifier",
          "GradientBoostingClassifier",
          "DeepNeuralNetwork",
          "DeepNeuralNetwork",
          "DeepNeuralNetwork",
          "DeepNeuralNetwork",
          "DeepNeuralNetwork",
          "DeepNeuralNetwork",
          "DeepNeuralNetwork",
          "DeepNeuralNetwork",
          "DeepNeuralNetwork",
          "DeepNeuralNetwork",
          "DeepNeuralNetwork",
          "DeepNeuralNetwork",
          "DeepNeuralNetwork",
          "DeepNeuralNetwork",
          "DeepNeuralNetwork",
          "DeepNeuralNetwork",
          "DeepNeuralNetwork",
          "DeepNeuralNetwork",
          "DeepNeuralNetwork",
          "DeepNeuralNetwork"
         ],
         "y": [
          0.8130841121495327,
          0.8084112149532711,
          0.8457943925233645,
          0.8130841121495327,
          0.7897196261682243,
          0.8551401869158879,
          0.8177570093457944,
          0.8177570093457944,
          0.8271028037383178,
          0.812206572769953,
          0.8177570093457944,
          0.8504672897196262,
          0.8037383177570093,
          0.7990654205607477,
          0.8317757009345794,
          0.7897196261682243,
          0.7616822429906542,
          0.8271028037383178,
          0.8598130841121495,
          0.8450704225352113,
          0.8411214953271028,
          0.8084112149532711,
          0.8271028037383178,
          0.8551401869158879,
          0.780373831775701,
          0.8691588785046729,
          0.8691588785046729,
          0.7897196261682243,
          0.8084112149532711,
          0.8309859154929577,
          0.8364485981308412,
          0.8317757009345794,
          0.8504672897196262,
          0.8037383177570093,
          0.8504672897196262,
          0.8411214953271028,
          0.7850467289719626,
          0.8084112149532711,
          0.8691588785046729,
          0.8779342723004695,
          0.8598130841121495,
          0.7990654205607477,
          0.8364485981308412,
          0.8551401869158879,
          0.7850467289719626,
          0.8598130841121495,
          0.8271028037383178,
          0.7850467289719626,
          0.7990654205607477,
          0.8497652582159625,
          0.8317757009345794,
          0.8598130841121495,
          0.8504672897196262,
          0.794392523364486,
          0.8364485981308412,
          0.7990654205607477,
          0.7710280373831776,
          0.8644859813084113,
          0.8644859813084113,
          0.8732394366197183,
          0.8644859813084113,
          0.7663551401869159,
          0.8457943925233645,
          0.8457943925233645,
          0.8317757009345794,
          0.8785046728971962,
          0.8037383177570093,
          0.7850467289719626,
          0.8317757009345794,
          0.8403755868544601,
          0.8411214953271028,
          0.8037383177570093,
          0.8130841121495327,
          0.7990654205607477,
          0.8691588785046729,
          0.8037383177570093,
          0.8084112149532711,
          0.8177570093457944,
          0.8551401869158879,
          0.8591549295774648,
          0.7570093457943925,
          0.7757009345794392,
          0.7616822429906542,
          0.7570093457943925,
          0.7710280373831776,
          0.7616822429906542,
          0.7990654205607477,
          0.7663551401869159,
          0.7710280373831776,
          0.755868544600939,
          0.8037383177570093,
          0.7570093457943925,
          0.7570093457943925,
          0.7663551401869159,
          0.780373831775701,
          0.7710280373831776,
          0.780373831775701,
          0.7710280373831776,
          0.7850467289719626,
          0.755868544600939
         ]
        },
        {
         "name": "SS & FR",
         "type": "box",
         "x": [
          "LogisticRegression",
          "LogisticRegression",
          "LogisticRegression",
          "LogisticRegression",
          "LogisticRegression",
          "LogisticRegression",
          "LogisticRegression",
          "LogisticRegression",
          "LogisticRegression",
          "LogisticRegression",
          "LogisticRegression",
          "LogisticRegression",
          "LogisticRegression",
          "LogisticRegression",
          "LogisticRegression",
          "LogisticRegression",
          "LogisticRegression",
          "LogisticRegression",
          "LogisticRegression",
          "LogisticRegression",
          "SVC",
          "SVC",
          "SVC",
          "SVC",
          "SVC",
          "SVC",
          "SVC",
          "SVC",
          "SVC",
          "SVC",
          "SVC",
          "SVC",
          "SVC",
          "SVC",
          "SVC",
          "SVC",
          "SVC",
          "SVC",
          "SVC",
          "SVC",
          "RandomForestClassifier",
          "RandomForestClassifier",
          "RandomForestClassifier",
          "RandomForestClassifier",
          "RandomForestClassifier",
          "RandomForestClassifier",
          "RandomForestClassifier",
          "RandomForestClassifier",
          "RandomForestClassifier",
          "RandomForestClassifier",
          "RandomForestClassifier",
          "RandomForestClassifier",
          "RandomForestClassifier",
          "RandomForestClassifier",
          "RandomForestClassifier",
          "RandomForestClassifier",
          "RandomForestClassifier",
          "RandomForestClassifier",
          "RandomForestClassifier",
          "RandomForestClassifier",
          "GradientBoostingClassifier",
          "GradientBoostingClassifier",
          "GradientBoostingClassifier",
          "GradientBoostingClassifier",
          "GradientBoostingClassifier",
          "GradientBoostingClassifier",
          "GradientBoostingClassifier",
          "GradientBoostingClassifier",
          "GradientBoostingClassifier",
          "GradientBoostingClassifier",
          "GradientBoostingClassifier",
          "GradientBoostingClassifier",
          "GradientBoostingClassifier",
          "GradientBoostingClassifier",
          "GradientBoostingClassifier",
          "GradientBoostingClassifier",
          "GradientBoostingClassifier",
          "GradientBoostingClassifier",
          "GradientBoostingClassifier",
          "GradientBoostingClassifier",
          "DeepNeuralNetwork",
          "DeepNeuralNetwork",
          "DeepNeuralNetwork",
          "DeepNeuralNetwork",
          "DeepNeuralNetwork",
          "DeepNeuralNetwork",
          "DeepNeuralNetwork",
          "DeepNeuralNetwork",
          "DeepNeuralNetwork",
          "DeepNeuralNetwork",
          "DeepNeuralNetwork",
          "DeepNeuralNetwork",
          "DeepNeuralNetwork",
          "DeepNeuralNetwork",
          "DeepNeuralNetwork",
          "DeepNeuralNetwork",
          "DeepNeuralNetwork",
          "DeepNeuralNetwork",
          "DeepNeuralNetwork",
          "DeepNeuralNetwork"
         ],
         "y": [
          0.8364485981308412,
          0.8037383177570093,
          0.8177570093457944,
          0.8130841121495327,
          0.7897196261682243,
          0.8644859813084113,
          0.8177570093457944,
          0.8177570093457944,
          0.822429906542056,
          0.8075117370892019,
          0.8271028037383178,
          0.8457943925233645,
          0.780373831775701,
          0.7990654205607477,
          0.8364485981308412,
          0.7990654205607477,
          0.780373831775701,
          0.8317757009345794,
          0.8644859813084113,
          0.8450704225352113,
          0.8504672897196262,
          0.8177570093457944,
          0.8411214953271028,
          0.8317757009345794,
          0.794392523364486,
          0.8738317757009346,
          0.8457943925233645,
          0.7897196261682243,
          0.822429906542056,
          0.8356807511737089,
          0.8504672897196262,
          0.794392523364486,
          0.8457943925233645,
          0.7990654205607477,
          0.822429906542056,
          0.8271028037383178,
          0.7757009345794392,
          0.8037383177570093,
          0.8644859813084113,
          0.863849765258216,
          0.8598130841121495,
          0.7990654205607477,
          0.8551401869158879,
          0.8364485981308412,
          0.8084112149532711,
          0.883177570093458,
          0.794392523364486,
          0.794392523364486,
          0.8364485981308412,
          0.8309859154929577,
          0.8317757009345794,
          0.8317757009345794,
          0.8364485981308412,
          0.794392523364486,
          0.8457943925233645,
          0.8130841121495327,
          0.7990654205607477,
          0.822429906542056,
          0.8738317757009346,
          0.8685446009389671,
          0.8457943925233645,
          0.8130841121495327,
          0.8457943925233645,
          0.8177570093457944,
          0.8130841121495327,
          0.8644859813084113,
          0.8317757009345794,
          0.7990654205607477,
          0.8504672897196262,
          0.8169014084507042,
          0.8177570093457944,
          0.8130841121495327,
          0.8598130841121495,
          0.8271028037383178,
          0.8691588785046729,
          0.8130841121495327,
          0.7990654205607477,
          0.8317757009345794,
          0.8598130841121495,
          0.8403755868544601,
          0.7990654205607477,
          0.7616822429906542,
          0.7570093457943925,
          0.7570093457943925,
          0.7616822429906542,
          0.8037383177570093,
          0.7570093457943925,
          0.7757009345794392,
          0.7523364485981309,
          0.7652582159624414,
          0.7523364485981309,
          0.7570093457943925,
          0.7570093457943925,
          0.7523364485981309,
          0.7616822429906542,
          0.7710280373831776,
          0.7570093457943925,
          0.7757009345794392,
          0.7570093457943925,
          0.7746478873239436
         ]
        }
       ],
       "layout": {
        "boxmode": "group",
        "template": {
         "data": {
          "bar": [
           {
            "error_x": {
             "color": "#2a3f5f"
            },
            "error_y": {
             "color": "#2a3f5f"
            },
            "marker": {
             "line": {
              "color": "#E5ECF6",
              "width": 0.5
             },
             "pattern": {
              "fillmode": "overlay",
              "size": 10,
              "solidity": 0.2
             }
            },
            "type": "bar"
           }
          ],
          "barpolar": [
           {
            "marker": {
             "line": {
              "color": "#E5ECF6",
              "width": 0.5
             },
             "pattern": {
              "fillmode": "overlay",
              "size": 10,
              "solidity": 0.2
             }
            },
            "type": "barpolar"
           }
          ],
          "carpet": [
           {
            "aaxis": {
             "endlinecolor": "#2a3f5f",
             "gridcolor": "white",
             "linecolor": "white",
             "minorgridcolor": "white",
             "startlinecolor": "#2a3f5f"
            },
            "baxis": {
             "endlinecolor": "#2a3f5f",
             "gridcolor": "white",
             "linecolor": "white",
             "minorgridcolor": "white",
             "startlinecolor": "#2a3f5f"
            },
            "type": "carpet"
           }
          ],
          "choropleth": [
           {
            "colorbar": {
             "outlinewidth": 0,
             "ticks": ""
            },
            "type": "choropleth"
           }
          ],
          "contour": [
           {
            "colorbar": {
             "outlinewidth": 0,
             "ticks": ""
            },
            "colorscale": [
             [
              0,
              "#0d0887"
             ],
             [
              0.1111111111111111,
              "#46039f"
             ],
             [
              0.2222222222222222,
              "#7201a8"
             ],
             [
              0.3333333333333333,
              "#9c179e"
             ],
             [
              0.4444444444444444,
              "#bd3786"
             ],
             [
              0.5555555555555556,
              "#d8576b"
             ],
             [
              0.6666666666666666,
              "#ed7953"
             ],
             [
              0.7777777777777778,
              "#fb9f3a"
             ],
             [
              0.8888888888888888,
              "#fdca26"
             ],
             [
              1,
              "#f0f921"
             ]
            ],
            "type": "contour"
           }
          ],
          "contourcarpet": [
           {
            "colorbar": {
             "outlinewidth": 0,
             "ticks": ""
            },
            "type": "contourcarpet"
           }
          ],
          "heatmap": [
           {
            "colorbar": {
             "outlinewidth": 0,
             "ticks": ""
            },
            "colorscale": [
             [
              0,
              "#0d0887"
             ],
             [
              0.1111111111111111,
              "#46039f"
             ],
             [
              0.2222222222222222,
              "#7201a8"
             ],
             [
              0.3333333333333333,
              "#9c179e"
             ],
             [
              0.4444444444444444,
              "#bd3786"
             ],
             [
              0.5555555555555556,
              "#d8576b"
             ],
             [
              0.6666666666666666,
              "#ed7953"
             ],
             [
              0.7777777777777778,
              "#fb9f3a"
             ],
             [
              0.8888888888888888,
              "#fdca26"
             ],
             [
              1,
              "#f0f921"
             ]
            ],
            "type": "heatmap"
           }
          ],
          "heatmapgl": [
           {
            "colorbar": {
             "outlinewidth": 0,
             "ticks": ""
            },
            "colorscale": [
             [
              0,
              "#0d0887"
             ],
             [
              0.1111111111111111,
              "#46039f"
             ],
             [
              0.2222222222222222,
              "#7201a8"
             ],
             [
              0.3333333333333333,
              "#9c179e"
             ],
             [
              0.4444444444444444,
              "#bd3786"
             ],
             [
              0.5555555555555556,
              "#d8576b"
             ],
             [
              0.6666666666666666,
              "#ed7953"
             ],
             [
              0.7777777777777778,
              "#fb9f3a"
             ],
             [
              0.8888888888888888,
              "#fdca26"
             ],
             [
              1,
              "#f0f921"
             ]
            ],
            "type": "heatmapgl"
           }
          ],
          "histogram": [
           {
            "marker": {
             "pattern": {
              "fillmode": "overlay",
              "size": 10,
              "solidity": 0.2
             }
            },
            "type": "histogram"
           }
          ],
          "histogram2d": [
           {
            "colorbar": {
             "outlinewidth": 0,
             "ticks": ""
            },
            "colorscale": [
             [
              0,
              "#0d0887"
             ],
             [
              0.1111111111111111,
              "#46039f"
             ],
             [
              0.2222222222222222,
              "#7201a8"
             ],
             [
              0.3333333333333333,
              "#9c179e"
             ],
             [
              0.4444444444444444,
              "#bd3786"
             ],
             [
              0.5555555555555556,
              "#d8576b"
             ],
             [
              0.6666666666666666,
              "#ed7953"
             ],
             [
              0.7777777777777778,
              "#fb9f3a"
             ],
             [
              0.8888888888888888,
              "#fdca26"
             ],
             [
              1,
              "#f0f921"
             ]
            ],
            "type": "histogram2d"
           }
          ],
          "histogram2dcontour": [
           {
            "colorbar": {
             "outlinewidth": 0,
             "ticks": ""
            },
            "colorscale": [
             [
              0,
              "#0d0887"
             ],
             [
              0.1111111111111111,
              "#46039f"
             ],
             [
              0.2222222222222222,
              "#7201a8"
             ],
             [
              0.3333333333333333,
              "#9c179e"
             ],
             [
              0.4444444444444444,
              "#bd3786"
             ],
             [
              0.5555555555555556,
              "#d8576b"
             ],
             [
              0.6666666666666666,
              "#ed7953"
             ],
             [
              0.7777777777777778,
              "#fb9f3a"
             ],
             [
              0.8888888888888888,
              "#fdca26"
             ],
             [
              1,
              "#f0f921"
             ]
            ],
            "type": "histogram2dcontour"
           }
          ],
          "mesh3d": [
           {
            "colorbar": {
             "outlinewidth": 0,
             "ticks": ""
            },
            "type": "mesh3d"
           }
          ],
          "parcoords": [
           {
            "line": {
             "colorbar": {
              "outlinewidth": 0,
              "ticks": ""
             }
            },
            "type": "parcoords"
           }
          ],
          "pie": [
           {
            "automargin": true,
            "type": "pie"
           }
          ],
          "scatter": [
           {
            "fillpattern": {
             "fillmode": "overlay",
             "size": 10,
             "solidity": 0.2
            },
            "type": "scatter"
           }
          ],
          "scatter3d": [
           {
            "line": {
             "colorbar": {
              "outlinewidth": 0,
              "ticks": ""
             }
            },
            "marker": {
             "colorbar": {
              "outlinewidth": 0,
              "ticks": ""
             }
            },
            "type": "scatter3d"
           }
          ],
          "scattercarpet": [
           {
            "marker": {
             "colorbar": {
              "outlinewidth": 0,
              "ticks": ""
             }
            },
            "type": "scattercarpet"
           }
          ],
          "scattergeo": [
           {
            "marker": {
             "colorbar": {
              "outlinewidth": 0,
              "ticks": ""
             }
            },
            "type": "scattergeo"
           }
          ],
          "scattergl": [
           {
            "marker": {
             "colorbar": {
              "outlinewidth": 0,
              "ticks": ""
             }
            },
            "type": "scattergl"
           }
          ],
          "scattermapbox": [
           {
            "marker": {
             "colorbar": {
              "outlinewidth": 0,
              "ticks": ""
             }
            },
            "type": "scattermapbox"
           }
          ],
          "scatterpolar": [
           {
            "marker": {
             "colorbar": {
              "outlinewidth": 0,
              "ticks": ""
             }
            },
            "type": "scatterpolar"
           }
          ],
          "scatterpolargl": [
           {
            "marker": {
             "colorbar": {
              "outlinewidth": 0,
              "ticks": ""
             }
            },
            "type": "scatterpolargl"
           }
          ],
          "scatterternary": [
           {
            "marker": {
             "colorbar": {
              "outlinewidth": 0,
              "ticks": ""
             }
            },
            "type": "scatterternary"
           }
          ],
          "surface": [
           {
            "colorbar": {
             "outlinewidth": 0,
             "ticks": ""
            },
            "colorscale": [
             [
              0,
              "#0d0887"
             ],
             [
              0.1111111111111111,
              "#46039f"
             ],
             [
              0.2222222222222222,
              "#7201a8"
             ],
             [
              0.3333333333333333,
              "#9c179e"
             ],
             [
              0.4444444444444444,
              "#bd3786"
             ],
             [
              0.5555555555555556,
              "#d8576b"
             ],
             [
              0.6666666666666666,
              "#ed7953"
             ],
             [
              0.7777777777777778,
              "#fb9f3a"
             ],
             [
              0.8888888888888888,
              "#fdca26"
             ],
             [
              1,
              "#f0f921"
             ]
            ],
            "type": "surface"
           }
          ],
          "table": [
           {
            "cells": {
             "fill": {
              "color": "#EBF0F8"
             },
             "line": {
              "color": "white"
             }
            },
            "header": {
             "fill": {
              "color": "#C8D4E3"
             },
             "line": {
              "color": "white"
             }
            },
            "type": "table"
           }
          ]
         },
         "layout": {
          "annotationdefaults": {
           "arrowcolor": "#2a3f5f",
           "arrowhead": 0,
           "arrowwidth": 1
          },
          "autotypenumbers": "strict",
          "coloraxis": {
           "colorbar": {
            "outlinewidth": 0,
            "ticks": ""
           }
          },
          "colorscale": {
           "diverging": [
            [
             0,
             "#8e0152"
            ],
            [
             0.1,
             "#c51b7d"
            ],
            [
             0.2,
             "#de77ae"
            ],
            [
             0.3,
             "#f1b6da"
            ],
            [
             0.4,
             "#fde0ef"
            ],
            [
             0.5,
             "#f7f7f7"
            ],
            [
             0.6,
             "#e6f5d0"
            ],
            [
             0.7,
             "#b8e186"
            ],
            [
             0.8,
             "#7fbc41"
            ],
            [
             0.9,
             "#4d9221"
            ],
            [
             1,
             "#276419"
            ]
           ],
           "sequential": [
            [
             0,
             "#0d0887"
            ],
            [
             0.1111111111111111,
             "#46039f"
            ],
            [
             0.2222222222222222,
             "#7201a8"
            ],
            [
             0.3333333333333333,
             "#9c179e"
            ],
            [
             0.4444444444444444,
             "#bd3786"
            ],
            [
             0.5555555555555556,
             "#d8576b"
            ],
            [
             0.6666666666666666,
             "#ed7953"
            ],
            [
             0.7777777777777778,
             "#fb9f3a"
            ],
            [
             0.8888888888888888,
             "#fdca26"
            ],
            [
             1,
             "#f0f921"
            ]
           ],
           "sequentialminus": [
            [
             0,
             "#0d0887"
            ],
            [
             0.1111111111111111,
             "#46039f"
            ],
            [
             0.2222222222222222,
             "#7201a8"
            ],
            [
             0.3333333333333333,
             "#9c179e"
            ],
            [
             0.4444444444444444,
             "#bd3786"
            ],
            [
             0.5555555555555556,
             "#d8576b"
            ],
            [
             0.6666666666666666,
             "#ed7953"
            ],
            [
             0.7777777777777778,
             "#fb9f3a"
            ],
            [
             0.8888888888888888,
             "#fdca26"
            ],
            [
             1,
             "#f0f921"
            ]
           ]
          },
          "colorway": [
           "#636efa",
           "#EF553B",
           "#00cc96",
           "#ab63fa",
           "#FFA15A",
           "#19d3f3",
           "#FF6692",
           "#B6E880",
           "#FF97FF",
           "#FECB52"
          ],
          "font": {
           "color": "#2a3f5f"
          },
          "geo": {
           "bgcolor": "white",
           "lakecolor": "white",
           "landcolor": "#E5ECF6",
           "showlakes": true,
           "showland": true,
           "subunitcolor": "white"
          },
          "hoverlabel": {
           "align": "left"
          },
          "hovermode": "closest",
          "mapbox": {
           "style": "light"
          },
          "paper_bgcolor": "white",
          "plot_bgcolor": "#E5ECF6",
          "polar": {
           "angularaxis": {
            "gridcolor": "white",
            "linecolor": "white",
            "ticks": ""
           },
           "bgcolor": "#E5ECF6",
           "radialaxis": {
            "gridcolor": "white",
            "linecolor": "white",
            "ticks": ""
           }
          },
          "scene": {
           "xaxis": {
            "backgroundcolor": "#E5ECF6",
            "gridcolor": "white",
            "gridwidth": 2,
            "linecolor": "white",
            "showbackground": true,
            "ticks": "",
            "zerolinecolor": "white"
           },
           "yaxis": {
            "backgroundcolor": "#E5ECF6",
            "gridcolor": "white",
            "gridwidth": 2,
            "linecolor": "white",
            "showbackground": true,
            "ticks": "",
            "zerolinecolor": "white"
           },
           "zaxis": {
            "backgroundcolor": "#E5ECF6",
            "gridcolor": "white",
            "gridwidth": 2,
            "linecolor": "white",
            "showbackground": true,
            "ticks": "",
            "zerolinecolor": "white"
           }
          },
          "shapedefaults": {
           "line": {
            "color": "#2a3f5f"
           }
          },
          "ternary": {
           "aaxis": {
            "gridcolor": "white",
            "linecolor": "white",
            "ticks": ""
           },
           "baxis": {
            "gridcolor": "white",
            "linecolor": "white",
            "ticks": ""
           },
           "bgcolor": "#E5ECF6",
           "caxis": {
            "gridcolor": "white",
            "linecolor": "white",
            "ticks": ""
           }
          },
          "title": {
           "x": 0.05
          },
          "xaxis": {
           "automargin": true,
           "gridcolor": "white",
           "linecolor": "white",
           "ticks": "",
           "title": {
            "standoff": 15
           },
           "zerolinecolor": "white",
           "zerolinewidth": 2
          },
          "yaxis": {
           "automargin": true,
           "gridcolor": "white",
           "linecolor": "white",
           "ticks": "",
           "title": {
            "standoff": 15
           },
           "zerolinecolor": "white",
           "zerolinewidth": 2
          }
         }
        },
        "title": {
         "text": "accuracy"
        },
        "yaxis": {
         "title": {
          "text": "accuracy"
         }
        }
       }
      }
     },
     "metadata": {},
     "output_type": "display_data"
    },
    {
     "data": {
      "application/vnd.plotly.v1+json": {
       "config": {
        "plotlyServerURL": "https://plot.ly"
       },
       "data": [
        {
         "name": "Full",
         "type": "box",
         "x": [
          "LogisticRegression",
          "LogisticRegression",
          "LogisticRegression",
          "LogisticRegression",
          "LogisticRegression",
          "LogisticRegression",
          "LogisticRegression",
          "LogisticRegression",
          "LogisticRegression",
          "LogisticRegression",
          "LogisticRegression",
          "LogisticRegression",
          "LogisticRegression",
          "LogisticRegression",
          "LogisticRegression",
          "LogisticRegression",
          "LogisticRegression",
          "LogisticRegression",
          "LogisticRegression",
          "LogisticRegression",
          "SVC",
          "SVC",
          "SVC",
          "SVC",
          "SVC",
          "SVC",
          "SVC",
          "SVC",
          "SVC",
          "SVC",
          "SVC",
          "SVC",
          "SVC",
          "SVC",
          "SVC",
          "SVC",
          "SVC",
          "SVC",
          "SVC",
          "SVC",
          "RandomForestClassifier",
          "RandomForestClassifier",
          "RandomForestClassifier",
          "RandomForestClassifier",
          "RandomForestClassifier",
          "RandomForestClassifier",
          "RandomForestClassifier",
          "RandomForestClassifier",
          "RandomForestClassifier",
          "RandomForestClassifier",
          "RandomForestClassifier",
          "RandomForestClassifier",
          "RandomForestClassifier",
          "RandomForestClassifier",
          "RandomForestClassifier",
          "RandomForestClassifier",
          "RandomForestClassifier",
          "RandomForestClassifier",
          "RandomForestClassifier",
          "RandomForestClassifier",
          "GradientBoostingClassifier",
          "GradientBoostingClassifier",
          "GradientBoostingClassifier",
          "GradientBoostingClassifier",
          "GradientBoostingClassifier",
          "GradientBoostingClassifier",
          "GradientBoostingClassifier",
          "GradientBoostingClassifier",
          "GradientBoostingClassifier",
          "GradientBoostingClassifier",
          "GradientBoostingClassifier",
          "GradientBoostingClassifier",
          "GradientBoostingClassifier",
          "GradientBoostingClassifier",
          "GradientBoostingClassifier",
          "GradientBoostingClassifier",
          "GradientBoostingClassifier",
          "GradientBoostingClassifier",
          "GradientBoostingClassifier",
          "GradientBoostingClassifier",
          "DeepNeuralNetwork",
          "DeepNeuralNetwork",
          "DeepNeuralNetwork",
          "DeepNeuralNetwork",
          "DeepNeuralNetwork",
          "DeepNeuralNetwork",
          "DeepNeuralNetwork",
          "DeepNeuralNetwork",
          "DeepNeuralNetwork",
          "DeepNeuralNetwork",
          "DeepNeuralNetwork",
          "DeepNeuralNetwork",
          "DeepNeuralNetwork",
          "DeepNeuralNetwork",
          "DeepNeuralNetwork",
          "DeepNeuralNetwork",
          "DeepNeuralNetwork",
          "DeepNeuralNetwork",
          "DeepNeuralNetwork",
          "DeepNeuralNetwork"
         ],
         "y": [
          0.6933760683760684,
          0.6975308641975309,
          0.7483380816714149,
          0.6521842355175688,
          0.7270892687559355,
          0.7675688509021842,
          0.6810303893637227,
          0.6971747388414057,
          0.7111215281846947,
          0.7065217391304348,
          0.7098765432098765,
          0.783713200379867,
          0.6806742640075973,
          0.7202041785375118,
          0.7160493827160493,
          0.6683285849952517,
          0.6305792972459638,
          0.7552231718898386,
          0.8023555607640922,
          0.7282608695652175,
          0.7126068376068376,
          0.7621082621082621,
          0.768281101614435,
          0.7122507122507123,
          0.6645299145299145,
          0.837962962962963,
          0.7606837606837606,
          0.6978869895536562,
          0.698347591702801,
          0.729156712852365,
          0.7648385565052231,
          0.7562915479582146,
          0.7218660968660969,
          0.7367046533713201,
          0.7191358024691358,
          0.758309591642925,
          0.7006172839506173,
          0.7679249762583096,
          0.8054611508262041,
          0.7381748686096511,
          0.8448480531813864,
          0.7771842355175688,
          0.837962962962963,
          0.7737416904083572,
          0.7971272554605888,
          0.8218186134852803,
          0.7813390313390313,
          0.7501187084520419,
          0.7298722606351811,
          0.7580028666985189,
          0.8067426400759735,
          0.7590218423551758,
          0.7679249762583096,
          0.7528490028490028,
          0.7867996201329535,
          0.7105887939221273,
          0.7167616334283,
          0.6683285849952517,
          0.7928044064221258,
          0.7868490205446728,
          0.7552231718898386,
          0.6882716049382717,
          0.8036562203228871,
          0.7786087369420702,
          0.7586657169990504,
          0.8221747388414056,
          0.7675688509021842,
          0.7559354226020892,
          0.758408531583265,
          0.7353678929765887,
          0.7713675213675213,
          0.7679249762583096,
          0.7390788224121557,
          0.755579297245964,
          0.796415004748338,
          0.7167616334283,
          0.7490503323836658,
          0.7143874643874644,
          0.7425290050392593,
          0.7961657907310081,
          0.8888888888888888,
          0.8327397910731243,
          0.7958214624881291,
          0.8663342830009497,
          0.827991452991453,
          0.8761870845204178,
          0.8402184235517569,
          0.7827635327635327,
          0.7371381694597445,
          0.881032011466794,
          0.8220560303893637,
          0.8592117758784426,
          0.8437796771130105,
          0.7266144349477683,
          0.8463912630579298,
          0.8462725546058879,
          0.676994301994302,
          0.84840930674264,
          0.7663189968358138,
          0.7981366459627329
         ]
        },
        {
         "name": "FR",
         "type": "box",
         "x": [
          "LogisticRegression",
          "LogisticRegression",
          "LogisticRegression",
          "LogisticRegression",
          "LogisticRegression",
          "LogisticRegression",
          "LogisticRegression",
          "LogisticRegression",
          "LogisticRegression",
          "LogisticRegression",
          "LogisticRegression",
          "LogisticRegression",
          "LogisticRegression",
          "LogisticRegression",
          "LogisticRegression",
          "LogisticRegression",
          "LogisticRegression",
          "LogisticRegression",
          "LogisticRegression",
          "LogisticRegression",
          "SVC",
          "SVC",
          "SVC",
          "SVC",
          "SVC",
          "SVC",
          "SVC",
          "SVC",
          "SVC",
          "SVC",
          "SVC",
          "SVC",
          "SVC",
          "SVC",
          "SVC",
          "SVC",
          "SVC",
          "SVC",
          "SVC",
          "SVC",
          "RandomForestClassifier",
          "RandomForestClassifier",
          "RandomForestClassifier",
          "RandomForestClassifier",
          "RandomForestClassifier",
          "RandomForestClassifier",
          "RandomForestClassifier",
          "RandomForestClassifier",
          "RandomForestClassifier",
          "RandomForestClassifier",
          "RandomForestClassifier",
          "RandomForestClassifier",
          "RandomForestClassifier",
          "RandomForestClassifier",
          "RandomForestClassifier",
          "RandomForestClassifier",
          "RandomForestClassifier",
          "RandomForestClassifier",
          "RandomForestClassifier",
          "RandomForestClassifier",
          "GradientBoostingClassifier",
          "GradientBoostingClassifier",
          "GradientBoostingClassifier",
          "GradientBoostingClassifier",
          "GradientBoostingClassifier",
          "GradientBoostingClassifier",
          "GradientBoostingClassifier",
          "GradientBoostingClassifier",
          "GradientBoostingClassifier",
          "GradientBoostingClassifier",
          "GradientBoostingClassifier",
          "GradientBoostingClassifier",
          "GradientBoostingClassifier",
          "GradientBoostingClassifier",
          "GradientBoostingClassifier",
          "GradientBoostingClassifier",
          "GradientBoostingClassifier",
          "GradientBoostingClassifier",
          "GradientBoostingClassifier",
          "GradientBoostingClassifier",
          "DeepNeuralNetwork",
          "DeepNeuralNetwork",
          "DeepNeuralNetwork",
          "DeepNeuralNetwork",
          "DeepNeuralNetwork",
          "DeepNeuralNetwork",
          "DeepNeuralNetwork",
          "DeepNeuralNetwork",
          "DeepNeuralNetwork",
          "DeepNeuralNetwork",
          "DeepNeuralNetwork",
          "DeepNeuralNetwork",
          "DeepNeuralNetwork",
          "DeepNeuralNetwork",
          "DeepNeuralNetwork",
          "DeepNeuralNetwork",
          "DeepNeuralNetwork",
          "DeepNeuralNetwork",
          "DeepNeuralNetwork",
          "DeepNeuralNetwork"
         ],
         "y": [
          0.6710588793922126,
          0.6779439696106363,
          0.7740978157644824,
          0.7294634377967711,
          0.6690408357075024,
          0.8256172839506173,
          0.6549145299145299,
          0.6906457739791073,
          0.7111215281846947,
          0.7288580984233157,
          0.7260208926875593,
          0.7545109211775878,
          0.6583570750237417,
          0.6302231718898385,
          0.6999050332383666,
          0.6940883190883191,
          0.6463675213675213,
          0.7617521367521367,
          0.8023555607640922,
          0.741280458671763,
          0.7606837606837606,
          0.7160493827160493,
          0.7033475783475784,
          0.755579297245964,
          0.6999050332383666,
          0.8156457739791073,
          0.7813390313390313,
          0.7713675213675213,
          0.7237782725887729,
          0.7254538939321548,
          0.7514245014245015,
          0.7253086419753088,
          0.7191358024691358,
          0.7301756885090219,
          0.7545109211775878,
          0.700261158594492,
          0.6683285849952517,
          0.7359924026590693,
          0.7772764561115668,
          0.7477902532250358,
          0.8087606837606838,
          0.6590693257359924,
          0.7971272554605888,
          0.7717236467236467,
          0.7524928774928774,
          0.7929724596391262,
          0.7686372269705604,
          0.7394349477682812,
          0.7521973514590413,
          0.7384734830387004,
          0.7321937321937322,
          0.7967711301044634,
          0.7194919278252612,
          0.7521367521367521,
          0.7679249762583096,
          0.7263770180436847,
          0.6117046533713201,
          0.764482431149098,
          0.7771592640337514,
          0.8088867654085046,
          0.8060303893637227,
          0.733974358974359,
          0.6948005698005697,
          0.7321937321937322,
          0.8005698005698005,
          0.7740978157644824,
          0.7236467236467236,
          0.7150997150997151,
          0.7490917613969295,
          0.7992713807931199,
          0.8002136752136753,
          0.7528490028490028,
          0.7287511870845204,
          0.7363485280151947,
          0.7740978157644824,
          0.7675688509021842,
          0.7232905982905983,
          0.8040123456790124,
          0.7959099964842375,
          0.8448399426660297,
          0.8688271604938272,
          0.8175451092117759,
          0.7972459639126306,
          0.8065052231718899,
          0.7914292497625831,
          0.7862060778727445,
          0.870014245014245,
          0.6674976258309592,
          0.8270244931442634,
          0.8122312470138557,
          0.7873931623931624,
          0.796415004748338,
          0.8843779677113011,
          0.7581908831908831,
          0.799264007597341,
          0.8048433048433049,
          0.7610398860398861,
          0.8022317188983855,
          0.8208133130200398,
          0.86741519350215
         ]
        },
        {
         "name": "SS",
         "type": "box",
         "x": [
          "LogisticRegression",
          "LogisticRegression",
          "LogisticRegression",
          "LogisticRegression",
          "LogisticRegression",
          "LogisticRegression",
          "LogisticRegression",
          "LogisticRegression",
          "LogisticRegression",
          "LogisticRegression",
          "LogisticRegression",
          "LogisticRegression",
          "LogisticRegression",
          "LogisticRegression",
          "LogisticRegression",
          "LogisticRegression",
          "LogisticRegression",
          "LogisticRegression",
          "LogisticRegression",
          "LogisticRegression",
          "SVC",
          "SVC",
          "SVC",
          "SVC",
          "SVC",
          "SVC",
          "SVC",
          "SVC",
          "SVC",
          "SVC",
          "SVC",
          "SVC",
          "SVC",
          "SVC",
          "SVC",
          "SVC",
          "SVC",
          "SVC",
          "SVC",
          "SVC",
          "RandomForestClassifier",
          "RandomForestClassifier",
          "RandomForestClassifier",
          "RandomForestClassifier",
          "RandomForestClassifier",
          "RandomForestClassifier",
          "RandomForestClassifier",
          "RandomForestClassifier",
          "RandomForestClassifier",
          "RandomForestClassifier",
          "RandomForestClassifier",
          "RandomForestClassifier",
          "RandomForestClassifier",
          "RandomForestClassifier",
          "RandomForestClassifier",
          "RandomForestClassifier",
          "RandomForestClassifier",
          "RandomForestClassifier",
          "RandomForestClassifier",
          "RandomForestClassifier",
          "GradientBoostingClassifier",
          "GradientBoostingClassifier",
          "GradientBoostingClassifier",
          "GradientBoostingClassifier",
          "GradientBoostingClassifier",
          "GradientBoostingClassifier",
          "GradientBoostingClassifier",
          "GradientBoostingClassifier",
          "GradientBoostingClassifier",
          "GradientBoostingClassifier",
          "GradientBoostingClassifier",
          "GradientBoostingClassifier",
          "GradientBoostingClassifier",
          "GradientBoostingClassifier",
          "GradientBoostingClassifier",
          "GradientBoostingClassifier",
          "GradientBoostingClassifier",
          "GradientBoostingClassifier",
          "GradientBoostingClassifier",
          "GradientBoostingClassifier",
          "DeepNeuralNetwork",
          "DeepNeuralNetwork",
          "DeepNeuralNetwork",
          "DeepNeuralNetwork",
          "DeepNeuralNetwork",
          "DeepNeuralNetwork",
          "DeepNeuralNetwork",
          "DeepNeuralNetwork",
          "DeepNeuralNetwork",
          "DeepNeuralNetwork",
          "DeepNeuralNetwork",
          "DeepNeuralNetwork",
          "DeepNeuralNetwork",
          "DeepNeuralNetwork",
          "DeepNeuralNetwork",
          "DeepNeuralNetwork",
          "DeepNeuralNetwork",
          "DeepNeuralNetwork",
          "DeepNeuralNetwork",
          "DeepNeuralNetwork"
         ],
         "y": [
          0.6872032288698956,
          0.684116809116809,
          0.7675688509021842,
          0.7067901234567902,
          0.6978869895536562,
          0.7867996201329535,
          0.7098765432098765,
          0.7164055080721747,
          0.7205554904488457,
          0.6935021500238892,
          0.7229344729344729,
          0.7771842355175688,
          0.6810303893637227,
          0.704059829059829,
          0.7191358024691358,
          0.658713200379867,
          0.6597815764482432,
          0.7617521367521367,
          0.7929215984999414,
          0.7347706641184902,
          0.7253086419753088,
          0.7363485280151947,
          0.7095204178537512,
          0.7541547958214625,
          0.6721272554605889,
          0.7960588793922125,
          0.8287037037037037,
          0.6717711301044634,
          0.6764912691902027,
          0.7514930721452462,
          0.7744539411206077,
          0.7452516619183286,
          0.7902421652421653,
          0.7071462488129154,
          0.7510683760683761,
          0.7775403608736942,
          0.6556267806267807,
          0.7428774928774928,
          0.8117895230282433,
          0.8346273291925466,
          0.7833570750237417,
          0.7236467236467236,
          0.7744539411206077,
          0.7933285849952517,
          0.7405033238366572,
          0.7768281101614435,
          0.7617521367521367,
          0.7143874643874644,
          0.6955935778741357,
          0.7769350215002389,
          0.7648385565052231,
          0.8094729344729346,
          0.7641263057929726,
          0.7336182336182336,
          0.7679249762583096,
          0.7301756885090219,
          0.6920702754036087,
          0.7995014245014245,
          0.8023555607640922,
          0.8119923554706163,
          0.8321462488129154,
          0.6498100664767332,
          0.8132716049382716,
          0.7545109211775878,
          0.7974833808167142,
          0.8283475783475784,
          0.7789648622981956,
          0.7274453941120608,
          0.7236610805109575,
          0.7577042522694696,
          0.7840693257359924,
          0.7528490028490028,
          0.7263770180436847,
          0.7758784425451093,
          0.8156457739791073,
          0.7071462488129154,
          0.7494064577397911,
          0.755579297245964,
          0.7834876362357903,
          0.802675585284281,
          0.8700142450142451,
          0.7968898385565053,
          0.8306030389363723,
          0.8100664767331434,
          0.74002849002849,
          0.8732193732193732,
          0.8738129154795822,
          0.7336182336182336,
          0.833001289112856,
          0.8002866698518873,
          0.8491215574548907,
          0.8478157644824311,
          0.8353513770180436,
          0.8344017094017095,
          0.7706552706552707,
          0.8409306742640076,
          0.7927350427350428,
          0.8240740740740741,
          0.8769483182936834,
          0.7243191591017677
         ]
        },
        {
         "name": "SS & FR",
         "type": "box",
         "x": [
          "LogisticRegression",
          "LogisticRegression",
          "LogisticRegression",
          "LogisticRegression",
          "LogisticRegression",
          "LogisticRegression",
          "LogisticRegression",
          "LogisticRegression",
          "LogisticRegression",
          "LogisticRegression",
          "LogisticRegression",
          "LogisticRegression",
          "LogisticRegression",
          "LogisticRegression",
          "LogisticRegression",
          "LogisticRegression",
          "LogisticRegression",
          "LogisticRegression",
          "LogisticRegression",
          "LogisticRegression",
          "SVC",
          "SVC",
          "SVC",
          "SVC",
          "SVC",
          "SVC",
          "SVC",
          "SVC",
          "SVC",
          "SVC",
          "SVC",
          "SVC",
          "SVC",
          "SVC",
          "SVC",
          "SVC",
          "SVC",
          "SVC",
          "SVC",
          "SVC",
          "RandomForestClassifier",
          "RandomForestClassifier",
          "RandomForestClassifier",
          "RandomForestClassifier",
          "RandomForestClassifier",
          "RandomForestClassifier",
          "RandomForestClassifier",
          "RandomForestClassifier",
          "RandomForestClassifier",
          "RandomForestClassifier",
          "RandomForestClassifier",
          "RandomForestClassifier",
          "RandomForestClassifier",
          "RandomForestClassifier",
          "RandomForestClassifier",
          "RandomForestClassifier",
          "RandomForestClassifier",
          "RandomForestClassifier",
          "RandomForestClassifier",
          "RandomForestClassifier",
          "GradientBoostingClassifier",
          "GradientBoostingClassifier",
          "GradientBoostingClassifier",
          "GradientBoostingClassifier",
          "GradientBoostingClassifier",
          "GradientBoostingClassifier",
          "GradientBoostingClassifier",
          "GradientBoostingClassifier",
          "GradientBoostingClassifier",
          "GradientBoostingClassifier",
          "GradientBoostingClassifier",
          "GradientBoostingClassifier",
          "GradientBoostingClassifier",
          "GradientBoostingClassifier",
          "GradientBoostingClassifier",
          "GradientBoostingClassifier",
          "GradientBoostingClassifier",
          "GradientBoostingClassifier",
          "GradientBoostingClassifier",
          "GradientBoostingClassifier",
          "DeepNeuralNetwork",
          "DeepNeuralNetwork",
          "DeepNeuralNetwork",
          "DeepNeuralNetwork",
          "DeepNeuralNetwork",
          "DeepNeuralNetwork",
          "DeepNeuralNetwork",
          "DeepNeuralNetwork",
          "DeepNeuralNetwork",
          "DeepNeuralNetwork",
          "DeepNeuralNetwork",
          "DeepNeuralNetwork",
          "DeepNeuralNetwork",
          "DeepNeuralNetwork",
          "DeepNeuralNetwork",
          "DeepNeuralNetwork",
          "DeepNeuralNetwork",
          "DeepNeuralNetwork",
          "DeepNeuralNetwork",
          "DeepNeuralNetwork"
         ],
         "y": [
          0.7418091168091168,
          0.687559354226021,
          0.7098765432098765,
          0.7067901234567902,
          0.6783000949667617,
          0.8125593542260211,
          0.7098765432098765,
          0.7164055080721747,
          0.7111215281846947,
          0.6969063545150502,
          0.735636277302944,
          0.7675688509021842,
          0.6329534662867996,
          0.7236467236467236,
          0.7352801519468186,
          0.6779439696106363,
          0.6721272554605889,
          0.7713675213675213,
          0.7960271885620532,
          0.741280458671763,
          0.7641263057929726,
          0.6968186134852803,
          0.771011396011396,
          0.758309591642925,
          0.7205603038936373,
          0.8448480531813864,
          0.7675688509021842,
          0.7044159544159543,
          0.717449900386734,
          0.748088867654085,
          0.7967711301044634,
          0.7205603038936373,
          0.7349240265906932,
          0.7432336182336182,
          0.7260208926875593,
          0.7486942070275404,
          0.6625118708452041,
          0.687559354226021,
          0.7896988163600139,
          0.8057811753463927,
          0.8029439696106363,
          0.7432336182336182,
          0.7998575498575499,
          0.7548670465337133,
          0.7232905982905983,
          0.8183760683760684,
          0.7336182336182336,
          0.7270892687559355,
          0.7710652759873432,
          0.7384734830387004,
          0.7778964862298196,
          0.7844254510921177,
          0.7483380816714149,
          0.7401471984805318,
          0.7349240265906932,
          0.7590218423551758,
          0.6910018993352327,
          0.7717236467236467,
          0.8212234852923941,
          0.7828475871954134,
          0.7806267806267807,
          0.7133190883190883,
          0.7740978157644824,
          0.7751661918328586,
          0.7590218423551758,
          0.8060303893637227,
          0.7713675213675213,
          0.7171177587844255,
          0.7677253017696003,
          0.729156712852365,
          0.755579297245964,
          0.7655508072174739,
          0.8029439696106363,
          0.7486942070275404,
          0.8287037037037037,
          0.7329059829059829,
          0.7105887939221273,
          0.7648385565052231,
          0.8055783429040198,
          0.8032728141423794,
          0.8760683760683761,
          0.7425213675213675,
          0.8012820512820513,
          0.84840930674264,
          0.7902421652421653,
          0.8382003798670465,
          0.8419990503323838,
          0.7562915479582146,
          0.7583499355443573,
          0.8535594839942667,
          0.7691120607787275,
          0.8155270655270656,
          0.7877492877492878,
          0.7999762583095916,
          0.7902421652421652,
          0.8582621082621084,
          0.7556980056980057,
          0.8599240265906932,
          0.9063635298253838,
          0.8917821309125658
         ]
        }
       ],
       "layout": {
        "boxmode": "group",
        "template": {
         "data": {
          "bar": [
           {
            "error_x": {
             "color": "#2a3f5f"
            },
            "error_y": {
             "color": "#2a3f5f"
            },
            "marker": {
             "line": {
              "color": "#E5ECF6",
              "width": 0.5
             },
             "pattern": {
              "fillmode": "overlay",
              "size": 10,
              "solidity": 0.2
             }
            },
            "type": "bar"
           }
          ],
          "barpolar": [
           {
            "marker": {
             "line": {
              "color": "#E5ECF6",
              "width": 0.5
             },
             "pattern": {
              "fillmode": "overlay",
              "size": 10,
              "solidity": 0.2
             }
            },
            "type": "barpolar"
           }
          ],
          "carpet": [
           {
            "aaxis": {
             "endlinecolor": "#2a3f5f",
             "gridcolor": "white",
             "linecolor": "white",
             "minorgridcolor": "white",
             "startlinecolor": "#2a3f5f"
            },
            "baxis": {
             "endlinecolor": "#2a3f5f",
             "gridcolor": "white",
             "linecolor": "white",
             "minorgridcolor": "white",
             "startlinecolor": "#2a3f5f"
            },
            "type": "carpet"
           }
          ],
          "choropleth": [
           {
            "colorbar": {
             "outlinewidth": 0,
             "ticks": ""
            },
            "type": "choropleth"
           }
          ],
          "contour": [
           {
            "colorbar": {
             "outlinewidth": 0,
             "ticks": ""
            },
            "colorscale": [
             [
              0,
              "#0d0887"
             ],
             [
              0.1111111111111111,
              "#46039f"
             ],
             [
              0.2222222222222222,
              "#7201a8"
             ],
             [
              0.3333333333333333,
              "#9c179e"
             ],
             [
              0.4444444444444444,
              "#bd3786"
             ],
             [
              0.5555555555555556,
              "#d8576b"
             ],
             [
              0.6666666666666666,
              "#ed7953"
             ],
             [
              0.7777777777777778,
              "#fb9f3a"
             ],
             [
              0.8888888888888888,
              "#fdca26"
             ],
             [
              1,
              "#f0f921"
             ]
            ],
            "type": "contour"
           }
          ],
          "contourcarpet": [
           {
            "colorbar": {
             "outlinewidth": 0,
             "ticks": ""
            },
            "type": "contourcarpet"
           }
          ],
          "heatmap": [
           {
            "colorbar": {
             "outlinewidth": 0,
             "ticks": ""
            },
            "colorscale": [
             [
              0,
              "#0d0887"
             ],
             [
              0.1111111111111111,
              "#46039f"
             ],
             [
              0.2222222222222222,
              "#7201a8"
             ],
             [
              0.3333333333333333,
              "#9c179e"
             ],
             [
              0.4444444444444444,
              "#bd3786"
             ],
             [
              0.5555555555555556,
              "#d8576b"
             ],
             [
              0.6666666666666666,
              "#ed7953"
             ],
             [
              0.7777777777777778,
              "#fb9f3a"
             ],
             [
              0.8888888888888888,
              "#fdca26"
             ],
             [
              1,
              "#f0f921"
             ]
            ],
            "type": "heatmap"
           }
          ],
          "heatmapgl": [
           {
            "colorbar": {
             "outlinewidth": 0,
             "ticks": ""
            },
            "colorscale": [
             [
              0,
              "#0d0887"
             ],
             [
              0.1111111111111111,
              "#46039f"
             ],
             [
              0.2222222222222222,
              "#7201a8"
             ],
             [
              0.3333333333333333,
              "#9c179e"
             ],
             [
              0.4444444444444444,
              "#bd3786"
             ],
             [
              0.5555555555555556,
              "#d8576b"
             ],
             [
              0.6666666666666666,
              "#ed7953"
             ],
             [
              0.7777777777777778,
              "#fb9f3a"
             ],
             [
              0.8888888888888888,
              "#fdca26"
             ],
             [
              1,
              "#f0f921"
             ]
            ],
            "type": "heatmapgl"
           }
          ],
          "histogram": [
           {
            "marker": {
             "pattern": {
              "fillmode": "overlay",
              "size": 10,
              "solidity": 0.2
             }
            },
            "type": "histogram"
           }
          ],
          "histogram2d": [
           {
            "colorbar": {
             "outlinewidth": 0,
             "ticks": ""
            },
            "colorscale": [
             [
              0,
              "#0d0887"
             ],
             [
              0.1111111111111111,
              "#46039f"
             ],
             [
              0.2222222222222222,
              "#7201a8"
             ],
             [
              0.3333333333333333,
              "#9c179e"
             ],
             [
              0.4444444444444444,
              "#bd3786"
             ],
             [
              0.5555555555555556,
              "#d8576b"
             ],
             [
              0.6666666666666666,
              "#ed7953"
             ],
             [
              0.7777777777777778,
              "#fb9f3a"
             ],
             [
              0.8888888888888888,
              "#fdca26"
             ],
             [
              1,
              "#f0f921"
             ]
            ],
            "type": "histogram2d"
           }
          ],
          "histogram2dcontour": [
           {
            "colorbar": {
             "outlinewidth": 0,
             "ticks": ""
            },
            "colorscale": [
             [
              0,
              "#0d0887"
             ],
             [
              0.1111111111111111,
              "#46039f"
             ],
             [
              0.2222222222222222,
              "#7201a8"
             ],
             [
              0.3333333333333333,
              "#9c179e"
             ],
             [
              0.4444444444444444,
              "#bd3786"
             ],
             [
              0.5555555555555556,
              "#d8576b"
             ],
             [
              0.6666666666666666,
              "#ed7953"
             ],
             [
              0.7777777777777778,
              "#fb9f3a"
             ],
             [
              0.8888888888888888,
              "#fdca26"
             ],
             [
              1,
              "#f0f921"
             ]
            ],
            "type": "histogram2dcontour"
           }
          ],
          "mesh3d": [
           {
            "colorbar": {
             "outlinewidth": 0,
             "ticks": ""
            },
            "type": "mesh3d"
           }
          ],
          "parcoords": [
           {
            "line": {
             "colorbar": {
              "outlinewidth": 0,
              "ticks": ""
             }
            },
            "type": "parcoords"
           }
          ],
          "pie": [
           {
            "automargin": true,
            "type": "pie"
           }
          ],
          "scatter": [
           {
            "fillpattern": {
             "fillmode": "overlay",
             "size": 10,
             "solidity": 0.2
            },
            "type": "scatter"
           }
          ],
          "scatter3d": [
           {
            "line": {
             "colorbar": {
              "outlinewidth": 0,
              "ticks": ""
             }
            },
            "marker": {
             "colorbar": {
              "outlinewidth": 0,
              "ticks": ""
             }
            },
            "type": "scatter3d"
           }
          ],
          "scattercarpet": [
           {
            "marker": {
             "colorbar": {
              "outlinewidth": 0,
              "ticks": ""
             }
            },
            "type": "scattercarpet"
           }
          ],
          "scattergeo": [
           {
            "marker": {
             "colorbar": {
              "outlinewidth": 0,
              "ticks": ""
             }
            },
            "type": "scattergeo"
           }
          ],
          "scattergl": [
           {
            "marker": {
             "colorbar": {
              "outlinewidth": 0,
              "ticks": ""
             }
            },
            "type": "scattergl"
           }
          ],
          "scattermapbox": [
           {
            "marker": {
             "colorbar": {
              "outlinewidth": 0,
              "ticks": ""
             }
            },
            "type": "scattermapbox"
           }
          ],
          "scatterpolar": [
           {
            "marker": {
             "colorbar": {
              "outlinewidth": 0,
              "ticks": ""
             }
            },
            "type": "scatterpolar"
           }
          ],
          "scatterpolargl": [
           {
            "marker": {
             "colorbar": {
              "outlinewidth": 0,
              "ticks": ""
             }
            },
            "type": "scatterpolargl"
           }
          ],
          "scatterternary": [
           {
            "marker": {
             "colorbar": {
              "outlinewidth": 0,
              "ticks": ""
             }
            },
            "type": "scatterternary"
           }
          ],
          "surface": [
           {
            "colorbar": {
             "outlinewidth": 0,
             "ticks": ""
            },
            "colorscale": [
             [
              0,
              "#0d0887"
             ],
             [
              0.1111111111111111,
              "#46039f"
             ],
             [
              0.2222222222222222,
              "#7201a8"
             ],
             [
              0.3333333333333333,
              "#9c179e"
             ],
             [
              0.4444444444444444,
              "#bd3786"
             ],
             [
              0.5555555555555556,
              "#d8576b"
             ],
             [
              0.6666666666666666,
              "#ed7953"
             ],
             [
              0.7777777777777778,
              "#fb9f3a"
             ],
             [
              0.8888888888888888,
              "#fdca26"
             ],
             [
              1,
              "#f0f921"
             ]
            ],
            "type": "surface"
           }
          ],
          "table": [
           {
            "cells": {
             "fill": {
              "color": "#EBF0F8"
             },
             "line": {
              "color": "white"
             }
            },
            "header": {
             "fill": {
              "color": "#C8D4E3"
             },
             "line": {
              "color": "white"
             }
            },
            "type": "table"
           }
          ]
         },
         "layout": {
          "annotationdefaults": {
           "arrowcolor": "#2a3f5f",
           "arrowhead": 0,
           "arrowwidth": 1
          },
          "autotypenumbers": "strict",
          "coloraxis": {
           "colorbar": {
            "outlinewidth": 0,
            "ticks": ""
           }
          },
          "colorscale": {
           "diverging": [
            [
             0,
             "#8e0152"
            ],
            [
             0.1,
             "#c51b7d"
            ],
            [
             0.2,
             "#de77ae"
            ],
            [
             0.3,
             "#f1b6da"
            ],
            [
             0.4,
             "#fde0ef"
            ],
            [
             0.5,
             "#f7f7f7"
            ],
            [
             0.6,
             "#e6f5d0"
            ],
            [
             0.7,
             "#b8e186"
            ],
            [
             0.8,
             "#7fbc41"
            ],
            [
             0.9,
             "#4d9221"
            ],
            [
             1,
             "#276419"
            ]
           ],
           "sequential": [
            [
             0,
             "#0d0887"
            ],
            [
             0.1111111111111111,
             "#46039f"
            ],
            [
             0.2222222222222222,
             "#7201a8"
            ],
            [
             0.3333333333333333,
             "#9c179e"
            ],
            [
             0.4444444444444444,
             "#bd3786"
            ],
            [
             0.5555555555555556,
             "#d8576b"
            ],
            [
             0.6666666666666666,
             "#ed7953"
            ],
            [
             0.7777777777777778,
             "#fb9f3a"
            ],
            [
             0.8888888888888888,
             "#fdca26"
            ],
            [
             1,
             "#f0f921"
            ]
           ],
           "sequentialminus": [
            [
             0,
             "#0d0887"
            ],
            [
             0.1111111111111111,
             "#46039f"
            ],
            [
             0.2222222222222222,
             "#7201a8"
            ],
            [
             0.3333333333333333,
             "#9c179e"
            ],
            [
             0.4444444444444444,
             "#bd3786"
            ],
            [
             0.5555555555555556,
             "#d8576b"
            ],
            [
             0.6666666666666666,
             "#ed7953"
            ],
            [
             0.7777777777777778,
             "#fb9f3a"
            ],
            [
             0.8888888888888888,
             "#fdca26"
            ],
            [
             1,
             "#f0f921"
            ]
           ]
          },
          "colorway": [
           "#636efa",
           "#EF553B",
           "#00cc96",
           "#ab63fa",
           "#FFA15A",
           "#19d3f3",
           "#FF6692",
           "#B6E880",
           "#FF97FF",
           "#FECB52"
          ],
          "font": {
           "color": "#2a3f5f"
          },
          "geo": {
           "bgcolor": "white",
           "lakecolor": "white",
           "landcolor": "#E5ECF6",
           "showlakes": true,
           "showland": true,
           "subunitcolor": "white"
          },
          "hoverlabel": {
           "align": "left"
          },
          "hovermode": "closest",
          "mapbox": {
           "style": "light"
          },
          "paper_bgcolor": "white",
          "plot_bgcolor": "#E5ECF6",
          "polar": {
           "angularaxis": {
            "gridcolor": "white",
            "linecolor": "white",
            "ticks": ""
           },
           "bgcolor": "#E5ECF6",
           "radialaxis": {
            "gridcolor": "white",
            "linecolor": "white",
            "ticks": ""
           }
          },
          "scene": {
           "xaxis": {
            "backgroundcolor": "#E5ECF6",
            "gridcolor": "white",
            "gridwidth": 2,
            "linecolor": "white",
            "showbackground": true,
            "ticks": "",
            "zerolinecolor": "white"
           },
           "yaxis": {
            "backgroundcolor": "#E5ECF6",
            "gridcolor": "white",
            "gridwidth": 2,
            "linecolor": "white",
            "showbackground": true,
            "ticks": "",
            "zerolinecolor": "white"
           },
           "zaxis": {
            "backgroundcolor": "#E5ECF6",
            "gridcolor": "white",
            "gridwidth": 2,
            "linecolor": "white",
            "showbackground": true,
            "ticks": "",
            "zerolinecolor": "white"
           }
          },
          "shapedefaults": {
           "line": {
            "color": "#2a3f5f"
           }
          },
          "ternary": {
           "aaxis": {
            "gridcolor": "white",
            "linecolor": "white",
            "ticks": ""
           },
           "baxis": {
            "gridcolor": "white",
            "linecolor": "white",
            "ticks": ""
           },
           "bgcolor": "#E5ECF6",
           "caxis": {
            "gridcolor": "white",
            "linecolor": "white",
            "ticks": ""
           }
          },
          "title": {
           "x": 0.05
          },
          "xaxis": {
           "automargin": true,
           "gridcolor": "white",
           "linecolor": "white",
           "ticks": "",
           "title": {
            "standoff": 15
           },
           "zerolinecolor": "white",
           "zerolinewidth": 2
          },
          "yaxis": {
           "automargin": true,
           "gridcolor": "white",
           "linecolor": "white",
           "ticks": "",
           "title": {
            "standoff": 15
           },
           "zerolinecolor": "white",
           "zerolinewidth": 2
          }
         }
        },
        "title": {
         "text": "auc"
        },
        "yaxis": {
         "title": {
          "text": "auc"
         }
        }
       }
      }
     },
     "metadata": {},
     "output_type": "display_data"
    },
    {
     "data": {
      "application/vnd.plotly.v1+json": {
       "config": {
        "plotlyServerURL": "https://plot.ly"
       },
       "data": [
        {
         "name": "Full",
         "type": "box",
         "x": [
          "LogisticRegression",
          "LogisticRegression",
          "LogisticRegression",
          "LogisticRegression",
          "LogisticRegression",
          "LogisticRegression",
          "LogisticRegression",
          "LogisticRegression",
          "LogisticRegression",
          "LogisticRegression",
          "LogisticRegression",
          "LogisticRegression",
          "LogisticRegression",
          "LogisticRegression",
          "LogisticRegression",
          "LogisticRegression",
          "LogisticRegression",
          "LogisticRegression",
          "LogisticRegression",
          "LogisticRegression",
          "SVC",
          "SVC",
          "SVC",
          "SVC",
          "SVC",
          "SVC",
          "SVC",
          "SVC",
          "SVC",
          "SVC",
          "SVC",
          "SVC",
          "SVC",
          "SVC",
          "SVC",
          "SVC",
          "SVC",
          "SVC",
          "SVC",
          "SVC",
          "RandomForestClassifier",
          "RandomForestClassifier",
          "RandomForestClassifier",
          "RandomForestClassifier",
          "RandomForestClassifier",
          "RandomForestClassifier",
          "RandomForestClassifier",
          "RandomForestClassifier",
          "RandomForestClassifier",
          "RandomForestClassifier",
          "RandomForestClassifier",
          "RandomForestClassifier",
          "RandomForestClassifier",
          "RandomForestClassifier",
          "RandomForestClassifier",
          "RandomForestClassifier",
          "RandomForestClassifier",
          "RandomForestClassifier",
          "RandomForestClassifier",
          "RandomForestClassifier",
          "GradientBoostingClassifier",
          "GradientBoostingClassifier",
          "GradientBoostingClassifier",
          "GradientBoostingClassifier",
          "GradientBoostingClassifier",
          "GradientBoostingClassifier",
          "GradientBoostingClassifier",
          "GradientBoostingClassifier",
          "GradientBoostingClassifier",
          "GradientBoostingClassifier",
          "GradientBoostingClassifier",
          "GradientBoostingClassifier",
          "GradientBoostingClassifier",
          "GradientBoostingClassifier",
          "GradientBoostingClassifier",
          "GradientBoostingClassifier",
          "GradientBoostingClassifier",
          "GradientBoostingClassifier",
          "GradientBoostingClassifier",
          "GradientBoostingClassifier",
          "DeepNeuralNetwork",
          "DeepNeuralNetwork",
          "DeepNeuralNetwork",
          "DeepNeuralNetwork",
          "DeepNeuralNetwork",
          "DeepNeuralNetwork",
          "DeepNeuralNetwork",
          "DeepNeuralNetwork",
          "DeepNeuralNetwork",
          "DeepNeuralNetwork",
          "DeepNeuralNetwork",
          "DeepNeuralNetwork",
          "DeepNeuralNetwork",
          "DeepNeuralNetwork",
          "DeepNeuralNetwork",
          "DeepNeuralNetwork",
          "DeepNeuralNetwork",
          "DeepNeuralNetwork",
          "DeepNeuralNetwork",
          "DeepNeuralNetwork"
         ],
         "y": [
          6.40027490087127,
          7.242416335196437,
          5.89499004027617,
          7.579272908926504,
          7.41084462206147,
          5.558133466546103,
          7.073988048331404,
          6.90555976146637,
          6.40027490087127,
          6.768761199834207,
          6.568703187736304,
          5.389705179681069,
          6.737131474601337,
          7.073988048331404,
          6.231846614006236,
          7.41084462206147,
          8.75827091698174,
          6.231846614006236,
          4.884420319085969,
          5.58422798986322,
          6.063418327141203,
          6.568703187736304,
          6.231846614006236,
          5.726561753411136,
          6.90555976146637,
          4.210707171625836,
          5.221276892816036,
          7.579272908926504,
          6.063418327141203,
          6.599542169838352,
          6.063418327141203,
          7.242416335196437,
          5.558133466546103,
          7.242416335196437,
          6.063418327141203,
          6.063418327141203,
          7.073988048331404,
          5.89499004027617,
          4.715992032220936,
          5.753447019859076,
          4.547563745355903,
          5.389705179681069,
          4.210707171625836,
          5.221276892816036,
          5.726561753411136,
          4.379135458490869,
          6.231846614006236,
          7.579272908926504,
          5.726561753411136,
          6.091885079850786,
          5.558133466546103,
          6.737131474601337,
          5.89499004027617,
          7.073988048331405,
          5.221276892816037,
          7.242416335196437,
          6.90555976146637,
          7.41084462206147,
          4.715992032220936,
          5.58422798986322,
          6.231846614006236,
          7.747701195791538,
          5.726561753411136,
          6.737131474601337,
          6.40027490087127,
          4.715992032220936,
          5.558133466546103,
          6.90555976146637,
          5.89499004027617,
          6.261104109846641,
          6.063418327141203,
          5.89499004027617,
          6.400274900871271,
          6.568703187736304,
          5.052848605951003,
          6.905559761466369,
          6.568703187736304,
          7.747701195791538,
          5.726561753411136,
          5.076570899875655,
          0.4987021518677253,
          0.4697642089705077,
          0.5449728883011317,
          0.5011559566736928,
          0.5092825167847033,
          0.497818762568707,
          0.5213824335361958,
          0.4943934909364857,
          0.5313171208631128,
          0.4913544839839023,
          0.5349509966501769,
          0.4868643746719371,
          0.505508159152989,
          0.5440461127792525,
          0.4982737507423423,
          0.5254854369845875,
          0.5447554633701178,
          0.4784077722615955,
          0.5349804565595444,
          0.5363414340588455
         ]
        },
        {
         "name": "FR",
         "type": "box",
         "x": [
          "LogisticRegression",
          "LogisticRegression",
          "LogisticRegression",
          "LogisticRegression",
          "LogisticRegression",
          "LogisticRegression",
          "LogisticRegression",
          "LogisticRegression",
          "LogisticRegression",
          "LogisticRegression",
          "LogisticRegression",
          "LogisticRegression",
          "LogisticRegression",
          "LogisticRegression",
          "LogisticRegression",
          "LogisticRegression",
          "LogisticRegression",
          "LogisticRegression",
          "LogisticRegression",
          "LogisticRegression",
          "SVC",
          "SVC",
          "SVC",
          "SVC",
          "SVC",
          "SVC",
          "SVC",
          "SVC",
          "SVC",
          "SVC",
          "SVC",
          "SVC",
          "SVC",
          "SVC",
          "SVC",
          "SVC",
          "SVC",
          "SVC",
          "SVC",
          "SVC",
          "RandomForestClassifier",
          "RandomForestClassifier",
          "RandomForestClassifier",
          "RandomForestClassifier",
          "RandomForestClassifier",
          "RandomForestClassifier",
          "RandomForestClassifier",
          "RandomForestClassifier",
          "RandomForestClassifier",
          "RandomForestClassifier",
          "RandomForestClassifier",
          "RandomForestClassifier",
          "RandomForestClassifier",
          "RandomForestClassifier",
          "RandomForestClassifier",
          "RandomForestClassifier",
          "RandomForestClassifier",
          "RandomForestClassifier",
          "RandomForestClassifier",
          "RandomForestClassifier",
          "GradientBoostingClassifier",
          "GradientBoostingClassifier",
          "GradientBoostingClassifier",
          "GradientBoostingClassifier",
          "GradientBoostingClassifier",
          "GradientBoostingClassifier",
          "GradientBoostingClassifier",
          "GradientBoostingClassifier",
          "GradientBoostingClassifier",
          "GradientBoostingClassifier",
          "GradientBoostingClassifier",
          "GradientBoostingClassifier",
          "GradientBoostingClassifier",
          "GradientBoostingClassifier",
          "GradientBoostingClassifier",
          "GradientBoostingClassifier",
          "GradientBoostingClassifier",
          "GradientBoostingClassifier",
          "GradientBoostingClassifier",
          "GradientBoostingClassifier",
          "DeepNeuralNetwork",
          "DeepNeuralNetwork",
          "DeepNeuralNetwork",
          "DeepNeuralNetwork",
          "DeepNeuralNetwork",
          "DeepNeuralNetwork",
          "DeepNeuralNetwork",
          "DeepNeuralNetwork",
          "DeepNeuralNetwork",
          "DeepNeuralNetwork",
          "DeepNeuralNetwork",
          "DeepNeuralNetwork",
          "DeepNeuralNetwork",
          "DeepNeuralNetwork",
          "DeepNeuralNetwork",
          "DeepNeuralNetwork",
          "DeepNeuralNetwork",
          "DeepNeuralNetwork",
          "DeepNeuralNetwork",
          "DeepNeuralNetwork"
         ],
         "y": [
          6.905559761466369,
          7.242416335196437,
          5.558133466546103,
          6.568703187736304,
          8.084557769521604,
          4.884420319085969,
          7.073988048331404,
          6.90555976146637,
          6.40027490087127,
          6.261104109846641,
          6.400274900871271,
          5.558133466546103,
          7.242416335196437,
          8.421414343251671,
          6.40027490087127,
          7.073988048331404,
          8.252986056386638,
          6.231846614006236,
          4.884420319085969,
          5.58422798986322,
          5.221276892816037,
          6.231846614006236,
          6.568703187736304,
          6.568703187736304,
          6.400274900871271,
          4.715992032220936,
          6.231846614006236,
          6.063418327141203,
          6.400274900871271,
          6.091885079850786,
          5.726561753411136,
          5.726561753411136,
          6.063418327141203,
          7.242416335196437,
          5.558133466546103,
          6.737131474601337,
          7.41084462206147,
          6.568703187736304,
          5.558133466546103,
          5.58422798986322,
          4.379135458490868,
          7.91612948265657,
          5.726561753411136,
          6.40027490087127,
          6.737131474601337,
          4.884420319085969,
          6.568703187736304,
          6.737131474601337,
          6.231846614006237,
          6.091885079850786,
          6.063418327141203,
          5.389705179681069,
          6.40027490087127,
          6.40027490087127,
          5.89499004027617,
          6.737131474601337,
          9.431984064441872,
          5.726561753411136,
          5.221276892816036,
          4.738132839883944,
          4.884420319085969,
          7.747701195791538,
          7.747701195791538,
          6.063418327141203,
          5.89499004027617,
          5.558133466546103,
          7.242416335196437,
          8.421414343251673,
          6.40027490087127,
          4.9073518698798,
          5.558133466546103,
          7.073988048331405,
          5.894990040276169,
          6.90555976146637,
          5.558133466546103,
          5.558133466546103,
          6.905559761466369,
          6.063418327141203,
          4.547563745355903,
          4.9073518698798,
          0.5091556053428892,
          0.4870277363306584,
          0.5355535154296428,
          0.5391156690808799,
          0.5425558447071623,
          0.5038586057382063,
          0.5005028661693468,
          0.5528002944501696,
          0.514493887613067,
          0.5175819429154103,
          0.5564497741594945,
          0.5696100897999756,
          0.4633969165143226,
          0.5348513813107624,
          0.4965234097841529,
          0.551013172073127,
          0.5167440241898204,
          0.5510598059731086,
          0.535613808383678,
          0.5339934564654122
         ]
        },
        {
         "name": "SS",
         "type": "box",
         "x": [
          "LogisticRegression",
          "LogisticRegression",
          "LogisticRegression",
          "LogisticRegression",
          "LogisticRegression",
          "LogisticRegression",
          "LogisticRegression",
          "LogisticRegression",
          "LogisticRegression",
          "LogisticRegression",
          "LogisticRegression",
          "LogisticRegression",
          "LogisticRegression",
          "LogisticRegression",
          "LogisticRegression",
          "LogisticRegression",
          "LogisticRegression",
          "LogisticRegression",
          "LogisticRegression",
          "LogisticRegression",
          "SVC",
          "SVC",
          "SVC",
          "SVC",
          "SVC",
          "SVC",
          "SVC",
          "SVC",
          "SVC",
          "SVC",
          "SVC",
          "SVC",
          "SVC",
          "SVC",
          "SVC",
          "SVC",
          "SVC",
          "SVC",
          "SVC",
          "SVC",
          "RandomForestClassifier",
          "RandomForestClassifier",
          "RandomForestClassifier",
          "RandomForestClassifier",
          "RandomForestClassifier",
          "RandomForestClassifier",
          "RandomForestClassifier",
          "RandomForestClassifier",
          "RandomForestClassifier",
          "RandomForestClassifier",
          "RandomForestClassifier",
          "RandomForestClassifier",
          "RandomForestClassifier",
          "RandomForestClassifier",
          "RandomForestClassifier",
          "RandomForestClassifier",
          "RandomForestClassifier",
          "RandomForestClassifier",
          "RandomForestClassifier",
          "RandomForestClassifier",
          "GradientBoostingClassifier",
          "GradientBoostingClassifier",
          "GradientBoostingClassifier",
          "GradientBoostingClassifier",
          "GradientBoostingClassifier",
          "GradientBoostingClassifier",
          "GradientBoostingClassifier",
          "GradientBoostingClassifier",
          "GradientBoostingClassifier",
          "GradientBoostingClassifier",
          "GradientBoostingClassifier",
          "GradientBoostingClassifier",
          "GradientBoostingClassifier",
          "GradientBoostingClassifier",
          "GradientBoostingClassifier",
          "GradientBoostingClassifier",
          "GradientBoostingClassifier",
          "GradientBoostingClassifier",
          "GradientBoostingClassifier",
          "GradientBoostingClassifier",
          "DeepNeuralNetwork",
          "DeepNeuralNetwork",
          "DeepNeuralNetwork",
          "DeepNeuralNetwork",
          "DeepNeuralNetwork",
          "DeepNeuralNetwork",
          "DeepNeuralNetwork",
          "DeepNeuralNetwork",
          "DeepNeuralNetwork",
          "DeepNeuralNetwork",
          "DeepNeuralNetwork",
          "DeepNeuralNetwork",
          "DeepNeuralNetwork",
          "DeepNeuralNetwork",
          "DeepNeuralNetwork",
          "DeepNeuralNetwork",
          "DeepNeuralNetwork",
          "DeepNeuralNetwork",
          "DeepNeuralNetwork",
          "DeepNeuralNetwork"
         ],
         "y": [
          6.737131474601337,
          6.905559761466369,
          5.558133466546103,
          6.737131474601337,
          7.579272908926505,
          5.221276892816036,
          6.568703187736304,
          6.568703187736304,
          6.231846614006236,
          6.768761199834207,
          6.568703187736304,
          5.389705179681069,
          7.073988048331404,
          7.242416335196437,
          6.063418327141203,
          7.579272908926504,
          8.589842630116705,
          6.231846614006236,
          5.052848605951003,
          5.58422798986322,
          5.726561753411136,
          6.90555976146637,
          6.231846614006236,
          5.221276892816036,
          7.91612948265657,
          4.715992032220936,
          4.715992032220936,
          7.579272908926504,
          6.905559761466369,
          6.091885079850786,
          5.89499004027617,
          6.063418327141203,
          5.389705179681069,
          7.073988048331405,
          5.389705179681069,
          5.726561753411136,
          7.747701195791538,
          6.90555976146637,
          4.715992032220936,
          4.399694779892236,
          5.052848605951002,
          7.242416335196437,
          5.89499004027617,
          5.221276892816036,
          7.747701195791538,
          5.052848605951002,
          6.231846614006236,
          7.747701195791538,
          7.242416335196437,
          5.415008959867365,
          6.063418327141203,
          5.052848605951003,
          5.389705179681069,
          7.41084462206147,
          5.89499004027617,
          7.242416335196437,
          8.25298605638664,
          4.884420319085969,
          4.884420319085969,
          4.568913809888089,
          4.884420319085969,
          8.421414343251671,
          5.558133466546103,
          5.558133466546103,
          6.063418327141203,
          4.379135458490869,
          7.073988048331405,
          7.747701195791538,
          6.063418327141203,
          5.753447019859076,
          5.726561753411136,
          7.073988048331405,
          6.737131474601337,
          7.242416335196437,
          4.715992032220936,
          7.073988048331404,
          6.90555976146637,
          6.568703187736304,
          5.221276892816036,
          5.076570899875655,
          0.4845509750552934,
          0.5289410186815781,
          0.5162296914090707,
          0.4853686518820289,
          0.5234993529040113,
          0.4964798549270356,
          0.5034954535482018,
          0.5199291279104185,
          0.5100785630338519,
          0.5292307834610038,
          0.4820046317479904,
          0.4726724493647001,
          0.498562754516005,
          0.5013365991551477,
          0.5100515084979073,
          0.5326362760965687,
          0.5187105815640737,
          0.525416091439255,
          0.4945020436633389,
          0.556504437574896
         ]
        },
        {
         "name": "SS & FR",
         "type": "box",
         "x": [
          "LogisticRegression",
          "LogisticRegression",
          "LogisticRegression",
          "LogisticRegression",
          "LogisticRegression",
          "LogisticRegression",
          "LogisticRegression",
          "LogisticRegression",
          "LogisticRegression",
          "LogisticRegression",
          "LogisticRegression",
          "LogisticRegression",
          "LogisticRegression",
          "LogisticRegression",
          "LogisticRegression",
          "LogisticRegression",
          "LogisticRegression",
          "LogisticRegression",
          "LogisticRegression",
          "LogisticRegression",
          "SVC",
          "SVC",
          "SVC",
          "SVC",
          "SVC",
          "SVC",
          "SVC",
          "SVC",
          "SVC",
          "SVC",
          "SVC",
          "SVC",
          "SVC",
          "SVC",
          "SVC",
          "SVC",
          "SVC",
          "SVC",
          "SVC",
          "SVC",
          "RandomForestClassifier",
          "RandomForestClassifier",
          "RandomForestClassifier",
          "RandomForestClassifier",
          "RandomForestClassifier",
          "RandomForestClassifier",
          "RandomForestClassifier",
          "RandomForestClassifier",
          "RandomForestClassifier",
          "RandomForestClassifier",
          "RandomForestClassifier",
          "RandomForestClassifier",
          "RandomForestClassifier",
          "RandomForestClassifier",
          "RandomForestClassifier",
          "RandomForestClassifier",
          "RandomForestClassifier",
          "RandomForestClassifier",
          "RandomForestClassifier",
          "RandomForestClassifier",
          "GradientBoostingClassifier",
          "GradientBoostingClassifier",
          "GradientBoostingClassifier",
          "GradientBoostingClassifier",
          "GradientBoostingClassifier",
          "GradientBoostingClassifier",
          "GradientBoostingClassifier",
          "GradientBoostingClassifier",
          "GradientBoostingClassifier",
          "GradientBoostingClassifier",
          "GradientBoostingClassifier",
          "GradientBoostingClassifier",
          "GradientBoostingClassifier",
          "GradientBoostingClassifier",
          "GradientBoostingClassifier",
          "GradientBoostingClassifier",
          "GradientBoostingClassifier",
          "GradientBoostingClassifier",
          "GradientBoostingClassifier",
          "GradientBoostingClassifier",
          "DeepNeuralNetwork",
          "DeepNeuralNetwork",
          "DeepNeuralNetwork",
          "DeepNeuralNetwork",
          "DeepNeuralNetwork",
          "DeepNeuralNetwork",
          "DeepNeuralNetwork",
          "DeepNeuralNetwork",
          "DeepNeuralNetwork",
          "DeepNeuralNetwork",
          "DeepNeuralNetwork",
          "DeepNeuralNetwork",
          "DeepNeuralNetwork",
          "DeepNeuralNetwork",
          "DeepNeuralNetwork",
          "DeepNeuralNetwork",
          "DeepNeuralNetwork",
          "DeepNeuralNetwork",
          "DeepNeuralNetwork",
          "DeepNeuralNetwork"
         ],
         "y": [
          5.89499004027617,
          7.073988048331405,
          6.568703187736304,
          6.737131474601337,
          7.579272908926505,
          4.884420319085969,
          6.568703187736304,
          6.568703187736304,
          6.40027490087127,
          6.937980229830062,
          6.231846614006237,
          5.558133466546103,
          7.91612948265657,
          7.242416335196437,
          5.894990040276169,
          7.242416335196437,
          7.916129482656571,
          6.063418327141203,
          4.884420319085969,
          5.58422798986322,
          5.389705179681069,
          6.568703187736304,
          5.726561753411136,
          6.063418327141203,
          7.41084462206147,
          4.547563745355903,
          5.558133466546103,
          7.579272908926504,
          6.40027490087127,
          5.922666049854931,
          5.389705179681069,
          7.41084462206147,
          5.558133466546103,
          7.242416335196437,
          6.40027490087127,
          6.231846614006236,
          8.084557769521604,
          7.073988048331404,
          4.884420319085969,
          4.9073518698798,
          5.052848605951003,
          7.242416335196437,
          5.221276892816037,
          5.894990040276169,
          6.90555976146637,
          4.210707171625836,
          7.41084462206147,
          7.41084462206147,
          5.894990040276169,
          6.091885079850786,
          6.063418327141203,
          6.063418327141203,
          5.89499004027617,
          7.41084462206147,
          5.558133466546103,
          6.737131474601337,
          7.242416335196437,
          6.40027490087127,
          4.547563745355903,
          4.738132839883945,
          5.558133466546103,
          6.737131474601337,
          5.558133466546103,
          6.568703187736304,
          6.737131474601337,
          4.884420319085969,
          6.063418327141203,
          7.242416335196437,
          5.389705179681069,
          6.599542169838352,
          6.568703187736304,
          6.737131474601337,
          5.052848605951002,
          6.231846614006237,
          4.715992032220936,
          6.737131474601337,
          7.242416335196437,
          6.063418327141203,
          5.052848605951003,
          5.753447019859076,
          0.5103425612765853,
          0.5455334857040083,
          0.4977946830844041,
          0.5207151044654632,
          0.5069510042230015,
          0.556414204361329,
          0.4863253669906238,
          0.52334525640027,
          0.5225906358522312,
          0.5007288644979776,
          0.5570128966209622,
          0.4765850000253449,
          0.5055929867935951,
          0.5183067668081163,
          0.5383884961361649,
          0.4912483855550317,
          0.5369459439546955,
          0.4769748560321019,
          0.4650137781499797,
          0.4669780400016197
         ]
        }
       ],
       "layout": {
        "boxmode": "group",
        "template": {
         "data": {
          "bar": [
           {
            "error_x": {
             "color": "#2a3f5f"
            },
            "error_y": {
             "color": "#2a3f5f"
            },
            "marker": {
             "line": {
              "color": "#E5ECF6",
              "width": 0.5
             },
             "pattern": {
              "fillmode": "overlay",
              "size": 10,
              "solidity": 0.2
             }
            },
            "type": "bar"
           }
          ],
          "barpolar": [
           {
            "marker": {
             "line": {
              "color": "#E5ECF6",
              "width": 0.5
             },
             "pattern": {
              "fillmode": "overlay",
              "size": 10,
              "solidity": 0.2
             }
            },
            "type": "barpolar"
           }
          ],
          "carpet": [
           {
            "aaxis": {
             "endlinecolor": "#2a3f5f",
             "gridcolor": "white",
             "linecolor": "white",
             "minorgridcolor": "white",
             "startlinecolor": "#2a3f5f"
            },
            "baxis": {
             "endlinecolor": "#2a3f5f",
             "gridcolor": "white",
             "linecolor": "white",
             "minorgridcolor": "white",
             "startlinecolor": "#2a3f5f"
            },
            "type": "carpet"
           }
          ],
          "choropleth": [
           {
            "colorbar": {
             "outlinewidth": 0,
             "ticks": ""
            },
            "type": "choropleth"
           }
          ],
          "contour": [
           {
            "colorbar": {
             "outlinewidth": 0,
             "ticks": ""
            },
            "colorscale": [
             [
              0,
              "#0d0887"
             ],
             [
              0.1111111111111111,
              "#46039f"
             ],
             [
              0.2222222222222222,
              "#7201a8"
             ],
             [
              0.3333333333333333,
              "#9c179e"
             ],
             [
              0.4444444444444444,
              "#bd3786"
             ],
             [
              0.5555555555555556,
              "#d8576b"
             ],
             [
              0.6666666666666666,
              "#ed7953"
             ],
             [
              0.7777777777777778,
              "#fb9f3a"
             ],
             [
              0.8888888888888888,
              "#fdca26"
             ],
             [
              1,
              "#f0f921"
             ]
            ],
            "type": "contour"
           }
          ],
          "contourcarpet": [
           {
            "colorbar": {
             "outlinewidth": 0,
             "ticks": ""
            },
            "type": "contourcarpet"
           }
          ],
          "heatmap": [
           {
            "colorbar": {
             "outlinewidth": 0,
             "ticks": ""
            },
            "colorscale": [
             [
              0,
              "#0d0887"
             ],
             [
              0.1111111111111111,
              "#46039f"
             ],
             [
              0.2222222222222222,
              "#7201a8"
             ],
             [
              0.3333333333333333,
              "#9c179e"
             ],
             [
              0.4444444444444444,
              "#bd3786"
             ],
             [
              0.5555555555555556,
              "#d8576b"
             ],
             [
              0.6666666666666666,
              "#ed7953"
             ],
             [
              0.7777777777777778,
              "#fb9f3a"
             ],
             [
              0.8888888888888888,
              "#fdca26"
             ],
             [
              1,
              "#f0f921"
             ]
            ],
            "type": "heatmap"
           }
          ],
          "heatmapgl": [
           {
            "colorbar": {
             "outlinewidth": 0,
             "ticks": ""
            },
            "colorscale": [
             [
              0,
              "#0d0887"
             ],
             [
              0.1111111111111111,
              "#46039f"
             ],
             [
              0.2222222222222222,
              "#7201a8"
             ],
             [
              0.3333333333333333,
              "#9c179e"
             ],
             [
              0.4444444444444444,
              "#bd3786"
             ],
             [
              0.5555555555555556,
              "#d8576b"
             ],
             [
              0.6666666666666666,
              "#ed7953"
             ],
             [
              0.7777777777777778,
              "#fb9f3a"
             ],
             [
              0.8888888888888888,
              "#fdca26"
             ],
             [
              1,
              "#f0f921"
             ]
            ],
            "type": "heatmapgl"
           }
          ],
          "histogram": [
           {
            "marker": {
             "pattern": {
              "fillmode": "overlay",
              "size": 10,
              "solidity": 0.2
             }
            },
            "type": "histogram"
           }
          ],
          "histogram2d": [
           {
            "colorbar": {
             "outlinewidth": 0,
             "ticks": ""
            },
            "colorscale": [
             [
              0,
              "#0d0887"
             ],
             [
              0.1111111111111111,
              "#46039f"
             ],
             [
              0.2222222222222222,
              "#7201a8"
             ],
             [
              0.3333333333333333,
              "#9c179e"
             ],
             [
              0.4444444444444444,
              "#bd3786"
             ],
             [
              0.5555555555555556,
              "#d8576b"
             ],
             [
              0.6666666666666666,
              "#ed7953"
             ],
             [
              0.7777777777777778,
              "#fb9f3a"
             ],
             [
              0.8888888888888888,
              "#fdca26"
             ],
             [
              1,
              "#f0f921"
             ]
            ],
            "type": "histogram2d"
           }
          ],
          "histogram2dcontour": [
           {
            "colorbar": {
             "outlinewidth": 0,
             "ticks": ""
            },
            "colorscale": [
             [
              0,
              "#0d0887"
             ],
             [
              0.1111111111111111,
              "#46039f"
             ],
             [
              0.2222222222222222,
              "#7201a8"
             ],
             [
              0.3333333333333333,
              "#9c179e"
             ],
             [
              0.4444444444444444,
              "#bd3786"
             ],
             [
              0.5555555555555556,
              "#d8576b"
             ],
             [
              0.6666666666666666,
              "#ed7953"
             ],
             [
              0.7777777777777778,
              "#fb9f3a"
             ],
             [
              0.8888888888888888,
              "#fdca26"
             ],
             [
              1,
              "#f0f921"
             ]
            ],
            "type": "histogram2dcontour"
           }
          ],
          "mesh3d": [
           {
            "colorbar": {
             "outlinewidth": 0,
             "ticks": ""
            },
            "type": "mesh3d"
           }
          ],
          "parcoords": [
           {
            "line": {
             "colorbar": {
              "outlinewidth": 0,
              "ticks": ""
             }
            },
            "type": "parcoords"
           }
          ],
          "pie": [
           {
            "automargin": true,
            "type": "pie"
           }
          ],
          "scatter": [
           {
            "fillpattern": {
             "fillmode": "overlay",
             "size": 10,
             "solidity": 0.2
            },
            "type": "scatter"
           }
          ],
          "scatter3d": [
           {
            "line": {
             "colorbar": {
              "outlinewidth": 0,
              "ticks": ""
             }
            },
            "marker": {
             "colorbar": {
              "outlinewidth": 0,
              "ticks": ""
             }
            },
            "type": "scatter3d"
           }
          ],
          "scattercarpet": [
           {
            "marker": {
             "colorbar": {
              "outlinewidth": 0,
              "ticks": ""
             }
            },
            "type": "scattercarpet"
           }
          ],
          "scattergeo": [
           {
            "marker": {
             "colorbar": {
              "outlinewidth": 0,
              "ticks": ""
             }
            },
            "type": "scattergeo"
           }
          ],
          "scattergl": [
           {
            "marker": {
             "colorbar": {
              "outlinewidth": 0,
              "ticks": ""
             }
            },
            "type": "scattergl"
           }
          ],
          "scattermapbox": [
           {
            "marker": {
             "colorbar": {
              "outlinewidth": 0,
              "ticks": ""
             }
            },
            "type": "scattermapbox"
           }
          ],
          "scatterpolar": [
           {
            "marker": {
             "colorbar": {
              "outlinewidth": 0,
              "ticks": ""
             }
            },
            "type": "scatterpolar"
           }
          ],
          "scatterpolargl": [
           {
            "marker": {
             "colorbar": {
              "outlinewidth": 0,
              "ticks": ""
             }
            },
            "type": "scatterpolargl"
           }
          ],
          "scatterternary": [
           {
            "marker": {
             "colorbar": {
              "outlinewidth": 0,
              "ticks": ""
             }
            },
            "type": "scatterternary"
           }
          ],
          "surface": [
           {
            "colorbar": {
             "outlinewidth": 0,
             "ticks": ""
            },
            "colorscale": [
             [
              0,
              "#0d0887"
             ],
             [
              0.1111111111111111,
              "#46039f"
             ],
             [
              0.2222222222222222,
              "#7201a8"
             ],
             [
              0.3333333333333333,
              "#9c179e"
             ],
             [
              0.4444444444444444,
              "#bd3786"
             ],
             [
              0.5555555555555556,
              "#d8576b"
             ],
             [
              0.6666666666666666,
              "#ed7953"
             ],
             [
              0.7777777777777778,
              "#fb9f3a"
             ],
             [
              0.8888888888888888,
              "#fdca26"
             ],
             [
              1,
              "#f0f921"
             ]
            ],
            "type": "surface"
           }
          ],
          "table": [
           {
            "cells": {
             "fill": {
              "color": "#EBF0F8"
             },
             "line": {
              "color": "white"
             }
            },
            "header": {
             "fill": {
              "color": "#C8D4E3"
             },
             "line": {
              "color": "white"
             }
            },
            "type": "table"
           }
          ]
         },
         "layout": {
          "annotationdefaults": {
           "arrowcolor": "#2a3f5f",
           "arrowhead": 0,
           "arrowwidth": 1
          },
          "autotypenumbers": "strict",
          "coloraxis": {
           "colorbar": {
            "outlinewidth": 0,
            "ticks": ""
           }
          },
          "colorscale": {
           "diverging": [
            [
             0,
             "#8e0152"
            ],
            [
             0.1,
             "#c51b7d"
            ],
            [
             0.2,
             "#de77ae"
            ],
            [
             0.3,
             "#f1b6da"
            ],
            [
             0.4,
             "#fde0ef"
            ],
            [
             0.5,
             "#f7f7f7"
            ],
            [
             0.6,
             "#e6f5d0"
            ],
            [
             0.7,
             "#b8e186"
            ],
            [
             0.8,
             "#7fbc41"
            ],
            [
             0.9,
             "#4d9221"
            ],
            [
             1,
             "#276419"
            ]
           ],
           "sequential": [
            [
             0,
             "#0d0887"
            ],
            [
             0.1111111111111111,
             "#46039f"
            ],
            [
             0.2222222222222222,
             "#7201a8"
            ],
            [
             0.3333333333333333,
             "#9c179e"
            ],
            [
             0.4444444444444444,
             "#bd3786"
            ],
            [
             0.5555555555555556,
             "#d8576b"
            ],
            [
             0.6666666666666666,
             "#ed7953"
            ],
            [
             0.7777777777777778,
             "#fb9f3a"
            ],
            [
             0.8888888888888888,
             "#fdca26"
            ],
            [
             1,
             "#f0f921"
            ]
           ],
           "sequentialminus": [
            [
             0,
             "#0d0887"
            ],
            [
             0.1111111111111111,
             "#46039f"
            ],
            [
             0.2222222222222222,
             "#7201a8"
            ],
            [
             0.3333333333333333,
             "#9c179e"
            ],
            [
             0.4444444444444444,
             "#bd3786"
            ],
            [
             0.5555555555555556,
             "#d8576b"
            ],
            [
             0.6666666666666666,
             "#ed7953"
            ],
            [
             0.7777777777777778,
             "#fb9f3a"
            ],
            [
             0.8888888888888888,
             "#fdca26"
            ],
            [
             1,
             "#f0f921"
            ]
           ]
          },
          "colorway": [
           "#636efa",
           "#EF553B",
           "#00cc96",
           "#ab63fa",
           "#FFA15A",
           "#19d3f3",
           "#FF6692",
           "#B6E880",
           "#FF97FF",
           "#FECB52"
          ],
          "font": {
           "color": "#2a3f5f"
          },
          "geo": {
           "bgcolor": "white",
           "lakecolor": "white",
           "landcolor": "#E5ECF6",
           "showlakes": true,
           "showland": true,
           "subunitcolor": "white"
          },
          "hoverlabel": {
           "align": "left"
          },
          "hovermode": "closest",
          "mapbox": {
           "style": "light"
          },
          "paper_bgcolor": "white",
          "plot_bgcolor": "#E5ECF6",
          "polar": {
           "angularaxis": {
            "gridcolor": "white",
            "linecolor": "white",
            "ticks": ""
           },
           "bgcolor": "#E5ECF6",
           "radialaxis": {
            "gridcolor": "white",
            "linecolor": "white",
            "ticks": ""
           }
          },
          "scene": {
           "xaxis": {
            "backgroundcolor": "#E5ECF6",
            "gridcolor": "white",
            "gridwidth": 2,
            "linecolor": "white",
            "showbackground": true,
            "ticks": "",
            "zerolinecolor": "white"
           },
           "yaxis": {
            "backgroundcolor": "#E5ECF6",
            "gridcolor": "white",
            "gridwidth": 2,
            "linecolor": "white",
            "showbackground": true,
            "ticks": "",
            "zerolinecolor": "white"
           },
           "zaxis": {
            "backgroundcolor": "#E5ECF6",
            "gridcolor": "white",
            "gridwidth": 2,
            "linecolor": "white",
            "showbackground": true,
            "ticks": "",
            "zerolinecolor": "white"
           }
          },
          "shapedefaults": {
           "line": {
            "color": "#2a3f5f"
           }
          },
          "ternary": {
           "aaxis": {
            "gridcolor": "white",
            "linecolor": "white",
            "ticks": ""
           },
           "baxis": {
            "gridcolor": "white",
            "linecolor": "white",
            "ticks": ""
           },
           "bgcolor": "#E5ECF6",
           "caxis": {
            "gridcolor": "white",
            "linecolor": "white",
            "ticks": ""
           }
          },
          "title": {
           "x": 0.05
          },
          "xaxis": {
           "automargin": true,
           "gridcolor": "white",
           "linecolor": "white",
           "ticks": "",
           "title": {
            "standoff": 15
           },
           "zerolinecolor": "white",
           "zerolinewidth": 2
          },
          "yaxis": {
           "automargin": true,
           "gridcolor": "white",
           "linecolor": "white",
           "ticks": "",
           "title": {
            "standoff": 15
           },
           "zerolinecolor": "white",
           "zerolinewidth": 2
          }
         }
        },
        "title": {
         "text": "log_loss"
        },
        "yaxis": {
         "title": {
          "text": "log_loss"
         }
        }
       }
      }
     },
     "metadata": {},
     "output_type": "display_data"
    }
   ],
   "source": [
    "make_plots('accuracy')\n",
    "make_plots('auc')\n",
    "make_plots('log_loss')"
   ]
  },
  {
   "cell_type": "code",
   "execution_count": 6,
   "metadata": {},
   "outputs": [
    {
     "data": {
      "application/vnd.plotly.v1+json": {
       "config": {
        "plotlyServerURL": "https://plot.ly"
       },
       "data": [
        {
         "name": "Full",
         "type": "box",
         "x": [
          "LogisticRegression",
          "LogisticRegression",
          "LogisticRegression",
          "LogisticRegression",
          "LogisticRegression",
          "LogisticRegression",
          "LogisticRegression",
          "LogisticRegression",
          "LogisticRegression",
          "LogisticRegression",
          "LogisticRegression",
          "LogisticRegression",
          "LogisticRegression",
          "LogisticRegression",
          "LogisticRegression",
          "LogisticRegression",
          "LogisticRegression",
          "LogisticRegression",
          "LogisticRegression",
          "LogisticRegression",
          "SVC",
          "SVC",
          "SVC",
          "SVC",
          "SVC",
          "SVC",
          "SVC",
          "SVC",
          "SVC",
          "SVC",
          "SVC",
          "SVC",
          "SVC",
          "SVC",
          "SVC",
          "SVC",
          "SVC",
          "SVC",
          "SVC",
          "SVC",
          "RandomForestClassifier",
          "RandomForestClassifier",
          "RandomForestClassifier",
          "RandomForestClassifier",
          "RandomForestClassifier",
          "RandomForestClassifier",
          "RandomForestClassifier",
          "RandomForestClassifier",
          "RandomForestClassifier",
          "RandomForestClassifier",
          "RandomForestClassifier",
          "RandomForestClassifier",
          "RandomForestClassifier",
          "RandomForestClassifier",
          "RandomForestClassifier",
          "RandomForestClassifier",
          "RandomForestClassifier",
          "RandomForestClassifier",
          "RandomForestClassifier",
          "RandomForestClassifier",
          "GradientBoostingClassifier",
          "GradientBoostingClassifier",
          "GradientBoostingClassifier",
          "GradientBoostingClassifier",
          "GradientBoostingClassifier",
          "GradientBoostingClassifier",
          "GradientBoostingClassifier",
          "GradientBoostingClassifier",
          "GradientBoostingClassifier",
          "GradientBoostingClassifier",
          "GradientBoostingClassifier",
          "GradientBoostingClassifier",
          "GradientBoostingClassifier",
          "GradientBoostingClassifier",
          "GradientBoostingClassifier",
          "GradientBoostingClassifier",
          "GradientBoostingClassifier",
          "GradientBoostingClassifier",
          "GradientBoostingClassifier",
          "GradientBoostingClassifier",
          "DeepNeuralNetwork",
          "DeepNeuralNetwork",
          "DeepNeuralNetwork",
          "DeepNeuralNetwork",
          "DeepNeuralNetwork",
          "DeepNeuralNetwork",
          "DeepNeuralNetwork",
          "DeepNeuralNetwork",
          "DeepNeuralNetwork",
          "DeepNeuralNetwork",
          "DeepNeuralNetwork",
          "DeepNeuralNetwork",
          "DeepNeuralNetwork",
          "DeepNeuralNetwork",
          "DeepNeuralNetwork",
          "DeepNeuralNetwork",
          "DeepNeuralNetwork",
          "DeepNeuralNetwork",
          "DeepNeuralNetwork",
          "DeepNeuralNetwork"
         ],
         "y": [
          0.0538573265075683,
          0.096362829208374,
          0.088895559310913,
          0.1001591682434082,
          0.0956273078918457,
          0.1017725467681884,
          0.1282312870025634,
          0.1396589279174804,
          0.0826256275177002,
          0.1442248821258545,
          0.048863410949707,
          0.1179084777832031,
          0.1117010116577148,
          0.0789897441864013,
          0.154665470123291,
          0.0488696098327636,
          0.0877656936645507,
          0.0790061950683593,
          0.1374928951263427,
          0.1974120140075683,
          0.0761072635650634,
          0.0616636276245117,
          0.0757975578308105,
          0.0478813648223876,
          0.1053607463836669,
          0.0548527240753173,
          0.0745570659637451,
          0.0470759868621826,
          0.0966203212738037,
          0.0438833236694335,
          0.1324465274810791,
          0.0827803611755371,
          0.05047607421875,
          0.1376326084136963,
          0.0508670806884765,
          0.1023807525634765,
          0.0528576374053955,
          0.1046326160430908,
          0.1183218955993652,
          0.1018486022949218,
          0.045877456665039,
          0.0478706359863281,
          0.0619151592254638,
          0.0797867774963378,
          0.0897574424743652,
          0.0478599071502685,
          0.0473201274871826,
          0.0588438510894775,
          0.0498640537261962,
          0.143496036529541,
          0.0538704395294189,
          0.1027264595031738,
          0.0498652458190918,
          0.0454945564270019,
          0.073937177658081,
          0.0478687286376953,
          0.0438823699951171,
          0.0494132041931152,
          0.0534038543701171,
          0.0757246017456054,
          0.0498671531677246,
          0.0488622188568115,
          0.0723726749420166,
          0.0553624629974365,
          0.0550580024719238,
          0.082303762435913,
          0.0537176132202148,
          0.0507953166961669,
          0.0519146919250488,
          0.0418872833251953,
          0.0608377456665039,
          0.0618088245391845,
          0.0506894588470459,
          0.0653450489044189,
          0.0650062561035156,
          0.0638303756713867,
          0.0598433017730712,
          0.0838561058044433,
          0.0779104232788086,
          0.0668213367462158,
          0.0508651733398437,
          0.0588414669036865,
          0.0618350505828857,
          0.0508627891540527,
          0.0628333091735839,
          0.05186128616333,
          0.0578467845916748,
          0.0548560619354248,
          0.0676977634429931,
          0.0642309188842773,
          0.0329105854034423,
          0.0504143238067626,
          0.0468771457672119,
          0.0498671531677246,
          0.0478765964508056,
          0.0508594512939453,
          0.0468740463256835,
          0.0450263023376464,
          0.0529251098632812,
          0.0528597831726074
         ]
        },
        {
         "name": "FR",
         "type": "box",
         "x": [
          "LogisticRegression",
          "LogisticRegression",
          "LogisticRegression",
          "LogisticRegression",
          "LogisticRegression",
          "LogisticRegression",
          "LogisticRegression",
          "LogisticRegression",
          "LogisticRegression",
          "LogisticRegression",
          "LogisticRegression",
          "LogisticRegression",
          "LogisticRegression",
          "LogisticRegression",
          "LogisticRegression",
          "LogisticRegression",
          "LogisticRegression",
          "LogisticRegression",
          "LogisticRegression",
          "LogisticRegression",
          "SVC",
          "SVC",
          "SVC",
          "SVC",
          "SVC",
          "SVC",
          "SVC",
          "SVC",
          "SVC",
          "SVC",
          "SVC",
          "SVC",
          "SVC",
          "SVC",
          "SVC",
          "SVC",
          "SVC",
          "SVC",
          "SVC",
          "SVC",
          "RandomForestClassifier",
          "RandomForestClassifier",
          "RandomForestClassifier",
          "RandomForestClassifier",
          "RandomForestClassifier",
          "RandomForestClassifier",
          "RandomForestClassifier",
          "RandomForestClassifier",
          "RandomForestClassifier",
          "RandomForestClassifier",
          "RandomForestClassifier",
          "RandomForestClassifier",
          "RandomForestClassifier",
          "RandomForestClassifier",
          "RandomForestClassifier",
          "RandomForestClassifier",
          "RandomForestClassifier",
          "RandomForestClassifier",
          "RandomForestClassifier",
          "RandomForestClassifier",
          "GradientBoostingClassifier",
          "GradientBoostingClassifier",
          "GradientBoostingClassifier",
          "GradientBoostingClassifier",
          "GradientBoostingClassifier",
          "GradientBoostingClassifier",
          "GradientBoostingClassifier",
          "GradientBoostingClassifier",
          "GradientBoostingClassifier",
          "GradientBoostingClassifier",
          "GradientBoostingClassifier",
          "GradientBoostingClassifier",
          "GradientBoostingClassifier",
          "GradientBoostingClassifier",
          "GradientBoostingClassifier",
          "GradientBoostingClassifier",
          "GradientBoostingClassifier",
          "GradientBoostingClassifier",
          "GradientBoostingClassifier",
          "GradientBoostingClassifier",
          "DeepNeuralNetwork",
          "DeepNeuralNetwork",
          "DeepNeuralNetwork",
          "DeepNeuralNetwork",
          "DeepNeuralNetwork",
          "DeepNeuralNetwork",
          "DeepNeuralNetwork",
          "DeepNeuralNetwork",
          "DeepNeuralNetwork",
          "DeepNeuralNetwork",
          "DeepNeuralNetwork",
          "DeepNeuralNetwork",
          "DeepNeuralNetwork",
          "DeepNeuralNetwork",
          "DeepNeuralNetwork",
          "DeepNeuralNetwork",
          "DeepNeuralNetwork",
          "DeepNeuralNetwork",
          "DeepNeuralNetwork",
          "DeepNeuralNetwork"
         ],
         "y": [
          0.0865201950073242,
          0.0831260681152343,
          0.0839607715606689,
          0.1752173900604248,
          0.0568468570709228,
          0.1004986763000488,
          0.0936734676361084,
          0.0831811428070068,
          0.1236400604248046,
          0.0774087905883789,
          0.1414048671722412,
          0.0731496810913086,
          0.0927050113677978,
          0.1075639724731445,
          0.1342451572418213,
          0.1861042976379394,
          0.0688643455505371,
          0.0931353569030761,
          0.1263916492462158,
          0.1207339763641357,
          0.0548532009124755,
          0.0648276805877685,
          0.0478725433349609,
          0.1266603469848632,
          0.0568490028381347,
          0.1075193881988525,
          0.0558490753173828,
          0.0821399688720703,
          0.0744051933288574,
          0.1964738368988037,
          0.0608353614807128,
          0.1234993934631347,
          0.0588433742523193,
          0.0698139667510986,
          0.1202640533447265,
          0.0837740898132324,
          0.0528581142425537,
          0.0783429145812988,
          0.0568428039550781,
          0.0731205940246582,
          0.0478613376617431,
          0.0877962112426757,
          0.0499277114868164,
          0.0468618869781494,
          0.0479352474212646,
          0.0468780994415283,
          0.0468788146972656,
          0.0508642196655273,
          0.0489284992218017,
          0.0448780059814453,
          0.0528576374053955,
          0.0947513580322265,
          0.0673506259918212,
          0.0837318897247314,
          0.0558478832244873,
          0.0860850811004638,
          0.0608384609222412,
          0.0457780361175537,
          0.0838458538055419,
          0.0473659038543701,
          0.0670628547668457,
          0.0528597831726074,
          0.0790200233459472,
          0.0738017559051513,
          0.0418903827667236,
          0.0524475574493408,
          0.0568771362304687,
          0.1054904460906982,
          0.0558540821075439,
          0.0811734199523925,
          0.0688157081604003,
          0.0708084106445312,
          0.0757958889007568,
          0.0645782947540283,
          0.0687265396118164,
          0.0703573226928711,
          0.0914657115936279,
          0.0708117485046386,
          0.0681958198547363,
          0.0713443756103515,
          0.0458767414093017,
          0.048063039779663,
          0.0478699207305908,
          0.0471816062927246,
          0.0509095191955566,
          0.0668206214904785,
          0.046555757522583,
          0.0458769798278808,
          0.0518524646759033,
          0.0493769645690918,
          0.0474064350128173,
          0.0438804626464843,
          0.0648260116577148,
          0.0459136962890625,
          0.0698194503784179,
          0.0499994754791259,
          0.04638671875,
          0.0518622398376464,
          0.0478730201721191,
          0.0468742847442626
         ]
        },
        {
         "name": "SS",
         "type": "box",
         "x": [
          "LogisticRegression",
          "LogisticRegression",
          "LogisticRegression",
          "LogisticRegression",
          "LogisticRegression",
          "LogisticRegression",
          "LogisticRegression",
          "LogisticRegression",
          "LogisticRegression",
          "LogisticRegression",
          "LogisticRegression",
          "LogisticRegression",
          "LogisticRegression",
          "LogisticRegression",
          "LogisticRegression",
          "LogisticRegression",
          "LogisticRegression",
          "LogisticRegression",
          "LogisticRegression",
          "LogisticRegression",
          "SVC",
          "SVC",
          "SVC",
          "SVC",
          "SVC",
          "SVC",
          "SVC",
          "SVC",
          "SVC",
          "SVC",
          "SVC",
          "SVC",
          "SVC",
          "SVC",
          "SVC",
          "SVC",
          "SVC",
          "SVC",
          "SVC",
          "SVC",
          "RandomForestClassifier",
          "RandomForestClassifier",
          "RandomForestClassifier",
          "RandomForestClassifier",
          "RandomForestClassifier",
          "RandomForestClassifier",
          "RandomForestClassifier",
          "RandomForestClassifier",
          "RandomForestClassifier",
          "RandomForestClassifier",
          "RandomForestClassifier",
          "RandomForestClassifier",
          "RandomForestClassifier",
          "RandomForestClassifier",
          "RandomForestClassifier",
          "RandomForestClassifier",
          "RandomForestClassifier",
          "RandomForestClassifier",
          "RandomForestClassifier",
          "RandomForestClassifier",
          "GradientBoostingClassifier",
          "GradientBoostingClassifier",
          "GradientBoostingClassifier",
          "GradientBoostingClassifier",
          "GradientBoostingClassifier",
          "GradientBoostingClassifier",
          "GradientBoostingClassifier",
          "GradientBoostingClassifier",
          "GradientBoostingClassifier",
          "GradientBoostingClassifier",
          "GradientBoostingClassifier",
          "GradientBoostingClassifier",
          "GradientBoostingClassifier",
          "GradientBoostingClassifier",
          "GradientBoostingClassifier",
          "GradientBoostingClassifier",
          "GradientBoostingClassifier",
          "GradientBoostingClassifier",
          "GradientBoostingClassifier",
          "GradientBoostingClassifier",
          "DeepNeuralNetwork",
          "DeepNeuralNetwork",
          "DeepNeuralNetwork",
          "DeepNeuralNetwork",
          "DeepNeuralNetwork",
          "DeepNeuralNetwork",
          "DeepNeuralNetwork",
          "DeepNeuralNetwork",
          "DeepNeuralNetwork",
          "DeepNeuralNetwork",
          "DeepNeuralNetwork",
          "DeepNeuralNetwork",
          "DeepNeuralNetwork",
          "DeepNeuralNetwork",
          "DeepNeuralNetwork",
          "DeepNeuralNetwork",
          "DeepNeuralNetwork",
          "DeepNeuralNetwork",
          "DeepNeuralNetwork",
          "DeepNeuralNetwork"
         ],
         "y": [
          0.1114704608917236,
          0.1221537590026855,
          0.0948355197906494,
          0.1193099021911621,
          0.1171517372131347,
          0.0688147544860839,
          0.0988173484802246,
          0.0450341701507568,
          0.0750343799591064,
          0.1678392887115478,
          0.0691072940826416,
          0.0638105869293212,
          0.0917325019836425,
          0.1094369888305664,
          0.1356923580169677,
          0.0872838497161865,
          0.0737524032592773,
          0.0693855285644531,
          0.0684137344360351,
          0.0985352993011474,
          0.0618953704833984,
          0.1115868091583252,
          0.0608408451080322,
          0.1217749118804931,
          0.0489022731781005,
          0.1230571269989013,
          0.1067075729370117,
          0.1412079334259033,
          0.0468740463256835,
          0.0850601196289062,
          0.083207368850708,
          0.1007280349731445,
          0.0834462642669677,
          0.0807709693908691,
          0.0847747325897216,
          0.0568244457244873,
          0.121345043182373,
          0.0584204196929931,
          0.1530985832214355,
          0.0568468570709228,
          0.0498652458190918,
          0.0827794075012207,
          0.0571262836456298,
          0.0978329181671142,
          0.0507149696350097,
          0.080787181854248,
          0.0739922523498535,
          0.1007313728332519,
          0.0478732585906982,
          0.0838439464569091,
          0.0488693714141845,
          0.0887627601623535,
          0.0508663654327392,
          0.0807828903198242,
          0.0540993213653564,
          0.0962693691253662,
          0.0468735694885253,
          0.0973098278045654,
          0.0508646965026855,
          0.1391079425811767,
          0.0528607368469238,
          0.0568435192108154,
          0.1111893653869628,
          0.0648274421691894,
          0.0638315677642822,
          0.1187067031860351,
          0.0698802471160888,
          0.0683305263519287,
          0.0947928428649902,
          0.0518634319305419,
          0.0478711128234863,
          0.073944091796875,
          0.0468556880950927,
          0.0508630275726318,
          0.0837745666503906,
          0.0538549423217773,
          0.0739779472351074,
          0.0938117504119873,
          0.0740916728973388,
          0.0618383884429931,
          0.0608813762664794,
          0.0508646965026855,
          0.0513837337493896,
          0.1012685298919677,
          0.0458762645721435,
          0.0448789596557617,
          0.0468754768371582,
          0.047142744064331,
          0.0528585910797119,
          0.0518581867218017,
          0.0461981296539306,
          0.047400951385498,
          0.0514922142028808,
          0.0469884872436523,
          0.0479106903076171,
          0.0488941669464111,
          0.0534167289733886,
          0.0608618259429931,
          0.0489423274993896,
          0.0528590679168701
         ]
        },
        {
         "name": "SS & FR",
         "type": "box",
         "x": [
          "LogisticRegression",
          "LogisticRegression",
          "LogisticRegression",
          "LogisticRegression",
          "LogisticRegression",
          "LogisticRegression",
          "LogisticRegression",
          "LogisticRegression",
          "LogisticRegression",
          "LogisticRegression",
          "LogisticRegression",
          "LogisticRegression",
          "LogisticRegression",
          "LogisticRegression",
          "LogisticRegression",
          "LogisticRegression",
          "LogisticRegression",
          "LogisticRegression",
          "LogisticRegression",
          "LogisticRegression",
          "SVC",
          "SVC",
          "SVC",
          "SVC",
          "SVC",
          "SVC",
          "SVC",
          "SVC",
          "SVC",
          "SVC",
          "SVC",
          "SVC",
          "SVC",
          "SVC",
          "SVC",
          "SVC",
          "SVC",
          "SVC",
          "SVC",
          "SVC",
          "RandomForestClassifier",
          "RandomForestClassifier",
          "RandomForestClassifier",
          "RandomForestClassifier",
          "RandomForestClassifier",
          "RandomForestClassifier",
          "RandomForestClassifier",
          "RandomForestClassifier",
          "RandomForestClassifier",
          "RandomForestClassifier",
          "RandomForestClassifier",
          "RandomForestClassifier",
          "RandomForestClassifier",
          "RandomForestClassifier",
          "RandomForestClassifier",
          "RandomForestClassifier",
          "RandomForestClassifier",
          "RandomForestClassifier",
          "RandomForestClassifier",
          "RandomForestClassifier",
          "GradientBoostingClassifier",
          "GradientBoostingClassifier",
          "GradientBoostingClassifier",
          "GradientBoostingClassifier",
          "GradientBoostingClassifier",
          "GradientBoostingClassifier",
          "GradientBoostingClassifier",
          "GradientBoostingClassifier",
          "GradientBoostingClassifier",
          "GradientBoostingClassifier",
          "GradientBoostingClassifier",
          "GradientBoostingClassifier",
          "GradientBoostingClassifier",
          "GradientBoostingClassifier",
          "GradientBoostingClassifier",
          "GradientBoostingClassifier",
          "GradientBoostingClassifier",
          "GradientBoostingClassifier",
          "GradientBoostingClassifier",
          "GradientBoostingClassifier",
          "DeepNeuralNetwork",
          "DeepNeuralNetwork",
          "DeepNeuralNetwork",
          "DeepNeuralNetwork",
          "DeepNeuralNetwork",
          "DeepNeuralNetwork",
          "DeepNeuralNetwork",
          "DeepNeuralNetwork",
          "DeepNeuralNetwork",
          "DeepNeuralNetwork",
          "DeepNeuralNetwork",
          "DeepNeuralNetwork",
          "DeepNeuralNetwork",
          "DeepNeuralNetwork",
          "DeepNeuralNetwork",
          "DeepNeuralNetwork",
          "DeepNeuralNetwork",
          "DeepNeuralNetwork",
          "DeepNeuralNetwork",
          "DeepNeuralNetwork"
         ],
         "y": [
          0.1007192134857177,
          0.0817809104919433,
          0.1073369979858398,
          0.0718493461608886,
          0.1041574478149414,
          0.0823645591735839,
          0.2138097286224365,
          0.0548510551452636,
          0.0870099067687988,
          0.0558507442474365,
          0.1586244106292724,
          0.1900436878204345,
          0.0826468467712402,
          0.102341890335083,
          0.0725159645080566,
          0.1115548610687255,
          0.1793906688690185,
          0.0998108386993408,
          0.1122164726257324,
          0.0857725143432617,
          0.0522899627685546,
          0.1548612117767334,
          0.0548539161682128,
          0.0861358642578125,
          0.0708088874816894,
          0.2103230953216552,
          0.0528564453125,
          0.0680665969848632,
          0.0769236087799072,
          0.0966956615447998,
          0.1177687644958496,
          0.0418870449066162,
          0.2111575603485107,
          0.056847333908081,
          0.0966272354125976,
          0.0993316173553466,
          0.11946702003479,
          0.0538551807403564,
          0.1041433811187744,
          0.1697707176208496,
          0.0539054870605468,
          0.0919330120086669,
          0.0409438610076904,
          0.0768306255340576,
          0.0827791690826416,
          0.0491459369659423,
          0.0777926445007324,
          0.044879674911499,
          0.0997347831726074,
          0.0491490364074707,
          0.0617499351501464,
          0.0877652168273925,
          0.0509173870086669,
          0.0902392864227294,
          0.0979094505310058,
          0.0746848583221435,
          0.0494074821472168,
          0.109462022781372,
          0.0488960742950439,
          0.085923433303833,
          0.1029896736145019,
          0.0468697547912597,
          0.0458755493164062,
          0.0687806606292724,
          0.0464329719543457,
          0.0468947887420654,
          0.0995845794677734,
          0.0608994960784912,
          0.0638272762298584,
          0.0902354717254638,
          0.0508604049682617,
          0.0541584491729736,
          0.0897610187530517,
          0.0583646297454834,
          0.0448806285858154,
          0.0839881896972656,
          0.0547561645507812,
          0.0558383464813232,
          0.0921366214752197,
          0.0857686996459961,
          0.0528793334960937,
          0.049102783203125,
          0.0488698482513427,
          0.0488691329956054,
          0.0548553466796875,
          0.0479371547698974,
          0.0538606643676757,
          0.0628294944763183,
          0.0458712577819824,
          0.051431655883789,
          0.050858736038208,
          0.0439927577972412,
          0.0491683483123779,
          0.0468738079071044,
          0.0491354465484619,
          0.0474851131439209,
          0.0769786834716796,
          0.046454906463623,
          0.0563058853149414,
          0.0688140392303466
         ]
        }
       ],
       "layout": {
        "boxmode": "group",
        "template": {
         "data": {
          "bar": [
           {
            "error_x": {
             "color": "#2a3f5f"
            },
            "error_y": {
             "color": "#2a3f5f"
            },
            "marker": {
             "line": {
              "color": "#E5ECF6",
              "width": 0.5
             },
             "pattern": {
              "fillmode": "overlay",
              "size": 10,
              "solidity": 0.2
             }
            },
            "type": "bar"
           }
          ],
          "barpolar": [
           {
            "marker": {
             "line": {
              "color": "#E5ECF6",
              "width": 0.5
             },
             "pattern": {
              "fillmode": "overlay",
              "size": 10,
              "solidity": 0.2
             }
            },
            "type": "barpolar"
           }
          ],
          "carpet": [
           {
            "aaxis": {
             "endlinecolor": "#2a3f5f",
             "gridcolor": "white",
             "linecolor": "white",
             "minorgridcolor": "white",
             "startlinecolor": "#2a3f5f"
            },
            "baxis": {
             "endlinecolor": "#2a3f5f",
             "gridcolor": "white",
             "linecolor": "white",
             "minorgridcolor": "white",
             "startlinecolor": "#2a3f5f"
            },
            "type": "carpet"
           }
          ],
          "choropleth": [
           {
            "colorbar": {
             "outlinewidth": 0,
             "ticks": ""
            },
            "type": "choropleth"
           }
          ],
          "contour": [
           {
            "colorbar": {
             "outlinewidth": 0,
             "ticks": ""
            },
            "colorscale": [
             [
              0,
              "#0d0887"
             ],
             [
              0.1111111111111111,
              "#46039f"
             ],
             [
              0.2222222222222222,
              "#7201a8"
             ],
             [
              0.3333333333333333,
              "#9c179e"
             ],
             [
              0.4444444444444444,
              "#bd3786"
             ],
             [
              0.5555555555555556,
              "#d8576b"
             ],
             [
              0.6666666666666666,
              "#ed7953"
             ],
             [
              0.7777777777777778,
              "#fb9f3a"
             ],
             [
              0.8888888888888888,
              "#fdca26"
             ],
             [
              1,
              "#f0f921"
             ]
            ],
            "type": "contour"
           }
          ],
          "contourcarpet": [
           {
            "colorbar": {
             "outlinewidth": 0,
             "ticks": ""
            },
            "type": "contourcarpet"
           }
          ],
          "heatmap": [
           {
            "colorbar": {
             "outlinewidth": 0,
             "ticks": ""
            },
            "colorscale": [
             [
              0,
              "#0d0887"
             ],
             [
              0.1111111111111111,
              "#46039f"
             ],
             [
              0.2222222222222222,
              "#7201a8"
             ],
             [
              0.3333333333333333,
              "#9c179e"
             ],
             [
              0.4444444444444444,
              "#bd3786"
             ],
             [
              0.5555555555555556,
              "#d8576b"
             ],
             [
              0.6666666666666666,
              "#ed7953"
             ],
             [
              0.7777777777777778,
              "#fb9f3a"
             ],
             [
              0.8888888888888888,
              "#fdca26"
             ],
             [
              1,
              "#f0f921"
             ]
            ],
            "type": "heatmap"
           }
          ],
          "heatmapgl": [
           {
            "colorbar": {
             "outlinewidth": 0,
             "ticks": ""
            },
            "colorscale": [
             [
              0,
              "#0d0887"
             ],
             [
              0.1111111111111111,
              "#46039f"
             ],
             [
              0.2222222222222222,
              "#7201a8"
             ],
             [
              0.3333333333333333,
              "#9c179e"
             ],
             [
              0.4444444444444444,
              "#bd3786"
             ],
             [
              0.5555555555555556,
              "#d8576b"
             ],
             [
              0.6666666666666666,
              "#ed7953"
             ],
             [
              0.7777777777777778,
              "#fb9f3a"
             ],
             [
              0.8888888888888888,
              "#fdca26"
             ],
             [
              1,
              "#f0f921"
             ]
            ],
            "type": "heatmapgl"
           }
          ],
          "histogram": [
           {
            "marker": {
             "pattern": {
              "fillmode": "overlay",
              "size": 10,
              "solidity": 0.2
             }
            },
            "type": "histogram"
           }
          ],
          "histogram2d": [
           {
            "colorbar": {
             "outlinewidth": 0,
             "ticks": ""
            },
            "colorscale": [
             [
              0,
              "#0d0887"
             ],
             [
              0.1111111111111111,
              "#46039f"
             ],
             [
              0.2222222222222222,
              "#7201a8"
             ],
             [
              0.3333333333333333,
              "#9c179e"
             ],
             [
              0.4444444444444444,
              "#bd3786"
             ],
             [
              0.5555555555555556,
              "#d8576b"
             ],
             [
              0.6666666666666666,
              "#ed7953"
             ],
             [
              0.7777777777777778,
              "#fb9f3a"
             ],
             [
              0.8888888888888888,
              "#fdca26"
             ],
             [
              1,
              "#f0f921"
             ]
            ],
            "type": "histogram2d"
           }
          ],
          "histogram2dcontour": [
           {
            "colorbar": {
             "outlinewidth": 0,
             "ticks": ""
            },
            "colorscale": [
             [
              0,
              "#0d0887"
             ],
             [
              0.1111111111111111,
              "#46039f"
             ],
             [
              0.2222222222222222,
              "#7201a8"
             ],
             [
              0.3333333333333333,
              "#9c179e"
             ],
             [
              0.4444444444444444,
              "#bd3786"
             ],
             [
              0.5555555555555556,
              "#d8576b"
             ],
             [
              0.6666666666666666,
              "#ed7953"
             ],
             [
              0.7777777777777778,
              "#fb9f3a"
             ],
             [
              0.8888888888888888,
              "#fdca26"
             ],
             [
              1,
              "#f0f921"
             ]
            ],
            "type": "histogram2dcontour"
           }
          ],
          "mesh3d": [
           {
            "colorbar": {
             "outlinewidth": 0,
             "ticks": ""
            },
            "type": "mesh3d"
           }
          ],
          "parcoords": [
           {
            "line": {
             "colorbar": {
              "outlinewidth": 0,
              "ticks": ""
             }
            },
            "type": "parcoords"
           }
          ],
          "pie": [
           {
            "automargin": true,
            "type": "pie"
           }
          ],
          "scatter": [
           {
            "fillpattern": {
             "fillmode": "overlay",
             "size": 10,
             "solidity": 0.2
            },
            "type": "scatter"
           }
          ],
          "scatter3d": [
           {
            "line": {
             "colorbar": {
              "outlinewidth": 0,
              "ticks": ""
             }
            },
            "marker": {
             "colorbar": {
              "outlinewidth": 0,
              "ticks": ""
             }
            },
            "type": "scatter3d"
           }
          ],
          "scattercarpet": [
           {
            "marker": {
             "colorbar": {
              "outlinewidth": 0,
              "ticks": ""
             }
            },
            "type": "scattercarpet"
           }
          ],
          "scattergeo": [
           {
            "marker": {
             "colorbar": {
              "outlinewidth": 0,
              "ticks": ""
             }
            },
            "type": "scattergeo"
           }
          ],
          "scattergl": [
           {
            "marker": {
             "colorbar": {
              "outlinewidth": 0,
              "ticks": ""
             }
            },
            "type": "scattergl"
           }
          ],
          "scattermapbox": [
           {
            "marker": {
             "colorbar": {
              "outlinewidth": 0,
              "ticks": ""
             }
            },
            "type": "scattermapbox"
           }
          ],
          "scatterpolar": [
           {
            "marker": {
             "colorbar": {
              "outlinewidth": 0,
              "ticks": ""
             }
            },
            "type": "scatterpolar"
           }
          ],
          "scatterpolargl": [
           {
            "marker": {
             "colorbar": {
              "outlinewidth": 0,
              "ticks": ""
             }
            },
            "type": "scatterpolargl"
           }
          ],
          "scatterternary": [
           {
            "marker": {
             "colorbar": {
              "outlinewidth": 0,
              "ticks": ""
             }
            },
            "type": "scatterternary"
           }
          ],
          "surface": [
           {
            "colorbar": {
             "outlinewidth": 0,
             "ticks": ""
            },
            "colorscale": [
             [
              0,
              "#0d0887"
             ],
             [
              0.1111111111111111,
              "#46039f"
             ],
             [
              0.2222222222222222,
              "#7201a8"
             ],
             [
              0.3333333333333333,
              "#9c179e"
             ],
             [
              0.4444444444444444,
              "#bd3786"
             ],
             [
              0.5555555555555556,
              "#d8576b"
             ],
             [
              0.6666666666666666,
              "#ed7953"
             ],
             [
              0.7777777777777778,
              "#fb9f3a"
             ],
             [
              0.8888888888888888,
              "#fdca26"
             ],
             [
              1,
              "#f0f921"
             ]
            ],
            "type": "surface"
           }
          ],
          "table": [
           {
            "cells": {
             "fill": {
              "color": "#EBF0F8"
             },
             "line": {
              "color": "white"
             }
            },
            "header": {
             "fill": {
              "color": "#C8D4E3"
             },
             "line": {
              "color": "white"
             }
            },
            "type": "table"
           }
          ]
         },
         "layout": {
          "annotationdefaults": {
           "arrowcolor": "#2a3f5f",
           "arrowhead": 0,
           "arrowwidth": 1
          },
          "autotypenumbers": "strict",
          "coloraxis": {
           "colorbar": {
            "outlinewidth": 0,
            "ticks": ""
           }
          },
          "colorscale": {
           "diverging": [
            [
             0,
             "#8e0152"
            ],
            [
             0.1,
             "#c51b7d"
            ],
            [
             0.2,
             "#de77ae"
            ],
            [
             0.3,
             "#f1b6da"
            ],
            [
             0.4,
             "#fde0ef"
            ],
            [
             0.5,
             "#f7f7f7"
            ],
            [
             0.6,
             "#e6f5d0"
            ],
            [
             0.7,
             "#b8e186"
            ],
            [
             0.8,
             "#7fbc41"
            ],
            [
             0.9,
             "#4d9221"
            ],
            [
             1,
             "#276419"
            ]
           ],
           "sequential": [
            [
             0,
             "#0d0887"
            ],
            [
             0.1111111111111111,
             "#46039f"
            ],
            [
             0.2222222222222222,
             "#7201a8"
            ],
            [
             0.3333333333333333,
             "#9c179e"
            ],
            [
             0.4444444444444444,
             "#bd3786"
            ],
            [
             0.5555555555555556,
             "#d8576b"
            ],
            [
             0.6666666666666666,
             "#ed7953"
            ],
            [
             0.7777777777777778,
             "#fb9f3a"
            ],
            [
             0.8888888888888888,
             "#fdca26"
            ],
            [
             1,
             "#f0f921"
            ]
           ],
           "sequentialminus": [
            [
             0,
             "#0d0887"
            ],
            [
             0.1111111111111111,
             "#46039f"
            ],
            [
             0.2222222222222222,
             "#7201a8"
            ],
            [
             0.3333333333333333,
             "#9c179e"
            ],
            [
             0.4444444444444444,
             "#bd3786"
            ],
            [
             0.5555555555555556,
             "#d8576b"
            ],
            [
             0.6666666666666666,
             "#ed7953"
            ],
            [
             0.7777777777777778,
             "#fb9f3a"
            ],
            [
             0.8888888888888888,
             "#fdca26"
            ],
            [
             1,
             "#f0f921"
            ]
           ]
          },
          "colorway": [
           "#636efa",
           "#EF553B",
           "#00cc96",
           "#ab63fa",
           "#FFA15A",
           "#19d3f3",
           "#FF6692",
           "#B6E880",
           "#FF97FF",
           "#FECB52"
          ],
          "font": {
           "color": "#2a3f5f"
          },
          "geo": {
           "bgcolor": "white",
           "lakecolor": "white",
           "landcolor": "#E5ECF6",
           "showlakes": true,
           "showland": true,
           "subunitcolor": "white"
          },
          "hoverlabel": {
           "align": "left"
          },
          "hovermode": "closest",
          "mapbox": {
           "style": "light"
          },
          "paper_bgcolor": "white",
          "plot_bgcolor": "#E5ECF6",
          "polar": {
           "angularaxis": {
            "gridcolor": "white",
            "linecolor": "white",
            "ticks": ""
           },
           "bgcolor": "#E5ECF6",
           "radialaxis": {
            "gridcolor": "white",
            "linecolor": "white",
            "ticks": ""
           }
          },
          "scene": {
           "xaxis": {
            "backgroundcolor": "#E5ECF6",
            "gridcolor": "white",
            "gridwidth": 2,
            "linecolor": "white",
            "showbackground": true,
            "ticks": "",
            "zerolinecolor": "white"
           },
           "yaxis": {
            "backgroundcolor": "#E5ECF6",
            "gridcolor": "white",
            "gridwidth": 2,
            "linecolor": "white",
            "showbackground": true,
            "ticks": "",
            "zerolinecolor": "white"
           },
           "zaxis": {
            "backgroundcolor": "#E5ECF6",
            "gridcolor": "white",
            "gridwidth": 2,
            "linecolor": "white",
            "showbackground": true,
            "ticks": "",
            "zerolinecolor": "white"
           }
          },
          "shapedefaults": {
           "line": {
            "color": "#2a3f5f"
           }
          },
          "ternary": {
           "aaxis": {
            "gridcolor": "white",
            "linecolor": "white",
            "ticks": ""
           },
           "baxis": {
            "gridcolor": "white",
            "linecolor": "white",
            "ticks": ""
           },
           "bgcolor": "#E5ECF6",
           "caxis": {
            "gridcolor": "white",
            "linecolor": "white",
            "ticks": ""
           }
          },
          "title": {
           "x": 0.05
          },
          "xaxis": {
           "automargin": true,
           "gridcolor": "white",
           "linecolor": "white",
           "ticks": "",
           "title": {
            "standoff": 15
           },
           "zerolinecolor": "white",
           "zerolinewidth": 2
          },
          "yaxis": {
           "automargin": true,
           "gridcolor": "white",
           "linecolor": "white",
           "ticks": "",
           "title": {
            "standoff": 15
           },
           "zerolinecolor": "white",
           "zerolinewidth": 2
          }
         }
        },
        "title": {
         "text": "preprocess_time"
        },
        "yaxis": {
         "title": {
          "text": "preprocess_time"
         }
        }
       }
      }
     },
     "metadata": {},
     "output_type": "display_data"
    },
    {
     "data": {
      "application/vnd.plotly.v1+json": {
       "config": {
        "plotlyServerURL": "https://plot.ly"
       },
       "data": [
        {
         "name": "Full",
         "type": "box",
         "x": [
          "LogisticRegression",
          "LogisticRegression",
          "LogisticRegression",
          "LogisticRegression",
          "LogisticRegression",
          "LogisticRegression",
          "LogisticRegression",
          "LogisticRegression",
          "LogisticRegression",
          "LogisticRegression",
          "LogisticRegression",
          "LogisticRegression",
          "LogisticRegression",
          "LogisticRegression",
          "LogisticRegression",
          "LogisticRegression",
          "LogisticRegression",
          "LogisticRegression",
          "LogisticRegression",
          "LogisticRegression",
          "SVC",
          "SVC",
          "SVC",
          "SVC",
          "SVC",
          "SVC",
          "SVC",
          "SVC",
          "SVC",
          "SVC",
          "SVC",
          "SVC",
          "SVC",
          "SVC",
          "SVC",
          "SVC",
          "SVC",
          "SVC",
          "SVC",
          "SVC",
          "RandomForestClassifier",
          "RandomForestClassifier",
          "RandomForestClassifier",
          "RandomForestClassifier",
          "RandomForestClassifier",
          "RandomForestClassifier",
          "RandomForestClassifier",
          "RandomForestClassifier",
          "RandomForestClassifier",
          "RandomForestClassifier",
          "RandomForestClassifier",
          "RandomForestClassifier",
          "RandomForestClassifier",
          "RandomForestClassifier",
          "RandomForestClassifier",
          "RandomForestClassifier",
          "RandomForestClassifier",
          "RandomForestClassifier",
          "RandomForestClassifier",
          "RandomForestClassifier",
          "GradientBoostingClassifier",
          "GradientBoostingClassifier",
          "GradientBoostingClassifier",
          "GradientBoostingClassifier",
          "GradientBoostingClassifier",
          "GradientBoostingClassifier",
          "GradientBoostingClassifier",
          "GradientBoostingClassifier",
          "GradientBoostingClassifier",
          "GradientBoostingClassifier",
          "GradientBoostingClassifier",
          "GradientBoostingClassifier",
          "GradientBoostingClassifier",
          "GradientBoostingClassifier",
          "GradientBoostingClassifier",
          "GradientBoostingClassifier",
          "GradientBoostingClassifier",
          "GradientBoostingClassifier",
          "GradientBoostingClassifier",
          "GradientBoostingClassifier",
          "DeepNeuralNetwork",
          "DeepNeuralNetwork",
          "DeepNeuralNetwork",
          "DeepNeuralNetwork",
          "DeepNeuralNetwork",
          "DeepNeuralNetwork",
          "DeepNeuralNetwork",
          "DeepNeuralNetwork",
          "DeepNeuralNetwork",
          "DeepNeuralNetwork",
          "DeepNeuralNetwork",
          "DeepNeuralNetwork",
          "DeepNeuralNetwork",
          "DeepNeuralNetwork",
          "DeepNeuralNetwork",
          "DeepNeuralNetwork",
          "DeepNeuralNetwork",
          "DeepNeuralNetwork",
          "DeepNeuralNetwork",
          "DeepNeuralNetwork"
         ],
         "y": [
          0.0478720664978027,
          0.0537552833557128,
          0.0321130752563476,
          0.0541682243347168,
          0.0269296169281005,
          0.0607907772064209,
          0.0269291400909423,
          0.0750627517700195,
          0.0280015468597412,
          0.0944819450378418,
          0.0558502674102783,
          0.0437498092651367,
          0.069718599319458,
          0.0329458713531494,
          0.080259084701538,
          0.0408947467803955,
          0.0629162788391113,
          0.0593297481536865,
          0.0269289016723632,
          0.0567655563354492,
          0.0514461994171142,
          0.0370433330535888,
          0.0490088462829589,
          0.0339119434356689,
          0.0949327945709228,
          0.0608386993408203,
          0.0588674545288085,
          0.0680634975433349,
          0.0842139720916748,
          0.0867676734924316,
          0.0470495223999023,
          0.0458784103393554,
          0.0348079204559326,
          0.1037087440490722,
          0.0354454517364501,
          0.0537018775939941,
          0.0648565292358398,
          0.0547752380371093,
          0.0658876895904541,
          0.0458137989044189,
          0.5751094818115234,
          0.6396477222442627,
          0.6620869636535645,
          0.6269299983978271,
          0.6905534267425537,
          0.6289715766906738,
          0.5935273170471191,
          0.6010198593139648,
          0.5899879932403564,
          0.6640357971191406,
          0.5808935165405273,
          0.6663527488708496,
          0.5580008029937744,
          0.7183132171630859,
          0.5897302627563477,
          0.8281784057617188,
          0.687086820602417,
          0.8201713562011719,
          0.5825018882751465,
          0.7453606128692627,
          0.5875160694122314,
          0.6430048942565918,
          0.90850830078125,
          0.7162578105926514,
          0.6603841781616211,
          0.7150919437408447,
          0.7043740749359131,
          0.5281503200531006,
          0.4393157958984375,
          0.6852989196777344,
          0.6618669033050537,
          0.7281761169433594,
          0.9817309379577636,
          0.7849574089050293,
          0.5564908981323242,
          0.8816757202148438,
          0.8173253536224365,
          0.8073890209197998,
          0.9753150939941406,
          0.5691735744476318,
          3.5804266929626465,
          2.780565023422241,
          2.575115203857422,
          2.4803688526153564,
          2.4973232746124268,
          2.592071771621704,
          2.655897378921509,
          2.972052574157715,
          3.266803741455078,
          2.8673596382141118,
          1.7486019134521484,
          2.3259854316711426,
          2.125469923019409,
          2.2321219444274902,
          2.31672739982605,
          2.2001960277557373,
          2.1430821418762207,
          2.321696281433105,
          2.299509763717652,
          2.482689380645752
         ]
        },
        {
         "name": "FR",
         "type": "box",
         "x": [
          "LogisticRegression",
          "LogisticRegression",
          "LogisticRegression",
          "LogisticRegression",
          "LogisticRegression",
          "LogisticRegression",
          "LogisticRegression",
          "LogisticRegression",
          "LogisticRegression",
          "LogisticRegression",
          "LogisticRegression",
          "LogisticRegression",
          "LogisticRegression",
          "LogisticRegression",
          "LogisticRegression",
          "LogisticRegression",
          "LogisticRegression",
          "LogisticRegression",
          "LogisticRegression",
          "LogisticRegression",
          "SVC",
          "SVC",
          "SVC",
          "SVC",
          "SVC",
          "SVC",
          "SVC",
          "SVC",
          "SVC",
          "SVC",
          "SVC",
          "SVC",
          "SVC",
          "SVC",
          "SVC",
          "SVC",
          "SVC",
          "SVC",
          "SVC",
          "SVC",
          "RandomForestClassifier",
          "RandomForestClassifier",
          "RandomForestClassifier",
          "RandomForestClassifier",
          "RandomForestClassifier",
          "RandomForestClassifier",
          "RandomForestClassifier",
          "RandomForestClassifier",
          "RandomForestClassifier",
          "RandomForestClassifier",
          "RandomForestClassifier",
          "RandomForestClassifier",
          "RandomForestClassifier",
          "RandomForestClassifier",
          "RandomForestClassifier",
          "RandomForestClassifier",
          "RandomForestClassifier",
          "RandomForestClassifier",
          "RandomForestClassifier",
          "RandomForestClassifier",
          "GradientBoostingClassifier",
          "GradientBoostingClassifier",
          "GradientBoostingClassifier",
          "GradientBoostingClassifier",
          "GradientBoostingClassifier",
          "GradientBoostingClassifier",
          "GradientBoostingClassifier",
          "GradientBoostingClassifier",
          "GradientBoostingClassifier",
          "GradientBoostingClassifier",
          "GradientBoostingClassifier",
          "GradientBoostingClassifier",
          "GradientBoostingClassifier",
          "GradientBoostingClassifier",
          "GradientBoostingClassifier",
          "GradientBoostingClassifier",
          "GradientBoostingClassifier",
          "GradientBoostingClassifier",
          "GradientBoostingClassifier",
          "GradientBoostingClassifier",
          "DeepNeuralNetwork",
          "DeepNeuralNetwork",
          "DeepNeuralNetwork",
          "DeepNeuralNetwork",
          "DeepNeuralNetwork",
          "DeepNeuralNetwork",
          "DeepNeuralNetwork",
          "DeepNeuralNetwork",
          "DeepNeuralNetwork",
          "DeepNeuralNetwork",
          "DeepNeuralNetwork",
          "DeepNeuralNetwork",
          "DeepNeuralNetwork",
          "DeepNeuralNetwork",
          "DeepNeuralNetwork",
          "DeepNeuralNetwork",
          "DeepNeuralNetwork",
          "DeepNeuralNetwork",
          "DeepNeuralNetwork",
          "DeepNeuralNetwork"
         ],
         "y": [
          0.0413243770599365,
          0.0867996215820312,
          0.0338339805603027,
          0.0421369075775146,
          0.1302409172058105,
          0.0493781566619873,
          0.0367980003356933,
          0.0309128761291503,
          0.0706636905670166,
          0.0319137573242187,
          0.0568878650665283,
          0.0992567539215087,
          0.0731856822967529,
          0.0642237663269043,
          0.0856471061706543,
          0.0854246616363525,
          0.1087605953216552,
          0.0573172569274902,
          0.0331006050109863,
          0.0399394035339355,
          0.0269277095794677,
          0.0726737976074218,
          0.0279271602630615,
          0.0923097133636474,
          0.0408935546875,
          0.0835263729095459,
          0.042651891708374,
          0.0528578758239746,
          0.0428190231323242,
          0.1024081707000732,
          0.0317606925964355,
          0.0454754829406738,
          0.0395693778991699,
          0.0599424839019775,
          0.0323545932769775,
          0.1187193393707275,
          0.037898302078247,
          0.0349719524383544,
          0.0648267269134521,
          0.0628316402435302,
          0.6176443099975586,
          0.7523527145385742,
          0.5963444709777832,
          0.7183165550231934,
          0.6649391651153564,
          0.7000319957733154,
          0.6610138416290283,
          0.749467134475708,
          0.6860370635986328,
          0.8838410377502441,
          0.7918949127197266,
          0.6686837673187256,
          0.6815602779388428,
          0.8895673751831055,
          0.6626455783843994,
          0.9523088932037354,
          0.5670192241668701,
          0.7395012378692627,
          0.6305005550384521,
          0.7411212921142578,
          0.7142608165740967,
          0.9792804718017578,
          0.952568531036377,
          0.8420615196228027,
          0.6111679077148438,
          0.7086808681488037,
          0.698655366897583,
          0.7827081680297852,
          0.7401208877563477,
          0.5448582172393799,
          0.8736691474914551,
          0.8082680702209473,
          0.7069985866546631,
          1.0675668716430664,
          0.650531530380249,
          0.903846025466919,
          0.8087599277496338,
          0.7146861553192139,
          0.709453821182251,
          0.7774491310119629,
          2.195643901824951,
          2.4260778427124023,
          2.096110582351685,
          2.1653754711151123,
          2.6783547401428223,
          2.81436538696289,
          2.1665186882019043,
          2.31322717666626,
          2.7242445945739746,
          3.046337842941284,
          2.684212684631348,
          2.6408238410949707,
          2.761261463165283,
          2.17425274848938,
          2.5546045303344727,
          2.680628061294556,
          2.3252291679382324,
          2.1508090496063232,
          2.268537998199463,
          2.6907379627227783
         ]
        },
        {
         "name": "SS",
         "type": "box",
         "x": [
          "LogisticRegression",
          "LogisticRegression",
          "LogisticRegression",
          "LogisticRegression",
          "LogisticRegression",
          "LogisticRegression",
          "LogisticRegression",
          "LogisticRegression",
          "LogisticRegression",
          "LogisticRegression",
          "LogisticRegression",
          "LogisticRegression",
          "LogisticRegression",
          "LogisticRegression",
          "LogisticRegression",
          "LogisticRegression",
          "LogisticRegression",
          "LogisticRegression",
          "LogisticRegression",
          "LogisticRegression",
          "SVC",
          "SVC",
          "SVC",
          "SVC",
          "SVC",
          "SVC",
          "SVC",
          "SVC",
          "SVC",
          "SVC",
          "SVC",
          "SVC",
          "SVC",
          "SVC",
          "SVC",
          "SVC",
          "SVC",
          "SVC",
          "SVC",
          "SVC",
          "RandomForestClassifier",
          "RandomForestClassifier",
          "RandomForestClassifier",
          "RandomForestClassifier",
          "RandomForestClassifier",
          "RandomForestClassifier",
          "RandomForestClassifier",
          "RandomForestClassifier",
          "RandomForestClassifier",
          "RandomForestClassifier",
          "RandomForestClassifier",
          "RandomForestClassifier",
          "RandomForestClassifier",
          "RandomForestClassifier",
          "RandomForestClassifier",
          "RandomForestClassifier",
          "RandomForestClassifier",
          "RandomForestClassifier",
          "RandomForestClassifier",
          "RandomForestClassifier",
          "GradientBoostingClassifier",
          "GradientBoostingClassifier",
          "GradientBoostingClassifier",
          "GradientBoostingClassifier",
          "GradientBoostingClassifier",
          "GradientBoostingClassifier",
          "GradientBoostingClassifier",
          "GradientBoostingClassifier",
          "GradientBoostingClassifier",
          "GradientBoostingClassifier",
          "GradientBoostingClassifier",
          "GradientBoostingClassifier",
          "GradientBoostingClassifier",
          "GradientBoostingClassifier",
          "GradientBoostingClassifier",
          "GradientBoostingClassifier",
          "GradientBoostingClassifier",
          "GradientBoostingClassifier",
          "GradientBoostingClassifier",
          "GradientBoostingClassifier",
          "DeepNeuralNetwork",
          "DeepNeuralNetwork",
          "DeepNeuralNetwork",
          "DeepNeuralNetwork",
          "DeepNeuralNetwork",
          "DeepNeuralNetwork",
          "DeepNeuralNetwork",
          "DeepNeuralNetwork",
          "DeepNeuralNetwork",
          "DeepNeuralNetwork",
          "DeepNeuralNetwork",
          "DeepNeuralNetwork",
          "DeepNeuralNetwork",
          "DeepNeuralNetwork",
          "DeepNeuralNetwork",
          "DeepNeuralNetwork",
          "DeepNeuralNetwork",
          "DeepNeuralNetwork",
          "DeepNeuralNetwork",
          "DeepNeuralNetwork"
         ],
         "y": [
          0.0599422454833984,
          0.0803964138031005,
          0.0681827068328857,
          0.034048318862915,
          0.0631740093231201,
          0.0309522151947021,
          0.0373106002807617,
          0.0827786922454834,
          0.032876968383789,
          0.086024522781372,
          0.0329117774963378,
          0.0589523315429687,
          0.1057443618774414,
          0.035900592803955,
          0.0516352653503418,
          0.0816409587860107,
          0.0529158115386962,
          0.0688633918762207,
          0.0375678539276123,
          0.0563099384307861,
          0.0388967990875244,
          0.1169068813323974,
          0.03941011428833,
          0.0552163124084472,
          0.103240966796875,
          0.0743594169616699,
          0.06374192237854,
          0.0609569549560546,
          0.0283374786376953,
          0.0493347644805908,
          0.0542833805084228,
          0.0528573989868164,
          0.0368995666503906,
          0.0259304046630859,
          0.0519402027130126,
          0.0703880786895752,
          0.0752203464508056,
          0.0299203395843505,
          0.056391954421997,
          0.0887627601623535,
          0.6893608570098877,
          0.647270679473877,
          0.6636314392089844,
          0.7366223335266113,
          0.5855019092559814,
          0.7667150497436523,
          0.6460561752319336,
          0.6691813468933105,
          0.5737042427062988,
          0.6776843070983887,
          0.6996796131134033,
          0.7025656700134277,
          0.5746030807495117,
          0.6913704872131348,
          0.5782630443572998,
          0.68605637550354,
          0.5746095180511475,
          0.7279438972473145,
          0.5834424495697021,
          0.6697604656219482,
          0.7110276222229004,
          0.7260808944702148,
          0.9027512073516846,
          0.7081301212310791,
          0.5972521305084229,
          0.7567999362945557,
          0.7919149398803711,
          0.760242223739624,
          0.811945915222168,
          0.5793848037719727,
          0.5710067749023438,
          0.6617958545684814,
          0.5723483562469482,
          0.5679924488067627,
          0.6524114608764648,
          0.5848402976989746,
          0.5286343097686768,
          0.6992957592010498,
          0.6887822151184082,
          0.6035556793212891,
          2.266047477722168,
          2.163686990737915,
          2.306195020675659,
          2.2327773571014404,
          2.1301016807556152,
          2.187793493270874,
          2.161933422088623,
          2.280496597290039,
          2.263239622116089,
          2.290943384170532,
          2.38377046585083,
          2.660238027572632,
          2.186485290527344,
          2.8292269706726074,
          2.164621353149414,
          2.3829874992370605,
          2.225538730621338,
          2.466390371322632,
          2.427492618560791,
          2.452043056488037
         ]
        },
        {
         "name": "SS & FR",
         "type": "box",
         "x": [
          "LogisticRegression",
          "LogisticRegression",
          "LogisticRegression",
          "LogisticRegression",
          "LogisticRegression",
          "LogisticRegression",
          "LogisticRegression",
          "LogisticRegression",
          "LogisticRegression",
          "LogisticRegression",
          "LogisticRegression",
          "LogisticRegression",
          "LogisticRegression",
          "LogisticRegression",
          "LogisticRegression",
          "LogisticRegression",
          "LogisticRegression",
          "LogisticRegression",
          "LogisticRegression",
          "LogisticRegression",
          "SVC",
          "SVC",
          "SVC",
          "SVC",
          "SVC",
          "SVC",
          "SVC",
          "SVC",
          "SVC",
          "SVC",
          "SVC",
          "SVC",
          "SVC",
          "SVC",
          "SVC",
          "SVC",
          "SVC",
          "SVC",
          "SVC",
          "SVC",
          "RandomForestClassifier",
          "RandomForestClassifier",
          "RandomForestClassifier",
          "RandomForestClassifier",
          "RandomForestClassifier",
          "RandomForestClassifier",
          "RandomForestClassifier",
          "RandomForestClassifier",
          "RandomForestClassifier",
          "RandomForestClassifier",
          "RandomForestClassifier",
          "RandomForestClassifier",
          "RandomForestClassifier",
          "RandomForestClassifier",
          "RandomForestClassifier",
          "RandomForestClassifier",
          "RandomForestClassifier",
          "RandomForestClassifier",
          "RandomForestClassifier",
          "RandomForestClassifier",
          "GradientBoostingClassifier",
          "GradientBoostingClassifier",
          "GradientBoostingClassifier",
          "GradientBoostingClassifier",
          "GradientBoostingClassifier",
          "GradientBoostingClassifier",
          "GradientBoostingClassifier",
          "GradientBoostingClassifier",
          "GradientBoostingClassifier",
          "GradientBoostingClassifier",
          "GradientBoostingClassifier",
          "GradientBoostingClassifier",
          "GradientBoostingClassifier",
          "GradientBoostingClassifier",
          "GradientBoostingClassifier",
          "GradientBoostingClassifier",
          "GradientBoostingClassifier",
          "GradientBoostingClassifier",
          "GradientBoostingClassifier",
          "GradientBoostingClassifier",
          "DeepNeuralNetwork",
          "DeepNeuralNetwork",
          "DeepNeuralNetwork",
          "DeepNeuralNetwork",
          "DeepNeuralNetwork",
          "DeepNeuralNetwork",
          "DeepNeuralNetwork",
          "DeepNeuralNetwork",
          "DeepNeuralNetwork",
          "DeepNeuralNetwork",
          "DeepNeuralNetwork",
          "DeepNeuralNetwork",
          "DeepNeuralNetwork",
          "DeepNeuralNetwork",
          "DeepNeuralNetwork",
          "DeepNeuralNetwork",
          "DeepNeuralNetwork",
          "DeepNeuralNetwork",
          "DeepNeuralNetwork",
          "DeepNeuralNetwork"
         ],
         "y": [
          0.0259299278259277,
          0.076434850692749,
          0.0330214500427246,
          0.0328724384307861,
          0.0629820823669433,
          0.037198781967163,
          0.09792160987854,
          0.0656666755676269,
          0.0598742961883544,
          0.0917539596557617,
          0.0444309711456298,
          0.0890367031097412,
          0.0423340797424316,
          0.0429980754852294,
          0.1097927093505859,
          0.0621614456176757,
          0.0811178684234619,
          0.0832941532135009,
          0.0314445495605468,
          0.0852503776550293,
          0.0278010368347167,
          0.0767598152160644,
          0.0385904312133789,
          0.0916786193847656,
          0.049100637435913,
          0.0453467369079589,
          0.132645845413208,
          0.0359036922454834,
          0.0508644580841064,
          0.0648274421691894,
          0.0460233688354492,
          0.037898302078247,
          0.094759464263916,
          0.0558524131774902,
          0.0435431003570556,
          0.047619342803955,
          0.0682454109191894,
          0.0528583526611328,
          0.0398955345153808,
          0.0939133167266845,
          0.5904488563537598,
          0.6264057159423828,
          0.6917679309844971,
          0.718264102935791,
          0.7966315746307373,
          0.5824990272521973,
          0.7581868171691895,
          0.5674870014190674,
          0.6002461910247803,
          0.6704282760620117,
          0.597409725189209,
          0.7161145210266113,
          0.6490857601165771,
          0.6237514019012451,
          0.7144730091094971,
          0.7425293922424316,
          0.6716256141662598,
          0.6465225219726562,
          0.7291958332061768,
          0.5866732597351074,
          0.6645627021789551,
          0.5602385997772217,
          0.5398383140563965,
          0.7198684215545654,
          0.6254456043243408,
          0.582085132598877,
          0.6650123596191406,
          0.624910831451416,
          0.5841367244720459,
          0.6576590538024902,
          0.6583614349365234,
          0.588036298751831,
          0.7137725353240967,
          0.5731284618377686,
          0.5331971645355225,
          0.6200141906738281,
          0.6517801284790039,
          0.7610509395599365,
          0.592968225479126,
          0.6781511306762695,
          2.2979207038879395,
          2.316647291183472,
          2.118798017501831,
          2.1464850902557373,
          2.36768102645874,
          2.1585941314697266,
          2.607208490371704,
          2.2073874473571777,
          2.4283742904663086,
          3.027981758117676,
          2.2243685722351074,
          2.6075282096862797,
          2.3157637119293213,
          2.251657724380493,
          2.667810440063477,
          2.340742588043213,
          2.752911329269409,
          2.452154397964477,
          2.293643951416016,
          2.507237195968628
         ]
        }
       ],
       "layout": {
        "boxmode": "group",
        "template": {
         "data": {
          "bar": [
           {
            "error_x": {
             "color": "#2a3f5f"
            },
            "error_y": {
             "color": "#2a3f5f"
            },
            "marker": {
             "line": {
              "color": "#E5ECF6",
              "width": 0.5
             },
             "pattern": {
              "fillmode": "overlay",
              "size": 10,
              "solidity": 0.2
             }
            },
            "type": "bar"
           }
          ],
          "barpolar": [
           {
            "marker": {
             "line": {
              "color": "#E5ECF6",
              "width": 0.5
             },
             "pattern": {
              "fillmode": "overlay",
              "size": 10,
              "solidity": 0.2
             }
            },
            "type": "barpolar"
           }
          ],
          "carpet": [
           {
            "aaxis": {
             "endlinecolor": "#2a3f5f",
             "gridcolor": "white",
             "linecolor": "white",
             "minorgridcolor": "white",
             "startlinecolor": "#2a3f5f"
            },
            "baxis": {
             "endlinecolor": "#2a3f5f",
             "gridcolor": "white",
             "linecolor": "white",
             "minorgridcolor": "white",
             "startlinecolor": "#2a3f5f"
            },
            "type": "carpet"
           }
          ],
          "choropleth": [
           {
            "colorbar": {
             "outlinewidth": 0,
             "ticks": ""
            },
            "type": "choropleth"
           }
          ],
          "contour": [
           {
            "colorbar": {
             "outlinewidth": 0,
             "ticks": ""
            },
            "colorscale": [
             [
              0,
              "#0d0887"
             ],
             [
              0.1111111111111111,
              "#46039f"
             ],
             [
              0.2222222222222222,
              "#7201a8"
             ],
             [
              0.3333333333333333,
              "#9c179e"
             ],
             [
              0.4444444444444444,
              "#bd3786"
             ],
             [
              0.5555555555555556,
              "#d8576b"
             ],
             [
              0.6666666666666666,
              "#ed7953"
             ],
             [
              0.7777777777777778,
              "#fb9f3a"
             ],
             [
              0.8888888888888888,
              "#fdca26"
             ],
             [
              1,
              "#f0f921"
             ]
            ],
            "type": "contour"
           }
          ],
          "contourcarpet": [
           {
            "colorbar": {
             "outlinewidth": 0,
             "ticks": ""
            },
            "type": "contourcarpet"
           }
          ],
          "heatmap": [
           {
            "colorbar": {
             "outlinewidth": 0,
             "ticks": ""
            },
            "colorscale": [
             [
              0,
              "#0d0887"
             ],
             [
              0.1111111111111111,
              "#46039f"
             ],
             [
              0.2222222222222222,
              "#7201a8"
             ],
             [
              0.3333333333333333,
              "#9c179e"
             ],
             [
              0.4444444444444444,
              "#bd3786"
             ],
             [
              0.5555555555555556,
              "#d8576b"
             ],
             [
              0.6666666666666666,
              "#ed7953"
             ],
             [
              0.7777777777777778,
              "#fb9f3a"
             ],
             [
              0.8888888888888888,
              "#fdca26"
             ],
             [
              1,
              "#f0f921"
             ]
            ],
            "type": "heatmap"
           }
          ],
          "heatmapgl": [
           {
            "colorbar": {
             "outlinewidth": 0,
             "ticks": ""
            },
            "colorscale": [
             [
              0,
              "#0d0887"
             ],
             [
              0.1111111111111111,
              "#46039f"
             ],
             [
              0.2222222222222222,
              "#7201a8"
             ],
             [
              0.3333333333333333,
              "#9c179e"
             ],
             [
              0.4444444444444444,
              "#bd3786"
             ],
             [
              0.5555555555555556,
              "#d8576b"
             ],
             [
              0.6666666666666666,
              "#ed7953"
             ],
             [
              0.7777777777777778,
              "#fb9f3a"
             ],
             [
              0.8888888888888888,
              "#fdca26"
             ],
             [
              1,
              "#f0f921"
             ]
            ],
            "type": "heatmapgl"
           }
          ],
          "histogram": [
           {
            "marker": {
             "pattern": {
              "fillmode": "overlay",
              "size": 10,
              "solidity": 0.2
             }
            },
            "type": "histogram"
           }
          ],
          "histogram2d": [
           {
            "colorbar": {
             "outlinewidth": 0,
             "ticks": ""
            },
            "colorscale": [
             [
              0,
              "#0d0887"
             ],
             [
              0.1111111111111111,
              "#46039f"
             ],
             [
              0.2222222222222222,
              "#7201a8"
             ],
             [
              0.3333333333333333,
              "#9c179e"
             ],
             [
              0.4444444444444444,
              "#bd3786"
             ],
             [
              0.5555555555555556,
              "#d8576b"
             ],
             [
              0.6666666666666666,
              "#ed7953"
             ],
             [
              0.7777777777777778,
              "#fb9f3a"
             ],
             [
              0.8888888888888888,
              "#fdca26"
             ],
             [
              1,
              "#f0f921"
             ]
            ],
            "type": "histogram2d"
           }
          ],
          "histogram2dcontour": [
           {
            "colorbar": {
             "outlinewidth": 0,
             "ticks": ""
            },
            "colorscale": [
             [
              0,
              "#0d0887"
             ],
             [
              0.1111111111111111,
              "#46039f"
             ],
             [
              0.2222222222222222,
              "#7201a8"
             ],
             [
              0.3333333333333333,
              "#9c179e"
             ],
             [
              0.4444444444444444,
              "#bd3786"
             ],
             [
              0.5555555555555556,
              "#d8576b"
             ],
             [
              0.6666666666666666,
              "#ed7953"
             ],
             [
              0.7777777777777778,
              "#fb9f3a"
             ],
             [
              0.8888888888888888,
              "#fdca26"
             ],
             [
              1,
              "#f0f921"
             ]
            ],
            "type": "histogram2dcontour"
           }
          ],
          "mesh3d": [
           {
            "colorbar": {
             "outlinewidth": 0,
             "ticks": ""
            },
            "type": "mesh3d"
           }
          ],
          "parcoords": [
           {
            "line": {
             "colorbar": {
              "outlinewidth": 0,
              "ticks": ""
             }
            },
            "type": "parcoords"
           }
          ],
          "pie": [
           {
            "automargin": true,
            "type": "pie"
           }
          ],
          "scatter": [
           {
            "fillpattern": {
             "fillmode": "overlay",
             "size": 10,
             "solidity": 0.2
            },
            "type": "scatter"
           }
          ],
          "scatter3d": [
           {
            "line": {
             "colorbar": {
              "outlinewidth": 0,
              "ticks": ""
             }
            },
            "marker": {
             "colorbar": {
              "outlinewidth": 0,
              "ticks": ""
             }
            },
            "type": "scatter3d"
           }
          ],
          "scattercarpet": [
           {
            "marker": {
             "colorbar": {
              "outlinewidth": 0,
              "ticks": ""
             }
            },
            "type": "scattercarpet"
           }
          ],
          "scattergeo": [
           {
            "marker": {
             "colorbar": {
              "outlinewidth": 0,
              "ticks": ""
             }
            },
            "type": "scattergeo"
           }
          ],
          "scattergl": [
           {
            "marker": {
             "colorbar": {
              "outlinewidth": 0,
              "ticks": ""
             }
            },
            "type": "scattergl"
           }
          ],
          "scattermapbox": [
           {
            "marker": {
             "colorbar": {
              "outlinewidth": 0,
              "ticks": ""
             }
            },
            "type": "scattermapbox"
           }
          ],
          "scatterpolar": [
           {
            "marker": {
             "colorbar": {
              "outlinewidth": 0,
              "ticks": ""
             }
            },
            "type": "scatterpolar"
           }
          ],
          "scatterpolargl": [
           {
            "marker": {
             "colorbar": {
              "outlinewidth": 0,
              "ticks": ""
             }
            },
            "type": "scatterpolargl"
           }
          ],
          "scatterternary": [
           {
            "marker": {
             "colorbar": {
              "outlinewidth": 0,
              "ticks": ""
             }
            },
            "type": "scatterternary"
           }
          ],
          "surface": [
           {
            "colorbar": {
             "outlinewidth": 0,
             "ticks": ""
            },
            "colorscale": [
             [
              0,
              "#0d0887"
             ],
             [
              0.1111111111111111,
              "#46039f"
             ],
             [
              0.2222222222222222,
              "#7201a8"
             ],
             [
              0.3333333333333333,
              "#9c179e"
             ],
             [
              0.4444444444444444,
              "#bd3786"
             ],
             [
              0.5555555555555556,
              "#d8576b"
             ],
             [
              0.6666666666666666,
              "#ed7953"
             ],
             [
              0.7777777777777778,
              "#fb9f3a"
             ],
             [
              0.8888888888888888,
              "#fdca26"
             ],
             [
              1,
              "#f0f921"
             ]
            ],
            "type": "surface"
           }
          ],
          "table": [
           {
            "cells": {
             "fill": {
              "color": "#EBF0F8"
             },
             "line": {
              "color": "white"
             }
            },
            "header": {
             "fill": {
              "color": "#C8D4E3"
             },
             "line": {
              "color": "white"
             }
            },
            "type": "table"
           }
          ]
         },
         "layout": {
          "annotationdefaults": {
           "arrowcolor": "#2a3f5f",
           "arrowhead": 0,
           "arrowwidth": 1
          },
          "autotypenumbers": "strict",
          "coloraxis": {
           "colorbar": {
            "outlinewidth": 0,
            "ticks": ""
           }
          },
          "colorscale": {
           "diverging": [
            [
             0,
             "#8e0152"
            ],
            [
             0.1,
             "#c51b7d"
            ],
            [
             0.2,
             "#de77ae"
            ],
            [
             0.3,
             "#f1b6da"
            ],
            [
             0.4,
             "#fde0ef"
            ],
            [
             0.5,
             "#f7f7f7"
            ],
            [
             0.6,
             "#e6f5d0"
            ],
            [
             0.7,
             "#b8e186"
            ],
            [
             0.8,
             "#7fbc41"
            ],
            [
             0.9,
             "#4d9221"
            ],
            [
             1,
             "#276419"
            ]
           ],
           "sequential": [
            [
             0,
             "#0d0887"
            ],
            [
             0.1111111111111111,
             "#46039f"
            ],
            [
             0.2222222222222222,
             "#7201a8"
            ],
            [
             0.3333333333333333,
             "#9c179e"
            ],
            [
             0.4444444444444444,
             "#bd3786"
            ],
            [
             0.5555555555555556,
             "#d8576b"
            ],
            [
             0.6666666666666666,
             "#ed7953"
            ],
            [
             0.7777777777777778,
             "#fb9f3a"
            ],
            [
             0.8888888888888888,
             "#fdca26"
            ],
            [
             1,
             "#f0f921"
            ]
           ],
           "sequentialminus": [
            [
             0,
             "#0d0887"
            ],
            [
             0.1111111111111111,
             "#46039f"
            ],
            [
             0.2222222222222222,
             "#7201a8"
            ],
            [
             0.3333333333333333,
             "#9c179e"
            ],
            [
             0.4444444444444444,
             "#bd3786"
            ],
            [
             0.5555555555555556,
             "#d8576b"
            ],
            [
             0.6666666666666666,
             "#ed7953"
            ],
            [
             0.7777777777777778,
             "#fb9f3a"
            ],
            [
             0.8888888888888888,
             "#fdca26"
            ],
            [
             1,
             "#f0f921"
            ]
           ]
          },
          "colorway": [
           "#636efa",
           "#EF553B",
           "#00cc96",
           "#ab63fa",
           "#FFA15A",
           "#19d3f3",
           "#FF6692",
           "#B6E880",
           "#FF97FF",
           "#FECB52"
          ],
          "font": {
           "color": "#2a3f5f"
          },
          "geo": {
           "bgcolor": "white",
           "lakecolor": "white",
           "landcolor": "#E5ECF6",
           "showlakes": true,
           "showland": true,
           "subunitcolor": "white"
          },
          "hoverlabel": {
           "align": "left"
          },
          "hovermode": "closest",
          "mapbox": {
           "style": "light"
          },
          "paper_bgcolor": "white",
          "plot_bgcolor": "#E5ECF6",
          "polar": {
           "angularaxis": {
            "gridcolor": "white",
            "linecolor": "white",
            "ticks": ""
           },
           "bgcolor": "#E5ECF6",
           "radialaxis": {
            "gridcolor": "white",
            "linecolor": "white",
            "ticks": ""
           }
          },
          "scene": {
           "xaxis": {
            "backgroundcolor": "#E5ECF6",
            "gridcolor": "white",
            "gridwidth": 2,
            "linecolor": "white",
            "showbackground": true,
            "ticks": "",
            "zerolinecolor": "white"
           },
           "yaxis": {
            "backgroundcolor": "#E5ECF6",
            "gridcolor": "white",
            "gridwidth": 2,
            "linecolor": "white",
            "showbackground": true,
            "ticks": "",
            "zerolinecolor": "white"
           },
           "zaxis": {
            "backgroundcolor": "#E5ECF6",
            "gridcolor": "white",
            "gridwidth": 2,
            "linecolor": "white",
            "showbackground": true,
            "ticks": "",
            "zerolinecolor": "white"
           }
          },
          "shapedefaults": {
           "line": {
            "color": "#2a3f5f"
           }
          },
          "ternary": {
           "aaxis": {
            "gridcolor": "white",
            "linecolor": "white",
            "ticks": ""
           },
           "baxis": {
            "gridcolor": "white",
            "linecolor": "white",
            "ticks": ""
           },
           "bgcolor": "#E5ECF6",
           "caxis": {
            "gridcolor": "white",
            "linecolor": "white",
            "ticks": ""
           }
          },
          "title": {
           "x": 0.05
          },
          "xaxis": {
           "automargin": true,
           "gridcolor": "white",
           "linecolor": "white",
           "ticks": "",
           "title": {
            "standoff": 15
           },
           "zerolinecolor": "white",
           "zerolinewidth": 2
          },
          "yaxis": {
           "automargin": true,
           "gridcolor": "white",
           "linecolor": "white",
           "ticks": "",
           "title": {
            "standoff": 15
           },
           "zerolinecolor": "white",
           "zerolinewidth": 2
          }
         }
        },
        "title": {
         "text": "training_time"
        },
        "yaxis": {
         "title": {
          "text": "training_time"
         }
        }
       }
      }
     },
     "metadata": {},
     "output_type": "display_data"
    },
    {
     "data": {
      "application/vnd.plotly.v1+json": {
       "config": {
        "plotlyServerURL": "https://plot.ly"
       },
       "data": [
        {
         "name": "Full",
         "type": "box",
         "x": [
          "LogisticRegression",
          "LogisticRegression",
          "LogisticRegression",
          "LogisticRegression",
          "LogisticRegression",
          "LogisticRegression",
          "LogisticRegression",
          "LogisticRegression",
          "LogisticRegression",
          "LogisticRegression",
          "LogisticRegression",
          "LogisticRegression",
          "LogisticRegression",
          "LogisticRegression",
          "LogisticRegression",
          "LogisticRegression",
          "LogisticRegression",
          "LogisticRegression",
          "LogisticRegression",
          "LogisticRegression",
          "SVC",
          "SVC",
          "SVC",
          "SVC",
          "SVC",
          "SVC",
          "SVC",
          "SVC",
          "SVC",
          "SVC",
          "SVC",
          "SVC",
          "SVC",
          "SVC",
          "SVC",
          "SVC",
          "SVC",
          "SVC",
          "SVC",
          "SVC",
          "RandomForestClassifier",
          "RandomForestClassifier",
          "RandomForestClassifier",
          "RandomForestClassifier",
          "RandomForestClassifier",
          "RandomForestClassifier",
          "RandomForestClassifier",
          "RandomForestClassifier",
          "RandomForestClassifier",
          "RandomForestClassifier",
          "RandomForestClassifier",
          "RandomForestClassifier",
          "RandomForestClassifier",
          "RandomForestClassifier",
          "RandomForestClassifier",
          "RandomForestClassifier",
          "RandomForestClassifier",
          "RandomForestClassifier",
          "RandomForestClassifier",
          "RandomForestClassifier",
          "GradientBoostingClassifier",
          "GradientBoostingClassifier",
          "GradientBoostingClassifier",
          "GradientBoostingClassifier",
          "GradientBoostingClassifier",
          "GradientBoostingClassifier",
          "GradientBoostingClassifier",
          "GradientBoostingClassifier",
          "GradientBoostingClassifier",
          "GradientBoostingClassifier",
          "GradientBoostingClassifier",
          "GradientBoostingClassifier",
          "GradientBoostingClassifier",
          "GradientBoostingClassifier",
          "GradientBoostingClassifier",
          "GradientBoostingClassifier",
          "GradientBoostingClassifier",
          "GradientBoostingClassifier",
          "GradientBoostingClassifier",
          "GradientBoostingClassifier",
          "DeepNeuralNetwork",
          "DeepNeuralNetwork",
          "DeepNeuralNetwork",
          "DeepNeuralNetwork",
          "DeepNeuralNetwork",
          "DeepNeuralNetwork",
          "DeepNeuralNetwork",
          "DeepNeuralNetwork",
          "DeepNeuralNetwork",
          "DeepNeuralNetwork",
          "DeepNeuralNetwork",
          "DeepNeuralNetwork",
          "DeepNeuralNetwork",
          "DeepNeuralNetwork",
          "DeepNeuralNetwork",
          "DeepNeuralNetwork",
          "DeepNeuralNetwork",
          "DeepNeuralNetwork",
          "DeepNeuralNetwork",
          "DeepNeuralNetwork"
         ],
         "y": [
          0.0319278240203857,
          0.0469317436218261,
          0.0698797702789306,
          0.0649263858795166,
          0.0209431648254394,
          0.0706710815429687,
          0.0408942699432373,
          0.02870774269104,
          0.0398941040039062,
          0.0410563945770263,
          0.0587587356567382,
          0.0289676189422607,
          0.0975608825683593,
          0.0309174060821533,
          0.0309031009674072,
          0.0609197616577148,
          0.0514609813690185,
          0.0292787551879882,
          0.0199882984161376,
          0.0290288925170898,
          0.1270234584808349,
          0.0638284683227539,
          0.1791009902954101,
          0.1102223396301269,
          0.1026885509490966,
          0.127307653427124,
          0.0848572254180908,
          0.1212997436523437,
          0.0528383255004882,
          0.1192789077758789,
          0.0628330707550048,
          0.19651460647583,
          0.0618391036987304,
          0.1051611900329589,
          0.1386685371398925,
          0.1141605377197265,
          0.1017639636993408,
          0.1436669826507568,
          0.0649688243865966,
          0.1982829570770263,
          0.0628283023834228,
          0.1226868629455566,
          0.0608117580413818,
          0.0549170970916748,
          0.0588476657867431,
          0.0588393211364746,
          0.1081366539001464,
          0.0588433742523193,
          0.0588436126708984,
          0.0621199607849121,
          0.0498652458190918,
          0.0568513870239257,
          0.0588276386260986,
          0.0586533546447753,
          0.060945987701416,
          0.0478744506835937,
          0.0588407516479492,
          0.0624258518218994,
          0.0548553466796875,
          0.0719735622406005,
          0.0290417671203613,
          0.0329799652099609,
          0.025928258895874,
          0.0368990898132324,
          0.0329110622406005,
          0.0249330997467041,
          0.0232303142547607,
          0.0227503776550292,
          0.0269281864166259,
          0.0359027385711669,
          0.0259337425231933,
          0.0359048843383789,
          0.0309131145477294,
          0.0349056720733642,
          0.0339081287384033,
          0.0349020957946777,
          0.0400116443634033,
          0.042457103729248,
          0.0269231796264648,
          0.0349080562591552,
          0.5335731506347656,
          0.2413556575775146,
          0.2822437286376953,
          0.3011958599090576,
          0.2792525291442871,
          0.3450770378112793,
          0.3241341114044189,
          0.2722740173339844,
          0.3198153972625732,
          0.3150153160095215,
          0.258540391921997,
          0.2403912544250488,
          0.4102933406829834,
          0.2383637428283691,
          0.2460925579071045,
          0.2346582412719726,
          0.2510099411010742,
          0.3218894004821777,
          0.2947800159454345,
          0.2850744724273681
         ]
        },
        {
         "name": "FR",
         "type": "box",
         "x": [
          "LogisticRegression",
          "LogisticRegression",
          "LogisticRegression",
          "LogisticRegression",
          "LogisticRegression",
          "LogisticRegression",
          "LogisticRegression",
          "LogisticRegression",
          "LogisticRegression",
          "LogisticRegression",
          "LogisticRegression",
          "LogisticRegression",
          "LogisticRegression",
          "LogisticRegression",
          "LogisticRegression",
          "LogisticRegression",
          "LogisticRegression",
          "LogisticRegression",
          "LogisticRegression",
          "LogisticRegression",
          "SVC",
          "SVC",
          "SVC",
          "SVC",
          "SVC",
          "SVC",
          "SVC",
          "SVC",
          "SVC",
          "SVC",
          "SVC",
          "SVC",
          "SVC",
          "SVC",
          "SVC",
          "SVC",
          "SVC",
          "SVC",
          "SVC",
          "SVC",
          "RandomForestClassifier",
          "RandomForestClassifier",
          "RandomForestClassifier",
          "RandomForestClassifier",
          "RandomForestClassifier",
          "RandomForestClassifier",
          "RandomForestClassifier",
          "RandomForestClassifier",
          "RandomForestClassifier",
          "RandomForestClassifier",
          "RandomForestClassifier",
          "RandomForestClassifier",
          "RandomForestClassifier",
          "RandomForestClassifier",
          "RandomForestClassifier",
          "RandomForestClassifier",
          "RandomForestClassifier",
          "RandomForestClassifier",
          "RandomForestClassifier",
          "RandomForestClassifier",
          "GradientBoostingClassifier",
          "GradientBoostingClassifier",
          "GradientBoostingClassifier",
          "GradientBoostingClassifier",
          "GradientBoostingClassifier",
          "GradientBoostingClassifier",
          "GradientBoostingClassifier",
          "GradientBoostingClassifier",
          "GradientBoostingClassifier",
          "GradientBoostingClassifier",
          "GradientBoostingClassifier",
          "GradientBoostingClassifier",
          "GradientBoostingClassifier",
          "GradientBoostingClassifier",
          "GradientBoostingClassifier",
          "GradientBoostingClassifier",
          "GradientBoostingClassifier",
          "GradientBoostingClassifier",
          "GradientBoostingClassifier",
          "GradientBoostingClassifier",
          "DeepNeuralNetwork",
          "DeepNeuralNetwork",
          "DeepNeuralNetwork",
          "DeepNeuralNetwork",
          "DeepNeuralNetwork",
          "DeepNeuralNetwork",
          "DeepNeuralNetwork",
          "DeepNeuralNetwork",
          "DeepNeuralNetwork",
          "DeepNeuralNetwork",
          "DeepNeuralNetwork",
          "DeepNeuralNetwork",
          "DeepNeuralNetwork",
          "DeepNeuralNetwork",
          "DeepNeuralNetwork",
          "DeepNeuralNetwork",
          "DeepNeuralNetwork",
          "DeepNeuralNetwork",
          "DeepNeuralNetwork",
          "DeepNeuralNetwork"
         ],
         "y": [
          0.0795111656188964,
          0.0388493537902832,
          0.0349650382995605,
          0.0259571075439453,
          0.0327053070068359,
          0.0339086055755615,
          0.0492534637451171,
          0.0309031009674072,
          0.0390675067901611,
          0.0662436485290527,
          0.0262188911437988,
          0.0384869575500488,
          0.0521304607391357,
          0.0249967575073242,
          0.0511145591735839,
          0.0354857444763183,
          0.0281786918640136,
          0.0458776950836181,
          0.0331084728240966,
          0.0234994888305664,
          0.049468994140625,
          0.1605706214904785,
          0.0678160190582275,
          0.1329889297485351,
          0.1118617057800293,
          0.1163027286529541,
          0.075960636138916,
          0.1861331462860107,
          0.0738370418548584,
          0.1324691772460937,
          0.1496500968933105,
          0.1032299995422363,
          0.1096868515014648,
          0.0949161052703857,
          0.0528573989868164,
          0.1277894973754882,
          0.1237742900848388,
          0.1436159610748291,
          0.1279351711273193,
          0.1831963062286377,
          0.0618290901184082,
          0.0600149631500244,
          0.0767934322357177,
          0.0549001693725585,
          0.0568468570709228,
          0.0588443279266357,
          0.0578477382659912,
          0.061894416809082,
          0.0640528202056884,
          0.0621254444122314,
          0.0628371238708496,
          0.0683193206787109,
          0.0598371028900146,
          0.0608377456665039,
          0.0609078407287597,
          0.0618731975555419,
          0.060046911239624,
          0.0568530559539794,
          0.0594911575317382,
          0.0588419437408447,
          0.033905029296875,
          0.0468747615814209,
          0.0418372154235839,
          0.0249335765838623,
          0.0339057445526123,
          0.0309219360351562,
          0.0937480926513671,
          0.0318548679351806,
          0.0414750576019287,
          0.0299193859100341,
          0.039893627166748,
          0.0329132080078125,
          0.0328803062438964,
          0.0405583381652832,
          0.0329062938690185,
          0.035905122756958,
          0.0339114665985107,
          0.0330502986907959,
          0.0342779159545898,
          0.0259242057800292,
          0.2395868301391601,
          0.2408978939056396,
          0.2390480041503906,
          0.3461449146270752,
          0.3310482501983642,
          0.2343509197235107,
          0.2474732398986816,
          0.296471357345581,
          0.2569673061370849,
          0.345585823059082,
          0.3995869159698486,
          0.3365964889526367,
          0.2388639450073242,
          0.2742676734924316,
          0.2797796726226806,
          0.2395195960998535,
          0.2617073059082031,
          0.24062180519104,
          0.2424089908599853,
          0.3289046287536621
         ]
        },
        {
         "name": "SS",
         "type": "box",
         "x": [
          "LogisticRegression",
          "LogisticRegression",
          "LogisticRegression",
          "LogisticRegression",
          "LogisticRegression",
          "LogisticRegression",
          "LogisticRegression",
          "LogisticRegression",
          "LogisticRegression",
          "LogisticRegression",
          "LogisticRegression",
          "LogisticRegression",
          "LogisticRegression",
          "LogisticRegression",
          "LogisticRegression",
          "LogisticRegression",
          "LogisticRegression",
          "LogisticRegression",
          "LogisticRegression",
          "LogisticRegression",
          "SVC",
          "SVC",
          "SVC",
          "SVC",
          "SVC",
          "SVC",
          "SVC",
          "SVC",
          "SVC",
          "SVC",
          "SVC",
          "SVC",
          "SVC",
          "SVC",
          "SVC",
          "SVC",
          "SVC",
          "SVC",
          "SVC",
          "SVC",
          "RandomForestClassifier",
          "RandomForestClassifier",
          "RandomForestClassifier",
          "RandomForestClassifier",
          "RandomForestClassifier",
          "RandomForestClassifier",
          "RandomForestClassifier",
          "RandomForestClassifier",
          "RandomForestClassifier",
          "RandomForestClassifier",
          "RandomForestClassifier",
          "RandomForestClassifier",
          "RandomForestClassifier",
          "RandomForestClassifier",
          "RandomForestClassifier",
          "RandomForestClassifier",
          "RandomForestClassifier",
          "RandomForestClassifier",
          "RandomForestClassifier",
          "RandomForestClassifier",
          "GradientBoostingClassifier",
          "GradientBoostingClassifier",
          "GradientBoostingClassifier",
          "GradientBoostingClassifier",
          "GradientBoostingClassifier",
          "GradientBoostingClassifier",
          "GradientBoostingClassifier",
          "GradientBoostingClassifier",
          "GradientBoostingClassifier",
          "GradientBoostingClassifier",
          "GradientBoostingClassifier",
          "GradientBoostingClassifier",
          "GradientBoostingClassifier",
          "GradientBoostingClassifier",
          "GradientBoostingClassifier",
          "GradientBoostingClassifier",
          "GradientBoostingClassifier",
          "GradientBoostingClassifier",
          "GradientBoostingClassifier",
          "GradientBoostingClassifier",
          "DeepNeuralNetwork",
          "DeepNeuralNetwork",
          "DeepNeuralNetwork",
          "DeepNeuralNetwork",
          "DeepNeuralNetwork",
          "DeepNeuralNetwork",
          "DeepNeuralNetwork",
          "DeepNeuralNetwork",
          "DeepNeuralNetwork",
          "DeepNeuralNetwork",
          "DeepNeuralNetwork",
          "DeepNeuralNetwork",
          "DeepNeuralNetwork",
          "DeepNeuralNetwork",
          "DeepNeuralNetwork",
          "DeepNeuralNetwork",
          "DeepNeuralNetwork",
          "DeepNeuralNetwork",
          "DeepNeuralNetwork",
          "DeepNeuralNetwork"
         ],
         "y": [
          0.0383286476135253,
          0.0360774993896484,
          0.050438642501831,
          0.063657522201538,
          0.0349845886230468,
          0.0606753826141357,
          0.0361778736114501,
          0.0819928646087646,
          0.0201625823974609,
          0.0265772342681884,
          0.0258176326751709,
          0.0783379077911377,
          0.0260400772094726,
          0.0860400199890136,
          0.0312747955322265,
          0.070228099822998,
          0.0767955780029296,
          0.0300369262695312,
          0.0383741855621337,
          0.0439095497131347,
          0.0688130855560302,
          0.1170797348022461,
          0.1276969909667968,
          0.0935328006744384,
          0.1139228343963623,
          0.0949072837829589,
          0.0568485260009765,
          0.0982592105865478,
          0.1396265029907226,
          0.1038975715637207,
          0.0698137283325195,
          0.143282413482666,
          0.2031822204589843,
          0.072810411453247,
          0.1043567657470703,
          0.1238346099853515,
          0.0844819545745849,
          0.1245160102844238,
          0.0478715896606445,
          0.1742475032806396,
          0.0608389377593994,
          0.0602521896362304,
          0.0564281940460205,
          0.1136960983276367,
          0.0629360675811767,
          0.0966989994049072,
          0.0568482875823974,
          0.060490608215332,
          0.1027717590332031,
          0.0569362640380859,
          0.0598418712615966,
          0.0518639087677001,
          0.0548512935638427,
          0.1108465194702148,
          0.0548791885375976,
          0.1067149639129638,
          0.0458767414093017,
          0.0548501014709472,
          0.0568504333496093,
          0.0639340877532959,
          0.0319149494171142,
          0.0329115390777587,
          0.0289232730865478,
          0.0357792377471923,
          0.0239360332489013,
          0.0339736938476562,
          0.0395019054412841,
          0.0378978252410888,
          0.0279591083526611,
          0.023932933807373,
          0.0369343757629394,
          0.0259292125701904,
          0.0299198627471923,
          0.0328752994537353,
          0.0289747714996337,
          0.0329105854034423,
          0.0269277095794677,
          0.0298449993133544,
          0.0319380760192871,
          0.030919075012207,
          0.2418975830078125,
          0.3420534133911133,
          0.2444825172424316,
          0.2360725402832031,
          0.2381846904754638,
          0.2431428432464599,
          0.2393569946289062,
          0.2756702899932861,
          0.2658629417419433,
          0.2445635795593261,
          0.2318277359008789,
          0.2343735694885254,
          0.2463493347167968,
          0.2441077232360839,
          0.2449455261230468,
          0.2399215698242187,
          0.2916607856750488,
          0.2539765834808349,
          0.2813923358917236,
          0.26442551612854
         ]
        },
        {
         "name": "SS & FR",
         "type": "box",
         "x": [
          "LogisticRegression",
          "LogisticRegression",
          "LogisticRegression",
          "LogisticRegression",
          "LogisticRegression",
          "LogisticRegression",
          "LogisticRegression",
          "LogisticRegression",
          "LogisticRegression",
          "LogisticRegression",
          "LogisticRegression",
          "LogisticRegression",
          "LogisticRegression",
          "LogisticRegression",
          "LogisticRegression",
          "LogisticRegression",
          "LogisticRegression",
          "LogisticRegression",
          "LogisticRegression",
          "LogisticRegression",
          "SVC",
          "SVC",
          "SVC",
          "SVC",
          "SVC",
          "SVC",
          "SVC",
          "SVC",
          "SVC",
          "SVC",
          "SVC",
          "SVC",
          "SVC",
          "SVC",
          "SVC",
          "SVC",
          "SVC",
          "SVC",
          "SVC",
          "SVC",
          "RandomForestClassifier",
          "RandomForestClassifier",
          "RandomForestClassifier",
          "RandomForestClassifier",
          "RandomForestClassifier",
          "RandomForestClassifier",
          "RandomForestClassifier",
          "RandomForestClassifier",
          "RandomForestClassifier",
          "RandomForestClassifier",
          "RandomForestClassifier",
          "RandomForestClassifier",
          "RandomForestClassifier",
          "RandomForestClassifier",
          "RandomForestClassifier",
          "RandomForestClassifier",
          "RandomForestClassifier",
          "RandomForestClassifier",
          "RandomForestClassifier",
          "RandomForestClassifier",
          "GradientBoostingClassifier",
          "GradientBoostingClassifier",
          "GradientBoostingClassifier",
          "GradientBoostingClassifier",
          "GradientBoostingClassifier",
          "GradientBoostingClassifier",
          "GradientBoostingClassifier",
          "GradientBoostingClassifier",
          "GradientBoostingClassifier",
          "GradientBoostingClassifier",
          "GradientBoostingClassifier",
          "GradientBoostingClassifier",
          "GradientBoostingClassifier",
          "GradientBoostingClassifier",
          "GradientBoostingClassifier",
          "GradientBoostingClassifier",
          "GradientBoostingClassifier",
          "GradientBoostingClassifier",
          "GradientBoostingClassifier",
          "GradientBoostingClassifier",
          "DeepNeuralNetwork",
          "DeepNeuralNetwork",
          "DeepNeuralNetwork",
          "DeepNeuralNetwork",
          "DeepNeuralNetwork",
          "DeepNeuralNetwork",
          "DeepNeuralNetwork",
          "DeepNeuralNetwork",
          "DeepNeuralNetwork",
          "DeepNeuralNetwork",
          "DeepNeuralNetwork",
          "DeepNeuralNetwork",
          "DeepNeuralNetwork",
          "DeepNeuralNetwork",
          "DeepNeuralNetwork",
          "DeepNeuralNetwork",
          "DeepNeuralNetwork",
          "DeepNeuralNetwork",
          "DeepNeuralNetwork",
          "DeepNeuralNetwork"
         ],
         "y": [
          0.0209441184997558,
          0.0363163948059082,
          0.0973217487335205,
          0.0356175899505615,
          0.0374548435211181,
          0.052079439163208,
          0.0431375503540039,
          0.0576949119567871,
          0.0264313220977783,
          0.0299172401428222,
          0.0267703533172607,
          0.0432503223419189,
          0.0364017486572265,
          0.0512628555297851,
          0.0834505558013916,
          0.0288693904876709,
          0.0283453464508056,
          0.0773870944976806,
          0.021942138671875,
          0.0269553661346435,
          0.0827260017395019,
          0.1077287197113037,
          0.1109416484832763,
          0.1578986644744873,
          0.1051223278045654,
          0.0688157081604003,
          0.1579334735870361,
          0.070810317993164,
          0.1086137294769287,
          0.0516266822814941,
          0.1715118885040283,
          0.0708096027374267,
          0.0804798603057861,
          0.1562035083770752,
          0.1655623912811279,
          0.1047449111938476,
          0.0719325542449951,
          0.197037935256958,
          0.0648307800292968,
          0.0947494506835937,
          0.1097521781921386,
          0.0579159259796142,
          0.0897586345672607,
          0.0668892860412597,
          0.0643975734710693,
          0.0839622020721435,
          0.0648298263549804,
          0.0578894615173339,
          0.0558493137359619,
          0.0978245735168457,
          0.0589258670806884,
          0.0548889636993408,
          0.058840274810791,
          0.0579469203948974,
          0.1018426418304443,
          0.0668818950653076,
          0.1174933910369873,
          0.0668213367462158,
          0.0568480491638183,
          0.0598359107971191,
          0.0289211273193359,
          0.0299229621887207,
          0.027944803237915,
          0.0273149013519287,
          0.0251421928405761,
          0.0309162139892578,
          0.0329117774963378,
          0.024932861328125,
          0.0658240318298339,
          0.0313825607299804,
          0.0340869426727294,
          0.0669376850128173,
          0.0329113006591796,
          0.026921272277832,
          0.0558507442474365,
          0.0281167030334472,
          0.0330872535705566,
          0.0329101085662841,
          0.0289242267608642,
          0.0220832824707031,
          0.239469289779663,
          0.2808947563171386,
          0.2487123012542724,
          0.2806072235107422,
          0.2484605312347412,
          0.3014478683471679,
          0.2623329162597656,
          0.3176898956298828,
          0.2948355674743652,
          0.2543237209320068,
          0.2969894409179687,
          0.2393553256988525,
          0.2622303962707519,
          0.242978811264038,
          0.2389338016510009,
          0.3172192573547363,
          0.2745530605316162,
          0.2874617576599121,
          0.278667688369751,
          0.2834858894348144
         ]
        }
       ],
       "layout": {
        "boxmode": "group",
        "template": {
         "data": {
          "bar": [
           {
            "error_x": {
             "color": "#2a3f5f"
            },
            "error_y": {
             "color": "#2a3f5f"
            },
            "marker": {
             "line": {
              "color": "#E5ECF6",
              "width": 0.5
             },
             "pattern": {
              "fillmode": "overlay",
              "size": 10,
              "solidity": 0.2
             }
            },
            "type": "bar"
           }
          ],
          "barpolar": [
           {
            "marker": {
             "line": {
              "color": "#E5ECF6",
              "width": 0.5
             },
             "pattern": {
              "fillmode": "overlay",
              "size": 10,
              "solidity": 0.2
             }
            },
            "type": "barpolar"
           }
          ],
          "carpet": [
           {
            "aaxis": {
             "endlinecolor": "#2a3f5f",
             "gridcolor": "white",
             "linecolor": "white",
             "minorgridcolor": "white",
             "startlinecolor": "#2a3f5f"
            },
            "baxis": {
             "endlinecolor": "#2a3f5f",
             "gridcolor": "white",
             "linecolor": "white",
             "minorgridcolor": "white",
             "startlinecolor": "#2a3f5f"
            },
            "type": "carpet"
           }
          ],
          "choropleth": [
           {
            "colorbar": {
             "outlinewidth": 0,
             "ticks": ""
            },
            "type": "choropleth"
           }
          ],
          "contour": [
           {
            "colorbar": {
             "outlinewidth": 0,
             "ticks": ""
            },
            "colorscale": [
             [
              0,
              "#0d0887"
             ],
             [
              0.1111111111111111,
              "#46039f"
             ],
             [
              0.2222222222222222,
              "#7201a8"
             ],
             [
              0.3333333333333333,
              "#9c179e"
             ],
             [
              0.4444444444444444,
              "#bd3786"
             ],
             [
              0.5555555555555556,
              "#d8576b"
             ],
             [
              0.6666666666666666,
              "#ed7953"
             ],
             [
              0.7777777777777778,
              "#fb9f3a"
             ],
             [
              0.8888888888888888,
              "#fdca26"
             ],
             [
              1,
              "#f0f921"
             ]
            ],
            "type": "contour"
           }
          ],
          "contourcarpet": [
           {
            "colorbar": {
             "outlinewidth": 0,
             "ticks": ""
            },
            "type": "contourcarpet"
           }
          ],
          "heatmap": [
           {
            "colorbar": {
             "outlinewidth": 0,
             "ticks": ""
            },
            "colorscale": [
             [
              0,
              "#0d0887"
             ],
             [
              0.1111111111111111,
              "#46039f"
             ],
             [
              0.2222222222222222,
              "#7201a8"
             ],
             [
              0.3333333333333333,
              "#9c179e"
             ],
             [
              0.4444444444444444,
              "#bd3786"
             ],
             [
              0.5555555555555556,
              "#d8576b"
             ],
             [
              0.6666666666666666,
              "#ed7953"
             ],
             [
              0.7777777777777778,
              "#fb9f3a"
             ],
             [
              0.8888888888888888,
              "#fdca26"
             ],
             [
              1,
              "#f0f921"
             ]
            ],
            "type": "heatmap"
           }
          ],
          "heatmapgl": [
           {
            "colorbar": {
             "outlinewidth": 0,
             "ticks": ""
            },
            "colorscale": [
             [
              0,
              "#0d0887"
             ],
             [
              0.1111111111111111,
              "#46039f"
             ],
             [
              0.2222222222222222,
              "#7201a8"
             ],
             [
              0.3333333333333333,
              "#9c179e"
             ],
             [
              0.4444444444444444,
              "#bd3786"
             ],
             [
              0.5555555555555556,
              "#d8576b"
             ],
             [
              0.6666666666666666,
              "#ed7953"
             ],
             [
              0.7777777777777778,
              "#fb9f3a"
             ],
             [
              0.8888888888888888,
              "#fdca26"
             ],
             [
              1,
              "#f0f921"
             ]
            ],
            "type": "heatmapgl"
           }
          ],
          "histogram": [
           {
            "marker": {
             "pattern": {
              "fillmode": "overlay",
              "size": 10,
              "solidity": 0.2
             }
            },
            "type": "histogram"
           }
          ],
          "histogram2d": [
           {
            "colorbar": {
             "outlinewidth": 0,
             "ticks": ""
            },
            "colorscale": [
             [
              0,
              "#0d0887"
             ],
             [
              0.1111111111111111,
              "#46039f"
             ],
             [
              0.2222222222222222,
              "#7201a8"
             ],
             [
              0.3333333333333333,
              "#9c179e"
             ],
             [
              0.4444444444444444,
              "#bd3786"
             ],
             [
              0.5555555555555556,
              "#d8576b"
             ],
             [
              0.6666666666666666,
              "#ed7953"
             ],
             [
              0.7777777777777778,
              "#fb9f3a"
             ],
             [
              0.8888888888888888,
              "#fdca26"
             ],
             [
              1,
              "#f0f921"
             ]
            ],
            "type": "histogram2d"
           }
          ],
          "histogram2dcontour": [
           {
            "colorbar": {
             "outlinewidth": 0,
             "ticks": ""
            },
            "colorscale": [
             [
              0,
              "#0d0887"
             ],
             [
              0.1111111111111111,
              "#46039f"
             ],
             [
              0.2222222222222222,
              "#7201a8"
             ],
             [
              0.3333333333333333,
              "#9c179e"
             ],
             [
              0.4444444444444444,
              "#bd3786"
             ],
             [
              0.5555555555555556,
              "#d8576b"
             ],
             [
              0.6666666666666666,
              "#ed7953"
             ],
             [
              0.7777777777777778,
              "#fb9f3a"
             ],
             [
              0.8888888888888888,
              "#fdca26"
             ],
             [
              1,
              "#f0f921"
             ]
            ],
            "type": "histogram2dcontour"
           }
          ],
          "mesh3d": [
           {
            "colorbar": {
             "outlinewidth": 0,
             "ticks": ""
            },
            "type": "mesh3d"
           }
          ],
          "parcoords": [
           {
            "line": {
             "colorbar": {
              "outlinewidth": 0,
              "ticks": ""
             }
            },
            "type": "parcoords"
           }
          ],
          "pie": [
           {
            "automargin": true,
            "type": "pie"
           }
          ],
          "scatter": [
           {
            "fillpattern": {
             "fillmode": "overlay",
             "size": 10,
             "solidity": 0.2
            },
            "type": "scatter"
           }
          ],
          "scatter3d": [
           {
            "line": {
             "colorbar": {
              "outlinewidth": 0,
              "ticks": ""
             }
            },
            "marker": {
             "colorbar": {
              "outlinewidth": 0,
              "ticks": ""
             }
            },
            "type": "scatter3d"
           }
          ],
          "scattercarpet": [
           {
            "marker": {
             "colorbar": {
              "outlinewidth": 0,
              "ticks": ""
             }
            },
            "type": "scattercarpet"
           }
          ],
          "scattergeo": [
           {
            "marker": {
             "colorbar": {
              "outlinewidth": 0,
              "ticks": ""
             }
            },
            "type": "scattergeo"
           }
          ],
          "scattergl": [
           {
            "marker": {
             "colorbar": {
              "outlinewidth": 0,
              "ticks": ""
             }
            },
            "type": "scattergl"
           }
          ],
          "scattermapbox": [
           {
            "marker": {
             "colorbar": {
              "outlinewidth": 0,
              "ticks": ""
             }
            },
            "type": "scattermapbox"
           }
          ],
          "scatterpolar": [
           {
            "marker": {
             "colorbar": {
              "outlinewidth": 0,
              "ticks": ""
             }
            },
            "type": "scatterpolar"
           }
          ],
          "scatterpolargl": [
           {
            "marker": {
             "colorbar": {
              "outlinewidth": 0,
              "ticks": ""
             }
            },
            "type": "scatterpolargl"
           }
          ],
          "scatterternary": [
           {
            "marker": {
             "colorbar": {
              "outlinewidth": 0,
              "ticks": ""
             }
            },
            "type": "scatterternary"
           }
          ],
          "surface": [
           {
            "colorbar": {
             "outlinewidth": 0,
             "ticks": ""
            },
            "colorscale": [
             [
              0,
              "#0d0887"
             ],
             [
              0.1111111111111111,
              "#46039f"
             ],
             [
              0.2222222222222222,
              "#7201a8"
             ],
             [
              0.3333333333333333,
              "#9c179e"
             ],
             [
              0.4444444444444444,
              "#bd3786"
             ],
             [
              0.5555555555555556,
              "#d8576b"
             ],
             [
              0.6666666666666666,
              "#ed7953"
             ],
             [
              0.7777777777777778,
              "#fb9f3a"
             ],
             [
              0.8888888888888888,
              "#fdca26"
             ],
             [
              1,
              "#f0f921"
             ]
            ],
            "type": "surface"
           }
          ],
          "table": [
           {
            "cells": {
             "fill": {
              "color": "#EBF0F8"
             },
             "line": {
              "color": "white"
             }
            },
            "header": {
             "fill": {
              "color": "#C8D4E3"
             },
             "line": {
              "color": "white"
             }
            },
            "type": "table"
           }
          ]
         },
         "layout": {
          "annotationdefaults": {
           "arrowcolor": "#2a3f5f",
           "arrowhead": 0,
           "arrowwidth": 1
          },
          "autotypenumbers": "strict",
          "coloraxis": {
           "colorbar": {
            "outlinewidth": 0,
            "ticks": ""
           }
          },
          "colorscale": {
           "diverging": [
            [
             0,
             "#8e0152"
            ],
            [
             0.1,
             "#c51b7d"
            ],
            [
             0.2,
             "#de77ae"
            ],
            [
             0.3,
             "#f1b6da"
            ],
            [
             0.4,
             "#fde0ef"
            ],
            [
             0.5,
             "#f7f7f7"
            ],
            [
             0.6,
             "#e6f5d0"
            ],
            [
             0.7,
             "#b8e186"
            ],
            [
             0.8,
             "#7fbc41"
            ],
            [
             0.9,
             "#4d9221"
            ],
            [
             1,
             "#276419"
            ]
           ],
           "sequential": [
            [
             0,
             "#0d0887"
            ],
            [
             0.1111111111111111,
             "#46039f"
            ],
            [
             0.2222222222222222,
             "#7201a8"
            ],
            [
             0.3333333333333333,
             "#9c179e"
            ],
            [
             0.4444444444444444,
             "#bd3786"
            ],
            [
             0.5555555555555556,
             "#d8576b"
            ],
            [
             0.6666666666666666,
             "#ed7953"
            ],
            [
             0.7777777777777778,
             "#fb9f3a"
            ],
            [
             0.8888888888888888,
             "#fdca26"
            ],
            [
             1,
             "#f0f921"
            ]
           ],
           "sequentialminus": [
            [
             0,
             "#0d0887"
            ],
            [
             0.1111111111111111,
             "#46039f"
            ],
            [
             0.2222222222222222,
             "#7201a8"
            ],
            [
             0.3333333333333333,
             "#9c179e"
            ],
            [
             0.4444444444444444,
             "#bd3786"
            ],
            [
             0.5555555555555556,
             "#d8576b"
            ],
            [
             0.6666666666666666,
             "#ed7953"
            ],
            [
             0.7777777777777778,
             "#fb9f3a"
            ],
            [
             0.8888888888888888,
             "#fdca26"
            ],
            [
             1,
             "#f0f921"
            ]
           ]
          },
          "colorway": [
           "#636efa",
           "#EF553B",
           "#00cc96",
           "#ab63fa",
           "#FFA15A",
           "#19d3f3",
           "#FF6692",
           "#B6E880",
           "#FF97FF",
           "#FECB52"
          ],
          "font": {
           "color": "#2a3f5f"
          },
          "geo": {
           "bgcolor": "white",
           "lakecolor": "white",
           "landcolor": "#E5ECF6",
           "showlakes": true,
           "showland": true,
           "subunitcolor": "white"
          },
          "hoverlabel": {
           "align": "left"
          },
          "hovermode": "closest",
          "mapbox": {
           "style": "light"
          },
          "paper_bgcolor": "white",
          "plot_bgcolor": "#E5ECF6",
          "polar": {
           "angularaxis": {
            "gridcolor": "white",
            "linecolor": "white",
            "ticks": ""
           },
           "bgcolor": "#E5ECF6",
           "radialaxis": {
            "gridcolor": "white",
            "linecolor": "white",
            "ticks": ""
           }
          },
          "scene": {
           "xaxis": {
            "backgroundcolor": "#E5ECF6",
            "gridcolor": "white",
            "gridwidth": 2,
            "linecolor": "white",
            "showbackground": true,
            "ticks": "",
            "zerolinecolor": "white"
           },
           "yaxis": {
            "backgroundcolor": "#E5ECF6",
            "gridcolor": "white",
            "gridwidth": 2,
            "linecolor": "white",
            "showbackground": true,
            "ticks": "",
            "zerolinecolor": "white"
           },
           "zaxis": {
            "backgroundcolor": "#E5ECF6",
            "gridcolor": "white",
            "gridwidth": 2,
            "linecolor": "white",
            "showbackground": true,
            "ticks": "",
            "zerolinecolor": "white"
           }
          },
          "shapedefaults": {
           "line": {
            "color": "#2a3f5f"
           }
          },
          "ternary": {
           "aaxis": {
            "gridcolor": "white",
            "linecolor": "white",
            "ticks": ""
           },
           "baxis": {
            "gridcolor": "white",
            "linecolor": "white",
            "ticks": ""
           },
           "bgcolor": "#E5ECF6",
           "caxis": {
            "gridcolor": "white",
            "linecolor": "white",
            "ticks": ""
           }
          },
          "title": {
           "x": 0.05
          },
          "xaxis": {
           "automargin": true,
           "gridcolor": "white",
           "linecolor": "white",
           "ticks": "",
           "title": {
            "standoff": 15
           },
           "zerolinecolor": "white",
           "zerolinewidth": 2
          },
          "yaxis": {
           "automargin": true,
           "gridcolor": "white",
           "linecolor": "white",
           "ticks": "",
           "title": {
            "standoff": 15
           },
           "zerolinecolor": "white",
           "zerolinewidth": 2
          }
         }
        },
        "title": {
         "text": "prediction_time"
        },
        "yaxis": {
         "title": {
          "text": "prediction_time"
         }
        }
       }
      }
     },
     "metadata": {},
     "output_type": "display_data"
    }
   ],
   "source": [
    "make_plots('preprocess_time')\n",
    "make_plots('training_time')\n",
    "make_plots('prediction_time')"
   ]
  },
  {
   "cell_type": "code",
   "execution_count": 7,
   "metadata": {},
   "outputs": [
    {
     "data": {
      "application/vnd.plotly.v1+json": {
       "config": {
        "plotlyServerURL": "https://plot.ly"
       },
       "data": [
        {
         "name": "Full",
         "type": "box",
         "x": [
          "LogisticRegression",
          "LogisticRegression",
          "LogisticRegression",
          "LogisticRegression",
          "LogisticRegression",
          "LogisticRegression",
          "LogisticRegression",
          "LogisticRegression",
          "LogisticRegression",
          "LogisticRegression",
          "LogisticRegression",
          "LogisticRegression",
          "LogisticRegression",
          "LogisticRegression",
          "LogisticRegression",
          "LogisticRegression",
          "LogisticRegression",
          "LogisticRegression",
          "LogisticRegression",
          "LogisticRegression",
          "SVC",
          "SVC",
          "SVC",
          "SVC",
          "SVC",
          "SVC",
          "SVC",
          "SVC",
          "SVC",
          "SVC",
          "SVC",
          "SVC",
          "SVC",
          "SVC",
          "SVC",
          "SVC",
          "SVC",
          "SVC",
          "SVC",
          "SVC",
          "RandomForestClassifier",
          "RandomForestClassifier",
          "RandomForestClassifier",
          "RandomForestClassifier",
          "RandomForestClassifier",
          "RandomForestClassifier",
          "RandomForestClassifier",
          "RandomForestClassifier",
          "RandomForestClassifier",
          "RandomForestClassifier",
          "RandomForestClassifier",
          "RandomForestClassifier",
          "RandomForestClassifier",
          "RandomForestClassifier",
          "RandomForestClassifier",
          "RandomForestClassifier",
          "RandomForestClassifier",
          "RandomForestClassifier",
          "RandomForestClassifier",
          "RandomForestClassifier",
          "GradientBoostingClassifier",
          "GradientBoostingClassifier",
          "GradientBoostingClassifier",
          "GradientBoostingClassifier",
          "GradientBoostingClassifier",
          "GradientBoostingClassifier",
          "GradientBoostingClassifier",
          "GradientBoostingClassifier",
          "GradientBoostingClassifier",
          "GradientBoostingClassifier",
          "GradientBoostingClassifier",
          "GradientBoostingClassifier",
          "GradientBoostingClassifier",
          "GradientBoostingClassifier",
          "GradientBoostingClassifier",
          "GradientBoostingClassifier",
          "GradientBoostingClassifier",
          "GradientBoostingClassifier",
          "GradientBoostingClassifier",
          "GradientBoostingClassifier",
          "DeepNeuralNetwork",
          "DeepNeuralNetwork",
          "DeepNeuralNetwork",
          "DeepNeuralNetwork",
          "DeepNeuralNetwork",
          "DeepNeuralNetwork",
          "DeepNeuralNetwork",
          "DeepNeuralNetwork",
          "DeepNeuralNetwork",
          "DeepNeuralNetwork",
          "DeepNeuralNetwork",
          "DeepNeuralNetwork",
          "DeepNeuralNetwork",
          "DeepNeuralNetwork",
          "DeepNeuralNetwork",
          "DeepNeuralNetwork",
          "DeepNeuralNetwork",
          "DeepNeuralNetwork",
          "DeepNeuralNetwork",
          "DeepNeuralNetwork"
         ],
         "y": [
          1617,
          1617,
          1617,
          1617,
          1617,
          1617,
          1617,
          1617,
          1617,
          1617,
          1617,
          1617,
          1617,
          1617,
          1617,
          1617,
          1617,
          1617,
          1617,
          1617,
          12198,
          11730,
          11106,
          12094,
          11938,
          11678,
          11158,
          11210,
          11886,
          11210,
          11418,
          10742,
          11886,
          11834,
          11834,
          10846,
          11054,
          11834,
          11418,
          11678,
          2508,
          2508,
          2508,
          2508,
          2508,
          2508,
          2508,
          2508,
          2508,
          2508,
          2508,
          2508,
          2508,
          2508,
          2508,
          2508,
          2508,
          2508,
          2508,
          2508,
          3733,
          3733,
          3733,
          3733,
          3733,
          3733,
          3733,
          3733,
          3733,
          3733,
          3733,
          3733,
          3733,
          3733,
          3733,
          3733,
          3733,
          3733,
          3733,
          3733,
          6518,
          6520,
          6520,
          6520,
          6520,
          6520,
          6520,
          6520,
          6520,
          6520,
          6521,
          6521,
          6521,
          6521,
          6521,
          6521,
          6521,
          6521,
          6521,
          6521
         ]
        },
        {
         "name": "FR",
         "type": "box",
         "x": [
          "LogisticRegression",
          "LogisticRegression",
          "LogisticRegression",
          "LogisticRegression",
          "LogisticRegression",
          "LogisticRegression",
          "LogisticRegression",
          "LogisticRegression",
          "LogisticRegression",
          "LogisticRegression",
          "LogisticRegression",
          "LogisticRegression",
          "LogisticRegression",
          "LogisticRegression",
          "LogisticRegression",
          "LogisticRegression",
          "LogisticRegression",
          "LogisticRegression",
          "LogisticRegression",
          "LogisticRegression",
          "SVC",
          "SVC",
          "SVC",
          "SVC",
          "SVC",
          "SVC",
          "SVC",
          "SVC",
          "SVC",
          "SVC",
          "SVC",
          "SVC",
          "SVC",
          "SVC",
          "SVC",
          "SVC",
          "SVC",
          "SVC",
          "SVC",
          "SVC",
          "RandomForestClassifier",
          "RandomForestClassifier",
          "RandomForestClassifier",
          "RandomForestClassifier",
          "RandomForestClassifier",
          "RandomForestClassifier",
          "RandomForestClassifier",
          "RandomForestClassifier",
          "RandomForestClassifier",
          "RandomForestClassifier",
          "RandomForestClassifier",
          "RandomForestClassifier",
          "RandomForestClassifier",
          "RandomForestClassifier",
          "RandomForestClassifier",
          "RandomForestClassifier",
          "RandomForestClassifier",
          "RandomForestClassifier",
          "RandomForestClassifier",
          "RandomForestClassifier",
          "GradientBoostingClassifier",
          "GradientBoostingClassifier",
          "GradientBoostingClassifier",
          "GradientBoostingClassifier",
          "GradientBoostingClassifier",
          "GradientBoostingClassifier",
          "GradientBoostingClassifier",
          "GradientBoostingClassifier",
          "GradientBoostingClassifier",
          "GradientBoostingClassifier",
          "GradientBoostingClassifier",
          "GradientBoostingClassifier",
          "GradientBoostingClassifier",
          "GradientBoostingClassifier",
          "GradientBoostingClassifier",
          "GradientBoostingClassifier",
          "GradientBoostingClassifier",
          "GradientBoostingClassifier",
          "GradientBoostingClassifier",
          "GradientBoostingClassifier",
          "DeepNeuralNetwork",
          "DeepNeuralNetwork",
          "DeepNeuralNetwork",
          "DeepNeuralNetwork",
          "DeepNeuralNetwork",
          "DeepNeuralNetwork",
          "DeepNeuralNetwork",
          "DeepNeuralNetwork",
          "DeepNeuralNetwork",
          "DeepNeuralNetwork",
          "DeepNeuralNetwork",
          "DeepNeuralNetwork",
          "DeepNeuralNetwork",
          "DeepNeuralNetwork",
          "DeepNeuralNetwork",
          "DeepNeuralNetwork",
          "DeepNeuralNetwork",
          "DeepNeuralNetwork",
          "DeepNeuralNetwork",
          "DeepNeuralNetwork"
         ],
         "y": [
          1617,
          1617,
          1617,
          1617,
          1617,
          1617,
          1617,
          1617,
          1617,
          1617,
          1617,
          1617,
          1617,
          1617,
          1617,
          1617,
          1617,
          1617,
          1617,
          1617,
          11678,
          11678,
          11626,
          11262,
          10638,
          12302,
          11418,
          11938,
          11262,
          11262,
          11782,
          12510,
          11574,
          11158,
          12094,
          12198,
          11366,
          11678,
          11158,
          11990,
          2508,
          2508,
          2508,
          2508,
          2508,
          2508,
          2508,
          2508,
          2508,
          2508,
          2508,
          2508,
          2508,
          2508,
          2508,
          2508,
          2508,
          2508,
          2508,
          2508,
          3733,
          3733,
          3733,
          3733,
          3733,
          3733,
          3733,
          3733,
          3733,
          3733,
          3733,
          3733,
          3733,
          3733,
          3733,
          3733,
          3733,
          3733,
          3733,
          3733,
          6521,
          6521,
          6521,
          6521,
          6521,
          6521,
          6521,
          6521,
          6521,
          6521,
          6521,
          6521,
          6521,
          6521,
          6521,
          6521,
          6521,
          6521,
          6521,
          6521
         ]
        },
        {
         "name": "SS",
         "type": "box",
         "x": [
          "LogisticRegression",
          "LogisticRegression",
          "LogisticRegression",
          "LogisticRegression",
          "LogisticRegression",
          "LogisticRegression",
          "LogisticRegression",
          "LogisticRegression",
          "LogisticRegression",
          "LogisticRegression",
          "LogisticRegression",
          "LogisticRegression",
          "LogisticRegression",
          "LogisticRegression",
          "LogisticRegression",
          "LogisticRegression",
          "LogisticRegression",
          "LogisticRegression",
          "LogisticRegression",
          "LogisticRegression",
          "SVC",
          "SVC",
          "SVC",
          "SVC",
          "SVC",
          "SVC",
          "SVC",
          "SVC",
          "SVC",
          "SVC",
          "SVC",
          "SVC",
          "SVC",
          "SVC",
          "SVC",
          "SVC",
          "SVC",
          "SVC",
          "SVC",
          "SVC",
          "RandomForestClassifier",
          "RandomForestClassifier",
          "RandomForestClassifier",
          "RandomForestClassifier",
          "RandomForestClassifier",
          "RandomForestClassifier",
          "RandomForestClassifier",
          "RandomForestClassifier",
          "RandomForestClassifier",
          "RandomForestClassifier",
          "RandomForestClassifier",
          "RandomForestClassifier",
          "RandomForestClassifier",
          "RandomForestClassifier",
          "RandomForestClassifier",
          "RandomForestClassifier",
          "RandomForestClassifier",
          "RandomForestClassifier",
          "RandomForestClassifier",
          "RandomForestClassifier",
          "GradientBoostingClassifier",
          "GradientBoostingClassifier",
          "GradientBoostingClassifier",
          "GradientBoostingClassifier",
          "GradientBoostingClassifier",
          "GradientBoostingClassifier",
          "GradientBoostingClassifier",
          "GradientBoostingClassifier",
          "GradientBoostingClassifier",
          "GradientBoostingClassifier",
          "GradientBoostingClassifier",
          "GradientBoostingClassifier",
          "GradientBoostingClassifier",
          "GradientBoostingClassifier",
          "GradientBoostingClassifier",
          "GradientBoostingClassifier",
          "GradientBoostingClassifier",
          "GradientBoostingClassifier",
          "GradientBoostingClassifier",
          "GradientBoostingClassifier",
          "DeepNeuralNetwork",
          "DeepNeuralNetwork",
          "DeepNeuralNetwork",
          "DeepNeuralNetwork",
          "DeepNeuralNetwork",
          "DeepNeuralNetwork",
          "DeepNeuralNetwork",
          "DeepNeuralNetwork",
          "DeepNeuralNetwork",
          "DeepNeuralNetwork",
          "DeepNeuralNetwork",
          "DeepNeuralNetwork",
          "DeepNeuralNetwork",
          "DeepNeuralNetwork",
          "DeepNeuralNetwork",
          "DeepNeuralNetwork",
          "DeepNeuralNetwork",
          "DeepNeuralNetwork",
          "DeepNeuralNetwork",
          "DeepNeuralNetwork"
         ],
         "y": [
          1617,
          1617,
          1617,
          1617,
          1617,
          1617,
          1617,
          1617,
          1617,
          1617,
          1617,
          1617,
          1617,
          1617,
          1617,
          1617,
          1617,
          1617,
          1617,
          1617,
          11990,
          11574,
          11730,
          11158,
          11470,
          12094,
          11418,
          11886,
          11834,
          11886,
          11574,
          11522,
          10846,
          11678,
          11574,
          11366,
          11834,
          12510,
          10170,
          11782,
          2508,
          2508,
          2508,
          2508,
          2508,
          2508,
          2508,
          2508,
          2508,
          2508,
          2508,
          2508,
          2508,
          2508,
          2508,
          2508,
          2508,
          2508,
          2508,
          2508,
          3733,
          3733,
          3733,
          3733,
          3733,
          3733,
          3733,
          3733,
          3733,
          3733,
          3733,
          3733,
          3733,
          3733,
          3733,
          3733,
          3733,
          3733,
          3733,
          3733,
          6521,
          6521,
          6521,
          6521,
          6521,
          6521,
          6521,
          6521,
          6521,
          6521,
          6521,
          6521,
          6521,
          6521,
          6521,
          6521,
          6521,
          6521,
          6521,
          6521
         ]
        },
        {
         "name": "SS & FR",
         "type": "box",
         "x": [
          "LogisticRegression",
          "LogisticRegression",
          "LogisticRegression",
          "LogisticRegression",
          "LogisticRegression",
          "LogisticRegression",
          "LogisticRegression",
          "LogisticRegression",
          "LogisticRegression",
          "LogisticRegression",
          "LogisticRegression",
          "LogisticRegression",
          "LogisticRegression",
          "LogisticRegression",
          "LogisticRegression",
          "LogisticRegression",
          "LogisticRegression",
          "LogisticRegression",
          "LogisticRegression",
          "LogisticRegression",
          "SVC",
          "SVC",
          "SVC",
          "SVC",
          "SVC",
          "SVC",
          "SVC",
          "SVC",
          "SVC",
          "SVC",
          "SVC",
          "SVC",
          "SVC",
          "SVC",
          "SVC",
          "SVC",
          "SVC",
          "SVC",
          "SVC",
          "SVC",
          "RandomForestClassifier",
          "RandomForestClassifier",
          "RandomForestClassifier",
          "RandomForestClassifier",
          "RandomForestClassifier",
          "RandomForestClassifier",
          "RandomForestClassifier",
          "RandomForestClassifier",
          "RandomForestClassifier",
          "RandomForestClassifier",
          "RandomForestClassifier",
          "RandomForestClassifier",
          "RandomForestClassifier",
          "RandomForestClassifier",
          "RandomForestClassifier",
          "RandomForestClassifier",
          "RandomForestClassifier",
          "RandomForestClassifier",
          "RandomForestClassifier",
          "RandomForestClassifier",
          "GradientBoostingClassifier",
          "GradientBoostingClassifier",
          "GradientBoostingClassifier",
          "GradientBoostingClassifier",
          "GradientBoostingClassifier",
          "GradientBoostingClassifier",
          "GradientBoostingClassifier",
          "GradientBoostingClassifier",
          "GradientBoostingClassifier",
          "GradientBoostingClassifier",
          "GradientBoostingClassifier",
          "GradientBoostingClassifier",
          "GradientBoostingClassifier",
          "GradientBoostingClassifier",
          "GradientBoostingClassifier",
          "GradientBoostingClassifier",
          "GradientBoostingClassifier",
          "GradientBoostingClassifier",
          "GradientBoostingClassifier",
          "GradientBoostingClassifier",
          "DeepNeuralNetwork",
          "DeepNeuralNetwork",
          "DeepNeuralNetwork",
          "DeepNeuralNetwork",
          "DeepNeuralNetwork",
          "DeepNeuralNetwork",
          "DeepNeuralNetwork",
          "DeepNeuralNetwork",
          "DeepNeuralNetwork",
          "DeepNeuralNetwork",
          "DeepNeuralNetwork",
          "DeepNeuralNetwork",
          "DeepNeuralNetwork",
          "DeepNeuralNetwork",
          "DeepNeuralNetwork",
          "DeepNeuralNetwork",
          "DeepNeuralNetwork",
          "DeepNeuralNetwork",
          "DeepNeuralNetwork",
          "DeepNeuralNetwork"
         ],
         "y": [
          1617,
          1617,
          1617,
          1617,
          1617,
          1617,
          1617,
          1617,
          1617,
          1617,
          1617,
          1617,
          1617,
          1617,
          1617,
          1617,
          1617,
          1617,
          1617,
          1617,
          11366,
          12250,
          10586,
          11834,
          11314,
          11418,
          11418,
          11938,
          11106,
          11366,
          11470,
          11834,
          11782,
          11990,
          12198,
          11782,
          11834,
          12406,
          11366,
          12562,
          2508,
          2508,
          2508,
          2508,
          2508,
          2508,
          2508,
          2508,
          2508,
          2508,
          2508,
          2508,
          2508,
          2508,
          2508,
          2508,
          2508,
          2508,
          2508,
          2508,
          3733,
          3733,
          3733,
          3733,
          3733,
          3733,
          3733,
          3733,
          3733,
          3733,
          3733,
          3733,
          3733,
          3733,
          3733,
          3733,
          3733,
          3733,
          3733,
          3733,
          6521,
          6521,
          6521,
          6521,
          6521,
          6521,
          6521,
          6521,
          6521,
          6521,
          6521,
          6521,
          6521,
          6521,
          6521,
          6521,
          6521,
          6521,
          6521,
          6521
         ]
        }
       ],
       "layout": {
        "boxmode": "group",
        "template": {
         "data": {
          "bar": [
           {
            "error_x": {
             "color": "#2a3f5f"
            },
            "error_y": {
             "color": "#2a3f5f"
            },
            "marker": {
             "line": {
              "color": "#E5ECF6",
              "width": 0.5
             },
             "pattern": {
              "fillmode": "overlay",
              "size": 10,
              "solidity": 0.2
             }
            },
            "type": "bar"
           }
          ],
          "barpolar": [
           {
            "marker": {
             "line": {
              "color": "#E5ECF6",
              "width": 0.5
             },
             "pattern": {
              "fillmode": "overlay",
              "size": 10,
              "solidity": 0.2
             }
            },
            "type": "barpolar"
           }
          ],
          "carpet": [
           {
            "aaxis": {
             "endlinecolor": "#2a3f5f",
             "gridcolor": "white",
             "linecolor": "white",
             "minorgridcolor": "white",
             "startlinecolor": "#2a3f5f"
            },
            "baxis": {
             "endlinecolor": "#2a3f5f",
             "gridcolor": "white",
             "linecolor": "white",
             "minorgridcolor": "white",
             "startlinecolor": "#2a3f5f"
            },
            "type": "carpet"
           }
          ],
          "choropleth": [
           {
            "colorbar": {
             "outlinewidth": 0,
             "ticks": ""
            },
            "type": "choropleth"
           }
          ],
          "contour": [
           {
            "colorbar": {
             "outlinewidth": 0,
             "ticks": ""
            },
            "colorscale": [
             [
              0,
              "#0d0887"
             ],
             [
              0.1111111111111111,
              "#46039f"
             ],
             [
              0.2222222222222222,
              "#7201a8"
             ],
             [
              0.3333333333333333,
              "#9c179e"
             ],
             [
              0.4444444444444444,
              "#bd3786"
             ],
             [
              0.5555555555555556,
              "#d8576b"
             ],
             [
              0.6666666666666666,
              "#ed7953"
             ],
             [
              0.7777777777777778,
              "#fb9f3a"
             ],
             [
              0.8888888888888888,
              "#fdca26"
             ],
             [
              1,
              "#f0f921"
             ]
            ],
            "type": "contour"
           }
          ],
          "contourcarpet": [
           {
            "colorbar": {
             "outlinewidth": 0,
             "ticks": ""
            },
            "type": "contourcarpet"
           }
          ],
          "heatmap": [
           {
            "colorbar": {
             "outlinewidth": 0,
             "ticks": ""
            },
            "colorscale": [
             [
              0,
              "#0d0887"
             ],
             [
              0.1111111111111111,
              "#46039f"
             ],
             [
              0.2222222222222222,
              "#7201a8"
             ],
             [
              0.3333333333333333,
              "#9c179e"
             ],
             [
              0.4444444444444444,
              "#bd3786"
             ],
             [
              0.5555555555555556,
              "#d8576b"
             ],
             [
              0.6666666666666666,
              "#ed7953"
             ],
             [
              0.7777777777777778,
              "#fb9f3a"
             ],
             [
              0.8888888888888888,
              "#fdca26"
             ],
             [
              1,
              "#f0f921"
             ]
            ],
            "type": "heatmap"
           }
          ],
          "heatmapgl": [
           {
            "colorbar": {
             "outlinewidth": 0,
             "ticks": ""
            },
            "colorscale": [
             [
              0,
              "#0d0887"
             ],
             [
              0.1111111111111111,
              "#46039f"
             ],
             [
              0.2222222222222222,
              "#7201a8"
             ],
             [
              0.3333333333333333,
              "#9c179e"
             ],
             [
              0.4444444444444444,
              "#bd3786"
             ],
             [
              0.5555555555555556,
              "#d8576b"
             ],
             [
              0.6666666666666666,
              "#ed7953"
             ],
             [
              0.7777777777777778,
              "#fb9f3a"
             ],
             [
              0.8888888888888888,
              "#fdca26"
             ],
             [
              1,
              "#f0f921"
             ]
            ],
            "type": "heatmapgl"
           }
          ],
          "histogram": [
           {
            "marker": {
             "pattern": {
              "fillmode": "overlay",
              "size": 10,
              "solidity": 0.2
             }
            },
            "type": "histogram"
           }
          ],
          "histogram2d": [
           {
            "colorbar": {
             "outlinewidth": 0,
             "ticks": ""
            },
            "colorscale": [
             [
              0,
              "#0d0887"
             ],
             [
              0.1111111111111111,
              "#46039f"
             ],
             [
              0.2222222222222222,
              "#7201a8"
             ],
             [
              0.3333333333333333,
              "#9c179e"
             ],
             [
              0.4444444444444444,
              "#bd3786"
             ],
             [
              0.5555555555555556,
              "#d8576b"
             ],
             [
              0.6666666666666666,
              "#ed7953"
             ],
             [
              0.7777777777777778,
              "#fb9f3a"
             ],
             [
              0.8888888888888888,
              "#fdca26"
             ],
             [
              1,
              "#f0f921"
             ]
            ],
            "type": "histogram2d"
           }
          ],
          "histogram2dcontour": [
           {
            "colorbar": {
             "outlinewidth": 0,
             "ticks": ""
            },
            "colorscale": [
             [
              0,
              "#0d0887"
             ],
             [
              0.1111111111111111,
              "#46039f"
             ],
             [
              0.2222222222222222,
              "#7201a8"
             ],
             [
              0.3333333333333333,
              "#9c179e"
             ],
             [
              0.4444444444444444,
              "#bd3786"
             ],
             [
              0.5555555555555556,
              "#d8576b"
             ],
             [
              0.6666666666666666,
              "#ed7953"
             ],
             [
              0.7777777777777778,
              "#fb9f3a"
             ],
             [
              0.8888888888888888,
              "#fdca26"
             ],
             [
              1,
              "#f0f921"
             ]
            ],
            "type": "histogram2dcontour"
           }
          ],
          "mesh3d": [
           {
            "colorbar": {
             "outlinewidth": 0,
             "ticks": ""
            },
            "type": "mesh3d"
           }
          ],
          "parcoords": [
           {
            "line": {
             "colorbar": {
              "outlinewidth": 0,
              "ticks": ""
             }
            },
            "type": "parcoords"
           }
          ],
          "pie": [
           {
            "automargin": true,
            "type": "pie"
           }
          ],
          "scatter": [
           {
            "fillpattern": {
             "fillmode": "overlay",
             "size": 10,
             "solidity": 0.2
            },
            "type": "scatter"
           }
          ],
          "scatter3d": [
           {
            "line": {
             "colorbar": {
              "outlinewidth": 0,
              "ticks": ""
             }
            },
            "marker": {
             "colorbar": {
              "outlinewidth": 0,
              "ticks": ""
             }
            },
            "type": "scatter3d"
           }
          ],
          "scattercarpet": [
           {
            "marker": {
             "colorbar": {
              "outlinewidth": 0,
              "ticks": ""
             }
            },
            "type": "scattercarpet"
           }
          ],
          "scattergeo": [
           {
            "marker": {
             "colorbar": {
              "outlinewidth": 0,
              "ticks": ""
             }
            },
            "type": "scattergeo"
           }
          ],
          "scattergl": [
           {
            "marker": {
             "colorbar": {
              "outlinewidth": 0,
              "ticks": ""
             }
            },
            "type": "scattergl"
           }
          ],
          "scattermapbox": [
           {
            "marker": {
             "colorbar": {
              "outlinewidth": 0,
              "ticks": ""
             }
            },
            "type": "scattermapbox"
           }
          ],
          "scatterpolar": [
           {
            "marker": {
             "colorbar": {
              "outlinewidth": 0,
              "ticks": ""
             }
            },
            "type": "scatterpolar"
           }
          ],
          "scatterpolargl": [
           {
            "marker": {
             "colorbar": {
              "outlinewidth": 0,
              "ticks": ""
             }
            },
            "type": "scatterpolargl"
           }
          ],
          "scatterternary": [
           {
            "marker": {
             "colorbar": {
              "outlinewidth": 0,
              "ticks": ""
             }
            },
            "type": "scatterternary"
           }
          ],
          "surface": [
           {
            "colorbar": {
             "outlinewidth": 0,
             "ticks": ""
            },
            "colorscale": [
             [
              0,
              "#0d0887"
             ],
             [
              0.1111111111111111,
              "#46039f"
             ],
             [
              0.2222222222222222,
              "#7201a8"
             ],
             [
              0.3333333333333333,
              "#9c179e"
             ],
             [
              0.4444444444444444,
              "#bd3786"
             ],
             [
              0.5555555555555556,
              "#d8576b"
             ],
             [
              0.6666666666666666,
              "#ed7953"
             ],
             [
              0.7777777777777778,
              "#fb9f3a"
             ],
             [
              0.8888888888888888,
              "#fdca26"
             ],
             [
              1,
              "#f0f921"
             ]
            ],
            "type": "surface"
           }
          ],
          "table": [
           {
            "cells": {
             "fill": {
              "color": "#EBF0F8"
             },
             "line": {
              "color": "white"
             }
            },
            "header": {
             "fill": {
              "color": "#C8D4E3"
             },
             "line": {
              "color": "white"
             }
            },
            "type": "table"
           }
          ]
         },
         "layout": {
          "annotationdefaults": {
           "arrowcolor": "#2a3f5f",
           "arrowhead": 0,
           "arrowwidth": 1
          },
          "autotypenumbers": "strict",
          "coloraxis": {
           "colorbar": {
            "outlinewidth": 0,
            "ticks": ""
           }
          },
          "colorscale": {
           "diverging": [
            [
             0,
             "#8e0152"
            ],
            [
             0.1,
             "#c51b7d"
            ],
            [
             0.2,
             "#de77ae"
            ],
            [
             0.3,
             "#f1b6da"
            ],
            [
             0.4,
             "#fde0ef"
            ],
            [
             0.5,
             "#f7f7f7"
            ],
            [
             0.6,
             "#e6f5d0"
            ],
            [
             0.7,
             "#b8e186"
            ],
            [
             0.8,
             "#7fbc41"
            ],
            [
             0.9,
             "#4d9221"
            ],
            [
             1,
             "#276419"
            ]
           ],
           "sequential": [
            [
             0,
             "#0d0887"
            ],
            [
             0.1111111111111111,
             "#46039f"
            ],
            [
             0.2222222222222222,
             "#7201a8"
            ],
            [
             0.3333333333333333,
             "#9c179e"
            ],
            [
             0.4444444444444444,
             "#bd3786"
            ],
            [
             0.5555555555555556,
             "#d8576b"
            ],
            [
             0.6666666666666666,
             "#ed7953"
            ],
            [
             0.7777777777777778,
             "#fb9f3a"
            ],
            [
             0.8888888888888888,
             "#fdca26"
            ],
            [
             1,
             "#f0f921"
            ]
           ],
           "sequentialminus": [
            [
             0,
             "#0d0887"
            ],
            [
             0.1111111111111111,
             "#46039f"
            ],
            [
             0.2222222222222222,
             "#7201a8"
            ],
            [
             0.3333333333333333,
             "#9c179e"
            ],
            [
             0.4444444444444444,
             "#bd3786"
            ],
            [
             0.5555555555555556,
             "#d8576b"
            ],
            [
             0.6666666666666666,
             "#ed7953"
            ],
            [
             0.7777777777777778,
             "#fb9f3a"
            ],
            [
             0.8888888888888888,
             "#fdca26"
            ],
            [
             1,
             "#f0f921"
            ]
           ]
          },
          "colorway": [
           "#636efa",
           "#EF553B",
           "#00cc96",
           "#ab63fa",
           "#FFA15A",
           "#19d3f3",
           "#FF6692",
           "#B6E880",
           "#FF97FF",
           "#FECB52"
          ],
          "font": {
           "color": "#2a3f5f"
          },
          "geo": {
           "bgcolor": "white",
           "lakecolor": "white",
           "landcolor": "#E5ECF6",
           "showlakes": true,
           "showland": true,
           "subunitcolor": "white"
          },
          "hoverlabel": {
           "align": "left"
          },
          "hovermode": "closest",
          "mapbox": {
           "style": "light"
          },
          "paper_bgcolor": "white",
          "plot_bgcolor": "#E5ECF6",
          "polar": {
           "angularaxis": {
            "gridcolor": "white",
            "linecolor": "white",
            "ticks": ""
           },
           "bgcolor": "#E5ECF6",
           "radialaxis": {
            "gridcolor": "white",
            "linecolor": "white",
            "ticks": ""
           }
          },
          "scene": {
           "xaxis": {
            "backgroundcolor": "#E5ECF6",
            "gridcolor": "white",
            "gridwidth": 2,
            "linecolor": "white",
            "showbackground": true,
            "ticks": "",
            "zerolinecolor": "white"
           },
           "yaxis": {
            "backgroundcolor": "#E5ECF6",
            "gridcolor": "white",
            "gridwidth": 2,
            "linecolor": "white",
            "showbackground": true,
            "ticks": "",
            "zerolinecolor": "white"
           },
           "zaxis": {
            "backgroundcolor": "#E5ECF6",
            "gridcolor": "white",
            "gridwidth": 2,
            "linecolor": "white",
            "showbackground": true,
            "ticks": "",
            "zerolinecolor": "white"
           }
          },
          "shapedefaults": {
           "line": {
            "color": "#2a3f5f"
           }
          },
          "ternary": {
           "aaxis": {
            "gridcolor": "white",
            "linecolor": "white",
            "ticks": ""
           },
           "baxis": {
            "gridcolor": "white",
            "linecolor": "white",
            "ticks": ""
           },
           "bgcolor": "#E5ECF6",
           "caxis": {
            "gridcolor": "white",
            "linecolor": "white",
            "ticks": ""
           }
          },
          "title": {
           "x": 0.05
          },
          "xaxis": {
           "automargin": true,
           "gridcolor": "white",
           "linecolor": "white",
           "ticks": "",
           "title": {
            "standoff": 15
           },
           "zerolinecolor": "white",
           "zerolinewidth": 2
          },
          "yaxis": {
           "automargin": true,
           "gridcolor": "white",
           "linecolor": "white",
           "ticks": "",
           "title": {
            "standoff": 15
           },
           "zerolinecolor": "white",
           "zerolinewidth": 2
          }
         }
        },
        "title": {
         "text": "model_size"
        },
        "yaxis": {
         "title": {
          "text": "model_size"
         }
        }
       }
      }
     },
     "metadata": {},
     "output_type": "display_data"
    }
   ],
   "source": [
    "make_plots('model_size')"
   ]
  },
  {
   "cell_type": "code",
   "execution_count": 8,
   "metadata": {},
   "outputs": [
    {
     "data": {
      "application/vnd.plotly.v1+json": {
       "config": {
        "plotlyServerURL": "https://plot.ly"
       },
       "data": [
        {
         "name": "Full",
         "type": "box",
         "x": [
          "LogisticRegression",
          "LogisticRegression",
          "LogisticRegression",
          "LogisticRegression",
          "LogisticRegression",
          "LogisticRegression",
          "LogisticRegression",
          "LogisticRegression",
          "LogisticRegression",
          "LogisticRegression",
          "LogisticRegression",
          "LogisticRegression",
          "LogisticRegression",
          "LogisticRegression",
          "LogisticRegression",
          "LogisticRegression",
          "LogisticRegression",
          "LogisticRegression",
          "LogisticRegression",
          "LogisticRegression",
          "SVC",
          "SVC",
          "SVC",
          "SVC",
          "SVC",
          "SVC",
          "SVC",
          "SVC",
          "SVC",
          "SVC",
          "SVC",
          "SVC",
          "SVC",
          "SVC",
          "SVC",
          "SVC",
          "SVC",
          "SVC",
          "SVC",
          "SVC",
          "RandomForestClassifier",
          "RandomForestClassifier",
          "RandomForestClassifier",
          "RandomForestClassifier",
          "RandomForestClassifier",
          "RandomForestClassifier",
          "RandomForestClassifier",
          "RandomForestClassifier",
          "RandomForestClassifier",
          "RandomForestClassifier",
          "RandomForestClassifier",
          "RandomForestClassifier",
          "RandomForestClassifier",
          "RandomForestClassifier",
          "RandomForestClassifier",
          "RandomForestClassifier",
          "RandomForestClassifier",
          "RandomForestClassifier",
          "RandomForestClassifier",
          "RandomForestClassifier",
          "GradientBoostingClassifier",
          "GradientBoostingClassifier",
          "GradientBoostingClassifier",
          "GradientBoostingClassifier",
          "GradientBoostingClassifier",
          "GradientBoostingClassifier",
          "GradientBoostingClassifier",
          "GradientBoostingClassifier",
          "GradientBoostingClassifier",
          "GradientBoostingClassifier",
          "GradientBoostingClassifier",
          "GradientBoostingClassifier",
          "GradientBoostingClassifier",
          "GradientBoostingClassifier",
          "GradientBoostingClassifier",
          "GradientBoostingClassifier",
          "GradientBoostingClassifier",
          "GradientBoostingClassifier",
          "GradientBoostingClassifier",
          "GradientBoostingClassifier",
          "DeepNeuralNetwork",
          "DeepNeuralNetwork",
          "DeepNeuralNetwork",
          "DeepNeuralNetwork",
          "DeepNeuralNetwork",
          "DeepNeuralNetwork",
          "DeepNeuralNetwork",
          "DeepNeuralNetwork",
          "DeepNeuralNetwork",
          "DeepNeuralNetwork",
          "DeepNeuralNetwork",
          "DeepNeuralNetwork",
          "DeepNeuralNetwork",
          "DeepNeuralNetwork",
          "DeepNeuralNetwork",
          "DeepNeuralNetwork",
          "DeepNeuralNetwork",
          "DeepNeuralNetwork",
          "DeepNeuralNetwork",
          "DeepNeuralNetwork"
         ],
         "y": [
          2.3734050061440323e-7,
          3.400873819611912e-7,
          3.7505316291324906e-7,
          4.893350145367299e-7,
          4.229349271503771e-7,
          3.260893230955069e-7,
          2.796953773470147e-7,
          6.58525777196689e-7,
          2.1834222527520805e-7,
          8.207897318518627e-7,
          2.901333919442043e-7,
          5.340151366982696e-7,
          5.110826444545621e-7,
          3.873812484196833e-7,
          7.145673196484736e-7,
          1.9843233416919764e-7,
          4.3883573061682956e-7,
          4.950663835155342e-7,
          4.4929020590793803e-7,
          8.952968524604706e-7,
          3.383804270124923e-7,
          2.69937397413822e-7,
          3.336627772366693e-7,
          2.098613121686525e-7,
          3.4090067260132e-7,
          2.2391874090316698e-7,
          2.549353516989681e-7,
          2.0447342250818658e-7,
          4.509276149266412e-7,
          2.033065591140835e-7,
          4.737434880475698e-7,
          3.863412276993144e-7,
          1.9869183072538518e-7,
          8.025258329737855e-7,
          2.319090767815765e-7,
          5.500612170520301e-7,
          2.3724866710355538e-7,
          4.86751928055907e-7,
          6.414860029848278e-7,
          4.755901071382823e-7,
          1.9473618135439427e-7,
          2.1246863827584055e-7,
          2.642672297986561e-7,
          3.353982250980416e-7,
          4.5932566500469206e-7,
          2.3501649248805321e-7,
          2.027325676813574e-7,
          1.8929675828856414e-7,
          2.2215337269607986e-7,
          7.153364103066034e-7,
          2.464984939654774e-7,
          4.890811925520322e-7,
          2.0627709017024406e-7,
          1.971643871995568e-7,
          3.378015024421005e-7,
          2.032996244301366e-7,
          1.894073312692403e-7,
          2.1917222281899254e-7,
          2.319144976128951e-7,
          3.488244861768724e-7,
          2.2374854623100938e-7,
          2.027377750098494e-7,
          4.114405447223045e-7,
          2.4350590599768115e-7,
          2.35025097559136e-7,
          3.681645744685758e-7,
          2.3581113294955834e-7,
          2.3688258308520414e-7,
          2.284039722902018e-7,
          1.8952251966495445e-7,
          2.616593479591416e-7,
          2.92945360703175e-7,
          2.3132164943154117e-7,
          2.960268297442625e-7,
          2.713913327431587e-7,
          3.069426564418845e-7,
          2.885322765038868e-7,
          3.931839081528204e-7,
          3.748827380892564e-7,
          2.622460381998017e-7,
          2.4162497294211e-7,
          2.538857805086669e-7,
          2.533134183477722e-7,
          2.2217686264216566e-7,
          2.593678603738612e-7,
          2.313271683463748e-7,
          2.5077222419683885e-7,
          2.313161146635305e-7,
          3.134563384068361e-7,
          2.6266364322206025e-7,
          1.6820789792857058e-7,
          2.2906829252200165e-7,
          2.021499711779009e-7,
          2.209992982667695e-7,
          2.0321863272124586e-7,
          2.1789550965899566e-7,
          1.9786457349950165e-7,
          1.8884803364702717e-7,
          2.257495880993469e-7,
          2.2008335075359401e-7
         ]
        },
        {
         "name": "FR",
         "type": "box",
         "x": [
          "LogisticRegression",
          "LogisticRegression",
          "LogisticRegression",
          "LogisticRegression",
          "LogisticRegression",
          "LogisticRegression",
          "LogisticRegression",
          "LogisticRegression",
          "LogisticRegression",
          "LogisticRegression",
          "LogisticRegression",
          "LogisticRegression",
          "LogisticRegression",
          "LogisticRegression",
          "LogisticRegression",
          "LogisticRegression",
          "LogisticRegression",
          "LogisticRegression",
          "LogisticRegression",
          "LogisticRegression",
          "SVC",
          "SVC",
          "SVC",
          "SVC",
          "SVC",
          "SVC",
          "SVC",
          "SVC",
          "SVC",
          "SVC",
          "SVC",
          "SVC",
          "SVC",
          "SVC",
          "SVC",
          "SVC",
          "SVC",
          "SVC",
          "SVC",
          "SVC",
          "RandomForestClassifier",
          "RandomForestClassifier",
          "RandomForestClassifier",
          "RandomForestClassifier",
          "RandomForestClassifier",
          "RandomForestClassifier",
          "RandomForestClassifier",
          "RandomForestClassifier",
          "RandomForestClassifier",
          "RandomForestClassifier",
          "RandomForestClassifier",
          "RandomForestClassifier",
          "RandomForestClassifier",
          "RandomForestClassifier",
          "RandomForestClassifier",
          "RandomForestClassifier",
          "RandomForestClassifier",
          "RandomForestClassifier",
          "RandomForestClassifier",
          "RandomForestClassifier",
          "GradientBoostingClassifier",
          "GradientBoostingClassifier",
          "GradientBoostingClassifier",
          "GradientBoostingClassifier",
          "GradientBoostingClassifier",
          "GradientBoostingClassifier",
          "GradientBoostingClassifier",
          "GradientBoostingClassifier",
          "GradientBoostingClassifier",
          "GradientBoostingClassifier",
          "GradientBoostingClassifier",
          "GradientBoostingClassifier",
          "GradientBoostingClassifier",
          "GradientBoostingClassifier",
          "GradientBoostingClassifier",
          "GradientBoostingClassifier",
          "GradientBoostingClassifier",
          "GradientBoostingClassifier",
          "GradientBoostingClassifier",
          "GradientBoostingClassifier",
          "DeepNeuralNetwork",
          "DeepNeuralNetwork",
          "DeepNeuralNetwork",
          "DeepNeuralNetwork",
          "DeepNeuralNetwork",
          "DeepNeuralNetwork",
          "DeepNeuralNetwork",
          "DeepNeuralNetwork",
          "DeepNeuralNetwork",
          "DeepNeuralNetwork",
          "DeepNeuralNetwork",
          "DeepNeuralNetwork",
          "DeepNeuralNetwork",
          "DeepNeuralNetwork",
          "DeepNeuralNetwork",
          "DeepNeuralNetwork",
          "DeepNeuralNetwork",
          "DeepNeuralNetwork",
          "DeepNeuralNetwork",
          "DeepNeuralNetwork"
         ],
         "y": [
          4.430176079629755e-7,
          4.373265163728005e-7,
          2.852740599171636e-7,
          5.845253899729348e-7,
          2.599186813734451e-7,
          3.4820227822222535e-7,
          3.648248745806264e-7,
          3.394396782372029e-7,
          3.7489210739146555e-7,
          3.087036978370594e-7,
          6.624471591280996e-7,
          4.7222885569226877e-7,
          4.5928311531977933e-7,
          6.763131745754838e-7,
          5.903754436036891e-7,
          8.993858347508196e-7,
          3.514042424541779e-7,
          3.212807473764769e-7,
          5.29326998516353e-7,
          4.0790390077108396e-7,
          2.284538945553083e-7,
          3.383327740395619e-7,
          2.033237884503138e-7,
          5.591321945068797e-7,
          2.4537276855545256e-7,
          4.7131786183639626e-7,
          2.287006267915129e-7,
          3.856363667504095e-7,
          3.358523630219226e-7,
          9.317491441820404e-7,
          2.696413160499685e-7,
          5.759536833987999e-7,
          2.551355591348843e-7,
          3.480383456997208e-7,
          5.75948141389674e-7,
          4.572341020226377e-7,
          2.2277318138764698e-7,
          3.146375626220111e-7,
          2.373606418598455e-7,
          2.821807788488083e-7,
          2.030558612800635e-7,
          2.2591411366840522e-7,
          2.081649168642584e-7,
          2.1422662787738865e-7,
          1.9994906792124642e-7,
          2.078548322738752e-7,
          2.0535176363826665e-7,
          2.2669388390463357e-7,
          2.081790646298997e-7,
          1.965456554293109e-7,
          3.2624382678508e-7,
          4.06066582675892e-7,
          2.684696708507052e-7,
          3.820835940190198e-7,
          2.4262200215281575e-7,
          4.875359359063011e-7,
          2.4220840463937306e-7,
          2.022400288083891e-7,
          4.018830979380089e-7,
          2.1957888671230759e-7,
          2.998321717163476e-7,
          2.3617340786405254e-7,
          3.425685086561308e-7,
          3.507193208239154e-7,
          1.8559860764629304e-7,
          2.173020809020151e-7,
          2.556416103679203e-7,
          4.88828681343258e-7,
          2.4163180954240096e-7,
          3.583408340168248e-7,
          3.048587331748627e-7,
          3.0395673205891975e-7,
          3.470264306896023e-7,
          2.699089800190825e-7,
          2.7196881207552405e-7,
          2.806467280789312e-7,
          3.891960728519099e-7,
          3.134253367107799e-7,
          2.825173549348206e-7,
          3.3002315900356946e-7,
          2.0330623167445641e-7,
          2.005289355557329e-7,
          2.0756465150692733e-7,
          2.0847707000537597e-7,
          2.2039206231148437e-7,
          2.951316773216442e-7,
          1.956630128882239e-7,
          2.0395832242163297e-7,
          2.29008014847223e-7,
          2.1493202863602685e-7,
          1.8441630258119035e-7,
          1.978576467423195e-7,
          2.917659020647799e-7,
          1.9846088580052597e-7,
          3.062397613331223e-7,
          2.089464649100486e-7,
          2.0756902364201402e-7,
          2.324854425229516e-7,
          2.0758823161034625e-7,
          2.1242840482623915e-7
         ]
        },
        {
         "name": "SS",
         "type": "box",
         "x": [
          "LogisticRegression",
          "LogisticRegression",
          "LogisticRegression",
          "LogisticRegression",
          "LogisticRegression",
          "LogisticRegression",
          "LogisticRegression",
          "LogisticRegression",
          "LogisticRegression",
          "LogisticRegression",
          "LogisticRegression",
          "LogisticRegression",
          "LogisticRegression",
          "LogisticRegression",
          "LogisticRegression",
          "LogisticRegression",
          "LogisticRegression",
          "LogisticRegression",
          "LogisticRegression",
          "LogisticRegression",
          "SVC",
          "SVC",
          "SVC",
          "SVC",
          "SVC",
          "SVC",
          "SVC",
          "SVC",
          "SVC",
          "SVC",
          "SVC",
          "SVC",
          "SVC",
          "SVC",
          "SVC",
          "SVC",
          "SVC",
          "SVC",
          "SVC",
          "SVC",
          "RandomForestClassifier",
          "RandomForestClassifier",
          "RandomForestClassifier",
          "RandomForestClassifier",
          "RandomForestClassifier",
          "RandomForestClassifier",
          "RandomForestClassifier",
          "RandomForestClassifier",
          "RandomForestClassifier",
          "RandomForestClassifier",
          "RandomForestClassifier",
          "RandomForestClassifier",
          "RandomForestClassifier",
          "RandomForestClassifier",
          "RandomForestClassifier",
          "RandomForestClassifier",
          "RandomForestClassifier",
          "RandomForestClassifier",
          "RandomForestClassifier",
          "RandomForestClassifier",
          "GradientBoostingClassifier",
          "GradientBoostingClassifier",
          "GradientBoostingClassifier",
          "GradientBoostingClassifier",
          "GradientBoostingClassifier",
          "GradientBoostingClassifier",
          "GradientBoostingClassifier",
          "GradientBoostingClassifier",
          "GradientBoostingClassifier",
          "GradientBoostingClassifier",
          "GradientBoostingClassifier",
          "GradientBoostingClassifier",
          "GradientBoostingClassifier",
          "GradientBoostingClassifier",
          "GradientBoostingClassifier",
          "GradientBoostingClassifier",
          "GradientBoostingClassifier",
          "GradientBoostingClassifier",
          "GradientBoostingClassifier",
          "GradientBoostingClassifier",
          "DeepNeuralNetwork",
          "DeepNeuralNetwork",
          "DeepNeuralNetwork",
          "DeepNeuralNetwork",
          "DeepNeuralNetwork",
          "DeepNeuralNetwork",
          "DeepNeuralNetwork",
          "DeepNeuralNetwork",
          "DeepNeuralNetwork",
          "DeepNeuralNetwork",
          "DeepNeuralNetwork",
          "DeepNeuralNetwork",
          "DeepNeuralNetwork",
          "DeepNeuralNetwork",
          "DeepNeuralNetwork",
          "DeepNeuralNetwork",
          "DeepNeuralNetwork",
          "DeepNeuralNetwork",
          "DeepNeuralNetwork",
          "DeepNeuralNetwork"
         ],
         "y": [
          7.336743641545192e-7,
          5.186036692514384e-7,
          4.409400564476043e-7,
          4.55820070959824e-7,
          5.946053408386817e-7,
          2.983149385146419e-7,
          4.229372418339782e-7,
          1.9902437093776565e-7,
          5.657615371030232e-7,
          7.910428482934759e-7,
          2.659310121273621e-7,
          2.974692314841945e-7,
          5.202570581464179e-7,
          4.455913835974337e-7,
          6.298497284874804e-7,
          4.13791815890522e-7,
          3.717037716354649e-7,
          3.128336842814737e-7,
          2.843956532754683e-7,
          4.812317041078158e-7,
          2.815779042777966e-7,
          6.77176010082086e-7,
          2.647469087443087e-7,
          5.560030082833733e-7,
          2.259541868939591e-7,
          3.9796351484133394e-7,
          4.771055308926478e-7,
          6.075661320701677e-7,
          2.087445411490252e-7,
          4.030229718639429e-7,
          3.738670578744101e-7,
          2.994018215699869e-7,
          3.517267945269027e-7,
          3.571875947811637e-7,
          5.177165479318922e-7,
          2.5990844703099175e-7,
          5.024647745039204e-7,
          2.3529136495377065e-7,
          7.473026153587137e-7,
          2.525163786824998e-7,
          3.40889874158451e-7,
          4.737391016635187e-7,
          2.484270922560941e-7,
          4.647535107803972e-7,
          2.130701153083004e-7,
          4.210756603451917e-7,
          3.286101472898574e-7,
          4.75040843890117e-7,
          2.0817259658483317e-7,
          4.520927740017666e-7,
          2.1731798128458817e-7,
          4.841299327670509e-7,
          2.2646035265083689e-7,
          3.815067205243002e-7,
          2.0273586734008078e-7,
          4.464731481097512e-7,
          2.05127387876156e-7,
          4.669470529631431e-7,
          2.2762363006165014e-7,
          6.919237775001707e-7,
          2.404653147030939e-7,
          2.4648998697826205e-7,
          6.068384919698678e-7,
          2.708125515788872e-7,
          2.848095143974904e-7,
          5.028595834357785e-7,
          3.180216652032882e-7,
          3.141672684538188e-7,
          4.365310379401098e-7,
          2.275595541037859e-7,
          2.0875783786756914e-7,
          3.864061684018695e-7,
          2.0944261079191426e-7,
          2.221783527150013e-7,
          3.9745656590819793e-7,
          2.3677060291874523e-7,
          3.3285921701505135e-7,
          4.123409349007356e-7,
          3.759393422972466e-7,
          2.599401734927273e-7,
          2.593307794576021e-7,
          2.2703108554006281e-7,
          2.227451310660329e-7,
          4.854156422053795e-7,
          1.984331693630909e-7,
          1.8871146003696714e-7,
          1.984274052389953e-7,
          2.040160166325326e-7,
          2.2647518848446186e-7,
          2.2157645808602855e-7,
          2.2119286009758546e-7,
          2.0616319506411561e-7,
          2.2762261455409362e-7,
          1.9927131736255466e-7,
          2.125715053097419e-7,
          2.1258719701353762e-7,
          2.3733566976752614e-7,
          2.700259390937777e-7,
          2.124418075555778e-7,
          2.270219236733765e-7
         ]
        },
        {
         "name": "SS & FR",
         "type": "box",
         "x": [
          "LogisticRegression",
          "LogisticRegression",
          "LogisticRegression",
          "LogisticRegression",
          "LogisticRegression",
          "LogisticRegression",
          "LogisticRegression",
          "LogisticRegression",
          "LogisticRegression",
          "LogisticRegression",
          "LogisticRegression",
          "LogisticRegression",
          "LogisticRegression",
          "LogisticRegression",
          "LogisticRegression",
          "LogisticRegression",
          "LogisticRegression",
          "LogisticRegression",
          "LogisticRegression",
          "LogisticRegression",
          "SVC",
          "SVC",
          "SVC",
          "SVC",
          "SVC",
          "SVC",
          "SVC",
          "SVC",
          "SVC",
          "SVC",
          "SVC",
          "SVC",
          "SVC",
          "SVC",
          "SVC",
          "SVC",
          "SVC",
          "SVC",
          "SVC",
          "SVC",
          "RandomForestClassifier",
          "RandomForestClassifier",
          "RandomForestClassifier",
          "RandomForestClassifier",
          "RandomForestClassifier",
          "RandomForestClassifier",
          "RandomForestClassifier",
          "RandomForestClassifier",
          "RandomForestClassifier",
          "RandomForestClassifier",
          "RandomForestClassifier",
          "RandomForestClassifier",
          "RandomForestClassifier",
          "RandomForestClassifier",
          "RandomForestClassifier",
          "RandomForestClassifier",
          "RandomForestClassifier",
          "RandomForestClassifier",
          "RandomForestClassifier",
          "RandomForestClassifier",
          "GradientBoostingClassifier",
          "GradientBoostingClassifier",
          "GradientBoostingClassifier",
          "GradientBoostingClassifier",
          "GradientBoostingClassifier",
          "GradientBoostingClassifier",
          "GradientBoostingClassifier",
          "GradientBoostingClassifier",
          "GradientBoostingClassifier",
          "GradientBoostingClassifier",
          "GradientBoostingClassifier",
          "GradientBoostingClassifier",
          "GradientBoostingClassifier",
          "GradientBoostingClassifier",
          "GradientBoostingClassifier",
          "GradientBoostingClassifier",
          "GradientBoostingClassifier",
          "GradientBoostingClassifier",
          "GradientBoostingClassifier",
          "GradientBoostingClassifier",
          "DeepNeuralNetwork",
          "DeepNeuralNetwork",
          "DeepNeuralNetwork",
          "DeepNeuralNetwork",
          "DeepNeuralNetwork",
          "DeepNeuralNetwork",
          "DeepNeuralNetwork",
          "DeepNeuralNetwork",
          "DeepNeuralNetwork",
          "DeepNeuralNetwork",
          "DeepNeuralNetwork",
          "DeepNeuralNetwork",
          "DeepNeuralNetwork",
          "DeepNeuralNetwork",
          "DeepNeuralNetwork",
          "DeepNeuralNetwork",
          "DeepNeuralNetwork",
          "DeepNeuralNetwork",
          "DeepNeuralNetwork",
          "DeepNeuralNetwork"
         ],
         "y": [
          3.176476464279189e-7,
          4.349505899050796e-7,
          4.61762857603687e-7,
          3.1402856663989565e-7,
          4.591191975172708e-7,
          4.2148382592768763e-7,
          9.59560995499216e-7,
          2.507701282864795e-7,
          4.754980762805214e-7,
          2.416128799718163e-7,
          8.265531174648025e-7,
          9.114860846808938e-7,
          3.832778662335619e-7,
          3.8216998368570745e-7,
          3.0832567882339845e-7,
          5.882646616651305e-7,
          8.436643179742659e-7,
          4.672848073258157e-7,
          3.845685330895049e-7,
          5.418310016747606e-7,
          2.3248353485339979e-7,
          4.2492095552642075e-7,
          2.276080571187583e-7,
          3.631765553547238e-7,
          3.059623877904767e-7,
          0.0000010081449888484431,
          2.4474085452046504e-7,
          2.7119122336227014e-7,
          3.566077000256851e-7,
          4.785801723584428e-7,
          4.887347444665346e-7,
          1.8444057867930339e-7,
          9.432461510272896e-7,
          2.573868373299988e-7,
          4.5474122832307045e-7,
          3.4140378203781005e-7,
          8.1919846791614e-7,
          2.3674799720738854e-7,
          3.345927551958936e-7,
          7.281098260243299e-7,
          2.3706086739786437e-7,
          4.1938721731830594e-7,
          1.8044579173687357e-7,
          2.963033503688029e-7,
          3.986093385049787e-7,
          2.1245943529393105e-7,
          5.323207119198314e-7,
          2.033053964809427e-7,
          4.622403644754039e-7,
          2.186986832353622e-7,
          2.430636781734427e-7,
          4.272402836624344e-7,
          2.2019241411805335e-7,
          4.130178951412041e-7,
          3.01114424090072e-7,
          3.117239499982744e-7,
          2.198598303151077e-7,
          3.974420225939454e-7,
          2.0833281060830477e-7,
          3.6824221661129093e-7,
          3.947055735608642e-7,
          2.0331762865021322e-7,
          1.941570237080741e-7,
          3.26424550654977e-7,
          1.974819085791887e-7,
          2.0428915557726276e-7,
          4.4897784540112045e-7,
          2.655636614351791e-7,
          2.719744860424627e-7,
          3.929871046257864e-7,
          2.3634959375024546e-7,
          2.3235473732715305e-7,
          4.054295638421593e-7,
          2.604995995632992e-7,
          1.9902860387316541e-7,
          4.550734041418227e-7,
          2.370786420238195e-7,
          2.455272611909341e-7,
          4.292661007117022e-7,
          4.186517617973864e-7,
          2.180106593860972e-7,
          2.1103690715264245e-7,
          1.9849522237165573e-7,
          2.0650082022349945e-7,
          2.374607581041334e-7,
          2.04941918916738e-7,
          2.350178433621099e-7,
          2.72026720306252e-7,
          1.978551332352304e-7,
          2.286709578503809e-7,
          2.2495587880563654e-7,
          2.112474804820321e-7,
          2.144951350363869e-7,
          2.198467629523776e-7,
          2.1029188449991389e-7,
          2.0997253579249642e-7,
          3.477965712470489e-7,
          1.9766524427282042e-7,
          2.541533881252143e-7,
          3.231545375166709e-7
         ]
        }
       ],
       "layout": {
        "boxmode": "group",
        "template": {
         "data": {
          "bar": [
           {
            "error_x": {
             "color": "#2a3f5f"
            },
            "error_y": {
             "color": "#2a3f5f"
            },
            "marker": {
             "line": {
              "color": "#E5ECF6",
              "width": 0.5
             },
             "pattern": {
              "fillmode": "overlay",
              "size": 10,
              "solidity": 0.2
             }
            },
            "type": "bar"
           }
          ],
          "barpolar": [
           {
            "marker": {
             "line": {
              "color": "#E5ECF6",
              "width": 0.5
             },
             "pattern": {
              "fillmode": "overlay",
              "size": 10,
              "solidity": 0.2
             }
            },
            "type": "barpolar"
           }
          ],
          "carpet": [
           {
            "aaxis": {
             "endlinecolor": "#2a3f5f",
             "gridcolor": "white",
             "linecolor": "white",
             "minorgridcolor": "white",
             "startlinecolor": "#2a3f5f"
            },
            "baxis": {
             "endlinecolor": "#2a3f5f",
             "gridcolor": "white",
             "linecolor": "white",
             "minorgridcolor": "white",
             "startlinecolor": "#2a3f5f"
            },
            "type": "carpet"
           }
          ],
          "choropleth": [
           {
            "colorbar": {
             "outlinewidth": 0,
             "ticks": ""
            },
            "type": "choropleth"
           }
          ],
          "contour": [
           {
            "colorbar": {
             "outlinewidth": 0,
             "ticks": ""
            },
            "colorscale": [
             [
              0,
              "#0d0887"
             ],
             [
              0.1111111111111111,
              "#46039f"
             ],
             [
              0.2222222222222222,
              "#7201a8"
             ],
             [
              0.3333333333333333,
              "#9c179e"
             ],
             [
              0.4444444444444444,
              "#bd3786"
             ],
             [
              0.5555555555555556,
              "#d8576b"
             ],
             [
              0.6666666666666666,
              "#ed7953"
             ],
             [
              0.7777777777777778,
              "#fb9f3a"
             ],
             [
              0.8888888888888888,
              "#fdca26"
             ],
             [
              1,
              "#f0f921"
             ]
            ],
            "type": "contour"
           }
          ],
          "contourcarpet": [
           {
            "colorbar": {
             "outlinewidth": 0,
             "ticks": ""
            },
            "type": "contourcarpet"
           }
          ],
          "heatmap": [
           {
            "colorbar": {
             "outlinewidth": 0,
             "ticks": ""
            },
            "colorscale": [
             [
              0,
              "#0d0887"
             ],
             [
              0.1111111111111111,
              "#46039f"
             ],
             [
              0.2222222222222222,
              "#7201a8"
             ],
             [
              0.3333333333333333,
              "#9c179e"
             ],
             [
              0.4444444444444444,
              "#bd3786"
             ],
             [
              0.5555555555555556,
              "#d8576b"
             ],
             [
              0.6666666666666666,
              "#ed7953"
             ],
             [
              0.7777777777777778,
              "#fb9f3a"
             ],
             [
              0.8888888888888888,
              "#fdca26"
             ],
             [
              1,
              "#f0f921"
             ]
            ],
            "type": "heatmap"
           }
          ],
          "heatmapgl": [
           {
            "colorbar": {
             "outlinewidth": 0,
             "ticks": ""
            },
            "colorscale": [
             [
              0,
              "#0d0887"
             ],
             [
              0.1111111111111111,
              "#46039f"
             ],
             [
              0.2222222222222222,
              "#7201a8"
             ],
             [
              0.3333333333333333,
              "#9c179e"
             ],
             [
              0.4444444444444444,
              "#bd3786"
             ],
             [
              0.5555555555555556,
              "#d8576b"
             ],
             [
              0.6666666666666666,
              "#ed7953"
             ],
             [
              0.7777777777777778,
              "#fb9f3a"
             ],
             [
              0.8888888888888888,
              "#fdca26"
             ],
             [
              1,
              "#f0f921"
             ]
            ],
            "type": "heatmapgl"
           }
          ],
          "histogram": [
           {
            "marker": {
             "pattern": {
              "fillmode": "overlay",
              "size": 10,
              "solidity": 0.2
             }
            },
            "type": "histogram"
           }
          ],
          "histogram2d": [
           {
            "colorbar": {
             "outlinewidth": 0,
             "ticks": ""
            },
            "colorscale": [
             [
              0,
              "#0d0887"
             ],
             [
              0.1111111111111111,
              "#46039f"
             ],
             [
              0.2222222222222222,
              "#7201a8"
             ],
             [
              0.3333333333333333,
              "#9c179e"
             ],
             [
              0.4444444444444444,
              "#bd3786"
             ],
             [
              0.5555555555555556,
              "#d8576b"
             ],
             [
              0.6666666666666666,
              "#ed7953"
             ],
             [
              0.7777777777777778,
              "#fb9f3a"
             ],
             [
              0.8888888888888888,
              "#fdca26"
             ],
             [
              1,
              "#f0f921"
             ]
            ],
            "type": "histogram2d"
           }
          ],
          "histogram2dcontour": [
           {
            "colorbar": {
             "outlinewidth": 0,
             "ticks": ""
            },
            "colorscale": [
             [
              0,
              "#0d0887"
             ],
             [
              0.1111111111111111,
              "#46039f"
             ],
             [
              0.2222222222222222,
              "#7201a8"
             ],
             [
              0.3333333333333333,
              "#9c179e"
             ],
             [
              0.4444444444444444,
              "#bd3786"
             ],
             [
              0.5555555555555556,
              "#d8576b"
             ],
             [
              0.6666666666666666,
              "#ed7953"
             ],
             [
              0.7777777777777778,
              "#fb9f3a"
             ],
             [
              0.8888888888888888,
              "#fdca26"
             ],
             [
              1,
              "#f0f921"
             ]
            ],
            "type": "histogram2dcontour"
           }
          ],
          "mesh3d": [
           {
            "colorbar": {
             "outlinewidth": 0,
             "ticks": ""
            },
            "type": "mesh3d"
           }
          ],
          "parcoords": [
           {
            "line": {
             "colorbar": {
              "outlinewidth": 0,
              "ticks": ""
             }
            },
            "type": "parcoords"
           }
          ],
          "pie": [
           {
            "automargin": true,
            "type": "pie"
           }
          ],
          "scatter": [
           {
            "fillpattern": {
             "fillmode": "overlay",
             "size": 10,
             "solidity": 0.2
            },
            "type": "scatter"
           }
          ],
          "scatter3d": [
           {
            "line": {
             "colorbar": {
              "outlinewidth": 0,
              "ticks": ""
             }
            },
            "marker": {
             "colorbar": {
              "outlinewidth": 0,
              "ticks": ""
             }
            },
            "type": "scatter3d"
           }
          ],
          "scattercarpet": [
           {
            "marker": {
             "colorbar": {
              "outlinewidth": 0,
              "ticks": ""
             }
            },
            "type": "scattercarpet"
           }
          ],
          "scattergeo": [
           {
            "marker": {
             "colorbar": {
              "outlinewidth": 0,
              "ticks": ""
             }
            },
            "type": "scattergeo"
           }
          ],
          "scattergl": [
           {
            "marker": {
             "colorbar": {
              "outlinewidth": 0,
              "ticks": ""
             }
            },
            "type": "scattergl"
           }
          ],
          "scattermapbox": [
           {
            "marker": {
             "colorbar": {
              "outlinewidth": 0,
              "ticks": ""
             }
            },
            "type": "scattermapbox"
           }
          ],
          "scatterpolar": [
           {
            "marker": {
             "colorbar": {
              "outlinewidth": 0,
              "ticks": ""
             }
            },
            "type": "scatterpolar"
           }
          ],
          "scatterpolargl": [
           {
            "marker": {
             "colorbar": {
              "outlinewidth": 0,
              "ticks": ""
             }
            },
            "type": "scatterpolargl"
           }
          ],
          "scatterternary": [
           {
            "marker": {
             "colorbar": {
              "outlinewidth": 0,
              "ticks": ""
             }
            },
            "type": "scatterternary"
           }
          ],
          "surface": [
           {
            "colorbar": {
             "outlinewidth": 0,
             "ticks": ""
            },
            "colorscale": [
             [
              0,
              "#0d0887"
             ],
             [
              0.1111111111111111,
              "#46039f"
             ],
             [
              0.2222222222222222,
              "#7201a8"
             ],
             [
              0.3333333333333333,
              "#9c179e"
             ],
             [
              0.4444444444444444,
              "#bd3786"
             ],
             [
              0.5555555555555556,
              "#d8576b"
             ],
             [
              0.6666666666666666,
              "#ed7953"
             ],
             [
              0.7777777777777778,
              "#fb9f3a"
             ],
             [
              0.8888888888888888,
              "#fdca26"
             ],
             [
              1,
              "#f0f921"
             ]
            ],
            "type": "surface"
           }
          ],
          "table": [
           {
            "cells": {
             "fill": {
              "color": "#EBF0F8"
             },
             "line": {
              "color": "white"
             }
            },
            "header": {
             "fill": {
              "color": "#C8D4E3"
             },
             "line": {
              "color": "white"
             }
            },
            "type": "table"
           }
          ]
         },
         "layout": {
          "annotationdefaults": {
           "arrowcolor": "#2a3f5f",
           "arrowhead": 0,
           "arrowwidth": 1
          },
          "autotypenumbers": "strict",
          "coloraxis": {
           "colorbar": {
            "outlinewidth": 0,
            "ticks": ""
           }
          },
          "colorscale": {
           "diverging": [
            [
             0,
             "#8e0152"
            ],
            [
             0.1,
             "#c51b7d"
            ],
            [
             0.2,
             "#de77ae"
            ],
            [
             0.3,
             "#f1b6da"
            ],
            [
             0.4,
             "#fde0ef"
            ],
            [
             0.5,
             "#f7f7f7"
            ],
            [
             0.6,
             "#e6f5d0"
            ],
            [
             0.7,
             "#b8e186"
            ],
            [
             0.8,
             "#7fbc41"
            ],
            [
             0.9,
             "#4d9221"
            ],
            [
             1,
             "#276419"
            ]
           ],
           "sequential": [
            [
             0,
             "#0d0887"
            ],
            [
             0.1111111111111111,
             "#46039f"
            ],
            [
             0.2222222222222222,
             "#7201a8"
            ],
            [
             0.3333333333333333,
             "#9c179e"
            ],
            [
             0.4444444444444444,
             "#bd3786"
            ],
            [
             0.5555555555555556,
             "#d8576b"
            ],
            [
             0.6666666666666666,
             "#ed7953"
            ],
            [
             0.7777777777777778,
             "#fb9f3a"
            ],
            [
             0.8888888888888888,
             "#fdca26"
            ],
            [
             1,
             "#f0f921"
            ]
           ],
           "sequentialminus": [
            [
             0,
             "#0d0887"
            ],
            [
             0.1111111111111111,
             "#46039f"
            ],
            [
             0.2222222222222222,
             "#7201a8"
            ],
            [
             0.3333333333333333,
             "#9c179e"
            ],
            [
             0.4444444444444444,
             "#bd3786"
            ],
            [
             0.5555555555555556,
             "#d8576b"
            ],
            [
             0.6666666666666666,
             "#ed7953"
            ],
            [
             0.7777777777777778,
             "#fb9f3a"
            ],
            [
             0.8888888888888888,
             "#fdca26"
            ],
            [
             1,
             "#f0f921"
            ]
           ]
          },
          "colorway": [
           "#636efa",
           "#EF553B",
           "#00cc96",
           "#ab63fa",
           "#FFA15A",
           "#19d3f3",
           "#FF6692",
           "#B6E880",
           "#FF97FF",
           "#FECB52"
          ],
          "font": {
           "color": "#2a3f5f"
          },
          "geo": {
           "bgcolor": "white",
           "lakecolor": "white",
           "landcolor": "#E5ECF6",
           "showlakes": true,
           "showland": true,
           "subunitcolor": "white"
          },
          "hoverlabel": {
           "align": "left"
          },
          "hovermode": "closest",
          "mapbox": {
           "style": "light"
          },
          "paper_bgcolor": "white",
          "plot_bgcolor": "#E5ECF6",
          "polar": {
           "angularaxis": {
            "gridcolor": "white",
            "linecolor": "white",
            "ticks": ""
           },
           "bgcolor": "#E5ECF6",
           "radialaxis": {
            "gridcolor": "white",
            "linecolor": "white",
            "ticks": ""
           }
          },
          "scene": {
           "xaxis": {
            "backgroundcolor": "#E5ECF6",
            "gridcolor": "white",
            "gridwidth": 2,
            "linecolor": "white",
            "showbackground": true,
            "ticks": "",
            "zerolinecolor": "white"
           },
           "yaxis": {
            "backgroundcolor": "#E5ECF6",
            "gridcolor": "white",
            "gridwidth": 2,
            "linecolor": "white",
            "showbackground": true,
            "ticks": "",
            "zerolinecolor": "white"
           },
           "zaxis": {
            "backgroundcolor": "#E5ECF6",
            "gridcolor": "white",
            "gridwidth": 2,
            "linecolor": "white",
            "showbackground": true,
            "ticks": "",
            "zerolinecolor": "white"
           }
          },
          "shapedefaults": {
           "line": {
            "color": "#2a3f5f"
           }
          },
          "ternary": {
           "aaxis": {
            "gridcolor": "white",
            "linecolor": "white",
            "ticks": ""
           },
           "baxis": {
            "gridcolor": "white",
            "linecolor": "white",
            "ticks": ""
           },
           "bgcolor": "#E5ECF6",
           "caxis": {
            "gridcolor": "white",
            "linecolor": "white",
            "ticks": ""
           }
          },
          "title": {
           "x": 0.05
          },
          "xaxis": {
           "automargin": true,
           "gridcolor": "white",
           "linecolor": "white",
           "ticks": "",
           "title": {
            "standoff": 15
           },
           "zerolinecolor": "white",
           "zerolinewidth": 2
          },
          "yaxis": {
           "automargin": true,
           "gridcolor": "white",
           "linecolor": "white",
           "ticks": "",
           "title": {
            "standoff": 15
           },
           "zerolinecolor": "white",
           "zerolinewidth": 2
          }
         }
        },
        "title": {
         "text": "emissions_prep"
        },
        "yaxis": {
         "title": {
          "text": "emissions_prep"
         }
        }
       }
      }
     },
     "metadata": {},
     "output_type": "display_data"
    },
    {
     "data": {
      "application/vnd.plotly.v1+json": {
       "config": {
        "plotlyServerURL": "https://plot.ly"
       },
       "data": [
        {
         "name": "Full",
         "type": "box",
         "x": [
          "LogisticRegression",
          "LogisticRegression",
          "LogisticRegression",
          "LogisticRegression",
          "LogisticRegression",
          "LogisticRegression",
          "LogisticRegression",
          "LogisticRegression",
          "LogisticRegression",
          "LogisticRegression",
          "LogisticRegression",
          "LogisticRegression",
          "LogisticRegression",
          "LogisticRegression",
          "LogisticRegression",
          "LogisticRegression",
          "LogisticRegression",
          "LogisticRegression",
          "LogisticRegression",
          "LogisticRegression",
          "SVC",
          "SVC",
          "SVC",
          "SVC",
          "SVC",
          "SVC",
          "SVC",
          "SVC",
          "SVC",
          "SVC",
          "SVC",
          "SVC",
          "SVC",
          "SVC",
          "SVC",
          "SVC",
          "SVC",
          "SVC",
          "SVC",
          "SVC",
          "RandomForestClassifier",
          "RandomForestClassifier",
          "RandomForestClassifier",
          "RandomForestClassifier",
          "RandomForestClassifier",
          "RandomForestClassifier",
          "RandomForestClassifier",
          "RandomForestClassifier",
          "RandomForestClassifier",
          "RandomForestClassifier",
          "RandomForestClassifier",
          "RandomForestClassifier",
          "RandomForestClassifier",
          "RandomForestClassifier",
          "RandomForestClassifier",
          "RandomForestClassifier",
          "RandomForestClassifier",
          "RandomForestClassifier",
          "RandomForestClassifier",
          "RandomForestClassifier",
          "GradientBoostingClassifier",
          "GradientBoostingClassifier",
          "GradientBoostingClassifier",
          "GradientBoostingClassifier",
          "GradientBoostingClassifier",
          "GradientBoostingClassifier",
          "GradientBoostingClassifier",
          "GradientBoostingClassifier",
          "GradientBoostingClassifier",
          "GradientBoostingClassifier",
          "GradientBoostingClassifier",
          "GradientBoostingClassifier",
          "GradientBoostingClassifier",
          "GradientBoostingClassifier",
          "GradientBoostingClassifier",
          "GradientBoostingClassifier",
          "GradientBoostingClassifier",
          "GradientBoostingClassifier",
          "GradientBoostingClassifier",
          "GradientBoostingClassifier",
          "DeepNeuralNetwork",
          "DeepNeuralNetwork",
          "DeepNeuralNetwork",
          "DeepNeuralNetwork",
          "DeepNeuralNetwork",
          "DeepNeuralNetwork",
          "DeepNeuralNetwork",
          "DeepNeuralNetwork",
          "DeepNeuralNetwork",
          "DeepNeuralNetwork",
          "DeepNeuralNetwork",
          "DeepNeuralNetwork",
          "DeepNeuralNetwork",
          "DeepNeuralNetwork",
          "DeepNeuralNetwork",
          "DeepNeuralNetwork",
          "DeepNeuralNetwork",
          "DeepNeuralNetwork",
          "DeepNeuralNetwork",
          "DeepNeuralNetwork"
         ],
         "y": [
          1.384101015406217e-7,
          1.793486535347534e-7,
          2.386747333261302e-7,
          2.414747837281746e-7,
          1.1089433306918708e-7,
          2.515462342372529e-7,
          1.1147925483906072e-7,
          2.493633134963841e-7,
          1.1634575894847385e-7,
          4.207151719799046e-7,
          2.307311928939279e-7,
          1.6412358093192622e-7,
          3.07503308070306e-7,
          1.6089858863874498e-7,
          1.997035805599047e-7,
          3.120491381858499e-7,
          2.826615358901899e-7,
          1.633783424702731e-7,
          1.1089986783714353e-7,
          2.738352757490279e-7,
          2.493141667771377e-7,
          1.4552259548837425e-7,
          4.229855529130737e-7,
          1.3892593753389929e-7,
          4.355842068348368e-7,
          3.208126643690097e-7,
          1.985143549731918e-7,
          1.9748428607213947e-7,
          3.847535358289783e-7,
          2.5563668143717584e-7,
          1.4030011818966757e-7,
          1.9722557283207226e-7,
          1.303514660369251e-7,
          4.689700603423795e-7,
          1.386692468764543e-7,
          2.4628748089257704e-7,
          2.8793744783102426e-7,
          2.485712451666227e-7,
          2.515993455312615e-7,
          1.856128998239774e-7,
          0.000002783489386753036,
          0.000003089069222472979,
          0.000003211316516620348,
          0.0000030221142739595298,
          0.0000032970769515258597,
          0.000002871513813242164,
          0.0000028593068687346544,
          0.0000029104146912377945,
          0.000002846895153661407,
          0.000003162827829078204,
          0.000002783702104784593,
          0.000003126882802223247,
          0.000002690917858041596,
          0.000003477540126535505,
          0.00000284507030019537,
          0.000003999026700663572,
          0.0000033327274566281265,
          0.000003953571858839261,
          0.000002806163289491466,
          0.000003601324729130516,
          0.000002810937870618632,
          0.000003122528271835715,
          0.000004385002694722896,
          0.0000034754564831604787,
          0.0000031793156100221303,
          0.000003453621110452833,
          0.0000032966474941575376,
          0.000002549508580019155,
          0.000002113312091002982,
          0.000003226382710626698,
          0.0000032040958101045656,
          0.0000035275867717749626,
          0.000004650731903430147,
          0.000003817586980714612,
          0.000002683793102692964,
          0.000004115140658566456,
          0.000003980613582081844,
          0.000003945951660268591,
          0.000004683463240353529,
          0.0000027345101450365703,
          0.000017436407607434364,
          0.000013498762772906282,
          0.000012507201133376854,
          0.000012082929874252083,
          0.0000121229934659999,
          0.000012631322367445314,
          0.00001292546307174038,
          0.000014484877317576407,
          0.000015876835668840315,
          0.000013969508489414084,
          0.00000853532159853941,
          0.00001131068348470343,
          0.000010338365322247342,
          0.000010863544258009055,
          0.00001127094250582617,
          0.000010718261550997768,
          0.000010419886855015813,
          0.000011269677563647824,
          0.000011215583150794492,
          0.000012053530883373005
         ]
        },
        {
         "name": "FR",
         "type": "box",
         "x": [
          "LogisticRegression",
          "LogisticRegression",
          "LogisticRegression",
          "LogisticRegression",
          "LogisticRegression",
          "LogisticRegression",
          "LogisticRegression",
          "LogisticRegression",
          "LogisticRegression",
          "LogisticRegression",
          "LogisticRegression",
          "LogisticRegression",
          "LogisticRegression",
          "LogisticRegression",
          "LogisticRegression",
          "LogisticRegression",
          "LogisticRegression",
          "LogisticRegression",
          "LogisticRegression",
          "LogisticRegression",
          "SVC",
          "SVC",
          "SVC",
          "SVC",
          "SVC",
          "SVC",
          "SVC",
          "SVC",
          "SVC",
          "SVC",
          "SVC",
          "SVC",
          "SVC",
          "SVC",
          "SVC",
          "SVC",
          "SVC",
          "SVC",
          "SVC",
          "SVC",
          "RandomForestClassifier",
          "RandomForestClassifier",
          "RandomForestClassifier",
          "RandomForestClassifier",
          "RandomForestClassifier",
          "RandomForestClassifier",
          "RandomForestClassifier",
          "RandomForestClassifier",
          "RandomForestClassifier",
          "RandomForestClassifier",
          "RandomForestClassifier",
          "RandomForestClassifier",
          "RandomForestClassifier",
          "RandomForestClassifier",
          "RandomForestClassifier",
          "RandomForestClassifier",
          "RandomForestClassifier",
          "RandomForestClassifier",
          "RandomForestClassifier",
          "RandomForestClassifier",
          "GradientBoostingClassifier",
          "GradientBoostingClassifier",
          "GradientBoostingClassifier",
          "GradientBoostingClassifier",
          "GradientBoostingClassifier",
          "GradientBoostingClassifier",
          "GradientBoostingClassifier",
          "GradientBoostingClassifier",
          "GradientBoostingClassifier",
          "GradientBoostingClassifier",
          "GradientBoostingClassifier",
          "GradientBoostingClassifier",
          "GradientBoostingClassifier",
          "GradientBoostingClassifier",
          "GradientBoostingClassifier",
          "GradientBoostingClassifier",
          "GradientBoostingClassifier",
          "GradientBoostingClassifier",
          "GradientBoostingClassifier",
          "GradientBoostingClassifier",
          "DeepNeuralNetwork",
          "DeepNeuralNetwork",
          "DeepNeuralNetwork",
          "DeepNeuralNetwork",
          "DeepNeuralNetwork",
          "DeepNeuralNetwork",
          "DeepNeuralNetwork",
          "DeepNeuralNetwork",
          "DeepNeuralNetwork",
          "DeepNeuralNetwork",
          "DeepNeuralNetwork",
          "DeepNeuralNetwork",
          "DeepNeuralNetwork",
          "DeepNeuralNetwork",
          "DeepNeuralNetwork",
          "DeepNeuralNetwork",
          "DeepNeuralNetwork",
          "DeepNeuralNetwork",
          "DeepNeuralNetwork",
          "DeepNeuralNetwork"
         ],
         "y": [
          1.822018966639305e-7,
          3.932489568122047e-7,
          2.823327293686833e-7,
          2.8115523264832937e-7,
          2.0665267181111882e-7,
          2.7558845182166017e-7,
          2.1145140602233173e-7,
          1.2435949906224736e-7,
          2.933408978825734e-7,
          1.2977482189823616e-7,
          1.596740022498551e-7,
          4.223664009758883e-7,
          3.071863387154629e-7,
          2.951178574139152e-7,
          4.053508556975567e-7,
          1.604454000839195e-7,
          3.561617804466455e-7,
          1.1636936579541984e-7,
          2.3083514890829762e-7,
          1.4324279454507732e-7,
          1.1147790396522085e-7,
          3.526183615532724e-7,
          1.254906358948843e-7,
          4.114008475943412e-7,
          1.6439569092141507e-7,
          3.715201225542794e-7,
          1.626684191383468e-7,
          2.267815512866679e-7,
          1.789819397183222e-7,
          3.850988422203147e-7,
          1.336335431938521e-7,
          1.9745673260178345e-7,
          1.815219791627236e-7,
          2.501977661253409e-7,
          1.226244259618613e-7,
          8.895368320709952e-7,
          1.896576293011071e-7,
          1.3463016631382052e-7,
          2.939542110298038e-7,
          2.5505408493380066e-7,
          0.0000029812559816382207,
          0.000003501883689495432,
          0.0000028730225346332555,
          0.000003424043321132407,
          0.0000031005452471896504,
          0.000003242783376968851,
          0.000003033920132275653,
          0.000003531601993586684,
          0.000003265826375787803,
          0.000004118223277043342,
          0.000003849193566242241,
          0.000003091717936428177,
          0.000003258015167650029,
          0.000004282393667903381,
          0.000003186533584565278,
          0.000004534748806152766,
          0.0000027414429459059805,
          0.0000034538242901364143,
          0.000003026943497294555,
          0.000003471455761565973,
          0.0000034557817084315736,
          0.000004728011925811968,
          0.0000046220016578473865,
          0.00000404863546987354,
          0.000002979158852129109,
          0.000003424528518376985,
          0.000003376235784309208,
          0.0000036982260131700976,
          0.000003577189577828529,
          0.000002610527357199471,
          0.000004217078706224417,
          0.000003920587660550786,
          0.0000034010739058893194,
          0.000005190573498785106,
          0.0000031209032679319244,
          0.000004384800191839077,
          0.000003915430501487058,
          0.0000034758022116052664,
          0.000003427429547373439,
          0.000003635733346760584,
          0.000010699778960220629,
          0.00001180962177996128,
          0.000010181682960438748,
          0.000010534044663883516,
          0.00001300718303521019,
          0.000013689471305849434,
          0.000010539036524940789,
          0.00001126750531866053,
          0.00001324902723546064,
          0.00001485429583141846,
          0.000013048411692034456,
          0.00001288263166402152,
          0.0000134340366017133,
          0.00001058049769242064,
          0.000012434073976039456,
          0.000013050324968657903,
          0.000011311879381604604,
          0.000010472147634219171,
          0.000011030439435766729,
          0.000013103998456531524
         ]
        },
        {
         "name": "SS",
         "type": "box",
         "x": [
          "LogisticRegression",
          "LogisticRegression",
          "LogisticRegression",
          "LogisticRegression",
          "LogisticRegression",
          "LogisticRegression",
          "LogisticRegression",
          "LogisticRegression",
          "LogisticRegression",
          "LogisticRegression",
          "LogisticRegression",
          "LogisticRegression",
          "LogisticRegression",
          "LogisticRegression",
          "LogisticRegression",
          "LogisticRegression",
          "LogisticRegression",
          "LogisticRegression",
          "LogisticRegression",
          "LogisticRegression",
          "SVC",
          "SVC",
          "SVC",
          "SVC",
          "SVC",
          "SVC",
          "SVC",
          "SVC",
          "SVC",
          "SVC",
          "SVC",
          "SVC",
          "SVC",
          "SVC",
          "SVC",
          "SVC",
          "SVC",
          "SVC",
          "SVC",
          "SVC",
          "RandomForestClassifier",
          "RandomForestClassifier",
          "RandomForestClassifier",
          "RandomForestClassifier",
          "RandomForestClassifier",
          "RandomForestClassifier",
          "RandomForestClassifier",
          "RandomForestClassifier",
          "RandomForestClassifier",
          "RandomForestClassifier",
          "RandomForestClassifier",
          "RandomForestClassifier",
          "RandomForestClassifier",
          "RandomForestClassifier",
          "RandomForestClassifier",
          "RandomForestClassifier",
          "RandomForestClassifier",
          "RandomForestClassifier",
          "RandomForestClassifier",
          "RandomForestClassifier",
          "GradientBoostingClassifier",
          "GradientBoostingClassifier",
          "GradientBoostingClassifier",
          "GradientBoostingClassifier",
          "GradientBoostingClassifier",
          "GradientBoostingClassifier",
          "GradientBoostingClassifier",
          "GradientBoostingClassifier",
          "GradientBoostingClassifier",
          "GradientBoostingClassifier",
          "GradientBoostingClassifier",
          "GradientBoostingClassifier",
          "GradientBoostingClassifier",
          "GradientBoostingClassifier",
          "GradientBoostingClassifier",
          "GradientBoostingClassifier",
          "GradientBoostingClassifier",
          "GradientBoostingClassifier",
          "GradientBoostingClassifier",
          "GradientBoostingClassifier",
          "DeepNeuralNetwork",
          "DeepNeuralNetwork",
          "DeepNeuralNetwork",
          "DeepNeuralNetwork",
          "DeepNeuralNetwork",
          "DeepNeuralNetwork",
          "DeepNeuralNetwork",
          "DeepNeuralNetwork",
          "DeepNeuralNetwork",
          "DeepNeuralNetwork",
          "DeepNeuralNetwork",
          "DeepNeuralNetwork",
          "DeepNeuralNetwork",
          "DeepNeuralNetwork",
          "DeepNeuralNetwork",
          "DeepNeuralNetwork",
          "DeepNeuralNetwork",
          "DeepNeuralNetwork",
          "DeepNeuralNetwork",
          "DeepNeuralNetwork"
         ],
         "y": [
          2.7829012028482425e-7,
          1.741142596099407e-7,
          2.1135729658334007e-7,
          1.223044066201058e-7,
          2.874307665034874e-7,
          2.162051316789357e-7,
          4.326649503945228e-7,
          3.670949142650648e-7,
          1.812496619349284e-7,
          2.04581735280783e-7,
          1.3834040992616314e-7,
          2.496397954574077e-7,
          3.956662309369946e-7,
          1.4865391873789685e-7,
          2.5221387301484904e-7,
          3.464625519741804e-7,
          1.478558154005723e-7,
          2.9396030259368905e-7,
          3.577668488616293e-7,
          2.3395191196123882e-7,
          1.589541719455509e-7,
          7.383138228545492e-7,
          1.535198170094475e-7,
          2.052258453325365e-7,
          2.793513935932073e-7,
          3.4838171303428617e-7,
          1.6914835513194906e-7,
          2.369804805615709e-7,
          1.2493334684967813e-7,
          1.996997561898306e-7,
          2.398826770841703e-7,
          2.2120152065509965e-7,
          1.4934754841633077e-7,
          1.0144642008337244e-7,
          2.2957205033508066e-7,
          1.5231095962155858e-7,
          3.356928249321524e-7,
          2.7419649950392866e-7,
          1.8632014760515059e-7,
          2.885135762893329e-7,
          0.0000033101792213895403,
          0.0000030970765144918734,
          0.000003209734600240124,
          0.000003532187117590837,
          0.000002818245538822265,
          0.000003719856279329244,
          0.0000031191430988762765,
          0.000003124334703484945,
          0.0000027727333594166573,
          0.000003200758853974311,
          0.000003369055798558293,
          0.000003377018094517575,
          0.00000276636379995714,
          0.000003331541482175368,
          0.000002789143599365041,
          0.00000326128637271033,
          0.000002783650057936425,
          0.000003403207918973401,
          0.000002810229222654321,
          0.000003211563878224421,
          0.000003441002586388863,
          0.000003529894524956873,
          0.000004353236696003418,
          0.0000034260181027614277,
          0.000002864515902189233,
          0.0000036307575386632174,
          0.000003800205010053622,
          0.000003675391253215232,
          0.000003880066223159928,
          0.0000027751702385697685,
          0.000002764655291173689,
          0.0000031824691220021066,
          0.000002759995765618797,
          0.000002740503377482049,
          0.00000324244521247765,
          0.00000285343873459242,
          0.000002552588695123748,
          0.0000033134790503161395,
          0.000003293452655337174,
          0.000002883725189090384,
          0.00001101395509826538,
          0.000010525793922817516,
          0.00001121531574243672,
          0.0000108483682355699,
          0.000010365724545524733,
          0.000010638185250264227,
          0.000010512372157905467,
          0.000011080269806587888,
          0.000010992241471876708,
          0.000011134465603085269,
          0.0000115649754154004,
          0.000012947220198664664,
          0.00001065097252259974,
          0.000013623740807448849,
          0.000010533304464947464,
          0.00001158939427111955,
          0.000010808747689254649,
          0.000012003531377913798,
          0.00001182704354335182,
          0.0000119332952521927
         ]
        },
        {
         "name": "SS & FR",
         "type": "box",
         "x": [
          "LogisticRegression",
          "LogisticRegression",
          "LogisticRegression",
          "LogisticRegression",
          "LogisticRegression",
          "LogisticRegression",
          "LogisticRegression",
          "LogisticRegression",
          "LogisticRegression",
          "LogisticRegression",
          "LogisticRegression",
          "LogisticRegression",
          "LogisticRegression",
          "LogisticRegression",
          "LogisticRegression",
          "LogisticRegression",
          "LogisticRegression",
          "LogisticRegression",
          "LogisticRegression",
          "LogisticRegression",
          "SVC",
          "SVC",
          "SVC",
          "SVC",
          "SVC",
          "SVC",
          "SVC",
          "SVC",
          "SVC",
          "SVC",
          "SVC",
          "SVC",
          "SVC",
          "SVC",
          "SVC",
          "SVC",
          "SVC",
          "SVC",
          "SVC",
          "SVC",
          "RandomForestClassifier",
          "RandomForestClassifier",
          "RandomForestClassifier",
          "RandomForestClassifier",
          "RandomForestClassifier",
          "RandomForestClassifier",
          "RandomForestClassifier",
          "RandomForestClassifier",
          "RandomForestClassifier",
          "RandomForestClassifier",
          "RandomForestClassifier",
          "RandomForestClassifier",
          "RandomForestClassifier",
          "RandomForestClassifier",
          "RandomForestClassifier",
          "RandomForestClassifier",
          "RandomForestClassifier",
          "RandomForestClassifier",
          "RandomForestClassifier",
          "RandomForestClassifier",
          "GradientBoostingClassifier",
          "GradientBoostingClassifier",
          "GradientBoostingClassifier",
          "GradientBoostingClassifier",
          "GradientBoostingClassifier",
          "GradientBoostingClassifier",
          "GradientBoostingClassifier",
          "GradientBoostingClassifier",
          "GradientBoostingClassifier",
          "GradientBoostingClassifier",
          "GradientBoostingClassifier",
          "GradientBoostingClassifier",
          "GradientBoostingClassifier",
          "GradientBoostingClassifier",
          "GradientBoostingClassifier",
          "GradientBoostingClassifier",
          "GradientBoostingClassifier",
          "GradientBoostingClassifier",
          "GradientBoostingClassifier",
          "GradientBoostingClassifier",
          "DeepNeuralNetwork",
          "DeepNeuralNetwork",
          "DeepNeuralNetwork",
          "DeepNeuralNetwork",
          "DeepNeuralNetwork",
          "DeepNeuralNetwork",
          "DeepNeuralNetwork",
          "DeepNeuralNetwork",
          "DeepNeuralNetwork",
          "DeepNeuralNetwork",
          "DeepNeuralNetwork",
          "DeepNeuralNetwork",
          "DeepNeuralNetwork",
          "DeepNeuralNetwork",
          "DeepNeuralNetwork",
          "DeepNeuralNetwork",
          "DeepNeuralNetwork",
          "DeepNeuralNetwork",
          "DeepNeuralNetwork",
          "DeepNeuralNetwork"
         ],
         "y": [
          1.060383417006254e-7,
          3.756252355477385e-7,
          1.212093319533092e-7,
          2.932490978458172e-7,
          2.842601742021958e-7,
          1.4124350839698346e-7,
          1.525879101864705e-7,
          2.4380549432838697e-7,
          2.695876216997871e-7,
          2.505147473877596e-7,
          1.542511801062678e-7,
          1.5296782617663096e-7,
          2.428302989733629e-7,
          3.715983681001727e-7,
          4.971766052715501e-7,
          2.5705435854330924e-7,
          1.692475504132783e-7,
          4.363247816316362e-7,
          1.1845063276451699e-7,
          1.430680439023016e-7,
          1.2063278589848764e-7,
          2.3717619378931315e-7,
          1.352009482450886e-7,
          4.185446271570345e-7,
          1.966788786187356e-7,
          1.4033656694318816e-7,
          4.447269467554478e-7,
          1.3832929134831656e-7,
          2.2956707236261933e-7,
          2.3300716807828775e-7,
          2.2929011080866785e-7,
          1.497985038603246e-7,
          3.776604558620653e-7,
          2.5933483207944696e-7,
          1.8605896952164985e-7,
          2.2691711727479066e-7,
          2.1396970105317173e-7,
          2.2042535587551637e-7,
          1.595422130596172e-7,
          3.471599993682892e-7,
          0.0000028387991469595603,
          0.000002987475662981527,
          0.0000033283058627567048,
          0.000003451757518811152,
          0.000003846125404461612,
          0.000002805820846543119,
          0.000003658438957522374,
          0.000002751755103843007,
          0.000002799230029492143,
          0.000003236170794125148,
          0.000002877619468962759,
          0.000003461916250283503,
          0.0000031296457483416702,
          0.0000029863885220660427,
          0.0000034261887489456765,
          0.000003517150172622357,
          0.0000032481595745774763,
          0.000003107892483072928,
          0.00000353038721495353,
          0.0000028321401759272107,
          0.000003174642714926304,
          0.0000026937446712294207,
          0.000002616372689097455,
          0.000003479585525745536,
          0.000003014377087182411,
          0.000002827620832501678,
          0.000003120470894865104,
          0.000002984435286630888,
          0.0000028494864040748678,
          0.0000030940446403453837,
          0.000003182474507784421,
          0.0000028076751372588856,
          0.000003405032321037934,
          0.0000027781422372321306,
          0.000002591694637140698,
          0.0000029713494250434205,
          0.0000031140841185400663,
          0.000003349213258016428,
          0.0000028294973715020395,
          0.000003262796310977631,
          0.000011180368359003955,
          0.000011260748374226654,
          0.000010302038330017122,
          0.00001044678779065758,
          0.000011523057434028063,
          0.000010500402273288993,
          0.000012669223927244243,
          0.000010746949452947966,
          0.000011786787672160529,
          0.000014721022808366398,
          0.00001080242749516543,
          0.00001269987523727905,
          0.000011284850618174282,
          0.00001093478142692294,
          0.000012902694134433276,
          0.000011409042313219105,
          0.00001338766791124965,
          0.000011913032071443922,
          0.000011148637637681258,
          0.00001219044634857792
         ]
        }
       ],
       "layout": {
        "boxmode": "group",
        "template": {
         "data": {
          "bar": [
           {
            "error_x": {
             "color": "#2a3f5f"
            },
            "error_y": {
             "color": "#2a3f5f"
            },
            "marker": {
             "line": {
              "color": "#E5ECF6",
              "width": 0.5
             },
             "pattern": {
              "fillmode": "overlay",
              "size": 10,
              "solidity": 0.2
             }
            },
            "type": "bar"
           }
          ],
          "barpolar": [
           {
            "marker": {
             "line": {
              "color": "#E5ECF6",
              "width": 0.5
             },
             "pattern": {
              "fillmode": "overlay",
              "size": 10,
              "solidity": 0.2
             }
            },
            "type": "barpolar"
           }
          ],
          "carpet": [
           {
            "aaxis": {
             "endlinecolor": "#2a3f5f",
             "gridcolor": "white",
             "linecolor": "white",
             "minorgridcolor": "white",
             "startlinecolor": "#2a3f5f"
            },
            "baxis": {
             "endlinecolor": "#2a3f5f",
             "gridcolor": "white",
             "linecolor": "white",
             "minorgridcolor": "white",
             "startlinecolor": "#2a3f5f"
            },
            "type": "carpet"
           }
          ],
          "choropleth": [
           {
            "colorbar": {
             "outlinewidth": 0,
             "ticks": ""
            },
            "type": "choropleth"
           }
          ],
          "contour": [
           {
            "colorbar": {
             "outlinewidth": 0,
             "ticks": ""
            },
            "colorscale": [
             [
              0,
              "#0d0887"
             ],
             [
              0.1111111111111111,
              "#46039f"
             ],
             [
              0.2222222222222222,
              "#7201a8"
             ],
             [
              0.3333333333333333,
              "#9c179e"
             ],
             [
              0.4444444444444444,
              "#bd3786"
             ],
             [
              0.5555555555555556,
              "#d8576b"
             ],
             [
              0.6666666666666666,
              "#ed7953"
             ],
             [
              0.7777777777777778,
              "#fb9f3a"
             ],
             [
              0.8888888888888888,
              "#fdca26"
             ],
             [
              1,
              "#f0f921"
             ]
            ],
            "type": "contour"
           }
          ],
          "contourcarpet": [
           {
            "colorbar": {
             "outlinewidth": 0,
             "ticks": ""
            },
            "type": "contourcarpet"
           }
          ],
          "heatmap": [
           {
            "colorbar": {
             "outlinewidth": 0,
             "ticks": ""
            },
            "colorscale": [
             [
              0,
              "#0d0887"
             ],
             [
              0.1111111111111111,
              "#46039f"
             ],
             [
              0.2222222222222222,
              "#7201a8"
             ],
             [
              0.3333333333333333,
              "#9c179e"
             ],
             [
              0.4444444444444444,
              "#bd3786"
             ],
             [
              0.5555555555555556,
              "#d8576b"
             ],
             [
              0.6666666666666666,
              "#ed7953"
             ],
             [
              0.7777777777777778,
              "#fb9f3a"
             ],
             [
              0.8888888888888888,
              "#fdca26"
             ],
             [
              1,
              "#f0f921"
             ]
            ],
            "type": "heatmap"
           }
          ],
          "heatmapgl": [
           {
            "colorbar": {
             "outlinewidth": 0,
             "ticks": ""
            },
            "colorscale": [
             [
              0,
              "#0d0887"
             ],
             [
              0.1111111111111111,
              "#46039f"
             ],
             [
              0.2222222222222222,
              "#7201a8"
             ],
             [
              0.3333333333333333,
              "#9c179e"
             ],
             [
              0.4444444444444444,
              "#bd3786"
             ],
             [
              0.5555555555555556,
              "#d8576b"
             ],
             [
              0.6666666666666666,
              "#ed7953"
             ],
             [
              0.7777777777777778,
              "#fb9f3a"
             ],
             [
              0.8888888888888888,
              "#fdca26"
             ],
             [
              1,
              "#f0f921"
             ]
            ],
            "type": "heatmapgl"
           }
          ],
          "histogram": [
           {
            "marker": {
             "pattern": {
              "fillmode": "overlay",
              "size": 10,
              "solidity": 0.2
             }
            },
            "type": "histogram"
           }
          ],
          "histogram2d": [
           {
            "colorbar": {
             "outlinewidth": 0,
             "ticks": ""
            },
            "colorscale": [
             [
              0,
              "#0d0887"
             ],
             [
              0.1111111111111111,
              "#46039f"
             ],
             [
              0.2222222222222222,
              "#7201a8"
             ],
             [
              0.3333333333333333,
              "#9c179e"
             ],
             [
              0.4444444444444444,
              "#bd3786"
             ],
             [
              0.5555555555555556,
              "#d8576b"
             ],
             [
              0.6666666666666666,
              "#ed7953"
             ],
             [
              0.7777777777777778,
              "#fb9f3a"
             ],
             [
              0.8888888888888888,
              "#fdca26"
             ],
             [
              1,
              "#f0f921"
             ]
            ],
            "type": "histogram2d"
           }
          ],
          "histogram2dcontour": [
           {
            "colorbar": {
             "outlinewidth": 0,
             "ticks": ""
            },
            "colorscale": [
             [
              0,
              "#0d0887"
             ],
             [
              0.1111111111111111,
              "#46039f"
             ],
             [
              0.2222222222222222,
              "#7201a8"
             ],
             [
              0.3333333333333333,
              "#9c179e"
             ],
             [
              0.4444444444444444,
              "#bd3786"
             ],
             [
              0.5555555555555556,
              "#d8576b"
             ],
             [
              0.6666666666666666,
              "#ed7953"
             ],
             [
              0.7777777777777778,
              "#fb9f3a"
             ],
             [
              0.8888888888888888,
              "#fdca26"
             ],
             [
              1,
              "#f0f921"
             ]
            ],
            "type": "histogram2dcontour"
           }
          ],
          "mesh3d": [
           {
            "colorbar": {
             "outlinewidth": 0,
             "ticks": ""
            },
            "type": "mesh3d"
           }
          ],
          "parcoords": [
           {
            "line": {
             "colorbar": {
              "outlinewidth": 0,
              "ticks": ""
             }
            },
            "type": "parcoords"
           }
          ],
          "pie": [
           {
            "automargin": true,
            "type": "pie"
           }
          ],
          "scatter": [
           {
            "fillpattern": {
             "fillmode": "overlay",
             "size": 10,
             "solidity": 0.2
            },
            "type": "scatter"
           }
          ],
          "scatter3d": [
           {
            "line": {
             "colorbar": {
              "outlinewidth": 0,
              "ticks": ""
             }
            },
            "marker": {
             "colorbar": {
              "outlinewidth": 0,
              "ticks": ""
             }
            },
            "type": "scatter3d"
           }
          ],
          "scattercarpet": [
           {
            "marker": {
             "colorbar": {
              "outlinewidth": 0,
              "ticks": ""
             }
            },
            "type": "scattercarpet"
           }
          ],
          "scattergeo": [
           {
            "marker": {
             "colorbar": {
              "outlinewidth": 0,
              "ticks": ""
             }
            },
            "type": "scattergeo"
           }
          ],
          "scattergl": [
           {
            "marker": {
             "colorbar": {
              "outlinewidth": 0,
              "ticks": ""
             }
            },
            "type": "scattergl"
           }
          ],
          "scattermapbox": [
           {
            "marker": {
             "colorbar": {
              "outlinewidth": 0,
              "ticks": ""
             }
            },
            "type": "scattermapbox"
           }
          ],
          "scatterpolar": [
           {
            "marker": {
             "colorbar": {
              "outlinewidth": 0,
              "ticks": ""
             }
            },
            "type": "scatterpolar"
           }
          ],
          "scatterpolargl": [
           {
            "marker": {
             "colorbar": {
              "outlinewidth": 0,
              "ticks": ""
             }
            },
            "type": "scatterpolargl"
           }
          ],
          "scatterternary": [
           {
            "marker": {
             "colorbar": {
              "outlinewidth": 0,
              "ticks": ""
             }
            },
            "type": "scatterternary"
           }
          ],
          "surface": [
           {
            "colorbar": {
             "outlinewidth": 0,
             "ticks": ""
            },
            "colorscale": [
             [
              0,
              "#0d0887"
             ],
             [
              0.1111111111111111,
              "#46039f"
             ],
             [
              0.2222222222222222,
              "#7201a8"
             ],
             [
              0.3333333333333333,
              "#9c179e"
             ],
             [
              0.4444444444444444,
              "#bd3786"
             ],
             [
              0.5555555555555556,
              "#d8576b"
             ],
             [
              0.6666666666666666,
              "#ed7953"
             ],
             [
              0.7777777777777778,
              "#fb9f3a"
             ],
             [
              0.8888888888888888,
              "#fdca26"
             ],
             [
              1,
              "#f0f921"
             ]
            ],
            "type": "surface"
           }
          ],
          "table": [
           {
            "cells": {
             "fill": {
              "color": "#EBF0F8"
             },
             "line": {
              "color": "white"
             }
            },
            "header": {
             "fill": {
              "color": "#C8D4E3"
             },
             "line": {
              "color": "white"
             }
            },
            "type": "table"
           }
          ]
         },
         "layout": {
          "annotationdefaults": {
           "arrowcolor": "#2a3f5f",
           "arrowhead": 0,
           "arrowwidth": 1
          },
          "autotypenumbers": "strict",
          "coloraxis": {
           "colorbar": {
            "outlinewidth": 0,
            "ticks": ""
           }
          },
          "colorscale": {
           "diverging": [
            [
             0,
             "#8e0152"
            ],
            [
             0.1,
             "#c51b7d"
            ],
            [
             0.2,
             "#de77ae"
            ],
            [
             0.3,
             "#f1b6da"
            ],
            [
             0.4,
             "#fde0ef"
            ],
            [
             0.5,
             "#f7f7f7"
            ],
            [
             0.6,
             "#e6f5d0"
            ],
            [
             0.7,
             "#b8e186"
            ],
            [
             0.8,
             "#7fbc41"
            ],
            [
             0.9,
             "#4d9221"
            ],
            [
             1,
             "#276419"
            ]
           ],
           "sequential": [
            [
             0,
             "#0d0887"
            ],
            [
             0.1111111111111111,
             "#46039f"
            ],
            [
             0.2222222222222222,
             "#7201a8"
            ],
            [
             0.3333333333333333,
             "#9c179e"
            ],
            [
             0.4444444444444444,
             "#bd3786"
            ],
            [
             0.5555555555555556,
             "#d8576b"
            ],
            [
             0.6666666666666666,
             "#ed7953"
            ],
            [
             0.7777777777777778,
             "#fb9f3a"
            ],
            [
             0.8888888888888888,
             "#fdca26"
            ],
            [
             1,
             "#f0f921"
            ]
           ],
           "sequentialminus": [
            [
             0,
             "#0d0887"
            ],
            [
             0.1111111111111111,
             "#46039f"
            ],
            [
             0.2222222222222222,
             "#7201a8"
            ],
            [
             0.3333333333333333,
             "#9c179e"
            ],
            [
             0.4444444444444444,
             "#bd3786"
            ],
            [
             0.5555555555555556,
             "#d8576b"
            ],
            [
             0.6666666666666666,
             "#ed7953"
            ],
            [
             0.7777777777777778,
             "#fb9f3a"
            ],
            [
             0.8888888888888888,
             "#fdca26"
            ],
            [
             1,
             "#f0f921"
            ]
           ]
          },
          "colorway": [
           "#636efa",
           "#EF553B",
           "#00cc96",
           "#ab63fa",
           "#FFA15A",
           "#19d3f3",
           "#FF6692",
           "#B6E880",
           "#FF97FF",
           "#FECB52"
          ],
          "font": {
           "color": "#2a3f5f"
          },
          "geo": {
           "bgcolor": "white",
           "lakecolor": "white",
           "landcolor": "#E5ECF6",
           "showlakes": true,
           "showland": true,
           "subunitcolor": "white"
          },
          "hoverlabel": {
           "align": "left"
          },
          "hovermode": "closest",
          "mapbox": {
           "style": "light"
          },
          "paper_bgcolor": "white",
          "plot_bgcolor": "#E5ECF6",
          "polar": {
           "angularaxis": {
            "gridcolor": "white",
            "linecolor": "white",
            "ticks": ""
           },
           "bgcolor": "#E5ECF6",
           "radialaxis": {
            "gridcolor": "white",
            "linecolor": "white",
            "ticks": ""
           }
          },
          "scene": {
           "xaxis": {
            "backgroundcolor": "#E5ECF6",
            "gridcolor": "white",
            "gridwidth": 2,
            "linecolor": "white",
            "showbackground": true,
            "ticks": "",
            "zerolinecolor": "white"
           },
           "yaxis": {
            "backgroundcolor": "#E5ECF6",
            "gridcolor": "white",
            "gridwidth": 2,
            "linecolor": "white",
            "showbackground": true,
            "ticks": "",
            "zerolinecolor": "white"
           },
           "zaxis": {
            "backgroundcolor": "#E5ECF6",
            "gridcolor": "white",
            "gridwidth": 2,
            "linecolor": "white",
            "showbackground": true,
            "ticks": "",
            "zerolinecolor": "white"
           }
          },
          "shapedefaults": {
           "line": {
            "color": "#2a3f5f"
           }
          },
          "ternary": {
           "aaxis": {
            "gridcolor": "white",
            "linecolor": "white",
            "ticks": ""
           },
           "baxis": {
            "gridcolor": "white",
            "linecolor": "white",
            "ticks": ""
           },
           "bgcolor": "#E5ECF6",
           "caxis": {
            "gridcolor": "white",
            "linecolor": "white",
            "ticks": ""
           }
          },
          "title": {
           "x": 0.05
          },
          "xaxis": {
           "automargin": true,
           "gridcolor": "white",
           "linecolor": "white",
           "ticks": "",
           "title": {
            "standoff": 15
           },
           "zerolinecolor": "white",
           "zerolinewidth": 2
          },
          "yaxis": {
           "automargin": true,
           "gridcolor": "white",
           "linecolor": "white",
           "ticks": "",
           "title": {
            "standoff": 15
           },
           "zerolinecolor": "white",
           "zerolinewidth": 2
          }
         }
        },
        "title": {
         "text": "emissions_train"
        },
        "yaxis": {
         "title": {
          "text": "emissions_train"
         }
        }
       }
      }
     },
     "metadata": {},
     "output_type": "display_data"
    },
    {
     "data": {
      "application/vnd.plotly.v1+json": {
       "config": {
        "plotlyServerURL": "https://plot.ly"
       },
       "data": [
        {
         "name": "Full",
         "type": "box",
         "x": [
          "LogisticRegression",
          "LogisticRegression",
          "LogisticRegression",
          "LogisticRegression",
          "LogisticRegression",
          "LogisticRegression",
          "LogisticRegression",
          "LogisticRegression",
          "LogisticRegression",
          "LogisticRegression",
          "LogisticRegression",
          "LogisticRegression",
          "LogisticRegression",
          "LogisticRegression",
          "LogisticRegression",
          "LogisticRegression",
          "LogisticRegression",
          "LogisticRegression",
          "LogisticRegression",
          "LogisticRegression",
          "SVC",
          "SVC",
          "SVC",
          "SVC",
          "SVC",
          "SVC",
          "SVC",
          "SVC",
          "SVC",
          "SVC",
          "SVC",
          "SVC",
          "SVC",
          "SVC",
          "SVC",
          "SVC",
          "SVC",
          "SVC",
          "SVC",
          "SVC",
          "RandomForestClassifier",
          "RandomForestClassifier",
          "RandomForestClassifier",
          "RandomForestClassifier",
          "RandomForestClassifier",
          "RandomForestClassifier",
          "RandomForestClassifier",
          "RandomForestClassifier",
          "RandomForestClassifier",
          "RandomForestClassifier",
          "RandomForestClassifier",
          "RandomForestClassifier",
          "RandomForestClassifier",
          "RandomForestClassifier",
          "RandomForestClassifier",
          "RandomForestClassifier",
          "RandomForestClassifier",
          "RandomForestClassifier",
          "RandomForestClassifier",
          "RandomForestClassifier",
          "GradientBoostingClassifier",
          "GradientBoostingClassifier",
          "GradientBoostingClassifier",
          "GradientBoostingClassifier",
          "GradientBoostingClassifier",
          "GradientBoostingClassifier",
          "GradientBoostingClassifier",
          "GradientBoostingClassifier",
          "GradientBoostingClassifier",
          "GradientBoostingClassifier",
          "GradientBoostingClassifier",
          "GradientBoostingClassifier",
          "GradientBoostingClassifier",
          "GradientBoostingClassifier",
          "GradientBoostingClassifier",
          "GradientBoostingClassifier",
          "GradientBoostingClassifier",
          "GradientBoostingClassifier",
          "GradientBoostingClassifier",
          "GradientBoostingClassifier",
          "DeepNeuralNetwork",
          "DeepNeuralNetwork",
          "DeepNeuralNetwork",
          "DeepNeuralNetwork",
          "DeepNeuralNetwork",
          "DeepNeuralNetwork",
          "DeepNeuralNetwork",
          "DeepNeuralNetwork",
          "DeepNeuralNetwork",
          "DeepNeuralNetwork",
          "DeepNeuralNetwork",
          "DeepNeuralNetwork",
          "DeepNeuralNetwork",
          "DeepNeuralNetwork",
          "DeepNeuralNetwork",
          "DeepNeuralNetwork",
          "DeepNeuralNetwork",
          "DeepNeuralNetwork",
          "DeepNeuralNetwork",
          "DeepNeuralNetwork"
         ],
         "y": [
          3.220791595171316e-7,
          1.741048610772074e-7,
          1.0592154350711273e-7,
          1.255021647703948e-7,
          1.0312611214589527e-7,
          1.194374339092211e-7,
          1.1401635525293274e-7,
          1.258082552592875e-7,
          1.247149035016326e-7,
          1.863259788213029e-7,
          1.0407990800893192e-7,
          1.577916806864803e-7,
          1.1478705178036287e-7,
          1.0915845621503607e-7,
          9.942558719519198e-8,
          1.1028684874332327e-7,
          1.1320627559636628e-7,
          3.081975317319359e-7,
          1.6735581545145733e-7,
          1.047564093278712e-7,
          5.784877799856671e-7,
          2.8171451910120014e-7,
          6.001142445497074e-7,
          5.347780941602348e-7,
          4.56780448079017e-7,
          5.977031092691248e-7,
          3.696502309078094e-7,
          4.453551052847633e-7,
          2.379292377235973e-7,
          5.500959556394708e-7,
          2.9025391543578173e-7,
          7.858838656502661e-7,
          2.7197476444021026e-7,
          4.247061389573738e-7,
          5.5809233893327e-7,
          5.451839295280911e-7,
          5.324665311311379e-7,
          7.077199651447583e-7,
          3.103378327954862e-7,
          9.339983472827184e-7,
          2.719691395149885e-7,
          5.700520379410979e-7,
          2.665411134254031e-7,
          2.468108737370498e-7,
          2.756624102686657e-7,
          2.6166470241321786e-7,
          4.894314891597251e-7,
          2.6537754176342125e-7,
          2.519388012667007e-7,
          2.718113920256553e-7,
          2.233338191335102e-7,
          2.513547716583888e-7,
          2.6608216422753e-7,
          2.616654885647437e-7,
          2.661210674796775e-7,
          2.3534442848390305e-7,
          2.653620589769274e-7,
          2.828710363254189e-7,
          2.5505528868205625e-7,
          2.3822612950775805e-7,
          1.1088173234490364e-7,
          1.3717238389913608e-7,
          1.0910743955365455e-7,
          1.554638161059118e-7,
          1.224776748499478e-7,
          1.0514265364738527e-7,
          9.307796370802701e-8,
          8.866417758671141e-8,
          1.0611454247504842e-7,
          1.2061831861976714e-7,
          1.0431818491516733e-7,
          1.5457019070458725e-7,
          1.1966907217269597e-7,
          1.377549313607944e-7,
          1.1067552236959309e-7,
          1.468905973989101e-7,
          1.3833529275493646e-7,
          1.790816787665059e-7,
          1.042636803543634e-7,
          1.994386096683225e-7,
          0.0000025926179755739678,
          0.0000011602319369909372,
          0.0000013584788036711932,
          0.0000014594403819951127,
          0.0000013401798388697862,
          0.0000016162321160289591,
          0.0000015384200983058443,
          0.0000012246252494525008,
          0.0000015077972467810003,
          0.0000014962955262282725,
          0.0000012336443844266026,
          0.0000011365954432473048,
          0.0000019704242269027485,
          0.0000011407787996766912,
          0.0000011784899285075478,
          0.00000112269934591662,
          0.0000011834823899512588,
          0.0000015296178967261946,
          0.000001408084793307952,
          0.0000013722731189559178
         ]
        },
        {
         "name": "FR",
         "type": "box",
         "x": [
          "LogisticRegression",
          "LogisticRegression",
          "LogisticRegression",
          "LogisticRegression",
          "LogisticRegression",
          "LogisticRegression",
          "LogisticRegression",
          "LogisticRegression",
          "LogisticRegression",
          "LogisticRegression",
          "LogisticRegression",
          "LogisticRegression",
          "LogisticRegression",
          "LogisticRegression",
          "LogisticRegression",
          "LogisticRegression",
          "LogisticRegression",
          "LogisticRegression",
          "LogisticRegression",
          "LogisticRegression",
          "SVC",
          "SVC",
          "SVC",
          "SVC",
          "SVC",
          "SVC",
          "SVC",
          "SVC",
          "SVC",
          "SVC",
          "SVC",
          "SVC",
          "SVC",
          "SVC",
          "SVC",
          "SVC",
          "SVC",
          "SVC",
          "SVC",
          "SVC",
          "RandomForestClassifier",
          "RandomForestClassifier",
          "RandomForestClassifier",
          "RandomForestClassifier",
          "RandomForestClassifier",
          "RandomForestClassifier",
          "RandomForestClassifier",
          "RandomForestClassifier",
          "RandomForestClassifier",
          "RandomForestClassifier",
          "RandomForestClassifier",
          "RandomForestClassifier",
          "RandomForestClassifier",
          "RandomForestClassifier",
          "RandomForestClassifier",
          "RandomForestClassifier",
          "RandomForestClassifier",
          "RandomForestClassifier",
          "RandomForestClassifier",
          "RandomForestClassifier",
          "GradientBoostingClassifier",
          "GradientBoostingClassifier",
          "GradientBoostingClassifier",
          "GradientBoostingClassifier",
          "GradientBoostingClassifier",
          "GradientBoostingClassifier",
          "GradientBoostingClassifier",
          "GradientBoostingClassifier",
          "GradientBoostingClassifier",
          "GradientBoostingClassifier",
          "GradientBoostingClassifier",
          "GradientBoostingClassifier",
          "GradientBoostingClassifier",
          "GradientBoostingClassifier",
          "GradientBoostingClassifier",
          "GradientBoostingClassifier",
          "GradientBoostingClassifier",
          "GradientBoostingClassifier",
          "GradientBoostingClassifier",
          "GradientBoostingClassifier",
          "DeepNeuralNetwork",
          "DeepNeuralNetwork",
          "DeepNeuralNetwork",
          "DeepNeuralNetwork",
          "DeepNeuralNetwork",
          "DeepNeuralNetwork",
          "DeepNeuralNetwork",
          "DeepNeuralNetwork",
          "DeepNeuralNetwork",
          "DeepNeuralNetwork",
          "DeepNeuralNetwork",
          "DeepNeuralNetwork",
          "DeepNeuralNetwork",
          "DeepNeuralNetwork",
          "DeepNeuralNetwork",
          "DeepNeuralNetwork",
          "DeepNeuralNetwork",
          "DeepNeuralNetwork",
          "DeepNeuralNetwork",
          "DeepNeuralNetwork"
         ],
         "y": [
          1.0939165062066188e-7,
          1.2502814252662864e-7,
          1.8640998564883882e-7,
          1.0500350132707643e-7,
          4.424120989806116e-7,
          1.200359103564405e-7,
          1.8713875295575666e-7,
          1.1144836278582233e-7,
          1.2354155096714128e-7,
          1.140147259811285e-7,
          1.0100004982881161e-7,
          3.701675343227573e-7,
          1.3428608848595897e-7,
          2.483839477056618e-7,
          1.2714226629677305e-7,
          1.3794657091267817e-7,
          3.427562577399887e-7,
          1.683115432686566e-7,
          1.1748075031802613e-7,
          9.635805520158415e-8,
          2.233386579069893e-7,
          7.706533978269273e-7,
          3.099088496149108e-7,
          6.531742221143645e-7,
          5.371897910597112e-7,
          5.268932131265516e-7,
          3.340307720570493e-7,
          7.691681945388822e-7,
          3.243181834820634e-7,
          4.740588363475601e-7,
          7.070239005577128e-7,
          4.398373587791854e-7,
          4.623767419177291e-7,
          4.746921656345778e-7,
          2.336469103482973e-7,
          4.097422144108513e-7,
          7.077939972511584e-7,
          6.937803427894788e-7,
          5.627807613422554e-7,
          0.0000010427107986427445,
          2.939613260280645e-7,
          2.674047616399791e-7,
          2.470803454324416e-7,
          2.3986511485667335e-7,
          2.5621559387382746e-7,
          2.6536149425461335e-7,
          2.610902443418283e-7,
          2.759118607224484e-7,
          2.898973409934999e-7,
          2.714035237975313e-7,
          2.867013095537823e-7,
          3.250040715493258e-7,
          2.6653929591289975e-7,
          2.616094354806944e-7,
          2.773205107033973e-7,
          2.928253539026711e-7,
          2.67110126885451e-7,
          2.568218036692969e-7,
          2.6557542396189564e-7,
          2.665264167906519e-7,
          1.2862093570981464e-7,
          1.9124065930116105e-7,
          1.846368373067085e-7,
          1.0147455411797097e-7,
          1.334809717735107e-7,
          1.3834114703618894e-7,
          3.334544063161079e-7,
          1.1414378991059414e-7,
          1.4885060635808078e-7,
          1.334627872393371e-7,
          1.821023405570825e-7,
          1.3846584169551794e-7,
          1.442451829343841e-7,
          1.3661583302777489e-7,
          1.2743574858255574e-7,
          1.3904327991276846e-7,
          1.298469980380839e-7,
          1.3343479388604196e-7,
          1.3347274318404288e-7,
          1.0654316406314043e-7,
          0.0000011496561688393008,
          0.0000011388288805497292,
          0.0000011452894040337542,
          0.0000016595654715564532,
          0.0000015827691367738823,
          0.0000011127048405902432,
          0.0000011756580863351697,
          0.0000014364339181585704,
          0.0000012269430621140282,
          0.000001635696646349813,
          0.000001932436320412046,
          0.0000016326543316689266,
          0.0000011415427968039992,
          0.0000013359012287497089,
          0.000001299763764754853,
          0.0000011553614783437569,
          0.0000011926738922291404,
          0.000001142849544734999,
          0.0000011567536711460952,
          0.0000015780426152854502
         ]
        },
        {
         "name": "SS",
         "type": "box",
         "x": [
          "LogisticRegression",
          "LogisticRegression",
          "LogisticRegression",
          "LogisticRegression",
          "LogisticRegression",
          "LogisticRegression",
          "LogisticRegression",
          "LogisticRegression",
          "LogisticRegression",
          "LogisticRegression",
          "LogisticRegression",
          "LogisticRegression",
          "LogisticRegression",
          "LogisticRegression",
          "LogisticRegression",
          "LogisticRegression",
          "LogisticRegression",
          "LogisticRegression",
          "LogisticRegression",
          "LogisticRegression",
          "SVC",
          "SVC",
          "SVC",
          "SVC",
          "SVC",
          "SVC",
          "SVC",
          "SVC",
          "SVC",
          "SVC",
          "SVC",
          "SVC",
          "SVC",
          "SVC",
          "SVC",
          "SVC",
          "SVC",
          "SVC",
          "SVC",
          "SVC",
          "RandomForestClassifier",
          "RandomForestClassifier",
          "RandomForestClassifier",
          "RandomForestClassifier",
          "RandomForestClassifier",
          "RandomForestClassifier",
          "RandomForestClassifier",
          "RandomForestClassifier",
          "RandomForestClassifier",
          "RandomForestClassifier",
          "RandomForestClassifier",
          "RandomForestClassifier",
          "RandomForestClassifier",
          "RandomForestClassifier",
          "RandomForestClassifier",
          "RandomForestClassifier",
          "RandomForestClassifier",
          "RandomForestClassifier",
          "RandomForestClassifier",
          "RandomForestClassifier",
          "GradientBoostingClassifier",
          "GradientBoostingClassifier",
          "GradientBoostingClassifier",
          "GradientBoostingClassifier",
          "GradientBoostingClassifier",
          "GradientBoostingClassifier",
          "GradientBoostingClassifier",
          "GradientBoostingClassifier",
          "GradientBoostingClassifier",
          "GradientBoostingClassifier",
          "GradientBoostingClassifier",
          "GradientBoostingClassifier",
          "GradientBoostingClassifier",
          "GradientBoostingClassifier",
          "GradientBoostingClassifier",
          "GradientBoostingClassifier",
          "GradientBoostingClassifier",
          "GradientBoostingClassifier",
          "GradientBoostingClassifier",
          "GradientBoostingClassifier",
          "DeepNeuralNetwork",
          "DeepNeuralNetwork",
          "DeepNeuralNetwork",
          "DeepNeuralNetwork",
          "DeepNeuralNetwork",
          "DeepNeuralNetwork",
          "DeepNeuralNetwork",
          "DeepNeuralNetwork",
          "DeepNeuralNetwork",
          "DeepNeuralNetwork",
          "DeepNeuralNetwork",
          "DeepNeuralNetwork",
          "DeepNeuralNetwork",
          "DeepNeuralNetwork",
          "DeepNeuralNetwork",
          "DeepNeuralNetwork",
          "DeepNeuralNetwork",
          "DeepNeuralNetwork",
          "DeepNeuralNetwork",
          "DeepNeuralNetwork"
         ],
         "y": [
          1.1954926516007797e-7,
          1.256771129929703e-7,
          1.939161364951196e-7,
          2.4513306357693e-7,
          8.405740131852898e-8,
          1.1940657916988465e-7,
          1.3460273313829765e-7,
          1.181705769591479e-7,
          8.28609707861916e-8,
          1.1587499218479459e-7,
          2.8366135121837485e-7,
          1.6761756473603062e-7,
          1.0705455693064624e-7,
          1.0369298585532693e-7,
          1.1492889465027772e-7,
          1.1462769931684659e-7,
          1.1515870526656105e-7,
          1.5287735964306107e-7,
          1.6920044024247918e-7,
          1.0119033895441416e-7,
          3.102868083065987e-7,
          4.661987361318995e-7,
          6.162284948009293e-7,
          4.549252148695546e-7,
          4.221901839995476e-7,
          4.362924386843055e-7,
          2.6167013909752374e-7,
          4.383942885143391e-7,
          6.810317524160066e-7,
          4.694565475232143e-7,
          3.0970304916964897e-7,
          6.758841408008309e-7,
          9.794681198227635e-7,
          3.0735342440449745e-7,
          4.997168824051601e-7,
          5.473784942793686e-7,
          3.472404080553764e-7,
          5.608491104617738e-7,
          2.044673309445182e-7,
          9.177229054078626e-7,
          2.707859913298784e-7,
          2.661089141991254e-7,
          2.504780043134647e-7,
          5.325181120844052e-7,
          2.8594310887337417e-7,
          3.682951154708458e-7,
          2.601826303945051e-7,
          2.756955619085192e-7,
          4.637867447026146e-7,
          2.657886061564492e-7,
          2.616700489406921e-7,
          2.422155196372001e-7,
          2.465065912825651e-7,
          5.279911274678074e-7,
          2.459090197462575e-7,
          5.056208395943975e-7,
          2.001743516293845e-7,
          2.4703040931383334e-7,
          2.5680004900525445e-7,
          2.98527008461098e-7,
          1.187912678183179e-7,
          1.3346408907146008e-7,
          1.280354160288974e-7,
          1.3012389297670238e-7,
          2.455714701464409e-7,
          1.5205387232327706e-7,
          1.1900256153825167e-7,
          1.5973391131194128e-7,
          1.1516685162579929e-7,
          9.144975971061772e-8,
          1.639842308518401e-7,
          1.1888109089112572e-7,
          1.1517850321911793e-7,
          1.1947526468484258e-7,
          1.284121646670435e-7,
          1.4270174353942996e-7,
          1.1030797026820825e-7,
          1.123086941052457e-7,
          1.2315198017593366e-7,
          1.1889714632675256e-7,
          0.0000011471730089902257,
          0.000001600248177801157,
          0.0000011762927498174195,
          0.0000011307948972480789,
          0.0000011405093916326678,
          0.0000011653868914080368,
          0.0000011428481116307126,
          0.0000013296002659613946,
          0.0000012672890387340275,
          0.0000011627426209977632,
          0.0000011112952871790774,
          0.0000011121785853546735,
          0.0000011755193535409282,
          0.0000011535140674123845,
          0.0000011734685840239425,
          0.0000011495239275912924,
          0.0000014071438578897209,
          0.000001212770514562962,
          0.000001333575644728996,
          0.0000012622173904424823
         ]
        },
        {
         "name": "SS & FR",
         "type": "box",
         "x": [
          "LogisticRegression",
          "LogisticRegression",
          "LogisticRegression",
          "LogisticRegression",
          "LogisticRegression",
          "LogisticRegression",
          "LogisticRegression",
          "LogisticRegression",
          "LogisticRegression",
          "LogisticRegression",
          "LogisticRegression",
          "LogisticRegression",
          "LogisticRegression",
          "LogisticRegression",
          "LogisticRegression",
          "LogisticRegression",
          "LogisticRegression",
          "LogisticRegression",
          "LogisticRegression",
          "LogisticRegression",
          "SVC",
          "SVC",
          "SVC",
          "SVC",
          "SVC",
          "SVC",
          "SVC",
          "SVC",
          "SVC",
          "SVC",
          "SVC",
          "SVC",
          "SVC",
          "SVC",
          "SVC",
          "SVC",
          "SVC",
          "SVC",
          "SVC",
          "SVC",
          "RandomForestClassifier",
          "RandomForestClassifier",
          "RandomForestClassifier",
          "RandomForestClassifier",
          "RandomForestClassifier",
          "RandomForestClassifier",
          "RandomForestClassifier",
          "RandomForestClassifier",
          "RandomForestClassifier",
          "RandomForestClassifier",
          "RandomForestClassifier",
          "RandomForestClassifier",
          "RandomForestClassifier",
          "RandomForestClassifier",
          "RandomForestClassifier",
          "RandomForestClassifier",
          "RandomForestClassifier",
          "RandomForestClassifier",
          "RandomForestClassifier",
          "RandomForestClassifier",
          "GradientBoostingClassifier",
          "GradientBoostingClassifier",
          "GradientBoostingClassifier",
          "GradientBoostingClassifier",
          "GradientBoostingClassifier",
          "GradientBoostingClassifier",
          "GradientBoostingClassifier",
          "GradientBoostingClassifier",
          "GradientBoostingClassifier",
          "GradientBoostingClassifier",
          "GradientBoostingClassifier",
          "GradientBoostingClassifier",
          "GradientBoostingClassifier",
          "GradientBoostingClassifier",
          "GradientBoostingClassifier",
          "GradientBoostingClassifier",
          "GradientBoostingClassifier",
          "GradientBoostingClassifier",
          "GradientBoostingClassifier",
          "GradientBoostingClassifier",
          "DeepNeuralNetwork",
          "DeepNeuralNetwork",
          "DeepNeuralNetwork",
          "DeepNeuralNetwork",
          "DeepNeuralNetwork",
          "DeepNeuralNetwork",
          "DeepNeuralNetwork",
          "DeepNeuralNetwork",
          "DeepNeuralNetwork",
          "DeepNeuralNetwork",
          "DeepNeuralNetwork",
          "DeepNeuralNetwork",
          "DeepNeuralNetwork",
          "DeepNeuralNetwork",
          "DeepNeuralNetwork",
          "DeepNeuralNetwork",
          "DeepNeuralNetwork",
          "DeepNeuralNetwork",
          "DeepNeuralNetwork",
          "DeepNeuralNetwork"
         ],
         "y": [
          8.227837155691532e-8,
          2.1165117490519125e-7,
          1.1759596383557197e-7,
          1.3979140057627726e-7,
          1.348462115155144e-7,
          1.2788413724165726e-7,
          1.199938812162897e-7,
          1.0690314021684356e-7,
          1.1276828919271065e-7,
          1.140132849502401e-7,
          1.2168522586656141e-7,
          2.0898893430014093e-7,
          1.4942937612630325e-7,
          1.7075553507186344e-7,
          9.84883286032738e-8,
          1.2498992127494418e-7,
          1.888491505050438e-7,
          1.4302584431559462e-7,
          8.65950211320285e-8,
          8.276949503864192e-8,
          4.055583915931437e-7,
          4.761165060757425e-7,
          5.896158976922798e-7,
          7.108679347255127e-7,
          4.80559931960358e-7,
          3.128117667082486e-7,
          7.350259053108543e-7,
          3.194278208719717e-7,
          5.034179562245396e-7,
          2.1438741020255933e-7,
          8.88904696413808e-7,
          2.962949136172885e-7,
          3.025965929085231e-7,
          7.401618906635772e-7,
          7.968349451398932e-7,
          4.5825738332521206e-7,
          3.044066790277092e-7,
          0.0000010454807510291292,
          2.951517204838154e-7,
          4.130075651901169e-7,
          5.048421173570964e-7,
          2.6199693710609977e-7,
          3.8955008501242484e-7,
          2.9911920176308934e-7,
          2.870206763927463e-7,
          2.519364348850875e-7,
          2.8884894679587214e-7,
          2.521675536791123e-7,
          2.5445438536233177e-7,
          4.988309247244607e-7,
          2.6732881734312097e-7,
          2.373565560493795e-7,
          2.666707977728653e-7,
          2.572890098217519e-7,
          4.977409569714708e-7,
          3.078048974299117e-7,
          5.277979638700601e-7,
          2.76810761688914e-7,
          2.5855427230963256e-7,
          2.6773392210123655e-7,
          1.1091317248272325e-7,
          1.3345004731650514e-7,
          1.1518107369485125e-7,
          1.14614393427687e-7,
          1.0489459177144036e-7,
          2.719300892883945e-7,
          1.2050246896958168e-7,
          8.232787584712235e-8,
          2.872834009594577e-7,
          1.194643833894119e-7,
          1.34334115174271e-7,
          2.933506679340947e-7,
          1.1578465456416401e-7,
          9.2035238276637e-8,
          2.068352452551121e-7,
          1.218067209091036e-7,
          1.3718414942996e-7,
          1.4053190392740618e-7,
          1.1517913283678669e-7,
          9.572813254804872e-8,
          0.0000011376320725299625,
          0.0000013055863327164846,
          0.0000011865922813910582,
          0.0000013499355648763194,
          0.0000011811813314451403,
          0.0000014613290490140748,
          0.000001250925859427052,
          0.0000015833742499473185,
          0.0000013897121525479478,
          0.000001224637489548536,
          0.0000014134656867309523,
          0.0000011462256240648335,
          0.0000012550779432826068,
          0.0000011623117458321383,
          0.00000113985702500396,
          0.0000015344511582826917,
          0.0000012983728706113945,
          0.0000013737227342951969,
          0.0000013398732311490065,
          0.0000013549893605596924
         ]
        }
       ],
       "layout": {
        "boxmode": "group",
        "template": {
         "data": {
          "bar": [
           {
            "error_x": {
             "color": "#2a3f5f"
            },
            "error_y": {
             "color": "#2a3f5f"
            },
            "marker": {
             "line": {
              "color": "#E5ECF6",
              "width": 0.5
             },
             "pattern": {
              "fillmode": "overlay",
              "size": 10,
              "solidity": 0.2
             }
            },
            "type": "bar"
           }
          ],
          "barpolar": [
           {
            "marker": {
             "line": {
              "color": "#E5ECF6",
              "width": 0.5
             },
             "pattern": {
              "fillmode": "overlay",
              "size": 10,
              "solidity": 0.2
             }
            },
            "type": "barpolar"
           }
          ],
          "carpet": [
           {
            "aaxis": {
             "endlinecolor": "#2a3f5f",
             "gridcolor": "white",
             "linecolor": "white",
             "minorgridcolor": "white",
             "startlinecolor": "#2a3f5f"
            },
            "baxis": {
             "endlinecolor": "#2a3f5f",
             "gridcolor": "white",
             "linecolor": "white",
             "minorgridcolor": "white",
             "startlinecolor": "#2a3f5f"
            },
            "type": "carpet"
           }
          ],
          "choropleth": [
           {
            "colorbar": {
             "outlinewidth": 0,
             "ticks": ""
            },
            "type": "choropleth"
           }
          ],
          "contour": [
           {
            "colorbar": {
             "outlinewidth": 0,
             "ticks": ""
            },
            "colorscale": [
             [
              0,
              "#0d0887"
             ],
             [
              0.1111111111111111,
              "#46039f"
             ],
             [
              0.2222222222222222,
              "#7201a8"
             ],
             [
              0.3333333333333333,
              "#9c179e"
             ],
             [
              0.4444444444444444,
              "#bd3786"
             ],
             [
              0.5555555555555556,
              "#d8576b"
             ],
             [
              0.6666666666666666,
              "#ed7953"
             ],
             [
              0.7777777777777778,
              "#fb9f3a"
             ],
             [
              0.8888888888888888,
              "#fdca26"
             ],
             [
              1,
              "#f0f921"
             ]
            ],
            "type": "contour"
           }
          ],
          "contourcarpet": [
           {
            "colorbar": {
             "outlinewidth": 0,
             "ticks": ""
            },
            "type": "contourcarpet"
           }
          ],
          "heatmap": [
           {
            "colorbar": {
             "outlinewidth": 0,
             "ticks": ""
            },
            "colorscale": [
             [
              0,
              "#0d0887"
             ],
             [
              0.1111111111111111,
              "#46039f"
             ],
             [
              0.2222222222222222,
              "#7201a8"
             ],
             [
              0.3333333333333333,
              "#9c179e"
             ],
             [
              0.4444444444444444,
              "#bd3786"
             ],
             [
              0.5555555555555556,
              "#d8576b"
             ],
             [
              0.6666666666666666,
              "#ed7953"
             ],
             [
              0.7777777777777778,
              "#fb9f3a"
             ],
             [
              0.8888888888888888,
              "#fdca26"
             ],
             [
              1,
              "#f0f921"
             ]
            ],
            "type": "heatmap"
           }
          ],
          "heatmapgl": [
           {
            "colorbar": {
             "outlinewidth": 0,
             "ticks": ""
            },
            "colorscale": [
             [
              0,
              "#0d0887"
             ],
             [
              0.1111111111111111,
              "#46039f"
             ],
             [
              0.2222222222222222,
              "#7201a8"
             ],
             [
              0.3333333333333333,
              "#9c179e"
             ],
             [
              0.4444444444444444,
              "#bd3786"
             ],
             [
              0.5555555555555556,
              "#d8576b"
             ],
             [
              0.6666666666666666,
              "#ed7953"
             ],
             [
              0.7777777777777778,
              "#fb9f3a"
             ],
             [
              0.8888888888888888,
              "#fdca26"
             ],
             [
              1,
              "#f0f921"
             ]
            ],
            "type": "heatmapgl"
           }
          ],
          "histogram": [
           {
            "marker": {
             "pattern": {
              "fillmode": "overlay",
              "size": 10,
              "solidity": 0.2
             }
            },
            "type": "histogram"
           }
          ],
          "histogram2d": [
           {
            "colorbar": {
             "outlinewidth": 0,
             "ticks": ""
            },
            "colorscale": [
             [
              0,
              "#0d0887"
             ],
             [
              0.1111111111111111,
              "#46039f"
             ],
             [
              0.2222222222222222,
              "#7201a8"
             ],
             [
              0.3333333333333333,
              "#9c179e"
             ],
             [
              0.4444444444444444,
              "#bd3786"
             ],
             [
              0.5555555555555556,
              "#d8576b"
             ],
             [
              0.6666666666666666,
              "#ed7953"
             ],
             [
              0.7777777777777778,
              "#fb9f3a"
             ],
             [
              0.8888888888888888,
              "#fdca26"
             ],
             [
              1,
              "#f0f921"
             ]
            ],
            "type": "histogram2d"
           }
          ],
          "histogram2dcontour": [
           {
            "colorbar": {
             "outlinewidth": 0,
             "ticks": ""
            },
            "colorscale": [
             [
              0,
              "#0d0887"
             ],
             [
              0.1111111111111111,
              "#46039f"
             ],
             [
              0.2222222222222222,
              "#7201a8"
             ],
             [
              0.3333333333333333,
              "#9c179e"
             ],
             [
              0.4444444444444444,
              "#bd3786"
             ],
             [
              0.5555555555555556,
              "#d8576b"
             ],
             [
              0.6666666666666666,
              "#ed7953"
             ],
             [
              0.7777777777777778,
              "#fb9f3a"
             ],
             [
              0.8888888888888888,
              "#fdca26"
             ],
             [
              1,
              "#f0f921"
             ]
            ],
            "type": "histogram2dcontour"
           }
          ],
          "mesh3d": [
           {
            "colorbar": {
             "outlinewidth": 0,
             "ticks": ""
            },
            "type": "mesh3d"
           }
          ],
          "parcoords": [
           {
            "line": {
             "colorbar": {
              "outlinewidth": 0,
              "ticks": ""
             }
            },
            "type": "parcoords"
           }
          ],
          "pie": [
           {
            "automargin": true,
            "type": "pie"
           }
          ],
          "scatter": [
           {
            "fillpattern": {
             "fillmode": "overlay",
             "size": 10,
             "solidity": 0.2
            },
            "type": "scatter"
           }
          ],
          "scatter3d": [
           {
            "line": {
             "colorbar": {
              "outlinewidth": 0,
              "ticks": ""
             }
            },
            "marker": {
             "colorbar": {
              "outlinewidth": 0,
              "ticks": ""
             }
            },
            "type": "scatter3d"
           }
          ],
          "scattercarpet": [
           {
            "marker": {
             "colorbar": {
              "outlinewidth": 0,
              "ticks": ""
             }
            },
            "type": "scattercarpet"
           }
          ],
          "scattergeo": [
           {
            "marker": {
             "colorbar": {
              "outlinewidth": 0,
              "ticks": ""
             }
            },
            "type": "scattergeo"
           }
          ],
          "scattergl": [
           {
            "marker": {
             "colorbar": {
              "outlinewidth": 0,
              "ticks": ""
             }
            },
            "type": "scattergl"
           }
          ],
          "scattermapbox": [
           {
            "marker": {
             "colorbar": {
              "outlinewidth": 0,
              "ticks": ""
             }
            },
            "type": "scattermapbox"
           }
          ],
          "scatterpolar": [
           {
            "marker": {
             "colorbar": {
              "outlinewidth": 0,
              "ticks": ""
             }
            },
            "type": "scatterpolar"
           }
          ],
          "scatterpolargl": [
           {
            "marker": {
             "colorbar": {
              "outlinewidth": 0,
              "ticks": ""
             }
            },
            "type": "scatterpolargl"
           }
          ],
          "scatterternary": [
           {
            "marker": {
             "colorbar": {
              "outlinewidth": 0,
              "ticks": ""
             }
            },
            "type": "scatterternary"
           }
          ],
          "surface": [
           {
            "colorbar": {
             "outlinewidth": 0,
             "ticks": ""
            },
            "colorscale": [
             [
              0,
              "#0d0887"
             ],
             [
              0.1111111111111111,
              "#46039f"
             ],
             [
              0.2222222222222222,
              "#7201a8"
             ],
             [
              0.3333333333333333,
              "#9c179e"
             ],
             [
              0.4444444444444444,
              "#bd3786"
             ],
             [
              0.5555555555555556,
              "#d8576b"
             ],
             [
              0.6666666666666666,
              "#ed7953"
             ],
             [
              0.7777777777777778,
              "#fb9f3a"
             ],
             [
              0.8888888888888888,
              "#fdca26"
             ],
             [
              1,
              "#f0f921"
             ]
            ],
            "type": "surface"
           }
          ],
          "table": [
           {
            "cells": {
             "fill": {
              "color": "#EBF0F8"
             },
             "line": {
              "color": "white"
             }
            },
            "header": {
             "fill": {
              "color": "#C8D4E3"
             },
             "line": {
              "color": "white"
             }
            },
            "type": "table"
           }
          ]
         },
         "layout": {
          "annotationdefaults": {
           "arrowcolor": "#2a3f5f",
           "arrowhead": 0,
           "arrowwidth": 1
          },
          "autotypenumbers": "strict",
          "coloraxis": {
           "colorbar": {
            "outlinewidth": 0,
            "ticks": ""
           }
          },
          "colorscale": {
           "diverging": [
            [
             0,
             "#8e0152"
            ],
            [
             0.1,
             "#c51b7d"
            ],
            [
             0.2,
             "#de77ae"
            ],
            [
             0.3,
             "#f1b6da"
            ],
            [
             0.4,
             "#fde0ef"
            ],
            [
             0.5,
             "#f7f7f7"
            ],
            [
             0.6,
             "#e6f5d0"
            ],
            [
             0.7,
             "#b8e186"
            ],
            [
             0.8,
             "#7fbc41"
            ],
            [
             0.9,
             "#4d9221"
            ],
            [
             1,
             "#276419"
            ]
           ],
           "sequential": [
            [
             0,
             "#0d0887"
            ],
            [
             0.1111111111111111,
             "#46039f"
            ],
            [
             0.2222222222222222,
             "#7201a8"
            ],
            [
             0.3333333333333333,
             "#9c179e"
            ],
            [
             0.4444444444444444,
             "#bd3786"
            ],
            [
             0.5555555555555556,
             "#d8576b"
            ],
            [
             0.6666666666666666,
             "#ed7953"
            ],
            [
             0.7777777777777778,
             "#fb9f3a"
            ],
            [
             0.8888888888888888,
             "#fdca26"
            ],
            [
             1,
             "#f0f921"
            ]
           ],
           "sequentialminus": [
            [
             0,
             "#0d0887"
            ],
            [
             0.1111111111111111,
             "#46039f"
            ],
            [
             0.2222222222222222,
             "#7201a8"
            ],
            [
             0.3333333333333333,
             "#9c179e"
            ],
            [
             0.4444444444444444,
             "#bd3786"
            ],
            [
             0.5555555555555556,
             "#d8576b"
            ],
            [
             0.6666666666666666,
             "#ed7953"
            ],
            [
             0.7777777777777778,
             "#fb9f3a"
            ],
            [
             0.8888888888888888,
             "#fdca26"
            ],
            [
             1,
             "#f0f921"
            ]
           ]
          },
          "colorway": [
           "#636efa",
           "#EF553B",
           "#00cc96",
           "#ab63fa",
           "#FFA15A",
           "#19d3f3",
           "#FF6692",
           "#B6E880",
           "#FF97FF",
           "#FECB52"
          ],
          "font": {
           "color": "#2a3f5f"
          },
          "geo": {
           "bgcolor": "white",
           "lakecolor": "white",
           "landcolor": "#E5ECF6",
           "showlakes": true,
           "showland": true,
           "subunitcolor": "white"
          },
          "hoverlabel": {
           "align": "left"
          },
          "hovermode": "closest",
          "mapbox": {
           "style": "light"
          },
          "paper_bgcolor": "white",
          "plot_bgcolor": "#E5ECF6",
          "polar": {
           "angularaxis": {
            "gridcolor": "white",
            "linecolor": "white",
            "ticks": ""
           },
           "bgcolor": "#E5ECF6",
           "radialaxis": {
            "gridcolor": "white",
            "linecolor": "white",
            "ticks": ""
           }
          },
          "scene": {
           "xaxis": {
            "backgroundcolor": "#E5ECF6",
            "gridcolor": "white",
            "gridwidth": 2,
            "linecolor": "white",
            "showbackground": true,
            "ticks": "",
            "zerolinecolor": "white"
           },
           "yaxis": {
            "backgroundcolor": "#E5ECF6",
            "gridcolor": "white",
            "gridwidth": 2,
            "linecolor": "white",
            "showbackground": true,
            "ticks": "",
            "zerolinecolor": "white"
           },
           "zaxis": {
            "backgroundcolor": "#E5ECF6",
            "gridcolor": "white",
            "gridwidth": 2,
            "linecolor": "white",
            "showbackground": true,
            "ticks": "",
            "zerolinecolor": "white"
           }
          },
          "shapedefaults": {
           "line": {
            "color": "#2a3f5f"
           }
          },
          "ternary": {
           "aaxis": {
            "gridcolor": "white",
            "linecolor": "white",
            "ticks": ""
           },
           "baxis": {
            "gridcolor": "white",
            "linecolor": "white",
            "ticks": ""
           },
           "bgcolor": "#E5ECF6",
           "caxis": {
            "gridcolor": "white",
            "linecolor": "white",
            "ticks": ""
           }
          },
          "title": {
           "x": 0.05
          },
          "xaxis": {
           "automargin": true,
           "gridcolor": "white",
           "linecolor": "white",
           "ticks": "",
           "title": {
            "standoff": 15
           },
           "zerolinecolor": "white",
           "zerolinewidth": 2
          },
          "yaxis": {
           "automargin": true,
           "gridcolor": "white",
           "linecolor": "white",
           "ticks": "",
           "title": {
            "standoff": 15
           },
           "zerolinecolor": "white",
           "zerolinewidth": 2
          }
         }
        },
        "title": {
         "text": "emissions_pred"
        },
        "yaxis": {
         "title": {
          "text": "emissions_pred"
         }
        }
       }
      }
     },
     "metadata": {},
     "output_type": "display_data"
    }
   ],
   "source": [
    "make_plots('emissions_prep')\n",
    "make_plots('emissions_train')\n",
    "make_plots('emissions_pred')"
   ]
  },
  {
   "cell_type": "markdown",
   "metadata": {},
   "source": [
    "# Combined measures"
   ]
  },
  {
   "cell_type": "code",
   "execution_count": 9,
   "metadata": {},
   "outputs": [
    {
     "data": {
      "application/vnd.plotly.v1+json": {
       "config": {
        "plotlyServerURL": "https://plot.ly"
       },
       "data": [
        {
         "name": "Full",
         "type": "box",
         "x": [
          "LogisticRegression",
          "LogisticRegression",
          "LogisticRegression",
          "LogisticRegression",
          "LogisticRegression",
          "LogisticRegression",
          "LogisticRegression",
          "LogisticRegression",
          "LogisticRegression",
          "LogisticRegression",
          "LogisticRegression",
          "LogisticRegression",
          "LogisticRegression",
          "LogisticRegression",
          "LogisticRegression",
          "LogisticRegression",
          "LogisticRegression",
          "LogisticRegression",
          "LogisticRegression",
          "LogisticRegression",
          "SVC",
          "SVC",
          "SVC",
          "SVC",
          "SVC",
          "SVC",
          "SVC",
          "SVC",
          "SVC",
          "SVC",
          "SVC",
          "SVC",
          "SVC",
          "SVC",
          "SVC",
          "SVC",
          "SVC",
          "SVC",
          "SVC",
          "SVC",
          "RandomForestClassifier",
          "RandomForestClassifier",
          "RandomForestClassifier",
          "RandomForestClassifier",
          "RandomForestClassifier",
          "RandomForestClassifier",
          "RandomForestClassifier",
          "RandomForestClassifier",
          "RandomForestClassifier",
          "RandomForestClassifier",
          "RandomForestClassifier",
          "RandomForestClassifier",
          "RandomForestClassifier",
          "RandomForestClassifier",
          "RandomForestClassifier",
          "RandomForestClassifier",
          "RandomForestClassifier",
          "RandomForestClassifier",
          "RandomForestClassifier",
          "RandomForestClassifier",
          "GradientBoostingClassifier",
          "GradientBoostingClassifier",
          "GradientBoostingClassifier",
          "GradientBoostingClassifier",
          "GradientBoostingClassifier",
          "GradientBoostingClassifier",
          "GradientBoostingClassifier",
          "GradientBoostingClassifier",
          "GradientBoostingClassifier",
          "GradientBoostingClassifier",
          "GradientBoostingClassifier",
          "GradientBoostingClassifier",
          "GradientBoostingClassifier",
          "GradientBoostingClassifier",
          "GradientBoostingClassifier",
          "GradientBoostingClassifier",
          "GradientBoostingClassifier",
          "GradientBoostingClassifier",
          "GradientBoostingClassifier",
          "GradientBoostingClassifier",
          "DeepNeuralNetwork",
          "DeepNeuralNetwork",
          "DeepNeuralNetwork",
          "DeepNeuralNetwork",
          "DeepNeuralNetwork",
          "DeepNeuralNetwork",
          "DeepNeuralNetwork",
          "DeepNeuralNetwork",
          "DeepNeuralNetwork",
          "DeepNeuralNetwork",
          "DeepNeuralNetwork",
          "DeepNeuralNetwork",
          "DeepNeuralNetwork",
          "DeepNeuralNetwork",
          "DeepNeuralNetwork",
          "DeepNeuralNetwork",
          "DeepNeuralNetwork",
          "DeepNeuralNetwork",
          "DeepNeuralNetwork",
          "DeepNeuralNetwork"
         ],
         "y": [
          0.1336572170257567,
          0.19704985618591292,
          0.19088840484619118,
          0.2192537784576416,
          0.1435000896453856,
          0.233234405517578,
          0.196054697036743,
          0.24342942237853993,
          0.1505212783813476,
          0.2797632217407226,
          0.1634724140167235,
          0.19062590599060047,
          0.2789804935455321,
          0.142853021621704,
          0.2658276557922362,
          0.1506841182708739,
          0.2021429538726805,
          0.167614698410034,
          0.1844100952148435,
          0.2832064628601073,
          0.2545769214630125,
          0.1625354290008544,
          0.3039073944091795,
          0.1920156478881834,
          0.3029820919036863,
          0.2429990768432616,
          0.21828174591064442,
          0.23643922805786122,
          0.2336726188659667,
          0.249929904937744,
          0.2423291206359862,
          0.3251733779907225,
          0.147123098373413,
          0.34650254249572743,
          0.2249810695648191,
          0.2702431678771971,
          0.21947813034057612,
          0.3030748367309569,
          0.2491784095764159,
          0.345945358276367,
          0.6838152408599851,
          0.8102052211761475,
          0.78481388092041,
          0.7616338729858397,
          0.839158535003662,
          0.735670804977417,
          0.7489840984344481,
          0.7187070846557617,
          0.6986956596374511,
          0.8696517944335938,
          0.6846292018890381,
          0.8259305953979491,
          0.6666936874389648,
          0.8224611282348632,
          0.7246134281158447,
          0.9239215850830078,
          0.7898099422454833,
          0.9320104122161865,
          0.6907610893249511,
          0.8930587768554685,
          0.6664249897003174,
          0.7248470783233643,
          1.0068092346191406,
          0.8085193634033203,
          0.7483532428741454,
          0.8223288059234618,
          0.7813220024108887,
          0.6016960144042967,
          0.5181586742401122,
          0.7630889415740966,
          0.7486383914947509,
          0.8258898258209227,
          1.063333511352539,
          0.8852081298828125,
          0.6554052829742432,
          0.9804081916809082,
          0.917180299758911,
          0.9337022304534912,
          1.080148696899414,
          0.6709029674530028,
          4.164865016937256,
          3.0807621479034424,
          2.919193983078003,
          2.832427501678467,
          2.839409112930298,
          2.9890100955963135,
          3.0378782749176025,
          3.299182653427124,
          3.6543169021606445,
          3.2466058731079106,
          2.040052890777588,
          2.616791009902954,
          2.5826404094696045,
          2.520352840423584,
          2.61069655418396,
          2.4857137203216553,
          2.4409661293029785,
          2.6886119842529292,
          2.6472148895263676,
          2.8206236362457275
         ]
        },
        {
         "name": "FR",
         "type": "box",
         "x": [
          "LogisticRegression",
          "LogisticRegression",
          "LogisticRegression",
          "LogisticRegression",
          "LogisticRegression",
          "LogisticRegression",
          "LogisticRegression",
          "LogisticRegression",
          "LogisticRegression",
          "LogisticRegression",
          "LogisticRegression",
          "LogisticRegression",
          "LogisticRegression",
          "LogisticRegression",
          "LogisticRegression",
          "LogisticRegression",
          "LogisticRegression",
          "LogisticRegression",
          "LogisticRegression",
          "LogisticRegression",
          "SVC",
          "SVC",
          "SVC",
          "SVC",
          "SVC",
          "SVC",
          "SVC",
          "SVC",
          "SVC",
          "SVC",
          "SVC",
          "SVC",
          "SVC",
          "SVC",
          "SVC",
          "SVC",
          "SVC",
          "SVC",
          "SVC",
          "SVC",
          "RandomForestClassifier",
          "RandomForestClassifier",
          "RandomForestClassifier",
          "RandomForestClassifier",
          "RandomForestClassifier",
          "RandomForestClassifier",
          "RandomForestClassifier",
          "RandomForestClassifier",
          "RandomForestClassifier",
          "RandomForestClassifier",
          "RandomForestClassifier",
          "RandomForestClassifier",
          "RandomForestClassifier",
          "RandomForestClassifier",
          "RandomForestClassifier",
          "RandomForestClassifier",
          "RandomForestClassifier",
          "RandomForestClassifier",
          "RandomForestClassifier",
          "RandomForestClassifier",
          "GradientBoostingClassifier",
          "GradientBoostingClassifier",
          "GradientBoostingClassifier",
          "GradientBoostingClassifier",
          "GradientBoostingClassifier",
          "GradientBoostingClassifier",
          "GradientBoostingClassifier",
          "GradientBoostingClassifier",
          "GradientBoostingClassifier",
          "GradientBoostingClassifier",
          "GradientBoostingClassifier",
          "GradientBoostingClassifier",
          "GradientBoostingClassifier",
          "GradientBoostingClassifier",
          "GradientBoostingClassifier",
          "GradientBoostingClassifier",
          "GradientBoostingClassifier",
          "GradientBoostingClassifier",
          "GradientBoostingClassifier",
          "GradientBoostingClassifier",
          "DeepNeuralNetwork",
          "DeepNeuralNetwork",
          "DeepNeuralNetwork",
          "DeepNeuralNetwork",
          "DeepNeuralNetwork",
          "DeepNeuralNetwork",
          "DeepNeuralNetwork",
          "DeepNeuralNetwork",
          "DeepNeuralNetwork",
          "DeepNeuralNetwork",
          "DeepNeuralNetwork",
          "DeepNeuralNetwork",
          "DeepNeuralNetwork",
          "DeepNeuralNetwork",
          "DeepNeuralNetwork",
          "DeepNeuralNetwork",
          "DeepNeuralNetwork",
          "DeepNeuralNetwork",
          "DeepNeuralNetwork",
          "DeepNeuralNetwork"
         ],
         "y": [
          0.20735573768615712,
          0.20877504348754872,
          0.1527597904205321,
          0.2433114051818847,
          0.2197930812835692,
          0.1837854385375976,
          0.1797249317169188,
          0.1449971199035643,
          0.2333712577819823,
          0.1755661964416503,
          0.2245116233825683,
          0.2108933925628661,
          0.2180211544036864,
          0.196784496307373,
          0.27100682258605946,
          0.3070147037506102,
          0.2058036327362059,
          0.1963303089141844,
          0.1926007270812987,
          0.1841728687286376,
          0.1312499046325682,
          0.29807209968566883,
          0.1436157226562499,
          0.3519589900970457,
          0.209604263305664,
          0.3073484897613525,
          0.1744616031646728,
          0.32113099098205555,
          0.19106125831603998,
          0.4313511848449706,
          0.2422461509704588,
          0.2722048759460448,
          0.208099603652954,
          0.2246725559234618,
          0.2054760456085204,
          0.33028292655944813,
          0.21453070640563948,
          0.2569308280944823,
          0.2496047019958495,
          0.3191485404968261,
          0.7273347377777098,
          0.9001638889312743,
          0.7230656147003173,
          0.8200786113739013,
          0.769721269607544,
          0.8057544231414795,
          0.7657403945922852,
          0.8622257709503174,
          0.7990183830261229,
          0.9908444881439209,
          0.9075896739959717,
          0.831754446029663,
          0.8087480068206786,
          1.0341370105743408,
          0.7794013023376464,
          1.1002671718597412,
          0.6879045963287354,
          0.8421323299407958,
          0.7738375663757322,
          0.8473291397094727,
          0.8152287006378174,
          1.0790150165557861,
          1.0734257698059082,
          0.9407968521118163,
          0.6869640350341797,
          0.7920503616333008,
          0.8492805957794188,
          0.920053482055664,
          0.8374500274658203,
          0.6559510231018064,
          0.9823784828186034,
          0.911989688873291,
          0.8156747817993163,
          1.172703504562378,
          0.752164363861084,
          1.010108470916748,
          0.9341371059417725,
          0.8185482025146483,
          0.8119275569915771,
          0.8747177124023435,
          2.481107473373413,
          2.715038776397705,
          2.3830285072326665,
          2.558701992034912,
          3.060312509536743,
          3.1155369281768794,
          2.460547685623169,
          2.655575513839722,
          3.033064365386963,
          3.441300630569458,
          3.131206035614014,
          3.021300792694092,
          3.0649514198303223,
          2.494434118270874,
          2.9042036533355713,
          2.9701471328735356,
          2.6333231925964355,
          2.4432930946350098,
          2.5588200092315674,
          3.066516876220703
         ]
        },
        {
         "name": "SS",
         "type": "box",
         "x": [
          "LogisticRegression",
          "LogisticRegression",
          "LogisticRegression",
          "LogisticRegression",
          "LogisticRegression",
          "LogisticRegression",
          "LogisticRegression",
          "LogisticRegression",
          "LogisticRegression",
          "LogisticRegression",
          "LogisticRegression",
          "LogisticRegression",
          "LogisticRegression",
          "LogisticRegression",
          "LogisticRegression",
          "LogisticRegression",
          "LogisticRegression",
          "LogisticRegression",
          "LogisticRegression",
          "LogisticRegression",
          "SVC",
          "SVC",
          "SVC",
          "SVC",
          "SVC",
          "SVC",
          "SVC",
          "SVC",
          "SVC",
          "SVC",
          "SVC",
          "SVC",
          "SVC",
          "SVC",
          "SVC",
          "SVC",
          "SVC",
          "SVC",
          "SVC",
          "SVC",
          "RandomForestClassifier",
          "RandomForestClassifier",
          "RandomForestClassifier",
          "RandomForestClassifier",
          "RandomForestClassifier",
          "RandomForestClassifier",
          "RandomForestClassifier",
          "RandomForestClassifier",
          "RandomForestClassifier",
          "RandomForestClassifier",
          "RandomForestClassifier",
          "RandomForestClassifier",
          "RandomForestClassifier",
          "RandomForestClassifier",
          "RandomForestClassifier",
          "RandomForestClassifier",
          "RandomForestClassifier",
          "RandomForestClassifier",
          "RandomForestClassifier",
          "RandomForestClassifier",
          "GradientBoostingClassifier",
          "GradientBoostingClassifier",
          "GradientBoostingClassifier",
          "GradientBoostingClassifier",
          "GradientBoostingClassifier",
          "GradientBoostingClassifier",
          "GradientBoostingClassifier",
          "GradientBoostingClassifier",
          "GradientBoostingClassifier",
          "GradientBoostingClassifier",
          "GradientBoostingClassifier",
          "GradientBoostingClassifier",
          "GradientBoostingClassifier",
          "GradientBoostingClassifier",
          "GradientBoostingClassifier",
          "GradientBoostingClassifier",
          "GradientBoostingClassifier",
          "GradientBoostingClassifier",
          "GradientBoostingClassifier",
          "GradientBoostingClassifier",
          "DeepNeuralNetwork",
          "DeepNeuralNetwork",
          "DeepNeuralNetwork",
          "DeepNeuralNetwork",
          "DeepNeuralNetwork",
          "DeepNeuralNetwork",
          "DeepNeuralNetwork",
          "DeepNeuralNetwork",
          "DeepNeuralNetwork",
          "DeepNeuralNetwork",
          "DeepNeuralNetwork",
          "DeepNeuralNetwork",
          "DeepNeuralNetwork",
          "DeepNeuralNetwork",
          "DeepNeuralNetwork",
          "DeepNeuralNetwork",
          "DeepNeuralNetwork",
          "DeepNeuralNetwork",
          "DeepNeuralNetwork",
          "DeepNeuralNetwork"
         ],
         "y": [
          0.20974135398864732,
          0.23862767219543443,
          0.2134568691253661,
          0.2170157432556151,
          0.2153103351593016,
          0.1604423522949217,
          0.1723058223724364,
          0.20980572700500483,
          0.1280739307403563,
          0.28044104576110823,
          0.1278367042541503,
          0.2011008262634276,
          0.2235169410705565,
          0.231377601623535,
          0.218602418899536,
          0.2391529083251952,
          0.2034637928009031,
          0.168285846710205,
          0.1443557739257811,
          0.19875478744506822,
          0.16960525512695301,
          0.3455734252929687,
          0.22794795036315899,
          0.2705240249633787,
          0.2660660743713378,
          0.29232382774353005,
          0.2272980213165282,
          0.3004240989685057,
          0.2148380279541014,
          0.2382924556732177,
          0.2073044776916503,
          0.2968678474426269,
          0.3235280513763426,
          0.17951178550720198,
          0.24107170104980452,
          0.251047134399414,
          0.2810473442077635,
          0.2128567695617674,
          0.257362127304077,
          0.3198571205139159,
          0.8000650405883789,
          0.790302276611328,
          0.7771859169006347,
          0.9481513500213623,
          0.6991529464721677,
          0.9442012310028076,
          0.7768967151641845,
          0.8304033279418945,
          0.7243492603302002,
          0.8184645175933837,
          0.8083908557891843,
          0.8431923389434813,
          0.6803207397460936,
          0.8829998970031738,
          0.6872415542602539,
          0.88904070854187,
          0.6673598289489744,
          0.880103826522827,
          0.691157579421997,
          0.8728024959564209,
          0.7958033084869385,
          0.815835952758789,
          1.0428638458251953,
          0.8087368011474608,
          0.6850197315216063,
          0.9094803333282471,
          0.9012970924377439,
          0.8664705753326415,
          0.9346978664398193,
          0.6551811695098876,
          0.6558122634887695,
          0.7616691589355469,
          0.6491239070892332,
          0.6517307758331299,
          0.7651607990264891,
          0.6716058254241942,
          0.6295399665832518,
          0.8229525089263915,
          0.7948119640350341,
          0.6963131427764891,
          2.56882643699646,
          2.556605100631714,
          2.6020612716674805,
          2.5701184272766113,
          2.4141626358032227,
          2.4758152961730957,
          2.4481658935546875,
          2.6033096313476562,
          2.581961154937744,
          2.5873651504516597,
          2.6617963314056396,
          2.9420125484466553,
          2.484326839447022,
          3.1203231811523438,
          2.457477569580078,
          2.6718032360076904,
          2.5706162452697754,
          2.78122878074646,
          2.7578272819519043,
          2.7693276405334473
         ]
        },
        {
         "name": "SS & FR",
         "type": "box",
         "x": [
          "LogisticRegression",
          "LogisticRegression",
          "LogisticRegression",
          "LogisticRegression",
          "LogisticRegression",
          "LogisticRegression",
          "LogisticRegression",
          "LogisticRegression",
          "LogisticRegression",
          "LogisticRegression",
          "LogisticRegression",
          "LogisticRegression",
          "LogisticRegression",
          "LogisticRegression",
          "LogisticRegression",
          "LogisticRegression",
          "LogisticRegression",
          "LogisticRegression",
          "LogisticRegression",
          "LogisticRegression",
          "SVC",
          "SVC",
          "SVC",
          "SVC",
          "SVC",
          "SVC",
          "SVC",
          "SVC",
          "SVC",
          "SVC",
          "SVC",
          "SVC",
          "SVC",
          "SVC",
          "SVC",
          "SVC",
          "SVC",
          "SVC",
          "SVC",
          "SVC",
          "RandomForestClassifier",
          "RandomForestClassifier",
          "RandomForestClassifier",
          "RandomForestClassifier",
          "RandomForestClassifier",
          "RandomForestClassifier",
          "RandomForestClassifier",
          "RandomForestClassifier",
          "RandomForestClassifier",
          "RandomForestClassifier",
          "RandomForestClassifier",
          "RandomForestClassifier",
          "RandomForestClassifier",
          "RandomForestClassifier",
          "RandomForestClassifier",
          "RandomForestClassifier",
          "RandomForestClassifier",
          "RandomForestClassifier",
          "RandomForestClassifier",
          "RandomForestClassifier",
          "GradientBoostingClassifier",
          "GradientBoostingClassifier",
          "GradientBoostingClassifier",
          "GradientBoostingClassifier",
          "GradientBoostingClassifier",
          "GradientBoostingClassifier",
          "GradientBoostingClassifier",
          "GradientBoostingClassifier",
          "GradientBoostingClassifier",
          "GradientBoostingClassifier",
          "GradientBoostingClassifier",
          "GradientBoostingClassifier",
          "GradientBoostingClassifier",
          "GradientBoostingClassifier",
          "GradientBoostingClassifier",
          "GradientBoostingClassifier",
          "GradientBoostingClassifier",
          "GradientBoostingClassifier",
          "GradientBoostingClassifier",
          "GradientBoostingClassifier",
          "DeepNeuralNetwork",
          "DeepNeuralNetwork",
          "DeepNeuralNetwork",
          "DeepNeuralNetwork",
          "DeepNeuralNetwork",
          "DeepNeuralNetwork",
          "DeepNeuralNetwork",
          "DeepNeuralNetwork",
          "DeepNeuralNetwork",
          "DeepNeuralNetwork",
          "DeepNeuralNetwork",
          "DeepNeuralNetwork",
          "DeepNeuralNetwork",
          "DeepNeuralNetwork",
          "DeepNeuralNetwork",
          "DeepNeuralNetwork",
          "DeepNeuralNetwork",
          "DeepNeuralNetwork",
          "DeepNeuralNetwork",
          "DeepNeuralNetwork"
         ],
         "y": [
          0.1475932598114012,
          0.1945321559906005,
          0.2376801967620849,
          0.1403393745422362,
          0.20459437370300282,
          0.1716427803039549,
          0.3548688888549804,
          0.1782126426696776,
          0.1733155250549315,
          0.17752194404602042,
          0.22982573509216292,
          0.32233071327209456,
          0.1613826751708983,
          0.1966028213500975,
          0.26575922966003407,
          0.2025856971740721,
          0.288853883743286,
          0.2604920864105223,
          0.16560316085815419,
          0.19797825813293451,
          0.1628170013427732,
          0.3393497467041015,
          0.204385995864868,
          0.33571314811706543,
          0.2250318527221678,
          0.32448554039001437,
          0.34343576431274414,
          0.17478060722351058,
          0.23640179634094227,
          0.2131497859954833,
          0.3353040218353271,
          0.1505949497222899,
          0.3863968849182128,
          0.2689032554626464,
          0.30573272705078114,
          0.2516958713531492,
          0.2596449851989745,
          0.3037514686584472,
          0.20886969566345198,
          0.3584334850311278,
          0.7541065216064451,
          0.7762546539306638,
          0.8224704265594482,
          0.8619840145111083,
          0.9438083171844482,
          0.715607166290283,
          0.9008092880249022,
          0.6702561378479003,
          0.7558302879333496,
          0.8174018859863281,
          0.7180855274200437,
          0.8587687015533446,
          0.758843421936035,
          0.7719376087188718,
          0.9142251014709473,
          0.8840961456298828,
          0.8385264873504639,
          0.822805881500244,
          0.834939956665039,
          0.7324326038360596,
          0.796473503112793,
          0.637031316757202,
          0.6136586666107178,
          0.8159639835357666,
          0.6970207691192626,
          0.6598961353302002,
          0.7975087165832518,
          0.7107431888580322,
          0.7137880325317382,
          0.7792770862579343,
          0.7433087825775145,
          0.709132432937622,
          0.836444854736328,
          0.658414363861084,
          0.6339285373687744,
          0.7321190834045409,
          0.7396235466003418,
          0.8497993946075438,
          0.7140290737152098,
          0.7860031127929688,
          2.5902693271636963,
          2.646644830703736,
          2.4163801670074463,
          2.475961446762085,
          2.6709969043731685,
          2.507979154586792,
          2.9234020709991455,
          2.587906837463379,
          2.7690811157226562,
          3.3337371349334717,
          2.572216749191284,
          2.8908762931823735,
          2.627162456512451,
          2.5415103435516357,
          2.95587968826294,
          2.70544695854187,
          3.104443073272705,
          2.7860710620880123,
          2.6286175251007085,
          2.859537124633789
         ]
        }
       ],
       "layout": {
        "boxmode": "group",
        "template": {
         "data": {
          "bar": [
           {
            "error_x": {
             "color": "#2a3f5f"
            },
            "error_y": {
             "color": "#2a3f5f"
            },
            "marker": {
             "line": {
              "color": "#E5ECF6",
              "width": 0.5
             },
             "pattern": {
              "fillmode": "overlay",
              "size": 10,
              "solidity": 0.2
             }
            },
            "type": "bar"
           }
          ],
          "barpolar": [
           {
            "marker": {
             "line": {
              "color": "#E5ECF6",
              "width": 0.5
             },
             "pattern": {
              "fillmode": "overlay",
              "size": 10,
              "solidity": 0.2
             }
            },
            "type": "barpolar"
           }
          ],
          "carpet": [
           {
            "aaxis": {
             "endlinecolor": "#2a3f5f",
             "gridcolor": "white",
             "linecolor": "white",
             "minorgridcolor": "white",
             "startlinecolor": "#2a3f5f"
            },
            "baxis": {
             "endlinecolor": "#2a3f5f",
             "gridcolor": "white",
             "linecolor": "white",
             "minorgridcolor": "white",
             "startlinecolor": "#2a3f5f"
            },
            "type": "carpet"
           }
          ],
          "choropleth": [
           {
            "colorbar": {
             "outlinewidth": 0,
             "ticks": ""
            },
            "type": "choropleth"
           }
          ],
          "contour": [
           {
            "colorbar": {
             "outlinewidth": 0,
             "ticks": ""
            },
            "colorscale": [
             [
              0,
              "#0d0887"
             ],
             [
              0.1111111111111111,
              "#46039f"
             ],
             [
              0.2222222222222222,
              "#7201a8"
             ],
             [
              0.3333333333333333,
              "#9c179e"
             ],
             [
              0.4444444444444444,
              "#bd3786"
             ],
             [
              0.5555555555555556,
              "#d8576b"
             ],
             [
              0.6666666666666666,
              "#ed7953"
             ],
             [
              0.7777777777777778,
              "#fb9f3a"
             ],
             [
              0.8888888888888888,
              "#fdca26"
             ],
             [
              1,
              "#f0f921"
             ]
            ],
            "type": "contour"
           }
          ],
          "contourcarpet": [
           {
            "colorbar": {
             "outlinewidth": 0,
             "ticks": ""
            },
            "type": "contourcarpet"
           }
          ],
          "heatmap": [
           {
            "colorbar": {
             "outlinewidth": 0,
             "ticks": ""
            },
            "colorscale": [
             [
              0,
              "#0d0887"
             ],
             [
              0.1111111111111111,
              "#46039f"
             ],
             [
              0.2222222222222222,
              "#7201a8"
             ],
             [
              0.3333333333333333,
              "#9c179e"
             ],
             [
              0.4444444444444444,
              "#bd3786"
             ],
             [
              0.5555555555555556,
              "#d8576b"
             ],
             [
              0.6666666666666666,
              "#ed7953"
             ],
             [
              0.7777777777777778,
              "#fb9f3a"
             ],
             [
              0.8888888888888888,
              "#fdca26"
             ],
             [
              1,
              "#f0f921"
             ]
            ],
            "type": "heatmap"
           }
          ],
          "heatmapgl": [
           {
            "colorbar": {
             "outlinewidth": 0,
             "ticks": ""
            },
            "colorscale": [
             [
              0,
              "#0d0887"
             ],
             [
              0.1111111111111111,
              "#46039f"
             ],
             [
              0.2222222222222222,
              "#7201a8"
             ],
             [
              0.3333333333333333,
              "#9c179e"
             ],
             [
              0.4444444444444444,
              "#bd3786"
             ],
             [
              0.5555555555555556,
              "#d8576b"
             ],
             [
              0.6666666666666666,
              "#ed7953"
             ],
             [
              0.7777777777777778,
              "#fb9f3a"
             ],
             [
              0.8888888888888888,
              "#fdca26"
             ],
             [
              1,
              "#f0f921"
             ]
            ],
            "type": "heatmapgl"
           }
          ],
          "histogram": [
           {
            "marker": {
             "pattern": {
              "fillmode": "overlay",
              "size": 10,
              "solidity": 0.2
             }
            },
            "type": "histogram"
           }
          ],
          "histogram2d": [
           {
            "colorbar": {
             "outlinewidth": 0,
             "ticks": ""
            },
            "colorscale": [
             [
              0,
              "#0d0887"
             ],
             [
              0.1111111111111111,
              "#46039f"
             ],
             [
              0.2222222222222222,
              "#7201a8"
             ],
             [
              0.3333333333333333,
              "#9c179e"
             ],
             [
              0.4444444444444444,
              "#bd3786"
             ],
             [
              0.5555555555555556,
              "#d8576b"
             ],
             [
              0.6666666666666666,
              "#ed7953"
             ],
             [
              0.7777777777777778,
              "#fb9f3a"
             ],
             [
              0.8888888888888888,
              "#fdca26"
             ],
             [
              1,
              "#f0f921"
             ]
            ],
            "type": "histogram2d"
           }
          ],
          "histogram2dcontour": [
           {
            "colorbar": {
             "outlinewidth": 0,
             "ticks": ""
            },
            "colorscale": [
             [
              0,
              "#0d0887"
             ],
             [
              0.1111111111111111,
              "#46039f"
             ],
             [
              0.2222222222222222,
              "#7201a8"
             ],
             [
              0.3333333333333333,
              "#9c179e"
             ],
             [
              0.4444444444444444,
              "#bd3786"
             ],
             [
              0.5555555555555556,
              "#d8576b"
             ],
             [
              0.6666666666666666,
              "#ed7953"
             ],
             [
              0.7777777777777778,
              "#fb9f3a"
             ],
             [
              0.8888888888888888,
              "#fdca26"
             ],
             [
              1,
              "#f0f921"
             ]
            ],
            "type": "histogram2dcontour"
           }
          ],
          "mesh3d": [
           {
            "colorbar": {
             "outlinewidth": 0,
             "ticks": ""
            },
            "type": "mesh3d"
           }
          ],
          "parcoords": [
           {
            "line": {
             "colorbar": {
              "outlinewidth": 0,
              "ticks": ""
             }
            },
            "type": "parcoords"
           }
          ],
          "pie": [
           {
            "automargin": true,
            "type": "pie"
           }
          ],
          "scatter": [
           {
            "fillpattern": {
             "fillmode": "overlay",
             "size": 10,
             "solidity": 0.2
            },
            "type": "scatter"
           }
          ],
          "scatter3d": [
           {
            "line": {
             "colorbar": {
              "outlinewidth": 0,
              "ticks": ""
             }
            },
            "marker": {
             "colorbar": {
              "outlinewidth": 0,
              "ticks": ""
             }
            },
            "type": "scatter3d"
           }
          ],
          "scattercarpet": [
           {
            "marker": {
             "colorbar": {
              "outlinewidth": 0,
              "ticks": ""
             }
            },
            "type": "scattercarpet"
           }
          ],
          "scattergeo": [
           {
            "marker": {
             "colorbar": {
              "outlinewidth": 0,
              "ticks": ""
             }
            },
            "type": "scattergeo"
           }
          ],
          "scattergl": [
           {
            "marker": {
             "colorbar": {
              "outlinewidth": 0,
              "ticks": ""
             }
            },
            "type": "scattergl"
           }
          ],
          "scattermapbox": [
           {
            "marker": {
             "colorbar": {
              "outlinewidth": 0,
              "ticks": ""
             }
            },
            "type": "scattermapbox"
           }
          ],
          "scatterpolar": [
           {
            "marker": {
             "colorbar": {
              "outlinewidth": 0,
              "ticks": ""
             }
            },
            "type": "scatterpolar"
           }
          ],
          "scatterpolargl": [
           {
            "marker": {
             "colorbar": {
              "outlinewidth": 0,
              "ticks": ""
             }
            },
            "type": "scatterpolargl"
           }
          ],
          "scatterternary": [
           {
            "marker": {
             "colorbar": {
              "outlinewidth": 0,
              "ticks": ""
             }
            },
            "type": "scatterternary"
           }
          ],
          "surface": [
           {
            "colorbar": {
             "outlinewidth": 0,
             "ticks": ""
            },
            "colorscale": [
             [
              0,
              "#0d0887"
             ],
             [
              0.1111111111111111,
              "#46039f"
             ],
             [
              0.2222222222222222,
              "#7201a8"
             ],
             [
              0.3333333333333333,
              "#9c179e"
             ],
             [
              0.4444444444444444,
              "#bd3786"
             ],
             [
              0.5555555555555556,
              "#d8576b"
             ],
             [
              0.6666666666666666,
              "#ed7953"
             ],
             [
              0.7777777777777778,
              "#fb9f3a"
             ],
             [
              0.8888888888888888,
              "#fdca26"
             ],
             [
              1,
              "#f0f921"
             ]
            ],
            "type": "surface"
           }
          ],
          "table": [
           {
            "cells": {
             "fill": {
              "color": "#EBF0F8"
             },
             "line": {
              "color": "white"
             }
            },
            "header": {
             "fill": {
              "color": "#C8D4E3"
             },
             "line": {
              "color": "white"
             }
            },
            "type": "table"
           }
          ]
         },
         "layout": {
          "annotationdefaults": {
           "arrowcolor": "#2a3f5f",
           "arrowhead": 0,
           "arrowwidth": 1
          },
          "autotypenumbers": "strict",
          "coloraxis": {
           "colorbar": {
            "outlinewidth": 0,
            "ticks": ""
           }
          },
          "colorscale": {
           "diverging": [
            [
             0,
             "#8e0152"
            ],
            [
             0.1,
             "#c51b7d"
            ],
            [
             0.2,
             "#de77ae"
            ],
            [
             0.3,
             "#f1b6da"
            ],
            [
             0.4,
             "#fde0ef"
            ],
            [
             0.5,
             "#f7f7f7"
            ],
            [
             0.6,
             "#e6f5d0"
            ],
            [
             0.7,
             "#b8e186"
            ],
            [
             0.8,
             "#7fbc41"
            ],
            [
             0.9,
             "#4d9221"
            ],
            [
             1,
             "#276419"
            ]
           ],
           "sequential": [
            [
             0,
             "#0d0887"
            ],
            [
             0.1111111111111111,
             "#46039f"
            ],
            [
             0.2222222222222222,
             "#7201a8"
            ],
            [
             0.3333333333333333,
             "#9c179e"
            ],
            [
             0.4444444444444444,
             "#bd3786"
            ],
            [
             0.5555555555555556,
             "#d8576b"
            ],
            [
             0.6666666666666666,
             "#ed7953"
            ],
            [
             0.7777777777777778,
             "#fb9f3a"
            ],
            [
             0.8888888888888888,
             "#fdca26"
            ],
            [
             1,
             "#f0f921"
            ]
           ],
           "sequentialminus": [
            [
             0,
             "#0d0887"
            ],
            [
             0.1111111111111111,
             "#46039f"
            ],
            [
             0.2222222222222222,
             "#7201a8"
            ],
            [
             0.3333333333333333,
             "#9c179e"
            ],
            [
             0.4444444444444444,
             "#bd3786"
            ],
            [
             0.5555555555555556,
             "#d8576b"
            ],
            [
             0.6666666666666666,
             "#ed7953"
            ],
            [
             0.7777777777777778,
             "#fb9f3a"
            ],
            [
             0.8888888888888888,
             "#fdca26"
            ],
            [
             1,
             "#f0f921"
            ]
           ]
          },
          "colorway": [
           "#636efa",
           "#EF553B",
           "#00cc96",
           "#ab63fa",
           "#FFA15A",
           "#19d3f3",
           "#FF6692",
           "#B6E880",
           "#FF97FF",
           "#FECB52"
          ],
          "font": {
           "color": "#2a3f5f"
          },
          "geo": {
           "bgcolor": "white",
           "lakecolor": "white",
           "landcolor": "#E5ECF6",
           "showlakes": true,
           "showland": true,
           "subunitcolor": "white"
          },
          "hoverlabel": {
           "align": "left"
          },
          "hovermode": "closest",
          "mapbox": {
           "style": "light"
          },
          "paper_bgcolor": "white",
          "plot_bgcolor": "#E5ECF6",
          "polar": {
           "angularaxis": {
            "gridcolor": "white",
            "linecolor": "white",
            "ticks": ""
           },
           "bgcolor": "#E5ECF6",
           "radialaxis": {
            "gridcolor": "white",
            "linecolor": "white",
            "ticks": ""
           }
          },
          "scene": {
           "xaxis": {
            "backgroundcolor": "#E5ECF6",
            "gridcolor": "white",
            "gridwidth": 2,
            "linecolor": "white",
            "showbackground": true,
            "ticks": "",
            "zerolinecolor": "white"
           },
           "yaxis": {
            "backgroundcolor": "#E5ECF6",
            "gridcolor": "white",
            "gridwidth": 2,
            "linecolor": "white",
            "showbackground": true,
            "ticks": "",
            "zerolinecolor": "white"
           },
           "zaxis": {
            "backgroundcolor": "#E5ECF6",
            "gridcolor": "white",
            "gridwidth": 2,
            "linecolor": "white",
            "showbackground": true,
            "ticks": "",
            "zerolinecolor": "white"
           }
          },
          "shapedefaults": {
           "line": {
            "color": "#2a3f5f"
           }
          },
          "ternary": {
           "aaxis": {
            "gridcolor": "white",
            "linecolor": "white",
            "ticks": ""
           },
           "baxis": {
            "gridcolor": "white",
            "linecolor": "white",
            "ticks": ""
           },
           "bgcolor": "#E5ECF6",
           "caxis": {
            "gridcolor": "white",
            "linecolor": "white",
            "ticks": ""
           }
          },
          "title": {
           "x": 0.05
          },
          "xaxis": {
           "automargin": true,
           "gridcolor": "white",
           "linecolor": "white",
           "ticks": "",
           "title": {
            "standoff": 15
           },
           "zerolinecolor": "white",
           "zerolinewidth": 2
          },
          "yaxis": {
           "automargin": true,
           "gridcolor": "white",
           "linecolor": "white",
           "ticks": "",
           "title": {
            "standoff": 15
           },
           "zerolinecolor": "white",
           "zerolinewidth": 2
          }
         }
        },
        "title": {
         "text": "total_time"
        },
        "yaxis": {
         "title": {
          "text": "total_time"
         }
        }
       }
      }
     },
     "metadata": {},
     "output_type": "display_data"
    }
   ],
   "source": [
    "results = {}\n",
    "for model in models:\n",
    "\tfor ss_opt in subsampling_options:\n",
    "\t\tfor fr_opt in feature_reduction_options:\n",
    "\t\t\tfilename = f'{DATASET}_{ss_opt}_{fr_opt}_{model}'\n",
    "\t\t\tpath = f'../results/{filename}.csv'\n",
    "\t\t\tdf = pd.read_csv(path)\n",
    "\t\t\tpreprocess_time =  df['preprocess_time'].transpose()\n",
    "\t\t\ttraining_time =  df['training_time'].transpose()\n",
    "\t\t\tprediction_time =  df['prediction_time'].transpose()\n",
    "\t\t\tresults[filename] = preprocess_time.to_numpy() + training_time.to_numpy() + prediction_time.to_numpy()\n",
    "\n",
    "n_experiments = len(results[filename])\n",
    "\n",
    "fig = go.Figure()\n",
    "\n",
    "for ss_opt in subsampling_options:\n",
    "\tfor fr_opt in feature_reduction_options:\n",
    "\t\tx, y = [], []\n",
    "\t\tfor model in models:\n",
    "\t\t\tfilename = f'{DATASET}_{ss_opt}_{fr_opt}_{model}'\n",
    "\t\t\tx.extend([model for _ in range(n_experiments)])\n",
    "\t\t\ty.extend(list(results[filename]))\n",
    "\t\tfig.add_trace(go.Box(y=y, x=x, name=get_experiment_name(ss_opt, fr_opt)))\n",
    "\t\t\n",
    "\n",
    "fig.update_layout(\n",
    "\ttitle='total_time',\n",
    "\tyaxis_title='total_time',\n",
    "\tboxmode='group'\n",
    ")\n",
    "fig.show()\n"
   ]
  },
  {
   "cell_type": "code",
   "execution_count": 10,
   "metadata": {},
   "outputs": [
    {
     "data": {
      "application/vnd.plotly.v1+json": {
       "config": {
        "plotlyServerURL": "https://plot.ly"
       },
       "data": [
        {
         "name": "Full",
         "type": "box",
         "x": [
          "LogisticRegression",
          "LogisticRegression",
          "LogisticRegression",
          "LogisticRegression",
          "LogisticRegression",
          "LogisticRegression",
          "LogisticRegression",
          "LogisticRegression",
          "LogisticRegression",
          "LogisticRegression",
          "LogisticRegression",
          "LogisticRegression",
          "LogisticRegression",
          "LogisticRegression",
          "LogisticRegression",
          "LogisticRegression",
          "LogisticRegression",
          "LogisticRegression",
          "LogisticRegression",
          "LogisticRegression",
          "SVC",
          "SVC",
          "SVC",
          "SVC",
          "SVC",
          "SVC",
          "SVC",
          "SVC",
          "SVC",
          "SVC",
          "SVC",
          "SVC",
          "SVC",
          "SVC",
          "SVC",
          "SVC",
          "SVC",
          "SVC",
          "SVC",
          "SVC",
          "RandomForestClassifier",
          "RandomForestClassifier",
          "RandomForestClassifier",
          "RandomForestClassifier",
          "RandomForestClassifier",
          "RandomForestClassifier",
          "RandomForestClassifier",
          "RandomForestClassifier",
          "RandomForestClassifier",
          "RandomForestClassifier",
          "RandomForestClassifier",
          "RandomForestClassifier",
          "RandomForestClassifier",
          "RandomForestClassifier",
          "RandomForestClassifier",
          "RandomForestClassifier",
          "RandomForestClassifier",
          "RandomForestClassifier",
          "RandomForestClassifier",
          "RandomForestClassifier",
          "GradientBoostingClassifier",
          "GradientBoostingClassifier",
          "GradientBoostingClassifier",
          "GradientBoostingClassifier",
          "GradientBoostingClassifier",
          "GradientBoostingClassifier",
          "GradientBoostingClassifier",
          "GradientBoostingClassifier",
          "GradientBoostingClassifier",
          "GradientBoostingClassifier",
          "GradientBoostingClassifier",
          "GradientBoostingClassifier",
          "GradientBoostingClassifier",
          "GradientBoostingClassifier",
          "GradientBoostingClassifier",
          "GradientBoostingClassifier",
          "GradientBoostingClassifier",
          "GradientBoostingClassifier",
          "GradientBoostingClassifier",
          "GradientBoostingClassifier",
          "DeepNeuralNetwork",
          "DeepNeuralNetwork",
          "DeepNeuralNetwork",
          "DeepNeuralNetwork",
          "DeepNeuralNetwork",
          "DeepNeuralNetwork",
          "DeepNeuralNetwork",
          "DeepNeuralNetwork",
          "DeepNeuralNetwork",
          "DeepNeuralNetwork",
          "DeepNeuralNetwork",
          "DeepNeuralNetwork",
          "DeepNeuralNetwork",
          "DeepNeuralNetwork",
          "DeepNeuralNetwork",
          "DeepNeuralNetwork",
          "DeepNeuralNetwork",
          "DeepNeuralNetwork",
          "DeepNeuralNetwork",
          "DeepNeuralNetwork"
         ],
         "y": [
          216.12371993064858,
          318.6296174526212,
          308.66655063629116,
          354.53335976600647,
          232.03964495658852,
          377.1400337219236,
          317.0204451084134,
          393.6253759860991,
          243.39290714263907,
          452.3771295547484,
          264.3348934650419,
          308.242089986801,
          451.11145806312544,
          230.99333596229536,
          429.843319416046,
          243.65621924400313,
          326.86515641212435,
          271.032967329025,
          298.19112396240195,
          457.94485044479353,
          3105.329288005826,
          1906.5405821800223,
          3375.195522308348,
          2322.23724555969,
          3617.000213146207,
          2837.743219375609,
          2435.5877208709703,
          2650.483746528624,
          2777.4327478408804,
          2801.7142343521105,
          2766.9138994216905,
          3493.012426376341,
          1748.705147266387,
          4100.511087894439,
          2662.425977230069,
          2931.0573987960797,
          2426.1112527847285,
          3586.587617874144,
          2845.1190805435167,
          4039.949893951414,
          1715.0086240768428,
          2031.9946947097778,
          1968.3132133483884,
          1910.177753448486,
          2104.609605789184,
          1845.0623788833618,
          1878.452118873596,
          1802.5173683166504,
          1752.3287143707273,
          2181.086700439453,
          1717.0500383377075,
          2071.433933258056,
          1672.0677680969238,
          2062.7325096130367,
          1817.3304777145386,
          2317.1953353881836,
          1980.8433351516721,
          2337.482113838196,
          1732.4288120269773,
          2239.791412353515,
          2487.764486551285,
          2705.854143381119,
          3758.418872833252,
          3018.2027835845947,
          2793.6026556491847,
          3069.753432512283,
          2916.6750349998474,
          2246.1312217712393,
          1934.2863309383388,
          2848.6110188961025,
          2794.667115449905,
          3083.0467197895046,
          3969.4239978790283,
          3304.481948852539,
          2446.6279213428497,
          3659.8637795448303,
          3423.834059000015,
          3485.5104262828827,
          4032.1950855255127,
          2504.4807775020595,
          27146.590180397034,
          20086.569204330444,
          19033.14476966858,
          18467.427310943604,
          18512.947416305542,
          19488.345823287964,
          19806.96635246277,
          21510.67090034485,
          23826.146202087402,
          21167.870292663578,
          13303.18490076065,
          17064.094175577164,
          16841.39811015129,
          16435.22087240219,
          17024.352229833603,
          16209.339170217514,
          15917.540129184723,
          17532.43874931335,
          17262.488294601444,
          18393.28673195839
         ]
        },
        {
         "name": "FR",
         "type": "box",
         "x": [
          "LogisticRegression",
          "LogisticRegression",
          "LogisticRegression",
          "LogisticRegression",
          "LogisticRegression",
          "LogisticRegression",
          "LogisticRegression",
          "LogisticRegression",
          "LogisticRegression",
          "LogisticRegression",
          "LogisticRegression",
          "LogisticRegression",
          "LogisticRegression",
          "LogisticRegression",
          "LogisticRegression",
          "LogisticRegression",
          "LogisticRegression",
          "LogisticRegression",
          "LogisticRegression",
          "LogisticRegression",
          "SVC",
          "SVC",
          "SVC",
          "SVC",
          "SVC",
          "SVC",
          "SVC",
          "SVC",
          "SVC",
          "SVC",
          "SVC",
          "SVC",
          "SVC",
          "SVC",
          "SVC",
          "SVC",
          "SVC",
          "SVC",
          "SVC",
          "SVC",
          "RandomForestClassifier",
          "RandomForestClassifier",
          "RandomForestClassifier",
          "RandomForestClassifier",
          "RandomForestClassifier",
          "RandomForestClassifier",
          "RandomForestClassifier",
          "RandomForestClassifier",
          "RandomForestClassifier",
          "RandomForestClassifier",
          "RandomForestClassifier",
          "RandomForestClassifier",
          "RandomForestClassifier",
          "RandomForestClassifier",
          "RandomForestClassifier",
          "RandomForestClassifier",
          "RandomForestClassifier",
          "RandomForestClassifier",
          "RandomForestClassifier",
          "RandomForestClassifier",
          "GradientBoostingClassifier",
          "GradientBoostingClassifier",
          "GradientBoostingClassifier",
          "GradientBoostingClassifier",
          "GradientBoostingClassifier",
          "GradientBoostingClassifier",
          "GradientBoostingClassifier",
          "GradientBoostingClassifier",
          "GradientBoostingClassifier",
          "GradientBoostingClassifier",
          "GradientBoostingClassifier",
          "GradientBoostingClassifier",
          "GradientBoostingClassifier",
          "GradientBoostingClassifier",
          "GradientBoostingClassifier",
          "GradientBoostingClassifier",
          "GradientBoostingClassifier",
          "GradientBoostingClassifier",
          "GradientBoostingClassifier",
          "GradientBoostingClassifier",
          "DeepNeuralNetwork",
          "DeepNeuralNetwork",
          "DeepNeuralNetwork",
          "DeepNeuralNetwork",
          "DeepNeuralNetwork",
          "DeepNeuralNetwork",
          "DeepNeuralNetwork",
          "DeepNeuralNetwork",
          "DeepNeuralNetwork",
          "DeepNeuralNetwork",
          "DeepNeuralNetwork",
          "DeepNeuralNetwork",
          "DeepNeuralNetwork",
          "DeepNeuralNetwork",
          "DeepNeuralNetwork",
          "DeepNeuralNetwork",
          "DeepNeuralNetwork",
          "DeepNeuralNetwork",
          "DeepNeuralNetwork",
          "DeepNeuralNetwork"
         ],
         "y": [
          335.29422783851606,
          337.5892453193663,
          247.01258111000038,
          393.43454217910755,
          355.4054124355314,
          297.1810541152953,
          290.6152145862577,
          234.46034288406346,
          377.3613238334654,
          283.89053964614857,
          363.0352950096129,
          341.0146157741545,
          352.54020667076094,
          318.2005305290221,
          438.21803212165815,
          496.44277596473665,
          332.7844741344449,
          317.46610951423617,
          311.43537569046,
          297.80752873420704,
          1532.7363862991313,
          3480.8859801292406,
          1669.6763916015611,
          3963.7621464729286,
          2229.770153045654,
          3781.001121044158,
          1992.002584934234,
          3833.661770343779,
          2151.7318911552425,
          4857.877043724059,
          2854.1441507339455,
          3405.2829980850206,
          2408.5448126792894,
          2506.8963789939867,
          2485.0272955894457,
          4028.7911381721483,
          2438.3560090064984,
          3000.4382104873644,
          2785.0892648696886,
          3826.5910005569453,
          1824.1555223464964,
          2257.611033439636,
          1813.4485616683958,
          2056.757157325744,
          1930.4609441757202,
          2020.8320932388306,
          1920.4769096374512,
          2162.462233543396,
          2003.9381046295164,
          2485.0379762649536,
          2276.234902381897,
          2086.0401506423946,
          2028.340001106262,
          2593.615622520447,
          1954.7384662628172,
          2759.470067024231,
          1725.2647275924683,
          2112.0678834915157,
          1940.7846164703365,
          2125.1014823913574,
          3043.2487394809723,
          4027.9630568027496,
          4007.0983986854553,
          3511.99464893341,
          2564.436742782593,
          2956.723999977112,
          3170.3644640445705,
          3434.5596485137935,
          3126.200952529907,
          2448.6651692390433,
          3667.2188763618465,
          3404.4575085639954,
          3044.9139604568477,
          4377.702182531357,
          2807.8295702934265,
          3770.7349219322205,
          3487.1338164806366,
          3055.640439987182,
          3030.9255702495575,
          3265.3212203979483,
          16179.301833868027,
          17704.767860889435,
          15539.728895664219,
          16685.295690059662,
          19956.297874689102,
          20316.41630864143,
          16045.231457948685,
          17317.00792574883,
          19778.612726688385,
          22440.721411943436,
          20418.594558238987,
          19701.902469158173,
          19986.54820871353,
          16266.20488524437,
          18938.31202340126,
          19368.329453468326,
          17171.900538921356,
          15932.714270114899,
          16686.06528019905,
          19996.756549835205
         ]
        },
        {
         "name": "SS",
         "type": "box",
         "x": [
          "LogisticRegression",
          "LogisticRegression",
          "LogisticRegression",
          "LogisticRegression",
          "LogisticRegression",
          "LogisticRegression",
          "LogisticRegression",
          "LogisticRegression",
          "LogisticRegression",
          "LogisticRegression",
          "LogisticRegression",
          "LogisticRegression",
          "LogisticRegression",
          "LogisticRegression",
          "LogisticRegression",
          "LogisticRegression",
          "LogisticRegression",
          "LogisticRegression",
          "LogisticRegression",
          "LogisticRegression",
          "SVC",
          "SVC",
          "SVC",
          "SVC",
          "SVC",
          "SVC",
          "SVC",
          "SVC",
          "SVC",
          "SVC",
          "SVC",
          "SVC",
          "SVC",
          "SVC",
          "SVC",
          "SVC",
          "SVC",
          "SVC",
          "SVC",
          "SVC",
          "RandomForestClassifier",
          "RandomForestClassifier",
          "RandomForestClassifier",
          "RandomForestClassifier",
          "RandomForestClassifier",
          "RandomForestClassifier",
          "RandomForestClassifier",
          "RandomForestClassifier",
          "RandomForestClassifier",
          "RandomForestClassifier",
          "RandomForestClassifier",
          "RandomForestClassifier",
          "RandomForestClassifier",
          "RandomForestClassifier",
          "RandomForestClassifier",
          "RandomForestClassifier",
          "RandomForestClassifier",
          "RandomForestClassifier",
          "RandomForestClassifier",
          "RandomForestClassifier",
          "GradientBoostingClassifier",
          "GradientBoostingClassifier",
          "GradientBoostingClassifier",
          "GradientBoostingClassifier",
          "GradientBoostingClassifier",
          "GradientBoostingClassifier",
          "GradientBoostingClassifier",
          "GradientBoostingClassifier",
          "GradientBoostingClassifier",
          "GradientBoostingClassifier",
          "GradientBoostingClassifier",
          "GradientBoostingClassifier",
          "GradientBoostingClassifier",
          "GradientBoostingClassifier",
          "GradientBoostingClassifier",
          "GradientBoostingClassifier",
          "GradientBoostingClassifier",
          "GradientBoostingClassifier",
          "GradientBoostingClassifier",
          "GradientBoostingClassifier",
          "DeepNeuralNetwork",
          "DeepNeuralNetwork",
          "DeepNeuralNetwork",
          "DeepNeuralNetwork",
          "DeepNeuralNetwork",
          "DeepNeuralNetwork",
          "DeepNeuralNetwork",
          "DeepNeuralNetwork",
          "DeepNeuralNetwork",
          "DeepNeuralNetwork",
          "DeepNeuralNetwork",
          "DeepNeuralNetwork",
          "DeepNeuralNetwork",
          "DeepNeuralNetwork",
          "DeepNeuralNetwork",
          "DeepNeuralNetwork",
          "DeepNeuralNetwork",
          "DeepNeuralNetwork",
          "DeepNeuralNetwork",
          "DeepNeuralNetwork"
         ],
         "y": [
          339.1517693996427,
          385.8609459400175,
          345.159757375717,
          350.9144568443296,
          348.15681195259066,
          259.4352836608884,
          278.6185147762297,
          339.2558605670928,
          207.09554600715614,
          453.473170995712,
          206.71195077896104,
          325.1800360679624,
          361.42689371108986,
          374.13758182525606,
          353.4801113605497,
          386.71025276184065,
          329.0009529590603,
          272.1182141304015,
          233.42328643798805,
          321.3864912986753,
          2033.5670089721666,
          3999.66682434082,
          2673.829457759855,
          3018.5070705413796,
          3051.7778730392442,
          3535.3643727302524,
          2595.288807392119,
          3570.840840339659,
          2542.393222808836,
          2832.3441281318655,
          2399.3420248031607,
          3420.5113382339473,
          3508.985245227812,
          2096.338631153105,
          2790.1638679504376,
          2853.40172958374,
          3325.9142713546735,
          2662.83818721771,
          2617.372834682463,
          3768.556593894957,
          2006.5631217956543,
          1982.0781097412107,
          1949.1822795867918,
          2377.9635858535767,
          1753.4755897521968,
          2368.0566873550415,
          1948.4569616317747,
          2082.6515464782715,
          1816.667944908142,
          2052.709010124206,
          2027.4442663192744,
          2114.726386070251,
          1706.244415283203,
          2214.56374168396,
          1723.6018180847168,
          2229.71409702301,
          1673.7384510040279,
          2207.30039691925,
          1733.4232091903684,
          2188.9886598587036,
          2970.7337505817413,
          3045.515611648559,
          3893.010736465454,
          3019.014478683471,
          2557.1786577701564,
          3395.0900843143463,
          3364.542046070098,
          3234.5346577167506,
          3489.2271354198456,
          2445.7913057804103,
          2448.1471796035767,
          2843.3109703063965,
          2423.1795451641074,
          2432.910986185074,
          2856.345262765884,
          2507.104546308517,
          2350.072695255279,
          3072.0817158222194,
          2967.033061742782,
          2599.336961984634,
          16751.317195653915,
          16671.621861219406,
          16968.04155254364,
          16759.742264270782,
          15742.754548072815,
          16144.791546344757,
          15964.489791870117,
          16976.182106018066,
          16836.96869134903,
          16872.208146095272,
          17357.573877096176,
          19184.86382842064,
          16200.29532003403,
          20347.627464294434,
          16025.21123123169,
          17422.82890200615,
          16762.988535404205,
          18136.392879247665,
          17983.791705608368,
          18058.78554391861
         ]
        },
        {
         "name": "SS & FR",
         "type": "box",
         "x": [
          "LogisticRegression",
          "LogisticRegression",
          "LogisticRegression",
          "LogisticRegression",
          "LogisticRegression",
          "LogisticRegression",
          "LogisticRegression",
          "LogisticRegression",
          "LogisticRegression",
          "LogisticRegression",
          "LogisticRegression",
          "LogisticRegression",
          "LogisticRegression",
          "LogisticRegression",
          "LogisticRegression",
          "LogisticRegression",
          "LogisticRegression",
          "LogisticRegression",
          "LogisticRegression",
          "LogisticRegression",
          "SVC",
          "SVC",
          "SVC",
          "SVC",
          "SVC",
          "SVC",
          "SVC",
          "SVC",
          "SVC",
          "SVC",
          "SVC",
          "SVC",
          "SVC",
          "SVC",
          "SVC",
          "SVC",
          "SVC",
          "SVC",
          "SVC",
          "SVC",
          "RandomForestClassifier",
          "RandomForestClassifier",
          "RandomForestClassifier",
          "RandomForestClassifier",
          "RandomForestClassifier",
          "RandomForestClassifier",
          "RandomForestClassifier",
          "RandomForestClassifier",
          "RandomForestClassifier",
          "RandomForestClassifier",
          "RandomForestClassifier",
          "RandomForestClassifier",
          "RandomForestClassifier",
          "RandomForestClassifier",
          "RandomForestClassifier",
          "RandomForestClassifier",
          "RandomForestClassifier",
          "RandomForestClassifier",
          "RandomForestClassifier",
          "RandomForestClassifier",
          "GradientBoostingClassifier",
          "GradientBoostingClassifier",
          "GradientBoostingClassifier",
          "GradientBoostingClassifier",
          "GradientBoostingClassifier",
          "GradientBoostingClassifier",
          "GradientBoostingClassifier",
          "GradientBoostingClassifier",
          "GradientBoostingClassifier",
          "GradientBoostingClassifier",
          "GradientBoostingClassifier",
          "GradientBoostingClassifier",
          "GradientBoostingClassifier",
          "GradientBoostingClassifier",
          "GradientBoostingClassifier",
          "GradientBoostingClassifier",
          "GradientBoostingClassifier",
          "GradientBoostingClassifier",
          "GradientBoostingClassifier",
          "GradientBoostingClassifier",
          "DeepNeuralNetwork",
          "DeepNeuralNetwork",
          "DeepNeuralNetwork",
          "DeepNeuralNetwork",
          "DeepNeuralNetwork",
          "DeepNeuralNetwork",
          "DeepNeuralNetwork",
          "DeepNeuralNetwork",
          "DeepNeuralNetwork",
          "DeepNeuralNetwork",
          "DeepNeuralNetwork",
          "DeepNeuralNetwork",
          "DeepNeuralNetwork",
          "DeepNeuralNetwork",
          "DeepNeuralNetwork",
          "DeepNeuralNetwork",
          "DeepNeuralNetwork",
          "DeepNeuralNetwork",
          "DeepNeuralNetwork",
          "DeepNeuralNetwork"
         ],
         "y": [
          238.65830111503575,
          314.55849623680103,
          384.32887816429127,
          226.92876863479592,
          330.82910227775557,
          277.5463757514951,
          573.8229932785033,
          288.16984319686867,
          280.25120401382424,
          287.05298352241505,
          371.6282136440274,
          521.208763360977,
          260.95578575134255,
          317.9067621231076,
          429.7326743602751,
          327.58107233047457,
          467.0767300128935,
          421.21570372581454,
          267.7803111076353,
          320.1308434009551,
          1850.5780372619602,
          4157.034397125243,
          2163.6301522254926,
          3972.8293948173523,
          2546.0103816986066,
          3704.975900173184,
          3921.3495569229126,
          2086.5308890342694,
          2625.4783501625047,
          2422.660467624663,
          3845.937130451202,
          1782.1406350135787,
          4552.528098106383,
          3224.15003299713,
          3729.3278045654283,
          2965.4807562828037,
          3072.638754844664,
          3768.340720176696,
          2374.0129609107953,
          4502.641438961027,
          1891.2991561889644,
          1946.846672058105,
          2062.755829811096,
          2161.8559083938594,
          2367.071259498596,
          1794.7427730560298,
          2259.2296943664546,
          1681.002393722534,
          1895.6223621368408,
          2050.043930053711,
          1800.9585027694698,
          2153.791903495788,
          1903.179302215576,
          1936.0195226669307,
          2292.8765544891357,
          2217.313133239746,
          2103.0244302749634,
          2063.597150802612,
          2094.0294113159175,
          1836.9409704208374,
          2973.235587120056,
          2378.037905454635,
          2290.7878024578094,
          3045.9935505390167,
          2601.978531122207,
          2463.3922731876373,
          2977.100039005279,
          2653.2043240070343,
          2664.5707254409785,
          2909.041363000869,
          2774.7716853618617,
          2647.1913721561427,
          3122.4486427307124,
          2457.8608202934265,
          2366.455229997635,
          2733.000538349151,
          2761.014699459076,
          3172.301140069961,
          2665.4705321788783,
          2934.1496200561523,
          16891.146282434464,
          17258.770941019062,
          15757.215069055557,
          16145.744594335556,
          17417.57081341743,
          16354.53206706047,
          19063.504904985428,
          16875.740487098694,
          18057.17795562744,
          21739.29985690117,
          16773.425421476364,
          18851.40430784226,
          17131.726378917694,
          16573.188950300217,
          19275.29144716263,
          17642.219616651535,
          20244.07328081131,
          18167.969395875927,
          17141.21488118172,
          18647.04158973694
         ]
        }
       ],
       "layout": {
        "boxmode": "group",
        "template": {
         "data": {
          "bar": [
           {
            "error_x": {
             "color": "#2a3f5f"
            },
            "error_y": {
             "color": "#2a3f5f"
            },
            "marker": {
             "line": {
              "color": "#E5ECF6",
              "width": 0.5
             },
             "pattern": {
              "fillmode": "overlay",
              "size": 10,
              "solidity": 0.2
             }
            },
            "type": "bar"
           }
          ],
          "barpolar": [
           {
            "marker": {
             "line": {
              "color": "#E5ECF6",
              "width": 0.5
             },
             "pattern": {
              "fillmode": "overlay",
              "size": 10,
              "solidity": 0.2
             }
            },
            "type": "barpolar"
           }
          ],
          "carpet": [
           {
            "aaxis": {
             "endlinecolor": "#2a3f5f",
             "gridcolor": "white",
             "linecolor": "white",
             "minorgridcolor": "white",
             "startlinecolor": "#2a3f5f"
            },
            "baxis": {
             "endlinecolor": "#2a3f5f",
             "gridcolor": "white",
             "linecolor": "white",
             "minorgridcolor": "white",
             "startlinecolor": "#2a3f5f"
            },
            "type": "carpet"
           }
          ],
          "choropleth": [
           {
            "colorbar": {
             "outlinewidth": 0,
             "ticks": ""
            },
            "type": "choropleth"
           }
          ],
          "contour": [
           {
            "colorbar": {
             "outlinewidth": 0,
             "ticks": ""
            },
            "colorscale": [
             [
              0,
              "#0d0887"
             ],
             [
              0.1111111111111111,
              "#46039f"
             ],
             [
              0.2222222222222222,
              "#7201a8"
             ],
             [
              0.3333333333333333,
              "#9c179e"
             ],
             [
              0.4444444444444444,
              "#bd3786"
             ],
             [
              0.5555555555555556,
              "#d8576b"
             ],
             [
              0.6666666666666666,
              "#ed7953"
             ],
             [
              0.7777777777777778,
              "#fb9f3a"
             ],
             [
              0.8888888888888888,
              "#fdca26"
             ],
             [
              1,
              "#f0f921"
             ]
            ],
            "type": "contour"
           }
          ],
          "contourcarpet": [
           {
            "colorbar": {
             "outlinewidth": 0,
             "ticks": ""
            },
            "type": "contourcarpet"
           }
          ],
          "heatmap": [
           {
            "colorbar": {
             "outlinewidth": 0,
             "ticks": ""
            },
            "colorscale": [
             [
              0,
              "#0d0887"
             ],
             [
              0.1111111111111111,
              "#46039f"
             ],
             [
              0.2222222222222222,
              "#7201a8"
             ],
             [
              0.3333333333333333,
              "#9c179e"
             ],
             [
              0.4444444444444444,
              "#bd3786"
             ],
             [
              0.5555555555555556,
              "#d8576b"
             ],
             [
              0.6666666666666666,
              "#ed7953"
             ],
             [
              0.7777777777777778,
              "#fb9f3a"
             ],
             [
              0.8888888888888888,
              "#fdca26"
             ],
             [
              1,
              "#f0f921"
             ]
            ],
            "type": "heatmap"
           }
          ],
          "heatmapgl": [
           {
            "colorbar": {
             "outlinewidth": 0,
             "ticks": ""
            },
            "colorscale": [
             [
              0,
              "#0d0887"
             ],
             [
              0.1111111111111111,
              "#46039f"
             ],
             [
              0.2222222222222222,
              "#7201a8"
             ],
             [
              0.3333333333333333,
              "#9c179e"
             ],
             [
              0.4444444444444444,
              "#bd3786"
             ],
             [
              0.5555555555555556,
              "#d8576b"
             ],
             [
              0.6666666666666666,
              "#ed7953"
             ],
             [
              0.7777777777777778,
              "#fb9f3a"
             ],
             [
              0.8888888888888888,
              "#fdca26"
             ],
             [
              1,
              "#f0f921"
             ]
            ],
            "type": "heatmapgl"
           }
          ],
          "histogram": [
           {
            "marker": {
             "pattern": {
              "fillmode": "overlay",
              "size": 10,
              "solidity": 0.2
             }
            },
            "type": "histogram"
           }
          ],
          "histogram2d": [
           {
            "colorbar": {
             "outlinewidth": 0,
             "ticks": ""
            },
            "colorscale": [
             [
              0,
              "#0d0887"
             ],
             [
              0.1111111111111111,
              "#46039f"
             ],
             [
              0.2222222222222222,
              "#7201a8"
             ],
             [
              0.3333333333333333,
              "#9c179e"
             ],
             [
              0.4444444444444444,
              "#bd3786"
             ],
             [
              0.5555555555555556,
              "#d8576b"
             ],
             [
              0.6666666666666666,
              "#ed7953"
             ],
             [
              0.7777777777777778,
              "#fb9f3a"
             ],
             [
              0.8888888888888888,
              "#fdca26"
             ],
             [
              1,
              "#f0f921"
             ]
            ],
            "type": "histogram2d"
           }
          ],
          "histogram2dcontour": [
           {
            "colorbar": {
             "outlinewidth": 0,
             "ticks": ""
            },
            "colorscale": [
             [
              0,
              "#0d0887"
             ],
             [
              0.1111111111111111,
              "#46039f"
             ],
             [
              0.2222222222222222,
              "#7201a8"
             ],
             [
              0.3333333333333333,
              "#9c179e"
             ],
             [
              0.4444444444444444,
              "#bd3786"
             ],
             [
              0.5555555555555556,
              "#d8576b"
             ],
             [
              0.6666666666666666,
              "#ed7953"
             ],
             [
              0.7777777777777778,
              "#fb9f3a"
             ],
             [
              0.8888888888888888,
              "#fdca26"
             ],
             [
              1,
              "#f0f921"
             ]
            ],
            "type": "histogram2dcontour"
           }
          ],
          "mesh3d": [
           {
            "colorbar": {
             "outlinewidth": 0,
             "ticks": ""
            },
            "type": "mesh3d"
           }
          ],
          "parcoords": [
           {
            "line": {
             "colorbar": {
              "outlinewidth": 0,
              "ticks": ""
             }
            },
            "type": "parcoords"
           }
          ],
          "pie": [
           {
            "automargin": true,
            "type": "pie"
           }
          ],
          "scatter": [
           {
            "fillpattern": {
             "fillmode": "overlay",
             "size": 10,
             "solidity": 0.2
            },
            "type": "scatter"
           }
          ],
          "scatter3d": [
           {
            "line": {
             "colorbar": {
              "outlinewidth": 0,
              "ticks": ""
             }
            },
            "marker": {
             "colorbar": {
              "outlinewidth": 0,
              "ticks": ""
             }
            },
            "type": "scatter3d"
           }
          ],
          "scattercarpet": [
           {
            "marker": {
             "colorbar": {
              "outlinewidth": 0,
              "ticks": ""
             }
            },
            "type": "scattercarpet"
           }
          ],
          "scattergeo": [
           {
            "marker": {
             "colorbar": {
              "outlinewidth": 0,
              "ticks": ""
             }
            },
            "type": "scattergeo"
           }
          ],
          "scattergl": [
           {
            "marker": {
             "colorbar": {
              "outlinewidth": 0,
              "ticks": ""
             }
            },
            "type": "scattergl"
           }
          ],
          "scattermapbox": [
           {
            "marker": {
             "colorbar": {
              "outlinewidth": 0,
              "ticks": ""
             }
            },
            "type": "scattermapbox"
           }
          ],
          "scatterpolar": [
           {
            "marker": {
             "colorbar": {
              "outlinewidth": 0,
              "ticks": ""
             }
            },
            "type": "scatterpolar"
           }
          ],
          "scatterpolargl": [
           {
            "marker": {
             "colorbar": {
              "outlinewidth": 0,
              "ticks": ""
             }
            },
            "type": "scatterpolargl"
           }
          ],
          "scatterternary": [
           {
            "marker": {
             "colorbar": {
              "outlinewidth": 0,
              "ticks": ""
             }
            },
            "type": "scatterternary"
           }
          ],
          "surface": [
           {
            "colorbar": {
             "outlinewidth": 0,
             "ticks": ""
            },
            "colorscale": [
             [
              0,
              "#0d0887"
             ],
             [
              0.1111111111111111,
              "#46039f"
             ],
             [
              0.2222222222222222,
              "#7201a8"
             ],
             [
              0.3333333333333333,
              "#9c179e"
             ],
             [
              0.4444444444444444,
              "#bd3786"
             ],
             [
              0.5555555555555556,
              "#d8576b"
             ],
             [
              0.6666666666666666,
              "#ed7953"
             ],
             [
              0.7777777777777778,
              "#fb9f3a"
             ],
             [
              0.8888888888888888,
              "#fdca26"
             ],
             [
              1,
              "#f0f921"
             ]
            ],
            "type": "surface"
           }
          ],
          "table": [
           {
            "cells": {
             "fill": {
              "color": "#EBF0F8"
             },
             "line": {
              "color": "white"
             }
            },
            "header": {
             "fill": {
              "color": "#C8D4E3"
             },
             "line": {
              "color": "white"
             }
            },
            "type": "table"
           }
          ]
         },
         "layout": {
          "annotationdefaults": {
           "arrowcolor": "#2a3f5f",
           "arrowhead": 0,
           "arrowwidth": 1
          },
          "autotypenumbers": "strict",
          "coloraxis": {
           "colorbar": {
            "outlinewidth": 0,
            "ticks": ""
           }
          },
          "colorscale": {
           "diverging": [
            [
             0,
             "#8e0152"
            ],
            [
             0.1,
             "#c51b7d"
            ],
            [
             0.2,
             "#de77ae"
            ],
            [
             0.3,
             "#f1b6da"
            ],
            [
             0.4,
             "#fde0ef"
            ],
            [
             0.5,
             "#f7f7f7"
            ],
            [
             0.6,
             "#e6f5d0"
            ],
            [
             0.7,
             "#b8e186"
            ],
            [
             0.8,
             "#7fbc41"
            ],
            [
             0.9,
             "#4d9221"
            ],
            [
             1,
             "#276419"
            ]
           ],
           "sequential": [
            [
             0,
             "#0d0887"
            ],
            [
             0.1111111111111111,
             "#46039f"
            ],
            [
             0.2222222222222222,
             "#7201a8"
            ],
            [
             0.3333333333333333,
             "#9c179e"
            ],
            [
             0.4444444444444444,
             "#bd3786"
            ],
            [
             0.5555555555555556,
             "#d8576b"
            ],
            [
             0.6666666666666666,
             "#ed7953"
            ],
            [
             0.7777777777777778,
             "#fb9f3a"
            ],
            [
             0.8888888888888888,
             "#fdca26"
            ],
            [
             1,
             "#f0f921"
            ]
           ],
           "sequentialminus": [
            [
             0,
             "#0d0887"
            ],
            [
             0.1111111111111111,
             "#46039f"
            ],
            [
             0.2222222222222222,
             "#7201a8"
            ],
            [
             0.3333333333333333,
             "#9c179e"
            ],
            [
             0.4444444444444444,
             "#bd3786"
            ],
            [
             0.5555555555555556,
             "#d8576b"
            ],
            [
             0.6666666666666666,
             "#ed7953"
            ],
            [
             0.7777777777777778,
             "#fb9f3a"
            ],
            [
             0.8888888888888888,
             "#fdca26"
            ],
            [
             1,
             "#f0f921"
            ]
           ]
          },
          "colorway": [
           "#636efa",
           "#EF553B",
           "#00cc96",
           "#ab63fa",
           "#FFA15A",
           "#19d3f3",
           "#FF6692",
           "#B6E880",
           "#FF97FF",
           "#FECB52"
          ],
          "font": {
           "color": "#2a3f5f"
          },
          "geo": {
           "bgcolor": "white",
           "lakecolor": "white",
           "landcolor": "#E5ECF6",
           "showlakes": true,
           "showland": true,
           "subunitcolor": "white"
          },
          "hoverlabel": {
           "align": "left"
          },
          "hovermode": "closest",
          "mapbox": {
           "style": "light"
          },
          "paper_bgcolor": "white",
          "plot_bgcolor": "#E5ECF6",
          "polar": {
           "angularaxis": {
            "gridcolor": "white",
            "linecolor": "white",
            "ticks": ""
           },
           "bgcolor": "#E5ECF6",
           "radialaxis": {
            "gridcolor": "white",
            "linecolor": "white",
            "ticks": ""
           }
          },
          "scene": {
           "xaxis": {
            "backgroundcolor": "#E5ECF6",
            "gridcolor": "white",
            "gridwidth": 2,
            "linecolor": "white",
            "showbackground": true,
            "ticks": "",
            "zerolinecolor": "white"
           },
           "yaxis": {
            "backgroundcolor": "#E5ECF6",
            "gridcolor": "white",
            "gridwidth": 2,
            "linecolor": "white",
            "showbackground": true,
            "ticks": "",
            "zerolinecolor": "white"
           },
           "zaxis": {
            "backgroundcolor": "#E5ECF6",
            "gridcolor": "white",
            "gridwidth": 2,
            "linecolor": "white",
            "showbackground": true,
            "ticks": "",
            "zerolinecolor": "white"
           }
          },
          "shapedefaults": {
           "line": {
            "color": "#2a3f5f"
           }
          },
          "ternary": {
           "aaxis": {
            "gridcolor": "white",
            "linecolor": "white",
            "ticks": ""
           },
           "baxis": {
            "gridcolor": "white",
            "linecolor": "white",
            "ticks": ""
           },
           "bgcolor": "#E5ECF6",
           "caxis": {
            "gridcolor": "white",
            "linecolor": "white",
            "ticks": ""
           }
          },
          "title": {
           "x": 0.05
          },
          "xaxis": {
           "automargin": true,
           "gridcolor": "white",
           "linecolor": "white",
           "ticks": "",
           "title": {
            "standoff": 15
           },
           "zerolinecolor": "white",
           "zerolinewidth": 2
          },
          "yaxis": {
           "automargin": true,
           "gridcolor": "white",
           "linecolor": "white",
           "ticks": "",
           "title": {
            "standoff": 15
           },
           "zerolinecolor": "white",
           "zerolinewidth": 2
          }
         }
        },
        "title": {
         "text": "total_time * model_size"
        },
        "yaxis": {
         "title": {
          "text": "total_time * model_size"
         }
        }
       }
      }
     },
     "metadata": {},
     "output_type": "display_data"
    }
   ],
   "source": [
    "results = {}\n",
    "for model in models:\n",
    "\tfor ss_opt in subsampling_options:\n",
    "\t\tfor fr_opt in feature_reduction_options:\n",
    "\t\t\tfilename = f'{DATASET}_{ss_opt}_{fr_opt}_{model}'\n",
    "\t\t\tpath = f'../results/{filename}.csv'\n",
    "\t\t\tdf = pd.read_csv(path)\n",
    "\t\t\tpreprocess_time =  df['preprocess_time'].transpose()\n",
    "\t\t\ttraining_time =  df['training_time'].transpose()\n",
    "\t\t\tprediction_time =  df['prediction_time'].transpose()\n",
    "\t\t\tmodel_size =  df['model_size'].transpose()\n",
    "\t\t\ttotal_time = preprocess_time.to_numpy() + training_time.to_numpy() + prediction_time.to_numpy()\n",
    "\t\t\tresults[filename] = total_time * model_size.to_numpy()\n",
    "\n",
    "n_experiments = len(results[filename])\n",
    "\n",
    "fig = go.Figure()\n",
    "\n",
    "for ss_opt in subsampling_options:\n",
    "\tfor fr_opt in feature_reduction_options:\n",
    "\t\tx, y = [], []\n",
    "\t\tfor model in models:\n",
    "\t\t\tfilename = f'{DATASET}_{ss_opt}_{fr_opt}_{model}'\n",
    "\t\t\tx.extend([model for _ in range(n_experiments)])\n",
    "\t\t\ty.extend(list(results[filename]))\n",
    "\t\tfig.add_trace(go.Box(y=y, x=x, name=get_experiment_name(ss_opt, fr_opt)))\n",
    "\t\t\n",
    "\n",
    "fig.update_layout(\n",
    "\ttitle='total_time * model_size',\n",
    "\tyaxis_title='total_time * model_size',\n",
    "\tboxmode='group'\n",
    ")\n",
    "fig.show()\n"
   ]
  }
 ],
 "metadata": {
  "kernelspec": {
   "display_name": "tf",
   "language": "python",
   "name": "python3"
  },
  "language_info": {
   "codemirror_mode": {
    "name": "ipython",
    "version": 3
   },
   "file_extension": ".py",
   "mimetype": "text/x-python",
   "name": "python",
   "nbconvert_exporter": "python",
   "pygments_lexer": "ipython3",
   "version": "3.9.0"
  }
 },
 "nbformat": 4,
 "nbformat_minor": 2
}
