{
 "cells": [
  {
   "cell_type": "code",
   "execution_count": 1,
   "metadata": {},
   "outputs": [
    {
     "ename": "NameError",
     "evalue": "name '__file__' is not defined",
     "output_type": "error",
     "traceback": [
      "\u001b[1;31m---------------------------------------------------------------------------\u001b[0m",
      "\u001b[1;31mNameError\u001b[0m                                 Traceback (most recent call last)",
      "\u001b[1;32mUntitled-1.ipynb Cell 1\u001b[0m line \u001b[0;36m1\n\u001b[0;32m     <a href='vscode-notebook-cell:Untitled-1.ipynb?jupyter-notebook#W0sdW50aXRsZWQ%3D?line=9'>10</a>\u001b[0m \u001b[39mimport\u001b[39;00m \u001b[39mseaborn\u001b[39;00m\n\u001b[0;32m     <a href='vscode-notebook-cell:Untitled-1.ipynb?jupyter-notebook#W0sdW50aXRsZWQ%3D?line=11'>12</a>\u001b[0m \u001b[39m# Get path\u001b[39;00m\n\u001b[1;32m---> <a href='vscode-notebook-cell:Untitled-1.ipynb?jupyter-notebook#W0sdW50aXRsZWQ%3D?line=12'>13</a>\u001b[0m current \u001b[39m=\u001b[39m os\u001b[39m.\u001b[39mpath\u001b[39m.\u001b[39mdirname(os\u001b[39m.\u001b[39mpath\u001b[39m.\u001b[39mrealpath(\u001b[39m__file__\u001b[39;49m))\n\u001b[0;32m     <a href='vscode-notebook-cell:Untitled-1.ipynb?jupyter-notebook#W0sdW50aXRsZWQ%3D?line=13'>14</a>\u001b[0m parent \u001b[39m=\u001b[39m os\u001b[39m.\u001b[39mpath\u001b[39m.\u001b[39mdirname(current)\n\u001b[0;32m     <a href='vscode-notebook-cell:Untitled-1.ipynb?jupyter-notebook#W0sdW50aXRsZWQ%3D?line=14'>15</a>\u001b[0m sys\u001b[39m.\u001b[39mpath\u001b[39m.\u001b[39mappend(parent)\n",
      "\u001b[1;31mNameError\u001b[0m: name '__file__' is not defined"
     ]
    }
   ],
   "source": [
    "# Libraries\n",
    "import numpy as np\n",
    "import os\n",
    "import sys\n",
    "import csv\n",
    "import pandas as pd\n",
    "import plotly.express as px\n",
    "import plotly.graph_objects as go\n",
    "import matplotlib.pyplot as plt\n",
    "import seaborn\n",
    "\n",
    "# Get path\n",
    "current = os.path.dirname(os.path.realpath(__file__))\n",
    "parent = os.path.dirname(current)\n",
    "sys.path.append(parent)\n",
    "\n",
    "# Datasets\n",
    "datasets = ['aids', 'students', 'malware']\n",
    "\n",
    "# Machine Learning models\n",
    "models = ['LogisticRegression', 'SVC', 'RandomForestClassifier', 'GradientBoostingClassifier','DeepNeuralNetwork']\n",
    "\n",
    "# Experiment options\n",
    "subsampling_options = ['False']\n",
    "feature_reduction_options = ['False']\n",
    "N_EXPERIMENTS = 40\n",
    "\n",
    "# Inputs\n",
    "DATASET = datasets[0]\n",
    "METRIC = 'accuracy'\n",
    "\n",
    "results = {}\n",
    "for model in models:\n",
    "    for ss_opt in subsampling_options:\n",
    "        for fr_opt in feature_reduction_options:\n",
    "            filename = f'{DATASET}_{ss_opt}_{fr_opt}_{model}'\n",
    "            path = f'{parent}/results/{filename}.csv'\n",
    "            df = pd.read_csv(path)\n",
    "            results[filename] = df[METRIC].transpose()\n",
    "\n",
    "x = []\n",
    "for key in results:\n",
    "    x.extend([key for _ in range(N_EXPERIMENTS)])\n",
    "\n",
    "fig = go.Figure()\n",
    "for model in models:\n",
    "    for ss_opt in subsampling_options:\n",
    "        for fr_opt in feature_reduction_options:\n",
    "            filename = f'{DATASET}_{ss_opt}_{fr_opt}_{model}'\n",
    "            y = []\n",
    "            y.extend(list(results[filename]))\n",
    "            fig.add_trace(go.Box(y=y, x=x, name=filename))\n",
    "\n",
    "fig.update_layout(\n",
    "    xaxis_title='Experiment',\n",
    "    yaxis_title=METRIC,\n",
    "    boxmode='group'\n",
    ")\n",
    "fig.show()\n"
   ]
  }
 ],
 "metadata": {
  "kernelspec": {
   "display_name": "tf",
   "language": "python",
   "name": "python3"
  },
  "language_info": {
   "codemirror_mode": {
    "name": "ipython",
    "version": 3
   },
   "file_extension": ".py",
   "mimetype": "text/x-python",
   "name": "python",
   "nbconvert_exporter": "python",
   "pygments_lexer": "ipython3",
   "version": "3.11.5"
  }
 },
 "nbformat": 4,
 "nbformat_minor": 2
}
