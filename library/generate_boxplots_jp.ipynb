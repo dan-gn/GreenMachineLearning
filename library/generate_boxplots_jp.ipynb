{
 "cells": [
  {
   "cell_type": "code",
   "execution_count": 1,
   "metadata": {},
   "outputs": [],
   "source": [
    "# Libraries\n",
    "import numpy as np\n",
    "import pandas as pd\n",
    "import plotly.express as px\n",
    "import plotly.graph_objects as go\n",
    "import matplotlib.pyplot as plt"
   ]
  },
  {
   "cell_type": "code",
   "execution_count": 2,
   "metadata": {},
   "outputs": [],
   "source": [
    "def get_experiment_name(ss_opt, fr_opt):\n",
    "\tif ss_opt == 'True' and fr_opt == 'True':\n",
    "\t\treturn 'SS & FR'\n",
    "\telif ss_opt == 'True':\n",
    "\t\treturn 'SS'\n",
    "\telif fr_opt == 'True':\n",
    "\t\treturn 'FR'\n",
    "\telse:\n",
    "\t\treturn 'Full'"
   ]
  },
  {
   "cell_type": "code",
   "execution_count": 3,
   "metadata": {},
   "outputs": [],
   "source": [
    "# Datasets\n",
    "datasets = ['aids', 'students', 'malware']\n",
    "\n",
    "# Machine Learning models\n",
    "models = ['LogisticRegression', 'SVC', 'RandomForestClassifier', 'GradientBoostingClassifier','ResidualNeuralNetwork', 'MultiLayerNeuralNetwork']\n",
    "\n",
    "# Experiment options\n",
    "subsampling_options = ['False', 'True']\n",
    "feature_reduction_options = ['False', 'True']\n",
    "\n",
    "# Inputs\n",
    "DATASET = datasets[2]\n"
   ]
  },
  {
   "cell_type": "markdown",
   "metadata": {},
   "source": [
    "Function to generate plots"
   ]
  },
  {
   "cell_type": "code",
   "execution_count": 4,
   "metadata": {},
   "outputs": [],
   "source": [
    "def make_plots(metric):\n",
    "    results = {}\n",
    "    for model in models:\n",
    "        for ss_opt in subsampling_options:\n",
    "            for fr_opt in feature_reduction_options:\n",
    "                filename = f'{DATASET}_{ss_opt}_{fr_opt}_{model}'\n",
    "                path = f'../results/{filename}.csv'\n",
    "                df = pd.read_csv(path)\n",
    "                results[filename] = df[metric].transpose()\n",
    "\n",
    "    n_experiments = len(results[filename])\n",
    "\n",
    "    fig = go.Figure()\n",
    "\n",
    "    for ss_opt in subsampling_options:\n",
    "        for fr_opt in feature_reduction_options:\n",
    "            x, y = [], []\n",
    "            for model in models:\n",
    "                filename = f'{DATASET}_{ss_opt}_{fr_opt}_{model}'\n",
    "                x.extend([model for _ in range(n_experiments)])\n",
    "                y.extend(list(results[filename]))\n",
    "            fig.add_trace(go.Box(y=y, x=x, name=get_experiment_name(ss_opt, fr_opt)))\n",
    "            \n",
    "\n",
    "    fig.update_layout(\n",
    "        title=metric,\n",
    "        yaxis_title=metric,\n",
    "        boxmode='group'\n",
    "    )\n",
    "    fig.show()\n"
   ]
  },
  {
   "cell_type": "code",
   "execution_count": 5,
   "metadata": {},
   "outputs": [
    {
     "data": {
      "application/vnd.plotly.v1+json": {
       "config": {
        "plotlyServerURL": "https://plot.ly"
       },
       "data": [
        {
         "name": "Full",
         "type": "box",
         "x": [
          "LogisticRegression",
          "LogisticRegression",
          "LogisticRegression",
          "LogisticRegression",
          "LogisticRegression",
          "LogisticRegression",
          "LogisticRegression",
          "LogisticRegression",
          "LogisticRegression",
          "LogisticRegression",
          "LogisticRegression",
          "LogisticRegression",
          "LogisticRegression",
          "LogisticRegression",
          "LogisticRegression",
          "LogisticRegression",
          "LogisticRegression",
          "LogisticRegression",
          "LogisticRegression",
          "LogisticRegression",
          "SVC",
          "SVC",
          "SVC",
          "SVC",
          "SVC",
          "SVC",
          "SVC",
          "SVC",
          "SVC",
          "SVC",
          "SVC",
          "SVC",
          "SVC",
          "SVC",
          "SVC",
          "SVC",
          "SVC",
          "SVC",
          "SVC",
          "SVC",
          "RandomForestClassifier",
          "RandomForestClassifier",
          "RandomForestClassifier",
          "RandomForestClassifier",
          "RandomForestClassifier",
          "RandomForestClassifier",
          "RandomForestClassifier",
          "RandomForestClassifier",
          "RandomForestClassifier",
          "RandomForestClassifier",
          "RandomForestClassifier",
          "RandomForestClassifier",
          "RandomForestClassifier",
          "RandomForestClassifier",
          "RandomForestClassifier",
          "RandomForestClassifier",
          "RandomForestClassifier",
          "RandomForestClassifier",
          "RandomForestClassifier",
          "RandomForestClassifier",
          "GradientBoostingClassifier",
          "GradientBoostingClassifier",
          "GradientBoostingClassifier",
          "GradientBoostingClassifier",
          "GradientBoostingClassifier",
          "GradientBoostingClassifier",
          "GradientBoostingClassifier",
          "GradientBoostingClassifier",
          "GradientBoostingClassifier",
          "GradientBoostingClassifier",
          "GradientBoostingClassifier",
          "GradientBoostingClassifier",
          "GradientBoostingClassifier",
          "GradientBoostingClassifier",
          "GradientBoostingClassifier",
          "GradientBoostingClassifier",
          "GradientBoostingClassifier",
          "GradientBoostingClassifier",
          "GradientBoostingClassifier",
          "GradientBoostingClassifier",
          "DeepNeuralNetwork",
          "DeepNeuralNetwork",
          "DeepNeuralNetwork",
          "DeepNeuralNetwork",
          "DeepNeuralNetwork",
          "DeepNeuralNetwork",
          "DeepNeuralNetwork",
          "DeepNeuralNetwork",
          "DeepNeuralNetwork",
          "DeepNeuralNetwork",
          "DeepNeuralNetwork",
          "DeepNeuralNetwork",
          "DeepNeuralNetwork",
          "DeepNeuralNetwork",
          "DeepNeuralNetwork",
          "DeepNeuralNetwork",
          "DeepNeuralNetwork",
          "DeepNeuralNetwork",
          "DeepNeuralNetwork",
          "DeepNeuralNetwork"
         ],
         "y": [
          0.9029345372460496,
          0.8600451467268623,
          0.8848758465011287,
          0.8848758465011287,
          0.8687782805429864,
          0.8619909502262444,
          0.8642533936651584,
          0.8642533936651584,
          0.8823529411764706,
          0.8778280542986425,
          0.8984198645598194,
          0.8623024830699775,
          0.8600451467268623,
          0.891647855530474,
          0.8755656108597285,
          0.9049773755656108,
          0.8574660633484162,
          0.8914027149321267,
          0.8642533936651584,
          0.8552036199095022,
          0.90744920993228,
          0.8577878103837472,
          0.8803611738148984,
          0.873589164785553,
          0.8506787330316742,
          0.8574660633484162,
          0.8665158371040724,
          0.8461538461538461,
          0.8687782805429864,
          0.8755656108597285,
          0.8893905191873589,
          0.8555304740406321,
          0.8600451467268623,
          0.8871331828442438,
          0.8619909502262444,
          0.8868778280542986,
          0.8642533936651584,
          0.8506787330316742,
          0.8642533936651584,
          0.8484162895927602,
          0.8939051918735892,
          0.8803611738148984,
          0.8781038374717833,
          0.8826185101580135,
          0.8619909502262444,
          0.8823529411764706,
          0.8552036199095022,
          0.8846153846153846,
          0.8755656108597285,
          0.8687782805429864,
          0.9006772009029346,
          0.873589164785553,
          0.8577878103837472,
          0.8893905191873589,
          0.8800904977375565,
          0.9027149321266968,
          0.8619909502262444,
          0.8687782805429864,
          0.8642533936651584,
          0.8506787330316742,
          0.9164785553047404,
          0.8781038374717833,
          0.8803611738148984,
          0.891647855530474,
          0.8687782805429864,
          0.8755656108597285,
          0.8665158371040724,
          0.8529411764705882,
          0.8800904977375565,
          0.8710407239819005,
          0.9029345372460496,
          0.871331828442438,
          0.8623024830699775,
          0.891647855530474,
          0.8846153846153846,
          0.8936651583710408,
          0.8710407239819005,
          0.8800904977375565,
          0.8755656108597285,
          0.8529411764705882,
          0.6772009029345373,
          0.6794582392776524,
          0.6794582392776524,
          0.6794582392776524,
          0.6787330316742082,
          0.6787330316742082,
          0.6787330316742082,
          0.6787330316742082,
          0.6787330316742082,
          0.6787330316742082,
          0.6772009029345373,
          0.6794582392776524,
          0.6794582392776524,
          0.6794582392776524,
          0.6787330316742082,
          0.6787330316742082,
          0.6787330316742082,
          0.6787330316742082,
          0.6787330316742082,
          0.6787330316742082
         ]
        },
        {
         "name": "FR",
         "type": "box",
         "x": [
          "LogisticRegression",
          "LogisticRegression",
          "LogisticRegression",
          "LogisticRegression",
          "LogisticRegression",
          "LogisticRegression",
          "LogisticRegression",
          "LogisticRegression",
          "LogisticRegression",
          "LogisticRegression",
          "LogisticRegression",
          "LogisticRegression",
          "LogisticRegression",
          "LogisticRegression",
          "LogisticRegression",
          "LogisticRegression",
          "LogisticRegression",
          "LogisticRegression",
          "LogisticRegression",
          "LogisticRegression",
          "SVC",
          "SVC",
          "SVC",
          "SVC",
          "SVC",
          "SVC",
          "SVC",
          "SVC",
          "SVC",
          "SVC",
          "SVC",
          "SVC",
          "SVC",
          "SVC",
          "SVC",
          "SVC",
          "SVC",
          "SVC",
          "SVC",
          "SVC",
          "RandomForestClassifier",
          "RandomForestClassifier",
          "RandomForestClassifier",
          "RandomForestClassifier",
          "RandomForestClassifier",
          "RandomForestClassifier",
          "RandomForestClassifier",
          "RandomForestClassifier",
          "RandomForestClassifier",
          "RandomForestClassifier",
          "RandomForestClassifier",
          "RandomForestClassifier",
          "RandomForestClassifier",
          "RandomForestClassifier",
          "RandomForestClassifier",
          "RandomForestClassifier",
          "RandomForestClassifier",
          "RandomForestClassifier",
          "RandomForestClassifier",
          "RandomForestClassifier",
          "GradientBoostingClassifier",
          "GradientBoostingClassifier",
          "GradientBoostingClassifier",
          "GradientBoostingClassifier",
          "GradientBoostingClassifier",
          "GradientBoostingClassifier",
          "GradientBoostingClassifier",
          "GradientBoostingClassifier",
          "GradientBoostingClassifier",
          "GradientBoostingClassifier",
          "GradientBoostingClassifier",
          "GradientBoostingClassifier",
          "GradientBoostingClassifier",
          "GradientBoostingClassifier",
          "GradientBoostingClassifier",
          "GradientBoostingClassifier",
          "GradientBoostingClassifier",
          "GradientBoostingClassifier",
          "GradientBoostingClassifier",
          "GradientBoostingClassifier",
          "DeepNeuralNetwork",
          "DeepNeuralNetwork",
          "DeepNeuralNetwork",
          "DeepNeuralNetwork",
          "DeepNeuralNetwork",
          "DeepNeuralNetwork",
          "DeepNeuralNetwork",
          "DeepNeuralNetwork",
          "DeepNeuralNetwork",
          "DeepNeuralNetwork",
          "DeepNeuralNetwork",
          "DeepNeuralNetwork",
          "DeepNeuralNetwork",
          "DeepNeuralNetwork",
          "DeepNeuralNetwork",
          "DeepNeuralNetwork",
          "DeepNeuralNetwork",
          "DeepNeuralNetwork",
          "DeepNeuralNetwork",
          "DeepNeuralNetwork"
         ],
         "y": [
          0.6772009029345373,
          0.6794582392776524,
          0.6794582392776524,
          0.6794582392776524,
          0.6787330316742082,
          0.6787330316742082,
          0.6787330316742082,
          0.6787330316742082,
          0.6787330316742082,
          0.6787330316742082,
          0.6772009029345373,
          0.6794582392776524,
          0.6794582392776524,
          0.6794582392776524,
          0.6787330316742082,
          0.6787330316742082,
          0.6787330316742082,
          0.6787330316742082,
          0.6787330316742082,
          0.6787330316742082,
          0.6772009029345373,
          0.6794582392776524,
          0.6794582392776524,
          0.6794582392776524,
          0.6787330316742082,
          0.6787330316742082,
          0.6787330316742082,
          0.6787330316742082,
          0.6787330316742082,
          0.6787330316742082,
          0.6772009029345373,
          0.6794582392776524,
          0.6794582392776524,
          0.6794582392776524,
          0.6787330316742082,
          0.6787330316742082,
          0.6787330316742082,
          0.6787330316742082,
          0.6787330316742082,
          0.6787330316742082,
          0.6455981941309256,
          0.618510158013544,
          0.5936794582392777,
          0.618510158013544,
          0.6131221719457014,
          0.6447963800904978,
          0.5972850678733032,
          0.6402714932126696,
          0.6380090497737556,
          0.6380090497737556,
          0.6455981941309256,
          0.6230248306997742,
          0.600451467268623,
          0.6343115124153499,
          0.6063348416289592,
          0.6425339366515838,
          0.6266968325791855,
          0.6402714932126696,
          0.6289592760180995,
          0.6380090497737556,
          0.6997742663656885,
          0.7110609480812641,
          0.6749435665914221,
          0.7065462753950339,
          0.667420814479638,
          0.6719457013574661,
          0.6583710407239819,
          0.669683257918552,
          0.6764705882352942,
          0.669683257918552,
          0.6884875846501128,
          0.690744920993228,
          0.6568848758465011,
          0.654627539503386,
          0.6832579185520362,
          0.6877828054298643,
          0.6923076923076923,
          0.6606334841628959,
          0.6787330316742082,
          0.6787330316742082,
          0.6772009029345373,
          0.6794582392776524,
          0.6794582392776524,
          0.6794582392776524,
          0.6787330316742082,
          0.6787330316742082,
          0.6787330316742082,
          0.6787330316742082,
          0.6787330316742082,
          0.6787330316742082,
          0.6772009029345373,
          0.6794582392776524,
          0.6794582392776524,
          0.6794582392776524,
          0.6787330316742082,
          0.6787330316742082,
          0.6787330316742082,
          0.6787330316742082,
          0.6787330316742082,
          0.6787330316742082
         ]
        },
        {
         "name": "SS",
         "type": "box",
         "x": [
          "LogisticRegression",
          "LogisticRegression",
          "LogisticRegression",
          "LogisticRegression",
          "LogisticRegression",
          "LogisticRegression",
          "LogisticRegression",
          "LogisticRegression",
          "LogisticRegression",
          "LogisticRegression",
          "LogisticRegression",
          "LogisticRegression",
          "LogisticRegression",
          "LogisticRegression",
          "LogisticRegression",
          "LogisticRegression",
          "LogisticRegression",
          "LogisticRegression",
          "LogisticRegression",
          "LogisticRegression",
          "SVC",
          "SVC",
          "SVC",
          "SVC",
          "SVC",
          "SVC",
          "SVC",
          "SVC",
          "SVC",
          "SVC",
          "SVC",
          "SVC",
          "SVC",
          "SVC",
          "SVC",
          "SVC",
          "SVC",
          "SVC",
          "SVC",
          "SVC",
          "RandomForestClassifier",
          "RandomForestClassifier",
          "RandomForestClassifier",
          "RandomForestClassifier",
          "RandomForestClassifier",
          "RandomForestClassifier",
          "RandomForestClassifier",
          "RandomForestClassifier",
          "RandomForestClassifier",
          "RandomForestClassifier",
          "RandomForestClassifier",
          "RandomForestClassifier",
          "RandomForestClassifier",
          "RandomForestClassifier",
          "RandomForestClassifier",
          "RandomForestClassifier",
          "RandomForestClassifier",
          "RandomForestClassifier",
          "RandomForestClassifier",
          "RandomForestClassifier",
          "GradientBoostingClassifier",
          "GradientBoostingClassifier",
          "GradientBoostingClassifier",
          "GradientBoostingClassifier",
          "GradientBoostingClassifier",
          "GradientBoostingClassifier",
          "GradientBoostingClassifier",
          "GradientBoostingClassifier",
          "GradientBoostingClassifier",
          "GradientBoostingClassifier",
          "GradientBoostingClassifier",
          "GradientBoostingClassifier",
          "GradientBoostingClassifier",
          "GradientBoostingClassifier",
          "GradientBoostingClassifier",
          "GradientBoostingClassifier",
          "GradientBoostingClassifier",
          "GradientBoostingClassifier",
          "GradientBoostingClassifier",
          "GradientBoostingClassifier",
          "DeepNeuralNetwork",
          "DeepNeuralNetwork",
          "DeepNeuralNetwork",
          "DeepNeuralNetwork",
          "DeepNeuralNetwork",
          "DeepNeuralNetwork",
          "DeepNeuralNetwork",
          "DeepNeuralNetwork",
          "DeepNeuralNetwork",
          "DeepNeuralNetwork",
          "DeepNeuralNetwork",
          "DeepNeuralNetwork",
          "DeepNeuralNetwork",
          "DeepNeuralNetwork",
          "DeepNeuralNetwork",
          "DeepNeuralNetwork",
          "DeepNeuralNetwork",
          "DeepNeuralNetwork",
          "DeepNeuralNetwork",
          "DeepNeuralNetwork"
         ],
         "y": [
          0.8803611738148984,
          0.8600451467268623,
          0.8826185101580135,
          0.8781038374717833,
          0.8552036199095022,
          0.8665158371040724,
          0.8574660633484162,
          0.8552036199095022,
          0.8823529411764706,
          0.8778280542986425,
          0.8893905191873589,
          0.8487584650112867,
          0.8577878103837472,
          0.8803611738148984,
          0.8665158371040724,
          0.9004524886877828,
          0.8665158371040724,
          0.8778280542986425,
          0.8416289592760181,
          0.8552036199095022,
          0.8781038374717833,
          0.8645598194130926,
          0.871331828442438,
          0.8781038374717833,
          0.8235294117647058,
          0.8371040723981901,
          0.8506787330316742,
          0.8393665158371041,
          0.8280542986425339,
          0.8574660633484162,
          0.8623024830699775,
          0.8532731376975169,
          0.8487584650112867,
          0.8758465011286681,
          0.8506787330316742,
          0.8778280542986425,
          0.8393665158371041,
          0.8552036199095022,
          0.8280542986425339,
          0.830316742081448,
          0.8803611738148984,
          0.8848758465011287,
          0.8758465011286681,
          0.8758465011286681,
          0.8280542986425339,
          0.8484162895927602,
          0.8371040723981901,
          0.8574660633484162,
          0.8710407239819005,
          0.8733031674208145,
          0.8826185101580135,
          0.8510158013544018,
          0.8510158013544018,
          0.8939051918735892,
          0.8755656108597285,
          0.8755656108597285,
          0.8438914027149321,
          0.8574660633484162,
          0.8416289592760181,
          0.8461538461538461,
          0.8826185101580135,
          0.8555304740406321,
          0.8600451467268623,
          0.8781038374717833,
          0.8393665158371041,
          0.8484162895927602,
          0.8393665158371041,
          0.8416289592760181,
          0.8529411764705882,
          0.8642533936651584,
          0.8961625282167043,
          0.8555304740406321,
          0.8284424379232506,
          0.8803611738148984,
          0.8710407239819005,
          0.8800904977375565,
          0.8597285067873304,
          0.8552036199095022,
          0.8484162895927602,
          0.8235294117647058,
          0.6772009029345373,
          0.6794582392776524,
          0.6794582392776524,
          0.6794582392776524,
          0.6787330316742082,
          0.6787330316742082,
          0.6787330316742082,
          0.6787330316742082,
          0.6787330316742082,
          0.6787330316742082,
          0.6772009029345373,
          0.6794582392776524,
          0.6794582392776524,
          0.6794582392776524,
          0.6787330316742082,
          0.6787330316742082,
          0.6787330316742082,
          0.6787330316742082,
          0.6787330316742082,
          0.6787330316742082
         ]
        },
        {
         "name": "SS & FR",
         "type": "box",
         "x": [
          "LogisticRegression",
          "LogisticRegression",
          "LogisticRegression",
          "LogisticRegression",
          "LogisticRegression",
          "LogisticRegression",
          "LogisticRegression",
          "LogisticRegression",
          "LogisticRegression",
          "LogisticRegression",
          "LogisticRegression",
          "LogisticRegression",
          "LogisticRegression",
          "LogisticRegression",
          "LogisticRegression",
          "LogisticRegression",
          "LogisticRegression",
          "LogisticRegression",
          "LogisticRegression",
          "LogisticRegression",
          "SVC",
          "SVC",
          "SVC",
          "SVC",
          "SVC",
          "SVC",
          "SVC",
          "SVC",
          "SVC",
          "SVC",
          "SVC",
          "SVC",
          "SVC",
          "SVC",
          "SVC",
          "SVC",
          "SVC",
          "SVC",
          "SVC",
          "SVC",
          "RandomForestClassifier",
          "RandomForestClassifier",
          "RandomForestClassifier",
          "RandomForestClassifier",
          "RandomForestClassifier",
          "RandomForestClassifier",
          "RandomForestClassifier",
          "RandomForestClassifier",
          "RandomForestClassifier",
          "RandomForestClassifier",
          "RandomForestClassifier",
          "RandomForestClassifier",
          "RandomForestClassifier",
          "RandomForestClassifier",
          "RandomForestClassifier",
          "RandomForestClassifier",
          "RandomForestClassifier",
          "RandomForestClassifier",
          "RandomForestClassifier",
          "RandomForestClassifier",
          "GradientBoostingClassifier",
          "GradientBoostingClassifier",
          "GradientBoostingClassifier",
          "GradientBoostingClassifier",
          "GradientBoostingClassifier",
          "GradientBoostingClassifier",
          "GradientBoostingClassifier",
          "GradientBoostingClassifier",
          "GradientBoostingClassifier",
          "GradientBoostingClassifier",
          "GradientBoostingClassifier",
          "GradientBoostingClassifier",
          "GradientBoostingClassifier",
          "GradientBoostingClassifier",
          "GradientBoostingClassifier",
          "GradientBoostingClassifier",
          "GradientBoostingClassifier",
          "GradientBoostingClassifier",
          "GradientBoostingClassifier",
          "GradientBoostingClassifier",
          "DeepNeuralNetwork",
          "DeepNeuralNetwork",
          "DeepNeuralNetwork",
          "DeepNeuralNetwork",
          "DeepNeuralNetwork",
          "DeepNeuralNetwork",
          "DeepNeuralNetwork",
          "DeepNeuralNetwork",
          "DeepNeuralNetwork",
          "DeepNeuralNetwork",
          "DeepNeuralNetwork",
          "DeepNeuralNetwork",
          "DeepNeuralNetwork",
          "DeepNeuralNetwork",
          "DeepNeuralNetwork",
          "DeepNeuralNetwork",
          "DeepNeuralNetwork",
          "DeepNeuralNetwork",
          "DeepNeuralNetwork",
          "DeepNeuralNetwork"
         ],
         "y": [
          0.6772009029345373,
          0.6794582392776524,
          0.6794582392776524,
          0.6794582392776524,
          0.6787330316742082,
          0.6787330316742082,
          0.6787330316742082,
          0.6787330316742082,
          0.6787330316742082,
          0.6787330316742082,
          0.6772009029345373,
          0.6794582392776524,
          0.6794582392776524,
          0.6794582392776524,
          0.6787330316742082,
          0.6787330316742082,
          0.6787330316742082,
          0.6787330316742082,
          0.6787330316742082,
          0.6787330316742082,
          0.6772009029345373,
          0.6794582392776524,
          0.6794582392776524,
          0.6659142212189616,
          0.6787330316742082,
          0.6742081447963801,
          0.6787330316742082,
          0.6787330316742082,
          0.6787330316742082,
          0.6787330316742082,
          0.6772009029345373,
          0.6794582392776524,
          0.6794582392776524,
          0.6794582392776524,
          0.6787330316742082,
          0.6719457013574661,
          0.6787330316742082,
          0.6787330316742082,
          0.6787330316742082,
          0.6787330316742082,
          0.5688487584650113,
          0.6388261851015802,
          0.6162528216704289,
          0.6343115124153499,
          0.5927601809954751,
          0.6199095022624435,
          0.6176470588235294,
          0.6108597285067874,
          0.6289592760180995,
          0.6040723981900452,
          0.6117381489841986,
          0.6027088036117382,
          0.5778781038374717,
          0.6049661399548533,
          0.579185520361991,
          0.6085972850678733,
          0.6244343891402715,
          0.5995475113122172,
          0.6380090497737556,
          0.5882352941176471,
          0.654627539503386,
          0.6636568848758465,
          0.6930022573363431,
          0.7200902934537246,
          0.6402714932126696,
          0.6968325791855203,
          0.6312217194570136,
          0.6493212669683258,
          0.6447963800904978,
          0.6289592760180995,
          0.6952595936794582,
          0.6704288939051919,
          0.6207674943566591,
          0.7065462753950339,
          0.6742081447963801,
          0.6742081447963801,
          0.6470588235294118,
          0.665158371040724,
          0.6742081447963801,
          0.6877828054298643,
          0.6772009029345373,
          0.6794582392776524,
          0.6794582392776524,
          0.6794582392776524,
          0.6787330316742082,
          0.6787330316742082,
          0.6787330316742082,
          0.6787330316742082,
          0.6787330316742082,
          0.6787330316742082,
          0.6772009029345373,
          0.6794582392776524,
          0.6794582392776524,
          0.6794582392776524,
          0.6787330316742082,
          0.6787330316742082,
          0.6787330316742082,
          0.6787330316742082,
          0.6787330316742082,
          0.6787330316742082
         ]
        }
       ],
       "layout": {
        "boxmode": "group",
        "template": {
         "data": {
          "bar": [
           {
            "error_x": {
             "color": "#2a3f5f"
            },
            "error_y": {
             "color": "#2a3f5f"
            },
            "marker": {
             "line": {
              "color": "#E5ECF6",
              "width": 0.5
             },
             "pattern": {
              "fillmode": "overlay",
              "size": 10,
              "solidity": 0.2
             }
            },
            "type": "bar"
           }
          ],
          "barpolar": [
           {
            "marker": {
             "line": {
              "color": "#E5ECF6",
              "width": 0.5
             },
             "pattern": {
              "fillmode": "overlay",
              "size": 10,
              "solidity": 0.2
             }
            },
            "type": "barpolar"
           }
          ],
          "carpet": [
           {
            "aaxis": {
             "endlinecolor": "#2a3f5f",
             "gridcolor": "white",
             "linecolor": "white",
             "minorgridcolor": "white",
             "startlinecolor": "#2a3f5f"
            },
            "baxis": {
             "endlinecolor": "#2a3f5f",
             "gridcolor": "white",
             "linecolor": "white",
             "minorgridcolor": "white",
             "startlinecolor": "#2a3f5f"
            },
            "type": "carpet"
           }
          ],
          "choropleth": [
           {
            "colorbar": {
             "outlinewidth": 0,
             "ticks": ""
            },
            "type": "choropleth"
           }
          ],
          "contour": [
           {
            "colorbar": {
             "outlinewidth": 0,
             "ticks": ""
            },
            "colorscale": [
             [
              0,
              "#0d0887"
             ],
             [
              0.1111111111111111,
              "#46039f"
             ],
             [
              0.2222222222222222,
              "#7201a8"
             ],
             [
              0.3333333333333333,
              "#9c179e"
             ],
             [
              0.4444444444444444,
              "#bd3786"
             ],
             [
              0.5555555555555556,
              "#d8576b"
             ],
             [
              0.6666666666666666,
              "#ed7953"
             ],
             [
              0.7777777777777778,
              "#fb9f3a"
             ],
             [
              0.8888888888888888,
              "#fdca26"
             ],
             [
              1,
              "#f0f921"
             ]
            ],
            "type": "contour"
           }
          ],
          "contourcarpet": [
           {
            "colorbar": {
             "outlinewidth": 0,
             "ticks": ""
            },
            "type": "contourcarpet"
           }
          ],
          "heatmap": [
           {
            "colorbar": {
             "outlinewidth": 0,
             "ticks": ""
            },
            "colorscale": [
             [
              0,
              "#0d0887"
             ],
             [
              0.1111111111111111,
              "#46039f"
             ],
             [
              0.2222222222222222,
              "#7201a8"
             ],
             [
              0.3333333333333333,
              "#9c179e"
             ],
             [
              0.4444444444444444,
              "#bd3786"
             ],
             [
              0.5555555555555556,
              "#d8576b"
             ],
             [
              0.6666666666666666,
              "#ed7953"
             ],
             [
              0.7777777777777778,
              "#fb9f3a"
             ],
             [
              0.8888888888888888,
              "#fdca26"
             ],
             [
              1,
              "#f0f921"
             ]
            ],
            "type": "heatmap"
           }
          ],
          "heatmapgl": [
           {
            "colorbar": {
             "outlinewidth": 0,
             "ticks": ""
            },
            "colorscale": [
             [
              0,
              "#0d0887"
             ],
             [
              0.1111111111111111,
              "#46039f"
             ],
             [
              0.2222222222222222,
              "#7201a8"
             ],
             [
              0.3333333333333333,
              "#9c179e"
             ],
             [
              0.4444444444444444,
              "#bd3786"
             ],
             [
              0.5555555555555556,
              "#d8576b"
             ],
             [
              0.6666666666666666,
              "#ed7953"
             ],
             [
              0.7777777777777778,
              "#fb9f3a"
             ],
             [
              0.8888888888888888,
              "#fdca26"
             ],
             [
              1,
              "#f0f921"
             ]
            ],
            "type": "heatmapgl"
           }
          ],
          "histogram": [
           {
            "marker": {
             "pattern": {
              "fillmode": "overlay",
              "size": 10,
              "solidity": 0.2
             }
            },
            "type": "histogram"
           }
          ],
          "histogram2d": [
           {
            "colorbar": {
             "outlinewidth": 0,
             "ticks": ""
            },
            "colorscale": [
             [
              0,
              "#0d0887"
             ],
             [
              0.1111111111111111,
              "#46039f"
             ],
             [
              0.2222222222222222,
              "#7201a8"
             ],
             [
              0.3333333333333333,
              "#9c179e"
             ],
             [
              0.4444444444444444,
              "#bd3786"
             ],
             [
              0.5555555555555556,
              "#d8576b"
             ],
             [
              0.6666666666666666,
              "#ed7953"
             ],
             [
              0.7777777777777778,
              "#fb9f3a"
             ],
             [
              0.8888888888888888,
              "#fdca26"
             ],
             [
              1,
              "#f0f921"
             ]
            ],
            "type": "histogram2d"
           }
          ],
          "histogram2dcontour": [
           {
            "colorbar": {
             "outlinewidth": 0,
             "ticks": ""
            },
            "colorscale": [
             [
              0,
              "#0d0887"
             ],
             [
              0.1111111111111111,
              "#46039f"
             ],
             [
              0.2222222222222222,
              "#7201a8"
             ],
             [
              0.3333333333333333,
              "#9c179e"
             ],
             [
              0.4444444444444444,
              "#bd3786"
             ],
             [
              0.5555555555555556,
              "#d8576b"
             ],
             [
              0.6666666666666666,
              "#ed7953"
             ],
             [
              0.7777777777777778,
              "#fb9f3a"
             ],
             [
              0.8888888888888888,
              "#fdca26"
             ],
             [
              1,
              "#f0f921"
             ]
            ],
            "type": "histogram2dcontour"
           }
          ],
          "mesh3d": [
           {
            "colorbar": {
             "outlinewidth": 0,
             "ticks": ""
            },
            "type": "mesh3d"
           }
          ],
          "parcoords": [
           {
            "line": {
             "colorbar": {
              "outlinewidth": 0,
              "ticks": ""
             }
            },
            "type": "parcoords"
           }
          ],
          "pie": [
           {
            "automargin": true,
            "type": "pie"
           }
          ],
          "scatter": [
           {
            "fillpattern": {
             "fillmode": "overlay",
             "size": 10,
             "solidity": 0.2
            },
            "type": "scatter"
           }
          ],
          "scatter3d": [
           {
            "line": {
             "colorbar": {
              "outlinewidth": 0,
              "ticks": ""
             }
            },
            "marker": {
             "colorbar": {
              "outlinewidth": 0,
              "ticks": ""
             }
            },
            "type": "scatter3d"
           }
          ],
          "scattercarpet": [
           {
            "marker": {
             "colorbar": {
              "outlinewidth": 0,
              "ticks": ""
             }
            },
            "type": "scattercarpet"
           }
          ],
          "scattergeo": [
           {
            "marker": {
             "colorbar": {
              "outlinewidth": 0,
              "ticks": ""
             }
            },
            "type": "scattergeo"
           }
          ],
          "scattergl": [
           {
            "marker": {
             "colorbar": {
              "outlinewidth": 0,
              "ticks": ""
             }
            },
            "type": "scattergl"
           }
          ],
          "scattermapbox": [
           {
            "marker": {
             "colorbar": {
              "outlinewidth": 0,
              "ticks": ""
             }
            },
            "type": "scattermapbox"
           }
          ],
          "scatterpolar": [
           {
            "marker": {
             "colorbar": {
              "outlinewidth": 0,
              "ticks": ""
             }
            },
            "type": "scatterpolar"
           }
          ],
          "scatterpolargl": [
           {
            "marker": {
             "colorbar": {
              "outlinewidth": 0,
              "ticks": ""
             }
            },
            "type": "scatterpolargl"
           }
          ],
          "scatterternary": [
           {
            "marker": {
             "colorbar": {
              "outlinewidth": 0,
              "ticks": ""
             }
            },
            "type": "scatterternary"
           }
          ],
          "surface": [
           {
            "colorbar": {
             "outlinewidth": 0,
             "ticks": ""
            },
            "colorscale": [
             [
              0,
              "#0d0887"
             ],
             [
              0.1111111111111111,
              "#46039f"
             ],
             [
              0.2222222222222222,
              "#7201a8"
             ],
             [
              0.3333333333333333,
              "#9c179e"
             ],
             [
              0.4444444444444444,
              "#bd3786"
             ],
             [
              0.5555555555555556,
              "#d8576b"
             ],
             [
              0.6666666666666666,
              "#ed7953"
             ],
             [
              0.7777777777777778,
              "#fb9f3a"
             ],
             [
              0.8888888888888888,
              "#fdca26"
             ],
             [
              1,
              "#f0f921"
             ]
            ],
            "type": "surface"
           }
          ],
          "table": [
           {
            "cells": {
             "fill": {
              "color": "#EBF0F8"
             },
             "line": {
              "color": "white"
             }
            },
            "header": {
             "fill": {
              "color": "#C8D4E3"
             },
             "line": {
              "color": "white"
             }
            },
            "type": "table"
           }
          ]
         },
         "layout": {
          "annotationdefaults": {
           "arrowcolor": "#2a3f5f",
           "arrowhead": 0,
           "arrowwidth": 1
          },
          "autotypenumbers": "strict",
          "coloraxis": {
           "colorbar": {
            "outlinewidth": 0,
            "ticks": ""
           }
          },
          "colorscale": {
           "diverging": [
            [
             0,
             "#8e0152"
            ],
            [
             0.1,
             "#c51b7d"
            ],
            [
             0.2,
             "#de77ae"
            ],
            [
             0.3,
             "#f1b6da"
            ],
            [
             0.4,
             "#fde0ef"
            ],
            [
             0.5,
             "#f7f7f7"
            ],
            [
             0.6,
             "#e6f5d0"
            ],
            [
             0.7,
             "#b8e186"
            ],
            [
             0.8,
             "#7fbc41"
            ],
            [
             0.9,
             "#4d9221"
            ],
            [
             1,
             "#276419"
            ]
           ],
           "sequential": [
            [
             0,
             "#0d0887"
            ],
            [
             0.1111111111111111,
             "#46039f"
            ],
            [
             0.2222222222222222,
             "#7201a8"
            ],
            [
             0.3333333333333333,
             "#9c179e"
            ],
            [
             0.4444444444444444,
             "#bd3786"
            ],
            [
             0.5555555555555556,
             "#d8576b"
            ],
            [
             0.6666666666666666,
             "#ed7953"
            ],
            [
             0.7777777777777778,
             "#fb9f3a"
            ],
            [
             0.8888888888888888,
             "#fdca26"
            ],
            [
             1,
             "#f0f921"
            ]
           ],
           "sequentialminus": [
            [
             0,
             "#0d0887"
            ],
            [
             0.1111111111111111,
             "#46039f"
            ],
            [
             0.2222222222222222,
             "#7201a8"
            ],
            [
             0.3333333333333333,
             "#9c179e"
            ],
            [
             0.4444444444444444,
             "#bd3786"
            ],
            [
             0.5555555555555556,
             "#d8576b"
            ],
            [
             0.6666666666666666,
             "#ed7953"
            ],
            [
             0.7777777777777778,
             "#fb9f3a"
            ],
            [
             0.8888888888888888,
             "#fdca26"
            ],
            [
             1,
             "#f0f921"
            ]
           ]
          },
          "colorway": [
           "#636efa",
           "#EF553B",
           "#00cc96",
           "#ab63fa",
           "#FFA15A",
           "#19d3f3",
           "#FF6692",
           "#B6E880",
           "#FF97FF",
           "#FECB52"
          ],
          "font": {
           "color": "#2a3f5f"
          },
          "geo": {
           "bgcolor": "white",
           "lakecolor": "white",
           "landcolor": "#E5ECF6",
           "showlakes": true,
           "showland": true,
           "subunitcolor": "white"
          },
          "hoverlabel": {
           "align": "left"
          },
          "hovermode": "closest",
          "mapbox": {
           "style": "light"
          },
          "paper_bgcolor": "white",
          "plot_bgcolor": "#E5ECF6",
          "polar": {
           "angularaxis": {
            "gridcolor": "white",
            "linecolor": "white",
            "ticks": ""
           },
           "bgcolor": "#E5ECF6",
           "radialaxis": {
            "gridcolor": "white",
            "linecolor": "white",
            "ticks": ""
           }
          },
          "scene": {
           "xaxis": {
            "backgroundcolor": "#E5ECF6",
            "gridcolor": "white",
            "gridwidth": 2,
            "linecolor": "white",
            "showbackground": true,
            "ticks": "",
            "zerolinecolor": "white"
           },
           "yaxis": {
            "backgroundcolor": "#E5ECF6",
            "gridcolor": "white",
            "gridwidth": 2,
            "linecolor": "white",
            "showbackground": true,
            "ticks": "",
            "zerolinecolor": "white"
           },
           "zaxis": {
            "backgroundcolor": "#E5ECF6",
            "gridcolor": "white",
            "gridwidth": 2,
            "linecolor": "white",
            "showbackground": true,
            "ticks": "",
            "zerolinecolor": "white"
           }
          },
          "shapedefaults": {
           "line": {
            "color": "#2a3f5f"
           }
          },
          "ternary": {
           "aaxis": {
            "gridcolor": "white",
            "linecolor": "white",
            "ticks": ""
           },
           "baxis": {
            "gridcolor": "white",
            "linecolor": "white",
            "ticks": ""
           },
           "bgcolor": "#E5ECF6",
           "caxis": {
            "gridcolor": "white",
            "linecolor": "white",
            "ticks": ""
           }
          },
          "title": {
           "x": 0.05
          },
          "xaxis": {
           "automargin": true,
           "gridcolor": "white",
           "linecolor": "white",
           "ticks": "",
           "title": {
            "standoff": 15
           },
           "zerolinecolor": "white",
           "zerolinewidth": 2
          },
          "yaxis": {
           "automargin": true,
           "gridcolor": "white",
           "linecolor": "white",
           "ticks": "",
           "title": {
            "standoff": 15
           },
           "zerolinecolor": "white",
           "zerolinewidth": 2
          }
         }
        },
        "title": {
         "text": "accuracy"
        },
        "yaxis": {
         "title": {
          "text": "accuracy"
         }
        }
       }
      }
     },
     "metadata": {},
     "output_type": "display_data"
    },
    {
     "data": {
      "application/vnd.plotly.v1+json": {
       "config": {
        "plotlyServerURL": "https://plot.ly"
       },
       "data": [
        {
         "name": "Full",
         "type": "box",
         "x": [
          "LogisticRegression",
          "LogisticRegression",
          "LogisticRegression",
          "LogisticRegression",
          "LogisticRegression",
          "LogisticRegression",
          "LogisticRegression",
          "LogisticRegression",
          "LogisticRegression",
          "LogisticRegression",
          "LogisticRegression",
          "LogisticRegression",
          "LogisticRegression",
          "LogisticRegression",
          "LogisticRegression",
          "LogisticRegression",
          "LogisticRegression",
          "LogisticRegression",
          "LogisticRegression",
          "LogisticRegression",
          "SVC",
          "SVC",
          "SVC",
          "SVC",
          "SVC",
          "SVC",
          "SVC",
          "SVC",
          "SVC",
          "SVC",
          "SVC",
          "SVC",
          "SVC",
          "SVC",
          "SVC",
          "SVC",
          "SVC",
          "SVC",
          "SVC",
          "SVC",
          "RandomForestClassifier",
          "RandomForestClassifier",
          "RandomForestClassifier",
          "RandomForestClassifier",
          "RandomForestClassifier",
          "RandomForestClassifier",
          "RandomForestClassifier",
          "RandomForestClassifier",
          "RandomForestClassifier",
          "RandomForestClassifier",
          "RandomForestClassifier",
          "RandomForestClassifier",
          "RandomForestClassifier",
          "RandomForestClassifier",
          "RandomForestClassifier",
          "RandomForestClassifier",
          "RandomForestClassifier",
          "RandomForestClassifier",
          "RandomForestClassifier",
          "RandomForestClassifier",
          "GradientBoostingClassifier",
          "GradientBoostingClassifier",
          "GradientBoostingClassifier",
          "GradientBoostingClassifier",
          "GradientBoostingClassifier",
          "GradientBoostingClassifier",
          "GradientBoostingClassifier",
          "GradientBoostingClassifier",
          "GradientBoostingClassifier",
          "GradientBoostingClassifier",
          "GradientBoostingClassifier",
          "GradientBoostingClassifier",
          "GradientBoostingClassifier",
          "GradientBoostingClassifier",
          "GradientBoostingClassifier",
          "GradientBoostingClassifier",
          "GradientBoostingClassifier",
          "GradientBoostingClassifier",
          "GradientBoostingClassifier",
          "GradientBoostingClassifier",
          "DeepNeuralNetwork",
          "DeepNeuralNetwork",
          "DeepNeuralNetwork",
          "DeepNeuralNetwork",
          "DeepNeuralNetwork",
          "DeepNeuralNetwork",
          "DeepNeuralNetwork",
          "DeepNeuralNetwork",
          "DeepNeuralNetwork",
          "DeepNeuralNetwork",
          "DeepNeuralNetwork",
          "DeepNeuralNetwork",
          "DeepNeuralNetwork",
          "DeepNeuralNetwork",
          "DeepNeuralNetwork",
          "DeepNeuralNetwork",
          "DeepNeuralNetwork",
          "DeepNeuralNetwork",
          "DeepNeuralNetwork",
          "DeepNeuralNetwork"
         ],
         "y": [
          0.8752680652680653,
          0.8151700903092975,
          0.8520424874830377,
          0.8446024987132095,
          0.8291549295774647,
          0.8111737089201878,
          0.8239671361502345,
          0.8202582159624413,
          0.844718309859155,
          0.8413849765258217,
          0.8572960372960372,
          0.8261312058396892,
          0.8226100790791258,
          0.8533058818024426,
          0.8434272300469483,
          0.8743661971830986,
          0.8096948356807512,
          0.8588028169014084,
          0.8184037558685446,
          0.7987558685446009,
          0.8694522144522145,
          0.802348977586449,
          0.8357002479996256,
          0.8232768705254785,
          0.7935680751173709,
          0.7967136150234743,
          0.8126525821596244,
          0.7883802816901408,
          0.8180281690140845,
          0.8248826291079812,
          0.8341608391608393,
          0.8044078424032568,
          0.8077301015394693,
          0.8388236395114875,
          0.8111737089201878,
          0.8406338028169014,
          0.8128403755868544,
          0.8009859154929577,
          0.8072769953051644,
          0.7826291079812207,
          0.8612820512820513,
          0.8394202423845397,
          0.8470590987787189,
          0.8448013663375602,
          0.8278638497652583,
          0.8373004694835681,
          0.8080281690140845,
          0.8463849765258216,
          0.832300469483568,
          0.8254460093896714,
          0.8607925407925408,
          0.8344368536802207,
          0.8228089467034765,
          0.8497847550418792,
          0.8467605633802817,
          0.8708450704225352,
          0.8167370892018779,
          0.8365727699530516,
          0.8184037558685446,
          0.799131455399061,
          0.8870979020979021,
          0.8396191100088906,
          0.8524402227317392,
          0.8551658789948996,
          0.834718309859155,
          0.8341549295774646,
          0.8200704225352111,
          0.8119248826291079,
          0.8411971830985916,
          0.8289671361502347,
          0.8624592074592075,
          0.8383557156894857,
          0.8279912030321465,
          0.8570258761873567,
          0.857511737089202,
          0.8641784037558686,
          0.827112676056338,
          0.8523239436619718,
          0.8267370892018779,
          0.8026525821596244,
          0.5,
          0.5,
          0.5,
          0.4777385241682654,
          0.5,
          0.5,
          0.5,
          0.5,
          0.5051643192488262,
          0.5,
          0.5,
          0.5,
          0.5,
          0.5,
          0.5,
          0.5,
          0.5,
          0.5,
          0.5,
          0.5103521126760564
         ]
        },
        {
         "name": "FR",
         "type": "box",
         "x": [
          "LogisticRegression",
          "LogisticRegression",
          "LogisticRegression",
          "LogisticRegression",
          "LogisticRegression",
          "LogisticRegression",
          "LogisticRegression",
          "LogisticRegression",
          "LogisticRegression",
          "LogisticRegression",
          "LogisticRegression",
          "LogisticRegression",
          "LogisticRegression",
          "LogisticRegression",
          "LogisticRegression",
          "LogisticRegression",
          "LogisticRegression",
          "LogisticRegression",
          "LogisticRegression",
          "LogisticRegression",
          "SVC",
          "SVC",
          "SVC",
          "SVC",
          "SVC",
          "SVC",
          "SVC",
          "SVC",
          "SVC",
          "SVC",
          "SVC",
          "SVC",
          "SVC",
          "SVC",
          "SVC",
          "SVC",
          "SVC",
          "SVC",
          "SVC",
          "SVC",
          "RandomForestClassifier",
          "RandomForestClassifier",
          "RandomForestClassifier",
          "RandomForestClassifier",
          "RandomForestClassifier",
          "RandomForestClassifier",
          "RandomForestClassifier",
          "RandomForestClassifier",
          "RandomForestClassifier",
          "RandomForestClassifier",
          "RandomForestClassifier",
          "RandomForestClassifier",
          "RandomForestClassifier",
          "RandomForestClassifier",
          "RandomForestClassifier",
          "RandomForestClassifier",
          "RandomForestClassifier",
          "RandomForestClassifier",
          "RandomForestClassifier",
          "RandomForestClassifier",
          "GradientBoostingClassifier",
          "GradientBoostingClassifier",
          "GradientBoostingClassifier",
          "GradientBoostingClassifier",
          "GradientBoostingClassifier",
          "GradientBoostingClassifier",
          "GradientBoostingClassifier",
          "GradientBoostingClassifier",
          "GradientBoostingClassifier",
          "GradientBoostingClassifier",
          "GradientBoostingClassifier",
          "GradientBoostingClassifier",
          "GradientBoostingClassifier",
          "GradientBoostingClassifier",
          "GradientBoostingClassifier",
          "GradientBoostingClassifier",
          "GradientBoostingClassifier",
          "GradientBoostingClassifier",
          "GradientBoostingClassifier",
          "GradientBoostingClassifier",
          "DeepNeuralNetwork",
          "DeepNeuralNetwork",
          "DeepNeuralNetwork",
          "DeepNeuralNetwork",
          "DeepNeuralNetwork",
          "DeepNeuralNetwork",
          "DeepNeuralNetwork",
          "DeepNeuralNetwork",
          "DeepNeuralNetwork",
          "DeepNeuralNetwork",
          "DeepNeuralNetwork",
          "DeepNeuralNetwork",
          "DeepNeuralNetwork",
          "DeepNeuralNetwork",
          "DeepNeuralNetwork",
          "DeepNeuralNetwork",
          "DeepNeuralNetwork",
          "DeepNeuralNetwork",
          "DeepNeuralNetwork",
          "DeepNeuralNetwork"
         ],
         "y": [
          0.5,
          0.5,
          0.5,
          0.5,
          0.5,
          0.5,
          0.5,
          0.5,
          0.5,
          0.5,
          0.5,
          0.5,
          0.5,
          0.5,
          0.5,
          0.5,
          0.5,
          0.5,
          0.5,
          0.5,
          0.5,
          0.5,
          0.5,
          0.5,
          0.5,
          0.5,
          0.5,
          0.5,
          0.5,
          0.5,
          0.5,
          0.5,
          0.5,
          0.5,
          0.5,
          0.5,
          0.5,
          0.5,
          0.5,
          0.5,
          0.5791375291375291,
          0.5444293668990688,
          0.5168569556876141,
          0.5295493893594123,
          0.5406807511737088,
          0.552887323943662,
          0.530868544600939,
          0.5680985915492958,
          0.5497417840375587,
          0.5571596244131456,
          0.5937762237762239,
          0.5570516119975667,
          0.5348603247391325,
          0.5541972766833559,
          0.5208450704225353,
          0.5716197183098591,
          0.5506807511737088,
          0.5829342723004695,
          0.5542018779342723,
          0.5701408450704225,
          0.5770512820512821,
          0.5753357353422862,
          0.5394576762903,
          0.5701534790136166,
          0.5435915492957746,
          0.5320892018779343,
          0.516525821596244,
          0.5415492957746478,
          0.5409859154929577,
          0.5174413145539907,
          0.5376107226107226,
          0.573405549576529,
          0.5354686257077348,
          0.5300875017547143,
          0.5478403755868545,
          0.5400469483568076,
          0.5545070422535211,
          0.523755868544601,
          0.5537793427230047,
          0.5445070422535212,
          0.5,
          0.5,
          0.5,
          0.5,
          0.5,
          0.5,
          0.5155868544600939,
          0.5,
          0.5,
          0.5018544600938968,
          0.5,
          0.5,
          0.5,
          0.5,
          0.5,
          0.5,
          0.5,
          0.5,
          0.5,
          0.5
         ]
        },
        {
         "name": "SS",
         "type": "box",
         "x": [
          "LogisticRegression",
          "LogisticRegression",
          "LogisticRegression",
          "LogisticRegression",
          "LogisticRegression",
          "LogisticRegression",
          "LogisticRegression",
          "LogisticRegression",
          "LogisticRegression",
          "LogisticRegression",
          "LogisticRegression",
          "LogisticRegression",
          "LogisticRegression",
          "LogisticRegression",
          "LogisticRegression",
          "LogisticRegression",
          "LogisticRegression",
          "LogisticRegression",
          "LogisticRegression",
          "LogisticRegression",
          "SVC",
          "SVC",
          "SVC",
          "SVC",
          "SVC",
          "SVC",
          "SVC",
          "SVC",
          "SVC",
          "SVC",
          "SVC",
          "SVC",
          "SVC",
          "SVC",
          "SVC",
          "SVC",
          "SVC",
          "SVC",
          "SVC",
          "SVC",
          "RandomForestClassifier",
          "RandomForestClassifier",
          "RandomForestClassifier",
          "RandomForestClassifier",
          "RandomForestClassifier",
          "RandomForestClassifier",
          "RandomForestClassifier",
          "RandomForestClassifier",
          "RandomForestClassifier",
          "RandomForestClassifier",
          "RandomForestClassifier",
          "RandomForestClassifier",
          "RandomForestClassifier",
          "RandomForestClassifier",
          "RandomForestClassifier",
          "RandomForestClassifier",
          "RandomForestClassifier",
          "RandomForestClassifier",
          "RandomForestClassifier",
          "RandomForestClassifier",
          "GradientBoostingClassifier",
          "GradientBoostingClassifier",
          "GradientBoostingClassifier",
          "GradientBoostingClassifier",
          "GradientBoostingClassifier",
          "GradientBoostingClassifier",
          "GradientBoostingClassifier",
          "GradientBoostingClassifier",
          "GradientBoostingClassifier",
          "GradientBoostingClassifier",
          "GradientBoostingClassifier",
          "GradientBoostingClassifier",
          "GradientBoostingClassifier",
          "GradientBoostingClassifier",
          "GradientBoostingClassifier",
          "GradientBoostingClassifier",
          "GradientBoostingClassifier",
          "GradientBoostingClassifier",
          "GradientBoostingClassifier",
          "GradientBoostingClassifier",
          "DeepNeuralNetwork",
          "DeepNeuralNetwork",
          "DeepNeuralNetwork",
          "DeepNeuralNetwork",
          "DeepNeuralNetwork",
          "DeepNeuralNetwork",
          "DeepNeuralNetwork",
          "DeepNeuralNetwork",
          "DeepNeuralNetwork",
          "DeepNeuralNetwork",
          "DeepNeuralNetwork",
          "DeepNeuralNetwork",
          "DeepNeuralNetwork",
          "DeepNeuralNetwork",
          "DeepNeuralNetwork",
          "DeepNeuralNetwork",
          "DeepNeuralNetwork",
          "DeepNeuralNetwork",
          "DeepNeuralNetwork",
          "DeepNeuralNetwork"
         ],
         "y": [
          0.8494522144522144,
          0.8133100931168405,
          0.8522413551073885,
          0.8451991015862619,
          0.8173004694835679,
          0.8200704225352111,
          0.8189671361502346,
          0.8117370892018778,
          0.8465727699530516,
          0.8302582159624413,
          0.846969696969697,
          0.8105844368536802,
          0.8153689579336483,
          0.8431402367694539,
          0.8349061032863849,
          0.8654694835680751,
          0.827488262910798,
          0.8599295774647888,
          0.8017370892018779,
          0.8061737089201878,
          0.8276573426573427,
          0.811052360675682,
          0.8253357353422862,
          0.8284591268541481,
          0.7531690140845069,
          0.7668779342723006,
          0.7805868544600938,
          0.7778169014084507,
          0.7602112676056338,
          0.7874413145539906,
          0.7940326340326341,
          0.8046067100276075,
          0.7957044593140237,
          0.8212180057086707,
          0.7954225352112676,
          0.8302582159624413,
          0.7703990610328639,
          0.8024647887323944,
          0.7490845070422535,
          0.7674413145539907,
          0.8531118881118882,
          0.8446024987132095,
          0.8379579804407842,
          0.8472579664030695,
          0.7824647887323944,
          0.7956103286384977,
          0.7798591549295775,
          0.8171126760563381,
          0.8234037558685445,
          0.8232159624413146,
          0.8437995337995339,
          0.8048055776519583,
          0.8085255720368723,
          0.856827008563006,
          0.8471361502347418,
          0.839718309859155,
          0.7978403755868545,
          0.8245305164319248,
          0.7887558685446009,
          0.7883802816901408,
          0.862097902097902,
          0.8062678395957138,
          0.8374900566187824,
          0.8582190819334613,
          0.8037793427230047,
          0.8011737089201878,
          0.7907981220657277,
          0.7943192488262911,
          0.8230516431924884,
          0.8239671361502345,
          0.8592890442890443,
          0.8304478030976556,
          0.7956342707407233,
          0.845000233961911,
          0.840093896713615,
          0.844906103286385,
          0.8057981220657278,
          0.8265727699530516,
          0.8048826291079813,
          0.7754225352112677,
          0.5,
          0.5,
          0.5,
          0.5,
          0.4849765258215963,
          0.5,
          0.5033333333333333,
          0.4948356807511737,
          0.5,
          0.4628403755868545,
          0.5,
          0.5,
          0.5,
          0.4849211548359927,
          0.5,
          0.5,
          0.5,
          0.5,
          0.5,
          0.497793427230047
         ]
        },
        {
         "name": "SS & FR",
         "type": "box",
         "x": [
          "LogisticRegression",
          "LogisticRegression",
          "LogisticRegression",
          "LogisticRegression",
          "LogisticRegression",
          "LogisticRegression",
          "LogisticRegression",
          "LogisticRegression",
          "LogisticRegression",
          "LogisticRegression",
          "LogisticRegression",
          "LogisticRegression",
          "LogisticRegression",
          "LogisticRegression",
          "LogisticRegression",
          "LogisticRegression",
          "LogisticRegression",
          "LogisticRegression",
          "LogisticRegression",
          "LogisticRegression",
          "SVC",
          "SVC",
          "SVC",
          "SVC",
          "SVC",
          "SVC",
          "SVC",
          "SVC",
          "SVC",
          "SVC",
          "SVC",
          "SVC",
          "SVC",
          "SVC",
          "SVC",
          "SVC",
          "SVC",
          "SVC",
          "SVC",
          "SVC",
          "RandomForestClassifier",
          "RandomForestClassifier",
          "RandomForestClassifier",
          "RandomForestClassifier",
          "RandomForestClassifier",
          "RandomForestClassifier",
          "RandomForestClassifier",
          "RandomForestClassifier",
          "RandomForestClassifier",
          "RandomForestClassifier",
          "RandomForestClassifier",
          "RandomForestClassifier",
          "RandomForestClassifier",
          "RandomForestClassifier",
          "RandomForestClassifier",
          "RandomForestClassifier",
          "RandomForestClassifier",
          "RandomForestClassifier",
          "RandomForestClassifier",
          "RandomForestClassifier",
          "GradientBoostingClassifier",
          "GradientBoostingClassifier",
          "GradientBoostingClassifier",
          "GradientBoostingClassifier",
          "GradientBoostingClassifier",
          "GradientBoostingClassifier",
          "GradientBoostingClassifier",
          "GradientBoostingClassifier",
          "GradientBoostingClassifier",
          "GradientBoostingClassifier",
          "GradientBoostingClassifier",
          "GradientBoostingClassifier",
          "GradientBoostingClassifier",
          "GradientBoostingClassifier",
          "GradientBoostingClassifier",
          "GradientBoostingClassifier",
          "GradientBoostingClassifier",
          "GradientBoostingClassifier",
          "GradientBoostingClassifier",
          "GradientBoostingClassifier",
          "DeepNeuralNetwork",
          "DeepNeuralNetwork",
          "DeepNeuralNetwork",
          "DeepNeuralNetwork",
          "DeepNeuralNetwork",
          "DeepNeuralNetwork",
          "DeepNeuralNetwork",
          "DeepNeuralNetwork",
          "DeepNeuralNetwork",
          "DeepNeuralNetwork",
          "DeepNeuralNetwork",
          "DeepNeuralNetwork",
          "DeepNeuralNetwork",
          "DeepNeuralNetwork",
          "DeepNeuralNetwork",
          "DeepNeuralNetwork",
          "DeepNeuralNetwork",
          "DeepNeuralNetwork",
          "DeepNeuralNetwork",
          "DeepNeuralNetwork"
         ],
         "y": [
          0.5,
          0.5,
          0.5,
          0.5,
          0.5,
          0.5,
          0.5,
          0.5,
          0.5,
          0.5,
          0.5,
          0.5,
          0.5,
          0.5,
          0.5,
          0.5,
          0.5,
          0.5,
          0.5,
          0.5,
          0.5,
          0.5,
          0.5,
          0.5049132001310187,
          0.5,
          0.520774647887324,
          0.5,
          0.5,
          0.5,
          0.5,
          0.5,
          0.5,
          0.5,
          0.5,
          0.5,
          0.5098356807511737,
          0.5,
          0.5,
          0.5,
          0.5,
          0.5114918414918415,
          0.5891394880913386,
          0.553928220485705,
          0.5746572458003837,
          0.5368075117370892,
          0.5493896713615023,
          0.5607042253521126,
          0.5575586854460094,
          0.5671830985915493,
          0.5451408450704225,
          0.5559673659673661,
          0.5551214262318095,
          0.5052290487108699,
          0.562362547377287,
          0.5175352112676056,
          0.5392018779342723,
          0.5657042253521126,
          0.5343896713615024,
          0.5886854460093897,
          0.5112206572769953,
          0.5254195804195805,
          0.5218520424874831,
          0.6029666370314912,
          0.6322001778110524,
          0.521737089201878,
          0.5671126760563381,
          0.5095070422535211,
          0.5080046948356808,
          0.5195070422535211,
          0.517112676056338,
          0.6158041958041958,
          0.5417154087314585,
          0.5088905526180338,
          0.6203734032099575,
          0.552300469483568,
          0.5578638497652582,
          0.5193192488262911,
          0.5270892018779343,
          0.5430281690140846,
          0.5678638497652582,
          0.5134615384615384,
          0.4829207804969351,
          0.5015324505170558,
          0.4998011323756492,
          0.5,
          0.5,
          0.5,
          0.5051643192488262,
          0.5,
          0.5,
          0.5,
          0.4983388704318937,
          0.515008656590707,
          0.5,
          0.5,
          0.5,
          0.5,
          0.492981220657277,
          0.5,
          0.5
         ]
        }
       ],
       "layout": {
        "boxmode": "group",
        "template": {
         "data": {
          "bar": [
           {
            "error_x": {
             "color": "#2a3f5f"
            },
            "error_y": {
             "color": "#2a3f5f"
            },
            "marker": {
             "line": {
              "color": "#E5ECF6",
              "width": 0.5
             },
             "pattern": {
              "fillmode": "overlay",
              "size": 10,
              "solidity": 0.2
             }
            },
            "type": "bar"
           }
          ],
          "barpolar": [
           {
            "marker": {
             "line": {
              "color": "#E5ECF6",
              "width": 0.5
             },
             "pattern": {
              "fillmode": "overlay",
              "size": 10,
              "solidity": 0.2
             }
            },
            "type": "barpolar"
           }
          ],
          "carpet": [
           {
            "aaxis": {
             "endlinecolor": "#2a3f5f",
             "gridcolor": "white",
             "linecolor": "white",
             "minorgridcolor": "white",
             "startlinecolor": "#2a3f5f"
            },
            "baxis": {
             "endlinecolor": "#2a3f5f",
             "gridcolor": "white",
             "linecolor": "white",
             "minorgridcolor": "white",
             "startlinecolor": "#2a3f5f"
            },
            "type": "carpet"
           }
          ],
          "choropleth": [
           {
            "colorbar": {
             "outlinewidth": 0,
             "ticks": ""
            },
            "type": "choropleth"
           }
          ],
          "contour": [
           {
            "colorbar": {
             "outlinewidth": 0,
             "ticks": ""
            },
            "colorscale": [
             [
              0,
              "#0d0887"
             ],
             [
              0.1111111111111111,
              "#46039f"
             ],
             [
              0.2222222222222222,
              "#7201a8"
             ],
             [
              0.3333333333333333,
              "#9c179e"
             ],
             [
              0.4444444444444444,
              "#bd3786"
             ],
             [
              0.5555555555555556,
              "#d8576b"
             ],
             [
              0.6666666666666666,
              "#ed7953"
             ],
             [
              0.7777777777777778,
              "#fb9f3a"
             ],
             [
              0.8888888888888888,
              "#fdca26"
             ],
             [
              1,
              "#f0f921"
             ]
            ],
            "type": "contour"
           }
          ],
          "contourcarpet": [
           {
            "colorbar": {
             "outlinewidth": 0,
             "ticks": ""
            },
            "type": "contourcarpet"
           }
          ],
          "heatmap": [
           {
            "colorbar": {
             "outlinewidth": 0,
             "ticks": ""
            },
            "colorscale": [
             [
              0,
              "#0d0887"
             ],
             [
              0.1111111111111111,
              "#46039f"
             ],
             [
              0.2222222222222222,
              "#7201a8"
             ],
             [
              0.3333333333333333,
              "#9c179e"
             ],
             [
              0.4444444444444444,
              "#bd3786"
             ],
             [
              0.5555555555555556,
              "#d8576b"
             ],
             [
              0.6666666666666666,
              "#ed7953"
             ],
             [
              0.7777777777777778,
              "#fb9f3a"
             ],
             [
              0.8888888888888888,
              "#fdca26"
             ],
             [
              1,
              "#f0f921"
             ]
            ],
            "type": "heatmap"
           }
          ],
          "heatmapgl": [
           {
            "colorbar": {
             "outlinewidth": 0,
             "ticks": ""
            },
            "colorscale": [
             [
              0,
              "#0d0887"
             ],
             [
              0.1111111111111111,
              "#46039f"
             ],
             [
              0.2222222222222222,
              "#7201a8"
             ],
             [
              0.3333333333333333,
              "#9c179e"
             ],
             [
              0.4444444444444444,
              "#bd3786"
             ],
             [
              0.5555555555555556,
              "#d8576b"
             ],
             [
              0.6666666666666666,
              "#ed7953"
             ],
             [
              0.7777777777777778,
              "#fb9f3a"
             ],
             [
              0.8888888888888888,
              "#fdca26"
             ],
             [
              1,
              "#f0f921"
             ]
            ],
            "type": "heatmapgl"
           }
          ],
          "histogram": [
           {
            "marker": {
             "pattern": {
              "fillmode": "overlay",
              "size": 10,
              "solidity": 0.2
             }
            },
            "type": "histogram"
           }
          ],
          "histogram2d": [
           {
            "colorbar": {
             "outlinewidth": 0,
             "ticks": ""
            },
            "colorscale": [
             [
              0,
              "#0d0887"
             ],
             [
              0.1111111111111111,
              "#46039f"
             ],
             [
              0.2222222222222222,
              "#7201a8"
             ],
             [
              0.3333333333333333,
              "#9c179e"
             ],
             [
              0.4444444444444444,
              "#bd3786"
             ],
             [
              0.5555555555555556,
              "#d8576b"
             ],
             [
              0.6666666666666666,
              "#ed7953"
             ],
             [
              0.7777777777777778,
              "#fb9f3a"
             ],
             [
              0.8888888888888888,
              "#fdca26"
             ],
             [
              1,
              "#f0f921"
             ]
            ],
            "type": "histogram2d"
           }
          ],
          "histogram2dcontour": [
           {
            "colorbar": {
             "outlinewidth": 0,
             "ticks": ""
            },
            "colorscale": [
             [
              0,
              "#0d0887"
             ],
             [
              0.1111111111111111,
              "#46039f"
             ],
             [
              0.2222222222222222,
              "#7201a8"
             ],
             [
              0.3333333333333333,
              "#9c179e"
             ],
             [
              0.4444444444444444,
              "#bd3786"
             ],
             [
              0.5555555555555556,
              "#d8576b"
             ],
             [
              0.6666666666666666,
              "#ed7953"
             ],
             [
              0.7777777777777778,
              "#fb9f3a"
             ],
             [
              0.8888888888888888,
              "#fdca26"
             ],
             [
              1,
              "#f0f921"
             ]
            ],
            "type": "histogram2dcontour"
           }
          ],
          "mesh3d": [
           {
            "colorbar": {
             "outlinewidth": 0,
             "ticks": ""
            },
            "type": "mesh3d"
           }
          ],
          "parcoords": [
           {
            "line": {
             "colorbar": {
              "outlinewidth": 0,
              "ticks": ""
             }
            },
            "type": "parcoords"
           }
          ],
          "pie": [
           {
            "automargin": true,
            "type": "pie"
           }
          ],
          "scatter": [
           {
            "fillpattern": {
             "fillmode": "overlay",
             "size": 10,
             "solidity": 0.2
            },
            "type": "scatter"
           }
          ],
          "scatter3d": [
           {
            "line": {
             "colorbar": {
              "outlinewidth": 0,
              "ticks": ""
             }
            },
            "marker": {
             "colorbar": {
              "outlinewidth": 0,
              "ticks": ""
             }
            },
            "type": "scatter3d"
           }
          ],
          "scattercarpet": [
           {
            "marker": {
             "colorbar": {
              "outlinewidth": 0,
              "ticks": ""
             }
            },
            "type": "scattercarpet"
           }
          ],
          "scattergeo": [
           {
            "marker": {
             "colorbar": {
              "outlinewidth": 0,
              "ticks": ""
             }
            },
            "type": "scattergeo"
           }
          ],
          "scattergl": [
           {
            "marker": {
             "colorbar": {
              "outlinewidth": 0,
              "ticks": ""
             }
            },
            "type": "scattergl"
           }
          ],
          "scattermapbox": [
           {
            "marker": {
             "colorbar": {
              "outlinewidth": 0,
              "ticks": ""
             }
            },
            "type": "scattermapbox"
           }
          ],
          "scatterpolar": [
           {
            "marker": {
             "colorbar": {
              "outlinewidth": 0,
              "ticks": ""
             }
            },
            "type": "scatterpolar"
           }
          ],
          "scatterpolargl": [
           {
            "marker": {
             "colorbar": {
              "outlinewidth": 0,
              "ticks": ""
             }
            },
            "type": "scatterpolargl"
           }
          ],
          "scatterternary": [
           {
            "marker": {
             "colorbar": {
              "outlinewidth": 0,
              "ticks": ""
             }
            },
            "type": "scatterternary"
           }
          ],
          "surface": [
           {
            "colorbar": {
             "outlinewidth": 0,
             "ticks": ""
            },
            "colorscale": [
             [
              0,
              "#0d0887"
             ],
             [
              0.1111111111111111,
              "#46039f"
             ],
             [
              0.2222222222222222,
              "#7201a8"
             ],
             [
              0.3333333333333333,
              "#9c179e"
             ],
             [
              0.4444444444444444,
              "#bd3786"
             ],
             [
              0.5555555555555556,
              "#d8576b"
             ],
             [
              0.6666666666666666,
              "#ed7953"
             ],
             [
              0.7777777777777778,
              "#fb9f3a"
             ],
             [
              0.8888888888888888,
              "#fdca26"
             ],
             [
              1,
              "#f0f921"
             ]
            ],
            "type": "surface"
           }
          ],
          "table": [
           {
            "cells": {
             "fill": {
              "color": "#EBF0F8"
             },
             "line": {
              "color": "white"
             }
            },
            "header": {
             "fill": {
              "color": "#C8D4E3"
             },
             "line": {
              "color": "white"
             }
            },
            "type": "table"
           }
          ]
         },
         "layout": {
          "annotationdefaults": {
           "arrowcolor": "#2a3f5f",
           "arrowhead": 0,
           "arrowwidth": 1
          },
          "autotypenumbers": "strict",
          "coloraxis": {
           "colorbar": {
            "outlinewidth": 0,
            "ticks": ""
           }
          },
          "colorscale": {
           "diverging": [
            [
             0,
             "#8e0152"
            ],
            [
             0.1,
             "#c51b7d"
            ],
            [
             0.2,
             "#de77ae"
            ],
            [
             0.3,
             "#f1b6da"
            ],
            [
             0.4,
             "#fde0ef"
            ],
            [
             0.5,
             "#f7f7f7"
            ],
            [
             0.6,
             "#e6f5d0"
            ],
            [
             0.7,
             "#b8e186"
            ],
            [
             0.8,
             "#7fbc41"
            ],
            [
             0.9,
             "#4d9221"
            ],
            [
             1,
             "#276419"
            ]
           ],
           "sequential": [
            [
             0,
             "#0d0887"
            ],
            [
             0.1111111111111111,
             "#46039f"
            ],
            [
             0.2222222222222222,
             "#7201a8"
            ],
            [
             0.3333333333333333,
             "#9c179e"
            ],
            [
             0.4444444444444444,
             "#bd3786"
            ],
            [
             0.5555555555555556,
             "#d8576b"
            ],
            [
             0.6666666666666666,
             "#ed7953"
            ],
            [
             0.7777777777777778,
             "#fb9f3a"
            ],
            [
             0.8888888888888888,
             "#fdca26"
            ],
            [
             1,
             "#f0f921"
            ]
           ],
           "sequentialminus": [
            [
             0,
             "#0d0887"
            ],
            [
             0.1111111111111111,
             "#46039f"
            ],
            [
             0.2222222222222222,
             "#7201a8"
            ],
            [
             0.3333333333333333,
             "#9c179e"
            ],
            [
             0.4444444444444444,
             "#bd3786"
            ],
            [
             0.5555555555555556,
             "#d8576b"
            ],
            [
             0.6666666666666666,
             "#ed7953"
            ],
            [
             0.7777777777777778,
             "#fb9f3a"
            ],
            [
             0.8888888888888888,
             "#fdca26"
            ],
            [
             1,
             "#f0f921"
            ]
           ]
          },
          "colorway": [
           "#636efa",
           "#EF553B",
           "#00cc96",
           "#ab63fa",
           "#FFA15A",
           "#19d3f3",
           "#FF6692",
           "#B6E880",
           "#FF97FF",
           "#FECB52"
          ],
          "font": {
           "color": "#2a3f5f"
          },
          "geo": {
           "bgcolor": "white",
           "lakecolor": "white",
           "landcolor": "#E5ECF6",
           "showlakes": true,
           "showland": true,
           "subunitcolor": "white"
          },
          "hoverlabel": {
           "align": "left"
          },
          "hovermode": "closest",
          "mapbox": {
           "style": "light"
          },
          "paper_bgcolor": "white",
          "plot_bgcolor": "#E5ECF6",
          "polar": {
           "angularaxis": {
            "gridcolor": "white",
            "linecolor": "white",
            "ticks": ""
           },
           "bgcolor": "#E5ECF6",
           "radialaxis": {
            "gridcolor": "white",
            "linecolor": "white",
            "ticks": ""
           }
          },
          "scene": {
           "xaxis": {
            "backgroundcolor": "#E5ECF6",
            "gridcolor": "white",
            "gridwidth": 2,
            "linecolor": "white",
            "showbackground": true,
            "ticks": "",
            "zerolinecolor": "white"
           },
           "yaxis": {
            "backgroundcolor": "#E5ECF6",
            "gridcolor": "white",
            "gridwidth": 2,
            "linecolor": "white",
            "showbackground": true,
            "ticks": "",
            "zerolinecolor": "white"
           },
           "zaxis": {
            "backgroundcolor": "#E5ECF6",
            "gridcolor": "white",
            "gridwidth": 2,
            "linecolor": "white",
            "showbackground": true,
            "ticks": "",
            "zerolinecolor": "white"
           }
          },
          "shapedefaults": {
           "line": {
            "color": "#2a3f5f"
           }
          },
          "ternary": {
           "aaxis": {
            "gridcolor": "white",
            "linecolor": "white",
            "ticks": ""
           },
           "baxis": {
            "gridcolor": "white",
            "linecolor": "white",
            "ticks": ""
           },
           "bgcolor": "#E5ECF6",
           "caxis": {
            "gridcolor": "white",
            "linecolor": "white",
            "ticks": ""
           }
          },
          "title": {
           "x": 0.05
          },
          "xaxis": {
           "automargin": true,
           "gridcolor": "white",
           "linecolor": "white",
           "ticks": "",
           "title": {
            "standoff": 15
           },
           "zerolinecolor": "white",
           "zerolinewidth": 2
          },
          "yaxis": {
           "automargin": true,
           "gridcolor": "white",
           "linecolor": "white",
           "ticks": "",
           "title": {
            "standoff": 15
           },
           "zerolinecolor": "white",
           "zerolinewidth": 2
          }
         }
        },
        "title": {
         "text": "auc"
        },
        "yaxis": {
         "title": {
          "text": "auc"
         }
        }
       }
      }
     },
     "metadata": {},
     "output_type": "display_data"
    },
    {
     "data": {
      "application/vnd.plotly.v1+json": {
       "config": {
        "plotlyServerURL": "https://plot.ly"
       },
       "data": [
        {
         "name": "Full",
         "type": "box",
         "x": [
          "LogisticRegression",
          "LogisticRegression",
          "LogisticRegression",
          "LogisticRegression",
          "LogisticRegression",
          "LogisticRegression",
          "LogisticRegression",
          "LogisticRegression",
          "LogisticRegression",
          "LogisticRegression",
          "LogisticRegression",
          "LogisticRegression",
          "LogisticRegression",
          "LogisticRegression",
          "LogisticRegression",
          "LogisticRegression",
          "LogisticRegression",
          "LogisticRegression",
          "LogisticRegression",
          "LogisticRegression",
          "SVC",
          "SVC",
          "SVC",
          "SVC",
          "SVC",
          "SVC",
          "SVC",
          "SVC",
          "SVC",
          "SVC",
          "SVC",
          "SVC",
          "SVC",
          "SVC",
          "SVC",
          "SVC",
          "SVC",
          "SVC",
          "SVC",
          "SVC",
          "RandomForestClassifier",
          "RandomForestClassifier",
          "RandomForestClassifier",
          "RandomForestClassifier",
          "RandomForestClassifier",
          "RandomForestClassifier",
          "RandomForestClassifier",
          "RandomForestClassifier",
          "RandomForestClassifier",
          "RandomForestClassifier",
          "RandomForestClassifier",
          "RandomForestClassifier",
          "RandomForestClassifier",
          "RandomForestClassifier",
          "RandomForestClassifier",
          "RandomForestClassifier",
          "RandomForestClassifier",
          "RandomForestClassifier",
          "RandomForestClassifier",
          "RandomForestClassifier",
          "GradientBoostingClassifier",
          "GradientBoostingClassifier",
          "GradientBoostingClassifier",
          "GradientBoostingClassifier",
          "GradientBoostingClassifier",
          "GradientBoostingClassifier",
          "GradientBoostingClassifier",
          "GradientBoostingClassifier",
          "GradientBoostingClassifier",
          "GradientBoostingClassifier",
          "GradientBoostingClassifier",
          "GradientBoostingClassifier",
          "GradientBoostingClassifier",
          "GradientBoostingClassifier",
          "GradientBoostingClassifier",
          "GradientBoostingClassifier",
          "GradientBoostingClassifier",
          "GradientBoostingClassifier",
          "GradientBoostingClassifier",
          "GradientBoostingClassifier",
          "DeepNeuralNetwork",
          "DeepNeuralNetwork",
          "DeepNeuralNetwork",
          "DeepNeuralNetwork",
          "DeepNeuralNetwork",
          "DeepNeuralNetwork",
          "DeepNeuralNetwork",
          "DeepNeuralNetwork",
          "DeepNeuralNetwork",
          "DeepNeuralNetwork",
          "DeepNeuralNetwork",
          "DeepNeuralNetwork",
          "DeepNeuralNetwork",
          "DeepNeuralNetwork",
          "DeepNeuralNetwork",
          "DeepNeuralNetwork",
          "DeepNeuralNetwork",
          "DeepNeuralNetwork",
          "DeepNeuralNetwork",
          "DeepNeuralNetwork"
         ],
         "y": [
          3.4985938955576468,
          5.044484221501723,
          4.149495085428836,
          4.149495085428837,
          4.729710173232569,
          4.974350354606666,
          4.892803627481966,
          4.892803627481967,
          4.240429810484371,
          4.40352326473377,
          3.661319193025444,
          4.963121572767824,
          5.044484221501724,
          3.90540713922714,
          4.485069991858469,
          3.4249625392373764,
          5.137443808856065,
          3.9142429019855727,
          4.892803627481966,
          5.2189905359807645,
          3.3358685980898493,
          5.125846870235622,
          4.312220382896634,
          4.55630832909833,
          5.382083990230163,
          5.137443808856065,
          4.811256900357266,
          5.545177444479562,
          4.729710173232568,
          4.485069991858468,
          3.9867697879610393,
          5.207209518969521,
          5.044484221501724,
          4.068132436694938,
          4.974350354606666,
          4.077336356234972,
          4.892803627481967,
          5.3820839902301625,
          4.892803627481966,
          5.463630717354862,
          3.824044490493242,
          4.312220382896634,
          4.393583031630533,
          4.230857734162735,
          4.974350354606666,
          4.240429810484371,
          5.2189905359807645,
          4.158883083359672,
          4.485069991858469,
          4.729710173232568,
          3.5799565442915453,
          4.556308329098331,
          5.125846870235622,
          3.9867697879610393,
          4.32197653760907,
          3.506509266362076,
          4.974350354606666,
          4.729710173232568,
          4.892803627481967,
          5.3820839902301625,
          3.010418003154254,
          4.393583031630533,
          4.312220382896634,
          3.905407139227141,
          4.729710173232568,
          4.485069991858469,
          4.811256900357266,
          5.300537263105463,
          4.32197653760907,
          4.648163446107868,
          3.4985938955576468,
          4.637670977832229,
          4.963121572767824,
          3.90540713922714,
          4.158883083359672,
          3.8326961748608737,
          4.648163446107868,
          4.32197653760907,
          4.485069991858469,
          5.300537263105463,
          0.6348203161531764,
          0.6376641601731334,
          0.6502441490899161,
          0.6380231518326837,
          0.632533357023899,
          0.6584666975640635,
          0.6289781143749578,
          0.6286229483014509,
          0.6320426288035939,
          0.6291094398319882,
          0.6292876683589025,
          0.6333671554137605,
          0.6299702467226255,
          0.6533591160547878,
          0.6278746329426105,
          0.6289193954886936,
          0.6323942060340331,
          0.6281867628907123,
          0.634299782575158,
          0.6298834653034743
         ]
        },
        {
         "name": "FR",
         "type": "box",
         "x": [
          "LogisticRegression",
          "LogisticRegression",
          "LogisticRegression",
          "LogisticRegression",
          "LogisticRegression",
          "LogisticRegression",
          "LogisticRegression",
          "LogisticRegression",
          "LogisticRegression",
          "LogisticRegression",
          "LogisticRegression",
          "LogisticRegression",
          "LogisticRegression",
          "LogisticRegression",
          "LogisticRegression",
          "LogisticRegression",
          "LogisticRegression",
          "LogisticRegression",
          "LogisticRegression",
          "LogisticRegression",
          "SVC",
          "SVC",
          "SVC",
          "SVC",
          "SVC",
          "SVC",
          "SVC",
          "SVC",
          "SVC",
          "SVC",
          "SVC",
          "SVC",
          "SVC",
          "SVC",
          "SVC",
          "SVC",
          "SVC",
          "SVC",
          "SVC",
          "SVC",
          "RandomForestClassifier",
          "RandomForestClassifier",
          "RandomForestClassifier",
          "RandomForestClassifier",
          "RandomForestClassifier",
          "RandomForestClassifier",
          "RandomForestClassifier",
          "RandomForestClassifier",
          "RandomForestClassifier",
          "RandomForestClassifier",
          "RandomForestClassifier",
          "RandomForestClassifier",
          "RandomForestClassifier",
          "RandomForestClassifier",
          "RandomForestClassifier",
          "RandomForestClassifier",
          "RandomForestClassifier",
          "RandomForestClassifier",
          "RandomForestClassifier",
          "RandomForestClassifier",
          "GradientBoostingClassifier",
          "GradientBoostingClassifier",
          "GradientBoostingClassifier",
          "GradientBoostingClassifier",
          "GradientBoostingClassifier",
          "GradientBoostingClassifier",
          "GradientBoostingClassifier",
          "GradientBoostingClassifier",
          "GradientBoostingClassifier",
          "GradientBoostingClassifier",
          "GradientBoostingClassifier",
          "GradientBoostingClassifier",
          "GradientBoostingClassifier",
          "GradientBoostingClassifier",
          "GradientBoostingClassifier",
          "GradientBoostingClassifier",
          "GradientBoostingClassifier",
          "GradientBoostingClassifier",
          "GradientBoostingClassifier",
          "GradientBoostingClassifier",
          "DeepNeuralNetwork",
          "DeepNeuralNetwork",
          "DeepNeuralNetwork",
          "DeepNeuralNetwork",
          "DeepNeuralNetwork",
          "DeepNeuralNetwork",
          "DeepNeuralNetwork",
          "DeepNeuralNetwork",
          "DeepNeuralNetwork",
          "DeepNeuralNetwork",
          "DeepNeuralNetwork",
          "DeepNeuralNetwork",
          "DeepNeuralNetwork",
          "DeepNeuralNetwork",
          "DeepNeuralNetwork",
          "DeepNeuralNetwork",
          "DeepNeuralNetwork",
          "DeepNeuralNetwork",
          "DeepNeuralNetwork",
          "DeepNeuralNetwork"
         ],
         "y": [
          11.634858768947524,
          11.553496120213625,
          11.553496120213625,
          11.553496120213625,
          11.57963525170732,
          11.57963525170732,
          11.57963525170732,
          11.57963525170732,
          11.57963525170732,
          11.57963525170732,
          11.634858768947524,
          11.553496120213625,
          11.553496120213625,
          11.553496120213625,
          11.57963525170732,
          11.57963525170732,
          11.57963525170732,
          11.57963525170732,
          11.57963525170732,
          11.57963525170732,
          11.634858768947524,
          11.553496120213625,
          11.553496120213625,
          11.553496120213625,
          11.57963525170732,
          11.57963525170732,
          11.57963525170732,
          11.57963525170732,
          11.57963525170732,
          11.57963525170732,
          11.634858768947524,
          11.553496120213625,
          11.553496120213625,
          11.553496120213625,
          11.57963525170732,
          11.57963525170732,
          11.57963525170732,
          11.57963525170732,
          11.57963525170732,
          11.57963525170732,
          12.773935851222106,
          13.750287636028892,
          14.645276772101775,
          13.750287636028892,
          13.944490338323604,
          12.802836158577811,
          14.515317428196498,
          12.96592961282721,
          13.04747633995191,
          13.04747633995191,
          12.773935851222106,
          13.587562338561092,
          14.40118882590008,
          13.1807490948916,
          14.1891305196977,
          12.884382885702513,
          13.455209975575404,
          12.96592961282721,
          13.373663248450708,
          13.04747633995191,
          10.821232281608536,
          10.414419037939044,
          11.71622141768142,
          10.57714433540684,
          11.987368887330817,
          11.824275433081418,
          12.313555795829611,
          11.905822160206116,
          11.66118197883202,
          11.905822160206116,
          11.228045525278027,
          11.14668287654413,
          12.367122607552613,
          12.44848525628651,
          11.416541797457922,
          11.253448343208523,
          11.090354888959125,
          12.232009068704915,
          11.57963525170732,
          11.57963525170732,
          0.6324189280323665,
          0.630273140964373,
          0.6307595750221929,
          0.6277967815938973,
          0.6300292796102329,
          0.6289470189967855,
          0.6637312447357635,
          0.6284853019031535,
          0.6303018674153741,
          0.6280565411627558,
          0.6308834871790012,
          0.6298826359014776,
          0.6287320899281648,
          0.6492613615478257,
          0.6282184391953314,
          0.6280729214938969,
          0.6334172261212573,
          0.6299520003025957,
          0.6513706398489605,
          0.6410896152631843
         ]
        },
        {
         "name": "SS",
         "type": "box",
         "x": [
          "LogisticRegression",
          "LogisticRegression",
          "LogisticRegression",
          "LogisticRegression",
          "LogisticRegression",
          "LogisticRegression",
          "LogisticRegression",
          "LogisticRegression",
          "LogisticRegression",
          "LogisticRegression",
          "LogisticRegression",
          "LogisticRegression",
          "LogisticRegression",
          "LogisticRegression",
          "LogisticRegression",
          "LogisticRegression",
          "LogisticRegression",
          "LogisticRegression",
          "LogisticRegression",
          "LogisticRegression",
          "SVC",
          "SVC",
          "SVC",
          "SVC",
          "SVC",
          "SVC",
          "SVC",
          "SVC",
          "SVC",
          "SVC",
          "SVC",
          "SVC",
          "SVC",
          "SVC",
          "SVC",
          "SVC",
          "SVC",
          "SVC",
          "SVC",
          "SVC",
          "RandomForestClassifier",
          "RandomForestClassifier",
          "RandomForestClassifier",
          "RandomForestClassifier",
          "RandomForestClassifier",
          "RandomForestClassifier",
          "RandomForestClassifier",
          "RandomForestClassifier",
          "RandomForestClassifier",
          "RandomForestClassifier",
          "RandomForestClassifier",
          "RandomForestClassifier",
          "RandomForestClassifier",
          "RandomForestClassifier",
          "RandomForestClassifier",
          "RandomForestClassifier",
          "RandomForestClassifier",
          "RandomForestClassifier",
          "RandomForestClassifier",
          "RandomForestClassifier",
          "GradientBoostingClassifier",
          "GradientBoostingClassifier",
          "GradientBoostingClassifier",
          "GradientBoostingClassifier",
          "GradientBoostingClassifier",
          "GradientBoostingClassifier",
          "GradientBoostingClassifier",
          "GradientBoostingClassifier",
          "GradientBoostingClassifier",
          "GradientBoostingClassifier",
          "GradientBoostingClassifier",
          "GradientBoostingClassifier",
          "GradientBoostingClassifier",
          "GradientBoostingClassifier",
          "GradientBoostingClassifier",
          "GradientBoostingClassifier",
          "GradientBoostingClassifier",
          "GradientBoostingClassifier",
          "GradientBoostingClassifier",
          "GradientBoostingClassifier",
          "DeepNeuralNetwork",
          "DeepNeuralNetwork",
          "DeepNeuralNetwork",
          "DeepNeuralNetwork",
          "DeepNeuralNetwork",
          "DeepNeuralNetwork",
          "DeepNeuralNetwork",
          "DeepNeuralNetwork",
          "DeepNeuralNetwork",
          "DeepNeuralNetwork",
          "DeepNeuralNetwork",
          "DeepNeuralNetwork",
          "DeepNeuralNetwork",
          "DeepNeuralNetwork",
          "DeepNeuralNetwork",
          "DeepNeuralNetwork",
          "DeepNeuralNetwork",
          "DeepNeuralNetwork",
          "DeepNeuralNetwork",
          "DeepNeuralNetwork"
         ],
         "y": [
          4.312220382896634,
          5.044484221501723,
          4.230857734162735,
          4.393583031630533,
          5.2189905359807645,
          4.811256900357266,
          5.137443808856065,
          5.2189905359807645,
          4.240429810484371,
          4.40352326473377,
          3.98676978796104,
          5.451297465171217,
          5.125846870235622,
          4.312220382896634,
          4.811256900357266,
          3.5880559934867757,
          4.811256900357267,
          4.40352326473377,
          5.708270898728961,
          5.2189905359807645,
          4.393583031630533,
          4.881758924033926,
          4.637670977832229,
          4.393583031630533,
          6.360644715726557,
          5.871364352978359,
          5.3820839902301625,
          5.789817625853661,
          6.197551261477158,
          5.137443808856065,
          4.963121572767824,
          5.288572167703419,
          5.4512974651712165,
          4.474945680364432,
          5.3820839902301625,
          4.40352326473377,
          5.789817625853661,
          5.2189905359807645,
          6.197551261477157,
          6.116004534352457,
          4.312220382896634,
          4.149495085428836,
          4.474945680364431,
          4.474945680364432,
          6.197551261477158,
          5.463630717354863,
          5.871364352978359,
          5.137443808856065,
          4.648163446107868,
          4.566616718983169,
          4.230857734162735,
          5.369934816437319,
          5.369934816437318,
          3.824044490493242,
          4.485069991858468,
          4.485069991858468,
          5.626724171604262,
          5.137443808856065,
          5.708270898728961,
          5.545177444479562,
          4.230857734162735,
          5.207209518969521,
          5.044484221501723,
          4.393583031630533,
          5.789817625853661,
          5.463630717354862,
          5.789817625853661,
          5.708270898728961,
          5.300537263105463,
          4.892803627481967,
          3.7426818417593433,
          5.207209518969521,
          6.183561303776307,
          4.312220382896634,
          4.648163446107868,
          4.32197653760907,
          5.055897081731366,
          5.2189905359807645,
          5.463630717354862,
          6.360644715726557,
          0.6323189976043216,
          0.679986597063503,
          0.6308885015579073,
          0.638120384750131,
          0.6322513764250101,
          0.6358305080435397,
          0.6607947643279498,
          0.6281988641928583,
          0.6291049263301862,
          0.6416830760795661,
          0.6408234178417915,
          0.6403528510910272,
          0.6272775033736404,
          0.6283455327567025,
          0.6289387757005052,
          0.6809887292273646,
          0.6379475102429703,
          0.6278212999737345,
          0.648172454855989,
          0.636463689976863
         ]
        },
        {
         "name": "SS & FR",
         "type": "box",
         "x": [
          "LogisticRegression",
          "LogisticRegression",
          "LogisticRegression",
          "LogisticRegression",
          "LogisticRegression",
          "LogisticRegression",
          "LogisticRegression",
          "LogisticRegression",
          "LogisticRegression",
          "LogisticRegression",
          "LogisticRegression",
          "LogisticRegression",
          "LogisticRegression",
          "LogisticRegression",
          "LogisticRegression",
          "LogisticRegression",
          "LogisticRegression",
          "LogisticRegression",
          "LogisticRegression",
          "LogisticRegression",
          "SVC",
          "SVC",
          "SVC",
          "SVC",
          "SVC",
          "SVC",
          "SVC",
          "SVC",
          "SVC",
          "SVC",
          "SVC",
          "SVC",
          "SVC",
          "SVC",
          "SVC",
          "SVC",
          "SVC",
          "SVC",
          "SVC",
          "SVC",
          "RandomForestClassifier",
          "RandomForestClassifier",
          "RandomForestClassifier",
          "RandomForestClassifier",
          "RandomForestClassifier",
          "RandomForestClassifier",
          "RandomForestClassifier",
          "RandomForestClassifier",
          "RandomForestClassifier",
          "RandomForestClassifier",
          "RandomForestClassifier",
          "RandomForestClassifier",
          "RandomForestClassifier",
          "RandomForestClassifier",
          "RandomForestClassifier",
          "RandomForestClassifier",
          "RandomForestClassifier",
          "RandomForestClassifier",
          "RandomForestClassifier",
          "RandomForestClassifier",
          "GradientBoostingClassifier",
          "GradientBoostingClassifier",
          "GradientBoostingClassifier",
          "GradientBoostingClassifier",
          "GradientBoostingClassifier",
          "GradientBoostingClassifier",
          "GradientBoostingClassifier",
          "GradientBoostingClassifier",
          "GradientBoostingClassifier",
          "GradientBoostingClassifier",
          "GradientBoostingClassifier",
          "GradientBoostingClassifier",
          "GradientBoostingClassifier",
          "GradientBoostingClassifier",
          "GradientBoostingClassifier",
          "GradientBoostingClassifier",
          "GradientBoostingClassifier",
          "GradientBoostingClassifier",
          "GradientBoostingClassifier",
          "GradientBoostingClassifier",
          "DeepNeuralNetwork",
          "DeepNeuralNetwork",
          "DeepNeuralNetwork",
          "DeepNeuralNetwork",
          "DeepNeuralNetwork",
          "DeepNeuralNetwork",
          "DeepNeuralNetwork",
          "DeepNeuralNetwork",
          "DeepNeuralNetwork",
          "DeepNeuralNetwork",
          "DeepNeuralNetwork",
          "DeepNeuralNetwork",
          "DeepNeuralNetwork",
          "DeepNeuralNetwork",
          "DeepNeuralNetwork",
          "DeepNeuralNetwork",
          "DeepNeuralNetwork",
          "DeepNeuralNetwork",
          "DeepNeuralNetwork",
          "DeepNeuralNetwork"
         ],
         "y": [
          11.634858768947524,
          11.553496120213625,
          11.553496120213625,
          11.553496120213625,
          11.57963525170732,
          11.57963525170732,
          11.57963525170732,
          11.57963525170732,
          11.57963525170732,
          11.57963525170732,
          11.634858768947524,
          11.553496120213625,
          11.553496120213625,
          11.553496120213625,
          11.57963525170732,
          11.57963525170732,
          11.57963525170732,
          11.57963525170732,
          11.57963525170732,
          11.57963525170732,
          11.634858768947524,
          11.553496120213625,
          11.553496120213625,
          12.04167201261702,
          11.57963525170732,
          11.742728705956718,
          11.57963525170732,
          11.57963525170732,
          11.57963525170732,
          11.57963525170732,
          11.634858768947524,
          11.553496120213625,
          11.553496120213625,
          11.553496120213625,
          11.57963525170732,
          11.824275433081418,
          11.57963525170732,
          11.57963525170732,
          11.57963525170732,
          11.57963525170732,
          15.540265908174662,
          13.0180237974238,
          13.831650284762793,
          13.1807490948916,
          14.6784108824459,
          13.699850156949504,
          13.781396884074208,
          14.026037065448303,
          13.373663248450706,
          14.270677246822402,
          13.994375582230589,
          14.31982617716618,
          15.214815313239068,
          14.238463528432282,
          15.167691245194096,
          14.107583792573005,
          13.536756702700108,
          14.4337707010718,
          13.04747633995191,
          14.841504336695296,
          12.448485256286512,
          12.123034661350914,
          11.065320227810233,
          10.088968443003449,
          12.96592961282721,
          10.927261434709724,
          13.292116521326006,
          12.639742704328413,
          12.802836158577811,
          13.373663248450708,
          10.983957579076332,
          11.87894671514922,
          13.668924987294991,
          10.57714433540684,
          11.742728705956718,
          11.742728705956722,
          12.721289431453112,
          12.068915614455516,
          11.742728705956718,
          11.253448343208523,
          0.6403257298299253,
          0.6282544172423421,
          0.6290613875074769,
          0.6399848013252608,
          0.6362935594969391,
          0.6394075447325422,
          0.6331674663659171,
          0.6645554074227117,
          0.6280368815434973,
          0.6467429942039343,
          0.6290276742774057,
          0.6291674554202844,
          0.6534917079311625,
          0.6436865803943939,
          0.6560449800253723,
          0.638888263036248,
          0.6278213111149173,
          0.6380853133797066,
          0.6315708204405724,
          0.687449092804625
         ]
        }
       ],
       "layout": {
        "boxmode": "group",
        "template": {
         "data": {
          "bar": [
           {
            "error_x": {
             "color": "#2a3f5f"
            },
            "error_y": {
             "color": "#2a3f5f"
            },
            "marker": {
             "line": {
              "color": "#E5ECF6",
              "width": 0.5
             },
             "pattern": {
              "fillmode": "overlay",
              "size": 10,
              "solidity": 0.2
             }
            },
            "type": "bar"
           }
          ],
          "barpolar": [
           {
            "marker": {
             "line": {
              "color": "#E5ECF6",
              "width": 0.5
             },
             "pattern": {
              "fillmode": "overlay",
              "size": 10,
              "solidity": 0.2
             }
            },
            "type": "barpolar"
           }
          ],
          "carpet": [
           {
            "aaxis": {
             "endlinecolor": "#2a3f5f",
             "gridcolor": "white",
             "linecolor": "white",
             "minorgridcolor": "white",
             "startlinecolor": "#2a3f5f"
            },
            "baxis": {
             "endlinecolor": "#2a3f5f",
             "gridcolor": "white",
             "linecolor": "white",
             "minorgridcolor": "white",
             "startlinecolor": "#2a3f5f"
            },
            "type": "carpet"
           }
          ],
          "choropleth": [
           {
            "colorbar": {
             "outlinewidth": 0,
             "ticks": ""
            },
            "type": "choropleth"
           }
          ],
          "contour": [
           {
            "colorbar": {
             "outlinewidth": 0,
             "ticks": ""
            },
            "colorscale": [
             [
              0,
              "#0d0887"
             ],
             [
              0.1111111111111111,
              "#46039f"
             ],
             [
              0.2222222222222222,
              "#7201a8"
             ],
             [
              0.3333333333333333,
              "#9c179e"
             ],
             [
              0.4444444444444444,
              "#bd3786"
             ],
             [
              0.5555555555555556,
              "#d8576b"
             ],
             [
              0.6666666666666666,
              "#ed7953"
             ],
             [
              0.7777777777777778,
              "#fb9f3a"
             ],
             [
              0.8888888888888888,
              "#fdca26"
             ],
             [
              1,
              "#f0f921"
             ]
            ],
            "type": "contour"
           }
          ],
          "contourcarpet": [
           {
            "colorbar": {
             "outlinewidth": 0,
             "ticks": ""
            },
            "type": "contourcarpet"
           }
          ],
          "heatmap": [
           {
            "colorbar": {
             "outlinewidth": 0,
             "ticks": ""
            },
            "colorscale": [
             [
              0,
              "#0d0887"
             ],
             [
              0.1111111111111111,
              "#46039f"
             ],
             [
              0.2222222222222222,
              "#7201a8"
             ],
             [
              0.3333333333333333,
              "#9c179e"
             ],
             [
              0.4444444444444444,
              "#bd3786"
             ],
             [
              0.5555555555555556,
              "#d8576b"
             ],
             [
              0.6666666666666666,
              "#ed7953"
             ],
             [
              0.7777777777777778,
              "#fb9f3a"
             ],
             [
              0.8888888888888888,
              "#fdca26"
             ],
             [
              1,
              "#f0f921"
             ]
            ],
            "type": "heatmap"
           }
          ],
          "heatmapgl": [
           {
            "colorbar": {
             "outlinewidth": 0,
             "ticks": ""
            },
            "colorscale": [
             [
              0,
              "#0d0887"
             ],
             [
              0.1111111111111111,
              "#46039f"
             ],
             [
              0.2222222222222222,
              "#7201a8"
             ],
             [
              0.3333333333333333,
              "#9c179e"
             ],
             [
              0.4444444444444444,
              "#bd3786"
             ],
             [
              0.5555555555555556,
              "#d8576b"
             ],
             [
              0.6666666666666666,
              "#ed7953"
             ],
             [
              0.7777777777777778,
              "#fb9f3a"
             ],
             [
              0.8888888888888888,
              "#fdca26"
             ],
             [
              1,
              "#f0f921"
             ]
            ],
            "type": "heatmapgl"
           }
          ],
          "histogram": [
           {
            "marker": {
             "pattern": {
              "fillmode": "overlay",
              "size": 10,
              "solidity": 0.2
             }
            },
            "type": "histogram"
           }
          ],
          "histogram2d": [
           {
            "colorbar": {
             "outlinewidth": 0,
             "ticks": ""
            },
            "colorscale": [
             [
              0,
              "#0d0887"
             ],
             [
              0.1111111111111111,
              "#46039f"
             ],
             [
              0.2222222222222222,
              "#7201a8"
             ],
             [
              0.3333333333333333,
              "#9c179e"
             ],
             [
              0.4444444444444444,
              "#bd3786"
             ],
             [
              0.5555555555555556,
              "#d8576b"
             ],
             [
              0.6666666666666666,
              "#ed7953"
             ],
             [
              0.7777777777777778,
              "#fb9f3a"
             ],
             [
              0.8888888888888888,
              "#fdca26"
             ],
             [
              1,
              "#f0f921"
             ]
            ],
            "type": "histogram2d"
           }
          ],
          "histogram2dcontour": [
           {
            "colorbar": {
             "outlinewidth": 0,
             "ticks": ""
            },
            "colorscale": [
             [
              0,
              "#0d0887"
             ],
             [
              0.1111111111111111,
              "#46039f"
             ],
             [
              0.2222222222222222,
              "#7201a8"
             ],
             [
              0.3333333333333333,
              "#9c179e"
             ],
             [
              0.4444444444444444,
              "#bd3786"
             ],
             [
              0.5555555555555556,
              "#d8576b"
             ],
             [
              0.6666666666666666,
              "#ed7953"
             ],
             [
              0.7777777777777778,
              "#fb9f3a"
             ],
             [
              0.8888888888888888,
              "#fdca26"
             ],
             [
              1,
              "#f0f921"
             ]
            ],
            "type": "histogram2dcontour"
           }
          ],
          "mesh3d": [
           {
            "colorbar": {
             "outlinewidth": 0,
             "ticks": ""
            },
            "type": "mesh3d"
           }
          ],
          "parcoords": [
           {
            "line": {
             "colorbar": {
              "outlinewidth": 0,
              "ticks": ""
             }
            },
            "type": "parcoords"
           }
          ],
          "pie": [
           {
            "automargin": true,
            "type": "pie"
           }
          ],
          "scatter": [
           {
            "fillpattern": {
             "fillmode": "overlay",
             "size": 10,
             "solidity": 0.2
            },
            "type": "scatter"
           }
          ],
          "scatter3d": [
           {
            "line": {
             "colorbar": {
              "outlinewidth": 0,
              "ticks": ""
             }
            },
            "marker": {
             "colorbar": {
              "outlinewidth": 0,
              "ticks": ""
             }
            },
            "type": "scatter3d"
           }
          ],
          "scattercarpet": [
           {
            "marker": {
             "colorbar": {
              "outlinewidth": 0,
              "ticks": ""
             }
            },
            "type": "scattercarpet"
           }
          ],
          "scattergeo": [
           {
            "marker": {
             "colorbar": {
              "outlinewidth": 0,
              "ticks": ""
             }
            },
            "type": "scattergeo"
           }
          ],
          "scattergl": [
           {
            "marker": {
             "colorbar": {
              "outlinewidth": 0,
              "ticks": ""
             }
            },
            "type": "scattergl"
           }
          ],
          "scattermapbox": [
           {
            "marker": {
             "colorbar": {
              "outlinewidth": 0,
              "ticks": ""
             }
            },
            "type": "scattermapbox"
           }
          ],
          "scatterpolar": [
           {
            "marker": {
             "colorbar": {
              "outlinewidth": 0,
              "ticks": ""
             }
            },
            "type": "scatterpolar"
           }
          ],
          "scatterpolargl": [
           {
            "marker": {
             "colorbar": {
              "outlinewidth": 0,
              "ticks": ""
             }
            },
            "type": "scatterpolargl"
           }
          ],
          "scatterternary": [
           {
            "marker": {
             "colorbar": {
              "outlinewidth": 0,
              "ticks": ""
             }
            },
            "type": "scatterternary"
           }
          ],
          "surface": [
           {
            "colorbar": {
             "outlinewidth": 0,
             "ticks": ""
            },
            "colorscale": [
             [
              0,
              "#0d0887"
             ],
             [
              0.1111111111111111,
              "#46039f"
             ],
             [
              0.2222222222222222,
              "#7201a8"
             ],
             [
              0.3333333333333333,
              "#9c179e"
             ],
             [
              0.4444444444444444,
              "#bd3786"
             ],
             [
              0.5555555555555556,
              "#d8576b"
             ],
             [
              0.6666666666666666,
              "#ed7953"
             ],
             [
              0.7777777777777778,
              "#fb9f3a"
             ],
             [
              0.8888888888888888,
              "#fdca26"
             ],
             [
              1,
              "#f0f921"
             ]
            ],
            "type": "surface"
           }
          ],
          "table": [
           {
            "cells": {
             "fill": {
              "color": "#EBF0F8"
             },
             "line": {
              "color": "white"
             }
            },
            "header": {
             "fill": {
              "color": "#C8D4E3"
             },
             "line": {
              "color": "white"
             }
            },
            "type": "table"
           }
          ]
         },
         "layout": {
          "annotationdefaults": {
           "arrowcolor": "#2a3f5f",
           "arrowhead": 0,
           "arrowwidth": 1
          },
          "autotypenumbers": "strict",
          "coloraxis": {
           "colorbar": {
            "outlinewidth": 0,
            "ticks": ""
           }
          },
          "colorscale": {
           "diverging": [
            [
             0,
             "#8e0152"
            ],
            [
             0.1,
             "#c51b7d"
            ],
            [
             0.2,
             "#de77ae"
            ],
            [
             0.3,
             "#f1b6da"
            ],
            [
             0.4,
             "#fde0ef"
            ],
            [
             0.5,
             "#f7f7f7"
            ],
            [
             0.6,
             "#e6f5d0"
            ],
            [
             0.7,
             "#b8e186"
            ],
            [
             0.8,
             "#7fbc41"
            ],
            [
             0.9,
             "#4d9221"
            ],
            [
             1,
             "#276419"
            ]
           ],
           "sequential": [
            [
             0,
             "#0d0887"
            ],
            [
             0.1111111111111111,
             "#46039f"
            ],
            [
             0.2222222222222222,
             "#7201a8"
            ],
            [
             0.3333333333333333,
             "#9c179e"
            ],
            [
             0.4444444444444444,
             "#bd3786"
            ],
            [
             0.5555555555555556,
             "#d8576b"
            ],
            [
             0.6666666666666666,
             "#ed7953"
            ],
            [
             0.7777777777777778,
             "#fb9f3a"
            ],
            [
             0.8888888888888888,
             "#fdca26"
            ],
            [
             1,
             "#f0f921"
            ]
           ],
           "sequentialminus": [
            [
             0,
             "#0d0887"
            ],
            [
             0.1111111111111111,
             "#46039f"
            ],
            [
             0.2222222222222222,
             "#7201a8"
            ],
            [
             0.3333333333333333,
             "#9c179e"
            ],
            [
             0.4444444444444444,
             "#bd3786"
            ],
            [
             0.5555555555555556,
             "#d8576b"
            ],
            [
             0.6666666666666666,
             "#ed7953"
            ],
            [
             0.7777777777777778,
             "#fb9f3a"
            ],
            [
             0.8888888888888888,
             "#fdca26"
            ],
            [
             1,
             "#f0f921"
            ]
           ]
          },
          "colorway": [
           "#636efa",
           "#EF553B",
           "#00cc96",
           "#ab63fa",
           "#FFA15A",
           "#19d3f3",
           "#FF6692",
           "#B6E880",
           "#FF97FF",
           "#FECB52"
          ],
          "font": {
           "color": "#2a3f5f"
          },
          "geo": {
           "bgcolor": "white",
           "lakecolor": "white",
           "landcolor": "#E5ECF6",
           "showlakes": true,
           "showland": true,
           "subunitcolor": "white"
          },
          "hoverlabel": {
           "align": "left"
          },
          "hovermode": "closest",
          "mapbox": {
           "style": "light"
          },
          "paper_bgcolor": "white",
          "plot_bgcolor": "#E5ECF6",
          "polar": {
           "angularaxis": {
            "gridcolor": "white",
            "linecolor": "white",
            "ticks": ""
           },
           "bgcolor": "#E5ECF6",
           "radialaxis": {
            "gridcolor": "white",
            "linecolor": "white",
            "ticks": ""
           }
          },
          "scene": {
           "xaxis": {
            "backgroundcolor": "#E5ECF6",
            "gridcolor": "white",
            "gridwidth": 2,
            "linecolor": "white",
            "showbackground": true,
            "ticks": "",
            "zerolinecolor": "white"
           },
           "yaxis": {
            "backgroundcolor": "#E5ECF6",
            "gridcolor": "white",
            "gridwidth": 2,
            "linecolor": "white",
            "showbackground": true,
            "ticks": "",
            "zerolinecolor": "white"
           },
           "zaxis": {
            "backgroundcolor": "#E5ECF6",
            "gridcolor": "white",
            "gridwidth": 2,
            "linecolor": "white",
            "showbackground": true,
            "ticks": "",
            "zerolinecolor": "white"
           }
          },
          "shapedefaults": {
           "line": {
            "color": "#2a3f5f"
           }
          },
          "ternary": {
           "aaxis": {
            "gridcolor": "white",
            "linecolor": "white",
            "ticks": ""
           },
           "baxis": {
            "gridcolor": "white",
            "linecolor": "white",
            "ticks": ""
           },
           "bgcolor": "#E5ECF6",
           "caxis": {
            "gridcolor": "white",
            "linecolor": "white",
            "ticks": ""
           }
          },
          "title": {
           "x": 0.05
          },
          "xaxis": {
           "automargin": true,
           "gridcolor": "white",
           "linecolor": "white",
           "ticks": "",
           "title": {
            "standoff": 15
           },
           "zerolinecolor": "white",
           "zerolinewidth": 2
          },
          "yaxis": {
           "automargin": true,
           "gridcolor": "white",
           "linecolor": "white",
           "ticks": "",
           "title": {
            "standoff": 15
           },
           "zerolinecolor": "white",
           "zerolinewidth": 2
          }
         }
        },
        "title": {
         "text": "log_loss"
        },
        "yaxis": {
         "title": {
          "text": "log_loss"
         }
        }
       }
      }
     },
     "metadata": {},
     "output_type": "display_data"
    }
   ],
   "source": [
    "make_plots('accuracy')\n",
    "make_plots('auc')\n",
    "make_plots('log_loss')"
   ]
  },
  {
   "cell_type": "code",
   "execution_count": 6,
   "metadata": {},
   "outputs": [
    {
     "data": {
      "application/vnd.plotly.v1+json": {
       "config": {
        "plotlyServerURL": "https://plot.ly"
       },
       "data": [
        {
         "name": "Full",
         "type": "box",
         "x": [
          "LogisticRegression",
          "LogisticRegression",
          "LogisticRegression",
          "LogisticRegression",
          "LogisticRegression",
          "LogisticRegression",
          "LogisticRegression",
          "LogisticRegression",
          "LogisticRegression",
          "LogisticRegression",
          "LogisticRegression",
          "LogisticRegression",
          "LogisticRegression",
          "LogisticRegression",
          "LogisticRegression",
          "LogisticRegression",
          "LogisticRegression",
          "LogisticRegression",
          "LogisticRegression",
          "LogisticRegression",
          "SVC",
          "SVC",
          "SVC",
          "SVC",
          "SVC",
          "SVC",
          "SVC",
          "SVC",
          "SVC",
          "SVC",
          "SVC",
          "SVC",
          "SVC",
          "SVC",
          "SVC",
          "SVC",
          "SVC",
          "SVC",
          "SVC",
          "SVC",
          "RandomForestClassifier",
          "RandomForestClassifier",
          "RandomForestClassifier",
          "RandomForestClassifier",
          "RandomForestClassifier",
          "RandomForestClassifier",
          "RandomForestClassifier",
          "RandomForestClassifier",
          "RandomForestClassifier",
          "RandomForestClassifier",
          "RandomForestClassifier",
          "RandomForestClassifier",
          "RandomForestClassifier",
          "RandomForestClassifier",
          "RandomForestClassifier",
          "RandomForestClassifier",
          "RandomForestClassifier",
          "RandomForestClassifier",
          "RandomForestClassifier",
          "RandomForestClassifier",
          "GradientBoostingClassifier",
          "GradientBoostingClassifier",
          "GradientBoostingClassifier",
          "GradientBoostingClassifier",
          "GradientBoostingClassifier",
          "GradientBoostingClassifier",
          "GradientBoostingClassifier",
          "GradientBoostingClassifier",
          "GradientBoostingClassifier",
          "GradientBoostingClassifier",
          "GradientBoostingClassifier",
          "GradientBoostingClassifier",
          "GradientBoostingClassifier",
          "GradientBoostingClassifier",
          "GradientBoostingClassifier",
          "GradientBoostingClassifier",
          "GradientBoostingClassifier",
          "GradientBoostingClassifier",
          "GradientBoostingClassifier",
          "GradientBoostingClassifier",
          "DeepNeuralNetwork",
          "DeepNeuralNetwork",
          "DeepNeuralNetwork",
          "DeepNeuralNetwork",
          "DeepNeuralNetwork",
          "DeepNeuralNetwork",
          "DeepNeuralNetwork",
          "DeepNeuralNetwork",
          "DeepNeuralNetwork",
          "DeepNeuralNetwork",
          "DeepNeuralNetwork",
          "DeepNeuralNetwork",
          "DeepNeuralNetwork",
          "DeepNeuralNetwork",
          "DeepNeuralNetwork",
          "DeepNeuralNetwork",
          "DeepNeuralNetwork",
          "DeepNeuralNetwork",
          "DeepNeuralNetwork",
          "DeepNeuralNetwork"
         ],
         "y": [
          0.0279252529144287,
          0.037898302078247,
          0.0269291400909423,
          0.0249326229095459,
          0.0658240318298339,
          0.0299201011657714,
          0.0428879261016845,
          0.027925968170166,
          0.0289225578308105,
          0.0398943424224853,
          0.0797870159149169,
          0.0408909320831298,
          0.052854299545288,
          0.0289230346679687,
          0.0658237934112548,
          0.0279264450073242,
          0.0388972759246826,
          0.0249345302581787,
          0.0339093208312988,
          0.0289242267608642,
          0.0329101085662841,
          0.023928165435791,
          0.0229239463806152,
          0.0239331722259521,
          0.0219476222991943,
          0.0349061489105224,
          0.0239381790161132,
          0.0219402313232421,
          0.0518553256988525,
          0.0398905277252197,
          0.0269281864166259,
          0.0329086780548095,
          0.059838056564331,
          0.022956371307373,
          0.0199463367462158,
          0.0259327888488769,
          0.0807845592498779,
          0.0678184032440185,
          0.0269281864166259,
          0.0269248485565185,
          0.0289235115051269,
          0.0249340534210205,
          0.0289225578308105,
          0.0229361057281494,
          0.0219404697418212,
          0.0219388008117675,
          0.0369048118591308,
          0.0239350795745849,
          0.0817875862121582,
          0.0259318351745605,
          0.0578465461730957,
          0.0498661994934082,
          0.0249342918395996,
          0.0628321170806884,
          0.0817804336547851,
          0.0638298988342285,
          0.0369009971618652,
          0.0259315967559814,
          0.0857703685760498,
          0.0418882369995117,
          0.0229387283325195,
          0.0279295444488525,
          0.024935245513916,
          0.0568482875823974,
          0.0418896675109863,
          0.0279247760772705,
          0.0239350795745849,
          0.0388967990875244,
          0.0229389667510986,
          0.0229396820068359,
          0.0229387283325195,
          0.0538549423217773,
          0.0289223194122314,
          0.0807850360870361,
          0.0299198627471923,
          0.0229384899139404,
          0.0259313583374023,
          0.0568501949310302,
          0.0279252529144287,
          0.0358991622924804,
          0.0209419727325439,
          0.023937702178955,
          0.0618360042572021,
          0.0269279479980468,
          0.0249330997467041,
          0.0279273986816406,
          0.0279264450073242,
          0.0228009223937988,
          0.0221509933471679,
          0.0199484825134277,
          0.0219426155090332,
          0.0189816951751709,
          0.0199561119079589,
          0.0189499855041503,
          0.0428860187530517,
          0.0269286632537841,
          0.0231812000274658,
          0.0349073410034179,
          0.0214090347290039,
          0.0209484100341796
         ]
        },
        {
         "name": "FR",
         "type": "box",
         "x": [
          "LogisticRegression",
          "LogisticRegression",
          "LogisticRegression",
          "LogisticRegression",
          "LogisticRegression",
          "LogisticRegression",
          "LogisticRegression",
          "LogisticRegression",
          "LogisticRegression",
          "LogisticRegression",
          "LogisticRegression",
          "LogisticRegression",
          "LogisticRegression",
          "LogisticRegression",
          "LogisticRegression",
          "LogisticRegression",
          "LogisticRegression",
          "LogisticRegression",
          "LogisticRegression",
          "LogisticRegression",
          "SVC",
          "SVC",
          "SVC",
          "SVC",
          "SVC",
          "SVC",
          "SVC",
          "SVC",
          "SVC",
          "SVC",
          "SVC",
          "SVC",
          "SVC",
          "SVC",
          "SVC",
          "SVC",
          "SVC",
          "SVC",
          "SVC",
          "SVC",
          "RandomForestClassifier",
          "RandomForestClassifier",
          "RandomForestClassifier",
          "RandomForestClassifier",
          "RandomForestClassifier",
          "RandomForestClassifier",
          "RandomForestClassifier",
          "RandomForestClassifier",
          "RandomForestClassifier",
          "RandomForestClassifier",
          "RandomForestClassifier",
          "RandomForestClassifier",
          "RandomForestClassifier",
          "RandomForestClassifier",
          "RandomForestClassifier",
          "RandomForestClassifier",
          "RandomForestClassifier",
          "RandomForestClassifier",
          "RandomForestClassifier",
          "RandomForestClassifier",
          "GradientBoostingClassifier",
          "GradientBoostingClassifier",
          "GradientBoostingClassifier",
          "GradientBoostingClassifier",
          "GradientBoostingClassifier",
          "GradientBoostingClassifier",
          "GradientBoostingClassifier",
          "GradientBoostingClassifier",
          "GradientBoostingClassifier",
          "GradientBoostingClassifier",
          "GradientBoostingClassifier",
          "GradientBoostingClassifier",
          "GradientBoostingClassifier",
          "GradientBoostingClassifier",
          "GradientBoostingClassifier",
          "GradientBoostingClassifier",
          "GradientBoostingClassifier",
          "GradientBoostingClassifier",
          "GradientBoostingClassifier",
          "GradientBoostingClassifier",
          "DeepNeuralNetwork",
          "DeepNeuralNetwork",
          "DeepNeuralNetwork",
          "DeepNeuralNetwork",
          "DeepNeuralNetwork",
          "DeepNeuralNetwork",
          "DeepNeuralNetwork",
          "DeepNeuralNetwork",
          "DeepNeuralNetwork",
          "DeepNeuralNetwork",
          "DeepNeuralNetwork",
          "DeepNeuralNetwork",
          "DeepNeuralNetwork",
          "DeepNeuralNetwork",
          "DeepNeuralNetwork",
          "DeepNeuralNetwork",
          "DeepNeuralNetwork",
          "DeepNeuralNetwork",
          "DeepNeuralNetwork",
          "DeepNeuralNetwork"
         ],
         "y": [
          0.1236674785614013,
          0.0827789306640625,
          0.0807826519012451,
          0.1196801662445068,
          0.0837752819061279,
          0.0458776950836181,
          0.0678241252899169,
          0.0418903827667236,
          0.1286554336547851,
          0.062833547592163,
          0.0678176879882812,
          0.0767939090728759,
          0.0668220520019531,
          0.0488607883453369,
          0.1406247615814209,
          0.0448811054229736,
          0.112699270248413,
          0.1007299423217773,
          0.1994662284851074,
          0.0398938655853271,
          0.0538570880889892,
          0.0488719940185546,
          0.1406254768371582,
          0.1874961853027343,
          0.0378968715667724,
          0.0349056720733642,
          0.1027257442474365,
          0.0478715896606445,
          0.0339777469635009,
          0.1874976158142089,
          0.0817837715148925,
          0.1170299053192138,
          0.1336414813995361,
          0.1246645450592041,
          0.1196804046630859,
          0.0329120159149169,
          0.0668220520019531,
          0.1386303901672363,
          0.119675874710083,
          0.03387451171875,
          0.1645572185516357,
          0.0458779335021972,
          0.0365428924560546,
          0.0329079627990722,
          0.0757968425750732,
          0.0588438510894775,
          0.0299203395843505,
          0.1226708889007568,
          0.0458784103393554,
          0.1107017993927002,
          0.0727984905242919,
          0.0339114665985107,
          0.0558514595031738,
          0.0578463077545166,
          0.1176888942718505,
          0.161567211151123,
          0.0538532733917236,
          0.0289230346679687,
          0.0877690315246582,
          0.1535885334014892,
          0.0728054046630859,
          0.088761568069458,
          0.1136946678161621,
          0.0847740173339843,
          0.0369017124176025,
          0.1466085910797119,
          0.0339052677154541,
          0.0518631935119628,
          0.0518610477447509,
          0.1366360187530517,
          0.1346409320831298,
          0.0738036632537841,
          0.0648274421691894,
          0.0568470954895019,
          0.0877635478973388,
          0.0837764739990234,
          0.0847728252410888,
          0.0438838005065918,
          0.0408897399902343,
          0.1406252384185791,
          0.1037235260009765,
          0.0354278087615966,
          0.077791690826416,
          0.0359025001525878,
          0.0668210983276367,
          0.0708112716674804,
          0.0309197902679443,
          0.0299210548400878,
          0.0378971099853515,
          0.0291874408721923,
          0.0418894290924072,
          0.0350947380065918,
          0.0312323570251464,
          0.0777842998504638,
          0.0331120491027832,
          0.0360734462738037,
          0.0288257598876953,
          0.0438835620880126,
          0.0315933227539062,
          0.0304188728332519
         ]
        },
        {
         "name": "SS",
         "type": "box",
         "x": [
          "LogisticRegression",
          "LogisticRegression",
          "LogisticRegression",
          "LogisticRegression",
          "LogisticRegression",
          "LogisticRegression",
          "LogisticRegression",
          "LogisticRegression",
          "LogisticRegression",
          "LogisticRegression",
          "LogisticRegression",
          "LogisticRegression",
          "LogisticRegression",
          "LogisticRegression",
          "LogisticRegression",
          "LogisticRegression",
          "LogisticRegression",
          "LogisticRegression",
          "LogisticRegression",
          "LogisticRegression",
          "SVC",
          "SVC",
          "SVC",
          "SVC",
          "SVC",
          "SVC",
          "SVC",
          "SVC",
          "SVC",
          "SVC",
          "SVC",
          "SVC",
          "SVC",
          "SVC",
          "SVC",
          "SVC",
          "SVC",
          "SVC",
          "SVC",
          "SVC",
          "RandomForestClassifier",
          "RandomForestClassifier",
          "RandomForestClassifier",
          "RandomForestClassifier",
          "RandomForestClassifier",
          "RandomForestClassifier",
          "RandomForestClassifier",
          "RandomForestClassifier",
          "RandomForestClassifier",
          "RandomForestClassifier",
          "RandomForestClassifier",
          "RandomForestClassifier",
          "RandomForestClassifier",
          "RandomForestClassifier",
          "RandomForestClassifier",
          "RandomForestClassifier",
          "RandomForestClassifier",
          "RandomForestClassifier",
          "RandomForestClassifier",
          "RandomForestClassifier",
          "GradientBoostingClassifier",
          "GradientBoostingClassifier",
          "GradientBoostingClassifier",
          "GradientBoostingClassifier",
          "GradientBoostingClassifier",
          "GradientBoostingClassifier",
          "GradientBoostingClassifier",
          "GradientBoostingClassifier",
          "GradientBoostingClassifier",
          "GradientBoostingClassifier",
          "GradientBoostingClassifier",
          "GradientBoostingClassifier",
          "GradientBoostingClassifier",
          "GradientBoostingClassifier",
          "GradientBoostingClassifier",
          "GradientBoostingClassifier",
          "GradientBoostingClassifier",
          "GradientBoostingClassifier",
          "GradientBoostingClassifier",
          "GradientBoostingClassifier",
          "DeepNeuralNetwork",
          "DeepNeuralNetwork",
          "DeepNeuralNetwork",
          "DeepNeuralNetwork",
          "DeepNeuralNetwork",
          "DeepNeuralNetwork",
          "DeepNeuralNetwork",
          "DeepNeuralNetwork",
          "DeepNeuralNetwork",
          "DeepNeuralNetwork",
          "DeepNeuralNetwork",
          "DeepNeuralNetwork",
          "DeepNeuralNetwork",
          "DeepNeuralNetwork",
          "DeepNeuralNetwork",
          "DeepNeuralNetwork",
          "DeepNeuralNetwork",
          "DeepNeuralNetwork",
          "DeepNeuralNetwork",
          "DeepNeuralNetwork"
         ],
         "y": [
          0.1266622543334961,
          0.1166882514953613,
          0.1476044654846191,
          0.1575779914855957,
          0.0837757587432861,
          0.134641408920288,
          0.2074453830718994,
          0.0748007297515869,
          0.1396269798278808,
          0.0837810039520263,
          0.0777909755706787,
          0.077791690826416,
          0.1256628036499023,
          0.1286587715148925,
          0.1515946388244629,
          0.1286568641662597,
          0.0977394580841064,
          0.1276643276214599,
          0.1725392341613769,
          0.1426177024841308,
          0.09773850440979,
          0.096743106842041,
          0.1296536922454834,
          0.1057167053222656,
          0.0698223114013671,
          0.0887613296508789,
          0.1705436706542968,
          0.0917549133300781,
          0.0957436561584472,
          0.086768627166748,
          0.1117024421691894,
          0.1466071605682373,
          0.0867671966552734,
          0.0837748050689697,
          0.1256637573242187,
          0.1755192279815673,
          0.0827784538269043,
          0.1166880130767822,
          0.097740888595581,
          0.1725382804870605,
          0.1107006072998046,
          0.0927517414093017,
          0.0488748550415039,
          0.048863410949707,
          0.0751922130584716,
          0.0508642196655273,
          0.0638291835784912,
          0.0867764949798584,
          0.1027264595031738,
          0.0777928829193115,
          0.0867671966552734,
          0.0638265609741211,
          0.1306500434875488,
          0.1047203540802002,
          0.0847699642181396,
          0.0648300647735595,
          0.0688083171844482,
          0.0957436561584472,
          0.1017286777496337,
          0.0767946243286132,
          0.0867717266082763,
          0.0738046169281005,
          0.1276581287384033,
          0.1695446968078613,
          0.1476054191589355,
          0.0777924060821533,
          0.1894943714141845,
          0.1486029624938964,
          0.0747997760772705,
          0.078787088394165,
          0.092752456665039,
          0.186500072479248,
          0.1585752964019775,
          0.1136949062347412,
          0.0817809104919433,
          0.0598475933074951,
          0.1605703830718994,
          0.1296536922454834,
          0.1027243137359619,
          0.1107046604156494,
          0.1396245956420898,
          0.0728034973144531,
          0.0967395305633544,
          0.1017293930053711,
          0.0415337085723876,
          0.1126995086669921,
          0.1226730346679687,
          0.0450239181518554,
          0.0957362651824951,
          0.0426797866821289,
          0.0907559394836425,
          0.0498690605163574,
          0.0498621463775634,
          0.042374849319458,
          0.0431451797485351,
          0.0528614521026611,
          0.0477843284606933,
          0.1202728748321533,
          0.1186838150024414,
          0.0986855030059814
         ]
        },
        {
         "name": "SS & FR",
         "type": "box",
         "x": [
          "LogisticRegression",
          "LogisticRegression",
          "LogisticRegression",
          "LogisticRegression",
          "LogisticRegression",
          "LogisticRegression",
          "LogisticRegression",
          "LogisticRegression",
          "LogisticRegression",
          "LogisticRegression",
          "LogisticRegression",
          "LogisticRegression",
          "LogisticRegression",
          "LogisticRegression",
          "LogisticRegression",
          "LogisticRegression",
          "LogisticRegression",
          "LogisticRegression",
          "LogisticRegression",
          "LogisticRegression",
          "SVC",
          "SVC",
          "SVC",
          "SVC",
          "SVC",
          "SVC",
          "SVC",
          "SVC",
          "SVC",
          "SVC",
          "SVC",
          "SVC",
          "SVC",
          "SVC",
          "SVC",
          "SVC",
          "SVC",
          "SVC",
          "SVC",
          "SVC",
          "RandomForestClassifier",
          "RandomForestClassifier",
          "RandomForestClassifier",
          "RandomForestClassifier",
          "RandomForestClassifier",
          "RandomForestClassifier",
          "RandomForestClassifier",
          "RandomForestClassifier",
          "RandomForestClassifier",
          "RandomForestClassifier",
          "RandomForestClassifier",
          "RandomForestClassifier",
          "RandomForestClassifier",
          "RandomForestClassifier",
          "RandomForestClassifier",
          "RandomForestClassifier",
          "RandomForestClassifier",
          "RandomForestClassifier",
          "RandomForestClassifier",
          "RandomForestClassifier",
          "GradientBoostingClassifier",
          "GradientBoostingClassifier",
          "GradientBoostingClassifier",
          "GradientBoostingClassifier",
          "GradientBoostingClassifier",
          "GradientBoostingClassifier",
          "GradientBoostingClassifier",
          "GradientBoostingClassifier",
          "GradientBoostingClassifier",
          "GradientBoostingClassifier",
          "GradientBoostingClassifier",
          "GradientBoostingClassifier",
          "GradientBoostingClassifier",
          "GradientBoostingClassifier",
          "GradientBoostingClassifier",
          "GradientBoostingClassifier",
          "GradientBoostingClassifier",
          "GradientBoostingClassifier",
          "GradientBoostingClassifier",
          "GradientBoostingClassifier",
          "DeepNeuralNetwork",
          "DeepNeuralNetwork",
          "DeepNeuralNetwork",
          "DeepNeuralNetwork",
          "DeepNeuralNetwork",
          "DeepNeuralNetwork",
          "DeepNeuralNetwork",
          "DeepNeuralNetwork",
          "DeepNeuralNetwork",
          "DeepNeuralNetwork",
          "DeepNeuralNetwork",
          "DeepNeuralNetwork",
          "DeepNeuralNetwork",
          "DeepNeuralNetwork",
          "DeepNeuralNetwork",
          "DeepNeuralNetwork",
          "DeepNeuralNetwork",
          "DeepNeuralNetwork",
          "DeepNeuralNetwork",
          "DeepNeuralNetwork"
         ],
         "y": [
          0.3051846027374267,
          0.2593083381652832,
          0.2453434467315673,
          0.2084419727325439,
          0.2204115390777588,
          0.124669075012207,
          0.1715419292449951,
          0.2024595737457275,
          0.2114429473876953,
          0.0827791690826416,
          0.2373673915863037,
          0.1037232875823974,
          0.201456069946289,
          0.1964733600616455,
          0.2433581352233886,
          0.1176855564117431,
          0.1136913299560546,
          0.1107053756713867,
          0.1934828758239746,
          0.1286554336547851,
          0.1495990753173828,
          0.0757992267608642,
          0.1486032009124755,
          0.1366348266601562,
          0.1156835556030273,
          0.0927512645721435,
          0.1984689235687255,
          0.1037225723266601,
          0.1456120014190673,
          0.1635637283325195,
          0.2313802242279052,
          0.1665527820587158,
          0.2912182807922363,
          0.1655580997467041,
          0.2004632949829101,
          0.1246664524078369,
          0.1136963367462158,
          0.1665537357330322,
          0.149599552154541,
          0.0897598266601562,
          0.0957388877868652,
          0.1176836490631103,
          0.1136922836303711,
          0.1196796894073486,
          0.0957381725311279,
          0.1087093353271484,
          0.1156914234161377,
          0.1087093353271484,
          0.0947475433349609,
          0.0568492412567138,
          0.110703706741333,
          0.0817806720733642,
          0.1087090969085693,
          0.1057174205780029,
          0.1276583671569824,
          0.0648257732391357,
          0.1077139377593994,
          0.073801040649414,
          0.0738012790679931,
          0.1005299091339111,
          0.1336429119110107,
          0.1226694583892822,
          0.2054510116577148,
          0.1077125072479248,
          0.100731611251831,
          0.1765286922454834,
          0.1296536922454834,
          0.1416201591491699,
          0.0857701301574707,
          0.1276569366455078,
          0.2124309539794922,
          0.1914916038513183,
          0.1236748695373535,
          0.2004640102386474,
          0.1825153827667236,
          0.0668210983276367,
          0.1376352310180664,
          0.1785230636596679,
          0.1695466041564941,
          0.1505990028381347,
          0.1007306575775146,
          0.0578749179840087,
          0.0533003807067871,
          0.1276588439941406,
          0.0502476692199707,
          0.0646052360534668,
          0.1136834621429443,
          0.1326456069946289,
          0.0807843208312988,
          0.1595733165740966,
          0.0638270378112793,
          0.0548131465911865,
          0.0730311870574951,
          0.0571784973144531,
          0.0507364273071289,
          0.1605777740478515,
          0.1118693351745605,
          0.0769362449645996,
          0.1685495376586914,
          0.0538592338562011
         ]
        }
       ],
       "layout": {
        "boxmode": "group",
        "template": {
         "data": {
          "bar": [
           {
            "error_x": {
             "color": "#2a3f5f"
            },
            "error_y": {
             "color": "#2a3f5f"
            },
            "marker": {
             "line": {
              "color": "#E5ECF6",
              "width": 0.5
             },
             "pattern": {
              "fillmode": "overlay",
              "size": 10,
              "solidity": 0.2
             }
            },
            "type": "bar"
           }
          ],
          "barpolar": [
           {
            "marker": {
             "line": {
              "color": "#E5ECF6",
              "width": 0.5
             },
             "pattern": {
              "fillmode": "overlay",
              "size": 10,
              "solidity": 0.2
             }
            },
            "type": "barpolar"
           }
          ],
          "carpet": [
           {
            "aaxis": {
             "endlinecolor": "#2a3f5f",
             "gridcolor": "white",
             "linecolor": "white",
             "minorgridcolor": "white",
             "startlinecolor": "#2a3f5f"
            },
            "baxis": {
             "endlinecolor": "#2a3f5f",
             "gridcolor": "white",
             "linecolor": "white",
             "minorgridcolor": "white",
             "startlinecolor": "#2a3f5f"
            },
            "type": "carpet"
           }
          ],
          "choropleth": [
           {
            "colorbar": {
             "outlinewidth": 0,
             "ticks": ""
            },
            "type": "choropleth"
           }
          ],
          "contour": [
           {
            "colorbar": {
             "outlinewidth": 0,
             "ticks": ""
            },
            "colorscale": [
             [
              0,
              "#0d0887"
             ],
             [
              0.1111111111111111,
              "#46039f"
             ],
             [
              0.2222222222222222,
              "#7201a8"
             ],
             [
              0.3333333333333333,
              "#9c179e"
             ],
             [
              0.4444444444444444,
              "#bd3786"
             ],
             [
              0.5555555555555556,
              "#d8576b"
             ],
             [
              0.6666666666666666,
              "#ed7953"
             ],
             [
              0.7777777777777778,
              "#fb9f3a"
             ],
             [
              0.8888888888888888,
              "#fdca26"
             ],
             [
              1,
              "#f0f921"
             ]
            ],
            "type": "contour"
           }
          ],
          "contourcarpet": [
           {
            "colorbar": {
             "outlinewidth": 0,
             "ticks": ""
            },
            "type": "contourcarpet"
           }
          ],
          "heatmap": [
           {
            "colorbar": {
             "outlinewidth": 0,
             "ticks": ""
            },
            "colorscale": [
             [
              0,
              "#0d0887"
             ],
             [
              0.1111111111111111,
              "#46039f"
             ],
             [
              0.2222222222222222,
              "#7201a8"
             ],
             [
              0.3333333333333333,
              "#9c179e"
             ],
             [
              0.4444444444444444,
              "#bd3786"
             ],
             [
              0.5555555555555556,
              "#d8576b"
             ],
             [
              0.6666666666666666,
              "#ed7953"
             ],
             [
              0.7777777777777778,
              "#fb9f3a"
             ],
             [
              0.8888888888888888,
              "#fdca26"
             ],
             [
              1,
              "#f0f921"
             ]
            ],
            "type": "heatmap"
           }
          ],
          "heatmapgl": [
           {
            "colorbar": {
             "outlinewidth": 0,
             "ticks": ""
            },
            "colorscale": [
             [
              0,
              "#0d0887"
             ],
             [
              0.1111111111111111,
              "#46039f"
             ],
             [
              0.2222222222222222,
              "#7201a8"
             ],
             [
              0.3333333333333333,
              "#9c179e"
             ],
             [
              0.4444444444444444,
              "#bd3786"
             ],
             [
              0.5555555555555556,
              "#d8576b"
             ],
             [
              0.6666666666666666,
              "#ed7953"
             ],
             [
              0.7777777777777778,
              "#fb9f3a"
             ],
             [
              0.8888888888888888,
              "#fdca26"
             ],
             [
              1,
              "#f0f921"
             ]
            ],
            "type": "heatmapgl"
           }
          ],
          "histogram": [
           {
            "marker": {
             "pattern": {
              "fillmode": "overlay",
              "size": 10,
              "solidity": 0.2
             }
            },
            "type": "histogram"
           }
          ],
          "histogram2d": [
           {
            "colorbar": {
             "outlinewidth": 0,
             "ticks": ""
            },
            "colorscale": [
             [
              0,
              "#0d0887"
             ],
             [
              0.1111111111111111,
              "#46039f"
             ],
             [
              0.2222222222222222,
              "#7201a8"
             ],
             [
              0.3333333333333333,
              "#9c179e"
             ],
             [
              0.4444444444444444,
              "#bd3786"
             ],
             [
              0.5555555555555556,
              "#d8576b"
             ],
             [
              0.6666666666666666,
              "#ed7953"
             ],
             [
              0.7777777777777778,
              "#fb9f3a"
             ],
             [
              0.8888888888888888,
              "#fdca26"
             ],
             [
              1,
              "#f0f921"
             ]
            ],
            "type": "histogram2d"
           }
          ],
          "histogram2dcontour": [
           {
            "colorbar": {
             "outlinewidth": 0,
             "ticks": ""
            },
            "colorscale": [
             [
              0,
              "#0d0887"
             ],
             [
              0.1111111111111111,
              "#46039f"
             ],
             [
              0.2222222222222222,
              "#7201a8"
             ],
             [
              0.3333333333333333,
              "#9c179e"
             ],
             [
              0.4444444444444444,
              "#bd3786"
             ],
             [
              0.5555555555555556,
              "#d8576b"
             ],
             [
              0.6666666666666666,
              "#ed7953"
             ],
             [
              0.7777777777777778,
              "#fb9f3a"
             ],
             [
              0.8888888888888888,
              "#fdca26"
             ],
             [
              1,
              "#f0f921"
             ]
            ],
            "type": "histogram2dcontour"
           }
          ],
          "mesh3d": [
           {
            "colorbar": {
             "outlinewidth": 0,
             "ticks": ""
            },
            "type": "mesh3d"
           }
          ],
          "parcoords": [
           {
            "line": {
             "colorbar": {
              "outlinewidth": 0,
              "ticks": ""
             }
            },
            "type": "parcoords"
           }
          ],
          "pie": [
           {
            "automargin": true,
            "type": "pie"
           }
          ],
          "scatter": [
           {
            "fillpattern": {
             "fillmode": "overlay",
             "size": 10,
             "solidity": 0.2
            },
            "type": "scatter"
           }
          ],
          "scatter3d": [
           {
            "line": {
             "colorbar": {
              "outlinewidth": 0,
              "ticks": ""
             }
            },
            "marker": {
             "colorbar": {
              "outlinewidth": 0,
              "ticks": ""
             }
            },
            "type": "scatter3d"
           }
          ],
          "scattercarpet": [
           {
            "marker": {
             "colorbar": {
              "outlinewidth": 0,
              "ticks": ""
             }
            },
            "type": "scattercarpet"
           }
          ],
          "scattergeo": [
           {
            "marker": {
             "colorbar": {
              "outlinewidth": 0,
              "ticks": ""
             }
            },
            "type": "scattergeo"
           }
          ],
          "scattergl": [
           {
            "marker": {
             "colorbar": {
              "outlinewidth": 0,
              "ticks": ""
             }
            },
            "type": "scattergl"
           }
          ],
          "scattermapbox": [
           {
            "marker": {
             "colorbar": {
              "outlinewidth": 0,
              "ticks": ""
             }
            },
            "type": "scattermapbox"
           }
          ],
          "scatterpolar": [
           {
            "marker": {
             "colorbar": {
              "outlinewidth": 0,
              "ticks": ""
             }
            },
            "type": "scatterpolar"
           }
          ],
          "scatterpolargl": [
           {
            "marker": {
             "colorbar": {
              "outlinewidth": 0,
              "ticks": ""
             }
            },
            "type": "scatterpolargl"
           }
          ],
          "scatterternary": [
           {
            "marker": {
             "colorbar": {
              "outlinewidth": 0,
              "ticks": ""
             }
            },
            "type": "scatterternary"
           }
          ],
          "surface": [
           {
            "colorbar": {
             "outlinewidth": 0,
             "ticks": ""
            },
            "colorscale": [
             [
              0,
              "#0d0887"
             ],
             [
              0.1111111111111111,
              "#46039f"
             ],
             [
              0.2222222222222222,
              "#7201a8"
             ],
             [
              0.3333333333333333,
              "#9c179e"
             ],
             [
              0.4444444444444444,
              "#bd3786"
             ],
             [
              0.5555555555555556,
              "#d8576b"
             ],
             [
              0.6666666666666666,
              "#ed7953"
             ],
             [
              0.7777777777777778,
              "#fb9f3a"
             ],
             [
              0.8888888888888888,
              "#fdca26"
             ],
             [
              1,
              "#f0f921"
             ]
            ],
            "type": "surface"
           }
          ],
          "table": [
           {
            "cells": {
             "fill": {
              "color": "#EBF0F8"
             },
             "line": {
              "color": "white"
             }
            },
            "header": {
             "fill": {
              "color": "#C8D4E3"
             },
             "line": {
              "color": "white"
             }
            },
            "type": "table"
           }
          ]
         },
         "layout": {
          "annotationdefaults": {
           "arrowcolor": "#2a3f5f",
           "arrowhead": 0,
           "arrowwidth": 1
          },
          "autotypenumbers": "strict",
          "coloraxis": {
           "colorbar": {
            "outlinewidth": 0,
            "ticks": ""
           }
          },
          "colorscale": {
           "diverging": [
            [
             0,
             "#8e0152"
            ],
            [
             0.1,
             "#c51b7d"
            ],
            [
             0.2,
             "#de77ae"
            ],
            [
             0.3,
             "#f1b6da"
            ],
            [
             0.4,
             "#fde0ef"
            ],
            [
             0.5,
             "#f7f7f7"
            ],
            [
             0.6,
             "#e6f5d0"
            ],
            [
             0.7,
             "#b8e186"
            ],
            [
             0.8,
             "#7fbc41"
            ],
            [
             0.9,
             "#4d9221"
            ],
            [
             1,
             "#276419"
            ]
           ],
           "sequential": [
            [
             0,
             "#0d0887"
            ],
            [
             0.1111111111111111,
             "#46039f"
            ],
            [
             0.2222222222222222,
             "#7201a8"
            ],
            [
             0.3333333333333333,
             "#9c179e"
            ],
            [
             0.4444444444444444,
             "#bd3786"
            ],
            [
             0.5555555555555556,
             "#d8576b"
            ],
            [
             0.6666666666666666,
             "#ed7953"
            ],
            [
             0.7777777777777778,
             "#fb9f3a"
            ],
            [
             0.8888888888888888,
             "#fdca26"
            ],
            [
             1,
             "#f0f921"
            ]
           ],
           "sequentialminus": [
            [
             0,
             "#0d0887"
            ],
            [
             0.1111111111111111,
             "#46039f"
            ],
            [
             0.2222222222222222,
             "#7201a8"
            ],
            [
             0.3333333333333333,
             "#9c179e"
            ],
            [
             0.4444444444444444,
             "#bd3786"
            ],
            [
             0.5555555555555556,
             "#d8576b"
            ],
            [
             0.6666666666666666,
             "#ed7953"
            ],
            [
             0.7777777777777778,
             "#fb9f3a"
            ],
            [
             0.8888888888888888,
             "#fdca26"
            ],
            [
             1,
             "#f0f921"
            ]
           ]
          },
          "colorway": [
           "#636efa",
           "#EF553B",
           "#00cc96",
           "#ab63fa",
           "#FFA15A",
           "#19d3f3",
           "#FF6692",
           "#B6E880",
           "#FF97FF",
           "#FECB52"
          ],
          "font": {
           "color": "#2a3f5f"
          },
          "geo": {
           "bgcolor": "white",
           "lakecolor": "white",
           "landcolor": "#E5ECF6",
           "showlakes": true,
           "showland": true,
           "subunitcolor": "white"
          },
          "hoverlabel": {
           "align": "left"
          },
          "hovermode": "closest",
          "mapbox": {
           "style": "light"
          },
          "paper_bgcolor": "white",
          "plot_bgcolor": "#E5ECF6",
          "polar": {
           "angularaxis": {
            "gridcolor": "white",
            "linecolor": "white",
            "ticks": ""
           },
           "bgcolor": "#E5ECF6",
           "radialaxis": {
            "gridcolor": "white",
            "linecolor": "white",
            "ticks": ""
           }
          },
          "scene": {
           "xaxis": {
            "backgroundcolor": "#E5ECF6",
            "gridcolor": "white",
            "gridwidth": 2,
            "linecolor": "white",
            "showbackground": true,
            "ticks": "",
            "zerolinecolor": "white"
           },
           "yaxis": {
            "backgroundcolor": "#E5ECF6",
            "gridcolor": "white",
            "gridwidth": 2,
            "linecolor": "white",
            "showbackground": true,
            "ticks": "",
            "zerolinecolor": "white"
           },
           "zaxis": {
            "backgroundcolor": "#E5ECF6",
            "gridcolor": "white",
            "gridwidth": 2,
            "linecolor": "white",
            "showbackground": true,
            "ticks": "",
            "zerolinecolor": "white"
           }
          },
          "shapedefaults": {
           "line": {
            "color": "#2a3f5f"
           }
          },
          "ternary": {
           "aaxis": {
            "gridcolor": "white",
            "linecolor": "white",
            "ticks": ""
           },
           "baxis": {
            "gridcolor": "white",
            "linecolor": "white",
            "ticks": ""
           },
           "bgcolor": "#E5ECF6",
           "caxis": {
            "gridcolor": "white",
            "linecolor": "white",
            "ticks": ""
           }
          },
          "title": {
           "x": 0.05
          },
          "xaxis": {
           "automargin": true,
           "gridcolor": "white",
           "linecolor": "white",
           "ticks": "",
           "title": {
            "standoff": 15
           },
           "zerolinecolor": "white",
           "zerolinewidth": 2
          },
          "yaxis": {
           "automargin": true,
           "gridcolor": "white",
           "linecolor": "white",
           "ticks": "",
           "title": {
            "standoff": 15
           },
           "zerolinecolor": "white",
           "zerolinewidth": 2
          }
         }
        },
        "title": {
         "text": "preprocess_time"
        },
        "yaxis": {
         "title": {
          "text": "preprocess_time"
         }
        }
       }
      }
     },
     "metadata": {},
     "output_type": "display_data"
    },
    {
     "data": {
      "application/vnd.plotly.v1+json": {
       "config": {
        "plotlyServerURL": "https://plot.ly"
       },
       "data": [
        {
         "name": "Full",
         "type": "box",
         "x": [
          "LogisticRegression",
          "LogisticRegression",
          "LogisticRegression",
          "LogisticRegression",
          "LogisticRegression",
          "LogisticRegression",
          "LogisticRegression",
          "LogisticRegression",
          "LogisticRegression",
          "LogisticRegression",
          "LogisticRegression",
          "LogisticRegression",
          "LogisticRegression",
          "LogisticRegression",
          "LogisticRegression",
          "LogisticRegression",
          "LogisticRegression",
          "LogisticRegression",
          "LogisticRegression",
          "LogisticRegression",
          "SVC",
          "SVC",
          "SVC",
          "SVC",
          "SVC",
          "SVC",
          "SVC",
          "SVC",
          "SVC",
          "SVC",
          "SVC",
          "SVC",
          "SVC",
          "SVC",
          "SVC",
          "SVC",
          "SVC",
          "SVC",
          "SVC",
          "SVC",
          "RandomForestClassifier",
          "RandomForestClassifier",
          "RandomForestClassifier",
          "RandomForestClassifier",
          "RandomForestClassifier",
          "RandomForestClassifier",
          "RandomForestClassifier",
          "RandomForestClassifier",
          "RandomForestClassifier",
          "RandomForestClassifier",
          "RandomForestClassifier",
          "RandomForestClassifier",
          "RandomForestClassifier",
          "RandomForestClassifier",
          "RandomForestClassifier",
          "RandomForestClassifier",
          "RandomForestClassifier",
          "RandomForestClassifier",
          "RandomForestClassifier",
          "RandomForestClassifier",
          "GradientBoostingClassifier",
          "GradientBoostingClassifier",
          "GradientBoostingClassifier",
          "GradientBoostingClassifier",
          "GradientBoostingClassifier",
          "GradientBoostingClassifier",
          "GradientBoostingClassifier",
          "GradientBoostingClassifier",
          "GradientBoostingClassifier",
          "GradientBoostingClassifier",
          "GradientBoostingClassifier",
          "GradientBoostingClassifier",
          "GradientBoostingClassifier",
          "GradientBoostingClassifier",
          "GradientBoostingClassifier",
          "GradientBoostingClassifier",
          "GradientBoostingClassifier",
          "GradientBoostingClassifier",
          "GradientBoostingClassifier",
          "GradientBoostingClassifier",
          "DeepNeuralNetwork",
          "DeepNeuralNetwork",
          "DeepNeuralNetwork",
          "DeepNeuralNetwork",
          "DeepNeuralNetwork",
          "DeepNeuralNetwork",
          "DeepNeuralNetwork",
          "DeepNeuralNetwork",
          "DeepNeuralNetwork",
          "DeepNeuralNetwork",
          "DeepNeuralNetwork",
          "DeepNeuralNetwork",
          "DeepNeuralNetwork",
          "DeepNeuralNetwork",
          "DeepNeuralNetwork",
          "DeepNeuralNetwork",
          "DeepNeuralNetwork",
          "DeepNeuralNetwork",
          "DeepNeuralNetwork",
          "DeepNeuralNetwork"
         ],
         "y": [
          0.1196796894073486,
          0.1964743137359619,
          0.1156914234161377,
          0.1057164669036865,
          0.1795198917388916,
          0.0857701301574707,
          0.1156911849975586,
          0.0757977962493896,
          0.1146929264068603,
          0.1126980781555175,
          0.1117017269134521,
          0.1196796894073486,
          0.1136960983276367,
          0.0718076229095459,
          0.1545865535736084,
          0.1107044219970703,
          0.0797891616821289,
          0.0967416763305664,
          0.0837769508361816,
          0.1107041835784912,
          0.7360291481018066,
          0.7659525871276855,
          0.6442756652832031,
          0.7110962867736816,
          0.5804474353790283,
          0.6462717056274414,
          0.6223342418670654,
          0.6871745586395264,
          0.7051153182983398,
          0.5704753398895264,
          0.726057767868042,
          0.6532533168792725,
          0.7679443359375,
          0.6991310119628906,
          0.6532554626464844,
          0.6413085460662842,
          0.8198075294494629,
          0.6682155132293701,
          0.7430131435394287,
          0.7110986709594727,
          1.7263832092285156,
          1.530907154083252,
          1.6645431518554688,
          1.5917410850524902,
          1.567805290222168,
          1.923853635787964,
          1.759293794631958,
          1.8739879131317136,
          1.682499885559082,
          1.6785120964050293,
          1.8051731586456297,
          1.6685349941253662,
          1.7203989028930664,
          1.721395492553711,
          1.6096925735473633,
          1.656569004058838,
          1.8151459693908687,
          2.094697952270508,
          1.8121509552001955,
          2.027575731277466,
          1.6585638523101809,
          1.6126859188079834,
          1.7253844738006592,
          1.5707976818084717,
          1.735623836517334,
          1.6535801887512207,
          1.580773115158081,
          1.6745202541351318,
          1.5378899574279783,
          1.6386175155639648,
          1.7174072265625,
          1.7423396110534668,
          1.890939474105835,
          1.6575627326965332,
          1.6306376457214355,
          1.8251194953918457,
          1.6785120964050293,
          1.6446006298065186,
          1.8011822700500488,
          1.6376197338104248,
          5.221206426620483,
          3.861088752746582,
          2.820124626159668,
          8.027528285980225,
          7.471013784408569,
          5.055477619171143,
          4.150896310806274,
          3.0536558628082275,
          2.8713064193725586,
          3.028106689453125,
          3.1006088256835938,
          2.9347872734069824,
          2.848864316940308,
          3.098670959472656,
          3.381091833114624,
          3.914900779724121,
          4.464525461196899,
          3.818786144256592,
          3.142738342285156,
          3.5371124744415283
         ]
        },
        {
         "name": "FR",
         "type": "box",
         "x": [
          "LogisticRegression",
          "LogisticRegression",
          "LogisticRegression",
          "LogisticRegression",
          "LogisticRegression",
          "LogisticRegression",
          "LogisticRegression",
          "LogisticRegression",
          "LogisticRegression",
          "LogisticRegression",
          "LogisticRegression",
          "LogisticRegression",
          "LogisticRegression",
          "LogisticRegression",
          "LogisticRegression",
          "LogisticRegression",
          "LogisticRegression",
          "LogisticRegression",
          "LogisticRegression",
          "LogisticRegression",
          "SVC",
          "SVC",
          "SVC",
          "SVC",
          "SVC",
          "SVC",
          "SVC",
          "SVC",
          "SVC",
          "SVC",
          "SVC",
          "SVC",
          "SVC",
          "SVC",
          "SVC",
          "SVC",
          "SVC",
          "SVC",
          "SVC",
          "SVC",
          "RandomForestClassifier",
          "RandomForestClassifier",
          "RandomForestClassifier",
          "RandomForestClassifier",
          "RandomForestClassifier",
          "RandomForestClassifier",
          "RandomForestClassifier",
          "RandomForestClassifier",
          "RandomForestClassifier",
          "RandomForestClassifier",
          "RandomForestClassifier",
          "RandomForestClassifier",
          "RandomForestClassifier",
          "RandomForestClassifier",
          "RandomForestClassifier",
          "RandomForestClassifier",
          "RandomForestClassifier",
          "RandomForestClassifier",
          "RandomForestClassifier",
          "RandomForestClassifier",
          "GradientBoostingClassifier",
          "GradientBoostingClassifier",
          "GradientBoostingClassifier",
          "GradientBoostingClassifier",
          "GradientBoostingClassifier",
          "GradientBoostingClassifier",
          "GradientBoostingClassifier",
          "GradientBoostingClassifier",
          "GradientBoostingClassifier",
          "GradientBoostingClassifier",
          "GradientBoostingClassifier",
          "GradientBoostingClassifier",
          "GradientBoostingClassifier",
          "GradientBoostingClassifier",
          "GradientBoostingClassifier",
          "GradientBoostingClassifier",
          "GradientBoostingClassifier",
          "GradientBoostingClassifier",
          "GradientBoostingClassifier",
          "GradientBoostingClassifier",
          "DeepNeuralNetwork",
          "DeepNeuralNetwork",
          "DeepNeuralNetwork",
          "DeepNeuralNetwork",
          "DeepNeuralNetwork",
          "DeepNeuralNetwork",
          "DeepNeuralNetwork",
          "DeepNeuralNetwork",
          "DeepNeuralNetwork",
          "DeepNeuralNetwork",
          "DeepNeuralNetwork",
          "DeepNeuralNetwork",
          "DeepNeuralNetwork",
          "DeepNeuralNetwork",
          "DeepNeuralNetwork",
          "DeepNeuralNetwork",
          "DeepNeuralNetwork",
          "DeepNeuralNetwork",
          "DeepNeuralNetwork",
          "DeepNeuralNetwork"
         ],
         "y": [
          0.0568463802337646,
          0.1176834106445312,
          0.029919147491455,
          0.060837984085083,
          0.0428853034973144,
          0.091754674911499,
          0.0708100795745849,
          0.0708107948303222,
          0.0319147109985351,
          0.033909797668457,
          0.0498678684234619,
          0.0448801517486572,
          0.038895845413208,
          0.062835693359375,
          0.0558505058288574,
          0.0877656936645507,
          0.0279257297515869,
          0.0618348121643066,
          0.0348982810974121,
          0.0937488079071044,
          0.6482672691345215,
          0.6382925510406494,
          0.645275354385376,
          0.6043820381164551,
          0.6821746826171875,
          0.9035842418670654,
          0.565488338470459,
          0.7410173416137695,
          0.6981279850006104,
          0.6522483825683594,
          0.538560152053833,
          0.703118085861206,
          0.5146238803863525,
          0.6173496246337891,
          0.6063783168792725,
          0.5784533023834229,
          0.6303122043609619,
          0.6652202606201172,
          0.6113646030426025,
          0.6991317272186279,
          1.493006706237793,
          1.573143482208252,
          1.7523126602172852,
          1.5777802467346191,
          1.527906894683838,
          1.62565279006958,
          1.5997209548950195,
          1.7742547988891602,
          1.5797734260559082,
          1.53090500831604,
          1.878974199295044,
          1.6176714897155762,
          1.757343292236328,
          1.5887494087219238,
          1.689469814300537,
          1.6196670532226562,
          1.656569004058838,
          1.6665430068969729,
          1.6406309604644775,
          1.5438697338104248,
          0.5824425220489502,
          0.8307785987854004,
          0.6153514385223389,
          0.659238338470459,
          0.6981325149536133,
          0.5794496536254883,
          0.677187442779541,
          0.8028547763824463,
          0.6442906856536865,
          0.5836215019226074,
          0.5874288082122803,
          0.6353003978729248,
          0.6382908821105957,
          0.7829365730285645,
          0.7160854339599609,
          0.6372942924499512,
          0.630314826965332,
          0.7220690250396729,
          0.7968695163726807,
          0.5824429988861084,
          3.102910041809082,
          2.8779892921447754,
          3.803824186325073,
          3.9833457469940186,
          4.111003875732422,
          3.828758955001831,
          3.6083476543426514,
          3.837783336639404,
          3.2344653606414795,
          2.5432229042053223,
          2.686431407928467,
          2.7193002700805664,
          2.662830352783203,
          2.797869205474853,
          2.698709726333618,
          2.6390998363494877,
          2.791594982147217,
          2.823101758956909,
          2.7099008560180664,
          2.819211959838867
         ]
        },
        {
         "name": "SS",
         "type": "box",
         "x": [
          "LogisticRegression",
          "LogisticRegression",
          "LogisticRegression",
          "LogisticRegression",
          "LogisticRegression",
          "LogisticRegression",
          "LogisticRegression",
          "LogisticRegression",
          "LogisticRegression",
          "LogisticRegression",
          "LogisticRegression",
          "LogisticRegression",
          "LogisticRegression",
          "LogisticRegression",
          "LogisticRegression",
          "LogisticRegression",
          "LogisticRegression",
          "LogisticRegression",
          "LogisticRegression",
          "LogisticRegression",
          "SVC",
          "SVC",
          "SVC",
          "SVC",
          "SVC",
          "SVC",
          "SVC",
          "SVC",
          "SVC",
          "SVC",
          "SVC",
          "SVC",
          "SVC",
          "SVC",
          "SVC",
          "SVC",
          "SVC",
          "SVC",
          "SVC",
          "SVC",
          "RandomForestClassifier",
          "RandomForestClassifier",
          "RandomForestClassifier",
          "RandomForestClassifier",
          "RandomForestClassifier",
          "RandomForestClassifier",
          "RandomForestClassifier",
          "RandomForestClassifier",
          "RandomForestClassifier",
          "RandomForestClassifier",
          "RandomForestClassifier",
          "RandomForestClassifier",
          "RandomForestClassifier",
          "RandomForestClassifier",
          "RandomForestClassifier",
          "RandomForestClassifier",
          "RandomForestClassifier",
          "RandomForestClassifier",
          "RandomForestClassifier",
          "RandomForestClassifier",
          "GradientBoostingClassifier",
          "GradientBoostingClassifier",
          "GradientBoostingClassifier",
          "GradientBoostingClassifier",
          "GradientBoostingClassifier",
          "GradientBoostingClassifier",
          "GradientBoostingClassifier",
          "GradientBoostingClassifier",
          "GradientBoostingClassifier",
          "GradientBoostingClassifier",
          "GradientBoostingClassifier",
          "GradientBoostingClassifier",
          "GradientBoostingClassifier",
          "GradientBoostingClassifier",
          "GradientBoostingClassifier",
          "GradientBoostingClassifier",
          "GradientBoostingClassifier",
          "GradientBoostingClassifier",
          "GradientBoostingClassifier",
          "GradientBoostingClassifier",
          "DeepNeuralNetwork",
          "DeepNeuralNetwork",
          "DeepNeuralNetwork",
          "DeepNeuralNetwork",
          "DeepNeuralNetwork",
          "DeepNeuralNetwork",
          "DeepNeuralNetwork",
          "DeepNeuralNetwork",
          "DeepNeuralNetwork",
          "DeepNeuralNetwork",
          "DeepNeuralNetwork",
          "DeepNeuralNetwork",
          "DeepNeuralNetwork",
          "DeepNeuralNetwork",
          "DeepNeuralNetwork",
          "DeepNeuralNetwork",
          "DeepNeuralNetwork",
          "DeepNeuralNetwork",
          "DeepNeuralNetwork",
          "DeepNeuralNetwork"
         ],
         "y": [
          0.1575770378112793,
          0.0857698917388916,
          0.0528604984283447,
          0.0827786922454834,
          0.1206774711608886,
          0.0658235549926757,
          0.0718073844909668,
          0.0787899494171142,
          0.0528578758239746,
          0.1206777095794677,
          0.0977404117584228,
          0.0528576374053955,
          0.1206772327423095,
          0.0847730636596679,
          0.084773302078247,
          0.0947475433349609,
          0.0837759971618652,
          0.0708124637603759,
          0.0558550357818603,
          0.0887627601623535,
          0.075796365737915,
          0.0877652168273925,
          0.1186826229095459,
          0.132636547088623,
          0.1994662284851074,
          0.119678258895874,
          0.1166868209838867,
          0.1226720809936523,
          0.1156897544860839,
          0.1436159610748291,
          0.1186821460723877,
          0.0947461128234863,
          0.1825118064880371,
          0.1047203540802002,
          0.0578460693359375,
          0.0628345012664794,
          0.157578706741333,
          0.1007301807403564,
          0.0887629985809326,
          0.0927541255950927,
          0.6432790756225586,
          0.4398243427276611,
          0.5026562213897705,
          0.4926838874816894,
          0.4717381000518799,
          0.4685616493225097,
          0.4996645450592041,
          0.5974056720733643,
          0.413907527923584,
          0.4856996536254883,
          0.4657528400421142,
          0.4946756362915039,
          0.5086386203765869,
          0.6722023487091064,
          0.4338383674621582,
          0.5405552387237549,
          0.4797170162200928,
          0.5365650653839111,
          0.4916858673095703,
          0.7260584831237793,
          0.5754599571228027,
          0.637293815612793,
          0.5674858093261719,
          0.6183445453643799,
          0.6093695163726807,
          0.553518533706665,
          0.5375628471374512,
          0.5575094223022461,
          0.6093721389770508,
          0.7094497680664062,
          0.5654897689819336,
          0.5186121463775635,
          0.5814452171325684,
          0.5106339454650879,
          0.5944085121154785,
          0.7569737434387207,
          0.5525250434875488,
          0.624845027923584,
          0.6303138732910156,
          0.5644919872283936,
          2.394563674926758,
          2.624798536300659,
          2.545933485031128,
          2.3012609481811523,
          2.494988441467285,
          2.597733974456787,
          2.36696457862854,
          2.573538064956665,
          2.6578755378723145,
          3.764051198959351,
          2.6237213611602783,
          2.649256706237793,
          2.3057520389556885,
          2.373158693313598,
          2.5286827087402344,
          2.284384489059448,
          2.4795680046081543,
          2.4903526306152344,
          2.328243494033813,
          2.8575682640075684
         ]
        },
        {
         "name": "SS & FR",
         "type": "box",
         "x": [
          "LogisticRegression",
          "LogisticRegression",
          "LogisticRegression",
          "LogisticRegression",
          "LogisticRegression",
          "LogisticRegression",
          "LogisticRegression",
          "LogisticRegression",
          "LogisticRegression",
          "LogisticRegression",
          "LogisticRegression",
          "LogisticRegression",
          "LogisticRegression",
          "LogisticRegression",
          "LogisticRegression",
          "LogisticRegression",
          "LogisticRegression",
          "LogisticRegression",
          "LogisticRegression",
          "LogisticRegression",
          "SVC",
          "SVC",
          "SVC",
          "SVC",
          "SVC",
          "SVC",
          "SVC",
          "SVC",
          "SVC",
          "SVC",
          "SVC",
          "SVC",
          "SVC",
          "SVC",
          "SVC",
          "SVC",
          "SVC",
          "SVC",
          "SVC",
          "SVC",
          "RandomForestClassifier",
          "RandomForestClassifier",
          "RandomForestClassifier",
          "RandomForestClassifier",
          "RandomForestClassifier",
          "RandomForestClassifier",
          "RandomForestClassifier",
          "RandomForestClassifier",
          "RandomForestClassifier",
          "RandomForestClassifier",
          "RandomForestClassifier",
          "RandomForestClassifier",
          "RandomForestClassifier",
          "RandomForestClassifier",
          "RandomForestClassifier",
          "RandomForestClassifier",
          "RandomForestClassifier",
          "RandomForestClassifier",
          "RandomForestClassifier",
          "RandomForestClassifier",
          "GradientBoostingClassifier",
          "GradientBoostingClassifier",
          "GradientBoostingClassifier",
          "GradientBoostingClassifier",
          "GradientBoostingClassifier",
          "GradientBoostingClassifier",
          "GradientBoostingClassifier",
          "GradientBoostingClassifier",
          "GradientBoostingClassifier",
          "GradientBoostingClassifier",
          "GradientBoostingClassifier",
          "GradientBoostingClassifier",
          "GradientBoostingClassifier",
          "GradientBoostingClassifier",
          "GradientBoostingClassifier",
          "GradientBoostingClassifier",
          "GradientBoostingClassifier",
          "GradientBoostingClassifier",
          "GradientBoostingClassifier",
          "GradientBoostingClassifier",
          "DeepNeuralNetwork",
          "DeepNeuralNetwork",
          "DeepNeuralNetwork",
          "DeepNeuralNetwork",
          "DeepNeuralNetwork",
          "DeepNeuralNetwork",
          "DeepNeuralNetwork",
          "DeepNeuralNetwork",
          "DeepNeuralNetwork",
          "DeepNeuralNetwork",
          "DeepNeuralNetwork",
          "DeepNeuralNetwork",
          "DeepNeuralNetwork",
          "DeepNeuralNetwork",
          "DeepNeuralNetwork",
          "DeepNeuralNetwork",
          "DeepNeuralNetwork",
          "DeepNeuralNetwork",
          "DeepNeuralNetwork",
          "DeepNeuralNetwork"
         ],
         "y": [
          0.0378975868225097,
          0.037898302078247,
          0.0408899784088134,
          0.0378985404968261,
          0.0289235115051269,
          0.0329177379608154,
          0.087761640548706,
          0.0309181213378906,
          0.0329134464263916,
          0.0628321170806884,
          0.0299203395843505,
          0.0618355274200439,
          0.0269286632537841,
          0.0747997760772705,
          0.0448789596557617,
          0.0279231071472167,
          0.059840440750122,
          0.0339086055755615,
          0.0408949851989746,
          0.0478720664978027,
          0.064826488494873,
          0.1017284393310546,
          0.0488691329956054,
          0.1067149639129638,
          0.0478746891021728,
          0.204453706741333,
          0.0718059539794921,
          0.1436142921447754,
          0.0708098411560058,
          0.1146931648254394,
          0.1595730781555175,
          0.1595721244812011,
          0.070807933807373,
          0.1067132949829101,
          0.2273976802825927,
          0.173537015914917,
          0.1545870304107666,
          0.0827789306640625,
          0.1236674785614013,
          0.0867683887481689,
          0.5265929698944092,
          0.6093683242797852,
          0.5435454845428467,
          0.5106348991394043,
          0.5086410045623779,
          0.5056471824645996,
          0.4877099990844726,
          0.4707422256469726,
          0.5086400508880615,
          0.5246005058288574,
          0.4478027820587158,
          0.4468021392822265,
          0.4697422981262207,
          0.4717581272125244,
          0.5944118499755859,
          0.511629581451416,
          0.4966733455657959,
          0.4449865818023681,
          0.5116548538208008,
          0.5116307735443115,
          0.2932162284851074,
          0.3161554336547851,
          0.2104377746582031,
          0.2273914813995361,
          0.3201625347137451,
          0.2812473773956299,
          0.2393603324890136,
          0.2892277240753174,
          0.4547820091247558,
          0.2752652168273926,
          0.2114322185516357,
          0.2243995666503906,
          0.2483358383178711,
          0.2295982837677002,
          0.2433629035949707,
          0.2762598991394043,
          0.3869619369506836,
          0.3470683097839355,
          0.2214090824127197,
          0.2204096317291259,
          3.469719171524048,
          2.4584641456604004,
          2.6251022815704346,
          3.594393491744995,
          2.5743772983551025,
          3.405490636825561,
          2.572035789489746,
          2.3714540004730225,
          3.6358258724212646,
          3.3347902297973637,
          2.9303102493286133,
          2.5748767852783203,
          2.32372784614563,
          2.5879967212677,
          2.470392227172852,
          2.279274702072144,
          2.524772882461548,
          2.328990936279297,
          2.323559284210205,
          2.5306732654571533
         ]
        }
       ],
       "layout": {
        "boxmode": "group",
        "template": {
         "data": {
          "bar": [
           {
            "error_x": {
             "color": "#2a3f5f"
            },
            "error_y": {
             "color": "#2a3f5f"
            },
            "marker": {
             "line": {
              "color": "#E5ECF6",
              "width": 0.5
             },
             "pattern": {
              "fillmode": "overlay",
              "size": 10,
              "solidity": 0.2
             }
            },
            "type": "bar"
           }
          ],
          "barpolar": [
           {
            "marker": {
             "line": {
              "color": "#E5ECF6",
              "width": 0.5
             },
             "pattern": {
              "fillmode": "overlay",
              "size": 10,
              "solidity": 0.2
             }
            },
            "type": "barpolar"
           }
          ],
          "carpet": [
           {
            "aaxis": {
             "endlinecolor": "#2a3f5f",
             "gridcolor": "white",
             "linecolor": "white",
             "minorgridcolor": "white",
             "startlinecolor": "#2a3f5f"
            },
            "baxis": {
             "endlinecolor": "#2a3f5f",
             "gridcolor": "white",
             "linecolor": "white",
             "minorgridcolor": "white",
             "startlinecolor": "#2a3f5f"
            },
            "type": "carpet"
           }
          ],
          "choropleth": [
           {
            "colorbar": {
             "outlinewidth": 0,
             "ticks": ""
            },
            "type": "choropleth"
           }
          ],
          "contour": [
           {
            "colorbar": {
             "outlinewidth": 0,
             "ticks": ""
            },
            "colorscale": [
             [
              0,
              "#0d0887"
             ],
             [
              0.1111111111111111,
              "#46039f"
             ],
             [
              0.2222222222222222,
              "#7201a8"
             ],
             [
              0.3333333333333333,
              "#9c179e"
             ],
             [
              0.4444444444444444,
              "#bd3786"
             ],
             [
              0.5555555555555556,
              "#d8576b"
             ],
             [
              0.6666666666666666,
              "#ed7953"
             ],
             [
              0.7777777777777778,
              "#fb9f3a"
             ],
             [
              0.8888888888888888,
              "#fdca26"
             ],
             [
              1,
              "#f0f921"
             ]
            ],
            "type": "contour"
           }
          ],
          "contourcarpet": [
           {
            "colorbar": {
             "outlinewidth": 0,
             "ticks": ""
            },
            "type": "contourcarpet"
           }
          ],
          "heatmap": [
           {
            "colorbar": {
             "outlinewidth": 0,
             "ticks": ""
            },
            "colorscale": [
             [
              0,
              "#0d0887"
             ],
             [
              0.1111111111111111,
              "#46039f"
             ],
             [
              0.2222222222222222,
              "#7201a8"
             ],
             [
              0.3333333333333333,
              "#9c179e"
             ],
             [
              0.4444444444444444,
              "#bd3786"
             ],
             [
              0.5555555555555556,
              "#d8576b"
             ],
             [
              0.6666666666666666,
              "#ed7953"
             ],
             [
              0.7777777777777778,
              "#fb9f3a"
             ],
             [
              0.8888888888888888,
              "#fdca26"
             ],
             [
              1,
              "#f0f921"
             ]
            ],
            "type": "heatmap"
           }
          ],
          "heatmapgl": [
           {
            "colorbar": {
             "outlinewidth": 0,
             "ticks": ""
            },
            "colorscale": [
             [
              0,
              "#0d0887"
             ],
             [
              0.1111111111111111,
              "#46039f"
             ],
             [
              0.2222222222222222,
              "#7201a8"
             ],
             [
              0.3333333333333333,
              "#9c179e"
             ],
             [
              0.4444444444444444,
              "#bd3786"
             ],
             [
              0.5555555555555556,
              "#d8576b"
             ],
             [
              0.6666666666666666,
              "#ed7953"
             ],
             [
              0.7777777777777778,
              "#fb9f3a"
             ],
             [
              0.8888888888888888,
              "#fdca26"
             ],
             [
              1,
              "#f0f921"
             ]
            ],
            "type": "heatmapgl"
           }
          ],
          "histogram": [
           {
            "marker": {
             "pattern": {
              "fillmode": "overlay",
              "size": 10,
              "solidity": 0.2
             }
            },
            "type": "histogram"
           }
          ],
          "histogram2d": [
           {
            "colorbar": {
             "outlinewidth": 0,
             "ticks": ""
            },
            "colorscale": [
             [
              0,
              "#0d0887"
             ],
             [
              0.1111111111111111,
              "#46039f"
             ],
             [
              0.2222222222222222,
              "#7201a8"
             ],
             [
              0.3333333333333333,
              "#9c179e"
             ],
             [
              0.4444444444444444,
              "#bd3786"
             ],
             [
              0.5555555555555556,
              "#d8576b"
             ],
             [
              0.6666666666666666,
              "#ed7953"
             ],
             [
              0.7777777777777778,
              "#fb9f3a"
             ],
             [
              0.8888888888888888,
              "#fdca26"
             ],
             [
              1,
              "#f0f921"
             ]
            ],
            "type": "histogram2d"
           }
          ],
          "histogram2dcontour": [
           {
            "colorbar": {
             "outlinewidth": 0,
             "ticks": ""
            },
            "colorscale": [
             [
              0,
              "#0d0887"
             ],
             [
              0.1111111111111111,
              "#46039f"
             ],
             [
              0.2222222222222222,
              "#7201a8"
             ],
             [
              0.3333333333333333,
              "#9c179e"
             ],
             [
              0.4444444444444444,
              "#bd3786"
             ],
             [
              0.5555555555555556,
              "#d8576b"
             ],
             [
              0.6666666666666666,
              "#ed7953"
             ],
             [
              0.7777777777777778,
              "#fb9f3a"
             ],
             [
              0.8888888888888888,
              "#fdca26"
             ],
             [
              1,
              "#f0f921"
             ]
            ],
            "type": "histogram2dcontour"
           }
          ],
          "mesh3d": [
           {
            "colorbar": {
             "outlinewidth": 0,
             "ticks": ""
            },
            "type": "mesh3d"
           }
          ],
          "parcoords": [
           {
            "line": {
             "colorbar": {
              "outlinewidth": 0,
              "ticks": ""
             }
            },
            "type": "parcoords"
           }
          ],
          "pie": [
           {
            "automargin": true,
            "type": "pie"
           }
          ],
          "scatter": [
           {
            "fillpattern": {
             "fillmode": "overlay",
             "size": 10,
             "solidity": 0.2
            },
            "type": "scatter"
           }
          ],
          "scatter3d": [
           {
            "line": {
             "colorbar": {
              "outlinewidth": 0,
              "ticks": ""
             }
            },
            "marker": {
             "colorbar": {
              "outlinewidth": 0,
              "ticks": ""
             }
            },
            "type": "scatter3d"
           }
          ],
          "scattercarpet": [
           {
            "marker": {
             "colorbar": {
              "outlinewidth": 0,
              "ticks": ""
             }
            },
            "type": "scattercarpet"
           }
          ],
          "scattergeo": [
           {
            "marker": {
             "colorbar": {
              "outlinewidth": 0,
              "ticks": ""
             }
            },
            "type": "scattergeo"
           }
          ],
          "scattergl": [
           {
            "marker": {
             "colorbar": {
              "outlinewidth": 0,
              "ticks": ""
             }
            },
            "type": "scattergl"
           }
          ],
          "scattermapbox": [
           {
            "marker": {
             "colorbar": {
              "outlinewidth": 0,
              "ticks": ""
             }
            },
            "type": "scattermapbox"
           }
          ],
          "scatterpolar": [
           {
            "marker": {
             "colorbar": {
              "outlinewidth": 0,
              "ticks": ""
             }
            },
            "type": "scatterpolar"
           }
          ],
          "scatterpolargl": [
           {
            "marker": {
             "colorbar": {
              "outlinewidth": 0,
              "ticks": ""
             }
            },
            "type": "scatterpolargl"
           }
          ],
          "scatterternary": [
           {
            "marker": {
             "colorbar": {
              "outlinewidth": 0,
              "ticks": ""
             }
            },
            "type": "scatterternary"
           }
          ],
          "surface": [
           {
            "colorbar": {
             "outlinewidth": 0,
             "ticks": ""
            },
            "colorscale": [
             [
              0,
              "#0d0887"
             ],
             [
              0.1111111111111111,
              "#46039f"
             ],
             [
              0.2222222222222222,
              "#7201a8"
             ],
             [
              0.3333333333333333,
              "#9c179e"
             ],
             [
              0.4444444444444444,
              "#bd3786"
             ],
             [
              0.5555555555555556,
              "#d8576b"
             ],
             [
              0.6666666666666666,
              "#ed7953"
             ],
             [
              0.7777777777777778,
              "#fb9f3a"
             ],
             [
              0.8888888888888888,
              "#fdca26"
             ],
             [
              1,
              "#f0f921"
             ]
            ],
            "type": "surface"
           }
          ],
          "table": [
           {
            "cells": {
             "fill": {
              "color": "#EBF0F8"
             },
             "line": {
              "color": "white"
             }
            },
            "header": {
             "fill": {
              "color": "#C8D4E3"
             },
             "line": {
              "color": "white"
             }
            },
            "type": "table"
           }
          ]
         },
         "layout": {
          "annotationdefaults": {
           "arrowcolor": "#2a3f5f",
           "arrowhead": 0,
           "arrowwidth": 1
          },
          "autotypenumbers": "strict",
          "coloraxis": {
           "colorbar": {
            "outlinewidth": 0,
            "ticks": ""
           }
          },
          "colorscale": {
           "diverging": [
            [
             0,
             "#8e0152"
            ],
            [
             0.1,
             "#c51b7d"
            ],
            [
             0.2,
             "#de77ae"
            ],
            [
             0.3,
             "#f1b6da"
            ],
            [
             0.4,
             "#fde0ef"
            ],
            [
             0.5,
             "#f7f7f7"
            ],
            [
             0.6,
             "#e6f5d0"
            ],
            [
             0.7,
             "#b8e186"
            ],
            [
             0.8,
             "#7fbc41"
            ],
            [
             0.9,
             "#4d9221"
            ],
            [
             1,
             "#276419"
            ]
           ],
           "sequential": [
            [
             0,
             "#0d0887"
            ],
            [
             0.1111111111111111,
             "#46039f"
            ],
            [
             0.2222222222222222,
             "#7201a8"
            ],
            [
             0.3333333333333333,
             "#9c179e"
            ],
            [
             0.4444444444444444,
             "#bd3786"
            ],
            [
             0.5555555555555556,
             "#d8576b"
            ],
            [
             0.6666666666666666,
             "#ed7953"
            ],
            [
             0.7777777777777778,
             "#fb9f3a"
            ],
            [
             0.8888888888888888,
             "#fdca26"
            ],
            [
             1,
             "#f0f921"
            ]
           ],
           "sequentialminus": [
            [
             0,
             "#0d0887"
            ],
            [
             0.1111111111111111,
             "#46039f"
            ],
            [
             0.2222222222222222,
             "#7201a8"
            ],
            [
             0.3333333333333333,
             "#9c179e"
            ],
            [
             0.4444444444444444,
             "#bd3786"
            ],
            [
             0.5555555555555556,
             "#d8576b"
            ],
            [
             0.6666666666666666,
             "#ed7953"
            ],
            [
             0.7777777777777778,
             "#fb9f3a"
            ],
            [
             0.8888888888888888,
             "#fdca26"
            ],
            [
             1,
             "#f0f921"
            ]
           ]
          },
          "colorway": [
           "#636efa",
           "#EF553B",
           "#00cc96",
           "#ab63fa",
           "#FFA15A",
           "#19d3f3",
           "#FF6692",
           "#B6E880",
           "#FF97FF",
           "#FECB52"
          ],
          "font": {
           "color": "#2a3f5f"
          },
          "geo": {
           "bgcolor": "white",
           "lakecolor": "white",
           "landcolor": "#E5ECF6",
           "showlakes": true,
           "showland": true,
           "subunitcolor": "white"
          },
          "hoverlabel": {
           "align": "left"
          },
          "hovermode": "closest",
          "mapbox": {
           "style": "light"
          },
          "paper_bgcolor": "white",
          "plot_bgcolor": "#E5ECF6",
          "polar": {
           "angularaxis": {
            "gridcolor": "white",
            "linecolor": "white",
            "ticks": ""
           },
           "bgcolor": "#E5ECF6",
           "radialaxis": {
            "gridcolor": "white",
            "linecolor": "white",
            "ticks": ""
           }
          },
          "scene": {
           "xaxis": {
            "backgroundcolor": "#E5ECF6",
            "gridcolor": "white",
            "gridwidth": 2,
            "linecolor": "white",
            "showbackground": true,
            "ticks": "",
            "zerolinecolor": "white"
           },
           "yaxis": {
            "backgroundcolor": "#E5ECF6",
            "gridcolor": "white",
            "gridwidth": 2,
            "linecolor": "white",
            "showbackground": true,
            "ticks": "",
            "zerolinecolor": "white"
           },
           "zaxis": {
            "backgroundcolor": "#E5ECF6",
            "gridcolor": "white",
            "gridwidth": 2,
            "linecolor": "white",
            "showbackground": true,
            "ticks": "",
            "zerolinecolor": "white"
           }
          },
          "shapedefaults": {
           "line": {
            "color": "#2a3f5f"
           }
          },
          "ternary": {
           "aaxis": {
            "gridcolor": "white",
            "linecolor": "white",
            "ticks": ""
           },
           "baxis": {
            "gridcolor": "white",
            "linecolor": "white",
            "ticks": ""
           },
           "bgcolor": "#E5ECF6",
           "caxis": {
            "gridcolor": "white",
            "linecolor": "white",
            "ticks": ""
           }
          },
          "title": {
           "x": 0.05
          },
          "xaxis": {
           "automargin": true,
           "gridcolor": "white",
           "linecolor": "white",
           "ticks": "",
           "title": {
            "standoff": 15
           },
           "zerolinecolor": "white",
           "zerolinewidth": 2
          },
          "yaxis": {
           "automargin": true,
           "gridcolor": "white",
           "linecolor": "white",
           "ticks": "",
           "title": {
            "standoff": 15
           },
           "zerolinecolor": "white",
           "zerolinewidth": 2
          }
         }
        },
        "title": {
         "text": "training_time"
        },
        "yaxis": {
         "title": {
          "text": "training_time"
         }
        }
       }
      }
     },
     "metadata": {},
     "output_type": "display_data"
    },
    {
     "data": {
      "application/vnd.plotly.v1+json": {
       "config": {
        "plotlyServerURL": "https://plot.ly"
       },
       "data": [
        {
         "name": "Full",
         "type": "box",
         "x": [
          "LogisticRegression",
          "LogisticRegression",
          "LogisticRegression",
          "LogisticRegression",
          "LogisticRegression",
          "LogisticRegression",
          "LogisticRegression",
          "LogisticRegression",
          "LogisticRegression",
          "LogisticRegression",
          "LogisticRegression",
          "LogisticRegression",
          "LogisticRegression",
          "LogisticRegression",
          "LogisticRegression",
          "LogisticRegression",
          "LogisticRegression",
          "LogisticRegression",
          "LogisticRegression",
          "LogisticRegression",
          "SVC",
          "SVC",
          "SVC",
          "SVC",
          "SVC",
          "SVC",
          "SVC",
          "SVC",
          "SVC",
          "SVC",
          "SVC",
          "SVC",
          "SVC",
          "SVC",
          "SVC",
          "SVC",
          "SVC",
          "SVC",
          "SVC",
          "SVC",
          "RandomForestClassifier",
          "RandomForestClassifier",
          "RandomForestClassifier",
          "RandomForestClassifier",
          "RandomForestClassifier",
          "RandomForestClassifier",
          "RandomForestClassifier",
          "RandomForestClassifier",
          "RandomForestClassifier",
          "RandomForestClassifier",
          "RandomForestClassifier",
          "RandomForestClassifier",
          "RandomForestClassifier",
          "RandomForestClassifier",
          "RandomForestClassifier",
          "RandomForestClassifier",
          "RandomForestClassifier",
          "RandomForestClassifier",
          "RandomForestClassifier",
          "RandomForestClassifier",
          "GradientBoostingClassifier",
          "GradientBoostingClassifier",
          "GradientBoostingClassifier",
          "GradientBoostingClassifier",
          "GradientBoostingClassifier",
          "GradientBoostingClassifier",
          "GradientBoostingClassifier",
          "GradientBoostingClassifier",
          "GradientBoostingClassifier",
          "GradientBoostingClassifier",
          "GradientBoostingClassifier",
          "GradientBoostingClassifier",
          "GradientBoostingClassifier",
          "GradientBoostingClassifier",
          "GradientBoostingClassifier",
          "GradientBoostingClassifier",
          "GradientBoostingClassifier",
          "GradientBoostingClassifier",
          "GradientBoostingClassifier",
          "GradientBoostingClassifier",
          "DeepNeuralNetwork",
          "DeepNeuralNetwork",
          "DeepNeuralNetwork",
          "DeepNeuralNetwork",
          "DeepNeuralNetwork",
          "DeepNeuralNetwork",
          "DeepNeuralNetwork",
          "DeepNeuralNetwork",
          "DeepNeuralNetwork",
          "DeepNeuralNetwork",
          "DeepNeuralNetwork",
          "DeepNeuralNetwork",
          "DeepNeuralNetwork",
          "DeepNeuralNetwork",
          "DeepNeuralNetwork",
          "DeepNeuralNetwork",
          "DeepNeuralNetwork",
          "DeepNeuralNetwork",
          "DeepNeuralNetwork",
          "DeepNeuralNetwork"
         ],
         "y": [
          0.0269274711608886,
          0.0259318351745605,
          0.0239362716674804,
          0.0239350795745849,
          0.0189499855041503,
          0.0259308815002441,
          0.0359036922454834,
          0.0229382514953613,
          0.0249335765838623,
          0.0219388008117675,
          0.0219404697418212,
          0.0508644580841064,
          0.0279254913330078,
          0.020944595336914,
          0.0239355564117431,
          0.0219411849975585,
          0.0219430923461914,
          0.0189487934112548,
          0.0249340534210205,
          0.0219409465789794,
          0.28224778175354,
          0.3011929988861084,
          0.4079086780548095,
          0.3819835186004638,
          0.2841908931732178,
          0.2423501014709472,
          0.3660213947296142,
          0.3440794944763183,
          0.2932159900665283,
          0.3869647979736328,
          0.2473466396331787,
          0.2902238368988037,
          0.3540549278259277,
          0.2373652458190918,
          0.2976233959197998,
          0.3342716693878174,
          0.2876415252685547,
          0.2443475723266601,
          0.2882299423217773,
          0.2932138442993164,
          0.0508644580841064,
          0.0997328758239746,
          0.0917537212371826,
          0.0568499565124511,
          0.0807857513427734,
          0.0917510986328125,
          0.137632131576538,
          0.1466064453125,
          0.0538563728332519,
          0.1256630420684814,
          0.0817823410034179,
          0.0648248195648193,
          0.0867674350738525,
          0.0558500289916992,
          0.0837750434875488,
          0.170544147491455,
          0.1376318931579589,
          0.0568494796752929,
          0.088761568069458,
          0.0718061923980712,
          0.0269281864166259,
          0.0269274711608886,
          0.026928424835205,
          0.0508642196655273,
          0.0209438800811767,
          0.0239362716674804,
          0.0378990173339843,
          0.020944595336914,
          0.0269277095794677,
          0.0219514369964599,
          0.0209431648254394,
          0.0219404697418212,
          0.0299193859100341,
          0.0508618354797363,
          0.022937536239624,
          0.0239362716674804,
          0.0548517704010009,
          0.0219411849975585,
          0.0608367919921875,
          0.0179545879364013,
          0.2290525436401367,
          0.1968874931335449,
          0.2463424205780029,
          0.7210662364959717,
          0.4098997116088867,
          0.2363672256469726,
          0.2054088115692138,
          0.2764222621917724,
          0.2191636562347412,
          0.2018287181854248,
          0.1977252960205078,
          0.2112514972686767,
          0.2021811008453369,
          0.2880098819732666,
          0.1713988780975341,
          0.2093541622161865,
          0.2314550876617431,
          0.2312226295471191,
          0.2162327766418457,
          0.2742657661437988
         ]
        },
        {
         "name": "FR",
         "type": "box",
         "x": [
          "LogisticRegression",
          "LogisticRegression",
          "LogisticRegression",
          "LogisticRegression",
          "LogisticRegression",
          "LogisticRegression",
          "LogisticRegression",
          "LogisticRegression",
          "LogisticRegression",
          "LogisticRegression",
          "LogisticRegression",
          "LogisticRegression",
          "LogisticRegression",
          "LogisticRegression",
          "LogisticRegression",
          "LogisticRegression",
          "LogisticRegression",
          "LogisticRegression",
          "LogisticRegression",
          "LogisticRegression",
          "SVC",
          "SVC",
          "SVC",
          "SVC",
          "SVC",
          "SVC",
          "SVC",
          "SVC",
          "SVC",
          "SVC",
          "SVC",
          "SVC",
          "SVC",
          "SVC",
          "SVC",
          "SVC",
          "SVC",
          "SVC",
          "SVC",
          "SVC",
          "RandomForestClassifier",
          "RandomForestClassifier",
          "RandomForestClassifier",
          "RandomForestClassifier",
          "RandomForestClassifier",
          "RandomForestClassifier",
          "RandomForestClassifier",
          "RandomForestClassifier",
          "RandomForestClassifier",
          "RandomForestClassifier",
          "RandomForestClassifier",
          "RandomForestClassifier",
          "RandomForestClassifier",
          "RandomForestClassifier",
          "RandomForestClassifier",
          "RandomForestClassifier",
          "RandomForestClassifier",
          "RandomForestClassifier",
          "RandomForestClassifier",
          "RandomForestClassifier",
          "GradientBoostingClassifier",
          "GradientBoostingClassifier",
          "GradientBoostingClassifier",
          "GradientBoostingClassifier",
          "GradientBoostingClassifier",
          "GradientBoostingClassifier",
          "GradientBoostingClassifier",
          "GradientBoostingClassifier",
          "GradientBoostingClassifier",
          "GradientBoostingClassifier",
          "GradientBoostingClassifier",
          "GradientBoostingClassifier",
          "GradientBoostingClassifier",
          "GradientBoostingClassifier",
          "GradientBoostingClassifier",
          "GradientBoostingClassifier",
          "GradientBoostingClassifier",
          "GradientBoostingClassifier",
          "GradientBoostingClassifier",
          "GradientBoostingClassifier",
          "DeepNeuralNetwork",
          "DeepNeuralNetwork",
          "DeepNeuralNetwork",
          "DeepNeuralNetwork",
          "DeepNeuralNetwork",
          "DeepNeuralNetwork",
          "DeepNeuralNetwork",
          "DeepNeuralNetwork",
          "DeepNeuralNetwork",
          "DeepNeuralNetwork",
          "DeepNeuralNetwork",
          "DeepNeuralNetwork",
          "DeepNeuralNetwork",
          "DeepNeuralNetwork",
          "DeepNeuralNetwork",
          "DeepNeuralNetwork",
          "DeepNeuralNetwork",
          "DeepNeuralNetwork",
          "DeepNeuralNetwork",
          "DeepNeuralNetwork"
         ],
         "y": [
          0.0708146095275878,
          0.071807861328125,
          0.0867695808410644,
          0.0598425865173339,
          0.0279264450073242,
          0.0608370304107666,
          0.0309174060821533,
          0.0378987789154052,
          0.0229384899139404,
          0.0428841114044189,
          0.0388996601104736,
          0.0398921966552734,
          0.0428860187530517,
          0.0508654117584228,
          0.0398938655853271,
          0.0209467411041259,
          0.0359048843383789,
          0.0259289741516113,
          0.0239343643188476,
          0.0438828468322753,
          0.3680636882781982,
          0.4039216041564941,
          0.2940194606781006,
          0.3161878585815429,
          0.6133577823638916,
          0.364025354385376,
          0.3803362846374511,
          0.4378108978271484,
          0.3350625038146972,
          0.3580400943756103,
          0.3425025939941406,
          0.3872601985931396,
          0.4559035301208496,
          0.3019497394561767,
          0.3819148540496826,
          0.3141586780548095,
          0.373004674911499,
          0.3610343933105469,
          0.3570475578308105,
          0.4748320579528808,
          0.0977368354797363,
          0.1047208309173584,
          0.067814826965332,
          0.1116998195648193,
          0.0678215026855468,
          0.1007287502288818,
          0.0658204555511474,
          0.0897576808929443,
          0.0528602600097656,
          0.0837771892547607,
          0.1525905132293701,
          0.0977382659912109,
          0.1004755496978759,
          0.0538496971130371,
          0.0997328758239746,
          0.1575791835784912,
          0.0857703685760498,
          0.1037220954895019,
          0.078789472579956,
          0.0877649784088134,
          0.0169565677642822,
          0.0179502964019775,
          0.0329117774963378,
          0.0189399719238281,
          0.0189504623413085,
          0.0738029479980468,
          0.025930643081665,
          0.0209484100341796,
          0.0199477672576904,
          0.020942211151123,
          0.0189507007598876,
          0.041888952255249,
          0.0259289741516113,
          0.0209426879882812,
          0.021942138671875,
          0.0226263999938964,
          0.0558393001556396,
          0.0209441184997558,
          0.0229377746582031,
          0.0199451446533203,
          0.2048780918121338,
          0.2313811779022216,
          0.2473394870758056,
          0.4069080352783203,
          0.2493317127227783,
          0.1984689235687255,
          0.2263948917388916,
          0.1772627830505371,
          0.1704320907592773,
          0.1664924621582031,
          0.172370433807373,
          0.1702704429626464,
          0.1698596477508545,
          0.1708898544311523,
          0.1675350666046142,
          0.2137143611907959,
          0.1849572658538818,
          0.1890616416931152,
          0.2023062705993652,
          0.1948893070220947
         ]
        },
        {
         "name": "SS",
         "type": "box",
         "x": [
          "LogisticRegression",
          "LogisticRegression",
          "LogisticRegression",
          "LogisticRegression",
          "LogisticRegression",
          "LogisticRegression",
          "LogisticRegression",
          "LogisticRegression",
          "LogisticRegression",
          "LogisticRegression",
          "LogisticRegression",
          "LogisticRegression",
          "LogisticRegression",
          "LogisticRegression",
          "LogisticRegression",
          "LogisticRegression",
          "LogisticRegression",
          "LogisticRegression",
          "LogisticRegression",
          "LogisticRegression",
          "SVC",
          "SVC",
          "SVC",
          "SVC",
          "SVC",
          "SVC",
          "SVC",
          "SVC",
          "SVC",
          "SVC",
          "SVC",
          "SVC",
          "SVC",
          "SVC",
          "SVC",
          "SVC",
          "SVC",
          "SVC",
          "SVC",
          "SVC",
          "RandomForestClassifier",
          "RandomForestClassifier",
          "RandomForestClassifier",
          "RandomForestClassifier",
          "RandomForestClassifier",
          "RandomForestClassifier",
          "RandomForestClassifier",
          "RandomForestClassifier",
          "RandomForestClassifier",
          "RandomForestClassifier",
          "RandomForestClassifier",
          "RandomForestClassifier",
          "RandomForestClassifier",
          "RandomForestClassifier",
          "RandomForestClassifier",
          "RandomForestClassifier",
          "RandomForestClassifier",
          "RandomForestClassifier",
          "RandomForestClassifier",
          "RandomForestClassifier",
          "GradientBoostingClassifier",
          "GradientBoostingClassifier",
          "GradientBoostingClassifier",
          "GradientBoostingClassifier",
          "GradientBoostingClassifier",
          "GradientBoostingClassifier",
          "GradientBoostingClassifier",
          "GradientBoostingClassifier",
          "GradientBoostingClassifier",
          "GradientBoostingClassifier",
          "GradientBoostingClassifier",
          "GradientBoostingClassifier",
          "GradientBoostingClassifier",
          "GradientBoostingClassifier",
          "GradientBoostingClassifier",
          "GradientBoostingClassifier",
          "GradientBoostingClassifier",
          "GradientBoostingClassifier",
          "GradientBoostingClassifier",
          "GradientBoostingClassifier",
          "DeepNeuralNetwork",
          "DeepNeuralNetwork",
          "DeepNeuralNetwork",
          "DeepNeuralNetwork",
          "DeepNeuralNetwork",
          "DeepNeuralNetwork",
          "DeepNeuralNetwork",
          "DeepNeuralNetwork",
          "DeepNeuralNetwork",
          "DeepNeuralNetwork",
          "DeepNeuralNetwork",
          "DeepNeuralNetwork",
          "DeepNeuralNetwork",
          "DeepNeuralNetwork",
          "DeepNeuralNetwork",
          "DeepNeuralNetwork",
          "DeepNeuralNetwork",
          "DeepNeuralNetwork",
          "DeepNeuralNetwork",
          "DeepNeuralNetwork"
         ],
         "y": [
          0.0468742847442626,
          0.0767953395843505,
          0.0219395160675048,
          0.0279262065887451,
          0.0239367485046386,
          0.0259304046630859,
          0.0199475288391113,
          0.0339083671569824,
          0.0568482875823974,
          0.0438826084136962,
          0.0628323554992675,
          0.0239300727844238,
          0.0359065532684326,
          0.0249330997467041,
          0.0239355564117431,
          0.0259313583374023,
          0.0229387283325195,
          0.0239365100860595,
          0.0259299278259277,
          0.0319147109985351,
          0.149599552154541,
          0.1775243282318115,
          0.1805176734924316,
          0.178523302078247,
          0.1894927024841308,
          0.3640244007110595,
          0.2563140392303467,
          0.2034547328948974,
          0.1456103324890136,
          0.3021910190582275,
          0.1386289596557617,
          0.2593059539794922,
          0.1316468715667724,
          0.2622995376586914,
          0.1037228107452392,
          0.2662880420684814,
          0.1695458889007568,
          0.3690149784088135,
          0.2164225578308105,
          0.2383618354797363,
          0.0458765029907226,
          0.0777900218963623,
          0.0668213367462158,
          0.0408904552459716,
          0.0967392921447753,
          0.0558483600616455,
          0.0568501949310302,
          0.0438811779022216,
          0.0747897624969482,
          0.0468733310699462,
          0.0728054046630859,
          0.046875,
          0.0468771457672119,
          0.0608360767364501,
          0.1186811923980712,
          0.039893627166748,
          0.0438826084136962,
          0.09010910987854,
          0.118682861328125,
          0.0558505058288574,
          0.0229382514953613,
          0.0229401588439941,
          0.0239419937133789,
          0.0289232730865478,
          0.0219416618347167,
          0.0219452381134033,
          0.0219423770904541,
          0.0229380130767822,
          0.0219416618347167,
          0.0259315967559814,
          0.0219306945800781,
          0.0199451446533203,
          0.0229356288909912,
          0.0917520523071289,
          0.0209438800811767,
          0.0199458599090576,
          0.0518596172332763,
          0.0239362716674804,
          0.0189466476440429,
          0.021937608718872,
          0.3061795234680176,
          0.2007203102111816,
          0.2086284160614013,
          0.1880691051483154,
          0.2040746212005615,
          0.1986918449401855,
          0.2508687973022461,
          0.2802498340606689,
          0.2035067081451416,
          0.2100729942321777,
          0.1898903846740722,
          0.187976598739624,
          0.2782545089721679,
          0.1867237091064453,
          0.1844358444213867,
          0.1990537643432617,
          0.1986908912658691,
          0.2389733791351318,
          0.1989352703094482,
          0.2342851161956787
         ]
        },
        {
         "name": "SS & FR",
         "type": "box",
         "x": [
          "LogisticRegression",
          "LogisticRegression",
          "LogisticRegression",
          "LogisticRegression",
          "LogisticRegression",
          "LogisticRegression",
          "LogisticRegression",
          "LogisticRegression",
          "LogisticRegression",
          "LogisticRegression",
          "LogisticRegression",
          "LogisticRegression",
          "LogisticRegression",
          "LogisticRegression",
          "LogisticRegression",
          "LogisticRegression",
          "LogisticRegression",
          "LogisticRegression",
          "LogisticRegression",
          "LogisticRegression",
          "SVC",
          "SVC",
          "SVC",
          "SVC",
          "SVC",
          "SVC",
          "SVC",
          "SVC",
          "SVC",
          "SVC",
          "SVC",
          "SVC",
          "SVC",
          "SVC",
          "SVC",
          "SVC",
          "SVC",
          "SVC",
          "SVC",
          "SVC",
          "RandomForestClassifier",
          "RandomForestClassifier",
          "RandomForestClassifier",
          "RandomForestClassifier",
          "RandomForestClassifier",
          "RandomForestClassifier",
          "RandomForestClassifier",
          "RandomForestClassifier",
          "RandomForestClassifier",
          "RandomForestClassifier",
          "RandomForestClassifier",
          "RandomForestClassifier",
          "RandomForestClassifier",
          "RandomForestClassifier",
          "RandomForestClassifier",
          "RandomForestClassifier",
          "RandomForestClassifier",
          "RandomForestClassifier",
          "RandomForestClassifier",
          "RandomForestClassifier",
          "GradientBoostingClassifier",
          "GradientBoostingClassifier",
          "GradientBoostingClassifier",
          "GradientBoostingClassifier",
          "GradientBoostingClassifier",
          "GradientBoostingClassifier",
          "GradientBoostingClassifier",
          "GradientBoostingClassifier",
          "GradientBoostingClassifier",
          "GradientBoostingClassifier",
          "GradientBoostingClassifier",
          "GradientBoostingClassifier",
          "GradientBoostingClassifier",
          "GradientBoostingClassifier",
          "GradientBoostingClassifier",
          "GradientBoostingClassifier",
          "GradientBoostingClassifier",
          "GradientBoostingClassifier",
          "GradientBoostingClassifier",
          "GradientBoostingClassifier",
          "DeepNeuralNetwork",
          "DeepNeuralNetwork",
          "DeepNeuralNetwork",
          "DeepNeuralNetwork",
          "DeepNeuralNetwork",
          "DeepNeuralNetwork",
          "DeepNeuralNetwork",
          "DeepNeuralNetwork",
          "DeepNeuralNetwork",
          "DeepNeuralNetwork",
          "DeepNeuralNetwork",
          "DeepNeuralNetwork",
          "DeepNeuralNetwork",
          "DeepNeuralNetwork",
          "DeepNeuralNetwork",
          "DeepNeuralNetwork",
          "DeepNeuralNetwork",
          "DeepNeuralNetwork",
          "DeepNeuralNetwork",
          "DeepNeuralNetwork"
         ],
         "y": [
          0.0388944149017334,
          0.0249335765838623,
          0.0209441184997558,
          0.0219407081604003,
          0.0209426879882812,
          0.0787904262542724,
          0.0748016834259033,
          0.0249338150024414,
          0.0528583526611328,
          0.0219407081604003,
          0.063828706741333,
          0.033909797668457,
          0.0199456214904785,
          0.0219423770904541,
          0.0199463367462158,
          0.0349068641662597,
          0.0199477672576904,
          0.0239307880401611,
          0.0229387283325195,
          0.0199465751647949,
          0.217419147491455,
          0.1675517559051513,
          0.151594877243042,
          0.1037268638610839,
          0.220409870147705,
          0.1007306575775146,
          0.2622997760772705,
          0.2054505348205566,
          0.2652838230133056,
          0.2473387718200683,
          0.2752628326416015,
          0.2473392486572265,
          0.3480658531188965,
          0.1715404987335205,
          0.2423505783081054,
          0.2622971534729004,
          0.2084424495697021,
          0.2044527530670166,
          0.2423517704010009,
          0.2453434467315673,
          0.0478723049163818,
          0.057845115661621,
          0.0488686561584472,
          0.077791690826416,
          0.0867679119110107,
          0.0568482875823974,
          0.1176826953887939,
          0.0967409610748291,
          0.1186814308166503,
          0.0428876876831054,
          0.0893185138702392,
          0.0498685836791992,
          0.0678188800811767,
          0.0417003631591796,
          0.0917544364929199,
          0.0488693714141845,
          0.0498616695404052,
          0.0538582801818847,
          0.0408909320831298,
          0.0738239288330078,
          0.0229353904724121,
          0.0249326229095459,
          0.019946813583374,
          0.0349066257476806,
          0.0179522037506103,
          0.0388896465301513,
          0.0209441184997558,
          0.0359048843383789,
          0.0169544219970703,
          0.0369000434875488,
          0.0229372978210449,
          0.0209448337554931,
          0.0229377746582031,
          0.0259175300598144,
          0.0229382514953613,
          0.0219438076019287,
          0.0259308815002441,
          0.0179524421691894,
          0.0199475288391113,
          0.0279262065887451,
          0.2533440589904785,
          0.2253477573394775,
          0.1958498954772949,
          0.1737022399902343,
          0.2564413547515869,
          0.2143220901489257,
          0.1993272304534912,
          0.3939449787139892,
          0.319145917892456,
          0.1873245239257812,
          0.1895158290863037,
          0.18501877784729,
          0.2005231380462646,
          0.2345061302185058,
          0.2064275741577148,
          0.2355108261108398,
          0.203596830368042,
          0.2163496017456054,
          0.1874644756317138,
          0.3365414142608642
         ]
        }
       ],
       "layout": {
        "boxmode": "group",
        "template": {
         "data": {
          "bar": [
           {
            "error_x": {
             "color": "#2a3f5f"
            },
            "error_y": {
             "color": "#2a3f5f"
            },
            "marker": {
             "line": {
              "color": "#E5ECF6",
              "width": 0.5
             },
             "pattern": {
              "fillmode": "overlay",
              "size": 10,
              "solidity": 0.2
             }
            },
            "type": "bar"
           }
          ],
          "barpolar": [
           {
            "marker": {
             "line": {
              "color": "#E5ECF6",
              "width": 0.5
             },
             "pattern": {
              "fillmode": "overlay",
              "size": 10,
              "solidity": 0.2
             }
            },
            "type": "barpolar"
           }
          ],
          "carpet": [
           {
            "aaxis": {
             "endlinecolor": "#2a3f5f",
             "gridcolor": "white",
             "linecolor": "white",
             "minorgridcolor": "white",
             "startlinecolor": "#2a3f5f"
            },
            "baxis": {
             "endlinecolor": "#2a3f5f",
             "gridcolor": "white",
             "linecolor": "white",
             "minorgridcolor": "white",
             "startlinecolor": "#2a3f5f"
            },
            "type": "carpet"
           }
          ],
          "choropleth": [
           {
            "colorbar": {
             "outlinewidth": 0,
             "ticks": ""
            },
            "type": "choropleth"
           }
          ],
          "contour": [
           {
            "colorbar": {
             "outlinewidth": 0,
             "ticks": ""
            },
            "colorscale": [
             [
              0,
              "#0d0887"
             ],
             [
              0.1111111111111111,
              "#46039f"
             ],
             [
              0.2222222222222222,
              "#7201a8"
             ],
             [
              0.3333333333333333,
              "#9c179e"
             ],
             [
              0.4444444444444444,
              "#bd3786"
             ],
             [
              0.5555555555555556,
              "#d8576b"
             ],
             [
              0.6666666666666666,
              "#ed7953"
             ],
             [
              0.7777777777777778,
              "#fb9f3a"
             ],
             [
              0.8888888888888888,
              "#fdca26"
             ],
             [
              1,
              "#f0f921"
             ]
            ],
            "type": "contour"
           }
          ],
          "contourcarpet": [
           {
            "colorbar": {
             "outlinewidth": 0,
             "ticks": ""
            },
            "type": "contourcarpet"
           }
          ],
          "heatmap": [
           {
            "colorbar": {
             "outlinewidth": 0,
             "ticks": ""
            },
            "colorscale": [
             [
              0,
              "#0d0887"
             ],
             [
              0.1111111111111111,
              "#46039f"
             ],
             [
              0.2222222222222222,
              "#7201a8"
             ],
             [
              0.3333333333333333,
              "#9c179e"
             ],
             [
              0.4444444444444444,
              "#bd3786"
             ],
             [
              0.5555555555555556,
              "#d8576b"
             ],
             [
              0.6666666666666666,
              "#ed7953"
             ],
             [
              0.7777777777777778,
              "#fb9f3a"
             ],
             [
              0.8888888888888888,
              "#fdca26"
             ],
             [
              1,
              "#f0f921"
             ]
            ],
            "type": "heatmap"
           }
          ],
          "heatmapgl": [
           {
            "colorbar": {
             "outlinewidth": 0,
             "ticks": ""
            },
            "colorscale": [
             [
              0,
              "#0d0887"
             ],
             [
              0.1111111111111111,
              "#46039f"
             ],
             [
              0.2222222222222222,
              "#7201a8"
             ],
             [
              0.3333333333333333,
              "#9c179e"
             ],
             [
              0.4444444444444444,
              "#bd3786"
             ],
             [
              0.5555555555555556,
              "#d8576b"
             ],
             [
              0.6666666666666666,
              "#ed7953"
             ],
             [
              0.7777777777777778,
              "#fb9f3a"
             ],
             [
              0.8888888888888888,
              "#fdca26"
             ],
             [
              1,
              "#f0f921"
             ]
            ],
            "type": "heatmapgl"
           }
          ],
          "histogram": [
           {
            "marker": {
             "pattern": {
              "fillmode": "overlay",
              "size": 10,
              "solidity": 0.2
             }
            },
            "type": "histogram"
           }
          ],
          "histogram2d": [
           {
            "colorbar": {
             "outlinewidth": 0,
             "ticks": ""
            },
            "colorscale": [
             [
              0,
              "#0d0887"
             ],
             [
              0.1111111111111111,
              "#46039f"
             ],
             [
              0.2222222222222222,
              "#7201a8"
             ],
             [
              0.3333333333333333,
              "#9c179e"
             ],
             [
              0.4444444444444444,
              "#bd3786"
             ],
             [
              0.5555555555555556,
              "#d8576b"
             ],
             [
              0.6666666666666666,
              "#ed7953"
             ],
             [
              0.7777777777777778,
              "#fb9f3a"
             ],
             [
              0.8888888888888888,
              "#fdca26"
             ],
             [
              1,
              "#f0f921"
             ]
            ],
            "type": "histogram2d"
           }
          ],
          "histogram2dcontour": [
           {
            "colorbar": {
             "outlinewidth": 0,
             "ticks": ""
            },
            "colorscale": [
             [
              0,
              "#0d0887"
             ],
             [
              0.1111111111111111,
              "#46039f"
             ],
             [
              0.2222222222222222,
              "#7201a8"
             ],
             [
              0.3333333333333333,
              "#9c179e"
             ],
             [
              0.4444444444444444,
              "#bd3786"
             ],
             [
              0.5555555555555556,
              "#d8576b"
             ],
             [
              0.6666666666666666,
              "#ed7953"
             ],
             [
              0.7777777777777778,
              "#fb9f3a"
             ],
             [
              0.8888888888888888,
              "#fdca26"
             ],
             [
              1,
              "#f0f921"
             ]
            ],
            "type": "histogram2dcontour"
           }
          ],
          "mesh3d": [
           {
            "colorbar": {
             "outlinewidth": 0,
             "ticks": ""
            },
            "type": "mesh3d"
           }
          ],
          "parcoords": [
           {
            "line": {
             "colorbar": {
              "outlinewidth": 0,
              "ticks": ""
             }
            },
            "type": "parcoords"
           }
          ],
          "pie": [
           {
            "automargin": true,
            "type": "pie"
           }
          ],
          "scatter": [
           {
            "fillpattern": {
             "fillmode": "overlay",
             "size": 10,
             "solidity": 0.2
            },
            "type": "scatter"
           }
          ],
          "scatter3d": [
           {
            "line": {
             "colorbar": {
              "outlinewidth": 0,
              "ticks": ""
             }
            },
            "marker": {
             "colorbar": {
              "outlinewidth": 0,
              "ticks": ""
             }
            },
            "type": "scatter3d"
           }
          ],
          "scattercarpet": [
           {
            "marker": {
             "colorbar": {
              "outlinewidth": 0,
              "ticks": ""
             }
            },
            "type": "scattercarpet"
           }
          ],
          "scattergeo": [
           {
            "marker": {
             "colorbar": {
              "outlinewidth": 0,
              "ticks": ""
             }
            },
            "type": "scattergeo"
           }
          ],
          "scattergl": [
           {
            "marker": {
             "colorbar": {
              "outlinewidth": 0,
              "ticks": ""
             }
            },
            "type": "scattergl"
           }
          ],
          "scattermapbox": [
           {
            "marker": {
             "colorbar": {
              "outlinewidth": 0,
              "ticks": ""
             }
            },
            "type": "scattermapbox"
           }
          ],
          "scatterpolar": [
           {
            "marker": {
             "colorbar": {
              "outlinewidth": 0,
              "ticks": ""
             }
            },
            "type": "scatterpolar"
           }
          ],
          "scatterpolargl": [
           {
            "marker": {
             "colorbar": {
              "outlinewidth": 0,
              "ticks": ""
             }
            },
            "type": "scatterpolargl"
           }
          ],
          "scatterternary": [
           {
            "marker": {
             "colorbar": {
              "outlinewidth": 0,
              "ticks": ""
             }
            },
            "type": "scatterternary"
           }
          ],
          "surface": [
           {
            "colorbar": {
             "outlinewidth": 0,
             "ticks": ""
            },
            "colorscale": [
             [
              0,
              "#0d0887"
             ],
             [
              0.1111111111111111,
              "#46039f"
             ],
             [
              0.2222222222222222,
              "#7201a8"
             ],
             [
              0.3333333333333333,
              "#9c179e"
             ],
             [
              0.4444444444444444,
              "#bd3786"
             ],
             [
              0.5555555555555556,
              "#d8576b"
             ],
             [
              0.6666666666666666,
              "#ed7953"
             ],
             [
              0.7777777777777778,
              "#fb9f3a"
             ],
             [
              0.8888888888888888,
              "#fdca26"
             ],
             [
              1,
              "#f0f921"
             ]
            ],
            "type": "surface"
           }
          ],
          "table": [
           {
            "cells": {
             "fill": {
              "color": "#EBF0F8"
             },
             "line": {
              "color": "white"
             }
            },
            "header": {
             "fill": {
              "color": "#C8D4E3"
             },
             "line": {
              "color": "white"
             }
            },
            "type": "table"
           }
          ]
         },
         "layout": {
          "annotationdefaults": {
           "arrowcolor": "#2a3f5f",
           "arrowhead": 0,
           "arrowwidth": 1
          },
          "autotypenumbers": "strict",
          "coloraxis": {
           "colorbar": {
            "outlinewidth": 0,
            "ticks": ""
           }
          },
          "colorscale": {
           "diverging": [
            [
             0,
             "#8e0152"
            ],
            [
             0.1,
             "#c51b7d"
            ],
            [
             0.2,
             "#de77ae"
            ],
            [
             0.3,
             "#f1b6da"
            ],
            [
             0.4,
             "#fde0ef"
            ],
            [
             0.5,
             "#f7f7f7"
            ],
            [
             0.6,
             "#e6f5d0"
            ],
            [
             0.7,
             "#b8e186"
            ],
            [
             0.8,
             "#7fbc41"
            ],
            [
             0.9,
             "#4d9221"
            ],
            [
             1,
             "#276419"
            ]
           ],
           "sequential": [
            [
             0,
             "#0d0887"
            ],
            [
             0.1111111111111111,
             "#46039f"
            ],
            [
             0.2222222222222222,
             "#7201a8"
            ],
            [
             0.3333333333333333,
             "#9c179e"
            ],
            [
             0.4444444444444444,
             "#bd3786"
            ],
            [
             0.5555555555555556,
             "#d8576b"
            ],
            [
             0.6666666666666666,
             "#ed7953"
            ],
            [
             0.7777777777777778,
             "#fb9f3a"
            ],
            [
             0.8888888888888888,
             "#fdca26"
            ],
            [
             1,
             "#f0f921"
            ]
           ],
           "sequentialminus": [
            [
             0,
             "#0d0887"
            ],
            [
             0.1111111111111111,
             "#46039f"
            ],
            [
             0.2222222222222222,
             "#7201a8"
            ],
            [
             0.3333333333333333,
             "#9c179e"
            ],
            [
             0.4444444444444444,
             "#bd3786"
            ],
            [
             0.5555555555555556,
             "#d8576b"
            ],
            [
             0.6666666666666666,
             "#ed7953"
            ],
            [
             0.7777777777777778,
             "#fb9f3a"
            ],
            [
             0.8888888888888888,
             "#fdca26"
            ],
            [
             1,
             "#f0f921"
            ]
           ]
          },
          "colorway": [
           "#636efa",
           "#EF553B",
           "#00cc96",
           "#ab63fa",
           "#FFA15A",
           "#19d3f3",
           "#FF6692",
           "#B6E880",
           "#FF97FF",
           "#FECB52"
          ],
          "font": {
           "color": "#2a3f5f"
          },
          "geo": {
           "bgcolor": "white",
           "lakecolor": "white",
           "landcolor": "#E5ECF6",
           "showlakes": true,
           "showland": true,
           "subunitcolor": "white"
          },
          "hoverlabel": {
           "align": "left"
          },
          "hovermode": "closest",
          "mapbox": {
           "style": "light"
          },
          "paper_bgcolor": "white",
          "plot_bgcolor": "#E5ECF6",
          "polar": {
           "angularaxis": {
            "gridcolor": "white",
            "linecolor": "white",
            "ticks": ""
           },
           "bgcolor": "#E5ECF6",
           "radialaxis": {
            "gridcolor": "white",
            "linecolor": "white",
            "ticks": ""
           }
          },
          "scene": {
           "xaxis": {
            "backgroundcolor": "#E5ECF6",
            "gridcolor": "white",
            "gridwidth": 2,
            "linecolor": "white",
            "showbackground": true,
            "ticks": "",
            "zerolinecolor": "white"
           },
           "yaxis": {
            "backgroundcolor": "#E5ECF6",
            "gridcolor": "white",
            "gridwidth": 2,
            "linecolor": "white",
            "showbackground": true,
            "ticks": "",
            "zerolinecolor": "white"
           },
           "zaxis": {
            "backgroundcolor": "#E5ECF6",
            "gridcolor": "white",
            "gridwidth": 2,
            "linecolor": "white",
            "showbackground": true,
            "ticks": "",
            "zerolinecolor": "white"
           }
          },
          "shapedefaults": {
           "line": {
            "color": "#2a3f5f"
           }
          },
          "ternary": {
           "aaxis": {
            "gridcolor": "white",
            "linecolor": "white",
            "ticks": ""
           },
           "baxis": {
            "gridcolor": "white",
            "linecolor": "white",
            "ticks": ""
           },
           "bgcolor": "#E5ECF6",
           "caxis": {
            "gridcolor": "white",
            "linecolor": "white",
            "ticks": ""
           }
          },
          "title": {
           "x": 0.05
          },
          "xaxis": {
           "automargin": true,
           "gridcolor": "white",
           "linecolor": "white",
           "ticks": "",
           "title": {
            "standoff": 15
           },
           "zerolinecolor": "white",
           "zerolinewidth": 2
          },
          "yaxis": {
           "automargin": true,
           "gridcolor": "white",
           "linecolor": "white",
           "ticks": "",
           "title": {
            "standoff": 15
           },
           "zerolinecolor": "white",
           "zerolinewidth": 2
          }
         }
        },
        "title": {
         "text": "prediction_time"
        },
        "yaxis": {
         "title": {
          "text": "prediction_time"
         }
        }
       }
      }
     },
     "metadata": {},
     "output_type": "display_data"
    }
   ],
   "source": [
    "make_plots('preprocess_time')\n",
    "make_plots('training_time')\n",
    "make_plots('prediction_time')"
   ]
  },
  {
   "cell_type": "code",
   "execution_count": 7,
   "metadata": {},
   "outputs": [
    {
     "data": {
      "application/vnd.plotly.v1+json": {
       "config": {
        "plotlyServerURL": "https://plot.ly"
       },
       "data": [
        {
         "name": "Full",
         "type": "box",
         "x": [
          "LogisticRegression",
          "LogisticRegression",
          "LogisticRegression",
          "LogisticRegression",
          "LogisticRegression",
          "LogisticRegression",
          "LogisticRegression",
          "LogisticRegression",
          "LogisticRegression",
          "LogisticRegression",
          "LogisticRegression",
          "LogisticRegression",
          "LogisticRegression",
          "LogisticRegression",
          "LogisticRegression",
          "LogisticRegression",
          "LogisticRegression",
          "LogisticRegression",
          "LogisticRegression",
          "LogisticRegression",
          "SVC",
          "SVC",
          "SVC",
          "SVC",
          "SVC",
          "SVC",
          "SVC",
          "SVC",
          "SVC",
          "SVC",
          "SVC",
          "SVC",
          "SVC",
          "SVC",
          "SVC",
          "SVC",
          "SVC",
          "SVC",
          "SVC",
          "SVC",
          "RandomForestClassifier",
          "RandomForestClassifier",
          "RandomForestClassifier",
          "RandomForestClassifier",
          "RandomForestClassifier",
          "RandomForestClassifier",
          "RandomForestClassifier",
          "RandomForestClassifier",
          "RandomForestClassifier",
          "RandomForestClassifier",
          "RandomForestClassifier",
          "RandomForestClassifier",
          "RandomForestClassifier",
          "RandomForestClassifier",
          "RandomForestClassifier",
          "RandomForestClassifier",
          "RandomForestClassifier",
          "RandomForestClassifier",
          "RandomForestClassifier",
          "RandomForestClassifier",
          "GradientBoostingClassifier",
          "GradientBoostingClassifier",
          "GradientBoostingClassifier",
          "GradientBoostingClassifier",
          "GradientBoostingClassifier",
          "GradientBoostingClassifier",
          "GradientBoostingClassifier",
          "GradientBoostingClassifier",
          "GradientBoostingClassifier",
          "GradientBoostingClassifier",
          "GradientBoostingClassifier",
          "GradientBoostingClassifier",
          "GradientBoostingClassifier",
          "GradientBoostingClassifier",
          "GradientBoostingClassifier",
          "GradientBoostingClassifier",
          "GradientBoostingClassifier",
          "GradientBoostingClassifier",
          "GradientBoostingClassifier",
          "GradientBoostingClassifier",
          "DeepNeuralNetwork",
          "DeepNeuralNetwork",
          "DeepNeuralNetwork",
          "DeepNeuralNetwork",
          "DeepNeuralNetwork",
          "DeepNeuralNetwork",
          "DeepNeuralNetwork",
          "DeepNeuralNetwork",
          "DeepNeuralNetwork",
          "DeepNeuralNetwork",
          "DeepNeuralNetwork",
          "DeepNeuralNetwork",
          "DeepNeuralNetwork",
          "DeepNeuralNetwork",
          "DeepNeuralNetwork",
          "DeepNeuralNetwork",
          "DeepNeuralNetwork",
          "DeepNeuralNetwork",
          "DeepNeuralNetwork",
          "DeepNeuralNetwork"
         ],
         "y": [
          1617,
          1617,
          1617,
          1617,
          1617,
          1617,
          1617,
          1617,
          1617,
          1617,
          1617,
          1617,
          1617,
          1617,
          1617,
          1617,
          1617,
          1617,
          1617,
          1617,
          486094,
          481474,
          485786,
          486710,
          467614,
          481166,
          478394,
          483014,
          481474,
          482090,
          487634,
          479934,
          476854,
          484554,
          481166,
          488558,
          480242,
          482090,
          476854,
          475006,
          2508,
          2508,
          2508,
          2508,
          2508,
          2508,
          2508,
          2508,
          2508,
          2508,
          2508,
          2508,
          2508,
          2508,
          2508,
          2508,
          2508,
          2508,
          2508,
          2508,
          3733,
          3733,
          3733,
          3733,
          3733,
          3733,
          3733,
          3733,
          3733,
          3733,
          3733,
          3733,
          3733,
          3733,
          3733,
          3733,
          3733,
          3733,
          3733,
          3733,
          8322,
          8322,
          8322,
          8322,
          8322,
          8322,
          8322,
          8322,
          8322,
          8322,
          8322,
          8322,
          8322,
          8322,
          8322,
          8322,
          8322,
          8322,
          8322,
          8322
         ]
        },
        {
         "name": "FR",
         "type": "box",
         "x": [
          "LogisticRegression",
          "LogisticRegression",
          "LogisticRegression",
          "LogisticRegression",
          "LogisticRegression",
          "LogisticRegression",
          "LogisticRegression",
          "LogisticRegression",
          "LogisticRegression",
          "LogisticRegression",
          "LogisticRegression",
          "LogisticRegression",
          "LogisticRegression",
          "LogisticRegression",
          "LogisticRegression",
          "LogisticRegression",
          "LogisticRegression",
          "LogisticRegression",
          "LogisticRegression",
          "LogisticRegression",
          "SVC",
          "SVC",
          "SVC",
          "SVC",
          "SVC",
          "SVC",
          "SVC",
          "SVC",
          "SVC",
          "SVC",
          "SVC",
          "SVC",
          "SVC",
          "SVC",
          "SVC",
          "SVC",
          "SVC",
          "SVC",
          "SVC",
          "SVC",
          "RandomForestClassifier",
          "RandomForestClassifier",
          "RandomForestClassifier",
          "RandomForestClassifier",
          "RandomForestClassifier",
          "RandomForestClassifier",
          "RandomForestClassifier",
          "RandomForestClassifier",
          "RandomForestClassifier",
          "RandomForestClassifier",
          "RandomForestClassifier",
          "RandomForestClassifier",
          "RandomForestClassifier",
          "RandomForestClassifier",
          "RandomForestClassifier",
          "RandomForestClassifier",
          "RandomForestClassifier",
          "RandomForestClassifier",
          "RandomForestClassifier",
          "RandomForestClassifier",
          "GradientBoostingClassifier",
          "GradientBoostingClassifier",
          "GradientBoostingClassifier",
          "GradientBoostingClassifier",
          "GradientBoostingClassifier",
          "GradientBoostingClassifier",
          "GradientBoostingClassifier",
          "GradientBoostingClassifier",
          "GradientBoostingClassifier",
          "GradientBoostingClassifier",
          "GradientBoostingClassifier",
          "GradientBoostingClassifier",
          "GradientBoostingClassifier",
          "GradientBoostingClassifier",
          "GradientBoostingClassifier",
          "GradientBoostingClassifier",
          "GradientBoostingClassifier",
          "GradientBoostingClassifier",
          "GradientBoostingClassifier",
          "GradientBoostingClassifier",
          "DeepNeuralNetwork",
          "DeepNeuralNetwork",
          "DeepNeuralNetwork",
          "DeepNeuralNetwork",
          "DeepNeuralNetwork",
          "DeepNeuralNetwork",
          "DeepNeuralNetwork",
          "DeepNeuralNetwork",
          "DeepNeuralNetwork",
          "DeepNeuralNetwork",
          "DeepNeuralNetwork",
          "DeepNeuralNetwork",
          "DeepNeuralNetwork",
          "DeepNeuralNetwork",
          "DeepNeuralNetwork",
          "DeepNeuralNetwork",
          "DeepNeuralNetwork",
          "DeepNeuralNetwork",
          "DeepNeuralNetwork",
          "DeepNeuralNetwork"
         ],
         "y": [
          1617,
          1617,
          1617,
          1617,
          1617,
          1617,
          1617,
          1617,
          1617,
          1617,
          1617,
          1617,
          1617,
          1617,
          1617,
          1617,
          1617,
          1617,
          1617,
          1617,
          74858,
          74970,
          74914,
          74914,
          75026,
          74970,
          74886,
          74942,
          74970,
          74914,
          74914,
          74914,
          74970,
          74970,
          74830,
          74970,
          74886,
          74886,
          74914,
          74886,
          2508,
          2508,
          2508,
          2508,
          2508,
          2508,
          2508,
          2508,
          2508,
          2508,
          2508,
          2508,
          2508,
          2508,
          2508,
          2508,
          2508,
          2508,
          2508,
          2508,
          3733,
          3733,
          3733,
          3733,
          3733,
          3733,
          3733,
          3733,
          3733,
          3733,
          3733,
          3733,
          3733,
          3733,
          3733,
          3733,
          3733,
          3733,
          3733,
          3733,
          8322,
          8322,
          8322,
          8322,
          8322,
          8322,
          8322,
          8322,
          8322,
          8322,
          8322,
          8322,
          8322,
          8322,
          8322,
          8322,
          8322,
          8322,
          8322,
          8322
         ]
        },
        {
         "name": "SS",
         "type": "box",
         "x": [
          "LogisticRegression",
          "LogisticRegression",
          "LogisticRegression",
          "LogisticRegression",
          "LogisticRegression",
          "LogisticRegression",
          "LogisticRegression",
          "LogisticRegression",
          "LogisticRegression",
          "LogisticRegression",
          "LogisticRegression",
          "LogisticRegression",
          "LogisticRegression",
          "LogisticRegression",
          "LogisticRegression",
          "LogisticRegression",
          "LogisticRegression",
          "LogisticRegression",
          "LogisticRegression",
          "LogisticRegression",
          "SVC",
          "SVC",
          "SVC",
          "SVC",
          "SVC",
          "SVC",
          "SVC",
          "SVC",
          "SVC",
          "SVC",
          "SVC",
          "SVC",
          "SVC",
          "SVC",
          "SVC",
          "SVC",
          "SVC",
          "SVC",
          "SVC",
          "SVC",
          "RandomForestClassifier",
          "RandomForestClassifier",
          "RandomForestClassifier",
          "RandomForestClassifier",
          "RandomForestClassifier",
          "RandomForestClassifier",
          "RandomForestClassifier",
          "RandomForestClassifier",
          "RandomForestClassifier",
          "RandomForestClassifier",
          "RandomForestClassifier",
          "RandomForestClassifier",
          "RandomForestClassifier",
          "RandomForestClassifier",
          "RandomForestClassifier",
          "RandomForestClassifier",
          "RandomForestClassifier",
          "RandomForestClassifier",
          "RandomForestClassifier",
          "RandomForestClassifier",
          "GradientBoostingClassifier",
          "GradientBoostingClassifier",
          "GradientBoostingClassifier",
          "GradientBoostingClassifier",
          "GradientBoostingClassifier",
          "GradientBoostingClassifier",
          "GradientBoostingClassifier",
          "GradientBoostingClassifier",
          "GradientBoostingClassifier",
          "GradientBoostingClassifier",
          "GradientBoostingClassifier",
          "GradientBoostingClassifier",
          "GradientBoostingClassifier",
          "GradientBoostingClassifier",
          "GradientBoostingClassifier",
          "GradientBoostingClassifier",
          "GradientBoostingClassifier",
          "GradientBoostingClassifier",
          "GradientBoostingClassifier",
          "GradientBoostingClassifier",
          "DeepNeuralNetwork",
          "DeepNeuralNetwork",
          "DeepNeuralNetwork",
          "DeepNeuralNetwork",
          "DeepNeuralNetwork",
          "DeepNeuralNetwork",
          "DeepNeuralNetwork",
          "DeepNeuralNetwork",
          "DeepNeuralNetwork",
          "DeepNeuralNetwork",
          "DeepNeuralNetwork",
          "DeepNeuralNetwork",
          "DeepNeuralNetwork",
          "DeepNeuralNetwork",
          "DeepNeuralNetwork",
          "DeepNeuralNetwork",
          "DeepNeuralNetwork",
          "DeepNeuralNetwork",
          "DeepNeuralNetwork",
          "DeepNeuralNetwork"
         ],
         "y": [
          1617,
          1617,
          1617,
          1617,
          1617,
          1617,
          1617,
          1617,
          1617,
          1617,
          1617,
          1617,
          1617,
          1617,
          1617,
          1617,
          1617,
          1617,
          1617,
          1617,
          121422,
          130662,
          120190,
          128814,
          122038,
          129122,
          125426,
          122346,
          122962,
          126042,
          126042,
          118650,
          121114,
          121422,
          132818,
          120806,
          130354,
          125426,
          118958,
          122038,
          2508,
          2508,
          2508,
          2508,
          2508,
          2508,
          2508,
          2508,
          2508,
          2508,
          2508,
          2508,
          2508,
          2508,
          2508,
          2508,
          2508,
          2508,
          2508,
          2508,
          3733,
          3733,
          3733,
          3733,
          3733,
          3733,
          3733,
          3733,
          3733,
          3733,
          3733,
          3733,
          3733,
          3733,
          3733,
          3733,
          3733,
          3733,
          3733,
          3733,
          8322,
          8322,
          8322,
          8322,
          8322,
          8322,
          8322,
          8322,
          8322,
          8322,
          8322,
          8322,
          8322,
          8322,
          8322,
          8322,
          8322,
          8322,
          8322,
          8322
         ]
        },
        {
         "name": "SS & FR",
         "type": "box",
         "x": [
          "LogisticRegression",
          "LogisticRegression",
          "LogisticRegression",
          "LogisticRegression",
          "LogisticRegression",
          "LogisticRegression",
          "LogisticRegression",
          "LogisticRegression",
          "LogisticRegression",
          "LogisticRegression",
          "LogisticRegression",
          "LogisticRegression",
          "LogisticRegression",
          "LogisticRegression",
          "LogisticRegression",
          "LogisticRegression",
          "LogisticRegression",
          "LogisticRegression",
          "LogisticRegression",
          "LogisticRegression",
          "SVC",
          "SVC",
          "SVC",
          "SVC",
          "SVC",
          "SVC",
          "SVC",
          "SVC",
          "SVC",
          "SVC",
          "SVC",
          "SVC",
          "SVC",
          "SVC",
          "SVC",
          "SVC",
          "SVC",
          "SVC",
          "SVC",
          "SVC",
          "RandomForestClassifier",
          "RandomForestClassifier",
          "RandomForestClassifier",
          "RandomForestClassifier",
          "RandomForestClassifier",
          "RandomForestClassifier",
          "RandomForestClassifier",
          "RandomForestClassifier",
          "RandomForestClassifier",
          "RandomForestClassifier",
          "RandomForestClassifier",
          "RandomForestClassifier",
          "RandomForestClassifier",
          "RandomForestClassifier",
          "RandomForestClassifier",
          "RandomForestClassifier",
          "RandomForestClassifier",
          "RandomForestClassifier",
          "RandomForestClassifier",
          "RandomForestClassifier",
          "GradientBoostingClassifier",
          "GradientBoostingClassifier",
          "GradientBoostingClassifier",
          "GradientBoostingClassifier",
          "GradientBoostingClassifier",
          "GradientBoostingClassifier",
          "GradientBoostingClassifier",
          "GradientBoostingClassifier",
          "GradientBoostingClassifier",
          "GradientBoostingClassifier",
          "GradientBoostingClassifier",
          "GradientBoostingClassifier",
          "GradientBoostingClassifier",
          "GradientBoostingClassifier",
          "GradientBoostingClassifier",
          "GradientBoostingClassifier",
          "GradientBoostingClassifier",
          "GradientBoostingClassifier",
          "GradientBoostingClassifier",
          "GradientBoostingClassifier",
          "DeepNeuralNetwork",
          "DeepNeuralNetwork",
          "DeepNeuralNetwork",
          "DeepNeuralNetwork",
          "DeepNeuralNetwork",
          "DeepNeuralNetwork",
          "DeepNeuralNetwork",
          "DeepNeuralNetwork",
          "DeepNeuralNetwork",
          "DeepNeuralNetwork",
          "DeepNeuralNetwork",
          "DeepNeuralNetwork",
          "DeepNeuralNetwork",
          "DeepNeuralNetwork",
          "DeepNeuralNetwork",
          "DeepNeuralNetwork",
          "DeepNeuralNetwork",
          "DeepNeuralNetwork",
          "DeepNeuralNetwork",
          "DeepNeuralNetwork"
         ],
         "y": [
          1617,
          1617,
          1617,
          1617,
          1617,
          1617,
          1617,
          1617,
          1617,
          1617,
          1617,
          1617,
          1617,
          1617,
          1617,
          1617,
          1617,
          1617,
          1617,
          1617,
          17598,
          17654,
          17626,
          17570,
          17626,
          17682,
          17738,
          17598,
          17570,
          17570,
          17654,
          17514,
          17514,
          17654,
          17654,
          17766,
          17626,
          17514,
          17514,
          17570,
          2508,
          2508,
          2508,
          2508,
          2508,
          2508,
          2508,
          2508,
          2508,
          2508,
          2508,
          2508,
          2508,
          2508,
          2508,
          2508,
          2508,
          2508,
          2508,
          2508,
          3733,
          3733,
          3733,
          3733,
          3733,
          3733,
          3733,
          3733,
          3733,
          3733,
          3733,
          3733,
          3733,
          3733,
          3733,
          3733,
          3733,
          3733,
          3733,
          3733,
          8322,
          8322,
          8322,
          8322,
          8322,
          8322,
          8322,
          8322,
          8322,
          8322,
          8322,
          8322,
          8322,
          8322,
          8322,
          8322,
          8322,
          8322,
          8322,
          8322
         ]
        }
       ],
       "layout": {
        "boxmode": "group",
        "template": {
         "data": {
          "bar": [
           {
            "error_x": {
             "color": "#2a3f5f"
            },
            "error_y": {
             "color": "#2a3f5f"
            },
            "marker": {
             "line": {
              "color": "#E5ECF6",
              "width": 0.5
             },
             "pattern": {
              "fillmode": "overlay",
              "size": 10,
              "solidity": 0.2
             }
            },
            "type": "bar"
           }
          ],
          "barpolar": [
           {
            "marker": {
             "line": {
              "color": "#E5ECF6",
              "width": 0.5
             },
             "pattern": {
              "fillmode": "overlay",
              "size": 10,
              "solidity": 0.2
             }
            },
            "type": "barpolar"
           }
          ],
          "carpet": [
           {
            "aaxis": {
             "endlinecolor": "#2a3f5f",
             "gridcolor": "white",
             "linecolor": "white",
             "minorgridcolor": "white",
             "startlinecolor": "#2a3f5f"
            },
            "baxis": {
             "endlinecolor": "#2a3f5f",
             "gridcolor": "white",
             "linecolor": "white",
             "minorgridcolor": "white",
             "startlinecolor": "#2a3f5f"
            },
            "type": "carpet"
           }
          ],
          "choropleth": [
           {
            "colorbar": {
             "outlinewidth": 0,
             "ticks": ""
            },
            "type": "choropleth"
           }
          ],
          "contour": [
           {
            "colorbar": {
             "outlinewidth": 0,
             "ticks": ""
            },
            "colorscale": [
             [
              0,
              "#0d0887"
             ],
             [
              0.1111111111111111,
              "#46039f"
             ],
             [
              0.2222222222222222,
              "#7201a8"
             ],
             [
              0.3333333333333333,
              "#9c179e"
             ],
             [
              0.4444444444444444,
              "#bd3786"
             ],
             [
              0.5555555555555556,
              "#d8576b"
             ],
             [
              0.6666666666666666,
              "#ed7953"
             ],
             [
              0.7777777777777778,
              "#fb9f3a"
             ],
             [
              0.8888888888888888,
              "#fdca26"
             ],
             [
              1,
              "#f0f921"
             ]
            ],
            "type": "contour"
           }
          ],
          "contourcarpet": [
           {
            "colorbar": {
             "outlinewidth": 0,
             "ticks": ""
            },
            "type": "contourcarpet"
           }
          ],
          "heatmap": [
           {
            "colorbar": {
             "outlinewidth": 0,
             "ticks": ""
            },
            "colorscale": [
             [
              0,
              "#0d0887"
             ],
             [
              0.1111111111111111,
              "#46039f"
             ],
             [
              0.2222222222222222,
              "#7201a8"
             ],
             [
              0.3333333333333333,
              "#9c179e"
             ],
             [
              0.4444444444444444,
              "#bd3786"
             ],
             [
              0.5555555555555556,
              "#d8576b"
             ],
             [
              0.6666666666666666,
              "#ed7953"
             ],
             [
              0.7777777777777778,
              "#fb9f3a"
             ],
             [
              0.8888888888888888,
              "#fdca26"
             ],
             [
              1,
              "#f0f921"
             ]
            ],
            "type": "heatmap"
           }
          ],
          "heatmapgl": [
           {
            "colorbar": {
             "outlinewidth": 0,
             "ticks": ""
            },
            "colorscale": [
             [
              0,
              "#0d0887"
             ],
             [
              0.1111111111111111,
              "#46039f"
             ],
             [
              0.2222222222222222,
              "#7201a8"
             ],
             [
              0.3333333333333333,
              "#9c179e"
             ],
             [
              0.4444444444444444,
              "#bd3786"
             ],
             [
              0.5555555555555556,
              "#d8576b"
             ],
             [
              0.6666666666666666,
              "#ed7953"
             ],
             [
              0.7777777777777778,
              "#fb9f3a"
             ],
             [
              0.8888888888888888,
              "#fdca26"
             ],
             [
              1,
              "#f0f921"
             ]
            ],
            "type": "heatmapgl"
           }
          ],
          "histogram": [
           {
            "marker": {
             "pattern": {
              "fillmode": "overlay",
              "size": 10,
              "solidity": 0.2
             }
            },
            "type": "histogram"
           }
          ],
          "histogram2d": [
           {
            "colorbar": {
             "outlinewidth": 0,
             "ticks": ""
            },
            "colorscale": [
             [
              0,
              "#0d0887"
             ],
             [
              0.1111111111111111,
              "#46039f"
             ],
             [
              0.2222222222222222,
              "#7201a8"
             ],
             [
              0.3333333333333333,
              "#9c179e"
             ],
             [
              0.4444444444444444,
              "#bd3786"
             ],
             [
              0.5555555555555556,
              "#d8576b"
             ],
             [
              0.6666666666666666,
              "#ed7953"
             ],
             [
              0.7777777777777778,
              "#fb9f3a"
             ],
             [
              0.8888888888888888,
              "#fdca26"
             ],
             [
              1,
              "#f0f921"
             ]
            ],
            "type": "histogram2d"
           }
          ],
          "histogram2dcontour": [
           {
            "colorbar": {
             "outlinewidth": 0,
             "ticks": ""
            },
            "colorscale": [
             [
              0,
              "#0d0887"
             ],
             [
              0.1111111111111111,
              "#46039f"
             ],
             [
              0.2222222222222222,
              "#7201a8"
             ],
             [
              0.3333333333333333,
              "#9c179e"
             ],
             [
              0.4444444444444444,
              "#bd3786"
             ],
             [
              0.5555555555555556,
              "#d8576b"
             ],
             [
              0.6666666666666666,
              "#ed7953"
             ],
             [
              0.7777777777777778,
              "#fb9f3a"
             ],
             [
              0.8888888888888888,
              "#fdca26"
             ],
             [
              1,
              "#f0f921"
             ]
            ],
            "type": "histogram2dcontour"
           }
          ],
          "mesh3d": [
           {
            "colorbar": {
             "outlinewidth": 0,
             "ticks": ""
            },
            "type": "mesh3d"
           }
          ],
          "parcoords": [
           {
            "line": {
             "colorbar": {
              "outlinewidth": 0,
              "ticks": ""
             }
            },
            "type": "parcoords"
           }
          ],
          "pie": [
           {
            "automargin": true,
            "type": "pie"
           }
          ],
          "scatter": [
           {
            "fillpattern": {
             "fillmode": "overlay",
             "size": 10,
             "solidity": 0.2
            },
            "type": "scatter"
           }
          ],
          "scatter3d": [
           {
            "line": {
             "colorbar": {
              "outlinewidth": 0,
              "ticks": ""
             }
            },
            "marker": {
             "colorbar": {
              "outlinewidth": 0,
              "ticks": ""
             }
            },
            "type": "scatter3d"
           }
          ],
          "scattercarpet": [
           {
            "marker": {
             "colorbar": {
              "outlinewidth": 0,
              "ticks": ""
             }
            },
            "type": "scattercarpet"
           }
          ],
          "scattergeo": [
           {
            "marker": {
             "colorbar": {
              "outlinewidth": 0,
              "ticks": ""
             }
            },
            "type": "scattergeo"
           }
          ],
          "scattergl": [
           {
            "marker": {
             "colorbar": {
              "outlinewidth": 0,
              "ticks": ""
             }
            },
            "type": "scattergl"
           }
          ],
          "scattermapbox": [
           {
            "marker": {
             "colorbar": {
              "outlinewidth": 0,
              "ticks": ""
             }
            },
            "type": "scattermapbox"
           }
          ],
          "scatterpolar": [
           {
            "marker": {
             "colorbar": {
              "outlinewidth": 0,
              "ticks": ""
             }
            },
            "type": "scatterpolar"
           }
          ],
          "scatterpolargl": [
           {
            "marker": {
             "colorbar": {
              "outlinewidth": 0,
              "ticks": ""
             }
            },
            "type": "scatterpolargl"
           }
          ],
          "scatterternary": [
           {
            "marker": {
             "colorbar": {
              "outlinewidth": 0,
              "ticks": ""
             }
            },
            "type": "scatterternary"
           }
          ],
          "surface": [
           {
            "colorbar": {
             "outlinewidth": 0,
             "ticks": ""
            },
            "colorscale": [
             [
              0,
              "#0d0887"
             ],
             [
              0.1111111111111111,
              "#46039f"
             ],
             [
              0.2222222222222222,
              "#7201a8"
             ],
             [
              0.3333333333333333,
              "#9c179e"
             ],
             [
              0.4444444444444444,
              "#bd3786"
             ],
             [
              0.5555555555555556,
              "#d8576b"
             ],
             [
              0.6666666666666666,
              "#ed7953"
             ],
             [
              0.7777777777777778,
              "#fb9f3a"
             ],
             [
              0.8888888888888888,
              "#fdca26"
             ],
             [
              1,
              "#f0f921"
             ]
            ],
            "type": "surface"
           }
          ],
          "table": [
           {
            "cells": {
             "fill": {
              "color": "#EBF0F8"
             },
             "line": {
              "color": "white"
             }
            },
            "header": {
             "fill": {
              "color": "#C8D4E3"
             },
             "line": {
              "color": "white"
             }
            },
            "type": "table"
           }
          ]
         },
         "layout": {
          "annotationdefaults": {
           "arrowcolor": "#2a3f5f",
           "arrowhead": 0,
           "arrowwidth": 1
          },
          "autotypenumbers": "strict",
          "coloraxis": {
           "colorbar": {
            "outlinewidth": 0,
            "ticks": ""
           }
          },
          "colorscale": {
           "diverging": [
            [
             0,
             "#8e0152"
            ],
            [
             0.1,
             "#c51b7d"
            ],
            [
             0.2,
             "#de77ae"
            ],
            [
             0.3,
             "#f1b6da"
            ],
            [
             0.4,
             "#fde0ef"
            ],
            [
             0.5,
             "#f7f7f7"
            ],
            [
             0.6,
             "#e6f5d0"
            ],
            [
             0.7,
             "#b8e186"
            ],
            [
             0.8,
             "#7fbc41"
            ],
            [
             0.9,
             "#4d9221"
            ],
            [
             1,
             "#276419"
            ]
           ],
           "sequential": [
            [
             0,
             "#0d0887"
            ],
            [
             0.1111111111111111,
             "#46039f"
            ],
            [
             0.2222222222222222,
             "#7201a8"
            ],
            [
             0.3333333333333333,
             "#9c179e"
            ],
            [
             0.4444444444444444,
             "#bd3786"
            ],
            [
             0.5555555555555556,
             "#d8576b"
            ],
            [
             0.6666666666666666,
             "#ed7953"
            ],
            [
             0.7777777777777778,
             "#fb9f3a"
            ],
            [
             0.8888888888888888,
             "#fdca26"
            ],
            [
             1,
             "#f0f921"
            ]
           ],
           "sequentialminus": [
            [
             0,
             "#0d0887"
            ],
            [
             0.1111111111111111,
             "#46039f"
            ],
            [
             0.2222222222222222,
             "#7201a8"
            ],
            [
             0.3333333333333333,
             "#9c179e"
            ],
            [
             0.4444444444444444,
             "#bd3786"
            ],
            [
             0.5555555555555556,
             "#d8576b"
            ],
            [
             0.6666666666666666,
             "#ed7953"
            ],
            [
             0.7777777777777778,
             "#fb9f3a"
            ],
            [
             0.8888888888888888,
             "#fdca26"
            ],
            [
             1,
             "#f0f921"
            ]
           ]
          },
          "colorway": [
           "#636efa",
           "#EF553B",
           "#00cc96",
           "#ab63fa",
           "#FFA15A",
           "#19d3f3",
           "#FF6692",
           "#B6E880",
           "#FF97FF",
           "#FECB52"
          ],
          "font": {
           "color": "#2a3f5f"
          },
          "geo": {
           "bgcolor": "white",
           "lakecolor": "white",
           "landcolor": "#E5ECF6",
           "showlakes": true,
           "showland": true,
           "subunitcolor": "white"
          },
          "hoverlabel": {
           "align": "left"
          },
          "hovermode": "closest",
          "mapbox": {
           "style": "light"
          },
          "paper_bgcolor": "white",
          "plot_bgcolor": "#E5ECF6",
          "polar": {
           "angularaxis": {
            "gridcolor": "white",
            "linecolor": "white",
            "ticks": ""
           },
           "bgcolor": "#E5ECF6",
           "radialaxis": {
            "gridcolor": "white",
            "linecolor": "white",
            "ticks": ""
           }
          },
          "scene": {
           "xaxis": {
            "backgroundcolor": "#E5ECF6",
            "gridcolor": "white",
            "gridwidth": 2,
            "linecolor": "white",
            "showbackground": true,
            "ticks": "",
            "zerolinecolor": "white"
           },
           "yaxis": {
            "backgroundcolor": "#E5ECF6",
            "gridcolor": "white",
            "gridwidth": 2,
            "linecolor": "white",
            "showbackground": true,
            "ticks": "",
            "zerolinecolor": "white"
           },
           "zaxis": {
            "backgroundcolor": "#E5ECF6",
            "gridcolor": "white",
            "gridwidth": 2,
            "linecolor": "white",
            "showbackground": true,
            "ticks": "",
            "zerolinecolor": "white"
           }
          },
          "shapedefaults": {
           "line": {
            "color": "#2a3f5f"
           }
          },
          "ternary": {
           "aaxis": {
            "gridcolor": "white",
            "linecolor": "white",
            "ticks": ""
           },
           "baxis": {
            "gridcolor": "white",
            "linecolor": "white",
            "ticks": ""
           },
           "bgcolor": "#E5ECF6",
           "caxis": {
            "gridcolor": "white",
            "linecolor": "white",
            "ticks": ""
           }
          },
          "title": {
           "x": 0.05
          },
          "xaxis": {
           "automargin": true,
           "gridcolor": "white",
           "linecolor": "white",
           "ticks": "",
           "title": {
            "standoff": 15
           },
           "zerolinecolor": "white",
           "zerolinewidth": 2
          },
          "yaxis": {
           "automargin": true,
           "gridcolor": "white",
           "linecolor": "white",
           "ticks": "",
           "title": {
            "standoff": 15
           },
           "zerolinecolor": "white",
           "zerolinewidth": 2
          }
         }
        },
        "title": {
         "text": "model_size"
        },
        "yaxis": {
         "title": {
          "text": "model_size"
         }
        }
       }
      }
     },
     "metadata": {},
     "output_type": "display_data"
    }
   ],
   "source": [
    "make_plots('model_size')"
   ]
  },
  {
   "cell_type": "code",
   "execution_count": 8,
   "metadata": {},
   "outputs": [
    {
     "data": {
      "application/vnd.plotly.v1+json": {
       "config": {
        "plotlyServerURL": "https://plot.ly"
       },
       "data": [
        {
         "name": "Full",
         "type": "box",
         "x": [
          "LogisticRegression",
          "LogisticRegression",
          "LogisticRegression",
          "LogisticRegression",
          "LogisticRegression",
          "LogisticRegression",
          "LogisticRegression",
          "LogisticRegression",
          "LogisticRegression",
          "LogisticRegression",
          "LogisticRegression",
          "LogisticRegression",
          "LogisticRegression",
          "LogisticRegression",
          "LogisticRegression",
          "LogisticRegression",
          "LogisticRegression",
          "LogisticRegression",
          "LogisticRegression",
          "LogisticRegression",
          "SVC",
          "SVC",
          "SVC",
          "SVC",
          "SVC",
          "SVC",
          "SVC",
          "SVC",
          "SVC",
          "SVC",
          "SVC",
          "SVC",
          "SVC",
          "SVC",
          "SVC",
          "SVC",
          "SVC",
          "SVC",
          "SVC",
          "SVC",
          "RandomForestClassifier",
          "RandomForestClassifier",
          "RandomForestClassifier",
          "RandomForestClassifier",
          "RandomForestClassifier",
          "RandomForestClassifier",
          "RandomForestClassifier",
          "RandomForestClassifier",
          "RandomForestClassifier",
          "RandomForestClassifier",
          "RandomForestClassifier",
          "RandomForestClassifier",
          "RandomForestClassifier",
          "RandomForestClassifier",
          "RandomForestClassifier",
          "RandomForestClassifier",
          "RandomForestClassifier",
          "RandomForestClassifier",
          "RandomForestClassifier",
          "RandomForestClassifier",
          "GradientBoostingClassifier",
          "GradientBoostingClassifier",
          "GradientBoostingClassifier",
          "GradientBoostingClassifier",
          "GradientBoostingClassifier",
          "GradientBoostingClassifier",
          "GradientBoostingClassifier",
          "GradientBoostingClassifier",
          "GradientBoostingClassifier",
          "GradientBoostingClassifier",
          "GradientBoostingClassifier",
          "GradientBoostingClassifier",
          "GradientBoostingClassifier",
          "GradientBoostingClassifier",
          "GradientBoostingClassifier",
          "GradientBoostingClassifier",
          "GradientBoostingClassifier",
          "GradientBoostingClassifier",
          "GradientBoostingClassifier",
          "GradientBoostingClassifier",
          "DeepNeuralNetwork",
          "DeepNeuralNetwork",
          "DeepNeuralNetwork",
          "DeepNeuralNetwork",
          "DeepNeuralNetwork",
          "DeepNeuralNetwork",
          "DeepNeuralNetwork",
          "DeepNeuralNetwork",
          "DeepNeuralNetwork",
          "DeepNeuralNetwork",
          "DeepNeuralNetwork",
          "DeepNeuralNetwork",
          "DeepNeuralNetwork",
          "DeepNeuralNetwork",
          "DeepNeuralNetwork",
          "DeepNeuralNetwork",
          "DeepNeuralNetwork",
          "DeepNeuralNetwork",
          "DeepNeuralNetwork",
          "DeepNeuralNetwork"
         ],
         "y": [
          1.1399719632588373e-7,
          1.675133409701282e-7,
          3.420785958862735e-7,
          9.687975043894127e-8,
          9.688788094302377e-8,
          2.638591349163333e-7,
          9.689853288242373e-8,
          1.3093592116705105e-7,
          1.157548848128298e-7,
          1.249048789302501e-7,
          3.778101501121165e-7,
          1.10320947473673e-7,
          1.1517447437697088e-7,
          1.2919166859828165e-7,
          4.6928785971817044e-7,
          1.1576032149865358e-7,
          1.449432084875413e-7,
          2.161824655304637e-7,
          1.4066237118397914e-7,
          3.383759339089035e-7,
          1.577956352241325e-7,
          2.2083643414633205e-7,
          1.0234312216271525e-7,
          1.1089768177027781e-7,
          2.330687350208041e-7,
          2.466915019752256e-7,
          2.533100696474472e-7,
          9.144115464040232e-8,
          2.0389003192646665e-7,
          1.2744062847114962e-7,
          1.1089917184309989e-7,
          1.969010837311186e-7,
          2.3792937692279642e-7,
          7.316116845072079e-8,
          2.720049004055481e-7,
          1.476702466089025e-7,
          3.941661859512002e-7,
          2.945448969249656e-7,
          1.7511548034473273e-7,
          1.249165874940561e-7,
          1.334743234141303e-7,
          9.261211177113983e-8,
          9.31895420613546e-8,
          9.689791911991069e-8,
          2.1012412827585425e-7,
          1.2977780204301292e-7,
          9.942321288741036e-8,
          9.086148924052073e-8,
          3.540728758357273e-7,
          1.7469757340130706e-7,
          2.39888629449507e-7,
          1.054551393587372e-7,
          9.688616151633941e-8,
          3.245120757293732e-7,
          2.270530419573244e-7,
          2.865589742960528e-7,
          3.583324171864411e-7,
          1.0661809725798917e-7,
          3.645838549497238e-7,
          1.951515827183087e-7,
          1.4398455749214945e-7,
          1.231647200981151e-7,
          3.8003504601938354e-7,
          2.659475375416457e-7,
          1.0604415486697993e-7,
          9.689676441250461e-8,
          1.8309879138388166e-7,
          1.0662074996503625e-7,
          9.202226107073859e-8,
          2.1929639832263958e-7,
          3.49482249450625e-7,
          1.0117430205690977e-7,
          3.151649387474198e-7,
          3.060146171896677e-7,
          2.130712835266002e-7,
          1.439825106225312e-7,
          1.1089898360131661e-7,
          2.573872549269454e-7,
          1.017487110867993e-7,
          8.774686045213281e-8,
          9.57252504858383e-8,
          8.7166081461261e-8,
          3.6869215058656795e-7,
          1.0175759455454543e-7,
          1.4942868013182592e-7,
          1.2004070008928697e-7,
          1.1090000703612575e-7,
          9.630453940388807e-8,
          9.63043100491584e-8,
          1.0603568899487936e-7,
          9.202826247670799e-8,
          7.803524627002234e-8,
          9.08607932460434e-8,
          7.860487349388434e-8,
          1.8443406951847155e-7,
          1.0115895847026547e-7,
          3.3249274198569184e-7,
          1.1402584455897509e-7,
          9.631867924336097e-8,
          8.230381028789814e-8
         ]
        },
        {
         "name": "FR",
         "type": "box",
         "x": [
          "LogisticRegression",
          "LogisticRegression",
          "LogisticRegression",
          "LogisticRegression",
          "LogisticRegression",
          "LogisticRegression",
          "LogisticRegression",
          "LogisticRegression",
          "LogisticRegression",
          "LogisticRegression",
          "LogisticRegression",
          "LogisticRegression",
          "LogisticRegression",
          "LogisticRegression",
          "LogisticRegression",
          "LogisticRegression",
          "LogisticRegression",
          "LogisticRegression",
          "LogisticRegression",
          "LogisticRegression",
          "SVC",
          "SVC",
          "SVC",
          "SVC",
          "SVC",
          "SVC",
          "SVC",
          "SVC",
          "SVC",
          "SVC",
          "SVC",
          "SVC",
          "SVC",
          "SVC",
          "SVC",
          "SVC",
          "SVC",
          "SVC",
          "SVC",
          "SVC",
          "RandomForestClassifier",
          "RandomForestClassifier",
          "RandomForestClassifier",
          "RandomForestClassifier",
          "RandomForestClassifier",
          "RandomForestClassifier",
          "RandomForestClassifier",
          "RandomForestClassifier",
          "RandomForestClassifier",
          "RandomForestClassifier",
          "RandomForestClassifier",
          "RandomForestClassifier",
          "RandomForestClassifier",
          "RandomForestClassifier",
          "RandomForestClassifier",
          "RandomForestClassifier",
          "RandomForestClassifier",
          "RandomForestClassifier",
          "RandomForestClassifier",
          "RandomForestClassifier",
          "GradientBoostingClassifier",
          "GradientBoostingClassifier",
          "GradientBoostingClassifier",
          "GradientBoostingClassifier",
          "GradientBoostingClassifier",
          "GradientBoostingClassifier",
          "GradientBoostingClassifier",
          "GradientBoostingClassifier",
          "GradientBoostingClassifier",
          "GradientBoostingClassifier",
          "GradientBoostingClassifier",
          "GradientBoostingClassifier",
          "GradientBoostingClassifier",
          "GradientBoostingClassifier",
          "GradientBoostingClassifier",
          "GradientBoostingClassifier",
          "GradientBoostingClassifier",
          "GradientBoostingClassifier",
          "GradientBoostingClassifier",
          "GradientBoostingClassifier",
          "DeepNeuralNetwork",
          "DeepNeuralNetwork",
          "DeepNeuralNetwork",
          "DeepNeuralNetwork",
          "DeepNeuralNetwork",
          "DeepNeuralNetwork",
          "DeepNeuralNetwork",
          "DeepNeuralNetwork",
          "DeepNeuralNetwork",
          "DeepNeuralNetwork",
          "DeepNeuralNetwork",
          "DeepNeuralNetwork",
          "DeepNeuralNetwork",
          "DeepNeuralNetwork",
          "DeepNeuralNetwork",
          "DeepNeuralNetwork",
          "DeepNeuralNetwork",
          "DeepNeuralNetwork",
          "DeepNeuralNetwork",
          "DeepNeuralNetwork"
         ],
         "y": [
          5.869277244904478e-7,
          2.3134458258192853e-7,
          2.015609145552752e-7,
          3.511668359296172e-7,
          2.221856559543947e-7,
          1.9668915407587e-7,
          1.7412837169990952e-7,
          1.7354903374035976e-7,
          5.729152709596161e-7,
          2.470732794763314e-7,
          2.768642404747668e-7,
          3.583479490148686e-7,
          1.8872035143294166e-7,
          2.033200029588622e-7,
          6.598800747058958e-7,
          2.1984839222461558e-7,
          3.44361916533413e-7,
          4.501733946622733e-7,
          9.719295494710345e-7,
          2.768721495492038e-7,
          3.116990860202104e-7,
          2.227641096785513e-7,
          5.532963874626748e-7,
          8.89622808080727e-7,
          2.4573787006914455e-7,
          1.5467096033464078e-7,
          4.616432541272586e-7,
          2.081652031877407e-7,
          1.5518682010880885e-7,
          9.410050626195572e-7,
          3.881139402613434e-7,
          5.680670004263103e-7,
          6.464606813758392e-7,
          4.21579801577858e-7,
          5.729189470997376e-7,
          1.5467751853567166e-7,
          3.4435200963085777e-7,
          5.242879086951591e-7,
          6.157335256272087e-7,
          1.6809649426921538e-7,
          7.911937697935995e-7,
          1.8987191235508158e-7,
          1.626393207358398e-7,
          1.4065334851594974e-7,
          3.492045130993465e-7,
          2.770666009321507e-7,
          1.2664759238643214e-7,
          5.486077304340739e-7,
          1.9474813512613406e-7,
          5.194276843922818e-7,
          2.994075856948414e-7,
          1.5350800243625617e-7,
          2.2334400443402985e-7,
          2.476555485408927e-7,
          5.438906477269953e-7,
          7.680455110245857e-7,
          1.8327957749218748e-7,
          1.2665926776064126e-7,
          2.0155593658324758e-7,
          7.242490620276362e-7,
          3.34620720841318e-7,
          2.7937493010492254e-7,
          4.4647821623947787e-7,
          3.929810913228665e-7,
          1.717923196441207e-7,
          6.513210939213671e-7,
          1.7665793951814057e-7,
          1.5038481762045394e-7,
          1.735455869558353e-7,
          5.740983131342567e-7,
          5.667221997960811e-7,
          4.128393466164976e-7,
          2.914064096354655e-7,
          2.6653069084160014e-7,
          3.394815509842261e-7,
          3.875294851286154e-7,
          2.027320599269286e-7,
          1.7413525734213953e-7,
          1.558288010615819e-7,
          6.227158745059774e-7,
          4.908253470378016e-7,
          1.597500161546611e-7,
          2.287844999750849e-7,
          1.589499390095006e-7,
          2.5563430712961105e-7,
          2.525215860114255e-7,
          1.406622731001117e-7,
          1.3579828249832976e-7,
          1.887359813435019e-7,
          1.3606592541397233e-7,
          2.609134697392768e-7,
          1.647252046710346e-7,
          1.3639283277279426e-7,
          3.7351824327350885e-7,
          1.7723500125507718e-7,
          1.512077325580355e-7,
          1.4033725148892426e-7,
          2.280347984892975e-7,
          1.487134859770589e-7,
          1.382222334879099e-7
         ]
        },
        {
         "name": "SS",
         "type": "box",
         "x": [
          "LogisticRegression",
          "LogisticRegression",
          "LogisticRegression",
          "LogisticRegression",
          "LogisticRegression",
          "LogisticRegression",
          "LogisticRegression",
          "LogisticRegression",
          "LogisticRegression",
          "LogisticRegression",
          "LogisticRegression",
          "LogisticRegression",
          "LogisticRegression",
          "LogisticRegression",
          "LogisticRegression",
          "LogisticRegression",
          "LogisticRegression",
          "LogisticRegression",
          "LogisticRegression",
          "LogisticRegression",
          "SVC",
          "SVC",
          "SVC",
          "SVC",
          "SVC",
          "SVC",
          "SVC",
          "SVC",
          "SVC",
          "SVC",
          "SVC",
          "SVC",
          "SVC",
          "SVC",
          "SVC",
          "SVC",
          "SVC",
          "SVC",
          "SVC",
          "SVC",
          "RandomForestClassifier",
          "RandomForestClassifier",
          "RandomForestClassifier",
          "RandomForestClassifier",
          "RandomForestClassifier",
          "RandomForestClassifier",
          "RandomForestClassifier",
          "RandomForestClassifier",
          "RandomForestClassifier",
          "RandomForestClassifier",
          "RandomForestClassifier",
          "RandomForestClassifier",
          "RandomForestClassifier",
          "RandomForestClassifier",
          "RandomForestClassifier",
          "RandomForestClassifier",
          "RandomForestClassifier",
          "RandomForestClassifier",
          "RandomForestClassifier",
          "RandomForestClassifier",
          "GradientBoostingClassifier",
          "GradientBoostingClassifier",
          "GradientBoostingClassifier",
          "GradientBoostingClassifier",
          "GradientBoostingClassifier",
          "GradientBoostingClassifier",
          "GradientBoostingClassifier",
          "GradientBoostingClassifier",
          "GradientBoostingClassifier",
          "GradientBoostingClassifier",
          "GradientBoostingClassifier",
          "GradientBoostingClassifier",
          "GradientBoostingClassifier",
          "GradientBoostingClassifier",
          "GradientBoostingClassifier",
          "GradientBoostingClassifier",
          "GradientBoostingClassifier",
          "GradientBoostingClassifier",
          "GradientBoostingClassifier",
          "GradientBoostingClassifier",
          "DeepNeuralNetwork",
          "DeepNeuralNetwork",
          "DeepNeuralNetwork",
          "DeepNeuralNetwork",
          "DeepNeuralNetwork",
          "DeepNeuralNetwork",
          "DeepNeuralNetwork",
          "DeepNeuralNetwork",
          "DeepNeuralNetwork",
          "DeepNeuralNetwork",
          "DeepNeuralNetwork",
          "DeepNeuralNetwork",
          "DeepNeuralNetwork",
          "DeepNeuralNetwork",
          "DeepNeuralNetwork",
          "DeepNeuralNetwork",
          "DeepNeuralNetwork",
          "DeepNeuralNetwork",
          "DeepNeuralNetwork",
          "DeepNeuralNetwork"
         ],
         "y": [
          5.157313923776288e-7,
          7.149894121032119e-7,
          6.993856323722278e-7,
          7.430656629994412e-7,
          4.774416244406054e-7,
          6.172785884661636e-7,
          0.000001010840368621986,
          3.394808059465141e-7,
          6.639949285429034e-7,
          5.908655743708247e-7,
          3.626200910898658e-7,
          3.674960354629539e-7,
          4.5620419961665836e-7,
          6.11815306896836e-7,
          7.328333012290508e-7,
          5.929625330252861e-7,
          4.221607688096457e-7,
          5.917947853957897e-7,
          8.266138155086158e-7,
          9.70673808201386e-7,
          4.593220869486548e-7,
          4.930058793263872e-7,
          4.653478648877774e-7,
          4.988103854313211e-7,
          3.048489164297896e-7,
          3.2373061693326266e-7,
          7.213543289381202e-7,
          4.992265318316466e-7,
          4.361695462012233e-7,
          4.926115833320949e-7,
          4.599025875415622e-7,
          6.902301936421648e-7,
          4.032861833039997e-7,
          6.075552087519281e-7,
          6.565740237225726e-7,
          8.495584712959331e-7,
          5.550598947013513e-7,
          7.749288868826032e-7,
          4.4359096670366926e-7,
          8.976130538018712e-7,
          5.634030837906034e-7,
          3.735199627010605e-7,
          2.811295973324107e-7,
          2.221698868435512e-7,
          4.978482168235127e-7,
          3.005715670263004e-7,
          2.7199100019036776e-7,
          4.075656286194746e-7,
          4.190455832270637e-7,
          2.081635739163701e-7,
          3.83237995887388e-7,
          2.828409196896711e-7,
          5.972472347090182e-7,
          4.859130826387337e-7,
          5.043072497457404e-7,
          2.616643259316029e-7,
          4.797744258787373e-7,
          3.77630771843801e-7,
          3.054397905632653e-7,
          3.595181611104961e-7,
          3.984188440024281e-7,
          2.659473983430971e-7,
          6.204082413285503e-7,
          4.172946822967455e-7,
          4.2216207064155197e-7,
          3.060252691282004e-7,
          7.291336193990597e-7,
          7.096813252034997e-7,
          2.822760901246072e-7,
          6.075463252833146e-7,
          4.095113471432738e-7,
          8.604479693665595e-7,
          6.27005316878454e-7,
          6.159444397744671e-7,
          3.692457737590471e-7,
          5.362401388547475e-7,
          5.880921234201544e-7,
          2.774215397856328e-7,
          4.6222933853048986e-7,
          5.279892688388882e-7,
          4.373237107880429e-7,
          3.3461546447045853e-7,
          4.610591675512782e-7,
          4.804697050341672e-7,
          2.915347277841069e-7,
          5.303228564294132e-7,
          5.820693588145381e-7,
          1.9490493221186597e-7,
          4.61053125028893e-7,
          1.859721841784151e-7,
          4.37340561782601e-7,
          2.178945352664455e-7,
          2.1478228078714026e-7,
          1.941671678943463e-7,
          1.8314282084277989e-7,
          2.1965836435877686e-7,
          2.1510283714290535e-7,
          5.857660684248367e-7,
          5.529209000350657e-7,
          4.659274891729778e-7
         ]
        },
        {
         "name": "SS & FR",
         "type": "box",
         "x": [
          "LogisticRegression",
          "LogisticRegression",
          "LogisticRegression",
          "LogisticRegression",
          "LogisticRegression",
          "LogisticRegression",
          "LogisticRegression",
          "LogisticRegression",
          "LogisticRegression",
          "LogisticRegression",
          "LogisticRegression",
          "LogisticRegression",
          "LogisticRegression",
          "LogisticRegression",
          "LogisticRegression",
          "LogisticRegression",
          "LogisticRegression",
          "LogisticRegression",
          "LogisticRegression",
          "LogisticRegression",
          "SVC",
          "SVC",
          "SVC",
          "SVC",
          "SVC",
          "SVC",
          "SVC",
          "SVC",
          "SVC",
          "SVC",
          "SVC",
          "SVC",
          "SVC",
          "SVC",
          "SVC",
          "SVC",
          "SVC",
          "SVC",
          "SVC",
          "SVC",
          "RandomForestClassifier",
          "RandomForestClassifier",
          "RandomForestClassifier",
          "RandomForestClassifier",
          "RandomForestClassifier",
          "RandomForestClassifier",
          "RandomForestClassifier",
          "RandomForestClassifier",
          "RandomForestClassifier",
          "RandomForestClassifier",
          "RandomForestClassifier",
          "RandomForestClassifier",
          "RandomForestClassifier",
          "RandomForestClassifier",
          "RandomForestClassifier",
          "RandomForestClassifier",
          "RandomForestClassifier",
          "RandomForestClassifier",
          "RandomForestClassifier",
          "RandomForestClassifier",
          "GradientBoostingClassifier",
          "GradientBoostingClassifier",
          "GradientBoostingClassifier",
          "GradientBoostingClassifier",
          "GradientBoostingClassifier",
          "GradientBoostingClassifier",
          "GradientBoostingClassifier",
          "GradientBoostingClassifier",
          "GradientBoostingClassifier",
          "GradientBoostingClassifier",
          "GradientBoostingClassifier",
          "GradientBoostingClassifier",
          "GradientBoostingClassifier",
          "GradientBoostingClassifier",
          "GradientBoostingClassifier",
          "GradientBoostingClassifier",
          "GradientBoostingClassifier",
          "GradientBoostingClassifier",
          "GradientBoostingClassifier",
          "GradientBoostingClassifier",
          "DeepNeuralNetwork",
          "DeepNeuralNetwork",
          "DeepNeuralNetwork",
          "DeepNeuralNetwork",
          "DeepNeuralNetwork",
          "DeepNeuralNetwork",
          "DeepNeuralNetwork",
          "DeepNeuralNetwork",
          "DeepNeuralNetwork",
          "DeepNeuralNetwork",
          "DeepNeuralNetwork",
          "DeepNeuralNetwork",
          "DeepNeuralNetwork",
          "DeepNeuralNetwork",
          "DeepNeuralNetwork",
          "DeepNeuralNetwork",
          "DeepNeuralNetwork",
          "DeepNeuralNetwork",
          "DeepNeuralNetwork",
          "DeepNeuralNetwork"
         ],
         "y": [
          0.0000013779223535966,
          9.207606165764076e-7,
          0.0000011273573674057055,
          9.86312522727878e-7,
          9.972132295329658e-7,
          5.826546981809247e-7,
          7.680050972611041e-7,
          9.657047130729596e-7,
          9.954407052120695e-7,
          3.394835978521097e-7,
          0.000001127354853897207,
          3.2002795495676e-7,
          7.145428513400179e-7,
          9.279585222064444e-7,
          0.0000011376619927479584,
          3.960970219422933e-7,
          5.242899065224099e-7,
          5.371306088450267e-7,
          7.334127863131007e-7,
          6.06380902921401e-7,
          7.079300066784033e-7,
          3.357812142735714e-7,
          7.19430429972634e-7,
          6.501566949933951e-7,
          5.40018332947402e-7,
          3.589313316712875e-7,
          0.000001018811873014329,
          4.836443731502313e-7,
          9.140134556015132e-7,
          7.705672188090124e-7,
          0.0000011147177134433403,
          7.468420375050799e-7,
          0.000001397373812596532,
          7.31090546659055e-7,
          9.676431283588832e-7,
          5.626249736968847e-7,
          5.279833164744188e-7,
          7.637589507138859e-7,
          6.847898863428931e-7,
          4.2954604959847403e-7,
          4.379156573978277e-7,
          5.048357046583823e-7,
          5.431634685949815e-7,
          5.820739191900529e-7,
          4.568075432035551e-7,
          3.558176361589255e-7,
          5.431564927948357e-7,
          5.017162861397501e-7,
          4.3675065263155954e-7,
          2.573821377555019e-7,
          5.24870644399468e-7,
          3.692433092937833e-7,
          5.102644346690471e-7,
          4.914233852114716e-7,
          6.02673262973738e-7,
          2.566394120048082e-7,
          5.011440220624788e-7,
          3.540712956067241e-7,
          3.157454883826946e-7,
          4.569708168759151e-7,
          6.544399967613537e-7,
          4.562225803172657e-7,
          8.355477371926531e-7,
          5.194310330929389e-7,
          4.842220818384105e-7,
          7.22527332938476e-7,
          5.248704561576847e-7,
          6.836103241406391e-7,
          3.680830041015784e-7,
          6.075012609872699e-7,
          5.449159987940683e-7,
          7.410139512969982e-7,
          5.869429368053625e-7,
          0.0000010009079413160135,
          8.684258437198847e-7,
          2.871903682036964e-7,
          6.443431662212992e-7,
          8.555876960187128e-7,
          8.180423241559848e-7,
          6.16904294518765e-7,
          4.756679398282282e-7,
          2.61708375337219e-7,
          2.461147214803325e-7,
          4.945275914160566e-7,
          2.262331942120763e-7,
          2.806150366648983e-7,
          5.248745498943191e-7,
          6.124161780925175e-7,
          3.637949537171892e-7,
          7.542106238329904e-7,
          3.071799003547676e-7,
          2.488226903320928e-7,
          3.21709886771937e-7,
          2.6016138513374615e-7,
          2.384735355688908e-7,
          7.540351534040049e-7,
          5.297245888992788e-7,
          3.650687111275003e-7,
          8.448952016132036e-7,
          2.1361996984173293e-7
         ]
        }
       ],
       "layout": {
        "boxmode": "group",
        "template": {
         "data": {
          "bar": [
           {
            "error_x": {
             "color": "#2a3f5f"
            },
            "error_y": {
             "color": "#2a3f5f"
            },
            "marker": {
             "line": {
              "color": "#E5ECF6",
              "width": 0.5
             },
             "pattern": {
              "fillmode": "overlay",
              "size": 10,
              "solidity": 0.2
             }
            },
            "type": "bar"
           }
          ],
          "barpolar": [
           {
            "marker": {
             "line": {
              "color": "#E5ECF6",
              "width": 0.5
             },
             "pattern": {
              "fillmode": "overlay",
              "size": 10,
              "solidity": 0.2
             }
            },
            "type": "barpolar"
           }
          ],
          "carpet": [
           {
            "aaxis": {
             "endlinecolor": "#2a3f5f",
             "gridcolor": "white",
             "linecolor": "white",
             "minorgridcolor": "white",
             "startlinecolor": "#2a3f5f"
            },
            "baxis": {
             "endlinecolor": "#2a3f5f",
             "gridcolor": "white",
             "linecolor": "white",
             "minorgridcolor": "white",
             "startlinecolor": "#2a3f5f"
            },
            "type": "carpet"
           }
          ],
          "choropleth": [
           {
            "colorbar": {
             "outlinewidth": 0,
             "ticks": ""
            },
            "type": "choropleth"
           }
          ],
          "contour": [
           {
            "colorbar": {
             "outlinewidth": 0,
             "ticks": ""
            },
            "colorscale": [
             [
              0,
              "#0d0887"
             ],
             [
              0.1111111111111111,
              "#46039f"
             ],
             [
              0.2222222222222222,
              "#7201a8"
             ],
             [
              0.3333333333333333,
              "#9c179e"
             ],
             [
              0.4444444444444444,
              "#bd3786"
             ],
             [
              0.5555555555555556,
              "#d8576b"
             ],
             [
              0.6666666666666666,
              "#ed7953"
             ],
             [
              0.7777777777777778,
              "#fb9f3a"
             ],
             [
              0.8888888888888888,
              "#fdca26"
             ],
             [
              1,
              "#f0f921"
             ]
            ],
            "type": "contour"
           }
          ],
          "contourcarpet": [
           {
            "colorbar": {
             "outlinewidth": 0,
             "ticks": ""
            },
            "type": "contourcarpet"
           }
          ],
          "heatmap": [
           {
            "colorbar": {
             "outlinewidth": 0,
             "ticks": ""
            },
            "colorscale": [
             [
              0,
              "#0d0887"
             ],
             [
              0.1111111111111111,
              "#46039f"
             ],
             [
              0.2222222222222222,
              "#7201a8"
             ],
             [
              0.3333333333333333,
              "#9c179e"
             ],
             [
              0.4444444444444444,
              "#bd3786"
             ],
             [
              0.5555555555555556,
              "#d8576b"
             ],
             [
              0.6666666666666666,
              "#ed7953"
             ],
             [
              0.7777777777777778,
              "#fb9f3a"
             ],
             [
              0.8888888888888888,
              "#fdca26"
             ],
             [
              1,
              "#f0f921"
             ]
            ],
            "type": "heatmap"
           }
          ],
          "heatmapgl": [
           {
            "colorbar": {
             "outlinewidth": 0,
             "ticks": ""
            },
            "colorscale": [
             [
              0,
              "#0d0887"
             ],
             [
              0.1111111111111111,
              "#46039f"
             ],
             [
              0.2222222222222222,
              "#7201a8"
             ],
             [
              0.3333333333333333,
              "#9c179e"
             ],
             [
              0.4444444444444444,
              "#bd3786"
             ],
             [
              0.5555555555555556,
              "#d8576b"
             ],
             [
              0.6666666666666666,
              "#ed7953"
             ],
             [
              0.7777777777777778,
              "#fb9f3a"
             ],
             [
              0.8888888888888888,
              "#fdca26"
             ],
             [
              1,
              "#f0f921"
             ]
            ],
            "type": "heatmapgl"
           }
          ],
          "histogram": [
           {
            "marker": {
             "pattern": {
              "fillmode": "overlay",
              "size": 10,
              "solidity": 0.2
             }
            },
            "type": "histogram"
           }
          ],
          "histogram2d": [
           {
            "colorbar": {
             "outlinewidth": 0,
             "ticks": ""
            },
            "colorscale": [
             [
              0,
              "#0d0887"
             ],
             [
              0.1111111111111111,
              "#46039f"
             ],
             [
              0.2222222222222222,
              "#7201a8"
             ],
             [
              0.3333333333333333,
              "#9c179e"
             ],
             [
              0.4444444444444444,
              "#bd3786"
             ],
             [
              0.5555555555555556,
              "#d8576b"
             ],
             [
              0.6666666666666666,
              "#ed7953"
             ],
             [
              0.7777777777777778,
              "#fb9f3a"
             ],
             [
              0.8888888888888888,
              "#fdca26"
             ],
             [
              1,
              "#f0f921"
             ]
            ],
            "type": "histogram2d"
           }
          ],
          "histogram2dcontour": [
           {
            "colorbar": {
             "outlinewidth": 0,
             "ticks": ""
            },
            "colorscale": [
             [
              0,
              "#0d0887"
             ],
             [
              0.1111111111111111,
              "#46039f"
             ],
             [
              0.2222222222222222,
              "#7201a8"
             ],
             [
              0.3333333333333333,
              "#9c179e"
             ],
             [
              0.4444444444444444,
              "#bd3786"
             ],
             [
              0.5555555555555556,
              "#d8576b"
             ],
             [
              0.6666666666666666,
              "#ed7953"
             ],
             [
              0.7777777777777778,
              "#fb9f3a"
             ],
             [
              0.8888888888888888,
              "#fdca26"
             ],
             [
              1,
              "#f0f921"
             ]
            ],
            "type": "histogram2dcontour"
           }
          ],
          "mesh3d": [
           {
            "colorbar": {
             "outlinewidth": 0,
             "ticks": ""
            },
            "type": "mesh3d"
           }
          ],
          "parcoords": [
           {
            "line": {
             "colorbar": {
              "outlinewidth": 0,
              "ticks": ""
             }
            },
            "type": "parcoords"
           }
          ],
          "pie": [
           {
            "automargin": true,
            "type": "pie"
           }
          ],
          "scatter": [
           {
            "fillpattern": {
             "fillmode": "overlay",
             "size": 10,
             "solidity": 0.2
            },
            "type": "scatter"
           }
          ],
          "scatter3d": [
           {
            "line": {
             "colorbar": {
              "outlinewidth": 0,
              "ticks": ""
             }
            },
            "marker": {
             "colorbar": {
              "outlinewidth": 0,
              "ticks": ""
             }
            },
            "type": "scatter3d"
           }
          ],
          "scattercarpet": [
           {
            "marker": {
             "colorbar": {
              "outlinewidth": 0,
              "ticks": ""
             }
            },
            "type": "scattercarpet"
           }
          ],
          "scattergeo": [
           {
            "marker": {
             "colorbar": {
              "outlinewidth": 0,
              "ticks": ""
             }
            },
            "type": "scattergeo"
           }
          ],
          "scattergl": [
           {
            "marker": {
             "colorbar": {
              "outlinewidth": 0,
              "ticks": ""
             }
            },
            "type": "scattergl"
           }
          ],
          "scattermapbox": [
           {
            "marker": {
             "colorbar": {
              "outlinewidth": 0,
              "ticks": ""
             }
            },
            "type": "scattermapbox"
           }
          ],
          "scatterpolar": [
           {
            "marker": {
             "colorbar": {
              "outlinewidth": 0,
              "ticks": ""
             }
            },
            "type": "scatterpolar"
           }
          ],
          "scatterpolargl": [
           {
            "marker": {
             "colorbar": {
              "outlinewidth": 0,
              "ticks": ""
             }
            },
            "type": "scatterpolargl"
           }
          ],
          "scatterternary": [
           {
            "marker": {
             "colorbar": {
              "outlinewidth": 0,
              "ticks": ""
             }
            },
            "type": "scatterternary"
           }
          ],
          "surface": [
           {
            "colorbar": {
             "outlinewidth": 0,
             "ticks": ""
            },
            "colorscale": [
             [
              0,
              "#0d0887"
             ],
             [
              0.1111111111111111,
              "#46039f"
             ],
             [
              0.2222222222222222,
              "#7201a8"
             ],
             [
              0.3333333333333333,
              "#9c179e"
             ],
             [
              0.4444444444444444,
              "#bd3786"
             ],
             [
              0.5555555555555556,
              "#d8576b"
             ],
             [
              0.6666666666666666,
              "#ed7953"
             ],
             [
              0.7777777777777778,
              "#fb9f3a"
             ],
             [
              0.8888888888888888,
              "#fdca26"
             ],
             [
              1,
              "#f0f921"
             ]
            ],
            "type": "surface"
           }
          ],
          "table": [
           {
            "cells": {
             "fill": {
              "color": "#EBF0F8"
             },
             "line": {
              "color": "white"
             }
            },
            "header": {
             "fill": {
              "color": "#C8D4E3"
             },
             "line": {
              "color": "white"
             }
            },
            "type": "table"
           }
          ]
         },
         "layout": {
          "annotationdefaults": {
           "arrowcolor": "#2a3f5f",
           "arrowhead": 0,
           "arrowwidth": 1
          },
          "autotypenumbers": "strict",
          "coloraxis": {
           "colorbar": {
            "outlinewidth": 0,
            "ticks": ""
           }
          },
          "colorscale": {
           "diverging": [
            [
             0,
             "#8e0152"
            ],
            [
             0.1,
             "#c51b7d"
            ],
            [
             0.2,
             "#de77ae"
            ],
            [
             0.3,
             "#f1b6da"
            ],
            [
             0.4,
             "#fde0ef"
            ],
            [
             0.5,
             "#f7f7f7"
            ],
            [
             0.6,
             "#e6f5d0"
            ],
            [
             0.7,
             "#b8e186"
            ],
            [
             0.8,
             "#7fbc41"
            ],
            [
             0.9,
             "#4d9221"
            ],
            [
             1,
             "#276419"
            ]
           ],
           "sequential": [
            [
             0,
             "#0d0887"
            ],
            [
             0.1111111111111111,
             "#46039f"
            ],
            [
             0.2222222222222222,
             "#7201a8"
            ],
            [
             0.3333333333333333,
             "#9c179e"
            ],
            [
             0.4444444444444444,
             "#bd3786"
            ],
            [
             0.5555555555555556,
             "#d8576b"
            ],
            [
             0.6666666666666666,
             "#ed7953"
            ],
            [
             0.7777777777777778,
             "#fb9f3a"
            ],
            [
             0.8888888888888888,
             "#fdca26"
            ],
            [
             1,
             "#f0f921"
            ]
           ],
           "sequentialminus": [
            [
             0,
             "#0d0887"
            ],
            [
             0.1111111111111111,
             "#46039f"
            ],
            [
             0.2222222222222222,
             "#7201a8"
            ],
            [
             0.3333333333333333,
             "#9c179e"
            ],
            [
             0.4444444444444444,
             "#bd3786"
            ],
            [
             0.5555555555555556,
             "#d8576b"
            ],
            [
             0.6666666666666666,
             "#ed7953"
            ],
            [
             0.7777777777777778,
             "#fb9f3a"
            ],
            [
             0.8888888888888888,
             "#fdca26"
            ],
            [
             1,
             "#f0f921"
            ]
           ]
          },
          "colorway": [
           "#636efa",
           "#EF553B",
           "#00cc96",
           "#ab63fa",
           "#FFA15A",
           "#19d3f3",
           "#FF6692",
           "#B6E880",
           "#FF97FF",
           "#FECB52"
          ],
          "font": {
           "color": "#2a3f5f"
          },
          "geo": {
           "bgcolor": "white",
           "lakecolor": "white",
           "landcolor": "#E5ECF6",
           "showlakes": true,
           "showland": true,
           "subunitcolor": "white"
          },
          "hoverlabel": {
           "align": "left"
          },
          "hovermode": "closest",
          "mapbox": {
           "style": "light"
          },
          "paper_bgcolor": "white",
          "plot_bgcolor": "#E5ECF6",
          "polar": {
           "angularaxis": {
            "gridcolor": "white",
            "linecolor": "white",
            "ticks": ""
           },
           "bgcolor": "#E5ECF6",
           "radialaxis": {
            "gridcolor": "white",
            "linecolor": "white",
            "ticks": ""
           }
          },
          "scene": {
           "xaxis": {
            "backgroundcolor": "#E5ECF6",
            "gridcolor": "white",
            "gridwidth": 2,
            "linecolor": "white",
            "showbackground": true,
            "ticks": "",
            "zerolinecolor": "white"
           },
           "yaxis": {
            "backgroundcolor": "#E5ECF6",
            "gridcolor": "white",
            "gridwidth": 2,
            "linecolor": "white",
            "showbackground": true,
            "ticks": "",
            "zerolinecolor": "white"
           },
           "zaxis": {
            "backgroundcolor": "#E5ECF6",
            "gridcolor": "white",
            "gridwidth": 2,
            "linecolor": "white",
            "showbackground": true,
            "ticks": "",
            "zerolinecolor": "white"
           }
          },
          "shapedefaults": {
           "line": {
            "color": "#2a3f5f"
           }
          },
          "ternary": {
           "aaxis": {
            "gridcolor": "white",
            "linecolor": "white",
            "ticks": ""
           },
           "baxis": {
            "gridcolor": "white",
            "linecolor": "white",
            "ticks": ""
           },
           "bgcolor": "#E5ECF6",
           "caxis": {
            "gridcolor": "white",
            "linecolor": "white",
            "ticks": ""
           }
          },
          "title": {
           "x": 0.05
          },
          "xaxis": {
           "automargin": true,
           "gridcolor": "white",
           "linecolor": "white",
           "ticks": "",
           "title": {
            "standoff": 15
           },
           "zerolinecolor": "white",
           "zerolinewidth": 2
          },
          "yaxis": {
           "automargin": true,
           "gridcolor": "white",
           "linecolor": "white",
           "ticks": "",
           "title": {
            "standoff": 15
           },
           "zerolinecolor": "white",
           "zerolinewidth": 2
          }
         }
        },
        "title": {
         "text": "emissions_prep"
        },
        "yaxis": {
         "title": {
          "text": "emissions_prep"
         }
        }
       }
      }
     },
     "metadata": {},
     "output_type": "display_data"
    },
    {
     "data": {
      "application/vnd.plotly.v1+json": {
       "config": {
        "plotlyServerURL": "https://plot.ly"
       },
       "data": [
        {
         "name": "Full",
         "type": "box",
         "x": [
          "LogisticRegression",
          "LogisticRegression",
          "LogisticRegression",
          "LogisticRegression",
          "LogisticRegression",
          "LogisticRegression",
          "LogisticRegression",
          "LogisticRegression",
          "LogisticRegression",
          "LogisticRegression",
          "LogisticRegression",
          "LogisticRegression",
          "LogisticRegression",
          "LogisticRegression",
          "LogisticRegression",
          "LogisticRegression",
          "LogisticRegression",
          "LogisticRegression",
          "LogisticRegression",
          "LogisticRegression",
          "SVC",
          "SVC",
          "SVC",
          "SVC",
          "SVC",
          "SVC",
          "SVC",
          "SVC",
          "SVC",
          "SVC",
          "SVC",
          "SVC",
          "SVC",
          "SVC",
          "SVC",
          "SVC",
          "SVC",
          "SVC",
          "SVC",
          "SVC",
          "RandomForestClassifier",
          "RandomForestClassifier",
          "RandomForestClassifier",
          "RandomForestClassifier",
          "RandomForestClassifier",
          "RandomForestClassifier",
          "RandomForestClassifier",
          "RandomForestClassifier",
          "RandomForestClassifier",
          "RandomForestClassifier",
          "RandomForestClassifier",
          "RandomForestClassifier",
          "RandomForestClassifier",
          "RandomForestClassifier",
          "RandomForestClassifier",
          "RandomForestClassifier",
          "RandomForestClassifier",
          "RandomForestClassifier",
          "RandomForestClassifier",
          "RandomForestClassifier",
          "GradientBoostingClassifier",
          "GradientBoostingClassifier",
          "GradientBoostingClassifier",
          "GradientBoostingClassifier",
          "GradientBoostingClassifier",
          "GradientBoostingClassifier",
          "GradientBoostingClassifier",
          "GradientBoostingClassifier",
          "GradientBoostingClassifier",
          "GradientBoostingClassifier",
          "GradientBoostingClassifier",
          "GradientBoostingClassifier",
          "GradientBoostingClassifier",
          "GradientBoostingClassifier",
          "GradientBoostingClassifier",
          "GradientBoostingClassifier",
          "GradientBoostingClassifier",
          "GradientBoostingClassifier",
          "GradientBoostingClassifier",
          "GradientBoostingClassifier",
          "DeepNeuralNetwork",
          "DeepNeuralNetwork",
          "DeepNeuralNetwork",
          "DeepNeuralNetwork",
          "DeepNeuralNetwork",
          "DeepNeuralNetwork",
          "DeepNeuralNetwork",
          "DeepNeuralNetwork",
          "DeepNeuralNetwork",
          "DeepNeuralNetwork",
          "DeepNeuralNetwork",
          "DeepNeuralNetwork",
          "DeepNeuralNetwork",
          "DeepNeuralNetwork",
          "DeepNeuralNetwork",
          "DeepNeuralNetwork",
          "DeepNeuralNetwork",
          "DeepNeuralNetwork",
          "DeepNeuralNetwork",
          "DeepNeuralNetwork"
         ],
         "y": [
          5.674774771662408e-7,
          7.680430465601892e-7,
          5.340056144420222e-7,
          4.54461535203711e-7,
          6.429976205524907e-7,
          3.9783573974484093e-7,
          3.103028067734729e-7,
          3.486213598002594e-7,
          5.382958018513434e-7,
          6.361615884596661e-7,
          4.7137612314580163e-7,
          5.626157137464394e-7,
          3.887062063846411e-7,
          3.091331514746415e-7,
          7.188260629526627e-7,
          5.861919825300363e-7,
          3.583560874475048e-7,
          7.385221010777765e-7,
          3.4201269903232773e-7,
          5.279831772758703e-7,
          0.000003532224065125496,
          0.000003701431841294546,
          0.000003107363880650027,
          0.000003428358862317231,
          0.000002805830829609793,
          0.000003117663904502084,
          0.000002999626372190284,
          0.0000032787420596487597,
          0.000003404017597501835,
          0.0000027476221089173247,
          0.000003501297072693206,
          0.000002943144691519225,
          0.000003632605495418502,
          0.0000033754252160931447,
          0.000002950959652787618,
          0.000003048994160061852,
          0.000003985819032028583,
          0.000003205788350634821,
          0.0000032777773628775084,
          0.000003438688934317285,
          0.000008370740885347595,
          0.000007421869533555912,
          0.000008016296744750746,
          0.000007723472285480967,
          0.0000076188742693453215,
          0.00000934283693396383,
          0.000008399353997986386,
          0.000009045602577318831,
          0.0000081614390660548,
          0.000008015604738864125,
          0.000008794650041577326,
          0.000008103277268564635,
          0.000008359855063416223,
          0.000008356163888573014,
          0.000007707575736097712,
          0.00000804489963889942,
          0.00000880787201364662,
          0.000010180238530507237,
          0.000008753799783706509,
          0.000009843045858883362,
          0.000008015136578757957,
          0.00000783482596355186,
          0.000008384757899253074,
          0.000007571982129057388,
          0.000008308817789193408,
          0.000008019996336423689,
          0.00000769726167049005,
          0.00000812758541492934,
          0.00000763370380336189,
          0.000007860674248419408,
          0.000008297801700579178,
          0.000008297809266363115,
          0.000009186054173555835,
          0.000007844912384032815,
          0.000007913010462306386,
          0.000008885702658762915,
          0.000008160455605935035,
          0.00000798168543933702,
          0.000008690569372173974,
          0.000007709322404089378,
          0.000025422189335619003,
          0.000018698411294904536,
          0.000013728647879678904,
          0.00003913505197799226,
          0.00003639809747595004,
          0.000024632304532895555,
          0.000019983444387789918,
          0.000014841955051438788,
          0.000013991099679922826,
          0.000014717952291402011,
          0.0000149802526594172,
          0.00001427687211850038,
          0.000013854765466749658,
          0.000014992794594856187,
          0.00001649406557709815,
          0.00001906602114543944,
          0.000021727416599981973,
          0.00001865398820272493,
          0.00001527946105810401,
          0.000017217781546789886
         ]
        },
        {
         "name": "FR",
         "type": "box",
         "x": [
          "LogisticRegression",
          "LogisticRegression",
          "LogisticRegression",
          "LogisticRegression",
          "LogisticRegression",
          "LogisticRegression",
          "LogisticRegression",
          "LogisticRegression",
          "LogisticRegression",
          "LogisticRegression",
          "LogisticRegression",
          "LogisticRegression",
          "LogisticRegression",
          "LogisticRegression",
          "LogisticRegression",
          "LogisticRegression",
          "LogisticRegression",
          "LogisticRegression",
          "LogisticRegression",
          "LogisticRegression",
          "SVC",
          "SVC",
          "SVC",
          "SVC",
          "SVC",
          "SVC",
          "SVC",
          "SVC",
          "SVC",
          "SVC",
          "SVC",
          "SVC",
          "SVC",
          "SVC",
          "SVC",
          "SVC",
          "SVC",
          "SVC",
          "SVC",
          "SVC",
          "RandomForestClassifier",
          "RandomForestClassifier",
          "RandomForestClassifier",
          "RandomForestClassifier",
          "RandomForestClassifier",
          "RandomForestClassifier",
          "RandomForestClassifier",
          "RandomForestClassifier",
          "RandomForestClassifier",
          "RandomForestClassifier",
          "RandomForestClassifier",
          "RandomForestClassifier",
          "RandomForestClassifier",
          "RandomForestClassifier",
          "RandomForestClassifier",
          "RandomForestClassifier",
          "RandomForestClassifier",
          "RandomForestClassifier",
          "RandomForestClassifier",
          "RandomForestClassifier",
          "GradientBoostingClassifier",
          "GradientBoostingClassifier",
          "GradientBoostingClassifier",
          "GradientBoostingClassifier",
          "GradientBoostingClassifier",
          "GradientBoostingClassifier",
          "GradientBoostingClassifier",
          "GradientBoostingClassifier",
          "GradientBoostingClassifier",
          "GradientBoostingClassifier",
          "GradientBoostingClassifier",
          "GradientBoostingClassifier",
          "GradientBoostingClassifier",
          "GradientBoostingClassifier",
          "GradientBoostingClassifier",
          "GradientBoostingClassifier",
          "GradientBoostingClassifier",
          "GradientBoostingClassifier",
          "GradientBoostingClassifier",
          "GradientBoostingClassifier",
          "DeepNeuralNetwork",
          "DeepNeuralNetwork",
          "DeepNeuralNetwork",
          "DeepNeuralNetwork",
          "DeepNeuralNetwork",
          "DeepNeuralNetwork",
          "DeepNeuralNetwork",
          "DeepNeuralNetwork",
          "DeepNeuralNetwork",
          "DeepNeuralNetwork",
          "DeepNeuralNetwork",
          "DeepNeuralNetwork",
          "DeepNeuralNetwork",
          "DeepNeuralNetwork",
          "DeepNeuralNetwork",
          "DeepNeuralNetwork",
          "DeepNeuralNetwork",
          "DeepNeuralNetwork",
          "DeepNeuralNetwork",
          "DeepNeuralNetwork"
         ],
         "y": [
          3.056173078610017e-7,
          3.887119784350135e-7,
          1.4260148246524745e-7,
          2.708102263123888e-7,
          1.5039728707127306e-7,
          3.9842698243419683e-7,
          2.2218081718178293e-7,
          3.200255806494121e-7,
          1.2060315534613564e-7,
          1.352167584706132e-7,
          2.0932852964200557e-7,
          1.8443695158024825e-7,
          1.498018525622827e-7,
          2.768396883184518e-7,
          2.4765624453537e-7,
          4.081579437825375e-7,
          1.151772172419338e-7,
          2.902681043165378e-7,
          1.249064591618554e-7,
          3.941477253613726e-7,
          0.000003123110442566392,
          0.000003057602241869975,
          0.000003104233798923231,
          0.00000292370736443108,
          0.0000032884696232558103,
          0.000004309204750625392,
          0.000002718865280827536,
          0.0000034927366018367226,
          0.0000032495633154397408,
          0.000003147413430643238,
          0.000002598638205019571,
          0.0000033370967561646703,
          0.000002481134397642678,
          0.00000296747650814326,
          0.0000029279885782156068,
          0.0000027772456122404296,
          0.0000030629993593971755,
          0.000003207842579376792,
          0.000002948019792773336,
          0.000003370573130221169,
          0.000007246725427898122,
          0.00000764697260532618,
          0.000008515031908332485,
          0.000007660276268969986,
          0.000007434642181463127,
          0.0000078891081367145,
          0.000007767084277684327,
          0.000008623435189869522,
          0.000007660682015577305,
          0.000008066301875457073,
          0.00000913343542691472,
          0.000007872231826574344,
          0.000008535158057486857,
          0.00000770931966122615,
          0.000008210259466542684,
          0.000007796874545028427,
          0.000008039442866493093,
          0.000008088085531229514,
          0.000007956778149133606,
          0.000007507227127904505,
          0.0000028161311729744958,
          0.000003920709270146226,
          0.0000029809126449757348,
          0.0000031814605375895047,
          0.0000033565578436700605,
          0.0000028021279793932416,
          0.0000032684248256545367,
          0.000003878638593868451,
          0.000003103661824512688,
          0.0000028176010468368776,
          0.000002813278369908669,
          0.000003049571549235651,
          0.0000030735806645539043,
          0.0000037860238577686056,
          0.00000345324420961482,
          0.0000030690238434303435,
          0.0000030398456560163864,
          0.000003424665347835989,
          0.000003851472608154896,
          0.000002825855527080305,
          0.000015102176096445062,
          0.000014014508269573692,
          0.00001850982775486541,
          0.000019307444349382467,
          0.000019998023480472145,
          0.0000185621659665779,
          0.00001757235550637476,
          0.00001869120326948408,
          0.000015744322575741987,
          0.000012374560440266136,
          0.000013061516797673207,
          0.000013144551898532608,
          0.000012956832701836035,
          0.000013595779744022748,
          0.0000131365568386832,
          0.000012811842511231512,
          0.000013589606562079692,
          0.000013718817398513695,
          0.00001317184508751925,
          0.00001372420629347764
         ]
        },
        {
         "name": "SS",
         "type": "box",
         "x": [
          "LogisticRegression",
          "LogisticRegression",
          "LogisticRegression",
          "LogisticRegression",
          "LogisticRegression",
          "LogisticRegression",
          "LogisticRegression",
          "LogisticRegression",
          "LogisticRegression",
          "LogisticRegression",
          "LogisticRegression",
          "LogisticRegression",
          "LogisticRegression",
          "LogisticRegression",
          "LogisticRegression",
          "LogisticRegression",
          "LogisticRegression",
          "LogisticRegression",
          "LogisticRegression",
          "LogisticRegression",
          "SVC",
          "SVC",
          "SVC",
          "SVC",
          "SVC",
          "SVC",
          "SVC",
          "SVC",
          "SVC",
          "SVC",
          "SVC",
          "SVC",
          "SVC",
          "SVC",
          "SVC",
          "SVC",
          "SVC",
          "SVC",
          "SVC",
          "SVC",
          "RandomForestClassifier",
          "RandomForestClassifier",
          "RandomForestClassifier",
          "RandomForestClassifier",
          "RandomForestClassifier",
          "RandomForestClassifier",
          "RandomForestClassifier",
          "RandomForestClassifier",
          "RandomForestClassifier",
          "RandomForestClassifier",
          "RandomForestClassifier",
          "RandomForestClassifier",
          "RandomForestClassifier",
          "RandomForestClassifier",
          "RandomForestClassifier",
          "RandomForestClassifier",
          "RandomForestClassifier",
          "RandomForestClassifier",
          "RandomForestClassifier",
          "RandomForestClassifier",
          "GradientBoostingClassifier",
          "GradientBoostingClassifier",
          "GradientBoostingClassifier",
          "GradientBoostingClassifier",
          "GradientBoostingClassifier",
          "GradientBoostingClassifier",
          "GradientBoostingClassifier",
          "GradientBoostingClassifier",
          "GradientBoostingClassifier",
          "GradientBoostingClassifier",
          "GradientBoostingClassifier",
          "GradientBoostingClassifier",
          "GradientBoostingClassifier",
          "GradientBoostingClassifier",
          "GradientBoostingClassifier",
          "GradientBoostingClassifier",
          "GradientBoostingClassifier",
          "GradientBoostingClassifier",
          "GradientBoostingClassifier",
          "GradientBoostingClassifier",
          "DeepNeuralNetwork",
          "DeepNeuralNetwork",
          "DeepNeuralNetwork",
          "DeepNeuralNetwork",
          "DeepNeuralNetwork",
          "DeepNeuralNetwork",
          "DeepNeuralNetwork",
          "DeepNeuralNetwork",
          "DeepNeuralNetwork",
          "DeepNeuralNetwork",
          "DeepNeuralNetwork",
          "DeepNeuralNetwork",
          "DeepNeuralNetwork",
          "DeepNeuralNetwork",
          "DeepNeuralNetwork",
          "DeepNeuralNetwork",
          "DeepNeuralNetwork",
          "DeepNeuralNetwork",
          "DeepNeuralNetwork",
          "DeepNeuralNetwork"
         ],
         "y": [
          3.20016328626653e-7,
          4.118511654953652e-7,
          2.416163678705882e-7,
          3.58933378539171e-7,
          5.565713747908776e-7,
          3.470853686725686e-7,
          3.28599167909692e-7,
          3.546537038689665e-7,
          2.276204284874448e-7,
          5.620375874617473e-7,
          4.519212252881641e-7,
          2.4046643622068625e-7,
          5.637776972523822e-7,
          4.2294469207102003e-7,
          3.115032940308182e-7,
          2.330685467807556e-7,
          2.566244449624458e-7,
          2.805243540029978e-7,
          2.562139725277579e-7,
          4.0756911651781285e-7,
          3.24895294259199e-7,
          4.087297491494821e-7,
          5.480550017639488e-7,
          6.649344206121136e-7,
          5.139851910222412e-7,
          5.906669414352042e-7,
          5.941580913529712e-7,
          3.863697367340741e-7,
          5.18263842258504e-7,
          3.686760152617208e-7,
          8.788452020951076e-7,
          4.898697173036023e-7,
          0.0000011521588638412766,
          4.951054883451517e-7,
          4.525431607366182e-7,
          2.676907176358406e-7,
          8.373304935145598e-7,
          3.346076534781542e-7,
          4.400721429461199e-7,
          3.6924488952365386e-7,
          0.000003109090038842105,
          0.000002111511865470969,
          0.000002431923972235316,
          0.00000220392599918455,
          0.0000022680214260368745,
          0.000002244246823467251,
          0.000002422776024986646,
          0.0000028750683267941488,
          0.0000020091593406889457,
          0.000002349242289942897,
          0.0000021720353823176733,
          0.00000239300264034438,
          0.0000024502280473468266,
          0.0000032192029621571157,
          0.0000020817563458497973,
          0.000002607581220066824,
          0.000002305475987177813,
          0.000002592992032239387,
          0.0000023692774590387128,
          0.000003424642478099503,
          0.0000029373731053579724,
          0.000003054445693433279,
          0.000002625881986526371,
          0.000002966311266094576,
          0.0000028999871359751757,
          0.000002674500571332901,
          0.0000025881415265964144,
          0.000002675676367237985,
          0.0000029460863452653377,
          0.0000034489040536241425,
          0.0000027217973880191287,
          0.000002509732223662277,
          0.0000028015388737288177,
          0.0000024379547360750195,
          0.000002922369261202165,
          0.0000036537994054682,
          0.000002500748533649025,
          0.000003025254191964602,
          0.0000027736448270530498,
          0.000002533961902296405,
          0.000011638734282440852,
          0.0000127512418096401,
          0.000012375792934835213,
          0.000011149208206725526,
          0.000012048995404141671,
          0.000012553187488457268,
          0.000011533419847836388,
          0.00001250662050732848,
          0.000012932580608556246,
          0.00001827638298727233,
          0.00001268820060699831,
          0.000012880766378579355,
          0.000011200299843584262,
          0.000011528920012696469,
          0.000012152861307529288,
          0.00001108373514401885,
          0.000012067925249646151,
          0.000012080950529521664,
          0.000011353119441471876,
          0.000013886362351508454
         ]
        },
        {
         "name": "SS & FR",
         "type": "box",
         "x": [
          "LogisticRegression",
          "LogisticRegression",
          "LogisticRegression",
          "LogisticRegression",
          "LogisticRegression",
          "LogisticRegression",
          "LogisticRegression",
          "LogisticRegression",
          "LogisticRegression",
          "LogisticRegression",
          "LogisticRegression",
          "LogisticRegression",
          "LogisticRegression",
          "LogisticRegression",
          "LogisticRegression",
          "LogisticRegression",
          "LogisticRegression",
          "LogisticRegression",
          "LogisticRegression",
          "LogisticRegression",
          "SVC",
          "SVC",
          "SVC",
          "SVC",
          "SVC",
          "SVC",
          "SVC",
          "SVC",
          "SVC",
          "SVC",
          "SVC",
          "SVC",
          "SVC",
          "SVC",
          "SVC",
          "SVC",
          "SVC",
          "SVC",
          "SVC",
          "SVC",
          "RandomForestClassifier",
          "RandomForestClassifier",
          "RandomForestClassifier",
          "RandomForestClassifier",
          "RandomForestClassifier",
          "RandomForestClassifier",
          "RandomForestClassifier",
          "RandomForestClassifier",
          "RandomForestClassifier",
          "RandomForestClassifier",
          "RandomForestClassifier",
          "RandomForestClassifier",
          "RandomForestClassifier",
          "RandomForestClassifier",
          "RandomForestClassifier",
          "RandomForestClassifier",
          "RandomForestClassifier",
          "RandomForestClassifier",
          "RandomForestClassifier",
          "RandomForestClassifier",
          "GradientBoostingClassifier",
          "GradientBoostingClassifier",
          "GradientBoostingClassifier",
          "GradientBoostingClassifier",
          "GradientBoostingClassifier",
          "GradientBoostingClassifier",
          "GradientBoostingClassifier",
          "GradientBoostingClassifier",
          "GradientBoostingClassifier",
          "GradientBoostingClassifier",
          "GradientBoostingClassifier",
          "GradientBoostingClassifier",
          "GradientBoostingClassifier",
          "GradientBoostingClassifier",
          "GradientBoostingClassifier",
          "GradientBoostingClassifier",
          "GradientBoostingClassifier",
          "GradientBoostingClassifier",
          "GradientBoostingClassifier",
          "GradientBoostingClassifier",
          "DeepNeuralNetwork",
          "DeepNeuralNetwork",
          "DeepNeuralNetwork",
          "DeepNeuralNetwork",
          "DeepNeuralNetwork",
          "DeepNeuralNetwork",
          "DeepNeuralNetwork",
          "DeepNeuralNetwork",
          "DeepNeuralNetwork",
          "DeepNeuralNetwork",
          "DeepNeuralNetwork",
          "DeepNeuralNetwork",
          "DeepNeuralNetwork",
          "DeepNeuralNetwork",
          "DeepNeuralNetwork",
          "DeepNeuralNetwork",
          "DeepNeuralNetwork",
          "DeepNeuralNetwork",
          "DeepNeuralNetwork",
          "DeepNeuralNetwork"
         ],
         "y": [
          1.492260926581196e-7,
          1.309321058292484e-7,
          1.7412618563261015e-7,
          1.7412269773340458e-7,
          1.3891700502421944e-7,
          1.1148595223994114e-7,
          3.437646233957204e-7,
          1.2063055079055557e-7,
          1.4377230039743646e-7,
          2.7139166018218946e-7,
          1.255031875776677e-7,
          2.7568026736164014e-7,
          1.0116932408401474e-7,
          3.357750736673188e-7,
          2.0388385020640026e-7,
          1.2490590236505922e-7,
          1.930007711391235e-7,
          1.4066055367082525e-7,
          1.589508232457612e-7,
          2.178956979006705e-7,
          4.994419960865915e-7,
          4.993897724315036e-7,
          2.142055955329028e-7,
          5.13973376450351e-7,
          2.1732659428227305e-7,
          9.577209765113462e-7,
          3.340361265117761e-7,
          0.0000010046141402340891,
          3.4708555691348453e-7,
          8.410922647849109e-7,
          7.836317634426354e-7,
          9.26103917835326e-7,
          3.32875215481275e-7,
          6.872088160365941e-7,
          0.000001050926574009195,
          8.118013500911861e-7,
          6.993643284934278e-7,
          3.760527400222674e-7,
          5.237364715908466e-7,
          4.492199509953735e-7,
          0.000002552918951183661,
          0.000002931687752291169,
          0.0000026075902427331182,
          0.000002471409576897121,
          0.000002451958813892534,
          0.00000242764410932593,
          0.0000023686890493696336,
          0.0000022805753374091284,
          0.0000024330854400600108,
          0.0000025249126051358345,
          0.000002139804176405115,
          0.0000022171790816103223,
          0.0000022770041416568174,
          0.000002272015121169285,
          0.000002875066001527433,
          0.00000246596512681798,
          0.0000023980574814820577,
          0.000002141556353804814,
          0.000002461693337444358,
          0.000002490870844717476,
          0.000001405738671776853,
          0.0000014778588797751888,
          0.0000010026801951657643,
          0.0000010946249159853733,
          0.000001537646664004702,
          0.000001338235798657543,
          0.0000012923743800121942,
          0.0000014002839051245955,
          0.0000021698351297741447,
          0.0000013133406029080391,
          0.00000101002471203631,
          0.0000010409763718383092,
          0.0000011808636541880274,
          0.0000010863501978949572,
          0.0000011619839024694378,
          0.0000013236873029915525,
          0.0000017979291013240847,
          0.0000016000976188861038,
          0.000001061018655931084,
          0.000001049062117523293,
          0.000016899463767911134,
          0.000011964432594486,
          0.000012788542299601614,
          0.00001750564700662722,
          0.000012506394779656684,
          0.000016597149793199685,
          0.000012519428429041274,
          0.000011544979702145417,
          0.000017686787120684,
          0.000016227491011965196,
          0.00001423907826122485,
          0.00001252724514210022,
          0.000011302555290717414,
          0.00001260094217546328,
          0.00001201714385033227,
          0.000011094923485384205,
          0.000012273213983286096,
          0.000011341665052659426,
          0.000011292576060741195,
          0.00001232086134992684
         ]
        }
       ],
       "layout": {
        "boxmode": "group",
        "template": {
         "data": {
          "bar": [
           {
            "error_x": {
             "color": "#2a3f5f"
            },
            "error_y": {
             "color": "#2a3f5f"
            },
            "marker": {
             "line": {
              "color": "#E5ECF6",
              "width": 0.5
             },
             "pattern": {
              "fillmode": "overlay",
              "size": 10,
              "solidity": 0.2
             }
            },
            "type": "bar"
           }
          ],
          "barpolar": [
           {
            "marker": {
             "line": {
              "color": "#E5ECF6",
              "width": 0.5
             },
             "pattern": {
              "fillmode": "overlay",
              "size": 10,
              "solidity": 0.2
             }
            },
            "type": "barpolar"
           }
          ],
          "carpet": [
           {
            "aaxis": {
             "endlinecolor": "#2a3f5f",
             "gridcolor": "white",
             "linecolor": "white",
             "minorgridcolor": "white",
             "startlinecolor": "#2a3f5f"
            },
            "baxis": {
             "endlinecolor": "#2a3f5f",
             "gridcolor": "white",
             "linecolor": "white",
             "minorgridcolor": "white",
             "startlinecolor": "#2a3f5f"
            },
            "type": "carpet"
           }
          ],
          "choropleth": [
           {
            "colorbar": {
             "outlinewidth": 0,
             "ticks": ""
            },
            "type": "choropleth"
           }
          ],
          "contour": [
           {
            "colorbar": {
             "outlinewidth": 0,
             "ticks": ""
            },
            "colorscale": [
             [
              0,
              "#0d0887"
             ],
             [
              0.1111111111111111,
              "#46039f"
             ],
             [
              0.2222222222222222,
              "#7201a8"
             ],
             [
              0.3333333333333333,
              "#9c179e"
             ],
             [
              0.4444444444444444,
              "#bd3786"
             ],
             [
              0.5555555555555556,
              "#d8576b"
             ],
             [
              0.6666666666666666,
              "#ed7953"
             ],
             [
              0.7777777777777778,
              "#fb9f3a"
             ],
             [
              0.8888888888888888,
              "#fdca26"
             ],
             [
              1,
              "#f0f921"
             ]
            ],
            "type": "contour"
           }
          ],
          "contourcarpet": [
           {
            "colorbar": {
             "outlinewidth": 0,
             "ticks": ""
            },
            "type": "contourcarpet"
           }
          ],
          "heatmap": [
           {
            "colorbar": {
             "outlinewidth": 0,
             "ticks": ""
            },
            "colorscale": [
             [
              0,
              "#0d0887"
             ],
             [
              0.1111111111111111,
              "#46039f"
             ],
             [
              0.2222222222222222,
              "#7201a8"
             ],
             [
              0.3333333333333333,
              "#9c179e"
             ],
             [
              0.4444444444444444,
              "#bd3786"
             ],
             [
              0.5555555555555556,
              "#d8576b"
             ],
             [
              0.6666666666666666,
              "#ed7953"
             ],
             [
              0.7777777777777778,
              "#fb9f3a"
             ],
             [
              0.8888888888888888,
              "#fdca26"
             ],
             [
              1,
              "#f0f921"
             ]
            ],
            "type": "heatmap"
           }
          ],
          "heatmapgl": [
           {
            "colorbar": {
             "outlinewidth": 0,
             "ticks": ""
            },
            "colorscale": [
             [
              0,
              "#0d0887"
             ],
             [
              0.1111111111111111,
              "#46039f"
             ],
             [
              0.2222222222222222,
              "#7201a8"
             ],
             [
              0.3333333333333333,
              "#9c179e"
             ],
             [
              0.4444444444444444,
              "#bd3786"
             ],
             [
              0.5555555555555556,
              "#d8576b"
             ],
             [
              0.6666666666666666,
              "#ed7953"
             ],
             [
              0.7777777777777778,
              "#fb9f3a"
             ],
             [
              0.8888888888888888,
              "#fdca26"
             ],
             [
              1,
              "#f0f921"
             ]
            ],
            "type": "heatmapgl"
           }
          ],
          "histogram": [
           {
            "marker": {
             "pattern": {
              "fillmode": "overlay",
              "size": 10,
              "solidity": 0.2
             }
            },
            "type": "histogram"
           }
          ],
          "histogram2d": [
           {
            "colorbar": {
             "outlinewidth": 0,
             "ticks": ""
            },
            "colorscale": [
             [
              0,
              "#0d0887"
             ],
             [
              0.1111111111111111,
              "#46039f"
             ],
             [
              0.2222222222222222,
              "#7201a8"
             ],
             [
              0.3333333333333333,
              "#9c179e"
             ],
             [
              0.4444444444444444,
              "#bd3786"
             ],
             [
              0.5555555555555556,
              "#d8576b"
             ],
             [
              0.6666666666666666,
              "#ed7953"
             ],
             [
              0.7777777777777778,
              "#fb9f3a"
             ],
             [
              0.8888888888888888,
              "#fdca26"
             ],
             [
              1,
              "#f0f921"
             ]
            ],
            "type": "histogram2d"
           }
          ],
          "histogram2dcontour": [
           {
            "colorbar": {
             "outlinewidth": 0,
             "ticks": ""
            },
            "colorscale": [
             [
              0,
              "#0d0887"
             ],
             [
              0.1111111111111111,
              "#46039f"
             ],
             [
              0.2222222222222222,
              "#7201a8"
             ],
             [
              0.3333333333333333,
              "#9c179e"
             ],
             [
              0.4444444444444444,
              "#bd3786"
             ],
             [
              0.5555555555555556,
              "#d8576b"
             ],
             [
              0.6666666666666666,
              "#ed7953"
             ],
             [
              0.7777777777777778,
              "#fb9f3a"
             ],
             [
              0.8888888888888888,
              "#fdca26"
             ],
             [
              1,
              "#f0f921"
             ]
            ],
            "type": "histogram2dcontour"
           }
          ],
          "mesh3d": [
           {
            "colorbar": {
             "outlinewidth": 0,
             "ticks": ""
            },
            "type": "mesh3d"
           }
          ],
          "parcoords": [
           {
            "line": {
             "colorbar": {
              "outlinewidth": 0,
              "ticks": ""
             }
            },
            "type": "parcoords"
           }
          ],
          "pie": [
           {
            "automargin": true,
            "type": "pie"
           }
          ],
          "scatter": [
           {
            "fillpattern": {
             "fillmode": "overlay",
             "size": 10,
             "solidity": 0.2
            },
            "type": "scatter"
           }
          ],
          "scatter3d": [
           {
            "line": {
             "colorbar": {
              "outlinewidth": 0,
              "ticks": ""
             }
            },
            "marker": {
             "colorbar": {
              "outlinewidth": 0,
              "ticks": ""
             }
            },
            "type": "scatter3d"
           }
          ],
          "scattercarpet": [
           {
            "marker": {
             "colorbar": {
              "outlinewidth": 0,
              "ticks": ""
             }
            },
            "type": "scattercarpet"
           }
          ],
          "scattergeo": [
           {
            "marker": {
             "colorbar": {
              "outlinewidth": 0,
              "ticks": ""
             }
            },
            "type": "scattergeo"
           }
          ],
          "scattergl": [
           {
            "marker": {
             "colorbar": {
              "outlinewidth": 0,
              "ticks": ""
             }
            },
            "type": "scattergl"
           }
          ],
          "scattermapbox": [
           {
            "marker": {
             "colorbar": {
              "outlinewidth": 0,
              "ticks": ""
             }
            },
            "type": "scattermapbox"
           }
          ],
          "scatterpolar": [
           {
            "marker": {
             "colorbar": {
              "outlinewidth": 0,
              "ticks": ""
             }
            },
            "type": "scatterpolar"
           }
          ],
          "scatterpolargl": [
           {
            "marker": {
             "colorbar": {
              "outlinewidth": 0,
              "ticks": ""
             }
            },
            "type": "scatterpolargl"
           }
          ],
          "scatterternary": [
           {
            "marker": {
             "colorbar": {
              "outlinewidth": 0,
              "ticks": ""
             }
            },
            "type": "scatterternary"
           }
          ],
          "surface": [
           {
            "colorbar": {
             "outlinewidth": 0,
             "ticks": ""
            },
            "colorscale": [
             [
              0,
              "#0d0887"
             ],
             [
              0.1111111111111111,
              "#46039f"
             ],
             [
              0.2222222222222222,
              "#7201a8"
             ],
             [
              0.3333333333333333,
              "#9c179e"
             ],
             [
              0.4444444444444444,
              "#bd3786"
             ],
             [
              0.5555555555555556,
              "#d8576b"
             ],
             [
              0.6666666666666666,
              "#ed7953"
             ],
             [
              0.7777777777777778,
              "#fb9f3a"
             ],
             [
              0.8888888888888888,
              "#fdca26"
             ],
             [
              1,
              "#f0f921"
             ]
            ],
            "type": "surface"
           }
          ],
          "table": [
           {
            "cells": {
             "fill": {
              "color": "#EBF0F8"
             },
             "line": {
              "color": "white"
             }
            },
            "header": {
             "fill": {
              "color": "#C8D4E3"
             },
             "line": {
              "color": "white"
             }
            },
            "type": "table"
           }
          ]
         },
         "layout": {
          "annotationdefaults": {
           "arrowcolor": "#2a3f5f",
           "arrowhead": 0,
           "arrowwidth": 1
          },
          "autotypenumbers": "strict",
          "coloraxis": {
           "colorbar": {
            "outlinewidth": 0,
            "ticks": ""
           }
          },
          "colorscale": {
           "diverging": [
            [
             0,
             "#8e0152"
            ],
            [
             0.1,
             "#c51b7d"
            ],
            [
             0.2,
             "#de77ae"
            ],
            [
             0.3,
             "#f1b6da"
            ],
            [
             0.4,
             "#fde0ef"
            ],
            [
             0.5,
             "#f7f7f7"
            ],
            [
             0.6,
             "#e6f5d0"
            ],
            [
             0.7,
             "#b8e186"
            ],
            [
             0.8,
             "#7fbc41"
            ],
            [
             0.9,
             "#4d9221"
            ],
            [
             1,
             "#276419"
            ]
           ],
           "sequential": [
            [
             0,
             "#0d0887"
            ],
            [
             0.1111111111111111,
             "#46039f"
            ],
            [
             0.2222222222222222,
             "#7201a8"
            ],
            [
             0.3333333333333333,
             "#9c179e"
            ],
            [
             0.4444444444444444,
             "#bd3786"
            ],
            [
             0.5555555555555556,
             "#d8576b"
            ],
            [
             0.6666666666666666,
             "#ed7953"
            ],
            [
             0.7777777777777778,
             "#fb9f3a"
            ],
            [
             0.8888888888888888,
             "#fdca26"
            ],
            [
             1,
             "#f0f921"
            ]
           ],
           "sequentialminus": [
            [
             0,
             "#0d0887"
            ],
            [
             0.1111111111111111,
             "#46039f"
            ],
            [
             0.2222222222222222,
             "#7201a8"
            ],
            [
             0.3333333333333333,
             "#9c179e"
            ],
            [
             0.4444444444444444,
             "#bd3786"
            ],
            [
             0.5555555555555556,
             "#d8576b"
            ],
            [
             0.6666666666666666,
             "#ed7953"
            ],
            [
             0.7777777777777778,
             "#fb9f3a"
            ],
            [
             0.8888888888888888,
             "#fdca26"
            ],
            [
             1,
             "#f0f921"
            ]
           ]
          },
          "colorway": [
           "#636efa",
           "#EF553B",
           "#00cc96",
           "#ab63fa",
           "#FFA15A",
           "#19d3f3",
           "#FF6692",
           "#B6E880",
           "#FF97FF",
           "#FECB52"
          ],
          "font": {
           "color": "#2a3f5f"
          },
          "geo": {
           "bgcolor": "white",
           "lakecolor": "white",
           "landcolor": "#E5ECF6",
           "showlakes": true,
           "showland": true,
           "subunitcolor": "white"
          },
          "hoverlabel": {
           "align": "left"
          },
          "hovermode": "closest",
          "mapbox": {
           "style": "light"
          },
          "paper_bgcolor": "white",
          "plot_bgcolor": "#E5ECF6",
          "polar": {
           "angularaxis": {
            "gridcolor": "white",
            "linecolor": "white",
            "ticks": ""
           },
           "bgcolor": "#E5ECF6",
           "radialaxis": {
            "gridcolor": "white",
            "linecolor": "white",
            "ticks": ""
           }
          },
          "scene": {
           "xaxis": {
            "backgroundcolor": "#E5ECF6",
            "gridcolor": "white",
            "gridwidth": 2,
            "linecolor": "white",
            "showbackground": true,
            "ticks": "",
            "zerolinecolor": "white"
           },
           "yaxis": {
            "backgroundcolor": "#E5ECF6",
            "gridcolor": "white",
            "gridwidth": 2,
            "linecolor": "white",
            "showbackground": true,
            "ticks": "",
            "zerolinecolor": "white"
           },
           "zaxis": {
            "backgroundcolor": "#E5ECF6",
            "gridcolor": "white",
            "gridwidth": 2,
            "linecolor": "white",
            "showbackground": true,
            "ticks": "",
            "zerolinecolor": "white"
           }
          },
          "shapedefaults": {
           "line": {
            "color": "#2a3f5f"
           }
          },
          "ternary": {
           "aaxis": {
            "gridcolor": "white",
            "linecolor": "white",
            "ticks": ""
           },
           "baxis": {
            "gridcolor": "white",
            "linecolor": "white",
            "ticks": ""
           },
           "bgcolor": "#E5ECF6",
           "caxis": {
            "gridcolor": "white",
            "linecolor": "white",
            "ticks": ""
           }
          },
          "title": {
           "x": 0.05
          },
          "xaxis": {
           "automargin": true,
           "gridcolor": "white",
           "linecolor": "white",
           "ticks": "",
           "title": {
            "standoff": 15
           },
           "zerolinecolor": "white",
           "zerolinewidth": 2
          },
          "yaxis": {
           "automargin": true,
           "gridcolor": "white",
           "linecolor": "white",
           "ticks": "",
           "title": {
            "standoff": 15
           },
           "zerolinecolor": "white",
           "zerolinewidth": 2
          }
         }
        },
        "title": {
         "text": "emissions_train"
        },
        "yaxis": {
         "title": {
          "text": "emissions_train"
         }
        }
       }
      }
     },
     "metadata": {},
     "output_type": "display_data"
    },
    {
     "data": {
      "application/vnd.plotly.v1+json": {
       "config": {
        "plotlyServerURL": "https://plot.ly"
       },
       "data": [
        {
         "name": "Full",
         "type": "box",
         "x": [
          "LogisticRegression",
          "LogisticRegression",
          "LogisticRegression",
          "LogisticRegression",
          "LogisticRegression",
          "LogisticRegression",
          "LogisticRegression",
          "LogisticRegression",
          "LogisticRegression",
          "LogisticRegression",
          "LogisticRegression",
          "LogisticRegression",
          "LogisticRegression",
          "LogisticRegression",
          "LogisticRegression",
          "LogisticRegression",
          "LogisticRegression",
          "LogisticRegression",
          "LogisticRegression",
          "LogisticRegression",
          "SVC",
          "SVC",
          "SVC",
          "SVC",
          "SVC",
          "SVC",
          "SVC",
          "SVC",
          "SVC",
          "SVC",
          "SVC",
          "SVC",
          "SVC",
          "SVC",
          "SVC",
          "SVC",
          "SVC",
          "SVC",
          "SVC",
          "SVC",
          "RandomForestClassifier",
          "RandomForestClassifier",
          "RandomForestClassifier",
          "RandomForestClassifier",
          "RandomForestClassifier",
          "RandomForestClassifier",
          "RandomForestClassifier",
          "RandomForestClassifier",
          "RandomForestClassifier",
          "RandomForestClassifier",
          "RandomForestClassifier",
          "RandomForestClassifier",
          "RandomForestClassifier",
          "RandomForestClassifier",
          "RandomForestClassifier",
          "RandomForestClassifier",
          "RandomForestClassifier",
          "RandomForestClassifier",
          "RandomForestClassifier",
          "RandomForestClassifier",
          "GradientBoostingClassifier",
          "GradientBoostingClassifier",
          "GradientBoostingClassifier",
          "GradientBoostingClassifier",
          "GradientBoostingClassifier",
          "GradientBoostingClassifier",
          "GradientBoostingClassifier",
          "GradientBoostingClassifier",
          "GradientBoostingClassifier",
          "GradientBoostingClassifier",
          "GradientBoostingClassifier",
          "GradientBoostingClassifier",
          "GradientBoostingClassifier",
          "GradientBoostingClassifier",
          "GradientBoostingClassifier",
          "GradientBoostingClassifier",
          "GradientBoostingClassifier",
          "GradientBoostingClassifier",
          "GradientBoostingClassifier",
          "GradientBoostingClassifier",
          "DeepNeuralNetwork",
          "DeepNeuralNetwork",
          "DeepNeuralNetwork",
          "DeepNeuralNetwork",
          "DeepNeuralNetwork",
          "DeepNeuralNetwork",
          "DeepNeuralNetwork",
          "DeepNeuralNetwork",
          "DeepNeuralNetwork",
          "DeepNeuralNetwork",
          "DeepNeuralNetwork",
          "DeepNeuralNetwork",
          "DeepNeuralNetwork",
          "DeepNeuralNetwork",
          "DeepNeuralNetwork",
          "DeepNeuralNetwork",
          "DeepNeuralNetwork",
          "DeepNeuralNetwork",
          "DeepNeuralNetwork",
          "DeepNeuralNetwork"
         ],
         "y": [
          1.4943175043538592e-7,
          9.085958157118573e-8,
          8.65867435017112e-8,
          9.202342370409623e-8,
          7.315781182411218e-8,
          9.260704364119633e-8,
          1.25487147993944e-7,
          9.14453875764526e-8,
          7.743456331525679e-8,
          2.2356807375875642e-7,
          6.771481070051016e-8,
          1.3834436446424905e-7,
          1.455322239940493e-7,
          2.584199902495518e-7,
          9.630542363841393e-8,
          9.572511128815715e-8,
          9.57316125217364e-8,
          1.4963410062580898e-7,
          1.0682314919609193e-7,
          1.2082476254834246e-7,
          0.0000013571011242144784,
          0.0000014537501148532625,
          0.0000019564776396101616,
          0.0000018342872391916704,
          0.0000013717013815778278,
          0.0000011674337070024382,
          0.000001775080012661294,
          0.0000016683728163244954,
          0.0000014203407560642312,
          0.000001871089357022293,
          0.000001187463292288797,
          0.0000014008698914448267,
          0.0000017078624007862977,
          0.0000011357957496720833,
          0.000001421480214606509,
          0.000001636860468671314,
          0.000001389497210396197,
          0.0000011771669936200962,
          0.0000013941986790428837,
          0.000001419738008905623,
          3.774647393383485e-7,
          3.5855713580688897e-7,
          3.1883839569403494e-7,
          2.566187949897686e-7,
          3.7235528537512413e-7,
          4.361666482866761e-7,
          7.283816005725086e-7,
          6.518991790905107e-7,
          2.373407378972528e-7,
          6.737135185251597e-7,
          4.859994916332766e-7,
          3.507839859539369e-7,
          6.986742519827366e-7,
          2.568045682658712e-7,
          3.649660500473426e-7,
          8.155222456446634e-7,
          6.664879904369828e-7,
          2.385216019314129e-7,
          4.1264025496881573e-7,
          3.108811703405809e-7,
          1.212128198542495e-7,
          9.264076793105008e-8,
          2.529307566116052e-7,
          2.766728206191061e-7,
          7.31674482546546e-8,
          1.2062720208903116e-7,
          8.288422072375706e-8,
          7.80059510839537e-8,
          1.385389938194162e-7,
          9.202560977139562e-8,
          1.005908703598582e-7,
          2.1498277235059565e-7,
          1.2549923303958185e-7,
          8.716682649897307e-8,
          1.1401844323723209e-7,
          8.711450800395065e-8,
          2.568150810058553e-7,
          1.0117300022413622e-7,
          2.37931006194167e-7,
          7.68519668129658e-8,
          0.0000011044906269861224,
          9.330348442236973e-7,
          0.0000011625587781373403,
          0.0000035509222445833863,
          0.0000019784385742252497,
          0.0000011467969216766988,
          9.797621493149236e-7,
          0.0000013212210796115231,
          0.0000010580058804011624,
          9.73128658099398e-7,
          9.40083514943714e-7,
          0.0000010045407926690883,
          9.67647836225792e-7,
          0.0000013861927199761842,
          9.161965282495146e-7,
          0.0000010043703424413714,
          0.000001104584172516819,
          0.0000010908418779228754,
          0.0000010380899660390394,
          0.000001298154063490535
         ]
        },
        {
         "name": "FR",
         "type": "box",
         "x": [
          "LogisticRegression",
          "LogisticRegression",
          "LogisticRegression",
          "LogisticRegression",
          "LogisticRegression",
          "LogisticRegression",
          "LogisticRegression",
          "LogisticRegression",
          "LogisticRegression",
          "LogisticRegression",
          "LogisticRegression",
          "LogisticRegression",
          "LogisticRegression",
          "LogisticRegression",
          "LogisticRegression",
          "LogisticRegression",
          "LogisticRegression",
          "LogisticRegression",
          "LogisticRegression",
          "LogisticRegression",
          "SVC",
          "SVC",
          "SVC",
          "SVC",
          "SVC",
          "SVC",
          "SVC",
          "SVC",
          "SVC",
          "SVC",
          "SVC",
          "SVC",
          "SVC",
          "SVC",
          "SVC",
          "SVC",
          "SVC",
          "SVC",
          "SVC",
          "SVC",
          "RandomForestClassifier",
          "RandomForestClassifier",
          "RandomForestClassifier",
          "RandomForestClassifier",
          "RandomForestClassifier",
          "RandomForestClassifier",
          "RandomForestClassifier",
          "RandomForestClassifier",
          "RandomForestClassifier",
          "RandomForestClassifier",
          "RandomForestClassifier",
          "RandomForestClassifier",
          "RandomForestClassifier",
          "RandomForestClassifier",
          "RandomForestClassifier",
          "RandomForestClassifier",
          "RandomForestClassifier",
          "RandomForestClassifier",
          "RandomForestClassifier",
          "RandomForestClassifier",
          "GradientBoostingClassifier",
          "GradientBoostingClassifier",
          "GradientBoostingClassifier",
          "GradientBoostingClassifier",
          "GradientBoostingClassifier",
          "GradientBoostingClassifier",
          "GradientBoostingClassifier",
          "GradientBoostingClassifier",
          "GradientBoostingClassifier",
          "GradientBoostingClassifier",
          "GradientBoostingClassifier",
          "GradientBoostingClassifier",
          "GradientBoostingClassifier",
          "GradientBoostingClassifier",
          "GradientBoostingClassifier",
          "GradientBoostingClassifier",
          "GradientBoostingClassifier",
          "GradientBoostingClassifier",
          "GradientBoostingClassifier",
          "GradientBoostingClassifier",
          "DeepNeuralNetwork",
          "DeepNeuralNetwork",
          "DeepNeuralNetwork",
          "DeepNeuralNetwork",
          "DeepNeuralNetwork",
          "DeepNeuralNetwork",
          "DeepNeuralNetwork",
          "DeepNeuralNetwork",
          "DeepNeuralNetwork",
          "DeepNeuralNetwork",
          "DeepNeuralNetwork",
          "DeepNeuralNetwork",
          "DeepNeuralNetwork",
          "DeepNeuralNetwork",
          "DeepNeuralNetwork",
          "DeepNeuralNetwork",
          "DeepNeuralNetwork",
          "DeepNeuralNetwork",
          "DeepNeuralNetwork",
          "DeepNeuralNetwork"
         ],
         "y": [
          8.230106742466993e-8,
          3.254783083597376e-7,
          5.548369800831635e-7,
          2.896800220860557e-7,
          1.2062724320457965e-7,
          7.257359397466745e-8,
          1.5778847118480546e-7,
          7.685448031972963e-8,
          8.599977486221932e-8,
          6.77100209702658e-8,
          1.455294320884537e-7,
          7.199602448503678e-8,
          1.8389241038599402e-7,
          2.3734971152204745e-7,
          1.7470682542493346e-7,
          8.171949435545335e-8,
          1.443584749577162e-7,
          8.658074209400708e-8,
          9.145031650611285e-8,
          1.297782196403932e-7,
          0.0000017850855580552397,
          0.000001964454212131581,
          0.0000014101370794323068,
          0.0000015251119090163923,
          0.000002972353803390622,
          0.000001751864242041136,
          0.00000182886270100064,
          0.0000021212309220912384,
          0.0000016326686244497526,
          0.0000017300875217052952,
          0.0000016582543909847078,
          0.000001878072332328791,
          0.000002202756720366683,
          0.0000014480876318100425,
          0.0000018348581935084816,
          0.0000015148186739265962,
          0.0000017916943741529134,
          0.000001732671496786943,
          0.000001726711186933634,
          0.0000023054790005121867,
          4.702118634163782e-7,
          6.278241658358441e-7,
          2.974486606067278e-7,
          6.025201175147502e-7,
          3.103045262018919e-7,
          4.616367449668604e-7,
          3.054386279316424e-7,
          4.1360118218855546e-7,
          2.324872109930876e-7,
          4.1555075716830797e-7,
          8.172825844950452e-7,
          3.8812091606062193e-7,
          5.024841698174007e-7,
          2.281933964851449e-7,
          3.455093837171838e-7,
          6.415909677660522e-7,
          3.9293886797305e-7,
          5.34222243671334e-7,
          3.411914323110319e-7,
          4.221976124436922e-7,
          9.514921218544553e-8,
          9.630807634632839e-8,
          8.7167473451083e-8,
          7.861514895231987e-8,
          1.1459192691531257e-7,
          9.086051484721165e-8,
          8.833778362797584e-8,
          8.71618485252107e-8,
          1.4823488793391792e-7,
          8.774984059777696e-8,
          2.2607801835466962e-7,
          2.4299828026413256e-7,
          2.0508317483038802e-7,
          8.658251056652828e-8,
          9.688978861409349e-8,
          1.3483428497503005e-7,
          2.5249284761955093e-7,
          8.658153617235181e-8,
          8.65842790364474e-8,
          7.85979878525217e-8,
          9.797950767716918e-7,
          0.0000010901979980524471,
          0.000001181441878556587,
          0.0000020010277264372045,
          0.0000011820245652167938,
          9.491521378666296e-7,
          0.0000010890559769610383,
          8.50039915986471e-7,
          8.13200637593027e-7,
          8.022154367667844e-7,
          8.235320868342846e-7,
          8.163757031064839e-7,
          8.236719521766828e-7,
          8.146550059947785e-7,
          7.983183393771992e-7,
          0.0000010040580958031037,
          8.786750267377949e-7,
          9.087905626630616e-7,
          9.77027027474972e-7,
          9.382474765217212e-7
         ]
        },
        {
         "name": "SS",
         "type": "box",
         "x": [
          "LogisticRegression",
          "LogisticRegression",
          "LogisticRegression",
          "LogisticRegression",
          "LogisticRegression",
          "LogisticRegression",
          "LogisticRegression",
          "LogisticRegression",
          "LogisticRegression",
          "LogisticRegression",
          "LogisticRegression",
          "LogisticRegression",
          "LogisticRegression",
          "LogisticRegression",
          "LogisticRegression",
          "LogisticRegression",
          "LogisticRegression",
          "LogisticRegression",
          "LogisticRegression",
          "LogisticRegression",
          "SVC",
          "SVC",
          "SVC",
          "SVC",
          "SVC",
          "SVC",
          "SVC",
          "SVC",
          "SVC",
          "SVC",
          "SVC",
          "SVC",
          "SVC",
          "SVC",
          "SVC",
          "SVC",
          "SVC",
          "SVC",
          "SVC",
          "SVC",
          "RandomForestClassifier",
          "RandomForestClassifier",
          "RandomForestClassifier",
          "RandomForestClassifier",
          "RandomForestClassifier",
          "RandomForestClassifier",
          "RandomForestClassifier",
          "RandomForestClassifier",
          "RandomForestClassifier",
          "RandomForestClassifier",
          "RandomForestClassifier",
          "RandomForestClassifier",
          "RandomForestClassifier",
          "RandomForestClassifier",
          "RandomForestClassifier",
          "RandomForestClassifier",
          "RandomForestClassifier",
          "RandomForestClassifier",
          "RandomForestClassifier",
          "RandomForestClassifier",
          "GradientBoostingClassifier",
          "GradientBoostingClassifier",
          "GradientBoostingClassifier",
          "GradientBoostingClassifier",
          "GradientBoostingClassifier",
          "GradientBoostingClassifier",
          "GradientBoostingClassifier",
          "GradientBoostingClassifier",
          "GradientBoostingClassifier",
          "GradientBoostingClassifier",
          "GradientBoostingClassifier",
          "GradientBoostingClassifier",
          "GradientBoostingClassifier",
          "GradientBoostingClassifier",
          "GradientBoostingClassifier",
          "GradientBoostingClassifier",
          "GradientBoostingClassifier",
          "GradientBoostingClassifier",
          "GradientBoostingClassifier",
          "GradientBoostingClassifier",
          "DeepNeuralNetwork",
          "DeepNeuralNetwork",
          "DeepNeuralNetwork",
          "DeepNeuralNetwork",
          "DeepNeuralNetwork",
          "DeepNeuralNetwork",
          "DeepNeuralNetwork",
          "DeepNeuralNetwork",
          "DeepNeuralNetwork",
          "DeepNeuralNetwork",
          "DeepNeuralNetwork",
          "DeepNeuralNetwork",
          "DeepNeuralNetwork",
          "DeepNeuralNetwork",
          "DeepNeuralNetwork",
          "DeepNeuralNetwork",
          "DeepNeuralNetwork",
          "DeepNeuralNetwork",
          "DeepNeuralNetwork",
          "DeepNeuralNetwork"
         ],
         "y": [
          8.659874631365e-8,
          7.685173745650142e-8,
          1.042823726425321e-7,
          1.1147330247415765e-7,
          7.74379120167812e-8,
          1.011708141577042e-7,
          8.172289209847777e-8,
          7.256927088156867e-8,
          8.65838614390671e-8,
          8.541509037476165e-8,
          7.685479983150778e-8,
          9.514209718675116e-8,
          1.889188862838273e-7,
          2.198782007500552e-7,
          8.54204859433022e-8,
          1.8852069272150276e-7,
          1.2881445147355788e-7,
          9.086544377773925e-8,
          8.113322963812508e-8,
          9.027619891476685e-8,
          7.07938333351088e-7,
          8.343768291034157e-7,
          7.874920410948574e-7,
          8.398344857442688e-7,
          8.933310048234513e-7,
          0.000001729854512995746,
          0.000001232594346348495,
          9.63950790882316e-7,
          6.750558546892577e-7,
          0.000001456904722611438,
          6.50738219019377e-7,
          0.0000012300753814246943,
          6.075459076868017e-7,
          0.0000012672321882296889,
          4.6339675872052177e-7,
          0.000001259837278934535,
          8.05782540024523e-7,
          0.0000017492904812836665,
          9.754280927854605e-7,
          0.0000010289364754789004,
          2.0398491706267319e-7,
          3.552257876321408e-7,
          2.957252041623296e-7,
          1.6555743714320725e-7,
          4.427754150644267e-7,
          1.8013267337468888e-7,
          2.605024405103948e-7,
          1.8987842151461243e-7,
          3.673280051302505e-7,
          1.612705493921757e-7,
          2.671097504040529e-7,
          1.9903925581234855e-7,
          2.178925785547431e-7,
          2.817411774349438e-7,
          5.824763433491531e-7,
          1.8055797048905506e-7,
          2.0758651218203558e-7,
          4.3304594378717337e-7,
          5.486091714636612e-7,
          2.513522581511912e-7,
          9.087702899489987e-8,
          8.229506601870051e-8,
          9.203272476922265e-8,
          1.0661139985494035e-7,
          9.683561149297083e-8,
          7.374808804697791e-8,
          2.6793064622932655e-7,
          4.628749007825825e-7,
          1.492089805989541e-7,
          1.0915059617949697e-7,
          1.5349772697955538e-7,
          9.145952741505815e-8,
          8.776942504815782e-8,
          1.1031620678579601e-7,
          8.231265264269788e-8,
          9.6889927812642e-8,
          3.463017728515261e-7,
          8.404480431392637e-8,
          7.316028421446019e-8,
          1.0058878237642621e-7,
          0.0000014726569584943075,
          9.630986446780218e-7,
          0.000001002997313767108,
          8.978303215560063e-7,
          9.730859184134755e-7,
          9.520091479205128e-7,
          0.0000012126999676944849,
          0.0000013613781050620874,
          9.846773009487136e-7,
          0.0000010011811116886205,
          9.063676954185544e-7,
          8.957272909617189e-7,
          0.000001319357397813227,
          8.955664645869318e-7,
          8.807129904713287e-7,
          9.555681045689962e-7,
          9.588167164302844e-7,
          0.0000011522507821735972,
          9.64864890786593e-7,
          0.00000113309834777562
         ]
        },
        {
         "name": "SS & FR",
         "type": "box",
         "x": [
          "LogisticRegression",
          "LogisticRegression",
          "LogisticRegression",
          "LogisticRegression",
          "LogisticRegression",
          "LogisticRegression",
          "LogisticRegression",
          "LogisticRegression",
          "LogisticRegression",
          "LogisticRegression",
          "LogisticRegression",
          "LogisticRegression",
          "LogisticRegression",
          "LogisticRegression",
          "LogisticRegression",
          "LogisticRegression",
          "LogisticRegression",
          "LogisticRegression",
          "LogisticRegression",
          "LogisticRegression",
          "SVC",
          "SVC",
          "SVC",
          "SVC",
          "SVC",
          "SVC",
          "SVC",
          "SVC",
          "SVC",
          "SVC",
          "SVC",
          "SVC",
          "SVC",
          "SVC",
          "SVC",
          "SVC",
          "SVC",
          "SVC",
          "SVC",
          "SVC",
          "RandomForestClassifier",
          "RandomForestClassifier",
          "RandomForestClassifier",
          "RandomForestClassifier",
          "RandomForestClassifier",
          "RandomForestClassifier",
          "RandomForestClassifier",
          "RandomForestClassifier",
          "RandomForestClassifier",
          "RandomForestClassifier",
          "RandomForestClassifier",
          "RandomForestClassifier",
          "RandomForestClassifier",
          "RandomForestClassifier",
          "RandomForestClassifier",
          "RandomForestClassifier",
          "RandomForestClassifier",
          "RandomForestClassifier",
          "RandomForestClassifier",
          "RandomForestClassifier",
          "GradientBoostingClassifier",
          "GradientBoostingClassifier",
          "GradientBoostingClassifier",
          "GradientBoostingClassifier",
          "GradientBoostingClassifier",
          "GradientBoostingClassifier",
          "GradientBoostingClassifier",
          "GradientBoostingClassifier",
          "GradientBoostingClassifier",
          "GradientBoostingClassifier",
          "GradientBoostingClassifier",
          "GradientBoostingClassifier",
          "GradientBoostingClassifier",
          "GradientBoostingClassifier",
          "GradientBoostingClassifier",
          "GradientBoostingClassifier",
          "GradientBoostingClassifier",
          "GradientBoostingClassifier",
          "GradientBoostingClassifier",
          "GradientBoostingClassifier",
          "DeepNeuralNetwork",
          "DeepNeuralNetwork",
          "DeepNeuralNetwork",
          "DeepNeuralNetwork",
          "DeepNeuralNetwork",
          "DeepNeuralNetwork",
          "DeepNeuralNetwork",
          "DeepNeuralNetwork",
          "DeepNeuralNetwork",
          "DeepNeuralNetwork",
          "DeepNeuralNetwork",
          "DeepNeuralNetwork",
          "DeepNeuralNetwork",
          "DeepNeuralNetwork",
          "DeepNeuralNetwork",
          "DeepNeuralNetwork",
          "DeepNeuralNetwork",
          "DeepNeuralNetwork",
          "DeepNeuralNetwork",
          "DeepNeuralNetwork"
         ],
         "y": [
          8.171661229280924e-8,
          8.17167514930925e-8,
          2.138233490527747e-7,
          9.145213402013409e-8,
          9.08620950770822e-8,
          3.9280566759523916e-7,
          3.7178259577452105e-7,
          1.1459819879242745e-7,
          1.9902348670150505e-7,
          2.033060924758537e-7,
          2.805343510617342e-7,
          1.5778354225341048e-7,
          8.970369755594705e-8,
          2.708087852810667e-7,
          9.144422494136024e-8,
          8.657990690011387e-8,
          3.171857159917427e-7,
          9.145092234440905e-8,
          8.229437002422318e-8,
          8.541276510891371e-8,
          0.0000010069344722187998,
          7.540404097739969e-7,
          6.793430208382537e-7,
          4.239065525667857e-7,
          0.0000010726857073012352,
          4.390738666797817e-7,
          0.0000011754048349138166,
          9.833975503099196e-7,
          0.000001292328490790952,
          0.000001207119844344115,
          0.000001199139923122039,
          0.0000011814388984109428,
          0.00000161624686170498,
          7.911881448685945e-7,
          0.0000011559501173694089,
          0.0000012434893791853432,
          9.814556471221883e-7,
          9.705535894428269e-7,
          0.0000011837989948660158,
          0.0000011602233809604803,
          1.8501321923623806e-7,
          2.616804224819108e-7,
          2.002123578965717e-7,
          3.686642497304632e-7,
          4.087381659783479e-7,
          2.573862314921363e-7,
          5.552407653826308e-7,
          4.861687747563861e-7,
          4.0816134152556194e-7,
          1.898711182767368e-7,
          4.087348172776909e-7,
          2.1419284768325195e-7,
          2.524957296830624e-7,
          1.844483485573603e-7,
          4.5133560752381313e-7,
          2.2333935390146667e-7,
          2.3611258238333266e-7,
          3.88715883930732e-7,
          1.747194340760358e-7,
          3.363694357026021e-7,
          9.94283791003539e-8,
          9.630765874894809e-8,
          1.2881445147442522e-7,
          1.005856139889988e-7,
          8.658576910926946e-8,
          3.48886686010047e-7,
          1.342556430116923e-7,
          9.144189967724704e-8,
          8.59993572657064e-8,
          9.514688691786288e-8,
          9.51387975284615e-8,
          7.314961642315709e-8,
          5.014465889654346e-7,
          1.1634105937397693e-7,
          1.4804607174293688e-7,
          8.716831657006041e-8,
          1.1830203132910667e-7,
          9.688862598073585e-8,
          1.4390489259680922e-7,
          1.680956100346895e-7,
          0.000001231347995398098,
          0.0000010775659473960875,
          9.309617182724078e-7,
          8.274657144115988e-7,
          0.0000012720528394152136,
          0.0000010258732431756706,
          9.47657526466708e-7,
          0.0000018940391996128544,
          0.0000015390004597000406,
          8.991038715315536e-7,
          9.143313560062982e-7,
          9.01572212742667e-7,
          9.59836428578338e-7,
          0.000001137869596333323,
          9.879534812566593e-7,
          0.000001139311329718777,
          9.665400651981057e-7,
          0.000001050590447563074,
          8.987924763857735e-7,
          0.0000016335745776294153
         ]
        }
       ],
       "layout": {
        "boxmode": "group",
        "template": {
         "data": {
          "bar": [
           {
            "error_x": {
             "color": "#2a3f5f"
            },
            "error_y": {
             "color": "#2a3f5f"
            },
            "marker": {
             "line": {
              "color": "#E5ECF6",
              "width": 0.5
             },
             "pattern": {
              "fillmode": "overlay",
              "size": 10,
              "solidity": 0.2
             }
            },
            "type": "bar"
           }
          ],
          "barpolar": [
           {
            "marker": {
             "line": {
              "color": "#E5ECF6",
              "width": 0.5
             },
             "pattern": {
              "fillmode": "overlay",
              "size": 10,
              "solidity": 0.2
             }
            },
            "type": "barpolar"
           }
          ],
          "carpet": [
           {
            "aaxis": {
             "endlinecolor": "#2a3f5f",
             "gridcolor": "white",
             "linecolor": "white",
             "minorgridcolor": "white",
             "startlinecolor": "#2a3f5f"
            },
            "baxis": {
             "endlinecolor": "#2a3f5f",
             "gridcolor": "white",
             "linecolor": "white",
             "minorgridcolor": "white",
             "startlinecolor": "#2a3f5f"
            },
            "type": "carpet"
           }
          ],
          "choropleth": [
           {
            "colorbar": {
             "outlinewidth": 0,
             "ticks": ""
            },
            "type": "choropleth"
           }
          ],
          "contour": [
           {
            "colorbar": {
             "outlinewidth": 0,
             "ticks": ""
            },
            "colorscale": [
             [
              0,
              "#0d0887"
             ],
             [
              0.1111111111111111,
              "#46039f"
             ],
             [
              0.2222222222222222,
              "#7201a8"
             ],
             [
              0.3333333333333333,
              "#9c179e"
             ],
             [
              0.4444444444444444,
              "#bd3786"
             ],
             [
              0.5555555555555556,
              "#d8576b"
             ],
             [
              0.6666666666666666,
              "#ed7953"
             ],
             [
              0.7777777777777778,
              "#fb9f3a"
             ],
             [
              0.8888888888888888,
              "#fdca26"
             ],
             [
              1,
              "#f0f921"
             ]
            ],
            "type": "contour"
           }
          ],
          "contourcarpet": [
           {
            "colorbar": {
             "outlinewidth": 0,
             "ticks": ""
            },
            "type": "contourcarpet"
           }
          ],
          "heatmap": [
           {
            "colorbar": {
             "outlinewidth": 0,
             "ticks": ""
            },
            "colorscale": [
             [
              0,
              "#0d0887"
             ],
             [
              0.1111111111111111,
              "#46039f"
             ],
             [
              0.2222222222222222,
              "#7201a8"
             ],
             [
              0.3333333333333333,
              "#9c179e"
             ],
             [
              0.4444444444444444,
              "#bd3786"
             ],
             [
              0.5555555555555556,
              "#d8576b"
             ],
             [
              0.6666666666666666,
              "#ed7953"
             ],
             [
              0.7777777777777778,
              "#fb9f3a"
             ],
             [
              0.8888888888888888,
              "#fdca26"
             ],
             [
              1,
              "#f0f921"
             ]
            ],
            "type": "heatmap"
           }
          ],
          "heatmapgl": [
           {
            "colorbar": {
             "outlinewidth": 0,
             "ticks": ""
            },
            "colorscale": [
             [
              0,
              "#0d0887"
             ],
             [
              0.1111111111111111,
              "#46039f"
             ],
             [
              0.2222222222222222,
              "#7201a8"
             ],
             [
              0.3333333333333333,
              "#9c179e"
             ],
             [
              0.4444444444444444,
              "#bd3786"
             ],
             [
              0.5555555555555556,
              "#d8576b"
             ],
             [
              0.6666666666666666,
              "#ed7953"
             ],
             [
              0.7777777777777778,
              "#fb9f3a"
             ],
             [
              0.8888888888888888,
              "#fdca26"
             ],
             [
              1,
              "#f0f921"
             ]
            ],
            "type": "heatmapgl"
           }
          ],
          "histogram": [
           {
            "marker": {
             "pattern": {
              "fillmode": "overlay",
              "size": 10,
              "solidity": 0.2
             }
            },
            "type": "histogram"
           }
          ],
          "histogram2d": [
           {
            "colorbar": {
             "outlinewidth": 0,
             "ticks": ""
            },
            "colorscale": [
             [
              0,
              "#0d0887"
             ],
             [
              0.1111111111111111,
              "#46039f"
             ],
             [
              0.2222222222222222,
              "#7201a8"
             ],
             [
              0.3333333333333333,
              "#9c179e"
             ],
             [
              0.4444444444444444,
              "#bd3786"
             ],
             [
              0.5555555555555556,
              "#d8576b"
             ],
             [
              0.6666666666666666,
              "#ed7953"
             ],
             [
              0.7777777777777778,
              "#fb9f3a"
             ],
             [
              0.8888888888888888,
              "#fdca26"
             ],
             [
              1,
              "#f0f921"
             ]
            ],
            "type": "histogram2d"
           }
          ],
          "histogram2dcontour": [
           {
            "colorbar": {
             "outlinewidth": 0,
             "ticks": ""
            },
            "colorscale": [
             [
              0,
              "#0d0887"
             ],
             [
              0.1111111111111111,
              "#46039f"
             ],
             [
              0.2222222222222222,
              "#7201a8"
             ],
             [
              0.3333333333333333,
              "#9c179e"
             ],
             [
              0.4444444444444444,
              "#bd3786"
             ],
             [
              0.5555555555555556,
              "#d8576b"
             ],
             [
              0.6666666666666666,
              "#ed7953"
             ],
             [
              0.7777777777777778,
              "#fb9f3a"
             ],
             [
              0.8888888888888888,
              "#fdca26"
             ],
             [
              1,
              "#f0f921"
             ]
            ],
            "type": "histogram2dcontour"
           }
          ],
          "mesh3d": [
           {
            "colorbar": {
             "outlinewidth": 0,
             "ticks": ""
            },
            "type": "mesh3d"
           }
          ],
          "parcoords": [
           {
            "line": {
             "colorbar": {
              "outlinewidth": 0,
              "ticks": ""
             }
            },
            "type": "parcoords"
           }
          ],
          "pie": [
           {
            "automargin": true,
            "type": "pie"
           }
          ],
          "scatter": [
           {
            "fillpattern": {
             "fillmode": "overlay",
             "size": 10,
             "solidity": 0.2
            },
            "type": "scatter"
           }
          ],
          "scatter3d": [
           {
            "line": {
             "colorbar": {
              "outlinewidth": 0,
              "ticks": ""
             }
            },
            "marker": {
             "colorbar": {
              "outlinewidth": 0,
              "ticks": ""
             }
            },
            "type": "scatter3d"
           }
          ],
          "scattercarpet": [
           {
            "marker": {
             "colorbar": {
              "outlinewidth": 0,
              "ticks": ""
             }
            },
            "type": "scattercarpet"
           }
          ],
          "scattergeo": [
           {
            "marker": {
             "colorbar": {
              "outlinewidth": 0,
              "ticks": ""
             }
            },
            "type": "scattergeo"
           }
          ],
          "scattergl": [
           {
            "marker": {
             "colorbar": {
              "outlinewidth": 0,
              "ticks": ""
             }
            },
            "type": "scattergl"
           }
          ],
          "scattermapbox": [
           {
            "marker": {
             "colorbar": {
              "outlinewidth": 0,
              "ticks": ""
             }
            },
            "type": "scattermapbox"
           }
          ],
          "scatterpolar": [
           {
            "marker": {
             "colorbar": {
              "outlinewidth": 0,
              "ticks": ""
             }
            },
            "type": "scatterpolar"
           }
          ],
          "scatterpolargl": [
           {
            "marker": {
             "colorbar": {
              "outlinewidth": 0,
              "ticks": ""
             }
            },
            "type": "scatterpolargl"
           }
          ],
          "scatterternary": [
           {
            "marker": {
             "colorbar": {
              "outlinewidth": 0,
              "ticks": ""
             }
            },
            "type": "scatterternary"
           }
          ],
          "surface": [
           {
            "colorbar": {
             "outlinewidth": 0,
             "ticks": ""
            },
            "colorscale": [
             [
              0,
              "#0d0887"
             ],
             [
              0.1111111111111111,
              "#46039f"
             ],
             [
              0.2222222222222222,
              "#7201a8"
             ],
             [
              0.3333333333333333,
              "#9c179e"
             ],
             [
              0.4444444444444444,
              "#bd3786"
             ],
             [
              0.5555555555555556,
              "#d8576b"
             ],
             [
              0.6666666666666666,
              "#ed7953"
             ],
             [
              0.7777777777777778,
              "#fb9f3a"
             ],
             [
              0.8888888888888888,
              "#fdca26"
             ],
             [
              1,
              "#f0f921"
             ]
            ],
            "type": "surface"
           }
          ],
          "table": [
           {
            "cells": {
             "fill": {
              "color": "#EBF0F8"
             },
             "line": {
              "color": "white"
             }
            },
            "header": {
             "fill": {
              "color": "#C8D4E3"
             },
             "line": {
              "color": "white"
             }
            },
            "type": "table"
           }
          ]
         },
         "layout": {
          "annotationdefaults": {
           "arrowcolor": "#2a3f5f",
           "arrowhead": 0,
           "arrowwidth": 1
          },
          "autotypenumbers": "strict",
          "coloraxis": {
           "colorbar": {
            "outlinewidth": 0,
            "ticks": ""
           }
          },
          "colorscale": {
           "diverging": [
            [
             0,
             "#8e0152"
            ],
            [
             0.1,
             "#c51b7d"
            ],
            [
             0.2,
             "#de77ae"
            ],
            [
             0.3,
             "#f1b6da"
            ],
            [
             0.4,
             "#fde0ef"
            ],
            [
             0.5,
             "#f7f7f7"
            ],
            [
             0.6,
             "#e6f5d0"
            ],
            [
             0.7,
             "#b8e186"
            ],
            [
             0.8,
             "#7fbc41"
            ],
            [
             0.9,
             "#4d9221"
            ],
            [
             1,
             "#276419"
            ]
           ],
           "sequential": [
            [
             0,
             "#0d0887"
            ],
            [
             0.1111111111111111,
             "#46039f"
            ],
            [
             0.2222222222222222,
             "#7201a8"
            ],
            [
             0.3333333333333333,
             "#9c179e"
            ],
            [
             0.4444444444444444,
             "#bd3786"
            ],
            [
             0.5555555555555556,
             "#d8576b"
            ],
            [
             0.6666666666666666,
             "#ed7953"
            ],
            [
             0.7777777777777778,
             "#fb9f3a"
            ],
            [
             0.8888888888888888,
             "#fdca26"
            ],
            [
             1,
             "#f0f921"
            ]
           ],
           "sequentialminus": [
            [
             0,
             "#0d0887"
            ],
            [
             0.1111111111111111,
             "#46039f"
            ],
            [
             0.2222222222222222,
             "#7201a8"
            ],
            [
             0.3333333333333333,
             "#9c179e"
            ],
            [
             0.4444444444444444,
             "#bd3786"
            ],
            [
             0.5555555555555556,
             "#d8576b"
            ],
            [
             0.6666666666666666,
             "#ed7953"
            ],
            [
             0.7777777777777778,
             "#fb9f3a"
            ],
            [
             0.8888888888888888,
             "#fdca26"
            ],
            [
             1,
             "#f0f921"
            ]
           ]
          },
          "colorway": [
           "#636efa",
           "#EF553B",
           "#00cc96",
           "#ab63fa",
           "#FFA15A",
           "#19d3f3",
           "#FF6692",
           "#B6E880",
           "#FF97FF",
           "#FECB52"
          ],
          "font": {
           "color": "#2a3f5f"
          },
          "geo": {
           "bgcolor": "white",
           "lakecolor": "white",
           "landcolor": "#E5ECF6",
           "showlakes": true,
           "showland": true,
           "subunitcolor": "white"
          },
          "hoverlabel": {
           "align": "left"
          },
          "hovermode": "closest",
          "mapbox": {
           "style": "light"
          },
          "paper_bgcolor": "white",
          "plot_bgcolor": "#E5ECF6",
          "polar": {
           "angularaxis": {
            "gridcolor": "white",
            "linecolor": "white",
            "ticks": ""
           },
           "bgcolor": "#E5ECF6",
           "radialaxis": {
            "gridcolor": "white",
            "linecolor": "white",
            "ticks": ""
           }
          },
          "scene": {
           "xaxis": {
            "backgroundcolor": "#E5ECF6",
            "gridcolor": "white",
            "gridwidth": 2,
            "linecolor": "white",
            "showbackground": true,
            "ticks": "",
            "zerolinecolor": "white"
           },
           "yaxis": {
            "backgroundcolor": "#E5ECF6",
            "gridcolor": "white",
            "gridwidth": 2,
            "linecolor": "white",
            "showbackground": true,
            "ticks": "",
            "zerolinecolor": "white"
           },
           "zaxis": {
            "backgroundcolor": "#E5ECF6",
            "gridcolor": "white",
            "gridwidth": 2,
            "linecolor": "white",
            "showbackground": true,
            "ticks": "",
            "zerolinecolor": "white"
           }
          },
          "shapedefaults": {
           "line": {
            "color": "#2a3f5f"
           }
          },
          "ternary": {
           "aaxis": {
            "gridcolor": "white",
            "linecolor": "white",
            "ticks": ""
           },
           "baxis": {
            "gridcolor": "white",
            "linecolor": "white",
            "ticks": ""
           },
           "bgcolor": "#E5ECF6",
           "caxis": {
            "gridcolor": "white",
            "linecolor": "white",
            "ticks": ""
           }
          },
          "title": {
           "x": 0.05
          },
          "xaxis": {
           "automargin": true,
           "gridcolor": "white",
           "linecolor": "white",
           "ticks": "",
           "title": {
            "standoff": 15
           },
           "zerolinecolor": "white",
           "zerolinewidth": 2
          },
          "yaxis": {
           "automargin": true,
           "gridcolor": "white",
           "linecolor": "white",
           "ticks": "",
           "title": {
            "standoff": 15
           },
           "zerolinecolor": "white",
           "zerolinewidth": 2
          }
         }
        },
        "title": {
         "text": "emissions_pred"
        },
        "yaxis": {
         "title": {
          "text": "emissions_pred"
         }
        }
       }
      }
     },
     "metadata": {},
     "output_type": "display_data"
    }
   ],
   "source": [
    "make_plots('emissions_prep')\n",
    "make_plots('emissions_train')\n",
    "make_plots('emissions_pred')"
   ]
  },
  {
   "cell_type": "markdown",
   "metadata": {},
   "source": [
    "# Combined measures"
   ]
  },
  {
   "cell_type": "code",
   "execution_count": 9,
   "metadata": {},
   "outputs": [
    {
     "data": {
      "application/vnd.plotly.v1+json": {
       "config": {
        "plotlyServerURL": "https://plot.ly"
       },
       "data": [
        {
         "name": "Full",
         "type": "box",
         "x": [
          "LogisticRegression",
          "LogisticRegression",
          "LogisticRegression",
          "LogisticRegression",
          "LogisticRegression",
          "LogisticRegression",
          "LogisticRegression",
          "LogisticRegression",
          "LogisticRegression",
          "LogisticRegression",
          "LogisticRegression",
          "LogisticRegression",
          "LogisticRegression",
          "LogisticRegression",
          "LogisticRegression",
          "LogisticRegression",
          "LogisticRegression",
          "LogisticRegression",
          "LogisticRegression",
          "LogisticRegression",
          "SVC",
          "SVC",
          "SVC",
          "SVC",
          "SVC",
          "SVC",
          "SVC",
          "SVC",
          "SVC",
          "SVC",
          "SVC",
          "SVC",
          "SVC",
          "SVC",
          "SVC",
          "SVC",
          "SVC",
          "SVC",
          "SVC",
          "SVC",
          "RandomForestClassifier",
          "RandomForestClassifier",
          "RandomForestClassifier",
          "RandomForestClassifier",
          "RandomForestClassifier",
          "RandomForestClassifier",
          "RandomForestClassifier",
          "RandomForestClassifier",
          "RandomForestClassifier",
          "RandomForestClassifier",
          "RandomForestClassifier",
          "RandomForestClassifier",
          "RandomForestClassifier",
          "RandomForestClassifier",
          "RandomForestClassifier",
          "RandomForestClassifier",
          "RandomForestClassifier",
          "RandomForestClassifier",
          "RandomForestClassifier",
          "RandomForestClassifier",
          "GradientBoostingClassifier",
          "GradientBoostingClassifier",
          "GradientBoostingClassifier",
          "GradientBoostingClassifier",
          "GradientBoostingClassifier",
          "GradientBoostingClassifier",
          "GradientBoostingClassifier",
          "GradientBoostingClassifier",
          "GradientBoostingClassifier",
          "GradientBoostingClassifier",
          "GradientBoostingClassifier",
          "GradientBoostingClassifier",
          "GradientBoostingClassifier",
          "GradientBoostingClassifier",
          "GradientBoostingClassifier",
          "GradientBoostingClassifier",
          "GradientBoostingClassifier",
          "GradientBoostingClassifier",
          "GradientBoostingClassifier",
          "GradientBoostingClassifier",
          "DeepNeuralNetwork",
          "DeepNeuralNetwork",
          "DeepNeuralNetwork",
          "DeepNeuralNetwork",
          "DeepNeuralNetwork",
          "DeepNeuralNetwork",
          "DeepNeuralNetwork",
          "DeepNeuralNetwork",
          "DeepNeuralNetwork",
          "DeepNeuralNetwork",
          "DeepNeuralNetwork",
          "DeepNeuralNetwork",
          "DeepNeuralNetwork",
          "DeepNeuralNetwork",
          "DeepNeuralNetwork",
          "DeepNeuralNetwork",
          "DeepNeuralNetwork",
          "DeepNeuralNetwork",
          "DeepNeuralNetwork",
          "DeepNeuralNetwork"
         ],
         "y": [
          0.1745324134826659,
          0.26030445098876936,
          0.16655683517456038,
          0.1545841693878173,
          0.2642939090728758,
          0.14162111282348622,
          0.1944828033447265,
          0.1266620159149169,
          0.1685490608215331,
          0.17453122138977029,
          0.2134292125701902,
          0.2114350795745848,
          0.1944758892059325,
          0.1216752529144286,
          0.2443459033966063,
          0.16057205200195301,
          0.1406295299530029,
          0.1406249999999999,
          0.1426203250885009,
          0.1615693569183348,
          1.0511870384216306,
          1.091073751449585,
          1.075108289718628,
          1.1170129776000977,
          0.8865859508514404,
          0.9235279560089109,
          1.0122938156127927,
          1.0531942844390867,
          1.0501866340637207,
          0.9973306655883789,
          1.0003325939178467,
          0.9763858318328856,
          1.1818373203277588,
          0.9594526290893555,
          0.9708251953125,
          1.0015130043029785,
          1.1882336139678955,
          0.9803814888000488,
          1.0581712722778318,
          1.0312373638153076,
          1.806171178817749,
          1.655574083328247,
          1.785219430923462,
          1.6715271472930908,
          1.6705315113067627,
          2.037543535232544,
          1.933830738067627,
          2.044529438018799,
          1.8181438446044922,
          1.8301069736480713,
          1.9448020458221433,
          1.7832260131835938,
          1.8321006298065186,
          1.8400776386260986,
          1.7752480506896973,
          1.8909430503845215,
          1.989678859710693,
          2.1774790287017822,
          1.9866828918457033,
          2.141270160675049,
          1.7084307670593264,
          1.6675429344177246,
          1.7772481441497803,
          1.6785101890563965,
          1.798457384109497,
          1.7054412364959717,
          1.6426072120666504,
          1.7343616485595703,
          1.5877566337585447,
          1.6835086345672607,
          1.761289119720459,
          1.8181350231170654,
          1.9497811794281006,
          1.7892096042633057,
          1.683495044708252,
          1.8719942569732666,
          1.7592952251434326,
          1.7233920097351074,
          1.889944314956665,
          1.6914734840393066,
          5.471200942993164,
          4.081913948059082,
          3.128303050994873,
          8.775522470474243,
          7.90584659576416,
          5.319772243499756,
          4.3842315673828125,
          3.352879047393799,
          3.1126210689544678,
          3.2498838901519775,
          3.3202767372131348,
          3.16502046585083,
          3.071001529693604,
          3.405630826950073,
          3.59537672996521,
          4.151183605194092,
          4.719161748886108,
          4.084916114807129,
          3.3803801536560054,
          3.832326650619507
         ]
        },
        {
         "name": "FR",
         "type": "box",
         "x": [
          "LogisticRegression",
          "LogisticRegression",
          "LogisticRegression",
          "LogisticRegression",
          "LogisticRegression",
          "LogisticRegression",
          "LogisticRegression",
          "LogisticRegression",
          "LogisticRegression",
          "LogisticRegression",
          "LogisticRegression",
          "LogisticRegression",
          "LogisticRegression",
          "LogisticRegression",
          "LogisticRegression",
          "LogisticRegression",
          "LogisticRegression",
          "LogisticRegression",
          "LogisticRegression",
          "LogisticRegression",
          "SVC",
          "SVC",
          "SVC",
          "SVC",
          "SVC",
          "SVC",
          "SVC",
          "SVC",
          "SVC",
          "SVC",
          "SVC",
          "SVC",
          "SVC",
          "SVC",
          "SVC",
          "SVC",
          "SVC",
          "SVC",
          "SVC",
          "SVC",
          "RandomForestClassifier",
          "RandomForestClassifier",
          "RandomForestClassifier",
          "RandomForestClassifier",
          "RandomForestClassifier",
          "RandomForestClassifier",
          "RandomForestClassifier",
          "RandomForestClassifier",
          "RandomForestClassifier",
          "RandomForestClassifier",
          "RandomForestClassifier",
          "RandomForestClassifier",
          "RandomForestClassifier",
          "RandomForestClassifier",
          "RandomForestClassifier",
          "RandomForestClassifier",
          "RandomForestClassifier",
          "RandomForestClassifier",
          "RandomForestClassifier",
          "RandomForestClassifier",
          "GradientBoostingClassifier",
          "GradientBoostingClassifier",
          "GradientBoostingClassifier",
          "GradientBoostingClassifier",
          "GradientBoostingClassifier",
          "GradientBoostingClassifier",
          "GradientBoostingClassifier",
          "GradientBoostingClassifier",
          "GradientBoostingClassifier",
          "GradientBoostingClassifier",
          "GradientBoostingClassifier",
          "GradientBoostingClassifier",
          "GradientBoostingClassifier",
          "GradientBoostingClassifier",
          "GradientBoostingClassifier",
          "GradientBoostingClassifier",
          "GradientBoostingClassifier",
          "GradientBoostingClassifier",
          "GradientBoostingClassifier",
          "GradientBoostingClassifier",
          "DeepNeuralNetwork",
          "DeepNeuralNetwork",
          "DeepNeuralNetwork",
          "DeepNeuralNetwork",
          "DeepNeuralNetwork",
          "DeepNeuralNetwork",
          "DeepNeuralNetwork",
          "DeepNeuralNetwork",
          "DeepNeuralNetwork",
          "DeepNeuralNetwork",
          "DeepNeuralNetwork",
          "DeepNeuralNetwork",
          "DeepNeuralNetwork",
          "DeepNeuralNetwork",
          "DeepNeuralNetwork",
          "DeepNeuralNetwork",
          "DeepNeuralNetwork",
          "DeepNeuralNetwork",
          "DeepNeuralNetwork",
          "DeepNeuralNetwork"
         ],
         "y": [
          0.2513284683227537,
          0.2722702026367187,
          0.19747138023376448,
          0.2403607368469237,
          0.1545870304107665,
          0.1984694004058837,
          0.16955161094665508,
          0.15059995651245098,
          0.1835086345672606,
          0.1396274566650389,
          0.15658521652221669,
          0.1615662574768065,
          0.1486039161682128,
          0.1625618934631347,
          0.23636913299560539,
          0.1535935401916502,
          0.1765298843383788,
          0.1884937286376952,
          0.2582988739013671,
          0.1775255203247068,
          1.070188045501709,
          1.091086149215698,
          1.0799202919006348,
          1.1080660820007322,
          1.3334293365478516,
          1.3025152683258057,
          1.0485503673553467,
          1.2266998291015625,
          1.0671682357788084,
          1.1977860927581785,
          0.9628465175628661,
          1.2074081897735593,
          1.1041688919067383,
          1.04396390914917,
          1.107973575592041,
          0.9255239963531492,
          1.070138931274414,
          1.1648850440979004,
          1.088088035583496,
          1.2078382968902588,
          1.755300760269165,
          1.7237422466278076,
          1.8566703796386719,
          1.7223880290985107,
          1.671525239944458,
          1.7852253913879395,
          1.6954617500305176,
          1.9866833686828613,
          1.6785120964050293,
          1.725383996963501,
          2.104363203048706,
          1.7493212223052979,
          1.9136703014373777,
          1.7004454135894775,
          1.9068915843963623,
          1.9388134479522705,
          1.7961926460266113,
          1.7991881370544436,
          1.8071894645690918,
          1.7852232456207275,
          0.6722044944763184,
          0.9374904632568359,
          0.7619578838348388,
          0.7629523277282714,
          0.7539846897125243,
          0.799861192703247,
          0.7370233535766602,
          0.8756663799285886,
          0.7160995006561278,
          0.7411997318267822,
          0.7410204410552976,
          0.7509930133819579,
          0.7290472984313965,
          0.8607263565063477,
          0.8257911205291747,
          0.743697166442871,
          0.7709269523620604,
          0.7868969440460204,
          0.860697031021118,
          0.7430133819580078,
          3.4115116596221924,
          3.1447982788085938,
          4.128955364227294,
          4.426156282424927,
          4.427156686782837,
          4.098039150238037,
          3.8656623363494873,
          4.044967174530029,
          3.4427945613861084,
          2.7389028072357178,
          2.900691270828247,
          2.9246654510498047,
          2.863922357559204,
          3.0465433597564693,
          2.8993568420410156,
          2.8888876438140874,
          3.005378007888794,
          3.056046962738037,
          2.943800449371338,
          3.044520139694214
         ]
        },
        {
         "name": "SS",
         "type": "box",
         "x": [
          "LogisticRegression",
          "LogisticRegression",
          "LogisticRegression",
          "LogisticRegression",
          "LogisticRegression",
          "LogisticRegression",
          "LogisticRegression",
          "LogisticRegression",
          "LogisticRegression",
          "LogisticRegression",
          "LogisticRegression",
          "LogisticRegression",
          "LogisticRegression",
          "LogisticRegression",
          "LogisticRegression",
          "LogisticRegression",
          "LogisticRegression",
          "LogisticRegression",
          "LogisticRegression",
          "LogisticRegression",
          "SVC",
          "SVC",
          "SVC",
          "SVC",
          "SVC",
          "SVC",
          "SVC",
          "SVC",
          "SVC",
          "SVC",
          "SVC",
          "SVC",
          "SVC",
          "SVC",
          "SVC",
          "SVC",
          "SVC",
          "SVC",
          "SVC",
          "SVC",
          "RandomForestClassifier",
          "RandomForestClassifier",
          "RandomForestClassifier",
          "RandomForestClassifier",
          "RandomForestClassifier",
          "RandomForestClassifier",
          "RandomForestClassifier",
          "RandomForestClassifier",
          "RandomForestClassifier",
          "RandomForestClassifier",
          "RandomForestClassifier",
          "RandomForestClassifier",
          "RandomForestClassifier",
          "RandomForestClassifier",
          "RandomForestClassifier",
          "RandomForestClassifier",
          "RandomForestClassifier",
          "RandomForestClassifier",
          "RandomForestClassifier",
          "RandomForestClassifier",
          "GradientBoostingClassifier",
          "GradientBoostingClassifier",
          "GradientBoostingClassifier",
          "GradientBoostingClassifier",
          "GradientBoostingClassifier",
          "GradientBoostingClassifier",
          "GradientBoostingClassifier",
          "GradientBoostingClassifier",
          "GradientBoostingClassifier",
          "GradientBoostingClassifier",
          "GradientBoostingClassifier",
          "GradientBoostingClassifier",
          "GradientBoostingClassifier",
          "GradientBoostingClassifier",
          "GradientBoostingClassifier",
          "GradientBoostingClassifier",
          "GradientBoostingClassifier",
          "GradientBoostingClassifier",
          "GradientBoostingClassifier",
          "GradientBoostingClassifier",
          "DeepNeuralNetwork",
          "DeepNeuralNetwork",
          "DeepNeuralNetwork",
          "DeepNeuralNetwork",
          "DeepNeuralNetwork",
          "DeepNeuralNetwork",
          "DeepNeuralNetwork",
          "DeepNeuralNetwork",
          "DeepNeuralNetwork",
          "DeepNeuralNetwork",
          "DeepNeuralNetwork",
          "DeepNeuralNetwork",
          "DeepNeuralNetwork",
          "DeepNeuralNetwork",
          "DeepNeuralNetwork",
          "DeepNeuralNetwork",
          "DeepNeuralNetwork",
          "DeepNeuralNetwork",
          "DeepNeuralNetwork",
          "DeepNeuralNetwork"
         ],
         "y": [
          0.331113576889038,
          0.2792534828186034,
          0.2224044799804686,
          0.2682828903198242,
          0.22838997840881328,
          0.2263953685760496,
          0.29920029640197754,
          0.1874990463256835,
          0.24933314323425282,
          0.2483413219451902,
          0.238363742828369,
          0.1545794010162353,
          0.2822465896606444,
          0.23836493492126448,
          0.260303497314453,
          0.24933576583862288,
          0.20445418357849113,
          0.22241330146789529,
          0.2543241977691649,
          0.2632951736450194,
          0.323134422302246,
          0.362032651901245,
          0.42885398864746094,
          0.4168765544891356,
          0.4587812423706053,
          0.5724639892578124,
          0.5435445308685302,
          0.4178817272186278,
          0.3570437431335447,
          0.5325756072998046,
          0.36901354789733876,
          0.5006592273712158,
          0.4009258747100829,
          0.45079469680786133,
          0.2872326374053954,
          0.5046417713165281,
          0.40990304946899414,
          0.5864331722259521,
          0.4029264450073241,
          0.5036542415618895,
          0.7998561859130857,
          0.6103661060333251,
          0.6183524131774902,
          0.5824377536773679,
          0.6436696052551267,
          0.5752742290496825,
          0.6203439235687255,
          0.7280633449554442,
          0.591423749923706,
          0.610365867614746,
          0.6253254413604735,
          0.605377197265625,
          0.6861658096313477,
          0.8377587795257567,
          0.637289524078369,
          0.6452789306640624,
          0.5924079418182372,
          0.7224178314208983,
          0.712097406387329,
          0.8587036132812499,
          0.6851699352264403,
          0.7340385913848876,
          0.7190859317779541,
          0.8168125152587891,
          0.7789165973663329,
          0.6532561779022217,
          0.7489995956420897,
          0.7290503978729247,
          0.706113576889038,
          0.8141684532165527,
          0.6801729202270507,
          0.7250573635101318,
          0.7629561424255371,
          0.716080904006958,
          0.6971333026885985,
          0.8367671966552734,
          0.7649550437927245,
          0.7784349918365477,
          0.7519848346710204,
          0.6971342563629149,
          2.8403677940368652,
          2.898322343826294,
          2.851301431655884,
          2.591059446334839,
          2.7405967712402344,
          2.909125328063965,
          2.740506410598755,
          2.8988118171691895,
          2.957118511199951,
          4.016803979873657,
          2.904367685317993,
          2.8871023654937744,
          2.63386869430542,
          2.6022572517395015,
          2.7562637329101562,
          2.5362997055053706,
          2.726043224334717,
          2.8495988845825195,
          2.6458625793457027,
          3.1905388832092285
         ]
        },
        {
         "name": "SS & FR",
         "type": "box",
         "x": [
          "LogisticRegression",
          "LogisticRegression",
          "LogisticRegression",
          "LogisticRegression",
          "LogisticRegression",
          "LogisticRegression",
          "LogisticRegression",
          "LogisticRegression",
          "LogisticRegression",
          "LogisticRegression",
          "LogisticRegression",
          "LogisticRegression",
          "LogisticRegression",
          "LogisticRegression",
          "LogisticRegression",
          "LogisticRegression",
          "LogisticRegression",
          "LogisticRegression",
          "LogisticRegression",
          "LogisticRegression",
          "SVC",
          "SVC",
          "SVC",
          "SVC",
          "SVC",
          "SVC",
          "SVC",
          "SVC",
          "SVC",
          "SVC",
          "SVC",
          "SVC",
          "SVC",
          "SVC",
          "SVC",
          "SVC",
          "SVC",
          "SVC",
          "SVC",
          "SVC",
          "RandomForestClassifier",
          "RandomForestClassifier",
          "RandomForestClassifier",
          "RandomForestClassifier",
          "RandomForestClassifier",
          "RandomForestClassifier",
          "RandomForestClassifier",
          "RandomForestClassifier",
          "RandomForestClassifier",
          "RandomForestClassifier",
          "RandomForestClassifier",
          "RandomForestClassifier",
          "RandomForestClassifier",
          "RandomForestClassifier",
          "RandomForestClassifier",
          "RandomForestClassifier",
          "RandomForestClassifier",
          "RandomForestClassifier",
          "RandomForestClassifier",
          "RandomForestClassifier",
          "GradientBoostingClassifier",
          "GradientBoostingClassifier",
          "GradientBoostingClassifier",
          "GradientBoostingClassifier",
          "GradientBoostingClassifier",
          "GradientBoostingClassifier",
          "GradientBoostingClassifier",
          "GradientBoostingClassifier",
          "GradientBoostingClassifier",
          "GradientBoostingClassifier",
          "GradientBoostingClassifier",
          "GradientBoostingClassifier",
          "GradientBoostingClassifier",
          "GradientBoostingClassifier",
          "GradientBoostingClassifier",
          "GradientBoostingClassifier",
          "GradientBoostingClassifier",
          "GradientBoostingClassifier",
          "GradientBoostingClassifier",
          "GradientBoostingClassifier",
          "DeepNeuralNetwork",
          "DeepNeuralNetwork",
          "DeepNeuralNetwork",
          "DeepNeuralNetwork",
          "DeepNeuralNetwork",
          "DeepNeuralNetwork",
          "DeepNeuralNetwork",
          "DeepNeuralNetwork",
          "DeepNeuralNetwork",
          "DeepNeuralNetwork",
          "DeepNeuralNetwork",
          "DeepNeuralNetwork",
          "DeepNeuralNetwork",
          "DeepNeuralNetwork",
          "DeepNeuralNetwork",
          "DeepNeuralNetwork",
          "DeepNeuralNetwork",
          "DeepNeuralNetwork",
          "DeepNeuralNetwork",
          "DeepNeuralNetwork"
         ],
         "y": [
          0.3819766044616698,
          0.3221402168273925,
          0.3071775436401365,
          0.2682812213897703,
          0.2702777385711669,
          0.2363772392272948,
          0.3341052532196044,
          0.2583115100860595,
          0.2972147464752197,
          0.1675519943237303,
          0.3311164379119872,
          0.1994686126708983,
          0.2483303546905516,
          0.2932155132293701,
          0.3081834316253661,
          0.1805155277252195,
          0.193479537963867,
          0.16854476928710932,
          0.2573165893554687,
          0.1964740753173827,
          0.4318447113037108,
          0.3450794219970701,
          0.3490672111511229,
          0.3470766544342039,
          0.3839681148529051,
          0.3979356288909911,
          0.5325746536254881,
          0.4527873992919921,
          0.4817056655883787,
          0.5255956649780271,
          0.6662161350250242,
          0.5734641551971433,
          0.7100920677185057,
          0.4438118934631347,
          0.6702115535736082,
          0.5605006217956543,
          0.4767258167266845,
          0.45378541946411133,
          0.5156188011169431,
          0.42187166213989236,
          0.6702041625976562,
          0.7848970890045165,
          0.7061064243316649,
          0.708106279373169,
          0.6911470890045166,
          0.6712048053741454,
          0.7210841178894043,
          0.6761925220489501,
          0.7220690250396727,
          0.6243374347686765,
          0.6478250026702881,
          0.5784513950347899,
          0.6462702751159668,
          0.6191759109497069,
          0.8138246536254883,
          0.6253247261047362,
          0.6542489528656005,
          0.5726459026336668,
          0.6263470649719236,
          0.6859846115112305,
          0.4497945308685302,
          0.46375751495361317,
          0.4358355998992919,
          0.37001061439514155,
          0.4388463497161864,
          0.4966657161712646,
          0.38995814323425276,
          0.4667527675628662,
          0.5575065612792969,
          0.4398221969604492,
          0.4468004703521728,
          0.436836004257202,
          0.39494848251342773,
          0.455979824066162,
          0.44881653785705566,
          0.3650248050689697,
          0.5505280494689941,
          0.5435438156127929,
          0.4109032154083251,
          0.39893484115600575,
          3.823793888092041,
          2.7416868209838867,
          2.8742525577545166,
          3.89575457572937,
          2.88106632232666,
          3.6844179630279537,
          2.8850464820861816,
          2.8980445861816406,
          4.0357561111450195,
          3.6816880702972417,
          3.1836531162261963,
          2.814708709716797,
          2.5972821712493896,
          2.879681348800659,
          2.7275562286376958,
          2.6753633022308354,
          2.8402390480041504,
          2.622276782989502,
          2.6795732975006104,
          2.9210739135742188
         ]
        }
       ],
       "layout": {
        "boxmode": "group",
        "template": {
         "data": {
          "bar": [
           {
            "error_x": {
             "color": "#2a3f5f"
            },
            "error_y": {
             "color": "#2a3f5f"
            },
            "marker": {
             "line": {
              "color": "#E5ECF6",
              "width": 0.5
             },
             "pattern": {
              "fillmode": "overlay",
              "size": 10,
              "solidity": 0.2
             }
            },
            "type": "bar"
           }
          ],
          "barpolar": [
           {
            "marker": {
             "line": {
              "color": "#E5ECF6",
              "width": 0.5
             },
             "pattern": {
              "fillmode": "overlay",
              "size": 10,
              "solidity": 0.2
             }
            },
            "type": "barpolar"
           }
          ],
          "carpet": [
           {
            "aaxis": {
             "endlinecolor": "#2a3f5f",
             "gridcolor": "white",
             "linecolor": "white",
             "minorgridcolor": "white",
             "startlinecolor": "#2a3f5f"
            },
            "baxis": {
             "endlinecolor": "#2a3f5f",
             "gridcolor": "white",
             "linecolor": "white",
             "minorgridcolor": "white",
             "startlinecolor": "#2a3f5f"
            },
            "type": "carpet"
           }
          ],
          "choropleth": [
           {
            "colorbar": {
             "outlinewidth": 0,
             "ticks": ""
            },
            "type": "choropleth"
           }
          ],
          "contour": [
           {
            "colorbar": {
             "outlinewidth": 0,
             "ticks": ""
            },
            "colorscale": [
             [
              0,
              "#0d0887"
             ],
             [
              0.1111111111111111,
              "#46039f"
             ],
             [
              0.2222222222222222,
              "#7201a8"
             ],
             [
              0.3333333333333333,
              "#9c179e"
             ],
             [
              0.4444444444444444,
              "#bd3786"
             ],
             [
              0.5555555555555556,
              "#d8576b"
             ],
             [
              0.6666666666666666,
              "#ed7953"
             ],
             [
              0.7777777777777778,
              "#fb9f3a"
             ],
             [
              0.8888888888888888,
              "#fdca26"
             ],
             [
              1,
              "#f0f921"
             ]
            ],
            "type": "contour"
           }
          ],
          "contourcarpet": [
           {
            "colorbar": {
             "outlinewidth": 0,
             "ticks": ""
            },
            "type": "contourcarpet"
           }
          ],
          "heatmap": [
           {
            "colorbar": {
             "outlinewidth": 0,
             "ticks": ""
            },
            "colorscale": [
             [
              0,
              "#0d0887"
             ],
             [
              0.1111111111111111,
              "#46039f"
             ],
             [
              0.2222222222222222,
              "#7201a8"
             ],
             [
              0.3333333333333333,
              "#9c179e"
             ],
             [
              0.4444444444444444,
              "#bd3786"
             ],
             [
              0.5555555555555556,
              "#d8576b"
             ],
             [
              0.6666666666666666,
              "#ed7953"
             ],
             [
              0.7777777777777778,
              "#fb9f3a"
             ],
             [
              0.8888888888888888,
              "#fdca26"
             ],
             [
              1,
              "#f0f921"
             ]
            ],
            "type": "heatmap"
           }
          ],
          "heatmapgl": [
           {
            "colorbar": {
             "outlinewidth": 0,
             "ticks": ""
            },
            "colorscale": [
             [
              0,
              "#0d0887"
             ],
             [
              0.1111111111111111,
              "#46039f"
             ],
             [
              0.2222222222222222,
              "#7201a8"
             ],
             [
              0.3333333333333333,
              "#9c179e"
             ],
             [
              0.4444444444444444,
              "#bd3786"
             ],
             [
              0.5555555555555556,
              "#d8576b"
             ],
             [
              0.6666666666666666,
              "#ed7953"
             ],
             [
              0.7777777777777778,
              "#fb9f3a"
             ],
             [
              0.8888888888888888,
              "#fdca26"
             ],
             [
              1,
              "#f0f921"
             ]
            ],
            "type": "heatmapgl"
           }
          ],
          "histogram": [
           {
            "marker": {
             "pattern": {
              "fillmode": "overlay",
              "size": 10,
              "solidity": 0.2
             }
            },
            "type": "histogram"
           }
          ],
          "histogram2d": [
           {
            "colorbar": {
             "outlinewidth": 0,
             "ticks": ""
            },
            "colorscale": [
             [
              0,
              "#0d0887"
             ],
             [
              0.1111111111111111,
              "#46039f"
             ],
             [
              0.2222222222222222,
              "#7201a8"
             ],
             [
              0.3333333333333333,
              "#9c179e"
             ],
             [
              0.4444444444444444,
              "#bd3786"
             ],
             [
              0.5555555555555556,
              "#d8576b"
             ],
             [
              0.6666666666666666,
              "#ed7953"
             ],
             [
              0.7777777777777778,
              "#fb9f3a"
             ],
             [
              0.8888888888888888,
              "#fdca26"
             ],
             [
              1,
              "#f0f921"
             ]
            ],
            "type": "histogram2d"
           }
          ],
          "histogram2dcontour": [
           {
            "colorbar": {
             "outlinewidth": 0,
             "ticks": ""
            },
            "colorscale": [
             [
              0,
              "#0d0887"
             ],
             [
              0.1111111111111111,
              "#46039f"
             ],
             [
              0.2222222222222222,
              "#7201a8"
             ],
             [
              0.3333333333333333,
              "#9c179e"
             ],
             [
              0.4444444444444444,
              "#bd3786"
             ],
             [
              0.5555555555555556,
              "#d8576b"
             ],
             [
              0.6666666666666666,
              "#ed7953"
             ],
             [
              0.7777777777777778,
              "#fb9f3a"
             ],
             [
              0.8888888888888888,
              "#fdca26"
             ],
             [
              1,
              "#f0f921"
             ]
            ],
            "type": "histogram2dcontour"
           }
          ],
          "mesh3d": [
           {
            "colorbar": {
             "outlinewidth": 0,
             "ticks": ""
            },
            "type": "mesh3d"
           }
          ],
          "parcoords": [
           {
            "line": {
             "colorbar": {
              "outlinewidth": 0,
              "ticks": ""
             }
            },
            "type": "parcoords"
           }
          ],
          "pie": [
           {
            "automargin": true,
            "type": "pie"
           }
          ],
          "scatter": [
           {
            "fillpattern": {
             "fillmode": "overlay",
             "size": 10,
             "solidity": 0.2
            },
            "type": "scatter"
           }
          ],
          "scatter3d": [
           {
            "line": {
             "colorbar": {
              "outlinewidth": 0,
              "ticks": ""
             }
            },
            "marker": {
             "colorbar": {
              "outlinewidth": 0,
              "ticks": ""
             }
            },
            "type": "scatter3d"
           }
          ],
          "scattercarpet": [
           {
            "marker": {
             "colorbar": {
              "outlinewidth": 0,
              "ticks": ""
             }
            },
            "type": "scattercarpet"
           }
          ],
          "scattergeo": [
           {
            "marker": {
             "colorbar": {
              "outlinewidth": 0,
              "ticks": ""
             }
            },
            "type": "scattergeo"
           }
          ],
          "scattergl": [
           {
            "marker": {
             "colorbar": {
              "outlinewidth": 0,
              "ticks": ""
             }
            },
            "type": "scattergl"
           }
          ],
          "scattermapbox": [
           {
            "marker": {
             "colorbar": {
              "outlinewidth": 0,
              "ticks": ""
             }
            },
            "type": "scattermapbox"
           }
          ],
          "scatterpolar": [
           {
            "marker": {
             "colorbar": {
              "outlinewidth": 0,
              "ticks": ""
             }
            },
            "type": "scatterpolar"
           }
          ],
          "scatterpolargl": [
           {
            "marker": {
             "colorbar": {
              "outlinewidth": 0,
              "ticks": ""
             }
            },
            "type": "scatterpolargl"
           }
          ],
          "scatterternary": [
           {
            "marker": {
             "colorbar": {
              "outlinewidth": 0,
              "ticks": ""
             }
            },
            "type": "scatterternary"
           }
          ],
          "surface": [
           {
            "colorbar": {
             "outlinewidth": 0,
             "ticks": ""
            },
            "colorscale": [
             [
              0,
              "#0d0887"
             ],
             [
              0.1111111111111111,
              "#46039f"
             ],
             [
              0.2222222222222222,
              "#7201a8"
             ],
             [
              0.3333333333333333,
              "#9c179e"
             ],
             [
              0.4444444444444444,
              "#bd3786"
             ],
             [
              0.5555555555555556,
              "#d8576b"
             ],
             [
              0.6666666666666666,
              "#ed7953"
             ],
             [
              0.7777777777777778,
              "#fb9f3a"
             ],
             [
              0.8888888888888888,
              "#fdca26"
             ],
             [
              1,
              "#f0f921"
             ]
            ],
            "type": "surface"
           }
          ],
          "table": [
           {
            "cells": {
             "fill": {
              "color": "#EBF0F8"
             },
             "line": {
              "color": "white"
             }
            },
            "header": {
             "fill": {
              "color": "#C8D4E3"
             },
             "line": {
              "color": "white"
             }
            },
            "type": "table"
           }
          ]
         },
         "layout": {
          "annotationdefaults": {
           "arrowcolor": "#2a3f5f",
           "arrowhead": 0,
           "arrowwidth": 1
          },
          "autotypenumbers": "strict",
          "coloraxis": {
           "colorbar": {
            "outlinewidth": 0,
            "ticks": ""
           }
          },
          "colorscale": {
           "diverging": [
            [
             0,
             "#8e0152"
            ],
            [
             0.1,
             "#c51b7d"
            ],
            [
             0.2,
             "#de77ae"
            ],
            [
             0.3,
             "#f1b6da"
            ],
            [
             0.4,
             "#fde0ef"
            ],
            [
             0.5,
             "#f7f7f7"
            ],
            [
             0.6,
             "#e6f5d0"
            ],
            [
             0.7,
             "#b8e186"
            ],
            [
             0.8,
             "#7fbc41"
            ],
            [
             0.9,
             "#4d9221"
            ],
            [
             1,
             "#276419"
            ]
           ],
           "sequential": [
            [
             0,
             "#0d0887"
            ],
            [
             0.1111111111111111,
             "#46039f"
            ],
            [
             0.2222222222222222,
             "#7201a8"
            ],
            [
             0.3333333333333333,
             "#9c179e"
            ],
            [
             0.4444444444444444,
             "#bd3786"
            ],
            [
             0.5555555555555556,
             "#d8576b"
            ],
            [
             0.6666666666666666,
             "#ed7953"
            ],
            [
             0.7777777777777778,
             "#fb9f3a"
            ],
            [
             0.8888888888888888,
             "#fdca26"
            ],
            [
             1,
             "#f0f921"
            ]
           ],
           "sequentialminus": [
            [
             0,
             "#0d0887"
            ],
            [
             0.1111111111111111,
             "#46039f"
            ],
            [
             0.2222222222222222,
             "#7201a8"
            ],
            [
             0.3333333333333333,
             "#9c179e"
            ],
            [
             0.4444444444444444,
             "#bd3786"
            ],
            [
             0.5555555555555556,
             "#d8576b"
            ],
            [
             0.6666666666666666,
             "#ed7953"
            ],
            [
             0.7777777777777778,
             "#fb9f3a"
            ],
            [
             0.8888888888888888,
             "#fdca26"
            ],
            [
             1,
             "#f0f921"
            ]
           ]
          },
          "colorway": [
           "#636efa",
           "#EF553B",
           "#00cc96",
           "#ab63fa",
           "#FFA15A",
           "#19d3f3",
           "#FF6692",
           "#B6E880",
           "#FF97FF",
           "#FECB52"
          ],
          "font": {
           "color": "#2a3f5f"
          },
          "geo": {
           "bgcolor": "white",
           "lakecolor": "white",
           "landcolor": "#E5ECF6",
           "showlakes": true,
           "showland": true,
           "subunitcolor": "white"
          },
          "hoverlabel": {
           "align": "left"
          },
          "hovermode": "closest",
          "mapbox": {
           "style": "light"
          },
          "paper_bgcolor": "white",
          "plot_bgcolor": "#E5ECF6",
          "polar": {
           "angularaxis": {
            "gridcolor": "white",
            "linecolor": "white",
            "ticks": ""
           },
           "bgcolor": "#E5ECF6",
           "radialaxis": {
            "gridcolor": "white",
            "linecolor": "white",
            "ticks": ""
           }
          },
          "scene": {
           "xaxis": {
            "backgroundcolor": "#E5ECF6",
            "gridcolor": "white",
            "gridwidth": 2,
            "linecolor": "white",
            "showbackground": true,
            "ticks": "",
            "zerolinecolor": "white"
           },
           "yaxis": {
            "backgroundcolor": "#E5ECF6",
            "gridcolor": "white",
            "gridwidth": 2,
            "linecolor": "white",
            "showbackground": true,
            "ticks": "",
            "zerolinecolor": "white"
           },
           "zaxis": {
            "backgroundcolor": "#E5ECF6",
            "gridcolor": "white",
            "gridwidth": 2,
            "linecolor": "white",
            "showbackground": true,
            "ticks": "",
            "zerolinecolor": "white"
           }
          },
          "shapedefaults": {
           "line": {
            "color": "#2a3f5f"
           }
          },
          "ternary": {
           "aaxis": {
            "gridcolor": "white",
            "linecolor": "white",
            "ticks": ""
           },
           "baxis": {
            "gridcolor": "white",
            "linecolor": "white",
            "ticks": ""
           },
           "bgcolor": "#E5ECF6",
           "caxis": {
            "gridcolor": "white",
            "linecolor": "white",
            "ticks": ""
           }
          },
          "title": {
           "x": 0.05
          },
          "xaxis": {
           "automargin": true,
           "gridcolor": "white",
           "linecolor": "white",
           "ticks": "",
           "title": {
            "standoff": 15
           },
           "zerolinecolor": "white",
           "zerolinewidth": 2
          },
          "yaxis": {
           "automargin": true,
           "gridcolor": "white",
           "linecolor": "white",
           "ticks": "",
           "title": {
            "standoff": 15
           },
           "zerolinecolor": "white",
           "zerolinewidth": 2
          }
         }
        },
        "title": {
         "text": "total_time"
        },
        "yaxis": {
         "title": {
          "text": "total_time"
         }
        }
       }
      }
     },
     "metadata": {},
     "output_type": "display_data"
    }
   ],
   "source": [
    "results = {}\n",
    "for model in models:\n",
    "\tfor ss_opt in subsampling_options:\n",
    "\t\tfor fr_opt in feature_reduction_options:\n",
    "\t\t\tfilename = f'{DATASET}_{ss_opt}_{fr_opt}_{model}'\n",
    "\t\t\tpath = f'../results/{filename}.csv'\n",
    "\t\t\tdf = pd.read_csv(path)\n",
    "\t\t\tpreprocess_time =  df['preprocess_time'].transpose()\n",
    "\t\t\ttraining_time =  df['training_time'].transpose()\n",
    "\t\t\tprediction_time =  df['prediction_time'].transpose()\n",
    "\t\t\tresults[filename] = preprocess_time.to_numpy() + training_time.to_numpy() + prediction_time.to_numpy()\n",
    "\n",
    "n_experiments = len(results[filename])\n",
    "\n",
    "fig = go.Figure()\n",
    "\n",
    "for ss_opt in subsampling_options:\n",
    "\tfor fr_opt in feature_reduction_options:\n",
    "\t\tx, y = [], []\n",
    "\t\tfor model in models:\n",
    "\t\t\tfilename = f'{DATASET}_{ss_opt}_{fr_opt}_{model}'\n",
    "\t\t\tx.extend([model for _ in range(n_experiments)])\n",
    "\t\t\ty.extend(list(results[filename]))\n",
    "\t\tfig.add_trace(go.Box(y=y, x=x, name=get_experiment_name(ss_opt, fr_opt)))\n",
    "\t\t\n",
    "\n",
    "fig.update_layout(\n",
    "\ttitle='total_time',\n",
    "\tyaxis_title='total_time',\n",
    "\tboxmode='group'\n",
    ")\n",
    "fig.show()\n"
   ]
  },
  {
   "cell_type": "code",
   "execution_count": 10,
   "metadata": {},
   "outputs": [
    {
     "data": {
      "application/vnd.plotly.v1+json": {
       "config": {
        "plotlyServerURL": "https://plot.ly"
       },
       "data": [
        {
         "name": "Full",
         "type": "box",
         "x": [
          "LogisticRegression",
          "LogisticRegression",
          "LogisticRegression",
          "LogisticRegression",
          "LogisticRegression",
          "LogisticRegression",
          "LogisticRegression",
          "LogisticRegression",
          "LogisticRegression",
          "LogisticRegression",
          "LogisticRegression",
          "LogisticRegression",
          "LogisticRegression",
          "LogisticRegression",
          "LogisticRegression",
          "LogisticRegression",
          "LogisticRegression",
          "LogisticRegression",
          "LogisticRegression",
          "LogisticRegression",
          "SVC",
          "SVC",
          "SVC",
          "SVC",
          "SVC",
          "SVC",
          "SVC",
          "SVC",
          "SVC",
          "SVC",
          "SVC",
          "SVC",
          "SVC",
          "SVC",
          "SVC",
          "SVC",
          "SVC",
          "SVC",
          "SVC",
          "SVC",
          "RandomForestClassifier",
          "RandomForestClassifier",
          "RandomForestClassifier",
          "RandomForestClassifier",
          "RandomForestClassifier",
          "RandomForestClassifier",
          "RandomForestClassifier",
          "RandomForestClassifier",
          "RandomForestClassifier",
          "RandomForestClassifier",
          "RandomForestClassifier",
          "RandomForestClassifier",
          "RandomForestClassifier",
          "RandomForestClassifier",
          "RandomForestClassifier",
          "RandomForestClassifier",
          "RandomForestClassifier",
          "RandomForestClassifier",
          "RandomForestClassifier",
          "RandomForestClassifier",
          "GradientBoostingClassifier",
          "GradientBoostingClassifier",
          "GradientBoostingClassifier",
          "GradientBoostingClassifier",
          "GradientBoostingClassifier",
          "GradientBoostingClassifier",
          "GradientBoostingClassifier",
          "GradientBoostingClassifier",
          "GradientBoostingClassifier",
          "GradientBoostingClassifier",
          "GradientBoostingClassifier",
          "GradientBoostingClassifier",
          "GradientBoostingClassifier",
          "GradientBoostingClassifier",
          "GradientBoostingClassifier",
          "GradientBoostingClassifier",
          "GradientBoostingClassifier",
          "GradientBoostingClassifier",
          "GradientBoostingClassifier",
          "GradientBoostingClassifier",
          "DeepNeuralNetwork",
          "DeepNeuralNetwork",
          "DeepNeuralNetwork",
          "DeepNeuralNetwork",
          "DeepNeuralNetwork",
          "DeepNeuralNetwork",
          "DeepNeuralNetwork",
          "DeepNeuralNetwork",
          "DeepNeuralNetwork",
          "DeepNeuralNetwork",
          "DeepNeuralNetwork",
          "DeepNeuralNetwork",
          "DeepNeuralNetwork",
          "DeepNeuralNetwork",
          "DeepNeuralNetwork",
          "DeepNeuralNetwork",
          "DeepNeuralNetwork",
          "DeepNeuralNetwork",
          "DeepNeuralNetwork",
          "DeepNeuralNetwork"
         ],
         "y": [
          282.2189126014708,
          420.91229724884005,
          269.3224024772641,
          249.96260190010057,
          427.36325097084017,
          229.00133943557722,
          314.47869300842274,
          204.81247973442063,
          272.543831348419,
          282.21698498725857,
          345.1150367259976,
          341.8905236721036,
          314.46751284599287,
          196.74888396263106,
          395.1073257923124,
          259.64500808715803,
          227.39794993400568,
          227.39062499999983,
          230.61706566810594,
          261.25765013694735,
          510975.7122545241,
          525323.6434054375,
          522272.5556292534,
          543661.3863277435,
          414580.00282144547,
          444370.2524809836,
          484275.28762626636,
          508707.584104061,
          505637.55944919586,
          480803.1405735016,
          487796.18410253525,
          468600.7578148841,
          563563.8535475731,
          464906.60923576355,
          467128.0759277344,
          489297.1903562546,
          570639.6872391701,
          472632.11193561554,
          504593.2038707732,
          489843.935236454,
          4529.877316474915,
          4152.179800987244,
          4477.3303327560425,
          4192.190085411072,
          4189.693030357361,
          5110.15918636322,
          4850.047491073608,
          5127.6798305511475,
          4559.904762268066,
          4589.908289909363,
          4877.563530921935,
          4472.330841064453,
          4594.9083795547485,
          4614.914717674255,
          4452.322111129761,
          4742.48517036438,
          4990.114580154418,
          5461.11740398407,
          4982.600692749024,
          5370.3055629730225,
          6377.5720534324655,
          6224.937774181366,
          6634.46732211113,
          6265.878535747528,
          6713.641414880753,
          6366.412135839462,
          6131.852722644806,
          6474.372034072876,
          5927.095513820647,
          6284.537732839584,
          6574.892283916473,
          6787.098041296005,
          7278.5331428050995,
          6679.11945271492,
          6284.4870018959045,
          6988.154561281204,
          6567.449075460434,
          6433.422372341156,
          7055.162127733231,
          6314.270515918732,
          45531.33424758911,
          33969.68787574768,
          26033.737990379333,
          73029.89799928665,
          65792.45536994934,
          44271.14461040497,
          36485.575103759766,
          27902.659432411194,
          25903.23253583908,
          27045.533733844757,
          27631.343007087708,
          26339.300316810608,
          25556.874730110172,
          28341.659741878506,
          29920.725146770477,
          34546.14996242523,
          39272.864074230194,
          33994.67190742493,
          28131.523638725277,
          31892.622386455536
         ]
        },
        {
         "name": "FR",
         "type": "box",
         "x": [
          "LogisticRegression",
          "LogisticRegression",
          "LogisticRegression",
          "LogisticRegression",
          "LogisticRegression",
          "LogisticRegression",
          "LogisticRegression",
          "LogisticRegression",
          "LogisticRegression",
          "LogisticRegression",
          "LogisticRegression",
          "LogisticRegression",
          "LogisticRegression",
          "LogisticRegression",
          "LogisticRegression",
          "LogisticRegression",
          "LogisticRegression",
          "LogisticRegression",
          "LogisticRegression",
          "LogisticRegression",
          "SVC",
          "SVC",
          "SVC",
          "SVC",
          "SVC",
          "SVC",
          "SVC",
          "SVC",
          "SVC",
          "SVC",
          "SVC",
          "SVC",
          "SVC",
          "SVC",
          "SVC",
          "SVC",
          "SVC",
          "SVC",
          "SVC",
          "SVC",
          "RandomForestClassifier",
          "RandomForestClassifier",
          "RandomForestClassifier",
          "RandomForestClassifier",
          "RandomForestClassifier",
          "RandomForestClassifier",
          "RandomForestClassifier",
          "RandomForestClassifier",
          "RandomForestClassifier",
          "RandomForestClassifier",
          "RandomForestClassifier",
          "RandomForestClassifier",
          "RandomForestClassifier",
          "RandomForestClassifier",
          "RandomForestClassifier",
          "RandomForestClassifier",
          "RandomForestClassifier",
          "RandomForestClassifier",
          "RandomForestClassifier",
          "RandomForestClassifier",
          "GradientBoostingClassifier",
          "GradientBoostingClassifier",
          "GradientBoostingClassifier",
          "GradientBoostingClassifier",
          "GradientBoostingClassifier",
          "GradientBoostingClassifier",
          "GradientBoostingClassifier",
          "GradientBoostingClassifier",
          "GradientBoostingClassifier",
          "GradientBoostingClassifier",
          "GradientBoostingClassifier",
          "GradientBoostingClassifier",
          "GradientBoostingClassifier",
          "GradientBoostingClassifier",
          "GradientBoostingClassifier",
          "GradientBoostingClassifier",
          "GradientBoostingClassifier",
          "GradientBoostingClassifier",
          "GradientBoostingClassifier",
          "GradientBoostingClassifier",
          "DeepNeuralNetwork",
          "DeepNeuralNetwork",
          "DeepNeuralNetwork",
          "DeepNeuralNetwork",
          "DeepNeuralNetwork",
          "DeepNeuralNetwork",
          "DeepNeuralNetwork",
          "DeepNeuralNetwork",
          "DeepNeuralNetwork",
          "DeepNeuralNetwork",
          "DeepNeuralNetwork",
          "DeepNeuralNetwork",
          "DeepNeuralNetwork",
          "DeepNeuralNetwork",
          "DeepNeuralNetwork",
          "DeepNeuralNetwork",
          "DeepNeuralNetwork",
          "DeepNeuralNetwork",
          "DeepNeuralNetwork",
          "DeepNeuralNetwork"
         ],
         "y": [
          406.3981332778927,
          440.2609176635741,
          319.31122183799715,
          388.6633114814756,
          249.96722817420942,
          320.925020456314,
          274.16495490074124,
          243.52012968063323,
          296.7334620952604,
          225.7775974273679,
          253.1982951164244,
          261.2526383399961,
          240.2925324440001,
          262.8625817298888,
          382.20888805389393,
          248.36075448989837,
          285.4488229751585,
          304.79435920715315,
          417.6692790985106,
          287.05876636505093,
          80112.13671016693,
          81798.72860670088,
          80901.14874744415,
          83009.66246700285,
          100041.86940383911,
          97649.56966638565,
          78521.74280977249,
          91931.3385925293,
          80005.60263633727,
          89730.94735288619,
          72130.68401670454,
          90451.77712869643,
          82779.54182624817,
          78265.97426891327,
          82909.66266155243,
          69386.5340065956,
          80138.42400741577,
          87233.58141231537,
          81513.02709770203,
          90450.17870092392,
          4402.294306755066,
          4323.1455545425415,
          4656.529312133789,
          4319.749176979065,
          4192.185301780701,
          4477.345281600952,
          4252.218069076538,
          4982.601888656616,
          4209.7083377838135,
          4327.26306438446,
          5277.742913246155,
          4387.297625541687,
          4799.485116004943,
          4264.71709728241,
          4782.484093666077,
          4862.544127464294,
          4504.851156234741,
          4512.363847732545,
          4532.431177139282,
          4477.339900016785,
          2509.3393778800964,
          3499.6518993377686,
          2844.388780355453,
          2848.101039409637,
          2814.624846696853,
          2985.881832361221,
          2751.3081789016724,
          3268.8625962734213,
          2673.199435949325,
          2766.898598909378,
          2766.229306459426,
          2803.456918954849,
          2721.533565044403,
          3213.091488838196,
          3082.678252935409,
          2776.2215223312373,
          2877.8703131675716,
          2937.486292123794,
          3212.9820168018337,
          2773.668954849243,
          28390.600031375885,
          26171.011276245117,
          34361.16654109954,
          36834.47258234024,
          36842.79794740677,
          34103.881808280945,
          32170.041963100433,
          33662.216826438904,
          28650.936339855194,
          22793.149161815643,
          24139.552755832672,
          24339.065883636475,
          23833.561859607697,
          25353.333839893337,
          24128.447639465332,
          24041.322971820835,
          25010.755781650543,
          25432.422823905945,
          24498.307339668274,
          25336.496602535248
         ]
        },
        {
         "name": "SS",
         "type": "box",
         "x": [
          "LogisticRegression",
          "LogisticRegression",
          "LogisticRegression",
          "LogisticRegression",
          "LogisticRegression",
          "LogisticRegression",
          "LogisticRegression",
          "LogisticRegression",
          "LogisticRegression",
          "LogisticRegression",
          "LogisticRegression",
          "LogisticRegression",
          "LogisticRegression",
          "LogisticRegression",
          "LogisticRegression",
          "LogisticRegression",
          "LogisticRegression",
          "LogisticRegression",
          "LogisticRegression",
          "LogisticRegression",
          "SVC",
          "SVC",
          "SVC",
          "SVC",
          "SVC",
          "SVC",
          "SVC",
          "SVC",
          "SVC",
          "SVC",
          "SVC",
          "SVC",
          "SVC",
          "SVC",
          "SVC",
          "SVC",
          "SVC",
          "SVC",
          "SVC",
          "SVC",
          "RandomForestClassifier",
          "RandomForestClassifier",
          "RandomForestClassifier",
          "RandomForestClassifier",
          "RandomForestClassifier",
          "RandomForestClassifier",
          "RandomForestClassifier",
          "RandomForestClassifier",
          "RandomForestClassifier",
          "RandomForestClassifier",
          "RandomForestClassifier",
          "RandomForestClassifier",
          "RandomForestClassifier",
          "RandomForestClassifier",
          "RandomForestClassifier",
          "RandomForestClassifier",
          "RandomForestClassifier",
          "RandomForestClassifier",
          "RandomForestClassifier",
          "RandomForestClassifier",
          "GradientBoostingClassifier",
          "GradientBoostingClassifier",
          "GradientBoostingClassifier",
          "GradientBoostingClassifier",
          "GradientBoostingClassifier",
          "GradientBoostingClassifier",
          "GradientBoostingClassifier",
          "GradientBoostingClassifier",
          "GradientBoostingClassifier",
          "GradientBoostingClassifier",
          "GradientBoostingClassifier",
          "GradientBoostingClassifier",
          "GradientBoostingClassifier",
          "GradientBoostingClassifier",
          "GradientBoostingClassifier",
          "GradientBoostingClassifier",
          "GradientBoostingClassifier",
          "GradientBoostingClassifier",
          "GradientBoostingClassifier",
          "GradientBoostingClassifier",
          "DeepNeuralNetwork",
          "DeepNeuralNetwork",
          "DeepNeuralNetwork",
          "DeepNeuralNetwork",
          "DeepNeuralNetwork",
          "DeepNeuralNetwork",
          "DeepNeuralNetwork",
          "DeepNeuralNetwork",
          "DeepNeuralNetwork",
          "DeepNeuralNetwork",
          "DeepNeuralNetwork",
          "DeepNeuralNetwork",
          "DeepNeuralNetwork",
          "DeepNeuralNetwork",
          "DeepNeuralNetwork",
          "DeepNeuralNetwork",
          "DeepNeuralNetwork",
          "DeepNeuralNetwork",
          "DeepNeuralNetwork",
          "DeepNeuralNetwork"
         ],
         "y": [
          535.4106538295744,
          451.5528817176817,
          359.62804412841774,
          433.81343364715576,
          369.30659508705105,
          366.0813109874722,
          483.8068792819977,
          303.18595790863026,
          403.1716926097868,
          401.5679175853726,
          385.4341721534727,
          249.95489144325248,
          456.39273548126204,
          385.43609976768465,
          420.91075515747053,
          403.1759333610532,
          330.6024148464202,
          359.6423084735867,
          411.2422277927396,
          425.7482957839964,
          39235.62782478331,
          47303.910362720475,
          51543.96089553833,
          53699.53648996351,
          55988.74525642393,
          73917.69522094725,
          68174.61632871626,
          51126.15779829024,
          43902.81274318692,
          67126.89469528197,
          46511.20560407637,
          59403.21732759476,
          48557.73638963698,
          54736.39367580414,
          38149.664434909806,
          60963.75382566449,
          53432.50211048126,
          73553.96705961227,
          47931.32404518126,
          61464.956331729874,
          2006.039314270019,
          1530.7981939315794,
          1550.8278522491455,
          1460.753886222839,
          1614.323369979858,
          1442.7877664566038,
          1555.8225603103635,
          1825.9828691482542,
          1483.2907648086548,
          1530.797595977783,
          1568.3162069320676,
          1518.2860107421875,
          1720.90385055542,
          2101.0990190505977,
          1598.3221263885496,
          1618.3595581054685,
          1485.759118080139,
          1811.823921203613,
          1785.9402952194212,
          2153.6286621093745,
          2557.7393682003017,
          2740.1660616397853,
          2684.3477833271027,
          3049.1611194610596,
          2907.6956579685207,
          2438.6053121089935,
          2796.015490531921,
          2721.545135259628,
          2635.9219825267787,
          3039.2908358573914,
          2539.08551120758,
          2706.639137983322,
          2848.11527967453,
          2673.1300146579742,
          2602.3986189365382,
          3123.6519451141357,
          2855.5771784782405,
          2905.8978245258327,
          2807.159387826919,
          2602.4021790027614,
          23637.540781974792,
          24119.83854532242,
          23728.530514240265,
          21562.79671239853,
          22807.24633026123,
          24209.740980148315,
          22806.494349002838,
          24123.911942481995,
          24609.140250205994,
          33427.842720508575,
          24170.14787721634,
          24026.46588563919,
          21919.055274009705,
          21655.98484897613,
          22937.62678527832,
          21107.086149215695,
          22686.131712913513,
          23714.361917495728,
          22018.868385314938,
          26551.6645860672
         ]
        },
        {
         "name": "SS & FR",
         "type": "box",
         "x": [
          "LogisticRegression",
          "LogisticRegression",
          "LogisticRegression",
          "LogisticRegression",
          "LogisticRegression",
          "LogisticRegression",
          "LogisticRegression",
          "LogisticRegression",
          "LogisticRegression",
          "LogisticRegression",
          "LogisticRegression",
          "LogisticRegression",
          "LogisticRegression",
          "LogisticRegression",
          "LogisticRegression",
          "LogisticRegression",
          "LogisticRegression",
          "LogisticRegression",
          "LogisticRegression",
          "LogisticRegression",
          "SVC",
          "SVC",
          "SVC",
          "SVC",
          "SVC",
          "SVC",
          "SVC",
          "SVC",
          "SVC",
          "SVC",
          "SVC",
          "SVC",
          "SVC",
          "SVC",
          "SVC",
          "SVC",
          "SVC",
          "SVC",
          "SVC",
          "SVC",
          "RandomForestClassifier",
          "RandomForestClassifier",
          "RandomForestClassifier",
          "RandomForestClassifier",
          "RandomForestClassifier",
          "RandomForestClassifier",
          "RandomForestClassifier",
          "RandomForestClassifier",
          "RandomForestClassifier",
          "RandomForestClassifier",
          "RandomForestClassifier",
          "RandomForestClassifier",
          "RandomForestClassifier",
          "RandomForestClassifier",
          "RandomForestClassifier",
          "RandomForestClassifier",
          "RandomForestClassifier",
          "RandomForestClassifier",
          "RandomForestClassifier",
          "RandomForestClassifier",
          "GradientBoostingClassifier",
          "GradientBoostingClassifier",
          "GradientBoostingClassifier",
          "GradientBoostingClassifier",
          "GradientBoostingClassifier",
          "GradientBoostingClassifier",
          "GradientBoostingClassifier",
          "GradientBoostingClassifier",
          "GradientBoostingClassifier",
          "GradientBoostingClassifier",
          "GradientBoostingClassifier",
          "GradientBoostingClassifier",
          "GradientBoostingClassifier",
          "GradientBoostingClassifier",
          "GradientBoostingClassifier",
          "GradientBoostingClassifier",
          "GradientBoostingClassifier",
          "GradientBoostingClassifier",
          "GradientBoostingClassifier",
          "GradientBoostingClassifier",
          "DeepNeuralNetwork",
          "DeepNeuralNetwork",
          "DeepNeuralNetwork",
          "DeepNeuralNetwork",
          "DeepNeuralNetwork",
          "DeepNeuralNetwork",
          "DeepNeuralNetwork",
          "DeepNeuralNetwork",
          "DeepNeuralNetwork",
          "DeepNeuralNetwork",
          "DeepNeuralNetwork",
          "DeepNeuralNetwork",
          "DeepNeuralNetwork",
          "DeepNeuralNetwork",
          "DeepNeuralNetwork",
          "DeepNeuralNetwork",
          "DeepNeuralNetwork",
          "DeepNeuralNetwork",
          "DeepNeuralNetwork",
          "DeepNeuralNetwork"
         ],
         "y": [
          617.65616941452,
          520.9007306098937,
          496.70608806610073,
          433.81073498725857,
          437.03910326957686,
          382.2219958305357,
          540.2481944561002,
          417.6897118091582,
          480.5962450504303,
          270.9315748214719,
          535.4152801036832,
          322.54074668884255,
          401.5501835346219,
          474.1294848918915,
          498.332608938217,
          291.89360833167996,
          312.8564128875729,
          272.53689193725575,
          416.08092498779286,
          317.69857978820784,
          7599.603229522703,
          6092.032115936276,
          6152.658663749692,
          6098.136818408962,
          6767.821992397306,
          7036.297790050505,
          9446.809206008907,
          7968.152652740477,
          8463.568544387814,
          9234.715833663937,
          11761.379647731777,
          10043.651214122769,
          12436.55247402191,
          7835.05516719818,
          11831.914766788479,
          9957.854046821594,
          8402.76924562454,
          7947.597836494446,
          9030.547682762142,
          7412.285103797909,
          1680.8720397949219,
          1968.5218992233274,
          1770.9149122238157,
          1775.9305486679077,
          1733.3968992233276,
          1683.3816518783567,
          1808.478967666626,
          1695.8908452987669,
          1810.9491147994993,
          1565.8382863998409,
          1624.7451066970825,
          1450.7560987472532,
          1620.8458499908447,
          1552.893184661865,
          2041.0722312927246,
          1568.3144130706785,
          1640.856373786926,
          1436.1959238052364,
          1570.8784389495845,
          1720.449405670166,
          1679.0829837322233,
          1731.206803321838,
          1626.9742944240566,
          1381.2496235370634,
          1638.2134234905238,
          1854.0531184673307,
          1455.7137486934655,
          1742.3880813121796,
          2081.1719932556152,
          1641.856261253357,
          1667.906155824661,
          1630.708803892135,
          1474.3426852226257,
          1702.1726832389827,
          1675.4321358203888,
          1362.637597322464,
          2055.121208667755,
          2029.0490636825557,
          1533.9017031192775,
          1489.2237620353694,
          31821.612736701965,
          22816.317724227905,
          23919.529785633087,
          32420.469579219818,
          23976.233934402466,
          30661.72628831863,
          24009.356823921204,
          24117.527046203613,
          33585.56235694885,
          30639.008121013645,
          26494.361233234406,
          23424.005882263184,
          21614.58222913742,
          23964.708184719086,
          22698.722934722904,
          22264.373401165012,
          23636.46935749054,
          21822.587388038635,
          22299.40898180008,
          24309.17710876465
         ]
        }
       ],
       "layout": {
        "boxmode": "group",
        "template": {
         "data": {
          "bar": [
           {
            "error_x": {
             "color": "#2a3f5f"
            },
            "error_y": {
             "color": "#2a3f5f"
            },
            "marker": {
             "line": {
              "color": "#E5ECF6",
              "width": 0.5
             },
             "pattern": {
              "fillmode": "overlay",
              "size": 10,
              "solidity": 0.2
             }
            },
            "type": "bar"
           }
          ],
          "barpolar": [
           {
            "marker": {
             "line": {
              "color": "#E5ECF6",
              "width": 0.5
             },
             "pattern": {
              "fillmode": "overlay",
              "size": 10,
              "solidity": 0.2
             }
            },
            "type": "barpolar"
           }
          ],
          "carpet": [
           {
            "aaxis": {
             "endlinecolor": "#2a3f5f",
             "gridcolor": "white",
             "linecolor": "white",
             "minorgridcolor": "white",
             "startlinecolor": "#2a3f5f"
            },
            "baxis": {
             "endlinecolor": "#2a3f5f",
             "gridcolor": "white",
             "linecolor": "white",
             "minorgridcolor": "white",
             "startlinecolor": "#2a3f5f"
            },
            "type": "carpet"
           }
          ],
          "choropleth": [
           {
            "colorbar": {
             "outlinewidth": 0,
             "ticks": ""
            },
            "type": "choropleth"
           }
          ],
          "contour": [
           {
            "colorbar": {
             "outlinewidth": 0,
             "ticks": ""
            },
            "colorscale": [
             [
              0,
              "#0d0887"
             ],
             [
              0.1111111111111111,
              "#46039f"
             ],
             [
              0.2222222222222222,
              "#7201a8"
             ],
             [
              0.3333333333333333,
              "#9c179e"
             ],
             [
              0.4444444444444444,
              "#bd3786"
             ],
             [
              0.5555555555555556,
              "#d8576b"
             ],
             [
              0.6666666666666666,
              "#ed7953"
             ],
             [
              0.7777777777777778,
              "#fb9f3a"
             ],
             [
              0.8888888888888888,
              "#fdca26"
             ],
             [
              1,
              "#f0f921"
             ]
            ],
            "type": "contour"
           }
          ],
          "contourcarpet": [
           {
            "colorbar": {
             "outlinewidth": 0,
             "ticks": ""
            },
            "type": "contourcarpet"
           }
          ],
          "heatmap": [
           {
            "colorbar": {
             "outlinewidth": 0,
             "ticks": ""
            },
            "colorscale": [
             [
              0,
              "#0d0887"
             ],
             [
              0.1111111111111111,
              "#46039f"
             ],
             [
              0.2222222222222222,
              "#7201a8"
             ],
             [
              0.3333333333333333,
              "#9c179e"
             ],
             [
              0.4444444444444444,
              "#bd3786"
             ],
             [
              0.5555555555555556,
              "#d8576b"
             ],
             [
              0.6666666666666666,
              "#ed7953"
             ],
             [
              0.7777777777777778,
              "#fb9f3a"
             ],
             [
              0.8888888888888888,
              "#fdca26"
             ],
             [
              1,
              "#f0f921"
             ]
            ],
            "type": "heatmap"
           }
          ],
          "heatmapgl": [
           {
            "colorbar": {
             "outlinewidth": 0,
             "ticks": ""
            },
            "colorscale": [
             [
              0,
              "#0d0887"
             ],
             [
              0.1111111111111111,
              "#46039f"
             ],
             [
              0.2222222222222222,
              "#7201a8"
             ],
             [
              0.3333333333333333,
              "#9c179e"
             ],
             [
              0.4444444444444444,
              "#bd3786"
             ],
             [
              0.5555555555555556,
              "#d8576b"
             ],
             [
              0.6666666666666666,
              "#ed7953"
             ],
             [
              0.7777777777777778,
              "#fb9f3a"
             ],
             [
              0.8888888888888888,
              "#fdca26"
             ],
             [
              1,
              "#f0f921"
             ]
            ],
            "type": "heatmapgl"
           }
          ],
          "histogram": [
           {
            "marker": {
             "pattern": {
              "fillmode": "overlay",
              "size": 10,
              "solidity": 0.2
             }
            },
            "type": "histogram"
           }
          ],
          "histogram2d": [
           {
            "colorbar": {
             "outlinewidth": 0,
             "ticks": ""
            },
            "colorscale": [
             [
              0,
              "#0d0887"
             ],
             [
              0.1111111111111111,
              "#46039f"
             ],
             [
              0.2222222222222222,
              "#7201a8"
             ],
             [
              0.3333333333333333,
              "#9c179e"
             ],
             [
              0.4444444444444444,
              "#bd3786"
             ],
             [
              0.5555555555555556,
              "#d8576b"
             ],
             [
              0.6666666666666666,
              "#ed7953"
             ],
             [
              0.7777777777777778,
              "#fb9f3a"
             ],
             [
              0.8888888888888888,
              "#fdca26"
             ],
             [
              1,
              "#f0f921"
             ]
            ],
            "type": "histogram2d"
           }
          ],
          "histogram2dcontour": [
           {
            "colorbar": {
             "outlinewidth": 0,
             "ticks": ""
            },
            "colorscale": [
             [
              0,
              "#0d0887"
             ],
             [
              0.1111111111111111,
              "#46039f"
             ],
             [
              0.2222222222222222,
              "#7201a8"
             ],
             [
              0.3333333333333333,
              "#9c179e"
             ],
             [
              0.4444444444444444,
              "#bd3786"
             ],
             [
              0.5555555555555556,
              "#d8576b"
             ],
             [
              0.6666666666666666,
              "#ed7953"
             ],
             [
              0.7777777777777778,
              "#fb9f3a"
             ],
             [
              0.8888888888888888,
              "#fdca26"
             ],
             [
              1,
              "#f0f921"
             ]
            ],
            "type": "histogram2dcontour"
           }
          ],
          "mesh3d": [
           {
            "colorbar": {
             "outlinewidth": 0,
             "ticks": ""
            },
            "type": "mesh3d"
           }
          ],
          "parcoords": [
           {
            "line": {
             "colorbar": {
              "outlinewidth": 0,
              "ticks": ""
             }
            },
            "type": "parcoords"
           }
          ],
          "pie": [
           {
            "automargin": true,
            "type": "pie"
           }
          ],
          "scatter": [
           {
            "fillpattern": {
             "fillmode": "overlay",
             "size": 10,
             "solidity": 0.2
            },
            "type": "scatter"
           }
          ],
          "scatter3d": [
           {
            "line": {
             "colorbar": {
              "outlinewidth": 0,
              "ticks": ""
             }
            },
            "marker": {
             "colorbar": {
              "outlinewidth": 0,
              "ticks": ""
             }
            },
            "type": "scatter3d"
           }
          ],
          "scattercarpet": [
           {
            "marker": {
             "colorbar": {
              "outlinewidth": 0,
              "ticks": ""
             }
            },
            "type": "scattercarpet"
           }
          ],
          "scattergeo": [
           {
            "marker": {
             "colorbar": {
              "outlinewidth": 0,
              "ticks": ""
             }
            },
            "type": "scattergeo"
           }
          ],
          "scattergl": [
           {
            "marker": {
             "colorbar": {
              "outlinewidth": 0,
              "ticks": ""
             }
            },
            "type": "scattergl"
           }
          ],
          "scattermapbox": [
           {
            "marker": {
             "colorbar": {
              "outlinewidth": 0,
              "ticks": ""
             }
            },
            "type": "scattermapbox"
           }
          ],
          "scatterpolar": [
           {
            "marker": {
             "colorbar": {
              "outlinewidth": 0,
              "ticks": ""
             }
            },
            "type": "scatterpolar"
           }
          ],
          "scatterpolargl": [
           {
            "marker": {
             "colorbar": {
              "outlinewidth": 0,
              "ticks": ""
             }
            },
            "type": "scatterpolargl"
           }
          ],
          "scatterternary": [
           {
            "marker": {
             "colorbar": {
              "outlinewidth": 0,
              "ticks": ""
             }
            },
            "type": "scatterternary"
           }
          ],
          "surface": [
           {
            "colorbar": {
             "outlinewidth": 0,
             "ticks": ""
            },
            "colorscale": [
             [
              0,
              "#0d0887"
             ],
             [
              0.1111111111111111,
              "#46039f"
             ],
             [
              0.2222222222222222,
              "#7201a8"
             ],
             [
              0.3333333333333333,
              "#9c179e"
             ],
             [
              0.4444444444444444,
              "#bd3786"
             ],
             [
              0.5555555555555556,
              "#d8576b"
             ],
             [
              0.6666666666666666,
              "#ed7953"
             ],
             [
              0.7777777777777778,
              "#fb9f3a"
             ],
             [
              0.8888888888888888,
              "#fdca26"
             ],
             [
              1,
              "#f0f921"
             ]
            ],
            "type": "surface"
           }
          ],
          "table": [
           {
            "cells": {
             "fill": {
              "color": "#EBF0F8"
             },
             "line": {
              "color": "white"
             }
            },
            "header": {
             "fill": {
              "color": "#C8D4E3"
             },
             "line": {
              "color": "white"
             }
            },
            "type": "table"
           }
          ]
         },
         "layout": {
          "annotationdefaults": {
           "arrowcolor": "#2a3f5f",
           "arrowhead": 0,
           "arrowwidth": 1
          },
          "autotypenumbers": "strict",
          "coloraxis": {
           "colorbar": {
            "outlinewidth": 0,
            "ticks": ""
           }
          },
          "colorscale": {
           "diverging": [
            [
             0,
             "#8e0152"
            ],
            [
             0.1,
             "#c51b7d"
            ],
            [
             0.2,
             "#de77ae"
            ],
            [
             0.3,
             "#f1b6da"
            ],
            [
             0.4,
             "#fde0ef"
            ],
            [
             0.5,
             "#f7f7f7"
            ],
            [
             0.6,
             "#e6f5d0"
            ],
            [
             0.7,
             "#b8e186"
            ],
            [
             0.8,
             "#7fbc41"
            ],
            [
             0.9,
             "#4d9221"
            ],
            [
             1,
             "#276419"
            ]
           ],
           "sequential": [
            [
             0,
             "#0d0887"
            ],
            [
             0.1111111111111111,
             "#46039f"
            ],
            [
             0.2222222222222222,
             "#7201a8"
            ],
            [
             0.3333333333333333,
             "#9c179e"
            ],
            [
             0.4444444444444444,
             "#bd3786"
            ],
            [
             0.5555555555555556,
             "#d8576b"
            ],
            [
             0.6666666666666666,
             "#ed7953"
            ],
            [
             0.7777777777777778,
             "#fb9f3a"
            ],
            [
             0.8888888888888888,
             "#fdca26"
            ],
            [
             1,
             "#f0f921"
            ]
           ],
           "sequentialminus": [
            [
             0,
             "#0d0887"
            ],
            [
             0.1111111111111111,
             "#46039f"
            ],
            [
             0.2222222222222222,
             "#7201a8"
            ],
            [
             0.3333333333333333,
             "#9c179e"
            ],
            [
             0.4444444444444444,
             "#bd3786"
            ],
            [
             0.5555555555555556,
             "#d8576b"
            ],
            [
             0.6666666666666666,
             "#ed7953"
            ],
            [
             0.7777777777777778,
             "#fb9f3a"
            ],
            [
             0.8888888888888888,
             "#fdca26"
            ],
            [
             1,
             "#f0f921"
            ]
           ]
          },
          "colorway": [
           "#636efa",
           "#EF553B",
           "#00cc96",
           "#ab63fa",
           "#FFA15A",
           "#19d3f3",
           "#FF6692",
           "#B6E880",
           "#FF97FF",
           "#FECB52"
          ],
          "font": {
           "color": "#2a3f5f"
          },
          "geo": {
           "bgcolor": "white",
           "lakecolor": "white",
           "landcolor": "#E5ECF6",
           "showlakes": true,
           "showland": true,
           "subunitcolor": "white"
          },
          "hoverlabel": {
           "align": "left"
          },
          "hovermode": "closest",
          "mapbox": {
           "style": "light"
          },
          "paper_bgcolor": "white",
          "plot_bgcolor": "#E5ECF6",
          "polar": {
           "angularaxis": {
            "gridcolor": "white",
            "linecolor": "white",
            "ticks": ""
           },
           "bgcolor": "#E5ECF6",
           "radialaxis": {
            "gridcolor": "white",
            "linecolor": "white",
            "ticks": ""
           }
          },
          "scene": {
           "xaxis": {
            "backgroundcolor": "#E5ECF6",
            "gridcolor": "white",
            "gridwidth": 2,
            "linecolor": "white",
            "showbackground": true,
            "ticks": "",
            "zerolinecolor": "white"
           },
           "yaxis": {
            "backgroundcolor": "#E5ECF6",
            "gridcolor": "white",
            "gridwidth": 2,
            "linecolor": "white",
            "showbackground": true,
            "ticks": "",
            "zerolinecolor": "white"
           },
           "zaxis": {
            "backgroundcolor": "#E5ECF6",
            "gridcolor": "white",
            "gridwidth": 2,
            "linecolor": "white",
            "showbackground": true,
            "ticks": "",
            "zerolinecolor": "white"
           }
          },
          "shapedefaults": {
           "line": {
            "color": "#2a3f5f"
           }
          },
          "ternary": {
           "aaxis": {
            "gridcolor": "white",
            "linecolor": "white",
            "ticks": ""
           },
           "baxis": {
            "gridcolor": "white",
            "linecolor": "white",
            "ticks": ""
           },
           "bgcolor": "#E5ECF6",
           "caxis": {
            "gridcolor": "white",
            "linecolor": "white",
            "ticks": ""
           }
          },
          "title": {
           "x": 0.05
          },
          "xaxis": {
           "automargin": true,
           "gridcolor": "white",
           "linecolor": "white",
           "ticks": "",
           "title": {
            "standoff": 15
           },
           "zerolinecolor": "white",
           "zerolinewidth": 2
          },
          "yaxis": {
           "automargin": true,
           "gridcolor": "white",
           "linecolor": "white",
           "ticks": "",
           "title": {
            "standoff": 15
           },
           "zerolinecolor": "white",
           "zerolinewidth": 2
          }
         }
        },
        "title": {
         "text": "total_time * model_size"
        },
        "yaxis": {
         "title": {
          "text": "total_time * model_size"
         }
        }
       }
      }
     },
     "metadata": {},
     "output_type": "display_data"
    }
   ],
   "source": [
    "results = {}\n",
    "for model in models:\n",
    "\tfor ss_opt in subsampling_options:\n",
    "\t\tfor fr_opt in feature_reduction_options:\n",
    "\t\t\tfilename = f'{DATASET}_{ss_opt}_{fr_opt}_{model}'\n",
    "\t\t\tpath = f'../results/{filename}.csv'\n",
    "\t\t\tdf = pd.read_csv(path)\n",
    "\t\t\tpreprocess_time =  df['preprocess_time'].transpose()\n",
    "\t\t\ttraining_time =  df['training_time'].transpose()\n",
    "\t\t\tprediction_time =  df['prediction_time'].transpose()\n",
    "\t\t\tmodel_size =  df['model_size'].transpose()\n",
    "\t\t\ttotal_time = preprocess_time.to_numpy() + training_time.to_numpy() + prediction_time.to_numpy()\n",
    "\t\t\tresults[filename] = total_time * model_size.to_numpy()\n",
    "\n",
    "n_experiments = len(results[filename])\n",
    "\n",
    "fig = go.Figure()\n",
    "\n",
    "for ss_opt in subsampling_options:\n",
    "\tfor fr_opt in feature_reduction_options:\n",
    "\t\tx, y = [], []\n",
    "\t\tfor model in models:\n",
    "\t\t\tfilename = f'{DATASET}_{ss_opt}_{fr_opt}_{model}'\n",
    "\t\t\tx.extend([model for _ in range(n_experiments)])\n",
    "\t\t\ty.extend(list(results[filename]))\n",
    "\t\tfig.add_trace(go.Box(y=y, x=x, name=get_experiment_name(ss_opt, fr_opt)))\n",
    "\t\t\n",
    "\n",
    "fig.update_layout(\n",
    "\ttitle='total_time * model_size',\n",
    "\tyaxis_title='total_time * model_size',\n",
    "\tboxmode='group'\n",
    ")\n",
    "fig.show()\n"
   ]
  }
 ],
 "metadata": {
  "kernelspec": {
   "display_name": "tf",
   "language": "python",
   "name": "python3"
  },
  "language_info": {
   "codemirror_mode": {
    "name": "ipython",
    "version": 3
   },
   "file_extension": ".py",
   "mimetype": "text/x-python",
   "name": "python",
   "nbconvert_exporter": "python",
   "pygments_lexer": "ipython3",
   "version": "3.9.0"
  }
 },
 "nbformat": 4,
 "nbformat_minor": 2
}
