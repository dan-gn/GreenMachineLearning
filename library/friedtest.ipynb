{
 "cells": [
  {
   "cell_type": "code",
   "execution_count": 1,
   "metadata": {},
   "outputs": [],
   "source": [
    "import numpy as np\n",
    "from scipy.stats import friedmanchisquare\n",
    "import scikit_posthocs as sp\n",
    "import pandas as pd"
   ]
  },
  {
   "cell_type": "code",
   "execution_count": 2,
   "metadata": {},
   "outputs": [],
   "source": [
    "# Datasets\n",
    "datasets = ['aids']\n",
    "\n",
    "# Machine Learning models\n",
    "models = ['LogisticRegression', 'SVC', 'RandomForestClassifier', 'GradientBoostingClassifier','ResidualNeuralNetwork', 'MultiLayerNeuralNetwork']\n",
    "\n",
    "# Experiment options\n",
    "subsampling_options = ['False']\n",
    "feature_reduction_options = ['True']\n",
    "\n",
    "results = []\n",
    "for model in models:\n",
    "    for ss_opt in subsampling_options:\n",
    "        for fr_opt in feature_reduction_options:\n",
    "            filename = f'aids_{ss_opt}_{fr_opt}_{model}'\n",
    "            path = f'../results_new_linux_results/{filename}.csv'\n",
    "            df = pd.read_csv(path, index_col=False)\n",
    "            #results.append([])\n",
    "            test = df['energy_pred'].tolist()\n",
    "            results.append(test)"
   ]
  },
  {
   "cell_type": "code",
   "execution_count": 3,
   "metadata": {},
   "outputs": [
    {
     "name": "stdout",
     "output_type": "stream",
     "text": [
      "Friedman Test Statistic: 29.429268292682877\n",
      "P-value: 0.8665940555682419\n",
      "The Friedman Test does not indicate a significant difference among the models.\n"
     ]
    }
   ],
   "source": [
    "# Combine the data into a 2D array\n",
    "data = np.array(results)\n",
    "\n",
    "# Transpose the array so that rows represent datasets and columns represent models\n",
    "data = data.T\n",
    "\n",
    "# Perform the Friedman Test\n",
    "statistic, p_value = friedmanchisquare(*data)\n",
    "\n",
    "# Output the results\n",
    "print(f\"Friedman Test Statistic: {statistic}\")\n",
    "print(f\"P-value: {p_value}\")\n",
    "\n",
    "# Check for statistical significance (common significance level is 0.05)\n",
    "if p_value < 0.05:\n",
    "    print(\"The Friedman Test indicates a significant difference among the models.\")\n",
    "else:\n",
    "    print(\"The Friedman Test does not indicate a significant difference among the models.\")\n"
   ]
  },
  {
   "cell_type": "code",
   "execution_count": 4,
   "metadata": {},
   "outputs": [
    {
     "data": {
      "text/html": [
       "<div>\n",
       "<style scoped>\n",
       "    .dataframe tbody tr th:only-of-type {\n",
       "        vertical-align: middle;\n",
       "    }\n",
       "\n",
       "    .dataframe tbody tr th {\n",
       "        vertical-align: top;\n",
       "    }\n",
       "\n",
       "    .dataframe thead th {\n",
       "        text-align: right;\n",
       "    }\n",
       "</style>\n",
       "<table border=\"1\" class=\"dataframe\">\n",
       "  <thead>\n",
       "    <tr style=\"text-align: right;\">\n",
       "      <th></th>\n",
       "      <th>0</th>\n",
       "      <th>1</th>\n",
       "      <th>2</th>\n",
       "      <th>3</th>\n",
       "      <th>4</th>\n",
       "      <th>5</th>\n",
       "    </tr>\n",
       "  </thead>\n",
       "  <tbody>\n",
       "    <tr>\n",
       "      <th>0</th>\n",
       "      <td>1.000000</td>\n",
       "      <td>0.004535</td>\n",
       "      <td>0.900000</td>\n",
       "      <td>0.015819</td>\n",
       "      <td>0.001000</td>\n",
       "      <td>0.001000</td>\n",
       "    </tr>\n",
       "    <tr>\n",
       "      <th>1</th>\n",
       "      <td>0.004535</td>\n",
       "      <td>1.000000</td>\n",
       "      <td>0.033473</td>\n",
       "      <td>0.001000</td>\n",
       "      <td>0.047415</td>\n",
       "      <td>0.001000</td>\n",
       "    </tr>\n",
       "    <tr>\n",
       "      <th>2</th>\n",
       "      <td>0.900000</td>\n",
       "      <td>0.033473</td>\n",
       "      <td>1.000000</td>\n",
       "      <td>0.001822</td>\n",
       "      <td>0.001000</td>\n",
       "      <td>0.001000</td>\n",
       "    </tr>\n",
       "    <tr>\n",
       "      <th>3</th>\n",
       "      <td>0.015819</td>\n",
       "      <td>0.001000</td>\n",
       "      <td>0.001822</td>\n",
       "      <td>1.000000</td>\n",
       "      <td>0.001000</td>\n",
       "      <td>0.001000</td>\n",
       "    </tr>\n",
       "    <tr>\n",
       "      <th>4</th>\n",
       "      <td>0.001000</td>\n",
       "      <td>0.047415</td>\n",
       "      <td>0.001000</td>\n",
       "      <td>0.001000</td>\n",
       "      <td>1.000000</td>\n",
       "      <td>0.396014</td>\n",
       "    </tr>\n",
       "    <tr>\n",
       "      <th>5</th>\n",
       "      <td>0.001000</td>\n",
       "      <td>0.001000</td>\n",
       "      <td>0.001000</td>\n",
       "      <td>0.001000</td>\n",
       "      <td>0.396014</td>\n",
       "      <td>1.000000</td>\n",
       "    </tr>\n",
       "  </tbody>\n",
       "</table>\n",
       "</div>"
      ],
      "text/plain": [
       "          0         1         2         3         4         5\n",
       "0  1.000000  0.004535  0.900000  0.015819  0.001000  0.001000\n",
       "1  0.004535  1.000000  0.033473  0.001000  0.047415  0.001000\n",
       "2  0.900000  0.033473  1.000000  0.001822  0.001000  0.001000\n",
       "3  0.015819  0.001000  0.001822  1.000000  0.001000  0.001000\n",
       "4  0.001000  0.047415  0.001000  0.001000  1.000000  0.396014\n",
       "5  0.001000  0.001000  0.001000  0.001000  0.396014  1.000000"
      ]
     },
     "execution_count": 4,
     "metadata": {},
     "output_type": "execute_result"
    }
   ],
   "source": [
    "sp.posthoc_nemenyi_friedman(data)"
   ]
  }
 ],
 "metadata": {
  "kernelspec": {
   "display_name": "Python 3",
   "language": "python",
   "name": "python3"
  },
  "language_info": {
   "codemirror_mode": {
    "name": "ipython",
    "version": 3
   },
   "file_extension": ".py",
   "mimetype": "text/x-python",
   "name": "python",
   "nbconvert_exporter": "python",
   "pygments_lexer": "ipython3",
   "version": "3.11.7"
  }
 },
 "nbformat": 4,
 "nbformat_minor": 2
}
