{
 "cells": [
  {
   "cell_type": "code",
   "execution_count": 1,
   "metadata": {},
   "outputs": [],
   "source": [
    "import numpy as np\n",
    "from scipy.stats import friedmanchisquare\n",
    "\n",
    "import pandas as pd"
   ]
  },
  {
   "cell_type": "code",
   "execution_count": 2,
   "metadata": {},
   "outputs": [],
   "source": [
    "# Datasets\n",
    "datasets = ['aids']\n",
    "\n",
    "# Machine Learning models\n",
    "models = ['LogisticRegression', 'SVC', 'RandomForestClassifier', 'GradientBoostingClassifier','ResidualNeuralNetwork', 'MultiLayerNeuralNetwork']\n",
    "\n",
    "# Experiment options\n",
    "subsampling_options = ['False']\n",
    "feature_reduction_options = ['True']\n",
    "\n",
    "results = []\n",
    "for model in models:\n",
    "    for ss_opt in subsampling_options:\n",
    "        for fr_opt in feature_reduction_options:\n",
    "            filename = f'aids_{ss_opt}_{fr_opt}_{model}'\n",
    "            path = f'../results_new_linux_results/{filename}.csv'\n",
    "            df = pd.read_csv(path, index_col=False)\n",
    "            results.append([])\n",
    "            test = df['accuracy'].tolist()\n",
    "            results.append(test)"
   ]
  },
  {
   "cell_type": "code",
   "execution_count": 3,
   "metadata": {},
   "outputs": [],
   "source": [
    "while [] in results :\n",
    "    results.remove([])"
   ]
  },
  {
   "cell_type": "code",
   "execution_count": 4,
   "metadata": {},
   "outputs": [
    {
     "name": "stdout",
     "output_type": "stream",
     "text": [
      "Friedman Test Statistic: 166.90337739081232\n",
      "P-value: 9.291712469467574e-18\n",
      "The Friedman Test indicates a significant difference among the models.\n"
     ]
    }
   ],
   "source": [
    "\n",
    "# Assuming you have a performance metric (e.g., accuracy) for each model stored in a 2D array or list\n",
    "# Each row corresponds to a model, and each column corresponds to a different experiment or dataset\n",
    "\n",
    "# Combine the data into a 2D array\n",
    "data = np.array(results)\n",
    "\n",
    "# Transpose the array so that rows represent datasets and columns represent models\n",
    "data = data.T\n",
    "\n",
    "# Perform the Friedman Test\n",
    "statistic, p_value = friedmanchisquare(*data)\n",
    "\n",
    "# Output the results\n",
    "print(f\"Friedman Test Statistic: {statistic}\")\n",
    "print(f\"P-value: {p_value}\")\n",
    "\n",
    "# Check for statistical significance (common significance level is 0.05)\n",
    "if p_value < 0.05:\n",
    "    print(\"The Friedman Test indicates a significant difference among the models.\")\n",
    "else:\n",
    "    print(\"The Friedman Test does not indicate a significant difference among the models.\")\n"
   ]
  }
 ],
 "metadata": {
  "kernelspec": {
   "display_name": "Python 3",
   "language": "python",
   "name": "python3"
  },
  "language_info": {
   "codemirror_mode": {
    "name": "ipython",
    "version": 3
   },
   "file_extension": ".py",
   "mimetype": "text/x-python",
   "name": "python",
   "nbconvert_exporter": "python",
   "pygments_lexer": "ipython3",
   "version": "3.11.7"
  }
 },
 "nbformat": 4,
 "nbformat_minor": 2
}
