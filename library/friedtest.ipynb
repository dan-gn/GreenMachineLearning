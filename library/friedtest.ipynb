{
 "cells": [
  {
   "cell_type": "code",
   "execution_count": 1,
   "metadata": {},
   "outputs": [],
   "source": [
    "import numpy as np\n",
    "from scipy.stats import friedmanchisquare\n",
    "import scikit_posthocs as sp\n",
    "import pandas as pd"
   ]
  },
  {
   "cell_type": "code",
   "execution_count": 2,
   "metadata": {},
   "outputs": [],
   "source": [
    "# Datasets\n",
    "datasets = ['aids','malware','students']\n",
    "test2 = {}\n",
    "test3 = {}\n",
    "results = []\n",
    "\n",
    "# Machine Learning models\n",
    "models = ['LogisticRegression', 'SVC', 'RandomForestClassifier', 'GradientBoostingClassifier','ResidualNeuralNetwork', 'MultiLayerNeuralNetwork']\n",
    "\n",
    "metrics = ['accuracy','f1_score','log_loss','preprocess_time','training_time','prediction_time','enery_prep','energy_train','energy_pred']\n",
    "\n",
    "# Experiment options\n",
    "subsampling_options = [False, True]\n",
    "feature_reduction_options = [False, True]\n",
    "\n",
    "for dataset in datasets:\n",
    "    for ss_opt in subsampling_options:\n",
    "        for fr_opt in feature_reduction_options:\n",
    "            for i, metric in enumerate(metrics):\n",
    "                for model in models:\n",
    "                    filename = f'{dataset}_{ss_opt}_{fr_opt}_{model}'\n",
    "                    path = f'../results_new_linux_results/{filename}.csv'\n",
    "                    df = pd.read_csv(path, index_col=False)\n",
    "                    test = df[metric].tolist()\n",
    "                    results.append(test)\n",
    "                data = np.array(results)\n",
    "                data = data.T\n",
    "                statistic, p_value = friedmanchisquare(*data)\n",
    "                test2[f'{dataset}_{ss_opt}_{fr_opt}_{metric}'] = p_value\n",
    "                results = []"
   ]
  },
  {
   "cell_type": "code",
   "execution_count": 6,
   "metadata": {},
   "outputs": [],
   "source": [
    "df_ttest = pd.DataFrame.from_dict(test2, orient='index')\n",
    "df_ttest.to_csv(f'../library/p-values.csv', index=True)"
   ]
  },
  {
   "cell_type": "code",
   "execution_count": 4,
   "metadata": {},
   "outputs": [
    {
     "name": "stdout",
     "output_type": "stream",
     "text": [
      "Friedman Test Statistic: 29.429268292682877\n",
      "P-value: 0.8665940555682419\n",
      "The Friedman Test does not indicate a significant difference among the models.\n"
     ]
    }
   ],
   "source": [
    "'''\n",
    "\n",
    "datasets = ['aids']\n",
    " \n",
    "# Machine Learning models\n",
    "models = ['LogisticRegression', 'SVC', 'RandomForestClassifier', 'GradientBoostingClassifier','ResidualNeuralNetwork', 'MultiLayerNeuralNetwork']\n",
    " \n",
    "# Experiment options\n",
    "subsampling_options = ['False']\n",
    "feature_reduction_options = ['True']\n",
    "results = []\n",
    "for model in models:\n",
    "    for ss_opt in subsampling_options:\n",
    "        for fr_opt in feature_reduction_options:\n",
    "            filename = f'aids_{ss_opt}_{fr_opt}_{model}'\n",
    "            path = f'../results_new_linux_results/{filename}.csv'\n",
    "            df = pd.read_csv(path, index_col=False)\n",
    "            #results.append([])\n",
    "            test = df['energy_pred'].tolist()\n",
    "            results.append(test)\n",
    "            \n",
    "# Combine the data into a 2D array\n",
    "data = np.array(results)\n",
    "\n",
    "# Transpose the array so that rows represent datasets and columns represent models\n",
    "data = data.T\n",
    "\n",
    "# Perform the Friedman Test\n",
    "statistic, p_value = friedmanchisquare(*data)\n",
    "test2 = {}\n",
    "test2['energy_pred'] = p_value\n",
    "\n",
    "# Output the results\n",
    "print(f\"Friedman Test Statistic: {statistic}\")\n",
    "print(f\"P-value: {p_value}\")\n",
    "\n",
    "# Check for statistical significance (common significance level is 0.05)\n",
    "if p_value < 0.05:\n",
    "    print(\"The Friedman Test indicates a significant difference among the models.\")\n",
    "else:\n",
    "    print(\"The Friedman Test does not indicate a significant difference among the models.\")\n",
    "'''"
   ]
  },
  {
   "cell_type": "code",
   "execution_count": null,
   "metadata": {},
   "outputs": [],
   "source": [
    "sp.posthoc_nemenyi_friedman(data)"
   ]
  }
 ],
 "metadata": {
  "kernelspec": {
   "display_name": "Python 3",
   "language": "python",
   "name": "python3"
  },
  "language_info": {
   "codemirror_mode": {
    "name": "ipython",
    "version": 3
   },
   "file_extension": ".py",
   "mimetype": "text/x-python",
   "name": "python",
   "nbconvert_exporter": "python",
   "pygments_lexer": "ipython3",
   "version": "3.11.7"
  }
 },
 "nbformat": 4,
 "nbformat_minor": 2
}
