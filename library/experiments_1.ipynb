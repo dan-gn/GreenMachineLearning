{
 "cells": [
  {
   "cell_type": "code",
   "execution_count": 1,
   "metadata": {},
   "outputs": [],
   "source": [
    "# Experiment library\n",
    "from experiment import Experiment"
   ]
  },
  {
   "cell_type": "code",
   "execution_count": 2,
   "metadata": {},
   "outputs": [],
   "source": [
    "import numpy as np\n",
    "np.random.seed(0)"
   ]
  },
  {
   "cell_type": "code",
   "execution_count": 3,
   "metadata": {},
   "outputs": [],
   "source": [
    "# Testing dataset\n",
    "from sklearn.datasets import make_classification\n",
    "X, y = make_classification(n_samples=1000, n_features=4,\n",
    "                           n_informative=2, n_redundant=0,\n",
    "                           random_state=0, shuffle=False)"
   ]
  },
  {
   "cell_type": "markdown",
   "metadata": {},
   "source": [
    "Experiments:\n",
    "* Full sample\n",
    "* Subsampling\n",
    "* Feature reduction\n",
    "* Subsampling and Feature reduction\n",
    "\n",
    "Repeat the experiments with 5 different models and 3 different datasets."
   ]
  },
  {
   "cell_type": "code",
   "execution_count": 9,
   "metadata": {},
   "outputs": [],
   "source": [
    "models = ['LogisticRegression', 'SVC', 'RandomForestClassifier', 'GradientBoostingClassifier','DeepNeuralNetwork']\n",
    "\n",
    "exp = Experiment(models[0], X, y, subsampling=False, feature_reduction=False)\n",
    "\n",
    "results = exp.run()"
   ]
  },
  {
   "cell_type": "code",
   "execution_count": 10,
   "metadata": {},
   "outputs": [
    {
     "data": {
      "text/plain": [
       "0.9470000000000001"
      ]
     },
     "execution_count": 10,
     "metadata": {},
     "output_type": "execute_result"
    }
   ],
   "source": [
    "np.mean(exp.get_mesaure('accuracy'))"
   ]
  },
  {
   "cell_type": "code",
   "execution_count": 5,
   "metadata": {},
   "outputs": [],
   "source": [
    "import pandas as pd\n",
    "\n",
    "metrics = {'Accuracy': exp.get_mesaure('accuracy'),\n",
    "           'Log Loss': exp.get_mesaure('log_loss'),\n",
    "           'Model size': exp.get_mesaure('model_size'),\n",
    "           'AUC': exp.get_mesaure('auc'),\n",
    "           'Training time': exp.get_mesaure('training_time'),\n",
    "           'Prediction time': exp.get_mesaure('prediciton_time'),\n",
    "           'TPR': exp.get_mesaure('tpr'),\n",
    "           'FPR': exp.get_mesaure('fpr')\n",
    "           }\n",
    "\n",
    "results = pd.DataFrame(metrics)\n",
    "results.to_csv(models[3], index=False)\n",
    "\n"
   ]
  },
  {
   "cell_type": "code",
   "execution_count": 6,
   "metadata": {},
   "outputs": [
    {
     "ename": "ModuleNotFoundError",
     "evalue": "No module named 'plotly'",
     "output_type": "error",
     "traceback": [
      "\u001b[1;31m---------------------------------------------------------------------------\u001b[0m",
      "\u001b[1;31mModuleNotFoundError\u001b[0m                       Traceback (most recent call last)",
      "\u001b[1;32mc:\\Users\\23252359\\Documents\\PhD\\Group Project\\Code\\GreenMachineLearning\\library\\experiments_1.ipynb Cell 7\u001b[0m line \u001b[0;36m1\n\u001b[1;32m----> <a href='vscode-notebook-cell:/c%3A/Users/23252359/Documents/PhD/Group%20Project/Code/GreenMachineLearning/library/experiments_1.ipynb#W4sZmlsZQ%3D%3D?line=0'>1</a>\u001b[0m \u001b[39mimport\u001b[39;00m \u001b[39mplotly\u001b[39;00m\u001b[39m.\u001b[39;00m\u001b[39mgraph_objects\u001b[39;00m \u001b[39mas\u001b[39;00m \u001b[39mpx\u001b[39;00m\n\u001b[0;32m      <a href='vscode-notebook-cell:/c%3A/Users/23252359/Documents/PhD/Group%20Project/Code/GreenMachineLearning/library/experiments_1.ipynb#W4sZmlsZQ%3D%3D?line=1'>2</a>\u001b[0m \u001b[39mfrom\u001b[39;00m \u001b[39mplotly\u001b[39;00m\u001b[39m.\u001b[39;00m\u001b[39msubplots\u001b[39;00m \u001b[39mimport\u001b[39;00m make_subplots\n\u001b[0;32m      <a href='vscode-notebook-cell:/c%3A/Users/23252359/Documents/PhD/Group%20Project/Code/GreenMachineLearning/library/experiments_1.ipynb#W4sZmlsZQ%3D%3D?line=3'>4</a>\u001b[0m \u001b[39m#fig = make_subplots(rows=2, cols=3,specs=[[{\"type\": \"box\"}, {\"type\": \"box\"}, {\"type\": \"box\"}], [{\"type\": \"box\"}, {\"type\": \"box\"}, {\"type\": \"box\"}]])\u001b[39;00m\n",
      "\u001b[1;31mModuleNotFoundError\u001b[0m: No module named 'plotly'"
     ]
    }
   ],
   "source": [
    "import plotly.graph_objects as px\n",
    "from plotly.subplots import make_subplots\n",
    "\n",
    "#fig = make_subplots(rows=2, cols=3,specs=[[{\"type\": \"box\"}, {\"type\": \"box\"}, {\"type\": \"box\"}], [{\"type\": \"box\"}, {\"type\": \"box\"}, {\"type\": \"box\"}]])\n",
    "\n",
    "fig = make_subplots(rows=2,cols=3)\n",
    "\n",
    "fig.add_box(y=metrics['Accuracy'], name='Accuracy',\n",
    "              row=1, col=1)\n",
    "fig.add_box(y=metrics['Log Loss'], name='Log Loss',\n",
    "              row=1, col=2)\n",
    "fig.add_box(y=metrics['AUC'], name='AUC',\n",
    "              row=1, col=3)\n",
    "fig.add_box(y=metrics['Model size'], name='Model size',\n",
    "              row=2, col=1)\n",
    "fig.add_box(y=metrics['Training time'], name='Training time',\n",
    "              row=2, col=2)\n",
    "fig.add_box(y=metrics['Prediction time'], name='Prediction time',\n",
    "              row=2, col=3)\n",
    "\n",
    "fig.show()\n"
   ]
  }
 ],
 "metadata": {
  "kernelspec": {
   "display_name": "base",
   "language": "python",
   "name": "python3"
  },
  "language_info": {
   "codemirror_mode": {
    "name": "ipython",
    "version": 3
   },
   "file_extension": ".py",
   "mimetype": "text/x-python",
   "name": "python",
   "nbconvert_exporter": "python",
   "pygments_lexer": "ipython3",
   "version": "3.11.5"
  },
  "orig_nbformat": 4
 },
 "nbformat": 4,
 "nbformat_minor": 2
}
