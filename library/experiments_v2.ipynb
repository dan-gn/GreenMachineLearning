{
 "cells": [
  {
   "cell_type": "code",
   "execution_count": 1,
   "metadata": {},
   "outputs": [],
   "source": [
    "from experiment import Experiment\n",
    "from ucimlrepo import fetch_ucirepo "
   ]
  },
  {
   "cell_type": "code",
   "execution_count": 2,
   "metadata": {},
   "outputs": [],
   "source": [
    "import numpy as np\n",
    "np.random.seed(0)"
   ]
  },
  {
   "cell_type": "code",
   "execution_count": 3,
   "metadata": {},
   "outputs": [],
   "source": [
    "# Machine Learning models\n",
    "models = ['LogisticRegression', 'SVC', 'RandomForestClassifier', 'GradientBoostingClassifier','DeepNeuralNetwork']"
   ]
  },
  {
   "cell_type": "markdown",
   "metadata": {},
   "source": [
    "# Dataset 1: AIDS Clinical Trials Group Study 175"
   ]
  },
  {
   "cell_type": "code",
   "execution_count": 4,
   "metadata": {},
   "outputs": [],
   "source": [
    "# fetch dataset \n",
    "aids_clinical_trials_group_study_175 = fetch_ucirepo(id=890) \n",
    "  \n",
    "# data (as pandas dataframes) \n",
    "X = aids_clinical_trials_group_study_175.data.features.to_numpy() \n",
    "y = aids_clinical_trials_group_study_175.data.targets.to_numpy()"
   ]
  },
  {
   "cell_type": "code",
   "execution_count": 5,
   "metadata": {},
   "outputs": [
    {
     "data": {
      "text/plain": [
       "((2139, 23), (2139, 1))"
      ]
     },
     "execution_count": 5,
     "metadata": {},
     "output_type": "execute_result"
    }
   ],
   "source": [
    "X.shape, y.shape"
   ]
  },
  {
   "cell_type": "code",
   "execution_count": 23,
   "metadata": {},
   "outputs": [
    {
     "name": "stderr",
     "output_type": "stream",
     "text": [
      "c:\\Users\\23250023\\AppData\\Local\\Programs\\Python\\Python311\\Lib\\site-packages\\sklearn\\utils\\deprecation.py:101: FutureWarning: Attribute `base_estimator_` was deprecated in version 1.2 and will be removed in 1.4. Use `estimator_` instead.\n",
      "  warnings.warn(msg, category=FutureWarning)\n",
      "c:\\Users\\23250023\\AppData\\Local\\Programs\\Python\\Python311\\Lib\\site-packages\\sklearn\\utils\\deprecation.py:101: FutureWarning: Attribute `base_estimator_` was deprecated in version 1.2 and will be removed in 1.4. Use `estimator_` instead.\n",
      "  warnings.warn(msg, category=FutureWarning)\n",
      "c:\\Users\\23250023\\AppData\\Local\\Programs\\Python\\Python311\\Lib\\site-packages\\sklearn\\utils\\deprecation.py:101: FutureWarning: Attribute `base_estimator_` was deprecated in version 1.2 and will be removed in 1.4. Use `estimator_` instead.\n",
      "  warnings.warn(msg, category=FutureWarning)\n",
      "c:\\Users\\23250023\\AppData\\Local\\Programs\\Python\\Python311\\Lib\\site-packages\\sklearn\\utils\\deprecation.py:101: FutureWarning: Attribute `base_estimator_` was deprecated in version 1.2 and will be removed in 1.4. Use `estimator_` instead.\n",
      "  warnings.warn(msg, category=FutureWarning)\n",
      "c:\\Users\\23250023\\AppData\\Local\\Programs\\Python\\Python311\\Lib\\site-packages\\sklearn\\utils\\deprecation.py:101: FutureWarning: Attribute `base_estimator_` was deprecated in version 1.2 and will be removed in 1.4. Use `estimator_` instead.\n",
      "  warnings.warn(msg, category=FutureWarning)\n",
      "c:\\Users\\23250023\\AppData\\Local\\Programs\\Python\\Python311\\Lib\\site-packages\\sklearn\\utils\\deprecation.py:101: FutureWarning: Attribute `base_estimator_` was deprecated in version 1.2 and will be removed in 1.4. Use `estimator_` instead.\n",
      "  warnings.warn(msg, category=FutureWarning)\n",
      "c:\\Users\\23250023\\AppData\\Local\\Programs\\Python\\Python311\\Lib\\site-packages\\sklearn\\utils\\deprecation.py:101: FutureWarning: Attribute `base_estimator_` was deprecated in version 1.2 and will be removed in 1.4. Use `estimator_` instead.\n",
      "  warnings.warn(msg, category=FutureWarning)\n",
      "c:\\Users\\23250023\\AppData\\Local\\Programs\\Python\\Python311\\Lib\\site-packages\\sklearn\\utils\\deprecation.py:101: FutureWarning: Attribute `base_estimator_` was deprecated in version 1.2 and will be removed in 1.4. Use `estimator_` instead.\n",
      "  warnings.warn(msg, category=FutureWarning)\n",
      "c:\\Users\\23250023\\AppData\\Local\\Programs\\Python\\Python311\\Lib\\site-packages\\sklearn\\utils\\deprecation.py:101: FutureWarning: Attribute `base_estimator_` was deprecated in version 1.2 and will be removed in 1.4. Use `estimator_` instead.\n",
      "  warnings.warn(msg, category=FutureWarning)\n",
      "c:\\Users\\23250023\\AppData\\Local\\Programs\\Python\\Python311\\Lib\\site-packages\\sklearn\\utils\\deprecation.py:101: FutureWarning: Attribute `base_estimator_` was deprecated in version 1.2 and will be removed in 1.4. Use `estimator_` instead.\n",
      "  warnings.warn(msg, category=FutureWarning)\n",
      "c:\\Users\\23250023\\AppData\\Local\\Programs\\Python\\Python311\\Lib\\site-packages\\sklearn\\utils\\deprecation.py:101: FutureWarning: Attribute `base_estimator_` was deprecated in version 1.2 and will be removed in 1.4. Use `estimator_` instead.\n",
      "  warnings.warn(msg, category=FutureWarning)\n",
      "c:\\Users\\23250023\\AppData\\Local\\Programs\\Python\\Python311\\Lib\\site-packages\\sklearn\\utils\\deprecation.py:101: FutureWarning: Attribute `base_estimator_` was deprecated in version 1.2 and will be removed in 1.4. Use `estimator_` instead.\n",
      "  warnings.warn(msg, category=FutureWarning)\n",
      "c:\\Users\\23250023\\AppData\\Local\\Programs\\Python\\Python311\\Lib\\site-packages\\sklearn\\utils\\deprecation.py:101: FutureWarning: Attribute `base_estimator_` was deprecated in version 1.2 and will be removed in 1.4. Use `estimator_` instead.\n",
      "  warnings.warn(msg, category=FutureWarning)\n",
      "c:\\Users\\23250023\\AppData\\Local\\Programs\\Python\\Python311\\Lib\\site-packages\\sklearn\\utils\\deprecation.py:101: FutureWarning: Attribute `base_estimator_` was deprecated in version 1.2 and will be removed in 1.4. Use `estimator_` instead.\n",
      "  warnings.warn(msg, category=FutureWarning)\n",
      "c:\\Users\\23250023\\AppData\\Local\\Programs\\Python\\Python311\\Lib\\site-packages\\sklearn\\utils\\deprecation.py:101: FutureWarning: Attribute `base_estimator_` was deprecated in version 1.2 and will be removed in 1.4. Use `estimator_` instead.\n",
      "  warnings.warn(msg, category=FutureWarning)\n",
      "c:\\Users\\23250023\\AppData\\Local\\Programs\\Python\\Python311\\Lib\\site-packages\\sklearn\\utils\\deprecation.py:101: FutureWarning: Attribute `base_estimator_` was deprecated in version 1.2 and will be removed in 1.4. Use `estimator_` instead.\n",
      "  warnings.warn(msg, category=FutureWarning)\n",
      "c:\\Users\\23250023\\AppData\\Local\\Programs\\Python\\Python311\\Lib\\site-packages\\sklearn\\utils\\deprecation.py:101: FutureWarning: Attribute `base_estimator_` was deprecated in version 1.2 and will be removed in 1.4. Use `estimator_` instead.\n",
      "  warnings.warn(msg, category=FutureWarning)\n",
      "c:\\Users\\23250023\\AppData\\Local\\Programs\\Python\\Python311\\Lib\\site-packages\\sklearn\\utils\\deprecation.py:101: FutureWarning: Attribute `base_estimator_` was deprecated in version 1.2 and will be removed in 1.4. Use `estimator_` instead.\n",
      "  warnings.warn(msg, category=FutureWarning)\n",
      "c:\\Users\\23250023\\AppData\\Local\\Programs\\Python\\Python311\\Lib\\site-packages\\sklearn\\utils\\deprecation.py:101: FutureWarning: Attribute `base_estimator_` was deprecated in version 1.2 and will be removed in 1.4. Use `estimator_` instead.\n",
      "  warnings.warn(msg, category=FutureWarning)\n",
      "c:\\Users\\23250023\\AppData\\Local\\Programs\\Python\\Python311\\Lib\\site-packages\\sklearn\\utils\\deprecation.py:101: FutureWarning: Attribute `base_estimator_` was deprecated in version 1.2 and will be removed in 1.4. Use `estimator_` instead.\n",
      "  warnings.warn(msg, category=FutureWarning)\n",
      "c:\\Users\\23250023\\AppData\\Local\\Programs\\Python\\Python311\\Lib\\site-packages\\sklearn\\utils\\deprecation.py:101: FutureWarning: Attribute `base_estimator_` was deprecated in version 1.2 and will be removed in 1.4. Use `estimator_` instead.\n",
      "  warnings.warn(msg, category=FutureWarning)\n",
      "c:\\Users\\23250023\\AppData\\Local\\Programs\\Python\\Python311\\Lib\\site-packages\\sklearn\\utils\\deprecation.py:101: FutureWarning: Attribute `base_estimator_` was deprecated in version 1.2 and will be removed in 1.4. Use `estimator_` instead.\n",
      "  warnings.warn(msg, category=FutureWarning)\n",
      "c:\\Users\\23250023\\AppData\\Local\\Programs\\Python\\Python311\\Lib\\site-packages\\sklearn\\utils\\deprecation.py:101: FutureWarning: Attribute `base_estimator_` was deprecated in version 1.2 and will be removed in 1.4. Use `estimator_` instead.\n",
      "  warnings.warn(msg, category=FutureWarning)\n",
      "c:\\Users\\23250023\\AppData\\Local\\Programs\\Python\\Python311\\Lib\\site-packages\\sklearn\\utils\\deprecation.py:101: FutureWarning: Attribute `base_estimator_` was deprecated in version 1.2 and will be removed in 1.4. Use `estimator_` instead.\n",
      "  warnings.warn(msg, category=FutureWarning)\n",
      "c:\\Users\\23250023\\AppData\\Local\\Programs\\Python\\Python311\\Lib\\site-packages\\sklearn\\utils\\deprecation.py:101: FutureWarning: Attribute `base_estimator_` was deprecated in version 1.2 and will be removed in 1.4. Use `estimator_` instead.\n",
      "  warnings.warn(msg, category=FutureWarning)\n",
      "c:\\Users\\23250023\\AppData\\Local\\Programs\\Python\\Python311\\Lib\\site-packages\\sklearn\\utils\\deprecation.py:101: FutureWarning: Attribute `base_estimator_` was deprecated in version 1.2 and will be removed in 1.4. Use `estimator_` instead.\n",
      "  warnings.warn(msg, category=FutureWarning)\n",
      "c:\\Users\\23250023\\AppData\\Local\\Programs\\Python\\Python311\\Lib\\site-packages\\sklearn\\utils\\deprecation.py:101: FutureWarning: Attribute `base_estimator_` was deprecated in version 1.2 and will be removed in 1.4. Use `estimator_` instead.\n",
      "  warnings.warn(msg, category=FutureWarning)\n",
      "c:\\Users\\23250023\\AppData\\Local\\Programs\\Python\\Python311\\Lib\\site-packages\\sklearn\\utils\\deprecation.py:101: FutureWarning: Attribute `base_estimator_` was deprecated in version 1.2 and will be removed in 1.4. Use `estimator_` instead.\n",
      "  warnings.warn(msg, category=FutureWarning)\n",
      "c:\\Users\\23250023\\AppData\\Local\\Programs\\Python\\Python311\\Lib\\site-packages\\sklearn\\utils\\deprecation.py:101: FutureWarning: Attribute `base_estimator_` was deprecated in version 1.2 and will be removed in 1.4. Use `estimator_` instead.\n",
      "  warnings.warn(msg, category=FutureWarning)\n",
      "c:\\Users\\23250023\\AppData\\Local\\Programs\\Python\\Python311\\Lib\\site-packages\\sklearn\\utils\\deprecation.py:101: FutureWarning: Attribute `base_estimator_` was deprecated in version 1.2 and will be removed in 1.4. Use `estimator_` instead.\n",
      "  warnings.warn(msg, category=FutureWarning)\n",
      "c:\\Users\\23250023\\AppData\\Local\\Programs\\Python\\Python311\\Lib\\site-packages\\sklearn\\utils\\deprecation.py:101: FutureWarning: Attribute `base_estimator_` was deprecated in version 1.2 and will be removed in 1.4. Use `estimator_` instead.\n",
      "  warnings.warn(msg, category=FutureWarning)\n",
      "c:\\Users\\23250023\\AppData\\Local\\Programs\\Python\\Python311\\Lib\\site-packages\\sklearn\\utils\\deprecation.py:101: FutureWarning: Attribute `base_estimator_` was deprecated in version 1.2 and will be removed in 1.4. Use `estimator_` instead.\n",
      "  warnings.warn(msg, category=FutureWarning)\n",
      "c:\\Users\\23250023\\AppData\\Local\\Programs\\Python\\Python311\\Lib\\site-packages\\sklearn\\utils\\deprecation.py:101: FutureWarning: Attribute `base_estimator_` was deprecated in version 1.2 and will be removed in 1.4. Use `estimator_` instead.\n",
      "  warnings.warn(msg, category=FutureWarning)\n",
      "c:\\Users\\23250023\\AppData\\Local\\Programs\\Python\\Python311\\Lib\\site-packages\\sklearn\\utils\\deprecation.py:101: FutureWarning: Attribute `base_estimator_` was deprecated in version 1.2 and will be removed in 1.4. Use `estimator_` instead.\n",
      "  warnings.warn(msg, category=FutureWarning)\n",
      "c:\\Users\\23250023\\AppData\\Local\\Programs\\Python\\Python311\\Lib\\site-packages\\sklearn\\utils\\deprecation.py:101: FutureWarning: Attribute `base_estimator_` was deprecated in version 1.2 and will be removed in 1.4. Use `estimator_` instead.\n",
      "  warnings.warn(msg, category=FutureWarning)\n",
      "c:\\Users\\23250023\\AppData\\Local\\Programs\\Python\\Python311\\Lib\\site-packages\\sklearn\\utils\\deprecation.py:101: FutureWarning: Attribute `base_estimator_` was deprecated in version 1.2 and will be removed in 1.4. Use `estimator_` instead.\n",
      "  warnings.warn(msg, category=FutureWarning)\n",
      "c:\\Users\\23250023\\AppData\\Local\\Programs\\Python\\Python311\\Lib\\site-packages\\sklearn\\utils\\deprecation.py:101: FutureWarning: Attribute `base_estimator_` was deprecated in version 1.2 and will be removed in 1.4. Use `estimator_` instead.\n",
      "  warnings.warn(msg, category=FutureWarning)\n",
      "c:\\Users\\23250023\\AppData\\Local\\Programs\\Python\\Python311\\Lib\\site-packages\\sklearn\\utils\\deprecation.py:101: FutureWarning: Attribute `base_estimator_` was deprecated in version 1.2 and will be removed in 1.4. Use `estimator_` instead.\n",
      "  warnings.warn(msg, category=FutureWarning)\n",
      "c:\\Users\\23250023\\AppData\\Local\\Programs\\Python\\Python311\\Lib\\site-packages\\sklearn\\utils\\deprecation.py:101: FutureWarning: Attribute `base_estimator_` was deprecated in version 1.2 and will be removed in 1.4. Use `estimator_` instead.\n",
      "  warnings.warn(msg, category=FutureWarning)\n",
      "c:\\Users\\23250023\\AppData\\Local\\Programs\\Python\\Python311\\Lib\\site-packages\\sklearn\\utils\\deprecation.py:101: FutureWarning: Attribute `base_estimator_` was deprecated in version 1.2 and will be removed in 1.4. Use `estimator_` instead.\n",
      "  warnings.warn(msg, category=FutureWarning)\n"
     ]
    },
    {
     "name": "stdout",
     "output_type": "stream",
     "text": [
      "13/13 [==============================] - 0s 1ms/step - loss: 0.6926 - accuracy: 0.5039\n",
      "7/7 [==============================] - 0s 0s/step\n",
      "32/32 [==============================] - 0s 780us/step\n"
     ]
    },
    {
     "name": "stderr",
     "output_type": "stream",
     "text": [
      "c:\\Users\\23250023\\OneDrive - Maynooth University\\Documents\\GitHub\\GreenMachineLearning\\library\\experiment.py:23: UserWarning: `Model.state_updates` will be removed in a future version. This property should not be used in TensorFlow 2.0, as `updates` are applied automatically.\n",
      "  if not hasattr(obj, name):\n",
      "c:\\Users\\23250023\\OneDrive - Maynooth University\\Documents\\GitHub\\GreenMachineLearning\\library\\experiment.py:27: UserWarning: `Model.state_updates` will be removed in a future version. This property should not be used in TensorFlow 2.0, as `updates` are applied automatically.\n",
      "  v = getattr(obj, name)\n",
      "c:\\Users\\23250023\\OneDrive - Maynooth University\\Documents\\GitHub\\GreenMachineLearning\\library\\experiment.py:23: UserWarning: `layer.updates` will be removed in a future version. This property should not be used in TensorFlow 2.0, as `updates` are applied automatically.\n",
      "  if not hasattr(obj, name):\n",
      "c:\\Users\\23250023\\OneDrive - Maynooth University\\Documents\\GitHub\\GreenMachineLearning\\library\\experiment.py:27: UserWarning: `layer.updates` will be removed in a future version. This property should not be used in TensorFlow 2.0, as `updates` are applied automatically.\n",
      "  v = getattr(obj, name)\n"
     ]
    },
    {
     "name": "stdout",
     "output_type": "stream",
     "text": [
      "13/13 [==============================] - 0s 1ms/step - loss: 0.6380 - accuracy: 0.7065\n",
      "7/7 [==============================] - 0s 0s/step\n",
      "32/32 [==============================] - 0s 571us/step\n"
     ]
    },
    {
     "name": "stderr",
     "output_type": "stream",
     "text": [
      "c:\\Users\\23250023\\OneDrive - Maynooth University\\Documents\\GitHub\\GreenMachineLearning\\library\\experiment.py:23: UserWarning: `Model.state_updates` will be removed in a future version. This property should not be used in TensorFlow 2.0, as `updates` are applied automatically.\n",
      "  if not hasattr(obj, name):\n",
      "c:\\Users\\23250023\\OneDrive - Maynooth University\\Documents\\GitHub\\GreenMachineLearning\\library\\experiment.py:27: UserWarning: `Model.state_updates` will be removed in a future version. This property should not be used in TensorFlow 2.0, as `updates` are applied automatically.\n",
      "  v = getattr(obj, name)\n",
      "c:\\Users\\23250023\\OneDrive - Maynooth University\\Documents\\GitHub\\GreenMachineLearning\\library\\experiment.py:23: UserWarning: `layer.updates` will be removed in a future version. This property should not be used in TensorFlow 2.0, as `updates` are applied automatically.\n",
      "  if not hasattr(obj, name):\n",
      "c:\\Users\\23250023\\OneDrive - Maynooth University\\Documents\\GitHub\\GreenMachineLearning\\library\\experiment.py:27: UserWarning: `layer.updates` will be removed in a future version. This property should not be used in TensorFlow 2.0, as `updates` are applied automatically.\n",
      "  v = getattr(obj, name)\n"
     ]
    },
    {
     "name": "stdout",
     "output_type": "stream",
     "text": [
      "13/13 [==============================] - 0s 670us/step - loss: 0.6376 - accuracy: 0.6649\n",
      "7/7 [==============================] - 0s 2ms/step\n",
      "32/32 [==============================] - 0s 587us/step\n"
     ]
    },
    {
     "name": "stderr",
     "output_type": "stream",
     "text": [
      "c:\\Users\\23250023\\OneDrive - Maynooth University\\Documents\\GitHub\\GreenMachineLearning\\library\\experiment.py:23: UserWarning: `Model.state_updates` will be removed in a future version. This property should not be used in TensorFlow 2.0, as `updates` are applied automatically.\n",
      "  if not hasattr(obj, name):\n",
      "c:\\Users\\23250023\\OneDrive - Maynooth University\\Documents\\GitHub\\GreenMachineLearning\\library\\experiment.py:27: UserWarning: `Model.state_updates` will be removed in a future version. This property should not be used in TensorFlow 2.0, as `updates` are applied automatically.\n",
      "  v = getattr(obj, name)\n",
      "c:\\Users\\23250023\\OneDrive - Maynooth University\\Documents\\GitHub\\GreenMachineLearning\\library\\experiment.py:23: UserWarning: `layer.updates` will be removed in a future version. This property should not be used in TensorFlow 2.0, as `updates` are applied automatically.\n",
      "  if not hasattr(obj, name):\n",
      "c:\\Users\\23250023\\OneDrive - Maynooth University\\Documents\\GitHub\\GreenMachineLearning\\library\\experiment.py:27: UserWarning: `layer.updates` will be removed in a future version. This property should not be used in TensorFlow 2.0, as `updates` are applied automatically.\n",
      "  v = getattr(obj, name)\n"
     ]
    },
    {
     "name": "stdout",
     "output_type": "stream",
     "text": [
      "13/13 [==============================] - 0s 1ms/step - loss: 0.6107 - accuracy: 0.7247\n",
      "7/7 [==============================] - 0s 2ms/step\n",
      "32/32 [==============================] - 0s 620us/step\n"
     ]
    },
    {
     "name": "stderr",
     "output_type": "stream",
     "text": [
      "c:\\Users\\23250023\\OneDrive - Maynooth University\\Documents\\GitHub\\GreenMachineLearning\\library\\experiment.py:23: UserWarning: `Model.state_updates` will be removed in a future version. This property should not be used in TensorFlow 2.0, as `updates` are applied automatically.\n",
      "  if not hasattr(obj, name):\n",
      "c:\\Users\\23250023\\OneDrive - Maynooth University\\Documents\\GitHub\\GreenMachineLearning\\library\\experiment.py:27: UserWarning: `Model.state_updates` will be removed in a future version. This property should not be used in TensorFlow 2.0, as `updates` are applied automatically.\n",
      "  v = getattr(obj, name)\n",
      "c:\\Users\\23250023\\OneDrive - Maynooth University\\Documents\\GitHub\\GreenMachineLearning\\library\\experiment.py:23: UserWarning: `layer.updates` will be removed in a future version. This property should not be used in TensorFlow 2.0, as `updates` are applied automatically.\n",
      "  if not hasattr(obj, name):\n",
      "c:\\Users\\23250023\\OneDrive - Maynooth University\\Documents\\GitHub\\GreenMachineLearning\\library\\experiment.py:27: UserWarning: `layer.updates` will be removed in a future version. This property should not be used in TensorFlow 2.0, as `updates` are applied automatically.\n",
      "  v = getattr(obj, name)\n"
     ]
    },
    {
     "name": "stdout",
     "output_type": "stream",
     "text": [
      "13/13 [==============================] - 0s 1ms/step - loss: 0.6179 - accuracy: 0.7481\n",
      "7/7 [==============================] - 0s 0s/step\n",
      "32/32 [==============================] - 0s 731us/step\n"
     ]
    },
    {
     "name": "stderr",
     "output_type": "stream",
     "text": [
      "c:\\Users\\23250023\\OneDrive - Maynooth University\\Documents\\GitHub\\GreenMachineLearning\\library\\experiment.py:23: UserWarning: `Model.state_updates` will be removed in a future version. This property should not be used in TensorFlow 2.0, as `updates` are applied automatically.\n",
      "  if not hasattr(obj, name):\n",
      "c:\\Users\\23250023\\OneDrive - Maynooth University\\Documents\\GitHub\\GreenMachineLearning\\library\\experiment.py:27: UserWarning: `Model.state_updates` will be removed in a future version. This property should not be used in TensorFlow 2.0, as `updates` are applied automatically.\n",
      "  v = getattr(obj, name)\n",
      "c:\\Users\\23250023\\OneDrive - Maynooth University\\Documents\\GitHub\\GreenMachineLearning\\library\\experiment.py:23: UserWarning: `layer.updates` will be removed in a future version. This property should not be used in TensorFlow 2.0, as `updates` are applied automatically.\n",
      "  if not hasattr(obj, name):\n",
      "c:\\Users\\23250023\\OneDrive - Maynooth University\\Documents\\GitHub\\GreenMachineLearning\\library\\experiment.py:27: UserWarning: `layer.updates` will be removed in a future version. This property should not be used in TensorFlow 2.0, as `updates` are applied automatically.\n",
      "  v = getattr(obj, name)\n"
     ]
    },
    {
     "name": "stdout",
     "output_type": "stream",
     "text": [
      "13/13 [==============================] - 0s 1ms/step - loss: 0.6136 - accuracy: 0.7896\n",
      "7/7 [==============================] - 0s 0s/step\n",
      "32/32 [==============================] - 0s 849us/step\n"
     ]
    },
    {
     "name": "stderr",
     "output_type": "stream",
     "text": [
      "c:\\Users\\23250023\\OneDrive - Maynooth University\\Documents\\GitHub\\GreenMachineLearning\\library\\experiment.py:23: UserWarning: `Model.state_updates` will be removed in a future version. This property should not be used in TensorFlow 2.0, as `updates` are applied automatically.\n",
      "  if not hasattr(obj, name):\n",
      "c:\\Users\\23250023\\OneDrive - Maynooth University\\Documents\\GitHub\\GreenMachineLearning\\library\\experiment.py:27: UserWarning: `Model.state_updates` will be removed in a future version. This property should not be used in TensorFlow 2.0, as `updates` are applied automatically.\n",
      "  v = getattr(obj, name)\n",
      "c:\\Users\\23250023\\OneDrive - Maynooth University\\Documents\\GitHub\\GreenMachineLearning\\library\\experiment.py:23: UserWarning: `layer.updates` will be removed in a future version. This property should not be used in TensorFlow 2.0, as `updates` are applied automatically.\n",
      "  if not hasattr(obj, name):\n",
      "c:\\Users\\23250023\\OneDrive - Maynooth University\\Documents\\GitHub\\GreenMachineLearning\\library\\experiment.py:27: UserWarning: `layer.updates` will be removed in a future version. This property should not be used in TensorFlow 2.0, as `updates` are applied automatically.\n",
      "  v = getattr(obj, name)\n"
     ]
    },
    {
     "name": "stdout",
     "output_type": "stream",
     "text": [
      "13/13 [==============================] - 0s 1ms/step - loss: 0.6699 - accuracy: 0.5948\n",
      "7/7 [==============================] - 0s 1ms/step\n",
      "32/32 [==============================] - 0s 804us/step\n"
     ]
    },
    {
     "name": "stderr",
     "output_type": "stream",
     "text": [
      "c:\\Users\\23250023\\OneDrive - Maynooth University\\Documents\\GitHub\\GreenMachineLearning\\library\\experiment.py:23: UserWarning: `Model.state_updates` will be removed in a future version. This property should not be used in TensorFlow 2.0, as `updates` are applied automatically.\n",
      "  if not hasattr(obj, name):\n",
      "c:\\Users\\23250023\\OneDrive - Maynooth University\\Documents\\GitHub\\GreenMachineLearning\\library\\experiment.py:27: UserWarning: `Model.state_updates` will be removed in a future version. This property should not be used in TensorFlow 2.0, as `updates` are applied automatically.\n",
      "  v = getattr(obj, name)\n",
      "c:\\Users\\23250023\\OneDrive - Maynooth University\\Documents\\GitHub\\GreenMachineLearning\\library\\experiment.py:23: UserWarning: `layer.updates` will be removed in a future version. This property should not be used in TensorFlow 2.0, as `updates` are applied automatically.\n",
      "  if not hasattr(obj, name):\n",
      "c:\\Users\\23250023\\OneDrive - Maynooth University\\Documents\\GitHub\\GreenMachineLearning\\library\\experiment.py:27: UserWarning: `layer.updates` will be removed in a future version. This property should not be used in TensorFlow 2.0, as `updates` are applied automatically.\n",
      "  v = getattr(obj, name)\n"
     ]
    },
    {
     "name": "stdout",
     "output_type": "stream",
     "text": [
      "13/13 [==============================] - 1s 1ms/step - loss: 0.6447 - accuracy: 0.7506\n",
      "7/7 [==============================] - 0s 0s/step\n",
      "32/32 [==============================] - 0s 1ms/step\n"
     ]
    },
    {
     "name": "stderr",
     "output_type": "stream",
     "text": [
      "c:\\Users\\23250023\\OneDrive - Maynooth University\\Documents\\GitHub\\GreenMachineLearning\\library\\experiment.py:23: UserWarning: `Model.state_updates` will be removed in a future version. This property should not be used in TensorFlow 2.0, as `updates` are applied automatically.\n",
      "  if not hasattr(obj, name):\n",
      "c:\\Users\\23250023\\OneDrive - Maynooth University\\Documents\\GitHub\\GreenMachineLearning\\library\\experiment.py:27: UserWarning: `Model.state_updates` will be removed in a future version. This property should not be used in TensorFlow 2.0, as `updates` are applied automatically.\n",
      "  v = getattr(obj, name)\n",
      "c:\\Users\\23250023\\OneDrive - Maynooth University\\Documents\\GitHub\\GreenMachineLearning\\library\\experiment.py:23: UserWarning: `layer.updates` will be removed in a future version. This property should not be used in TensorFlow 2.0, as `updates` are applied automatically.\n",
      "  if not hasattr(obj, name):\n",
      "c:\\Users\\23250023\\OneDrive - Maynooth University\\Documents\\GitHub\\GreenMachineLearning\\library\\experiment.py:27: UserWarning: `layer.updates` will be removed in a future version. This property should not be used in TensorFlow 2.0, as `updates` are applied automatically.\n",
      "  v = getattr(obj, name)\n"
     ]
    },
    {
     "name": "stdout",
     "output_type": "stream",
     "text": [
      "13/13 [==============================] - 0s 459us/step - loss: 0.6645 - accuracy: 0.6260\n",
      "7/7 [==============================] - 0s 0s/step\n",
      "32/32 [==============================] - 0s 797us/step\n"
     ]
    },
    {
     "name": "stderr",
     "output_type": "stream",
     "text": [
      "c:\\Users\\23250023\\OneDrive - Maynooth University\\Documents\\GitHub\\GreenMachineLearning\\library\\experiment.py:23: UserWarning: `Model.state_updates` will be removed in a future version. This property should not be used in TensorFlow 2.0, as `updates` are applied automatically.\n",
      "  if not hasattr(obj, name):\n",
      "c:\\Users\\23250023\\OneDrive - Maynooth University\\Documents\\GitHub\\GreenMachineLearning\\library\\experiment.py:27: UserWarning: `Model.state_updates` will be removed in a future version. This property should not be used in TensorFlow 2.0, as `updates` are applied automatically.\n",
      "  v = getattr(obj, name)\n",
      "c:\\Users\\23250023\\OneDrive - Maynooth University\\Documents\\GitHub\\GreenMachineLearning\\library\\experiment.py:23: UserWarning: `layer.updates` will be removed in a future version. This property should not be used in TensorFlow 2.0, as `updates` are applied automatically.\n",
      "  if not hasattr(obj, name):\n",
      "c:\\Users\\23250023\\OneDrive - Maynooth University\\Documents\\GitHub\\GreenMachineLearning\\library\\experiment.py:27: UserWarning: `layer.updates` will be removed in a future version. This property should not be used in TensorFlow 2.0, as `updates` are applied automatically.\n",
      "  v = getattr(obj, name)\n"
     ]
    },
    {
     "name": "stdout",
     "output_type": "stream",
     "text": [
      "13/13 [==============================] - 0s 1ms/step - loss: 0.6224 - accuracy: 0.7351\n",
      "7/7 [==============================] - 0s 258us/step\n",
      "32/32 [==============================] - 0s 866us/step\n"
     ]
    },
    {
     "name": "stderr",
     "output_type": "stream",
     "text": [
      "c:\\Users\\23250023\\OneDrive - Maynooth University\\Documents\\GitHub\\GreenMachineLearning\\library\\experiment.py:23: UserWarning: `Model.state_updates` will be removed in a future version. This property should not be used in TensorFlow 2.0, as `updates` are applied automatically.\n",
      "  if not hasattr(obj, name):\n",
      "c:\\Users\\23250023\\OneDrive - Maynooth University\\Documents\\GitHub\\GreenMachineLearning\\library\\experiment.py:27: UserWarning: `Model.state_updates` will be removed in a future version. This property should not be used in TensorFlow 2.0, as `updates` are applied automatically.\n",
      "  v = getattr(obj, name)\n",
      "c:\\Users\\23250023\\OneDrive - Maynooth University\\Documents\\GitHub\\GreenMachineLearning\\library\\experiment.py:23: UserWarning: `layer.updates` will be removed in a future version. This property should not be used in TensorFlow 2.0, as `updates` are applied automatically.\n",
      "  if not hasattr(obj, name):\n",
      "c:\\Users\\23250023\\OneDrive - Maynooth University\\Documents\\GitHub\\GreenMachineLearning\\library\\experiment.py:27: UserWarning: `layer.updates` will be removed in a future version. This property should not be used in TensorFlow 2.0, as `updates` are applied automatically.\n",
      "  v = getattr(obj, name)\n"
     ]
    },
    {
     "name": "stdout",
     "output_type": "stream",
     "text": [
      "13/13 [==============================] - 0s 1ms/step - loss: 0.6819 - accuracy: 0.5558\n",
      "7/7 [==============================] - 0s 0s/step\n",
      "32/32 [==============================] - 0s 569us/step\n"
     ]
    },
    {
     "name": "stderr",
     "output_type": "stream",
     "text": [
      "c:\\Users\\23250023\\OneDrive - Maynooth University\\Documents\\GitHub\\GreenMachineLearning\\library\\experiment.py:23: UserWarning: `Model.state_updates` will be removed in a future version. This property should not be used in TensorFlow 2.0, as `updates` are applied automatically.\n",
      "  if not hasattr(obj, name):\n",
      "c:\\Users\\23250023\\OneDrive - Maynooth University\\Documents\\GitHub\\GreenMachineLearning\\library\\experiment.py:27: UserWarning: `Model.state_updates` will be removed in a future version. This property should not be used in TensorFlow 2.0, as `updates` are applied automatically.\n",
      "  v = getattr(obj, name)\n",
      "c:\\Users\\23250023\\OneDrive - Maynooth University\\Documents\\GitHub\\GreenMachineLearning\\library\\experiment.py:23: UserWarning: `layer.updates` will be removed in a future version. This property should not be used in TensorFlow 2.0, as `updates` are applied automatically.\n",
      "  if not hasattr(obj, name):\n",
      "c:\\Users\\23250023\\OneDrive - Maynooth University\\Documents\\GitHub\\GreenMachineLearning\\library\\experiment.py:27: UserWarning: `layer.updates` will be removed in a future version. This property should not be used in TensorFlow 2.0, as `updates` are applied automatically.\n",
      "  v = getattr(obj, name)\n"
     ]
    },
    {
     "name": "stdout",
     "output_type": "stream",
     "text": [
      "13/13 [==============================] - 0s 1ms/step - loss: 0.6280 - accuracy: 0.7532\n",
      "7/7 [==============================] - 0s 0s/step\n",
      "32/32 [==============================] - 0s 962us/step\n"
     ]
    },
    {
     "name": "stderr",
     "output_type": "stream",
     "text": [
      "c:\\Users\\23250023\\OneDrive - Maynooth University\\Documents\\GitHub\\GreenMachineLearning\\library\\experiment.py:23: UserWarning: `Model.state_updates` will be removed in a future version. This property should not be used in TensorFlow 2.0, as `updates` are applied automatically.\n",
      "  if not hasattr(obj, name):\n",
      "c:\\Users\\23250023\\OneDrive - Maynooth University\\Documents\\GitHub\\GreenMachineLearning\\library\\experiment.py:27: UserWarning: `Model.state_updates` will be removed in a future version. This property should not be used in TensorFlow 2.0, as `updates` are applied automatically.\n",
      "  v = getattr(obj, name)\n",
      "c:\\Users\\23250023\\OneDrive - Maynooth University\\Documents\\GitHub\\GreenMachineLearning\\library\\experiment.py:23: UserWarning: `layer.updates` will be removed in a future version. This property should not be used in TensorFlow 2.0, as `updates` are applied automatically.\n",
      "  if not hasattr(obj, name):\n",
      "c:\\Users\\23250023\\OneDrive - Maynooth University\\Documents\\GitHub\\GreenMachineLearning\\library\\experiment.py:27: UserWarning: `layer.updates` will be removed in a future version. This property should not be used in TensorFlow 2.0, as `updates` are applied automatically.\n",
      "  v = getattr(obj, name)\n"
     ]
    },
    {
     "name": "stdout",
     "output_type": "stream",
     "text": [
      "13/13 [==============================] - 0s 1ms/step - loss: 0.6392 - accuracy: 0.7481\n",
      "7/7 [==============================] - 0s 0s/step\n",
      "32/32 [==============================] - 0s 814us/step\n"
     ]
    },
    {
     "name": "stderr",
     "output_type": "stream",
     "text": [
      "c:\\Users\\23250023\\OneDrive - Maynooth University\\Documents\\GitHub\\GreenMachineLearning\\library\\experiment.py:23: UserWarning: `Model.state_updates` will be removed in a future version. This property should not be used in TensorFlow 2.0, as `updates` are applied automatically.\n",
      "  if not hasattr(obj, name):\n",
      "c:\\Users\\23250023\\OneDrive - Maynooth University\\Documents\\GitHub\\GreenMachineLearning\\library\\experiment.py:27: UserWarning: `Model.state_updates` will be removed in a future version. This property should not be used in TensorFlow 2.0, as `updates` are applied automatically.\n",
      "  v = getattr(obj, name)\n",
      "c:\\Users\\23250023\\OneDrive - Maynooth University\\Documents\\GitHub\\GreenMachineLearning\\library\\experiment.py:23: UserWarning: `layer.updates` will be removed in a future version. This property should not be used in TensorFlow 2.0, as `updates` are applied automatically.\n",
      "  if not hasattr(obj, name):\n",
      "c:\\Users\\23250023\\OneDrive - Maynooth University\\Documents\\GitHub\\GreenMachineLearning\\library\\experiment.py:27: UserWarning: `layer.updates` will be removed in a future version. This property should not be used in TensorFlow 2.0, as `updates` are applied automatically.\n",
      "  v = getattr(obj, name)\n"
     ]
    },
    {
     "name": "stdout",
     "output_type": "stream",
     "text": [
      "13/13 [==============================] - 0s 1ms/step - loss: 0.6434 - accuracy: 0.6857\n",
      "7/7 [==============================] - 0s 334us/step\n",
      "32/32 [==============================] - 0s 835us/step\n"
     ]
    },
    {
     "name": "stderr",
     "output_type": "stream",
     "text": [
      "c:\\Users\\23250023\\OneDrive - Maynooth University\\Documents\\GitHub\\GreenMachineLearning\\library\\experiment.py:23: UserWarning: `Model.state_updates` will be removed in a future version. This property should not be used in TensorFlow 2.0, as `updates` are applied automatically.\n",
      "  if not hasattr(obj, name):\n",
      "c:\\Users\\23250023\\OneDrive - Maynooth University\\Documents\\GitHub\\GreenMachineLearning\\library\\experiment.py:27: UserWarning: `Model.state_updates` will be removed in a future version. This property should not be used in TensorFlow 2.0, as `updates` are applied automatically.\n",
      "  v = getattr(obj, name)\n",
      "c:\\Users\\23250023\\OneDrive - Maynooth University\\Documents\\GitHub\\GreenMachineLearning\\library\\experiment.py:23: UserWarning: `layer.updates` will be removed in a future version. This property should not be used in TensorFlow 2.0, as `updates` are applied automatically.\n",
      "  if not hasattr(obj, name):\n",
      "c:\\Users\\23250023\\OneDrive - Maynooth University\\Documents\\GitHub\\GreenMachineLearning\\library\\experiment.py:27: UserWarning: `layer.updates` will be removed in a future version. This property should not be used in TensorFlow 2.0, as `updates` are applied automatically.\n",
      "  v = getattr(obj, name)\n"
     ]
    },
    {
     "name": "stdout",
     "output_type": "stream",
     "text": [
      "13/13 [==============================] - 0s 1ms/step - loss: 0.6472 - accuracy: 0.6857\n",
      "7/7 [==============================] - 0s 1ms/step\n",
      "32/32 [==============================] - 0s 863us/step\n"
     ]
    },
    {
     "name": "stderr",
     "output_type": "stream",
     "text": [
      "c:\\Users\\23250023\\OneDrive - Maynooth University\\Documents\\GitHub\\GreenMachineLearning\\library\\experiment.py:23: UserWarning: `Model.state_updates` will be removed in a future version. This property should not be used in TensorFlow 2.0, as `updates` are applied automatically.\n",
      "  if not hasattr(obj, name):\n",
      "c:\\Users\\23250023\\OneDrive - Maynooth University\\Documents\\GitHub\\GreenMachineLearning\\library\\experiment.py:27: UserWarning: `Model.state_updates` will be removed in a future version. This property should not be used in TensorFlow 2.0, as `updates` are applied automatically.\n",
      "  v = getattr(obj, name)\n",
      "c:\\Users\\23250023\\OneDrive - Maynooth University\\Documents\\GitHub\\GreenMachineLearning\\library\\experiment.py:23: UserWarning: `layer.updates` will be removed in a future version. This property should not be used in TensorFlow 2.0, as `updates` are applied automatically.\n",
      "  if not hasattr(obj, name):\n",
      "c:\\Users\\23250023\\OneDrive - Maynooth University\\Documents\\GitHub\\GreenMachineLearning\\library\\experiment.py:27: UserWarning: `layer.updates` will be removed in a future version. This property should not be used in TensorFlow 2.0, as `updates` are applied automatically.\n",
      "  v = getattr(obj, name)\n"
     ]
    },
    {
     "name": "stdout",
     "output_type": "stream",
     "text": [
      "13/13 [==============================] - 0s 1ms/step - loss: 0.6481 - accuracy: 0.6597\n",
      "7/7 [==============================] - 0s 0s/step\n",
      "32/32 [==============================] - 0s 828us/step\n"
     ]
    },
    {
     "name": "stderr",
     "output_type": "stream",
     "text": [
      "c:\\Users\\23250023\\OneDrive - Maynooth University\\Documents\\GitHub\\GreenMachineLearning\\library\\experiment.py:23: UserWarning: `Model.state_updates` will be removed in a future version. This property should not be used in TensorFlow 2.0, as `updates` are applied automatically.\n",
      "  if not hasattr(obj, name):\n",
      "c:\\Users\\23250023\\OneDrive - Maynooth University\\Documents\\GitHub\\GreenMachineLearning\\library\\experiment.py:27: UserWarning: `Model.state_updates` will be removed in a future version. This property should not be used in TensorFlow 2.0, as `updates` are applied automatically.\n",
      "  v = getattr(obj, name)\n",
      "c:\\Users\\23250023\\OneDrive - Maynooth University\\Documents\\GitHub\\GreenMachineLearning\\library\\experiment.py:23: UserWarning: `layer.updates` will be removed in a future version. This property should not be used in TensorFlow 2.0, as `updates` are applied automatically.\n",
      "  if not hasattr(obj, name):\n",
      "c:\\Users\\23250023\\OneDrive - Maynooth University\\Documents\\GitHub\\GreenMachineLearning\\library\\experiment.py:27: UserWarning: `layer.updates` will be removed in a future version. This property should not be used in TensorFlow 2.0, as `updates` are applied automatically.\n",
      "  v = getattr(obj, name)\n"
     ]
    },
    {
     "name": "stdout",
     "output_type": "stream",
     "text": [
      "13/13 [==============================] - 0s 1ms/step - loss: 0.6827 - accuracy: 0.5299\n",
      "7/7 [==============================] - 0s 1ms/step\n",
      "32/32 [==============================] - 0s 795us/step\n"
     ]
    },
    {
     "name": "stderr",
     "output_type": "stream",
     "text": [
      "c:\\Users\\23250023\\OneDrive - Maynooth University\\Documents\\GitHub\\GreenMachineLearning\\library\\experiment.py:23: UserWarning: `Model.state_updates` will be removed in a future version. This property should not be used in TensorFlow 2.0, as `updates` are applied automatically.\n",
      "  if not hasattr(obj, name):\n",
      "c:\\Users\\23250023\\OneDrive - Maynooth University\\Documents\\GitHub\\GreenMachineLearning\\library\\experiment.py:27: UserWarning: `Model.state_updates` will be removed in a future version. This property should not be used in TensorFlow 2.0, as `updates` are applied automatically.\n",
      "  v = getattr(obj, name)\n",
      "c:\\Users\\23250023\\OneDrive - Maynooth University\\Documents\\GitHub\\GreenMachineLearning\\library\\experiment.py:23: UserWarning: `layer.updates` will be removed in a future version. This property should not be used in TensorFlow 2.0, as `updates` are applied automatically.\n",
      "  if not hasattr(obj, name):\n",
      "c:\\Users\\23250023\\OneDrive - Maynooth University\\Documents\\GitHub\\GreenMachineLearning\\library\\experiment.py:27: UserWarning: `layer.updates` will be removed in a future version. This property should not be used in TensorFlow 2.0, as `updates` are applied automatically.\n",
      "  v = getattr(obj, name)\n"
     ]
    },
    {
     "name": "stdout",
     "output_type": "stream",
     "text": [
      "13/13 [==============================] - 0s 0s/step - loss: 0.6172 - accuracy: 0.7299\n",
      "7/7 [==============================] - 0s 1ms/step\n",
      "32/32 [==============================] - 0s 589us/step\n"
     ]
    },
    {
     "name": "stderr",
     "output_type": "stream",
     "text": [
      "c:\\Users\\23250023\\OneDrive - Maynooth University\\Documents\\GitHub\\GreenMachineLearning\\library\\experiment.py:23: UserWarning: `Model.state_updates` will be removed in a future version. This property should not be used in TensorFlow 2.0, as `updates` are applied automatically.\n",
      "  if not hasattr(obj, name):\n",
      "c:\\Users\\23250023\\OneDrive - Maynooth University\\Documents\\GitHub\\GreenMachineLearning\\library\\experiment.py:27: UserWarning: `Model.state_updates` will be removed in a future version. This property should not be used in TensorFlow 2.0, as `updates` are applied automatically.\n",
      "  v = getattr(obj, name)\n",
      "c:\\Users\\23250023\\OneDrive - Maynooth University\\Documents\\GitHub\\GreenMachineLearning\\library\\experiment.py:23: UserWarning: `layer.updates` will be removed in a future version. This property should not be used in TensorFlow 2.0, as `updates` are applied automatically.\n",
      "  if not hasattr(obj, name):\n",
      "c:\\Users\\23250023\\OneDrive - Maynooth University\\Documents\\GitHub\\GreenMachineLearning\\library\\experiment.py:27: UserWarning: `layer.updates` will be removed in a future version. This property should not be used in TensorFlow 2.0, as `updates` are applied automatically.\n",
      "  v = getattr(obj, name)\n"
     ]
    },
    {
     "name": "stdout",
     "output_type": "stream",
     "text": [
      "13/13 [==============================] - 0s 1ms/step - loss: 0.6494 - accuracy: 0.6727\n",
      "7/7 [==============================] - 0s 3ms/step\n",
      "32/32 [==============================] - 0s 588us/step\n"
     ]
    },
    {
     "name": "stderr",
     "output_type": "stream",
     "text": [
      "c:\\Users\\23250023\\OneDrive - Maynooth University\\Documents\\GitHub\\GreenMachineLearning\\library\\experiment.py:23: UserWarning: `Model.state_updates` will be removed in a future version. This property should not be used in TensorFlow 2.0, as `updates` are applied automatically.\n",
      "  if not hasattr(obj, name):\n",
      "c:\\Users\\23250023\\OneDrive - Maynooth University\\Documents\\GitHub\\GreenMachineLearning\\library\\experiment.py:27: UserWarning: `Model.state_updates` will be removed in a future version. This property should not be used in TensorFlow 2.0, as `updates` are applied automatically.\n",
      "  v = getattr(obj, name)\n",
      "c:\\Users\\23250023\\OneDrive - Maynooth University\\Documents\\GitHub\\GreenMachineLearning\\library\\experiment.py:23: UserWarning: `layer.updates` will be removed in a future version. This property should not be used in TensorFlow 2.0, as `updates` are applied automatically.\n",
      "  if not hasattr(obj, name):\n",
      "c:\\Users\\23250023\\OneDrive - Maynooth University\\Documents\\GitHub\\GreenMachineLearning\\library\\experiment.py:27: UserWarning: `layer.updates` will be removed in a future version. This property should not be used in TensorFlow 2.0, as `updates` are applied automatically.\n",
      "  v = getattr(obj, name)\n"
     ]
    },
    {
     "name": "stdout",
     "output_type": "stream",
     "text": [
      "13/13 [==============================] - 0s 2ms/step - loss: 0.6617 - accuracy: 0.6390\n",
      "7/7 [==============================] - 0s 2ms/step\n",
      "32/32 [==============================] - 0s 823us/step\n"
     ]
    },
    {
     "name": "stderr",
     "output_type": "stream",
     "text": [
      "c:\\Users\\23250023\\OneDrive - Maynooth University\\Documents\\GitHub\\GreenMachineLearning\\library\\experiment.py:23: UserWarning: `Model.state_updates` will be removed in a future version. This property should not be used in TensorFlow 2.0, as `updates` are applied automatically.\n",
      "  if not hasattr(obj, name):\n",
      "c:\\Users\\23250023\\OneDrive - Maynooth University\\Documents\\GitHub\\GreenMachineLearning\\library\\experiment.py:27: UserWarning: `Model.state_updates` will be removed in a future version. This property should not be used in TensorFlow 2.0, as `updates` are applied automatically.\n",
      "  v = getattr(obj, name)\n",
      "c:\\Users\\23250023\\OneDrive - Maynooth University\\Documents\\GitHub\\GreenMachineLearning\\library\\experiment.py:23: UserWarning: `layer.updates` will be removed in a future version. This property should not be used in TensorFlow 2.0, as `updates` are applied automatically.\n",
      "  if not hasattr(obj, name):\n",
      "c:\\Users\\23250023\\OneDrive - Maynooth University\\Documents\\GitHub\\GreenMachineLearning\\library\\experiment.py:27: UserWarning: `layer.updates` will be removed in a future version. This property should not be used in TensorFlow 2.0, as `updates` are applied automatically.\n",
      "  v = getattr(obj, name)\n"
     ]
    },
    {
     "data": {
      "text/plain": [
       "\"\\nexp1 = Experiment(models[0], X, y, subsampling=True, feature_reduction=True)\\n\\nresults1 = exp1.run()\\n\\nnp.mean(exp1.get_mesaure('accuracy'))\\n\""
      ]
     },
     "execution_count": 23,
     "metadata": {},
     "output_type": "execute_result"
    }
   ],
   "source": [
    "results_exp1 = []\n",
    "\n",
    "for i in range (0,len(models)):\n",
    "    exp1 = Experiment(models[i], X, y, subsampling=True, feature_reduction=True)\n",
    "    result = exp1.run()\n",
    "    results_exp1.append({'Accuracy': exp1.get_mesaure('accuracy'),\n",
    "           'Log Loss': exp1.get_mesaure('log_loss'),\n",
    "           'Model size': exp1.get_mesaure('model_size'),\n",
    "           'AUC': exp1.get_mesaure('auc'),\n",
    "           'Training time': exp1.get_mesaure('training_time'),\n",
    "           #'Prediction time': exp1.get_mesaure('prediction_time'),\n",
    "           'TPR': exp1.get_mesaure('tpr'),\n",
    "           'FPR': exp1.get_mesaure('fpr')})\n",
    "\n",
    "\n",
    "\n",
    "'''\n",
    "exp1 = Experiment(models[0], X, y, subsampling=True, feature_reduction=True)\n",
    "\n",
    "results1 = exp1.run()\n",
    "\n",
    "np.mean(exp1.get_mesaure('accuracy'))\n",
    "'''"
   ]
  },
  {
   "cell_type": "code",
   "execution_count": 27,
   "metadata": {},
   "outputs": [
    {
     "ename": "TypeError",
     "evalue": "list indices must be integers or slices, not str",
     "output_type": "error",
     "traceback": [
      "\u001b[1;31m---------------------------------------------------------------------------\u001b[0m",
      "\u001b[1;31mTypeError\u001b[0m                                 Traceback (most recent call last)",
      "\u001b[1;32mc:\\Users\\23250023\\OneDrive - Maynooth University\\Documents\\GitHub\\GreenMachineLearning\\library\\experiments_v2.ipynb Cell 8\u001b[0m line \u001b[0;36m1\n\u001b[1;32m----> <a href='vscode-notebook-cell:/c%3A/Users/23250023/OneDrive%20-%20Maynooth%20University/Documents/GitHub/GreenMachineLearning/library/experiments_v2.ipynb#X32sZmlsZQ%3D%3D?line=0'>1</a>\u001b[0m results_exp1[\u001b[39m'\u001b[39;49m\u001b[39mAccuracy\u001b[39;49m\u001b[39m'\u001b[39;49m]\n",
      "\u001b[1;31mTypeError\u001b[0m: list indices must be integers or slices, not str"
     ]
    }
   ],
   "source": [
    "results_exp1['Accuracy']"
   ]
  },
  {
   "cell_type": "markdown",
   "metadata": {},
   "source": [
    "# Dataset 2: Predict students' dropout and academic success"
   ]
  },
  {
   "cell_type": "code",
   "execution_count": 7,
   "metadata": {},
   "outputs": [],
   "source": [
    "# fetch dataset \n",
    "predict_students_dropout_and_academic_success = fetch_ucirepo(id=697) \n",
    "  \n",
    "# data (as pandas dataframes) \n",
    "X = predict_students_dropout_and_academic_success.data.features.to_numpy() \n",
    "y = predict_students_dropout_and_academic_success.data.targets.to_numpy()\n",
    "y = np.array([0 if yi == 'Dropout' else 1 for yi in y])\n",
    "y = np.expand_dims(y, axis=1)"
   ]
  },
  {
   "cell_type": "code",
   "execution_count": 8,
   "metadata": {},
   "outputs": [
    {
     "data": {
      "text/plain": [
       "((4424, 36), (4424, 1))"
      ]
     },
     "execution_count": 8,
     "metadata": {},
     "output_type": "execute_result"
    }
   ],
   "source": [
    "X.shape, y.shape"
   ]
  },
  {
   "cell_type": "code",
   "execution_count": 9,
   "metadata": {},
   "outputs": [
    {
     "data": {
      "text/plain": [
       "0.6787973810812742"
      ]
     },
     "execution_count": 9,
     "metadata": {},
     "output_type": "execute_result"
    }
   ],
   "source": [
    "exp2 = Experiment(models[0], X, y, subsampling=True, feature_reduction=True)\n",
    "\n",
    "results2 = exp2.run()\n",
    "\n",
    "np.mean(exp2.get_mesaure('accuracy'))"
   ]
  },
  {
   "cell_type": "markdown",
   "metadata": {},
   "source": [
    "# Dataset 3: CDC Diabetes Health Indicators"
   ]
  },
  {
   "cell_type": "code",
   "execution_count": 10,
   "metadata": {},
   "outputs": [],
   "source": [
    "# fetch dataset \n",
    "cdc_diabetes_health_indicators = fetch_ucirepo(id=891) \n",
    "  \n",
    "# data (as pandas dataframes) \n",
    "X = cdc_diabetes_health_indicators.data.features.to_numpy()\n",
    "y = cdc_diabetes_health_indicators.data.targets.to_numpy() "
   ]
  },
  {
   "cell_type": "code",
   "execution_count": 11,
   "metadata": {},
   "outputs": [
    {
     "data": {
      "text/plain": [
       "0.8591512929675181"
      ]
     },
     "execution_count": 11,
     "metadata": {},
     "output_type": "execute_result"
    }
   ],
   "source": [
    "exp3 = Experiment(models[0], X, y, subsampling=True, feature_reduction=True)\n",
    "\n",
    "results3 = exp3.run()\n",
    "\n",
    "np.mean(exp3.get_mesaure('accuracy'))"
   ]
  },
  {
   "cell_type": "markdown",
   "metadata": {},
   "source": [
    "# Data visualisation"
   ]
  },
  {
   "cell_type": "code",
   "execution_count": 58,
   "metadata": {},
   "outputs": [
    {
     "data": {
      "text/plain": [
       "\"\\naccuracy = [\\n    exp1.get_mesaure('accuracy'),\\n    exp2.get_mesaure('accuracy'),\\n    exp3.get_mesaure('accuracy')\\n]\\n\\n\\nlogloss = [\\n    exp1.get_mesaure('log_loss'),\\n    exp2.get_mesaure('log_loss'),\\n    exp3.get_mesaure('log_loss')\\n]\\n\\nmodelsize = [\\n    exp1.get_mesaure('model_size'),\\n    exp2.get_mesaure('model_size'),\\n    exp3.get_mesaure('model_size')\\n]\\n\\nAUC = [\\n    exp1.get_mesaure('auc'),\\n    exp2.get_mesaure('auc'),\\n    exp3.get_mesaure('auc')\\n]\\n\\ntraintime = [\\n    exp1.get_mesaure('training_time'),\\n    exp2.get_mesaure('training_time'),\\n    exp3.get_mesaure('training_time')\\n]\\n\\n\\npredtime = [\\n    exp1.get_mesaure('prediction_time'),\\n    exp2.get_mesaure('prediction_time'),\\n    exp3.get_mesaure('prediction_time')\\n]\\n\\n\\nTPR = [\\n    exp1.get_mesaure('tpr'),\\n    exp2.get_mesaure('tpr'),\\n    exp3.get_mesaure('tpr')\\n]\\n\\nFPR = [\\n    exp1.get_mesaure('fpr'),\\n    exp2.get_mesaure('fpr'),\\n    exp3.get_mesaure('fpr')\\n\\n]\\n\\nenergy = [\\n    np.mean(exp1.get_mesaure('training_time'))*np.mean(exp1.get_mesaure('model_size')),\\n    np.mean(exp2.get_mesaure('training_time'))*np.mean(exp2.get_mesaure('model_size')),\\n    np.mean(exp3.get_mesaure('training_time'))*np.mean(exp3.get_mesaure('model_size'))\\n]\\n\""
      ]
     },
     "execution_count": 58,
     "metadata": {},
     "output_type": "execute_result"
    }
   ],
   "source": [
    "import pandas as pd\n",
    "\n",
    "accuracy = [\n",
    "    np.mean(exp1.get_mesaure('accuracy')),\n",
    "    np.mean(exp2.get_mesaure('accuracy')),\n",
    "    np.mean(exp3.get_mesaure('accuracy'))\n",
    "]\n",
    "\n",
    "\n",
    "logloss = [\n",
    "    np.mean(exp1.get_mesaure('log_loss')),\n",
    "    np.mean(exp2.get_mesaure('log_loss')),\n",
    "    np.mean(exp3.get_mesaure('log_loss'))\n",
    "]\n",
    "\n",
    "modelsize = [\n",
    "    np.mean(exp1.get_mesaure('model_size')),\n",
    "    np.mean(exp2.get_mesaure('model_size')),\n",
    "    np.mean(exp3.get_mesaure('model_size'))\n",
    "]\n",
    "\n",
    "AUC = [\n",
    "    np.mean(exp1.get_mesaure('auc')),\n",
    "    np.mean(exp2.get_mesaure('auc')),\n",
    "    np.mean(exp3.get_mesaure('auc'))\n",
    "]\n",
    "\n",
    "traintime = [\n",
    "    np.mean(exp1.get_mesaure('training_time')),\n",
    "    np.mean(exp2.get_mesaure('training_time')),\n",
    "    np.mean(exp3.get_mesaure('training_time'))\n",
    "]\n",
    "\n",
    "'''\n",
    "predtime = [\n",
    "    np.mean(exp1.get_mesaure('prediction_time')),\n",
    "    np.mean(exp2.get_mesaure('prediction_time')),\n",
    "    np.mean(exp3.get_mesaure('prediction_time'))\n",
    "]\n",
    "\n",
    "'''\n",
    "TPR = [\n",
    "    np.mean(exp1.get_mesaure('tpr')),\n",
    "    np.mean(exp2.get_mesaure('tpr')),\n",
    "    np.mean(exp3.get_mesaure('tpr'))\n",
    "]\n",
    "\n",
    "FPR = [\n",
    "    np.mean(exp1.get_mesaure('fpr')),\n",
    "    np.mean(exp2.get_mesaure('fpr')),\n",
    "    np.mean(exp3.get_mesaure('fpr'))\n",
    "\n",
    "]\n",
    "energy = [\n",
    "    np.mean(exp1.get_mesaure('training_time'))*np.mean(exp1.get_mesaure('model_size')),\n",
    "    np.mean(exp2.get_mesaure('training_time'))*np.mean(exp2.get_mesaure('model_size')),\n",
    "    np.mean(exp3.get_mesaure('training_time'))*np.mean(exp3.get_mesaure('model_size'))\n",
    "]\n",
    "\n",
    "'''\n",
    "accuracy = [\n",
    "    exp1.get_mesaure('accuracy'),\n",
    "    exp2.get_mesaure('accuracy'),\n",
    "    exp3.get_mesaure('accuracy')\n",
    "]\n",
    "\n",
    "\n",
    "logloss = [\n",
    "    exp1.get_mesaure('log_loss'),\n",
    "    exp2.get_mesaure('log_loss'),\n",
    "    exp3.get_mesaure('log_loss')\n",
    "]\n",
    "\n",
    "modelsize = [\n",
    "    exp1.get_mesaure('model_size'),\n",
    "    exp2.get_mesaure('model_size'),\n",
    "    exp3.get_mesaure('model_size')\n",
    "]\n",
    "\n",
    "AUC = [\n",
    "    exp1.get_mesaure('auc'),\n",
    "    exp2.get_mesaure('auc'),\n",
    "    exp3.get_mesaure('auc')\n",
    "]\n",
    "\n",
    "traintime = [\n",
    "    exp1.get_mesaure('training_time'),\n",
    "    exp2.get_mesaure('training_time'),\n",
    "    exp3.get_mesaure('training_time')\n",
    "]\n",
    "\n",
    "\n",
    "predtime = [\n",
    "    exp1.get_mesaure('prediction_time'),\n",
    "    exp2.get_mesaure('prediction_time'),\n",
    "    exp3.get_mesaure('prediction_time')\n",
    "]\n",
    "\n",
    "\n",
    "TPR = [\n",
    "    exp1.get_mesaure('tpr'),\n",
    "    exp2.get_mesaure('tpr'),\n",
    "    exp3.get_mesaure('tpr')\n",
    "]\n",
    "\n",
    "FPR = [\n",
    "    exp1.get_mesaure('fpr'),\n",
    "    exp2.get_mesaure('fpr'),\n",
    "    exp3.get_mesaure('fpr')\n",
    "\n",
    "]\n",
    "\n",
    "energy = [\n",
    "    np.mean(exp1.get_mesaure('training_time'))*np.mean(exp1.get_mesaure('model_size')),\n",
    "    np.mean(exp2.get_mesaure('training_time'))*np.mean(exp2.get_mesaure('model_size')),\n",
    "    np.mean(exp3.get_mesaure('training_time'))*np.mean(exp3.get_mesaure('model_size'))\n",
    "]\n",
    "'''"
   ]
  },
  {
   "cell_type": "code",
   "execution_count": 61,
   "metadata": {},
   "outputs": [
    {
     "data": {
      "application/vnd.plotly.v1+json": {
       "config": {
        "plotlyServerURL": "https://plot.ly"
       },
       "data": [
        {
         "name": "Accuracy",
         "type": "bar",
         "x": [
          "Exp 1",
          "Exp 2",
          "Exp 3"
         ],
         "xaxis": "x",
         "y": [
          0.8204795752709402,
          0.6787973810812742,
          0.8591512929675181
         ],
         "yaxis": "y"
        },
        {
         "name": "Log Loss",
         "type": "bar",
         "x": [
          "Exp 1",
          "Exp 2",
          "Exp 3"
         ],
         "xaxis": "x2",
         "y": [
          6.470571965201323,
          11.57731586398323,
          5.076701976584084
         ],
         "yaxis": "y2"
        },
        {
         "name": "AUC",
         "type": "bar",
         "x": [
          "Exp 1",
          "Exp 2",
          "Exp 3"
         ],
         "xaxis": "x3",
         "y": [
          0.722886313445515,
          0.5,
          0.5253325814231065
         ],
         "yaxis": "y3"
        },
        {
         "name": "Model size",
         "type": "bar",
         "x": [
          "Exp 1",
          "Exp 2",
          "Exp 3"
         ],
         "xaxis": "x4",
         "y": [
          1457,
          1457,
          1457
         ],
         "yaxis": "y4"
        },
        {
         "name": "Training time",
         "type": "bar",
         "x": [
          "Exp 1",
          "Exp 2",
          "Exp 3"
         ],
         "xaxis": "x5",
         "y": [
          0.002828800678253174,
          0.0008015871047973633,
          0.017019009590148924
         ],
         "yaxis": "y5"
        },
        {
         "name": "Energy [B*s]",
         "type": "bar",
         "x": [
          "Exp 1",
          "Exp 2",
          "Exp 3"
         ],
         "xaxis": "x6",
         "y": [
          4.121562588214874,
          1.1679124116897583,
          24.796696972846984
         ],
         "yaxis": "y6"
        }
       ],
       "layout": {
        "template": {
         "data": {
          "bar": [
           {
            "error_x": {
             "color": "#2a3f5f"
            },
            "error_y": {
             "color": "#2a3f5f"
            },
            "marker": {
             "line": {
              "color": "#E5ECF6",
              "width": 0.5
             },
             "pattern": {
              "fillmode": "overlay",
              "size": 10,
              "solidity": 0.2
             }
            },
            "type": "bar"
           }
          ],
          "barpolar": [
           {
            "marker": {
             "line": {
              "color": "#E5ECF6",
              "width": 0.5
             },
             "pattern": {
              "fillmode": "overlay",
              "size": 10,
              "solidity": 0.2
             }
            },
            "type": "barpolar"
           }
          ],
          "carpet": [
           {
            "aaxis": {
             "endlinecolor": "#2a3f5f",
             "gridcolor": "white",
             "linecolor": "white",
             "minorgridcolor": "white",
             "startlinecolor": "#2a3f5f"
            },
            "baxis": {
             "endlinecolor": "#2a3f5f",
             "gridcolor": "white",
             "linecolor": "white",
             "minorgridcolor": "white",
             "startlinecolor": "#2a3f5f"
            },
            "type": "carpet"
           }
          ],
          "choropleth": [
           {
            "colorbar": {
             "outlinewidth": 0,
             "ticks": ""
            },
            "type": "choropleth"
           }
          ],
          "contour": [
           {
            "colorbar": {
             "outlinewidth": 0,
             "ticks": ""
            },
            "colorscale": [
             [
              0,
              "#0d0887"
             ],
             [
              0.1111111111111111,
              "#46039f"
             ],
             [
              0.2222222222222222,
              "#7201a8"
             ],
             [
              0.3333333333333333,
              "#9c179e"
             ],
             [
              0.4444444444444444,
              "#bd3786"
             ],
             [
              0.5555555555555556,
              "#d8576b"
             ],
             [
              0.6666666666666666,
              "#ed7953"
             ],
             [
              0.7777777777777778,
              "#fb9f3a"
             ],
             [
              0.8888888888888888,
              "#fdca26"
             ],
             [
              1,
              "#f0f921"
             ]
            ],
            "type": "contour"
           }
          ],
          "contourcarpet": [
           {
            "colorbar": {
             "outlinewidth": 0,
             "ticks": ""
            },
            "type": "contourcarpet"
           }
          ],
          "heatmap": [
           {
            "colorbar": {
             "outlinewidth": 0,
             "ticks": ""
            },
            "colorscale": [
             [
              0,
              "#0d0887"
             ],
             [
              0.1111111111111111,
              "#46039f"
             ],
             [
              0.2222222222222222,
              "#7201a8"
             ],
             [
              0.3333333333333333,
              "#9c179e"
             ],
             [
              0.4444444444444444,
              "#bd3786"
             ],
             [
              0.5555555555555556,
              "#d8576b"
             ],
             [
              0.6666666666666666,
              "#ed7953"
             ],
             [
              0.7777777777777778,
              "#fb9f3a"
             ],
             [
              0.8888888888888888,
              "#fdca26"
             ],
             [
              1,
              "#f0f921"
             ]
            ],
            "type": "heatmap"
           }
          ],
          "heatmapgl": [
           {
            "colorbar": {
             "outlinewidth": 0,
             "ticks": ""
            },
            "colorscale": [
             [
              0,
              "#0d0887"
             ],
             [
              0.1111111111111111,
              "#46039f"
             ],
             [
              0.2222222222222222,
              "#7201a8"
             ],
             [
              0.3333333333333333,
              "#9c179e"
             ],
             [
              0.4444444444444444,
              "#bd3786"
             ],
             [
              0.5555555555555556,
              "#d8576b"
             ],
             [
              0.6666666666666666,
              "#ed7953"
             ],
             [
              0.7777777777777778,
              "#fb9f3a"
             ],
             [
              0.8888888888888888,
              "#fdca26"
             ],
             [
              1,
              "#f0f921"
             ]
            ],
            "type": "heatmapgl"
           }
          ],
          "histogram": [
           {
            "marker": {
             "pattern": {
              "fillmode": "overlay",
              "size": 10,
              "solidity": 0.2
             }
            },
            "type": "histogram"
           }
          ],
          "histogram2d": [
           {
            "colorbar": {
             "outlinewidth": 0,
             "ticks": ""
            },
            "colorscale": [
             [
              0,
              "#0d0887"
             ],
             [
              0.1111111111111111,
              "#46039f"
             ],
             [
              0.2222222222222222,
              "#7201a8"
             ],
             [
              0.3333333333333333,
              "#9c179e"
             ],
             [
              0.4444444444444444,
              "#bd3786"
             ],
             [
              0.5555555555555556,
              "#d8576b"
             ],
             [
              0.6666666666666666,
              "#ed7953"
             ],
             [
              0.7777777777777778,
              "#fb9f3a"
             ],
             [
              0.8888888888888888,
              "#fdca26"
             ],
             [
              1,
              "#f0f921"
             ]
            ],
            "type": "histogram2d"
           }
          ],
          "histogram2dcontour": [
           {
            "colorbar": {
             "outlinewidth": 0,
             "ticks": ""
            },
            "colorscale": [
             [
              0,
              "#0d0887"
             ],
             [
              0.1111111111111111,
              "#46039f"
             ],
             [
              0.2222222222222222,
              "#7201a8"
             ],
             [
              0.3333333333333333,
              "#9c179e"
             ],
             [
              0.4444444444444444,
              "#bd3786"
             ],
             [
              0.5555555555555556,
              "#d8576b"
             ],
             [
              0.6666666666666666,
              "#ed7953"
             ],
             [
              0.7777777777777778,
              "#fb9f3a"
             ],
             [
              0.8888888888888888,
              "#fdca26"
             ],
             [
              1,
              "#f0f921"
             ]
            ],
            "type": "histogram2dcontour"
           }
          ],
          "mesh3d": [
           {
            "colorbar": {
             "outlinewidth": 0,
             "ticks": ""
            },
            "type": "mesh3d"
           }
          ],
          "parcoords": [
           {
            "line": {
             "colorbar": {
              "outlinewidth": 0,
              "ticks": ""
             }
            },
            "type": "parcoords"
           }
          ],
          "pie": [
           {
            "automargin": true,
            "type": "pie"
           }
          ],
          "scatter": [
           {
            "fillpattern": {
             "fillmode": "overlay",
             "size": 10,
             "solidity": 0.2
            },
            "type": "scatter"
           }
          ],
          "scatter3d": [
           {
            "line": {
             "colorbar": {
              "outlinewidth": 0,
              "ticks": ""
             }
            },
            "marker": {
             "colorbar": {
              "outlinewidth": 0,
              "ticks": ""
             }
            },
            "type": "scatter3d"
           }
          ],
          "scattercarpet": [
           {
            "marker": {
             "colorbar": {
              "outlinewidth": 0,
              "ticks": ""
             }
            },
            "type": "scattercarpet"
           }
          ],
          "scattergeo": [
           {
            "marker": {
             "colorbar": {
              "outlinewidth": 0,
              "ticks": ""
             }
            },
            "type": "scattergeo"
           }
          ],
          "scattergl": [
           {
            "marker": {
             "colorbar": {
              "outlinewidth": 0,
              "ticks": ""
             }
            },
            "type": "scattergl"
           }
          ],
          "scattermapbox": [
           {
            "marker": {
             "colorbar": {
              "outlinewidth": 0,
              "ticks": ""
             }
            },
            "type": "scattermapbox"
           }
          ],
          "scatterpolar": [
           {
            "marker": {
             "colorbar": {
              "outlinewidth": 0,
              "ticks": ""
             }
            },
            "type": "scatterpolar"
           }
          ],
          "scatterpolargl": [
           {
            "marker": {
             "colorbar": {
              "outlinewidth": 0,
              "ticks": ""
             }
            },
            "type": "scatterpolargl"
           }
          ],
          "scatterternary": [
           {
            "marker": {
             "colorbar": {
              "outlinewidth": 0,
              "ticks": ""
             }
            },
            "type": "scatterternary"
           }
          ],
          "surface": [
           {
            "colorbar": {
             "outlinewidth": 0,
             "ticks": ""
            },
            "colorscale": [
             [
              0,
              "#0d0887"
             ],
             [
              0.1111111111111111,
              "#46039f"
             ],
             [
              0.2222222222222222,
              "#7201a8"
             ],
             [
              0.3333333333333333,
              "#9c179e"
             ],
             [
              0.4444444444444444,
              "#bd3786"
             ],
             [
              0.5555555555555556,
              "#d8576b"
             ],
             [
              0.6666666666666666,
              "#ed7953"
             ],
             [
              0.7777777777777778,
              "#fb9f3a"
             ],
             [
              0.8888888888888888,
              "#fdca26"
             ],
             [
              1,
              "#f0f921"
             ]
            ],
            "type": "surface"
           }
          ],
          "table": [
           {
            "cells": {
             "fill": {
              "color": "#EBF0F8"
             },
             "line": {
              "color": "white"
             }
            },
            "header": {
             "fill": {
              "color": "#C8D4E3"
             },
             "line": {
              "color": "white"
             }
            },
            "type": "table"
           }
          ]
         },
         "layout": {
          "annotationdefaults": {
           "arrowcolor": "#2a3f5f",
           "arrowhead": 0,
           "arrowwidth": 1
          },
          "autotypenumbers": "strict",
          "coloraxis": {
           "colorbar": {
            "outlinewidth": 0,
            "ticks": ""
           }
          },
          "colorscale": {
           "diverging": [
            [
             0,
             "#8e0152"
            ],
            [
             0.1,
             "#c51b7d"
            ],
            [
             0.2,
             "#de77ae"
            ],
            [
             0.3,
             "#f1b6da"
            ],
            [
             0.4,
             "#fde0ef"
            ],
            [
             0.5,
             "#f7f7f7"
            ],
            [
             0.6,
             "#e6f5d0"
            ],
            [
             0.7,
             "#b8e186"
            ],
            [
             0.8,
             "#7fbc41"
            ],
            [
             0.9,
             "#4d9221"
            ],
            [
             1,
             "#276419"
            ]
           ],
           "sequential": [
            [
             0,
             "#0d0887"
            ],
            [
             0.1111111111111111,
             "#46039f"
            ],
            [
             0.2222222222222222,
             "#7201a8"
            ],
            [
             0.3333333333333333,
             "#9c179e"
            ],
            [
             0.4444444444444444,
             "#bd3786"
            ],
            [
             0.5555555555555556,
             "#d8576b"
            ],
            [
             0.6666666666666666,
             "#ed7953"
            ],
            [
             0.7777777777777778,
             "#fb9f3a"
            ],
            [
             0.8888888888888888,
             "#fdca26"
            ],
            [
             1,
             "#f0f921"
            ]
           ],
           "sequentialminus": [
            [
             0,
             "#0d0887"
            ],
            [
             0.1111111111111111,
             "#46039f"
            ],
            [
             0.2222222222222222,
             "#7201a8"
            ],
            [
             0.3333333333333333,
             "#9c179e"
            ],
            [
             0.4444444444444444,
             "#bd3786"
            ],
            [
             0.5555555555555556,
             "#d8576b"
            ],
            [
             0.6666666666666666,
             "#ed7953"
            ],
            [
             0.7777777777777778,
             "#fb9f3a"
            ],
            [
             0.8888888888888888,
             "#fdca26"
            ],
            [
             1,
             "#f0f921"
            ]
           ]
          },
          "colorway": [
           "#636efa",
           "#EF553B",
           "#00cc96",
           "#ab63fa",
           "#FFA15A",
           "#19d3f3",
           "#FF6692",
           "#B6E880",
           "#FF97FF",
           "#FECB52"
          ],
          "font": {
           "color": "#2a3f5f"
          },
          "geo": {
           "bgcolor": "white",
           "lakecolor": "white",
           "landcolor": "#E5ECF6",
           "showlakes": true,
           "showland": true,
           "subunitcolor": "white"
          },
          "hoverlabel": {
           "align": "left"
          },
          "hovermode": "closest",
          "mapbox": {
           "style": "light"
          },
          "paper_bgcolor": "white",
          "plot_bgcolor": "#E5ECF6",
          "polar": {
           "angularaxis": {
            "gridcolor": "white",
            "linecolor": "white",
            "ticks": ""
           },
           "bgcolor": "#E5ECF6",
           "radialaxis": {
            "gridcolor": "white",
            "linecolor": "white",
            "ticks": ""
           }
          },
          "scene": {
           "xaxis": {
            "backgroundcolor": "#E5ECF6",
            "gridcolor": "white",
            "gridwidth": 2,
            "linecolor": "white",
            "showbackground": true,
            "ticks": "",
            "zerolinecolor": "white"
           },
           "yaxis": {
            "backgroundcolor": "#E5ECF6",
            "gridcolor": "white",
            "gridwidth": 2,
            "linecolor": "white",
            "showbackground": true,
            "ticks": "",
            "zerolinecolor": "white"
           },
           "zaxis": {
            "backgroundcolor": "#E5ECF6",
            "gridcolor": "white",
            "gridwidth": 2,
            "linecolor": "white",
            "showbackground": true,
            "ticks": "",
            "zerolinecolor": "white"
           }
          },
          "shapedefaults": {
           "line": {
            "color": "#2a3f5f"
           }
          },
          "ternary": {
           "aaxis": {
            "gridcolor": "white",
            "linecolor": "white",
            "ticks": ""
           },
           "baxis": {
            "gridcolor": "white",
            "linecolor": "white",
            "ticks": ""
           },
           "bgcolor": "#E5ECF6",
           "caxis": {
            "gridcolor": "white",
            "linecolor": "white",
            "ticks": ""
           }
          },
          "title": {
           "x": 0.05
          },
          "xaxis": {
           "automargin": true,
           "gridcolor": "white",
           "linecolor": "white",
           "ticks": "",
           "title": {
            "standoff": 15
           },
           "zerolinecolor": "white",
           "zerolinewidth": 2
          },
          "yaxis": {
           "automargin": true,
           "gridcolor": "white",
           "linecolor": "white",
           "ticks": "",
           "title": {
            "standoff": 15
           },
           "zerolinecolor": "white",
           "zerolinewidth": 2
          }
         }
        },
        "xaxis": {
         "anchor": "y",
         "domain": [
          0,
          0.2888888888888889
         ]
        },
        "xaxis2": {
         "anchor": "y2",
         "domain": [
          0.35555555555555557,
          0.6444444444444445
         ]
        },
        "xaxis3": {
         "anchor": "y3",
         "domain": [
          0.7111111111111111,
          1
         ]
        },
        "xaxis4": {
         "anchor": "y4",
         "domain": [
          0,
          0.2888888888888889
         ]
        },
        "xaxis5": {
         "anchor": "y5",
         "domain": [
          0.35555555555555557,
          0.6444444444444445
         ]
        },
        "xaxis6": {
         "anchor": "y6",
         "domain": [
          0.7111111111111111,
          1
         ]
        },
        "yaxis": {
         "anchor": "x",
         "domain": [
          0.575,
          1
         ]
        },
        "yaxis2": {
         "anchor": "x2",
         "domain": [
          0.575,
          1
         ]
        },
        "yaxis3": {
         "anchor": "x3",
         "domain": [
          0.575,
          1
         ]
        },
        "yaxis4": {
         "anchor": "x4",
         "domain": [
          0,
          0.425
         ]
        },
        "yaxis5": {
         "anchor": "x5",
         "domain": [
          0,
          0.425
         ]
        },
        "yaxis6": {
         "anchor": "x6",
         "domain": [
          0,
          0.425
         ]
        }
       }
      }
     },
     "metadata": {},
     "output_type": "display_data"
    }
   ],
   "source": [
    "import plotly.graph_objects as px\n",
    "from plotly.subplots import make_subplots\n",
    "\n",
    "\n",
    "X = ['Exp 1', 'Exp 2', 'Exp 3']\n",
    "fig = make_subplots(rows=2,cols=3)\n",
    "\n",
    "fig.add_trace(px.Bar(y=accuracy, x=X, name=\"Accuracy\"), \n",
    "              row=1, col=1)\n",
    "fig.add_trace(px.Bar(y=logloss, x=X, name=\"Log Loss\"),\n",
    "              row=1, col=2)\n",
    "fig.add_trace(px.Bar(y=AUC, x=X, name=\"AUC\"),\n",
    "              row=1, col=3)\n",
    "fig.add_trace(px.Bar(y=modelsize, x=X, name=\"Model size\"),\n",
    "              row=2, col=1)\n",
    "fig.add_trace(px.Bar(y=traintime, x=X, name=\"Training time\"),\n",
    "              row=2, col=2)\n",
    "fig.add_trace(px.Bar(y=energy, x=X, name=\"Energy [B*s]\"),\n",
    "              row=2, col=3)\n",
    "\n",
    "'''\n",
    "X = ['Exp 1', 'Exp 2', 'Exp 3']\n",
    "fig = make_subplots(rows=1,cols=3)\n",
    "\n",
    "fig.add_trace(px.Box(y=accuracy, x=X, name=\"Accuracy\", boxpoints=\"all\"), \n",
    "              row=1, col=1)\n",
    "fig.add_trace(px.Box(y=logloss, x=X, name=\"Log Loss\"),\n",
    "              row=1, col=2)\n",
    "fig.add_trace(px.Box(y=AUC, x=X, name=\"AUC\"),\n",
    "              row=1, col=3)\n",
    "\n",
    "\n",
    "fig.add_trace(px.Box(y=modelsize, x=X, name=\"Model size\"),\n",
    "              row=2, col=1)\n",
    "fig.add_trace(px.Box(y=traintime, x=X, name=\"Training time\"),\n",
    "              row=2, col=2)\n",
    "fig.add_trace(px.Box(y=energy, x=X, name=\"Energy [B*s]\"),\n",
    "              row=2, col=3)\n",
    "\n",
    "'''\n",
    "\n",
    "\n",
    "\n",
    "fig.show()"
   ]
  },
  {
   "cell_type": "code",
   "execution_count": 31,
   "metadata": {},
   "outputs": [
    {
     "data": {
      "application/vnd.plotly.v1+json": {
       "config": {
        "plotlyServerURL": "https://plot.ly"
       },
       "data": [
        {
         "name": "Accuracy",
         "type": "box",
         "x": [
          "LogisticRegression",
          "SVC",
          "RandomForestClassifier",
          "GradientBoostingClassifier",
          "DeepNeuralNetwork"
         ],
         "xaxis": "x",
         "y": [
          0.8176769338774077,
          0.8223421526040982,
          0.8300754683866438,
          0.8303036286253347,
          0.7770029836338905
         ],
         "yaxis": "y"
        },
        {
         "name": "Log Loss",
         "type": "box",
         "x": [
          "LogisticRegression",
          "SVC",
          "RandomForestClassifier",
          "GradientBoostingClassifier",
          "DeepNeuralNetwork"
         ],
         "xaxis": "x2",
         "y": [
          6.571589400163804,
          6.403437873394559,
          6.1247009197798885,
          6.116477191219342,
          0.5743400069799715
         ],
         "yaxis": "y2"
        },
        {
         "name": "AUC",
         "type": "box",
         "x": [
          "LogisticRegression",
          "SVC",
          "RandomForestClassifier",
          "GradientBoostingClassifier",
          "DeepNeuralNetwork"
         ],
         "xaxis": "x3",
         "y": [
          0.712265714617369,
          0.7247475229957455,
          0.7608431135297418,
          0.7631942225529867,
          0.7901812278658052
         ],
         "yaxis": "y3"
        }
       ],
       "layout": {
        "template": {
         "data": {
          "bar": [
           {
            "error_x": {
             "color": "#2a3f5f"
            },
            "error_y": {
             "color": "#2a3f5f"
            },
            "marker": {
             "line": {
              "color": "#E5ECF6",
              "width": 0.5
             },
             "pattern": {
              "fillmode": "overlay",
              "size": 10,
              "solidity": 0.2
             }
            },
            "type": "bar"
           }
          ],
          "barpolar": [
           {
            "marker": {
             "line": {
              "color": "#E5ECF6",
              "width": 0.5
             },
             "pattern": {
              "fillmode": "overlay",
              "size": 10,
              "solidity": 0.2
             }
            },
            "type": "barpolar"
           }
          ],
          "carpet": [
           {
            "aaxis": {
             "endlinecolor": "#2a3f5f",
             "gridcolor": "white",
             "linecolor": "white",
             "minorgridcolor": "white",
             "startlinecolor": "#2a3f5f"
            },
            "baxis": {
             "endlinecolor": "#2a3f5f",
             "gridcolor": "white",
             "linecolor": "white",
             "minorgridcolor": "white",
             "startlinecolor": "#2a3f5f"
            },
            "type": "carpet"
           }
          ],
          "choropleth": [
           {
            "colorbar": {
             "outlinewidth": 0,
             "ticks": ""
            },
            "type": "choropleth"
           }
          ],
          "contour": [
           {
            "colorbar": {
             "outlinewidth": 0,
             "ticks": ""
            },
            "colorscale": [
             [
              0,
              "#0d0887"
             ],
             [
              0.1111111111111111,
              "#46039f"
             ],
             [
              0.2222222222222222,
              "#7201a8"
             ],
             [
              0.3333333333333333,
              "#9c179e"
             ],
             [
              0.4444444444444444,
              "#bd3786"
             ],
             [
              0.5555555555555556,
              "#d8576b"
             ],
             [
              0.6666666666666666,
              "#ed7953"
             ],
             [
              0.7777777777777778,
              "#fb9f3a"
             ],
             [
              0.8888888888888888,
              "#fdca26"
             ],
             [
              1,
              "#f0f921"
             ]
            ],
            "type": "contour"
           }
          ],
          "contourcarpet": [
           {
            "colorbar": {
             "outlinewidth": 0,
             "ticks": ""
            },
            "type": "contourcarpet"
           }
          ],
          "heatmap": [
           {
            "colorbar": {
             "outlinewidth": 0,
             "ticks": ""
            },
            "colorscale": [
             [
              0,
              "#0d0887"
             ],
             [
              0.1111111111111111,
              "#46039f"
             ],
             [
              0.2222222222222222,
              "#7201a8"
             ],
             [
              0.3333333333333333,
              "#9c179e"
             ],
             [
              0.4444444444444444,
              "#bd3786"
             ],
             [
              0.5555555555555556,
              "#d8576b"
             ],
             [
              0.6666666666666666,
              "#ed7953"
             ],
             [
              0.7777777777777778,
              "#fb9f3a"
             ],
             [
              0.8888888888888888,
              "#fdca26"
             ],
             [
              1,
              "#f0f921"
             ]
            ],
            "type": "heatmap"
           }
          ],
          "heatmapgl": [
           {
            "colorbar": {
             "outlinewidth": 0,
             "ticks": ""
            },
            "colorscale": [
             [
              0,
              "#0d0887"
             ],
             [
              0.1111111111111111,
              "#46039f"
             ],
             [
              0.2222222222222222,
              "#7201a8"
             ],
             [
              0.3333333333333333,
              "#9c179e"
             ],
             [
              0.4444444444444444,
              "#bd3786"
             ],
             [
              0.5555555555555556,
              "#d8576b"
             ],
             [
              0.6666666666666666,
              "#ed7953"
             ],
             [
              0.7777777777777778,
              "#fb9f3a"
             ],
             [
              0.8888888888888888,
              "#fdca26"
             ],
             [
              1,
              "#f0f921"
             ]
            ],
            "type": "heatmapgl"
           }
          ],
          "histogram": [
           {
            "marker": {
             "pattern": {
              "fillmode": "overlay",
              "size": 10,
              "solidity": 0.2
             }
            },
            "type": "histogram"
           }
          ],
          "histogram2d": [
           {
            "colorbar": {
             "outlinewidth": 0,
             "ticks": ""
            },
            "colorscale": [
             [
              0,
              "#0d0887"
             ],
             [
              0.1111111111111111,
              "#46039f"
             ],
             [
              0.2222222222222222,
              "#7201a8"
             ],
             [
              0.3333333333333333,
              "#9c179e"
             ],
             [
              0.4444444444444444,
              "#bd3786"
             ],
             [
              0.5555555555555556,
              "#d8576b"
             ],
             [
              0.6666666666666666,
              "#ed7953"
             ],
             [
              0.7777777777777778,
              "#fb9f3a"
             ],
             [
              0.8888888888888888,
              "#fdca26"
             ],
             [
              1,
              "#f0f921"
             ]
            ],
            "type": "histogram2d"
           }
          ],
          "histogram2dcontour": [
           {
            "colorbar": {
             "outlinewidth": 0,
             "ticks": ""
            },
            "colorscale": [
             [
              0,
              "#0d0887"
             ],
             [
              0.1111111111111111,
              "#46039f"
             ],
             [
              0.2222222222222222,
              "#7201a8"
             ],
             [
              0.3333333333333333,
              "#9c179e"
             ],
             [
              0.4444444444444444,
              "#bd3786"
             ],
             [
              0.5555555555555556,
              "#d8576b"
             ],
             [
              0.6666666666666666,
              "#ed7953"
             ],
             [
              0.7777777777777778,
              "#fb9f3a"
             ],
             [
              0.8888888888888888,
              "#fdca26"
             ],
             [
              1,
              "#f0f921"
             ]
            ],
            "type": "histogram2dcontour"
           }
          ],
          "mesh3d": [
           {
            "colorbar": {
             "outlinewidth": 0,
             "ticks": ""
            },
            "type": "mesh3d"
           }
          ],
          "parcoords": [
           {
            "line": {
             "colorbar": {
              "outlinewidth": 0,
              "ticks": ""
             }
            },
            "type": "parcoords"
           }
          ],
          "pie": [
           {
            "automargin": true,
            "type": "pie"
           }
          ],
          "scatter": [
           {
            "fillpattern": {
             "fillmode": "overlay",
             "size": 10,
             "solidity": 0.2
            },
            "type": "scatter"
           }
          ],
          "scatter3d": [
           {
            "line": {
             "colorbar": {
              "outlinewidth": 0,
              "ticks": ""
             }
            },
            "marker": {
             "colorbar": {
              "outlinewidth": 0,
              "ticks": ""
             }
            },
            "type": "scatter3d"
           }
          ],
          "scattercarpet": [
           {
            "marker": {
             "colorbar": {
              "outlinewidth": 0,
              "ticks": ""
             }
            },
            "type": "scattercarpet"
           }
          ],
          "scattergeo": [
           {
            "marker": {
             "colorbar": {
              "outlinewidth": 0,
              "ticks": ""
             }
            },
            "type": "scattergeo"
           }
          ],
          "scattergl": [
           {
            "marker": {
             "colorbar": {
              "outlinewidth": 0,
              "ticks": ""
             }
            },
            "type": "scattergl"
           }
          ],
          "scattermapbox": [
           {
            "marker": {
             "colorbar": {
              "outlinewidth": 0,
              "ticks": ""
             }
            },
            "type": "scattermapbox"
           }
          ],
          "scatterpolar": [
           {
            "marker": {
             "colorbar": {
              "outlinewidth": 0,
              "ticks": ""
             }
            },
            "type": "scatterpolar"
           }
          ],
          "scatterpolargl": [
           {
            "marker": {
             "colorbar": {
              "outlinewidth": 0,
              "ticks": ""
             }
            },
            "type": "scatterpolargl"
           }
          ],
          "scatterternary": [
           {
            "marker": {
             "colorbar": {
              "outlinewidth": 0,
              "ticks": ""
             }
            },
            "type": "scatterternary"
           }
          ],
          "surface": [
           {
            "colorbar": {
             "outlinewidth": 0,
             "ticks": ""
            },
            "colorscale": [
             [
              0,
              "#0d0887"
             ],
             [
              0.1111111111111111,
              "#46039f"
             ],
             [
              0.2222222222222222,
              "#7201a8"
             ],
             [
              0.3333333333333333,
              "#9c179e"
             ],
             [
              0.4444444444444444,
              "#bd3786"
             ],
             [
              0.5555555555555556,
              "#d8576b"
             ],
             [
              0.6666666666666666,
              "#ed7953"
             ],
             [
              0.7777777777777778,
              "#fb9f3a"
             ],
             [
              0.8888888888888888,
              "#fdca26"
             ],
             [
              1,
              "#f0f921"
             ]
            ],
            "type": "surface"
           }
          ],
          "table": [
           {
            "cells": {
             "fill": {
              "color": "#EBF0F8"
             },
             "line": {
              "color": "white"
             }
            },
            "header": {
             "fill": {
              "color": "#C8D4E3"
             },
             "line": {
              "color": "white"
             }
            },
            "type": "table"
           }
          ]
         },
         "layout": {
          "annotationdefaults": {
           "arrowcolor": "#2a3f5f",
           "arrowhead": 0,
           "arrowwidth": 1
          },
          "autotypenumbers": "strict",
          "coloraxis": {
           "colorbar": {
            "outlinewidth": 0,
            "ticks": ""
           }
          },
          "colorscale": {
           "diverging": [
            [
             0,
             "#8e0152"
            ],
            [
             0.1,
             "#c51b7d"
            ],
            [
             0.2,
             "#de77ae"
            ],
            [
             0.3,
             "#f1b6da"
            ],
            [
             0.4,
             "#fde0ef"
            ],
            [
             0.5,
             "#f7f7f7"
            ],
            [
             0.6,
             "#e6f5d0"
            ],
            [
             0.7,
             "#b8e186"
            ],
            [
             0.8,
             "#7fbc41"
            ],
            [
             0.9,
             "#4d9221"
            ],
            [
             1,
             "#276419"
            ]
           ],
           "sequential": [
            [
             0,
             "#0d0887"
            ],
            [
             0.1111111111111111,
             "#46039f"
            ],
            [
             0.2222222222222222,
             "#7201a8"
            ],
            [
             0.3333333333333333,
             "#9c179e"
            ],
            [
             0.4444444444444444,
             "#bd3786"
            ],
            [
             0.5555555555555556,
             "#d8576b"
            ],
            [
             0.6666666666666666,
             "#ed7953"
            ],
            [
             0.7777777777777778,
             "#fb9f3a"
            ],
            [
             0.8888888888888888,
             "#fdca26"
            ],
            [
             1,
             "#f0f921"
            ]
           ],
           "sequentialminus": [
            [
             0,
             "#0d0887"
            ],
            [
             0.1111111111111111,
             "#46039f"
            ],
            [
             0.2222222222222222,
             "#7201a8"
            ],
            [
             0.3333333333333333,
             "#9c179e"
            ],
            [
             0.4444444444444444,
             "#bd3786"
            ],
            [
             0.5555555555555556,
             "#d8576b"
            ],
            [
             0.6666666666666666,
             "#ed7953"
            ],
            [
             0.7777777777777778,
             "#fb9f3a"
            ],
            [
             0.8888888888888888,
             "#fdca26"
            ],
            [
             1,
             "#f0f921"
            ]
           ]
          },
          "colorway": [
           "#636efa",
           "#EF553B",
           "#00cc96",
           "#ab63fa",
           "#FFA15A",
           "#19d3f3",
           "#FF6692",
           "#B6E880",
           "#FF97FF",
           "#FECB52"
          ],
          "font": {
           "color": "#2a3f5f"
          },
          "geo": {
           "bgcolor": "white",
           "lakecolor": "white",
           "landcolor": "#E5ECF6",
           "showlakes": true,
           "showland": true,
           "subunitcolor": "white"
          },
          "hoverlabel": {
           "align": "left"
          },
          "hovermode": "closest",
          "mapbox": {
           "style": "light"
          },
          "paper_bgcolor": "white",
          "plot_bgcolor": "#E5ECF6",
          "polar": {
           "angularaxis": {
            "gridcolor": "white",
            "linecolor": "white",
            "ticks": ""
           },
           "bgcolor": "#E5ECF6",
           "radialaxis": {
            "gridcolor": "white",
            "linecolor": "white",
            "ticks": ""
           }
          },
          "scene": {
           "xaxis": {
            "backgroundcolor": "#E5ECF6",
            "gridcolor": "white",
            "gridwidth": 2,
            "linecolor": "white",
            "showbackground": true,
            "ticks": "",
            "zerolinecolor": "white"
           },
           "yaxis": {
            "backgroundcolor": "#E5ECF6",
            "gridcolor": "white",
            "gridwidth": 2,
            "linecolor": "white",
            "showbackground": true,
            "ticks": "",
            "zerolinecolor": "white"
           },
           "zaxis": {
            "backgroundcolor": "#E5ECF6",
            "gridcolor": "white",
            "gridwidth": 2,
            "linecolor": "white",
            "showbackground": true,
            "ticks": "",
            "zerolinecolor": "white"
           }
          },
          "shapedefaults": {
           "line": {
            "color": "#2a3f5f"
           }
          },
          "ternary": {
           "aaxis": {
            "gridcolor": "white",
            "linecolor": "white",
            "ticks": ""
           },
           "baxis": {
            "gridcolor": "white",
            "linecolor": "white",
            "ticks": ""
           },
           "bgcolor": "#E5ECF6",
           "caxis": {
            "gridcolor": "white",
            "linecolor": "white",
            "ticks": ""
           }
          },
          "title": {
           "x": 0.05
          },
          "xaxis": {
           "automargin": true,
           "gridcolor": "white",
           "linecolor": "white",
           "ticks": "",
           "title": {
            "standoff": 15
           },
           "zerolinecolor": "white",
           "zerolinewidth": 2
          },
          "yaxis": {
           "automargin": true,
           "gridcolor": "white",
           "linecolor": "white",
           "ticks": "",
           "title": {
            "standoff": 15
           },
           "zerolinecolor": "white",
           "zerolinewidth": 2
          }
         }
        },
        "xaxis": {
         "anchor": "y",
         "domain": [
          0,
          0.2888888888888889
         ]
        },
        "xaxis2": {
         "anchor": "y2",
         "domain": [
          0.35555555555555557,
          0.6444444444444445
         ]
        },
        "xaxis3": {
         "anchor": "y3",
         "domain": [
          0.7111111111111111,
          1
         ]
        },
        "yaxis": {
         "anchor": "x",
         "domain": [
          0,
          1
         ]
        },
        "yaxis2": {
         "anchor": "x2",
         "domain": [
          0,
          1
         ]
        },
        "yaxis3": {
         "anchor": "x3",
         "domain": [
          0,
          1
         ]
        }
       }
      }
     },
     "metadata": {},
     "output_type": "display_data"
    }
   ],
   "source": [
    "import plotly.graph_objects as px\n",
    "from plotly.subplots import make_subplots\n",
    "\n",
    "#fig = make_subplots(rows=2, cols=3,specs=[[{\"type\": \"box\"}, {\"type\": \"box\"}, {\"type\": \"box\"}], [{\"type\": \"box\"}, {\"type\": \"box\"}, {\"type\": \"box\"}]])\n",
    "\n",
    "fig = make_subplots(rows=1,cols=3)\n",
    "\n",
    "accuracy = []\n",
    "logloss = []\n",
    "auc = []\n",
    "\n",
    "for i in range (0,len(models)):\n",
    "    accuracy.append(np.mean(results_exp1[i]['Accuracy']))\n",
    "    logloss.append(np.mean(results_exp1[i]['Log Loss']))\n",
    "    auc.append(np.mean(results_exp1[i]['AUC']))\n",
    "\n",
    "\n",
    "\n",
    "\n",
    "fig.add_box(y=accuracy, x=models, name='Accuracy',\n",
    "              row=1, col=1)\n",
    "fig.add_box(y=logloss, x=models, name='Log Loss',\n",
    "              row=1, col=2)\n",
    "fig.add_box(y=auc, x=models, name='AUC',\n",
    "              row=1, col=3)\n",
    "\n",
    "fig.show()\n"
   ]
  },
  {
   "cell_type": "code",
   "execution_count": null,
   "metadata": {},
   "outputs": [],
   "source": []
  }
 ],
 "metadata": {
  "kernelspec": {
   "display_name": "tf",
   "language": "python",
   "name": "python3"
  },
  "language_info": {
   "codemirror_mode": {
    "name": "ipython",
    "version": 3
   },
   "file_extension": ".py",
   "mimetype": "text/x-python",
   "name": "python",
   "nbconvert_exporter": "python",
   "pygments_lexer": "ipython3",
   "version": "3.11.5"
  }
 },
 "nbformat": 4,
 "nbformat_minor": 2
}
