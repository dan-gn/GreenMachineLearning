{
 "cells": [
  {
   "cell_type": "code",
   "execution_count": 1,
   "metadata": {},
   "outputs": [],
   "source": [
    "from experiment import Experiment\n",
    "from ucimlrepo import fetch_ucirepo "
   ]
  },
  {
   "cell_type": "code",
   "execution_count": 2,
   "metadata": {},
   "outputs": [],
   "source": [
    "import numpy as np\n",
    "np.random.seed(0)"
   ]
  },
  {
   "cell_type": "code",
   "execution_count": 3,
   "metadata": {},
   "outputs": [],
   "source": [
    "# fetch dataset \n",
    "aids_clinical_trials_group_study_175 = fetch_ucirepo(id=890) \n",
    "  \n",
    "# data (as pandas dataframes) \n",
    "X = aids_clinical_trials_group_study_175.data.features.to_numpy() \n",
    "y = aids_clinical_trials_group_study_175.data.targets.to_numpy()"
   ]
  },
  {
   "cell_type": "code",
   "execution_count": 4,
   "metadata": {},
   "outputs": [
    {
     "ename": "NameError",
     "evalue": "name 'ravel' is not defined",
     "output_type": "error",
     "traceback": [
      "\u001b[1;31m---------------------------------------------------------------------------\u001b[0m",
      "\u001b[1;31mNameError\u001b[0m                                 Traceback (most recent call last)",
      "\u001b[1;32mc:\\Users\\23252359\\Documents\\PhD\\Group Project\\Code\\GreenMachineLearning\\library\\experiments_v2.ipynb Cell 4\u001b[0m line \u001b[0;36m3\n\u001b[0;32m      <a href='vscode-notebook-cell:/c%3A/Users/23252359/Documents/PhD/Group%20Project/Code/GreenMachineLearning/library/experiments_v2.ipynb#W4sZmlsZQ%3D%3D?line=0'>1</a>\u001b[0m models \u001b[39m=\u001b[39m [\u001b[39m'\u001b[39m\u001b[39mLogisticRegression\u001b[39m\u001b[39m'\u001b[39m, \u001b[39m'\u001b[39m\u001b[39mSVC\u001b[39m\u001b[39m'\u001b[39m, \u001b[39m'\u001b[39m\u001b[39mRandomForestClassifier\u001b[39m\u001b[39m'\u001b[39m, \u001b[39m'\u001b[39m\u001b[39mGradientBoostingClassifier\u001b[39m\u001b[39m'\u001b[39m,\u001b[39m'\u001b[39m\u001b[39mDeepNeuralNetwork\u001b[39m\u001b[39m'\u001b[39m]\n\u001b[1;32m----> <a href='vscode-notebook-cell:/c%3A/Users/23252359/Documents/PhD/Group%20Project/Code/GreenMachineLearning/library/experiments_v2.ipynb#W4sZmlsZQ%3D%3D?line=2'>3</a>\u001b[0m exp \u001b[39m=\u001b[39m Experiment(models[\u001b[39m0\u001b[39m], X, ravel(y), subsampling\u001b[39m=\u001b[39m\u001b[39mFalse\u001b[39;00m, feature_reduction\u001b[39m=\u001b[39m\u001b[39mFalse\u001b[39;00m)\n\u001b[0;32m      <a href='vscode-notebook-cell:/c%3A/Users/23252359/Documents/PhD/Group%20Project/Code/GreenMachineLearning/library/experiments_v2.ipynb#W4sZmlsZQ%3D%3D?line=4'>5</a>\u001b[0m results \u001b[39m=\u001b[39m exp\u001b[39m.\u001b[39mrun()\n\u001b[0;32m      <a href='vscode-notebook-cell:/c%3A/Users/23252359/Documents/PhD/Group%20Project/Code/GreenMachineLearning/library/experiments_v2.ipynb#W4sZmlsZQ%3D%3D?line=6'>7</a>\u001b[0m np\u001b[39m.\u001b[39mmean(exp\u001b[39m.\u001b[39mget_mesaure(\u001b[39m'\u001b[39m\u001b[39maccuracy\u001b[39m\u001b[39m'\u001b[39m))\n",
      "\u001b[1;31mNameError\u001b[0m: name 'ravel' is not defined"
     ]
    }
   ],
   "source": [
    "models = ['LogisticRegression', 'SVC', 'RandomForestClassifier', 'GradientBoostingClassifier','DeepNeuralNetwork']\n",
    "\n",
    "exp = Experiment(models[0], X, y, subsampling=False, feature_reduction=False)\n",
    "\n",
    "results = exp.run()\n",
    "\n",
    "np.mean(exp.get_mesaure('accuracy'))"
   ]
  }
 ],
 "metadata": {
  "kernelspec": {
   "display_name": "tf",
   "language": "python",
   "name": "python3"
  },
  "language_info": {
   "codemirror_mode": {
    "name": "ipython",
    "version": 3
   },
   "file_extension": ".py",
   "mimetype": "text/x-python",
   "name": "python",
   "nbconvert_exporter": "python",
   "pygments_lexer": "ipython3",
   "version": "3.11.5"
  }
 },
 "nbformat": 4,
 "nbformat_minor": 2
}
