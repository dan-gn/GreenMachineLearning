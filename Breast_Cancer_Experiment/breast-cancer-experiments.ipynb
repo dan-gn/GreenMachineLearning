{
 "cells": [
  {
   "cell_type": "code",
   "execution_count": null,
   "metadata": {},
   "outputs": [],
   "source": [
    "# Machine Learning models\n",
    "from sklearn.linear_model import LogisticRegression\n",
    "from sklearn.svm import SVC\n",
    "from sklearn.ensemble import RandomForestClassifier, GradientBoostingClassifier\n",
    "from sklearn.preprocessing import MinMaxScaler\n",
    "\n",
    "# Experiment library\n",
    "from experiment import Experiment\n",
    "\n",
    "# Pandas library\n",
    "import pandas as pd"
   ]
  },
  {
   "cell_type": "code",
   "execution_count": null,
   "metadata": {},
   "outputs": [],
   "source": [
    "# Testing dataset\n",
    "\n",
    "df_cancer_mama = pd.read_csv(\"breast-cancer.csv\")\n",
    "\n",
    "df_cancer_mama = df_cancer_mama[[c for c in df_cancer_mama.columns if (('_se' not in c) and ('_worst' not in c))]]\n",
    "df_cancer_mama.drop('id', axis=1, inplace=True)\n",
    "\n",
    "df_cancer_mama['diagnosis'] = df_cancer_mama['diagnosis'].map({'M': 1, 'B': 0})\n",
    "\n",
    "\n",
    "X = df_cancer_mama.drop('diagnosis', axis=1)\n",
    "\n",
    "y = df_cancer_mama['diagnosis']\n",
    "\n",
    "scaler = MinMaxScaler()\n",
    "X = scaler.fit_transform(X)"
   ]
  },
  {
   "cell_type": "code",
   "execution_count": null,
   "metadata": {},
   "outputs": [],
   "source": [
    "model = RandomForestClassifier(max_depth=2, random_state=0)\n",
    "\n",
    "exp = Experiment(model, X, y)\n",
    "\n",
    "results = exp.run()\n",
    "\n",
    "estimator = RandomForestClassifier(max_depth=2, random_state=0)\n",
    "estimator.fit(X, y)"
   ]
  },
  {
   "cell_type": "code",
   "execution_count": null,
   "metadata": {},
   "outputs": [],
   "source": [
    "exp.get_mesaure('model_size')"
   ]
  }
 ],
 "metadata": {
  "language_info": {
   "name": "python"
  },
  "orig_nbformat": 4
 },
 "nbformat": 4,
 "nbformat_minor": 2
}
