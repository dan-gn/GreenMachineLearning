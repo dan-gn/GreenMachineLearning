{
  "cells": [
    {
      "cell_type": "code",
      "execution_count": 1,
      "metadata": {
        "id": "MLRZfAfVRd2w"
      },
      "outputs": [],
      "source": [
        "# Machine Learning models\n",
        "from sklearn.linear_model import LogisticRegression\n",
        "from sklearn.svm import SVC\n",
        "from sklearn.ensemble import RandomForestClassifier, GradientBoostingClassifier\n",
        "from sklearn.preprocessing import MinMaxScaler\n",
        "\n",
        "# Experiment library\n",
        "from experiment import Experiment\n",
        "\n",
        "# Pandas library\n",
        "import pandas as pd"
      ]
    },
    {
      "cell_type": "code",
      "execution_count": 5,
      "metadata": {
        "id": "uJXyvmm4nDcY"
      },
      "outputs": [],
      "source": [
        "# Testing dataset\n",
        "\n",
        "df_pumpkin = pd.read_excel(\"Pumpkin_Seeds_Dataset.xlsx\")\n",
        "\n",
        "numcols = list(df_pumpkin.columns[:12])\n",
        "\n",
        "X = df_pumpkin[numcols]\n",
        "y = df_pumpkin[\"Class\"]\n",
        "\n",
        "scaler = MinMaxScaler()\n",
        "X = scaler.fit_transform(X)"
      ]
    },
    {
      "cell_type": "code",
      "execution_count": null,
      "metadata": {
        "colab": {
          "base_uri": "https://localhost:8080/",
          "height": 789
        },
        "id": "bx05J6PWRd2x",
        "outputId": "60e4d58f-df67-45c9-c984-53f5805efe47"
      },
      "outputs": [],
      "source": [
        "model = RandomForestClassifier(max_depth=2, random_state=0)\n",
        "\n",
        "exp = Experiment(model, X, y)\n",
        "\n",
        "results = exp.run()\n",
        "\n",
        "estimator = RandomForestClassifier(max_depth=2, random_state=0)\n",
        "estimator.fit(X, y)"
      ]
    },
    {
      "cell_type": "code",
      "execution_count": null,
      "metadata": {
        "colab": {
          "base_uri": "https://localhost:8080/"
        },
        "id": "WVkBYhDURd2x",
        "outputId": "0d2f9567-7562-44ca-d9c4-2df9cdc17c31"
      },
      "outputs": [],
      "source": [
        "exp.get_mesaure('model_size')"
      ]
    }
  ],
  "metadata": {
    "colab": {
      "provenance": []
    },
    "kernelspec": {
      "display_name": "base",
      "language": "python",
      "name": "python3"
    },
    "language_info": {
      "codemirror_mode": {
        "name": "ipython",
        "version": 3
      },
      "file_extension": ".py",
      "mimetype": "text/x-python",
      "name": "python",
      "nbconvert_exporter": "python",
      "pygments_lexer": "ipython3",
      "version": "3.11.4"
    },
    "orig_nbformat": 4
  },
  "nbformat": 4,
  "nbformat_minor": 0
}
